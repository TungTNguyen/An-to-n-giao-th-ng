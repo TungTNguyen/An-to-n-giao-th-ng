{
 "cells": [
  {
   "cell_type": "markdown",
   "metadata": {},
   "source": [
    "# Vòng lặp thứ 6:"
   ]
  },
  {
   "cell_type": "code",
   "execution_count": 2,
   "metadata": {
    "collapsed": true
   },
   "outputs": [],
   "source": [
    "import graphlab as gl\n",
    "\n",
    "idsia_net_6_iter = gl.load_model('IDSIA net - train in 1000 iter/')\n",
    "idsia_net_6_iter"
   ]
  },
  {
   "cell_type": "code",
   "execution_count": 5,
   "metadata": {
    "collapsed": false
   },
   "outputs": [
    {
     "data": {
      "text/plain": [
       "{'accuracy': 0.9509105086326599, 'confusion_matrix': Columns:\n",
       " \ttarget_label\tint\n",
       " \tpredicted_label\tint\n",
       " \tcount\tint\n",
       " \n",
       " Rows: 221\n",
       " \n",
       " Data:\n",
       " +--------------+-----------------+-------+\n",
       " | target_label | predicted_label | count |\n",
       " +--------------+-----------------+-------+\n",
       " |      0       |        0        |   59  |\n",
       " |      1       |        1        |  709  |\n",
       " |      2       |        1        |   20  |\n",
       " |      4       |        1        |   9   |\n",
       " |      5       |        1        |   4   |\n",
       " |      6       |        1        |   1   |\n",
       " |      7       |        1        |   1   |\n",
       " |      8       |        1        |   2   |\n",
       " |      10      |        1        |   1   |\n",
       " |      12      |        1        |   1   |\n",
       " +--------------+-----------------+-------+\n",
       " [221 rows x 3 columns]\n",
       " Note: Only the head of the SFrame is printed.\n",
       " You can use print_rows(num_rows=m, num_columns=n) to print more rows and columns.}"
      ]
     },
     "execution_count": 5,
     "metadata": {},
     "output_type": "execute_result"
    }
   ],
   "source": [
    "test_signs= gl.SFrame('test_sframe/')\n",
    "test_signs['image'] = gl.image_analysis.resize(test_signs['image'], 48, 48, channels= 3)\n",
    "#28 cho Lenet, 30 (mình chọn) cho mạng dato 1000 lượt, \n",
    "#48 cho idsia net, 3 channels \n",
    "# test_signs\n",
    "idsia_net_6_iter.evaluate(test_signs)"
   ]
  },
  {
   "cell_type": "markdown",
   "metadata": {
    "collapsed": true
   },
   "source": [
    "14 tieng"
   ]
  },
  {
   "cell_type": "markdown",
   "metadata": {},
   "source": [
    "# Vòng lặp thứ 7:"
   ]
  },
  {
   "cell_type": "code",
   "execution_count": 6,
   "metadata": {
    "collapsed": false
   },
   "outputs": [
    {
     "data": {
      "text/plain": [
       "Class               : NeuralNetClassifier\n",
       "\n",
       "Schema\n",
       "------\n",
       "Examples            : 37211\n",
       "Features            : 1\n",
       "Target column       : label\n",
       "\n",
       "Training Summary\n",
       "----------------\n",
       "Training accuracy   : 0.9729\n",
       "Validation accuracy : 0.9905\n",
       "Training time (sec) : 59510.6929"
      ]
     },
     "execution_count": 6,
     "metadata": {},
     "output_type": "execute_result"
    }
   ],
   "source": [
    "idsia_net_7_iters = gl.load_model('IDSIA net - train in 1000 iter/')\n",
    "idsia_net_7_iters"
   ]
  },
  {
   "cell_type": "code",
   "execution_count": 7,
   "metadata": {
    "collapsed": false,
    "scrolled": false
   },
   "outputs": [
    {
     "data": {
      "text/plain": [
       "{'accuracy': 0.947822630405426, 'confusion_matrix': Columns:\n",
       " \ttarget_label\tint\n",
       " \tpredicted_label\tint\n",
       " \tcount\tint\n",
       " \n",
       " Rows: 222\n",
       " \n",
       " Data:\n",
       " +--------------+-----------------+-------+\n",
       " | target_label | predicted_label | count |\n",
       " +--------------+-----------------+-------+\n",
       " |      0       |        0        |   52  |\n",
       " |      0       |        1        |   3   |\n",
       " |      1       |        1        |  709  |\n",
       " |      2       |        1        |   10  |\n",
       " |      4       |        1        |   13  |\n",
       " |      5       |        1        |   8   |\n",
       " |      8       |        1        |   4   |\n",
       " |      10      |        1        |   1   |\n",
       " |      12      |        1        |   2   |\n",
       " |      18      |        1        |   5   |\n",
       " +--------------+-----------------+-------+\n",
       " [222 rows x 3 columns]\n",
       " Note: Only the head of the SFrame is printed.\n",
       " You can use print_rows(num_rows=m, num_columns=n) to print more rows and columns.}"
      ]
     },
     "execution_count": 7,
     "metadata": {},
     "output_type": "execute_result"
    }
   ],
   "source": [
    "idsia_net_7_iters.evaluate(test_signs)"
   ]
  },
  {
   "cell_type": "markdown",
   "metadata": {},
   "source": [
    "16 tieng ruoi"
   ]
  },
  {
   "cell_type": "markdown",
   "metadata": {},
   "source": [
    "# Vòng lặp thứ 8:"
   ]
  },
  {
   "cell_type": "code",
   "execution_count": 8,
   "metadata": {
    "collapsed": false
   },
   "outputs": [
    {
     "data": {
      "text/plain": [
       "Class               : NeuralNetClassifier\n",
       "\n",
       "Schema\n",
       "------\n",
       "Examples            : 37211\n",
       "Features            : 1\n",
       "Target column       : label\n",
       "\n",
       "Training Summary\n",
       "----------------\n",
       "Training accuracy   : 0.9749\n",
       "Validation accuracy : 0.994\n",
       "Training time (sec) : 68500.7196"
      ]
     },
     "execution_count": 8,
     "metadata": {},
     "output_type": "execute_result"
    }
   ],
   "source": [
    "idsia_net_8_iters = gl.load_model('IDSIA net - train in 1000 iter/')\n",
    "idsia_net_8_iters"
   ]
  },
  {
   "cell_type": "code",
   "execution_count": 9,
   "metadata": {
    "collapsed": false,
    "scrolled": false
   },
   "outputs": [
    {
     "data": {
      "text/plain": [
       "{'accuracy': 0.9528107643127441, 'confusion_matrix': Columns:\n",
       " \ttarget_label\tint\n",
       " \tpredicted_label\tint\n",
       " \tcount\tint\n",
       " \n",
       " Rows: 218\n",
       " \n",
       " Data:\n",
       " +--------------+-----------------+-------+\n",
       " | target_label | predicted_label | count |\n",
       " +--------------+-----------------+-------+\n",
       " |      0       |        0        |   58  |\n",
       " |      4       |        0        |   1   |\n",
       " |      1       |        1        |  709  |\n",
       " |      2       |        1        |   7   |\n",
       " |      4       |        1        |   4   |\n",
       " |      5       |        1        |   12  |\n",
       " |      7       |        1        |   1   |\n",
       " |      8       |        1        |   2   |\n",
       " |      10      |        1        |   1   |\n",
       " |      18      |        1        |   3   |\n",
       " +--------------+-----------------+-------+\n",
       " [218 rows x 3 columns]\n",
       " Note: Only the head of the SFrame is printed.\n",
       " You can use print_rows(num_rows=m, num_columns=n) to print more rows and columns.}"
      ]
     },
     "execution_count": 9,
     "metadata": {},
     "output_type": "execute_result"
    }
   ],
   "source": [
    "idsia_net_8_iters.evaluate(test_signs)"
   ]
  },
  {
   "cell_type": "markdown",
   "metadata": {},
   "source": [
    "# Vòng lặp thứ 9:"
   ]
  },
  {
   "cell_type": "code",
   "execution_count": 10,
   "metadata": {
    "collapsed": false
   },
   "outputs": [
    {
     "data": {
      "text/plain": [
       "Class               : NeuralNetClassifier\n",
       "\n",
       "Schema\n",
       "------\n",
       "Examples            : 37211\n",
       "Features            : 1\n",
       "Target column       : label\n",
       "\n",
       "Training Summary\n",
       "----------------\n",
       "Training accuracy   : 0.979\n",
       "Validation accuracy : 0.9935\n",
       "Training time (sec) : 77603.5806"
      ]
     },
     "execution_count": 10,
     "metadata": {},
     "output_type": "execute_result"
    }
   ],
   "source": [
    "idsia_net_9_iters = gl.load_model('IDSIA net - train in 1000 iter/')\n",
    "idsia_net_9_iters"
   ]
  },
  {
   "cell_type": "code",
   "execution_count": 11,
   "metadata": {
    "collapsed": false,
    "scrolled": false
   },
   "outputs": [
    {
     "data": {
      "text/plain": [
       "{'accuracy': 0.9555819630622864, 'confusion_matrix': Columns:\n",
       " \ttarget_label\tint\n",
       " \tpredicted_label\tint\n",
       " \tcount\tint\n",
       " \n",
       " Rows: 212\n",
       " \n",
       " Data:\n",
       " +--------------+-----------------+-------+\n",
       " | target_label | predicted_label | count |\n",
       " +--------------+-----------------+-------+\n",
       " |      0       |        0        |   54  |\n",
       " |      1       |        1        |  710  |\n",
       " |      2       |        1        |   8   |\n",
       " |      4       |        1        |   3   |\n",
       " |      5       |        1        |   3   |\n",
       " |      7       |        1        |   1   |\n",
       " |      8       |        1        |   1   |\n",
       " |      10      |        1        |   1   |\n",
       " |      18      |        1        |   1   |\n",
       " |      30      |        1        |   1   |\n",
       " +--------------+-----------------+-------+\n",
       " [212 rows x 3 columns]\n",
       " Note: Only the head of the SFrame is printed.\n",
       " You can use print_rows(num_rows=m, num_columns=n) to print more rows and columns.}"
      ]
     },
     "execution_count": 11,
     "metadata": {},
     "output_type": "execute_result"
    }
   ],
   "source": [
    "idsia_net_9_iters.evaluate(test_signs)"
   ]
  },
  {
   "cell_type": "markdown",
   "metadata": {},
   "source": [
    "# Vòng lặp thứ 15:"
   ]
  },
  {
   "cell_type": "code",
   "execution_count": 12,
   "metadata": {
    "collapsed": false
   },
   "outputs": [
    {
     "data": {
      "text/plain": [
       "Class               : NeuralNetClassifier\n",
       "\n",
       "Schema\n",
       "------\n",
       "Examples            : 37211\n",
       "Features            : 1\n",
       "Target column       : label\n",
       "\n",
       "Training Summary\n",
       "----------------\n",
       "Training accuracy   : 0.9865\n",
       "Validation accuracy : 0.9945\n",
       "Training time (sec) : 151661.1272"
      ]
     },
     "execution_count": 12,
     "metadata": {},
     "output_type": "execute_result"
    }
   ],
   "source": [
    "idsia_net_15_iters = gl.load_model('IDSIA net - train in 1000 iter/')\n",
    "idsia_net_15_iters"
   ]
  },
  {
   "cell_type": "code",
   "execution_count": 13,
   "metadata": {
    "collapsed": false,
    "scrolled": false
   },
   "outputs": [
    {
     "data": {
      "text/plain": [
       "{'accuracy': 0.9619160890579224, 'confusion_matrix': Columns:\n",
       " \ttarget_label\tint\n",
       " \tpredicted_label\tint\n",
       " \tcount\tint\n",
       " \n",
       " Rows: 218\n",
       " \n",
       " Data:\n",
       " +--------------+-----------------+-------+\n",
       " | target_label | predicted_label | count |\n",
       " +--------------+-----------------+-------+\n",
       " |      0       |        0        |   59  |\n",
       " |      1       |        1        |  708  |\n",
       " |      2       |        1        |   5   |\n",
       " |      4       |        1        |   4   |\n",
       " |      5       |        1        |   4   |\n",
       " |      8       |        1        |   2   |\n",
       " |      10      |        1        |   1   |\n",
       " |      18      |        1        |   5   |\n",
       " |      27      |        1        |   3   |\n",
       " |      30      |        1        |   1   |\n",
       " +--------------+-----------------+-------+\n",
       " [218 rows x 3 columns]\n",
       " Note: Only the head of the SFrame is printed.\n",
       " You can use print_rows(num_rows=m, num_columns=n) to print more rows and columns.}"
      ]
     },
     "execution_count": 13,
     "metadata": {},
     "output_type": "execute_result"
    }
   ],
   "source": [
    "idsia_net_15_iters.evaluate(test_signs)"
   ]
  },
  {
   "cell_type": "markdown",
   "metadata": {},
   "source": [
    "# Vòng lặp thứ 16:"
   ]
  },
  {
   "cell_type": "code",
   "execution_count": 14,
   "metadata": {
    "collapsed": false
   },
   "outputs": [
    {
     "data": {
      "text/plain": [
       "Class               : NeuralNetClassifier\n",
       "\n",
       "Schema\n",
       "------\n",
       "Examples            : 37211\n",
       "Features            : 1\n",
       "Target column       : label\n",
       "\n",
       "Training Summary\n",
       "----------------\n",
       "Training accuracy   : 0.9874\n",
       "Validation accuracy : 0.996\n",
       "Training time (sec) : 163034.2488"
      ]
     },
     "execution_count": 14,
     "metadata": {},
     "output_type": "execute_result"
    }
   ],
   "source": [
    "idsia_net_16_iters = gl.load_model('IDSIA net - train in 1000 iter/')\n",
    "idsia_net_16_iters"
   ]
  },
  {
   "cell_type": "code",
   "execution_count": 15,
   "metadata": {
    "collapsed": false,
    "scrolled": false
   },
   "outputs": [
    {
     "data": {
      "text/plain": [
       "{'accuracy': 0.958748996257782, 'confusion_matrix': Columns:\n",
       " \ttarget_label\tint\n",
       " \tpredicted_label\tint\n",
       " \tcount\tint\n",
       " \n",
       " Rows: 213\n",
       " \n",
       " Data:\n",
       " +--------------+-----------------+-------+\n",
       " | target_label | predicted_label | count |\n",
       " +--------------+-----------------+-------+\n",
       " |      0       |        0        |   58  |\n",
       " |      1       |        1        |  713  |\n",
       " |      2       |        1        |   9   |\n",
       " |      4       |        1        |   12  |\n",
       " |      5       |        1        |   7   |\n",
       " |      6       |        1        |   1   |\n",
       " |      8       |        1        |   3   |\n",
       " |      10      |        1        |   1   |\n",
       " |      18      |        1        |   5   |\n",
       " |      27      |        1        |   3   |\n",
       " +--------------+-----------------+-------+\n",
       " [213 rows x 3 columns]\n",
       " Note: Only the head of the SFrame is printed.\n",
       " You can use print_rows(num_rows=m, num_columns=n) to print more rows and columns.}"
      ]
     },
     "execution_count": 15,
     "metadata": {},
     "output_type": "execute_result"
    }
   ],
   "source": [
    "idsia_net_16_iters.evaluate(test_signs)"
   ]
  },
  {
   "cell_type": "markdown",
   "metadata": {},
   "source": [
    "# Vòng lặp thứ 17:"
   ]
  },
  {
   "cell_type": "code",
   "execution_count": 16,
   "metadata": {
    "collapsed": false
   },
   "outputs": [
    {
     "data": {
      "text/plain": [
       "Class               : NeuralNetClassifier\n",
       "\n",
       "Schema\n",
       "------\n",
       "Examples            : 37211\n",
       "Features            : 1\n",
       "Target column       : label\n",
       "\n",
       "Training Summary\n",
       "----------------\n",
       "Training accuracy   : 0.9889\n",
       "Validation accuracy : 0.995\n",
       "Training time (sec) : 172999.4944"
      ]
     },
     "execution_count": 16,
     "metadata": {},
     "output_type": "execute_result"
    }
   ],
   "source": [
    "idsia_net_17_iters = gl.load_model('IDSIA net - train in 1000 iter/')\n",
    "idsia_net_17_iters"
   ]
  },
  {
   "cell_type": "code",
   "execution_count": 17,
   "metadata": {
    "collapsed": false,
    "scrolled": false
   },
   "outputs": [
    {
     "data": {
      "text/plain": [
       "{'accuracy': 0.9559778571128845, 'confusion_matrix': Columns:\n",
       " \ttarget_label\tint\n",
       " \tpredicted_label\tint\n",
       " \tcount\tint\n",
       " \n",
       " Rows: 199\n",
       " \n",
       " Data:\n",
       " +--------------+-----------------+-------+\n",
       " | target_label | predicted_label | count |\n",
       " +--------------+-----------------+-------+\n",
       " |      0       |        0        |   59  |\n",
       " |      1       |        1        |  707  |\n",
       " |      2       |        1        |   6   |\n",
       " |      4       |        1        |   3   |\n",
       " |      5       |        1        |   2   |\n",
       " |      8       |        1        |   2   |\n",
       " |      10      |        1        |   1   |\n",
       " |      18      |        1        |   4   |\n",
       " |      30      |        1        |   1   |\n",
       " |      1       |        2        |   6   |\n",
       " +--------------+-----------------+-------+\n",
       " [199 rows x 3 columns]\n",
       " Note: Only the head of the SFrame is printed.\n",
       " You can use print_rows(num_rows=m, num_columns=n) to print more rows and columns.}"
      ]
     },
     "execution_count": 17,
     "metadata": {},
     "output_type": "execute_result"
    }
   ],
   "source": [
    "idsia_net_17_iters.evaluate(test_signs)"
   ]
  },
  {
   "cell_type": "markdown",
   "metadata": {},
   "source": [
    "# Vòng lặp thứ 38:"
   ]
  },
  {
   "cell_type": "code",
   "execution_count": 18,
   "metadata": {
    "collapsed": false
   },
   "outputs": [
    {
     "data": {
      "text/plain": [
       "Class               : NeuralNetClassifier\n",
       "\n",
       "Schema\n",
       "------\n",
       "Examples            : 37211\n",
       "Features            : 1\n",
       "Target column       : label\n",
       "\n",
       "Training Summary\n",
       "----------------\n",
       "Training accuracy   : 0.9956\n",
       "Validation accuracy : 0.996\n",
       "Training time (sec) : 397913.023"
      ]
     },
     "execution_count": 18,
     "metadata": {},
     "output_type": "execute_result"
    }
   ],
   "source": [
    "idsia_net_38_iters = gl.load_model('IDSIA net - train in 1000 iter/')\n",
    "idsia_net_38_iters"
   ]
  },
  {
   "cell_type": "code",
   "execution_count": 19,
   "metadata": {
    "collapsed": false,
    "scrolled": false
   },
   "outputs": [
    {
     "data": {
      "text/plain": [
       "{'accuracy': 0.9628661870956421, 'confusion_matrix': Columns:\n",
       " \ttarget_label\tint\n",
       " \tpredicted_label\tint\n",
       " \tcount\tint\n",
       " \n",
       " Rows: 197\n",
       " \n",
       " Data:\n",
       " +--------------+-----------------+-------+\n",
       " | target_label | predicted_label | count |\n",
       " +--------------+-----------------+-------+\n",
       " |      0       |        0        |   60  |\n",
       " |      1       |        1        |  712  |\n",
       " |      2       |        1        |   3   |\n",
       " |      4       |        1        |   8   |\n",
       " |      5       |        1        |   2   |\n",
       " |      8       |        1        |   2   |\n",
       " |      18      |        1        |   4   |\n",
       " |      27      |        1        |   2   |\n",
       " |      30      |        1        |   1   |\n",
       " |      38      |        1        |   2   |\n",
       " +--------------+-----------------+-------+\n",
       " [197 rows x 3 columns]\n",
       " Note: Only the head of the SFrame is printed.\n",
       " You can use print_rows(num_rows=m, num_columns=n) to print more rows and columns.}"
      ]
     },
     "execution_count": 19,
     "metadata": {},
     "output_type": "execute_result"
    }
   ],
   "source": [
    "idsia_net_38_iters.evaluate(test_signs)"
   ]
  },
  {
   "cell_type": "markdown",
   "metadata": {},
   "source": [
    "# Vòng lặp thứ 39:"
   ]
  },
  {
   "cell_type": "code",
   "execution_count": 20,
   "metadata": {
    "collapsed": false
   },
   "outputs": [
    {
     "data": {
      "text/plain": [
       "Class               : NeuralNetClassifier\n",
       "\n",
       "Schema\n",
       "------\n",
       "Examples            : 37211\n",
       "Features            : 1\n",
       "Target column       : label\n",
       "\n",
       "Training Summary\n",
       "----------------\n",
       "Training accuracy   : 0.9957\n",
       "Validation accuracy : 0.9975\n",
       "Training time (sec) : 409783.4283"
      ]
     },
     "execution_count": 20,
     "metadata": {},
     "output_type": "execute_result"
    }
   ],
   "source": [
    "idsia_net_39_iters = gl.load_model('IDSIA net - train in 1000 iter/')\n",
    "idsia_net_39_iters"
   ]
  },
  {
   "cell_type": "code",
   "execution_count": 21,
   "metadata": {
    "collapsed": false,
    "scrolled": false
   },
   "outputs": [
    {
     "data": {
      "text/plain": [
       "{'accuracy': 0.9642913937568665, 'confusion_matrix': Columns:\n",
       " \ttarget_label\tint\n",
       " \tpredicted_label\tint\n",
       " \tcount\tint\n",
       " \n",
       " Rows: 197\n",
       " \n",
       " Data:\n",
       " +--------------+-----------------+-------+\n",
       " | target_label | predicted_label | count |\n",
       " +--------------+-----------------+-------+\n",
       " |      0       |        0        |   59  |\n",
       " |      1       |        1        |  708  |\n",
       " |      2       |        1        |   2   |\n",
       " |      4       |        1        |   3   |\n",
       " |      5       |        1        |   1   |\n",
       " |      6       |        1        |   1   |\n",
       " |      10      |        1        |   1   |\n",
       " |      18      |        1        |   4   |\n",
       " |      30      |        1        |   1   |\n",
       " |      38      |        1        |   1   |\n",
       " +--------------+-----------------+-------+\n",
       " [197 rows x 3 columns]\n",
       " Note: Only the head of the SFrame is printed.\n",
       " You can use print_rows(num_rows=m, num_columns=n) to print more rows and columns.}"
      ]
     },
     "execution_count": 21,
     "metadata": {},
     "output_type": "execute_result"
    }
   ],
   "source": [
    "idsia_net_39_iters.evaluate(test_signs)"
   ]
  },
  {
   "cell_type": "markdown",
   "metadata": {},
   "source": [
    "# Vòng lặp thứ 40:"
   ]
  },
  {
   "cell_type": "code",
   "execution_count": 22,
   "metadata": {
    "collapsed": false
   },
   "outputs": [
    {
     "data": {
      "text/plain": [
       "Class               : NeuralNetClassifier\n",
       "\n",
       "Schema\n",
       "------\n",
       "Examples            : 37211\n",
       "Features            : 1\n",
       "Target column       : label\n",
       "\n",
       "Training Summary\n",
       "----------------\n",
       "Training accuracy   : 0.9957\n",
       "Validation accuracy : 0.9975\n",
       "Training time (sec) : 421702.3846"
      ]
     },
     "execution_count": 22,
     "metadata": {},
     "output_type": "execute_result"
    }
   ],
   "source": [
    "idsia_net_40_iters = gl.load_model('IDSIA net - train in 1000 iter/')\n",
    "idsia_net_40_iters"
   ]
  },
  {
   "cell_type": "code",
   "execution_count": 23,
   "metadata": {
    "collapsed": false,
    "scrolled": false
   },
   "outputs": [
    {
     "data": {
      "text/plain": [
       "{'accuracy': 0.965954065322876, 'confusion_matrix': Columns:\n",
       " \ttarget_label\tint\n",
       " \tpredicted_label\tint\n",
       " \tcount\tint\n",
       " \n",
       " Rows: 191\n",
       " \n",
       " Data:\n",
       " +--------------+-----------------+-------+\n",
       " | target_label | predicted_label | count |\n",
       " +--------------+-----------------+-------+\n",
       " |      0       |        0        |   59  |\n",
       " |      1       |        1        |  712  |\n",
       " |      2       |        1        |   2   |\n",
       " |      5       |        1        |   1   |\n",
       " |      6       |        1        |   1   |\n",
       " |      8       |        1        |   2   |\n",
       " |      10      |        1        |   1   |\n",
       " |      18      |        1        |   2   |\n",
       " |      30      |        1        |   1   |\n",
       " |      38      |        1        |   1   |\n",
       " +--------------+-----------------+-------+\n",
       " [191 rows x 3 columns]\n",
       " Note: Only the head of the SFrame is printed.\n",
       " You can use print_rows(num_rows=m, num_columns=n) to print more rows and columns.}"
      ]
     },
     "execution_count": 23,
     "metadata": {},
     "output_type": "execute_result"
    }
   ],
   "source": [
    "idsia_net_40_iters.evaluate(test_signs)"
   ]
  },
  {
   "cell_type": "code",
   "execution_count": 24,
   "metadata": {
    "collapsed": true
   },
   "outputs": [],
   "source": [
    "idsia_2_convs_10_iters = gl.load_model('rep IDSIA by 2 conv graphlab net - train in 10 iters/')"
   ]
  },
  {
   "cell_type": "code",
   "execution_count": 25,
   "metadata": {
    "collapsed": false
   },
   "outputs": [
    {
     "data": {
      "text/plain": [
       "Class               : NeuralNetClassifier\n",
       "\n",
       "Schema\n",
       "------\n",
       "Examples            : 27427\n",
       "Features            : 1\n",
       "Target column       : label\n",
       "\n",
       "Training Summary\n",
       "----------------\n",
       "Training accuracy   : 0.9646\n",
       "Validation accuracy : 0.9772\n",
       "Training time (sec) : 77839.0039"
      ]
     },
     "execution_count": 25,
     "metadata": {},
     "output_type": "execute_result"
    }
   ],
   "source": [
    "idsia_2_convs_10_iters"
   ]
  },
  {
   "cell_type": "code",
   "execution_count": 26,
   "metadata": {
    "collapsed": false
   },
   "outputs": [
    {
     "data": {
      "text/plain": [
       "{'accuracy': 0.9296911954879761, 'confusion_matrix': Columns:\n",
       " \ttarget_label\tint\n",
       " \tpredicted_label\tint\n",
       " \tcount\tint\n",
       " \n",
       " Rows: 290\n",
       " \n",
       " Data:\n",
       " +--------------+-----------------+-------+\n",
       " | target_label | predicted_label | count |\n",
       " +--------------+-----------------+-------+\n",
       " |      0       |        0        |   48  |\n",
       " |      4       |        0        |   1   |\n",
       " |      8       |        0        |   1   |\n",
       " |      0       |        1        |   6   |\n",
       " |      1       |        1        |  706  |\n",
       " |      2       |        1        |   36  |\n",
       " |      3       |        1        |   1   |\n",
       " |      4       |        1        |   34  |\n",
       " |      5       |        1        |   6   |\n",
       " |      7       |        1        |   3   |\n",
       " +--------------+-----------------+-------+\n",
       " [290 rows x 3 columns]\n",
       " Note: Only the head of the SFrame is printed.\n",
       " You can use print_rows(num_rows=m, num_columns=n) to print more rows and columns.}"
      ]
     },
     "execution_count": 26,
     "metadata": {},
     "output_type": "execute_result"
    }
   ],
   "source": [
    "idsia_2_convs_10_iters.evaluate(test_signs)"
   ]
  },
  {
   "cell_type": "code",
   "execution_count": 27,
   "metadata": {
    "collapsed": true
   },
   "outputs": [],
   "source": [
    "idsia_1_conv_5_iters = gl.load_model('rep IDSIA by 1 conv graphlab net - train in 10 iters/')"
   ]
  },
  {
   "cell_type": "code",
   "execution_count": 31,
   "metadata": {
    "collapsed": false
   },
   "outputs": [
    {
     "data": {
      "text/plain": [
       "Class               : NeuralNetClassifier\n",
       "\n",
       "Schema\n",
       "------\n",
       "Examples            : 26559\n",
       "Features            : 1\n",
       "Target column       : label\n",
       "\n",
       "Training Summary\n",
       "----------------\n",
       "Training accuracy   : 0.1136\n",
       "Validation accuracy : 0.0054\n",
       "Training time (sec) : 7545.0405"
      ]
     },
     "execution_count": 31,
     "metadata": {},
     "output_type": "execute_result"
    }
   ],
   "source": [
    "idsia_1_conv_5_iters"
   ]
  },
  {
   "cell_type": "code",
   "execution_count": 28,
   "metadata": {
    "collapsed": false
   },
   "outputs": [
    {
     "data": {
      "text/plain": [
       "{'accuracy': 0.0047505940310657024, 'confusion_matrix': Columns:\n",
       " \ttarget_label\tint\n",
       " \tpredicted_label\tint\n",
       " \tcount\tint\n",
       " \n",
       " Rows: 43\n",
       " \n",
       " Data:\n",
       " +--------------+-----------------+-------+\n",
       " | target_label | predicted_label | count |\n",
       " +--------------+-----------------+-------+\n",
       " |      0       |        0        |   60  |\n",
       " |      1       |        0        |  720  |\n",
       " |      2       |        0        |  750  |\n",
       " |      3       |        0        |  450  |\n",
       " |      4       |        0        |  660  |\n",
       " |      5       |        0        |  630  |\n",
       " |      6       |        0        |  150  |\n",
       " |      7       |        0        |  450  |\n",
       " |      8       |        0        |  450  |\n",
       " |      9       |        0        |  480  |\n",
       " +--------------+-----------------+-------+\n",
       " [43 rows x 3 columns]\n",
       " Note: Only the head of the SFrame is printed.\n",
       " You can use print_rows(num_rows=m, num_columns=n) to print more rows and columns.}"
      ]
     },
     "execution_count": 28,
     "metadata": {},
     "output_type": "execute_result"
    }
   ],
   "source": [
    "idsia_1_conv_5_iters.evaluate(test_signs)"
   ]
  },
  {
   "cell_type": "markdown",
   "metadata": {},
   "source": [
    "# Vòng lặp thứ 44:"
   ]
  },
  {
   "cell_type": "code",
   "execution_count": 29,
   "metadata": {
    "collapsed": false
   },
   "outputs": [
    {
     "data": {
      "text/plain": [
       "Class               : NeuralNetClassifier\n",
       "\n",
       "Schema\n",
       "------\n",
       "Examples            : 37211\n",
       "Features            : 1\n",
       "Target column       : label\n",
       "\n",
       "Training Summary\n",
       "----------------\n",
       "Training accuracy   : 0.9963\n",
       "Validation accuracy : 0.997\n",
       "Training time (sec) : 482510.3562"
      ]
     },
     "execution_count": 29,
     "metadata": {},
     "output_type": "execute_result"
    }
   ],
   "source": [
    "idsia_net_44_iters = gl.load_model('IDSIA net - train in 1000 iter/')\n",
    "idsia_net_44_iters"
   ]
  },
  {
   "cell_type": "code",
   "execution_count": 30,
   "metadata": {
    "collapsed": false,
    "scrolled": false
   },
   "outputs": [
    {
     "data": {
      "text/plain": [
       "{'accuracy': 0.9649247527122498, 'confusion_matrix': Columns:\n",
       " \ttarget_label\tint\n",
       " \tpredicted_label\tint\n",
       " \tcount\tint\n",
       " \n",
       " Rows: 188\n",
       " \n",
       " Data:\n",
       " +--------------+-----------------+-------+\n",
       " | target_label | predicted_label | count |\n",
       " +--------------+-----------------+-------+\n",
       " |      0       |        0        |   56  |\n",
       " |      1       |        1        |  712  |\n",
       " |      2       |        1        |   2   |\n",
       " |      4       |        1        |   3   |\n",
       " |      5       |        1        |   2   |\n",
       " |      6       |        1        |   3   |\n",
       " |      8       |        1        |   2   |\n",
       " |      10      |        1        |   1   |\n",
       " |      18      |        1        |   2   |\n",
       " |      24      |        1        |   1   |\n",
       " +--------------+-----------------+-------+\n",
       " [188 rows x 3 columns]\n",
       " Note: Only the head of the SFrame is printed.\n",
       " You can use print_rows(num_rows=m, num_columns=n) to print more rows and columns.}"
      ]
     },
     "execution_count": 30,
     "metadata": {},
     "output_type": "execute_result"
    }
   ],
   "source": [
    "idsia_net_44_iters.evaluate(test_signs)"
   ]
  },
  {
   "cell_type": "markdown",
   "metadata": {},
   "source": [
    "# Vòng lặp thứ 45:"
   ]
  },
  {
   "cell_type": "code",
   "execution_count": 32,
   "metadata": {
    "collapsed": false
   },
   "outputs": [
    {
     "data": {
      "text/plain": [
       "Class               : NeuralNetClassifier\n",
       "\n",
       "Schema\n",
       "------\n",
       "Examples            : 37211\n",
       "Features            : 1\n",
       "Target column       : label\n",
       "\n",
       "Training Summary\n",
       "----------------\n",
       "Training accuracy   : 0.9964\n",
       "Validation accuracy : 0.998\n",
       "Training time (sec) : 497289.49"
      ]
     },
     "execution_count": 32,
     "metadata": {},
     "output_type": "execute_result"
    }
   ],
   "source": [
    "idsia_net_45_iters = gl.load_model('IDSIA net - train in 1000 iter/')\n",
    "idsia_net_45_iters"
   ]
  },
  {
   "cell_type": "code",
   "execution_count": 33,
   "metadata": {
    "collapsed": false,
    "scrolled": false
   },
   "outputs": [
    {
     "data": {
      "text/plain": [
       "{'accuracy': 0.962470293045044, 'confusion_matrix': Columns:\n",
       " \ttarget_label\tint\n",
       " \tpredicted_label\tint\n",
       " \tcount\tint\n",
       " \n",
       " Rows: 193\n",
       " \n",
       " Data:\n",
       " +--------------+-----------------+-------+\n",
       " | target_label | predicted_label | count |\n",
       " +--------------+-----------------+-------+\n",
       " |      0       |        0        |   60  |\n",
       " |      1       |        1        |  714  |\n",
       " |      2       |        1        |   4   |\n",
       " |      4       |        1        |   5   |\n",
       " |      5       |        1        |   1   |\n",
       " |      8       |        1        |   2   |\n",
       " |      10      |        1        |   1   |\n",
       " |      18      |        1        |   3   |\n",
       " |      24      |        1        |   1   |\n",
       " |      27      |        1        |   19  |\n",
       " +--------------+-----------------+-------+\n",
       " [193 rows x 3 columns]\n",
       " Note: Only the head of the SFrame is printed.\n",
       " You can use print_rows(num_rows=m, num_columns=n) to print more rows and columns.}"
      ]
     },
     "execution_count": 33,
     "metadata": {},
     "output_type": "execute_result"
    }
   ],
   "source": [
    "idsia_net_45_iters.evaluate(test_signs)"
   ]
  },
  {
   "cell_type": "markdown",
   "metadata": {},
   "source": [
    "# Vòng lặp thứ 46:"
   ]
  },
  {
   "cell_type": "code",
   "execution_count": 34,
   "metadata": {
    "collapsed": false
   },
   "outputs": [
    {
     "data": {
      "text/plain": [
       "Class               : NeuralNetClassifier\n",
       "\n",
       "Schema\n",
       "------\n",
       "Examples            : 37211\n",
       "Features            : 1\n",
       "Target column       : label\n",
       "\n",
       "Training Summary\n",
       "----------------\n",
       "Training accuracy   : 0.9966\n",
       "Validation accuracy : 0.9985\n",
       "Training time (sec) : 511899.4458"
      ]
     },
     "execution_count": 34,
     "metadata": {},
     "output_type": "execute_result"
    }
   ],
   "source": [
    "idsia_net_46_iters = gl.load_model('IDSIA net - train in 1000 iter/')\n",
    "idsia_net_46_iters"
   ]
  },
  {
   "cell_type": "code",
   "execution_count": 35,
   "metadata": {
    "collapsed": false,
    "scrolled": false
   },
   "outputs": [
    {
     "data": {
      "text/plain": [
       "{'accuracy': 0.9676167964935303, 'confusion_matrix': Columns:\n",
       " \ttarget_label\tint\n",
       " \tpredicted_label\tint\n",
       " \tcount\tint\n",
       " \n",
       " Rows: 180\n",
       " \n",
       " Data:\n",
       " +--------------+-----------------+-------+\n",
       " | target_label | predicted_label | count |\n",
       " +--------------+-----------------+-------+\n",
       " |      0       |        0        |   60  |\n",
       " |      1       |        1        |  715  |\n",
       " |      2       |        1        |   5   |\n",
       " |      4       |        1        |   6   |\n",
       " |      5       |        1        |   3   |\n",
       " |      6       |        1        |   3   |\n",
       " |      8       |        1        |   2   |\n",
       " |      10      |        1        |   1   |\n",
       " |      18      |        1        |   2   |\n",
       " |      24      |        1        |   1   |\n",
       " +--------------+-----------------+-------+\n",
       " [180 rows x 3 columns]\n",
       " Note: Only the head of the SFrame is printed.\n",
       " You can use print_rows(num_rows=m, num_columns=n) to print more rows and columns.}"
      ]
     },
     "execution_count": 35,
     "metadata": {},
     "output_type": "execute_result"
    }
   ],
   "source": [
    "idsia_net_46_iters.evaluate(test_signs)"
   ]
  }
 ],
 "metadata": {
  "kernelspec": {
   "display_name": "Python 2",
   "language": "python",
   "name": "python2"
  },
  "language_info": {
   "codemirror_mode": {
    "name": "ipython",
    "version": 2
   },
   "file_extension": ".py",
   "mimetype": "text/x-python",
   "name": "python",
   "nbconvert_exporter": "python",
   "pygments_lexer": "ipython2",
   "version": "2.7.12"
  }
 },
 "nbformat": 4,
 "nbformat_minor": 0
}
