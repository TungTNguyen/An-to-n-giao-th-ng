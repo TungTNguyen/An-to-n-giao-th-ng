{
 "cells": [
  {
   "cell_type": "markdown",
   "metadata": {},
   "source": [
    "# ConvNet cho phân loại MNIST "
   ]
  },
  {
   "cell_type": "code",
   "execution_count": 1,
   "metadata": {
    "collapsed": true
   },
   "outputs": [],
   "source": [
    "import graphlab"
   ]
  },
  {
   "cell_type": "code",
   "execution_count": 2,
   "metadata": {
    "collapsed": false
   },
   "outputs": [
    {
     "name": "stderr",
     "output_type": "stream",
     "text": [
      "[INFO] graphlab.cython.cy_server: GraphLab Create v2.1 started. Logging: C:\\Users\\admin\\AppData\\Local\\Temp\\graphlab_server_1477984850.log.0\n",
      "INFO:graphlab.cython.cy_server:GraphLab Create v2.1 started. Logging: C:\\Users\\admin\\AppData\\Local\\Temp\\graphlab_server_1477984850.log.0\n"
     ]
    },
    {
     "data": {
      "text/html": [
       "<pre>Downloading https://static.turi.com/datasets/mnist/sframe/train/dir_archive.ini to C:/Users/admin/AppData/Local/Temp/graphlab-admin/4496/639179b4-cb3a-4667-ac3f-f26e7b867001.ini</pre>"
      ],
      "text/plain": [
       "Downloading https://static.turi.com/datasets/mnist/sframe/train/dir_archive.ini to C:/Users/admin/AppData/Local/Temp/graphlab-admin/4496/639179b4-cb3a-4667-ac3f-f26e7b867001.ini"
      ]
     },
     "metadata": {},
     "output_type": "display_data"
    },
    {
     "data": {
      "text/html": [
       "<pre>Downloading https://static.turi.com/datasets/mnist/sframe/train/objects.bin to C:/Users/admin/AppData/Local/Temp/graphlab-admin/4496/f1fc59d4-380a-428c-8c42-92f4eef2d393.bin</pre>"
      ],
      "text/plain": [
       "Downloading https://static.turi.com/datasets/mnist/sframe/train/objects.bin to C:/Users/admin/AppData/Local/Temp/graphlab-admin/4496/f1fc59d4-380a-428c-8c42-92f4eef2d393.bin"
      ]
     },
     "metadata": {},
     "output_type": "display_data"
    },
    {
     "data": {
      "text/html": [
       "<pre>Downloading https://static.turi.com/datasets/mnist/sframe/train/m_4558118e.frame_idx to C:/Users/admin/AppData/Local/Temp/graphlab-admin/4496/83d5d793-a0cd-4a2e-9294-06d49f985900.frame_idx</pre>"
      ],
      "text/plain": [
       "Downloading https://static.turi.com/datasets/mnist/sframe/train/m_4558118e.frame_idx to C:/Users/admin/AppData/Local/Temp/graphlab-admin/4496/83d5d793-a0cd-4a2e-9294-06d49f985900.frame_idx"
      ]
     },
     "metadata": {},
     "output_type": "display_data"
    },
    {
     "data": {
      "text/html": [
       "<pre>Downloading https://static.turi.com/datasets/mnist/sframe/train/m_4558118e.sidx to C:/Users/admin/AppData/Local/Temp/graphlab-admin/4496/9333a6b2-96fd-465e-b401-c0c8f3301b7f.sidx</pre>"
      ],
      "text/plain": [
       "Downloading https://static.turi.com/datasets/mnist/sframe/train/m_4558118e.sidx to C:/Users/admin/AppData/Local/Temp/graphlab-admin/4496/9333a6b2-96fd-465e-b401-c0c8f3301b7f.sidx"
      ]
     },
     "metadata": {},
     "output_type": "display_data"
    },
    {
     "data": {
      "text/html": [
       "<pre>Downloading https://static.turi.com/datasets/mnist/sframe/test/dir_archive.ini to C:/Users/admin/AppData/Local/Temp/graphlab-admin/4496/1f9042d0-c145-49e2-ba78-a6f27fb4473d.ini</pre>"
      ],
      "text/plain": [
       "Downloading https://static.turi.com/datasets/mnist/sframe/test/dir_archive.ini to C:/Users/admin/AppData/Local/Temp/graphlab-admin/4496/1f9042d0-c145-49e2-ba78-a6f27fb4473d.ini"
      ]
     },
     "metadata": {},
     "output_type": "display_data"
    },
    {
     "data": {
      "text/html": [
       "<pre>Downloading https://static.turi.com/datasets/mnist/sframe/test/objects.bin to C:/Users/admin/AppData/Local/Temp/graphlab-admin/4496/f2e540ae-9866-4d8c-a971-c6314b4a75cb.bin</pre>"
      ],
      "text/plain": [
       "Downloading https://static.turi.com/datasets/mnist/sframe/test/objects.bin to C:/Users/admin/AppData/Local/Temp/graphlab-admin/4496/f2e540ae-9866-4d8c-a971-c6314b4a75cb.bin"
      ]
     },
     "metadata": {},
     "output_type": "display_data"
    },
    {
     "data": {
      "text/html": [
       "<pre>Downloading https://static.turi.com/datasets/mnist/sframe/test/m_310c50b3.frame_idx to C:/Users/admin/AppData/Local/Temp/graphlab-admin/4496/09a8bb8f-d28d-461e-b6d9-5cc063276f86.frame_idx</pre>"
      ],
      "text/plain": [
       "Downloading https://static.turi.com/datasets/mnist/sframe/test/m_310c50b3.frame_idx to C:/Users/admin/AppData/Local/Temp/graphlab-admin/4496/09a8bb8f-d28d-461e-b6d9-5cc063276f86.frame_idx"
      ]
     },
     "metadata": {},
     "output_type": "display_data"
    },
    {
     "data": {
      "text/html": [
       "<pre>Downloading https://static.turi.com/datasets/mnist/sframe/test/m_310c50b3.sidx to C:/Users/admin/AppData/Local/Temp/graphlab-admin/4496/e1af6e6e-e3be-4ec5-af6e-4e8ed7e6db8d.sidx</pre>"
      ],
      "text/plain": [
       "Downloading https://static.turi.com/datasets/mnist/sframe/test/m_310c50b3.sidx to C:/Users/admin/AppData/Local/Temp/graphlab-admin/4496/e1af6e6e-e3be-4ec5-af6e-4e8ed7e6db8d.sidx"
      ]
     },
     "metadata": {},
     "output_type": "display_data"
    },
    {
     "name": "stdout",
     "output_type": "stream",
     "text": [
      "This non-commercial license of GraphLab Create for academic use is assigned to keira1412@gmail.com and will expire on October 05, 2017.\n"
     ]
    }
   ],
   "source": [
    ">>> data = graphlab.SFrame('https://static.turi.com/datasets/mnist/sframe/train')\n",
    ">>> test_data = graphlab.SFrame('https://static.turi.com/datasets/mnist/sframe/test')\n",
    ">>> training_data, validation_data = data.random_split(0.8)\n"
   ]
  },
  {
   "cell_type": "code",
   "execution_count": 3,
   "metadata": {
    "collapsed": false
   },
   "outputs": [
    {
     "data": {
      "text/html": [
       "<pre>Downloading https://static.turi.com/datasets/mnist/sframe/train/m_4558118e.0000 to C:/Users/admin/AppData/Local/Temp/graphlab-admin/4496/4d2c0ce6-91a2-467f-b2c5-c1fee156e58e.0000</pre>"
      ],
      "text/plain": [
       "Downloading https://static.turi.com/datasets/mnist/sframe/train/m_4558118e.0000 to C:/Users/admin/AppData/Local/Temp/graphlab-admin/4496/4d2c0ce6-91a2-467f-b2c5-c1fee156e58e.0000"
      ]
     },
     "metadata": {},
     "output_type": "display_data"
    },
    {
     "data": {
      "text/html": [
       "<pre>Downloading https://static.turi.com/datasets/mnist/sframe/train/m_4558118e.0001 to C:/Users/admin/AppData/Local/Temp/graphlab-admin/4496/f2a9cf05-cd08-4d4e-b9cf-62ed29645a29.0001</pre>"
      ],
      "text/plain": [
       "Downloading https://static.turi.com/datasets/mnist/sframe/train/m_4558118e.0001 to C:/Users/admin/AppData/Local/Temp/graphlab-admin/4496/f2a9cf05-cd08-4d4e-b9cf-62ed29645a29.0001"
      ]
     },
     "metadata": {},
     "output_type": "display_data"
    },
    {
     "data": {
      "text/html": [
       "<pre>Downloading https://static.turi.com/datasets/mnist/sframe/train/m_4558118e.0002 to C:/Users/admin/AppData/Local/Temp/graphlab-admin/4496/0a077143-ff8a-49c8-8fab-e9f4a2d847a6.0002</pre>"
      ],
      "text/plain": [
       "Downloading https://static.turi.com/datasets/mnist/sframe/train/m_4558118e.0002 to C:/Users/admin/AppData/Local/Temp/graphlab-admin/4496/0a077143-ff8a-49c8-8fab-e9f4a2d847a6.0002"
      ]
     },
     "metadata": {},
     "output_type": "display_data"
    },
    {
     "data": {
      "text/html": [
       "<pre>Downloading https://static.turi.com/datasets/mnist/sframe/train/m_4558118e.0003 to C:/Users/admin/AppData/Local/Temp/graphlab-admin/4496/415229f5-e2ae-41f6-98c2-bdcd0aebf4e3.0003</pre>"
      ],
      "text/plain": [
       "Downloading https://static.turi.com/datasets/mnist/sframe/train/m_4558118e.0003 to C:/Users/admin/AppData/Local/Temp/graphlab-admin/4496/415229f5-e2ae-41f6-98c2-bdcd0aebf4e3.0003"
      ]
     },
     "metadata": {},
     "output_type": "display_data"
    },
    {
     "data": {
      "text/html": [
       "<pre>Downloading https://static.turi.com/datasets/mnist/sframe/train/m_4558118e.0004 to C:/Users/admin/AppData/Local/Temp/graphlab-admin/4496/f6ba5faf-93d0-46b8-9ea2-9300b0e2242c.0004</pre>"
      ],
      "text/plain": [
       "Downloading https://static.turi.com/datasets/mnist/sframe/train/m_4558118e.0004 to C:/Users/admin/AppData/Local/Temp/graphlab-admin/4496/f6ba5faf-93d0-46b8-9ea2-9300b0e2242c.0004"
      ]
     },
     "metadata": {},
     "output_type": "display_data"
    },
    {
     "data": {
      "text/html": [
       "<pre>Downloading https://static.turi.com/datasets/mnist/sframe/train/m_4558118e.0005 to C:/Users/admin/AppData/Local/Temp/graphlab-admin/4496/1b0b78cf-f757-440c-be09-2a71d6f83b90.0005</pre>"
      ],
      "text/plain": [
       "Downloading https://static.turi.com/datasets/mnist/sframe/train/m_4558118e.0005 to C:/Users/admin/AppData/Local/Temp/graphlab-admin/4496/1b0b78cf-f757-440c-be09-2a71d6f83b90.0005"
      ]
     },
     "metadata": {},
     "output_type": "display_data"
    },
    {
     "data": {
      "text/html": [
       "<pre>Downloading https://static.turi.com/datasets/mnist/sframe/train/m_4558118e.0006 to C:/Users/admin/AppData/Local/Temp/graphlab-admin/4496/0ccf23de-c184-4b19-8c47-81c5ad01f9bd.0006</pre>"
      ],
      "text/plain": [
       "Downloading https://static.turi.com/datasets/mnist/sframe/train/m_4558118e.0006 to C:/Users/admin/AppData/Local/Temp/graphlab-admin/4496/0ccf23de-c184-4b19-8c47-81c5ad01f9bd.0006"
      ]
     },
     "metadata": {},
     "output_type": "display_data"
    },
    {
     "data": {
      "text/html": [
       "<pre>Downloading https://static.turi.com/datasets/mnist/sframe/train/m_4558118e.0007 to C:/Users/admin/AppData/Local/Temp/graphlab-admin/4496/72a6e27e-732f-4740-addf-7779ac0e4c89.0007</pre>"
      ],
      "text/plain": [
       "Downloading https://static.turi.com/datasets/mnist/sframe/train/m_4558118e.0007 to C:/Users/admin/AppData/Local/Temp/graphlab-admin/4496/72a6e27e-732f-4740-addf-7779ac0e4c89.0007"
      ]
     },
     "metadata": {},
     "output_type": "display_data"
    },
    {
     "data": {
      "text/html": [
       "<pre>Downloading https://static.turi.com/datasets/mnist/sframe/test/m_310c50b3.0000 to C:/Users/admin/AppData/Local/Temp/graphlab-admin/4496/5dac0dce-200a-4a62-93f6-918bcaf0e605.0000</pre>"
      ],
      "text/plain": [
       "Downloading https://static.turi.com/datasets/mnist/sframe/test/m_310c50b3.0000 to C:/Users/admin/AppData/Local/Temp/graphlab-admin/4496/5dac0dce-200a-4a62-93f6-918bcaf0e605.0000"
      ]
     },
     "metadata": {},
     "output_type": "display_data"
    },
    {
     "data": {
      "text/html": [
       "<pre>Downloading https://static.turi.com/datasets/mnist/sframe/test/m_310c50b3.0001 to C:/Users/admin/AppData/Local/Temp/graphlab-admin/4496/6e9fc5fd-9049-465b-b595-9a7ed47b9b96.0001</pre>"
      ],
      "text/plain": [
       "Downloading https://static.turi.com/datasets/mnist/sframe/test/m_310c50b3.0001 to C:/Users/admin/AppData/Local/Temp/graphlab-admin/4496/6e9fc5fd-9049-465b-b595-9a7ed47b9b96.0001"
      ]
     },
     "metadata": {},
     "output_type": "display_data"
    },
    {
     "data": {
      "text/html": [
       "<pre>Downloading https://static.turi.com/datasets/mnist/sframe/test/m_310c50b3.0002 to C:/Users/admin/AppData/Local/Temp/graphlab-admin/4496/ff2b8a4c-4483-459b-9a1e-3e1f76132688.0002</pre>"
      ],
      "text/plain": [
       "Downloading https://static.turi.com/datasets/mnist/sframe/test/m_310c50b3.0002 to C:/Users/admin/AppData/Local/Temp/graphlab-admin/4496/ff2b8a4c-4483-459b-9a1e-3e1f76132688.0002"
      ]
     },
     "metadata": {},
     "output_type": "display_data"
    },
    {
     "data": {
      "text/html": [
       "<pre>Downloading https://static.turi.com/datasets/mnist/sframe/test/m_310c50b3.0003 to C:/Users/admin/AppData/Local/Temp/graphlab-admin/4496/f34c4db2-f8ff-48b6-80c8-8132d3469f45.0003</pre>"
      ],
      "text/plain": [
       "Downloading https://static.turi.com/datasets/mnist/sframe/test/m_310c50b3.0003 to C:/Users/admin/AppData/Local/Temp/graphlab-admin/4496/f34c4db2-f8ff-48b6-80c8-8132d3469f45.0003"
      ]
     },
     "metadata": {},
     "output_type": "display_data"
    },
    {
     "data": {
      "text/html": [
       "<pre>Downloading https://static.turi.com/datasets/mnist/sframe/test/m_310c50b3.0004 to C:/Users/admin/AppData/Local/Temp/graphlab-admin/4496/a547a426-b8d6-41aa-94eb-4317dd20fc66.0004</pre>"
      ],
      "text/plain": [
       "Downloading https://static.turi.com/datasets/mnist/sframe/test/m_310c50b3.0004 to C:/Users/admin/AppData/Local/Temp/graphlab-admin/4496/a547a426-b8d6-41aa-94eb-4317dd20fc66.0004"
      ]
     },
     "metadata": {},
     "output_type": "display_data"
    },
    {
     "data": {
      "text/html": [
       "<pre>Downloading https://static.turi.com/datasets/mnist/sframe/test/m_310c50b3.0005 to C:/Users/admin/AppData/Local/Temp/graphlab-admin/4496/a2ff29a9-88b0-4251-922e-2ba4d93b31a2.0005</pre>"
      ],
      "text/plain": [
       "Downloading https://static.turi.com/datasets/mnist/sframe/test/m_310c50b3.0005 to C:/Users/admin/AppData/Local/Temp/graphlab-admin/4496/a2ff29a9-88b0-4251-922e-2ba4d93b31a2.0005"
      ]
     },
     "metadata": {},
     "output_type": "display_data"
    },
    {
     "data": {
      "text/html": [
       "<pre>Downloading https://static.turi.com/datasets/mnist/sframe/test/m_310c50b3.0006 to C:/Users/admin/AppData/Local/Temp/graphlab-admin/4496/8ff2d5d7-419c-4176-b979-f321ca914c09.0006</pre>"
      ],
      "text/plain": [
       "Downloading https://static.turi.com/datasets/mnist/sframe/test/m_310c50b3.0006 to C:/Users/admin/AppData/Local/Temp/graphlab-admin/4496/8ff2d5d7-419c-4176-b979-f321ca914c09.0006"
      ]
     },
     "metadata": {},
     "output_type": "display_data"
    },
    {
     "data": {
      "text/html": [
       "<pre>Downloading https://static.turi.com/datasets/mnist/sframe/test/m_310c50b3.0007 to C:/Users/admin/AppData/Local/Temp/graphlab-admin/4496/7f8e21a6-220a-4c62-8157-90e99a74b484.0007</pre>"
      ],
      "text/plain": [
       "Downloading https://static.turi.com/datasets/mnist/sframe/test/m_310c50b3.0007 to C:/Users/admin/AppData/Local/Temp/graphlab-admin/4496/7f8e21a6-220a-4c62-8157-90e99a74b484.0007"
      ]
     },
     "metadata": {},
     "output_type": "display_data"
    }
   ],
   "source": [
    ">>> training_data['image'] = graphlab.image_analysis.resize(training_data['image'], 28, 28, 1, decode=True)\n",
    ">>> validation_data['image'] = graphlab.image_analysis.resize(validation_data['image'], 28, 28, 1, decode=True)\n",
    ">>> test_data['image'] = graphlab.image_analysis.resize(test_data['image'], 28, 28, 1, decode=True)\n"
   ]
  },
  {
   "cell_type": "code",
   "execution_count": 4,
   "metadata": {
    "collapsed": true
   },
   "outputs": [],
   "source": [
    ">>> net = graphlab.deeplearning.create(training_data, target='label')\n"
   ]
  },
  {
   "cell_type": "code",
   "execution_count": 5,
   "metadata": {
    "collapsed": false
   },
   "outputs": [
    {
     "data": {
      "text/plain": [
       "layer[0]: ConvolutionLayer\n",
       "  init_random = gaussian\n",
       "  padding = 0\n",
       "  stride = 2\n",
       "  num_channels = 10\n",
       "  num_groups = 1\n",
       "  kernel_size = 3\n",
       "layer[1]: MaxPoolingLayer\n",
       "  padding = 0\n",
       "  stride = 2\n",
       "  kernel_size = 3\n",
       "layer[2]: FlattenLayer\n",
       "layer[3]: FullConnectionLayer\n",
       "  init_sigma = 0.01\n",
       "  init_random = gaussian\n",
       "  init_bias = 0\n",
       "  num_hidden_units = 100\n",
       "layer[4]: RectifiedLinearLayer\n",
       "layer[5]: DropoutLayer\n",
       "  threshold = 0.5\n",
       "layer[6]: FullConnectionLayer\n",
       "  init_sigma = 0.01\n",
       "  init_random = gaussian\n",
       "  init_bias = 0\n",
       "  num_hidden_units = 10\n",
       "layer[7]: SoftmaxLayer"
      ]
     },
     "execution_count": 5,
     "metadata": {},
     "output_type": "execute_result"
    }
   ],
   "source": [
    ">>> net.layers\n"
   ]
  },
  {
   "cell_type": "code",
   "execution_count": 6,
   "metadata": {
    "collapsed": false
   },
   "outputs": [
    {
     "data": {
      "text/plain": [
       "{'learning_rate': 0.001, 'momentum': 0.9}"
      ]
     },
     "execution_count": 6,
     "metadata": {},
     "output_type": "execute_result"
    }
   ],
   "source": [
    ">>> net.params\n"
   ]
  },
  {
   "cell_type": "code",
   "execution_count": 7,
   "metadata": {
    "collapsed": false
   },
   "outputs": [
    {
     "data": {
      "text/html": [
       "<pre>Computing mean image...</pre>"
      ],
      "text/plain": [
       "Computing mean image..."
      ]
     },
     "metadata": {},
     "output_type": "display_data"
    },
    {
     "data": {
      "text/html": [
       "<pre>Done computing mean image.</pre>"
      ],
      "text/plain": [
       "Done computing mean image."
      ]
     },
     "metadata": {},
     "output_type": "display_data"
    },
    {
     "data": {
      "text/html": [
       "<pre>Creating neuralnet using cpu</pre>"
      ],
      "text/plain": [
       "Creating neuralnet using cpu"
      ]
     },
     "metadata": {},
     "output_type": "display_data"
    },
    {
     "data": {
      "text/html": [
       "<pre>Training with batch size = 100</pre>"
      ],
      "text/plain": [
       "Training with batch size = 100"
      ]
     },
     "metadata": {},
     "output_type": "display_data"
    },
    {
     "data": {
      "text/html": [
       "<pre>+-----------+----------+--------------+-------------------+---------------------+-------------------+---------------------+-----------------+</pre>"
      ],
      "text/plain": [
       "+-----------+----------+--------------+-------------------+---------------------+-------------------+---------------------+-----------------+"
      ]
     },
     "metadata": {},
     "output_type": "display_data"
    },
    {
     "data": {
      "text/html": [
       "<pre>| Iteration | Examples | Elapsed Time | Training-accuracy | Validation-accuracy | Training-recall@2 | Validation-recall@2 | Examples/second |</pre>"
      ],
      "text/plain": [
       "| Iteration | Examples | Elapsed Time | Training-accuracy | Validation-accuracy | Training-recall@2 | Validation-recall@2 | Examples/second |"
      ]
     },
     "metadata": {},
     "output_type": "display_data"
    },
    {
     "data": {
      "text/html": [
       "<pre>+-----------+----------+--------------+-------------------+---------------------+-------------------+---------------------+-----------------+</pre>"
      ],
      "text/plain": [
       "+-----------+----------+--------------+-------------------+---------------------+-------------------+---------------------+-----------------+"
      ]
     },
     "metadata": {},
     "output_type": "display_data"
    },
    {
     "data": {
      "text/html": [
       "<pre>| 1         | 12200    | 10.074123    | 0.548115          |                     | 0.695738          |                     | 1211.028442     |</pre>"
      ],
      "text/plain": [
       "| 1         | 12200    | 10.074123    | 0.548115          |                     | 0.695738          |                     | 1211.028442     |"
      ]
     },
     "metadata": {},
     "output_type": "display_data"
    },
    {
     "data": {
      "text/html": [
       "<pre>| 1         | 24400    | 20.141656    | 0.688893          |                     | 0.814590          |                     | 1211.815918     |</pre>"
      ],
      "text/plain": [
       "| 1         | 24400    | 20.141656    | 0.688893          |                     | 0.814590          |                     | 1211.815918     |"
      ]
     },
     "metadata": {},
     "output_type": "display_data"
    },
    {
     "data": {
      "text/html": [
       "<pre>| 1         | 37800    | 30.191194    | 0.759921          |                     | 0.867063          |                     | 1333.394531     |</pre>"
      ],
      "text/plain": [
       "| 1         | 37800    | 30.191194    | 0.759921          |                     | 0.867063          |                     | 1333.394531     |"
      ]
     },
     "metadata": {},
     "output_type": "display_data"
    },
    {
     "data": {
      "text/html": [
       "<pre>| 1         | 48000    | 41.039579    | 0.791125          | 0.949727            | 0.888062          | 0.984512            | 940.231567      |</pre>"
      ],
      "text/plain": [
       "| 1         | 48000    | 41.039579    | 0.791125          | 0.949727            | 0.888062          | 0.984512            | 940.231567      |"
      ]
     },
     "metadata": {},
     "output_type": "display_data"
    },
    {
     "data": {
      "text/html": [
       "<pre>| 2         | 13300    | 51.096546    | 0.918120          |                     | 0.970752          |                     | 1322.499023     |</pre>"
      ],
      "text/plain": [
       "| 2         | 13300    | 51.096546    | 0.918120          |                     | 0.970752          |                     | 1322.499023     |"
      ]
     },
     "metadata": {},
     "output_type": "display_data"
    },
    {
     "data": {
      "text/html": [
       "<pre>| 2         | 26600    | 61.125219    | 0.923985          |                     | 0.974060          |                     | 1326.197021     |</pre>"
      ],
      "text/plain": [
       "| 2         | 26600    | 61.125219    | 0.923985          |                     | 0.974060          |                     | 1326.197021     |"
      ]
     },
     "metadata": {},
     "output_type": "display_data"
    },
    {
     "data": {
      "text/html": [
       "<pre>| 2         | 39800    | 71.189748    | 0.927839          |                     | 0.975879          |                     | 1311.536499     |</pre>"
      ],
      "text/plain": [
       "| 2         | 39800    | 71.189748    | 0.927839          |                     | 0.975879          |                     | 1311.536499     |"
      ]
     },
     "metadata": {},
     "output_type": "display_data"
    },
    {
     "data": {
      "text/html": [
       "<pre>| 2         | 48000    | 80.836335    | 0.930521          | 0.960991            | 0.977146          | 0.988488            | 850.040649      |</pre>"
      ],
      "text/plain": [
       "| 2         | 48000    | 80.836335    | 0.930521          | 0.960991            | 0.977146          | 0.988488            | 850.040649      |"
      ]
     },
     "metadata": {},
     "output_type": "display_data"
    },
    {
     "data": {
      "text/html": [
       "<pre>| 3         | 13000    | 90.907085    | 0.938923          |                     | 0.980308          |                     | 1290.898071     |</pre>"
      ],
      "text/plain": [
       "| 3         | 13000    | 90.907085    | 0.938923          |                     | 0.980308          |                     | 1290.898071     |"
      ]
     },
     "metadata": {},
     "output_type": "display_data"
    },
    {
     "data": {
      "text/html": [
       "<pre>| 3         | 25500    | 100.926557   | 0.942588          |                     | 0.981373          |                     | 1247.570190     |</pre>"
      ],
      "text/plain": [
       "| 3         | 25500    | 100.926557   | 0.942588          |                     | 0.981373          |                     | 1247.570190     |"
      ]
     },
     "metadata": {},
     "output_type": "display_data"
    },
    {
     "data": {
      "text/html": [
       "<pre>| 3         | 38100    | 110.982077   | 0.945407          |                     | 0.982415          |                     | 1253.045044     |</pre>"
      ],
      "text/plain": [
       "| 3         | 38100    | 110.982077   | 0.945407          |                     | 0.982415          |                     | 1253.045044     |"
      ]
     },
     "metadata": {},
     "output_type": "display_data"
    },
    {
     "data": {
      "text/html": [
       "<pre>| 3         | 48000    | 121.616845   | 0.946167          | 0.969024            | 0.983042          | 0.990227            | 930.906921      |</pre>"
      ],
      "text/plain": [
       "| 3         | 48000    | 121.616845   | 0.946167          | 0.969024            | 0.983042          | 0.990227            | 930.906921      |"
      ]
     },
     "metadata": {},
     "output_type": "display_data"
    },
    {
     "data": {
      "text/html": [
       "<pre>+-----------+----------+--------------+-------------------+---------------------+-------------------+---------------------+-----------------+</pre>"
      ],
      "text/plain": [
       "+-----------+----------+--------------+-------------------+---------------------+-------------------+---------------------+-----------------+"
      ]
     },
     "metadata": {},
     "output_type": "display_data"
    },
    {
     "name": "stdout",
     "output_type": "stream",
     "text": [
      "Using network:\n",
      "\n",
      "### network layers ###\n",
      "layer[0]: ConvolutionLayer\n",
      "  init_random = gaussian\n",
      "  padding = 0\n",
      "  stride = 2\n",
      "  num_channels = 10\n",
      "  num_groups = 1\n",
      "  kernel_size = 3\n",
      "layer[1]: MaxPoolingLayer\n",
      "  padding = 0\n",
      "  stride = 2\n",
      "  kernel_size = 3\n",
      "layer[2]: FlattenLayer\n",
      "layer[3]: FullConnectionLayer\n",
      "  init_sigma = 0.01\n",
      "  init_random = gaussian\n",
      "  init_bias = 0\n",
      "  num_hidden_units = 100\n",
      "layer[4]: RectifiedLinearLayer\n",
      "layer[5]: DropoutLayer\n",
      "  threshold = 0.5\n",
      "layer[6]: FullConnectionLayer\n",
      "  init_sigma = 0.01\n",
      "  init_random = gaussian\n",
      "  init_bias = 0\n",
      "  num_hidden_units = 10\n",
      "layer[7]: SoftmaxLayer\n",
      "### end network layers ###\n",
      "\n",
      "### network parameters ###\n",
      "learning_rate = 0.001\n",
      "metric = accuracy,recall@2\n",
      "momentum = 0.9\n",
      "### end network parameters ###\n",
      "\n"
     ]
    }
   ],
   "source": [
    ">>> m = graphlab.neuralnet_classifier.create(training_data, target='label',\n",
    "...                                          network = net,\n",
    "...                                          validation_set=validation_data,\n",
    "...                                          metric=['accuracy', 'recall@2'],\n",
    "...                                          max_iterations=3)\n"
   ]
  },
  {
   "cell_type": "code",
   "execution_count": 8,
   "metadata": {
    "collapsed": false
   },
   "outputs": [
    {
     "data": {
      "text/html": [
       "<div style=\"max-height:1000px;max-width:1500px;overflow:auto;\"><table frame=\"box\" rules=\"cols\">\n",
       "    <tr>\n",
       "        <th style=\"padding-left: 1em; padding-right: 1em; text-align: center\">row_id</th>\n",
       "        <th style=\"padding-left: 1em; padding-right: 1em; text-align: center\">class</th>\n",
       "        <th style=\"padding-left: 1em; padding-right: 1em; text-align: center\">probability</th>\n",
       "    </tr>\n",
       "    <tr>\n",
       "        <td style=\"padding-left: 1em; padding-right: 1em; text-align: center; vertical-align: top\">0</td>\n",
       "        <td style=\"padding-left: 1em; padding-right: 1em; text-align: center; vertical-align: top\">0</td>\n",
       "        <td style=\"padding-left: 1em; padding-right: 1em; text-align: center; vertical-align: top\">0.997593343258</td>\n",
       "    </tr>\n",
       "    <tr>\n",
       "        <td style=\"padding-left: 1em; padding-right: 1em; text-align: center; vertical-align: top\">1</td>\n",
       "        <td style=\"padding-left: 1em; padding-right: 1em; text-align: center; vertical-align: top\">0</td>\n",
       "        <td style=\"padding-left: 1em; padding-right: 1em; text-align: center; vertical-align: top\">0.999998450279</td>\n",
       "    </tr>\n",
       "    <tr>\n",
       "        <td style=\"padding-left: 1em; padding-right: 1em; text-align: center; vertical-align: top\">2</td>\n",
       "        <td style=\"padding-left: 1em; padding-right: 1em; text-align: center; vertical-align: top\">0</td>\n",
       "        <td style=\"padding-left: 1em; padding-right: 1em; text-align: center; vertical-align: top\">0.999879598618</td>\n",
       "    </tr>\n",
       "    <tr>\n",
       "        <td style=\"padding-left: 1em; padding-right: 1em; text-align: center; vertical-align: top\">3</td>\n",
       "        <td style=\"padding-left: 1em; padding-right: 1em; text-align: center; vertical-align: top\">0</td>\n",
       "        <td style=\"padding-left: 1em; padding-right: 1em; text-align: center; vertical-align: top\">0.999997496605</td>\n",
       "    </tr>\n",
       "    <tr>\n",
       "        <td style=\"padding-left: 1em; padding-right: 1em; text-align: center; vertical-align: top\">4</td>\n",
       "        <td style=\"padding-left: 1em; padding-right: 1em; text-align: center; vertical-align: top\">0</td>\n",
       "        <td style=\"padding-left: 1em; padding-right: 1em; text-align: center; vertical-align: top\">0.999977231026</td>\n",
       "    </tr>\n",
       "    <tr>\n",
       "        <td style=\"padding-left: 1em; padding-right: 1em; text-align: center; vertical-align: top\">5</td>\n",
       "        <td style=\"padding-left: 1em; padding-right: 1em; text-align: center; vertical-align: top\">0</td>\n",
       "        <td style=\"padding-left: 1em; padding-right: 1em; text-align: center; vertical-align: top\">0.999305009842</td>\n",
       "    </tr>\n",
       "    <tr>\n",
       "        <td style=\"padding-left: 1em; padding-right: 1em; text-align: center; vertical-align: top\">6</td>\n",
       "        <td style=\"padding-left: 1em; padding-right: 1em; text-align: center; vertical-align: top\">0</td>\n",
       "        <td style=\"padding-left: 1em; padding-right: 1em; text-align: center; vertical-align: top\">0.996626138687</td>\n",
       "    </tr>\n",
       "    <tr>\n",
       "        <td style=\"padding-left: 1em; padding-right: 1em; text-align: center; vertical-align: top\">7</td>\n",
       "        <td style=\"padding-left: 1em; padding-right: 1em; text-align: center; vertical-align: top\">0</td>\n",
       "        <td style=\"padding-left: 1em; padding-right: 1em; text-align: center; vertical-align: top\">0.99991607666</td>\n",
       "    </tr>\n",
       "    <tr>\n",
       "        <td style=\"padding-left: 1em; padding-right: 1em; text-align: center; vertical-align: top\">8</td>\n",
       "        <td style=\"padding-left: 1em; padding-right: 1em; text-align: center; vertical-align: top\">0</td>\n",
       "        <td style=\"padding-left: 1em; padding-right: 1em; text-align: center; vertical-align: top\">0.9967020154</td>\n",
       "    </tr>\n",
       "    <tr>\n",
       "        <td style=\"padding-left: 1em; padding-right: 1em; text-align: center; vertical-align: top\">9</td>\n",
       "        <td style=\"padding-left: 1em; padding-right: 1em; text-align: center; vertical-align: top\">0</td>\n",
       "        <td style=\"padding-left: 1em; padding-right: 1em; text-align: center; vertical-align: top\">0.999994039536</td>\n",
       "    </tr>\n",
       "</table>\n",
       "[10000 rows x 3 columns]<br/>Note: Only the head of the SFrame is printed.<br/>You can use print_rows(num_rows=m, num_columns=n) to print more rows and columns.\n",
       "</div>"
      ],
      "text/plain": [
       "Columns:\n",
       "\trow_id\tint\n",
       "\tclass\tint\n",
       "\tprobability\tfloat\n",
       "\n",
       "Rows: 10000\n",
       "\n",
       "Data:\n",
       "+--------+-------+----------------+\n",
       "| row_id | class |  probability   |\n",
       "+--------+-------+----------------+\n",
       "|   0    |   0   | 0.997593343258 |\n",
       "|   1    |   0   | 0.999998450279 |\n",
       "|   2    |   0   | 0.999879598618 |\n",
       "|   3    |   0   | 0.999997496605 |\n",
       "|   4    |   0   | 0.999977231026 |\n",
       "|   5    |   0   | 0.999305009842 |\n",
       "|   6    |   0   | 0.996626138687 |\n",
       "|   7    |   0   | 0.99991607666  |\n",
       "|   8    |   0   |  0.9967020154  |\n",
       "|   9    |   0   | 0.999994039536 |\n",
       "+--------+-------+----------------+\n",
       "[10000 rows x 3 columns]\n",
       "Note: Only the head of the SFrame is printed.\n",
       "You can use print_rows(num_rows=m, num_columns=n) to print more rows and columns."
      ]
     },
     "execution_count": 8,
     "metadata": {},
     "output_type": "execute_result"
    }
   ],
   "source": [
    ">>> pred = m.classify(test_data)\n",
    ">>> pred\n"
   ]
  },
  {
   "cell_type": "code",
   "execution_count": 9,
   "metadata": {
    "collapsed": false
   },
   "outputs": [
    {
     "data": {
      "text/html": [
       "<div style=\"max-height:1000px;max-width:1500px;overflow:auto;\"><table frame=\"box\" rules=\"cols\">\n",
       "    <tr>\n",
       "        <th style=\"padding-left: 1em; padding-right: 1em; text-align: center\">row_id</th>\n",
       "        <th style=\"padding-left: 1em; padding-right: 1em; text-align: center\">class</th>\n",
       "        <th style=\"padding-left: 1em; padding-right: 1em; text-align: center\">probability</th>\n",
       "    </tr>\n",
       "    <tr>\n",
       "        <td style=\"padding-left: 1em; padding-right: 1em; text-align: center; vertical-align: top\">0</td>\n",
       "        <td style=\"padding-left: 1em; padding-right: 1em; text-align: center; vertical-align: top\">0</td>\n",
       "        <td style=\"padding-left: 1em; padding-right: 1em; text-align: center; vertical-align: top\">0.997593343258</td>\n",
       "    </tr>\n",
       "    <tr>\n",
       "        <td style=\"padding-left: 1em; padding-right: 1em; text-align: center; vertical-align: top\">0</td>\n",
       "        <td style=\"padding-left: 1em; padding-right: 1em; text-align: center; vertical-align: top\">6</td>\n",
       "        <td style=\"padding-left: 1em; padding-right: 1em; text-align: center; vertical-align: top\">0.00214699329808</td>\n",
       "    </tr>\n",
       "    <tr>\n",
       "        <td style=\"padding-left: 1em; padding-right: 1em; text-align: center; vertical-align: top\">1</td>\n",
       "        <td style=\"padding-left: 1em; padding-right: 1em; text-align: center; vertical-align: top\">0</td>\n",
       "        <td style=\"padding-left: 1em; padding-right: 1em; text-align: center; vertical-align: top\">0.999998450279</td>\n",
       "    </tr>\n",
       "    <tr>\n",
       "        <td style=\"padding-left: 1em; padding-right: 1em; text-align: center; vertical-align: top\">1</td>\n",
       "        <td style=\"padding-left: 1em; padding-right: 1em; text-align: center; vertical-align: top\">2</td>\n",
       "        <td style=\"padding-left: 1em; padding-right: 1em; text-align: center; vertical-align: top\">1.17636477626e-06</td>\n",
       "    </tr>\n",
       "    <tr>\n",
       "        <td style=\"padding-left: 1em; padding-right: 1em; text-align: center; vertical-align: top\">2</td>\n",
       "        <td style=\"padding-left: 1em; padding-right: 1em; text-align: center; vertical-align: top\">0</td>\n",
       "        <td style=\"padding-left: 1em; padding-right: 1em; text-align: center; vertical-align: top\">0.999879598618</td>\n",
       "    </tr>\n",
       "    <tr>\n",
       "        <td style=\"padding-left: 1em; padding-right: 1em; text-align: center; vertical-align: top\">2</td>\n",
       "        <td style=\"padding-left: 1em; padding-right: 1em; text-align: center; vertical-align: top\">2</td>\n",
       "        <td style=\"padding-left: 1em; padding-right: 1em; text-align: center; vertical-align: top\">8.9900160674e-05</td>\n",
       "    </tr>\n",
       "    <tr>\n",
       "        <td style=\"padding-left: 1em; padding-right: 1em; text-align: center; vertical-align: top\">3</td>\n",
       "        <td style=\"padding-left: 1em; padding-right: 1em; text-align: center; vertical-align: top\">0</td>\n",
       "        <td style=\"padding-left: 1em; padding-right: 1em; text-align: center; vertical-align: top\">0.999997496605</td>\n",
       "    </tr>\n",
       "    <tr>\n",
       "        <td style=\"padding-left: 1em; padding-right: 1em; text-align: center; vertical-align: top\">3</td>\n",
       "        <td style=\"padding-left: 1em; padding-right: 1em; text-align: center; vertical-align: top\">2</td>\n",
       "        <td style=\"padding-left: 1em; padding-right: 1em; text-align: center; vertical-align: top\">9.25305926103e-07</td>\n",
       "    </tr>\n",
       "    <tr>\n",
       "        <td style=\"padding-left: 1em; padding-right: 1em; text-align: center; vertical-align: top\">4</td>\n",
       "        <td style=\"padding-left: 1em; padding-right: 1em; text-align: center; vertical-align: top\">0</td>\n",
       "        <td style=\"padding-left: 1em; padding-right: 1em; text-align: center; vertical-align: top\">0.999977231026</td>\n",
       "    </tr>\n",
       "    <tr>\n",
       "        <td style=\"padding-left: 1em; padding-right: 1em; text-align: center; vertical-align: top\">4</td>\n",
       "        <td style=\"padding-left: 1em; padding-right: 1em; text-align: center; vertical-align: top\">2</td>\n",
       "        <td style=\"padding-left: 1em; padding-right: 1em; text-align: center; vertical-align: top\">1.81979849003e-05</td>\n",
       "    </tr>\n",
       "</table>\n",
       "[20000 rows x 3 columns]<br/>Note: Only the head of the SFrame is printed.<br/>You can use print_rows(num_rows=m, num_columns=n) to print more rows and columns.\n",
       "</div>"
      ],
      "text/plain": [
       "Columns:\n",
       "\trow_id\tint\n",
       "\tclass\tint\n",
       "\tprobability\tfloat\n",
       "\n",
       "Rows: 20000\n",
       "\n",
       "Data:\n",
       "+--------+-------+-------------------+\n",
       "| row_id | class |    probability    |\n",
       "+--------+-------+-------------------+\n",
       "|   0    |   0   |   0.997593343258  |\n",
       "|   0    |   6   |  0.00214699329808 |\n",
       "|   1    |   0   |   0.999998450279  |\n",
       "|   1    |   2   | 1.17636477626e-06 |\n",
       "|   2    |   0   |   0.999879598618  |\n",
       "|   2    |   2   |  8.9900160674e-05 |\n",
       "|   3    |   0   |   0.999997496605  |\n",
       "|   3    |   2   | 9.25305926103e-07 |\n",
       "|   4    |   0   |   0.999977231026  |\n",
       "|   4    |   2   | 1.81979849003e-05 |\n",
       "+--------+-------+-------------------+\n",
       "[20000 rows x 3 columns]\n",
       "Note: Only the head of the SFrame is printed.\n",
       "You can use print_rows(num_rows=m, num_columns=n) to print more rows and columns."
      ]
     },
     "execution_count": 9,
     "metadata": {},
     "output_type": "execute_result"
    }
   ],
   "source": [
    ">>> pred_top2 = m.predict_topk(test_data, k=2)\n",
    ">>> pred_top2\n"
   ]
  },
  {
   "cell_type": "code",
   "execution_count": 10,
   "metadata": {
    "collapsed": false
   },
   "outputs": [
    {
     "data": {
      "text/plain": [
       "{'accuracy': 0.9739999771118164, 'confusion_matrix': Columns:\n",
       " \ttarget_label\tint\n",
       " \tpredicted_label\tint\n",
       " \tcount\tint\n",
       " \n",
       " Rows: 70\n",
       " \n",
       " Data:\n",
       " +--------------+-----------------+-------+\n",
       " | target_label | predicted_label | count |\n",
       " +--------------+-----------------+-------+\n",
       " |      0       |        0        |  973  |\n",
       " |      2       |        0        |   4   |\n",
       " |      5       |        0        |   1   |\n",
       " |      6       |        0        |   6   |\n",
       " |      8       |        0        |   6   |\n",
       " |      9       |        0        |   4   |\n",
       " |      0       |        1        |   1   |\n",
       " |      1       |        1        |  1122 |\n",
       " |      2       |        1        |   1   |\n",
       " |      5       |        1        |   1   |\n",
       " +--------------+-----------------+-------+\n",
       " [70 rows x 3 columns]\n",
       " Note: Only the head of the SFrame is printed.\n",
       " You can use print_rows(num_rows=m, num_columns=n) to print more rows and columns.}"
      ]
     },
     "execution_count": 10,
     "metadata": {},
     "output_type": "execute_result"
    }
   ],
   "source": [
    ">>> eval_ = m.evaluate(test_data)\n",
    ">>> eval_\n"
   ]
  },
  {
   "cell_type": "code",
   "execution_count": 11,
   "metadata": {
    "collapsed": true
   },
   "outputs": [],
   "source": [
    ">>> mnist_net = graphlab.deeplearning.get_builtin_neuralnet('mnist')\n"
   ]
  },
  {
   "cell_type": "code",
   "execution_count": 12,
   "metadata": {
    "collapsed": false
   },
   "outputs": [
    {
     "data": {
      "text/plain": [
       "\n",
       "### network layers ###\n",
       "layer[0]: ConvolutionLayer\n",
       "  init_random = xavier\n",
       "  padding = 1\n",
       "  stride = 2\n",
       "  num_channels = 32\n",
       "  num_groups = 1\n",
       "  kernel_size = 3\n",
       "layer[1]: MaxPoolingLayer\n",
       "  padding = 0\n",
       "  stride = 2\n",
       "  kernel_size = 3\n",
       "layer[2]: FlattenLayer\n",
       "layer[3]: DropoutLayer\n",
       "  threshold = 0.5\n",
       "layer[4]: FullConnectionLayer\n",
       "  init_sigma = 0.01\n",
       "  init_random = gaussian\n",
       "  init_bias = 0\n",
       "  num_hidden_units = 100\n",
       "layer[5]: SigmoidLayer\n",
       "layer[6]: FullConnectionLayer\n",
       "  init_sigma = 0.01\n",
       "  init_random = gaussian\n",
       "  init_bias = 0\n",
       "  num_hidden_units = 10\n",
       "layer[7]: SoftmaxLayer\n",
       "### end network layers ###\n",
       "\n",
       "### network parameters ###\n",
       "init_random = gaussian\n",
       "learning_rate = 0.1\n",
       "input_shape = 1,28,28\n",
       "batch_size = 100\n",
       "divideby = 255\n",
       "l2_regularization = 0.0\n",
       "momentum = 0.9\n",
       "### end network parameters ###"
      ]
     },
     "execution_count": 12,
     "metadata": {},
     "output_type": "execute_result"
    }
   ],
   "source": [
    "mnist_net"
   ]
  },
  {
   "cell_type": "code",
   "execution_count": 13,
   "metadata": {
    "collapsed": true
   },
   "outputs": [],
   "source": [
    ">>> imagenet_net = graphlab.deeplearning.get_builtin_neuralnet('imagenet')\n"
   ]
  },
  {
   "cell_type": "code",
   "execution_count": 14,
   "metadata": {
    "collapsed": false
   },
   "outputs": [
    {
     "data": {
      "text/plain": [
       "\n",
       "### network layers ###\n",
       "layer[0]: ConvolutionLayer\n",
       "  init_random = gaussian\n",
       "  padding = 0\n",
       "  stride = 4\n",
       "  num_channels = 96\n",
       "  num_groups = 1\n",
       "  kernel_size = 11\n",
       "layer[1]: RectifiedLinearLayer\n",
       "layer[2]: MaxPoolingLayer\n",
       "  padding = 0\n",
       "  stride = 2\n",
       "  kernel_size = 3\n",
       "layer[3]: LocalResponseNormalizationLayer\n",
       "  alpha = 0.001\n",
       "  beta = 0.75\n",
       "  knorm = 1\n",
       "  local_size = 5\n",
       "layer[4]: ConvolutionLayer\n",
       "  init_random = gaussian\n",
       "  padding = 2\n",
       "  stride = 1\n",
       "  num_channels = 256\n",
       "  num_groups = 2\n",
       "  kernel_size = 5\n",
       "layer[5]: RectifiedLinearLayer\n",
       "layer[6]: MaxPoolingLayer\n",
       "  padding = 0\n",
       "  stride = 2\n",
       "  kernel_size = 3\n",
       "layer[7]: LocalResponseNormalizationLayer\n",
       "  alpha = 0.001\n",
       "  beta = 0.75\n",
       "  knorm = 1\n",
       "  local_size = 5\n",
       "layer[8]: ConvolutionLayer\n",
       "  init_random = gaussian\n",
       "  padding = 1\n",
       "  stride = 1\n",
       "  num_channels = 384\n",
       "  num_groups = 1\n",
       "  kernel_size = 3\n",
       "layer[9]: RectifiedLinearLayer\n",
       "layer[10]: ConvolutionLayer\n",
       "  init_random = gaussian\n",
       "  padding = 1\n",
       "  stride = 1\n",
       "  num_channels = 384\n",
       "  num_groups = 2\n",
       "  kernel_size = 3\n",
       "layer[11]: RectifiedLinearLayer\n",
       "layer[12]: ConvolutionLayer\n",
       "  init_random = gaussian\n",
       "  padding = 1\n",
       "  stride = 1\n",
       "  init_bias = 1.0\n",
       "  num_channels = 256\n",
       "  num_groups = 2\n",
       "  kernel_size = 3\n",
       "layer[13]: RectifiedLinearLayer\n",
       "layer[14]: MaxPoolingLayer\n",
       "  padding = 0\n",
       "  stride = 2\n",
       "  kernel_size = 3\n",
       "layer[15]: FlattenLayer\n",
       "layer[16]: FullConnectionLayer\n",
       "  init_sigma = 0.005\n",
       "  init_random = gaussian\n",
       "  init_bias = 1.0\n",
       "  num_hidden_units = 4096\n",
       "layer[17]: RectifiedLinearLayer\n",
       "layer[18]: DropoutLayer\n",
       "  threshold = 0.5\n",
       "layer[19]: FullConnectionLayer\n",
       "  init_sigma = 0.005\n",
       "  init_random = gaussian\n",
       "  init_bias = 1.0\n",
       "  num_hidden_units = 4096\n",
       "layer[20]: RectifiedLinearLayer\n",
       "layer[21]: DropoutLayer\n",
       "  threshold = 0.5\n",
       "layer[22]: FullConnectionLayer\n",
       "  init_sigma = 0.01\n",
       "  init_random = gaussian\n",
       "  init_bias = 0\n",
       "  num_hidden_units = 1000\n",
       "layer[23]: SoftmaxLayer\n",
       "### end network layers ###\n",
       "\n",
       "### network parameters ###\n",
       "init_random = gaussian\n",
       "learning_rate = 0.01\n",
       "input_shape = 3,227,227\n",
       "learning_rate_gamma = 0.1\n",
       "learning_rate_schedule = exponential_decay\n",
       "random_mirror = 1\n",
       "learning_rate_step = 100000\n",
       "random_crop = 1\n",
       "init_sigma = 0.01\n",
       "bias_learning_rate = 0.02\n",
       "l2_regularization = 0.0005\n",
       "momentum = 0.9\n",
       "### end network parameters ###"
      ]
     },
     "execution_count": 14,
     "metadata": {},
     "output_type": "execute_result"
    }
   ],
   "source": [
    "imagenet_net"
   ]
  },
  {
   "cell_type": "code",
   "execution_count": 16,
   "metadata": {
    "collapsed": false
   },
   "outputs": [],
   "source": [
    "import graphlab as gl\n",
    ">>> percpt_net = gl.deeplearning.MultiLayerPerceptrons(num_hidden_layers=3,\n",
    "                                                num_hidden_units=[15,10,10])\n"
   ]
  },
  {
   "cell_type": "code",
   "execution_count": 17,
   "metadata": {
    "collapsed": true
   },
   "outputs": [],
   "source": [
    ">>> conv_net = gl.deeplearning.ConvolutionNet(num_convolution_layers=2,\n",
    "                                              kernel_size=3,\n",
    "                                              num_channels=10,\n",
    "                                              num_output_units=10)\n"
   ]
  },
  {
   "cell_type": "code",
   "execution_count": 18,
   "metadata": {
    "collapsed": true
   },
   "outputs": [],
   "source": [
    ">>> conv_net = gl.deeplearning.ConvolutionNet(num_convolution_layers=2,\n",
    "                                              kernel_size=3,\n",
    "                                              num_channels=10,\n",
    "                                              num_output_units=0)\n"
   ]
  },
  {
   "cell_type": "code",
   "execution_count": 19,
   "metadata": {
    "collapsed": false
   },
   "outputs": [
    {
     "data": {
      "text/plain": [
       "layer[0]: ConvolutionLayer\n",
       "  init_random = gaussian\n",
       "  padding = 0\n",
       "  stride = 1\n",
       "  num_channels = 10\n",
       "  num_groups = 1\n",
       "  kernel_size = 3\n",
       "layer[1]: MaxPoolingLayer\n",
       "  padding = 0\n",
       "  stride = 1\n",
       "  kernel_size = 3\n",
       "layer[2]: ConvolutionLayer\n",
       "  init_random = gaussian\n",
       "  padding = 0\n",
       "  stride = 1\n",
       "  num_channels = 10\n",
       "  num_groups = 1\n",
       "  kernel_size = 3\n",
       "layer[3]: MaxPoolingLayer\n",
       "  padding = 0\n",
       "  stride = 1\n",
       "  kernel_size = 3\n",
       "layer[4]: FlattenLayer\n",
       "layer[5]: FullConnectionLayer\n",
       "  init_sigma = 0.01\n",
       "  init_random = gaussian\n",
       "  init_bias = 0\n",
       "  num_hidden_units = 15\n",
       "layer[6]: SigmoidLayer\n",
       "layer[7]: FullConnectionLayer\n",
       "  init_sigma = 0.01\n",
       "  init_random = gaussian\n",
       "  init_bias = 0\n",
       "  num_hidden_units = 10\n",
       "layer[8]: SigmoidLayer\n",
       "layer[9]: FullConnectionLayer\n",
       "  init_sigma = 0.01\n",
       "  init_random = gaussian\n",
       "  init_bias = 0\n",
       "  num_hidden_units = 10\n",
       "layer[10]: SoftmaxLayer"
      ]
     },
     "execution_count": 19,
     "metadata": {},
     "output_type": "execute_result"
    }
   ],
   "source": [
    ">>> conv_net.layers.extend(percpt_net.layers)\n",
    ">>> conv_net.layers\n"
   ]
  },
  {
   "cell_type": "code",
   "execution_count": 20,
   "metadata": {
    "collapsed": false
   },
   "outputs": [
    {
     "data": {
      "text/plain": [
       "True"
      ]
     },
     "execution_count": 20,
     "metadata": {},
     "output_type": "execute_result"
    }
   ],
   "source": [
    ">>> conv_net.verify()\n"
   ]
  },
  {
   "cell_type": "code",
   "execution_count": null,
   "metadata": {
    "collapsed": false
   },
   "outputs": [
    {
     "data": {
      "text/html": [
       "<pre>Computing mean image...</pre>"
      ],
      "text/plain": [
       "Computing mean image..."
      ]
     },
     "metadata": {},
     "output_type": "display_data"
    },
    {
     "data": {
      "text/html": [
       "<pre>Done computing mean image.</pre>"
      ],
      "text/plain": [
       "Done computing mean image."
      ]
     },
     "metadata": {},
     "output_type": "display_data"
    },
    {
     "data": {
      "text/html": [
       "<pre>Creating neuralnet using cpu</pre>"
      ],
      "text/plain": [
       "Creating neuralnet using cpu"
      ]
     },
     "metadata": {},
     "output_type": "display_data"
    },
    {
     "data": {
      "text/html": [
       "<pre>Training with batch size = 100</pre>"
      ],
      "text/plain": [
       "Training with batch size = 100"
      ]
     },
     "metadata": {},
     "output_type": "display_data"
    },
    {
     "data": {
      "text/html": [
       "<pre>+-----------+----------+--------------+-------------------+---------------------+-------------------+---------------------+-----------------+</pre>"
      ],
      "text/plain": [
       "+-----------+----------+--------------+-------------------+---------------------+-------------------+---------------------+-----------------+"
      ]
     },
     "metadata": {},
     "output_type": "display_data"
    },
    {
     "data": {
      "text/html": [
       "<pre>| Iteration | Examples | Elapsed Time | Training-accuracy | Validation-accuracy | Training-recall@2 | Validation-recall@2 | Examples/second |</pre>"
      ],
      "text/plain": [
       "| Iteration | Examples | Elapsed Time | Training-accuracy | Validation-accuracy | Training-recall@2 | Validation-recall@2 | Examples/second |"
      ]
     },
     "metadata": {},
     "output_type": "display_data"
    },
    {
     "data": {
      "text/html": [
       "<pre>+-----------+----------+--------------+-------------------+---------------------+-------------------+---------------------+-----------------+</pre>"
      ],
      "text/plain": [
       "+-----------+----------+--------------+-------------------+---------------------+-------------------+---------------------+-----------------+"
      ]
     },
     "metadata": {},
     "output_type": "display_data"
    },
    {
     "data": {
      "text/html": [
       "<pre>| 1         | 900      | 11.187648    | 0.094444          |                     | 0.201111          |                     | 80.446175       |</pre>"
      ],
      "text/plain": [
       "| 1         | 900      | 11.187648    | 0.094444          |                     | 0.201111          |                     | 80.446175       |"
      ]
     },
     "metadata": {},
     "output_type": "display_data"
    },
    {
     "data": {
      "text/html": [
       "<pre>| 1         | 1800     | 22.274135    | 0.102778          |                     | 0.200000          |                     | 81.179863       |</pre>"
      ],
      "text/plain": [
       "| 1         | 1800     | 22.274135    | 0.102778          |                     | 0.200000          |                     | 81.179863       |"
      ]
     },
     "metadata": {},
     "output_type": "display_data"
    },
    {
     "data": {
      "text/html": [
       "<pre>| 1         | 2700     | 33.805955    | 0.098519          |                     | 0.199630          |                     | 78.044968       |</pre>"
      ],
      "text/plain": [
       "| 1         | 2700     | 33.805955    | 0.098519          |                     | 0.199630          |                     | 78.044968       |"
      ]
     },
     "metadata": {},
     "output_type": "display_data"
    },
    {
     "data": {
      "text/html": [
       "<pre>| 1         | 3400     | 44.025865    | 0.098235          |                     | 0.203235          |                     | 68.493774       |</pre>"
      ],
      "text/plain": [
       "| 1         | 3400     | 44.025865    | 0.098235          |                     | 0.203235          |                     | 68.493774       |"
      ]
     },
     "metadata": {},
     "output_type": "display_data"
    },
    {
     "data": {
      "text/html": [
       "<pre>| 1         | 4200     | 55.173172    | 0.096429          |                     | 0.200714          |                     | 71.766167       |</pre>"
      ],
      "text/plain": [
       "| 1         | 4200     | 55.173172    | 0.096429          |                     | 0.200714          |                     | 71.766167       |"
      ]
     },
     "metadata": {},
     "output_type": "display_data"
    },
    {
     "data": {
      "text/html": [
       "<pre>| 1         | 5000     | 65.527768    | 0.095800          |                     | 0.198000          |                     | 77.260376       |</pre>"
      ],
      "text/plain": [
       "| 1         | 5000     | 65.527768    | 0.095800          |                     | 0.198000          |                     | 77.260376       |"
      ]
     },
     "metadata": {},
     "output_type": "display_data"
    },
    {
     "data": {
      "text/html": [
       "<pre>| 1         | 5900     | 76.707982    | 0.096102          |                     | 0.196949          |                     | 80.499359       |</pre>"
      ],
      "text/plain": [
       "| 1         | 5900     | 76.707982    | 0.096102          |                     | 0.196949          |                     | 80.499359       |"
      ]
     },
     "metadata": {},
     "output_type": "display_data"
    },
    {
     "data": {
      "text/html": [
       "<pre>| 1         | 6700     | 88.022956    | 0.098507          |                     | 0.198955          |                     | 70.702827       |</pre>"
      ],
      "text/plain": [
       "| 1         | 6700     | 88.022956    | 0.098507          |                     | 0.198955          |                     | 70.702827       |"
      ]
     },
     "metadata": {},
     "output_type": "display_data"
    },
    {
     "data": {
      "text/html": [
       "<pre>| 1         | 7500     | 99.092222    | 0.101200          |                     | 0.202267          |                     | 72.272095       |</pre>"
      ],
      "text/plain": [
       "| 1         | 7500     | 99.092222    | 0.101200          |                     | 0.202267          |                     | 72.272095       |"
      ]
     },
     "metadata": {},
     "output_type": "display_data"
    },
    {
     "data": {
      "text/html": [
       "<pre>| 1         | 8400     | 110.277355   | 0.103095          |                     | 0.202619          |                     | 80.463974       |</pre>"
      ],
      "text/plain": [
       "| 1         | 8400     | 110.277355   | 0.103095          |                     | 0.202619          |                     | 80.463974       |"
      ]
     },
     "metadata": {},
     "output_type": "display_data"
    },
    {
     "data": {
      "text/html": [
       "<pre>| 1         | 9200     | 121.142977   | 0.104130          |                     | 0.204130          |                     | 73.626686       |</pre>"
      ],
      "text/plain": [
       "| 1         | 9200     | 121.142977   | 0.104130          |                     | 0.204130          |                     | 73.626686       |"
      ]
     },
     "metadata": {},
     "output_type": "display_data"
    },
    {
     "data": {
      "text/html": [
       "<pre>| 1         | 10000    | 131.603387   | 0.103600          |                     | 0.203500          |                     | 76.478867       |</pre>"
      ],
      "text/plain": [
       "| 1         | 10000    | 131.603387   | 0.103600          |                     | 0.203500          |                     | 76.478867       |"
      ]
     },
     "metadata": {},
     "output_type": "display_data"
    },
    {
     "data": {
      "text/html": [
       "<pre>| 1         | 10800    | 142.042303   | 0.104074          |                     | 0.203148          |                     | 76.636383       |</pre>"
      ],
      "text/plain": [
       "| 1         | 10800    | 142.042303   | 0.104074          |                     | 0.203148          |                     | 76.636383       |"
      ]
     },
     "metadata": {},
     "output_type": "display_data"
    },
    {
     "data": {
      "text/html": [
       "<pre>| 1         | 11500    | 152.884462   | 0.104261          |                     | 0.203043          |                     | 64.562729       |</pre>"
      ],
      "text/plain": [
       "| 1         | 11500    | 152.884462   | 0.104261          |                     | 0.203043          |                     | 64.562729       |"
      ]
     },
     "metadata": {},
     "output_type": "display_data"
    },
    {
     "data": {
      "text/html": [
       "<pre>| 1         | 12300    | 163.967069   | 0.104309          |                     | 0.203252          |                     | 72.185211       |</pre>"
      ],
      "text/plain": [
       "| 1         | 12300    | 163.967069   | 0.104309          |                     | 0.203252          |                     | 72.185211       |"
      ]
     },
     "metadata": {},
     "output_type": "display_data"
    },
    {
     "data": {
      "text/html": [
       "<pre>| 1         | 13100    | 175.094123   | 0.105954          |                     | 0.204809          |                     | 71.896851       |</pre>"
      ],
      "text/plain": [
       "| 1         | 13100    | 175.094123   | 0.105954          |                     | 0.204809          |                     | 71.896851       |"
      ]
     },
     "metadata": {},
     "output_type": "display_data"
    },
    {
     "data": {
      "text/html": [
       "<pre>| 1         | 13900    | 186.051052   | 0.107122          |                     | 0.205180          |                     | 73.013092       |</pre>"
      ],
      "text/plain": [
       "| 1         | 13900    | 186.051052   | 0.107122          |                     | 0.205180          |                     | 73.013092       |"
      ]
     },
     "metadata": {},
     "output_type": "display_data"
    },
    {
     "data": {
      "text/html": [
       "<pre>| 1         | 14700    | 196.228872   | 0.107551          |                     | 0.205510          |                     | 78.602310       |</pre>"
      ],
      "text/plain": [
       "| 1         | 14700    | 196.228872   | 0.107551          |                     | 0.205510          |                     | 78.602310       |"
      ]
     },
     "metadata": {},
     "output_type": "display_data"
    },
    {
     "data": {
      "text/html": [
       "<pre>| 1         | 15500    | 206.736105   | 0.107742          |                     | 0.206194          |                     | 76.138039       |</pre>"
      ],
      "text/plain": [
       "| 1         | 15500    | 206.736105   | 0.107742          |                     | 0.206194          |                     | 76.138039       |"
      ]
     },
     "metadata": {},
     "output_type": "display_data"
    },
    {
     "data": {
      "text/html": [
       "<pre>| 1         | 16300    | 217.030147   | 0.107117          |                     | 0.206012          |                     | 77.714844       |</pre>"
      ],
      "text/plain": [
       "| 1         | 16300    | 217.030147   | 0.107117          |                     | 0.206012          |                     | 77.714844       |"
      ]
     },
     "metadata": {},
     "output_type": "display_data"
    },
    {
     "data": {
      "text/html": [
       "<pre>| 1         | 17000    | 227.780293   | 0.107529          |                     | 0.206706          |                     | 65.115456       |</pre>"
      ],
      "text/plain": [
       "| 1         | 17000    | 227.780293   | 0.107529          |                     | 0.206706          |                     | 65.115456       |"
      ]
     },
     "metadata": {},
     "output_type": "display_data"
    },
    {
     "data": {
      "text/html": [
       "<pre>| 1         | 17800    | 238.383027   | 0.106966          |                     | 0.206011          |                     | 75.452194       |</pre>"
      ],
      "text/plain": [
       "| 1         | 17800    | 238.383027   | 0.106966          |                     | 0.206011          |                     | 75.452194       |"
      ]
     },
     "metadata": {},
     "output_type": "display_data"
    },
    {
     "data": {
      "text/html": [
       "<pre>| 1         | 18600    | 249.388731   | 0.107742          |                     | 0.206505          |                     | 72.689644       |</pre>"
      ],
      "text/plain": [
       "| 1         | 18600    | 249.388731   | 0.107742          |                     | 0.206505          |                     | 72.689644       |"
      ]
     },
     "metadata": {},
     "output_type": "display_data"
    },
    {
     "data": {
      "text/html": [
       "<pre>| 1         | 19400    | 260.406829   | 0.107784          |                     | 0.207371          |                     | 72.607719       |</pre>"
      ],
      "text/plain": [
       "| 1         | 19400    | 260.406829   | 0.107784          |                     | 0.207371          |                     | 72.607719       |"
      ]
     },
     "metadata": {},
     "output_type": "display_data"
    },
    {
     "data": {
      "text/html": [
       "<pre>| 1         | 20200    | 271.108231   | 0.107723          |                     | 0.208119          |                     | 74.756638       |</pre>"
      ],
      "text/plain": [
       "| 1         | 20200    | 271.108231   | 0.107723          |                     | 0.208119          |                     | 74.756638       |"
      ]
     },
     "metadata": {},
     "output_type": "display_data"
    },
    {
     "data": {
      "text/html": [
       "<pre>| 1         | 21000    | 281.254380   | 0.108238          |                     | 0.208524          |                     | 78.847603       |</pre>"
      ],
      "text/plain": [
       "| 1         | 21000    | 281.254380   | 0.108238          |                     | 0.208524          |                     | 78.847603       |"
      ]
     },
     "metadata": {},
     "output_type": "display_data"
    },
    {
     "data": {
      "text/html": [
       "<pre>| 1         | 21800    | 291.534073   | 0.107844          |                     | 0.208211          |                     | 77.823357       |</pre>"
      ],
      "text/plain": [
       "| 1         | 21800    | 291.534073   | 0.107844          |                     | 0.208211          |                     | 77.823357       |"
      ]
     },
     "metadata": {},
     "output_type": "display_data"
    },
    {
     "data": {
      "text/html": [
       "<pre>| 1         | 22600    | 301.553608   | 0.107965          |                     | 0.207832          |                     | 79.844048       |</pre>"
      ],
      "text/plain": [
       "| 1         | 22600    | 301.553608   | 0.107965          |                     | 0.207832          |                     | 79.844048       |"
      ]
     },
     "metadata": {},
     "output_type": "display_data"
    },
    {
     "data": {
      "text/html": [
       "<pre>| 1         | 23300    | 312.430568   | 0.108412          |                     | 0.208798          |                     | 64.356171       |</pre>"
      ],
      "text/plain": [
       "| 1         | 23300    | 312.430568   | 0.108412          |                     | 0.208798          |                     | 64.356171       |"
      ]
     },
     "metadata": {},
     "output_type": "display_data"
    },
    {
     "data": {
      "text/html": [
       "<pre>| 1         | 24000    | 323.142665   | 0.109083          |                     | 0.209667          |                     | 65.346741       |</pre>"
      ],
      "text/plain": [
       "| 1         | 24000    | 323.142665   | 0.109083          |                     | 0.209667          |                     | 65.346741       |"
      ]
     },
     "metadata": {},
     "output_type": "display_data"
    },
    {
     "data": {
      "text/html": [
       "<pre>| 1         | 24700    | 334.180321   | 0.109028          |                     | 0.209879          |                     | 63.419212       |</pre>"
      ],
      "text/plain": [
       "| 1         | 24700    | 334.180321   | 0.109028          |                     | 0.209879          |                     | 63.419212       |"
      ]
     },
     "metadata": {},
     "output_type": "display_data"
    },
    {
     "data": {
      "text/html": [
       "<pre>| 1         | 25500    | 344.932192   | 0.108980          |                     | 0.209608          |                     | 74.405647       |</pre>"
      ],
      "text/plain": [
       "| 1         | 25500    | 344.932192   | 0.108980          |                     | 0.209608          |                     | 74.405647       |"
      ]
     },
     "metadata": {},
     "output_type": "display_data"
    },
    {
     "data": {
      "text/html": [
       "<pre>| 1         | 26300    | 355.150095   | 0.109392          |                     | 0.210570          |                     | 78.293945       |</pre>"
      ],
      "text/plain": [
       "| 1         | 26300    | 355.150095   | 0.109392          |                     | 0.210570          |                     | 78.293945       |"
      ]
     },
     "metadata": {},
     "output_type": "display_data"
    },
    {
     "data": {
      "text/html": [
       "<pre>| 1         | 27100    | 366.295323   | 0.109816          |                     | 0.210517          |                     | 71.779694       |</pre>"
      ],
      "text/plain": [
       "| 1         | 27100    | 366.295323   | 0.109816          |                     | 0.210517          |                     | 71.779694       |"
      ]
     },
     "metadata": {},
     "output_type": "display_data"
    },
    {
     "data": {
      "text/html": [
       "<pre>| 1         | 27800    | 376.346822   | 0.109748          |                     | 0.211043          |                     | 69.641449       |</pre>"
      ],
      "text/plain": [
       "| 1         | 27800    | 376.346822   | 0.109748          |                     | 0.211043          |                     | 69.641449       |"
      ]
     },
     "metadata": {},
     "output_type": "display_data"
    },
    {
     "data": {
      "text/html": [
       "<pre>| 1         | 28500    | 386.790746   | 0.109825          |                     | 0.211053          |                     | 67.024422       |</pre>"
      ],
      "text/plain": [
       "| 1         | 28500    | 386.790746   | 0.109825          |                     | 0.211053          |                     | 67.024422       |"
      ]
     },
     "metadata": {},
     "output_type": "display_data"
    },
    {
     "data": {
      "text/html": [
       "<pre>| 1         | 29200    | 396.939211   | 0.109863          |                     | 0.211438          |                     | 68.975960       |</pre>"
      ],
      "text/plain": [
       "| 1         | 29200    | 396.939211   | 0.109863          |                     | 0.211438          |                     | 68.975960       |"
      ]
     },
     "metadata": {},
     "output_type": "display_data"
    },
    {
     "data": {
      "text/html": [
       "<pre>| 1         | 29900    | 407.002594   | 0.109833          |                     | 0.211104          |                     | 69.559113       |</pre>"
      ],
      "text/plain": [
       "| 1         | 29900    | 407.002594   | 0.109833          |                     | 0.211104          |                     | 69.559113       |"
      ]
     },
     "metadata": {},
     "output_type": "display_data"
    },
    {
     "data": {
      "text/html": [
       "<pre>| 1         | 30700    | 417.696362   | 0.110000          |                     | 0.211042          |                     | 74.809990       |</pre>"
      ],
      "text/plain": [
       "| 1         | 30700    | 417.696362   | 0.110000          |                     | 0.211042          |                     | 74.809990       |"
      ]
     },
     "metadata": {},
     "output_type": "display_data"
    }
   ],
   "source": [
    ">>> lenet = graphlab.neuralnet_classifier.create(training_data, target='label',\n",
    "...                                          network = conv_net,\n",
    "...                                          validation_set=validation_data,\n",
    "...                                          metric=['accuracy', 'recall@2'],\n",
    "...                                          max_iterations=3)\n"
   ]
  },
  {
   "cell_type": "markdown",
   "metadata": {},
   "source": [
    "# Lenet xây dựng bởi MiXNet, dữ liệu MNIST:"
   ]
  },
  {
   "cell_type": "code",
   "execution_count": null,
   "metadata": {
    "collapsed": true
   },
   "outputs": [],
   "source": [
    "import graphlab as gl\n",
    "from graphlab import mxnet as mx\n",
    "import numpy as np\n",
    "\n",
    "#Day la mang Lenet. Define the network symbol\n",
    "data = mx.symbol.Variable('data')\n",
    "conv1= mx.symbol.Convolution(data = data, name='conv1', num_filter=32, kernel=(3,3), stride=(2,2))\n",
    "bn1 = mx.symbol.BatchNorm(data = conv1, name=\"bn1\")\n",
    "act1 = mx.symbol.Activation(data = bn1, name='relu1', act_type=\"relu\")\n",
    "mp1 = mx.symbol.Pooling(data = act1, name = 'mp1', kernel=(2,2), stride=(2,2), pool_type='max')\n",
    "\n",
    "conv2= mx.symbol.Convolution(data = mp1, name='conv2', num_filter=32, kernel=(3,3), stride=(2,2))\n",
    "bn2 = mx.symbol.BatchNorm(data = conv2, name=\"bn2\")\n",
    "act2 = mx.symbol.Activation(data = bn2, name='relu2', act_type=\"relu\")\n",
    "mp2 = mx.symbol.Pooling(data = act2, name = 'mp2', kernel=(2,2), stride=(2,2), pool_type='max')\n",
    "\n",
    "fl = mx.symbol.Flatten(data = mp2, name=\"flatten\")\n",
    "fc2 = mx.symbol.FullyConnected(data = fl, name='fc2', num_hidden=10)\n",
    "softmax = mx.symbol.SoftmaxOutput(data = fc2, name = 'sm')"
   ]
  },
  {
   "cell_type": "code",
   "execution_count": 1,
   "metadata": {
    "collapsed": false
   },
   "outputs": [
    {
     "name": "stderr",
     "output_type": "stream",
     "text": [
      "[INFO] graphlab.mxnet.base: CUDA support is currently not available on this platform. GPU support is disabled.\n",
      "INFO:graphlab.mxnet.base:CUDA support is currently not available on this platform. GPU support is disabled.\n",
      "[INFO] graphlab.cython.cy_server: GraphLab Create v2.1 started. Logging: C:\\Users\\admin\\AppData\\Local\\Temp\\graphlab_server_1477986340.log.0\n",
      "INFO:graphlab.cython.cy_server:GraphLab Create v2.1 started. Logging: C:\\Users\\admin\\AppData\\Local\\Temp\\graphlab_server_1477986340.log.0\n"
     ]
    },
    {
     "data": {
      "text/html": [
       "<pre>Downloading https://static.turi.com/datasets/mnist/sframe/train/dir_archive.ini to C:/Users/admin/AppData/Local/Temp/graphlab-admin/1268/0e26286f-5a9c-4b8e-9d70-63e13885acd3.ini</pre>"
      ],
      "text/plain": [
       "Downloading https://static.turi.com/datasets/mnist/sframe/train/dir_archive.ini to C:/Users/admin/AppData/Local/Temp/graphlab-admin/1268/0e26286f-5a9c-4b8e-9d70-63e13885acd3.ini"
      ]
     },
     "metadata": {},
     "output_type": "display_data"
    },
    {
     "data": {
      "text/html": [
       "<pre>Downloading https://static.turi.com/datasets/mnist/sframe/train/objects.bin to C:/Users/admin/AppData/Local/Temp/graphlab-admin/1268/04b69a42-a4d5-4943-a240-381289db8a3c.bin</pre>"
      ],
      "text/plain": [
       "Downloading https://static.turi.com/datasets/mnist/sframe/train/objects.bin to C:/Users/admin/AppData/Local/Temp/graphlab-admin/1268/04b69a42-a4d5-4943-a240-381289db8a3c.bin"
      ]
     },
     "metadata": {},
     "output_type": "display_data"
    },
    {
     "data": {
      "text/html": [
       "<pre>Downloading https://static.turi.com/datasets/mnist/sframe/train/m_4558118e.frame_idx to C:/Users/admin/AppData/Local/Temp/graphlab-admin/1268/c64fa173-645b-4e04-bbdf-c621983bc8d6.frame_idx</pre>"
      ],
      "text/plain": [
       "Downloading https://static.turi.com/datasets/mnist/sframe/train/m_4558118e.frame_idx to C:/Users/admin/AppData/Local/Temp/graphlab-admin/1268/c64fa173-645b-4e04-bbdf-c621983bc8d6.frame_idx"
      ]
     },
     "metadata": {},
     "output_type": "display_data"
    },
    {
     "data": {
      "text/html": [
       "<pre>Downloading https://static.turi.com/datasets/mnist/sframe/train/m_4558118e.sidx to C:/Users/admin/AppData/Local/Temp/graphlab-admin/1268/5f3706f3-3670-4f9d-909a-494a1471fe90.sidx</pre>"
      ],
      "text/plain": [
       "Downloading https://static.turi.com/datasets/mnist/sframe/train/m_4558118e.sidx to C:/Users/admin/AppData/Local/Temp/graphlab-admin/1268/5f3706f3-3670-4f9d-909a-494a1471fe90.sidx"
      ]
     },
     "metadata": {},
     "output_type": "display_data"
    },
    {
     "data": {
      "text/html": [
       "<pre>Downloading https://static.turi.com/datasets/mnist/sframe/train/m_4558118e.0000 to C:/Users/admin/AppData/Local/Temp/graphlab-admin/1268/0804d0c5-d8fe-4d80-b1c5-340cf516b8a1.0000</pre>"
      ],
      "text/plain": [
       "Downloading https://static.turi.com/datasets/mnist/sframe/train/m_4558118e.0000 to C:/Users/admin/AppData/Local/Temp/graphlab-admin/1268/0804d0c5-d8fe-4d80-b1c5-340cf516b8a1.0000"
      ]
     },
     "metadata": {},
     "output_type": "display_data"
    },
    {
     "data": {
      "text/html": [
       "<pre>Downloading https://static.turi.com/datasets/mnist/sframe/train/m_4558118e.0001 to C:/Users/admin/AppData/Local/Temp/graphlab-admin/1268/7066a6b1-f72c-4910-95ef-f455b3f618bc.0001</pre>"
      ],
      "text/plain": [
       "Downloading https://static.turi.com/datasets/mnist/sframe/train/m_4558118e.0001 to C:/Users/admin/AppData/Local/Temp/graphlab-admin/1268/7066a6b1-f72c-4910-95ef-f455b3f618bc.0001"
      ]
     },
     "metadata": {},
     "output_type": "display_data"
    },
    {
     "data": {
      "text/html": [
       "<pre>Downloading https://static.turi.com/datasets/mnist/sframe/train/m_4558118e.0002 to C:/Users/admin/AppData/Local/Temp/graphlab-admin/1268/db6d4367-ed62-4f07-a308-bdad86492c5f.0002</pre>"
      ],
      "text/plain": [
       "Downloading https://static.turi.com/datasets/mnist/sframe/train/m_4558118e.0002 to C:/Users/admin/AppData/Local/Temp/graphlab-admin/1268/db6d4367-ed62-4f07-a308-bdad86492c5f.0002"
      ]
     },
     "metadata": {},
     "output_type": "display_data"
    },
    {
     "data": {
      "text/html": [
       "<pre>Downloading https://static.turi.com/datasets/mnist/sframe/train/m_4558118e.0003 to C:/Users/admin/AppData/Local/Temp/graphlab-admin/1268/d1a437e4-d794-4758-ba8b-ac12a73b7b67.0003</pre>"
      ],
      "text/plain": [
       "Downloading https://static.turi.com/datasets/mnist/sframe/train/m_4558118e.0003 to C:/Users/admin/AppData/Local/Temp/graphlab-admin/1268/d1a437e4-d794-4758-ba8b-ac12a73b7b67.0003"
      ]
     },
     "metadata": {},
     "output_type": "display_data"
    },
    {
     "data": {
      "text/html": [
       "<pre>Downloading https://static.turi.com/datasets/mnist/sframe/train/m_4558118e.0004 to C:/Users/admin/AppData/Local/Temp/graphlab-admin/1268/de953c81-fb1a-4914-a2d7-40777c179e91.0004</pre>"
      ],
      "text/plain": [
       "Downloading https://static.turi.com/datasets/mnist/sframe/train/m_4558118e.0004 to C:/Users/admin/AppData/Local/Temp/graphlab-admin/1268/de953c81-fb1a-4914-a2d7-40777c179e91.0004"
      ]
     },
     "metadata": {},
     "output_type": "display_data"
    },
    {
     "data": {
      "text/html": [
       "<pre>Downloading https://static.turi.com/datasets/mnist/sframe/train/m_4558118e.0005 to C:/Users/admin/AppData/Local/Temp/graphlab-admin/1268/bd9caeb1-db85-4607-a2f1-00aa30ccb198.0005</pre>"
      ],
      "text/plain": [
       "Downloading https://static.turi.com/datasets/mnist/sframe/train/m_4558118e.0005 to C:/Users/admin/AppData/Local/Temp/graphlab-admin/1268/bd9caeb1-db85-4607-a2f1-00aa30ccb198.0005"
      ]
     },
     "metadata": {},
     "output_type": "display_data"
    },
    {
     "data": {
      "text/html": [
       "<pre>Downloading https://static.turi.com/datasets/mnist/sframe/train/m_4558118e.0006 to C:/Users/admin/AppData/Local/Temp/graphlab-admin/1268/33808763-18e2-467f-b7bc-087946b06ee5.0006</pre>"
      ],
      "text/plain": [
       "Downloading https://static.turi.com/datasets/mnist/sframe/train/m_4558118e.0006 to C:/Users/admin/AppData/Local/Temp/graphlab-admin/1268/33808763-18e2-467f-b7bc-087946b06ee5.0006"
      ]
     },
     "metadata": {},
     "output_type": "display_data"
    },
    {
     "data": {
      "text/html": [
       "<pre>Downloading https://static.turi.com/datasets/mnist/sframe/train/m_4558118e.0007 to C:/Users/admin/AppData/Local/Temp/graphlab-admin/1268/a3fc19c9-c9ce-47ad-8085-54792c7e016a.0007</pre>"
      ],
      "text/plain": [
       "Downloading https://static.turi.com/datasets/mnist/sframe/train/m_4558118e.0007 to C:/Users/admin/AppData/Local/Temp/graphlab-admin/1268/a3fc19c9-c9ce-47ad-8085-54792c7e016a.0007"
      ]
     },
     "metadata": {},
     "output_type": "display_data"
    },
    {
     "name": "stderr",
     "output_type": "stream",
     "text": [
      "[INFO] graphlab.mxnet.model: Start training with [cpu(0)]\n",
      "INFO:graphlab.mxnet.model:Start training with [cpu(0)]\n",
      "[INFO] graphlab.mxnet.model: Epoch[0] Resetting Data Iterator\n",
      "INFO:graphlab.mxnet.model:Epoch[0] Resetting Data Iterator\n",
      "[INFO] graphlab.mxnet.model: Epoch[0] Train-accuracy=0.943200\n",
      "INFO:graphlab.mxnet.model:Epoch[0] Train-accuracy=0.943200\n",
      "[INFO] graphlab.mxnet.model: Epoch[0] Time cost=391.333\n",
      "INFO:graphlab.mxnet.model:Epoch[0] Time cost=391.333\n"
     ]
    },
    {
     "name": "stdout",
     "output_type": "stream",
     "text": [
      "This non-commercial license of GraphLab Create for academic use is assigned to keira1412@gmail.com and will expire on October 05, 2017.\n"
     ]
    },
    {
     "data": {
      "text/plain": [
       "array([[  4.81831830e-06,   1.82754491e-07,   1.66037728e-06, ...,\n",
       "          6.44341753e-08,   4.47766724e-05,   7.95734450e-05],\n",
       "       [  1.09319362e-05,   6.27265035e-06,   9.55414289e-05, ...,\n",
       "          5.66588365e-04,   9.66317952e-01,   2.28241961e-02],\n",
       "       [  2.04247845e-04,   9.96461809e-01,   6.98475284e-04, ...,\n",
       "          2.95316160e-04,   1.05890664e-04,   2.69676966e-05],\n",
       "       ..., \n",
       "       [  2.35875323e-03,   6.06928673e-03,   8.42982251e-03, ...,\n",
       "          5.46525989e-05,   2.61273002e-03,   2.09591653e-05],\n",
       "       [  1.08177585e-06,   3.64855714e-06,   9.86521363e-01, ...,\n",
       "          1.23215352e-06,   2.42259307e-03,   6.17799358e-08],\n",
       "       [  6.10527277e-05,   2.12165716e-07,   9.96475637e-01, ...,\n",
       "          6.57789224e-06,   1.77467723e-06,   9.91929574e-06]], dtype=float32)"
      ]
     },
     "execution_count": 1,
     "metadata": {},
     "output_type": "execute_result"
    }
   ],
   "source": [
    "# kich thuoc dong bo 28x28x1 (da resize san). Load MINST image data into SFrame\n",
    "sf =  gl.SFrame('https://static.turi.com/datasets/mnist/sframe/train')\n",
    "\n",
    "batch_size = 100\n",
    "#tang tu 1 len 3:\n",
    "num_epoch = 3\n",
    "\n",
    "# Prepare the input iterator from SFrame\n",
    "# `data_name` must match the first layer's name of the network.\n",
    "# `label_name` must match the last layer's name plus \"_label\".\n",
    "dataiter = mx.io.SFrameImageIter(sf, data_field=['image'],\n",
    "                            label_field='label',\n",
    "                            data_name='data',\n",
    "                            label_name='sm_label', batch_size=batch_size)\n",
    "\n",
    "# Train the network\n",
    "model = mx.model.FeedForward.create(softmax, X=dataiter,\n",
    "                                    num_epoch=num_epoch,\n",
    "                                    learning_rate=0.1, wd=0.0001,\n",
    "                                    momentum=0.9,\n",
    "                                    eval_metric=mx.metric.Accuracy())\n",
    "\n",
    "# Make prediction\n",
    "model.predict(dataiter)"
   ]
  },
  {
   "cell_type": "code",
   "execution_count": 24,
   "metadata": {
    "collapsed": true
   },
   "outputs": [],
   "source": [
    "import graphlab\n",
    ">>> test_data = graphlab.SFrame('https://static.turi.com/datasets/mnist/sframe/test')"
   ]
  },
  {
   "cell_type": "code",
   "execution_count": 25,
   "metadata": {
    "collapsed": true
   },
   "outputs": [],
   "source": [
    "# Prepare the input iterator from SFrame\n",
    "# `data_name` must match the first layer's name of the network.\n",
    "# `label_name` must match the last layer's name plus \"_label\".\n",
    "test_dataiter = mx.io.SFrameImageIter(test_data, data_field=['image'],\n",
    "                            label_field='label',\n",
    "                            data_name='data',\n",
    "                            label_name='sm_label', batch_size=batch_size)"
   ]
  },
  {
   "cell_type": "code",
   "execution_count": 8,
   "metadata": {
    "collapsed": false
   },
   "outputs": [
    {
     "data": {
      "text/plain": [
       "array([[  9.99535561e-01,   5.96952248e-07,   3.35713012e-05, ...,\n",
       "          9.43228497e-06,   9.25946824e-06,   7.41000179e-07],\n",
       "       [  9.99279797e-01,   1.28831462e-05,   1.70165338e-04, ...,\n",
       "          1.47326018e-05,   8.31136367e-06,   2.13810813e-06],\n",
       "       [  9.91209149e-01,   1.53754570e-06,   5.56743238e-03, ...,\n",
       "          1.08489177e-04,   1.03915611e-03,   4.44586549e-05],\n",
       "       ..., \n",
       "       [  3.92983093e-05,   4.31967192e-06,   6.10926290e-05, ...,\n",
       "          1.05254375e-03,   5.43695700e-04,   9.96128023e-01],\n",
       "       [  2.80332216e-07,   1.22843630e-06,   2.14161901e-05, ...,\n",
       "          1.48492749e-03,   4.49718646e-05,   9.92506921e-01],\n",
       "       [  1.58228886e-05,   1.51977256e-05,   4.89830563e-04, ...,\n",
       "          2.19264552e-02,   5.68554038e-04,   8.47986996e-01]], dtype=float32)"
      ]
     },
     "execution_count": 8,
     "metadata": {},
     "output_type": "execute_result"
    }
   ],
   "source": [
    "pred = model.predict(test_dataiter)\n",
    "pred"
   ]
  },
  {
   "cell_type": "code",
   "execution_count": null,
   "metadata": {
    "collapsed": true
   },
   "outputs": [],
   "source": [
    "# Prepare the input iterator from SFrame\n",
    "# `data_name` must match the first layer's name of the network.\n",
    "# `label_name` must match the last layer's name plus \"_label\".\n",
    "train_dataiter = mx.io.SFrameImageIter(sf, data_field=['image'],\n",
    "                            label_field='label',\n",
    "                            data_name='data',\n",
    "                            label_name='sm_label', batch_size=batch_size)\n",
    "# Train the network\n",
    "model = mx.model.FeedForward.create(softmax, X=train_dataiter,\n",
    "                                    num_epoch=3,\n",
    "                                    learning_rate=0.1, wd=0.0001,\n",
    "                                    momentum=0.9,\n",
    "                                    eval_metric=mx.metric.Accuracy())"
   ]
  },
  {
   "cell_type": "code",
   "execution_count": 12,
   "metadata": {
    "collapsed": false
   },
   "outputs": [],
   "source": [
    "# Make prediction\n",
    "#test_dataiter = dataiter\n",
    "preds = model.predict(test_dataiter)"
   ]
  },
  {
   "cell_type": "code",
   "execution_count": 74,
   "metadata": {
    "collapsed": false
   },
   "outputs": [],
   "source": [
    "#i = 9000\n",
    "#print preds#[i]\n",
    "#len\n",
    "predictions = (preds.argmax(axis=1))#.shape()"
   ]
  },
  {
   "cell_type": "code",
   "execution_count": 75,
   "metadata": {
    "collapsed": false
   },
   "outputs": [],
   "source": [
    "labels = test_dataiter.label_sframe#[-3]#getlabel()#['label']"
   ]
  },
  {
   "cell_type": "code",
   "execution_count": 78,
   "metadata": {
    "collapsed": true
   },
   "outputs": [],
   "source": [
    "acc = (sum(predictions==labels)+0.0)/len(predictions)"
   ]
  },
  {
   "cell_type": "code",
   "execution_count": 79,
   "metadata": {
    "collapsed": false
   },
   "outputs": [
    {
     "name": "stdout",
     "output_type": "stream",
     "text": [
      "0.965\n"
     ]
    }
   ],
   "source": [
    "print acc"
   ]
  },
  {
   "cell_type": "markdown",
   "metadata": {},
   "source": [
    "# Dữ liệu biển báo giao thông GTSRB: "
   ]
  },
  {
   "cell_type": "code",
   "execution_count": 86,
   "metadata": {
    "collapsed": false
   },
   "outputs": [
    {
     "data": {
      "text/html": [
       "<div style=\"max-height:1000px;max-width:1500px;overflow:auto;\"><table frame=\"box\" rules=\"cols\">\n",
       "    <tr>\n",
       "        <th style=\"padding-left: 1em; padding-right: 1em; text-align: center\">path</th>\n",
       "        <th style=\"padding-left: 1em; padding-right: 1em; text-align: center\">image</th>\n",
       "        <th style=\"padding-left: 1em; padding-right: 1em; text-align: center\">label</th>\n",
       "    </tr>\n",
       "    <tr>\n",
       "        <td style=\"padding-left: 1em; padding-right: 1em; text-align: center; vertical-align: top\">E:/COGNITIVE_SCIENCE/ARTI<br>FICIAL_INTELLIGENCE/R ...</td>\n",
       "        <td style=\"padding-left: 1em; padding-right: 1em; text-align: center; vertical-align: top\">Height: 15 Width: 15</td>\n",
       "        <td style=\"padding-left: 1em; padding-right: 1em; text-align: center; vertical-align: top\">18</td>\n",
       "    </tr>\n",
       "    <tr>\n",
       "        <td style=\"padding-left: 1em; padding-right: 1em; text-align: center; vertical-align: top\">E:/COGNITIVE_SCIENCE/ARTI<br>FICIAL_INTELLIGENCE/R ...</td>\n",
       "        <td style=\"padding-left: 1em; padding-right: 1em; text-align: center; vertical-align: top\">Height: 18 Width: 18</td>\n",
       "        <td style=\"padding-left: 1em; padding-right: 1em; text-align: center; vertical-align: top\">8</td>\n",
       "    </tr>\n",
       "    <tr>\n",
       "        <td style=\"padding-left: 1em; padding-right: 1em; text-align: center; vertical-align: top\">E:/COGNITIVE_SCIENCE/ARTI<br>FICIAL_INTELLIGENCE/R ...</td>\n",
       "        <td style=\"padding-left: 1em; padding-right: 1em; text-align: center; vertical-align: top\">Height: 23 Width: 25</td>\n",
       "        <td style=\"padding-left: 1em; padding-right: 1em; text-align: center; vertical-align: top\">24</td>\n",
       "    </tr>\n",
       "    <tr>\n",
       "        <td style=\"padding-left: 1em; padding-right: 1em; text-align: center; vertical-align: top\">E:/COGNITIVE_SCIENCE/ARTI<br>FICIAL_INTELLIGENCE/R ...</td>\n",
       "        <td style=\"padding-left: 1em; padding-right: 1em; text-align: center; vertical-align: top\">Height: 37 Width: 32</td>\n",
       "        <td style=\"padding-left: 1em; padding-right: 1em; text-align: center; vertical-align: top\">15</td>\n",
       "    </tr>\n",
       "    <tr>\n",
       "        <td style=\"padding-left: 1em; padding-right: 1em; text-align: center; vertical-align: top\">E:/COGNITIVE_SCIENCE/ARTI<br>FICIAL_INTELLIGENCE/R ...</td>\n",
       "        <td style=\"padding-left: 1em; padding-right: 1em; text-align: center; vertical-align: top\">Height: 84 Width: 84</td>\n",
       "        <td style=\"padding-left: 1em; padding-right: 1em; text-align: center; vertical-align: top\">9</td>\n",
       "    </tr>\n",
       "    <tr>\n",
       "        <td style=\"padding-left: 1em; padding-right: 1em; text-align: center; vertical-align: top\">E:/COGNITIVE_SCIENCE/ARTI<br>FICIAL_INTELLIGENCE/R ...</td>\n",
       "        <td style=\"padding-left: 1em; padding-right: 1em; text-align: center; vertical-align: top\">Height: 25 Width: 25</td>\n",
       "        <td style=\"padding-left: 1em; padding-right: 1em; text-align: center; vertical-align: top\">5</td>\n",
       "    </tr>\n",
       "    <tr>\n",
       "        <td style=\"padding-left: 1em; padding-right: 1em; text-align: center; vertical-align: top\">E:/COGNITIVE_SCIENCE/ARTI<br>FICIAL_INTELLIGENCE/R ...</td>\n",
       "        <td style=\"padding-left: 1em; padding-right: 1em; text-align: center; vertical-align: top\">Height: 23 Width: 20</td>\n",
       "        <td style=\"padding-left: 1em; padding-right: 1em; text-align: center; vertical-align: top\">38</td>\n",
       "    </tr>\n",
       "    <tr>\n",
       "        <td style=\"padding-left: 1em; padding-right: 1em; text-align: center; vertical-align: top\">E:/COGNITIVE_SCIENCE/ARTI<br>FICIAL_INTELLIGENCE/R ...</td>\n",
       "        <td style=\"padding-left: 1em; padding-right: 1em; text-align: center; vertical-align: top\">Height: 36 Width: 37</td>\n",
       "        <td style=\"padding-left: 1em; padding-right: 1em; text-align: center; vertical-align: top\">6</td>\n",
       "    </tr>\n",
       "    <tr>\n",
       "        <td style=\"padding-left: 1em; padding-right: 1em; text-align: center; vertical-align: top\">E:/COGNITIVE_SCIENCE/ARTI<br>FICIAL_INTELLIGENCE/R ...</td>\n",
       "        <td style=\"padding-left: 1em; padding-right: 1em; text-align: center; vertical-align: top\">Height: 32 Width: 32</td>\n",
       "        <td style=\"padding-left: 1em; padding-right: 1em; text-align: center; vertical-align: top\">10</td>\n",
       "    </tr>\n",
       "    <tr>\n",
       "        <td style=\"padding-left: 1em; padding-right: 1em; text-align: center; vertical-align: top\">E:/COGNITIVE_SCIENCE/ARTI<br>FICIAL_INTELLIGENCE/R ...</td>\n",
       "        <td style=\"padding-left: 1em; padding-right: 1em; text-align: center; vertical-align: top\">Height: 25 Width: 29</td>\n",
       "        <td style=\"padding-left: 1em; padding-right: 1em; text-align: center; vertical-align: top\">26</td>\n",
       "    </tr>\n",
       "</table>\n",
       "[39209 rows x 3 columns]<br/>Note: Only the head of the SFrame is printed.<br/>You can use print_rows(num_rows=m, num_columns=n) to print more rows and columns.\n",
       "</div>"
      ],
      "text/plain": [
       "Columns:\n",
       "\tpath\tstr\n",
       "\timage\tImage\n",
       "\tlabel\tint\n",
       "\n",
       "Rows: 39209\n",
       "\n",
       "Data:\n",
       "+-------------------------------+----------------------+-------+\n",
       "|              path             |        image         | label |\n",
       "+-------------------------------+----------------------+-------+\n",
       "| E:/COGNITIVE_SCIENCE/ARTIF... | Height: 15 Width: 15 |   18  |\n",
       "| E:/COGNITIVE_SCIENCE/ARTIF... | Height: 18 Width: 18 |   8   |\n",
       "| E:/COGNITIVE_SCIENCE/ARTIF... | Height: 23 Width: 25 |   24  |\n",
       "| E:/COGNITIVE_SCIENCE/ARTIF... | Height: 37 Width: 32 |   15  |\n",
       "| E:/COGNITIVE_SCIENCE/ARTIF... | Height: 84 Width: 84 |   9   |\n",
       "| E:/COGNITIVE_SCIENCE/ARTIF... | Height: 25 Width: 25 |   5   |\n",
       "| E:/COGNITIVE_SCIENCE/ARTIF... | Height: 23 Width: 20 |   38  |\n",
       "| E:/COGNITIVE_SCIENCE/ARTIF... | Height: 36 Width: 37 |   6   |\n",
       "| E:/COGNITIVE_SCIENCE/ARTIF... | Height: 32 Width: 32 |   10  |\n",
       "| E:/COGNITIVE_SCIENCE/ARTIF... | Height: 25 Width: 29 |   26  |\n",
       "+-------------------------------+----------------------+-------+\n",
       "[39209 rows x 3 columns]\n",
       "Note: Only the head of the SFrame is printed.\n",
       "You can use print_rows(num_rows=m, num_columns=n) to print more rows and columns."
      ]
     },
     "execution_count": 86,
     "metadata": {},
     "output_type": "execute_result"
    }
   ],
   "source": [
    "import graphlab as gl\n",
    "train_traffic_signs = gl.SFrame('train_sframe/') \n",
    "train_traffic_signs"
   ]
  },
  {
   "cell_type": "code",
   "execution_count": 87,
   "metadata": {
    "collapsed": false
   },
   "outputs": [],
   "source": [
    "train_traffic_signs['image'] = graphlab.image_analysis.resize(traffic_signs_train['image'], 28, 28, 1)"
   ]
  },
  {
   "cell_type": "code",
   "execution_count": 88,
   "metadata": {
    "collapsed": false
   },
   "outputs": [
    {
     "data": {
      "text/html": [
       "<div style=\"max-height:1000px;max-width:1500px;overflow:auto;\"><table frame=\"box\" rules=\"cols\">\n",
       "    <tr>\n",
       "        <th style=\"padding-left: 1em; padding-right: 1em; text-align: center\">path</th>\n",
       "        <th style=\"padding-left: 1em; padding-right: 1em; text-align: center\">image</th>\n",
       "        <th style=\"padding-left: 1em; padding-right: 1em; text-align: center\">label</th>\n",
       "    </tr>\n",
       "    <tr>\n",
       "        <td style=\"padding-left: 1em; padding-right: 1em; text-align: center; vertical-align: top\">E:/COGNITIVE_SCIENCE/ARTI<br>FICIAL_INTELLIGENCE/R ...</td>\n",
       "        <td style=\"padding-left: 1em; padding-right: 1em; text-align: center; vertical-align: top\">Height: 28 Width: 28</td>\n",
       "        <td style=\"padding-left: 1em; padding-right: 1em; text-align: center; vertical-align: top\">18</td>\n",
       "    </tr>\n",
       "    <tr>\n",
       "        <td style=\"padding-left: 1em; padding-right: 1em; text-align: center; vertical-align: top\">E:/COGNITIVE_SCIENCE/ARTI<br>FICIAL_INTELLIGENCE/R ...</td>\n",
       "        <td style=\"padding-left: 1em; padding-right: 1em; text-align: center; vertical-align: top\">Height: 28 Width: 28</td>\n",
       "        <td style=\"padding-left: 1em; padding-right: 1em; text-align: center; vertical-align: top\">8</td>\n",
       "    </tr>\n",
       "    <tr>\n",
       "        <td style=\"padding-left: 1em; padding-right: 1em; text-align: center; vertical-align: top\">E:/COGNITIVE_SCIENCE/ARTI<br>FICIAL_INTELLIGENCE/R ...</td>\n",
       "        <td style=\"padding-left: 1em; padding-right: 1em; text-align: center; vertical-align: top\">Height: 28 Width: 28</td>\n",
       "        <td style=\"padding-left: 1em; padding-right: 1em; text-align: center; vertical-align: top\">24</td>\n",
       "    </tr>\n",
       "    <tr>\n",
       "        <td style=\"padding-left: 1em; padding-right: 1em; text-align: center; vertical-align: top\">E:/COGNITIVE_SCIENCE/ARTI<br>FICIAL_INTELLIGENCE/R ...</td>\n",
       "        <td style=\"padding-left: 1em; padding-right: 1em; text-align: center; vertical-align: top\">Height: 28 Width: 28</td>\n",
       "        <td style=\"padding-left: 1em; padding-right: 1em; text-align: center; vertical-align: top\">15</td>\n",
       "    </tr>\n",
       "    <tr>\n",
       "        <td style=\"padding-left: 1em; padding-right: 1em; text-align: center; vertical-align: top\">E:/COGNITIVE_SCIENCE/ARTI<br>FICIAL_INTELLIGENCE/R ...</td>\n",
       "        <td style=\"padding-left: 1em; padding-right: 1em; text-align: center; vertical-align: top\">Height: 28 Width: 28</td>\n",
       "        <td style=\"padding-left: 1em; padding-right: 1em; text-align: center; vertical-align: top\">9</td>\n",
       "    </tr>\n",
       "    <tr>\n",
       "        <td style=\"padding-left: 1em; padding-right: 1em; text-align: center; vertical-align: top\">E:/COGNITIVE_SCIENCE/ARTI<br>FICIAL_INTELLIGENCE/R ...</td>\n",
       "        <td style=\"padding-left: 1em; padding-right: 1em; text-align: center; vertical-align: top\">Height: 28 Width: 28</td>\n",
       "        <td style=\"padding-left: 1em; padding-right: 1em; text-align: center; vertical-align: top\">5</td>\n",
       "    </tr>\n",
       "    <tr>\n",
       "        <td style=\"padding-left: 1em; padding-right: 1em; text-align: center; vertical-align: top\">E:/COGNITIVE_SCIENCE/ARTI<br>FICIAL_INTELLIGENCE/R ...</td>\n",
       "        <td style=\"padding-left: 1em; padding-right: 1em; text-align: center; vertical-align: top\">Height: 28 Width: 28</td>\n",
       "        <td style=\"padding-left: 1em; padding-right: 1em; text-align: center; vertical-align: top\">38</td>\n",
       "    </tr>\n",
       "    <tr>\n",
       "        <td style=\"padding-left: 1em; padding-right: 1em; text-align: center; vertical-align: top\">E:/COGNITIVE_SCIENCE/ARTI<br>FICIAL_INTELLIGENCE/R ...</td>\n",
       "        <td style=\"padding-left: 1em; padding-right: 1em; text-align: center; vertical-align: top\">Height: 28 Width: 28</td>\n",
       "        <td style=\"padding-left: 1em; padding-right: 1em; text-align: center; vertical-align: top\">6</td>\n",
       "    </tr>\n",
       "    <tr>\n",
       "        <td style=\"padding-left: 1em; padding-right: 1em; text-align: center; vertical-align: top\">E:/COGNITIVE_SCIENCE/ARTI<br>FICIAL_INTELLIGENCE/R ...</td>\n",
       "        <td style=\"padding-left: 1em; padding-right: 1em; text-align: center; vertical-align: top\">Height: 28 Width: 28</td>\n",
       "        <td style=\"padding-left: 1em; padding-right: 1em; text-align: center; vertical-align: top\">10</td>\n",
       "    </tr>\n",
       "    <tr>\n",
       "        <td style=\"padding-left: 1em; padding-right: 1em; text-align: center; vertical-align: top\">E:/COGNITIVE_SCIENCE/ARTI<br>FICIAL_INTELLIGENCE/R ...</td>\n",
       "        <td style=\"padding-left: 1em; padding-right: 1em; text-align: center; vertical-align: top\">Height: 28 Width: 28</td>\n",
       "        <td style=\"padding-left: 1em; padding-right: 1em; text-align: center; vertical-align: top\">26</td>\n",
       "    </tr>\n",
       "</table>\n",
       "[39209 rows x 3 columns]<br/>Note: Only the head of the SFrame is printed.<br/>You can use print_rows(num_rows=m, num_columns=n) to print more rows and columns.\n",
       "</div>"
      ],
      "text/plain": [
       "Columns:\n",
       "\tpath\tstr\n",
       "\timage\tImage\n",
       "\tlabel\tint\n",
       "\n",
       "Rows: 39209\n",
       "\n",
       "Data:\n",
       "+-------------------------------+----------------------+-------+\n",
       "|              path             |        image         | label |\n",
       "+-------------------------------+----------------------+-------+\n",
       "| E:/COGNITIVE_SCIENCE/ARTIF... | Height: 28 Width: 28 |   18  |\n",
       "| E:/COGNITIVE_SCIENCE/ARTIF... | Height: 28 Width: 28 |   8   |\n",
       "| E:/COGNITIVE_SCIENCE/ARTIF... | Height: 28 Width: 28 |   24  |\n",
       "| E:/COGNITIVE_SCIENCE/ARTIF... | Height: 28 Width: 28 |   15  |\n",
       "| E:/COGNITIVE_SCIENCE/ARTIF... | Height: 28 Width: 28 |   9   |\n",
       "| E:/COGNITIVE_SCIENCE/ARTIF... | Height: 28 Width: 28 |   5   |\n",
       "| E:/COGNITIVE_SCIENCE/ARTIF... | Height: 28 Width: 28 |   38  |\n",
       "| E:/COGNITIVE_SCIENCE/ARTIF... | Height: 28 Width: 28 |   6   |\n",
       "| E:/COGNITIVE_SCIENCE/ARTIF... | Height: 28 Width: 28 |   10  |\n",
       "| E:/COGNITIVE_SCIENCE/ARTIF... | Height: 28 Width: 28 |   26  |\n",
       "+-------------------------------+----------------------+-------+\n",
       "[39209 rows x 3 columns]\n",
       "Note: Only the head of the SFrame is printed.\n",
       "You can use print_rows(num_rows=m, num_columns=n) to print more rows and columns."
      ]
     },
     "execution_count": 88,
     "metadata": {},
     "output_type": "execute_result"
    }
   ],
   "source": [
    "train_traffic_signs"
   ]
  },
  {
   "cell_type": "code",
   "execution_count": 90,
   "metadata": {
    "collapsed": false
   },
   "outputs": [
    {
     "name": "stderr",
     "output_type": "stream",
     "text": [
      "[INFO] graphlab.mxnet.model: Start training with [cpu(0)]\n",
      "INFO:graphlab.mxnet.model:Start training with [cpu(0)]\n",
      "[INFO] graphlab.mxnet.model: Epoch[0] Resetting Data Iterator\n",
      "INFO:graphlab.mxnet.model:Epoch[0] Resetting Data Iterator\n",
      "[INFO] graphlab.mxnet.model: Epoch[0] Train-accuracy=0.032316\n",
      "INFO:graphlab.mxnet.model:Epoch[0] Train-accuracy=0.032316\n",
      "[INFO] graphlab.mxnet.model: Epoch[0] Time cost=223.429\n",
      "INFO:graphlab.mxnet.model:Epoch[0] Time cost=223.429\n",
      "[INFO] graphlab.mxnet.model: Epoch[1] Resetting Data Iterator\n",
      "INFO:graphlab.mxnet.model:Epoch[1] Resetting Data Iterator\n",
      "[INFO] graphlab.mxnet.model: Epoch[1] Train-accuracy=0.005344\n",
      "INFO:graphlab.mxnet.model:Epoch[1] Train-accuracy=0.005344\n",
      "[INFO] graphlab.mxnet.model: Epoch[1] Time cost=225.091\n",
      "INFO:graphlab.mxnet.model:Epoch[1] Time cost=225.091\n",
      "[INFO] graphlab.mxnet.model: Epoch[2] Resetting Data Iterator\n",
      "INFO:graphlab.mxnet.model:Epoch[2] Resetting Data Iterator\n",
      "[INFO] graphlab.mxnet.model: Epoch[2] Train-accuracy=0.005344\n",
      "INFO:graphlab.mxnet.model:Epoch[2] Train-accuracy=0.005344\n",
      "[INFO] graphlab.mxnet.model: Epoch[2] Time cost=214.820\n",
      "INFO:graphlab.mxnet.model:Epoch[2] Time cost=214.820\n"
     ]
    }
   ],
   "source": [
    "# Prepare the input iterator from SFrame\n",
    "# `data_name` must match the first layer's name of the network.\n",
    "# `label_name` must match the last layer's name plus \"_label\".\n",
    "train_ts = mx.io.SFrameImageIter(train_traffic_signs, data_field=['image'],\n",
    "                            label_field='label',\n",
    "                            data_name='data',\n",
    "                            label_name='sm_label', batch_size=batch_size)\n",
    "# Train the network\n",
    "lenet = mx.model.FeedForward.create(softmax, X=train_ts,\n",
    "                                    num_epoch=3,\n",
    "                                    learning_rate=0.1, wd=0.0001,\n",
    "                                    momentum=0.9,\n",
    "                                    eval_metric=mx.metric.Accuracy())"
   ]
  },
  {
   "cell_type": "code",
   "execution_count": null,
   "metadata": {
    "collapsed": true
   },
   "outputs": [],
   "source": []
  }
 ],
 "metadata": {
  "kernelspec": {
   "display_name": "Python 2",
   "language": "python",
   "name": "python2"
  },
  "language_info": {
   "codemirror_mode": {
    "name": "ipython",
    "version": 2
   },
   "file_extension": ".py",
   "mimetype": "text/x-python",
   "name": "python",
   "nbconvert_exporter": "python",
   "pygments_lexer": "ipython2",
   "version": "2.7.10"
  }
 },
 "nbformat": 4,
 "nbformat_minor": 0
}
