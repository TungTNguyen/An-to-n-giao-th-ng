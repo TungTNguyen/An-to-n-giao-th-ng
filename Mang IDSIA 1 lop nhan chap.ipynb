{
 "cells": [
  {
   "cell_type": "code",
   "execution_count": 1,
   "metadata": {
    "collapsed": false
   },
   "outputs": [
    {
     "name": "stdout",
     "output_type": "stream",
     "text": [
      "This non-commercial license of GraphLab Create for academic use is assigned to keira1412@gmail.com and will expire on October 05, 2017.\n"
     ]
    },
    {
     "name": "stderr",
     "output_type": "stream",
     "text": [
      "[INFO] graphlab.cython.cy_server: GraphLab Create v2.1 started. Logging: /tmp/graphlab_server_1479373711.log\n"
     ]
    },
    {
     "data": {
      "text/html": [
       "<div style=\"max-height:1000px;max-width:1500px;overflow:auto;\"><table frame=\"box\" rules=\"cols\">\n",
       "    <tr>\n",
       "        <th style=\"padding-left: 1em; padding-right: 1em; text-align: center\">path</th>\n",
       "        <th style=\"padding-left: 1em; padding-right: 1em; text-align: center\">image</th>\n",
       "        <th style=\"padding-left: 1em; padding-right: 1em; text-align: center\">label</th>\n",
       "    </tr>\n",
       "    <tr>\n",
       "        <td style=\"padding-left: 1em; padding-right: 1em; text-align: center; vertical-align: top\">E:/COGNITIVE_SCIENCE/ARTI<br>FICIAL_INTELLIGENCE/R ...</td>\n",
       "        <td style=\"padding-left: 1em; padding-right: 1em; text-align: center; vertical-align: top\">Height: 48 Width: 48</td>\n",
       "        <td style=\"padding-left: 1em; padding-right: 1em; text-align: center; vertical-align: top\">18</td>\n",
       "    </tr>\n",
       "    <tr>\n",
       "        <td style=\"padding-left: 1em; padding-right: 1em; text-align: center; vertical-align: top\">E:/COGNITIVE_SCIENCE/ARTI<br>FICIAL_INTELLIGENCE/R ...</td>\n",
       "        <td style=\"padding-left: 1em; padding-right: 1em; text-align: center; vertical-align: top\">Height: 48 Width: 48</td>\n",
       "        <td style=\"padding-left: 1em; padding-right: 1em; text-align: center; vertical-align: top\">8</td>\n",
       "    </tr>\n",
       "    <tr>\n",
       "        <td style=\"padding-left: 1em; padding-right: 1em; text-align: center; vertical-align: top\">E:/COGNITIVE_SCIENCE/ARTI<br>FICIAL_INTELLIGENCE/R ...</td>\n",
       "        <td style=\"padding-left: 1em; padding-right: 1em; text-align: center; vertical-align: top\">Height: 48 Width: 48</td>\n",
       "        <td style=\"padding-left: 1em; padding-right: 1em; text-align: center; vertical-align: top\">24</td>\n",
       "    </tr>\n",
       "    <tr>\n",
       "        <td style=\"padding-left: 1em; padding-right: 1em; text-align: center; vertical-align: top\">E:/COGNITIVE_SCIENCE/ARTI<br>FICIAL_INTELLIGENCE/R ...</td>\n",
       "        <td style=\"padding-left: 1em; padding-right: 1em; text-align: center; vertical-align: top\">Height: 48 Width: 48</td>\n",
       "        <td style=\"padding-left: 1em; padding-right: 1em; text-align: center; vertical-align: top\">15</td>\n",
       "    </tr>\n",
       "    <tr>\n",
       "        <td style=\"padding-left: 1em; padding-right: 1em; text-align: center; vertical-align: top\">E:/COGNITIVE_SCIENCE/ARTI<br>FICIAL_INTELLIGENCE/R ...</td>\n",
       "        <td style=\"padding-left: 1em; padding-right: 1em; text-align: center; vertical-align: top\">Height: 48 Width: 48</td>\n",
       "        <td style=\"padding-left: 1em; padding-right: 1em; text-align: center; vertical-align: top\">9</td>\n",
       "    </tr>\n",
       "    <tr>\n",
       "        <td style=\"padding-left: 1em; padding-right: 1em; text-align: center; vertical-align: top\">E:/COGNITIVE_SCIENCE/ARTI<br>FICIAL_INTELLIGENCE/R ...</td>\n",
       "        <td style=\"padding-left: 1em; padding-right: 1em; text-align: center; vertical-align: top\">Height: 48 Width: 48</td>\n",
       "        <td style=\"padding-left: 1em; padding-right: 1em; text-align: center; vertical-align: top\">5</td>\n",
       "    </tr>\n",
       "    <tr>\n",
       "        <td style=\"padding-left: 1em; padding-right: 1em; text-align: center; vertical-align: top\">E:/COGNITIVE_SCIENCE/ARTI<br>FICIAL_INTELLIGENCE/R ...</td>\n",
       "        <td style=\"padding-left: 1em; padding-right: 1em; text-align: center; vertical-align: top\">Height: 48 Width: 48</td>\n",
       "        <td style=\"padding-left: 1em; padding-right: 1em; text-align: center; vertical-align: top\">38</td>\n",
       "    </tr>\n",
       "    <tr>\n",
       "        <td style=\"padding-left: 1em; padding-right: 1em; text-align: center; vertical-align: top\">E:/COGNITIVE_SCIENCE/ARTI<br>FICIAL_INTELLIGENCE/R ...</td>\n",
       "        <td style=\"padding-left: 1em; padding-right: 1em; text-align: center; vertical-align: top\">Height: 48 Width: 48</td>\n",
       "        <td style=\"padding-left: 1em; padding-right: 1em; text-align: center; vertical-align: top\">6</td>\n",
       "    </tr>\n",
       "    <tr>\n",
       "        <td style=\"padding-left: 1em; padding-right: 1em; text-align: center; vertical-align: top\">E:/COGNITIVE_SCIENCE/ARTI<br>FICIAL_INTELLIGENCE/R ...</td>\n",
       "        <td style=\"padding-left: 1em; padding-right: 1em; text-align: center; vertical-align: top\">Height: 48 Width: 48</td>\n",
       "        <td style=\"padding-left: 1em; padding-right: 1em; text-align: center; vertical-align: top\">10</td>\n",
       "    </tr>\n",
       "    <tr>\n",
       "        <td style=\"padding-left: 1em; padding-right: 1em; text-align: center; vertical-align: top\">E:/COGNITIVE_SCIENCE/ARTI<br>FICIAL_INTELLIGENCE/R ...</td>\n",
       "        <td style=\"padding-left: 1em; padding-right: 1em; text-align: center; vertical-align: top\">Height: 48 Width: 48</td>\n",
       "        <td style=\"padding-left: 1em; padding-right: 1em; text-align: center; vertical-align: top\">26</td>\n",
       "    </tr>\n",
       "</table>\n",
       "[39209 rows x 3 columns]<br/>Note: Only the head of the SFrame is printed.<br/>You can use print_rows(num_rows=m, num_columns=n) to print more rows and columns.\n",
       "</div>"
      ],
      "text/plain": [
       "Columns:\n",
       "\tpath\tstr\n",
       "\timage\tImage\n",
       "\tlabel\tint\n",
       "\n",
       "Rows: 39209\n",
       "\n",
       "Data:\n",
       "+-------------------------------+----------------------+-------+\n",
       "|              path             |        image         | label |\n",
       "+-------------------------------+----------------------+-------+\n",
       "| E:/COGNITIVE_SCIENCE/ARTIF... | Height: 48 Width: 48 |   18  |\n",
       "| E:/COGNITIVE_SCIENCE/ARTIF... | Height: 48 Width: 48 |   8   |\n",
       "| E:/COGNITIVE_SCIENCE/ARTIF... | Height: 48 Width: 48 |   24  |\n",
       "| E:/COGNITIVE_SCIENCE/ARTIF... | Height: 48 Width: 48 |   15  |\n",
       "| E:/COGNITIVE_SCIENCE/ARTIF... | Height: 48 Width: 48 |   9   |\n",
       "| E:/COGNITIVE_SCIENCE/ARTIF... | Height: 48 Width: 48 |   5   |\n",
       "| E:/COGNITIVE_SCIENCE/ARTIF... | Height: 48 Width: 48 |   38  |\n",
       "| E:/COGNITIVE_SCIENCE/ARTIF... | Height: 48 Width: 48 |   6   |\n",
       "| E:/COGNITIVE_SCIENCE/ARTIF... | Height: 48 Width: 48 |   10  |\n",
       "| E:/COGNITIVE_SCIENCE/ARTIF... | Height: 48 Width: 48 |   26  |\n",
       "+-------------------------------+----------------------+-------+\n",
       "[39209 rows x 3 columns]\n",
       "Note: Only the head of the SFrame is printed.\n",
       "You can use print_rows(num_rows=m, num_columns=n) to print more rows and columns."
      ]
     },
     "execution_count": 1,
     "metadata": {},
     "output_type": "execute_result"
    }
   ],
   "source": [
    "import graphlab as gl\n",
    "train_signs = gl.SFrame('train_sframe/')\n",
    "train_signs['image'] = gl.image_analysis.resize(train_signs['image'], 48,48, channels = 3)\n",
    "#28 cho Lenet, 48 cho Idsia-net. \n",
    "#3 kenh mau thi nhieu thong tin hon.\n",
    "train_signs"
   ]
  },
  {
   "cell_type": "code",
   "execution_count": 2,
   "metadata": {
    "collapsed": false
   },
   "outputs": [
    {
     "data": {
      "text/plain": [
       "\n",
       "### network layers ###\n",
       "layer[0]: ConvolutionLayer\n",
       "  init_random = gaussian\n",
       "  padding = 0\n",
       "  stride = 2\n",
       "  num_channels = 10\n",
       "  num_groups = 1\n",
       "  kernel_size = 3\n",
       "layer[1]: MaxPoolingLayer\n",
       "  padding = 0\n",
       "  stride = 2\n",
       "  kernel_size = 3\n",
       "layer[2]: FlattenLayer\n",
       "layer[3]: FullConnectionLayer\n",
       "  init_sigma = 0.01\n",
       "  init_random = gaussian\n",
       "  init_bias = 0\n",
       "  num_hidden_units = 100\n",
       "layer[4]: RectifiedLinearLayer\n",
       "layer[5]: DropoutLayer\n",
       "  threshold = 0.5\n",
       "layer[6]: FullConnectionLayer\n",
       "  init_sigma = 0.01\n",
       "  init_random = gaussian\n",
       "  init_bias = 0\n",
       "  num_hidden_units = 43\n",
       "layer[7]: SoftmaxLayer\n",
       "### end network layers ###\n",
       "\n",
       "### network parameters ###\n",
       "learning_rate = 0.001\n",
       "momentum = 0.9\n",
       "### end network parameters ###"
      ]
     },
     "execution_count": 2,
     "metadata": {},
     "output_type": "execute_result"
    }
   ],
   "source": [
    "dato_net = gl.deeplearning.create(train_signs, target='label')\n",
    "dato_net"
   ]
  },
  {
   "cell_type": "code",
   "execution_count": 3,
   "metadata": {
    "collapsed": false
   },
   "outputs": [
    {
     "data": {
      "text/plain": [
       "\n",
       "### network layers ###\n",
       "layer[0]: ConvolutionLayer\n",
       "  init_random = gaussian\n",
       "  padding = 0\n",
       "  stride = 1\n",
       "  num_channels = 100\n",
       "  num_groups = 1\n",
       "  kernel_size = 3\n",
       "layer[1]: MaxPoolingLayer\n",
       "  padding = 0\n",
       "  stride = 2\n",
       "  kernel_size = 2\n",
       "layer[2]: FlattenLayer\n",
       "layer[3]: FullConnectionLayer\n",
       "  init_sigma = 0.01\n",
       "  init_random = gaussian\n",
       "  init_bias = 0\n",
       "  num_hidden_units = 200\n",
       "layer[4]: RectifiedLinearLayer\n",
       "layer[5]: DropoutLayer\n",
       "  threshold = 0.5\n",
       "layer[6]: FullConnectionLayer\n",
       "  init_sigma = 0.01\n",
       "  init_random = gaussian\n",
       "  init_bias = 0\n",
       "  num_hidden_units = 43\n",
       "layer[7]: SoftmaxLayer\n",
       "### end network layers ###\n",
       "\n",
       "### network parameters ###\n",
       "learning_rate = 0.001\n",
       "momentum = 0.9\n",
       "### end network parameters ###"
      ]
     },
     "execution_count": 3,
     "metadata": {},
     "output_type": "execute_result"
    }
   ],
   "source": [
    "dato_net.layers[0].num_channels=100\n",
    "dato_net.layers[0].kernel_size= 3\n",
    "dato_net.layers[0].stride= 1\n",
    "\n",
    "dato_net.layers[1].kernel_size= 2\n",
    "dato_net.layers[1].stride= 2\n",
    "\n",
    "dato_net.layers[3].num_hidden_units=200\n",
    "#dato_net.layers[1].kernel_size=2\n",
    "# dato_net.layers[2] = \n",
    "dato_net"
   ]
  },
  {
   "cell_type": "code",
   "execution_count": 4,
   "metadata": {
    "collapsed": false
   },
   "outputs": [
    {
     "data": {
      "text/plain": [
       "\n",
       "### network layers ###\n",
       "layer[0]: ConvolutionLayer\n",
       "  init_random = gaussian\n",
       "  padding = 0\n",
       "  stride = 1\n",
       "  num_channels = 100\n",
       "  num_groups = 1\n",
       "  kernel_size = 3\n",
       "layer[1]: MaxPoolingLayer\n",
       "  padding = 0\n",
       "  stride = 2\n",
       "  kernel_size = 2\n",
       "layer[2]: FlattenLayer\n",
       "layer[3]: FullConnectionLayer\n",
       "  init_sigma = 0.01\n",
       "  init_random = gaussian\n",
       "  init_bias = 0\n",
       "  num_hidden_units = 200\n",
       "layer[4]: RectifiedLinearLayer\n",
       "layer[5]: DropoutLayer\n",
       "  threshold = 0.5\n",
       "layer[6]: FullConnectionLayer\n",
       "  init_sigma = 0.01\n",
       "  init_random = gaussian\n",
       "  init_bias = 0\n",
       "  num_hidden_units = 43\n",
       "layer[7]: SoftmaxLayer\n",
       "### end network layers ###\n",
       "\n",
       "### network parameters ###\n",
       "learning_rate = 0.001\n",
       "momentum = 0.9\n",
       "### end network parameters ###"
      ]
     },
     "execution_count": 4,
     "metadata": {},
     "output_type": "execute_result"
    }
   ],
   "source": [
    "dato_net"
   ]
  },
  {
   "cell_type": "code",
   "execution_count": 9,
   "metadata": {
    "collapsed": false
   },
   "outputs": [
    {
     "data": {
      "text/plain": [
       "0.32211992144660667"
      ]
     },
     "execution_count": 9,
     "metadata": {},
     "output_type": "execute_result"
    }
   ],
   "source": [
    "12630./39209"
   ]
  },
  {
   "cell_type": "code",
   "execution_count": 5,
   "metadata": {
    "collapsed": true
   },
   "outputs": [],
   "source": [
    "valid_signs, train_signs = train_signs.random_split(.3)"
   ]
  },
  {
   "cell_type": "code",
   "execution_count": 6,
   "metadata": {
    "collapsed": false
   },
   "outputs": [
    {
     "data": {
      "text/html": [
       "<div style=\"max-height:1000px;max-width:1500px;overflow:auto;\"><table frame=\"box\" rules=\"cols\">\n",
       "    <tr>\n",
       "        <th style=\"padding-left: 1em; padding-right: 1em; text-align: center\">path</th>\n",
       "        <th style=\"padding-left: 1em; padding-right: 1em; text-align: center\">image</th>\n",
       "        <th style=\"padding-left: 1em; padding-right: 1em; text-align: center\">label</th>\n",
       "    </tr>\n",
       "    <tr>\n",
       "        <td style=\"padding-left: 1em; padding-right: 1em; text-align: center; vertical-align: top\">E:/COGNITIVE_SCIENCE/ARTI<br>FICIAL_INTELLIGENCE/R ...</td>\n",
       "        <td style=\"padding-left: 1em; padding-right: 1em; text-align: center; vertical-align: top\">Height: 48 Width: 48</td>\n",
       "        <td style=\"padding-left: 1em; padding-right: 1em; text-align: center; vertical-align: top\">18</td>\n",
       "    </tr>\n",
       "    <tr>\n",
       "        <td style=\"padding-left: 1em; padding-right: 1em; text-align: center; vertical-align: top\">E:/COGNITIVE_SCIENCE/ARTI<br>FICIAL_INTELLIGENCE/R ...</td>\n",
       "        <td style=\"padding-left: 1em; padding-right: 1em; text-align: center; vertical-align: top\">Height: 48 Width: 48</td>\n",
       "        <td style=\"padding-left: 1em; padding-right: 1em; text-align: center; vertical-align: top\">24</td>\n",
       "    </tr>\n",
       "    <tr>\n",
       "        <td style=\"padding-left: 1em; padding-right: 1em; text-align: center; vertical-align: top\">E:/COGNITIVE_SCIENCE/ARTI<br>FICIAL_INTELLIGENCE/R ...</td>\n",
       "        <td style=\"padding-left: 1em; padding-right: 1em; text-align: center; vertical-align: top\">Height: 48 Width: 48</td>\n",
       "        <td style=\"padding-left: 1em; padding-right: 1em; text-align: center; vertical-align: top\">25</td>\n",
       "    </tr>\n",
       "    <tr>\n",
       "        <td style=\"padding-left: 1em; padding-right: 1em; text-align: center; vertical-align: top\">E:/COGNITIVE_SCIENCE/ARTI<br>FICIAL_INTELLIGENCE/R ...</td>\n",
       "        <td style=\"padding-left: 1em; padding-right: 1em; text-align: center; vertical-align: top\">Height: 48 Width: 48</td>\n",
       "        <td style=\"padding-left: 1em; padding-right: 1em; text-align: center; vertical-align: top\">37</td>\n",
       "    </tr>\n",
       "    <tr>\n",
       "        <td style=\"padding-left: 1em; padding-right: 1em; text-align: center; vertical-align: top\">E:/COGNITIVE_SCIENCE/ARTI<br>FICIAL_INTELLIGENCE/R ...</td>\n",
       "        <td style=\"padding-left: 1em; padding-right: 1em; text-align: center; vertical-align: top\">Height: 48 Width: 48</td>\n",
       "        <td style=\"padding-left: 1em; padding-right: 1em; text-align: center; vertical-align: top\">12</td>\n",
       "    </tr>\n",
       "    <tr>\n",
       "        <td style=\"padding-left: 1em; padding-right: 1em; text-align: center; vertical-align: top\">E:/COGNITIVE_SCIENCE/ARTI<br>FICIAL_INTELLIGENCE/R ...</td>\n",
       "        <td style=\"padding-left: 1em; padding-right: 1em; text-align: center; vertical-align: top\">Height: 48 Width: 48</td>\n",
       "        <td style=\"padding-left: 1em; padding-right: 1em; text-align: center; vertical-align: top\">25</td>\n",
       "    </tr>\n",
       "    <tr>\n",
       "        <td style=\"padding-left: 1em; padding-right: 1em; text-align: center; vertical-align: top\">E:/COGNITIVE_SCIENCE/ARTI<br>FICIAL_INTELLIGENCE/R ...</td>\n",
       "        <td style=\"padding-left: 1em; padding-right: 1em; text-align: center; vertical-align: top\">Height: 48 Width: 48</td>\n",
       "        <td style=\"padding-left: 1em; padding-right: 1em; text-align: center; vertical-align: top\">24</td>\n",
       "    </tr>\n",
       "    <tr>\n",
       "        <td style=\"padding-left: 1em; padding-right: 1em; text-align: center; vertical-align: top\">E:/COGNITIVE_SCIENCE/ARTI<br>FICIAL_INTELLIGENCE/R ...</td>\n",
       "        <td style=\"padding-left: 1em; padding-right: 1em; text-align: center; vertical-align: top\">Height: 48 Width: 48</td>\n",
       "        <td style=\"padding-left: 1em; padding-right: 1em; text-align: center; vertical-align: top\">12</td>\n",
       "    </tr>\n",
       "    <tr>\n",
       "        <td style=\"padding-left: 1em; padding-right: 1em; text-align: center; vertical-align: top\">E:/COGNITIVE_SCIENCE/ARTI<br>FICIAL_INTELLIGENCE/R ...</td>\n",
       "        <td style=\"padding-left: 1em; padding-right: 1em; text-align: center; vertical-align: top\">Height: 48 Width: 48</td>\n",
       "        <td style=\"padding-left: 1em; padding-right: 1em; text-align: center; vertical-align: top\">29</td>\n",
       "    </tr>\n",
       "    <tr>\n",
       "        <td style=\"padding-left: 1em; padding-right: 1em; text-align: center; vertical-align: top\">E:/COGNITIVE_SCIENCE/ARTI<br>FICIAL_INTELLIGENCE/R ...</td>\n",
       "        <td style=\"padding-left: 1em; padding-right: 1em; text-align: center; vertical-align: top\">Height: 48 Width: 48</td>\n",
       "        <td style=\"padding-left: 1em; padding-right: 1em; text-align: center; vertical-align: top\">13</td>\n",
       "    </tr>\n",
       "</table>\n",
       "[11700 rows x 3 columns]<br/>Note: Only the head of the SFrame is printed.<br/>You can use print_rows(num_rows=m, num_columns=n) to print more rows and columns.\n",
       "</div>"
      ],
      "text/plain": [
       "Columns:\n",
       "\tpath\tstr\n",
       "\timage\tImage\n",
       "\tlabel\tint\n",
       "\n",
       "Rows: 11700\n",
       "\n",
       "Data:\n",
       "+-------------------------------+----------------------+-------+\n",
       "|              path             |        image         | label |\n",
       "+-------------------------------+----------------------+-------+\n",
       "| E:/COGNITIVE_SCIENCE/ARTIF... | Height: 48 Width: 48 |   18  |\n",
       "| E:/COGNITIVE_SCIENCE/ARTIF... | Height: 48 Width: 48 |   24  |\n",
       "| E:/COGNITIVE_SCIENCE/ARTIF... | Height: 48 Width: 48 |   25  |\n",
       "| E:/COGNITIVE_SCIENCE/ARTIF... | Height: 48 Width: 48 |   37  |\n",
       "| E:/COGNITIVE_SCIENCE/ARTIF... | Height: 48 Width: 48 |   12  |\n",
       "| E:/COGNITIVE_SCIENCE/ARTIF... | Height: 48 Width: 48 |   25  |\n",
       "| E:/COGNITIVE_SCIENCE/ARTIF... | Height: 48 Width: 48 |   24  |\n",
       "| E:/COGNITIVE_SCIENCE/ARTIF... | Height: 48 Width: 48 |   12  |\n",
       "| E:/COGNITIVE_SCIENCE/ARTIF... | Height: 48 Width: 48 |   29  |\n",
       "| E:/COGNITIVE_SCIENCE/ARTIF... | Height: 48 Width: 48 |   13  |\n",
       "+-------------------------------+----------------------+-------+\n",
       "[11700 rows x 3 columns]\n",
       "Note: Only the head of the SFrame is printed.\n",
       "You can use print_rows(num_rows=m, num_columns=n) to print more rows and columns."
      ]
     },
     "execution_count": 6,
     "metadata": {},
     "output_type": "execute_result"
    }
   ],
   "source": [
    "valid_signs"
   ]
  },
  {
   "cell_type": "code",
   "execution_count": 7,
   "metadata": {
    "collapsed": false
   },
   "outputs": [
    {
     "data": {
      "text/html": [
       "<div style=\"max-height:1000px;max-width:1500px;overflow:auto;\"><table frame=\"box\" rules=\"cols\">\n",
       "    <tr>\n",
       "        <th style=\"padding-left: 1em; padding-right: 1em; text-align: center\">path</th>\n",
       "        <th style=\"padding-left: 1em; padding-right: 1em; text-align: center\">image</th>\n",
       "        <th style=\"padding-left: 1em; padding-right: 1em; text-align: center\">label</th>\n",
       "    </tr>\n",
       "    <tr>\n",
       "        <td style=\"padding-left: 1em; padding-right: 1em; text-align: center; vertical-align: top\">E:/COGNITIVE_SCIENCE/ARTI<br>FICIAL_INTELLIGENCE/R ...</td>\n",
       "        <td style=\"padding-left: 1em; padding-right: 1em; text-align: center; vertical-align: top\">Height: 48 Width: 48</td>\n",
       "        <td style=\"padding-left: 1em; padding-right: 1em; text-align: center; vertical-align: top\">8</td>\n",
       "    </tr>\n",
       "    <tr>\n",
       "        <td style=\"padding-left: 1em; padding-right: 1em; text-align: center; vertical-align: top\">E:/COGNITIVE_SCIENCE/ARTI<br>FICIAL_INTELLIGENCE/R ...</td>\n",
       "        <td style=\"padding-left: 1em; padding-right: 1em; text-align: center; vertical-align: top\">Height: 48 Width: 48</td>\n",
       "        <td style=\"padding-left: 1em; padding-right: 1em; text-align: center; vertical-align: top\">15</td>\n",
       "    </tr>\n",
       "    <tr>\n",
       "        <td style=\"padding-left: 1em; padding-right: 1em; text-align: center; vertical-align: top\">E:/COGNITIVE_SCIENCE/ARTI<br>FICIAL_INTELLIGENCE/R ...</td>\n",
       "        <td style=\"padding-left: 1em; padding-right: 1em; text-align: center; vertical-align: top\">Height: 48 Width: 48</td>\n",
       "        <td style=\"padding-left: 1em; padding-right: 1em; text-align: center; vertical-align: top\">9</td>\n",
       "    </tr>\n",
       "    <tr>\n",
       "        <td style=\"padding-left: 1em; padding-right: 1em; text-align: center; vertical-align: top\">E:/COGNITIVE_SCIENCE/ARTI<br>FICIAL_INTELLIGENCE/R ...</td>\n",
       "        <td style=\"padding-left: 1em; padding-right: 1em; text-align: center; vertical-align: top\">Height: 48 Width: 48</td>\n",
       "        <td style=\"padding-left: 1em; padding-right: 1em; text-align: center; vertical-align: top\">5</td>\n",
       "    </tr>\n",
       "    <tr>\n",
       "        <td style=\"padding-left: 1em; padding-right: 1em; text-align: center; vertical-align: top\">E:/COGNITIVE_SCIENCE/ARTI<br>FICIAL_INTELLIGENCE/R ...</td>\n",
       "        <td style=\"padding-left: 1em; padding-right: 1em; text-align: center; vertical-align: top\">Height: 48 Width: 48</td>\n",
       "        <td style=\"padding-left: 1em; padding-right: 1em; text-align: center; vertical-align: top\">38</td>\n",
       "    </tr>\n",
       "    <tr>\n",
       "        <td style=\"padding-left: 1em; padding-right: 1em; text-align: center; vertical-align: top\">E:/COGNITIVE_SCIENCE/ARTI<br>FICIAL_INTELLIGENCE/R ...</td>\n",
       "        <td style=\"padding-left: 1em; padding-right: 1em; text-align: center; vertical-align: top\">Height: 48 Width: 48</td>\n",
       "        <td style=\"padding-left: 1em; padding-right: 1em; text-align: center; vertical-align: top\">6</td>\n",
       "    </tr>\n",
       "    <tr>\n",
       "        <td style=\"padding-left: 1em; padding-right: 1em; text-align: center; vertical-align: top\">E:/COGNITIVE_SCIENCE/ARTI<br>FICIAL_INTELLIGENCE/R ...</td>\n",
       "        <td style=\"padding-left: 1em; padding-right: 1em; text-align: center; vertical-align: top\">Height: 48 Width: 48</td>\n",
       "        <td style=\"padding-left: 1em; padding-right: 1em; text-align: center; vertical-align: top\">10</td>\n",
       "    </tr>\n",
       "    <tr>\n",
       "        <td style=\"padding-left: 1em; padding-right: 1em; text-align: center; vertical-align: top\">E:/COGNITIVE_SCIENCE/ARTI<br>FICIAL_INTELLIGENCE/R ...</td>\n",
       "        <td style=\"padding-left: 1em; padding-right: 1em; text-align: center; vertical-align: top\">Height: 48 Width: 48</td>\n",
       "        <td style=\"padding-left: 1em; padding-right: 1em; text-align: center; vertical-align: top\">26</td>\n",
       "    </tr>\n",
       "    <tr>\n",
       "        <td style=\"padding-left: 1em; padding-right: 1em; text-align: center; vertical-align: top\">E:/COGNITIVE_SCIENCE/ARTI<br>FICIAL_INTELLIGENCE/R ...</td>\n",
       "        <td style=\"padding-left: 1em; padding-right: 1em; text-align: center; vertical-align: top\">Height: 48 Width: 48</td>\n",
       "        <td style=\"padding-left: 1em; padding-right: 1em; text-align: center; vertical-align: top\">18</td>\n",
       "    </tr>\n",
       "    <tr>\n",
       "        <td style=\"padding-left: 1em; padding-right: 1em; text-align: center; vertical-align: top\">E:/COGNITIVE_SCIENCE/ARTI<br>FICIAL_INTELLIGENCE/R ...</td>\n",
       "        <td style=\"padding-left: 1em; padding-right: 1em; text-align: center; vertical-align: top\">Height: 48 Width: 48</td>\n",
       "        <td style=\"padding-left: 1em; padding-right: 1em; text-align: center; vertical-align: top\">4</td>\n",
       "    </tr>\n",
       "</table>\n",
       "[27509 rows x 3 columns]<br/>Note: Only the head of the SFrame is printed.<br/>You can use print_rows(num_rows=m, num_columns=n) to print more rows and columns.\n",
       "</div>"
      ],
      "text/plain": [
       "Columns:\n",
       "\tpath\tstr\n",
       "\timage\tImage\n",
       "\tlabel\tint\n",
       "\n",
       "Rows: 27509\n",
       "\n",
       "Data:\n",
       "+-------------------------------+----------------------+-------+\n",
       "|              path             |        image         | label |\n",
       "+-------------------------------+----------------------+-------+\n",
       "| E:/COGNITIVE_SCIENCE/ARTIF... | Height: 48 Width: 48 |   8   |\n",
       "| E:/COGNITIVE_SCIENCE/ARTIF... | Height: 48 Width: 48 |   15  |\n",
       "| E:/COGNITIVE_SCIENCE/ARTIF... | Height: 48 Width: 48 |   9   |\n",
       "| E:/COGNITIVE_SCIENCE/ARTIF... | Height: 48 Width: 48 |   5   |\n",
       "| E:/COGNITIVE_SCIENCE/ARTIF... | Height: 48 Width: 48 |   38  |\n",
       "| E:/COGNITIVE_SCIENCE/ARTIF... | Height: 48 Width: 48 |   6   |\n",
       "| E:/COGNITIVE_SCIENCE/ARTIF... | Height: 48 Width: 48 |   10  |\n",
       "| E:/COGNITIVE_SCIENCE/ARTIF... | Height: 48 Width: 48 |   26  |\n",
       "| E:/COGNITIVE_SCIENCE/ARTIF... | Height: 48 Width: 48 |   18  |\n",
       "| E:/COGNITIVE_SCIENCE/ARTIF... | Height: 48 Width: 48 |   4   |\n",
       "+-------------------------------+----------------------+-------+\n",
       "[27509 rows x 3 columns]\n",
       "Note: Only the head of the SFrame is printed.\n",
       "You can use print_rows(num_rows=m, num_columns=n) to print more rows and columns."
      ]
     },
     "execution_count": 7,
     "metadata": {},
     "output_type": "execute_result"
    }
   ],
   "source": [
    "train_signs"
   ]
  },
  {
   "cell_type": "code",
   "execution_count": 8,
   "metadata": {
    "collapsed": false
   },
   "outputs": [
    {
     "data": {
      "text/html": [
       "<div style=\"max-height:1000px;max-width:1500px;overflow:auto;\"><table frame=\"box\" rules=\"cols\">\n",
       "    <tr>\n",
       "        <th style=\"padding-left: 1em; padding-right: 1em; text-align: center\">path</th>\n",
       "        <th style=\"padding-left: 1em; padding-right: 1em; text-align: center\">image</th>\n",
       "        <th style=\"padding-left: 1em; padding-right: 1em; text-align: center\">label</th>\n",
       "    </tr>\n",
       "    <tr>\n",
       "        <td style=\"padding-left: 1em; padding-right: 1em; text-align: center; vertical-align: top\">E:/COGNITIVE_SCIENCE/ARTI<br>FICIAL_INTELLIGENCE/R ...</td>\n",
       "        <td style=\"padding-left: 1em; padding-right: 1em; text-align: center; vertical-align: top\">Height: 48 Width: 48</td>\n",
       "        <td style=\"padding-left: 1em; padding-right: 1em; text-align: center; vertical-align: top\">26</td>\n",
       "    </tr>\n",
       "    <tr>\n",
       "        <td style=\"padding-left: 1em; padding-right: 1em; text-align: center; vertical-align: top\">E:/COGNITIVE_SCIENCE/ARTI<br>FICIAL_INTELLIGENCE/R ...</td>\n",
       "        <td style=\"padding-left: 1em; padding-right: 1em; text-align: center; vertical-align: top\">Height: 48 Width: 48</td>\n",
       "        <td style=\"padding-left: 1em; padding-right: 1em; text-align: center; vertical-align: top\">8</td>\n",
       "    </tr>\n",
       "    <tr>\n",
       "        <td style=\"padding-left: 1em; padding-right: 1em; text-align: center; vertical-align: top\">E:/COGNITIVE_SCIENCE/ARTI<br>FICIAL_INTELLIGENCE/R ...</td>\n",
       "        <td style=\"padding-left: 1em; padding-right: 1em; text-align: center; vertical-align: top\">Height: 48 Width: 48</td>\n",
       "        <td style=\"padding-left: 1em; padding-right: 1em; text-align: center; vertical-align: top\">17</td>\n",
       "    </tr>\n",
       "    <tr>\n",
       "        <td style=\"padding-left: 1em; padding-right: 1em; text-align: center; vertical-align: top\">E:/COGNITIVE_SCIENCE/ARTI<br>FICIAL_INTELLIGENCE/R ...</td>\n",
       "        <td style=\"padding-left: 1em; padding-right: 1em; text-align: center; vertical-align: top\">Height: 48 Width: 48</td>\n",
       "        <td style=\"padding-left: 1em; padding-right: 1em; text-align: center; vertical-align: top\">38</td>\n",
       "    </tr>\n",
       "    <tr>\n",
       "        <td style=\"padding-left: 1em; padding-right: 1em; text-align: center; vertical-align: top\">E:/COGNITIVE_SCIENCE/ARTI<br>FICIAL_INTELLIGENCE/R ...</td>\n",
       "        <td style=\"padding-left: 1em; padding-right: 1em; text-align: center; vertical-align: top\">Height: 48 Width: 48</td>\n",
       "        <td style=\"padding-left: 1em; padding-right: 1em; text-align: center; vertical-align: top\">35</td>\n",
       "    </tr>\n",
       "    <tr>\n",
       "        <td style=\"padding-left: 1em; padding-right: 1em; text-align: center; vertical-align: top\">E:/COGNITIVE_SCIENCE/ARTI<br>FICIAL_INTELLIGENCE/R ...</td>\n",
       "        <td style=\"padding-left: 1em; padding-right: 1em; text-align: center; vertical-align: top\">Height: 48 Width: 48</td>\n",
       "        <td style=\"padding-left: 1em; padding-right: 1em; text-align: center; vertical-align: top\">42</td>\n",
       "    </tr>\n",
       "    <tr>\n",
       "        <td style=\"padding-left: 1em; padding-right: 1em; text-align: center; vertical-align: top\">E:/COGNITIVE_SCIENCE/ARTI<br>FICIAL_INTELLIGENCE/R ...</td>\n",
       "        <td style=\"padding-left: 1em; padding-right: 1em; text-align: center; vertical-align: top\">Height: 48 Width: 48</td>\n",
       "        <td style=\"padding-left: 1em; padding-right: 1em; text-align: center; vertical-align: top\">17</td>\n",
       "    </tr>\n",
       "    <tr>\n",
       "        <td style=\"padding-left: 1em; padding-right: 1em; text-align: center; vertical-align: top\">E:/COGNITIVE_SCIENCE/ARTI<br>FICIAL_INTELLIGENCE/R ...</td>\n",
       "        <td style=\"padding-left: 1em; padding-right: 1em; text-align: center; vertical-align: top\">Height: 48 Width: 48</td>\n",
       "        <td style=\"padding-left: 1em; padding-right: 1em; text-align: center; vertical-align: top\">4</td>\n",
       "    </tr>\n",
       "    <tr>\n",
       "        <td style=\"padding-left: 1em; padding-right: 1em; text-align: center; vertical-align: top\">E:/COGNITIVE_SCIENCE/ARTI<br>FICIAL_INTELLIGENCE/R ...</td>\n",
       "        <td style=\"padding-left: 1em; padding-right: 1em; text-align: center; vertical-align: top\">Height: 48 Width: 48</td>\n",
       "        <td style=\"padding-left: 1em; padding-right: 1em; text-align: center; vertical-align: top\">1</td>\n",
       "    </tr>\n",
       "    <tr>\n",
       "        <td style=\"padding-left: 1em; padding-right: 1em; text-align: center; vertical-align: top\">E:/COGNITIVE_SCIENCE/ARTI<br>FICIAL_INTELLIGENCE/R ...</td>\n",
       "        <td style=\"padding-left: 1em; padding-right: 1em; text-align: center; vertical-align: top\">Height: 48 Width: 48</td>\n",
       "        <td style=\"padding-left: 1em; padding-right: 1em; text-align: center; vertical-align: top\">2</td>\n",
       "    </tr>\n",
       "</table>\n",
       "[12630 rows x 3 columns]<br/>Note: Only the head of the SFrame is printed.<br/>You can use print_rows(num_rows=m, num_columns=n) to print more rows and columns.\n",
       "</div>"
      ],
      "text/plain": [
       "Columns:\n",
       "\tpath\tstr\n",
       "\timage\tImage\n",
       "\tlabel\tint\n",
       "\n",
       "Rows: 12630\n",
       "\n",
       "Data:\n",
       "+-------------------------------+----------------------+-------+\n",
       "|              path             |        image         | label |\n",
       "+-------------------------------+----------------------+-------+\n",
       "| E:/COGNITIVE_SCIENCE/ARTIF... | Height: 48 Width: 48 |   26  |\n",
       "| E:/COGNITIVE_SCIENCE/ARTIF... | Height: 48 Width: 48 |   8   |\n",
       "| E:/COGNITIVE_SCIENCE/ARTIF... | Height: 48 Width: 48 |   17  |\n",
       "| E:/COGNITIVE_SCIENCE/ARTIF... | Height: 48 Width: 48 |   38  |\n",
       "| E:/COGNITIVE_SCIENCE/ARTIF... | Height: 48 Width: 48 |   35  |\n",
       "| E:/COGNITIVE_SCIENCE/ARTIF... | Height: 48 Width: 48 |   42  |\n",
       "| E:/COGNITIVE_SCIENCE/ARTIF... | Height: 48 Width: 48 |   17  |\n",
       "| E:/COGNITIVE_SCIENCE/ARTIF... | Height: 48 Width: 48 |   4   |\n",
       "| E:/COGNITIVE_SCIENCE/ARTIF... | Height: 48 Width: 48 |   1   |\n",
       "| E:/COGNITIVE_SCIENCE/ARTIF... | Height: 48 Width: 48 |   2   |\n",
       "+-------------------------------+----------------------+-------+\n",
       "[12630 rows x 3 columns]\n",
       "Note: Only the head of the SFrame is printed.\n",
       "You can use print_rows(num_rows=m, num_columns=n) to print more rows and columns."
      ]
     },
     "execution_count": 8,
     "metadata": {},
     "output_type": "execute_result"
    }
   ],
   "source": [
    "test_signs= gl.SFrame('test_sframe/')\n",
    "test_signs['image'] = gl.image_analysis.resize(test_signs['image'], 48, 48, channels= 3)\n",
    "#28 cho Lenet, 30 (mình chọn) cho mạng dato 1000 lượt, \n",
    "#48 cho idsia net, 3 channels \n",
    "test_signs\n",
    "# idsia_net_6_iter.evaluate(test_signs)"
   ]
  },
  {
   "cell_type": "code",
   "execution_count": 9,
   "metadata": {
    "collapsed": false
   },
   "outputs": [
    {
     "name": "stdout",
     "output_type": "stream",
     "text": [
      "Using network:\n",
      "\n",
      "### network layers ###\n",
      "layer[0]: ConvolutionLayer\n",
      "  init_random = gaussian\n",
      "  padding = 0\n",
      "  stride = 1\n",
      "  num_channels = 100\n",
      "  num_groups = 1\n",
      "  kernel_size = 3\n",
      "layer[1]: MaxPoolingLayer\n",
      "  padding = 0\n",
      "  stride = 2\n",
      "  kernel_size = 2\n",
      "layer[2]: FlattenLayer\n",
      "layer[3]: FullConnectionLayer\n",
      "  init_sigma = 0.01\n",
      "  init_random = gaussian\n",
      "  init_bias = 0\n",
      "  num_hidden_units = 200\n",
      "layer[4]: RectifiedLinearLayer\n",
      "layer[5]: DropoutLayer\n",
      "  threshold = 0.5\n",
      "layer[6]: FullConnectionLayer\n",
      "  init_sigma = 0.01\n",
      "  init_random = gaussian\n",
      "  init_bias = 0\n",
      "  num_hidden_units = 43\n",
      "layer[7]: SoftmaxLayer\n",
      "### end network layers ###\n",
      "\n",
      "### network parameters ###\n",
      "model_checkpoint_interval = 1\n",
      "learning_rate = 0.001\n",
      "momentum = 0.9\n",
      "model_checkpoint_path = rep IDSIA by 1 conv graphlab net - train in 10 iters\n",
      "### end network parameters ###\n",
      "\n"
     ]
    },
    {
     "data": {
      "text/html": [
       "<pre>Computing mean image...</pre>"
      ],
      "text/plain": [
       "Computing mean image..."
      ]
     },
     "metadata": {},
     "output_type": "display_data"
    },
    {
     "data": {
      "text/html": [
       "<pre>Done computing mean image.</pre>"
      ],
      "text/plain": [
       "Done computing mean image."
      ]
     },
     "metadata": {},
     "output_type": "display_data"
    },
    {
     "data": {
      "text/html": [
       "<pre>For Nvidia GPU CUDA support, please go to https://turi.com/download/install-graphlab-create-gpu.html</pre>"
      ],
      "text/plain": [
       "For Nvidia GPU CUDA support, please go to https://turi.com/download/install-graphlab-create-gpu.html"
      ]
     },
     "metadata": {},
     "output_type": "display_data"
    },
    {
     "data": {
      "text/html": [
       "<pre>Creating neuralnet using cpu</pre>"
      ],
      "text/plain": [
       "Creating neuralnet using cpu"
      ]
     },
     "metadata": {},
     "output_type": "display_data"
    },
    {
     "data": {
      "text/html": [
       "<pre>Training with batch size = 100</pre>"
      ],
      "text/plain": [
       "Training with batch size = 100"
      ]
     },
     "metadata": {},
     "output_type": "display_data"
    },
    {
     "data": {
      "text/html": [
       "<pre>+-----------+----------+--------------+-------------------+---------------------+-----------------+</pre>"
      ],
      "text/plain": [
       "+-----------+----------+--------------+-------------------+---------------------+-----------------+"
      ]
     },
     "metadata": {},
     "output_type": "display_data"
    },
    {
     "data": {
      "text/html": [
       "<pre>| Iteration | Examples | Elapsed Time | Training-accuracy | Validation-accuracy | Examples/second |</pre>"
      ],
      "text/plain": [
       "| Iteration | Examples | Elapsed Time | Training-accuracy | Validation-accuracy | Examples/second |"
      ]
     },
     "metadata": {},
     "output_type": "display_data"
    },
    {
     "data": {
      "text/html": [
       "<pre>+-----------+----------+--------------+-------------------+---------------------+-----------------+</pre>"
      ],
      "text/plain": [
       "+-----------+----------+--------------+-------------------+---------------------+-----------------+"
      ]
     },
     "metadata": {},
     "output_type": "display_data"
    },
    {
     "data": {
      "text/html": [
       "<pre>| 1         | 200      | 12.644640    | 0.035000          |                     | 15.817050       |</pre>"
      ],
      "text/plain": [
       "| 1         | 200      | 12.644640    | 0.035000          |                     | 15.817050       |"
      ]
     },
     "metadata": {},
     "output_type": "display_data"
    },
    {
     "data": {
      "text/html": [
       "<pre>| 1         | 500      | 26.343916    | 0.060000          |                     | 21.898912       |</pre>"
      ],
      "text/plain": [
       "| 1         | 500      | 26.343916    | 0.060000          |                     | 21.898912       |"
      ]
     },
     "metadata": {},
     "output_type": "display_data"
    },
    {
     "data": {
      "text/html": [
       "<pre>| 1         | 800      | 40.557232    | 0.083750          |                     | 21.107000       |</pre>"
      ],
      "text/plain": [
       "| 1         | 800      | 40.557232    | 0.083750          |                     | 21.107000       |"
      ]
     },
     "metadata": {},
     "output_type": "display_data"
    },
    {
     "data": {
      "text/html": [
       "<pre>| 1         | 1100     | 54.138780    | 0.092727          |                     | 22.088781       |</pre>"
      ],
      "text/plain": [
       "| 1         | 1100     | 54.138780    | 0.092727          |                     | 22.088781       |"
      ]
     },
     "metadata": {},
     "output_type": "display_data"
    },
    {
     "data": {
      "text/html": [
       "<pre>| 1         | 1400     | 67.763643    | 0.111429          |                     | 22.018608       |</pre>"
      ],
      "text/plain": [
       "| 1         | 1400     | 67.763643    | 0.111429          |                     | 22.018608       |"
      ]
     },
     "metadata": {},
     "output_type": "display_data"
    },
    {
     "data": {
      "text/html": [
       "<pre>| 1         | 1700     | 81.925535    | 0.135882          |                     | 21.183561       |</pre>"
      ],
      "text/plain": [
       "| 1         | 1700     | 81.925535    | 0.135882          |                     | 21.183561       |"
      ]
     },
     "metadata": {},
     "output_type": "display_data"
    },
    {
     "data": {
      "text/html": [
       "<pre>| 1         | 2000     | 95.374768    | 0.156000          |                     | 22.306131       |</pre>"
      ],
      "text/plain": [
       "| 1         | 2000     | 95.374768    | 0.156000          |                     | 22.306131       |"
      ]
     },
     "metadata": {},
     "output_type": "display_data"
    },
    {
     "data": {
      "text/html": [
       "<pre>| 1         | 2300     | 109.369779   | 0.169130          |                     | 21.436216       |</pre>"
      ],
      "text/plain": [
       "| 1         | 2300     | 109.369779   | 0.169130          |                     | 21.436216       |"
      ]
     },
     "metadata": {},
     "output_type": "display_data"
    },
    {
     "data": {
      "text/html": [
       "<pre>| 1         | 2600     | 123.533425   | 0.181923          |                     | 21.180962       |</pre>"
      ],
      "text/plain": [
       "| 1         | 2600     | 123.533425   | 0.181923          |                     | 21.180962       |"
      ]
     },
     "metadata": {},
     "output_type": "display_data"
    },
    {
     "data": {
      "text/html": [
       "<pre>| 1         | 2900     | 137.100437   | 0.193103          |                     | 22.112488       |</pre>"
      ],
      "text/plain": [
       "| 1         | 2900     | 137.100437   | 0.193103          |                     | 22.112488       |"
      ]
     },
     "metadata": {},
     "output_type": "display_data"
    },
    {
     "data": {
      "text/html": [
       "<pre>| 1         | 3200     | 150.871065   | 0.208125          |                     | 21.785463       |</pre>"
      ],
      "text/plain": [
       "| 1         | 3200     | 150.871065   | 0.208125          |                     | 21.785463       |"
      ]
     },
     "metadata": {},
     "output_type": "display_data"
    },
    {
     "data": {
      "text/html": [
       "<pre>| 1         | 3500     | 165.573309   | 0.220000          |                     | 20.405048       |</pre>"
      ],
      "text/plain": [
       "| 1         | 3500     | 165.573309   | 0.220000          |                     | 20.405048       |"
      ]
     },
     "metadata": {},
     "output_type": "display_data"
    },
    {
     "data": {
      "text/html": [
       "<pre>| 1         | 3800     | 179.144487   | 0.233421          |                     | 22.105688       |</pre>"
      ],
      "text/plain": [
       "| 1         | 3800     | 179.144487   | 0.233421          |                     | 22.105688       |"
      ]
     },
     "metadata": {},
     "output_type": "display_data"
    },
    {
     "data": {
      "text/html": [
       "<pre>| 1         | 4100     | 193.682711   | 0.241463          |                     | 20.635294       |</pre>"
      ],
      "text/plain": [
       "| 1         | 4100     | 193.682711   | 0.241463          |                     | 20.635294       |"
      ]
     },
     "metadata": {},
     "output_type": "display_data"
    },
    {
     "data": {
      "text/html": [
       "<pre>| 1         | 4400     | 207.418259   | 0.253636          |                     | 21.841099       |</pre>"
      ],
      "text/plain": [
       "| 1         | 4400     | 207.418259   | 0.253636          |                     | 21.841099       |"
      ]
     },
     "metadata": {},
     "output_type": "display_data"
    },
    {
     "data": {
      "text/html": [
       "<pre>| 1         | 4700     | 221.548901   | 0.262979          |                     | 21.230478       |</pre>"
      ],
      "text/plain": [
       "| 1         | 4700     | 221.548901   | 0.262979          |                     | 21.230478       |"
      ]
     },
     "metadata": {},
     "output_type": "display_data"
    },
    {
     "data": {
      "text/html": [
       "<pre>| 1         | 5000     | 235.912800   | 0.273000          |                     | 20.885691       |</pre>"
      ],
      "text/plain": [
       "| 1         | 5000     | 235.912800   | 0.273000          |                     | 20.885691       |"
      ]
     },
     "metadata": {},
     "output_type": "display_data"
    },
    {
     "data": {
      "text/html": [
       "<pre>| 1         | 5300     | 249.389773   | 0.285472          |                     | 22.260149       |</pre>"
      ],
      "text/plain": [
       "| 1         | 5300     | 249.389773   | 0.285472          |                     | 22.260149       |"
      ]
     },
     "metadata": {},
     "output_type": "display_data"
    },
    {
     "data": {
      "text/html": [
       "<pre>| 1         | 5600     | 263.600949   | 0.292321          |                     | 21.110195       |</pre>"
      ],
      "text/plain": [
       "| 1         | 5600     | 263.600949   | 0.292321          |                     | 21.110195       |"
      ]
     },
     "metadata": {},
     "output_type": "display_data"
    },
    {
     "data": {
      "text/html": [
       "<pre>| 1         | 5900     | 277.389571   | 0.299830          |                     | 21.757015       |</pre>"
      ],
      "text/plain": [
       "| 1         | 5900     | 277.389571   | 0.299830          |                     | 21.757015       |"
      ]
     },
     "metadata": {},
     "output_type": "display_data"
    },
    {
     "data": {
      "text/html": [
       "<pre>| 1         | 6200     | 291.163852   | 0.307258          |                     | 21.779745       |</pre>"
      ],
      "text/plain": [
       "| 1         | 6200     | 291.163852   | 0.307258          |                     | 21.779745       |"
      ]
     },
     "metadata": {},
     "output_type": "display_data"
    },
    {
     "data": {
      "text/html": [
       "<pre>| 1         | 6500     | 305.297114   | 0.316462          |                     | 21.226540       |</pre>"
      ],
      "text/plain": [
       "| 1         | 6500     | 305.297114   | 0.316462          |                     | 21.226540       |"
      ]
     },
     "metadata": {},
     "output_type": "display_data"
    },
    {
     "data": {
      "text/html": [
       "<pre>| 1         | 6800     | 319.573449   | 0.321912          |                     | 21.013796       |</pre>"
      ],
      "text/plain": [
       "| 1         | 6800     | 319.573449   | 0.321912          |                     | 21.013796       |"
      ]
     },
     "metadata": {},
     "output_type": "display_data"
    },
    {
     "data": {
      "text/html": [
       "<pre>| 1         | 7100     | 333.148072   | 0.327606          |                     | 22.100063       |</pre>"
      ],
      "text/plain": [
       "| 1         | 7100     | 333.148072   | 0.327606          |                     | 22.100063       |"
      ]
     },
     "metadata": {},
     "output_type": "display_data"
    },
    {
     "data": {
      "text/html": [
       "<pre>| 1         | 7400     | 347.198145   | 0.335405          |                     | 21.352203       |</pre>"
      ],
      "text/plain": [
       "| 1         | 7400     | 347.198145   | 0.335405          |                     | 21.352203       |"
      ]
     },
     "metadata": {},
     "output_type": "display_data"
    },
    {
     "data": {
      "text/html": [
       "<pre>| 1         | 7700     | 360.392523   | 0.340519          |                     | 22.736929       |</pre>"
      ],
      "text/plain": [
       "| 1         | 7700     | 360.392523   | 0.340519          |                     | 22.736929       |"
      ]
     },
     "metadata": {},
     "output_type": "display_data"
    },
    {
     "data": {
      "text/html": [
       "<pre>| 1         | 8000     | 373.567446   | 0.347250          |                     | 22.770584       |</pre>"
      ],
      "text/plain": [
       "| 1         | 8000     | 373.567446   | 0.347250          |                     | 22.770584       |"
      ]
     },
     "metadata": {},
     "output_type": "display_data"
    },
    {
     "data": {
      "text/html": [
       "<pre>| 1         | 8300     | 387.740918   | 0.352651          |                     | 21.166260       |</pre>"
      ],
      "text/plain": [
       "| 1         | 8300     | 387.740918   | 0.352651          |                     | 21.166260       |"
      ]
     },
     "metadata": {},
     "output_type": "display_data"
    },
    {
     "data": {
      "text/html": [
       "<pre>| 1         | 8600     | 401.128365   | 0.357093          |                     | 22.409075       |</pre>"
      ],
      "text/plain": [
       "| 1         | 8600     | 401.128365   | 0.357093          |                     | 22.409075       |"
      ]
     },
     "metadata": {},
     "output_type": "display_data"
    },
    {
     "data": {
      "text/html": [
       "<pre>| 1         | 8900     | 414.858591   | 0.360899          |                     | 21.849609       |</pre>"
      ],
      "text/plain": [
       "| 1         | 8900     | 414.858591   | 0.360899          |                     | 21.849609       |"
      ]
     },
     "metadata": {},
     "output_type": "display_data"
    },
    {
     "data": {
      "text/html": [
       "<pre>| 1         | 9200     | 428.656361   | 0.366087          |                     | 21.742641       |</pre>"
      ],
      "text/plain": [
       "| 1         | 9200     | 428.656361   | 0.366087          |                     | 21.742641       |"
      ]
     },
     "metadata": {},
     "output_type": "display_data"
    },
    {
     "data": {
      "text/html": [
       "<pre>| 1         | 9500     | 442.536093   | 0.369789          |                     | 21.614246       |</pre>"
      ],
      "text/plain": [
       "| 1         | 9500     | 442.536093   | 0.369789          |                     | 21.614246       |"
      ]
     },
     "metadata": {},
     "output_type": "display_data"
    },
    {
     "data": {
      "text/html": [
       "<pre>| 1         | 9800     | 456.207942   | 0.374592          |                     | 21.942917       |</pre>"
      ],
      "text/plain": [
       "| 1         | 9800     | 456.207942   | 0.374592          |                     | 21.942917       |"
      ]
     },
     "metadata": {},
     "output_type": "display_data"
    },
    {
     "data": {
      "text/html": [
       "<pre>| 1         | 10100    | 470.486369   | 0.378416          |                     | 21.010696       |</pre>"
      ],
      "text/plain": [
       "| 1         | 10100    | 470.486369   | 0.378416          |                     | 21.010696       |"
      ]
     },
     "metadata": {},
     "output_type": "display_data"
    },
    {
     "data": {
      "text/html": [
       "<pre>| 1         | 10400    | 483.985990   | 0.382019          |                     | 22.222828       |</pre>"
      ],
      "text/plain": [
       "| 1         | 10400    | 483.985990   | 0.382019          |                     | 22.222828       |"
      ]
     },
     "metadata": {},
     "output_type": "display_data"
    },
    {
     "data": {
      "text/html": [
       "<pre>| 1         | 10700    | 497.776624   | 0.387664          |                     | 21.753880       |</pre>"
      ],
      "text/plain": [
       "| 1         | 10700    | 497.776624   | 0.387664          |                     | 21.753880       |"
      ]
     },
     "metadata": {},
     "output_type": "display_data"
    },
    {
     "data": {
      "text/html": [
       "<pre>| 1         | 11000    | 511.584135   | 0.393182          |                     | 21.727314       |</pre>"
      ],
      "text/plain": [
       "| 1         | 11000    | 511.584135   | 0.393182          |                     | 21.727314       |"
      ]
     },
     "metadata": {},
     "output_type": "display_data"
    },
    {
     "data": {
      "text/html": [
       "<pre>| 1         | 11300    | 525.150778   | 0.397434          |                     | 22.113100       |</pre>"
      ],
      "text/plain": [
       "| 1         | 11300    | 525.150778   | 0.397434          |                     | 22.113100       |"
      ]
     },
     "metadata": {},
     "output_type": "display_data"
    },
    {
     "data": {
      "text/html": [
       "<pre>| 1         | 11600    | 539.312131   | 0.400345          |                     | 21.184412       |</pre>"
      ],
      "text/plain": [
       "| 1         | 11600    | 539.312131   | 0.400345          |                     | 21.184412       |"
      ]
     },
     "metadata": {},
     "output_type": "display_data"
    },
    {
     "data": {
      "text/html": [
       "<pre>| 1         | 11900    | 553.014035   | 0.403025          |                     | 21.894745       |</pre>"
      ],
      "text/plain": [
       "| 1         | 11900    | 553.014035   | 0.403025          |                     | 21.894745       |"
      ]
     },
     "metadata": {},
     "output_type": "display_data"
    },
    {
     "data": {
      "text/html": [
       "<pre>| 1         | 12200    | 567.437706   | 0.407295          |                     | 20.799173       |</pre>"
      ],
      "text/plain": [
       "| 1         | 12200    | 567.437706   | 0.407295          |                     | 20.799173       |"
      ]
     },
     "metadata": {},
     "output_type": "display_data"
    },
    {
     "data": {
      "text/html": [
       "<pre>| 1         | 12500    | 580.862752   | 0.410560          |                     | 22.346268       |</pre>"
      ],
      "text/plain": [
       "| 1         | 12500    | 580.862752   | 0.410560          |                     | 22.346268       |"
      ]
     },
     "metadata": {},
     "output_type": "display_data"
    },
    {
     "data": {
      "text/html": [
       "<pre>| 1         | 12800    | 594.333530   | 0.412813          |                     | 22.270441       |</pre>"
      ],
      "text/plain": [
       "| 1         | 12800    | 594.333530   | 0.412813          |                     | 22.270441       |"
      ]
     },
     "metadata": {},
     "output_type": "display_data"
    },
    {
     "data": {
      "text/html": [
       "<pre>| 1         | 13100    | 608.507042   | 0.415420          |                     | 21.166208       |</pre>"
      ],
      "text/plain": [
       "| 1         | 13100    | 608.507042   | 0.415420          |                     | 21.166208       |"
      ]
     },
     "metadata": {},
     "output_type": "display_data"
    },
    {
     "data": {
      "text/html": [
       "<pre>| 1         | 13400    | 621.466368   | 0.419552          |                     | 23.149395       |</pre>"
      ],
      "text/plain": [
       "| 1         | 13400    | 621.466368   | 0.419552          |                     | 23.149395       |"
      ]
     },
     "metadata": {},
     "output_type": "display_data"
    },
    {
     "data": {
      "text/html": [
       "<pre>| 1         | 13700    | 635.255752   | 0.422628          |                     | 21.755871       |</pre>"
      ],
      "text/plain": [
       "| 1         | 13700    | 635.255752   | 0.422628          |                     | 21.755871       |"
      ]
     },
     "metadata": {},
     "output_type": "display_data"
    },
    {
     "data": {
      "text/html": [
       "<pre>| 1         | 14000    | 649.085355   | 0.427357          |                     | 21.692595       |</pre>"
      ],
      "text/plain": [
       "| 1         | 14000    | 649.085355   | 0.427357          |                     | 21.692595       |"
      ]
     },
     "metadata": {},
     "output_type": "display_data"
    },
    {
     "data": {
      "text/html": [
       "<pre>| 1         | 14300    | 662.272435   | 0.431259          |                     | 22.749508       |</pre>"
      ],
      "text/plain": [
       "| 1         | 14300    | 662.272435   | 0.431259          |                     | 22.749508       |"
      ]
     },
     "metadata": {},
     "output_type": "display_data"
    },
    {
     "data": {
      "text/html": [
       "<pre>| 1         | 14600    | 675.070852   | 0.434315          |                     | 23.440439       |</pre>"
      ],
      "text/plain": [
       "| 1         | 14600    | 675.070852   | 0.434315          |                     | 23.440439       |"
      ]
     },
     "metadata": {},
     "output_type": "display_data"
    },
    {
     "data": {
      "text/html": [
       "<pre>| 1         | 14900    | 689.438502   | 0.438188          |                     | 20.880245       |</pre>"
      ],
      "text/plain": [
       "| 1         | 14900    | 689.438502   | 0.438188          |                     | 20.880245       |"
      ]
     },
     "metadata": {},
     "output_type": "display_data"
    },
    {
     "data": {
      "text/html": [
       "<pre>| 1         | 15200    | 702.773076   | 0.441118          |                     | 22.497892       |</pre>"
      ],
      "text/plain": [
       "| 1         | 15200    | 702.773076   | 0.441118          |                     | 22.497892       |"
      ]
     },
     "metadata": {},
     "output_type": "display_data"
    },
    {
     "data": {
      "text/html": [
       "<pre>| 1         | 15500    | 716.430133   | 0.444452          |                     | 21.966673       |</pre>"
      ],
      "text/plain": [
       "| 1         | 15500    | 716.430133   | 0.444452          |                     | 21.966673       |"
      ]
     },
     "metadata": {},
     "output_type": "display_data"
    },
    {
     "data": {
      "text/html": [
       "<pre>| 1         | 15800    | 730.489250   | 0.447658          |                     | 21.338457       |</pre>"
      ],
      "text/plain": [
       "| 1         | 15800    | 730.489250   | 0.447658          |                     | 21.338457       |"
      ]
     },
     "metadata": {},
     "output_type": "display_data"
    },
    {
     "data": {
      "text/html": [
       "<pre>| 1         | 16100    | 743.179458   | 0.450373          |                     | 23.640240       |</pre>"
      ],
      "text/plain": [
       "| 1         | 16100    | 743.179458   | 0.450373          |                     | 23.640240       |"
      ]
     },
     "metadata": {},
     "output_type": "display_data"
    },
    {
     "data": {
      "text/html": [
       "<pre>| 1         | 16400    | 756.964576   | 0.453537          |                     | 21.762627       |</pre>"
      ],
      "text/plain": [
       "| 1         | 16400    | 756.964576   | 0.453537          |                     | 21.762627       |"
      ]
     },
     "metadata": {},
     "output_type": "display_data"
    },
    {
     "data": {
      "text/html": [
       "<pre>| 1         | 16700    | 770.960115   | 0.456287          |                     | 21.435369       |</pre>"
      ],
      "text/plain": [
       "| 1         | 16700    | 770.960115   | 0.456287          |                     | 21.435369       |"
      ]
     },
     "metadata": {},
     "output_type": "display_data"
    },
    {
     "data": {
      "text/html": [
       "<pre>| 1         | 17000    | 784.632527   | 0.459824          |                     | 21.942017       |</pre>"
      ],
      "text/plain": [
       "| 1         | 17000    | 784.632527   | 0.459824          |                     | 21.942017       |"
      ]
     },
     "metadata": {},
     "output_type": "display_data"
    },
    {
     "data": {
      "text/html": [
       "<pre>| 1         | 17300    | 798.483890   | 0.463006          |                     | 21.658506       |</pre>"
      ],
      "text/plain": [
       "| 1         | 17300    | 798.483890   | 0.463006          |                     | 21.658506       |"
      ]
     },
     "metadata": {},
     "output_type": "display_data"
    },
    {
     "data": {
      "text/html": [
       "<pre>| 1         | 17600    | 812.290395   | 0.466761          |                     | 21.728918       |</pre>"
      ],
      "text/plain": [
       "| 1         | 17600    | 812.290395   | 0.466761          |                     | 21.728918       |"
      ]
     },
     "metadata": {},
     "output_type": "display_data"
    },
    {
     "data": {
      "text/html": [
       "<pre>| 1         | 17900    | 825.590744   | 0.470112          |                     | 22.555769       |</pre>"
      ],
      "text/plain": [
       "| 1         | 17900    | 825.590744   | 0.470112          |                     | 22.555769       |"
      ]
     },
     "metadata": {},
     "output_type": "display_data"
    },
    {
     "data": {
      "text/html": [
       "<pre>| 1         | 18200    | 839.672018   | 0.472802          |                     | 21.304932       |</pre>"
      ],
      "text/plain": [
       "| 1         | 18200    | 839.672018   | 0.472802          |                     | 21.304932       |"
      ]
     },
     "metadata": {},
     "output_type": "display_data"
    },
    {
     "data": {
      "text/html": [
       "<pre>| 1         | 18500    | 852.542459   | 0.475568          |                     | 23.309200       |</pre>"
      ],
      "text/plain": [
       "| 1         | 18500    | 852.542459   | 0.475568          |                     | 23.309200       |"
      ]
     },
     "metadata": {},
     "output_type": "display_data"
    },
    {
     "data": {
      "text/html": [
       "<pre>| 1         | 18800    | 865.715051   | 0.479362          |                     | 22.774574       |</pre>"
      ],
      "text/plain": [
       "| 1         | 18800    | 865.715051   | 0.479362          |                     | 22.774574       |"
      ]
     },
     "metadata": {},
     "output_type": "display_data"
    },
    {
     "data": {
      "text/html": [
       "<pre>| 1         | 19100    | 879.901893   | 0.482042          |                     | 21.146315       |</pre>"
      ],
      "text/plain": [
       "| 1         | 19100    | 879.901893   | 0.482042          |                     | 21.146315       |"
      ]
     },
     "metadata": {},
     "output_type": "display_data"
    },
    {
     "data": {
      "text/html": [
       "<pre>| 1         | 19400    | 893.059684   | 0.485000          |                     | 22.800188       |</pre>"
      ],
      "text/plain": [
       "| 1         | 19400    | 893.059684   | 0.485000          |                     | 22.800188       |"
      ]
     },
     "metadata": {},
     "output_type": "display_data"
    },
    {
     "data": {
      "text/html": [
       "<pre>| 1         | 19700    | 906.591767   | 0.487868          |                     | 22.169540       |</pre>"
      ],
      "text/plain": [
       "| 1         | 19700    | 906.591767   | 0.487868          |                     | 22.169540       |"
      ]
     },
     "metadata": {},
     "output_type": "display_data"
    },
    {
     "data": {
      "text/html": [
       "<pre>| 1         | 20000    | 919.945545   | 0.490600          |                     | 22.465549       |</pre>"
      ],
      "text/plain": [
       "| 1         | 20000    | 919.945545   | 0.490600          |                     | 22.465549       |"
      ]
     },
     "metadata": {},
     "output_type": "display_data"
    },
    {
     "data": {
      "text/html": [
       "<pre>| 1         | 20300    | 933.262428   | 0.492956          |                     | 22.527830       |</pre>"
      ],
      "text/plain": [
       "| 1         | 20300    | 933.262428   | 0.492956          |                     | 22.527830       |"
      ]
     },
     "metadata": {},
     "output_type": "display_data"
    },
    {
     "data": {
      "text/html": [
       "<pre>| 1         | 20600    | 946.665069   | 0.495243          |                     | 22.383604       |</pre>"
      ],
      "text/plain": [
       "| 1         | 20600    | 946.665069   | 0.495243          |                     | 22.383604       |"
      ]
     },
     "metadata": {},
     "output_type": "display_data"
    },
    {
     "data": {
      "text/html": [
       "<pre>| 1         | 20900    | 960.265579   | 0.497799          |                     | 22.058037       |</pre>"
      ],
      "text/plain": [
       "| 1         | 20900    | 960.265579   | 0.497799          |                     | 22.058037       |"
      ]
     },
     "metadata": {},
     "output_type": "display_data"
    },
    {
     "data": {
      "text/html": [
       "<pre>| 1         | 21200    | 973.773890   | 0.500236          |                     | 22.208534       |</pre>"
      ],
      "text/plain": [
       "| 1         | 21200    | 973.773890   | 0.500236          |                     | 22.208534       |"
      ]
     },
     "metadata": {},
     "output_type": "display_data"
    },
    {
     "data": {
      "text/html": [
       "<pre>| 1         | 21500    | 987.506714   | 0.502279          |                     | 21.845467       |</pre>"
      ],
      "text/plain": [
       "| 1         | 21500    | 987.506714   | 0.502279          |                     | 21.845467       |"
      ]
     },
     "metadata": {},
     "output_type": "display_data"
    },
    {
     "data": {
      "text/html": [
       "<pre>| 1         | 21800    | 1000.833849  | 0.504908          |                     | 22.510466       |</pre>"
      ],
      "text/plain": [
       "| 1         | 21800    | 1000.833849  | 0.504908          |                     | 22.510466       |"
      ]
     },
     "metadata": {},
     "output_type": "display_data"
    },
    {
     "data": {
      "text/html": [
       "<pre>| 1         | 22100    | 1014.192276  | 0.507240          |                     | 22.457727       |</pre>"
      ],
      "text/plain": [
       "| 1         | 22100    | 1014.192276  | 0.507240          |                     | 22.457727       |"
      ]
     },
     "metadata": {},
     "output_type": "display_data"
    },
    {
     "data": {
      "text/html": [
       "<pre>| 1         | 22400    | 1028.297747  | 0.509107          |                     | 21.268339       |</pre>"
      ],
      "text/plain": [
       "| 1         | 22400    | 1028.297747  | 0.509107          |                     | 21.268339       |"
      ]
     },
     "metadata": {},
     "output_type": "display_data"
    },
    {
     "data": {
      "text/html": [
       "<pre>| 1         | 22700    | 1041.015539  | 0.511938          |                     | 23.588997       |</pre>"
      ],
      "text/plain": [
       "| 1         | 22700    | 1041.015539  | 0.511938          |                     | 23.588997       |"
      ]
     },
     "metadata": {},
     "output_type": "display_data"
    },
    {
     "data": {
      "text/html": [
       "<pre>| 1         | 23000    | 1053.916964  | 0.513913          |                     | 23.253284       |</pre>"
      ],
      "text/plain": [
       "| 1         | 23000    | 1053.916964  | 0.513913          |                     | 23.253284       |"
      ]
     },
     "metadata": {},
     "output_type": "display_data"
    },
    {
     "data": {
      "text/html": [
       "<pre>| 1         | 23300    | 1067.956728  | 0.514936          |                     | 21.367836       |</pre>"
      ],
      "text/plain": [
       "| 1         | 23300    | 1067.956728  | 0.514936          |                     | 21.367836       |"
      ]
     },
     "metadata": {},
     "output_type": "display_data"
    },
    {
     "data": {
      "text/html": [
       "<pre>| 1         | 23600    | 1081.297404  | 0.516780          |                     | 22.487669       |</pre>"
      ],
      "text/plain": [
       "| 1         | 23600    | 1081.297404  | 0.516780          |                     | 22.487669       |"
      ]
     },
     "metadata": {},
     "output_type": "display_data"
    },
    {
     "data": {
      "text/html": [
       "<pre>| 1         | 23900    | 1094.965204  | 0.518745          |                     | 21.949402       |</pre>"
      ],
      "text/plain": [
       "| 1         | 23900    | 1094.965204  | 0.518745          |                     | 21.949402       |"
      ]
     },
     "metadata": {},
     "output_type": "display_data"
    },
    {
     "data": {
      "text/html": [
       "<pre>| 1         | 24200    | 1108.127963  | 0.520372          |                     | 22.791553       |</pre>"
      ],
      "text/plain": [
       "| 1         | 24200    | 1108.127963  | 0.520372          |                     | 22.791553       |"
      ]
     },
     "metadata": {},
     "output_type": "display_data"
    },
    {
     "data": {
      "text/html": [
       "<pre>| 1         | 24500    | 1121.450535  | 0.522571          |                     | 22.518190       |</pre>"
      ],
      "text/plain": [
       "| 1         | 24500    | 1121.450535  | 0.522571          |                     | 22.518190       |"
      ]
     },
     "metadata": {},
     "output_type": "display_data"
    },
    {
     "data": {
      "text/html": [
       "<pre>| 1         | 24800    | 1134.929765  | 0.524556          |                     | 22.256464       |</pre>"
      ],
      "text/plain": [
       "| 1         | 24800    | 1134.929765  | 0.524556          |                     | 22.256464       |"
      ]
     },
     "metadata": {},
     "output_type": "display_data"
    },
    {
     "data": {
      "text/html": [
       "<pre>| 1         | 25100    | 1148.222661  | 0.526295          |                     | 22.568424       |</pre>"
      ],
      "text/plain": [
       "| 1         | 25100    | 1148.222661  | 0.526295          |                     | 22.568424       |"
      ]
     },
     "metadata": {},
     "output_type": "display_data"
    },
    {
     "data": {
      "text/html": [
       "<pre>| 1         | 25400    | 1160.981998  | 0.528071          |                     | 23.512207       |</pre>"
      ],
      "text/plain": [
       "| 1         | 25400    | 1160.981998  | 0.528071          |                     | 23.512207       |"
      ]
     },
     "metadata": {},
     "output_type": "display_data"
    },
    {
     "data": {
      "text/html": [
       "<pre>| 1         | 25700    | 1174.012390  | 0.529961          |                     | 23.023111       |</pre>"
      ],
      "text/plain": [
       "| 1         | 25700    | 1174.012390  | 0.529961          |                     | 23.023111       |"
      ]
     },
     "metadata": {},
     "output_type": "display_data"
    },
    {
     "data": {
      "text/html": [
       "<pre>| 1         | 26000    | 1187.659333  | 0.531885          |                     | 21.982925       |</pre>"
      ],
      "text/plain": [
       "| 1         | 26000    | 1187.659333  | 0.531885          |                     | 21.982925       |"
      ]
     },
     "metadata": {},
     "output_type": "display_data"
    },
    {
     "data": {
      "text/html": [
       "<pre>| 1         | 26300    | 1200.541253  | 0.533194          |                     | 23.288458       |</pre>"
      ],
      "text/plain": [
       "| 1         | 26300    | 1200.541253  | 0.533194          |                     | 23.288458       |"
      ]
     },
     "metadata": {},
     "output_type": "display_data"
    },
    {
     "data": {
      "text/html": [
       "<pre>| 1         | 26600    | 1214.234216  | 0.535301          |                     | 21.909079       |</pre>"
      ],
      "text/plain": [
       "| 1         | 26600    | 1214.234216  | 0.535301          |                     | 21.909079       |"
      ]
     },
     "metadata": {},
     "output_type": "display_data"
    },
    {
     "data": {
      "text/html": [
       "<pre>| 1         | 26900    | 1227.497732  | 0.537249          |                     | 22.618383       |</pre>"
      ],
      "text/plain": [
       "| 1         | 26900    | 1227.497732  | 0.537249          |                     | 22.618383       |"
      ]
     },
     "metadata": {},
     "output_type": "display_data"
    },
    {
     "data": {
      "text/html": [
       "<pre>| 1         | 27200    | 1240.713061  | 0.539559          |                     | 22.700909       |</pre>"
      ],
      "text/plain": [
       "| 1         | 27200    | 1240.713061  | 0.539559          |                     | 22.700909       |"
      ]
     },
     "metadata": {},
     "output_type": "display_data"
    },
    {
     "data": {
      "text/html": [
       "<pre>| 1         | 27500    | 1254.284500  | 0.541273          |                     | 22.105265       |</pre>"
      ],
      "text/plain": [
       "| 1         | 27500    | 1254.284500  | 0.541273          |                     | 22.105265       |"
      ]
     },
     "metadata": {},
     "output_type": "display_data"
    },
    {
     "data": {
      "text/html": [
       "<pre>| 1         | 27600    | 1527.546748  | 0.541812          | 0.799915            | 0.365949        |</pre>"
      ],
      "text/plain": [
       "| 1         | 27600    | 1527.546748  | 0.541812          | 0.799915            | 0.365949        |"
      ]
     },
     "metadata": {},
     "output_type": "display_data"
    },
    {
     "data": {
      "text/html": [
       "<pre>Checkpointing model into rep IDSIA by 1 conv graphlab net - train in 10 iters</pre>"
      ],
      "text/plain": [
       "Checkpointing model into rep IDSIA by 1 conv graphlab net - train in 10 iters"
      ]
     },
     "metadata": {},
     "output_type": "display_data"
    },
    {
     "data": {
      "text/html": [
       "<pre>| 2         | 300      | 1541.606516  | 0.686667          |                     | 21.405151       |</pre>"
      ],
      "text/plain": [
       "| 2         | 300      | 1541.606516  | 0.686667          |                     | 21.405151       |"
      ]
     },
     "metadata": {},
     "output_type": "display_data"
    },
    {
     "data": {
      "text/html": [
       "<pre>| 2         | 600      | 1554.827536  | 0.700000          |                     | 22.691151       |</pre>"
      ],
      "text/plain": [
       "| 2         | 600      | 1554.827536  | 0.700000          |                     | 22.691151       |"
      ]
     },
     "metadata": {},
     "output_type": "display_data"
    },
    {
     "data": {
      "text/html": [
       "<pre>| 2         | 900      | 1567.967450  | 0.702222          |                     | 22.831196       |</pre>"
      ],
      "text/plain": [
       "| 2         | 900      | 1567.967450  | 0.702222          |                     | 22.831196       |"
      ]
     },
     "metadata": {},
     "output_type": "display_data"
    },
    {
     "data": {
      "text/html": [
       "<pre>| 2         | 1200     | 1580.929602  | 0.695833          |                     | 23.144310       |</pre>"
      ],
      "text/plain": [
       "| 2         | 1200     | 1580.929602  | 0.695833          |                     | 23.144310       |"
      ]
     },
     "metadata": {},
     "output_type": "display_data"
    },
    {
     "data": {
      "text/html": [
       "<pre>| 2         | 1500     | 1594.178607  | 0.700000          |                     | 22.643206       |</pre>"
      ],
      "text/plain": [
       "| 2         | 1500     | 1594.178607  | 0.700000          |                     | 22.643206       |"
      ]
     },
     "metadata": {},
     "output_type": "display_data"
    },
    {
     "data": {
      "text/html": [
       "<pre>| 2         | 1800     | 1607.658425  | 0.693889          |                     | 22.255447       |</pre>"
      ],
      "text/plain": [
       "| 2         | 1800     | 1607.658425  | 0.693889          |                     | 22.255447       |"
      ]
     },
     "metadata": {},
     "output_type": "display_data"
    },
    {
     "data": {
      "text/html": [
       "<pre>| 2         | 2100     | 1620.977688  | 0.700476          |                     | 22.523809       |</pre>"
      ],
      "text/plain": [
       "| 2         | 2100     | 1620.977688  | 0.700476          |                     | 22.523809       |"
      ]
     },
     "metadata": {},
     "output_type": "display_data"
    },
    {
     "data": {
      "text/html": [
       "<pre>| 2         | 2400     | 1633.863936  | 0.702500          |                     | 23.280600       |</pre>"
      ],
      "text/plain": [
       "| 2         | 2400     | 1633.863936  | 0.702500          |                     | 23.280600       |"
      ]
     },
     "metadata": {},
     "output_type": "display_data"
    },
    {
     "data": {
      "text/html": [
       "<pre>| 2         | 2700     | 1647.721401  | 0.706667          |                     | 21.649019       |</pre>"
      ],
      "text/plain": [
       "| 2         | 2700     | 1647.721401  | 0.706667          |                     | 21.649019       |"
      ]
     },
     "metadata": {},
     "output_type": "display_data"
    },
    {
     "data": {
      "text/html": [
       "<pre>| 2         | 3000     | 1660.336487  | 0.702000          |                     | 23.781002       |</pre>"
      ],
      "text/plain": [
       "| 2         | 3000     | 1660.336487  | 0.702000          |                     | 23.781002       |"
      ]
     },
     "metadata": {},
     "output_type": "display_data"
    },
    {
     "data": {
      "text/html": [
       "<pre>| 2         | 3300     | 1673.344651  | 0.693939          |                     | 23.062475       |</pre>"
      ],
      "text/plain": [
       "| 2         | 3300     | 1673.344651  | 0.693939          |                     | 23.062475       |"
      ]
     },
     "metadata": {},
     "output_type": "display_data"
    },
    {
     "data": {
      "text/html": [
       "<pre>| 2         | 3600     | 1687.349311  | 0.698056          |                     | 21.421444       |</pre>"
      ],
      "text/plain": [
       "| 2         | 3600     | 1687.349311  | 0.698056          |                     | 21.421444       |"
      ]
     },
     "metadata": {},
     "output_type": "display_data"
    },
    {
     "data": {
      "text/html": [
       "<pre>| 2         | 3900     | 1700.438611  | 0.696667          |                     | 22.919462       |</pre>"
      ],
      "text/plain": [
       "| 2         | 3900     | 1700.438611  | 0.696667          |                     | 22.919462       |"
      ]
     },
     "metadata": {},
     "output_type": "display_data"
    },
    {
     "data": {
      "text/html": [
       "<pre>| 2         | 4200     | 1713.731405  | 0.695476          |                     | 22.568644       |</pre>"
      ],
      "text/plain": [
       "| 2         | 4200     | 1713.731405  | 0.695476          |                     | 22.568644       |"
      ]
     },
     "metadata": {},
     "output_type": "display_data"
    },
    {
     "data": {
      "text/html": [
       "<pre>| 2         | 4500     | 1727.432663  | 0.695778          |                     | 21.895765       |</pre>"
      ],
      "text/plain": [
       "| 2         | 4500     | 1727.432663  | 0.695778          |                     | 21.895765       |"
      ]
     },
     "metadata": {},
     "output_type": "display_data"
    },
    {
     "data": {
      "text/html": [
       "<pre>| 2         | 4800     | 1740.960635  | 0.695000          |                     | 22.176319       |</pre>"
      ],
      "text/plain": [
       "| 2         | 4800     | 1740.960635  | 0.695000          |                     | 22.176319       |"
      ]
     },
     "metadata": {},
     "output_type": "display_data"
    },
    {
     "data": {
      "text/html": [
       "<pre>| 2         | 5100     | 1754.286359  | 0.695490          |                     | 22.512840       |</pre>"
      ],
      "text/plain": [
       "| 2         | 5100     | 1754.286359  | 0.695490          |                     | 22.512840       |"
      ]
     },
     "metadata": {},
     "output_type": "display_data"
    },
    {
     "data": {
      "text/html": [
       "<pre>| 2         | 5400     | 1767.798247  | 0.696296          |                     | 22.202665       |</pre>"
      ],
      "text/plain": [
       "| 2         | 5400     | 1767.798247  | 0.696296          |                     | 22.202665       |"
      ]
     },
     "metadata": {},
     "output_type": "display_data"
    },
    {
     "data": {
      "text/html": [
       "<pre>| 2         | 5700     | 1781.078886  | 0.696316          |                     | 22.589249       |</pre>"
      ],
      "text/plain": [
       "| 2         | 5700     | 1781.078886  | 0.696316          |                     | 22.589249       |"
      ]
     },
     "metadata": {},
     "output_type": "display_data"
    },
    {
     "data": {
      "text/html": [
       "<pre>| 2         | 6000     | 1794.412694  | 0.697500          |                     | 22.499222       |</pre>"
      ],
      "text/plain": [
       "| 2         | 6000     | 1794.412694  | 0.697500          |                     | 22.499222       |"
      ]
     },
     "metadata": {},
     "output_type": "display_data"
    },
    {
     "data": {
      "text/html": [
       "<pre>| 2         | 6300     | 1807.945687  | 0.698095          |                     | 22.168037       |</pre>"
      ],
      "text/plain": [
       "| 2         | 6300     | 1807.945687  | 0.698095          |                     | 22.168037       |"
      ]
     },
     "metadata": {},
     "output_type": "display_data"
    },
    {
     "data": {
      "text/html": [
       "<pre>| 2         | 6600     | 1820.793666  | 0.699697          |                     | 23.349993       |</pre>"
      ],
      "text/plain": [
       "| 2         | 6600     | 1820.793666  | 0.699697          |                     | 23.349993       |"
      ]
     },
     "metadata": {},
     "output_type": "display_data"
    },
    {
     "data": {
      "text/html": [
       "<pre>| 2         | 6900     | 1834.562059  | 0.701015          |                     | 21.789040       |</pre>"
      ],
      "text/plain": [
       "| 2         | 6900     | 1834.562059  | 0.701015          |                     | 21.789040       |"
      ]
     },
     "metadata": {},
     "output_type": "display_data"
    },
    {
     "data": {
      "text/html": [
       "<pre>| 2         | 7200     | 1847.925472  | 0.700417          |                     | 22.449345       |</pre>"
      ],
      "text/plain": [
       "| 2         | 7200     | 1847.925472  | 0.700417          |                     | 22.449345       |"
      ]
     },
     "metadata": {},
     "output_type": "display_data"
    },
    {
     "data": {
      "text/html": [
       "<pre>| 2         | 7500     | 1861.081753  | 0.699600          |                     | 22.802803       |</pre>"
      ],
      "text/plain": [
       "| 2         | 7500     | 1861.081753  | 0.699600          |                     | 22.802803       |"
      ]
     },
     "metadata": {},
     "output_type": "display_data"
    },
    {
     "data": {
      "text/html": [
       "<pre>| 2         | 7800     | 1874.841359  | 0.701282          |                     | 21.802938       |</pre>"
      ],
      "text/plain": [
       "| 2         | 7800     | 1874.841359  | 0.701282          |                     | 21.802938       |"
      ]
     },
     "metadata": {},
     "output_type": "display_data"
    },
    {
     "data": {
      "text/html": [
       "<pre>| 2         | 8100     | 1887.669625  | 0.702716          |                     | 23.385878       |</pre>"
      ],
      "text/plain": [
       "| 2         | 8100     | 1887.669625  | 0.702716          |                     | 23.385878       |"
      ]
     },
     "metadata": {},
     "output_type": "display_data"
    },
    {
     "data": {
      "text/html": [
       "<pre>| 2         | 8400     | 1900.699073  | 0.703333          |                     | 23.024721       |</pre>"
      ],
      "text/plain": [
       "| 2         | 8400     | 1900.699073  | 0.703333          |                     | 23.024721       |"
      ]
     },
     "metadata": {},
     "output_type": "display_data"
    },
    {
     "data": {
      "text/html": [
       "<pre>| 2         | 8700     | 1914.121750  | 0.704943          |                     | 22.350264       |</pre>"
      ],
      "text/plain": [
       "| 2         | 8700     | 1914.121750  | 0.704943          |                     | 22.350264       |"
      ]
     },
     "metadata": {},
     "output_type": "display_data"
    },
    {
     "data": {
      "text/html": [
       "<pre>| 2         | 9000     | 1927.134983  | 0.705778          |                     | 23.053423       |</pre>"
      ],
      "text/plain": [
       "| 2         | 9000     | 1927.134983  | 0.705778          |                     | 23.053423       |"
      ]
     },
     "metadata": {},
     "output_type": "display_data"
    },
    {
     "data": {
      "text/html": [
       "<pre>| 2         | 9300     | 1940.031394  | 0.703763          |                     | 23.262335       |</pre>"
      ],
      "text/plain": [
       "| 2         | 9300     | 1940.031394  | 0.703763          |                     | 23.262335       |"
      ]
     },
     "metadata": {},
     "output_type": "display_data"
    },
    {
     "data": {
      "text/html": [
       "<pre>| 2         | 9600     | 1953.684709  | 0.704479          |                     | 21.972692       |</pre>"
      ],
      "text/plain": [
       "| 2         | 9600     | 1953.684709  | 0.704479          |                     | 21.972692       |"
      ]
     },
     "metadata": {},
     "output_type": "display_data"
    },
    {
     "data": {
      "text/html": [
       "<pre>| 2         | 9900     | 1966.051304  | 0.703838          |                     | 24.258862       |</pre>"
      ],
      "text/plain": [
       "| 2         | 9900     | 1966.051304  | 0.703838          |                     | 24.258862       |"
      ]
     },
     "metadata": {},
     "output_type": "display_data"
    },
    {
     "data": {
      "text/html": [
       "<pre>| 2         | 10200    | 1978.941708  | 0.703922          |                     | 23.273157       |</pre>"
      ],
      "text/plain": [
       "| 2         | 10200    | 1978.941708  | 0.703922          |                     | 23.273157       |"
      ]
     },
     "metadata": {},
     "output_type": "display_data"
    },
    {
     "data": {
      "text/html": [
       "<pre>| 2         | 10500    | 1992.691396  | 0.704952          |                     | 21.818642       |</pre>"
      ],
      "text/plain": [
       "| 2         | 10500    | 1992.691396  | 0.704952          |                     | 21.818642       |"
      ]
     },
     "metadata": {},
     "output_type": "display_data"
    },
    {
     "data": {
      "text/html": [
       "<pre>| 2         | 10800    | 2004.616281  | 0.705926          |                     | 25.157494       |</pre>"
      ],
      "text/plain": [
       "| 2         | 10800    | 2004.616281  | 0.705926          |                     | 25.157494       |"
      ]
     },
     "metadata": {},
     "output_type": "display_data"
    },
    {
     "data": {
      "text/html": [
       "<pre>| 2         | 11100    | 2017.374003  | 0.706667          |                     | 23.515173       |</pre>"
      ],
      "text/plain": [
       "| 2         | 11100    | 2017.374003  | 0.706667          |                     | 23.515173       |"
      ]
     },
     "metadata": {},
     "output_type": "display_data"
    },
    {
     "data": {
      "text/html": [
       "<pre>| 2         | 11400    | 2030.427620  | 0.705439          |                     | 22.982155       |</pre>"
      ],
      "text/plain": [
       "| 2         | 11400    | 2030.427620  | 0.705439          |                     | 22.982155       |"
      ]
     },
     "metadata": {},
     "output_type": "display_data"
    },
    {
     "data": {
      "text/html": [
       "<pre>| 2         | 11700    | 2044.019412  | 0.705812          |                     | 22.072107       |</pre>"
      ],
      "text/plain": [
       "| 2         | 11700    | 2044.019412  | 0.705812          |                     | 22.072107       |"
      ]
     },
     "metadata": {},
     "output_type": "display_data"
    },
    {
     "data": {
      "text/html": [
       "<pre>| 2         | 12000    | 2056.483647  | 0.705917          |                     | 24.068909       |</pre>"
      ],
      "text/plain": [
       "| 2         | 12000    | 2056.483647  | 0.705917          |                     | 24.068909       |"
      ]
     },
     "metadata": {},
     "output_type": "display_data"
    },
    {
     "data": {
      "text/html": [
       "<pre>| 2         | 12300    | 2069.069061  | 0.706098          |                     | 23.837116       |</pre>"
      ],
      "text/plain": [
       "| 2         | 12300    | 2069.069061  | 0.706098          |                     | 23.837116       |"
      ]
     },
     "metadata": {},
     "output_type": "display_data"
    },
    {
     "data": {
      "text/html": [
       "<pre>| 2         | 12600    | 2082.499597  | 0.705952          |                     | 22.337149       |</pre>"
      ],
      "text/plain": [
       "| 2         | 12600    | 2082.499597  | 0.705952          |                     | 22.337149       |"
      ]
     },
     "metadata": {},
     "output_type": "display_data"
    },
    {
     "data": {
      "text/html": [
       "<pre>| 2         | 12900    | 2094.883864  | 0.704496          |                     | 24.224239       |</pre>"
      ],
      "text/plain": [
       "| 2         | 12900    | 2094.883864  | 0.704496          |                     | 24.224239       |"
      ]
     },
     "metadata": {},
     "output_type": "display_data"
    },
    {
     "data": {
      "text/html": [
       "<pre>| 2         | 13200    | 2107.670068  | 0.704697          |                     | 23.462797       |</pre>"
      ],
      "text/plain": [
       "| 2         | 13200    | 2107.670068  | 0.704697          |                     | 23.462797       |"
      ]
     },
     "metadata": {},
     "output_type": "display_data"
    },
    {
     "data": {
      "text/html": [
       "<pre>| 2         | 13500    | 2121.153848  | 0.704222          |                     | 22.248981       |</pre>"
      ],
      "text/plain": [
       "| 2         | 13500    | 2121.153848  | 0.704222          |                     | 22.248981       |"
      ]
     },
     "metadata": {},
     "output_type": "display_data"
    },
    {
     "data": {
      "text/html": [
       "<pre>| 2         | 13800    | 2134.436316  | 0.705217          |                     | 22.586142       |</pre>"
      ],
      "text/plain": [
       "| 2         | 13800    | 2134.436316  | 0.705217          |                     | 22.586142       |"
      ]
     },
     "metadata": {},
     "output_type": "display_data"
    },
    {
     "data": {
      "text/html": [
       "<pre>| 2         | 14100    | 2147.395883  | 0.705603          |                     | 23.148903       |</pre>"
      ],
      "text/plain": [
       "| 2         | 14100    | 2147.395883  | 0.705603          |                     | 23.148903       |"
      ]
     },
     "metadata": {},
     "output_type": "display_data"
    },
    {
     "data": {
      "text/html": [
       "<pre>| 2         | 14400    | 2161.104590  | 0.706042          |                     | 21.883940       |</pre>"
      ],
      "text/plain": [
       "| 2         | 14400    | 2161.104590  | 0.706042          |                     | 21.883940       |"
      ]
     },
     "metadata": {},
     "output_type": "display_data"
    },
    {
     "data": {
      "text/html": [
       "<pre>| 2         | 14700    | 2174.056312  | 0.705714          |                     | 23.162914       |</pre>"
      ],
      "text/plain": [
       "| 2         | 14700    | 2174.056312  | 0.705714          |                     | 23.162914       |"
      ]
     },
     "metadata": {},
     "output_type": "display_data"
    },
    {
     "data": {
      "text/html": [
       "<pre>| 2         | 15000    | 2187.301228  | 0.707000          |                     | 22.650230       |</pre>"
      ],
      "text/plain": [
       "| 2         | 15000    | 2187.301228  | 0.707000          |                     | 22.650230       |"
      ]
     },
     "metadata": {},
     "output_type": "display_data"
    },
    {
     "data": {
      "text/html": [
       "<pre>| 2         | 15300    | 2200.602751  | 0.706993          |                     | 22.553791       |</pre>"
      ],
      "text/plain": [
       "| 2         | 15300    | 2200.602751  | 0.706993          |                     | 22.553791       |"
      ]
     },
     "metadata": {},
     "output_type": "display_data"
    },
    {
     "data": {
      "text/html": [
       "<pre>| 2         | 15600    | 2212.899007  | 0.707308          |                     | 24.397638       |</pre>"
      ],
      "text/plain": [
       "| 2         | 15600    | 2212.899007  | 0.707308          |                     | 24.397638       |"
      ]
     },
     "metadata": {},
     "output_type": "display_data"
    },
    {
     "data": {
      "text/html": [
       "<pre>| 2         | 15900    | 2225.981121  | 0.707799          |                     | 22.932138       |</pre>"
      ],
      "text/plain": [
       "| 2         | 15900    | 2225.981121  | 0.707799          |                     | 22.932138       |"
      ]
     },
     "metadata": {},
     "output_type": "display_data"
    },
    {
     "data": {
      "text/html": [
       "<pre>| 2         | 16200    | 2239.438371  | 0.708395          |                     | 22.292780       |</pre>"
      ],
      "text/plain": [
       "| 2         | 16200    | 2239.438371  | 0.708395          |                     | 22.292780       |"
      ]
     },
     "metadata": {},
     "output_type": "display_data"
    },
    {
     "data": {
      "text/html": [
       "<pre>| 2         | 16500    | 2252.877767  | 0.708485          |                     | 22.322464       |</pre>"
      ],
      "text/plain": [
       "| 2         | 16500    | 2252.877767  | 0.708485          |                     | 22.322464       |"
      ]
     },
     "metadata": {},
     "output_type": "display_data"
    },
    {
     "data": {
      "text/html": [
       "<pre>| 2         | 16800    | 2265.965518  | 0.708452          |                     | 22.922201       |</pre>"
      ],
      "text/plain": [
       "| 2         | 16800    | 2265.965518  | 0.708452          |                     | 22.922201       |"
      ]
     },
     "metadata": {},
     "output_type": "display_data"
    },
    {
     "data": {
      "text/html": [
       "<pre>| 2         | 17100    | 2279.024139  | 0.709123          |                     | 22.973318       |</pre>"
      ],
      "text/plain": [
       "| 2         | 17100    | 2279.024139  | 0.709123          |                     | 22.973318       |"
      ]
     },
     "metadata": {},
     "output_type": "display_data"
    },
    {
     "data": {
      "text/html": [
       "<pre>| 2         | 17400    | 2291.961090  | 0.709598          |                     | 23.189360       |</pre>"
      ],
      "text/plain": [
       "| 2         | 17400    | 2291.961090  | 0.709598          |                     | 23.189360       |"
      ]
     },
     "metadata": {},
     "output_type": "display_data"
    },
    {
     "data": {
      "text/html": [
       "<pre>| 2         | 17700    | 2305.002892  | 0.710395          |                     | 23.002983       |</pre>"
      ],
      "text/plain": [
       "| 2         | 17700    | 2305.002892  | 0.710395          |                     | 23.002983       |"
      ]
     },
     "metadata": {},
     "output_type": "display_data"
    },
    {
     "data": {
      "text/html": [
       "<pre>| 2         | 18000    | 2318.548323  | 0.711056          |                     | 22.147657       |</pre>"
      ],
      "text/plain": [
       "| 2         | 18000    | 2318.548323  | 0.711056          |                     | 22.147657       |"
      ]
     },
     "metadata": {},
     "output_type": "display_data"
    },
    {
     "data": {
      "text/html": [
       "<pre>| 2         | 18300    | 2331.588450  | 0.710984          |                     | 23.005903       |</pre>"
      ],
      "text/plain": [
       "| 2         | 18300    | 2331.588450  | 0.710984          |                     | 23.005903       |"
      ]
     },
     "metadata": {},
     "output_type": "display_data"
    },
    {
     "data": {
      "text/html": [
       "<pre>| 2         | 18600    | 2345.631385  | 0.711290          |                     | 21.363083       |</pre>"
      ],
      "text/plain": [
       "| 2         | 18600    | 2345.631385  | 0.711290          |                     | 21.363083       |"
      ]
     },
     "metadata": {},
     "output_type": "display_data"
    },
    {
     "data": {
      "text/html": [
       "<pre>| 2         | 18900    | 2358.420889  | 0.712011          |                     | 23.456707       |</pre>"
      ],
      "text/plain": [
       "| 2         | 18900    | 2358.420889  | 0.712011          |                     | 23.456707       |"
      ]
     },
     "metadata": {},
     "output_type": "display_data"
    },
    {
     "data": {
      "text/html": [
       "<pre>| 2         | 19200    | 2371.470348  | 0.712396          |                     | 22.989492       |</pre>"
      ],
      "text/plain": [
       "| 2         | 19200    | 2371.470348  | 0.712396          |                     | 22.989492       |"
      ]
     },
     "metadata": {},
     "output_type": "display_data"
    },
    {
     "data": {
      "text/html": [
       "<pre>| 2         | 19500    | 2384.913283  | 0.712564          |                     | 22.316540       |</pre>"
      ],
      "text/plain": [
       "| 2         | 19500    | 2384.913283  | 0.712564          |                     | 22.316540       |"
      ]
     },
     "metadata": {},
     "output_type": "display_data"
    },
    {
     "data": {
      "text/html": [
       "<pre>| 2         | 19800    | 2397.817595  | 0.712778          |                     | 23.248032       |</pre>"
      ],
      "text/plain": [
       "| 2         | 19800    | 2397.817595  | 0.712778          |                     | 23.248032       |"
      ]
     },
     "metadata": {},
     "output_type": "display_data"
    },
    {
     "data": {
      "text/html": [
       "<pre>| 2         | 20100    | 2411.002546  | 0.713035          |                     | 22.753242       |</pre>"
      ],
      "text/plain": [
       "| 2         | 20100    | 2411.002546  | 0.713035          |                     | 22.753242       |"
      ]
     },
     "metadata": {},
     "output_type": "display_data"
    },
    {
     "data": {
      "text/html": [
       "<pre>| 2         | 20400    | 2424.584139  | 0.713676          |                     | 22.088688       |</pre>"
      ],
      "text/plain": [
       "| 2         | 20400    | 2424.584139  | 0.713676          |                     | 22.088688       |"
      ]
     },
     "metadata": {},
     "output_type": "display_data"
    },
    {
     "data": {
      "text/html": [
       "<pre>| 2         | 20700    | 2437.667931  | 0.713961          |                     | 22.929174       |</pre>"
      ],
      "text/plain": [
       "| 2         | 20700    | 2437.667931  | 0.713961          |                     | 22.929174       |"
      ]
     },
     "metadata": {},
     "output_type": "display_data"
    },
    {
     "data": {
      "text/html": [
       "<pre>| 2         | 21000    | 2451.091220  | 0.714857          |                     | 22.349211       |</pre>"
      ],
      "text/plain": [
       "| 2         | 21000    | 2451.091220  | 0.714857          |                     | 22.349211       |"
      ]
     },
     "metadata": {},
     "output_type": "display_data"
    },
    {
     "data": {
      "text/html": [
       "<pre>| 2         | 21300    | 2464.124435  | 0.715399          |                     | 23.018110       |</pre>"
      ],
      "text/plain": [
       "| 2         | 21300    | 2464.124435  | 0.715399          |                     | 23.018110       |"
      ]
     },
     "metadata": {},
     "output_type": "display_data"
    },
    {
     "data": {
      "text/html": [
       "<pre>| 2         | 21600    | 2477.320709  | 0.715556          |                     | 22.733664       |</pre>"
      ],
      "text/plain": [
       "| 2         | 21600    | 2477.320709  | 0.715556          |                     | 22.733664       |"
      ]
     },
     "metadata": {},
     "output_type": "display_data"
    },
    {
     "data": {
      "text/html": [
       "<pre>| 2         | 21900    | 2490.335430  | 0.715890          |                     | 23.050861       |</pre>"
      ],
      "text/plain": [
       "| 2         | 21900    | 2490.335430  | 0.715890          |                     | 23.050861       |"
      ]
     },
     "metadata": {},
     "output_type": "display_data"
    },
    {
     "data": {
      "text/html": [
       "<pre>| 2         | 22200    | 2504.489993  | 0.716487          |                     | 21.194559       |</pre>"
      ],
      "text/plain": [
       "| 2         | 22200    | 2504.489993  | 0.716487          |                     | 21.194559       |"
      ]
     },
     "metadata": {},
     "output_type": "display_data"
    },
    {
     "data": {
      "text/html": [
       "<pre>| 2         | 22500    | 2517.531220  | 0.716844          |                     | 23.003935       |</pre>"
      ],
      "text/plain": [
       "| 2         | 22500    | 2517.531220  | 0.716844          |                     | 23.003935       |"
      ]
     },
     "metadata": {},
     "output_type": "display_data"
    },
    {
     "data": {
      "text/html": [
       "<pre>| 2         | 22800    | 2530.948719  | 0.717018          |                     | 22.358908       |</pre>"
      ],
      "text/plain": [
       "| 2         | 22800    | 2530.948719  | 0.717018          |                     | 22.358908       |"
      ]
     },
     "metadata": {},
     "output_type": "display_data"
    },
    {
     "data": {
      "text/html": [
       "<pre>| 2         | 23100    | 2544.155574  | 0.716407          |                     | 22.715441       |</pre>"
      ],
      "text/plain": [
       "| 2         | 23100    | 2544.155574  | 0.716407          |                     | 22.715441       |"
      ]
     },
     "metadata": {},
     "output_type": "display_data"
    },
    {
     "data": {
      "text/html": [
       "<pre>| 2         | 23400    | 2556.990391  | 0.715427          |                     | 23.373959       |</pre>"
      ],
      "text/plain": [
       "| 2         | 23400    | 2556.990391  | 0.715427          |                     | 23.373959       |"
      ]
     },
     "metadata": {},
     "output_type": "display_data"
    },
    {
     "data": {
      "text/html": [
       "<pre>| 2         | 23700    | 2570.605901  | 0.714979          |                     | 22.033699       |</pre>"
      ],
      "text/plain": [
       "| 2         | 23700    | 2570.605901  | 0.714979          |                     | 22.033699       |"
      ]
     },
     "metadata": {},
     "output_type": "display_data"
    },
    {
     "data": {
      "text/html": [
       "<pre>| 2         | 24000    | 2583.649837  | 0.714917          |                     | 22.999140       |</pre>"
      ],
      "text/plain": [
       "| 2         | 24000    | 2583.649837  | 0.714917          |                     | 22.999140       |"
      ]
     },
     "metadata": {},
     "output_type": "display_data"
    },
    {
     "data": {
      "text/html": [
       "<pre>| 2         | 24300    | 2596.363686  | 0.715021          |                     | 23.596315       |</pre>"
      ],
      "text/plain": [
       "| 2         | 24300    | 2596.363686  | 0.715021          |                     | 23.596315       |"
      ]
     },
     "metadata": {},
     "output_type": "display_data"
    },
    {
     "data": {
      "text/html": [
       "<pre>| 2         | 24600    | 2609.459833  | 0.714553          |                     | 22.907547       |</pre>"
      ],
      "text/plain": [
       "| 2         | 24600    | 2609.459833  | 0.714553          |                     | 22.907547       |"
      ]
     },
     "metadata": {},
     "output_type": "display_data"
    },
    {
     "data": {
      "text/html": [
       "<pre>| 2         | 24900    | 2622.631147  | 0.714940          |                     | 22.776724       |</pre>"
      ],
      "text/plain": [
       "| 2         | 24900    | 2622.631147  | 0.714940          |                     | 22.776724       |"
      ]
     },
     "metadata": {},
     "output_type": "display_data"
    },
    {
     "data": {
      "text/html": [
       "<pre>| 2         | 25200    | 2634.943297  | 0.714722          |                     | 24.366186       |</pre>"
      ],
      "text/plain": [
       "| 2         | 25200    | 2634.943297  | 0.714722          |                     | 24.366186       |"
      ]
     },
     "metadata": {},
     "output_type": "display_data"
    },
    {
     "data": {
      "text/html": [
       "<pre>| 2         | 25500    | 2648.305012  | 0.714980          |                     | 22.452248       |</pre>"
      ],
      "text/plain": [
       "| 2         | 25500    | 2648.305012  | 0.714980          |                     | 22.452248       |"
      ]
     },
     "metadata": {},
     "output_type": "display_data"
    },
    {
     "data": {
      "text/html": [
       "<pre>| 2         | 25800    | 2661.277234  | 0.715504          |                     | 23.126333       |</pre>"
      ],
      "text/plain": [
       "| 2         | 25800    | 2661.277234  | 0.715504          |                     | 23.126333       |"
      ]
     },
     "metadata": {},
     "output_type": "display_data"
    },
    {
     "data": {
      "text/html": [
       "<pre>| 2         | 26100    | 2674.016422  | 0.715364          |                     | 23.549387       |</pre>"
      ],
      "text/plain": [
       "| 2         | 26100    | 2674.016422  | 0.715364          |                     | 23.549387       |"
      ]
     },
     "metadata": {},
     "output_type": "display_data"
    },
    {
     "data": {
      "text/html": [
       "<pre>| 2         | 26400    | 2687.435448  | 0.715076          |                     | 22.356321       |</pre>"
      ],
      "text/plain": [
       "| 2         | 26400    | 2687.435448  | 0.715076          |                     | 22.356321       |"
      ]
     },
     "metadata": {},
     "output_type": "display_data"
    },
    {
     "data": {
      "text/html": [
       "<pre>| 2         | 26700    | 2700.755316  | 0.715618          |                     | 22.522739       |</pre>"
      ],
      "text/plain": [
       "| 2         | 26700    | 2700.755316  | 0.715618          |                     | 22.522739       |"
      ]
     },
     "metadata": {},
     "output_type": "display_data"
    },
    {
     "data": {
      "text/html": [
       "<pre>| 2         | 27000    | 2714.344744  | 0.715926          |                     | 22.075974       |</pre>"
      ],
      "text/plain": [
       "| 2         | 27000    | 2714.344744  | 0.715926          |                     | 22.075974       |"
      ]
     },
     "metadata": {},
     "output_type": "display_data"
    },
    {
     "data": {
      "text/html": [
       "<pre>| 2         | 27300    | 2728.244359  | 0.715714          |                     | 21.583344       |</pre>"
      ],
      "text/plain": [
       "| 2         | 27300    | 2728.244359  | 0.715714          |                     | 21.583344       |"
      ]
     },
     "metadata": {},
     "output_type": "display_data"
    },
    {
     "data": {
      "text/html": [
       "<pre>| 2         | 27600    | 2741.494034  | 0.715362          |                     | 22.642038       |</pre>"
      ],
      "text/plain": [
       "| 2         | 27600    | 2741.494034  | 0.715362          |                     | 22.642038       |"
      ]
     },
     "metadata": {},
     "output_type": "display_data"
    },
    {
     "data": {
      "text/html": [
       "<pre>| 2         | 27600    | 3009.065225  | 0.715362          | 0.812906            | 22.642038       |</pre>"
      ],
      "text/plain": [
       "| 2         | 27600    | 3009.065225  | 0.715362          | 0.812906            | 22.642038       |"
      ]
     },
     "metadata": {},
     "output_type": "display_data"
    },
    {
     "data": {
      "text/html": [
       "<pre>Checkpointing model into rep IDSIA by 1 conv graphlab net - train in 10 iters</pre>"
      ],
      "text/plain": [
       "Checkpointing model into rep IDSIA by 1 conv graphlab net - train in 10 iters"
      ]
     },
     "metadata": {},
     "output_type": "display_data"
    },
    {
     "data": {
      "text/html": [
       "<pre>| 3         | 300      | 3022.816973  | 0.736667          |                     | 21.815784       |</pre>"
      ],
      "text/plain": [
       "| 3         | 300      | 3022.816973  | 0.736667          |                     | 21.815784       |"
      ]
     },
     "metadata": {},
     "output_type": "display_data"
    },
    {
     "data": {
      "text/html": [
       "<pre>| 3         | 600      | 3035.291900  | 0.731667          |                     | 24.048235       |</pre>"
      ],
      "text/plain": [
       "| 3         | 600      | 3035.291900  | 0.731667          |                     | 24.048235       |"
      ]
     },
     "metadata": {},
     "output_type": "display_data"
    },
    {
     "data": {
      "text/html": [
       "<pre>| 3         | 900      | 3047.994935  | 0.727778          |                     | 23.616386       |</pre>"
      ],
      "text/plain": [
       "| 3         | 900      | 3047.994935  | 0.727778          |                     | 23.616386       |"
      ]
     },
     "metadata": {},
     "output_type": "display_data"
    },
    {
     "data": {
      "text/html": [
       "<pre>| 3         | 1200     | 3061.233183  | 0.720000          |                     | 22.661631       |</pre>"
      ],
      "text/plain": [
       "| 3         | 1200     | 3061.233183  | 0.720000          |                     | 22.661631       |"
      ]
     },
     "metadata": {},
     "output_type": "display_data"
    },
    {
     "data": {
      "text/html": [
       "<pre>| 3         | 1500     | 3073.719003  | 0.714000          |                     | 24.027237       |</pre>"
      ],
      "text/plain": [
       "| 3         | 1500     | 3073.719003  | 0.714000          |                     | 24.027237       |"
      ]
     },
     "metadata": {},
     "output_type": "display_data"
    },
    {
     "data": {
      "text/html": [
       "<pre>| 3         | 1800     | 3086.288635  | 0.708333          |                     | 23.867098       |</pre>"
      ],
      "text/plain": [
       "| 3         | 1800     | 3086.288635  | 0.708333          |                     | 23.867098       |"
      ]
     },
     "metadata": {},
     "output_type": "display_data"
    },
    {
     "data": {
      "text/html": [
       "<pre>| 3         | 2100     | 3099.823848  | 0.713810          |                     | 22.164375       |</pre>"
      ],
      "text/plain": [
       "| 3         | 2100     | 3099.823848  | 0.713810          |                     | 22.164375       |"
      ]
     },
     "metadata": {},
     "output_type": "display_data"
    },
    {
     "data": {
      "text/html": [
       "<pre>| 3         | 2400     | 3112.622671  | 0.710833          |                     | 23.439653       |</pre>"
      ],
      "text/plain": [
       "| 3         | 2400     | 3112.622671  | 0.710833          |                     | 23.439653       |"
      ]
     },
     "metadata": {},
     "output_type": "display_data"
    },
    {
     "data": {
      "text/html": [
       "<pre>| 3         | 2700     | 3125.235933  | 0.709630          |                     | 23.784483       |</pre>"
      ],
      "text/plain": [
       "| 3         | 2700     | 3125.235933  | 0.709630          |                     | 23.784483       |"
      ]
     },
     "metadata": {},
     "output_type": "display_data"
    },
    {
     "data": {
      "text/html": [
       "<pre>| 3         | 3000     | 3138.904010  | 0.714000          |                     | 21.948997       |</pre>"
      ],
      "text/plain": [
       "| 3         | 3000     | 3138.904010  | 0.714000          |                     | 21.948997       |"
      ]
     },
     "metadata": {},
     "output_type": "display_data"
    },
    {
     "data": {
      "text/html": [
       "<pre>| 3         | 3300     | 3151.457950  | 0.714545          |                     | 23.896864       |</pre>"
      ],
      "text/plain": [
       "| 3         | 3300     | 3151.457950  | 0.714545          |                     | 23.896864       |"
      ]
     },
     "metadata": {},
     "output_type": "display_data"
    },
    {
     "data": {
      "text/html": [
       "<pre>| 3         | 3600     | 3163.944151  | 0.717500          |                     | 24.026533       |</pre>"
      ],
      "text/plain": [
       "| 3         | 3600     | 3163.944151  | 0.717500          |                     | 24.026533       |"
      ]
     },
     "metadata": {},
     "output_type": "display_data"
    },
    {
     "data": {
      "text/html": [
       "<pre>| 3         | 3900     | 3177.281861  | 0.718462          |                     | 22.492624       |</pre>"
      ],
      "text/plain": [
       "| 3         | 3900     | 3177.281861  | 0.718462          |                     | 22.492624       |"
      ]
     },
     "metadata": {},
     "output_type": "display_data"
    },
    {
     "data": {
      "text/html": [
       "<pre>| 3         | 4200     | 3190.290932  | 0.719762          |                     | 23.060820       |</pre>"
      ],
      "text/plain": [
       "| 3         | 4200     | 3190.290932  | 0.719762          |                     | 23.060820       |"
      ]
     },
     "metadata": {},
     "output_type": "display_data"
    },
    {
     "data": {
      "text/html": [
       "<pre>| 3         | 4500     | 3203.924228  | 0.718444          |                     | 22.004950       |</pre>"
      ],
      "text/plain": [
       "| 3         | 4500     | 3203.924228  | 0.718444          |                     | 22.004950       |"
      ]
     },
     "metadata": {},
     "output_type": "display_data"
    },
    {
     "data": {
      "text/html": [
       "<pre>| 3         | 4800     | 3217.607558  | 0.716458          |                     | 21.924498       |</pre>"
      ],
      "text/plain": [
       "| 3         | 4800     | 3217.607558  | 0.716458          |                     | 21.924498       |"
      ]
     },
     "metadata": {},
     "output_type": "display_data"
    },
    {
     "data": {
      "text/html": [
       "<pre>| 3         | 5100     | 3230.707120  | 0.717647          |                     | 22.901518       |</pre>"
      ],
      "text/plain": [
       "| 3         | 5100     | 3230.707120  | 0.717647          |                     | 22.901518       |"
      ]
     },
     "metadata": {},
     "output_type": "display_data"
    },
    {
     "data": {
      "text/html": [
       "<pre>| 3         | 5400     | 3243.621871  | 0.719444          |                     | 23.229219       |</pre>"
      ],
      "text/plain": [
       "| 3         | 5400     | 3243.621871  | 0.719444          |                     | 23.229219       |"
      ]
     },
     "metadata": {},
     "output_type": "display_data"
    },
    {
     "data": {
      "text/html": [
       "<pre>| 3         | 5700     | 3257.432316  | 0.719123          |                     | 21.722734       |</pre>"
      ],
      "text/plain": [
       "| 3         | 5700     | 3257.432316  | 0.719123          |                     | 21.722734       |"
      ]
     },
     "metadata": {},
     "output_type": "display_data"
    },
    {
     "data": {
      "text/html": [
       "<pre>| 3         | 6000     | 3270.100445  | 0.719667          |                     | 23.681423       |</pre>"
      ],
      "text/plain": [
       "| 3         | 6000     | 3270.100445  | 0.719667          |                     | 23.681423       |"
      ]
     },
     "metadata": {},
     "output_type": "display_data"
    },
    {
     "data": {
      "text/html": [
       "<pre>| 3         | 6300     | 3282.938817  | 0.721587          |                     | 23.367483       |</pre>"
      ],
      "text/plain": [
       "| 3         | 6300     | 3282.938817  | 0.721587          |                     | 23.367483       |"
      ]
     },
     "metadata": {},
     "output_type": "display_data"
    },
    {
     "data": {
      "text/html": [
       "<pre>| 3         | 6600     | 3296.327723  | 0.722121          |                     | 22.406595       |</pre>"
      ],
      "text/plain": [
       "| 3         | 6600     | 3296.327723  | 0.722121          |                     | 22.406595       |"
      ]
     },
     "metadata": {},
     "output_type": "display_data"
    },
    {
     "data": {
      "text/html": [
       "<pre>| 3         | 6900     | 3308.985876  | 0.725507          |                     | 23.700134       |</pre>"
      ],
      "text/plain": [
       "| 3         | 6900     | 3308.985876  | 0.725507          |                     | 23.700134       |"
      ]
     },
     "metadata": {},
     "output_type": "display_data"
    },
    {
     "data": {
      "text/html": [
       "<pre>| 3         | 7200     | 3322.284308  | 0.725000          |                     | 22.559057       |</pre>"
      ],
      "text/plain": [
       "| 3         | 7200     | 3322.284308  | 0.725000          |                     | 22.559057       |"
      ]
     },
     "metadata": {},
     "output_type": "display_data"
    },
    {
     "data": {
      "text/html": [
       "<pre>| 3         | 7500     | 3335.888026  | 0.725333          |                     | 22.052788       |</pre>"
      ],
      "text/plain": [
       "| 3         | 7500     | 3335.888026  | 0.725333          |                     | 22.052788       |"
      ]
     },
     "metadata": {},
     "output_type": "display_data"
    },
    {
     "data": {
      "text/html": [
       "<pre>| 3         | 7800     | 3348.987213  | 0.727051          |                     | 22.902178       |</pre>"
      ],
      "text/plain": [
       "| 3         | 7800     | 3348.987213  | 0.727051          |                     | 22.902178       |"
      ]
     },
     "metadata": {},
     "output_type": "display_data"
    },
    {
     "data": {
      "text/html": [
       "<pre>| 3         | 8100     | 3361.689169  | 0.726790          |                     | 23.618401       |</pre>"
      ],
      "text/plain": [
       "| 3         | 8100     | 3361.689169  | 0.726790          |                     | 23.618401       |"
      ]
     },
     "metadata": {},
     "output_type": "display_data"
    },
    {
     "data": {
      "text/html": [
       "<pre>| 3         | 8400     | 3375.716597  | 0.727381          |                     | 21.386707       |</pre>"
      ],
      "text/plain": [
       "| 3         | 8400     | 3375.716597  | 0.727381          |                     | 21.386707       |"
      ]
     },
     "metadata": {},
     "output_type": "display_data"
    },
    {
     "data": {
      "text/html": [
       "<pre>| 3         | 8700     | 3389.075296  | 0.727586          |                     | 22.457235       |</pre>"
      ],
      "text/plain": [
       "| 3         | 8700     | 3389.075296  | 0.727586          |                     | 22.457235       |"
      ]
     },
     "metadata": {},
     "output_type": "display_data"
    },
    {
     "data": {
      "text/html": [
       "<pre>| 3         | 9000     | 3401.761022  | 0.727333          |                     | 23.648674       |</pre>"
      ],
      "text/plain": [
       "| 3         | 9000     | 3401.761022  | 0.727333          |                     | 23.648674       |"
      ]
     },
     "metadata": {},
     "output_type": "display_data"
    },
    {
     "data": {
      "text/html": [
       "<pre>| 3         | 9300     | 3415.754126  | 0.727849          |                     | 21.439138       |</pre>"
      ],
      "text/plain": [
       "| 3         | 9300     | 3415.754126  | 0.727849          |                     | 21.439138       |"
      ]
     },
     "metadata": {},
     "output_type": "display_data"
    },
    {
     "data": {
      "text/html": [
       "<pre>| 3         | 9600     | 3429.018238  | 0.726146          |                     | 22.617411       |</pre>"
      ],
      "text/plain": [
       "| 3         | 9600     | 3429.018238  | 0.726146          |                     | 22.617411       |"
      ]
     },
     "metadata": {},
     "output_type": "display_data"
    },
    {
     "data": {
      "text/html": [
       "<pre>| 3         | 9900     | 3442.469878  | 0.724444          |                     | 22.302122       |</pre>"
      ],
      "text/plain": [
       "| 3         | 9900     | 3442.469878  | 0.724444          |                     | 22.302122       |"
      ]
     },
     "metadata": {},
     "output_type": "display_data"
    },
    {
     "data": {
      "text/html": [
       "<pre>| 3         | 10200    | 3455.765285  | 0.723922          |                     | 22.564152       |</pre>"
      ],
      "text/plain": [
       "| 3         | 10200    | 3455.765285  | 0.723922          |                     | 22.564152       |"
      ]
     },
     "metadata": {},
     "output_type": "display_data"
    },
    {
     "data": {
      "text/html": [
       "<pre>| 3         | 10500    | 3468.774321  | 0.724190          |                     | 23.060881       |</pre>"
      ],
      "text/plain": [
       "| 3         | 10500    | 3468.774321  | 0.724190          |                     | 23.060881       |"
      ]
     },
     "metadata": {},
     "output_type": "display_data"
    },
    {
     "data": {
      "text/html": [
       "<pre>| 3         | 10800    | 3481.891830  | 0.724167          |                     | 22.870216       |</pre>"
      ],
      "text/plain": [
       "| 3         | 10800    | 3481.891830  | 0.724167          |                     | 22.870216       |"
      ]
     },
     "metadata": {},
     "output_type": "display_data"
    },
    {
     "data": {
      "text/html": [
       "<pre>| 3         | 11100    | 3495.704477  | 0.724685          |                     | 21.719225       |</pre>"
      ],
      "text/plain": [
       "| 3         | 11100    | 3495.704477  | 0.724685          |                     | 21.719225       |"
      ]
     },
     "metadata": {},
     "output_type": "display_data"
    },
    {
     "data": {
      "text/html": [
       "<pre>| 3         | 11400    | 3508.811155  | 0.725877          |                     | 22.889071       |</pre>"
      ],
      "text/plain": [
       "| 3         | 11400    | 3508.811155  | 0.725877          |                     | 22.889071       |"
      ]
     },
     "metadata": {},
     "output_type": "display_data"
    },
    {
     "data": {
      "text/html": [
       "<pre>| 3         | 11700    | 3521.947757  | 0.725897          |                     | 22.837002       |</pre>"
      ],
      "text/plain": [
       "| 3         | 11700    | 3521.947757  | 0.725897          |                     | 22.837002       |"
      ]
     },
     "metadata": {},
     "output_type": "display_data"
    },
    {
     "data": {
      "text/html": [
       "<pre>| 3         | 12000    | 3535.266455  | 0.725583          |                     | 22.524685       |</pre>"
      ],
      "text/plain": [
       "| 3         | 12000    | 3535.266455  | 0.725583          |                     | 22.524685       |"
      ]
     },
     "metadata": {},
     "output_type": "display_data"
    },
    {
     "data": {
      "text/html": [
       "<pre>| 3         | 12300    | 3548.723694  | 0.726260          |                     | 22.292841       |</pre>"
      ],
      "text/plain": [
       "| 3         | 12300    | 3548.723694  | 0.726260          |                     | 22.292841       |"
      ]
     },
     "metadata": {},
     "output_type": "display_data"
    },
    {
     "data": {
      "text/html": [
       "<pre>| 3         | 12600    | 3562.506490  | 0.727540          |                     | 21.766260       |</pre>"
      ],
      "text/plain": [
       "| 3         | 12600    | 3562.506490  | 0.727540          |                     | 21.766260       |"
      ]
     },
     "metadata": {},
     "output_type": "display_data"
    },
    {
     "data": {
      "text/html": [
       "<pre>| 3         | 12900    | 3575.501456  | 0.726744          |                     | 23.085875       |</pre>"
      ],
      "text/plain": [
       "| 3         | 12900    | 3575.501456  | 0.726744          |                     | 23.085875       |"
      ]
     },
     "metadata": {},
     "output_type": "display_data"
    },
    {
     "data": {
      "text/html": [
       "<pre>| 3         | 13200    | 3588.517739  | 0.727349          |                     | 23.048101       |</pre>"
      ],
      "text/plain": [
       "| 3         | 13200    | 3588.517739  | 0.727349          |                     | 23.048101       |"
      ]
     },
     "metadata": {},
     "output_type": "display_data"
    },
    {
     "data": {
      "text/html": [
       "<pre>| 3         | 13500    | 3602.037281  | 0.727333          |                     | 22.190073       |</pre>"
      ],
      "text/plain": [
       "| 3         | 13500    | 3602.037281  | 0.727333          |                     | 22.190073       |"
      ]
     },
     "metadata": {},
     "output_type": "display_data"
    },
    {
     "data": {
      "text/html": [
       "<pre>| 3         | 13800    | 3614.485357  | 0.726377          |                     | 24.100124       |</pre>"
      ],
      "text/plain": [
       "| 3         | 13800    | 3614.485357  | 0.726377          |                     | 24.100124       |"
      ]
     },
     "metadata": {},
     "output_type": "display_data"
    },
    {
     "data": {
      "text/html": [
       "<pre>| 3         | 14100    | 3627.539904  | 0.726950          |                     | 22.980488       |</pre>"
      ],
      "text/plain": [
       "| 3         | 14100    | 3627.539904  | 0.726950          |                     | 22.980488       |"
      ]
     },
     "metadata": {},
     "output_type": "display_data"
    },
    {
     "data": {
      "text/html": [
       "<pre>| 3         | 14400    | 3641.152823  | 0.727153          |                     | 22.037874       |</pre>"
      ],
      "text/plain": [
       "| 3         | 14400    | 3641.152823  | 0.727153          |                     | 22.037874       |"
      ]
     },
     "metadata": {},
     "output_type": "display_data"
    },
    {
     "data": {
      "text/html": [
       "<pre>| 3         | 14700    | 3654.555818  | 0.725986          |                     | 22.383074       |</pre>"
      ],
      "text/plain": [
       "| 3         | 14700    | 3654.555818  | 0.725986          |                     | 22.383074       |"
      ]
     },
     "metadata": {},
     "output_type": "display_data"
    },
    {
     "data": {
      "text/html": [
       "<pre>| 3         | 15000    | 3668.205792  | 0.726400          |                     | 21.978071       |</pre>"
      ],
      "text/plain": [
       "| 3         | 15000    | 3668.205792  | 0.726400          |                     | 21.978071       |"
      ]
     },
     "metadata": {},
     "output_type": "display_data"
    },
    {
     "data": {
      "text/html": [
       "<pre>| 3         | 15300    | 3681.862243  | 0.726667          |                     | 21.967594       |</pre>"
      ],
      "text/plain": [
       "| 3         | 15300    | 3681.862243  | 0.726667          |                     | 21.967594       |"
      ]
     },
     "metadata": {},
     "output_type": "display_data"
    },
    {
     "data": {
      "text/html": [
       "<pre>| 3         | 15600    | 3693.858692  | 0.727436          |                     | 25.007448       |</pre>"
      ],
      "text/plain": [
       "| 3         | 15600    | 3693.858692  | 0.727436          |                     | 25.007448       |"
      ]
     },
     "metadata": {},
     "output_type": "display_data"
    },
    {
     "data": {
      "text/html": [
       "<pre>| 3         | 15900    | 3707.565866  | 0.728428          |                     | 21.886358       |</pre>"
      ],
      "text/plain": [
       "| 3         | 15900    | 3707.565866  | 0.728428          |                     | 21.886358       |"
      ]
     },
     "metadata": {},
     "output_type": "display_data"
    },
    {
     "data": {
      "text/html": [
       "<pre>| 3         | 16200    | 3720.743759  | 0.728519          |                     | 22.765533       |</pre>"
      ],
      "text/plain": [
       "| 3         | 16200    | 3720.743759  | 0.728519          |                     | 22.765533       |"
      ]
     },
     "metadata": {},
     "output_type": "display_data"
    },
    {
     "data": {
      "text/html": [
       "<pre>| 3         | 16500    | 3733.545679  | 0.728970          |                     | 23.433790       |</pre>"
      ],
      "text/plain": [
       "| 3         | 16500    | 3733.545679  | 0.728970          |                     | 23.433790       |"
      ]
     },
     "metadata": {},
     "output_type": "display_data"
    },
    {
     "data": {
      "text/html": [
       "<pre>| 3         | 16800    | 3746.604531  | 0.729405          |                     | 22.972973       |</pre>"
      ],
      "text/plain": [
       "| 3         | 16800    | 3746.604531  | 0.729405          |                     | 22.972973       |"
      ]
     },
     "metadata": {},
     "output_type": "display_data"
    },
    {
     "data": {
      "text/html": [
       "<pre>| 3         | 17100    | 3759.742085  | 0.730000          |                     | 22.835281       |</pre>"
      ],
      "text/plain": [
       "| 3         | 17100    | 3759.742085  | 0.730000          |                     | 22.835281       |"
      ]
     },
     "metadata": {},
     "output_type": "display_data"
    },
    {
     "data": {
      "text/html": [
       "<pre>| 3         | 17400    | 3772.871126  | 0.730517          |                     | 22.850082       |</pre>"
      ],
      "text/plain": [
       "| 3         | 17400    | 3772.871126  | 0.730517          |                     | 22.850082       |"
      ]
     },
     "metadata": {},
     "output_type": "display_data"
    },
    {
     "data": {
      "text/html": [
       "<pre>| 3         | 17700    | 3785.934041  | 0.731356          |                     | 22.965828       |</pre>"
      ],
      "text/plain": [
       "| 3         | 17700    | 3785.934041  | 0.731356          |                     | 22.965828       |"
      ]
     },
     "metadata": {},
     "output_type": "display_data"
    },
    {
     "data": {
      "text/html": [
       "<pre>| 3         | 18000    | 3799.309469  | 0.732556          |                     | 22.429142       |</pre>"
      ],
      "text/plain": [
       "| 3         | 18000    | 3799.309469  | 0.732556          |                     | 22.429142       |"
      ]
     },
     "metadata": {},
     "output_type": "display_data"
    },
    {
     "data": {
      "text/html": [
       "<pre>| 3         | 18300    | 3812.144483  | 0.733169          |                     | 23.373573       |</pre>"
      ],
      "text/plain": [
       "| 3         | 18300    | 3812.144483  | 0.733169          |                     | 23.373573       |"
      ]
     },
     "metadata": {},
     "output_type": "display_data"
    },
    {
     "data": {
      "text/html": [
       "<pre>| 3         | 18600    | 3825.050943  | 0.734194          |                     | 23.244213       |</pre>"
      ],
      "text/plain": [
       "| 3         | 18600    | 3825.050943  | 0.734194          |                     | 23.244213       |"
      ]
     },
     "metadata": {},
     "output_type": "display_data"
    },
    {
     "data": {
      "text/html": [
       "<pre>| 3         | 18900    | 3838.902745  | 0.735026          |                     | 21.657810       |</pre>"
      ],
      "text/plain": [
       "| 3         | 18900    | 3838.902745  | 0.735026          |                     | 21.657810       |"
      ]
     },
     "metadata": {},
     "output_type": "display_data"
    },
    {
     "data": {
      "text/html": [
       "<pre>| 3         | 19200    | 3851.441760  | 0.735469          |                     | 23.925343       |</pre>"
      ],
      "text/plain": [
       "| 3         | 19200    | 3851.441760  | 0.735469          |                     | 23.925343       |"
      ]
     },
     "metadata": {},
     "output_type": "display_data"
    },
    {
     "data": {
      "text/html": [
       "<pre>| 3         | 19500    | 3864.216495  | 0.736103          |                     | 23.483833       |</pre>"
      ],
      "text/plain": [
       "| 3         | 19500    | 3864.216495  | 0.736103          |                     | 23.483833       |"
      ]
     },
     "metadata": {},
     "output_type": "display_data"
    },
    {
     "data": {
      "text/html": [
       "<pre>| 3         | 19800    | 3877.579306  | 0.736212          |                     | 22.450352       |</pre>"
      ],
      "text/plain": [
       "| 3         | 19800    | 3877.579306  | 0.736212          |                     | 22.450352       |"
      ]
     },
     "metadata": {},
     "output_type": "display_data"
    },
    {
     "data": {
      "text/html": [
       "<pre>| 3         | 20100    | 3890.289897  | 0.736965          |                     | 23.602350       |</pre>"
      ],
      "text/plain": [
       "| 3         | 20100    | 3890.289897  | 0.736965          |                     | 23.602350       |"
      ]
     },
     "metadata": {},
     "output_type": "display_data"
    },
    {
     "data": {
      "text/html": [
       "<pre>| 3         | 20400    | 3902.623610  | 0.737402          |                     | 24.323606       |</pre>"
      ],
      "text/plain": [
       "| 3         | 20400    | 3902.623610  | 0.737402          |                     | 24.323606       |"
      ]
     },
     "metadata": {},
     "output_type": "display_data"
    },
    {
     "data": {
      "text/html": [
       "<pre>| 3         | 20700    | 3916.571070  | 0.737826          |                     | 21.509317       |</pre>"
      ],
      "text/plain": [
       "| 3         | 20700    | 3916.571070  | 0.737826          |                     | 21.509317       |"
      ]
     },
     "metadata": {},
     "output_type": "display_data"
    },
    {
     "data": {
      "text/html": [
       "<pre>| 3         | 21000    | 3929.414609  | 0.738619          |                     | 23.358004       |</pre>"
      ],
      "text/plain": [
       "| 3         | 21000    | 3929.414609  | 0.738619          |                     | 23.358004       |"
      ]
     },
     "metadata": {},
     "output_type": "display_data"
    },
    {
     "data": {
      "text/html": [
       "<pre>| 3         | 21300    | 3941.825178  | 0.738826          |                     | 24.172993       |</pre>"
      ],
      "text/plain": [
       "| 3         | 21300    | 3941.825178  | 0.738826          |                     | 24.172993       |"
      ]
     },
     "metadata": {},
     "output_type": "display_data"
    },
    {
     "data": {
      "text/html": [
       "<pre>| 3         | 21600    | 3954.793886  | 0.738611          |                     | 23.132601       |</pre>"
      ],
      "text/plain": [
       "| 3         | 21600    | 3954.793886  | 0.738611          |                     | 23.132601       |"
      ]
     },
     "metadata": {},
     "output_type": "display_data"
    },
    {
     "data": {
      "text/html": [
       "<pre>| 3         | 21900    | 3967.747654  | 0.738995          |                     | 23.159233       |</pre>"
      ],
      "text/plain": [
       "| 3         | 21900    | 3967.747654  | 0.738995          |                     | 23.159233       |"
      ]
     },
     "metadata": {},
     "output_type": "display_data"
    },
    {
     "data": {
      "text/html": [
       "<pre>| 3         | 22200    | 3980.930726  | 0.739054          |                     | 22.756479       |</pre>"
      ],
      "text/plain": [
       "| 3         | 22200    | 3980.930726  | 0.739054          |                     | 22.756479       |"
      ]
     },
     "metadata": {},
     "output_type": "display_data"
    },
    {
     "data": {
      "text/html": [
       "<pre>| 3         | 22500    | 3993.714251  | 0.738533          |                     | 23.467693       |</pre>"
      ],
      "text/plain": [
       "| 3         | 22500    | 3993.714251  | 0.738533          |                     | 23.467693       |"
      ]
     },
     "metadata": {},
     "output_type": "display_data"
    },
    {
     "data": {
      "text/html": [
       "<pre>| 3         | 22800    | 4007.544004  | 0.739211          |                     | 21.692381       |</pre>"
      ],
      "text/plain": [
       "| 3         | 22800    | 4007.544004  | 0.739211          |                     | 21.692381       |"
      ]
     },
     "metadata": {},
     "output_type": "display_data"
    },
    {
     "data": {
      "text/html": [
       "<pre>| 3         | 23100    | 4020.276834  | 0.738268          |                     | 23.561121       |</pre>"
      ],
      "text/plain": [
       "| 3         | 23100    | 4020.276834  | 0.738268          |                     | 23.561121       |"
      ]
     },
     "metadata": {},
     "output_type": "display_data"
    },
    {
     "data": {
      "text/html": [
       "<pre>| 3         | 23400    | 4033.219089  | 0.737308          |                     | 23.179943       |</pre>"
      ],
      "text/plain": [
       "| 3         | 23400    | 4033.219089  | 0.737308          |                     | 23.179943       |"
      ]
     },
     "metadata": {},
     "output_type": "display_data"
    },
    {
     "data": {
      "text/html": [
       "<pre>| 3         | 23700    | 4046.566733  | 0.736878          |                     | 22.475849       |</pre>"
      ],
      "text/plain": [
       "| 3         | 23700    | 4046.566733  | 0.736878          |                     | 22.475849       |"
      ]
     },
     "metadata": {},
     "output_type": "display_data"
    },
    {
     "data": {
      "text/html": [
       "<pre>| 3         | 24000    | 4059.795535  | 0.737167          |                     | 22.677792       |</pre>"
      ],
      "text/plain": [
       "| 3         | 24000    | 4059.795535  | 0.737167          |                     | 22.677792       |"
      ]
     },
     "metadata": {},
     "output_type": "display_data"
    },
    {
     "data": {
      "text/html": [
       "<pre>| 3         | 24300    | 4072.844560  | 0.737654          |                     | 22.990240       |</pre>"
      ],
      "text/plain": [
       "| 3         | 24300    | 4072.844560  | 0.737654          |                     | 22.990240       |"
      ]
     },
     "metadata": {},
     "output_type": "display_data"
    },
    {
     "data": {
      "text/html": [
       "<pre>| 3         | 24600    | 4086.117373  | 0.737561          |                     | 22.602541       |</pre>"
      ],
      "text/plain": [
       "| 3         | 24600    | 4086.117373  | 0.737561          |                     | 22.602541       |"
      ]
     },
     "metadata": {},
     "output_type": "display_data"
    },
    {
     "data": {
      "text/html": [
       "<pre>| 3         | 24900    | 4098.700241  | 0.737711          |                     | 23.841965       |</pre>"
      ],
      "text/plain": [
       "| 3         | 24900    | 4098.700241  | 0.737711          |                     | 23.841965       |"
      ]
     },
     "metadata": {},
     "output_type": "display_data"
    },
    {
     "data": {
      "text/html": [
       "<pre>| 3         | 25200    | 4111.178341  | 0.737500          |                     | 24.042093       |</pre>"
      ],
      "text/plain": [
       "| 3         | 25200    | 4111.178341  | 0.737500          |                     | 24.042093       |"
      ]
     },
     "metadata": {},
     "output_type": "display_data"
    },
    {
     "data": {
      "text/html": [
       "<pre>| 3         | 25500    | 4125.579743  | 0.737686          |                     | 20.831337       |</pre>"
      ],
      "text/plain": [
       "| 3         | 25500    | 4125.579743  | 0.737686          |                     | 20.831337       |"
      ]
     },
     "metadata": {},
     "output_type": "display_data"
    },
    {
     "data": {
      "text/html": [
       "<pre>| 3         | 25800    | 4138.423985  | 0.737248          |                     | 23.356773       |</pre>"
      ],
      "text/plain": [
       "| 3         | 25800    | 4138.423985  | 0.737248          |                     | 23.356773       |"
      ]
     },
     "metadata": {},
     "output_type": "display_data"
    },
    {
     "data": {
      "text/html": [
       "<pre>| 3         | 26100    | 4151.647125  | 0.737050          |                     | 22.687462       |</pre>"
      ],
      "text/plain": [
       "| 3         | 26100    | 4151.647125  | 0.737050          |                     | 22.687462       |"
      ]
     },
     "metadata": {},
     "output_type": "display_data"
    },
    {
     "data": {
      "text/html": [
       "<pre>| 3         | 26400    | 4165.055378  | 0.736667          |                     | 22.374327       |</pre>"
      ],
      "text/plain": [
       "| 3         | 26400    | 4165.055378  | 0.736667          |                     | 22.374327       |"
      ]
     },
     "metadata": {},
     "output_type": "display_data"
    },
    {
     "data": {
      "text/html": [
       "<pre>| 3         | 26700    | 4178.013637  | 0.737116          |                     | 23.151272       |</pre>"
      ],
      "text/plain": [
       "| 3         | 26700    | 4178.013637  | 0.737116          |                     | 23.151272       |"
      ]
     },
     "metadata": {},
     "output_type": "display_data"
    },
    {
     "data": {
      "text/html": [
       "<pre>| 3         | 27000    | 4191.488718  | 0.737222          |                     | 22.263294       |</pre>"
      ],
      "text/plain": [
       "| 3         | 27000    | 4191.488718  | 0.737222          |                     | 22.263294       |"
      ]
     },
     "metadata": {},
     "output_type": "display_data"
    },
    {
     "data": {
      "text/html": [
       "<pre>| 3         | 27300    | 4205.023384  | 0.737949          |                     | 22.165325       |</pre>"
      ],
      "text/plain": [
       "| 3         | 27300    | 4205.023384  | 0.737949          |                     | 22.165325       |"
      ]
     },
     "metadata": {},
     "output_type": "display_data"
    },
    {
     "data": {
      "text/html": [
       "<pre>| 3         | 27600    | 4218.148097  | 0.737899          |                     | 22.857605       |</pre>"
      ],
      "text/plain": [
       "| 3         | 27600    | 4218.148097  | 0.737899          |                     | 22.857605       |"
      ]
     },
     "metadata": {},
     "output_type": "display_data"
    },
    {
     "data": {
      "text/html": [
       "<pre>| 3         | 27600    | 4485.106828  | 0.737899          | 0.844701            | 22.857605       |</pre>"
      ],
      "text/plain": [
       "| 3         | 27600    | 4485.106828  | 0.737899          | 0.844701            | 22.857605       |"
      ]
     },
     "metadata": {},
     "output_type": "display_data"
    },
    {
     "data": {
      "text/html": [
       "<pre>Checkpointing model into rep IDSIA by 1 conv graphlab net - train in 10 iters</pre>"
      ],
      "text/plain": [
       "Checkpointing model into rep IDSIA by 1 conv graphlab net - train in 10 iters"
      ]
     },
     "metadata": {},
     "output_type": "display_data"
    },
    {
     "data": {
      "text/html": [
       "<pre>| 4         | 300      | 4499.233510  | 0.766667          |                     | 21.236803       |</pre>"
      ],
      "text/plain": [
       "| 4         | 300      | 4499.233510  | 0.766667          |                     | 21.236803       |"
      ]
     },
     "metadata": {},
     "output_type": "display_data"
    },
    {
     "data": {
      "text/html": [
       "<pre>| 4         | 600      | 4512.430433  | 0.775000          |                     | 22.732567       |</pre>"
      ],
      "text/plain": [
       "| 4         | 600      | 4512.430433  | 0.775000          |                     | 22.732567       |"
      ]
     },
     "metadata": {},
     "output_type": "display_data"
    },
    {
     "data": {
      "text/html": [
       "<pre>| 4         | 900      | 4525.574922  | 0.754444          |                     | 22.823299       |</pre>"
      ],
      "text/plain": [
       "| 4         | 900      | 4525.574922  | 0.754444          |                     | 22.823299       |"
      ]
     },
     "metadata": {},
     "output_type": "display_data"
    },
    {
     "data": {
      "text/html": [
       "<pre>| 4         | 1200     | 4539.006433  | 0.750833          |                     | 22.335491       |</pre>"
      ],
      "text/plain": [
       "| 4         | 1200     | 4539.006433  | 0.750833          |                     | 22.335491       |"
      ]
     },
     "metadata": {},
     "output_type": "display_data"
    },
    {
     "data": {
      "text/html": [
       "<pre>| 4         | 1500     | 4551.873214  | 0.745333          |                     | 23.315886       |</pre>"
      ],
      "text/plain": [
       "| 4         | 1500     | 4551.873214  | 0.745333          |                     | 23.315886       |"
      ]
     },
     "metadata": {},
     "output_type": "display_data"
    },
    {
     "data": {
      "text/html": [
       "<pre>| 4         | 1800     | 4564.476280  | 0.743889          |                     | 23.803759       |</pre>"
      ],
      "text/plain": [
       "| 4         | 1800     | 4564.476280  | 0.743889          |                     | 23.803759       |"
      ]
     },
     "metadata": {},
     "output_type": "display_data"
    },
    {
     "data": {
      "text/html": [
       "<pre>| 4         | 2100     | 4577.851469  | 0.747143          |                     | 22.429543       |</pre>"
      ],
      "text/plain": [
       "| 4         | 2100     | 4577.851469  | 0.747143          |                     | 22.429543       |"
      ]
     },
     "metadata": {},
     "output_type": "display_data"
    },
    {
     "data": {
      "text/html": [
       "<pre>| 4         | 2400     | 4591.142109  | 0.749167          |                     | 22.572271       |</pre>"
      ],
      "text/plain": [
       "| 4         | 2400     | 4591.142109  | 0.749167          |                     | 22.572271       |"
      ]
     },
     "metadata": {},
     "output_type": "display_data"
    },
    {
     "data": {
      "text/html": [
       "<pre>| 4         | 2700     | 4603.651863  | 0.748519          |                     | 23.981346       |</pre>"
      ],
      "text/plain": [
       "| 4         | 2700     | 4603.651863  | 0.748519          |                     | 23.981346       |"
      ]
     },
     "metadata": {},
     "output_type": "display_data"
    },
    {
     "data": {
      "text/html": [
       "<pre>| 4         | 3000     | 4617.261823  | 0.751333          |                     | 22.042648       |</pre>"
      ],
      "text/plain": [
       "| 4         | 3000     | 4617.261823  | 0.751333          |                     | 22.042648       |"
      ]
     },
     "metadata": {},
     "output_type": "display_data"
    },
    {
     "data": {
      "text/html": [
       "<pre>| 4         | 3300     | 4629.770278  | 0.746061          |                     | 23.983749       |</pre>"
      ],
      "text/plain": [
       "| 4         | 3300     | 4629.770278  | 0.746061          |                     | 23.983749       |"
      ]
     },
     "metadata": {},
     "output_type": "display_data"
    },
    {
     "data": {
      "text/html": [
       "<pre>| 4         | 3600     | 4642.778356  | 0.743056          |                     | 23.062634       |</pre>"
      ],
      "text/plain": [
       "| 4         | 3600     | 4642.778356  | 0.743056          |                     | 23.062634       |"
      ]
     },
     "metadata": {},
     "output_type": "display_data"
    },
    {
     "data": {
      "text/html": [
       "<pre>| 4         | 3900     | 4656.071544  | 0.743077          |                     | 22.567919       |</pre>"
      ],
      "text/plain": [
       "| 4         | 3900     | 4656.071544  | 0.743077          |                     | 22.567919       |"
      ]
     },
     "metadata": {},
     "output_type": "display_data"
    },
    {
     "data": {
      "text/html": [
       "<pre>| 4         | 4200     | 4668.563910  | 0.740000          |                     | 24.014656       |</pre>"
      ],
      "text/plain": [
       "| 4         | 4200     | 4668.563910  | 0.740000          |                     | 24.014656       |"
      ]
     },
     "metadata": {},
     "output_type": "display_data"
    },
    {
     "data": {
      "text/html": [
       "<pre>| 4         | 4500     | 4682.700860  | 0.739556          |                     | 21.220985       |</pre>"
      ],
      "text/plain": [
       "| 4         | 4500     | 4682.700860  | 0.739556          |                     | 21.220985       |"
      ]
     },
     "metadata": {},
     "output_type": "display_data"
    },
    {
     "data": {
      "text/html": [
       "<pre>| 4         | 4800     | 4696.248962  | 0.740000          |                     | 22.143318       |</pre>"
      ],
      "text/plain": [
       "| 4         | 4800     | 4696.248962  | 0.740000          |                     | 22.143318       |"
      ]
     },
     "metadata": {},
     "output_type": "display_data"
    },
    {
     "data": {
      "text/html": [
       "<pre>| 4         | 5100     | 4709.106213  | 0.742745          |                     | 23.333143       |</pre>"
      ],
      "text/plain": [
       "| 4         | 5100     | 4709.106213  | 0.742745          |                     | 23.333143       |"
      ]
     },
     "metadata": {},
     "output_type": "display_data"
    },
    {
     "data": {
      "text/html": [
       "<pre>| 4         | 5400     | 4721.539597  | 0.743148          |                     | 24.128635       |</pre>"
      ],
      "text/plain": [
       "| 4         | 5400     | 4721.539597  | 0.743148          |                     | 24.128635       |"
      ]
     },
     "metadata": {},
     "output_type": "display_data"
    },
    {
     "data": {
      "text/html": [
       "<pre>| 4         | 5700     | 4735.420747  | 0.741754          |                     | 21.612011       |</pre>"
      ],
      "text/plain": [
       "| 4         | 5700     | 4735.420747  | 0.741754          |                     | 21.612011       |"
      ]
     },
     "metadata": {},
     "output_type": "display_data"
    },
    {
     "data": {
      "text/html": [
       "<pre>| 4         | 6000     | 4748.668323  | 0.741000          |                     | 22.645645       |</pre>"
      ],
      "text/plain": [
       "| 4         | 6000     | 4748.668323  | 0.741000          |                     | 22.645645       |"
      ]
     },
     "metadata": {},
     "output_type": "display_data"
    },
    {
     "data": {
      "text/html": [
       "<pre>| 4         | 6300     | 4761.896209  | 0.742063          |                     | 22.679401       |</pre>"
      ],
      "text/plain": [
       "| 4         | 6300     | 4761.896209  | 0.742063          |                     | 22.679401       |"
      ]
     },
     "metadata": {},
     "output_type": "display_data"
    },
    {
     "data": {
      "text/html": [
       "<pre>| 4         | 6600     | 4775.597106  | 0.741515          |                     | 21.896338       |</pre>"
      ],
      "text/plain": [
       "| 4         | 6600     | 4775.597106  | 0.741515          |                     | 21.896338       |"
      ]
     },
     "metadata": {},
     "output_type": "display_data"
    },
    {
     "data": {
      "text/html": [
       "<pre>| 4         | 6900     | 4788.866395  | 0.740290          |                     | 22.608597       |</pre>"
      ],
      "text/plain": [
       "| 4         | 6900     | 4788.866395  | 0.740290          |                     | 22.608597       |"
      ]
     },
     "metadata": {},
     "output_type": "display_data"
    },
    {
     "data": {
      "text/html": [
       "<pre>| 4         | 7200     | 4802.550387  | 0.739861          |                     | 21.923462       |</pre>"
      ],
      "text/plain": [
       "| 4         | 7200     | 4802.550387  | 0.739861          |                     | 21.923462       |"
      ]
     },
     "metadata": {},
     "output_type": "display_data"
    },
    {
     "data": {
      "text/html": [
       "<pre>| 4         | 7500     | 4816.185663  | 0.738667          |                     | 22.001730       |</pre>"
      ],
      "text/plain": [
       "| 4         | 7500     | 4816.185663  | 0.738667          |                     | 22.001730       |"
      ]
     },
     "metadata": {},
     "output_type": "display_data"
    },
    {
     "data": {
      "text/html": [
       "<pre>| 4         | 7800     | 4829.050946  | 0.740385          |                     | 23.318567       |</pre>"
      ],
      "text/plain": [
       "| 4         | 7800     | 4829.050946  | 0.740385          |                     | 23.318567       |"
      ]
     },
     "metadata": {},
     "output_type": "display_data"
    },
    {
     "data": {
      "text/html": [
       "<pre>| 4         | 8100     | 4841.917162  | 0.740370          |                     | 23.316881       |</pre>"
      ],
      "text/plain": [
       "| 4         | 8100     | 4841.917162  | 0.740370          |                     | 23.316881       |"
      ]
     },
     "metadata": {},
     "output_type": "display_data"
    },
    {
     "data": {
      "text/html": [
       "<pre>| 4         | 8400     | 4855.542292  | 0.739643          |                     | 22.018137       |</pre>"
      ],
      "text/plain": [
       "| 4         | 8400     | 4855.542292  | 0.739643          |                     | 22.018137       |"
      ]
     },
     "metadata": {},
     "output_type": "display_data"
    },
    {
     "data": {
      "text/html": [
       "<pre>| 4         | 8700     | 4868.284514  | 0.738621          |                     | 23.543776       |</pre>"
      ],
      "text/plain": [
       "| 4         | 8700     | 4868.284514  | 0.738621          |                     | 23.543776       |"
      ]
     },
     "metadata": {},
     "output_type": "display_data"
    },
    {
     "data": {
      "text/html": [
       "<pre>| 4         | 9000     | 4881.984304  | 0.737000          |                     | 21.898193       |</pre>"
      ],
      "text/plain": [
       "| 4         | 9000     | 4881.984304  | 0.737000          |                     | 21.898193       |"
      ]
     },
     "metadata": {},
     "output_type": "display_data"
    },
    {
     "data": {
      "text/html": [
       "<pre>| 4         | 9300     | 4895.510895  | 0.735269          |                     | 22.178492       |</pre>"
      ],
      "text/plain": [
       "| 4         | 9300     | 4895.510895  | 0.735269          |                     | 22.178492       |"
      ]
     },
     "metadata": {},
     "output_type": "display_data"
    },
    {
     "data": {
      "text/html": [
       "<pre>| 4         | 9600     | 4908.877923  | 0.733750          |                     | 22.443340       |</pre>"
      ],
      "text/plain": [
       "| 4         | 9600     | 4908.877923  | 0.733750          |                     | 22.443340       |"
      ]
     },
     "metadata": {},
     "output_type": "display_data"
    },
    {
     "data": {
      "text/html": [
       "<pre>| 4         | 9900     | 4923.209339  | 0.733131          |                     | 20.933010       |</pre>"
      ],
      "text/plain": [
       "| 4         | 9900     | 4923.209339  | 0.733131          |                     | 20.933010       |"
      ]
     },
     "metadata": {},
     "output_type": "display_data"
    },
    {
     "data": {
      "text/html": [
       "<pre>| 4         | 10200    | 4936.186444  | 0.734020          |                     | 23.117624       |</pre>"
      ],
      "text/plain": [
       "| 4         | 10200    | 4936.186444  | 0.734020          |                     | 23.117624       |"
      ]
     },
     "metadata": {},
     "output_type": "display_data"
    },
    {
     "data": {
      "text/html": [
       "<pre>| 4         | 10500    | 4949.339196  | 0.733143          |                     | 22.808929       |</pre>"
      ],
      "text/plain": [
       "| 4         | 10500    | 4949.339196  | 0.733143          |                     | 22.808929       |"
      ]
     },
     "metadata": {},
     "output_type": "display_data"
    },
    {
     "data": {
      "text/html": [
       "<pre>| 4         | 10800    | 4962.777520  | 0.732963          |                     | 22.324165       |</pre>"
      ],
      "text/plain": [
       "| 4         | 10800    | 4962.777520  | 0.732963          |                     | 22.324165       |"
      ]
     },
     "metadata": {},
     "output_type": "display_data"
    },
    {
     "data": {
      "text/html": [
       "<pre>| 4         | 11100    | 4975.944254  | 0.731622          |                     | 22.784687       |</pre>"
      ],
      "text/plain": [
       "| 4         | 11100    | 4975.944254  | 0.731622          |                     | 22.784687       |"
      ]
     },
     "metadata": {},
     "output_type": "display_data"
    },
    {
     "data": {
      "text/html": [
       "<pre>| 4         | 11400    | 4988.338088  | 0.731053          |                     | 24.205648       |</pre>"
      ],
      "text/plain": [
       "| 4         | 11400    | 4988.338088  | 0.731053          |                     | 24.205648       |"
      ]
     },
     "metadata": {},
     "output_type": "display_data"
    },
    {
     "data": {
      "text/html": [
       "<pre>| 4         | 11700    | 5002.395122  | 0.730513          |                     | 21.341631       |</pre>"
      ],
      "text/plain": [
       "| 4         | 11700    | 5002.395122  | 0.730513          |                     | 21.341631       |"
      ]
     },
     "metadata": {},
     "output_type": "display_data"
    },
    {
     "data": {
      "text/html": [
       "<pre>| 4         | 12000    | 5015.127075  | 0.729750          |                     | 23.562708       |</pre>"
      ],
      "text/plain": [
       "| 4         | 12000    | 5015.127075  | 0.729750          |                     | 23.562708       |"
      ]
     },
     "metadata": {},
     "output_type": "display_data"
    },
    {
     "data": {
      "text/html": [
       "<pre>| 4         | 12300    | 5027.933589  | 0.728862          |                     | 23.425632       |</pre>"
      ],
      "text/plain": [
       "| 4         | 12300    | 5027.933589  | 0.728862          |                     | 23.425632       |"
      ]
     },
     "metadata": {},
     "output_type": "display_data"
    },
    {
     "data": {
      "text/html": [
       "<pre>| 4         | 12600    | 5041.721981  | 0.729206          |                     | 21.757410       |</pre>"
      ],
      "text/plain": [
       "| 4         | 12600    | 5041.721981  | 0.729206          |                     | 21.757410       |"
      ]
     },
     "metadata": {},
     "output_type": "display_data"
    },
    {
     "data": {
      "text/html": [
       "<pre>| 4         | 12900    | 5054.029270  | 0.728217          |                     | 24.375767       |</pre>"
      ],
      "text/plain": [
       "| 4         | 12900    | 5054.029270  | 0.728217          |                     | 24.375767       |"
      ]
     },
     "metadata": {},
     "output_type": "display_data"
    },
    {
     "data": {
      "text/html": [
       "<pre>| 4         | 13200    | 5067.058996  | 0.726742          |                     | 23.024328       |</pre>"
      ],
      "text/plain": [
       "| 4         | 13200    | 5067.058996  | 0.726742          |                     | 23.024328       |"
      ]
     },
     "metadata": {},
     "output_type": "display_data"
    },
    {
     "data": {
      "text/html": [
       "<pre>| 4         | 13500    | 5080.730431  | 0.724815          |                     | 21.943548       |</pre>"
      ],
      "text/plain": [
       "| 4         | 13500    | 5080.730431  | 0.724815          |                     | 21.943548       |"
      ]
     },
     "metadata": {},
     "output_type": "display_data"
    },
    {
     "data": {
      "text/html": [
       "<pre>| 4         | 13800    | 5093.299188  | 0.723261          |                     | 23.868706       |</pre>"
      ],
      "text/plain": [
       "| 4         | 13800    | 5093.299188  | 0.723261          |                     | 23.868706       |"
      ]
     },
     "metadata": {},
     "output_type": "display_data"
    },
    {
     "data": {
      "text/html": [
       "<pre>| 4         | 14100    | 5106.330147  | 0.723121          |                     | 23.022100       |</pre>"
      ],
      "text/plain": [
       "| 4         | 14100    | 5106.330147  | 0.723121          |                     | 23.022100       |"
      ]
     },
     "metadata": {},
     "output_type": "display_data"
    },
    {
     "data": {
      "text/html": [
       "<pre>| 4         | 14400    | 5119.865928  | 0.721736          |                     | 22.163490       |</pre>"
      ],
      "text/plain": [
       "| 4         | 14400    | 5119.865928  | 0.721736          |                     | 22.163490       |"
      ]
     },
     "metadata": {},
     "output_type": "display_data"
    },
    {
     "data": {
      "text/html": [
       "<pre>| 4         | 14700    | 5132.967527  | 0.721224          |                     | 22.897953       |</pre>"
      ],
      "text/plain": [
       "| 4         | 14700    | 5132.967527  | 0.721224          |                     | 22.897953       |"
      ]
     },
     "metadata": {},
     "output_type": "display_data"
    },
    {
     "data": {
      "text/html": [
       "<pre>| 4         | 15000    | 5145.926182  | 0.720867          |                     | 23.150564       |</pre>"
      ],
      "text/plain": [
       "| 4         | 15000    | 5145.926182  | 0.720867          |                     | 23.150564       |"
      ]
     },
     "metadata": {},
     "output_type": "display_data"
    },
    {
     "data": {
      "text/html": [
       "<pre>| 4         | 15300    | 5159.479883  | 0.720392          |                     | 22.134148       |</pre>"
      ],
      "text/plain": [
       "| 4         | 15300    | 5159.479883  | 0.720392          |                     | 22.134148       |"
      ]
     },
     "metadata": {},
     "output_type": "display_data"
    },
    {
     "data": {
      "text/html": [
       "<pre>| 4         | 15600    | 5172.138100  | 0.720513          |                     | 23.700045       |</pre>"
      ],
      "text/plain": [
       "| 4         | 15600    | 5172.138100  | 0.720513          |                     | 23.700045       |"
      ]
     },
     "metadata": {},
     "output_type": "display_data"
    },
    {
     "data": {
      "text/html": [
       "<pre>| 4         | 15900    | 5185.275065  | 0.719371          |                     | 22.836287       |</pre>"
      ],
      "text/plain": [
       "| 4         | 15900    | 5185.275065  | 0.719371          |                     | 22.836287       |"
      ]
     },
     "metadata": {},
     "output_type": "display_data"
    },
    {
     "data": {
      "text/html": [
       "<pre>| 4         | 16200    | 5199.040531  | 0.718086          |                     | 21.793684       |</pre>"
      ],
      "text/plain": [
       "| 4         | 16200    | 5199.040531  | 0.718086          |                     | 21.793684       |"
      ]
     },
     "metadata": {},
     "output_type": "display_data"
    },
    {
     "data": {
      "text/html": [
       "<pre>| 4         | 16500    | 5211.851253  | 0.717030          |                     | 23.417912       |</pre>"
      ],
      "text/plain": [
       "| 4         | 16500    | 5211.851253  | 0.717030          |                     | 23.417912       |"
      ]
     },
     "metadata": {},
     "output_type": "display_data"
    },
    {
     "data": {
      "text/html": [
       "<pre>| 4         | 16800    | 5225.250780  | 0.717381          |                     | 22.388861       |</pre>"
      ],
      "text/plain": [
       "| 4         | 16800    | 5225.250780  | 0.717381          |                     | 22.388861       |"
      ]
     },
     "metadata": {},
     "output_type": "display_data"
    },
    {
     "data": {
      "text/html": [
       "<pre>| 4         | 17100    | 5238.438517  | 0.716901          |                     | 22.748402       |</pre>"
      ],
      "text/plain": [
       "| 4         | 17100    | 5238.438517  | 0.716901          |                     | 22.748402       |"
      ]
     },
     "metadata": {},
     "output_type": "display_data"
    },
    {
     "data": {
      "text/html": [
       "<pre>| 4         | 17400    | 5251.363488  | 0.716552          |                     | 23.210855       |</pre>"
      ],
      "text/plain": [
       "| 4         | 17400    | 5251.363488  | 0.716552          |                     | 23.210855       |"
      ]
     },
     "metadata": {},
     "output_type": "display_data"
    },
    {
     "data": {
      "text/html": [
       "<pre>| 4         | 17700    | 5264.121205  | 0.716441          |                     | 23.515194       |</pre>"
      ],
      "text/plain": [
       "| 4         | 17700    | 5264.121205  | 0.716441          |                     | 23.515194       |"
      ]
     },
     "metadata": {},
     "output_type": "display_data"
    },
    {
     "data": {
      "text/html": [
       "<pre>| 4         | 17900    | 5274.121889  | 0.716927          |                     | 19.998648       |</pre>"
      ],
      "text/plain": [
       "| 4         | 17900    | 5274.121889  | 0.716927          |                     | 19.998648       |"
      ]
     },
     "metadata": {},
     "output_type": "display_data"
    },
    {
     "data": {
      "text/html": [
       "<pre>| 4         | 18200    | 5286.910846  | 0.716319          |                     | 23.457697       |</pre>"
      ],
      "text/plain": [
       "| 4         | 18200    | 5286.910846  | 0.716319          |                     | 23.457697       |"
      ]
     },
     "metadata": {},
     "output_type": "display_data"
    },
    {
     "data": {
      "text/html": [
       "<pre>| 4         | 18500    | 5300.012844  | 0.716649          |                     | 22.897285       |</pre>"
      ],
      "text/plain": [
       "| 4         | 18500    | 5300.012844  | 0.716649          |                     | 22.897285       |"
      ]
     },
     "metadata": {},
     "output_type": "display_data"
    },
    {
     "data": {
      "text/html": [
       "<pre>| 4         | 18800    | 5313.418226  | 0.716064          |                     | 22.379045       |</pre>"
      ],
      "text/plain": [
       "| 4         | 18800    | 5313.418226  | 0.716064          |                     | 22.379045       |"
      ]
     },
     "metadata": {},
     "output_type": "display_data"
    },
    {
     "data": {
      "text/html": [
       "<pre>| 4         | 19100    | 5326.397014  | 0.715079          |                     | 23.114639       |</pre>"
      ],
      "text/plain": [
       "| 4         | 19100    | 5326.397014  | 0.715079          |                     | 23.114639       |"
      ]
     },
     "metadata": {},
     "output_type": "display_data"
    },
    {
     "data": {
      "text/html": [
       "<pre>| 4         | 19400    | 5340.030687  | 0.714124          |                     | 22.004393       |</pre>"
      ],
      "text/plain": [
       "| 4         | 19400    | 5340.030687  | 0.714124          |                     | 22.004393       |"
      ]
     },
     "metadata": {},
     "output_type": "display_data"
    },
    {
     "data": {
      "text/html": [
       "<pre>| 4         | 19700    | 5353.083541  | 0.714670          |                     | 22.983437       |</pre>"
      ],
      "text/plain": [
       "| 4         | 19700    | 5353.083541  | 0.714670          |                     | 22.983437       |"
      ]
     },
     "metadata": {},
     "output_type": "display_data"
    },
    {
     "data": {
      "text/html": [
       "<pre>| 4         | 20000    | 5366.460396  | 0.714350          |                     | 22.426802       |</pre>"
      ],
      "text/plain": [
       "| 4         | 20000    | 5366.460396  | 0.714350          |                     | 22.426802       |"
      ]
     },
     "metadata": {},
     "output_type": "display_data"
    },
    {
     "data": {
      "text/html": [
       "<pre>| 4         | 20300    | 5379.890424  | 0.713695          |                     | 22.338032       |</pre>"
      ],
      "text/plain": [
       "| 4         | 20300    | 5379.890424  | 0.713695          |                     | 22.338032       |"
      ]
     },
     "metadata": {},
     "output_type": "display_data"
    },
    {
     "data": {
      "text/html": [
       "<pre>| 4         | 20600    | 5392.760838  | 0.713689          |                     | 23.309280       |</pre>"
      ],
      "text/plain": [
       "| 4         | 20600    | 5392.760838  | 0.713689          |                     | 23.309280       |"
      ]
     },
     "metadata": {},
     "output_type": "display_data"
    },
    {
     "data": {
      "text/html": [
       "<pre>| 4         | 20900    | 5405.843440  | 0.713397          |                     | 22.931198       |</pre>"
      ],
      "text/plain": [
       "| 4         | 20900    | 5405.843440  | 0.713397          |                     | 22.931198       |"
      ]
     },
     "metadata": {},
     "output_type": "display_data"
    },
    {
     "data": {
      "text/html": [
       "<pre>| 4         | 21200    | 5419.472773  | 0.712830          |                     | 22.011358       |</pre>"
      ],
      "text/plain": [
       "| 4         | 21200    | 5419.472773  | 0.712830          |                     | 22.011358       |"
      ]
     },
     "metadata": {},
     "output_type": "display_data"
    },
    {
     "data": {
      "text/html": [
       "<pre>| 4         | 21500    | 5433.034747  | 0.711163          |                     | 22.120657       |</pre>"
      ],
      "text/plain": [
       "| 4         | 21500    | 5433.034747  | 0.711163          |                     | 22.120657       |"
      ]
     },
     "metadata": {},
     "output_type": "display_data"
    },
    {
     "data": {
      "text/html": [
       "<pre>| 4         | 21800    | 5445.901523  | 0.711055          |                     | 23.315889       |</pre>"
      ],
      "text/plain": [
       "| 4         | 21800    | 5445.901523  | 0.711055          |                     | 23.315889       |"
      ]
     },
     "metadata": {},
     "output_type": "display_data"
    },
    {
     "data": {
      "text/html": [
       "<pre>| 4         | 22100    | 5459.577849  | 0.711267          |                     | 21.935665       |</pre>"
      ],
      "text/plain": [
       "| 4         | 22100    | 5459.577849  | 0.711267          |                     | 21.935665       |"
      ]
     },
     "metadata": {},
     "output_type": "display_data"
    },
    {
     "data": {
      "text/html": [
       "<pre>| 4         | 22400    | 5472.591909  | 0.709955          |                     | 23.052021       |</pre>"
      ],
      "text/plain": [
       "| 4         | 22400    | 5472.591909  | 0.709955          |                     | 23.052021       |"
      ]
     },
     "metadata": {},
     "output_type": "display_data"
    },
    {
     "data": {
      "text/html": [
       "<pre>| 4         | 22700    | 5486.331200  | 0.709912          |                     | 21.835205       |</pre>"
      ],
      "text/plain": [
       "| 4         | 22700    | 5486.331200  | 0.709912          |                     | 21.835205       |"
      ]
     },
     "metadata": {},
     "output_type": "display_data"
    },
    {
     "data": {
      "text/html": [
       "<pre>| 4         | 23000    | 5499.517411  | 0.709652          |                     | 22.751011       |</pre>"
      ],
      "text/plain": [
       "| 4         | 23000    | 5499.517411  | 0.709652          |                     | 22.751011       |"
      ]
     },
     "metadata": {},
     "output_type": "display_data"
    },
    {
     "data": {
      "text/html": [
       "<pre>| 4         | 23300    | 5511.734532  | 0.708112          |                     | 24.555733       |</pre>"
      ],
      "text/plain": [
       "| 4         | 23300    | 5511.734532  | 0.708112          |                     | 24.555733       |"
      ]
     },
     "metadata": {},
     "output_type": "display_data"
    },
    {
     "data": {
      "text/html": [
       "<pre>| 4         | 23600    | 5525.019311  | 0.707161          |                     | 22.582249       |</pre>"
      ],
      "text/plain": [
       "| 4         | 23600    | 5525.019311  | 0.707161          |                     | 22.582249       |"
      ]
     },
     "metadata": {},
     "output_type": "display_data"
    },
    {
     "data": {
      "text/html": [
       "<pre>| 4         | 23900    | 5538.323053  | 0.706109          |                     | 22.549997       |</pre>"
      ],
      "text/plain": [
       "| 4         | 23900    | 5538.323053  | 0.706109          |                     | 22.549997       |"
      ]
     },
     "metadata": {},
     "output_type": "display_data"
    },
    {
     "data": {
      "text/html": [
       "<pre>| 4         | 24200    | 5551.730981  | 0.705083          |                     | 22.374847       |</pre>"
      ],
      "text/plain": [
       "| 4         | 24200    | 5551.730981  | 0.705083          |                     | 22.374847       |"
      ]
     },
     "metadata": {},
     "output_type": "display_data"
    },
    {
     "data": {
      "text/html": [
       "<pre>| 4         | 24500    | 5564.995711  | 0.703878          |                     | 22.616377       |</pre>"
      ],
      "text/plain": [
       "| 4         | 24500    | 5564.995711  | 0.703878          |                     | 22.616377       |"
      ]
     },
     "metadata": {},
     "output_type": "display_data"
    },
    {
     "data": {
      "text/html": [
       "<pre>| 4         | 24800    | 5578.650598  | 0.703508          |                     | 21.970116       |</pre>"
      ],
      "text/plain": [
       "| 4         | 24800    | 5578.650598  | 0.703508          |                     | 21.970116       |"
      ]
     },
     "metadata": {},
     "output_type": "display_data"
    },
    {
     "data": {
      "text/html": [
       "<pre>| 4         | 25100    | 5590.993497  | 0.702470          |                     | 24.305473       |</pre>"
      ],
      "text/plain": [
       "| 4         | 25100    | 5590.993497  | 0.702470          |                     | 24.305473       |"
      ]
     },
     "metadata": {},
     "output_type": "display_data"
    },
    {
     "data": {
      "text/html": [
       "<pre>| 4         | 25400    | 5604.726543  | 0.701890          |                     | 21.845161       |</pre>"
      ],
      "text/plain": [
       "| 4         | 25400    | 5604.726543  | 0.701890          |                     | 21.845161       |"
      ]
     },
     "metadata": {},
     "output_type": "display_data"
    },
    {
     "data": {
      "text/html": [
       "<pre>| 4         | 25700    | 5617.931831  | 0.701595          |                     | 22.718166       |</pre>"
      ],
      "text/plain": [
       "| 4         | 25700    | 5617.931831  | 0.701595          |                     | 22.718166       |"
      ]
     },
     "metadata": {},
     "output_type": "display_data"
    },
    {
     "data": {
      "text/html": [
       "<pre>| 4         | 26000    | 5631.097261  | 0.700923          |                     | 22.786907       |</pre>"
      ],
      "text/plain": [
       "| 4         | 26000    | 5631.097261  | 0.700923          |                     | 22.786907       |"
      ]
     },
     "metadata": {},
     "output_type": "display_data"
    },
    {
     "data": {
      "text/html": [
       "<pre>| 4         | 26300    | 5644.521631  | 0.700076          |                     | 22.347456       |</pre>"
      ],
      "text/plain": [
       "| 4         | 26300    | 5644.521631  | 0.700076          |                     | 22.347456       |"
      ]
     },
     "metadata": {},
     "output_type": "display_data"
    },
    {
     "data": {
      "text/html": [
       "<pre>| 4         | 26600    | 5657.498384  | 0.699737          |                     | 23.118246       |</pre>"
      ],
      "text/plain": [
       "| 4         | 26600    | 5657.498384  | 0.699737          |                     | 23.118246       |"
      ]
     },
     "metadata": {},
     "output_type": "display_data"
    },
    {
     "data": {
      "text/html": [
       "<pre>| 4         | 26900    | 5671.094901  | 0.699628          |                     | 22.064507       |</pre>"
      ],
      "text/plain": [
       "| 4         | 26900    | 5671.094901  | 0.699628          |                     | 22.064507       |"
      ]
     },
     "metadata": {},
     "output_type": "display_data"
    },
    {
     "data": {
      "text/html": [
       "<pre>| 4         | 27200    | 5684.478716  | 0.699890          |                     | 22.415094       |</pre>"
      ],
      "text/plain": [
       "| 4         | 27200    | 5684.478716  | 0.699890          |                     | 22.415094       |"
      ]
     },
     "metadata": {},
     "output_type": "display_data"
    },
    {
     "data": {
      "text/html": [
       "<pre>| 4         | 27500    | 5697.177247  | 0.699055          |                     | 23.624802       |</pre>"
      ],
      "text/plain": [
       "| 4         | 27500    | 5697.177247  | 0.699055          |                     | 23.624802       |"
      ]
     },
     "metadata": {},
     "output_type": "display_data"
    },
    {
     "data": {
      "text/html": [
       "<pre>| 4         | 27600    | 5969.655943  | 0.698841          | 0.810000            | 0.367001        |</pre>"
      ],
      "text/plain": [
       "| 4         | 27600    | 5969.655943  | 0.698841          | 0.810000            | 0.367001        |"
      ]
     },
     "metadata": {},
     "output_type": "display_data"
    },
    {
     "data": {
      "text/html": [
       "<pre>Checkpointing model into rep IDSIA by 1 conv graphlab net - train in 10 iters</pre>"
      ],
      "text/plain": [
       "Checkpointing model into rep IDSIA by 1 conv graphlab net - train in 10 iters"
      ]
     },
     "metadata": {},
     "output_type": "display_data"
    },
    {
     "data": {
      "text/html": [
       "<pre>| 5         | 300      | 5983.104226  | 0.680000          |                     | 22.307941       |</pre>"
      ],
      "text/plain": [
       "| 5         | 300      | 5983.104226  | 0.680000          |                     | 22.307941       |"
      ]
     },
     "metadata": {},
     "output_type": "display_data"
    },
    {
     "data": {
      "text/html": [
       "<pre>| 5         | 600      | 5996.756573  | 0.636667          |                     | 21.974287       |</pre>"
      ],
      "text/plain": [
       "| 5         | 600      | 5996.756573  | 0.636667          |                     | 21.974287       |"
      ]
     },
     "metadata": {},
     "output_type": "display_data"
    },
    {
     "data": {
      "text/html": [
       "<pre>| 5         | 900      | 6009.943033  | 0.627778          |                     | 22.750559       |</pre>"
      ],
      "text/plain": [
       "| 5         | 900      | 6009.943033  | 0.627778          |                     | 22.750559       |"
      ]
     },
     "metadata": {},
     "output_type": "display_data"
    },
    {
     "data": {
      "text/html": [
       "<pre>| 5         | 1200     | 6022.898502  | 0.621667          |                     | 23.156242       |</pre>"
      ],
      "text/plain": [
       "| 5         | 1200     | 6022.898502  | 0.621667          |                     | 23.156242       |"
      ]
     },
     "metadata": {},
     "output_type": "display_data"
    },
    {
     "data": {
      "text/html": [
       "<pre>| 5         | 1500     | 6035.264785  | 0.623333          |                     | 24.259510       |</pre>"
      ],
      "text/plain": [
       "| 5         | 1500     | 6035.264785  | 0.623333          |                     | 24.259510       |"
      ]
     },
     "metadata": {},
     "output_type": "display_data"
    },
    {
     "data": {
      "text/html": [
       "<pre>| 5         | 1800     | 6048.483421  | 0.619444          |                     | 22.695246       |</pre>"
      ],
      "text/plain": [
       "| 5         | 1800     | 6048.483421  | 0.619444          |                     | 22.695246       |"
      ]
     },
     "metadata": {},
     "output_type": "display_data"
    },
    {
     "data": {
      "text/html": [
       "<pre>| 5         | 2100     | 6061.066491  | 0.619048          |                     | 23.841557       |</pre>"
      ],
      "text/plain": [
       "| 5         | 2100     | 6061.066491  | 0.619048          |                     | 23.841557       |"
      ]
     },
     "metadata": {},
     "output_type": "display_data"
    },
    {
     "data": {
      "text/html": [
       "<pre>| 5         | 2400     | 6073.775921  | 0.622083          |                     | 23.604572       |</pre>"
      ],
      "text/plain": [
       "| 5         | 2400     | 6073.775921  | 0.622083          |                     | 23.604572       |"
      ]
     },
     "metadata": {},
     "output_type": "display_data"
    },
    {
     "data": {
      "text/html": [
       "<pre>| 5         | 2700     | 6086.740484  | 0.627407          |                     | 23.139965       |</pre>"
      ],
      "text/plain": [
       "| 5         | 2700     | 6086.740484  | 0.627407          |                     | 23.139965       |"
      ]
     },
     "metadata": {},
     "output_type": "display_data"
    },
    {
     "data": {
      "text/html": [
       "<pre>| 5         | 3000     | 6099.212957  | 0.631000          |                     | 24.052988       |</pre>"
      ],
      "text/plain": [
       "| 5         | 3000     | 6099.212957  | 0.631000          |                     | 24.052988       |"
      ]
     },
     "metadata": {},
     "output_type": "display_data"
    },
    {
     "data": {
      "text/html": [
       "<pre>| 5         | 3300     | 6112.784221  | 0.627273          |                     | 22.105556       |</pre>"
      ],
      "text/plain": [
       "| 5         | 3300     | 6112.784221  | 0.627273          |                     | 22.105556       |"
      ]
     },
     "metadata": {},
     "output_type": "display_data"
    },
    {
     "data": {
      "text/html": [
       "<pre>| 5         | 3600     | 6126.255263  | 0.625833          |                     | 22.269958       |</pre>"
      ],
      "text/plain": [
       "| 5         | 3600     | 6126.255263  | 0.625833          |                     | 22.269958       |"
      ]
     },
     "metadata": {},
     "output_type": "display_data"
    },
    {
     "data": {
      "text/html": [
       "<pre>| 5         | 3900     | 6139.794144  | 0.626667          |                     | 22.158396       |</pre>"
      ],
      "text/plain": [
       "| 5         | 3900     | 6139.794144  | 0.626667          |                     | 22.158396       |"
      ]
     },
     "metadata": {},
     "output_type": "display_data"
    },
    {
     "data": {
      "text/html": [
       "<pre>| 5         | 4200     | 6153.414411  | 0.625952          |                     | 22.026022       |</pre>"
      ],
      "text/plain": [
       "| 5         | 4200     | 6153.414411  | 0.625952          |                     | 22.026022       |"
      ]
     },
     "metadata": {},
     "output_type": "display_data"
    },
    {
     "data": {
      "text/html": [
       "<pre>| 5         | 4500     | 6167.174073  | 0.627111          |                     | 21.802824       |</pre>"
      ],
      "text/plain": [
       "| 5         | 4500     | 6167.174073  | 0.627111          |                     | 21.802824       |"
      ]
     },
     "metadata": {},
     "output_type": "display_data"
    },
    {
     "data": {
      "text/html": [
       "<pre>| 5         | 4800     | 6179.763704  | 0.626458          |                     | 23.829121       |</pre>"
      ],
      "text/plain": [
       "| 5         | 4800     | 6179.763704  | 0.626458          |                     | 23.829121       |"
      ]
     },
     "metadata": {},
     "output_type": "display_data"
    },
    {
     "data": {
      "text/html": [
       "<pre>| 5         | 5100     | 6193.017144  | 0.629608          |                     | 22.635679       |</pre>"
      ],
      "text/plain": [
       "| 5         | 5100     | 6193.017144  | 0.629608          |                     | 22.635679       |"
      ]
     },
     "metadata": {},
     "output_type": "display_data"
    },
    {
     "data": {
      "text/html": [
       "<pre>| 5         | 5400     | 6206.574182  | 0.631481          |                     | 22.128708       |</pre>"
      ],
      "text/plain": [
       "| 5         | 5400     | 6206.574182  | 0.631481          |                     | 22.128708       |"
      ]
     },
     "metadata": {},
     "output_type": "display_data"
    },
    {
     "data": {
      "text/html": [
       "<pre>| 5         | 5700     | 6219.725331  | 0.631930          |                     | 22.811672       |</pre>"
      ],
      "text/plain": [
       "| 5         | 5700     | 6219.725331  | 0.631930          |                     | 22.811672       |"
      ]
     },
     "metadata": {},
     "output_type": "display_data"
    },
    {
     "data": {
      "text/html": [
       "<pre>| 5         | 6000     | 6232.714502  | 0.632500          |                     | 23.096205       |</pre>"
      ],
      "text/plain": [
       "| 5         | 6000     | 6232.714502  | 0.632500          |                     | 23.096205       |"
      ]
     },
     "metadata": {},
     "output_type": "display_data"
    },
    {
     "data": {
      "text/html": [
       "<pre>| 5         | 6300     | 6245.798987  | 0.635556          |                     | 22.927885       |</pre>"
      ],
      "text/plain": [
       "| 5         | 6300     | 6245.798987  | 0.635556          |                     | 22.927885       |"
      ]
     },
     "metadata": {},
     "output_type": "display_data"
    },
    {
     "data": {
      "text/html": [
       "<pre>| 5         | 6600     | 6259.268051  | 0.635455          |                     | 22.273266       |</pre>"
      ],
      "text/plain": [
       "| 5         | 6600     | 6259.268051  | 0.635455          |                     | 22.273266       |"
      ]
     },
     "metadata": {},
     "output_type": "display_data"
    },
    {
     "data": {
      "text/html": [
       "<pre>| 5         | 6900     | 6272.523770  | 0.637971          |                     | 22.631783       |</pre>"
      ],
      "text/plain": [
       "| 5         | 6900     | 6272.523770  | 0.637971          |                     | 22.631783       |"
      ]
     },
     "metadata": {},
     "output_type": "display_data"
    },
    {
     "data": {
      "text/html": [
       "<pre>| 5         | 7200     | 6285.081671  | 0.635833          |                     | 23.889294       |</pre>"
      ],
      "text/plain": [
       "| 5         | 7200     | 6285.081671  | 0.635833          |                     | 23.889294       |"
      ]
     },
     "metadata": {},
     "output_type": "display_data"
    },
    {
     "data": {
      "text/html": [
       "<pre>| 5         | 7500     | 6297.818297  | 0.633467          |                     | 23.554125       |</pre>"
      ],
      "text/plain": [
       "| 5         | 7500     | 6297.818297  | 0.633467          |                     | 23.554125       |"
      ]
     },
     "metadata": {},
     "output_type": "display_data"
    },
    {
     "data": {
      "text/html": [
       "<pre>| 5         | 7800     | 6311.272403  | 0.632692          |                     | 22.298056       |</pre>"
      ],
      "text/plain": [
       "| 5         | 7800     | 6311.272403  | 0.632692          |                     | 22.298056       |"
      ]
     },
     "metadata": {},
     "output_type": "display_data"
    },
    {
     "data": {
      "text/html": [
       "<pre>| 5         | 8100     | 6324.254822  | 0.632593          |                     | 23.108130       |</pre>"
      ],
      "text/plain": [
       "| 5         | 8100     | 6324.254822  | 0.632593          |                     | 23.108130       |"
      ]
     },
     "metadata": {},
     "output_type": "display_data"
    },
    {
     "data": {
      "text/html": [
       "<pre>| 5         | 8400     | 6337.504594  | 0.632619          |                     | 22.641958       |</pre>"
      ],
      "text/plain": [
       "| 5         | 8400     | 6337.504594  | 0.632619          |                     | 22.641958       |"
      ]
     },
     "metadata": {},
     "output_type": "display_data"
    },
    {
     "data": {
      "text/html": [
       "<pre>| 5         | 8700     | 6350.625038  | 0.631494          |                     | 22.865068       |</pre>"
      ],
      "text/plain": [
       "| 5         | 8700     | 6350.625038  | 0.631494          |                     | 22.865068       |"
      ]
     },
     "metadata": {},
     "output_type": "display_data"
    },
    {
     "data": {
      "text/html": [
       "<pre>| 5         | 9000     | 6364.074694  | 0.631000          |                     | 22.305401       |</pre>"
      ],
      "text/plain": [
       "| 5         | 9000     | 6364.074694  | 0.631000          |                     | 22.305401       |"
      ]
     },
     "metadata": {},
     "output_type": "display_data"
    },
    {
     "data": {
      "text/html": [
       "<pre>| 5         | 9300     | 6377.315406  | 0.629570          |                     | 22.657393       |</pre>"
      ],
      "text/plain": [
       "| 5         | 9300     | 6377.315406  | 0.629570          |                     | 22.657393       |"
      ]
     },
     "metadata": {},
     "output_type": "display_data"
    },
    {
     "data": {
      "text/html": [
       "<pre>| 5         | 9600     | 6390.874446  | 0.627917          |                     | 22.125427       |</pre>"
      ],
      "text/plain": [
       "| 5         | 9600     | 6390.874446  | 0.627917          |                     | 22.125427       |"
      ]
     },
     "metadata": {},
     "output_type": "display_data"
    },
    {
     "data": {
      "text/html": [
       "<pre>| 5         | 9900     | 6404.010970  | 0.626061          |                     | 22.837074       |</pre>"
      ],
      "text/plain": [
       "| 5         | 9900     | 6404.010970  | 0.626061          |                     | 22.837074       |"
      ]
     },
     "metadata": {},
     "output_type": "display_data"
    },
    {
     "data": {
      "text/html": [
       "<pre>| 5         | 10200    | 6416.443528  | 0.625196          |                     | 24.130215       |</pre>"
      ],
      "text/plain": [
       "| 5         | 10200    | 6416.443528  | 0.625196          |                     | 24.130215       |"
      ]
     },
     "metadata": {},
     "output_type": "display_data"
    },
    {
     "data": {
      "text/html": [
       "<pre>| 5         | 10500    | 6429.451646  | 0.622286          |                     | 23.062569       |</pre>"
      ],
      "text/plain": [
       "| 5         | 10500    | 6429.451646  | 0.622286          |                     | 23.062569       |"
      ]
     },
     "metadata": {},
     "output_type": "display_data"
    },
    {
     "data": {
      "text/html": [
       "<pre>| 5         | 10800    | 6442.704197  | 0.621481          |                     | 22.637094       |</pre>"
      ],
      "text/plain": [
       "| 5         | 10800    | 6442.704197  | 0.621481          |                     | 22.637094       |"
      ]
     },
     "metadata": {},
     "output_type": "display_data"
    },
    {
     "data": {
      "text/html": [
       "<pre>| 5         | 11100    | 6454.638509  | 0.620360          |                     | 25.137663       |</pre>"
      ],
      "text/plain": [
       "| 5         | 11100    | 6454.638509  | 0.620360          |                     | 25.137663       |"
      ]
     },
     "metadata": {},
     "output_type": "display_data"
    },
    {
     "data": {
      "text/html": [
       "<pre>| 5         | 11400    | 6468.112976  | 0.618158          |                     | 22.264324       |</pre>"
      ],
      "text/plain": [
       "| 5         | 11400    | 6468.112976  | 0.618158          |                     | 22.264324       |"
      ]
     },
     "metadata": {},
     "output_type": "display_data"
    },
    {
     "data": {
      "text/html": [
       "<pre>| 5         | 11700    | 6481.510932  | 0.617350          |                     | 22.391449       |</pre>"
      ],
      "text/plain": [
       "| 5         | 11700    | 6481.510932  | 0.617350          |                     | 22.391449       |"
      ]
     },
     "metadata": {},
     "output_type": "display_data"
    },
    {
     "data": {
      "text/html": [
       "<pre>| 5         | 12000    | 6494.606114  | 0.613583          |                     | 22.909166       |</pre>"
      ],
      "text/plain": [
       "| 5         | 12000    | 6494.606114  | 0.613583          |                     | 22.909166       |"
      ]
     },
     "metadata": {},
     "output_type": "display_data"
    },
    {
     "data": {
      "text/html": [
       "<pre>| 5         | 12300    | 6507.961655  | 0.612195          |                     | 22.462606       |</pre>"
      ],
      "text/plain": [
       "| 5         | 12300    | 6507.961655  | 0.612195          |                     | 22.462606       |"
      ]
     },
     "metadata": {},
     "output_type": "display_data"
    },
    {
     "data": {
      "text/html": [
       "<pre>| 5         | 12600    | 6520.812249  | 0.610635          |                     | 23.345253       |</pre>"
      ],
      "text/plain": [
       "| 5         | 12600    | 6520.812249  | 0.610635          |                     | 23.345253       |"
      ]
     },
     "metadata": {},
     "output_type": "display_data"
    },
    {
     "data": {
      "text/html": [
       "<pre>| 5         | 12900    | 6533.354317  | 0.606822          |                     | 23.919449       |</pre>"
      ],
      "text/plain": [
       "| 5         | 12900    | 6533.354317  | 0.606822          |                     | 23.919449       |"
      ]
     },
     "metadata": {},
     "output_type": "display_data"
    },
    {
     "data": {
      "text/html": [
       "<pre>| 5         | 13200    | 6546.774444  | 0.605000          |                     | 22.354530       |</pre>"
      ],
      "text/plain": [
       "| 5         | 13200    | 6546.774444  | 0.605000          |                     | 22.354530       |"
      ]
     },
     "metadata": {},
     "output_type": "display_data"
    },
    {
     "data": {
      "text/html": [
       "<pre>| 5         | 13500    | 6559.806858  | 0.603333          |                     | 23.019520       |</pre>"
      ],
      "text/plain": [
       "| 5         | 13500    | 6559.806858  | 0.603333          |                     | 23.019520       |"
      ]
     },
     "metadata": {},
     "output_type": "display_data"
    },
    {
     "data": {
      "text/html": [
       "<pre>| 5         | 13800    | 6572.346549  | 0.602971          |                     | 23.924057       |</pre>"
      ],
      "text/plain": [
       "| 5         | 13800    | 6572.346549  | 0.602971          |                     | 23.924057       |"
      ]
     },
     "metadata": {},
     "output_type": "display_data"
    },
    {
     "data": {
      "text/html": [
       "<pre>| 5         | 14100    | 6586.397745  | 0.602411          |                     | 21.350479       |</pre>"
      ],
      "text/plain": [
       "| 5         | 14100    | 6586.397745  | 0.602411          |                     | 21.350479       |"
      ]
     },
     "metadata": {},
     "output_type": "display_data"
    },
    {
     "data": {
      "text/html": [
       "<pre>| 5         | 14400    | 6599.150906  | 0.600208          |                     | 23.523565       |</pre>"
      ],
      "text/plain": [
       "| 5         | 14400    | 6599.150906  | 0.600208          |                     | 23.523565       |"
      ]
     },
     "metadata": {},
     "output_type": "display_data"
    },
    {
     "data": {
      "text/html": [
       "<pre>| 5         | 14700    | 6612.094237  | 0.598367          |                     | 23.177979       |</pre>"
      ],
      "text/plain": [
       "| 5         | 14700    | 6612.094237  | 0.598367          |                     | 23.177979       |"
      ]
     },
     "metadata": {},
     "output_type": "display_data"
    },
    {
     "data": {
      "text/html": [
       "<pre>| 5         | 15000    | 6625.545882  | 0.596467          |                     | 22.302092       |</pre>"
      ],
      "text/plain": [
       "| 5         | 15000    | 6625.545882  | 0.596467          |                     | 22.302092       |"
      ]
     },
     "metadata": {},
     "output_type": "display_data"
    },
    {
     "data": {
      "text/html": [
       "<pre>| 5         | 15300    | 6638.511595  | 0.595229          |                     | 23.137913       |</pre>"
      ],
      "text/plain": [
       "| 5         | 15300    | 6638.511595  | 0.595229          |                     | 23.137913       |"
      ]
     },
     "metadata": {},
     "output_type": "display_data"
    },
    {
     "data": {
      "text/html": [
       "<pre>| 5         | 15600    | 6651.576981  | 0.593526          |                     | 22.961472       |</pre>"
      ],
      "text/plain": [
       "| 5         | 15600    | 6651.576981  | 0.593526          |                     | 22.961472       |"
      ]
     },
     "metadata": {},
     "output_type": "display_data"
    },
    {
     "data": {
      "text/html": [
       "<pre>| 5         | 15900    | 6664.567819  | 0.591887          |                     | 23.093206       |</pre>"
      ],
      "text/plain": [
       "| 5         | 15900    | 6664.567819  | 0.591887          |                     | 23.093206       |"
      ]
     },
     "metadata": {},
     "output_type": "display_data"
    },
    {
     "data": {
      "text/html": [
       "<pre>| 5         | 16200    | 6677.754178  | 0.590926          |                     | 22.750771       |</pre>"
      ],
      "text/plain": [
       "| 5         | 16200    | 6677.754178  | 0.590926          |                     | 22.750771       |"
      ]
     },
     "metadata": {},
     "output_type": "display_data"
    },
    {
     "data": {
      "text/html": [
       "<pre>| 5         | 16500    | 6690.359951  | 0.589455          |                     | 23.798641       |</pre>"
      ],
      "text/plain": [
       "| 5         | 16500    | 6690.359951  | 0.589455          |                     | 23.798641       |"
      ]
     },
     "metadata": {},
     "output_type": "display_data"
    },
    {
     "data": {
      "text/html": [
       "<pre>| 5         | 16800    | 6704.401999  | 0.588274          |                     | 21.364384       |</pre>"
      ],
      "text/plain": [
       "| 5         | 16800    | 6704.401999  | 0.588274          |                     | 21.364384       |"
      ]
     },
     "metadata": {},
     "output_type": "display_data"
    },
    {
     "data": {
      "text/html": [
       "<pre>| 5         | 17100    | 6717.510702  | 0.586082          |                     | 22.885551       |</pre>"
      ],
      "text/plain": [
       "| 5         | 17100    | 6717.510702  | 0.586082          |                     | 22.885551       |"
      ]
     },
     "metadata": {},
     "output_type": "display_data"
    },
    {
     "data": {
      "text/html": [
       "<pre>| 5         | 17400    | 6731.844172  | 0.585575          |                     | 20.930016       |</pre>"
      ],
      "text/plain": [
       "| 5         | 17400    | 6731.844172  | 0.585575          |                     | 20.930016       |"
      ]
     },
     "metadata": {},
     "output_type": "display_data"
    },
    {
     "data": {
      "text/html": [
       "<pre>| 5         | 17700    | 6744.608423  | 0.584746          |                     | 23.503159       |</pre>"
      ],
      "text/plain": [
       "| 5         | 17700    | 6744.608423  | 0.584746          |                     | 23.503159       |"
      ]
     },
     "metadata": {},
     "output_type": "display_data"
    },
    {
     "data": {
      "text/html": [
       "<pre>| 5         | 18000    | 6757.537704  | 0.584444          |                     | 23.203165       |</pre>"
      ],
      "text/plain": [
       "| 5         | 18000    | 6757.537704  | 0.584444          |                     | 23.203165       |"
      ]
     },
     "metadata": {},
     "output_type": "display_data"
    },
    {
     "data": {
      "text/html": [
       "<pre>| 5         | 18300    | 6770.804798  | 0.583279          |                     | 22.612356       |</pre>"
      ],
      "text/plain": [
       "| 5         | 18300    | 6770.804798  | 0.583279          |                     | 22.612356       |"
      ]
     },
     "metadata": {},
     "output_type": "display_data"
    },
    {
     "data": {
      "text/html": [
       "<pre>| 5         | 18600    | 6783.627548  | 0.580914          |                     | 23.395912       |</pre>"
      ],
      "text/plain": [
       "| 5         | 18600    | 6783.627548  | 0.580914          |                     | 23.395912       |"
      ]
     },
     "metadata": {},
     "output_type": "display_data"
    },
    {
     "data": {
      "text/html": [
       "<pre>| 5         | 18900    | 6796.568323  | 0.578783          |                     | 23.182529       |</pre>"
      ],
      "text/plain": [
       "| 5         | 18900    | 6796.568323  | 0.578783          |                     | 23.182529       |"
      ]
     },
     "metadata": {},
     "output_type": "display_data"
    },
    {
     "data": {
      "text/html": [
       "<pre>| 5         | 19200    | 6809.997405  | 0.576406          |                     | 22.339565       |</pre>"
      ],
      "text/plain": [
       "| 5         | 19200    | 6809.997405  | 0.576406          |                     | 22.339565       |"
      ]
     },
     "metadata": {},
     "output_type": "display_data"
    },
    {
     "data": {
      "text/html": [
       "<pre>| 5         | 19500    | 6823.347306  | 0.573128          |                     | 22.472094       |</pre>"
      ],
      "text/plain": [
       "| 5         | 19500    | 6823.347306  | 0.573128          |                     | 22.472094       |"
      ]
     },
     "metadata": {},
     "output_type": "display_data"
    },
    {
     "data": {
      "text/html": [
       "<pre>| 5         | 19800    | 6835.730620  | 0.571263          |                     | 24.226152       |</pre>"
      ],
      "text/plain": [
       "| 5         | 19800    | 6835.730620  | 0.571263          |                     | 24.226152       |"
      ]
     },
     "metadata": {},
     "output_type": "display_data"
    },
    {
     "data": {
      "text/html": [
       "<pre>| 5         | 20100    | 6849.711762  | 0.569353          |                     | 21.457481       |</pre>"
      ],
      "text/plain": [
       "| 5         | 20100    | 6849.711762  | 0.569353          |                     | 21.457481       |"
      ]
     },
     "metadata": {},
     "output_type": "display_data"
    },
    {
     "data": {
      "text/html": [
       "<pre>| 5         | 20400    | 6862.813268  | 0.566618          |                     | 22.898108       |</pre>"
      ],
      "text/plain": [
       "| 5         | 20400    | 6862.813268  | 0.566618          |                     | 22.898108       |"
      ]
     },
     "metadata": {},
     "output_type": "display_data"
    },
    {
     "data": {
      "text/html": [
       "<pre>| 5         | 20700    | 6876.143785  | 0.564928          |                     | 22.504784       |</pre>"
      ],
      "text/plain": [
       "| 5         | 20700    | 6876.143785  | 0.564928          |                     | 22.504784       |"
      ]
     },
     "metadata": {},
     "output_type": "display_data"
    },
    {
     "data": {
      "text/html": [
       "<pre>| 5         | 21000    | 6889.202138  | 0.562571          |                     | 22.973747       |</pre>"
      ],
      "text/plain": [
       "| 5         | 21000    | 6889.202138  | 0.562571          |                     | 22.973747       |"
      ]
     },
     "metadata": {},
     "output_type": "display_data"
    },
    {
     "data": {
      "text/html": [
       "<pre>| 5         | 21300    | 6901.212295  | 0.560282          |                     | 24.978863       |</pre>"
      ],
      "text/plain": [
       "| 5         | 21300    | 6901.212295  | 0.560282          |                     | 24.978863       |"
      ]
     },
     "metadata": {},
     "output_type": "display_data"
    },
    {
     "data": {
      "text/html": [
       "<pre>| 5         | 21600    | 6914.041116  | 0.557500          |                     | 23.384880       |</pre>"
      ],
      "text/plain": [
       "| 5         | 21600    | 6914.041116  | 0.557500          |                     | 23.384880       |"
      ]
     },
     "metadata": {},
     "output_type": "display_data"
    },
    {
     "data": {
      "text/html": [
       "<pre>| 5         | 21900    | 6927.187040  | 0.554475          |                     | 22.820730       |</pre>"
      ],
      "text/plain": [
       "| 5         | 21900    | 6927.187040  | 0.554475          |                     | 22.820730       |"
      ]
     },
     "metadata": {},
     "output_type": "display_data"
    },
    {
     "data": {
      "text/html": [
       "<pre>| 5         | 22200    | 6939.711968  | 0.552027          |                     | 23.952263       |</pre>"
      ],
      "text/plain": [
       "| 5         | 22200    | 6939.711968  | 0.552027          |                     | 23.952263       |"
      ]
     },
     "metadata": {},
     "output_type": "display_data"
    },
    {
     "data": {
      "text/html": [
       "<pre>| 5         | 22500    | 6951.701503  | 0.548311          |                     | 25.021816       |</pre>"
      ],
      "text/plain": [
       "| 5         | 22500    | 6951.701503  | 0.548311          |                     | 25.021816       |"
      ]
     },
     "metadata": {},
     "output_type": "display_data"
    },
    {
     "data": {
      "text/html": [
       "<pre>| 5         | 22800    | 6964.546201  | 0.545746          |                     | 23.355940       |</pre>"
      ],
      "text/plain": [
       "| 5         | 22800    | 6964.546201  | 0.545746          |                     | 23.355940       |"
      ]
     },
     "metadata": {},
     "output_type": "display_data"
    },
    {
     "data": {
      "text/html": [
       "<pre>| 5         | 23100    | 6977.561991  | 0.542338          |                     | 23.048901       |</pre>"
      ],
      "text/plain": [
       "| 5         | 23100    | 6977.561991  | 0.542338          |                     | 23.048901       |"
      ]
     },
     "metadata": {},
     "output_type": "display_data"
    },
    {
     "data": {
      "text/html": [
       "<pre>| 5         | 23400    | 6989.206379  | 0.539231          |                     | 25.763468       |</pre>"
      ],
      "text/plain": [
       "| 5         | 23400    | 6989.206379  | 0.539231          |                     | 25.763468       |"
      ]
     },
     "metadata": {},
     "output_type": "display_data"
    },
    {
     "data": {
      "text/html": [
       "<pre>| 5         | 23700    | 7002.463106  | 0.536160          |                     | 22.630039       |</pre>"
      ],
      "text/plain": [
       "| 5         | 23700    | 7002.463106  | 0.536160          |                     | 22.630039       |"
      ]
     },
     "metadata": {},
     "output_type": "display_data"
    },
    {
     "data": {
      "text/html": [
       "<pre>| 5         | 24000    | 7015.815021  | 0.531500          |                     | 22.468689       |</pre>"
      ],
      "text/plain": [
       "| 5         | 24000    | 7015.815021  | 0.531500          |                     | 22.468689       |"
      ]
     },
     "metadata": {},
     "output_type": "display_data"
    },
    {
     "data": {
      "text/html": [
       "<pre>| 5         | 24300    | 7029.165574  | 0.525556          |                     | 22.471014       |</pre>"
      ],
      "text/plain": [
       "| 5         | 24300    | 7029.165574  | 0.525556          |                     | 22.471014       |"
      ]
     },
     "metadata": {},
     "output_type": "display_data"
    },
    {
     "data": {
      "text/html": [
       "<pre>| 5         | 24600    | 7044.490654  | 0.520041          |                     | 19.575735       |</pre>"
      ],
      "text/plain": [
       "| 5         | 24600    | 7044.490654  | 0.520041          |                     | 19.575735       |"
      ]
     },
     "metadata": {},
     "output_type": "display_data"
    },
    {
     "data": {
      "text/html": [
       "<pre>| 5         | 24800    | 7055.651831  | 0.515847          |                     | 17.919266       |</pre>"
      ],
      "text/plain": [
       "| 5         | 24800    | 7055.651831  | 0.515847          |                     | 17.919266       |"
      ]
     },
     "metadata": {},
     "output_type": "display_data"
    },
    {
     "data": {
      "text/html": [
       "<pre>| 5         | 25000    | 7067.610676  | 0.511760          |                     | 16.723999       |</pre>"
      ],
      "text/plain": [
       "| 5         | 25000    | 7067.610676  | 0.511760          |                     | 16.723999       |"
      ]
     },
     "metadata": {},
     "output_type": "display_data"
    },
    {
     "data": {
      "text/html": [
       "<pre>| 5         | 25200    | 7080.420546  | 0.507778          |                     | 15.612964       |</pre>"
      ],
      "text/plain": [
       "| 5         | 25200    | 7080.420546  | 0.507778          |                     | 15.612964       |"
      ]
     },
     "metadata": {},
     "output_type": "display_data"
    },
    {
     "data": {
      "text/html": [
       "<pre>| 5         | 25400    | 7092.312846  | 0.503819          |                     | 16.817631       |</pre>"
      ],
      "text/plain": [
       "| 5         | 25400    | 7092.312846  | 0.503819          |                     | 16.817631       |"
      ]
     },
     "metadata": {},
     "output_type": "display_data"
    },
    {
     "data": {
      "text/html": [
       "<pre>| 5         | 25600    | 7104.160174  | 0.499883          |                     | 16.881439       |</pre>"
      ],
      "text/plain": [
       "| 5         | 25600    | 7104.160174  | 0.499883          |                     | 16.881439       |"
      ]
     },
     "metadata": {},
     "output_type": "display_data"
    },
    {
     "data": {
      "text/html": [
       "<pre>| 5         | 25800    | 7116.290953  | 0.496008          |                     | 16.486996       |</pre>"
      ],
      "text/plain": [
       "| 5         | 25800    | 7116.290953  | 0.496008          |                     | 16.486996       |"
      ]
     },
     "metadata": {},
     "output_type": "display_data"
    },
    {
     "data": {
      "text/html": [
       "<pre>| 5         | 26000    | 7128.365538  | 0.492231          |                     | 16.563721       |</pre>"
      ],
      "text/plain": [
       "| 5         | 26000    | 7128.365538  | 0.492231          |                     | 16.563721       |"
      ]
     },
     "metadata": {},
     "output_type": "display_data"
    },
    {
     "data": {
      "text/html": [
       "<pre>| 5         | 26200    | 7139.918895  | 0.488511          |                     | 17.310957       |</pre>"
      ],
      "text/plain": [
       "| 5         | 26200    | 7139.918895  | 0.488511          |                     | 17.310957       |"
      ]
     },
     "metadata": {},
     "output_type": "display_data"
    },
    {
     "data": {
      "text/html": [
       "<pre>| 5         | 26400    | 7150.464607  | 0.484811          |                     | 18.965073       |</pre>"
      ],
      "text/plain": [
       "| 5         | 26400    | 7150.464607  | 0.484811          |                     | 18.965073       |"
      ]
     },
     "metadata": {},
     "output_type": "display_data"
    },
    {
     "data": {
      "text/html": [
       "<pre>| 5         | 26600    | 7163.133167  | 0.481203          |                     | 15.787095       |</pre>"
      ],
      "text/plain": [
       "| 5         | 26600    | 7163.133167  | 0.481203          |                     | 15.787095       |"
      ]
     },
     "metadata": {},
     "output_type": "display_data"
    },
    {
     "data": {
      "text/html": [
       "<pre>| 5         | 26800    | 7174.596773  | 0.477612          |                     | 17.446537       |</pre>"
      ],
      "text/plain": [
       "| 5         | 26800    | 7174.596773  | 0.477612          |                     | 17.446537       |"
      ]
     },
     "metadata": {},
     "output_type": "display_data"
    },
    {
     "data": {
      "text/html": [
       "<pre>| 5         | 27000    | 7185.974551  | 0.474111          |                     | 17.578136       |</pre>"
      ],
      "text/plain": [
       "| 5         | 27000    | 7185.974551  | 0.474111          |                     | 17.578136       |"
      ]
     },
     "metadata": {},
     "output_type": "display_data"
    },
    {
     "data": {
      "text/html": [
       "<pre>| 5         | 27200    | 7198.130786  | 0.470662          |                     | 16.452457       |</pre>"
      ],
      "text/plain": [
       "| 5         | 27200    | 7198.130786  | 0.470662          |                     | 16.452457       |"
      ]
     },
     "metadata": {},
     "output_type": "display_data"
    },
    {
     "data": {
      "text/html": [
       "<pre>| 5         | 27400    | 7210.160911  | 0.467263          |                     | 16.624920       |</pre>"
      ],
      "text/plain": [
       "| 5         | 27400    | 7210.160911  | 0.467263          |                     | 16.624920       |"
      ]
     },
     "metadata": {},
     "output_type": "display_data"
    },
    {
     "data": {
      "text/html": [
       "<pre>| 5         | 27600    | 7222.290441  | 0.463913          |                     | 16.488699       |</pre>"
      ],
      "text/plain": [
       "| 5         | 27600    | 7222.290441  | 0.463913          |                     | 16.488699       |"
      ]
     },
     "metadata": {},
     "output_type": "display_data"
    },
    {
     "data": {
      "text/html": [
       "<pre>| 5         | 27600    | 7483.212057  | 0.463913          | 0.005641            | 16.488699       |</pre>"
      ],
      "text/plain": [
       "| 5         | 27600    | 7483.212057  | 0.463913          | 0.005641            | 16.488699       |"
      ]
     },
     "metadata": {},
     "output_type": "display_data"
    },
    {
     "data": {
      "text/html": [
       "<pre>Checkpointing model into rep IDSIA by 1 conv graphlab net - train in 10 iters</pre>"
      ],
      "text/plain": [
       "Checkpointing model into rep IDSIA by 1 conv graphlab net - train in 10 iters"
      ]
     },
     "metadata": {},
     "output_type": "display_data"
    },
    {
     "data": {
      "text/html": [
       "<pre>| 6         | 200      | 7495.248089  | 0.005000          |                     | 16.616951       |</pre>"
      ],
      "text/plain": [
       "| 6         | 200      | 7495.248089  | 0.005000          |                     | 16.616951       |"
      ]
     },
     "metadata": {},
     "output_type": "display_data"
    },
    {
     "data": {
      "text/html": [
       "<pre>| 6         | 400      | 7506.396797  | 0.007500          |                     | 17.939329       |</pre>"
      ],
      "text/plain": [
       "| 6         | 400      | 7506.396797  | 0.007500          |                     | 17.939329       |"
      ]
     },
     "metadata": {},
     "output_type": "display_data"
    },
    {
     "data": {
      "text/html": [
       "<pre>| 6         | 600      | 7518.907927  | 0.006667          |                     | 15.985775       |</pre>"
      ],
      "text/plain": [
       "| 6         | 600      | 7518.907927  | 0.006667          |                     | 15.985775       |"
      ]
     },
     "metadata": {},
     "output_type": "display_data"
    },
    {
     "data": {
      "text/html": [
       "<pre>| 6         | 800      | 7530.565606  | 0.005000          |                     | 17.156025       |</pre>"
      ],
      "text/plain": [
       "| 6         | 800      | 7530.565606  | 0.005000          |                     | 17.156025       |"
      ]
     },
     "metadata": {},
     "output_type": "display_data"
    },
    {
     "data": {
      "text/html": [
       "<pre>| 6         | 1000     | 7542.524646  | 0.006000          |                     | 16.723783       |</pre>"
      ],
      "text/plain": [
       "| 6         | 1000     | 7542.524646  | 0.006000          |                     | 16.723783       |"
      ]
     },
     "metadata": {},
     "output_type": "display_data"
    },
    {
     "data": {
      "text/html": [
       "<pre>| 6         | 1200     | 7554.883848  | 0.006667          |                     | 16.182234       |</pre>"
      ],
      "text/plain": [
       "| 6         | 1200     | 7554.883848  | 0.006667          |                     | 16.182234       |"
      ]
     },
     "metadata": {},
     "output_type": "display_data"
    },
    {
     "data": {
      "text/html": [
       "<pre>| 6         | 1400     | 7566.696163  | 0.005714          |                     | 16.931509       |</pre>"
      ],
      "text/plain": [
       "| 6         | 1400     | 7566.696163  | 0.005714          |                     | 16.931509       |"
      ]
     },
     "metadata": {},
     "output_type": "display_data"
    },
    {
     "data": {
      "text/html": [
       "<pre>| 6         | 1600     | 7578.365444  | 0.005625          |                     | 17.139027       |</pre>"
      ],
      "text/plain": [
       "| 6         | 1600     | 7578.365444  | 0.005625          |                     | 17.139027       |"
      ]
     },
     "metadata": {},
     "output_type": "display_data"
    },
    {
     "data": {
      "text/html": [
       "<pre>| 6         | 1800     | 7589.548342  | 0.005556          |                     | 17.884459       |</pre>"
      ],
      "text/plain": [
       "| 6         | 1800     | 7589.548342  | 0.005556          |                     | 17.884459       |"
      ]
     },
     "metadata": {},
     "output_type": "display_data"
    },
    {
     "data": {
      "text/html": [
       "<pre>| 6         | 2000     | 7602.027799  | 0.005500          |                     | 16.026329       |</pre>"
      ],
      "text/plain": [
       "| 6         | 2000     | 7602.027799  | 0.005500          |                     | 16.026329       |"
      ]
     },
     "metadata": {},
     "output_type": "display_data"
    },
    {
     "data": {
      "text/html": [
       "<pre>| 6         | 2200     | 7613.912626  | 0.005000          |                     | 16.828156       |</pre>"
      ],
      "text/plain": [
       "| 6         | 2200     | 7613.912626  | 0.005000          |                     | 16.828156       |"
      ]
     },
     "metadata": {},
     "output_type": "display_data"
    },
    {
     "data": {
      "text/html": [
       "<pre>| 6         | 2400     | 7624.900691  | 0.005000          |                     | 18.201576       |</pre>"
      ],
      "text/plain": [
       "| 6         | 2400     | 7624.900691  | 0.005000          |                     | 18.201576       |"
      ]
     },
     "metadata": {},
     "output_type": "display_data"
    },
    {
     "data": {
      "text/html": [
       "<pre>| 6         | 2600     | 7636.591963  | 0.006154          |                     | 17.106808       |</pre>"
      ],
      "text/plain": [
       "| 6         | 2600     | 7636.591963  | 0.006154          |                     | 17.106808       |"
      ]
     },
     "metadata": {},
     "output_type": "display_data"
    },
    {
     "data": {
      "text/html": [
       "<pre>| 6         | 2800     | 7648.866680  | 0.006071          |                     | 16.293631       |</pre>"
      ],
      "text/plain": [
       "| 6         | 2800     | 7648.866680  | 0.006071          |                     | 16.293631       |"
      ]
     },
     "metadata": {},
     "output_type": "display_data"
    },
    {
     "data": {
      "text/html": [
       "<pre>| 6         | 3000     | 7660.730219  | 0.006000          |                     | 16.858374       |</pre>"
      ],
      "text/plain": [
       "| 6         | 3000     | 7660.730219  | 0.006000          |                     | 16.858374       |"
      ]
     },
     "metadata": {},
     "output_type": "display_data"
    },
    {
     "data": {
      "text/html": [
       "<pre>| 6         | 3200     | 7672.496280  | 0.005625          |                     | 16.998081       |</pre>"
      ],
      "text/plain": [
       "| 6         | 3200     | 7672.496280  | 0.005625          |                     | 16.998081       |"
      ]
     },
     "metadata": {},
     "output_type": "display_data"
    },
    {
     "data": {
      "text/html": [
       "<pre>| 6         | 3400     | 7684.941850  | 0.005294          |                     | 16.069956       |</pre>"
      ],
      "text/plain": [
       "| 6         | 3400     | 7684.941850  | 0.005294          |                     | 16.069956       |"
      ]
     },
     "metadata": {},
     "output_type": "display_data"
    },
    {
     "data": {
      "text/html": [
       "<pre>| 6         | 3600     | 7696.725397  | 0.005000          |                     | 16.972803       |</pre>"
      ],
      "text/plain": [
       "| 6         | 3600     | 7696.725397  | 0.005000          |                     | 16.972803       |"
      ]
     },
     "metadata": {},
     "output_type": "display_data"
    },
    {
     "data": {
      "text/html": [
       "<pre>| 6         | 3800     | 7708.759562  | 0.005000          |                     | 16.619366       |</pre>"
      ],
      "text/plain": [
       "| 6         | 3800     | 7708.759562  | 0.005000          |                     | 16.619366       |"
      ]
     },
     "metadata": {},
     "output_type": "display_data"
    },
    {
     "data": {
      "text/html": [
       "<pre>| 6         | 4000     | 7721.045665  | 0.005000          |                     | 16.278540       |</pre>"
      ],
      "text/plain": [
       "| 6         | 4000     | 7721.045665  | 0.005000          |                     | 16.278540       |"
      ]
     },
     "metadata": {},
     "output_type": "display_data"
    },
    {
     "data": {
      "text/html": [
       "<pre>| 6         | 4200     | 7732.578326  | 0.005476          |                     | 17.342033       |</pre>"
      ],
      "text/plain": [
       "| 6         | 4200     | 7732.578326  | 0.005476          |                     | 17.342033       |"
      ]
     },
     "metadata": {},
     "output_type": "display_data"
    },
    {
     "data": {
      "text/html": [
       "<pre>| 6         | 4400     | 7745.020229  | 0.005227          |                     | 16.074747       |</pre>"
      ],
      "text/plain": [
       "| 6         | 4400     | 7745.020229  | 0.005227          |                     | 16.074747       |"
      ]
     },
     "metadata": {},
     "output_type": "display_data"
    },
    {
     "data": {
      "text/html": [
       "<pre>| 6         | 4600     | 7757.078288  | 0.005000          |                     | 16.586424       |</pre>"
      ],
      "text/plain": [
       "| 6         | 4600     | 7757.078288  | 0.005000          |                     | 16.586424       |"
      ]
     },
     "metadata": {},
     "output_type": "display_data"
    },
    {
     "data": {
      "text/html": [
       "<pre>| 6         | 4800     | 7768.618657  | 0.005417          |                     | 17.330462       |</pre>"
      ],
      "text/plain": [
       "| 6         | 4800     | 7768.618657  | 0.005417          |                     | 17.330462       |"
      ]
     },
     "metadata": {},
     "output_type": "display_data"
    },
    {
     "data": {
      "text/html": [
       "<pre>| 6         | 5000     | 7780.622900  | 0.005600          |                     | 16.660753       |</pre>"
      ],
      "text/plain": [
       "| 6         | 5000     | 7780.622900  | 0.005600          |                     | 16.660753       |"
      ]
     },
     "metadata": {},
     "output_type": "display_data"
    },
    {
     "data": {
      "text/html": [
       "<pre>| 6         | 5200     | 7792.152306  | 0.005769          |                     | 17.346977       |</pre>"
      ],
      "text/plain": [
       "| 6         | 5200     | 7792.152306  | 0.005769          |                     | 17.346977       |"
      ]
     },
     "metadata": {},
     "output_type": "display_data"
    },
    {
     "data": {
      "text/html": [
       "<pre>| 6         | 5400     | 7804.309710  | 0.005926          |                     | 16.450874       |</pre>"
      ],
      "text/plain": [
       "| 6         | 5400     | 7804.309710  | 0.005926          |                     | 16.450874       |"
      ]
     },
     "metadata": {},
     "output_type": "display_data"
    },
    {
     "data": {
      "text/html": [
       "<pre>| 6         | 5600     | 7815.498671  | 0.005893          |                     | 17.874754       |</pre>"
      ],
      "text/plain": [
       "| 6         | 5600     | 7815.498671  | 0.005893          |                     | 17.874754       |"
      ]
     },
     "metadata": {},
     "output_type": "display_data"
    },
    {
     "data": {
      "text/html": [
       "<pre>| 6         | 5800     | 7827.155798  | 0.005862          |                     | 17.156876       |</pre>"
      ],
      "text/plain": [
       "| 6         | 5800     | 7827.155798  | 0.005862          |                     | 17.156876       |"
      ]
     },
     "metadata": {},
     "output_type": "display_data"
    },
    {
     "data": {
      "text/html": [
       "<pre>| 6         | 6000     | 7840.029793  | 0.005833          |                     | 15.535178       |</pre>"
      ],
      "text/plain": [
       "| 6         | 6000     | 7840.029793  | 0.005833          |                     | 15.535178       |"
      ]
     },
     "metadata": {},
     "output_type": "display_data"
    },
    {
     "data": {
      "text/html": [
       "<pre>| 6         | 6200     | 7851.764249  | 0.006129          |                     | 17.043863       |</pre>"
      ],
      "text/plain": [
       "| 6         | 6200     | 7851.764249  | 0.006129          |                     | 17.043863       |"
      ]
     },
     "metadata": {},
     "output_type": "display_data"
    },
    {
     "data": {
      "text/html": [
       "<pre>| 6         | 6400     | 7864.181215  | 0.006250          |                     | 16.106962       |</pre>"
      ],
      "text/plain": [
       "| 6         | 6400     | 7864.181215  | 0.006250          |                     | 16.106962       |"
      ]
     },
     "metadata": {},
     "output_type": "display_data"
    },
    {
     "data": {
      "text/html": [
       "<pre>| 6         | 6600     | 7876.822133  | 0.006061          |                     | 15.821675       |</pre>"
      ],
      "text/plain": [
       "| 6         | 6600     | 7876.822133  | 0.006061          |                     | 15.821675       |"
      ]
     },
     "metadata": {},
     "output_type": "display_data"
    },
    {
     "data": {
      "text/html": [
       "<pre>| 6         | 6800     | 7889.381135  | 0.006029          |                     | 15.924824       |</pre>"
      ],
      "text/plain": [
       "| 6         | 6800     | 7889.381135  | 0.006029          |                     | 15.924824       |"
      ]
     },
     "metadata": {},
     "output_type": "display_data"
    },
    {
     "data": {
      "text/html": [
       "<pre>| 6         | 7000     | 7901.587156  | 0.005857          |                     | 16.385323       |</pre>"
      ],
      "text/plain": [
       "| 6         | 7000     | 7901.587156  | 0.005857          |                     | 16.385323       |"
      ]
     },
     "metadata": {},
     "output_type": "display_data"
    },
    {
     "data": {
      "text/html": [
       "<pre>| 6         | 7200     | 7913.381806  | 0.005972          |                     | 16.956882       |</pre>"
      ],
      "text/plain": [
       "| 6         | 7200     | 7913.381806  | 0.005972          |                     | 16.956882       |"
      ]
     },
     "metadata": {},
     "output_type": "display_data"
    },
    {
     "data": {
      "text/html": [
       "<pre>| 6         | 7400     | 7926.384809  | 0.005811          |                     | 15.381059       |</pre>"
      ],
      "text/plain": [
       "| 6         | 7400     | 7926.384809  | 0.005811          |                     | 15.381059       |"
      ]
     },
     "metadata": {},
     "output_type": "display_data"
    },
    {
     "data": {
      "text/html": [
       "<pre>| 6         | 7600     | 7938.312126  | 0.005658          |                     | 16.768238       |</pre>"
      ],
      "text/plain": [
       "| 6         | 7600     | 7938.312126  | 0.005658          |                     | 16.768238       |"
      ]
     },
     "metadata": {},
     "output_type": "display_data"
    },
    {
     "data": {
      "text/html": [
       "<pre>| 6         | 7800     | 7950.875312  | 0.005641          |                     | 15.919518       |</pre>"
      ],
      "text/plain": [
       "| 6         | 7800     | 7950.875312  | 0.005641          |                     | 15.919518       |"
      ]
     },
     "metadata": {},
     "output_type": "display_data"
    },
    {
     "data": {
      "text/html": [
       "<pre>| 6         | 8000     | 7963.144410  | 0.005875          |                     | 16.301081       |</pre>"
      ],
      "text/plain": [
       "| 6         | 8000     | 7963.144410  | 0.005875          |                     | 16.301081       |"
      ]
     },
     "metadata": {},
     "output_type": "display_data"
    },
    {
     "data": {
      "text/html": [
       "<pre>| 6         | 8200     | 7975.614803  | 0.005732          |                     | 16.037992       |</pre>"
      ],
      "text/plain": [
       "| 6         | 8200     | 7975.614803  | 0.005732          |                     | 16.037992       |"
      ]
     },
     "metadata": {},
     "output_type": "display_data"
    },
    {
     "data": {
      "text/html": [
       "<pre>| 6         | 8400     | 7987.836845  | 0.005714          |                     | 16.363878       |</pre>"
      ],
      "text/plain": [
       "| 6         | 8400     | 7987.836845  | 0.005714          |                     | 16.363878       |"
      ]
     },
     "metadata": {},
     "output_type": "display_data"
    },
    {
     "data": {
      "text/html": [
       "<pre>| 6         | 8600     | 8000.138091  | 0.005698          |                     | 16.258547       |</pre>"
      ],
      "text/plain": [
       "| 6         | 8600     | 8000.138091  | 0.005698          |                     | 16.258547       |"
      ]
     },
     "metadata": {},
     "output_type": "display_data"
    },
    {
     "data": {
      "text/html": [
       "<pre>| 6         | 8800     | 8013.253524  | 0.005909          |                     | 15.249211       |</pre>"
      ],
      "text/plain": [
       "| 6         | 8800     | 8013.253524  | 0.005909          |                     | 15.249211       |"
      ]
     },
     "metadata": {},
     "output_type": "display_data"
    },
    {
     "data": {
      "text/html": [
       "<pre>| 6         | 9000     | 8025.829165  | 0.005778          |                     | 15.903757       |</pre>"
      ],
      "text/plain": [
       "| 6         | 9000     | 8025.829165  | 0.005778          |                     | 15.903757       |"
      ]
     },
     "metadata": {},
     "output_type": "display_data"
    },
    {
     "data": {
      "text/html": [
       "<pre>| 6         | 9200     | 8038.390466  | 0.005761          |                     | 15.921914       |</pre>"
      ],
      "text/plain": [
       "| 6         | 9200     | 8038.390466  | 0.005761          |                     | 15.921914       |"
      ]
     },
     "metadata": {},
     "output_type": "display_data"
    },
    {
     "data": {
      "text/html": [
       "<pre>| 6         | 9400     | 8051.323676  | 0.005745          |                     | 15.464088       |</pre>"
      ],
      "text/plain": [
       "| 6         | 9400     | 8051.323676  | 0.005745          |                     | 15.464088       |"
      ]
     },
     "metadata": {},
     "output_type": "display_data"
    },
    {
     "data": {
      "text/html": [
       "<pre>| 6         | 9600     | 8063.782899  | 0.005937          |                     | 16.052349       |</pre>"
      ],
      "text/plain": [
       "| 6         | 9600     | 8063.782899  | 0.005937          |                     | 16.052349       |"
      ]
     },
     "metadata": {},
     "output_type": "display_data"
    },
    {
     "data": {
      "text/html": [
       "<pre>| 6         | 9800     | 8076.023271  | 0.005918          |                     | 16.339346       |</pre>"
      ],
      "text/plain": [
       "| 6         | 9800     | 8076.023271  | 0.005918          |                     | 16.339346       |"
      ]
     },
     "metadata": {},
     "output_type": "display_data"
    },
    {
     "data": {
      "text/html": [
       "<pre>| 6         | 10000    | 8088.016046  | 0.005800          |                     | 16.676733       |</pre>"
      ],
      "text/plain": [
       "| 6         | 10000    | 8088.016046  | 0.005800          |                     | 16.676733       |"
      ]
     },
     "metadata": {},
     "output_type": "display_data"
    },
    {
     "data": {
      "text/html": [
       "<pre>| 6         | 10200    | 8100.789479  | 0.005686          |                     | 15.657498       |</pre>"
      ],
      "text/plain": [
       "| 6         | 10200    | 8100.789479  | 0.005686          |                     | 15.657498       |"
      ]
     },
     "metadata": {},
     "output_type": "display_data"
    },
    {
     "data": {
      "text/html": [
       "<pre>| 6         | 10400    | 8113.561776  | 0.005577          |                     | 15.658895       |</pre>"
      ],
      "text/plain": [
       "| 6         | 10400    | 8113.561776  | 0.005577          |                     | 15.658895       |"
      ]
     },
     "metadata": {},
     "output_type": "display_data"
    },
    {
     "data": {
      "text/html": [
       "<pre>| 6         | 10600    | 8125.053634  | 0.005660          |                     | 17.403595       |</pre>"
      ],
      "text/plain": [
       "| 6         | 10600    | 8125.053634  | 0.005660          |                     | 17.403595       |"
      ]
     },
     "metadata": {},
     "output_type": "display_data"
    },
    {
     "data": {
      "text/html": [
       "<pre>| 6         | 10800    | 8137.480270  | 0.005741          |                     | 16.094507       |</pre>"
      ],
      "text/plain": [
       "| 6         | 10800    | 8137.480270  | 0.005741          |                     | 16.094507       |"
      ]
     },
     "metadata": {},
     "output_type": "display_data"
    },
    {
     "data": {
      "text/html": [
       "<pre>| 6         | 11000    | 8150.237818  | 0.005636          |                     | 15.676965       |</pre>"
      ],
      "text/plain": [
       "| 6         | 11000    | 8150.237818  | 0.005636          |                     | 15.676965       |"
      ]
     },
     "metadata": {},
     "output_type": "display_data"
    },
    {
     "data": {
      "text/html": [
       "<pre>| 6         | 11200    | 8162.721640  | 0.005714          |                     | 16.020739       |</pre>"
      ],
      "text/plain": [
       "| 6         | 11200    | 8162.721640  | 0.005714          |                     | 16.020739       |"
      ]
     },
     "metadata": {},
     "output_type": "display_data"
    },
    {
     "data": {
      "text/html": [
       "<pre>| 6         | 11400    | 8174.727962  | 0.005614          |                     | 16.657862       |</pre>"
      ],
      "text/plain": [
       "| 6         | 11400    | 8174.727962  | 0.005614          |                     | 16.657862       |"
      ]
     },
     "metadata": {},
     "output_type": "display_data"
    },
    {
     "data": {
      "text/html": [
       "<pre>| 6         | 11600    | 8187.793491  | 0.005603          |                     | 15.307480       |</pre>"
      ],
      "text/plain": [
       "| 6         | 11600    | 8187.793491  | 0.005603          |                     | 15.307480       |"
      ]
     },
     "metadata": {},
     "output_type": "display_data"
    },
    {
     "data": {
      "text/html": [
       "<pre>| 6         | 11800    | 8200.124817  | 0.005508          |                     | 16.218864       |</pre>"
      ],
      "text/plain": [
       "| 6         | 11800    | 8200.124817  | 0.005508          |                     | 16.218864       |"
      ]
     },
     "metadata": {},
     "output_type": "display_data"
    },
    {
     "data": {
      "text/html": [
       "<pre>| 6         | 12000    | 8212.610877  | 0.005417          |                     | 16.017864       |</pre>"
      ],
      "text/plain": [
       "| 6         | 12000    | 8212.610877  | 0.005417          |                     | 16.017864       |"
      ]
     },
     "metadata": {},
     "output_type": "display_data"
    },
    {
     "data": {
      "text/html": [
       "<pre>| 6         | 12200    | 8225.429713  | 0.005410          |                     | 15.602041       |</pre>"
      ],
      "text/plain": [
       "| 6         | 12200    | 8225.429713  | 0.005410          |                     | 15.602041       |"
      ]
     },
     "metadata": {},
     "output_type": "display_data"
    },
    {
     "data": {
      "text/html": [
       "<pre>| 6         | 12400    | 8237.983694  | 0.005323          |                     | 15.931182       |</pre>"
      ],
      "text/plain": [
       "| 6         | 12400    | 8237.983694  | 0.005323          |                     | 15.931182       |"
      ]
     },
     "metadata": {},
     "output_type": "display_data"
    },
    {
     "data": {
      "text/html": [
       "<pre>| 6         | 12600    | 8250.460756  | 0.005476          |                     | 16.029423       |</pre>"
      ],
      "text/plain": [
       "| 6         | 12600    | 8250.460756  | 0.005476          |                     | 16.029423       |"
      ]
     },
     "metadata": {},
     "output_type": "display_data"
    },
    {
     "data": {
      "text/html": [
       "<pre>| 6         | 12800    | 8262.873154  | 0.005703          |                     | 16.112923       |</pre>"
      ],
      "text/plain": [
       "| 6         | 12800    | 8262.873154  | 0.005703          |                     | 16.112923       |"
      ]
     },
     "metadata": {},
     "output_type": "display_data"
    },
    {
     "data": {
      "text/html": [
       "<pre>| 6         | 13000    | 8275.633929  | 0.005769          |                     | 15.673034       |</pre>"
      ],
      "text/plain": [
       "| 6         | 13000    | 8275.633929  | 0.005769          |                     | 15.673034       |"
      ]
     },
     "metadata": {},
     "output_type": "display_data"
    },
    {
     "data": {
      "text/html": [
       "<pre>| 6         | 13200    | 8288.006302  | 0.005909          |                     | 16.165045       |</pre>"
      ],
      "text/plain": [
       "| 6         | 13200    | 8288.006302  | 0.005909          |                     | 16.165045       |"
      ]
     },
     "metadata": {},
     "output_type": "display_data"
    },
    {
     "data": {
      "text/html": [
       "<pre>| 6         | 13400    | 8300.261771  | 0.005821          |                     | 16.319246       |</pre>"
      ],
      "text/plain": [
       "| 6         | 13400    | 8300.261771  | 0.005821          |                     | 16.319246       |"
      ]
     },
     "metadata": {},
     "output_type": "display_data"
    },
    {
     "data": {
      "text/html": [
       "<pre>| 6         | 13600    | 8312.902597  | 0.005735          |                     | 15.821712       |</pre>"
      ],
      "text/plain": [
       "| 6         | 13600    | 8312.902597  | 0.005735          |                     | 15.821712       |"
      ]
     },
     "metadata": {},
     "output_type": "display_data"
    },
    {
     "data": {
      "text/html": [
       "<pre>| 6         | 13800    | 8325.305012  | 0.005725          |                     | 16.125923       |</pre>"
      ],
      "text/plain": [
       "| 6         | 13800    | 8325.305012  | 0.005725          |                     | 16.125923       |"
      ]
     },
     "metadata": {},
     "output_type": "display_data"
    },
    {
     "data": {
      "text/html": [
       "<pre>| 6         | 14000    | 8337.426081  | 0.005714          |                     | 16.500198       |</pre>"
      ],
      "text/plain": [
       "| 6         | 14000    | 8337.426081  | 0.005714          |                     | 16.500198       |"
      ]
     },
     "metadata": {},
     "output_type": "display_data"
    },
    {
     "data": {
      "text/html": [
       "<pre>| 6         | 14200    | 8350.451358  | 0.005704          |                     | 15.354764       |</pre>"
      ],
      "text/plain": [
       "| 6         | 14200    | 8350.451358  | 0.005704          |                     | 15.354764       |"
      ]
     },
     "metadata": {},
     "output_type": "display_data"
    },
    {
     "data": {
      "text/html": [
       "<pre>| 6         | 14400    | 8362.576471  | 0.005694          |                     | 16.494690       |</pre>"
      ],
      "text/plain": [
       "| 6         | 14400    | 8362.576471  | 0.005694          |                     | 16.494690       |"
      ]
     },
     "metadata": {},
     "output_type": "display_data"
    },
    {
     "data": {
      "text/html": [
       "<pre>| 6         | 14600    | 8374.323567  | 0.005685          |                     | 17.025480       |</pre>"
      ],
      "text/plain": [
       "| 6         | 14600    | 8374.323567  | 0.005685          |                     | 17.025480       |"
      ]
     },
     "metadata": {},
     "output_type": "display_data"
    },
    {
     "data": {
      "text/html": [
       "<pre>| 6         | 14800    | 8386.669011  | 0.005676          |                     | 16.200321       |</pre>"
      ],
      "text/plain": [
       "| 6         | 14800    | 8386.669011  | 0.005676          |                     | 16.200321       |"
      ]
     },
     "metadata": {},
     "output_type": "display_data"
    },
    {
     "data": {
      "text/html": [
       "<pre>| 6         | 15000    | 8398.972924  | 0.005733          |                     | 16.254974       |</pre>"
      ],
      "text/plain": [
       "| 6         | 15000    | 8398.972924  | 0.005733          |                     | 16.254974       |"
      ]
     },
     "metadata": {},
     "output_type": "display_data"
    },
    {
     "data": {
      "text/html": [
       "<pre>| 6         | 15200    | 8410.514171  | 0.005724          |                     | 17.329166       |</pre>"
      ],
      "text/plain": [
       "| 6         | 15200    | 8410.514171  | 0.005724          |                     | 17.329166       |"
      ]
     },
     "metadata": {},
     "output_type": "display_data"
    },
    {
     "data": {
      "text/html": [
       "<pre>| 6         | 15400    | 8422.109583  | 0.005714          |                     | 17.248199       |</pre>"
      ],
      "text/plain": [
       "| 6         | 15400    | 8422.109583  | 0.005714          |                     | 17.248199       |"
      ]
     },
     "metadata": {},
     "output_type": "display_data"
    },
    {
     "data": {
      "text/html": [
       "<pre>| 6         | 15600    | 8434.529498  | 0.005705          |                     | 16.103176       |</pre>"
      ],
      "text/plain": [
       "| 6         | 15600    | 8434.529498  | 0.005705          |                     | 16.103176       |"
      ]
     },
     "metadata": {},
     "output_type": "display_data"
    },
    {
     "data": {
      "text/html": [
       "<pre>| 6         | 15800    | 8447.134658  | 0.005633          |                     | 15.866513       |</pre>"
      ],
      "text/plain": [
       "| 6         | 15800    | 8447.134658  | 0.005633          |                     | 15.866513       |"
      ]
     },
     "metadata": {},
     "output_type": "display_data"
    },
    {
     "data": {
      "text/html": [
       "<pre>| 6         | 16000    | 8459.039753  | 0.005687          |                     | 16.799534       |</pre>"
      ],
      "text/plain": [
       "| 6         | 16000    | 8459.039753  | 0.005687          |                     | 16.799534       |"
      ]
     },
     "metadata": {},
     "output_type": "display_data"
    },
    {
     "data": {
      "text/html": [
       "<pre>| 6         | 16200    | 8471.373546  | 0.005741          |                     | 16.215607       |</pre>"
      ],
      "text/plain": [
       "| 6         | 16200    | 8471.373546  | 0.005741          |                     | 16.215607       |"
      ]
     },
     "metadata": {},
     "output_type": "display_data"
    },
    {
     "data": {
      "text/html": [
       "<pre>| 6         | 16400    | 8484.240329  | 0.005732          |                     | 15.543902       |</pre>"
      ],
      "text/plain": [
       "| 6         | 16400    | 8484.240329  | 0.005732          |                     | 15.543902       |"
      ]
     },
     "metadata": {},
     "output_type": "display_data"
    },
    {
     "data": {
      "text/html": [
       "<pre>| 6         | 16600    | 8496.645974  | 0.005843          |                     | 16.121656       |</pre>"
      ],
      "text/plain": [
       "| 6         | 16600    | 8496.645974  | 0.005843          |                     | 16.121656       |"
      ]
     },
     "metadata": {},
     "output_type": "display_data"
    },
    {
     "data": {
      "text/html": [
       "<pre>| 6         | 16800    | 8508.914119  | 0.005774          |                     | 16.302425       |</pre>"
      ],
      "text/plain": [
       "| 6         | 16800    | 8508.914119  | 0.005774          |                     | 16.302425       |"
      ]
     },
     "metadata": {},
     "output_type": "display_data"
    },
    {
     "data": {
      "text/html": [
       "<pre>| 6         | 17000    | 8521.880751  | 0.005765          |                     | 15.424194       |</pre>"
      ],
      "text/plain": [
       "| 6         | 17000    | 8521.880751  | 0.005765          |                     | 15.424194       |"
      ]
     },
     "metadata": {},
     "output_type": "display_data"
    },
    {
     "data": {
      "text/html": [
       "<pre>| 6         | 17200    | 8534.844660  | 0.005756          |                     | 15.427414       |</pre>"
      ],
      "text/plain": [
       "| 6         | 17200    | 8534.844660  | 0.005756          |                     | 15.427414       |"
      ]
     },
     "metadata": {},
     "output_type": "display_data"
    },
    {
     "data": {
      "text/html": [
       "<pre>| 6         | 17400    | 8547.443461  | 0.005805          |                     | 15.874533       |</pre>"
      ],
      "text/plain": [
       "| 6         | 17400    | 8547.443461  | 0.005805          |                     | 15.874533       |"
      ]
     },
     "metadata": {},
     "output_type": "display_data"
    },
    {
     "data": {
      "text/html": [
       "<pre>| 6         | 17600    | 8560.294982  | 0.005852          |                     | 15.562394       |</pre>"
      ],
      "text/plain": [
       "| 6         | 17600    | 8560.294982  | 0.005852          |                     | 15.562394       |"
      ]
     },
     "metadata": {},
     "output_type": "display_data"
    },
    {
     "data": {
      "text/html": [
       "<pre>| 6         | 17800    | 8573.255503  | 0.005787          |                     | 15.431446       |</pre>"
      ],
      "text/plain": [
       "| 6         | 17800    | 8573.255503  | 0.005787          |                     | 15.431446       |"
      ]
     },
     "metadata": {},
     "output_type": "display_data"
    },
    {
     "data": {
      "text/html": [
       "<pre>| 6         | 18000    | 8585.933239  | 0.005833          |                     | 15.775688       |</pre>"
      ],
      "text/plain": [
       "| 6         | 18000    | 8585.933239  | 0.005833          |                     | 15.775688       |"
      ]
     },
     "metadata": {},
     "output_type": "display_data"
    },
    {
     "data": {
      "text/html": [
       "<pre>| 6         | 18200    | 8598.407150  | 0.005769          |                     | 16.033484       |</pre>"
      ],
      "text/plain": [
       "| 6         | 18200    | 8598.407150  | 0.005769          |                     | 16.033484       |"
      ]
     },
     "metadata": {},
     "output_type": "display_data"
    },
    {
     "data": {
      "text/html": [
       "<pre>| 6         | 18400    | 8611.300749  | 0.005761          |                     | 15.511594       |</pre>"
      ],
      "text/plain": [
       "| 6         | 18400    | 8611.300749  | 0.005761          |                     | 15.511594       |"
      ]
     },
     "metadata": {},
     "output_type": "display_data"
    },
    {
     "data": {
      "text/html": [
       "<pre>| 6         | 18600    | 8624.007274  | 0.005914          |                     | 15.739934       |</pre>"
      ],
      "text/plain": [
       "| 6         | 18600    | 8624.007274  | 0.005914          |                     | 15.739934       |"
      ]
     },
     "metadata": {},
     "output_type": "display_data"
    },
    {
     "data": {
      "text/html": [
       "<pre>| 6         | 18800    | 8636.078852  | 0.005851          |                     | 16.567841       |</pre>"
      ],
      "text/plain": [
       "| 6         | 18800    | 8636.078852  | 0.005851          |                     | 16.567841       |"
      ]
     },
     "metadata": {},
     "output_type": "display_data"
    },
    {
     "data": {
      "text/html": [
       "<pre>| 6         | 19000    | 8648.958444  | 0.005789          |                     | 15.528448       |</pre>"
      ],
      "text/plain": [
       "| 6         | 19000    | 8648.958444  | 0.005789          |                     | 15.528448       |"
      ]
     },
     "metadata": {},
     "output_type": "display_data"
    },
    {
     "data": {
      "text/html": [
       "<pre>| 6         | 19200    | 8660.989097  | 0.005781          |                     | 16.624193       |</pre>"
      ],
      "text/plain": [
       "| 6         | 19200    | 8660.989097  | 0.005781          |                     | 16.624193       |"
      ]
     },
     "metadata": {},
     "output_type": "display_data"
    },
    {
     "data": {
      "text/html": [
       "<pre>| 6         | 19400    | 8673.311696  | 0.005722          |                     | 16.230345       |</pre>"
      ],
      "text/plain": [
       "| 6         | 19400    | 8673.311696  | 0.005722          |                     | 16.230345       |"
      ]
     },
     "metadata": {},
     "output_type": "display_data"
    },
    {
     "data": {
      "text/html": [
       "<pre>| 6         | 19600    | 8685.742049  | 0.005663          |                     | 16.089653       |</pre>"
      ],
      "text/plain": [
       "| 6         | 19600    | 8685.742049  | 0.005663          |                     | 16.089653       |"
      ]
     },
     "metadata": {},
     "output_type": "display_data"
    },
    {
     "data": {
      "text/html": [
       "<pre>| 6         | 19800    | 8698.268162  | 0.005657          |                     | 15.966638       |</pre>"
      ],
      "text/plain": [
       "| 6         | 19800    | 8698.268162  | 0.005657          |                     | 15.966638       |"
      ]
     },
     "metadata": {},
     "output_type": "display_data"
    },
    {
     "data": {
      "text/html": [
       "<pre>| 6         | 20000    | 8710.186022  | 0.005600          |                     | 16.781530       |</pre>"
      ],
      "text/plain": [
       "| 6         | 20000    | 8710.186022  | 0.005600          |                     | 16.781530       |"
      ]
     },
     "metadata": {},
     "output_type": "display_data"
    },
    {
     "data": {
      "text/html": [
       "<pre>| 6         | 20200    | 8722.511767  | 0.005594          |                     | 16.226171       |</pre>"
      ],
      "text/plain": [
       "| 6         | 20200    | 8722.511767  | 0.005594          |                     | 16.226171       |"
      ]
     },
     "metadata": {},
     "output_type": "display_data"
    },
    {
     "data": {
      "text/html": [
       "<pre>| 6         | 20400    | 8735.582445  | 0.005588          |                     | 15.301465       |</pre>"
      ],
      "text/plain": [
       "| 6         | 20400    | 8735.582445  | 0.005588          |                     | 15.301465       |"
      ]
     },
     "metadata": {},
     "output_type": "display_data"
    },
    {
     "data": {
      "text/html": [
       "<pre>| 6         | 20600    | 8747.981863  | 0.005583          |                     | 16.129780       |</pre>"
      ],
      "text/plain": [
       "| 6         | 20600    | 8747.981863  | 0.005583          |                     | 16.129780       |"
      ]
     },
     "metadata": {},
     "output_type": "display_data"
    },
    {
     "data": {
      "text/html": [
       "<pre>| 6         | 20800    | 8761.069574  | 0.005625          |                     | 15.281476       |</pre>"
      ],
      "text/plain": [
       "| 6         | 20800    | 8761.069574  | 0.005625          |                     | 15.281476       |"
      ]
     },
     "metadata": {},
     "output_type": "display_data"
    },
    {
     "data": {
      "text/html": [
       "<pre>| 6         | 21000    | 8774.129655  | 0.005619          |                     | 15.313852       |</pre>"
      ],
      "text/plain": [
       "| 6         | 21000    | 8774.129655  | 0.005619          |                     | 15.313852       |"
      ]
     },
     "metadata": {},
     "output_type": "display_data"
    },
    {
     "data": {
      "text/html": [
       "<pre>| 6         | 21200    | 8786.270108  | 0.005660          |                     | 16.473877       |</pre>"
      ],
      "text/plain": [
       "| 6         | 21200    | 8786.270108  | 0.005660          |                     | 16.473877       |"
      ]
     },
     "metadata": {},
     "output_type": "display_data"
    },
    {
     "data": {
      "text/html": [
       "<pre>| 6         | 21400    | 8798.421062  | 0.005654          |                     | 16.459578       |</pre>"
      ],
      "text/plain": [
       "| 6         | 21400    | 8798.421062  | 0.005654          |                     | 16.459578       |"
      ]
     },
     "metadata": {},
     "output_type": "display_data"
    },
    {
     "data": {
      "text/html": [
       "<pre>| 6         | 21600    | 8810.072776  | 0.005602          |                     | 17.164898       |</pre>"
      ],
      "text/plain": [
       "| 6         | 21600    | 8810.072776  | 0.005602          |                     | 17.164898       |"
      ]
     },
     "metadata": {},
     "output_type": "display_data"
    },
    {
     "data": {
      "text/html": [
       "<pre>| 6         | 21800    | 8822.964392  | 0.005596          |                     | 15.513954       |</pre>"
      ],
      "text/plain": [
       "| 6         | 21800    | 8822.964392  | 0.005596          |                     | 15.513954       |"
      ]
     },
     "metadata": {},
     "output_type": "display_data"
    },
    {
     "data": {
      "text/html": [
       "<pre>| 6         | 22000    | 8835.572470  | 0.005545          |                     | 15.862842       |</pre>"
      ],
      "text/plain": [
       "| 6         | 22000    | 8835.572470  | 0.005545          |                     | 15.862842       |"
      ]
     },
     "metadata": {},
     "output_type": "display_data"
    },
    {
     "data": {
      "text/html": [
       "<pre>| 6         | 22200    | 8847.349636  | 0.005541          |                     | 16.982021       |</pre>"
      ],
      "text/plain": [
       "| 6         | 22200    | 8847.349636  | 0.005541          |                     | 16.982021       |"
      ]
     },
     "metadata": {},
     "output_type": "display_data"
    },
    {
     "data": {
      "text/html": [
       "<pre>| 6         | 22400    | 8859.730663  | 0.005536          |                     | 16.153744       |</pre>"
      ],
      "text/plain": [
       "| 6         | 22400    | 8859.730663  | 0.005536          |                     | 16.153744       |"
      ]
     },
     "metadata": {},
     "output_type": "display_data"
    },
    {
     "data": {
      "text/html": [
       "<pre>| 6         | 22600    | 8872.185969  | 0.005531          |                     | 16.057413       |</pre>"
      ],
      "text/plain": [
       "| 6         | 22600    | 8872.185969  | 0.005531          |                     | 16.057413       |"
      ]
     },
     "metadata": {},
     "output_type": "display_data"
    },
    {
     "data": {
      "text/html": [
       "<pre>| 6         | 22800    | 8884.291734  | 0.005526          |                     | 16.521061       |</pre>"
      ],
      "text/plain": [
       "| 6         | 22800    | 8884.291734  | 0.005526          |                     | 16.521061       |"
      ]
     },
     "metadata": {},
     "output_type": "display_data"
    },
    {
     "data": {
      "text/html": [
       "<pre>| 6         | 23000    | 8896.278828  | 0.005478          |                     | 16.684612       |</pre>"
      ],
      "text/plain": [
       "| 6         | 23000    | 8896.278828  | 0.005478          |                     | 16.684612       |"
      ]
     },
     "metadata": {},
     "output_type": "display_data"
    },
    {
     "data": {
      "text/html": [
       "<pre>| 6         | 23200    | 8909.239859  | 0.005431          |                     | 15.430837       |</pre>"
      ],
      "text/plain": [
       "| 6         | 23200    | 8909.239859  | 0.005431          |                     | 15.430837       |"
      ]
     },
     "metadata": {},
     "output_type": "display_data"
    },
    {
     "data": {
      "text/html": [
       "<pre>| 6         | 23400    | 8921.370848  | 0.005427          |                     | 16.486748       |</pre>"
      ],
      "text/plain": [
       "| 6         | 23400    | 8921.370848  | 0.005427          |                     | 16.486748       |"
      ]
     },
     "metadata": {},
     "output_type": "display_data"
    },
    {
     "data": {
      "text/html": [
       "<pre>| 6         | 23600    | 8933.239531  | 0.005424          |                     | 16.851051       |</pre>"
      ],
      "text/plain": [
       "| 6         | 23600    | 8933.239531  | 0.005424          |                     | 16.851051       |"
      ]
     },
     "metadata": {},
     "output_type": "display_data"
    },
    {
     "data": {
      "text/html": [
       "<pre>| 6         | 23800    | 8945.899908  | 0.005420          |                     | 15.797329       |</pre>"
      ],
      "text/plain": [
       "| 6         | 23800    | 8945.899908  | 0.005420          |                     | 15.797329       |"
      ]
     },
     "metadata": {},
     "output_type": "display_data"
    },
    {
     "data": {
      "text/html": [
       "<pre>| 6         | 24000    | 8958.571164  | 0.005417          |                     | 15.783752       |</pre>"
      ],
      "text/plain": [
       "| 6         | 24000    | 8958.571164  | 0.005417          |                     | 15.783752       |"
      ]
     },
     "metadata": {},
     "output_type": "display_data"
    },
    {
     "data": {
      "text/html": [
       "<pre>| 6         | 24200    | 8970.922368  | 0.005372          |                     | 16.192736       |</pre>"
      ],
      "text/plain": [
       "| 6         | 24200    | 8970.922368  | 0.005372          |                     | 16.192736       |"
      ]
     },
     "metadata": {},
     "output_type": "display_data"
    },
    {
     "data": {
      "text/html": [
       "<pre>| 6         | 24400    | 8983.207284  | 0.005369          |                     | 16.280144       |</pre>"
      ],
      "text/plain": [
       "| 6         | 24400    | 8983.207284  | 0.005369          |                     | 16.280144       |"
      ]
     },
     "metadata": {},
     "output_type": "display_data"
    },
    {
     "data": {
      "text/html": [
       "<pre>| 6         | 24600    | 8996.184259  | 0.005407          |                     | 15.411916       |</pre>"
      ],
      "text/plain": [
       "| 6         | 24600    | 8996.184259  | 0.005407          |                     | 15.411916       |"
      ]
     },
     "metadata": {},
     "output_type": "display_data"
    },
    {
     "data": {
      "text/html": [
       "<pre>| 6         | 24800    | 9008.473065  | 0.005363          |                     | 16.274971       |</pre>"
      ],
      "text/plain": [
       "| 6         | 24800    | 9008.473065  | 0.005363          |                     | 16.274971       |"
      ]
     },
     "metadata": {},
     "output_type": "display_data"
    },
    {
     "data": {
      "text/html": [
       "<pre>| 6         | 25000    | 9020.746551  | 0.005360          |                     | 16.295294       |</pre>"
      ],
      "text/plain": [
       "| 6         | 25000    | 9020.746551  | 0.005360          |                     | 16.295294       |"
      ]
     },
     "metadata": {},
     "output_type": "display_data"
    },
    {
     "data": {
      "text/html": [
       "<pre>| 6         | 25200    | 9033.808105  | 0.005397          |                     | 15.312113       |</pre>"
      ],
      "text/plain": [
       "| 6         | 25200    | 9033.808105  | 0.005397          |                     | 15.312113       |"
      ]
     },
     "metadata": {},
     "output_type": "display_data"
    },
    {
     "data": {
      "text/html": [
       "<pre>| 6         | 25400    | 9046.791715  | 0.005394          |                     | 15.404036       |</pre>"
      ],
      "text/plain": [
       "| 6         | 25400    | 9046.791715  | 0.005394          |                     | 15.404036       |"
      ]
     },
     "metadata": {},
     "output_type": "display_data"
    },
    {
     "data": {
      "text/html": [
       "<pre>| 6         | 25600    | 9059.651520  | 0.005352          |                     | 15.552338       |</pre>"
      ],
      "text/plain": [
       "| 6         | 25600    | 9059.651520  | 0.005352          |                     | 15.552338       |"
      ]
     },
     "metadata": {},
     "output_type": "display_data"
    },
    {
     "data": {
      "text/html": [
       "<pre>| 6         | 25800    | 9072.302697  | 0.005310          |                     | 15.808800       |</pre>"
      ],
      "text/plain": [
       "| 6         | 25800    | 9072.302697  | 0.005310          |                     | 15.808800       |"
      ]
     },
     "metadata": {},
     "output_type": "display_data"
    },
    {
     "data": {
      "text/html": [
       "<pre>| 6         | 26000    | 9085.235168  | 0.005308          |                     | 15.464954       |</pre>"
      ],
      "text/plain": [
       "| 6         | 26000    | 9085.235168  | 0.005308          |                     | 15.464954       |"
      ]
     },
     "metadata": {},
     "output_type": "display_data"
    },
    {
     "data": {
      "text/html": [
       "<pre>| 6         | 26200    | 9097.916146  | 0.005305          |                     | 15.771653       |</pre>"
      ],
      "text/plain": [
       "| 6         | 26200    | 9097.916146  | 0.005305          |                     | 15.771653       |"
      ]
     },
     "metadata": {},
     "output_type": "display_data"
    },
    {
     "data": {
      "text/html": [
       "<pre>| 6         | 26400    | 9110.468193  | 0.005265          |                     | 15.933659       |</pre>"
      ],
      "text/plain": [
       "| 6         | 26400    | 9110.468193  | 0.005265          |                     | 15.933659       |"
      ]
     },
     "metadata": {},
     "output_type": "display_data"
    },
    {
     "data": {
      "text/html": [
       "<pre>| 6         | 26600    | 9123.226333  | 0.005263          |                     | 15.676265       |</pre>"
      ],
      "text/plain": [
       "| 6         | 26600    | 9123.226333  | 0.005263          |                     | 15.676265       |"
      ]
     },
     "metadata": {},
     "output_type": "display_data"
    },
    {
     "data": {
      "text/html": [
       "<pre>| 6         | 26800    | 9135.753613  | 0.005224          |                     | 15.965123       |</pre>"
      ],
      "text/plain": [
       "| 6         | 26800    | 9135.753613  | 0.005224          |                     | 15.965123       |"
      ]
     },
     "metadata": {},
     "output_type": "display_data"
    },
    {
     "data": {
      "text/html": [
       "<pre>| 6         | 27000    | 9148.267872  | 0.005222          |                     | 15.981800       |</pre>"
      ],
      "text/plain": [
       "| 6         | 27000    | 9148.267872  | 0.005222          |                     | 15.981800       |"
      ]
     },
     "metadata": {},
     "output_type": "display_data"
    },
    {
     "data": {
      "text/html": [
       "<pre>| 6         | 27200    | 9161.213639  | 0.005221          |                     | 15.449060       |</pre>"
      ],
      "text/plain": [
       "| 6         | 27200    | 9161.213639  | 0.005221          |                     | 15.449060       |"
      ]
     },
     "metadata": {},
     "output_type": "display_data"
    },
    {
     "data": {
      "text/html": [
       "<pre>| 6         | 27400    | 9173.706674  | 0.005219          |                     | 16.008928       |</pre>"
      ],
      "text/plain": [
       "| 6         | 27400    | 9173.706674  | 0.005219          |                     | 16.008928       |"
      ]
     },
     "metadata": {},
     "output_type": "display_data"
    },
    {
     "data": {
      "text/html": [
       "<pre>| 6         | 27600    | 9186.082519  | 0.005217          |                     | 16.160509       |</pre>"
      ],
      "text/plain": [
       "| 6         | 27600    | 9186.082519  | 0.005217          |                     | 16.160509       |"
      ]
     },
     "metadata": {},
     "output_type": "display_data"
    },
    {
     "data": {
      "text/html": [
       "<pre>| 6         | 27600    | 9450.860688  | 0.005217          | 0.005641            | 16.160509       |</pre>"
      ],
      "text/plain": [
       "| 6         | 27600    | 9450.860688  | 0.005217          | 0.005641            | 16.160509       |"
      ]
     },
     "metadata": {},
     "output_type": "display_data"
    },
    {
     "data": {
      "text/html": [
       "<pre>Checkpointing model into rep IDSIA by 1 conv graphlab net - train in 10 iters</pre>"
      ],
      "text/plain": [
       "Checkpointing model into rep IDSIA by 1 conv graphlab net - train in 10 iters"
      ]
     },
     "metadata": {},
     "output_type": "display_data"
    },
    {
     "data": {
      "text/html": [
       "<pre>| 7         | 200      | 9463.162175  | 0.005000          |                     | 16.258560       |</pre>"
      ],
      "text/plain": [
       "| 7         | 200      | 9463.162175  | 0.005000          |                     | 16.258560       |"
      ]
     },
     "metadata": {},
     "output_type": "display_data"
    },
    {
     "data": {
      "text/html": [
       "<pre>| 7         | 400      | 9475.425126  | 0.007500          |                     | 16.309288       |</pre>"
      ],
      "text/plain": [
       "| 7         | 400      | 9475.425126  | 0.007500          |                     | 16.309288       |"
      ]
     },
     "metadata": {},
     "output_type": "display_data"
    },
    {
     "data": {
      "text/html": [
       "<pre>| 7         | 600      | 9487.385230  | 0.006667          |                     | 16.722263       |</pre>"
      ],
      "text/plain": [
       "| 7         | 600      | 9487.385230  | 0.006667          |                     | 16.722263       |"
      ]
     },
     "metadata": {},
     "output_type": "display_data"
    },
    {
     "data": {
      "text/html": [
       "<pre>| 7         | 800      | 9498.702390  | 0.005000          |                     | 17.672264       |</pre>"
      ],
      "text/plain": [
       "| 7         | 800      | 9498.702390  | 0.005000          |                     | 17.672264       |"
      ]
     },
     "metadata": {},
     "output_type": "display_data"
    },
    {
     "data": {
      "text/html": [
       "<pre>| 7         | 1000     | 9510.337136  | 0.006000          |                     | 17.189894       |</pre>"
      ],
      "text/plain": [
       "| 7         | 1000     | 9510.337136  | 0.006000          |                     | 17.189894       |"
      ]
     },
     "metadata": {},
     "output_type": "display_data"
    },
    {
     "data": {
      "text/html": [
       "<pre>| 7         | 1200     | 9523.383061  | 0.006667          |                     | 15.330453       |</pre>"
      ],
      "text/plain": [
       "| 7         | 1200     | 9523.383061  | 0.006667          |                     | 15.330453       |"
      ]
     },
     "metadata": {},
     "output_type": "display_data"
    },
    {
     "data": {
      "text/html": [
       "<pre>| 7         | 1400     | 9535.203590  | 0.005714          |                     | 16.919716       |</pre>"
      ],
      "text/plain": [
       "| 7         | 1400     | 9535.203590  | 0.005714          |                     | 16.919716       |"
      ]
     },
     "metadata": {},
     "output_type": "display_data"
    },
    {
     "data": {
      "text/html": [
       "<pre>| 7         | 1600     | 9546.628103  | 0.005625          |                     | 17.506218       |</pre>"
      ],
      "text/plain": [
       "| 7         | 1600     | 9546.628103  | 0.005625          |                     | 17.506218       |"
      ]
     },
     "metadata": {},
     "output_type": "display_data"
    },
    {
     "data": {
      "text/html": [
       "<pre>| 7         | 1800     | 9559.254142  | 0.005556          |                     | 15.840287       |</pre>"
      ],
      "text/plain": [
       "| 7         | 1800     | 9559.254142  | 0.005556          |                     | 15.840287       |"
      ]
     },
     "metadata": {},
     "output_type": "display_data"
    },
    {
     "data": {
      "text/html": [
       "<pre>| 7         | 2000     | 9571.216606  | 0.005500          |                     | 16.718954       |</pre>"
      ],
      "text/plain": [
       "| 7         | 2000     | 9571.216606  | 0.005500          |                     | 16.718954       |"
      ]
     },
     "metadata": {},
     "output_type": "display_data"
    },
    {
     "data": {
      "text/html": [
       "<pre>| 7         | 2200     | 9583.374151  | 0.005000          |                     | 16.450706       |</pre>"
      ],
      "text/plain": [
       "| 7         | 2200     | 9583.374151  | 0.005000          |                     | 16.450706       |"
      ]
     },
     "metadata": {},
     "output_type": "display_data"
    },
    {
     "data": {
      "text/html": [
       "<pre>| 7         | 2400     | 9595.510169  | 0.005000          |                     | 16.479834       |</pre>"
      ],
      "text/plain": [
       "| 7         | 2400     | 9595.510169  | 0.005000          |                     | 16.479834       |"
      ]
     },
     "metadata": {},
     "output_type": "display_data"
    },
    {
     "data": {
      "text/html": [
       "<pre>| 7         | 2600     | 9606.852535  | 0.006154          |                     | 17.633039       |</pre>"
      ],
      "text/plain": [
       "| 7         | 2600     | 9606.852535  | 0.006154          |                     | 17.633039       |"
      ]
     },
     "metadata": {},
     "output_type": "display_data"
    },
    {
     "data": {
      "text/html": [
       "<pre>| 7         | 2800     | 9619.027529  | 0.006071          |                     | 16.427076       |</pre>"
      ],
      "text/plain": [
       "| 7         | 2800     | 9619.027529  | 0.006071          |                     | 16.427076       |"
      ]
     },
     "metadata": {},
     "output_type": "display_data"
    },
    {
     "data": {
      "text/html": [
       "<pre>| 7         | 3000     | 9630.822764  | 0.006000          |                     | 16.956009       |</pre>"
      ],
      "text/plain": [
       "| 7         | 3000     | 9630.822764  | 0.006000          |                     | 16.956009       |"
      ]
     },
     "metadata": {},
     "output_type": "display_data"
    },
    {
     "data": {
      "text/html": [
       "<pre>| 7         | 3200     | 9643.293722  | 0.005625          |                     | 16.037264       |</pre>"
      ],
      "text/plain": [
       "| 7         | 3200     | 9643.293722  | 0.005625          |                     | 16.037264       |"
      ]
     },
     "metadata": {},
     "output_type": "display_data"
    },
    {
     "data": {
      "text/html": [
       "<pre>| 7         | 3400     | 9655.434005  | 0.005294          |                     | 16.474094       |</pre>"
      ],
      "text/plain": [
       "| 7         | 3400     | 9655.434005  | 0.005294          |                     | 16.474094       |"
      ]
     },
     "metadata": {},
     "output_type": "display_data"
    },
    {
     "data": {
      "text/html": [
       "<pre>| 7         | 3600     | 9667.206542  | 0.005000          |                     | 16.988686       |</pre>"
      ],
      "text/plain": [
       "| 7         | 3600     | 9667.206542  | 0.005000          |                     | 16.988686       |"
      ]
     },
     "metadata": {},
     "output_type": "display_data"
    },
    {
     "data": {
      "text/html": [
       "<pre>| 7         | 3800     | 9679.786308  | 0.005000          |                     | 15.898570       |</pre>"
      ],
      "text/plain": [
       "| 7         | 3800     | 9679.786308  | 0.005000          |                     | 15.898570       |"
      ]
     },
     "metadata": {},
     "output_type": "display_data"
    },
    {
     "data": {
      "text/html": [
       "<pre>| 7         | 4000     | 9691.072112  | 0.005000          |                     | 17.721340       |</pre>"
      ],
      "text/plain": [
       "| 7         | 4000     | 9691.072112  | 0.005000          |                     | 17.721340       |"
      ]
     },
     "metadata": {},
     "output_type": "display_data"
    },
    {
     "data": {
      "text/html": [
       "<pre>| 7         | 4200     | 9702.056956  | 0.005476          |                     | 18.206926       |</pre>"
      ],
      "text/plain": [
       "| 7         | 4200     | 9702.056956  | 0.005476          |                     | 18.206926       |"
      ]
     },
     "metadata": {},
     "output_type": "display_data"
    },
    {
     "data": {
      "text/html": [
       "<pre>| 7         | 4400     | 9714.330334  | 0.005227          |                     | 16.295435       |</pre>"
      ],
      "text/plain": [
       "| 7         | 4400     | 9714.330334  | 0.005227          |                     | 16.295435       |"
      ]
     },
     "metadata": {},
     "output_type": "display_data"
    },
    {
     "data": {
      "text/html": [
       "<pre>| 7         | 4600     | 9726.263356  | 0.005000          |                     | 16.760202       |</pre>"
      ],
      "text/plain": [
       "| 7         | 4600     | 9726.263356  | 0.005000          |                     | 16.760202       |"
      ]
     },
     "metadata": {},
     "output_type": "display_data"
    },
    {
     "data": {
      "text/html": [
       "<pre>| 7         | 4800     | 9738.902974  | 0.005417          |                     | 15.823276       |</pre>"
      ],
      "text/plain": [
       "| 7         | 4800     | 9738.902974  | 0.005417          |                     | 15.823276       |"
      ]
     },
     "metadata": {},
     "output_type": "display_data"
    },
    {
     "data": {
      "text/html": [
       "<pre>| 7         | 5000     | 9751.068143  | 0.005600          |                     | 16.440384       |</pre>"
      ],
      "text/plain": [
       "| 7         | 5000     | 9751.068143  | 0.005600          |                     | 16.440384       |"
      ]
     },
     "metadata": {},
     "output_type": "display_data"
    },
    {
     "data": {
      "text/html": [
       "<pre>| 7         | 5200     | 9762.960686  | 0.005769          |                     | 16.817221       |</pre>"
      ],
      "text/plain": [
       "| 7         | 5200     | 9762.960686  | 0.005769          |                     | 16.817221       |"
      ]
     },
     "metadata": {},
     "output_type": "display_data"
    },
    {
     "data": {
      "text/html": [
       "<pre>| 7         | 5400     | 9774.915026  | 0.005926          |                     | 16.730331       |</pre>"
      ],
      "text/plain": [
       "| 7         | 5400     | 9774.915026  | 0.005926          |                     | 16.730331       |"
      ]
     },
     "metadata": {},
     "output_type": "display_data"
    },
    {
     "data": {
      "text/html": [
       "<pre>| 7         | 5600     | 9785.872785  | 0.005893          |                     | 18.251923       |</pre>"
      ],
      "text/plain": [
       "| 7         | 5600     | 9785.872785  | 0.005893          |                     | 18.251923       |"
      ]
     },
     "metadata": {},
     "output_type": "display_data"
    },
    {
     "data": {
      "text/html": [
       "<pre>| 7         | 5800     | 9797.798612  | 0.005862          |                     | 16.770353       |</pre>"
      ],
      "text/plain": [
       "| 7         | 5800     | 9797.798612  | 0.005862          |                     | 16.770353       |"
      ]
     },
     "metadata": {},
     "output_type": "display_data"
    },
    {
     "data": {
      "text/html": [
       "<pre>| 7         | 6000     | 9810.030454  | 0.005833          |                     | 16.350756       |</pre>"
      ],
      "text/plain": [
       "| 7         | 6000     | 9810.030454  | 0.005833          |                     | 16.350756       |"
      ]
     },
     "metadata": {},
     "output_type": "display_data"
    },
    {
     "data": {
      "text/html": [
       "<pre>| 7         | 6200     | 9821.361076  | 0.006129          |                     | 17.651260       |</pre>"
      ],
      "text/plain": [
       "| 7         | 6200     | 9821.361076  | 0.006129          |                     | 17.651260       |"
      ]
     },
     "metadata": {},
     "output_type": "display_data"
    },
    {
     "data": {
      "text/html": [
       "<pre>| 7         | 6400     | 9833.152482  | 0.006250          |                     | 16.961540       |</pre>"
      ],
      "text/plain": [
       "| 7         | 6400     | 9833.152482  | 0.006250          |                     | 16.961540       |"
      ]
     },
     "metadata": {},
     "output_type": "display_data"
    },
    {
     "data": {
      "text/html": [
       "<pre>| 7         | 6600     | 9845.596602  | 0.006061          |                     | 16.071829       |</pre>"
      ],
      "text/plain": [
       "| 7         | 6600     | 9845.596602  | 0.006061          |                     | 16.071829       |"
      ]
     },
     "metadata": {},
     "output_type": "display_data"
    },
    {
     "data": {
      "text/html": [
       "<pre>| 7         | 6800     | 9857.501677  | 0.006029          |                     | 16.799543       |</pre>"
      ],
      "text/plain": [
       "| 7         | 6800     | 9857.501677  | 0.006029          |                     | 16.799543       |"
      ]
     },
     "metadata": {},
     "output_type": "display_data"
    },
    {
     "data": {
      "text/html": [
       "<pre>| 7         | 7000     | 9869.934706  | 0.005857          |                     | 16.086199       |</pre>"
      ],
      "text/plain": [
       "| 7         | 7000     | 9869.934706  | 0.005857          |                     | 16.086199       |"
      ]
     },
     "metadata": {},
     "output_type": "display_data"
    },
    {
     "data": {
      "text/html": [
       "<pre>| 7         | 7200     | 9882.034524  | 0.005972          |                     | 16.529179       |</pre>"
      ],
      "text/plain": [
       "| 7         | 7200     | 9882.034524  | 0.005972          |                     | 16.529179       |"
      ]
     },
     "metadata": {},
     "output_type": "display_data"
    },
    {
     "data": {
      "text/html": [
       "<pre>| 7         | 7400     | 9893.707257  | 0.005811          |                     | 17.133955       |</pre>"
      ],
      "text/plain": [
       "| 7         | 7400     | 9893.707257  | 0.005811          |                     | 17.133955       |"
      ]
     },
     "metadata": {},
     "output_type": "display_data"
    },
    {
     "data": {
      "text/html": [
       "<pre>| 7         | 7600     | 9906.038293  | 0.005658          |                     | 16.219202       |</pre>"
      ],
      "text/plain": [
       "| 7         | 7600     | 9906.038293  | 0.005658          |                     | 16.219202       |"
      ]
     },
     "metadata": {},
     "output_type": "display_data"
    },
    {
     "data": {
      "text/html": [
       "<pre>| 7         | 7800     | 9918.648078  | 0.005641          |                     | 15.860717       |</pre>"
      ],
      "text/plain": [
       "| 7         | 7800     | 9918.648078  | 0.005641          |                     | 15.860717       |"
      ]
     },
     "metadata": {},
     "output_type": "display_data"
    },
    {
     "data": {
      "text/html": [
       "<pre>| 7         | 8000     | 9930.348763  | 0.005875          |                     | 17.093023       |</pre>"
      ],
      "text/plain": [
       "| 7         | 8000     | 9930.348763  | 0.005875          |                     | 17.093023       |"
      ]
     },
     "metadata": {},
     "output_type": "display_data"
    },
    {
     "data": {
      "text/html": [
       "<pre>| 7         | 8200     | 9941.898489  | 0.005732          |                     | 17.316401       |</pre>"
      ],
      "text/plain": [
       "| 7         | 8200     | 9941.898489  | 0.005732          |                     | 17.316401       |"
      ]
     },
     "metadata": {},
     "output_type": "display_data"
    },
    {
     "data": {
      "text/html": [
       "<pre>| 7         | 8400     | 9952.372185  | 0.005714          |                     | 19.095507       |</pre>"
      ],
      "text/plain": [
       "| 7         | 8400     | 9952.372185  | 0.005714          |                     | 19.095507       |"
      ]
     },
     "metadata": {},
     "output_type": "display_data"
    },
    {
     "data": {
      "text/html": [
       "<pre>| 7         | 8600     | 9965.032262  | 0.005698          |                     | 15.797667       |</pre>"
      ],
      "text/plain": [
       "| 7         | 8600     | 9965.032262  | 0.005698          |                     | 15.797667       |"
      ]
     },
     "metadata": {},
     "output_type": "display_data"
    },
    {
     "data": {
      "text/html": [
       "<pre>| 7         | 8800     | 9976.733022  | 0.005909          |                     | 17.092932       |</pre>"
      ],
      "text/plain": [
       "| 7         | 8800     | 9976.733022  | 0.005909          |                     | 17.092932       |"
      ]
     },
     "metadata": {},
     "output_type": "display_data"
    },
    {
     "data": {
      "text/html": [
       "<pre>| 7         | 9000     | 9988.245821  | 0.005778          |                     | 17.371979       |</pre>"
      ],
      "text/plain": [
       "| 7         | 9000     | 9988.245821  | 0.005778          |                     | 17.371979       |"
      ]
     },
     "metadata": {},
     "output_type": "display_data"
    },
    {
     "data": {
      "text/html": [
       "<pre>| 7         | 9200     | 10000.707100 | 0.005761          |                     | 16.049709       |</pre>"
      ],
      "text/plain": [
       "| 7         | 9200     | 10000.707100 | 0.005761          |                     | 16.049709       |"
      ]
     },
     "metadata": {},
     "output_type": "display_data"
    },
    {
     "data": {
      "text/html": [
       "<pre>| 7         | 9400     | 10012.360421 | 0.005745          |                     | 17.162491       |</pre>"
      ],
      "text/plain": [
       "| 7         | 9400     | 10012.360421 | 0.005745          |                     | 17.162491       |"
      ]
     },
     "metadata": {},
     "output_type": "display_data"
    },
    {
     "data": {
      "text/html": [
       "<pre>| 7         | 9600     | 10024.625498 | 0.005937          |                     | 16.306456       |</pre>"
      ],
      "text/plain": [
       "| 7         | 9600     | 10024.625498 | 0.005937          |                     | 16.306456       |"
      ]
     },
     "metadata": {},
     "output_type": "display_data"
    },
    {
     "data": {
      "text/html": [
       "<pre>| 7         | 9800     | 10036.328562 | 0.005918          |                     | 17.089548       |</pre>"
      ],
      "text/plain": [
       "| 7         | 9800     | 10036.328562 | 0.005918          |                     | 17.089548       |"
      ]
     },
     "metadata": {},
     "output_type": "display_data"
    },
    {
     "data": {
      "text/html": [
       "<pre>| 7         | 10000    | 10048.154068 | 0.005800          |                     | 16.912596       |</pre>"
      ],
      "text/plain": [
       "| 7         | 10000    | 10048.154068 | 0.005800          |                     | 16.912596       |"
      ]
     },
     "metadata": {},
     "output_type": "display_data"
    },
    {
     "data": {
      "text/html": [
       "<pre>| 7         | 10200    | 10059.802913 | 0.005686          |                     | 17.169054       |</pre>"
      ],
      "text/plain": [
       "| 7         | 10200    | 10059.802913 | 0.005686          |                     | 17.169054       |"
      ]
     },
     "metadata": {},
     "output_type": "display_data"
    },
    {
     "data": {
      "text/html": [
       "<pre>| 7         | 10400    | 10071.255057 | 0.005577          |                     | 17.463993       |</pre>"
      ],
      "text/plain": [
       "| 7         | 10400    | 10071.255057 | 0.005577          |                     | 17.463993       |"
      ]
     },
     "metadata": {},
     "output_type": "display_data"
    },
    {
     "data": {
      "text/html": [
       "<pre>| 7         | 10600    | 10084.021569 | 0.005660          |                     | 15.666005       |</pre>"
      ],
      "text/plain": [
       "| 7         | 10600    | 10084.021569 | 0.005660          |                     | 15.666005       |"
      ]
     },
     "metadata": {},
     "output_type": "display_data"
    },
    {
     "data": {
      "text/html": [
       "<pre>| 7         | 10800    | 10096.100644 | 0.005741          |                     | 16.557520       |</pre>"
      ],
      "text/plain": [
       "| 7         | 10800    | 10096.100644 | 0.005741          |                     | 16.557520       |"
      ]
     },
     "metadata": {},
     "output_type": "display_data"
    },
    {
     "data": {
      "text/html": [
       "<pre>| 7         | 11000    | 10107.907593 | 0.005636          |                     | 16.939215       |</pre>"
      ],
      "text/plain": [
       "| 7         | 11000    | 10107.907593 | 0.005636          |                     | 16.939215       |"
      ]
     },
     "metadata": {},
     "output_type": "display_data"
    },
    {
     "data": {
      "text/html": [
       "<pre>| 7         | 11200    | 10120.548436 | 0.005714          |                     | 15.821728       |</pre>"
      ],
      "text/plain": [
       "| 7         | 11200    | 10120.548436 | 0.005714          |                     | 15.821728       |"
      ]
     },
     "metadata": {},
     "output_type": "display_data"
    },
    {
     "data": {
      "text/html": [
       "<pre>| 7         | 11400    | 10132.308373 | 0.005614          |                     | 17.006849       |</pre>"
      ],
      "text/plain": [
       "| 7         | 11400    | 10132.308373 | 0.005614          |                     | 17.006849       |"
      ]
     },
     "metadata": {},
     "output_type": "display_data"
    },
    {
     "data": {
      "text/html": [
       "<pre>| 7         | 11600    | 10143.378378 | 0.005603          |                     | 18.066841       |</pre>"
      ],
      "text/plain": [
       "| 7         | 11600    | 10143.378378 | 0.005603          |                     | 18.066841       |"
      ]
     },
     "metadata": {},
     "output_type": "display_data"
    },
    {
     "data": {
      "text/html": [
       "<pre>| 7         | 11800    | 10156.015389 | 0.005508          |                     | 15.826528       |</pre>"
      ],
      "text/plain": [
       "| 7         | 11800    | 10156.015389 | 0.005508          |                     | 15.826528       |"
      ]
     },
     "metadata": {},
     "output_type": "display_data"
    },
    {
     "data": {
      "text/html": [
       "<pre>| 7         | 12000    | 10168.110848 | 0.005417          |                     | 16.535151       |</pre>"
      ],
      "text/plain": [
       "| 7         | 12000    | 10168.110848 | 0.005417          |                     | 16.535151       |"
      ]
     },
     "metadata": {},
     "output_type": "display_data"
    },
    {
     "data": {
      "text/html": [
       "<pre>| 7         | 12200    | 10179.787472 | 0.005410          |                     | 17.128256       |</pre>"
      ],
      "text/plain": [
       "| 7         | 12200    | 10179.787472 | 0.005410          |                     | 17.128256       |"
      ]
     },
     "metadata": {},
     "output_type": "display_data"
    },
    {
     "data": {
      "text/html": [
       "<pre>| 7         | 12400    | 10191.484595 | 0.005323          |                     | 17.098221       |</pre>"
      ],
      "text/plain": [
       "| 7         | 12400    | 10191.484595 | 0.005323          |                     | 17.098221       |"
      ]
     },
     "metadata": {},
     "output_type": "display_data"
    },
    {
     "data": {
      "text/html": [
       "<pre>| 7         | 12600    | 10203.842394 | 0.005476          |                     | 16.184107       |</pre>"
      ],
      "text/plain": [
       "| 7         | 12600    | 10203.842394 | 0.005476          |                     | 16.184107       |"
      ]
     },
     "metadata": {},
     "output_type": "display_data"
    },
    {
     "data": {
      "text/html": [
       "<pre>| 7         | 12800    | 10215.691729 | 0.005703          |                     | 16.878592       |</pre>"
      ],
      "text/plain": [
       "| 7         | 12800    | 10215.691729 | 0.005703          |                     | 16.878592       |"
      ]
     },
     "metadata": {},
     "output_type": "display_data"
    },
    {
     "data": {
      "text/html": [
       "<pre>| 7         | 13000    | 10226.975269 | 0.005769          |                     | 17.724911       |</pre>"
      ],
      "text/plain": [
       "| 7         | 13000    | 10226.975269 | 0.005769          |                     | 17.724911       |"
      ]
     },
     "metadata": {},
     "output_type": "display_data"
    },
    {
     "data": {
      "text/html": [
       "<pre>| 7         | 13200    | 10238.997682 | 0.005909          |                     | 16.635622       |</pre>"
      ],
      "text/plain": [
       "| 7         | 13200    | 10238.997682 | 0.005909          |                     | 16.635622       |"
      ]
     },
     "metadata": {},
     "output_type": "display_data"
    },
    {
     "data": {
      "text/html": [
       "<pre>| 7         | 13400    | 10251.103459 | 0.005821          |                     | 16.521004       |</pre>"
      ],
      "text/plain": [
       "| 7         | 13400    | 10251.103459 | 0.005821          |                     | 16.521004       |"
      ]
     },
     "metadata": {},
     "output_type": "display_data"
    },
    {
     "data": {
      "text/html": [
       "<pre>| 7         | 13600    | 10262.056559 | 0.005735          |                     | 18.259695       |</pre>"
      ],
      "text/plain": [
       "| 7         | 13600    | 10262.056559 | 0.005735          |                     | 18.259695       |"
      ]
     },
     "metadata": {},
     "output_type": "display_data"
    },
    {
     "data": {
      "text/html": [
       "<pre>| 7         | 13800    | 10273.523468 | 0.005725          |                     | 17.441515       |</pre>"
      ],
      "text/plain": [
       "| 7         | 13800    | 10273.523468 | 0.005725          |                     | 17.441515       |"
      ]
     },
     "metadata": {},
     "output_type": "display_data"
    },
    {
     "data": {
      "text/html": [
       "<pre>| 7         | 14000    | 10285.883393 | 0.005714          |                     | 16.181284       |</pre>"
      ],
      "text/plain": [
       "| 7         | 14000    | 10285.883393 | 0.005714          |                     | 16.181284       |"
      ]
     },
     "metadata": {},
     "output_type": "display_data"
    },
    {
     "data": {
      "text/html": [
       "<pre>| 7         | 14200    | 10296.999477 | 0.005704          |                     | 17.991980       |</pre>"
      ],
      "text/plain": [
       "| 7         | 14200    | 10296.999477 | 0.005704          |                     | 17.991980       |"
      ]
     },
     "metadata": {},
     "output_type": "display_data"
    },
    {
     "data": {
      "text/html": [
       "<pre>| 7         | 14400    | 10308.871762 | 0.005694          |                     | 16.845943       |</pre>"
      ],
      "text/plain": [
       "| 7         | 14400    | 10308.871762 | 0.005694          |                     | 16.845943       |"
      ]
     },
     "metadata": {},
     "output_type": "display_data"
    },
    {
     "data": {
      "text/html": [
       "<pre>| 7         | 14600    | 10320.659454 | 0.005685          |                     | 16.966871       |</pre>"
      ],
      "text/plain": [
       "| 7         | 14600    | 10320.659454 | 0.005685          |                     | 16.966871       |"
      ]
     },
     "metadata": {},
     "output_type": "display_data"
    },
    {
     "data": {
      "text/html": [
       "<pre>| 7         | 14800    | 10332.749563 | 0.005676          |                     | 16.542446       |</pre>"
      ],
      "text/plain": [
       "| 7         | 14800    | 10332.749563 | 0.005676          |                     | 16.542446       |"
      ]
     },
     "metadata": {},
     "output_type": "display_data"
    },
    {
     "data": {
      "text/html": [
       "<pre>| 7         | 15000    | 10344.636643 | 0.005733          |                     | 16.824986       |</pre>"
      ],
      "text/plain": [
       "| 7         | 15000    | 10344.636643 | 0.005733          |                     | 16.824986       |"
      ]
     },
     "metadata": {},
     "output_type": "display_data"
    },
    {
     "data": {
      "text/html": [
       "<pre>| 7         | 15200    | 10356.085248 | 0.005724          |                     | 17.469389       |</pre>"
      ],
      "text/plain": [
       "| 7         | 15200    | 10356.085248 | 0.005724          |                     | 17.469389       |"
      ]
     },
     "metadata": {},
     "output_type": "display_data"
    },
    {
     "data": {
      "text/html": [
       "<pre>| 7         | 15400    | 10368.510351 | 0.005714          |                     | 16.096445       |</pre>"
      ],
      "text/plain": [
       "| 7         | 15400    | 10368.510351 | 0.005714          |                     | 16.096445       |"
      ]
     },
     "metadata": {},
     "output_type": "display_data"
    },
    {
     "data": {
      "text/html": [
       "<pre>| 7         | 15600    | 10380.096010 | 0.005705          |                     | 17.262686       |</pre>"
      ],
      "text/plain": [
       "| 7         | 15600    | 10380.096010 | 0.005705          |                     | 17.262686       |"
      ]
     },
     "metadata": {},
     "output_type": "display_data"
    },
    {
     "data": {
      "text/html": [
       "<pre>| 7         | 15800    | 10391.593772 | 0.005633          |                     | 17.394693       |</pre>"
      ],
      "text/plain": [
       "| 7         | 15800    | 10391.593772 | 0.005633          |                     | 17.394693       |"
      ]
     },
     "metadata": {},
     "output_type": "display_data"
    },
    {
     "data": {
      "text/html": [
       "<pre>| 7         | 16000    | 10403.311127 | 0.005687          |                     | 17.068743       |</pre>"
      ],
      "text/plain": [
       "| 7         | 16000    | 10403.311127 | 0.005687          |                     | 17.068743       |"
      ]
     },
     "metadata": {},
     "output_type": "display_data"
    },
    {
     "data": {
      "text/html": [
       "<pre>| 7         | 16200    | 10415.345905 | 0.005741          |                     | 16.618464       |</pre>"
      ],
      "text/plain": [
       "| 7         | 16200    | 10415.345905 | 0.005741          |                     | 16.618464       |"
      ]
     },
     "metadata": {},
     "output_type": "display_data"
    },
    {
     "data": {
      "text/html": [
       "<pre>| 7         | 16400    | 10427.130689 | 0.005732          |                     | 16.971025       |</pre>"
      ],
      "text/plain": [
       "| 7         | 16400    | 10427.130689 | 0.005732          |                     | 16.971025       |"
      ]
     },
     "metadata": {},
     "output_type": "display_data"
    },
    {
     "data": {
      "text/html": [
       "<pre>| 7         | 16600    | 10439.026307 | 0.005843          |                     | 16.812950       |</pre>"
      ],
      "text/plain": [
       "| 7         | 16600    | 10439.026307 | 0.005843          |                     | 16.812950       |"
      ]
     },
     "metadata": {},
     "output_type": "display_data"
    },
    {
     "data": {
      "text/html": [
       "<pre>| 7         | 16800    | 10451.329887 | 0.005774          |                     | 16.255424       |</pre>"
      ],
      "text/plain": [
       "| 7         | 16800    | 10451.329887 | 0.005774          |                     | 16.255424       |"
      ]
     },
     "metadata": {},
     "output_type": "display_data"
    },
    {
     "data": {
      "text/html": [
       "<pre>| 7         | 17000    | 10462.576158 | 0.005765          |                     | 17.783678       |</pre>"
      ],
      "text/plain": [
       "| 7         | 17000    | 10462.576158 | 0.005765          |                     | 17.783678       |"
      ]
     },
     "metadata": {},
     "output_type": "display_data"
    },
    {
     "data": {
      "text/html": [
       "<pre>| 7         | 17200    | 10474.604370 | 0.005756          |                     | 16.627579       |</pre>"
      ],
      "text/plain": [
       "| 7         | 17200    | 10474.604370 | 0.005756          |                     | 16.627579       |"
      ]
     },
     "metadata": {},
     "output_type": "display_data"
    },
    {
     "data": {
      "text/html": [
       "<pre>| 7         | 17400    | 10487.038824 | 0.005805          |                     | 16.084330       |</pre>"
      ],
      "text/plain": [
       "| 7         | 17400    | 10487.038824 | 0.005805          |                     | 16.084330       |"
      ]
     },
     "metadata": {},
     "output_type": "display_data"
    },
    {
     "data": {
      "text/html": [
       "<pre>| 7         | 17600    | 10498.904410 | 0.005852          |                     | 16.855482       |</pre>"
      ],
      "text/plain": [
       "| 7         | 17600    | 10498.904410 | 0.005852          |                     | 16.855482       |"
      ]
     },
     "metadata": {},
     "output_type": "display_data"
    },
    {
     "data": {
      "text/html": [
       "<pre>| 7         | 17800    | 10510.753200 | 0.005787          |                     | 16.879320       |</pre>"
      ],
      "text/plain": [
       "| 7         | 17800    | 10510.753200 | 0.005787          |                     | 16.879320       |"
      ]
     },
     "metadata": {},
     "output_type": "display_data"
    },
    {
     "data": {
      "text/html": [
       "<pre>| 7         | 18000    | 10523.251438 | 0.005833          |                     | 16.002287       |</pre>"
      ],
      "text/plain": [
       "| 7         | 18000    | 10523.251438 | 0.005833          |                     | 16.002287       |"
      ]
     },
     "metadata": {},
     "output_type": "display_data"
    },
    {
     "data": {
      "text/html": [
       "<pre>| 7         | 18200    | 10535.250009 | 0.005769          |                     | 16.668646       |</pre>"
      ],
      "text/plain": [
       "| 7         | 18200    | 10535.250009 | 0.005769          |                     | 16.668646       |"
      ]
     },
     "metadata": {},
     "output_type": "display_data"
    },
    {
     "data": {
      "text/html": [
       "<pre>| 7         | 18400    | 10546.512944 | 0.005761          |                     | 17.757338       |</pre>"
      ],
      "text/plain": [
       "| 7         | 18400    | 10546.512944 | 0.005761          |                     | 17.757338       |"
      ]
     },
     "metadata": {},
     "output_type": "display_data"
    },
    {
     "data": {
      "text/html": [
       "<pre>| 7         | 18600    | 10558.495420 | 0.005914          |                     | 16.691065       |</pre>"
      ],
      "text/plain": [
       "| 7         | 18600    | 10558.495420 | 0.005914          |                     | 16.691065       |"
      ]
     },
     "metadata": {},
     "output_type": "display_data"
    },
    {
     "data": {
      "text/html": [
       "<pre>| 7         | 18800    | 10570.954018 | 0.005851          |                     | 16.053148       |</pre>"
      ],
      "text/plain": [
       "| 7         | 18800    | 10570.954018 | 0.005851          |                     | 16.053148       |"
      ]
     },
     "metadata": {},
     "output_type": "display_data"
    },
    {
     "data": {
      "text/html": [
       "<pre>| 7         | 19000    | 10582.870587 | 0.005789          |                     | 16.783367       |</pre>"
      ],
      "text/plain": [
       "| 7         | 19000    | 10582.870587 | 0.005789          |                     | 16.783367       |"
      ]
     },
     "metadata": {},
     "output_type": "display_data"
    },
    {
     "data": {
      "text/html": [
       "<pre>| 7         | 19200    | 10594.733916 | 0.005781          |                     | 16.858696       |</pre>"
      ],
      "text/plain": [
       "| 7         | 19200    | 10594.733916 | 0.005781          |                     | 16.858696       |"
      ]
     },
     "metadata": {},
     "output_type": "display_data"
    },
    {
     "data": {
      "text/html": [
       "<pre>| 7         | 19400    | 10607.168706 | 0.005722          |                     | 16.083864       |</pre>"
      ],
      "text/plain": [
       "| 7         | 19400    | 10607.168706 | 0.005722          |                     | 16.083864       |"
      ]
     },
     "metadata": {},
     "output_type": "display_data"
    },
    {
     "data": {
      "text/html": [
       "<pre>| 7         | 19600    | 10618.399169 | 0.005663          |                     | 17.808754       |</pre>"
      ],
      "text/plain": [
       "| 7         | 19600    | 10618.399169 | 0.005663          |                     | 17.808754       |"
      ]
     },
     "metadata": {},
     "output_type": "display_data"
    },
    {
     "data": {
      "text/html": [
       "<pre>| 7         | 19800    | 10630.547071 | 0.005657          |                     | 16.463722       |</pre>"
      ],
      "text/plain": [
       "| 7         | 19800    | 10630.547071 | 0.005657          |                     | 16.463722       |"
      ]
     },
     "metadata": {},
     "output_type": "display_data"
    },
    {
     "data": {
      "text/html": [
       "<pre>| 7         | 20000    | 10643.065704 | 0.005600          |                     | 15.976211       |</pre>"
      ],
      "text/plain": [
       "| 7         | 20000    | 10643.065704 | 0.005600          |                     | 15.976211       |"
      ]
     },
     "metadata": {},
     "output_type": "display_data"
    },
    {
     "data": {
      "text/html": [
       "<pre>| 7         | 20200    | 10654.710117 | 0.005594          |                     | 17.175619       |</pre>"
      ],
      "text/plain": [
       "| 7         | 20200    | 10654.710117 | 0.005594          |                     | 17.175619       |"
      ]
     },
     "metadata": {},
     "output_type": "display_data"
    },
    {
     "data": {
      "text/html": [
       "<pre>| 7         | 20400    | 10667.002493 | 0.005588          |                     | 16.270243       |</pre>"
      ],
      "text/plain": [
       "| 7         | 20400    | 10667.002493 | 0.005588          |                     | 16.270243       |"
      ]
     },
     "metadata": {},
     "output_type": "display_data"
    },
    {
     "data": {
      "text/html": [
       "<pre>| 7         | 20600    | 10679.184440 | 0.005583          |                     | 16.417734       |</pre>"
      ],
      "text/plain": [
       "| 7         | 20600    | 10679.184440 | 0.005583          |                     | 16.417734       |"
      ]
     },
     "metadata": {},
     "output_type": "display_data"
    },
    {
     "data": {
      "text/html": [
       "<pre>| 7         | 20800    | 10690.992556 | 0.005625          |                     | 16.937477       |</pre>"
      ],
      "text/plain": [
       "| 7         | 20800    | 10690.992556 | 0.005625          |                     | 16.937477       |"
      ]
     },
     "metadata": {},
     "output_type": "display_data"
    },
    {
     "data": {
      "text/html": [
       "<pre>| 7         | 21000    | 10703.214768 | 0.005619          |                     | 16.363653       |</pre>"
      ],
      "text/plain": [
       "| 7         | 21000    | 10703.214768 | 0.005619          |                     | 16.363653       |"
      ]
     },
     "metadata": {},
     "output_type": "display_data"
    },
    {
     "data": {
      "text/html": [
       "<pre>| 7         | 21200    | 10715.376312 | 0.005660          |                     | 16.445307       |</pre>"
      ],
      "text/plain": [
       "| 7         | 21200    | 10715.376312 | 0.005660          |                     | 16.445307       |"
      ]
     },
     "metadata": {},
     "output_type": "display_data"
    },
    {
     "data": {
      "text/html": [
       "<pre>| 7         | 21400    | 10727.696718 | 0.005654          |                     | 16.233196       |</pre>"
      ],
      "text/plain": [
       "| 7         | 21400    | 10727.696718 | 0.005654          |                     | 16.233196       |"
      ]
     },
     "metadata": {},
     "output_type": "display_data"
    },
    {
     "data": {
      "text/html": [
       "<pre>| 7         | 21600    | 10739.121116 | 0.005602          |                     | 17.506411       |</pre>"
      ],
      "text/plain": [
       "| 7         | 21600    | 10739.121116 | 0.005602          |                     | 17.506411       |"
      ]
     },
     "metadata": {},
     "output_type": "display_data"
    },
    {
     "data": {
      "text/html": [
       "<pre>| 7         | 21800    | 10750.445557 | 0.005596          |                     | 17.660923       |</pre>"
      ],
      "text/plain": [
       "| 7         | 21800    | 10750.445557 | 0.005596          |                     | 17.660923       |"
      ]
     },
     "metadata": {},
     "output_type": "display_data"
    },
    {
     "data": {
      "text/html": [
       "<pre>| 7         | 22000    | 10763.325349 | 0.005545          |                     | 15.528187       |</pre>"
      ],
      "text/plain": [
       "| 7         | 22000    | 10763.325349 | 0.005545          |                     | 15.528187       |"
      ]
     },
     "metadata": {},
     "output_type": "display_data"
    },
    {
     "data": {
      "text/html": [
       "<pre>| 7         | 22200    | 10774.994482 | 0.005541          |                     | 17.139235       |</pre>"
      ],
      "text/plain": [
       "| 7         | 22200    | 10774.994482 | 0.005541          |                     | 17.139235       |"
      ]
     },
     "metadata": {},
     "output_type": "display_data"
    },
    {
     "data": {
      "text/html": [
       "<pre>| 7         | 22400    | 10786.586004 | 0.005536          |                     | 17.254011       |</pre>"
      ],
      "text/plain": [
       "| 7         | 22400    | 10786.586004 | 0.005536          |                     | 17.254011       |"
      ]
     },
     "metadata": {},
     "output_type": "display_data"
    },
    {
     "data": {
      "text/html": [
       "<pre>| 7         | 22600    | 10799.096616 | 0.005531          |                     | 15.986435       |</pre>"
      ],
      "text/plain": [
       "| 7         | 22600    | 10799.096616 | 0.005531          |                     | 15.986435       |"
      ]
     },
     "metadata": {},
     "output_type": "display_data"
    },
    {
     "data": {
      "text/html": [
       "<pre>| 7         | 22800    | 10810.669104 | 0.005526          |                     | 17.282358       |</pre>"
      ],
      "text/plain": [
       "| 7         | 22800    | 10810.669104 | 0.005526          |                     | 17.282358       |"
      ]
     },
     "metadata": {},
     "output_type": "display_data"
    },
    {
     "data": {
      "text/html": [
       "<pre>| 7         | 23000    | 10822.678121 | 0.005478          |                     | 16.654161       |</pre>"
      ],
      "text/plain": [
       "| 7         | 23000    | 10822.678121 | 0.005478          |                     | 16.654161       |"
      ]
     },
     "metadata": {},
     "output_type": "display_data"
    },
    {
     "data": {
      "text/html": [
       "<pre>| 7         | 23200    | 10834.373723 | 0.005431          |                     | 17.100449       |</pre>"
      ],
      "text/plain": [
       "| 7         | 23200    | 10834.373723 | 0.005431          |                     | 17.100449       |"
      ]
     },
     "metadata": {},
     "output_type": "display_data"
    },
    {
     "data": {
      "text/html": [
       "<pre>| 7         | 23400    | 10846.273929 | 0.005427          |                     | 16.806425       |</pre>"
      ],
      "text/plain": [
       "| 7         | 23400    | 10846.273929 | 0.005427          |                     | 16.806425       |"
      ]
     },
     "metadata": {},
     "output_type": "display_data"
    },
    {
     "data": {
      "text/html": [
       "<pre>| 7         | 23600    | 10858.116975 | 0.005424          |                     | 16.887543       |</pre>"
      ],
      "text/plain": [
       "| 7         | 23600    | 10858.116975 | 0.005424          |                     | 16.887543       |"
      ]
     },
     "metadata": {},
     "output_type": "display_data"
    },
    {
     "data": {
      "text/html": [
       "<pre>| 7         | 23800    | 10869.804389 | 0.005420          |                     | 17.112402       |</pre>"
      ],
      "text/plain": [
       "| 7         | 23800    | 10869.804389 | 0.005420          |                     | 17.112402       |"
      ]
     },
     "metadata": {},
     "output_type": "display_data"
    },
    {
     "data": {
      "text/html": [
       "<pre>| 7         | 24000    | 10882.101018 | 0.005417          |                     | 16.264650       |</pre>"
      ],
      "text/plain": [
       "| 7         | 24000    | 10882.101018 | 0.005417          |                     | 16.264650       |"
      ]
     },
     "metadata": {},
     "output_type": "display_data"
    },
    {
     "data": {
      "text/html": [
       "<pre>| 7         | 24200    | 10893.926530 | 0.005372          |                     | 16.912558       |</pre>"
      ],
      "text/plain": [
       "| 7         | 24200    | 10893.926530 | 0.005372          |                     | 16.912558       |"
      ]
     },
     "metadata": {},
     "output_type": "display_data"
    },
    {
     "data": {
      "text/html": [
       "<pre>| 7         | 24400    | 10905.628284 | 0.005369          |                     | 17.091492       |</pre>"
      ],
      "text/plain": [
       "| 7         | 24400    | 10905.628284 | 0.005369          |                     | 17.091492       |"
      ]
     },
     "metadata": {},
     "output_type": "display_data"
    },
    {
     "data": {
      "text/html": [
       "<pre>| 7         | 24600    | 10917.652712 | 0.005407          |                     | 16.632799       |</pre>"
      ],
      "text/plain": [
       "| 7         | 24600    | 10917.652712 | 0.005407          |                     | 16.632799       |"
      ]
     },
     "metadata": {},
     "output_type": "display_data"
    },
    {
     "data": {
      "text/html": [
       "<pre>| 7         | 24800    | 10929.824463 | 0.005363          |                     | 16.431467       |</pre>"
      ],
      "text/plain": [
       "| 7         | 24800    | 10929.824463 | 0.005363          |                     | 16.431467       |"
      ]
     },
     "metadata": {},
     "output_type": "display_data"
    },
    {
     "data": {
      "text/html": [
       "<pre>| 7         | 25000    | 10940.540207 | 0.005360          |                     | 18.664108       |</pre>"
      ],
      "text/plain": [
       "| 7         | 25000    | 10940.540207 | 0.005360          |                     | 18.664108       |"
      ]
     },
     "metadata": {},
     "output_type": "display_data"
    },
    {
     "data": {
      "text/html": [
       "<pre>| 7         | 25200    | 10952.747855 | 0.005397          |                     | 16.383192       |</pre>"
      ],
      "text/plain": [
       "| 7         | 25200    | 10952.747855 | 0.005397          |                     | 16.383192       |"
      ]
     },
     "metadata": {},
     "output_type": "display_data"
    },
    {
     "data": {
      "text/html": [
       "<pre>| 7         | 25400    | 10964.734728 | 0.005394          |                     | 16.684925       |</pre>"
      ],
      "text/plain": [
       "| 7         | 25400    | 10964.734728 | 0.005394          |                     | 16.684925       |"
      ]
     },
     "metadata": {},
     "output_type": "display_data"
    },
    {
     "data": {
      "text/html": [
       "<pre>| 7         | 25600    | 10976.504913 | 0.005352          |                     | 16.992098       |</pre>"
      ],
      "text/plain": [
       "| 7         | 25600    | 10976.504913 | 0.005352          |                     | 16.992098       |"
      ]
     },
     "metadata": {},
     "output_type": "display_data"
    },
    {
     "data": {
      "text/html": [
       "<pre>| 7         | 25800    | 10988.402734 | 0.005310          |                     | 16.809780       |</pre>"
      ],
      "text/plain": [
       "| 7         | 25800    | 10988.402734 | 0.005310          |                     | 16.809780       |"
      ]
     },
     "metadata": {},
     "output_type": "display_data"
    },
    {
     "data": {
      "text/html": [
       "<pre>| 7         | 26000    | 11000.563410 | 0.005308          |                     | 16.446472       |</pre>"
      ],
      "text/plain": [
       "| 7         | 26000    | 11000.563410 | 0.005308          |                     | 16.446472       |"
      ]
     },
     "metadata": {},
     "output_type": "display_data"
    },
    {
     "data": {
      "text/html": [
       "<pre>| 7         | 26200    | 11012.650292 | 0.005305          |                     | 16.546865       |</pre>"
      ],
      "text/plain": [
       "| 7         | 26200    | 11012.650292 | 0.005305          |                     | 16.546865       |"
      ]
     },
     "metadata": {},
     "output_type": "display_data"
    },
    {
     "data": {
      "text/html": [
       "<pre>| 7         | 26400    | 11024.195900 | 0.005265          |                     | 17.322573       |</pre>"
      ],
      "text/plain": [
       "| 7         | 26400    | 11024.195900 | 0.005265          |                     | 17.322573       |"
      ]
     },
     "metadata": {},
     "output_type": "display_data"
    },
    {
     "data": {
      "text/html": [
       "<pre>| 7         | 26600    | 11035.686649 | 0.005263          |                     | 17.405350       |</pre>"
      ],
      "text/plain": [
       "| 7         | 26600    | 11035.686649 | 0.005263          |                     | 17.405350       |"
      ]
     },
     "metadata": {},
     "output_type": "display_data"
    },
    {
     "data": {
      "text/html": [
       "<pre>| 7         | 26800    | 11048.558170 | 0.005224          |                     | 15.538150       |</pre>"
      ],
      "text/plain": [
       "| 7         | 26800    | 11048.558170 | 0.005224          |                     | 15.538150       |"
      ]
     },
     "metadata": {},
     "output_type": "display_data"
    },
    {
     "data": {
      "text/html": [
       "<pre>| 7         | 27000    | 11059.447052 | 0.005222          |                     | 18.367378       |</pre>"
      ],
      "text/plain": [
       "| 7         | 27000    | 11059.447052 | 0.005222          |                     | 18.367378       |"
      ]
     },
     "metadata": {},
     "output_type": "display_data"
    },
    {
     "data": {
      "text/html": [
       "<pre>| 7         | 27200    | 11070.430757 | 0.005221          |                     | 18.208792       |</pre>"
      ],
      "text/plain": [
       "| 7         | 27200    | 11070.430757 | 0.005221          |                     | 18.208792       |"
      ]
     },
     "metadata": {},
     "output_type": "display_data"
    },
    {
     "data": {
      "text/html": [
       "<pre>| 7         | 27400    | 11082.274501 | 0.005219          |                     | 16.886578       |</pre>"
      ],
      "text/plain": [
       "| 7         | 27400    | 11082.274501 | 0.005219          |                     | 16.886578       |"
      ]
     },
     "metadata": {},
     "output_type": "display_data"
    },
    {
     "data": {
      "text/html": [
       "<pre>| 7         | 27600    | 11094.592058 | 0.005217          |                     | 16.236948       |</pre>"
      ],
      "text/plain": [
       "| 7         | 27600    | 11094.592058 | 0.005217          |                     | 16.236948       |"
      ]
     },
     "metadata": {},
     "output_type": "display_data"
    },
    {
     "data": {
      "text/html": [
       "<pre>| 7         | 27600    | 11351.193661 | 0.005217          | 0.005641            | 16.236948       |</pre>"
      ],
      "text/plain": [
       "| 7         | 27600    | 11351.193661 | 0.005217          | 0.005641            | 16.236948       |"
      ]
     },
     "metadata": {},
     "output_type": "display_data"
    },
    {
     "data": {
      "text/html": [
       "<pre>Checkpointing model into rep IDSIA by 1 conv graphlab net - train in 10 iters</pre>"
      ],
      "text/plain": [
       "Checkpointing model into rep IDSIA by 1 conv graphlab net - train in 10 iters"
      ]
     },
     "metadata": {},
     "output_type": "display_data"
    },
    {
     "data": {
      "text/html": [
       "<pre>| 8         | 200      | 11363.556916 | 0.005000          |                     | 16.177221       |</pre>"
      ],
      "text/plain": [
       "| 8         | 200      | 11363.556916 | 0.005000          |                     | 16.177221       |"
      ]
     },
     "metadata": {},
     "output_type": "display_data"
    },
    {
     "data": {
      "text/html": [
       "<pre>| 8         | 400      | 11375.936053 | 0.007500          |                     | 16.156208       |</pre>"
      ],
      "text/plain": [
       "| 8         | 400      | 11375.936053 | 0.007500          |                     | 16.156208       |"
      ]
     },
     "metadata": {},
     "output_type": "display_data"
    },
    {
     "data": {
      "text/html": [
       "<pre>| 8         | 600      | 11387.547947 | 0.006667          |                     | 17.223715       |</pre>"
      ],
      "text/plain": [
       "| 8         | 600      | 11387.547947 | 0.006667          |                     | 17.223715       |"
      ]
     },
     "metadata": {},
     "output_type": "display_data"
    },
    {
     "data": {
      "text/html": [
       "<pre>| 8         | 800      | 11398.851465 | 0.005000          |                     | 17.693617       |</pre>"
      ],
      "text/plain": [
       "| 8         | 800      | 11398.851465 | 0.005000          |                     | 17.693617       |"
      ]
     },
     "metadata": {},
     "output_type": "display_data"
    },
    {
     "data": {
      "text/html": [
       "<pre>| 8         | 1000     | 11410.130491 | 0.006000          |                     | 17.731987       |</pre>"
      ],
      "text/plain": [
       "| 8         | 1000     | 11410.130491 | 0.006000          |                     | 17.731987       |"
      ]
     },
     "metadata": {},
     "output_type": "display_data"
    },
    {
     "data": {
      "text/html": [
       "<pre>| 8         | 1200     | 11422.344613 | 0.006667          |                     | 16.374512       |</pre>"
      ],
      "text/plain": [
       "| 8         | 1200     | 11422.344613 | 0.006667          |                     | 16.374512       |"
      ]
     },
     "metadata": {},
     "output_type": "display_data"
    },
    {
     "data": {
      "text/html": [
       "<pre>| 8         | 1400     | 11434.265994 | 0.005714          |                     | 16.776560       |</pre>"
      ],
      "text/plain": [
       "| 8         | 1400     | 11434.265994 | 0.005714          |                     | 16.776560       |"
      ]
     },
     "metadata": {},
     "output_type": "display_data"
    },
    {
     "data": {
      "text/html": [
       "<pre>| 8         | 1600     | 11445.215840 | 0.005625          |                     | 18.265112       |</pre>"
      ],
      "text/plain": [
       "| 8         | 1600     | 11445.215840 | 0.005625          |                     | 18.265112       |"
      ]
     },
     "metadata": {},
     "output_type": "display_data"
    },
    {
     "data": {
      "text/html": [
       "<pre>| 8         | 1800     | 11456.503610 | 0.005556          |                     | 17.718313       |</pre>"
      ],
      "text/plain": [
       "| 8         | 1800     | 11456.503610 | 0.005556          |                     | 17.718313       |"
      ]
     },
     "metadata": {},
     "output_type": "display_data"
    },
    {
     "data": {
      "text/html": [
       "<pre>| 8         | 2000     | 11468.869011 | 0.005500          |                     | 16.174147       |</pre>"
      ],
      "text/plain": [
       "| 8         | 2000     | 11468.869011 | 0.005500          |                     | 16.174147       |"
      ]
     },
     "metadata": {},
     "output_type": "display_data"
    },
    {
     "data": {
      "text/html": [
       "<pre>| 8         | 2200     | 11480.559270 | 0.005000          |                     | 17.108246       |</pre>"
      ],
      "text/plain": [
       "| 8         | 2200     | 11480.559270 | 0.005000          |                     | 17.108246       |"
      ]
     },
     "metadata": {},
     "output_type": "display_data"
    },
    {
     "data": {
      "text/html": [
       "<pre>| 8         | 2400     | 11492.222163 | 0.005000          |                     | 17.148434       |</pre>"
      ],
      "text/plain": [
       "| 8         | 2400     | 11492.222163 | 0.005000          |                     | 17.148434       |"
      ]
     },
     "metadata": {},
     "output_type": "display_data"
    },
    {
     "data": {
      "text/html": [
       "<pre>| 8         | 2600     | 11504.711700 | 0.006154          |                     | 16.013393       |</pre>"
      ],
      "text/plain": [
       "| 8         | 2600     | 11504.711700 | 0.006154          |                     | 16.013393       |"
      ]
     },
     "metadata": {},
     "output_type": "display_data"
    },
    {
     "data": {
      "text/html": [
       "<pre>| 8         | 2800     | 11516.223095 | 0.006071          |                     | 17.374079       |</pre>"
      ],
      "text/plain": [
       "| 8         | 2800     | 11516.223095 | 0.006071          |                     | 17.374079       |"
      ]
     },
     "metadata": {},
     "output_type": "display_data"
    },
    {
     "data": {
      "text/html": [
       "<pre>| 8         | 3000     | 11528.478436 | 0.006000          |                     | 16.319401       |</pre>"
      ],
      "text/plain": [
       "| 8         | 3000     | 11528.478436 | 0.006000          |                     | 16.319401       |"
      ]
     },
     "metadata": {},
     "output_type": "display_data"
    },
    {
     "data": {
      "text/html": [
       "<pre>| 8         | 3200     | 11540.779677 | 0.005625          |                     | 16.258566       |</pre>"
      ],
      "text/plain": [
       "| 8         | 3200     | 11540.779677 | 0.005625          |                     | 16.258566       |"
      ]
     },
     "metadata": {},
     "output_type": "display_data"
    },
    {
     "data": {
      "text/html": [
       "<pre>| 8         | 3400     | 11551.814192 | 0.005294          |                     | 18.124935       |</pre>"
      ],
      "text/plain": [
       "| 8         | 3400     | 11551.814192 | 0.005294          |                     | 18.124935       |"
      ]
     },
     "metadata": {},
     "output_type": "display_data"
    },
    {
     "data": {
      "text/html": [
       "<pre>| 8         | 3600     | 11563.185892 | 0.005000          |                     | 17.587505       |</pre>"
      ],
      "text/plain": [
       "| 8         | 3600     | 11563.185892 | 0.005000          |                     | 17.587505       |"
      ]
     },
     "metadata": {},
     "output_type": "display_data"
    },
    {
     "data": {
      "text/html": [
       "<pre>| 8         | 3800     | 11574.303999 | 0.005000          |                     | 17.988682       |</pre>"
      ],
      "text/plain": [
       "| 8         | 3800     | 11574.303999 | 0.005000          |                     | 17.988682       |"
      ]
     },
     "metadata": {},
     "output_type": "display_data"
    },
    {
     "data": {
      "text/html": [
       "<pre>| 8         | 4000     | 11586.936584 | 0.005000          |                     | 15.832078       |</pre>"
      ],
      "text/plain": [
       "| 8         | 4000     | 11586.936584 | 0.005000          |                     | 15.832078       |"
      ]
     },
     "metadata": {},
     "output_type": "display_data"
    },
    {
     "data": {
      "text/html": [
       "<pre>| 8         | 4200     | 11598.239653 | 0.005476          |                     | 17.694281       |</pre>"
      ],
      "text/plain": [
       "| 8         | 4200     | 11598.239653 | 0.005476          |                     | 17.694281       |"
      ]
     },
     "metadata": {},
     "output_type": "display_data"
    },
    {
     "data": {
      "text/html": [
       "<pre>| 8         | 4400     | 11608.999318 | 0.005227          |                     | 18.587963       |</pre>"
      ],
      "text/plain": [
       "| 8         | 4400     | 11608.999318 | 0.005227          |                     | 18.587963       |"
      ]
     },
     "metadata": {},
     "output_type": "display_data"
    },
    {
     "data": {
      "text/html": [
       "<pre>| 8         | 4600     | 11620.488779 | 0.005000          |                     | 17.407257       |</pre>"
      ],
      "text/plain": [
       "| 8         | 4600     | 11620.488779 | 0.005000          |                     | 17.407257       |"
      ]
     },
     "metadata": {},
     "output_type": "display_data"
    },
    {
     "data": {
      "text/html": [
       "<pre>| 8         | 4800     | 11632.766919 | 0.005417          |                     | 16.289093       |</pre>"
      ],
      "text/plain": [
       "| 8         | 4800     | 11632.766919 | 0.005417          |                     | 16.289093       |"
      ]
     },
     "metadata": {},
     "output_type": "display_data"
    },
    {
     "data": {
      "text/html": [
       "<pre>| 8         | 5000     | 11643.940473 | 0.005600          |                     | 17.899446       |</pre>"
      ],
      "text/plain": [
       "| 8         | 5000     | 11643.940473 | 0.005600          |                     | 17.899446       |"
      ]
     },
     "metadata": {},
     "output_type": "display_data"
    },
    {
     "data": {
      "text/html": [
       "<pre>| 8         | 5200     | 11655.238669 | 0.005769          |                     | 17.701920       |</pre>"
      ],
      "text/plain": [
       "| 8         | 5200     | 11655.238669 | 0.005769          |                     | 17.701920       |"
      ]
     },
     "metadata": {},
     "output_type": "display_data"
    },
    {
     "data": {
      "text/html": [
       "<pre>| 8         | 5400     | 11666.576338 | 0.005926          |                     | 17.640326       |</pre>"
      ],
      "text/plain": [
       "| 8         | 5400     | 11666.576338 | 0.005926          |                     | 17.640326       |"
      ]
     },
     "metadata": {},
     "output_type": "display_data"
    },
    {
     "data": {
      "text/html": [
       "<pre>| 8         | 5600     | 11678.984779 | 0.005893          |                     | 16.118031       |</pre>"
      ],
      "text/plain": [
       "| 8         | 5600     | 11678.984779 | 0.005893          |                     | 16.118031       |"
      ]
     },
     "metadata": {},
     "output_type": "display_data"
    },
    {
     "data": {
      "text/html": [
       "<pre>| 8         | 5800     | 11690.905262 | 0.005862          |                     | 16.777843       |</pre>"
      ],
      "text/plain": [
       "| 8         | 5800     | 11690.905262 | 0.005862          |                     | 16.777843       |"
      ]
     },
     "metadata": {},
     "output_type": "display_data"
    },
    {
     "data": {
      "text/html": [
       "<pre>| 8         | 6000     | 11702.332222 | 0.005833          |                     | 17.502459       |</pre>"
      ],
      "text/plain": [
       "| 8         | 6000     | 11702.332222 | 0.005833          |                     | 17.502459       |"
      ]
     },
     "metadata": {},
     "output_type": "display_data"
    },
    {
     "data": {
      "text/html": [
       "<pre>| 8         | 6200     | 11715.142783 | 0.006129          |                     | 15.612120       |</pre>"
      ],
      "text/plain": [
       "| 8         | 6200     | 11715.142783 | 0.006129          |                     | 15.612120       |"
      ]
     },
     "metadata": {},
     "output_type": "display_data"
    },
    {
     "data": {
      "text/html": [
       "<pre>| 8         | 6400     | 11726.343695 | 0.006250          |                     | 17.855686       |</pre>"
      ],
      "text/plain": [
       "| 8         | 6400     | 11726.343695 | 0.006250          |                     | 17.855686       |"
      ]
     },
     "metadata": {},
     "output_type": "display_data"
    },
    {
     "data": {
      "text/html": [
       "<pre>| 8         | 6600     | 11737.822770 | 0.006061          |                     | 17.423046       |</pre>"
      ],
      "text/plain": [
       "| 8         | 6600     | 11737.822770 | 0.006061          |                     | 17.423046       |"
      ]
     },
     "metadata": {},
     "output_type": "display_data"
    },
    {
     "data": {
      "text/html": [
       "<pre>| 8         | 6800     | 11750.351768 | 0.006029          |                     | 15.962966       |</pre>"
      ],
      "text/plain": [
       "| 8         | 6800     | 11750.351768 | 0.006029          |                     | 15.962966       |"
      ]
     },
     "metadata": {},
     "output_type": "display_data"
    },
    {
     "data": {
      "text/html": [
       "<pre>| 8         | 7000     | 11761.770221 | 0.005857          |                     | 17.515478       |</pre>"
      ],
      "text/plain": [
       "| 8         | 7000     | 11761.770221 | 0.005857          |                     | 17.515478       |"
      ]
     },
     "metadata": {},
     "output_type": "display_data"
    },
    {
     "data": {
      "text/html": [
       "<pre>| 8         | 7200     | 11773.242936 | 0.005972          |                     | 17.432659       |</pre>"
      ],
      "text/plain": [
       "| 8         | 7200     | 11773.242936 | 0.005972          |                     | 17.432659       |"
      ]
     },
     "metadata": {},
     "output_type": "display_data"
    },
    {
     "data": {
      "text/html": [
       "<pre>| 8         | 7400     | 11784.535757 | 0.005811          |                     | 17.710369       |</pre>"
      ],
      "text/plain": [
       "| 8         | 7400     | 11784.535757 | 0.005811          |                     | 17.710369       |"
      ]
     },
     "metadata": {},
     "output_type": "display_data"
    },
    {
     "data": {
      "text/html": [
       "<pre>| 8         | 7600     | 11796.488721 | 0.005658          |                     | 16.732290       |</pre>"
      ],
      "text/plain": [
       "| 8         | 7600     | 11796.488721 | 0.005658          |                     | 16.732290       |"
      ]
     },
     "metadata": {},
     "output_type": "display_data"
    },
    {
     "data": {
      "text/html": [
       "<pre>| 8         | 7800     | 11808.688741 | 0.005641          |                     | 16.393379       |</pre>"
      ],
      "text/plain": [
       "| 8         | 7800     | 11808.688741 | 0.005641          |                     | 16.393379       |"
      ]
     },
     "metadata": {},
     "output_type": "display_data"
    },
    {
     "data": {
      "text/html": [
       "<pre>| 8         | 8000     | 11820.662848 | 0.005875          |                     | 16.702703       |</pre>"
      ],
      "text/plain": [
       "| 8         | 8000     | 11820.662848 | 0.005875          |                     | 16.702703       |"
      ]
     },
     "metadata": {},
     "output_type": "display_data"
    },
    {
     "data": {
      "text/html": [
       "<pre>| 8         | 8200     | 11832.320335 | 0.005732          |                     | 17.156397       |</pre>"
      ],
      "text/plain": [
       "| 8         | 8200     | 11832.320335 | 0.005732          |                     | 17.156397       |"
      ]
     },
     "metadata": {},
     "output_type": "display_data"
    },
    {
     "data": {
      "text/html": [
       "<pre>| 8         | 8400     | 11844.312501 | 0.005714          |                     | 16.677515       |</pre>"
      ],
      "text/plain": [
       "| 8         | 8400     | 11844.312501 | 0.005714          |                     | 16.677515       |"
      ]
     },
     "metadata": {},
     "output_type": "display_data"
    },
    {
     "data": {
      "text/html": [
       "<pre>| 8         | 8600     | 11855.624607 | 0.005698          |                     | 17.680172       |</pre>"
      ],
      "text/plain": [
       "| 8         | 8600     | 11855.624607 | 0.005698          |                     | 17.680172       |"
      ]
     },
     "metadata": {},
     "output_type": "display_data"
    },
    {
     "data": {
      "text/html": [
       "<pre>| 8         | 8800     | 11866.890416 | 0.005909          |                     | 17.752838       |</pre>"
      ],
      "text/plain": [
       "| 8         | 8800     | 11866.890416 | 0.005909          |                     | 17.752838       |"
      ]
     },
     "metadata": {},
     "output_type": "display_data"
    },
    {
     "data": {
      "text/html": [
       "<pre>| 8         | 9000     | 11879.421612 | 0.005778          |                     | 15.960196       |</pre>"
      ],
      "text/plain": [
       "| 8         | 9000     | 11879.421612 | 0.005778          |                     | 15.960196       |"
      ]
     },
     "metadata": {},
     "output_type": "display_data"
    },
    {
     "data": {
      "text/html": [
       "<pre>| 8         | 9200     | 11891.518939 | 0.005761          |                     | 16.532547       |</pre>"
      ],
      "text/plain": [
       "| 8         | 9200     | 11891.518939 | 0.005761          |                     | 16.532547       |"
      ]
     },
     "metadata": {},
     "output_type": "display_data"
    },
    {
     "data": {
      "text/html": [
       "<pre>| 8         | 9400     | 11903.434663 | 0.005745          |                     | 16.784550       |</pre>"
      ],
      "text/plain": [
       "| 8         | 9400     | 11903.434663 | 0.005745          |                     | 16.784550       |"
      ]
     },
     "metadata": {},
     "output_type": "display_data"
    },
    {
     "data": {
      "text/html": [
       "<pre>| 8         | 9600     | 11915.739356 | 0.005937          |                     | 16.253990       |</pre>"
      ],
      "text/plain": [
       "| 8         | 9600     | 11915.739356 | 0.005937          |                     | 16.253990       |"
      ]
     },
     "metadata": {},
     "output_type": "display_data"
    },
    {
     "data": {
      "text/html": [
       "<pre>| 8         | 9800     | 11927.951530 | 0.005918          |                     | 16.377066       |</pre>"
      ],
      "text/plain": [
       "| 8         | 9800     | 11927.951530 | 0.005918          |                     | 16.377066       |"
      ]
     },
     "metadata": {},
     "output_type": "display_data"
    },
    {
     "data": {
      "text/html": [
       "<pre>| 8         | 10000    | 11940.223921 | 0.005800          |                     | 16.296759       |</pre>"
      ],
      "text/plain": [
       "| 8         | 10000    | 11940.223921 | 0.005800          |                     | 16.296759       |"
      ]
     },
     "metadata": {},
     "output_type": "display_data"
    },
    {
     "data": {
      "text/html": [
       "<pre>| 8         | 10200    | 11951.129856 | 0.005686          |                     | 18.338654       |</pre>"
      ],
      "text/plain": [
       "| 8         | 10200    | 11951.129856 | 0.005686          |                     | 18.338654       |"
      ]
     },
     "metadata": {},
     "output_type": "display_data"
    },
    {
     "data": {
      "text/html": [
       "<pre>| 8         | 10400    | 11963.769418 | 0.005577          |                     | 15.823302       |</pre>"
      ],
      "text/plain": [
       "| 8         | 10400    | 11963.769418 | 0.005577          |                     | 15.823302       |"
      ]
     },
     "metadata": {},
     "output_type": "display_data"
    },
    {
     "data": {
      "text/html": [
       "<pre>| 8         | 10600    | 11975.375678 | 0.005660          |                     | 17.232079       |</pre>"
      ],
      "text/plain": [
       "| 8         | 10600    | 11975.375678 | 0.005660          |                     | 17.232079       |"
      ]
     },
     "metadata": {},
     "output_type": "display_data"
    },
    {
     "data": {
      "text/html": [
       "<pre>| 8         | 10800    | 11986.044237 | 0.005741          |                     | 18.746677       |</pre>"
      ],
      "text/plain": [
       "| 8         | 10800    | 11986.044237 | 0.005741          |                     | 18.746677       |"
      ]
     },
     "metadata": {},
     "output_type": "display_data"
    },
    {
     "data": {
      "text/html": [
       "<pre>| 8         | 11000    | 11998.150351 | 0.005636          |                     | 16.520609       |</pre>"
      ],
      "text/plain": [
       "| 8         | 11000    | 11998.150351 | 0.005636          |                     | 16.520609       |"
      ]
     },
     "metadata": {},
     "output_type": "display_data"
    },
    {
     "data": {
      "text/html": [
       "<pre>| 8         | 11200    | 12010.390232 | 0.005714          |                     | 16.340021       |</pre>"
      ],
      "text/plain": [
       "| 8         | 11200    | 12010.390232 | 0.005714          |                     | 16.340021       |"
      ]
     },
     "metadata": {},
     "output_type": "display_data"
    },
    {
     "data": {
      "text/html": [
       "<pre>| 8         | 11400    | 12022.093942 | 0.005614          |                     | 17.088621       |</pre>"
      ],
      "text/plain": [
       "| 8         | 11400    | 12022.093942 | 0.005614          |                     | 17.088621       |"
      ]
     },
     "metadata": {},
     "output_type": "display_data"
    },
    {
     "data": {
      "text/html": [
       "<pre>| 8         | 11600    | 12034.245102 | 0.005603          |                     | 16.459328       |</pre>"
      ],
      "text/plain": [
       "| 8         | 11600    | 12034.245102 | 0.005603          |                     | 16.459328       |"
      ]
     },
     "metadata": {},
     "output_type": "display_data"
    },
    {
     "data": {
      "text/html": [
       "<pre>| 8         | 11800    | 12046.275932 | 0.005508          |                     | 16.623951       |</pre>"
      ],
      "text/plain": [
       "| 8         | 11800    | 12046.275932 | 0.005508          |                     | 16.623951       |"
      ]
     },
     "metadata": {},
     "output_type": "display_data"
    },
    {
     "data": {
      "text/html": [
       "<pre>| 8         | 12000    | 12058.130472 | 0.005417          |                     | 16.871183       |</pre>"
      ],
      "text/plain": [
       "| 8         | 12000    | 12058.130472 | 0.005417          |                     | 16.871183       |"
      ]
     },
     "metadata": {},
     "output_type": "display_data"
    },
    {
     "data": {
      "text/html": [
       "<pre>| 8         | 12200    | 12070.155685 | 0.005410          |                     | 16.631718       |</pre>"
      ],
      "text/plain": [
       "| 8         | 12200    | 12070.155685 | 0.005410          |                     | 16.631718       |"
      ]
     },
     "metadata": {},
     "output_type": "display_data"
    },
    {
     "data": {
      "text/html": [
       "<pre>| 8         | 12400    | 12082.614436 | 0.005323          |                     | 16.052965       |</pre>"
      ],
      "text/plain": [
       "| 8         | 12400    | 12082.614436 | 0.005323          |                     | 16.052965       |"
      ]
     },
     "metadata": {},
     "output_type": "display_data"
    },
    {
     "data": {
      "text/html": [
       "<pre>| 8         | 12600    | 12094.884485 | 0.005476          |                     | 16.299873       |</pre>"
      ],
      "text/plain": [
       "| 8         | 12600    | 12094.884485 | 0.005476          |                     | 16.299873       |"
      ]
     },
     "metadata": {},
     "output_type": "display_data"
    },
    {
     "data": {
      "text/html": [
       "<pre>| 8         | 12800    | 12106.254803 | 0.005703          |                     | 17.589619       |</pre>"
      ],
      "text/plain": [
       "| 8         | 12800    | 12106.254803 | 0.005703          |                     | 17.589619       |"
      ]
     },
     "metadata": {},
     "output_type": "display_data"
    },
    {
     "data": {
      "text/html": [
       "<pre>| 8         | 13000    | 12118.163736 | 0.005769          |                     | 16.794149       |</pre>"
      ],
      "text/plain": [
       "| 8         | 13000    | 12118.163736 | 0.005769          |                     | 16.794149       |"
      ]
     },
     "metadata": {},
     "output_type": "display_data"
    },
    {
     "data": {
      "text/html": [
       "<pre>| 8         | 13200    | 12130.146941 | 0.005909          |                     | 16.690006       |</pre>"
      ],
      "text/plain": [
       "| 8         | 13200    | 12130.146941 | 0.005909          |                     | 16.690006       |"
      ]
     },
     "metadata": {},
     "output_type": "display_data"
    },
    {
     "data": {
      "text/html": [
       "<pre>| 8         | 13400    | 12141.723229 | 0.005821          |                     | 17.276688       |</pre>"
      ],
      "text/plain": [
       "| 8         | 13400    | 12141.723229 | 0.005821          |                     | 17.276688       |"
      ]
     },
     "metadata": {},
     "output_type": "display_data"
    },
    {
     "data": {
      "text/html": [
       "<pre>| 8         | 13600    | 12153.487342 | 0.005735          |                     | 17.000879       |</pre>"
      ],
      "text/plain": [
       "| 8         | 13600    | 12153.487342 | 0.005735          |                     | 17.000879       |"
      ]
     },
     "metadata": {},
     "output_type": "display_data"
    },
    {
     "data": {
      "text/html": [
       "<pre>| 8         | 13800    | 12165.770248 | 0.005725          |                     | 16.282757       |</pre>"
      ],
      "text/plain": [
       "| 8         | 13800    | 12165.770248 | 0.005725          |                     | 16.282757       |"
      ]
     },
     "metadata": {},
     "output_type": "display_data"
    },
    {
     "data": {
      "text/html": [
       "<pre>| 8         | 14000    | 12176.713150 | 0.005714          |                     | 18.276707       |</pre>"
      ],
      "text/plain": [
       "| 8         | 14000    | 12176.713150 | 0.005714          |                     | 18.276707       |"
      ]
     },
     "metadata": {},
     "output_type": "display_data"
    },
    {
     "data": {
      "text/html": [
       "<pre>| 8         | 14200    | 12187.628829 | 0.005704          |                     | 18.322245       |</pre>"
      ],
      "text/plain": [
       "| 8         | 14200    | 12187.628829 | 0.005704          |                     | 18.322245       |"
      ]
     },
     "metadata": {},
     "output_type": "display_data"
    },
    {
     "data": {
      "text/html": [
       "<pre>| 8         | 14400    | 12198.648040 | 0.005694          |                     | 18.150116       |</pre>"
      ],
      "text/plain": [
       "| 8         | 14400    | 12198.648040 | 0.005694          |                     | 18.150116       |"
      ]
     },
     "metadata": {},
     "output_type": "display_data"
    },
    {
     "data": {
      "text/html": [
       "<pre>| 8         | 14600    | 12210.470575 | 0.005685          |                     | 16.916880       |</pre>"
      ],
      "text/plain": [
       "| 8         | 14600    | 12210.470575 | 0.005685          |                     | 16.916880       |"
      ]
     },
     "metadata": {},
     "output_type": "display_data"
    },
    {
     "data": {
      "text/html": [
       "<pre>| 8         | 14800    | 12222.611071 | 0.005676          |                     | 16.473780       |</pre>"
      ],
      "text/plain": [
       "| 8         | 14800    | 12222.611071 | 0.005676          |                     | 16.473780       |"
      ]
     },
     "metadata": {},
     "output_type": "display_data"
    },
    {
     "data": {
      "text/html": [
       "<pre>| 8         | 15000    | 12234.466622 | 0.005733          |                     | 16.869713       |</pre>"
      ],
      "text/plain": [
       "| 8         | 15000    | 12234.466622 | 0.005733          |                     | 16.869713       |"
      ]
     },
     "metadata": {},
     "output_type": "display_data"
    },
    {
     "data": {
      "text/html": [
       "<pre>| 8         | 15200    | 12246.903320 | 0.005724          |                     | 16.081470       |</pre>"
      ],
      "text/plain": [
       "| 8         | 15200    | 12246.903320 | 0.005724          |                     | 16.081470       |"
      ]
     },
     "metadata": {},
     "output_type": "display_data"
    },
    {
     "data": {
      "text/html": [
       "<pre>| 8         | 15400    | 12259.028651 | 0.005714          |                     | 16.494364       |</pre>"
      ],
      "text/plain": [
       "| 8         | 15400    | 12259.028651 | 0.005714          |                     | 16.494364       |"
      ]
     },
     "metadata": {},
     "output_type": "display_data"
    },
    {
     "data": {
      "text/html": [
       "<pre>| 8         | 15600    | 12270.779501 | 0.005705          |                     | 17.020041       |</pre>"
      ],
      "text/plain": [
       "| 8         | 15600    | 12270.779501 | 0.005705          |                     | 17.020041       |"
      ]
     },
     "metadata": {},
     "output_type": "display_data"
    },
    {
     "data": {
      "text/html": [
       "<pre>| 8         | 15800    | 12283.145858 | 0.005633          |                     | 16.172913       |</pre>"
      ],
      "text/plain": [
       "| 8         | 15800    | 12283.145858 | 0.005633          |                     | 16.172913       |"
      ]
     },
     "metadata": {},
     "output_type": "display_data"
    },
    {
     "data": {
      "text/html": [
       "<pre>| 8         | 16000    | 12295.152597 | 0.005687          |                     | 16.657316       |</pre>"
      ],
      "text/plain": [
       "| 8         | 16000    | 12295.152597 | 0.005687          |                     | 16.657316       |"
      ]
     },
     "metadata": {},
     "output_type": "display_data"
    },
    {
     "data": {
      "text/html": [
       "<pre>| 8         | 16200    | 12306.502226 | 0.005741          |                     | 17.621759       |</pre>"
      ],
      "text/plain": [
       "| 8         | 16200    | 12306.502226 | 0.005741          |                     | 17.621759       |"
      ]
     },
     "metadata": {},
     "output_type": "display_data"
    },
    {
     "data": {
      "text/html": [
       "<pre>| 8         | 16400    | 12319.220902 | 0.005732          |                     | 15.724896       |</pre>"
      ],
      "text/plain": [
       "| 8         | 16400    | 12319.220902 | 0.005732          |                     | 15.724896       |"
      ]
     },
     "metadata": {},
     "output_type": "display_data"
    },
    {
     "data": {
      "text/html": [
       "<pre>| 8         | 16600    | 12331.276613 | 0.005843          |                     | 16.589626       |</pre>"
      ],
      "text/plain": [
       "| 8         | 16600    | 12331.276613 | 0.005843          |                     | 16.589626       |"
      ]
     },
     "metadata": {},
     "output_type": "display_data"
    },
    {
     "data": {
      "text/html": [
       "<pre>| 8         | 16800    | 12343.341340 | 0.005774          |                     | 16.577286       |</pre>"
      ],
      "text/plain": [
       "| 8         | 16800    | 12343.341340 | 0.005774          |                     | 16.577286       |"
      ]
     },
     "metadata": {},
     "output_type": "display_data"
    },
    {
     "data": {
      "text/html": [
       "<pre>| 8         | 17000    | 12354.823709 | 0.005765          |                     | 17.417980       |</pre>"
      ],
      "text/plain": [
       "| 8         | 17000    | 12354.823709 | 0.005765          |                     | 17.417980       |"
      ]
     },
     "metadata": {},
     "output_type": "display_data"
    },
    {
     "data": {
      "text/html": [
       "<pre>| 8         | 17200    | 12367.188862 | 0.005756          |                     | 16.174471       |</pre>"
      ],
      "text/plain": [
       "| 8         | 17200    | 12367.188862 | 0.005756          |                     | 16.174471       |"
      ]
     },
     "metadata": {},
     "output_type": "display_data"
    },
    {
     "data": {
      "text/html": [
       "<pre>| 8         | 17400    | 12379.297774 | 0.005805          |                     | 16.516766       |</pre>"
      ],
      "text/plain": [
       "| 8         | 17400    | 12379.297774 | 0.005805          |                     | 16.516766       |"
      ]
     },
     "metadata": {},
     "output_type": "display_data"
    },
    {
     "data": {
      "text/html": [
       "<pre>| 8         | 17600    | 12391.123681 | 0.005852          |                     | 16.912022       |</pre>"
      ],
      "text/plain": [
       "| 8         | 17600    | 12391.123681 | 0.005852          |                     | 16.912022       |"
      ]
     },
     "metadata": {},
     "output_type": "display_data"
    },
    {
     "data": {
      "text/html": [
       "<pre>| 8         | 17800    | 12402.969229 | 0.005787          |                     | 16.884029       |</pre>"
      ],
      "text/plain": [
       "| 8         | 17800    | 12402.969229 | 0.005787          |                     | 16.884029       |"
      ]
     },
     "metadata": {},
     "output_type": "display_data"
    },
    {
     "data": {
      "text/html": [
       "<pre>| 8         | 18000    | 12415.645275 | 0.005833          |                     | 15.777780       |</pre>"
      ],
      "text/plain": [
       "| 8         | 18000    | 12415.645275 | 0.005833          |                     | 15.777780       |"
      ]
     },
     "metadata": {},
     "output_type": "display_data"
    },
    {
     "data": {
      "text/html": [
       "<pre>| 8         | 18200    | 12427.144158 | 0.005769          |                     | 17.392973       |</pre>"
      ],
      "text/plain": [
       "| 8         | 18200    | 12427.144158 | 0.005769          |                     | 17.392973       |"
      ]
     },
     "metadata": {},
     "output_type": "display_data"
    },
    {
     "data": {
      "text/html": [
       "<pre>| 8         | 18400    | 12439.334776 | 0.005761          |                     | 16.406082       |</pre>"
      ],
      "text/plain": [
       "| 8         | 18400    | 12439.334776 | 0.005761          |                     | 16.406082       |"
      ]
     },
     "metadata": {},
     "output_type": "display_data"
    },
    {
     "data": {
      "text/html": [
       "<pre>| 8         | 18600    | 12451.335786 | 0.005914          |                     | 16.665241       |</pre>"
      ],
      "text/plain": [
       "| 8         | 18600    | 12451.335786 | 0.005914          |                     | 16.665241       |"
      ]
     },
     "metadata": {},
     "output_type": "display_data"
    },
    {
     "data": {
      "text/html": [
       "<pre>| 8         | 18800    | 12462.613417 | 0.005851          |                     | 17.734234       |</pre>"
      ],
      "text/plain": [
       "| 8         | 18800    | 12462.613417 | 0.005851          |                     | 17.734234       |"
      ]
     },
     "metadata": {},
     "output_type": "display_data"
    },
    {
     "data": {
      "text/html": [
       "<pre>| 8         | 19000    | 12474.729528 | 0.005789          |                     | 16.506956       |</pre>"
      ],
      "text/plain": [
       "| 8         | 19000    | 12474.729528 | 0.005789          |                     | 16.506956       |"
      ]
     },
     "metadata": {},
     "output_type": "display_data"
    },
    {
     "data": {
      "text/html": [
       "<pre>| 8         | 19200    | 12487.167581 | 0.005781          |                     | 16.079672       |</pre>"
      ],
      "text/plain": [
       "| 8         | 19200    | 12487.167581 | 0.005781          |                     | 16.079672       |"
      ]
     },
     "metadata": {},
     "output_type": "display_data"
    },
    {
     "data": {
      "text/html": [
       "<pre>| 8         | 19400    | 12498.926744 | 0.005722          |                     | 17.008028       |</pre>"
      ],
      "text/plain": [
       "| 8         | 19400    | 12498.926744 | 0.005722          |                     | 17.008028       |"
      ]
     },
     "metadata": {},
     "output_type": "display_data"
    },
    {
     "data": {
      "text/html": [
       "<pre>| 8         | 19600    | 12510.687270 | 0.005663          |                     | 17.006018       |</pre>"
      ],
      "text/plain": [
       "| 8         | 19600    | 12510.687270 | 0.005663          |                     | 17.006018       |"
      ]
     },
     "metadata": {},
     "output_type": "display_data"
    },
    {
     "data": {
      "text/html": [
       "<pre>| 8         | 19800    | 12522.548671 | 0.005657          |                     | 16.861439       |</pre>"
      ],
      "text/plain": [
       "| 8         | 19800    | 12522.548671 | 0.005657          |                     | 16.861439       |"
      ]
     },
     "metadata": {},
     "output_type": "display_data"
    },
    {
     "data": {
      "text/html": [
       "<pre>| 8         | 20000    | 12534.480510 | 0.005600          |                     | 16.761881       |</pre>"
      ],
      "text/plain": [
       "| 8         | 20000    | 12534.480510 | 0.005600          |                     | 16.761881       |"
      ]
     },
     "metadata": {},
     "output_type": "display_data"
    },
    {
     "data": {
      "text/html": [
       "<pre>| 8         | 20200    | 12546.472439 | 0.005594          |                     | 16.677870       |</pre>"
      ],
      "text/plain": [
       "| 8         | 20200    | 12546.472439 | 0.005594          |                     | 16.677870       |"
      ]
     },
     "metadata": {},
     "output_type": "display_data"
    },
    {
     "data": {
      "text/html": [
       "<pre>| 8         | 20400    | 12557.902893 | 0.005588          |                     | 17.497128       |</pre>"
      ],
      "text/plain": [
       "| 8         | 20400    | 12557.902893 | 0.005588          |                     | 17.497128       |"
      ]
     },
     "metadata": {},
     "output_type": "display_data"
    },
    {
     "data": {
      "text/html": [
       "<pre>| 8         | 20600    | 12570.472387 | 0.005583          |                     | 15.911548       |</pre>"
      ],
      "text/plain": [
       "| 8         | 20600    | 12570.472387 | 0.005583          |                     | 15.911548       |"
      ]
     },
     "metadata": {},
     "output_type": "display_data"
    },
    {
     "data": {
      "text/html": [
       "<pre>| 8         | 20800    | 12582.245913 | 0.005625          |                     | 16.987244       |</pre>"
      ],
      "text/plain": [
       "| 8         | 20800    | 12582.245913 | 0.005625          |                     | 16.987244       |"
      ]
     },
     "metadata": {},
     "output_type": "display_data"
    },
    {
     "data": {
      "text/html": [
       "<pre>| 8         | 21000    | 12593.782744 | 0.005619          |                     | 17.335791       |</pre>"
      ],
      "text/plain": [
       "| 8         | 21000    | 12593.782744 | 0.005619          |                     | 17.335791       |"
      ]
     },
     "metadata": {},
     "output_type": "display_data"
    },
    {
     "data": {
      "text/html": [
       "<pre>| 8         | 21200    | 12606.721043 | 0.005660          |                     | 15.457967       |</pre>"
      ],
      "text/plain": [
       "| 8         | 21200    | 12606.721043 | 0.005660          |                     | 15.457967       |"
      ]
     },
     "metadata": {},
     "output_type": "display_data"
    },
    {
     "data": {
      "text/html": [
       "<pre>| 8         | 21400    | 12618.257956 | 0.005654          |                     | 17.335686       |</pre>"
      ],
      "text/plain": [
       "| 8         | 21400    | 12618.257956 | 0.005654          |                     | 17.335686       |"
      ]
     },
     "metadata": {},
     "output_type": "display_data"
    },
    {
     "data": {
      "text/html": [
       "<pre>| 8         | 21600    | 12629.839989 | 0.005602          |                     | 17.268124       |</pre>"
      ],
      "text/plain": [
       "| 8         | 21600    | 12629.839989 | 0.005602          |                     | 17.268124       |"
      ]
     },
     "metadata": {},
     "output_type": "display_data"
    },
    {
     "data": {
      "text/html": [
       "<pre>| 8         | 21800    | 12642.534834 | 0.005596          |                     | 15.754398       |</pre>"
      ],
      "text/plain": [
       "| 8         | 21800    | 12642.534834 | 0.005596          |                     | 15.754398       |"
      ]
     },
     "metadata": {},
     "output_type": "display_data"
    },
    {
     "data": {
      "text/html": [
       "<pre>| 8         | 22000    | 12654.353988 | 0.005545          |                     | 16.921686       |</pre>"
      ],
      "text/plain": [
       "| 8         | 22000    | 12654.353988 | 0.005545          |                     | 16.921686       |"
      ]
     },
     "metadata": {},
     "output_type": "display_data"
    },
    {
     "data": {
      "text/html": [
       "<pre>| 8         | 22200    | 12665.632858 | 0.005541          |                     | 17.732277       |</pre>"
      ],
      "text/plain": [
       "| 8         | 22200    | 12665.632858 | 0.005541          |                     | 17.732277       |"
      ]
     },
     "metadata": {},
     "output_type": "display_data"
    },
    {
     "data": {
      "text/html": [
       "<pre>| 8         | 22400    | 12676.812615 | 0.005536          |                     | 17.889496       |</pre>"
      ],
      "text/plain": [
       "| 8         | 22400    | 12676.812615 | 0.005536          |                     | 17.889496       |"
      ]
     },
     "metadata": {},
     "output_type": "display_data"
    },
    {
     "data": {
      "text/html": [
       "<pre>| 8         | 22600    | 12689.537719 | 0.005531          |                     | 15.716939       |</pre>"
      ],
      "text/plain": [
       "| 8         | 22600    | 12689.537719 | 0.005531          |                     | 15.716939       |"
      ]
     },
     "metadata": {},
     "output_type": "display_data"
    },
    {
     "data": {
      "text/html": [
       "<pre>| 8         | 22800    | 12701.404379 | 0.005526          |                     | 16.853943       |</pre>"
      ],
      "text/plain": [
       "| 8         | 22800    | 12701.404379 | 0.005526          |                     | 16.853943       |"
      ]
     },
     "metadata": {},
     "output_type": "display_data"
    },
    {
     "data": {
      "text/html": [
       "<pre>| 8         | 23000    | 12712.965615 | 0.005478          |                     | 17.299189       |</pre>"
      ],
      "text/plain": [
       "| 8         | 23000    | 12712.965615 | 0.005478          |                     | 17.299189       |"
      ]
     },
     "metadata": {},
     "output_type": "display_data"
    },
    {
     "data": {
      "text/html": [
       "<pre>| 8         | 23200    | 12724.664913 | 0.005431          |                     | 17.095093       |</pre>"
      ],
      "text/plain": [
       "| 8         | 23200    | 12724.664913 | 0.005431          |                     | 17.095093       |"
      ]
     },
     "metadata": {},
     "output_type": "display_data"
    },
    {
     "data": {
      "text/html": [
       "<pre>| 8         | 23400    | 12736.683087 | 0.005427          |                     | 16.641417       |</pre>"
      ],
      "text/plain": [
       "| 8         | 23400    | 12736.683087 | 0.005427          |                     | 16.641417       |"
      ]
     },
     "metadata": {},
     "output_type": "display_data"
    },
    {
     "data": {
      "text/html": [
       "<pre>| 8         | 23600    | 12748.310272 | 0.005424          |                     | 17.201080       |</pre>"
      ],
      "text/plain": [
       "| 8         | 23600    | 12748.310272 | 0.005424          |                     | 17.201080       |"
      ]
     },
     "metadata": {},
     "output_type": "display_data"
    },
    {
     "data": {
      "text/html": [
       "<pre>| 8         | 23800    | 12759.934577 | 0.005420          |                     | 17.205351       |</pre>"
      ],
      "text/plain": [
       "| 8         | 23800    | 12759.934577 | 0.005420          |                     | 17.205351       |"
      ]
     },
     "metadata": {},
     "output_type": "display_data"
    },
    {
     "data": {
      "text/html": [
       "<pre>| 8         | 24000    | 12772.324822 | 0.005417          |                     | 16.141706       |</pre>"
      ],
      "text/plain": [
       "| 8         | 24000    | 12772.324822 | 0.005417          |                     | 16.141706       |"
      ]
     },
     "metadata": {},
     "output_type": "display_data"
    },
    {
     "data": {
      "text/html": [
       "<pre>| 8         | 24200    | 12783.523749 | 0.005372          |                     | 17.858852       |</pre>"
      ],
      "text/plain": [
       "| 8         | 24200    | 12783.523749 | 0.005372          |                     | 17.858852       |"
      ]
     },
     "metadata": {},
     "output_type": "display_data"
    },
    {
     "data": {
      "text/html": [
       "<pre>| 8         | 24400    | 12795.652277 | 0.005369          |                     | 16.490065       |</pre>"
      ],
      "text/plain": [
       "| 8         | 24400    | 12795.652277 | 0.005369          |                     | 16.490065       |"
      ]
     },
     "metadata": {},
     "output_type": "display_data"
    },
    {
     "data": {
      "text/html": [
       "<pre>| 8         | 24600    | 12807.631030 | 0.005407          |                     | 16.696243       |</pre>"
      ],
      "text/plain": [
       "| 8         | 24600    | 12807.631030 | 0.005407          |                     | 16.696243       |"
      ]
     },
     "metadata": {},
     "output_type": "display_data"
    },
    {
     "data": {
      "text/html": [
       "<pre>| 8         | 24800    | 12819.332221 | 0.005363          |                     | 17.092258       |</pre>"
      ],
      "text/plain": [
       "| 8         | 24800    | 12819.332221 | 0.005363          |                     | 17.092258       |"
      ]
     },
     "metadata": {},
     "output_type": "display_data"
    },
    {
     "data": {
      "text/html": [
       "<pre>| 8         | 25000    | 12831.332959 | 0.005360          |                     | 16.665623       |</pre>"
      ],
      "text/plain": [
       "| 8         | 25000    | 12831.332959 | 0.005360          |                     | 16.665623       |"
      ]
     },
     "metadata": {},
     "output_type": "display_data"
    },
    {
     "data": {
      "text/html": [
       "<pre>| 8         | 25200    | 12843.410081 | 0.005397          |                     | 16.560265       |</pre>"
      ],
      "text/plain": [
       "| 8         | 25200    | 12843.410081 | 0.005397          |                     | 16.560265       |"
      ]
     },
     "metadata": {},
     "output_type": "display_data"
    },
    {
     "data": {
      "text/html": [
       "<pre>| 8         | 25400    | 12855.403700 | 0.005394          |                     | 16.675501       |</pre>"
      ],
      "text/plain": [
       "| 8         | 25400    | 12855.403700 | 0.005394          |                     | 16.675501       |"
      ]
     },
     "metadata": {},
     "output_type": "display_data"
    },
    {
     "data": {
      "text/html": [
       "<pre>| 8         | 25600    | 12866.231171 | 0.005352          |                     | 18.471544       |</pre>"
      ],
      "text/plain": [
       "| 8         | 25600    | 12866.231171 | 0.005352          |                     | 18.471544       |"
      ]
     },
     "metadata": {},
     "output_type": "display_data"
    },
    {
     "data": {
      "text/html": [
       "<pre>| 8         | 25800    | 12876.900592 | 0.005310          |                     | 18.745157       |</pre>"
      ],
      "text/plain": [
       "| 8         | 25800    | 12876.900592 | 0.005310          |                     | 18.745157       |"
      ]
     },
     "metadata": {},
     "output_type": "display_data"
    },
    {
     "data": {
      "text/html": [
       "<pre>| 8         | 26000    | 12889.175696 | 0.005308          |                     | 16.293175       |</pre>"
      ],
      "text/plain": [
       "| 8         | 26000    | 12889.175696 | 0.005308          |                     | 16.293175       |"
      ]
     },
     "metadata": {},
     "output_type": "display_data"
    },
    {
     "data": {
      "text/html": [
       "<pre>| 8         | 26200    | 12901.409728 | 0.005305          |                     | 16.347801       |</pre>"
      ],
      "text/plain": [
       "| 8         | 26200    | 12901.409728 | 0.005305          |                     | 16.347801       |"
      ]
     },
     "metadata": {},
     "output_type": "display_data"
    },
    {
     "data": {
      "text/html": [
       "<pre>| 8         | 26400    | 12913.278634 | 0.005265          |                     | 16.850758       |</pre>"
      ],
      "text/plain": [
       "| 8         | 26400    | 12913.278634 | 0.005265          |                     | 16.850758       |"
      ]
     },
     "metadata": {},
     "output_type": "display_data"
    },
    {
     "data": {
      "text/html": [
       "<pre>| 8         | 26600    | 12925.045226 | 0.005263          |                     | 16.997274       |</pre>"
      ],
      "text/plain": [
       "| 8         | 26600    | 12925.045226 | 0.005263          |                     | 16.997274       |"
      ]
     },
     "metadata": {},
     "output_type": "display_data"
    },
    {
     "data": {
      "text/html": [
       "<pre>| 8         | 26800    | 12937.555371 | 0.005224          |                     | 15.987021       |</pre>"
      ],
      "text/plain": [
       "| 8         | 26800    | 12937.555371 | 0.005224          |                     | 15.987021       |"
      ]
     },
     "metadata": {},
     "output_type": "display_data"
    },
    {
     "data": {
      "text/html": [
       "<pre>| 8         | 27000    | 12948.877344 | 0.005222          |                     | 17.664768       |</pre>"
      ],
      "text/plain": [
       "| 8         | 27000    | 12948.877344 | 0.005222          |                     | 17.664768       |"
      ]
     },
     "metadata": {},
     "output_type": "display_data"
    },
    {
     "data": {
      "text/html": [
       "<pre>| 8         | 27200    | 12960.371991 | 0.005221          |                     | 17.399412       |</pre>"
      ],
      "text/plain": [
       "| 8         | 27200    | 12960.371991 | 0.005221          |                     | 17.399412       |"
      ]
     },
     "metadata": {},
     "output_type": "display_data"
    },
    {
     "data": {
      "text/html": [
       "<pre>| 8         | 27400    | 12971.988385 | 0.005219          |                     | 17.217075       |</pre>"
      ],
      "text/plain": [
       "| 8         | 27400    | 12971.988385 | 0.005219          |                     | 17.217075       |"
      ]
     },
     "metadata": {},
     "output_type": "display_data"
    },
    {
     "data": {
      "text/html": [
       "<pre>| 8         | 27600    | 12984.521739 | 0.005217          |                     | 15.957387       |</pre>"
      ],
      "text/plain": [
       "| 8         | 27600    | 12984.521739 | 0.005217          |                     | 15.957387       |"
      ]
     },
     "metadata": {},
     "output_type": "display_data"
    },
    {
     "data": {
      "text/html": [
       "<pre>| 8         | 27600    | 13244.490212 | 0.005217          | 0.005641            | 15.957387       |</pre>"
      ],
      "text/plain": [
       "| 8         | 27600    | 13244.490212 | 0.005217          | 0.005641            | 15.957387       |"
      ]
     },
     "metadata": {},
     "output_type": "display_data"
    },
    {
     "data": {
      "text/html": [
       "<pre>Checkpointing model into rep IDSIA by 1 conv graphlab net - train in 10 iters</pre>"
      ],
      "text/plain": [
       "Checkpointing model into rep IDSIA by 1 conv graphlab net - train in 10 iters"
      ]
     },
     "metadata": {},
     "output_type": "display_data"
    },
    {
     "data": {
      "text/html": [
       "<pre>| 9         | 200      | 13257.136752 | 0.005000          |                     | 15.814862       |</pre>"
      ],
      "text/plain": [
       "| 9         | 200      | 13257.136752 | 0.005000          |                     | 15.814862       |"
      ]
     },
     "metadata": {},
     "output_type": "display_data"
    },
    {
     "data": {
      "text/html": [
       "<pre>| 9         | 400      | 13268.633183 | 0.007500          |                     | 17.396732       |</pre>"
      ],
      "text/plain": [
       "| 9         | 400      | 13268.633183 | 0.007500          |                     | 17.396732       |"
      ]
     },
     "metadata": {},
     "output_type": "display_data"
    },
    {
     "data": {
      "text/html": [
       "<pre>| 9         | 600      | 13279.991200 | 0.006667          |                     | 17.608660       |</pre>"
      ],
      "text/plain": [
       "| 9         | 600      | 13279.991200 | 0.006667          |                     | 17.608660       |"
      ]
     },
     "metadata": {},
     "output_type": "display_data"
    },
    {
     "data": {
      "text/html": [
       "<pre>| 9         | 800      | 13291.895012 | 0.005000          |                     | 16.801373       |</pre>"
      ],
      "text/plain": [
       "| 9         | 800      | 13291.895012 | 0.005000          |                     | 16.801373       |"
      ]
     },
     "metadata": {},
     "output_type": "display_data"
    },
    {
     "data": {
      "text/html": [
       "<pre>| 9         | 1000     | 13304.402263 | 0.006000          |                     | 15.990709       |</pre>"
      ],
      "text/plain": [
       "| 9         | 1000     | 13304.402263 | 0.006000          |                     | 15.990709       |"
      ]
     },
     "metadata": {},
     "output_type": "display_data"
    },
    {
     "data": {
      "text/html": [
       "<pre>| 9         | 1200     | 13316.388358 | 0.006667          |                     | 16.686010       |</pre>"
      ],
      "text/plain": [
       "| 9         | 1200     | 13316.388358 | 0.006667          |                     | 16.686010       |"
      ]
     },
     "metadata": {},
     "output_type": "display_data"
    },
    {
     "data": {
      "text/html": [
       "<pre>| 9         | 1400     | 13327.535038 | 0.005714          |                     | 17.942591       |</pre>"
      ],
      "text/plain": [
       "| 9         | 1400     | 13327.535038 | 0.005714          |                     | 17.942591       |"
      ]
     },
     "metadata": {},
     "output_type": "display_data"
    },
    {
     "data": {
      "text/html": [
       "<pre>| 9         | 1600     | 13340.192933 | 0.005625          |                     | 15.800383       |</pre>"
      ],
      "text/plain": [
       "| 9         | 1600     | 13340.192933 | 0.005625          |                     | 15.800383       |"
      ]
     },
     "metadata": {},
     "output_type": "display_data"
    },
    {
     "data": {
      "text/html": [
       "<pre>| 9         | 1800     | 13351.821143 | 0.005556          |                     | 17.199564       |</pre>"
      ],
      "text/plain": [
       "| 9         | 1800     | 13351.821143 | 0.005556          |                     | 17.199564       |"
      ]
     },
     "metadata": {},
     "output_type": "display_data"
    },
    {
     "data": {
      "text/html": [
       "<pre>| 9         | 2000     | 13363.628564 | 0.005500          |                     | 16.938515       |</pre>"
      ],
      "text/plain": [
       "| 9         | 2000     | 13363.628564 | 0.005500          |                     | 16.938515       |"
      ]
     },
     "metadata": {},
     "output_type": "display_data"
    },
    {
     "data": {
      "text/html": [
       "<pre>| 9         | 2200     | 13375.353343 | 0.005000          |                     | 17.057896       |</pre>"
      ],
      "text/plain": [
       "| 9         | 2200     | 13375.353343 | 0.005000          |                     | 17.057896       |"
      ]
     },
     "metadata": {},
     "output_type": "display_data"
    },
    {
     "data": {
      "text/html": [
       "<pre>| 9         | 2400     | 13387.561233 | 0.005000          |                     | 16.382826       |</pre>"
      ],
      "text/plain": [
       "| 9         | 2400     | 13387.561233 | 0.005000          |                     | 16.382826       |"
      ]
     },
     "metadata": {},
     "output_type": "display_data"
    },
    {
     "data": {
      "text/html": [
       "<pre>| 9         | 2600     | 13399.945694 | 0.006154          |                     | 16.149252       |</pre>"
      ],
      "text/plain": [
       "| 9         | 2600     | 13399.945694 | 0.006154          |                     | 16.149252       |"
      ]
     },
     "metadata": {},
     "output_type": "display_data"
    },
    {
     "data": {
      "text/html": [
       "<pre>| 9         | 2800     | 13411.679628 | 0.006071          |                     | 17.044605       |</pre>"
      ],
      "text/plain": [
       "| 9         | 2800     | 13411.679628 | 0.006071          |                     | 17.044605       |"
      ]
     },
     "metadata": {},
     "output_type": "display_data"
    },
    {
     "data": {
      "text/html": [
       "<pre>| 9         | 3000     | 13423.835202 | 0.006000          |                     | 16.453362       |</pre>"
      ],
      "text/plain": [
       "| 9         | 3000     | 13423.835202 | 0.006000          |                     | 16.453362       |"
      ]
     },
     "metadata": {},
     "output_type": "display_data"
    },
    {
     "data": {
      "text/html": [
       "<pre>| 9         | 3200     | 13435.770837 | 0.005625          |                     | 16.756517       |</pre>"
      ],
      "text/plain": [
       "| 9         | 3200     | 13435.770837 | 0.005625          |                     | 16.756517       |"
      ]
     },
     "metadata": {},
     "output_type": "display_data"
    },
    {
     "data": {
      "text/html": [
       "<pre>| 9         | 3400     | 13447.169368 | 0.005294          |                     | 17.546118       |</pre>"
      ],
      "text/plain": [
       "| 9         | 3400     | 13447.169368 | 0.005294          |                     | 17.546118       |"
      ]
     },
     "metadata": {},
     "output_type": "display_data"
    },
    {
     "data": {
      "text/html": [
       "<pre>| 9         | 3600     | 13459.577504 | 0.005000          |                     | 16.118484       |</pre>"
      ],
      "text/plain": [
       "| 9         | 3600     | 13459.577504 | 0.005000          |                     | 16.118484       |"
      ]
     },
     "metadata": {},
     "output_type": "display_data"
    },
    {
     "data": {
      "text/html": [
       "<pre>| 9         | 3800     | 13471.040993 | 0.005000          |                     | 17.446684       |</pre>"
      ],
      "text/plain": [
       "| 9         | 3800     | 13471.040993 | 0.005000          |                     | 17.446684       |"
      ]
     },
     "metadata": {},
     "output_type": "display_data"
    },
    {
     "data": {
      "text/html": [
       "<pre>| 9         | 4000     | 13482.484159 | 0.005000          |                     | 17.477663       |</pre>"
      ],
      "text/plain": [
       "| 9         | 4000     | 13482.484159 | 0.005000          |                     | 17.477663       |"
      ]
     },
     "metadata": {},
     "output_type": "display_data"
    },
    {
     "data": {
      "text/html": [
       "<pre>| 9         | 4200     | 13495.081835 | 0.005476          |                     | 15.875942       |</pre>"
      ],
      "text/plain": [
       "| 9         | 4200     | 13495.081835 | 0.005476          |                     | 15.875942       |"
      ]
     },
     "metadata": {},
     "output_type": "display_data"
    },
    {
     "data": {
      "text/html": [
       "<pre>| 9         | 4400     | 13507.051833 | 0.005227          |                     | 16.708460       |</pre>"
      ],
      "text/plain": [
       "| 9         | 4400     | 13507.051833 | 0.005227          |                     | 16.708460       |"
      ]
     },
     "metadata": {},
     "output_type": "display_data"
    },
    {
     "data": {
      "text/html": [
       "<pre>| 9         | 4600     | 13518.585694 | 0.005000          |                     | 17.340263       |</pre>"
      ],
      "text/plain": [
       "| 9         | 4600     | 13518.585694 | 0.005000          |                     | 17.340263       |"
      ]
     },
     "metadata": {},
     "output_type": "display_data"
    },
    {
     "data": {
      "text/html": [
       "<pre>| 9         | 4800     | 13529.987889 | 0.005417          |                     | 17.540462       |</pre>"
      ],
      "text/plain": [
       "| 9         | 4800     | 13529.987889 | 0.005417          |                     | 17.540462       |"
      ]
     },
     "metadata": {},
     "output_type": "display_data"
    },
    {
     "data": {
      "text/html": [
       "<pre>| 9         | 5000     | 13542.333355 | 0.005600          |                     | 16.200279       |</pre>"
      ],
      "text/plain": [
       "| 9         | 5000     | 13542.333355 | 0.005600          |                     | 16.200279       |"
      ]
     },
     "metadata": {},
     "output_type": "display_data"
    },
    {
     "data": {
      "text/html": [
       "<pre>| 9         | 5200     | 13553.040851 | 0.005769          |                     | 18.678528       |</pre>"
      ],
      "text/plain": [
       "| 9         | 5200     | 13553.040851 | 0.005769          |                     | 18.678528       |"
      ]
     },
     "metadata": {},
     "output_type": "display_data"
    },
    {
     "data": {
      "text/html": [
       "<pre>| 9         | 5400     | 13564.287197 | 0.005926          |                     | 17.783512       |</pre>"
      ],
      "text/plain": [
       "| 9         | 5400     | 13564.287197 | 0.005926          |                     | 17.783512       |"
      ]
     },
     "metadata": {},
     "output_type": "display_data"
    },
    {
     "data": {
      "text/html": [
       "<pre>| 9         | 5600     | 13575.497633 | 0.005893          |                     | 17.840553       |</pre>"
      ],
      "text/plain": [
       "| 9         | 5600     | 13575.497633 | 0.005893          |                     | 17.840553       |"
      ]
     },
     "metadata": {},
     "output_type": "display_data"
    },
    {
     "data": {
      "text/html": [
       "<pre>| 9         | 5800     | 13588.319489 | 0.005862          |                     | 15.598349       |</pre>"
      ],
      "text/plain": [
       "| 9         | 5800     | 13588.319489 | 0.005862          |                     | 15.598349       |"
      ]
     },
     "metadata": {},
     "output_type": "display_data"
    },
    {
     "data": {
      "text/html": [
       "<pre>| 9         | 6000     | 13600.082458 | 0.005833          |                     | 17.002527       |</pre>"
      ],
      "text/plain": [
       "| 9         | 6000     | 13600.082458 | 0.005833          |                     | 17.002527       |"
      ]
     },
     "metadata": {},
     "output_type": "display_data"
    },
    {
     "data": {
      "text/html": [
       "<pre>| 9         | 6200     | 13611.599703 | 0.006129          |                     | 17.365271       |</pre>"
      ],
      "text/plain": [
       "| 9         | 6200     | 13611.599703 | 0.006129          |                     | 17.365271       |"
      ]
     },
     "metadata": {},
     "output_type": "display_data"
    },
    {
     "data": {
      "text/html": [
       "<pre>| 9         | 6400     | 13623.641131 | 0.006250          |                     | 16.609299       |</pre>"
      ],
      "text/plain": [
       "| 9         | 6400     | 13623.641131 | 0.006250          |                     | 16.609299       |"
      ]
     },
     "metadata": {},
     "output_type": "display_data"
    },
    {
     "data": {
      "text/html": [
       "<pre>| 9         | 6600     | 13635.686078 | 0.006061          |                     | 16.604469       |</pre>"
      ],
      "text/plain": [
       "| 9         | 6600     | 13635.686078 | 0.006061          |                     | 16.604469       |"
      ]
     },
     "metadata": {},
     "output_type": "display_data"
    },
    {
     "data": {
      "text/html": [
       "<pre>| 9         | 6800     | 13647.670802 | 0.006029          |                     | 16.687946       |</pre>"
      ],
      "text/plain": [
       "| 9         | 6800     | 13647.670802 | 0.006029          |                     | 16.687946       |"
      ]
     },
     "metadata": {},
     "output_type": "display_data"
    },
    {
     "data": {
      "text/html": [
       "<pre>| 9         | 7000     | 13658.530493 | 0.005857          |                     | 18.416689       |</pre>"
      ],
      "text/plain": [
       "| 9         | 7000     | 13658.530493 | 0.005857          |                     | 18.416689       |"
      ]
     },
     "metadata": {},
     "output_type": "display_data"
    },
    {
     "data": {
      "text/html": [
       "<pre>| 9         | 7200     | 13671.192612 | 0.005972          |                     | 15.795164       |</pre>"
      ],
      "text/plain": [
       "| 9         | 7200     | 13671.192612 | 0.005972          |                     | 15.795164       |"
      ]
     },
     "metadata": {},
     "output_type": "display_data"
    },
    {
     "data": {
      "text/html": [
       "<pre>| 9         | 7400     | 13683.375360 | 0.005811          |                     | 16.416639       |</pre>"
      ],
      "text/plain": [
       "| 9         | 7400     | 13683.375360 | 0.005811          |                     | 16.416639       |"
      ]
     },
     "metadata": {},
     "output_type": "display_data"
    },
    {
     "data": {
      "text/html": [
       "<pre>| 9         | 7600     | 13694.704845 | 0.005658          |                     | 17.653074       |</pre>"
      ],
      "text/plain": [
       "| 9         | 7600     | 13694.704845 | 0.005658          |                     | 17.653074       |"
      ]
     },
     "metadata": {},
     "output_type": "display_data"
    },
    {
     "data": {
      "text/html": [
       "<pre>| 9         | 7800     | 13706.721620 | 0.005641          |                     | 16.643415       |</pre>"
      ],
      "text/plain": [
       "| 9         | 7800     | 13706.721620 | 0.005641          |                     | 16.643415       |"
      ]
     },
     "metadata": {},
     "output_type": "display_data"
    },
    {
     "data": {
      "text/html": [
       "<pre>| 9         | 8000     | 13718.701081 | 0.005875          |                     | 16.695210       |</pre>"
      ],
      "text/plain": [
       "| 9         | 8000     | 13718.701081 | 0.005875          |                     | 16.695210       |"
      ]
     },
     "metadata": {},
     "output_type": "display_data"
    },
    {
     "data": {
      "text/html": [
       "<pre>| 9         | 8200     | 13729.875934 | 0.005732          |                     | 17.897469       |</pre>"
      ],
      "text/plain": [
       "| 9         | 8200     | 13729.875934 | 0.005732          |                     | 17.897469       |"
      ]
     },
     "metadata": {},
     "output_type": "display_data"
    },
    {
     "data": {
      "text/html": [
       "<pre>| 9         | 8400     | 13741.821298 | 0.005714          |                     | 16.742807       |</pre>"
      ],
      "text/plain": [
       "| 9         | 8400     | 13741.821298 | 0.005714          |                     | 16.742807       |"
      ]
     },
     "metadata": {},
     "output_type": "display_data"
    },
    {
     "data": {
      "text/html": [
       "<pre>| 9         | 8600     | 13753.981647 | 0.005698          |                     | 16.446859       |</pre>"
      ],
      "text/plain": [
       "| 9         | 8600     | 13753.981647 | 0.005698          |                     | 16.446859       |"
      ]
     },
     "metadata": {},
     "output_type": "display_data"
    },
    {
     "data": {
      "text/html": [
       "<pre>| 9         | 8800     | 13765.094006 | 0.005909          |                     | 17.998007       |</pre>"
      ],
      "text/plain": [
       "| 9         | 8800     | 13765.094006 | 0.005909          |                     | 17.998007       |"
      ]
     },
     "metadata": {},
     "output_type": "display_data"
    },
    {
     "data": {
      "text/html": [
       "<pre>| 9         | 9000     | 13777.197806 | 0.005778          |                     | 16.523724       |</pre>"
      ],
      "text/plain": [
       "| 9         | 9000     | 13777.197806 | 0.005778          |                     | 16.523724       |"
      ]
     },
     "metadata": {},
     "output_type": "display_data"
    },
    {
     "data": {
      "text/html": [
       "<pre>| 9         | 9200     | 13789.459354 | 0.005761          |                     | 16.311180       |</pre>"
      ],
      "text/plain": [
       "| 9         | 9200     | 13789.459354 | 0.005761          |                     | 16.311180       |"
      ]
     },
     "metadata": {},
     "output_type": "display_data"
    },
    {
     "data": {
      "text/html": [
       "<pre>| 9         | 9400     | 13801.459473 | 0.005745          |                     | 16.666500       |</pre>"
      ],
      "text/plain": [
       "| 9         | 9400     | 13801.459473 | 0.005745          |                     | 16.666500       |"
      ]
     },
     "metadata": {},
     "output_type": "display_data"
    },
    {
     "data": {
      "text/html": [
       "<pre>| 9         | 9600     | 13813.119272 | 0.005937          |                     | 17.152933       |</pre>"
      ],
      "text/plain": [
       "| 9         | 9600     | 13813.119272 | 0.005937          |                     | 17.152933       |"
      ]
     },
     "metadata": {},
     "output_type": "display_data"
    },
    {
     "data": {
      "text/html": [
       "<pre>| 9         | 9800     | 13824.884402 | 0.005918          |                     | 16.999407       |</pre>"
      ],
      "text/plain": [
       "| 9         | 9800     | 13824.884402 | 0.005918          |                     | 16.999407       |"
      ]
     },
     "metadata": {},
     "output_type": "display_data"
    },
    {
     "data": {
      "text/html": [
       "<pre>| 9         | 10000    | 13837.672886 | 0.005800          |                     | 15.639072       |</pre>"
      ],
      "text/plain": [
       "| 9         | 10000    | 13837.672886 | 0.005800          |                     | 15.639072       |"
      ]
     },
     "metadata": {},
     "output_type": "display_data"
    },
    {
     "data": {
      "text/html": [
       "<pre>| 9         | 10200    | 13849.285328 | 0.005686          |                     | 17.222876       |</pre>"
      ],
      "text/plain": [
       "| 9         | 10200    | 13849.285328 | 0.005686          |                     | 17.222876       |"
      ]
     },
     "metadata": {},
     "output_type": "display_data"
    },
    {
     "data": {
      "text/html": [
       "<pre>| 9         | 10400    | 13860.776914 | 0.005577          |                     | 17.404081       |</pre>"
      ],
      "text/plain": [
       "| 9         | 10400    | 13860.776914 | 0.005577          |                     | 17.404081       |"
      ]
     },
     "metadata": {},
     "output_type": "display_data"
    },
    {
     "data": {
      "text/html": [
       "<pre>| 9         | 10600    | 13873.040391 | 0.005660          |                     | 16.308580       |</pre>"
      ],
      "text/plain": [
       "| 9         | 10600    | 13873.040391 | 0.005660          |                     | 16.308580       |"
      ]
     },
     "metadata": {},
     "output_type": "display_data"
    },
    {
     "data": {
      "text/html": [
       "<pre>| 9         | 10800    | 13884.969023 | 0.005741          |                     | 16.766380       |</pre>"
      ],
      "text/plain": [
       "| 9         | 10800    | 13884.969023 | 0.005741          |                     | 16.766380       |"
      ]
     },
     "metadata": {},
     "output_type": "display_data"
    },
    {
     "data": {
      "text/html": [
       "<pre>| 9         | 11000    | 13896.704701 | 0.005636          |                     | 17.042048       |</pre>"
      ],
      "text/plain": [
       "| 9         | 11000    | 13896.704701 | 0.005636          |                     | 17.042048       |"
      ]
     },
     "metadata": {},
     "output_type": "display_data"
    },
    {
     "data": {
      "text/html": [
       "<pre>| 9         | 11200    | 13909.050069 | 0.005714          |                     | 16.200401       |</pre>"
      ],
      "text/plain": [
       "| 9         | 11200    | 13909.050069 | 0.005714          |                     | 16.200401       |"
      ]
     },
     "metadata": {},
     "output_type": "display_data"
    },
    {
     "data": {
      "text/html": [
       "<pre>| 9         | 11400    | 13921.239988 | 0.005614          |                     | 16.406986       |</pre>"
      ],
      "text/plain": [
       "| 9         | 11400    | 13921.239988 | 0.005614          |                     | 16.406986       |"
      ]
     },
     "metadata": {},
     "output_type": "display_data"
    },
    {
     "data": {
      "text/html": [
       "<pre>| 9         | 11600    | 13932.973594 | 0.005603          |                     | 17.045076       |</pre>"
      ],
      "text/plain": [
       "| 9         | 11600    | 13932.973594 | 0.005603          |                     | 17.045076       |"
      ]
     },
     "metadata": {},
     "output_type": "display_data"
    },
    {
     "data": {
      "text/html": [
       "<pre>| 9         | 11800    | 13944.526056 | 0.005508          |                     | 17.312328       |</pre>"
      ],
      "text/plain": [
       "| 9         | 11800    | 13944.526056 | 0.005508          |                     | 17.312328       |"
      ]
     },
     "metadata": {},
     "output_type": "display_data"
    },
    {
     "data": {
      "text/html": [
       "<pre>| 9         | 12000    | 13956.946302 | 0.005417          |                     | 16.102726       |</pre>"
      ],
      "text/plain": [
       "| 9         | 12000    | 13956.946302 | 0.005417          |                     | 16.102726       |"
      ]
     },
     "metadata": {},
     "output_type": "display_data"
    },
    {
     "data": {
      "text/html": [
       "<pre>| 9         | 12200    | 13969.061252 | 0.005410          |                     | 16.508524       |</pre>"
      ],
      "text/plain": [
       "| 9         | 12200    | 13969.061252 | 0.005410          |                     | 16.508524       |"
      ]
     },
     "metadata": {},
     "output_type": "display_data"
    },
    {
     "data": {
      "text/html": [
       "<pre>| 9         | 12400    | 13980.358674 | 0.005323          |                     | 17.703175       |</pre>"
      ],
      "text/plain": [
       "| 9         | 12400    | 13980.358674 | 0.005323          |                     | 17.703175       |"
      ]
     },
     "metadata": {},
     "output_type": "display_data"
    },
    {
     "data": {
      "text/html": [
       "<pre>| 9         | 12600    | 13992.172977 | 0.005476          |                     | 16.928642       |</pre>"
      ],
      "text/plain": [
       "| 9         | 12600    | 13992.172977 | 0.005476          |                     | 16.928642       |"
      ]
     },
     "metadata": {},
     "output_type": "display_data"
    },
    {
     "data": {
      "text/html": [
       "<pre>| 9         | 12800    | 14004.485217 | 0.005703          |                     | 16.243971       |</pre>"
      ],
      "text/plain": [
       "| 9         | 12800    | 14004.485217 | 0.005703          |                     | 16.243971       |"
      ]
     },
     "metadata": {},
     "output_type": "display_data"
    },
    {
     "data": {
      "text/html": [
       "<pre>| 9         | 13000    | 14016.136330 | 0.005769          |                     | 17.165737       |</pre>"
      ],
      "text/plain": [
       "| 9         | 13000    | 14016.136330 | 0.005769          |                     | 17.165737       |"
      ]
     },
     "metadata": {},
     "output_type": "display_data"
    },
    {
     "data": {
      "text/html": [
       "<pre>| 9         | 13200    | 14027.662098 | 0.005909          |                     | 17.352446       |</pre>"
      ],
      "text/plain": [
       "| 9         | 13200    | 14027.662098 | 0.005909          |                     | 17.352446       |"
      ]
     },
     "metadata": {},
     "output_type": "display_data"
    },
    {
     "data": {
      "text/html": [
       "<pre>| 9         | 13400    | 14040.198527 | 0.005821          |                     | 15.953515       |</pre>"
      ],
      "text/plain": [
       "| 9         | 13400    | 14040.198527 | 0.005821          |                     | 15.953515       |"
      ]
     },
     "metadata": {},
     "output_type": "display_data"
    },
    {
     "data": {
      "text/html": [
       "<pre>| 9         | 13600    | 14051.708817 | 0.005735          |                     | 17.375746       |</pre>"
      ],
      "text/plain": [
       "| 9         | 13600    | 14051.708817 | 0.005735          |                     | 17.375746       |"
      ]
     },
     "metadata": {},
     "output_type": "display_data"
    },
    {
     "data": {
      "text/html": [
       "<pre>| 9         | 13800    | 14063.678981 | 0.005725          |                     | 16.708187       |</pre>"
      ],
      "text/plain": [
       "| 9         | 13800    | 14063.678981 | 0.005725          |                     | 16.708187       |"
      ]
     },
     "metadata": {},
     "output_type": "display_data"
    },
    {
     "data": {
      "text/html": [
       "<pre>| 9         | 14000    | 14075.444467 | 0.005714          |                     | 16.998899       |</pre>"
      ],
      "text/plain": [
       "| 9         | 14000    | 14075.444467 | 0.005714          |                     | 16.998899       |"
      ]
     },
     "metadata": {},
     "output_type": "display_data"
    },
    {
     "data": {
      "text/html": [
       "<pre>| 9         | 14200    | 14087.347789 | 0.005704          |                     | 16.802036       |</pre>"
      ],
      "text/plain": [
       "| 9         | 14200    | 14087.347789 | 0.005704          |                     | 16.802036       |"
      ]
     },
     "metadata": {},
     "output_type": "display_data"
    },
    {
     "data": {
      "text/html": [
       "<pre>| 9         | 14400    | 14099.540992 | 0.005694          |                     | 16.402552       |</pre>"
      ],
      "text/plain": [
       "| 9         | 14400    | 14099.540992 | 0.005694          |                     | 16.402552       |"
      ]
     },
     "metadata": {},
     "output_type": "display_data"
    },
    {
     "data": {
      "text/html": [
       "<pre>| 9         | 14600    | 14110.752680 | 0.005685          |                     | 17.838545       |</pre>"
      ],
      "text/plain": [
       "| 9         | 14600    | 14110.752680 | 0.005685          |                     | 17.838545       |"
      ]
     },
     "metadata": {},
     "output_type": "display_data"
    },
    {
     "data": {
      "text/html": [
       "<pre>| 9         | 14800    | 14123.521987 | 0.005676          |                     | 15.662568       |</pre>"
      ],
      "text/plain": [
       "| 9         | 14800    | 14123.521987 | 0.005676          |                     | 15.662568       |"
      ]
     },
     "metadata": {},
     "output_type": "display_data"
    },
    {
     "data": {
      "text/html": [
       "<pre>| 9         | 15000    | 14135.254885 | 0.005733          |                     | 17.046064       |</pre>"
      ],
      "text/plain": [
       "| 9         | 15000    | 14135.254885 | 0.005733          |                     | 17.046064       |"
      ]
     },
     "metadata": {},
     "output_type": "display_data"
    },
    {
     "data": {
      "text/html": [
       "<pre>| 9         | 15200    | 14147.006168 | 0.005724          |                     | 17.019436       |</pre>"
      ],
      "text/plain": [
       "| 9         | 15200    | 14147.006168 | 0.005724          |                     | 17.019436       |"
      ]
     },
     "metadata": {},
     "output_type": "display_data"
    },
    {
     "data": {
      "text/html": [
       "<pre>| 9         | 15400    | 14159.477670 | 0.005714          |                     | 16.036556       |</pre>"
      ],
      "text/plain": [
       "| 9         | 15400    | 14159.477670 | 0.005714          |                     | 16.036556       |"
      ]
     },
     "metadata": {},
     "output_type": "display_data"
    },
    {
     "data": {
      "text/html": [
       "<pre>| 9         | 15600    | 14171.447324 | 0.005705          |                     | 16.708921       |</pre>"
      ],
      "text/plain": [
       "| 9         | 15600    | 14171.447324 | 0.005705          |                     | 16.708921       |"
      ]
     },
     "metadata": {},
     "output_type": "display_data"
    },
    {
     "data": {
      "text/html": [
       "<pre>| 9         | 15800    | 14183.099906 | 0.005633          |                     | 17.163574       |</pre>"
      ],
      "text/plain": [
       "| 9         | 15800    | 14183.099906 | 0.005633          |                     | 17.163574       |"
      ]
     },
     "metadata": {},
     "output_type": "display_data"
    },
    {
     "data": {
      "text/html": [
       "<pre>| 9         | 16000    | 14195.774195 | 0.005687          |                     | 15.779988       |</pre>"
      ],
      "text/plain": [
       "| 9         | 16000    | 14195.774195 | 0.005687          |                     | 15.779988       |"
      ]
     },
     "metadata": {},
     "output_type": "display_data"
    },
    {
     "data": {
      "text/html": [
       "<pre>| 9         | 16200    | 14207.957488 | 0.005741          |                     | 16.415911       |</pre>"
      ],
      "text/plain": [
       "| 9         | 16200    | 14207.957488 | 0.005741          |                     | 16.415911       |"
      ]
     },
     "metadata": {},
     "output_type": "display_data"
    },
    {
     "data": {
      "text/html": [
       "<pre>| 9         | 16400    | 14219.978702 | 0.005732          |                     | 16.637264       |</pre>"
      ],
      "text/plain": [
       "| 9         | 16400    | 14219.978702 | 0.005732          |                     | 16.637264       |"
      ]
     },
     "metadata": {},
     "output_type": "display_data"
    },
    {
     "data": {
      "text/html": [
       "<pre>| 9         | 16600    | 14231.290068 | 0.005843          |                     | 17.681286       |</pre>"
      ],
      "text/plain": [
       "| 9         | 16600    | 14231.290068 | 0.005843          |                     | 17.681286       |"
      ]
     },
     "metadata": {},
     "output_type": "display_data"
    },
    {
     "data": {
      "text/html": [
       "<pre>| 9         | 16800    | 14243.595285 | 0.005774          |                     | 16.253298       |</pre>"
      ],
      "text/plain": [
       "| 9         | 16800    | 14243.595285 | 0.005774          |                     | 16.253298       |"
      ]
     },
     "metadata": {},
     "output_type": "display_data"
    },
    {
     "data": {
      "text/html": [
       "<pre>| 9         | 17000    | 14255.458000 | 0.005765          |                     | 16.859549       |</pre>"
      ],
      "text/plain": [
       "| 9         | 17000    | 14255.458000 | 0.005765          |                     | 16.859549       |"
      ]
     },
     "metadata": {},
     "output_type": "display_data"
    },
    {
     "data": {
      "text/html": [
       "<pre>| 9         | 17200    | 14266.696305 | 0.005756          |                     | 17.796247       |</pre>"
      ],
      "text/plain": [
       "| 9         | 17200    | 14266.696305 | 0.005756          |                     | 17.796247       |"
      ]
     },
     "metadata": {},
     "output_type": "display_data"
    },
    {
     "data": {
      "text/html": [
       "<pre>| 9         | 17400    | 14277.773093 | 0.005805          |                     | 18.055811       |</pre>"
      ],
      "text/plain": [
       "| 9         | 17400    | 14277.773093 | 0.005805          |                     | 18.055811       |"
      ]
     },
     "metadata": {},
     "output_type": "display_data"
    },
    {
     "data": {
      "text/html": [
       "<pre>| 9         | 17600    | 14290.268391 | 0.005852          |                     | 16.006008       |</pre>"
      ],
      "text/plain": [
       "| 9         | 17600    | 14290.268391 | 0.005852          |                     | 16.006008       |"
      ]
     },
     "metadata": {},
     "output_type": "display_data"
    },
    {
     "data": {
      "text/html": [
       "<pre>| 9         | 17800    | 14301.371331 | 0.005787          |                     | 18.013229       |</pre>"
      ],
      "text/plain": [
       "| 9         | 17800    | 14301.371331 | 0.005787          |                     | 18.013229       |"
      ]
     },
     "metadata": {},
     "output_type": "display_data"
    },
    {
     "data": {
      "text/html": [
       "<pre>| 9         | 18000    | 14313.526389 | 0.005833          |                     | 16.454065       |</pre>"
      ],
      "text/plain": [
       "| 9         | 18000    | 14313.526389 | 0.005833          |                     | 16.454065       |"
      ]
     },
     "metadata": {},
     "output_type": "display_data"
    },
    {
     "data": {
      "text/html": [
       "<pre>| 9         | 18200    | 14325.864663 | 0.005769          |                     | 16.209743       |</pre>"
      ],
      "text/plain": [
       "| 9         | 18200    | 14325.864663 | 0.005769          |                     | 16.209743       |"
      ]
     },
     "metadata": {},
     "output_type": "display_data"
    },
    {
     "data": {
      "text/html": [
       "<pre>| 9         | 18400    | 14337.942260 | 0.005761          |                     | 16.559551       |</pre>"
      ],
      "text/plain": [
       "| 9         | 18400    | 14337.942260 | 0.005761          |                     | 16.559551       |"
      ]
     },
     "metadata": {},
     "output_type": "display_data"
    },
    {
     "data": {
      "text/html": [
       "<pre>| 9         | 18600    | 14350.124376 | 0.005914          |                     | 16.417521       |</pre>"
      ],
      "text/plain": [
       "| 9         | 18600    | 14350.124376 | 0.005914          |                     | 16.417521       |"
      ]
     },
     "metadata": {},
     "output_type": "display_data"
    },
    {
     "data": {
      "text/html": [
       "<pre>| 9         | 18800    | 14361.958817 | 0.005851          |                     | 16.899849       |</pre>"
      ],
      "text/plain": [
       "| 9         | 18800    | 14361.958817 | 0.005851          |                     | 16.899849       |"
      ]
     },
     "metadata": {},
     "output_type": "display_data"
    },
    {
     "data": {
      "text/html": [
       "<pre>| 9         | 19000    | 14374.372528 | 0.005789          |                     | 16.111216       |</pre>"
      ],
      "text/plain": [
       "| 9         | 19000    | 14374.372528 | 0.005789          |                     | 16.111216       |"
      ]
     },
     "metadata": {},
     "output_type": "display_data"
    },
    {
     "data": {
      "text/html": [
       "<pre>| 9         | 19200    | 14385.564391 | 0.005781          |                     | 17.870102       |</pre>"
      ],
      "text/plain": [
       "| 9         | 19200    | 14385.564391 | 0.005781          |                     | 17.870102       |"
      ]
     },
     "metadata": {},
     "output_type": "display_data"
    },
    {
     "data": {
      "text/html": [
       "<pre>| 9         | 19400    | 14397.032161 | 0.005722          |                     | 17.440166       |</pre>"
      ],
      "text/plain": [
       "| 9         | 19400    | 14397.032161 | 0.005722          |                     | 17.440166       |"
      ]
     },
     "metadata": {},
     "output_type": "display_data"
    },
    {
     "data": {
      "text/html": [
       "<pre>| 9         | 19600    | 14409.973203 | 0.005663          |                     | 15.454743       |</pre>"
      ],
      "text/plain": [
       "| 9         | 19600    | 14409.973203 | 0.005663          |                     | 15.454743       |"
      ]
     },
     "metadata": {},
     "output_type": "display_data"
    },
    {
     "data": {
      "text/html": [
       "<pre>| 9         | 19800    | 14421.811552 | 0.005657          |                     | 16.894218       |</pre>"
      ],
      "text/plain": [
       "| 9         | 19800    | 14421.811552 | 0.005657          |                     | 16.894218       |"
      ]
     },
     "metadata": {},
     "output_type": "display_data"
    },
    {
     "data": {
      "text/html": [
       "<pre>| 9         | 20000    | 14433.376321 | 0.005600          |                     | 17.293930       |</pre>"
      ],
      "text/plain": [
       "| 9         | 20000    | 14433.376321 | 0.005600          |                     | 17.293930       |"
      ]
     },
     "metadata": {},
     "output_type": "display_data"
    },
    {
     "data": {
      "text/html": [
       "<pre>| 9         | 20200    | 14445.601699 | 0.005594          |                     | 16.359413       |</pre>"
      ],
      "text/plain": [
       "| 9         | 20200    | 14445.601699 | 0.005594          |                     | 16.359413       |"
      ]
     },
     "metadata": {},
     "output_type": "display_data"
    },
    {
     "data": {
      "text/html": [
       "<pre>| 9         | 20400    | 14457.528981 | 0.005588          |                     | 16.768257       |</pre>"
      ],
      "text/plain": [
       "| 9         | 20400    | 14457.528981 | 0.005588          |                     | 16.768257       |"
      ]
     },
     "metadata": {},
     "output_type": "display_data"
    },
    {
     "data": {
      "text/html": [
       "<pre>| 9         | 20600    | 14469.045924 | 0.005583          |                     | 17.365749       |</pre>"
      ],
      "text/plain": [
       "| 9         | 20600    | 14469.045924 | 0.005583          |                     | 17.365749       |"
      ]
     },
     "metadata": {},
     "output_type": "display_data"
    },
    {
     "data": {
      "text/html": [
       "<pre>| 9         | 20800    | 14480.520042 | 0.005625          |                     | 17.430540       |</pre>"
      ],
      "text/plain": [
       "| 9         | 20800    | 14480.520042 | 0.005625          |                     | 17.430540       |"
      ]
     },
     "metadata": {},
     "output_type": "display_data"
    },
    {
     "data": {
      "text/html": [
       "<pre>| 9         | 21000    | 14492.867072 | 0.005619          |                     | 16.198181       |</pre>"
      ],
      "text/plain": [
       "| 9         | 21000    | 14492.867072 | 0.005619          |                     | 16.198181       |"
      ]
     },
     "metadata": {},
     "output_type": "display_data"
    },
    {
     "data": {
      "text/html": [
       "<pre>| 9         | 21200    | 14504.849489 | 0.005660          |                     | 16.691153       |</pre>"
      ],
      "text/plain": [
       "| 9         | 21200    | 14504.849489 | 0.005660          |                     | 16.691153       |"
      ]
     },
     "metadata": {},
     "output_type": "display_data"
    },
    {
     "data": {
      "text/html": [
       "<pre>| 9         | 21400    | 14516.226630 | 0.005654          |                     | 17.579094       |</pre>"
      ],
      "text/plain": [
       "| 9         | 21400    | 14516.226630 | 0.005654          |                     | 17.579094       |"
      ]
     },
     "metadata": {},
     "output_type": "display_data"
    },
    {
     "data": {
      "text/html": [
       "<pre>| 9         | 21600    | 14528.417420 | 0.005602          |                     | 16.405842       |</pre>"
      ],
      "text/plain": [
       "| 9         | 21600    | 14528.417420 | 0.005602          |                     | 16.405842       |"
      ]
     },
     "metadata": {},
     "output_type": "display_data"
    },
    {
     "data": {
      "text/html": [
       "<pre>| 9         | 21800    | 14540.468437 | 0.005596          |                     | 16.596115       |</pre>"
      ],
      "text/plain": [
       "| 9         | 21800    | 14540.468437 | 0.005596          |                     | 16.596115       |"
      ]
     },
     "metadata": {},
     "output_type": "display_data"
    },
    {
     "data": {
      "text/html": [
       "<pre>| 9         | 22000    | 14551.870774 | 0.005545          |                     | 17.540237       |</pre>"
      ],
      "text/plain": [
       "| 9         | 22000    | 14551.870774 | 0.005545          |                     | 17.540237       |"
      ]
     },
     "metadata": {},
     "output_type": "display_data"
    },
    {
     "data": {
      "text/html": [
       "<pre>| 9         | 22200    | 14563.632385 | 0.005541          |                     | 17.004511       |</pre>"
      ],
      "text/plain": [
       "| 9         | 22200    | 14563.632385 | 0.005541          |                     | 17.004511       |"
      ]
     },
     "metadata": {},
     "output_type": "display_data"
    },
    {
     "data": {
      "text/html": [
       "<pre>| 9         | 22400    | 14576.015417 | 0.005536          |                     | 16.151104       |</pre>"
      ],
      "text/plain": [
       "| 9         | 22400    | 14576.015417 | 0.005536          |                     | 16.151104       |"
      ]
     },
     "metadata": {},
     "output_type": "display_data"
    },
    {
     "data": {
      "text/html": [
       "<pre>| 9         | 22600    | 14587.312117 | 0.005531          |                     | 17.704271       |</pre>"
      ],
      "text/plain": [
       "| 9         | 22600    | 14587.312117 | 0.005531          |                     | 17.704271       |"
      ]
     },
     "metadata": {},
     "output_type": "display_data"
    },
    {
     "data": {
      "text/html": [
       "<pre>| 9         | 22800    | 14599.157202 | 0.005526          |                     | 16.884640       |</pre>"
      ],
      "text/plain": [
       "| 9         | 22800    | 14599.157202 | 0.005526          |                     | 16.884640       |"
      ]
     },
     "metadata": {},
     "output_type": "display_data"
    },
    {
     "data": {
      "text/html": [
       "<pre>| 9         | 23000    | 14611.647714 | 0.005478          |                     | 16.012190       |</pre>"
      ],
      "text/plain": [
       "| 9         | 23000    | 14611.647714 | 0.005478          |                     | 16.012190       |"
      ]
     },
     "metadata": {},
     "output_type": "display_data"
    },
    {
     "data": {
      "text/html": [
       "<pre>| 9         | 23200    | 14622.520004 | 0.005431          |                     | 18.395382       |</pre>"
      ],
      "text/plain": [
       "| 9         | 23200    | 14622.520004 | 0.005431          |                     | 18.395382       |"
      ]
     },
     "metadata": {},
     "output_type": "display_data"
    },
    {
     "data": {
      "text/html": [
       "<pre>| 9         | 23400    | 14634.992253 | 0.005427          |                     | 16.035593       |</pre>"
      ],
      "text/plain": [
       "| 9         | 23400    | 14634.992253 | 0.005427          |                     | 16.035593       |"
      ]
     },
     "metadata": {},
     "output_type": "display_data"
    },
    {
     "data": {
      "text/html": [
       "<pre>| 9         | 23600    | 14646.914265 | 0.005424          |                     | 16.775703       |</pre>"
      ],
      "text/plain": [
       "| 9         | 23600    | 14646.914265 | 0.005424          |                     | 16.775703       |"
      ]
     },
     "metadata": {},
     "output_type": "display_data"
    },
    {
     "data": {
      "text/html": [
       "<pre>| 9         | 23800    | 14659.233570 | 0.005420          |                     | 16.234650       |</pre>"
      ],
      "text/plain": [
       "| 9         | 23800    | 14659.233570 | 0.005420          |                     | 16.234650       |"
      ]
     },
     "metadata": {},
     "output_type": "display_data"
    },
    {
     "data": {
      "text/html": [
       "<pre>| 9         | 24000    | 14671.015237 | 0.005417          |                     | 16.975554       |</pre>"
      ],
      "text/plain": [
       "| 9         | 24000    | 14671.015237 | 0.005417          |                     | 16.975554       |"
      ]
     },
     "metadata": {},
     "output_type": "display_data"
    },
    {
     "data": {
      "text/html": [
       "<pre>| 9         | 24200    | 14682.190927 | 0.005372          |                     | 17.895983       |</pre>"
      ],
      "text/plain": [
       "| 9         | 24200    | 14682.190927 | 0.005372          |                     | 17.895983       |"
      ]
     },
     "metadata": {},
     "output_type": "display_data"
    },
    {
     "data": {
      "text/html": [
       "<pre>| 9         | 24400    | 14694.888433 | 0.005369          |                     | 15.751099       |</pre>"
      ],
      "text/plain": [
       "| 9         | 24400    | 14694.888433 | 0.005369          |                     | 15.751099       |"
      ]
     },
     "metadata": {},
     "output_type": "display_data"
    },
    {
     "data": {
      "text/html": [
       "<pre>| 9         | 24600    | 14705.935034 | 0.005407          |                     | 18.105131       |</pre>"
      ],
      "text/plain": [
       "| 9         | 24600    | 14705.935034 | 0.005407          |                     | 18.105131       |"
      ]
     },
     "metadata": {},
     "output_type": "display_data"
    },
    {
     "data": {
      "text/html": [
       "<pre>| 9         | 24800    | 14716.934029 | 0.005363          |                     | 18.183523       |</pre>"
      ],
      "text/plain": [
       "| 9         | 24800    | 14716.934029 | 0.005363          |                     | 18.183523       |"
      ]
     },
     "metadata": {},
     "output_type": "display_data"
    },
    {
     "data": {
      "text/html": [
       "<pre>| 9         | 25000    | 14729.032577 | 0.005360          |                     | 16.530901       |</pre>"
      ],
      "text/plain": [
       "| 9         | 25000    | 14729.032577 | 0.005360          |                     | 16.530901       |"
      ]
     },
     "metadata": {},
     "output_type": "display_data"
    },
    {
     "data": {
      "text/html": [
       "<pre>| 9         | 25200    | 14741.368376 | 0.005397          |                     | 16.212961       |</pre>"
      ],
      "text/plain": [
       "| 9         | 25200    | 14741.368376 | 0.005397          |                     | 16.212961       |"
      ]
     },
     "metadata": {},
     "output_type": "display_data"
    },
    {
     "data": {
      "text/html": [
       "<pre>| 9         | 25400    | 14753.570781 | 0.005394          |                     | 16.390219       |</pre>"
      ],
      "text/plain": [
       "| 9         | 25400    | 14753.570781 | 0.005394          |                     | 16.390219       |"
      ]
     },
     "metadata": {},
     "output_type": "display_data"
    },
    {
     "data": {
      "text/html": [
       "<pre>| 9         | 25600    | 14765.338999 | 0.005352          |                     | 16.994926       |</pre>"
      ],
      "text/plain": [
       "| 9         | 25600    | 14765.338999 | 0.005352          |                     | 16.994926       |"
      ]
     },
     "metadata": {},
     "output_type": "display_data"
    },
    {
     "data": {
      "text/html": [
       "<pre>| 9         | 25800    | 14777.876904 | 0.005310          |                     | 15.951601       |</pre>"
      ],
      "text/plain": [
       "| 9         | 25800    | 14777.876904 | 0.005310          |                     | 15.951601       |"
      ]
     },
     "metadata": {},
     "output_type": "display_data"
    },
    {
     "data": {
      "text/html": [
       "<pre>| 9         | 26000    | 14790.034433 | 0.005308          |                     | 16.450722       |</pre>"
      ],
      "text/plain": [
       "| 9         | 26000    | 14790.034433 | 0.005308          |                     | 16.450722       |"
      ]
     },
     "metadata": {},
     "output_type": "display_data"
    },
    {
     "data": {
      "text/html": [
       "<pre>| 9         | 26200    | 14801.873407 | 0.005305          |                     | 16.893343       |</pre>"
      ],
      "text/plain": [
       "| 9         | 26200    | 14801.873407 | 0.005305          |                     | 16.893343       |"
      ]
     },
     "metadata": {},
     "output_type": "display_data"
    },
    {
     "data": {
      "text/html": [
       "<pre>| 9         | 26400    | 14814.152450 | 0.005265          |                     | 16.287947       |</pre>"
      ],
      "text/plain": [
       "| 9         | 26400    | 14814.152450 | 0.005265          |                     | 16.287947       |"
      ]
     },
     "metadata": {},
     "output_type": "display_data"
    },
    {
     "data": {
      "text/html": [
       "<pre>| 9         | 26600    | 14826.297030 | 0.005263          |                     | 16.468220       |</pre>"
      ],
      "text/plain": [
       "| 9         | 26600    | 14826.297030 | 0.005263          |                     | 16.468220       |"
      ]
     },
     "metadata": {},
     "output_type": "display_data"
    },
    {
     "data": {
      "text/html": [
       "<pre>| 9         | 26800    | 14837.921621 | 0.005224          |                     | 17.204918       |</pre>"
      ],
      "text/plain": [
       "| 9         | 26800    | 14837.921621 | 0.005224          |                     | 17.204918       |"
      ]
     },
     "metadata": {},
     "output_type": "display_data"
    },
    {
     "data": {
      "text/html": [
       "<pre>| 9         | 27000    | 14849.890086 | 0.005222          |                     | 16.710606       |</pre>"
      ],
      "text/plain": [
       "| 9         | 27000    | 14849.890086 | 0.005222          |                     | 16.710606       |"
      ]
     },
     "metadata": {},
     "output_type": "display_data"
    },
    {
     "data": {
      "text/html": [
       "<pre>| 9         | 27200    | 14862.141091 | 0.005221          |                     | 16.325188       |</pre>"
      ],
      "text/plain": [
       "| 9         | 27200    | 14862.141091 | 0.005221          |                     | 16.325188       |"
      ]
     },
     "metadata": {},
     "output_type": "display_data"
    },
    {
     "data": {
      "text/html": [
       "<pre>| 9         | 27400    | 14873.995038 | 0.005219          |                     | 16.872017       |</pre>"
      ],
      "text/plain": [
       "| 9         | 27400    | 14873.995038 | 0.005219          |                     | 16.872017       |"
      ]
     },
     "metadata": {},
     "output_type": "display_data"
    },
    {
     "data": {
      "text/html": [
       "<pre>| 9         | 27600    | 14886.430869 | 0.005217          |                     | 16.082565       |</pre>"
      ],
      "text/plain": [
       "| 9         | 27600    | 14886.430869 | 0.005217          |                     | 16.082565       |"
      ]
     },
     "metadata": {},
     "output_type": "display_data"
    },
    {
     "data": {
      "text/html": [
       "<pre>| 9         | 27600    | 15144.856135 | 0.005217          | 0.005641            | 16.082565       |</pre>"
      ],
      "text/plain": [
       "| 9         | 27600    | 15144.856135 | 0.005217          | 0.005641            | 16.082565       |"
      ]
     },
     "metadata": {},
     "output_type": "display_data"
    },
    {
     "data": {
      "text/html": [
       "<pre>Checkpointing model into rep IDSIA by 1 conv graphlab net - train in 10 iters</pre>"
      ],
      "text/plain": [
       "Checkpointing model into rep IDSIA by 1 conv graphlab net - train in 10 iters"
      ]
     },
     "metadata": {},
     "output_type": "display_data"
    },
    {
     "data": {
      "text/html": [
       "<pre>| 10        | 200      | 15157.011136 | 0.005000          |                     | 16.454407       |</pre>"
      ],
      "text/plain": [
       "| 10        | 200      | 15157.011136 | 0.005000          |                     | 16.454407       |"
      ]
     },
     "metadata": {},
     "output_type": "display_data"
    },
    {
     "data": {
      "text/html": [
       "<pre>| 10        | 400      | 15168.755685 | 0.007500          |                     | 17.029175       |</pre>"
      ],
      "text/plain": [
       "| 10        | 400      | 15168.755685 | 0.007500          |                     | 17.029175       |"
      ]
     },
     "metadata": {},
     "output_type": "display_data"
    },
    {
     "data": {
      "text/html": [
       "<pre>| 10        | 600      | 15181.386706 | 0.006667          |                     | 15.834024       |</pre>"
      ],
      "text/plain": [
       "| 10        | 600      | 15181.386706 | 0.006667          |                     | 15.834024       |"
      ]
     },
     "metadata": {},
     "output_type": "display_data"
    },
    {
     "data": {
      "text/html": [
       "<pre>| 10        | 800      | 15192.736202 | 0.005000          |                     | 17.621962       |</pre>"
      ],
      "text/plain": [
       "| 10        | 800      | 15192.736202 | 0.005000          |                     | 17.621962       |"
      ]
     },
     "metadata": {},
     "output_type": "display_data"
    },
    {
     "data": {
      "text/html": [
       "<pre>| 10        | 1000     | 15204.535361 | 0.006000          |                     | 16.950342       |</pre>"
      ],
      "text/plain": [
       "| 10        | 1000     | 15204.535361 | 0.006000          |                     | 16.950342       |"
      ]
     },
     "metadata": {},
     "output_type": "display_data"
    },
    {
     "data": {
      "text/html": [
       "<pre>| 10        | 1200     | 15216.423247 | 0.006667          |                     | 16.823839       |</pre>"
      ],
      "text/plain": [
       "| 10        | 1200     | 15216.423247 | 0.006667          |                     | 16.823839       |"
      ]
     },
     "metadata": {},
     "output_type": "display_data"
    },
    {
     "data": {
      "text/html": [
       "<pre>| 10        | 1400     | 15228.275735 | 0.005714          |                     | 16.874136       |</pre>"
      ],
      "text/plain": [
       "| 10        | 1400     | 15228.275735 | 0.005714          |                     | 16.874136       |"
      ]
     },
     "metadata": {},
     "output_type": "display_data"
    },
    {
     "data": {
      "text/html": [
       "<pre>| 10        | 1600     | 15239.681064 | 0.005625          |                     | 17.535631       |</pre>"
      ],
      "text/plain": [
       "| 10        | 1600     | 15239.681064 | 0.005625          |                     | 17.535631       |"
      ]
     },
     "metadata": {},
     "output_type": "display_data"
    },
    {
     "data": {
      "text/html": [
       "<pre>| 10        | 1800     | 15251.441679 | 0.005556          |                     | 17.005899       |</pre>"
      ],
      "text/plain": [
       "| 10        | 1800     | 15251.441679 | 0.005556          |                     | 17.005899       |"
      ]
     },
     "metadata": {},
     "output_type": "display_data"
    },
    {
     "data": {
      "text/html": [
       "<pre>| 10        | 2000     | 15263.414733 | 0.005500          |                     | 16.704210       |</pre>"
      ],
      "text/plain": [
       "| 10        | 2000     | 15263.414733 | 0.005500          |                     | 16.704210       |"
      ]
     },
     "metadata": {},
     "output_type": "display_data"
    },
    {
     "data": {
      "text/html": [
       "<pre>| 10        | 2200     | 15275.473396 | 0.005000          |                     | 16.585567       |</pre>"
      ],
      "text/plain": [
       "| 10        | 2200     | 15275.473396 | 0.005000          |                     | 16.585567       |"
      ]
     },
     "metadata": {},
     "output_type": "display_data"
    },
    {
     "data": {
      "text/html": [
       "<pre>| 10        | 2400     | 15287.290102 | 0.005000          |                     | 16.925167       |</pre>"
      ],
      "text/plain": [
       "| 10        | 2400     | 15287.290102 | 0.005000          |                     | 16.925167       |"
      ]
     },
     "metadata": {},
     "output_type": "display_data"
    },
    {
     "data": {
      "text/html": [
       "<pre>| 10        | 2600     | 15299.271761 | 0.006154          |                     | 16.692188       |</pre>"
      ],
      "text/plain": [
       "| 10        | 2600     | 15299.271761 | 0.006154          |                     | 16.692188       |"
      ]
     },
     "metadata": {},
     "output_type": "display_data"
    },
    {
     "data": {
      "text/html": [
       "<pre>| 10        | 2800     | 15311.346097 | 0.006071          |                     | 16.564056       |</pre>"
      ],
      "text/plain": [
       "| 10        | 2800     | 15311.346097 | 0.006071          |                     | 16.564056       |"
      ]
     },
     "metadata": {},
     "output_type": "display_data"
    },
    {
     "data": {
      "text/html": [
       "<pre>| 10        | 3000     | 15322.251704 | 0.006000          |                     | 18.339237       |</pre>"
      ],
      "text/plain": [
       "| 10        | 3000     | 15322.251704 | 0.006000          |                     | 18.339237       |"
      ]
     },
     "metadata": {},
     "output_type": "display_data"
    },
    {
     "data": {
      "text/html": [
       "<pre>| 10        | 3200     | 15334.205270 | 0.005625          |                     | 16.731382       |</pre>"
      ],
      "text/plain": [
       "| 10        | 3200     | 15334.205270 | 0.005625          |                     | 16.731382       |"
      ]
     },
     "metadata": {},
     "output_type": "display_data"
    },
    {
     "data": {
      "text/html": [
       "<pre>| 10        | 3400     | 15346.610533 | 0.005294          |                     | 16.122213       |</pre>"
      ],
      "text/plain": [
       "| 10        | 3400     | 15346.610533 | 0.005294          |                     | 16.122213       |"
      ]
     },
     "metadata": {},
     "output_type": "display_data"
    },
    {
     "data": {
      "text/html": [
       "<pre>| 10        | 3600     | 15358.752403 | 0.005000          |                     | 16.471918       |</pre>"
      ],
      "text/plain": [
       "| 10        | 3600     | 15358.752403 | 0.005000          |                     | 16.471918       |"
      ]
     },
     "metadata": {},
     "output_type": "display_data"
    },
    {
     "data": {
      "text/html": [
       "<pre>| 10        | 3800     | 15370.673460 | 0.005000          |                     | 16.777042       |</pre>"
      ],
      "text/plain": [
       "| 10        | 3800     | 15370.673460 | 0.005000          |                     | 16.777042       |"
      ]
     },
     "metadata": {},
     "output_type": "display_data"
    },
    {
     "data": {
      "text/html": [
       "<pre>| 10        | 4000     | 15382.945736 | 0.005000          |                     | 16.296906       |</pre>"
      ],
      "text/plain": [
       "| 10        | 4000     | 15382.945736 | 0.005000          |                     | 16.296906       |"
      ]
     },
     "metadata": {},
     "output_type": "display_data"
    },
    {
     "data": {
      "text/html": [
       "<pre>| 10        | 4200     | 15395.048595 | 0.005476          |                     | 16.524986       |</pre>"
      ],
      "text/plain": [
       "| 10        | 4200     | 15395.048595 | 0.005476          |                     | 16.524986       |"
      ]
     },
     "metadata": {},
     "output_type": "display_data"
    },
    {
     "data": {
      "text/html": [
       "<pre>| 10        | 4400     | 15406.413506 | 0.005227          |                     | 17.598022       |</pre>"
      ],
      "text/plain": [
       "| 10        | 4400     | 15406.413506 | 0.005227          |                     | 17.598022       |"
      ]
     },
     "metadata": {},
     "output_type": "display_data"
    },
    {
     "data": {
      "text/html": [
       "<pre>| 10        | 4600     | 15417.817840 | 0.005000          |                     | 17.537226       |</pre>"
      ],
      "text/plain": [
       "| 10        | 4600     | 15417.817840 | 0.005000          |                     | 17.537226       |"
      ]
     },
     "metadata": {},
     "output_type": "display_data"
    },
    {
     "data": {
      "text/html": [
       "<pre>| 10        | 4800     | 15430.375857 | 0.005417          |                     | 15.926077       |</pre>"
      ],
      "text/plain": [
       "| 10        | 4800     | 15430.375857 | 0.005417          |                     | 15.926077       |"
      ]
     },
     "metadata": {},
     "output_type": "display_data"
    },
    {
     "data": {
      "text/html": [
       "<pre>| 10        | 5000     | 15441.582996 | 0.005600          |                     | 17.845766       |</pre>"
      ],
      "text/plain": [
       "| 10        | 5000     | 15441.582996 | 0.005600          |                     | 17.845766       |"
      ]
     },
     "metadata": {},
     "output_type": "display_data"
    },
    {
     "data": {
      "text/html": [
       "<pre>| 10        | 5200     | 15453.314822 | 0.005769          |                     | 17.047651       |</pre>"
      ],
      "text/plain": [
       "| 10        | 5200     | 15453.314822 | 0.005769          |                     | 17.047651       |"
      ]
     },
     "metadata": {},
     "output_type": "display_data"
    },
    {
     "data": {
      "text/html": [
       "<pre>| 10        | 5400     | 15465.607688 | 0.005926          |                     | 16.269596       |</pre>"
      ],
      "text/plain": [
       "| 10        | 5400     | 15465.607688 | 0.005926          |                     | 16.269596       |"
      ]
     },
     "metadata": {},
     "output_type": "display_data"
    },
    {
     "data": {
      "text/html": [
       "<pre>| 10        | 5600     | 15477.550929 | 0.005893          |                     | 16.745832       |</pre>"
      ],
      "text/plain": [
       "| 10        | 5600     | 15477.550929 | 0.005893          |                     | 16.745832       |"
      ]
     },
     "metadata": {},
     "output_type": "display_data"
    },
    {
     "data": {
      "text/html": [
       "<pre>| 10        | 5800     | 15489.574633 | 0.005862          |                     | 16.633812       |</pre>"
      ],
      "text/plain": [
       "| 10        | 5800     | 15489.574633 | 0.005862          |                     | 16.633812       |"
      ]
     },
     "metadata": {},
     "output_type": "display_data"
    },
    {
     "data": {
      "text/html": [
       "<pre>| 10        | 6000     | 15501.586802 | 0.005833          |                     | 16.649811       |</pre>"
      ],
      "text/plain": [
       "| 10        | 6000     | 15501.586802 | 0.005833          |                     | 16.649811       |"
      ]
     },
     "metadata": {},
     "output_type": "display_data"
    },
    {
     "data": {
      "text/html": [
       "<pre>| 10        | 6200     | 15513.191673 | 0.006129          |                     | 17.234152       |</pre>"
      ],
      "text/plain": [
       "| 10        | 6200     | 15513.191673 | 0.006129          |                     | 17.234152       |"
      ]
     },
     "metadata": {},
     "output_type": "display_data"
    },
    {
     "data": {
      "text/html": [
       "<pre>| 10        | 6400     | 15525.096725 | 0.006250          |                     | 16.799582       |</pre>"
      ],
      "text/plain": [
       "| 10        | 6400     | 15525.096725 | 0.006250          |                     | 16.799582       |"
      ]
     },
     "metadata": {},
     "output_type": "display_data"
    },
    {
     "data": {
      "text/html": [
       "<pre>| 10        | 6600     | 15536.664697 | 0.006061          |                     | 17.289095       |</pre>"
      ],
      "text/plain": [
       "| 10        | 6600     | 15536.664697 | 0.006061          |                     | 17.289095       |"
      ]
     },
     "metadata": {},
     "output_type": "display_data"
    },
    {
     "data": {
      "text/html": [
       "<pre>| 10        | 6800     | 15549.544679 | 0.006029          |                     | 15.527992       |</pre>"
      ],
      "text/plain": [
       "| 10        | 6800     | 15549.544679 | 0.006029          |                     | 15.527992       |"
      ]
     },
     "metadata": {},
     "output_type": "display_data"
    },
    {
     "data": {
      "text/html": [
       "<pre>| 10        | 7000     | 15561.179681 | 0.005857          |                     | 17.189507       |</pre>"
      ],
      "text/plain": [
       "| 10        | 7000     | 15561.179681 | 0.005857          |                     | 17.189507       |"
      ]
     },
     "metadata": {},
     "output_type": "display_data"
    },
    {
     "data": {
      "text/html": [
       "<pre>| 10        | 7200     | 15572.981507 | 0.005972          |                     | 16.946514       |</pre>"
      ],
      "text/plain": [
       "| 10        | 7200     | 15572.981507 | 0.005972          |                     | 16.946514       |"
      ]
     },
     "metadata": {},
     "output_type": "display_data"
    },
    {
     "data": {
      "text/html": [
       "<pre>| 10        | 7400     | 15585.370383 | 0.005811          |                     | 16.143503       |</pre>"
      ],
      "text/plain": [
       "| 10        | 7400     | 15585.370383 | 0.005811          |                     | 16.143503       |"
      ]
     },
     "metadata": {},
     "output_type": "display_data"
    },
    {
     "data": {
      "text/html": [
       "<pre>| 10        | 7600     | 15596.944818 | 0.005658          |                     | 17.279457       |</pre>"
      ],
      "text/plain": [
       "| 10        | 7600     | 15596.944818 | 0.005658          |                     | 17.279457       |"
      ]
     },
     "metadata": {},
     "output_type": "display_data"
    },
    {
     "data": {
      "text/html": [
       "<pre>| 10        | 7800     | 15607.975571 | 0.005641          |                     | 18.131136       |</pre>"
      ],
      "text/plain": [
       "| 10        | 7800     | 15607.975571 | 0.005641          |                     | 18.131136       |"
      ]
     },
     "metadata": {},
     "output_type": "display_data"
    },
    {
     "data": {
      "text/html": [
       "<pre>| 10        | 8000     | 15619.843398 | 0.005875          |                     | 16.852312       |</pre>"
      ],
      "text/plain": [
       "| 10        | 8000     | 15619.843398 | 0.005875          |                     | 16.852312       |"
      ]
     },
     "metadata": {},
     "output_type": "display_data"
    },
    {
     "data": {
      "text/html": [
       "<pre>| 10        | 8200     | 15631.857869 | 0.005732          |                     | 16.646580       |</pre>"
      ],
      "text/plain": [
       "| 10        | 8200     | 15631.857869 | 0.005732          |                     | 16.646580       |"
      ]
     },
     "metadata": {},
     "output_type": "display_data"
    },
    {
     "data": {
      "text/html": [
       "<pre>| 10        | 8400     | 15643.637958 | 0.005714          |                     | 16.977781       |</pre>"
      ],
      "text/plain": [
       "| 10        | 8400     | 15643.637958 | 0.005714          |                     | 16.977781       |"
      ]
     },
     "metadata": {},
     "output_type": "display_data"
    },
    {
     "data": {
      "text/html": [
       "<pre>| 10        | 8600     | 15655.572001 | 0.005698          |                     | 16.758814       |</pre>"
      ],
      "text/plain": [
       "| 10        | 8600     | 15655.572001 | 0.005698          |                     | 16.758814       |"
      ]
     },
     "metadata": {},
     "output_type": "display_data"
    },
    {
     "data": {
      "text/html": [
       "<pre>| 10        | 8800     | 15668.044662 | 0.005909          |                     | 16.035038       |</pre>"
      ],
      "text/plain": [
       "| 10        | 8800     | 15668.044662 | 0.005909          |                     | 16.035038       |"
      ]
     },
     "metadata": {},
     "output_type": "display_data"
    },
    {
     "data": {
      "text/html": [
       "<pre>| 10        | 9000     | 15680.153431 | 0.005778          |                     | 16.516956       |</pre>"
      ],
      "text/plain": [
       "| 10        | 9000     | 15680.153431 | 0.005778          |                     | 16.516956       |"
      ]
     },
     "metadata": {},
     "output_type": "display_data"
    },
    {
     "data": {
      "text/html": [
       "<pre>| 10        | 9200     | 15691.369032 | 0.005761          |                     | 17.832308       |</pre>"
      ],
      "text/plain": [
       "| 10        | 9200     | 15691.369032 | 0.005761          |                     | 17.832308       |"
      ]
     },
     "metadata": {},
     "output_type": "display_data"
    },
    {
     "data": {
      "text/html": [
       "<pre>| 10        | 9400     | 15703.018833 | 0.005745          |                     | 17.167671       |</pre>"
      ],
      "text/plain": [
       "| 10        | 9400     | 15703.018833 | 0.005745          |                     | 17.167671       |"
      ]
     },
     "metadata": {},
     "output_type": "display_data"
    },
    {
     "data": {
      "text/html": [
       "<pre>| 10        | 9600     | 15715.297827 | 0.005937          |                     | 16.287985       |</pre>"
      ],
      "text/plain": [
       "| 10        | 9600     | 15715.297827 | 0.005937          |                     | 16.287985       |"
      ]
     },
     "metadata": {},
     "output_type": "display_data"
    },
    {
     "data": {
      "text/html": [
       "<pre>| 10        | 9800     | 15727.247796 | 0.005918          |                     | 16.736471       |</pre>"
      ],
      "text/plain": [
       "| 10        | 9800     | 15727.247796 | 0.005918          |                     | 16.736471       |"
      ]
     },
     "metadata": {},
     "output_type": "display_data"
    },
    {
     "data": {
      "text/html": [
       "<pre>| 10        | 10000    | 15738.939582 | 0.005800          |                     | 17.106035       |</pre>"
      ],
      "text/plain": [
       "| 10        | 10000    | 15738.939582 | 0.005800          |                     | 17.106035       |"
      ]
     },
     "metadata": {},
     "output_type": "display_data"
    },
    {
     "data": {
      "text/html": [
       "<pre>| 10        | 10200    | 15751.278714 | 0.005686          |                     | 16.208580       |</pre>"
      ],
      "text/plain": [
       "| 10        | 10200    | 15751.278714 | 0.005686          |                     | 16.208580       |"
      ]
     },
     "metadata": {},
     "output_type": "display_data"
    },
    {
     "data": {
      "text/html": [
       "<pre>| 10        | 10400    | 15762.951428 | 0.005577          |                     | 17.133949       |</pre>"
      ],
      "text/plain": [
       "| 10        | 10400    | 15762.951428 | 0.005577          |                     | 17.133949       |"
      ]
     },
     "metadata": {},
     "output_type": "display_data"
    },
    {
     "data": {
      "text/html": [
       "<pre>| 10        | 10600    | 15774.586239 | 0.005660          |                     | 17.189798       |</pre>"
      ],
      "text/plain": [
       "| 10        | 10600    | 15774.586239 | 0.005660          |                     | 17.189798       |"
      ]
     },
     "metadata": {},
     "output_type": "display_data"
    },
    {
     "data": {
      "text/html": [
       "<pre>| 10        | 10800    | 15787.019816 | 0.005741          |                     | 16.085474       |</pre>"
      ],
      "text/plain": [
       "| 10        | 10800    | 15787.019816 | 0.005741          |                     | 16.085474       |"
      ]
     },
     "metadata": {},
     "output_type": "display_data"
    },
    {
     "data": {
      "text/html": [
       "<pre>| 10        | 11000    | 15797.809748 | 0.005636          |                     | 18.535801       |</pre>"
      ],
      "text/plain": [
       "| 10        | 11000    | 15797.809748 | 0.005636          |                     | 18.535801       |"
      ]
     },
     "metadata": {},
     "output_type": "display_data"
    },
    {
     "data": {
      "text/html": [
       "<pre>| 10        | 11200    | 15809.224767 | 0.005714          |                     | 17.520771       |</pre>"
      ],
      "text/plain": [
       "| 10        | 11200    | 15809.224767 | 0.005714          |                     | 17.520771       |"
      ]
     },
     "metadata": {},
     "output_type": "display_data"
    },
    {
     "data": {
      "text/html": [
       "<pre>| 10        | 11400    | 15820.590863 | 0.005614          |                     | 17.596224       |</pre>"
      ],
      "text/plain": [
       "| 10        | 11400    | 15820.590863 | 0.005614          |                     | 17.596224       |"
      ]
     },
     "metadata": {},
     "output_type": "display_data"
    },
    {
     "data": {
      "text/html": [
       "<pre>| 10        | 11600    | 15833.064893 | 0.005603          |                     | 16.033281       |</pre>"
      ],
      "text/plain": [
       "| 10        | 11600    | 15833.064893 | 0.005603          |                     | 16.033281       |"
      ]
     },
     "metadata": {},
     "output_type": "display_data"
    },
    {
     "data": {
      "text/html": [
       "<pre>| 10        | 11800    | 15844.781068 | 0.005508          |                     | 17.070421       |</pre>"
      ],
      "text/plain": [
       "| 10        | 11800    | 15844.781068 | 0.005508          |                     | 17.070421       |"
      ]
     },
     "metadata": {},
     "output_type": "display_data"
    },
    {
     "data": {
      "text/html": [
       "<pre>| 10        | 12000    | 15856.327055 | 0.005417          |                     | 17.322039       |</pre>"
      ],
      "text/plain": [
       "| 10        | 12000    | 15856.327055 | 0.005417          |                     | 17.322039       |"
      ]
     },
     "metadata": {},
     "output_type": "display_data"
    },
    {
     "data": {
      "text/html": [
       "<pre>| 10        | 12200    | 15868.132544 | 0.005410          |                     | 16.941307       |</pre>"
      ],
      "text/plain": [
       "| 10        | 12200    | 15868.132544 | 0.005410          |                     | 16.941307       |"
      ]
     },
     "metadata": {},
     "output_type": "display_data"
    },
    {
     "data": {
      "text/html": [
       "<pre>| 10        | 12400    | 15879.859614 | 0.005323          |                     | 17.054518       |</pre>"
      ],
      "text/plain": [
       "| 10        | 12400    | 15879.859614 | 0.005323          |                     | 17.054518       |"
      ]
     },
     "metadata": {},
     "output_type": "display_data"
    },
    {
     "data": {
      "text/html": [
       "<pre>| 10        | 12600    | 15891.235177 | 0.005476          |                     | 17.581547       |</pre>"
      ],
      "text/plain": [
       "| 10        | 12600    | 15891.235177 | 0.005476          |                     | 17.581547       |"
      ]
     },
     "metadata": {},
     "output_type": "display_data"
    },
    {
     "data": {
      "text/html": [
       "<pre>| 10        | 12800    | 15903.651324 | 0.005703          |                     | 16.108097       |</pre>"
      ],
      "text/plain": [
       "| 10        | 12800    | 15903.651324 | 0.005703          |                     | 16.108097       |"
      ]
     },
     "metadata": {},
     "output_type": "display_data"
    },
    {
     "data": {
      "text/html": [
       "<pre>| 10        | 13000    | 15915.838759 | 0.005769          |                     | 16.410318       |</pre>"
      ],
      "text/plain": [
       "| 10        | 13000    | 15915.838759 | 0.005769          |                     | 16.410318       |"
      ]
     },
     "metadata": {},
     "output_type": "display_data"
    },
    {
     "data": {
      "text/html": [
       "<pre>| 10        | 13200    | 15926.615748 | 0.005909          |                     | 18.558077       |</pre>"
      ],
      "text/plain": [
       "| 10        | 13200    | 15926.615748 | 0.005909          |                     | 18.558077       |"
      ]
     },
     "metadata": {},
     "output_type": "display_data"
    },
    {
     "data": {
      "text/html": [
       "<pre>| 10        | 13400    | 15938.686337 | 0.005821          |                     | 16.569195       |</pre>"
      ],
      "text/plain": [
       "| 10        | 13400    | 15938.686337 | 0.005821          |                     | 16.569195       |"
      ]
     },
     "metadata": {},
     "output_type": "display_data"
    },
    {
     "data": {
      "text/html": [
       "<pre>| 10        | 13600    | 15950.162534 | 0.005735          |                     | 17.427385       |</pre>"
      ],
      "text/plain": [
       "| 10        | 13600    | 15950.162534 | 0.005735          |                     | 17.427385       |"
      ]
     },
     "metadata": {},
     "output_type": "display_data"
    },
    {
     "data": {
      "text/html": [
       "<pre>| 10        | 13800    | 15962.201664 | 0.005725          |                     | 16.612495       |</pre>"
      ],
      "text/plain": [
       "| 10        | 13800    | 15962.201664 | 0.005725          |                     | 16.612495       |"
      ]
     },
     "metadata": {},
     "output_type": "display_data"
    },
    {
     "data": {
      "text/html": [
       "<pre>| 10        | 14000    | 15973.914517 | 0.005714          |                     | 17.075249       |</pre>"
      ],
      "text/plain": [
       "| 10        | 14000    | 15973.914517 | 0.005714          |                     | 17.075249       |"
      ]
     },
     "metadata": {},
     "output_type": "display_data"
    },
    {
     "data": {
      "text/html": [
       "<pre>| 10        | 14200    | 15984.266379 | 0.005704          |                     | 19.320160       |</pre>"
      ],
      "text/plain": [
       "| 10        | 14200    | 15984.266379 | 0.005704          |                     | 19.320160       |"
      ]
     },
     "metadata": {},
     "output_type": "display_data"
    },
    {
     "data": {
      "text/html": [
       "<pre>| 10        | 14400    | 15996.376699 | 0.005694          |                     | 16.514885       |</pre>"
      ],
      "text/plain": [
       "| 10        | 14400    | 15996.376699 | 0.005694          |                     | 16.514885       |"
      ]
     },
     "metadata": {},
     "output_type": "display_data"
    },
    {
     "data": {
      "text/html": [
       "<pre>| 10        | 14600    | 16008.495591 | 0.005685          |                     | 16.503126       |</pre>"
      ],
      "text/plain": [
       "| 10        | 14600    | 16008.495591 | 0.005685          |                     | 16.503126       |"
      ]
     },
     "metadata": {},
     "output_type": "display_data"
    },
    {
     "data": {
      "text/html": [
       "<pre>| 10        | 14800    | 16020.183824 | 0.005676          |                     | 17.111233       |</pre>"
      ],
      "text/plain": [
       "| 10        | 14800    | 16020.183824 | 0.005676          |                     | 17.111233       |"
      ]
     },
     "metadata": {},
     "output_type": "display_data"
    },
    {
     "data": {
      "text/html": [
       "<pre>| 10        | 15000    | 16032.151511 | 0.005733          |                     | 16.711681       |</pre>"
      ],
      "text/plain": [
       "| 10        | 15000    | 16032.151511 | 0.005733          |                     | 16.711681       |"
      ]
     },
     "metadata": {},
     "output_type": "display_data"
    },
    {
     "data": {
      "text/html": [
       "<pre>| 10        | 15200    | 16044.450686 | 0.005724          |                     | 16.261242       |</pre>"
      ],
      "text/plain": [
       "| 10        | 15200    | 16044.450686 | 0.005724          |                     | 16.261242       |"
      ]
     },
     "metadata": {},
     "output_type": "display_data"
    },
    {
     "data": {
      "text/html": [
       "<pre>| 10        | 15400    | 16056.470170 | 0.005714          |                     | 16.639671       |</pre>"
      ],
      "text/plain": [
       "| 10        | 15400    | 16056.470170 | 0.005714          |                     | 16.639671       |"
      ]
     },
     "metadata": {},
     "output_type": "display_data"
    },
    {
     "data": {
      "text/html": [
       "<pre>| 10        | 15600    | 16067.850619 | 0.005705          |                     | 17.573967       |</pre>"
      ],
      "text/plain": [
       "| 10        | 15600    | 16067.850619 | 0.005705          |                     | 17.573967       |"
      ]
     },
     "metadata": {},
     "output_type": "display_data"
    },
    {
     "data": {
      "text/html": [
       "<pre>| 10        | 15800    | 16080.026329 | 0.005633          |                     | 16.426176       |</pre>"
      ],
      "text/plain": [
       "| 10        | 15800    | 16080.026329 | 0.005633          |                     | 16.426176       |"
      ]
     },
     "metadata": {},
     "output_type": "display_data"
    },
    {
     "data": {
      "text/html": [
       "<pre>| 10        | 16000    | 16092.351857 | 0.005687          |                     | 16.226463       |</pre>"
      ],
      "text/plain": [
       "| 10        | 16000    | 16092.351857 | 0.005687          |                     | 16.226463       |"
      ]
     },
     "metadata": {},
     "output_type": "display_data"
    },
    {
     "data": {
      "text/html": [
       "<pre>| 10        | 16200    | 16104.213776 | 0.005741          |                     | 16.860678       |</pre>"
      ],
      "text/plain": [
       "| 10        | 16200    | 16104.213776 | 0.005741          |                     | 16.860678       |"
      ]
     },
     "metadata": {},
     "output_type": "display_data"
    },
    {
     "data": {
      "text/html": [
       "<pre>| 10        | 16400    | 16116.020065 | 0.005732          |                     | 16.940147       |</pre>"
      ],
      "text/plain": [
       "| 10        | 16400    | 16116.020065 | 0.005732          |                     | 16.940147       |"
      ]
     },
     "metadata": {},
     "output_type": "display_data"
    },
    {
     "data": {
      "text/html": [
       "<pre>| 10        | 16600    | 16128.374008 | 0.005843          |                     | 16.189148       |</pre>"
      ],
      "text/plain": [
       "| 10        | 16600    | 16128.374008 | 0.005843          |                     | 16.189148       |"
      ]
     },
     "metadata": {},
     "output_type": "display_data"
    },
    {
     "data": {
      "text/html": [
       "<pre>| 10        | 16800    | 16140.004875 | 0.005774          |                     | 17.195623       |</pre>"
      ],
      "text/plain": [
       "| 10        | 16800    | 16140.004875 | 0.005774          |                     | 17.195623       |"
      ]
     },
     "metadata": {},
     "output_type": "display_data"
    },
    {
     "data": {
      "text/html": [
       "<pre>| 10        | 17000    | 16151.937809 | 0.005765          |                     | 16.760359       |</pre>"
      ],
      "text/plain": [
       "| 10        | 17000    | 16151.937809 | 0.005765          |                     | 16.760359       |"
      ]
     },
     "metadata": {},
     "output_type": "display_data"
    },
    {
     "data": {
      "text/html": [
       "<pre>| 10        | 17200    | 16164.260664 | 0.005756          |                     | 16.229992       |</pre>"
      ],
      "text/plain": [
       "| 10        | 17200    | 16164.260664 | 0.005756          |                     | 16.229992       |"
      ]
     },
     "metadata": {},
     "output_type": "display_data"
    },
    {
     "data": {
      "text/html": [
       "<pre>| 10        | 17400    | 16175.966366 | 0.005805          |                     | 17.085663       |</pre>"
      ],
      "text/plain": [
       "| 10        | 17400    | 16175.966366 | 0.005805          |                     | 17.085663       |"
      ]
     },
     "metadata": {},
     "output_type": "display_data"
    },
    {
     "data": {
      "text/html": [
       "<pre>| 10        | 17600    | 16188.291672 | 0.005852          |                     | 16.226807       |</pre>"
      ],
      "text/plain": [
       "| 10        | 17600    | 16188.291672 | 0.005852          |                     | 16.226807       |"
      ]
     },
     "metadata": {},
     "output_type": "display_data"
    },
    {
     "data": {
      "text/html": [
       "<pre>| 10        | 17800    | 16200.695751 | 0.005787          |                     | 16.123699       |</pre>"
      ],
      "text/plain": [
       "| 10        | 17800    | 16200.695751 | 0.005787          |                     | 16.123699       |"
      ]
     },
     "metadata": {},
     "output_type": "display_data"
    },
    {
     "data": {
      "text/html": [
       "<pre>| 10        | 18000    | 16212.382317 | 0.005833          |                     | 17.113699       |</pre>"
      ],
      "text/plain": [
       "| 10        | 18000    | 16212.382317 | 0.005833          |                     | 17.113699       |"
      ]
     },
     "metadata": {},
     "output_type": "display_data"
    },
    {
     "data": {
      "text/html": [
       "<pre>| 10        | 18200    | 16224.324860 | 0.005769          |                     | 16.746861       |</pre>"
      ],
      "text/plain": [
       "| 10        | 18200    | 16224.324860 | 0.005769          |                     | 16.746861       |"
      ]
     },
     "metadata": {},
     "output_type": "display_data"
    },
    {
     "data": {
      "text/html": [
       "<pre>| 10        | 18400    | 16236.696348 | 0.005761          |                     | 16.166183       |</pre>"
      ],
      "text/plain": [
       "| 10        | 18400    | 16236.696348 | 0.005761          |                     | 16.166183       |"
      ]
     },
     "metadata": {},
     "output_type": "display_data"
    },
    {
     "data": {
      "text/html": [
       "<pre>| 10        | 18600    | 16248.748157 | 0.005914          |                     | 16.595045       |</pre>"
      ],
      "text/plain": [
       "| 10        | 18600    | 16248.748157 | 0.005914          |                     | 16.595045       |"
      ]
     },
     "metadata": {},
     "output_type": "display_data"
    },
    {
     "data": {
      "text/html": [
       "<pre>| 10        | 18800    | 16259.993716 | 0.005851          |                     | 17.784777       |</pre>"
      ],
      "text/plain": [
       "| 10        | 18800    | 16259.993716 | 0.005851          |                     | 17.784777       |"
      ]
     },
     "metadata": {},
     "output_type": "display_data"
    },
    {
     "data": {
      "text/html": [
       "<pre>| 10        | 19000    | 16272.066215 | 0.005789          |                     | 16.566584       |</pre>"
      ],
      "text/plain": [
       "| 10        | 19000    | 16272.066215 | 0.005789          |                     | 16.566584       |"
      ]
     },
     "metadata": {},
     "output_type": "display_data"
    },
    {
     "data": {
      "text/html": [
       "<pre>| 10        | 19200    | 16284.323609 | 0.005781          |                     | 16.316669       |</pre>"
      ],
      "text/plain": [
       "| 10        | 19200    | 16284.323609 | 0.005781          |                     | 16.316669       |"
      ]
     },
     "metadata": {},
     "output_type": "display_data"
    },
    {
     "data": {
      "text/html": [
       "<pre>| 10        | 19400    | 16295.928584 | 0.005722          |                     | 17.233982       |</pre>"
      ],
      "text/plain": [
       "| 10        | 19400    | 16295.928584 | 0.005722          |                     | 17.233982       |"
      ]
     },
     "metadata": {},
     "output_type": "display_data"
    },
    {
     "data": {
      "text/html": [
       "<pre>| 10        | 19600    | 16308.073381 | 0.005663          |                     | 16.467995       |</pre>"
      ],
      "text/plain": [
       "| 10        | 19600    | 16308.073381 | 0.005663          |                     | 16.467995       |"
      ]
     },
     "metadata": {},
     "output_type": "display_data"
    },
    {
     "data": {
      "text/html": [
       "<pre>| 10        | 19800    | 16320.582818 | 0.005657          |                     | 15.987913       |</pre>"
      ],
      "text/plain": [
       "| 10        | 19800    | 16320.582818 | 0.005657          |                     | 15.987913       |"
      ]
     },
     "metadata": {},
     "output_type": "display_data"
    },
    {
     "data": {
      "text/html": [
       "<pre>| 10        | 20000    | 16332.353808 | 0.005600          |                     | 16.990894       |</pre>"
      ],
      "text/plain": [
       "| 10        | 20000    | 16332.353808 | 0.005600          |                     | 16.990894       |"
      ]
     },
     "metadata": {},
     "output_type": "display_data"
    },
    {
     "data": {
      "text/html": [
       "<pre>| 10        | 20200    | 16344.219487 | 0.005594          |                     | 16.855371       |</pre>"
      ],
      "text/plain": [
       "| 10        | 20200    | 16344.219487 | 0.005594          |                     | 16.855371       |"
      ]
     },
     "metadata": {},
     "output_type": "display_data"
    },
    {
     "data": {
      "text/html": [
       "<pre>| 10        | 20400    | 16356.537352 | 0.005588          |                     | 16.236565       |</pre>"
      ],
      "text/plain": [
       "| 10        | 20400    | 16356.537352 | 0.005588          |                     | 16.236565       |"
      ]
     },
     "metadata": {},
     "output_type": "display_data"
    },
    {
     "data": {
      "text/html": [
       "<pre>| 10        | 20600    | 16368.203186 | 0.005583          |                     | 17.144051       |</pre>"
      ],
      "text/plain": [
       "| 10        | 20600    | 16368.203186 | 0.005583          |                     | 17.144051       |"
      ]
     },
     "metadata": {},
     "output_type": "display_data"
    },
    {
     "data": {
      "text/html": [
       "<pre>| 10        | 20800    | 16380.370880 | 0.005625          |                     | 16.436975       |</pre>"
      ],
      "text/plain": [
       "| 10        | 20800    | 16380.370880 | 0.005625          |                     | 16.436975       |"
      ]
     },
     "metadata": {},
     "output_type": "display_data"
    },
    {
     "data": {
      "text/html": [
       "<pre>| 10        | 21000    | 16392.930552 | 0.005619          |                     | 15.923991       |</pre>"
      ],
      "text/plain": [
       "| 10        | 21000    | 16392.930552 | 0.005619          |                     | 15.923991       |"
      ]
     },
     "metadata": {},
     "output_type": "display_data"
    },
    {
     "data": {
      "text/html": [
       "<pre>| 10        | 21200    | 16404.384836 | 0.005660          |                     | 17.460741       |</pre>"
      ],
      "text/plain": [
       "| 10        | 21200    | 16404.384836 | 0.005660          |                     | 17.460741       |"
      ]
     },
     "metadata": {},
     "output_type": "display_data"
    },
    {
     "data": {
      "text/html": [
       "<pre>| 10        | 21400    | 16416.550599 | 0.005654          |                     | 16.439566       |</pre>"
      ],
      "text/plain": [
       "| 10        | 21400    | 16416.550599 | 0.005654          |                     | 16.439566       |"
      ]
     },
     "metadata": {},
     "output_type": "display_data"
    },
    {
     "data": {
      "text/html": [
       "<pre>| 10        | 21600    | 16428.638727 | 0.005602          |                     | 16.545141       |</pre>"
      ],
      "text/plain": [
       "| 10        | 21600    | 16428.638727 | 0.005602          |                     | 16.545141       |"
      ]
     },
     "metadata": {},
     "output_type": "display_data"
    },
    {
     "data": {
      "text/html": [
       "<pre>| 10        | 21800    | 16440.760079 | 0.005596          |                     | 16.499840       |</pre>"
      ],
      "text/plain": [
       "| 10        | 21800    | 16440.760079 | 0.005596          |                     | 16.499840       |"
      ]
     },
     "metadata": {},
     "output_type": "display_data"
    },
    {
     "data": {
      "text/html": [
       "<pre>| 10        | 22000    | 16452.566794 | 0.005545          |                     | 16.939501       |</pre>"
      ],
      "text/plain": [
       "| 10        | 22000    | 16452.566794 | 0.005545          |                     | 16.939501       |"
      ]
     },
     "metadata": {},
     "output_type": "display_data"
    },
    {
     "data": {
      "text/html": [
       "<pre>| 10        | 22200    | 16464.753002 | 0.005541          |                     | 16.412010       |</pre>"
      ],
      "text/plain": [
       "| 10        | 22200    | 16464.753002 | 0.005541          |                     | 16.412010       |"
      ]
     },
     "metadata": {},
     "output_type": "display_data"
    },
    {
     "data": {
      "text/html": [
       "<pre>| 10        | 22400    | 16477.176182 | 0.005536          |                     | 16.098915       |</pre>"
      ],
      "text/plain": [
       "| 10        | 22400    | 16477.176182 | 0.005536          |                     | 16.098915       |"
      ]
     },
     "metadata": {},
     "output_type": "display_data"
    },
    {
     "data": {
      "text/html": [
       "<pre>| 10        | 22600    | 16488.581363 | 0.005531          |                     | 17.535877       |</pre>"
      ],
      "text/plain": [
       "| 10        | 22600    | 16488.581363 | 0.005531          |                     | 17.535877       |"
      ]
     },
     "metadata": {},
     "output_type": "display_data"
    },
    {
     "data": {
      "text/html": [
       "<pre>| 10        | 22800    | 16499.921753 | 0.005526          |                     | 17.636118       |</pre>"
      ],
      "text/plain": [
       "| 10        | 22800    | 16499.921753 | 0.005526          |                     | 17.636118       |"
      ]
     },
     "metadata": {},
     "output_type": "display_data"
    },
    {
     "data": {
      "text/html": [
       "<pre>| 10        | 23000    | 16512.774930 | 0.005478          |                     | 15.560344       |</pre>"
      ],
      "text/plain": [
       "| 10        | 23000    | 16512.774930 | 0.005478          |                     | 15.560344       |"
      ]
     },
     "metadata": {},
     "output_type": "display_data"
    },
    {
     "data": {
      "text/html": [
       "<pre>| 10        | 23200    | 16524.793974 | 0.005431          |                     | 16.640236       |</pre>"
      ],
      "text/plain": [
       "| 10        | 23200    | 16524.793974 | 0.005431          |                     | 16.640236       |"
      ]
     },
     "metadata": {},
     "output_type": "display_data"
    },
    {
     "data": {
      "text/html": [
       "<pre>| 10        | 23400    | 16536.620025 | 0.005427          |                     | 16.911858       |</pre>"
      ],
      "text/plain": [
       "| 10        | 23400    | 16536.620025 | 0.005427          |                     | 16.911858       |"
      ]
     },
     "metadata": {},
     "output_type": "display_data"
    },
    {
     "data": {
      "text/html": [
       "<pre>| 10        | 23600    | 16549.011780 | 0.005424          |                     | 16.139736       |</pre>"
      ],
      "text/plain": [
       "| 10        | 23600    | 16549.011780 | 0.005424          |                     | 16.139736       |"
      ]
     },
     "metadata": {},
     "output_type": "display_data"
    },
    {
     "data": {
      "text/html": [
       "<pre>| 10        | 23800    | 16560.759732 | 0.005420          |                     | 17.024233       |</pre>"
      ],
      "text/plain": [
       "| 10        | 23800    | 16560.759732 | 0.005420          |                     | 17.024233       |"
      ]
     },
     "metadata": {},
     "output_type": "display_data"
    },
    {
     "data": {
      "text/html": [
       "<pre>| 10        | 24000    | 16573.117549 | 0.005417          |                     | 16.184092       |</pre>"
      ],
      "text/plain": [
       "| 10        | 24000    | 16573.117549 | 0.005417          |                     | 16.184092       |"
      ]
     },
     "metadata": {},
     "output_type": "display_data"
    },
    {
     "data": {
      "text/html": [
       "<pre>| 10        | 24200    | 16585.253767 | 0.005372          |                     | 16.479607       |</pre>"
      ],
      "text/plain": [
       "| 10        | 24200    | 16585.253767 | 0.005372          |                     | 16.479607       |"
      ]
     },
     "metadata": {},
     "output_type": "display_data"
    },
    {
     "data": {
      "text/html": [
       "<pre>| 10        | 24400    | 16596.544109 | 0.005369          |                     | 17.714289       |</pre>"
      ],
      "text/plain": [
       "| 10        | 24400    | 16596.544109 | 0.005369          |                     | 17.714289       |"
      ]
     },
     "metadata": {},
     "output_type": "display_data"
    },
    {
     "data": {
      "text/html": [
       "<pre>| 10        | 24600    | 16608.920187 | 0.005407          |                     | 16.160192       |</pre>"
      ],
      "text/plain": [
       "| 10        | 24600    | 16608.920187 | 0.005407          |                     | 16.160192       |"
      ]
     },
     "metadata": {},
     "output_type": "display_data"
    },
    {
     "data": {
      "text/html": [
       "<pre>| 10        | 24800    | 16620.646470 | 0.005363          |                     | 17.055733       |</pre>"
      ],
      "text/plain": [
       "| 10        | 24800    | 16620.646470 | 0.005363          |                     | 17.055733       |"
      ]
     },
     "metadata": {},
     "output_type": "display_data"
    },
    {
     "data": {
      "text/html": [
       "<pre>| 10        | 25000    | 16633.188599 | 0.005360          |                     | 15.946259       |</pre>"
      ],
      "text/plain": [
       "| 10        | 25000    | 16633.188599 | 0.005360          |                     | 15.946259       |"
      ]
     },
     "metadata": {},
     "output_type": "display_data"
    },
    {
     "data": {
      "text/html": [
       "<pre>| 10        | 25200    | 16645.190625 | 0.005397          |                     | 16.663830       |</pre>"
      ],
      "text/plain": [
       "| 10        | 25200    | 16645.190625 | 0.005397          |                     | 16.663830       |"
      ]
     },
     "metadata": {},
     "output_type": "display_data"
    },
    {
     "data": {
      "text/html": [
       "<pre>| 10        | 25400    | 16656.930875 | 0.005394          |                     | 17.035427       |</pre>"
      ],
      "text/plain": [
       "| 10        | 25400    | 16656.930875 | 0.005394          |                     | 17.035427       |"
      ]
     },
     "metadata": {},
     "output_type": "display_data"
    },
    {
     "data": {
      "text/html": [
       "<pre>| 10        | 25600    | 16670.425290 | 0.005352          |                     | 14.820932       |</pre>"
      ],
      "text/plain": [
       "| 10        | 25600    | 16670.425290 | 0.005352          |                     | 14.820932       |"
      ]
     },
     "metadata": {},
     "output_type": "display_data"
    },
    {
     "data": {
      "text/html": [
       "<pre>| 10        | 25800    | 16682.453556 | 0.005310          |                     | 16.627491       |</pre>"
      ],
      "text/plain": [
       "| 10        | 25800    | 16682.453556 | 0.005310          |                     | 16.627491       |"
      ]
     },
     "metadata": {},
     "output_type": "display_data"
    },
    {
     "data": {
      "text/html": [
       "<pre>| 10        | 26000    | 16693.938496 | 0.005308          |                     | 17.414141       |</pre>"
      ],
      "text/plain": [
       "| 10        | 26000    | 16693.938496 | 0.005308          |                     | 17.414141       |"
      ]
     },
     "metadata": {},
     "output_type": "display_data"
    },
    {
     "data": {
      "text/html": [
       "<pre>| 10        | 26200    | 16706.664699 | 0.005305          |                     | 15.715583       |</pre>"
      ],
      "text/plain": [
       "| 10        | 26200    | 16706.664699 | 0.005305          |                     | 15.715583       |"
      ]
     },
     "metadata": {},
     "output_type": "display_data"
    },
    {
     "data": {
      "text/html": [
       "<pre>| 10        | 26400    | 16718.313483 | 0.005265          |                     | 17.169188       |</pre>"
      ],
      "text/plain": [
       "| 10        | 26400    | 16718.313483 | 0.005265          |                     | 17.169188       |"
      ]
     },
     "metadata": {},
     "output_type": "display_data"
    },
    {
     "data": {
      "text/html": [
       "<pre>| 10        | 26600    | 16730.393284 | 0.005263          |                     | 16.556566       |</pre>"
      ],
      "text/plain": [
       "| 10        | 26600    | 16730.393284 | 0.005263          |                     | 16.556566       |"
      ]
     },
     "metadata": {},
     "output_type": "display_data"
    },
    {
     "data": {
      "text/html": [
       "<pre>| 10        | 26800    | 16742.566525 | 0.005224          |                     | 16.429485       |</pre>"
      ],
      "text/plain": [
       "| 10        | 26800    | 16742.566525 | 0.005224          |                     | 16.429485       |"
      ]
     },
     "metadata": {},
     "output_type": "display_data"
    },
    {
     "data": {
      "text/html": [
       "<pre>| 10        | 27000    | 16754.275764 | 0.005222          |                     | 17.080505       |</pre>"
      ],
      "text/plain": [
       "| 10        | 27000    | 16754.275764 | 0.005222          |                     | 17.080505       |"
      ]
     },
     "metadata": {},
     "output_type": "display_data"
    },
    {
     "data": {
      "text/html": [
       "<pre>| 10        | 27200    | 16766.877247 | 0.005221          |                     | 15.871162       |</pre>"
      ],
      "text/plain": [
       "| 10        | 27200    | 16766.877247 | 0.005221          |                     | 15.871162       |"
      ]
     },
     "metadata": {},
     "output_type": "display_data"
    },
    {
     "data": {
      "text/html": [
       "<pre>| 10        | 27400    | 16779.219372 | 0.005219          |                     | 16.204670       |</pre>"
      ],
      "text/plain": [
       "| 10        | 27400    | 16779.219372 | 0.005219          |                     | 16.204670       |"
      ]
     },
     "metadata": {},
     "output_type": "display_data"
    },
    {
     "data": {
      "text/html": [
       "<pre>| 10        | 27600    | 16791.016504 | 0.005217          |                     | 16.953266       |</pre>"
      ],
      "text/plain": [
       "| 10        | 27600    | 16791.016504 | 0.005217          |                     | 16.953266       |"
      ]
     },
     "metadata": {},
     "output_type": "display_data"
    },
    {
     "data": {
      "text/html": [
       "<pre>| 10        | 27600    | 17047.313077 | 0.005217          | 0.005641            | 16.953266       |</pre>"
      ],
      "text/plain": [
       "| 10        | 27600    | 17047.313077 | 0.005217          | 0.005641            | 16.953266       |"
      ]
     },
     "metadata": {},
     "output_type": "display_data"
    },
    {
     "data": {
      "text/html": [
       "<pre>Checkpointing model into rep IDSIA by 1 conv graphlab net - train in 10 iters</pre>"
      ],
      "text/plain": [
       "Checkpointing model into rep IDSIA by 1 conv graphlab net - train in 10 iters"
      ]
     },
     "metadata": {},
     "output_type": "display_data"
    },
    {
     "data": {
      "text/html": [
       "<pre>+-----------+----------+--------------+-------------------+---------------------+-----------------+</pre>"
      ],
      "text/plain": [
       "+-----------+----------+--------------+-------------------+---------------------+-----------------+"
      ]
     },
     "metadata": {},
     "output_type": "display_data"
    }
   ],
   "source": [
    "trained_dato = gl.neuralnet_classifier.create(train_signs, target='label',\n",
    "                                             features=['image'],\n",
    "                                             network= dato_net,\n",
    "                                              validation_set= valid_signs,\n",
    "                                             max_iterations= 10,\n",
    "                                              model_checkpoint_path ='rep IDSIA by 1 conv graphlab net - train in 10 iters',\n",
    "                                              model_checkpoint_interval = 1\n",
    "                                             )"
   ]
  },
  {
   "cell_type": "code",
   "execution_count": null,
   "metadata": {
    "collapsed": true
   },
   "outputs": [],
   "source": []
  }
 ],
 "metadata": {
  "kernelspec": {
   "display_name": "Python 2",
   "language": "python",
   "name": "python2"
  },
  "language_info": {
   "codemirror_mode": {
    "name": "ipython",
    "version": 2
   },
   "file_extension": ".py",
   "mimetype": "text/x-python",
   "name": "python",
   "nbconvert_exporter": "python",
   "pygments_lexer": "ipython2",
   "version": "2.7.12"
  }
 },
 "nbformat": 4,
 "nbformat_minor": 0
}
