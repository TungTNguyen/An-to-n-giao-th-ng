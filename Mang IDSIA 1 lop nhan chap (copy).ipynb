{
 "cells": [
  {
   "cell_type": "code",
   "execution_count": 1,
   "metadata": {
    "collapsed": false
   },
   "outputs": [
    {
     "name": "stdout",
     "output_type": "stream",
     "text": [
      "This non-commercial license of GraphLab Create for academic use is assigned to keira1412@gmail.com and will expire on October 05, 2017.\n"
     ]
    },
    {
     "name": "stderr",
     "output_type": "stream",
     "text": [
      "[INFO] graphlab.cython.cy_server: GraphLab Create v2.1 started. Logging: /tmp/graphlab_server_1479717116.log\n"
     ]
    },
    {
     "data": {
      "text/html": [
       "<div style=\"max-height:1000px;max-width:1500px;overflow:auto;\"><table frame=\"box\" rules=\"cols\">\n",
       "    <tr>\n",
       "        <th style=\"padding-left: 1em; padding-right: 1em; text-align: center\">path</th>\n",
       "        <th style=\"padding-left: 1em; padding-right: 1em; text-align: center\">image</th>\n",
       "        <th style=\"padding-left: 1em; padding-right: 1em; text-align: center\">label</th>\n",
       "    </tr>\n",
       "    <tr>\n",
       "        <td style=\"padding-left: 1em; padding-right: 1em; text-align: center; vertical-align: top\">E:/COGNITIVE_SCIENCE/ARTI<br>FICIAL_INTELLIGENCE/R ...</td>\n",
       "        <td style=\"padding-left: 1em; padding-right: 1em; text-align: center; vertical-align: top\">Height: 48 Width: 48</td>\n",
       "        <td style=\"padding-left: 1em; padding-right: 1em; text-align: center; vertical-align: top\">18</td>\n",
       "    </tr>\n",
       "    <tr>\n",
       "        <td style=\"padding-left: 1em; padding-right: 1em; text-align: center; vertical-align: top\">E:/COGNITIVE_SCIENCE/ARTI<br>FICIAL_INTELLIGENCE/R ...</td>\n",
       "        <td style=\"padding-left: 1em; padding-right: 1em; text-align: center; vertical-align: top\">Height: 48 Width: 48</td>\n",
       "        <td style=\"padding-left: 1em; padding-right: 1em; text-align: center; vertical-align: top\">8</td>\n",
       "    </tr>\n",
       "    <tr>\n",
       "        <td style=\"padding-left: 1em; padding-right: 1em; text-align: center; vertical-align: top\">E:/COGNITIVE_SCIENCE/ARTI<br>FICIAL_INTELLIGENCE/R ...</td>\n",
       "        <td style=\"padding-left: 1em; padding-right: 1em; text-align: center; vertical-align: top\">Height: 48 Width: 48</td>\n",
       "        <td style=\"padding-left: 1em; padding-right: 1em; text-align: center; vertical-align: top\">24</td>\n",
       "    </tr>\n",
       "    <tr>\n",
       "        <td style=\"padding-left: 1em; padding-right: 1em; text-align: center; vertical-align: top\">E:/COGNITIVE_SCIENCE/ARTI<br>FICIAL_INTELLIGENCE/R ...</td>\n",
       "        <td style=\"padding-left: 1em; padding-right: 1em; text-align: center; vertical-align: top\">Height: 48 Width: 48</td>\n",
       "        <td style=\"padding-left: 1em; padding-right: 1em; text-align: center; vertical-align: top\">15</td>\n",
       "    </tr>\n",
       "    <tr>\n",
       "        <td style=\"padding-left: 1em; padding-right: 1em; text-align: center; vertical-align: top\">E:/COGNITIVE_SCIENCE/ARTI<br>FICIAL_INTELLIGENCE/R ...</td>\n",
       "        <td style=\"padding-left: 1em; padding-right: 1em; text-align: center; vertical-align: top\">Height: 48 Width: 48</td>\n",
       "        <td style=\"padding-left: 1em; padding-right: 1em; text-align: center; vertical-align: top\">9</td>\n",
       "    </tr>\n",
       "    <tr>\n",
       "        <td style=\"padding-left: 1em; padding-right: 1em; text-align: center; vertical-align: top\">E:/COGNITIVE_SCIENCE/ARTI<br>FICIAL_INTELLIGENCE/R ...</td>\n",
       "        <td style=\"padding-left: 1em; padding-right: 1em; text-align: center; vertical-align: top\">Height: 48 Width: 48</td>\n",
       "        <td style=\"padding-left: 1em; padding-right: 1em; text-align: center; vertical-align: top\">5</td>\n",
       "    </tr>\n",
       "    <tr>\n",
       "        <td style=\"padding-left: 1em; padding-right: 1em; text-align: center; vertical-align: top\">E:/COGNITIVE_SCIENCE/ARTI<br>FICIAL_INTELLIGENCE/R ...</td>\n",
       "        <td style=\"padding-left: 1em; padding-right: 1em; text-align: center; vertical-align: top\">Height: 48 Width: 48</td>\n",
       "        <td style=\"padding-left: 1em; padding-right: 1em; text-align: center; vertical-align: top\">38</td>\n",
       "    </tr>\n",
       "    <tr>\n",
       "        <td style=\"padding-left: 1em; padding-right: 1em; text-align: center; vertical-align: top\">E:/COGNITIVE_SCIENCE/ARTI<br>FICIAL_INTELLIGENCE/R ...</td>\n",
       "        <td style=\"padding-left: 1em; padding-right: 1em; text-align: center; vertical-align: top\">Height: 48 Width: 48</td>\n",
       "        <td style=\"padding-left: 1em; padding-right: 1em; text-align: center; vertical-align: top\">6</td>\n",
       "    </tr>\n",
       "    <tr>\n",
       "        <td style=\"padding-left: 1em; padding-right: 1em; text-align: center; vertical-align: top\">E:/COGNITIVE_SCIENCE/ARTI<br>FICIAL_INTELLIGENCE/R ...</td>\n",
       "        <td style=\"padding-left: 1em; padding-right: 1em; text-align: center; vertical-align: top\">Height: 48 Width: 48</td>\n",
       "        <td style=\"padding-left: 1em; padding-right: 1em; text-align: center; vertical-align: top\">10</td>\n",
       "    </tr>\n",
       "    <tr>\n",
       "        <td style=\"padding-left: 1em; padding-right: 1em; text-align: center; vertical-align: top\">E:/COGNITIVE_SCIENCE/ARTI<br>FICIAL_INTELLIGENCE/R ...</td>\n",
       "        <td style=\"padding-left: 1em; padding-right: 1em; text-align: center; vertical-align: top\">Height: 48 Width: 48</td>\n",
       "        <td style=\"padding-left: 1em; padding-right: 1em; text-align: center; vertical-align: top\">26</td>\n",
       "    </tr>\n",
       "</table>\n",
       "[39209 rows x 3 columns]<br/>Note: Only the head of the SFrame is printed.<br/>You can use print_rows(num_rows=m, num_columns=n) to print more rows and columns.\n",
       "</div>"
      ],
      "text/plain": [
       "Columns:\n",
       "\tpath\tstr\n",
       "\timage\tImage\n",
       "\tlabel\tint\n",
       "\n",
       "Rows: 39209\n",
       "\n",
       "Data:\n",
       "+-------------------------------+----------------------+-------+\n",
       "|              path             |        image         | label |\n",
       "+-------------------------------+----------------------+-------+\n",
       "| E:/COGNITIVE_SCIENCE/ARTIF... | Height: 48 Width: 48 |   18  |\n",
       "| E:/COGNITIVE_SCIENCE/ARTIF... | Height: 48 Width: 48 |   8   |\n",
       "| E:/COGNITIVE_SCIENCE/ARTIF... | Height: 48 Width: 48 |   24  |\n",
       "| E:/COGNITIVE_SCIENCE/ARTIF... | Height: 48 Width: 48 |   15  |\n",
       "| E:/COGNITIVE_SCIENCE/ARTIF... | Height: 48 Width: 48 |   9   |\n",
       "| E:/COGNITIVE_SCIENCE/ARTIF... | Height: 48 Width: 48 |   5   |\n",
       "| E:/COGNITIVE_SCIENCE/ARTIF... | Height: 48 Width: 48 |   38  |\n",
       "| E:/COGNITIVE_SCIENCE/ARTIF... | Height: 48 Width: 48 |   6   |\n",
       "| E:/COGNITIVE_SCIENCE/ARTIF... | Height: 48 Width: 48 |   10  |\n",
       "| E:/COGNITIVE_SCIENCE/ARTIF... | Height: 48 Width: 48 |   26  |\n",
       "+-------------------------------+----------------------+-------+\n",
       "[39209 rows x 3 columns]\n",
       "Note: Only the head of the SFrame is printed.\n",
       "You can use print_rows(num_rows=m, num_columns=n) to print more rows and columns."
      ]
     },
     "execution_count": 1,
     "metadata": {},
     "output_type": "execute_result"
    }
   ],
   "source": [
    "import graphlab as gl\n",
    "train_signs = gl.SFrame('train_sframe/')\n",
    "train_signs['image'] = gl.image_analysis.resize(train_signs['image'], 48,48, channels = 3)\n",
    "#28 cho Lenet, 48 cho Idsia-net. \n",
    "#3 kenh mau thi nhieu thong tin hon.\n",
    "train_signs"
   ]
  },
  {
   "cell_type": "code",
   "execution_count": 2,
   "metadata": {
    "collapsed": false
   },
   "outputs": [
    {
     "data": {
      "text/plain": [
       "\n",
       "### network layers ###\n",
       "layer[0]: ConvolutionLayer\n",
       "  init_random = gaussian\n",
       "  padding = 0\n",
       "  stride = 2\n",
       "  num_channels = 10\n",
       "  num_groups = 1\n",
       "  kernel_size = 3\n",
       "layer[1]: MaxPoolingLayer\n",
       "  padding = 0\n",
       "  stride = 2\n",
       "  kernel_size = 3\n",
       "layer[2]: FlattenLayer\n",
       "layer[3]: FullConnectionLayer\n",
       "  init_sigma = 0.01\n",
       "  init_random = gaussian\n",
       "  init_bias = 0\n",
       "  num_hidden_units = 100\n",
       "layer[4]: RectifiedLinearLayer\n",
       "layer[5]: DropoutLayer\n",
       "  threshold = 0.5\n",
       "layer[6]: FullConnectionLayer\n",
       "  init_sigma = 0.01\n",
       "  init_random = gaussian\n",
       "  init_bias = 0\n",
       "  num_hidden_units = 43\n",
       "layer[7]: SoftmaxLayer\n",
       "### end network layers ###\n",
       "\n",
       "### network parameters ###\n",
       "learning_rate = 0.001\n",
       "momentum = 0.9\n",
       "### end network parameters ###"
      ]
     },
     "execution_count": 2,
     "metadata": {},
     "output_type": "execute_result"
    }
   ],
   "source": [
    "dato_net = gl.deeplearning.create(train_signs, target='label')\n",
    "dato_net"
   ]
  },
  {
   "cell_type": "code",
   "execution_count": 3,
   "metadata": {
    "collapsed": false
   },
   "outputs": [
    {
     "data": {
      "text/plain": [
       "\n",
       "### network layers ###\n",
       "layer[0]: ConvolutionLayer\n",
       "  init_random = gaussian\n",
       "  padding = 0\n",
       "  stride = 1\n",
       "  num_channels = 100\n",
       "  num_groups = 1\n",
       "  kernel_size = 3\n",
       "layer[1]: MaxPoolingLayer\n",
       "  padding = 0\n",
       "  stride = 2\n",
       "  kernel_size = 2\n",
       "layer[2]: FlattenLayer\n",
       "layer[3]: FullConnectionLayer\n",
       "  init_sigma = 0.01\n",
       "  init_random = gaussian\n",
       "  init_bias = 0\n",
       "  num_hidden_units = 200\n",
       "layer[4]: RectifiedLinearLayer\n",
       "layer[5]: DropoutLayer\n",
       "  threshold = 0.5\n",
       "layer[6]: FullConnectionLayer\n",
       "  init_sigma = 0.01\n",
       "  init_random = gaussian\n",
       "  init_bias = 0\n",
       "  num_hidden_units = 43\n",
       "layer[7]: SoftmaxLayer\n",
       "### end network layers ###\n",
       "\n",
       "### network parameters ###\n",
       "learning_rate = 0.001\n",
       "momentum = 0.9\n",
       "### end network parameters ###"
      ]
     },
     "execution_count": 3,
     "metadata": {},
     "output_type": "execute_result"
    }
   ],
   "source": [
    "dato_net.layers[0].num_channels=100\n",
    "dato_net.layers[0].kernel_size= 3\n",
    "dato_net.layers[0].stride= 1\n",
    "\n",
    "dato_net.layers[1].kernel_size= 2\n",
    "dato_net.layers[1].stride= 2\n",
    "\n",
    "dato_net.layers[3].num_hidden_units=200\n",
    "#dato_net.layers[1].kernel_size=2\n",
    "# dato_net.layers[2] = \n",
    "dato_net"
   ]
  },
  {
   "cell_type": "code",
   "execution_count": 9,
   "metadata": {
    "collapsed": false
   },
   "outputs": [
    {
     "data": {
      "text/plain": [
       "0.32211992144660667"
      ]
     },
     "execution_count": 9,
     "metadata": {},
     "output_type": "execute_result"
    }
   ],
   "source": [
    "12630./39209"
   ]
  },
  {
   "cell_type": "code",
   "execution_count": 4,
   "metadata": {
    "collapsed": true
   },
   "outputs": [],
   "source": [
    "valid_signs, train_signs = train_signs.random_split(.322)"
   ]
  },
  {
   "cell_type": "code",
   "execution_count": 5,
   "metadata": {
    "collapsed": false
   },
   "outputs": [
    {
     "data": {
      "text/html": [
       "<div style=\"max-height:1000px;max-width:1500px;overflow:auto;\"><table frame=\"box\" rules=\"cols\">\n",
       "    <tr>\n",
       "        <th style=\"padding-left: 1em; padding-right: 1em; text-align: center\">path</th>\n",
       "        <th style=\"padding-left: 1em; padding-right: 1em; text-align: center\">image</th>\n",
       "        <th style=\"padding-left: 1em; padding-right: 1em; text-align: center\">label</th>\n",
       "    </tr>\n",
       "    <tr>\n",
       "        <td style=\"padding-left: 1em; padding-right: 1em; text-align: center; vertical-align: top\">E:/COGNITIVE_SCIENCE/ARTI<br>FICIAL_INTELLIGENCE/R ...</td>\n",
       "        <td style=\"padding-left: 1em; padding-right: 1em; text-align: center; vertical-align: top\">Height: 48 Width: 48</td>\n",
       "        <td style=\"padding-left: 1em; padding-right: 1em; text-align: center; vertical-align: top\">24</td>\n",
       "    </tr>\n",
       "    <tr>\n",
       "        <td style=\"padding-left: 1em; padding-right: 1em; text-align: center; vertical-align: top\">E:/COGNITIVE_SCIENCE/ARTI<br>FICIAL_INTELLIGENCE/R ...</td>\n",
       "        <td style=\"padding-left: 1em; padding-right: 1em; text-align: center; vertical-align: top\">Height: 48 Width: 48</td>\n",
       "        <td style=\"padding-left: 1em; padding-right: 1em; text-align: center; vertical-align: top\">4</td>\n",
       "    </tr>\n",
       "    <tr>\n",
       "        <td style=\"padding-left: 1em; padding-right: 1em; text-align: center; vertical-align: top\">E:/COGNITIVE_SCIENCE/ARTI<br>FICIAL_INTELLIGENCE/R ...</td>\n",
       "        <td style=\"padding-left: 1em; padding-right: 1em; text-align: center; vertical-align: top\">Height: 48 Width: 48</td>\n",
       "        <td style=\"padding-left: 1em; padding-right: 1em; text-align: center; vertical-align: top\">28</td>\n",
       "    </tr>\n",
       "    <tr>\n",
       "        <td style=\"padding-left: 1em; padding-right: 1em; text-align: center; vertical-align: top\">E:/COGNITIVE_SCIENCE/ARTI<br>FICIAL_INTELLIGENCE/R ...</td>\n",
       "        <td style=\"padding-left: 1em; padding-right: 1em; text-align: center; vertical-align: top\">Height: 48 Width: 48</td>\n",
       "        <td style=\"padding-left: 1em; padding-right: 1em; text-align: center; vertical-align: top\">25</td>\n",
       "    </tr>\n",
       "    <tr>\n",
       "        <td style=\"padding-left: 1em; padding-right: 1em; text-align: center; vertical-align: top\">E:/COGNITIVE_SCIENCE/ARTI<br>FICIAL_INTELLIGENCE/R ...</td>\n",
       "        <td style=\"padding-left: 1em; padding-right: 1em; text-align: center; vertical-align: top\">Height: 48 Width: 48</td>\n",
       "        <td style=\"padding-left: 1em; padding-right: 1em; text-align: center; vertical-align: top\">9</td>\n",
       "    </tr>\n",
       "    <tr>\n",
       "        <td style=\"padding-left: 1em; padding-right: 1em; text-align: center; vertical-align: top\">E:/COGNITIVE_SCIENCE/ARTI<br>FICIAL_INTELLIGENCE/R ...</td>\n",
       "        <td style=\"padding-left: 1em; padding-right: 1em; text-align: center; vertical-align: top\">Height: 48 Width: 48</td>\n",
       "        <td style=\"padding-left: 1em; padding-right: 1em; text-align: center; vertical-align: top\">25</td>\n",
       "    </tr>\n",
       "    <tr>\n",
       "        <td style=\"padding-left: 1em; padding-right: 1em; text-align: center; vertical-align: top\">E:/COGNITIVE_SCIENCE/ARTI<br>FICIAL_INTELLIGENCE/R ...</td>\n",
       "        <td style=\"padding-left: 1em; padding-right: 1em; text-align: center; vertical-align: top\">Height: 48 Width: 48</td>\n",
       "        <td style=\"padding-left: 1em; padding-right: 1em; text-align: center; vertical-align: top\">26</td>\n",
       "    </tr>\n",
       "    <tr>\n",
       "        <td style=\"padding-left: 1em; padding-right: 1em; text-align: center; vertical-align: top\">E:/COGNITIVE_SCIENCE/ARTI<br>FICIAL_INTELLIGENCE/R ...</td>\n",
       "        <td style=\"padding-left: 1em; padding-right: 1em; text-align: center; vertical-align: top\">Height: 48 Width: 48</td>\n",
       "        <td style=\"padding-left: 1em; padding-right: 1em; text-align: center; vertical-align: top\">10</td>\n",
       "    </tr>\n",
       "    <tr>\n",
       "        <td style=\"padding-left: 1em; padding-right: 1em; text-align: center; vertical-align: top\">E:/COGNITIVE_SCIENCE/ARTI<br>FICIAL_INTELLIGENCE/R ...</td>\n",
       "        <td style=\"padding-left: 1em; padding-right: 1em; text-align: center; vertical-align: top\">Height: 48 Width: 48</td>\n",
       "        <td style=\"padding-left: 1em; padding-right: 1em; text-align: center; vertical-align: top\">25</td>\n",
       "    </tr>\n",
       "    <tr>\n",
       "        <td style=\"padding-left: 1em; padding-right: 1em; text-align: center; vertical-align: top\">E:/COGNITIVE_SCIENCE/ARTI<br>FICIAL_INTELLIGENCE/R ...</td>\n",
       "        <td style=\"padding-left: 1em; padding-right: 1em; text-align: center; vertical-align: top\">Height: 48 Width: 48</td>\n",
       "        <td style=\"padding-left: 1em; padding-right: 1em; text-align: center; vertical-align: top\">24</td>\n",
       "    </tr>\n",
       "</table>\n",
       "[12650 rows x 3 columns]<br/>Note: Only the head of the SFrame is printed.<br/>You can use print_rows(num_rows=m, num_columns=n) to print more rows and columns.\n",
       "</div>"
      ],
      "text/plain": [
       "Columns:\n",
       "\tpath\tstr\n",
       "\timage\tImage\n",
       "\tlabel\tint\n",
       "\n",
       "Rows: 12650\n",
       "\n",
       "Data:\n",
       "+-------------------------------+----------------------+-------+\n",
       "|              path             |        image         | label |\n",
       "+-------------------------------+----------------------+-------+\n",
       "| E:/COGNITIVE_SCIENCE/ARTIF... | Height: 48 Width: 48 |   24  |\n",
       "| E:/COGNITIVE_SCIENCE/ARTIF... | Height: 48 Width: 48 |   4   |\n",
       "| E:/COGNITIVE_SCIENCE/ARTIF... | Height: 48 Width: 48 |   28  |\n",
       "| E:/COGNITIVE_SCIENCE/ARTIF... | Height: 48 Width: 48 |   25  |\n",
       "| E:/COGNITIVE_SCIENCE/ARTIF... | Height: 48 Width: 48 |   9   |\n",
       "| E:/COGNITIVE_SCIENCE/ARTIF... | Height: 48 Width: 48 |   25  |\n",
       "| E:/COGNITIVE_SCIENCE/ARTIF... | Height: 48 Width: 48 |   26  |\n",
       "| E:/COGNITIVE_SCIENCE/ARTIF... | Height: 48 Width: 48 |   10  |\n",
       "| E:/COGNITIVE_SCIENCE/ARTIF... | Height: 48 Width: 48 |   25  |\n",
       "| E:/COGNITIVE_SCIENCE/ARTIF... | Height: 48 Width: 48 |   24  |\n",
       "+-------------------------------+----------------------+-------+\n",
       "[12650 rows x 3 columns]\n",
       "Note: Only the head of the SFrame is printed.\n",
       "You can use print_rows(num_rows=m, num_columns=n) to print more rows and columns."
      ]
     },
     "execution_count": 5,
     "metadata": {},
     "output_type": "execute_result"
    }
   ],
   "source": [
    "valid_signs"
   ]
  },
  {
   "cell_type": "code",
   "execution_count": 7,
   "metadata": {
    "collapsed": false
   },
   "outputs": [
    {
     "data": {
      "text/html": [
       "<div style=\"max-height:1000px;max-width:1500px;overflow:auto;\"><table frame=\"box\" rules=\"cols\">\n",
       "    <tr>\n",
       "        <th style=\"padding-left: 1em; padding-right: 1em; text-align: center\">path</th>\n",
       "        <th style=\"padding-left: 1em; padding-right: 1em; text-align: center\">image</th>\n",
       "        <th style=\"padding-left: 1em; padding-right: 1em; text-align: center\">label</th>\n",
       "    </tr>\n",
       "    <tr>\n",
       "        <td style=\"padding-left: 1em; padding-right: 1em; text-align: center; vertical-align: top\">E:/COGNITIVE_SCIENCE/ARTI<br>FICIAL_INTELLIGENCE/R ...</td>\n",
       "        <td style=\"padding-left: 1em; padding-right: 1em; text-align: center; vertical-align: top\">Height: 48 Width: 48</td>\n",
       "        <td style=\"padding-left: 1em; padding-right: 1em; text-align: center; vertical-align: top\">8</td>\n",
       "    </tr>\n",
       "    <tr>\n",
       "        <td style=\"padding-left: 1em; padding-right: 1em; text-align: center; vertical-align: top\">E:/COGNITIVE_SCIENCE/ARTI<br>FICIAL_INTELLIGENCE/R ...</td>\n",
       "        <td style=\"padding-left: 1em; padding-right: 1em; text-align: center; vertical-align: top\">Height: 48 Width: 48</td>\n",
       "        <td style=\"padding-left: 1em; padding-right: 1em; text-align: center; vertical-align: top\">15</td>\n",
       "    </tr>\n",
       "    <tr>\n",
       "        <td style=\"padding-left: 1em; padding-right: 1em; text-align: center; vertical-align: top\">E:/COGNITIVE_SCIENCE/ARTI<br>FICIAL_INTELLIGENCE/R ...</td>\n",
       "        <td style=\"padding-left: 1em; padding-right: 1em; text-align: center; vertical-align: top\">Height: 48 Width: 48</td>\n",
       "        <td style=\"padding-left: 1em; padding-right: 1em; text-align: center; vertical-align: top\">9</td>\n",
       "    </tr>\n",
       "    <tr>\n",
       "        <td style=\"padding-left: 1em; padding-right: 1em; text-align: center; vertical-align: top\">E:/COGNITIVE_SCIENCE/ARTI<br>FICIAL_INTELLIGENCE/R ...</td>\n",
       "        <td style=\"padding-left: 1em; padding-right: 1em; text-align: center; vertical-align: top\">Height: 48 Width: 48</td>\n",
       "        <td style=\"padding-left: 1em; padding-right: 1em; text-align: center; vertical-align: top\">5</td>\n",
       "    </tr>\n",
       "    <tr>\n",
       "        <td style=\"padding-left: 1em; padding-right: 1em; text-align: center; vertical-align: top\">E:/COGNITIVE_SCIENCE/ARTI<br>FICIAL_INTELLIGENCE/R ...</td>\n",
       "        <td style=\"padding-left: 1em; padding-right: 1em; text-align: center; vertical-align: top\">Height: 48 Width: 48</td>\n",
       "        <td style=\"padding-left: 1em; padding-right: 1em; text-align: center; vertical-align: top\">38</td>\n",
       "    </tr>\n",
       "    <tr>\n",
       "        <td style=\"padding-left: 1em; padding-right: 1em; text-align: center; vertical-align: top\">E:/COGNITIVE_SCIENCE/ARTI<br>FICIAL_INTELLIGENCE/R ...</td>\n",
       "        <td style=\"padding-left: 1em; padding-right: 1em; text-align: center; vertical-align: top\">Height: 48 Width: 48</td>\n",
       "        <td style=\"padding-left: 1em; padding-right: 1em; text-align: center; vertical-align: top\">6</td>\n",
       "    </tr>\n",
       "    <tr>\n",
       "        <td style=\"padding-left: 1em; padding-right: 1em; text-align: center; vertical-align: top\">E:/COGNITIVE_SCIENCE/ARTI<br>FICIAL_INTELLIGENCE/R ...</td>\n",
       "        <td style=\"padding-left: 1em; padding-right: 1em; text-align: center; vertical-align: top\">Height: 48 Width: 48</td>\n",
       "        <td style=\"padding-left: 1em; padding-right: 1em; text-align: center; vertical-align: top\">10</td>\n",
       "    </tr>\n",
       "    <tr>\n",
       "        <td style=\"padding-left: 1em; padding-right: 1em; text-align: center; vertical-align: top\">E:/COGNITIVE_SCIENCE/ARTI<br>FICIAL_INTELLIGENCE/R ...</td>\n",
       "        <td style=\"padding-left: 1em; padding-right: 1em; text-align: center; vertical-align: top\">Height: 48 Width: 48</td>\n",
       "        <td style=\"padding-left: 1em; padding-right: 1em; text-align: center; vertical-align: top\">26</td>\n",
       "    </tr>\n",
       "    <tr>\n",
       "        <td style=\"padding-left: 1em; padding-right: 1em; text-align: center; vertical-align: top\">E:/COGNITIVE_SCIENCE/ARTI<br>FICIAL_INTELLIGENCE/R ...</td>\n",
       "        <td style=\"padding-left: 1em; padding-right: 1em; text-align: center; vertical-align: top\">Height: 48 Width: 48</td>\n",
       "        <td style=\"padding-left: 1em; padding-right: 1em; text-align: center; vertical-align: top\">18</td>\n",
       "    </tr>\n",
       "    <tr>\n",
       "        <td style=\"padding-left: 1em; padding-right: 1em; text-align: center; vertical-align: top\">E:/COGNITIVE_SCIENCE/ARTI<br>FICIAL_INTELLIGENCE/R ...</td>\n",
       "        <td style=\"padding-left: 1em; padding-right: 1em; text-align: center; vertical-align: top\">Height: 48 Width: 48</td>\n",
       "        <td style=\"padding-left: 1em; padding-right: 1em; text-align: center; vertical-align: top\">4</td>\n",
       "    </tr>\n",
       "</table>\n",
       "[27509 rows x 3 columns]<br/>Note: Only the head of the SFrame is printed.<br/>You can use print_rows(num_rows=m, num_columns=n) to print more rows and columns.\n",
       "</div>"
      ],
      "text/plain": [
       "Columns:\n",
       "\tpath\tstr\n",
       "\timage\tImage\n",
       "\tlabel\tint\n",
       "\n",
       "Rows: 27509\n",
       "\n",
       "Data:\n",
       "+-------------------------------+----------------------+-------+\n",
       "|              path             |        image         | label |\n",
       "+-------------------------------+----------------------+-------+\n",
       "| E:/COGNITIVE_SCIENCE/ARTIF... | Height: 48 Width: 48 |   8   |\n",
       "| E:/COGNITIVE_SCIENCE/ARTIF... | Height: 48 Width: 48 |   15  |\n",
       "| E:/COGNITIVE_SCIENCE/ARTIF... | Height: 48 Width: 48 |   9   |\n",
       "| E:/COGNITIVE_SCIENCE/ARTIF... | Height: 48 Width: 48 |   5   |\n",
       "| E:/COGNITIVE_SCIENCE/ARTIF... | Height: 48 Width: 48 |   38  |\n",
       "| E:/COGNITIVE_SCIENCE/ARTIF... | Height: 48 Width: 48 |   6   |\n",
       "| E:/COGNITIVE_SCIENCE/ARTIF... | Height: 48 Width: 48 |   10  |\n",
       "| E:/COGNITIVE_SCIENCE/ARTIF... | Height: 48 Width: 48 |   26  |\n",
       "| E:/COGNITIVE_SCIENCE/ARTIF... | Height: 48 Width: 48 |   18  |\n",
       "| E:/COGNITIVE_SCIENCE/ARTIF... | Height: 48 Width: 48 |   4   |\n",
       "+-------------------------------+----------------------+-------+\n",
       "[27509 rows x 3 columns]\n",
       "Note: Only the head of the SFrame is printed.\n",
       "You can use print_rows(num_rows=m, num_columns=n) to print more rows and columns."
      ]
     },
     "execution_count": 7,
     "metadata": {},
     "output_type": "execute_result"
    }
   ],
   "source": [
    "train_signs"
   ]
  },
  {
   "cell_type": "code",
   "execution_count": 8,
   "metadata": {
    "collapsed": false
   },
   "outputs": [
    {
     "data": {
      "text/html": [
       "<div style=\"max-height:1000px;max-width:1500px;overflow:auto;\"><table frame=\"box\" rules=\"cols\">\n",
       "    <tr>\n",
       "        <th style=\"padding-left: 1em; padding-right: 1em; text-align: center\">path</th>\n",
       "        <th style=\"padding-left: 1em; padding-right: 1em; text-align: center\">image</th>\n",
       "        <th style=\"padding-left: 1em; padding-right: 1em; text-align: center\">label</th>\n",
       "    </tr>\n",
       "    <tr>\n",
       "        <td style=\"padding-left: 1em; padding-right: 1em; text-align: center; vertical-align: top\">E:/COGNITIVE_SCIENCE/ARTI<br>FICIAL_INTELLIGENCE/R ...</td>\n",
       "        <td style=\"padding-left: 1em; padding-right: 1em; text-align: center; vertical-align: top\">Height: 48 Width: 48</td>\n",
       "        <td style=\"padding-left: 1em; padding-right: 1em; text-align: center; vertical-align: top\">26</td>\n",
       "    </tr>\n",
       "    <tr>\n",
       "        <td style=\"padding-left: 1em; padding-right: 1em; text-align: center; vertical-align: top\">E:/COGNITIVE_SCIENCE/ARTI<br>FICIAL_INTELLIGENCE/R ...</td>\n",
       "        <td style=\"padding-left: 1em; padding-right: 1em; text-align: center; vertical-align: top\">Height: 48 Width: 48</td>\n",
       "        <td style=\"padding-left: 1em; padding-right: 1em; text-align: center; vertical-align: top\">8</td>\n",
       "    </tr>\n",
       "    <tr>\n",
       "        <td style=\"padding-left: 1em; padding-right: 1em; text-align: center; vertical-align: top\">E:/COGNITIVE_SCIENCE/ARTI<br>FICIAL_INTELLIGENCE/R ...</td>\n",
       "        <td style=\"padding-left: 1em; padding-right: 1em; text-align: center; vertical-align: top\">Height: 48 Width: 48</td>\n",
       "        <td style=\"padding-left: 1em; padding-right: 1em; text-align: center; vertical-align: top\">17</td>\n",
       "    </tr>\n",
       "    <tr>\n",
       "        <td style=\"padding-left: 1em; padding-right: 1em; text-align: center; vertical-align: top\">E:/COGNITIVE_SCIENCE/ARTI<br>FICIAL_INTELLIGENCE/R ...</td>\n",
       "        <td style=\"padding-left: 1em; padding-right: 1em; text-align: center; vertical-align: top\">Height: 48 Width: 48</td>\n",
       "        <td style=\"padding-left: 1em; padding-right: 1em; text-align: center; vertical-align: top\">38</td>\n",
       "    </tr>\n",
       "    <tr>\n",
       "        <td style=\"padding-left: 1em; padding-right: 1em; text-align: center; vertical-align: top\">E:/COGNITIVE_SCIENCE/ARTI<br>FICIAL_INTELLIGENCE/R ...</td>\n",
       "        <td style=\"padding-left: 1em; padding-right: 1em; text-align: center; vertical-align: top\">Height: 48 Width: 48</td>\n",
       "        <td style=\"padding-left: 1em; padding-right: 1em; text-align: center; vertical-align: top\">35</td>\n",
       "    </tr>\n",
       "    <tr>\n",
       "        <td style=\"padding-left: 1em; padding-right: 1em; text-align: center; vertical-align: top\">E:/COGNITIVE_SCIENCE/ARTI<br>FICIAL_INTELLIGENCE/R ...</td>\n",
       "        <td style=\"padding-left: 1em; padding-right: 1em; text-align: center; vertical-align: top\">Height: 48 Width: 48</td>\n",
       "        <td style=\"padding-left: 1em; padding-right: 1em; text-align: center; vertical-align: top\">42</td>\n",
       "    </tr>\n",
       "    <tr>\n",
       "        <td style=\"padding-left: 1em; padding-right: 1em; text-align: center; vertical-align: top\">E:/COGNITIVE_SCIENCE/ARTI<br>FICIAL_INTELLIGENCE/R ...</td>\n",
       "        <td style=\"padding-left: 1em; padding-right: 1em; text-align: center; vertical-align: top\">Height: 48 Width: 48</td>\n",
       "        <td style=\"padding-left: 1em; padding-right: 1em; text-align: center; vertical-align: top\">17</td>\n",
       "    </tr>\n",
       "    <tr>\n",
       "        <td style=\"padding-left: 1em; padding-right: 1em; text-align: center; vertical-align: top\">E:/COGNITIVE_SCIENCE/ARTI<br>FICIAL_INTELLIGENCE/R ...</td>\n",
       "        <td style=\"padding-left: 1em; padding-right: 1em; text-align: center; vertical-align: top\">Height: 48 Width: 48</td>\n",
       "        <td style=\"padding-left: 1em; padding-right: 1em; text-align: center; vertical-align: top\">4</td>\n",
       "    </tr>\n",
       "    <tr>\n",
       "        <td style=\"padding-left: 1em; padding-right: 1em; text-align: center; vertical-align: top\">E:/COGNITIVE_SCIENCE/ARTI<br>FICIAL_INTELLIGENCE/R ...</td>\n",
       "        <td style=\"padding-left: 1em; padding-right: 1em; text-align: center; vertical-align: top\">Height: 48 Width: 48</td>\n",
       "        <td style=\"padding-left: 1em; padding-right: 1em; text-align: center; vertical-align: top\">1</td>\n",
       "    </tr>\n",
       "    <tr>\n",
       "        <td style=\"padding-left: 1em; padding-right: 1em; text-align: center; vertical-align: top\">E:/COGNITIVE_SCIENCE/ARTI<br>FICIAL_INTELLIGENCE/R ...</td>\n",
       "        <td style=\"padding-left: 1em; padding-right: 1em; text-align: center; vertical-align: top\">Height: 48 Width: 48</td>\n",
       "        <td style=\"padding-left: 1em; padding-right: 1em; text-align: center; vertical-align: top\">2</td>\n",
       "    </tr>\n",
       "</table>\n",
       "[12630 rows x 3 columns]<br/>Note: Only the head of the SFrame is printed.<br/>You can use print_rows(num_rows=m, num_columns=n) to print more rows and columns.\n",
       "</div>"
      ],
      "text/plain": [
       "Columns:\n",
       "\tpath\tstr\n",
       "\timage\tImage\n",
       "\tlabel\tint\n",
       "\n",
       "Rows: 12630\n",
       "\n",
       "Data:\n",
       "+-------------------------------+----------------------+-------+\n",
       "|              path             |        image         | label |\n",
       "+-------------------------------+----------------------+-------+\n",
       "| E:/COGNITIVE_SCIENCE/ARTIF... | Height: 48 Width: 48 |   26  |\n",
       "| E:/COGNITIVE_SCIENCE/ARTIF... | Height: 48 Width: 48 |   8   |\n",
       "| E:/COGNITIVE_SCIENCE/ARTIF... | Height: 48 Width: 48 |   17  |\n",
       "| E:/COGNITIVE_SCIENCE/ARTIF... | Height: 48 Width: 48 |   38  |\n",
       "| E:/COGNITIVE_SCIENCE/ARTIF... | Height: 48 Width: 48 |   35  |\n",
       "| E:/COGNITIVE_SCIENCE/ARTIF... | Height: 48 Width: 48 |   42  |\n",
       "| E:/COGNITIVE_SCIENCE/ARTIF... | Height: 48 Width: 48 |   17  |\n",
       "| E:/COGNITIVE_SCIENCE/ARTIF... | Height: 48 Width: 48 |   4   |\n",
       "| E:/COGNITIVE_SCIENCE/ARTIF... | Height: 48 Width: 48 |   1   |\n",
       "| E:/COGNITIVE_SCIENCE/ARTIF... | Height: 48 Width: 48 |   2   |\n",
       "+-------------------------------+----------------------+-------+\n",
       "[12630 rows x 3 columns]\n",
       "Note: Only the head of the SFrame is printed.\n",
       "You can use print_rows(num_rows=m, num_columns=n) to print more rows and columns."
      ]
     },
     "execution_count": 8,
     "metadata": {},
     "output_type": "execute_result"
    }
   ],
   "source": [
    "test_signs= gl.SFrame('test_sframe/')\n",
    "test_signs['image'] = gl.image_analysis.resize(test_signs['image'], 48, 48, channels= 3)\n",
    "#28 cho Lenet, 30 (mình chọn) cho mạng dato 1000 lượt, \n",
    "#48 cho idsia net, 3 channels \n",
    "test_signs\n",
    "# idsia_net_6_iter.evaluate(test_signs)"
   ]
  },
  {
   "cell_type": "code",
   "execution_count": 6,
   "metadata": {
    "collapsed": false
   },
   "outputs": [
    {
     "name": "stdout",
     "output_type": "stream",
     "text": [
      "Using network:\n",
      "\n",
      "### network layers ###\n",
      "layer[0]: ConvolutionLayer\n",
      "  init_random = gaussian\n",
      "  padding = 0\n",
      "  stride = 1\n",
      "  num_channels = 100\n",
      "  num_groups = 1\n",
      "  kernel_size = 3\n",
      "layer[1]: MaxPoolingLayer\n",
      "  padding = 0\n",
      "  stride = 2\n",
      "  kernel_size = 2\n",
      "layer[2]: FlattenLayer\n",
      "layer[3]: FullConnectionLayer\n",
      "  init_sigma = 0.01\n",
      "  init_random = gaussian\n",
      "  init_bias = 0\n",
      "  num_hidden_units = 200\n",
      "layer[4]: RectifiedLinearLayer\n",
      "layer[5]: DropoutLayer\n",
      "  threshold = 0.5\n",
      "layer[6]: FullConnectionLayer\n",
      "  init_sigma = 0.01\n",
      "  init_random = gaussian\n",
      "  init_bias = 0\n",
      "  num_hidden_units = 43\n",
      "layer[7]: SoftmaxLayer\n",
      "### end network layers ###\n",
      "\n",
      "### network parameters ###\n",
      "model_checkpoint_interval = 1\n",
      "learning_rate = 0.001\n",
      "momentum = 0.9\n",
      "model_checkpoint_path = rep IDSIA by 1 conv graphlab net - train in 10 iters\n",
      "### end network parameters ###\n",
      "\n"
     ]
    },
    {
     "data": {
      "text/html": [
       "<pre>Computing mean image...</pre>"
      ],
      "text/plain": [
       "Computing mean image..."
      ]
     },
     "metadata": {},
     "output_type": "display_data"
    },
    {
     "data": {
      "text/html": [
       "<pre>Done computing mean image.</pre>"
      ],
      "text/plain": [
       "Done computing mean image."
      ]
     },
     "metadata": {},
     "output_type": "display_data"
    },
    {
     "data": {
      "text/html": [
       "<pre>For Nvidia GPU CUDA support, please go to https://turi.com/download/install-graphlab-create-gpu.html</pre>"
      ],
      "text/plain": [
       "For Nvidia GPU CUDA support, please go to https://turi.com/download/install-graphlab-create-gpu.html"
      ]
     },
     "metadata": {},
     "output_type": "display_data"
    },
    {
     "data": {
      "text/html": [
       "<pre>Creating neuralnet using cpu</pre>"
      ],
      "text/plain": [
       "Creating neuralnet using cpu"
      ]
     },
     "metadata": {},
     "output_type": "display_data"
    },
    {
     "data": {
      "text/html": [
       "<pre>Training with batch size = 100</pre>"
      ],
      "text/plain": [
       "Training with batch size = 100"
      ]
     },
     "metadata": {},
     "output_type": "display_data"
    },
    {
     "data": {
      "text/html": [
       "<pre>+-----------+----------+--------------+-------------------+---------------------+-----------------+</pre>"
      ],
      "text/plain": [
       "+-----------+----------+--------------+-------------------+---------------------+-----------------+"
      ]
     },
     "metadata": {},
     "output_type": "display_data"
    },
    {
     "data": {
      "text/html": [
       "<pre>| Iteration | Examples | Elapsed Time | Training-accuracy | Validation-accuracy | Examples/second |</pre>"
      ],
      "text/plain": [
       "| Iteration | Examples | Elapsed Time | Training-accuracy | Validation-accuracy | Examples/second |"
      ]
     },
     "metadata": {},
     "output_type": "display_data"
    },
    {
     "data": {
      "text/html": [
       "<pre>+-----------+----------+--------------+-------------------+---------------------+-----------------+</pre>"
      ],
      "text/plain": [
       "+-----------+----------+--------------+-------------------+---------------------+-----------------+"
      ]
     },
     "metadata": {},
     "output_type": "display_data"
    },
    {
     "data": {
      "text/html": [
       "<pre>| 1         | 200      | 13.574006    | 0.025000          |                     | 14.734126       |</pre>"
      ],
      "text/plain": [
       "| 1         | 200      | 13.574006    | 0.025000          |                     | 14.734126       |"
      ]
     },
     "metadata": {},
     "output_type": "display_data"
    },
    {
     "data": {
      "text/html": [
       "<pre>| 1         | 500      | 27.398461    | 0.052000          |                     | 21.700642       |</pre>"
      ],
      "text/plain": [
       "| 1         | 500      | 27.398461    | 0.052000          |                     | 21.700642       |"
      ]
     },
     "metadata": {},
     "output_type": "display_data"
    },
    {
     "data": {
      "text/html": [
       "<pre>| 1         | 800      | 40.947919    | 0.076250          |                     | 22.141092       |</pre>"
      ],
      "text/plain": [
       "| 1         | 800      | 40.947919    | 0.076250          |                     | 22.141092       |"
      ]
     },
     "metadata": {},
     "output_type": "display_data"
    },
    {
     "data": {
      "text/html": [
       "<pre>| 1         | 1100     | 54.120620    | 0.094545          |                     | 22.774387       |</pre>"
      ],
      "text/plain": [
       "| 1         | 1100     | 54.120620    | 0.094545          |                     | 22.774387       |"
      ]
     },
     "metadata": {},
     "output_type": "display_data"
    },
    {
     "data": {
      "text/html": [
       "<pre>| 1         | 1400     | 67.838540    | 0.119286          |                     | 21.869202       |</pre>"
      ],
      "text/plain": [
       "| 1         | 1400     | 67.838540    | 0.119286          |                     | 21.869202       |"
      ]
     },
     "metadata": {},
     "output_type": "display_data"
    },
    {
     "data": {
      "text/html": [
       "<pre>| 1         | 1700     | 81.348771    | 0.137059          |                     | 22.205387       |</pre>"
      ],
      "text/plain": [
       "| 1         | 1700     | 81.348771    | 0.137059          |                     | 22.205387       |"
      ]
     },
     "metadata": {},
     "output_type": "display_data"
    },
    {
     "data": {
      "text/html": [
       "<pre>| 1         | 2000     | 94.805596    | 0.168500          |                     | 22.293474       |</pre>"
      ],
      "text/plain": [
       "| 1         | 2000     | 94.805596    | 0.168500          |                     | 22.293474       |"
      ]
     },
     "metadata": {},
     "output_type": "display_data"
    },
    {
     "data": {
      "text/html": [
       "<pre>| 1         | 2300     | 107.495854   | 0.180000          |                     | 23.640226       |</pre>"
      ],
      "text/plain": [
       "| 1         | 2300     | 107.495854   | 0.180000          |                     | 23.640226       |"
      ]
     },
     "metadata": {},
     "output_type": "display_data"
    },
    {
     "data": {
      "text/html": [
       "<pre>| 1         | 2600     | 121.262530   | 0.188077          |                     | 21.791758       |</pre>"
      ],
      "text/plain": [
       "| 1         | 2600     | 121.262530   | 0.188077          |                     | 21.791758       |"
      ]
     },
     "metadata": {},
     "output_type": "display_data"
    },
    {
     "data": {
      "text/html": [
       "<pre>| 1         | 2900     | 133.837508   | 0.199655          |                     | 23.856857       |</pre>"
      ],
      "text/plain": [
       "| 1         | 2900     | 133.837508   | 0.199655          |                     | 23.856857       |"
      ]
     },
     "metadata": {},
     "output_type": "display_data"
    },
    {
     "data": {
      "text/html": [
       "<pre>| 1         | 3200     | 146.486887   | 0.213437          |                     | 23.716602       |</pre>"
      ],
      "text/plain": [
       "| 1         | 3200     | 146.486887   | 0.213437          |                     | 23.716602       |"
      ]
     },
     "metadata": {},
     "output_type": "display_data"
    },
    {
     "data": {
      "text/html": [
       "<pre>| 1         | 3500     | 159.570363   | 0.229143          |                     | 22.929707       |</pre>"
      ],
      "text/plain": [
       "| 1         | 3500     | 159.570363   | 0.229143          |                     | 22.929707       |"
      ]
     },
     "metadata": {},
     "output_type": "display_data"
    },
    {
     "data": {
      "text/html": [
       "<pre>| 1         | 3800     | 173.331545   | 0.238684          |                     | 21.800419       |</pre>"
      ],
      "text/plain": [
       "| 1         | 3800     | 173.331545   | 0.238684          |                     | 21.800419       |"
      ]
     },
     "metadata": {},
     "output_type": "display_data"
    },
    {
     "data": {
      "text/html": [
       "<pre>| 1         | 4100     | 186.128347   | 0.248780          |                     | 23.443398       |</pre>"
      ],
      "text/plain": [
       "| 1         | 4100     | 186.128347   | 0.248780          |                     | 23.443398       |"
      ]
     },
     "metadata": {},
     "output_type": "display_data"
    },
    {
     "data": {
      "text/html": [
       "<pre>| 1         | 4400     | 199.230114   | 0.260455          |                     | 22.897665       |</pre>"
      ],
      "text/plain": [
       "| 1         | 4400     | 199.230114   | 0.260455          |                     | 22.897665       |"
      ]
     },
     "metadata": {},
     "output_type": "display_data"
    },
    {
     "data": {
      "text/html": [
       "<pre>| 1         | 4700     | 212.917457   | 0.272979          |                     | 21.918068       |</pre>"
      ],
      "text/plain": [
       "| 1         | 4700     | 212.917457   | 0.272979          |                     | 21.918068       |"
      ]
     },
     "metadata": {},
     "output_type": "display_data"
    },
    {
     "data": {
      "text/html": [
       "<pre>| 1         | 5000     | 226.014328   | 0.283400          |                     | 22.906250       |</pre>"
      ],
      "text/plain": [
       "| 1         | 5000     | 226.014328   | 0.283400          |                     | 22.906250       |"
      ]
     },
     "metadata": {},
     "output_type": "display_data"
    },
    {
     "data": {
      "text/html": [
       "<pre>| 1         | 5300     | 238.350838   | 0.294528          |                     | 24.317987       |</pre>"
      ],
      "text/plain": [
       "| 1         | 5300     | 238.350838   | 0.294528          |                     | 24.317987       |"
      ]
     },
     "metadata": {},
     "output_type": "display_data"
    },
    {
     "data": {
      "text/html": [
       "<pre>| 1         | 5600     | 250.591788   | 0.300714          |                     | 24.507957       |</pre>"
      ],
      "text/plain": [
       "| 1         | 5600     | 250.591788   | 0.300714          |                     | 24.507957       |"
      ]
     },
     "metadata": {},
     "output_type": "display_data"
    },
    {
     "data": {
      "text/html": [
       "<pre>| 1         | 5900     | 264.733753   | 0.307797          |                     | 21.213423       |</pre>"
      ],
      "text/plain": [
       "| 1         | 5900     | 264.733753   | 0.307797          |                     | 21.213423       |"
      ]
     },
     "metadata": {},
     "output_type": "display_data"
    },
    {
     "data": {
      "text/html": [
       "<pre>| 1         | 6200     | 277.186831   | 0.312742          |                     | 24.090439       |</pre>"
      ],
      "text/plain": [
       "| 1         | 6200     | 277.186831   | 0.312742          |                     | 24.090439       |"
      ]
     },
     "metadata": {},
     "output_type": "display_data"
    },
    {
     "data": {
      "text/html": [
       "<pre>| 1         | 6500     | 290.505747   | 0.319385          |                     | 22.524395       |</pre>"
      ],
      "text/plain": [
       "| 1         | 6500     | 290.505747   | 0.319385          |                     | 22.524395       |"
      ]
     },
     "metadata": {},
     "output_type": "display_data"
    },
    {
     "data": {
      "text/html": [
       "<pre>| 1         | 6800     | 304.278296   | 0.325588          |                     | 21.782459       |</pre>"
      ],
      "text/plain": [
       "| 1         | 6800     | 304.278296   | 0.325588          |                     | 21.782459       |"
      ]
     },
     "metadata": {},
     "output_type": "display_data"
    },
    {
     "data": {
      "text/html": [
       "<pre>| 1         | 7100     | 316.688039   | 0.330282          |                     | 24.174503       |</pre>"
      ],
      "text/plain": [
       "| 1         | 7100     | 316.688039   | 0.330282          |                     | 24.174503       |"
      ]
     },
     "metadata": {},
     "output_type": "display_data"
    },
    {
     "data": {
      "text/html": [
       "<pre>| 1         | 7400     | 329.361468   | 0.336351          |                     | 23.671600       |</pre>"
      ],
      "text/plain": [
       "| 1         | 7400     | 329.361468   | 0.336351          |                     | 23.671600       |"
      ]
     },
     "metadata": {},
     "output_type": "display_data"
    },
    {
     "data": {
      "text/html": [
       "<pre>| 1         | 7700     | 341.885357   | 0.343117          |                     | 23.954201       |</pre>"
      ],
      "text/plain": [
       "| 1         | 7700     | 341.885357   | 0.343117          |                     | 23.954201       |"
      ]
     },
     "metadata": {},
     "output_type": "display_data"
    },
    {
     "data": {
      "text/html": [
       "<pre>| 1         | 8000     | 355.470073   | 0.347250          |                     | 22.083689       |</pre>"
      ],
      "text/plain": [
       "| 1         | 8000     | 355.470073   | 0.347250          |                     | 22.083689       |"
      ]
     },
     "metadata": {},
     "output_type": "display_data"
    },
    {
     "data": {
      "text/html": [
       "<pre>| 1         | 8300     | 368.144062   | 0.352651          |                     | 23.670462       |</pre>"
      ],
      "text/plain": [
       "| 1         | 8300     | 368.144062   | 0.352651          |                     | 23.670462       |"
      ]
     },
     "metadata": {},
     "output_type": "display_data"
    },
    {
     "data": {
      "text/html": [
       "<pre>| 1         | 8600     | 380.530435   | 0.358372          |                     | 24.220161       |</pre>"
      ],
      "text/plain": [
       "| 1         | 8600     | 380.530435   | 0.358372          |                     | 24.220161       |"
      ]
     },
     "metadata": {},
     "output_type": "display_data"
    },
    {
     "data": {
      "text/html": [
       "<pre>| 1         | 8900     | 393.383432   | 0.363933          |                     | 23.340912       |</pre>"
      ],
      "text/plain": [
       "| 1         | 8900     | 393.383432   | 0.363933          |                     | 23.340912       |"
      ]
     },
     "metadata": {},
     "output_type": "display_data"
    },
    {
     "data": {
      "text/html": [
       "<pre>| 1         | 9200     | 406.998129   | 0.368913          |                     | 22.034990       |</pre>"
      ],
      "text/plain": [
       "| 1         | 9200     | 406.998129   | 0.368913          |                     | 22.034990       |"
      ]
     },
     "metadata": {},
     "output_type": "display_data"
    },
    {
     "data": {
      "text/html": [
       "<pre>| 1         | 9500     | 419.695046   | 0.374316          |                     | 23.627752       |</pre>"
      ],
      "text/plain": [
       "| 1         | 9500     | 419.695046   | 0.374316          |                     | 23.627752       |"
      ]
     },
     "metadata": {},
     "output_type": "display_data"
    },
    {
     "data": {
      "text/html": [
       "<pre>| 1         | 9800     | 432.920459   | 0.379286          |                     | 22.683632       |</pre>"
      ],
      "text/plain": [
       "| 1         | 9800     | 432.920459   | 0.379286          |                     | 22.683632       |"
      ]
     },
     "metadata": {},
     "output_type": "display_data"
    },
    {
     "data": {
      "text/html": [
       "<pre>| 1         | 10100    | 446.535012   | 0.382277          |                     | 22.035215       |</pre>"
      ],
      "text/plain": [
       "| 1         | 10100    | 446.535012   | 0.382277          |                     | 22.035215       |"
      ]
     },
     "metadata": {},
     "output_type": "display_data"
    },
    {
     "data": {
      "text/html": [
       "<pre>| 1         | 10400    | 458.838425   | 0.387308          |                     | 24.383474       |</pre>"
      ],
      "text/plain": [
       "| 1         | 10400    | 458.838425   | 0.387308          |                     | 24.383474       |"
      ]
     },
     "metadata": {},
     "output_type": "display_data"
    },
    {
     "data": {
      "text/html": [
       "<pre>| 1         | 10700    | 471.675025   | 0.391402          |                     | 23.370714       |</pre>"
      ],
      "text/plain": [
       "| 1         | 10700    | 471.675025   | 0.391402          |                     | 23.370714       |"
      ]
     },
     "metadata": {},
     "output_type": "display_data"
    },
    {
     "data": {
      "text/html": [
       "<pre>| 1         | 11000    | 483.967485   | 0.396727          |                     | 24.405205       |</pre>"
      ],
      "text/plain": [
       "| 1         | 11000    | 483.967485   | 0.396727          |                     | 24.405205       |"
      ]
     },
     "metadata": {},
     "output_type": "display_data"
    },
    {
     "data": {
      "text/html": [
       "<pre>| 1         | 11300    | 497.802014   | 0.400088          |                     | 21.684879       |</pre>"
      ],
      "text/plain": [
       "| 1         | 11300    | 497.802014   | 0.400088          |                     | 21.684879       |"
      ]
     },
     "metadata": {},
     "output_type": "display_data"
    },
    {
     "data": {
      "text/html": [
       "<pre>| 1         | 11600    | 510.316018   | 0.403362          |                     | 23.973101       |</pre>"
      ],
      "text/plain": [
       "| 1         | 11600    | 510.316018   | 0.403362          |                     | 23.973101       |"
      ]
     },
     "metadata": {},
     "output_type": "display_data"
    },
    {
     "data": {
      "text/html": [
       "<pre>| 1         | 11900    | 522.835037   | 0.407731          |                     | 23.963526       |</pre>"
      ],
      "text/plain": [
       "| 1         | 11900    | 522.835037   | 0.407731          |                     | 23.963526       |"
      ]
     },
     "metadata": {},
     "output_type": "display_data"
    },
    {
     "data": {
      "text/html": [
       "<pre>| 1         | 12200    | 536.618655   | 0.411639          |                     | 21.764971       |</pre>"
      ],
      "text/plain": [
       "| 1         | 12200    | 536.618655   | 0.411639          |                     | 21.764971       |"
      ]
     },
     "metadata": {},
     "output_type": "display_data"
    },
    {
     "data": {
      "text/html": [
       "<pre>| 1         | 12500    | 548.531828   | 0.413840          |                     | 25.182220       |</pre>"
      ],
      "text/plain": [
       "| 1         | 12500    | 548.531828   | 0.413840          |                     | 25.182220       |"
      ]
     },
     "metadata": {},
     "output_type": "display_data"
    },
    {
     "data": {
      "text/html": [
       "<pre>| 1         | 12800    | 560.724937   | 0.418203          |                     | 24.604097       |</pre>"
      ],
      "text/plain": [
       "| 1         | 12800    | 560.724937   | 0.418203          |                     | 24.604097       |"
      ]
     },
     "metadata": {},
     "output_type": "display_data"
    },
    {
     "data": {
      "text/html": [
       "<pre>| 1         | 13100    | 573.102758   | 0.421374          |                     | 24.236851       |</pre>"
      ],
      "text/plain": [
       "| 1         | 13100    | 573.102758   | 0.421374          |                     | 24.236851       |"
      ]
     },
     "metadata": {},
     "output_type": "display_data"
    },
    {
     "data": {
      "text/html": [
       "<pre>| 1         | 13400    | 586.753824   | 0.424328          |                     | 21.976326       |</pre>"
      ],
      "text/plain": [
       "| 1         | 13400    | 586.753824   | 0.424328          |                     | 21.976326       |"
      ]
     },
     "metadata": {},
     "output_type": "display_data"
    },
    {
     "data": {
      "text/html": [
       "<pre>| 1         | 13700    | 599.641775   | 0.428540          |                     | 23.277586       |</pre>"
      ],
      "text/plain": [
       "| 1         | 13700    | 599.641775   | 0.428540          |                     | 23.277586       |"
      ]
     },
     "metadata": {},
     "output_type": "display_data"
    },
    {
     "data": {
      "text/html": [
       "<pre>| 1         | 14000    | 611.758336   | 0.431357          |                     | 24.759441       |</pre>"
      ],
      "text/plain": [
       "| 1         | 14000    | 611.758336   | 0.431357          |                     | 24.759441       |"
      ]
     },
     "metadata": {},
     "output_type": "display_data"
    },
    {
     "data": {
      "text/html": [
       "<pre>| 1         | 14300    | 624.456448   | 0.433986          |                     | 23.625608       |</pre>"
      ],
      "text/plain": [
       "| 1         | 14300    | 624.456448   | 0.433986          |                     | 23.625608       |"
      ]
     },
     "metadata": {},
     "output_type": "display_data"
    },
    {
     "data": {
      "text/html": [
       "<pre>| 1         | 14600    | 637.689151   | 0.436301          |                     | 22.671064       |</pre>"
      ],
      "text/plain": [
       "| 1         | 14600    | 637.689151   | 0.436301          |                     | 22.671064       |"
      ]
     },
     "metadata": {},
     "output_type": "display_data"
    },
    {
     "data": {
      "text/html": [
       "<pre>| 1         | 14900    | 649.863935   | 0.439329          |                     | 24.641108       |</pre>"
      ],
      "text/plain": [
       "| 1         | 14900    | 649.863935   | 0.439329          |                     | 24.641108       |"
      ]
     },
     "metadata": {},
     "output_type": "display_data"
    },
    {
     "data": {
      "text/html": [
       "<pre>| 1         | 15200    | 662.344192   | 0.442500          |                     | 24.038000       |</pre>"
      ],
      "text/plain": [
       "| 1         | 15200    | 662.344192   | 0.442500          |                     | 24.038000       |"
      ]
     },
     "metadata": {},
     "output_type": "display_data"
    },
    {
     "data": {
      "text/html": [
       "<pre>| 1         | 15500    | 675.371746   | 0.445677          |                     | 23.028065       |</pre>"
      ],
      "text/plain": [
       "| 1         | 15500    | 675.371746   | 0.445677          |                     | 23.028065       |"
      ]
     },
     "metadata": {},
     "output_type": "display_data"
    },
    {
     "data": {
      "text/html": [
       "<pre>| 1         | 15800    | 687.265905   | 0.449051          |                     | 25.222519       |</pre>"
      ],
      "text/plain": [
       "| 1         | 15800    | 687.265905   | 0.449051          |                     | 25.222519       |"
      ]
     },
     "metadata": {},
     "output_type": "display_data"
    },
    {
     "data": {
      "text/html": [
       "<pre>| 1         | 16100    | 699.305161   | 0.452609          |                     | 24.918503       |</pre>"
      ],
      "text/plain": [
       "| 1         | 16100    | 699.305161   | 0.452609          |                     | 24.918503       |"
      ]
     },
     "metadata": {},
     "output_type": "display_data"
    },
    {
     "data": {
      "text/html": [
       "<pre>| 1         | 16400    | 711.471621   | 0.454939          |                     | 24.657881       |</pre>"
      ],
      "text/plain": [
       "| 1         | 16400    | 711.471621   | 0.454939          |                     | 24.657881       |"
      ]
     },
     "metadata": {},
     "output_type": "display_data"
    },
    {
     "data": {
      "text/html": [
       "<pre>| 1         | 16700    | 724.380394   | 0.458323          |                     | 23.240063       |</pre>"
      ],
      "text/plain": [
       "| 1         | 16700    | 724.380394   | 0.458323          |                     | 23.240063       |"
      ]
     },
     "metadata": {},
     "output_type": "display_data"
    },
    {
     "data": {
      "text/html": [
       "<pre>| 1         | 17000    | 737.313219   | 0.461647          |                     | 23.196741       |</pre>"
      ],
      "text/plain": [
       "| 1         | 17000    | 737.313219   | 0.461647          |                     | 23.196741       |"
      ]
     },
     "metadata": {},
     "output_type": "display_data"
    },
    {
     "data": {
      "text/html": [
       "<pre>| 1         | 17300    | 749.360844   | 0.464335          |                     | 24.901175       |</pre>"
      ],
      "text/plain": [
       "| 1         | 17300    | 749.360844   | 0.464335          |                     | 24.901175       |"
      ]
     },
     "metadata": {},
     "output_type": "display_data"
    },
    {
     "data": {
      "text/html": [
       "<pre>| 1         | 17600    | 761.963904   | 0.466932          |                     | 23.803789       |</pre>"
      ],
      "text/plain": [
       "| 1         | 17600    | 761.963904   | 0.466932          |                     | 23.803789       |"
      ]
     },
     "metadata": {},
     "output_type": "display_data"
    },
    {
     "data": {
      "text/html": [
       "<pre>| 1         | 17900    | 775.466148   | 0.470279          |                     | 22.218485       |</pre>"
      ],
      "text/plain": [
       "| 1         | 17900    | 775.466148   | 0.470279          |                     | 22.218485       |"
      ]
     },
     "metadata": {},
     "output_type": "display_data"
    },
    {
     "data": {
      "text/html": [
       "<pre>| 1         | 18200    | 787.541833   | 0.472967          |                     | 24.843321       |</pre>"
      ],
      "text/plain": [
       "| 1         | 18200    | 787.541833   | 0.472967          |                     | 24.843321       |"
      ]
     },
     "metadata": {},
     "output_type": "display_data"
    },
    {
     "data": {
      "text/html": [
       "<pre>| 1         | 18500    | 799.975572   | 0.476000          |                     | 24.127890       |</pre>"
      ],
      "text/plain": [
       "| 1         | 18500    | 799.975572   | 0.476000          |                     | 24.127890       |"
      ]
     },
     "metadata": {},
     "output_type": "display_data"
    },
    {
     "data": {
      "text/html": [
       "<pre>| 1         | 18800    | 811.998791   | 0.478032          |                     | 24.951723       |</pre>"
      ],
      "text/plain": [
       "| 1         | 18800    | 811.998791   | 0.478032          |                     | 24.951723       |"
      ]
     },
     "metadata": {},
     "output_type": "display_data"
    },
    {
     "data": {
      "text/html": [
       "<pre>| 1         | 19100    | 825.489631   | 0.480681          |                     | 22.237310       |</pre>"
      ],
      "text/plain": [
       "| 1         | 19100    | 825.489631   | 0.480681          |                     | 22.237310       |"
      ]
     },
     "metadata": {},
     "output_type": "display_data"
    },
    {
     "data": {
      "text/html": [
       "<pre>| 1         | 19400    | 838.110225   | 0.483660          |                     | 23.770676       |</pre>"
      ],
      "text/plain": [
       "| 1         | 19400    | 838.110225   | 0.483660          |                     | 23.770676       |"
      ]
     },
     "metadata": {},
     "output_type": "display_data"
    },
    {
     "data": {
      "text/html": [
       "<pre>| 1         | 19700    | 850.683722   | 0.485888          |                     | 23.859722       |</pre>"
      ],
      "text/plain": [
       "| 1         | 19700    | 850.683722   | 0.485888          |                     | 23.859722       |"
      ]
     },
     "metadata": {},
     "output_type": "display_data"
    },
    {
     "data": {
      "text/html": [
       "<pre>| 1         | 20000    | 863.742652   | 0.488350          |                     | 22.972824       |</pre>"
      ],
      "text/plain": [
       "| 1         | 20000    | 863.742652   | 0.488350          |                     | 22.972824       |"
      ]
     },
     "metadata": {},
     "output_type": "display_data"
    },
    {
     "data": {
      "text/html": [
       "<pre>| 1         | 20300    | 877.088250   | 0.490985          |                     | 22.479294       |</pre>"
      ],
      "text/plain": [
       "| 1         | 20300    | 877.088250   | 0.490985          |                     | 22.479294       |"
      ]
     },
     "metadata": {},
     "output_type": "display_data"
    },
    {
     "data": {
      "text/html": [
       "<pre>| 1         | 20600    | 889.384117   | 0.493786          |                     | 24.398426       |</pre>"
      ],
      "text/plain": [
       "| 1         | 20600    | 889.384117   | 0.493786          |                     | 24.398426       |"
      ]
     },
     "metadata": {},
     "output_type": "display_data"
    },
    {
     "data": {
      "text/html": [
       "<pre>| 1         | 20900    | 901.696347   | 0.495311          |                     | 24.366055       |</pre>"
      ],
      "text/plain": [
       "| 1         | 20900    | 901.696347   | 0.495311          |                     | 24.366055       |"
      ]
     },
     "metadata": {},
     "output_type": "display_data"
    },
    {
     "data": {
      "text/html": [
       "<pre>| 1         | 21200    | 914.795869   | 0.497453          |                     | 22.901567       |</pre>"
      ],
      "text/plain": [
       "| 1         | 21200    | 914.795869   | 0.497453          |                     | 22.901567       |"
      ]
     },
     "metadata": {},
     "output_type": "display_data"
    },
    {
     "data": {
      "text/html": [
       "<pre>| 1         | 21500    | 925.846042   | 0.499581          |                     | 27.148888       |</pre>"
      ],
      "text/plain": [
       "| 1         | 21500    | 925.846042   | 0.499581          |                     | 27.148888       |"
      ]
     },
     "metadata": {},
     "output_type": "display_data"
    },
    {
     "data": {
      "text/html": [
       "<pre>| 1         | 21800    | 938.447763   | 0.501881          |                     | 23.806269       |</pre>"
      ],
      "text/plain": [
       "| 1         | 21800    | 938.447763   | 0.501881          |                     | 23.806269       |"
      ]
     },
     "metadata": {},
     "output_type": "display_data"
    },
    {
     "data": {
      "text/html": [
       "<pre>| 1         | 22100    | 950.337627   | 0.504570          |                     | 25.231577       |</pre>"
      ],
      "text/plain": [
       "| 1         | 22100    | 950.337627   | 0.504570          |                     | 25.231577       |"
      ]
     },
     "metadata": {},
     "output_type": "display_data"
    },
    {
     "data": {
      "text/html": [
       "<pre>| 1         | 22400    | 963.012154   | 0.506116          |                     | 23.669561       |</pre>"
      ],
      "text/plain": [
       "| 1         | 22400    | 963.012154   | 0.506116          |                     | 23.669561       |"
      ]
     },
     "metadata": {},
     "output_type": "display_data"
    },
    {
     "data": {
      "text/html": [
       "<pre>| 1         | 22700    | 976.507196   | 0.507577          |                     | 22.230391       |</pre>"
      ],
      "text/plain": [
       "| 1         | 22700    | 976.507196   | 0.507577          |                     | 22.230391       |"
      ]
     },
     "metadata": {},
     "output_type": "display_data"
    },
    {
     "data": {
      "text/html": [
       "<pre>| 1         | 23000    | 988.988820   | 0.509087          |                     | 24.035301       |</pre>"
      ],
      "text/plain": [
       "| 1         | 23000    | 988.988820   | 0.509087          |                     | 24.035301       |"
      ]
     },
     "metadata": {},
     "output_type": "display_data"
    },
    {
     "data": {
      "text/html": [
       "<pre>| 1         | 23300    | 1002.805556  | 0.510429          |                     | 21.712839       |</pre>"
      ],
      "text/plain": [
       "| 1         | 23300    | 1002.805556  | 0.510429          |                     | 21.712839       |"
      ]
     },
     "metadata": {},
     "output_type": "display_data"
    },
    {
     "data": {
      "text/html": [
       "<pre>| 1         | 23600    | 1015.262026  | 0.512034          |                     | 24.083799       |</pre>"
      ],
      "text/plain": [
       "| 1         | 23600    | 1015.262026  | 0.512034          |                     | 24.083799       |"
      ]
     },
     "metadata": {},
     "output_type": "display_data"
    },
    {
     "data": {
      "text/html": [
       "<pre>| 1         | 23900    | 1026.878621  | 0.513891          |                     | 25.825125       |</pre>"
      ],
      "text/plain": [
       "| 1         | 23900    | 1026.878621  | 0.513891          |                     | 25.825125       |"
      ]
     },
     "metadata": {},
     "output_type": "display_data"
    },
    {
     "data": {
      "text/html": [
       "<pre>| 1         | 24200    | 1039.635233  | 0.515165          |                     | 23.517221       |</pre>"
      ],
      "text/plain": [
       "| 1         | 24200    | 1039.635233  | 0.515165          |                     | 23.517221       |"
      ]
     },
     "metadata": {},
     "output_type": "display_data"
    },
    {
     "data": {
      "text/html": [
       "<pre>| 1         | 24500    | 1052.332472  | 0.517388          |                     | 23.627218       |</pre>"
      ],
      "text/plain": [
       "| 1         | 24500    | 1052.332472  | 0.517388          |                     | 23.627218       |"
      ]
     },
     "metadata": {},
     "output_type": "display_data"
    },
    {
     "data": {
      "text/html": [
       "<pre>| 1         | 24800    | 1064.931064  | 0.519597          |                     | 23.812201       |</pre>"
      ],
      "text/plain": [
       "| 1         | 24800    | 1064.931064  | 0.519597          |                     | 23.812201       |"
      ]
     },
     "metadata": {},
     "output_type": "display_data"
    },
    {
     "data": {
      "text/html": [
       "<pre>| 1         | 25100    | 1078.095954  | 0.521036          |                     | 22.787832       |</pre>"
      ],
      "text/plain": [
       "| 1         | 25100    | 1078.095954  | 0.521036          |                     | 22.787832       |"
      ]
     },
     "metadata": {},
     "output_type": "display_data"
    },
    {
     "data": {
      "text/html": [
       "<pre>| 1         | 25400    | 1090.272945  | 0.522756          |                     | 24.636681       |</pre>"
      ],
      "text/plain": [
       "| 1         | 25400    | 1090.272945  | 0.522756          |                     | 24.636681       |"
      ]
     },
     "metadata": {},
     "output_type": "display_data"
    },
    {
     "data": {
      "text/html": [
       "<pre>| 1         | 25700    | 1103.615400  | 0.524825          |                     | 22.484613       |</pre>"
      ],
      "text/plain": [
       "| 1         | 25700    | 1103.615400  | 0.524825          |                     | 22.484613       |"
      ]
     },
     "metadata": {},
     "output_type": "display_data"
    },
    {
     "data": {
      "text/html": [
       "<pre>| 1         | 26000    | 1116.139393  | 0.526615          |                     | 23.954016       |</pre>"
      ],
      "text/plain": [
       "| 1         | 26000    | 1116.139393  | 0.526615          |                     | 23.954016       |"
      ]
     },
     "metadata": {},
     "output_type": "display_data"
    },
    {
     "data": {
      "text/html": [
       "<pre>| 1         | 26300    | 1128.491293  | 0.529011          |                     | 24.287739       |</pre>"
      ],
      "text/plain": [
       "| 1         | 26300    | 1128.491293  | 0.529011          |                     | 24.287739       |"
      ]
     },
     "metadata": {},
     "output_type": "display_data"
    },
    {
     "data": {
      "text/html": [
       "<pre>| 1         | 26600    | 1142.064627  | 0.529962          |                     | 22.102173       |</pre>"
      ],
      "text/plain": [
       "| 1         | 26600    | 1142.064627  | 0.529962          |                     | 22.102173       |"
      ]
     },
     "metadata": {},
     "output_type": "display_data"
    },
    {
     "data": {
      "text/html": [
       "<pre>| 1         | 26600    | 1411.506184  | 0.529962          | 0.768775            | 22.102173       |</pre>"
      ],
      "text/plain": [
       "| 1         | 26600    | 1411.506184  | 0.529962          | 0.768775            | 22.102173       |"
      ]
     },
     "metadata": {},
     "output_type": "display_data"
    },
    {
     "data": {
      "text/html": [
       "<pre>Checkpointing model into rep IDSIA by 1 conv graphlab net - train in 10 iters</pre>"
      ],
      "text/plain": [
       "Checkpointing model into rep IDSIA by 1 conv graphlab net - train in 10 iters"
      ]
     },
     "metadata": {},
     "output_type": "display_data"
    },
    {
     "data": {
      "text/html": [
       "<pre>| 2         | 300      | 1426.439656  | 0.656667          |                     | 22.370070       |</pre>"
      ],
      "text/plain": [
       "| 2         | 300      | 1426.439656  | 0.656667          |                     | 22.370070       |"
      ]
     },
     "metadata": {},
     "output_type": "display_data"
    },
    {
     "data": {
      "text/html": [
       "<pre>| 2         | 600      | 1438.255355  | 0.646667          |                     | 22.509314       |</pre>"
      ],
      "text/plain": [
       "| 2         | 600      | 1438.255355  | 0.646667          |                     | 22.509314       |"
      ]
     },
     "metadata": {},
     "output_type": "display_data"
    },
    {
     "data": {
      "text/html": [
       "<pre>| 2         | 900      | 1451.569791  | 0.651111          |                     | 22.531982       |</pre>"
      ],
      "text/plain": [
       "| 2         | 900      | 1451.569791  | 0.651111          |                     | 22.531982       |"
      ]
     },
     "metadata": {},
     "output_type": "display_data"
    },
    {
     "data": {
      "text/html": [
       "<pre>| 2         | 1200     | 1466.564184  | 0.654167          |                     | 20.007469       |</pre>"
      ],
      "text/plain": [
       "| 2         | 1200     | 1466.564184  | 0.654167          |                     | 20.007469       |"
      ]
     },
     "metadata": {},
     "output_type": "display_data"
    },
    {
     "data": {
      "text/html": [
       "<pre>| 2         | 1500     | 1480.929640  | 0.662000          |                     | 20.883408       |</pre>"
      ],
      "text/plain": [
       "| 2         | 1500     | 1480.929640  | 0.662000          |                     | 20.883408       |"
      ]
     },
     "metadata": {},
     "output_type": "display_data"
    },
    {
     "data": {
      "text/html": [
       "<pre>| 2         | 1700     | 1491.460056  | 0.661176          |                     | 18.992640       |</pre>"
      ],
      "text/plain": [
       "| 2         | 1700     | 1491.460056  | 0.661176          |                     | 18.992640       |"
      ]
     },
     "metadata": {},
     "output_type": "display_data"
    },
    {
     "data": {
      "text/html": [
       "<pre>| 2         | 1900     | 1502.198502  | 0.668947          |                     | 18.624634       |</pre>"
      ],
      "text/plain": [
       "| 2         | 1900     | 1502.198502  | 0.668947          |                     | 18.624634       |"
      ]
     },
     "metadata": {},
     "output_type": "display_data"
    },
    {
     "data": {
      "text/html": [
       "<pre>| 2         | 2100     | 1513.722877  | 0.669048          |                     | 17.354542       |</pre>"
      ],
      "text/plain": [
       "| 2         | 2100     | 1513.722877  | 0.669048          |                     | 17.354542       |"
      ]
     },
     "metadata": {},
     "output_type": "display_data"
    },
    {
     "data": {
      "text/html": [
       "<pre>| 2         | 2300     | 1524.565181  | 0.669130          |                     | 18.446232       |</pre>"
      ],
      "text/plain": [
       "| 2         | 2300     | 1524.565181  | 0.669130          |                     | 18.446232       |"
      ]
     },
     "metadata": {},
     "output_type": "display_data"
    },
    {
     "data": {
      "text/html": [
       "<pre>| 2         | 2500     | 1535.189249  | 0.666000          |                     | 18.825180       |</pre>"
      ],
      "text/plain": [
       "| 2         | 2500     | 1535.189249  | 0.666000          |                     | 18.825180       |"
      ]
     },
     "metadata": {},
     "output_type": "display_data"
    },
    {
     "data": {
      "text/html": [
       "<pre>| 2         | 2700     | 1545.847025  | 0.666296          |                     | 18.765667       |</pre>"
      ],
      "text/plain": [
       "| 2         | 2700     | 1545.847025  | 0.666296          |                     | 18.765667       |"
      ]
     },
     "metadata": {},
     "output_type": "display_data"
    },
    {
     "data": {
      "text/html": [
       "<pre>| 2         | 2900     | 1556.624251  | 0.672069          |                     | 18.557659       |</pre>"
      ],
      "text/plain": [
       "| 2         | 2900     | 1556.624251  | 0.672069          |                     | 18.557659       |"
      ]
     },
     "metadata": {},
     "output_type": "display_data"
    },
    {
     "data": {
      "text/html": [
       "<pre>| 2         | 3100     | 1567.306639  | 0.671290          |                     | 18.722361       |</pre>"
      ],
      "text/plain": [
       "| 2         | 3100     | 1567.306639  | 0.671290          |                     | 18.722361       |"
      ]
     },
     "metadata": {},
     "output_type": "display_data"
    },
    {
     "data": {
      "text/html": [
       "<pre>| 2         | 3300     | 1578.747181  | 0.673939          |                     | 17.481720       |</pre>"
      ],
      "text/plain": [
       "| 2         | 3300     | 1578.747181  | 0.673939          |                     | 17.481720       |"
      ]
     },
     "metadata": {},
     "output_type": "display_data"
    },
    {
     "data": {
      "text/html": [
       "<pre>| 2         | 3500     | 1588.949462  | 0.678000          |                     | 19.603481       |</pre>"
      ],
      "text/plain": [
       "| 2         | 3500     | 1588.949462  | 0.678000          |                     | 19.603481       |"
      ]
     },
     "metadata": {},
     "output_type": "display_data"
    },
    {
     "data": {
      "text/html": [
       "<pre>| 2         | 3700     | 1599.806490  | 0.680541          |                     | 18.421242       |</pre>"
      ],
      "text/plain": [
       "| 2         | 3700     | 1599.806490  | 0.680541          |                     | 18.421242       |"
      ]
     },
     "metadata": {},
     "output_type": "display_data"
    },
    {
     "data": {
      "text/html": [
       "<pre>| 2         | 3900     | 1610.179604  | 0.681795          |                     | 19.280598       |</pre>"
      ],
      "text/plain": [
       "| 2         | 3900     | 1610.179604  | 0.681795          |                     | 19.280598       |"
      ]
     },
     "metadata": {},
     "output_type": "display_data"
    },
    {
     "data": {
      "text/html": [
       "<pre>| 2         | 4100     | 1620.472662  | 0.683902          |                     | 19.430593       |</pre>"
      ],
      "text/plain": [
       "| 2         | 4100     | 1620.472662  | 0.683902          |                     | 19.430593       |"
      ]
     },
     "metadata": {},
     "output_type": "display_data"
    },
    {
     "data": {
      "text/html": [
       "<pre>| 2         | 4300     | 1631.464285  | 0.686047          |                     | 18.195677       |</pre>"
      ],
      "text/plain": [
       "| 2         | 4300     | 1631.464285  | 0.686047          |                     | 18.195677       |"
      ]
     },
     "metadata": {},
     "output_type": "display_data"
    },
    {
     "data": {
      "text/html": [
       "<pre>| 2         | 4500     | 1642.385314  | 0.687111          |                     | 18.313286       |</pre>"
      ],
      "text/plain": [
       "| 2         | 4500     | 1642.385314  | 0.687111          |                     | 18.313286       |"
      ]
     },
     "metadata": {},
     "output_type": "display_data"
    },
    {
     "data": {
      "text/html": [
       "<pre>| 2         | 4700     | 1652.734899  | 0.687872          |                     | 19.324444       |</pre>"
      ],
      "text/plain": [
       "| 2         | 4700     | 1652.734899  | 0.687872          |                     | 19.324444       |"
      ]
     },
     "metadata": {},
     "output_type": "display_data"
    },
    {
     "data": {
      "text/html": [
       "<pre>| 2         | 4900     | 1662.934009  | 0.690408          |                     | 19.609524       |</pre>"
      ],
      "text/plain": [
       "| 2         | 4900     | 1662.934009  | 0.690408          |                     | 19.609524       |"
      ]
     },
     "metadata": {},
     "output_type": "display_data"
    },
    {
     "data": {
      "text/html": [
       "<pre>| 2         | 5100     | 1672.994352  | 0.692549          |                     | 19.880068       |</pre>"
      ],
      "text/plain": [
       "| 2         | 5100     | 1672.994352  | 0.692549          |                     | 19.880068       |"
      ]
     },
     "metadata": {},
     "output_type": "display_data"
    },
    {
     "data": {
      "text/html": [
       "<pre>| 2         | 5300     | 1683.696594  | 0.695094          |                     | 18.687668       |</pre>"
      ],
      "text/plain": [
       "| 2         | 5300     | 1683.696594  | 0.695094          |                     | 18.687668       |"
      ]
     },
     "metadata": {},
     "output_type": "display_data"
    },
    {
     "data": {
      "text/html": [
       "<pre>| 2         | 5500     | 1694.714603  | 0.695636          |                     | 18.152143       |</pre>"
      ],
      "text/plain": [
       "| 2         | 5500     | 1694.714603  | 0.695636          |                     | 18.152143       |"
      ]
     },
     "metadata": {},
     "output_type": "display_data"
    },
    {
     "data": {
      "text/html": [
       "<pre>| 2         | 5700     | 1704.730019  | 0.697368          |                     | 19.969158       |</pre>"
      ],
      "text/plain": [
       "| 2         | 5700     | 1704.730019  | 0.697368          |                     | 19.969158       |"
      ]
     },
     "metadata": {},
     "output_type": "display_data"
    },
    {
     "data": {
      "text/html": [
       "<pre>| 2         | 6000     | 1719.189011  | 0.699833          |                     | 20.748344       |</pre>"
      ],
      "text/plain": [
       "| 2         | 6000     | 1719.189011  | 0.699833          |                     | 20.748344       |"
      ]
     },
     "metadata": {},
     "output_type": "display_data"
    },
    {
     "data": {
      "text/html": [
       "<pre>| 2         | 6200     | 1729.294723  | 0.699839          |                     | 19.790806       |</pre>"
      ],
      "text/plain": [
       "| 2         | 6200     | 1729.294723  | 0.699839          |                     | 19.790806       |"
      ]
     },
     "metadata": {},
     "output_type": "display_data"
    },
    {
     "data": {
      "text/html": [
       "<pre>| 2         | 6400     | 1740.146928  | 0.700312          |                     | 18.429438       |</pre>"
      ],
      "text/plain": [
       "| 2         | 6400     | 1740.146928  | 0.700312          |                     | 18.429438       |"
      ]
     },
     "metadata": {},
     "output_type": "display_data"
    },
    {
     "data": {
      "text/html": [
       "<pre>| 2         | 6600     | 1750.882348  | 0.700606          |                     | 18.629915       |</pre>"
      ],
      "text/plain": [
       "| 2         | 6600     | 1750.882348  | 0.700606          |                     | 18.629915       |"
      ]
     },
     "metadata": {},
     "output_type": "display_data"
    },
    {
     "data": {
      "text/html": [
       "<pre>| 2         | 6800     | 1761.200754  | 0.702647          |                     | 19.382832       |</pre>"
      ],
      "text/plain": [
       "| 2         | 6800     | 1761.200754  | 0.702647          |                     | 19.382832       |"
      ]
     },
     "metadata": {},
     "output_type": "display_data"
    },
    {
     "data": {
      "text/html": [
       "<pre>| 2         | 7000     | 1771.675690  | 0.701143          |                     | 19.093199       |</pre>"
      ],
      "text/plain": [
       "| 2         | 7000     | 1771.675690  | 0.701143          |                     | 19.093199       |"
      ]
     },
     "metadata": {},
     "output_type": "display_data"
    },
    {
     "data": {
      "text/html": [
       "<pre>| 2         | 7200     | 1781.682301  | 0.701250          |                     | 19.986771       |</pre>"
      ],
      "text/plain": [
       "| 2         | 7200     | 1781.682301  | 0.701250          |                     | 19.986771       |"
      ]
     },
     "metadata": {},
     "output_type": "display_data"
    },
    {
     "data": {
      "text/html": [
       "<pre>| 2         | 7400     | 1792.490861  | 0.701622          |                     | 18.503819       |</pre>"
      ],
      "text/plain": [
       "| 2         | 7400     | 1792.490861  | 0.701622          |                     | 18.503819       |"
      ]
     },
     "metadata": {},
     "output_type": "display_data"
    },
    {
     "data": {
      "text/html": [
       "<pre>| 2         | 7600     | 1802.975283  | 0.702237          |                     | 19.075966       |</pre>"
      ],
      "text/plain": [
       "| 2         | 7600     | 1802.975283  | 0.702237          |                     | 19.075966       |"
      ]
     },
     "metadata": {},
     "output_type": "display_data"
    },
    {
     "data": {
      "text/html": [
       "<pre>| 2         | 7800     | 1813.412122  | 0.702821          |                     | 19.162870       |</pre>"
      ],
      "text/plain": [
       "| 2         | 7800     | 1813.412122  | 0.702821          |                     | 19.162870       |"
      ]
     },
     "metadata": {},
     "output_type": "display_data"
    },
    {
     "data": {
      "text/html": [
       "<pre>| 2         | 8100     | 1827.582926  | 0.704198          |                     | 21.170252       |</pre>"
      ],
      "text/plain": [
       "| 2         | 8100     | 1827.582926  | 0.704198          |                     | 21.170252       |"
      ]
     },
     "metadata": {},
     "output_type": "display_data"
    },
    {
     "data": {
      "text/html": [
       "<pre>| 2         | 8300     | 1837.644003  | 0.704337          |                     | 19.878647       |</pre>"
      ],
      "text/plain": [
       "| 2         | 8300     | 1837.644003  | 0.704337          |                     | 19.878647       |"
      ]
     },
     "metadata": {},
     "output_type": "display_data"
    },
    {
     "data": {
      "text/html": [
       "<pre>| 2         | 8600     | 1852.108811  | 0.704535          |                     | 20.739967       |</pre>"
      ],
      "text/plain": [
       "| 2         | 8600     | 1852.108811  | 0.704535          |                     | 20.739967       |"
      ]
     },
     "metadata": {},
     "output_type": "display_data"
    },
    {
     "data": {
      "text/html": [
       "<pre>| 2         | 8900     | 1865.977556  | 0.705169          |                     | 21.631390       |</pre>"
      ],
      "text/plain": [
       "| 2         | 8900     | 1865.977556  | 0.705169          |                     | 21.631390       |"
      ]
     },
     "metadata": {},
     "output_type": "display_data"
    },
    {
     "data": {
      "text/html": [
       "<pre>| 2         | 9100     | 1877.453846  | 0.706374          |                     | 17.427248       |</pre>"
      ],
      "text/plain": [
       "| 2         | 9100     | 1877.453846  | 0.706374          |                     | 17.427248       |"
      ]
     },
     "metadata": {},
     "output_type": "display_data"
    },
    {
     "data": {
      "text/html": [
       "<pre>| 2         | 9300     | 1888.144377  | 0.706559          |                     | 18.708139       |</pre>"
      ],
      "text/plain": [
       "| 2         | 9300     | 1888.144377  | 0.706559          |                     | 18.708139       |"
      ]
     },
     "metadata": {},
     "output_type": "display_data"
    },
    {
     "data": {
      "text/html": [
       "<pre>| 2         | 9500     | 1898.380155  | 0.706842          |                     | 19.539295       |</pre>"
      ],
      "text/plain": [
       "| 2         | 9500     | 1898.380155  | 0.706842          |                     | 19.539295       |"
      ]
     },
     "metadata": {},
     "output_type": "display_data"
    },
    {
     "data": {
      "text/html": [
       "<pre>| 2         | 9800     | 1912.965219  | 0.705816          |                     | 20.568993       |</pre>"
      ],
      "text/plain": [
       "| 2         | 9800     | 1912.965219  | 0.705816          |                     | 20.568993       |"
      ]
     },
     "metadata": {},
     "output_type": "display_data"
    },
    {
     "data": {
      "text/html": [
       "<pre>| 2         | 10000    | 1923.382392  | 0.706300          |                     | 19.199013       |</pre>"
      ],
      "text/plain": [
       "| 2         | 10000    | 1923.382392  | 0.706300          |                     | 19.199013       |"
      ]
     },
     "metadata": {},
     "output_type": "display_data"
    },
    {
     "data": {
      "text/html": [
       "<pre>| 2         | 10200    | 1934.021031  | 0.705490          |                     | 18.799490       |</pre>"
      ],
      "text/plain": [
       "| 2         | 10200    | 1934.021031  | 0.705490          |                     | 18.799490       |"
      ]
     },
     "metadata": {},
     "output_type": "display_data"
    },
    {
     "data": {
      "text/html": [
       "<pre>| 2         | 10400    | 1944.340239  | 0.705577          |                     | 19.381258       |</pre>"
      ],
      "text/plain": [
       "| 2         | 10400    | 1944.340239  | 0.705577          |                     | 19.381258       |"
      ]
     },
     "metadata": {},
     "output_type": "display_data"
    },
    {
     "data": {
      "text/html": [
       "<pre>| 2         | 10700    | 1958.967666  | 0.704673          |                     | 20.509447       |</pre>"
      ],
      "text/plain": [
       "| 2         | 10700    | 1958.967666  | 0.704673          |                     | 20.509447       |"
      ]
     },
     "metadata": {},
     "output_type": "display_data"
    },
    {
     "data": {
      "text/html": [
       "<pre>| 2         | 11000    | 1974.374590  | 0.704455          |                     | 19.471762       |</pre>"
      ],
      "text/plain": [
       "| 2         | 11000    | 1974.374590  | 0.704455          |                     | 19.471762       |"
      ]
     },
     "metadata": {},
     "output_type": "display_data"
    },
    {
     "data": {
      "text/html": [
       "<pre>| 2         | 11200    | 1984.574773  | 0.704643          |                     | 19.607439       |</pre>"
      ],
      "text/plain": [
       "| 2         | 11200    | 1984.574773  | 0.704643          |                     | 19.607439       |"
      ]
     },
     "metadata": {},
     "output_type": "display_data"
    },
    {
     "data": {
      "text/html": [
       "<pre>| 2         | 11400    | 1995.394724  | 0.704211          |                     | 18.484409       |</pre>"
      ],
      "text/plain": [
       "| 2         | 11400    | 1995.394724  | 0.704211          |                     | 18.484409       |"
      ]
     },
     "metadata": {},
     "output_type": "display_data"
    },
    {
     "data": {
      "text/html": [
       "<pre>| 2         | 11600    | 2005.624522  | 0.704310          |                     | 19.550737       |</pre>"
      ],
      "text/plain": [
       "| 2         | 11600    | 2005.624522  | 0.704310          |                     | 19.550737       |"
      ]
     },
     "metadata": {},
     "output_type": "display_data"
    },
    {
     "data": {
      "text/html": [
       "<pre>| 2         | 11800    | 2015.642968  | 0.704831          |                     | 19.963163       |</pre>"
      ],
      "text/plain": [
       "| 2         | 11800    | 2015.642968  | 0.704831          |                     | 19.963163       |"
      ]
     },
     "metadata": {},
     "output_type": "display_data"
    },
    {
     "data": {
      "text/html": [
       "<pre>| 2         | 12000    | 2025.723759  | 0.704750          |                     | 19.839727       |</pre>"
      ],
      "text/plain": [
       "| 2         | 12000    | 2025.723759  | 0.704750          |                     | 19.839727       |"
      ]
     },
     "metadata": {},
     "output_type": "display_data"
    },
    {
     "data": {
      "text/html": [
       "<pre>| 2         | 12300    | 2040.041654  | 0.703902          |                     | 20.952795       |</pre>"
      ],
      "text/plain": [
       "| 2         | 12300    | 2040.041654  | 0.703902          |                     | 20.952795       |"
      ]
     },
     "metadata": {},
     "output_type": "display_data"
    },
    {
     "data": {
      "text/html": [
       "<pre>| 2         | 12600    | 2054.942214  | 0.703730          |                     | 20.133490       |</pre>"
      ],
      "text/plain": [
       "| 2         | 12600    | 2054.942214  | 0.703730          |                     | 20.133490       |"
      ]
     },
     "metadata": {},
     "output_type": "display_data"
    },
    {
     "data": {
      "text/html": [
       "<pre>| 2         | 12800    | 2065.832571  | 0.704922          |                     | 18.364880       |</pre>"
      ],
      "text/plain": [
       "| 2         | 12800    | 2065.832571  | 0.704922          |                     | 18.364880       |"
      ]
     },
     "metadata": {},
     "output_type": "display_data"
    },
    {
     "data": {
      "text/html": [
       "<pre>| 2         | 13000    | 2075.880121  | 0.705000          |                     | 19.905273       |</pre>"
      ],
      "text/plain": [
       "| 2         | 13000    | 2075.880121  | 0.705000          |                     | 19.905273       |"
      ]
     },
     "metadata": {},
     "output_type": "display_data"
    },
    {
     "data": {
      "text/html": [
       "<pre>| 2         | 13200    | 2085.936473  | 0.704621          |                     | 19.887974       |</pre>"
      ],
      "text/plain": [
       "| 2         | 13200    | 2085.936473  | 0.704621          |                     | 19.887974       |"
      ]
     },
     "metadata": {},
     "output_type": "display_data"
    },
    {
     "data": {
      "text/html": [
       "<pre>| 2         | 13500    | 2100.930107  | 0.704963          |                     | 20.008453       |</pre>"
      ],
      "text/plain": [
       "| 2         | 13500    | 2100.930107  | 0.704963          |                     | 20.008453       |"
      ]
     },
     "metadata": {},
     "output_type": "display_data"
    },
    {
     "data": {
      "text/html": [
       "<pre>| 2         | 13800    | 2115.719907  | 0.706304          |                     | 20.284309       |</pre>"
      ],
      "text/plain": [
       "| 2         | 13800    | 2115.719907  | 0.706304          |                     | 20.284309       |"
      ]
     },
     "metadata": {},
     "output_type": "display_data"
    },
    {
     "data": {
      "text/html": [
       "<pre>| 2         | 14000    | 2126.534149  | 0.706857          |                     | 18.494110       |</pre>"
      ],
      "text/plain": [
       "| 2         | 14000    | 2126.534149  | 0.706857          |                     | 18.494110       |"
      ]
     },
     "metadata": {},
     "output_type": "display_data"
    },
    {
     "data": {
      "text/html": [
       "<pre>| 2         | 14200    | 2136.715953  | 0.706761          |                     | 19.642841       |</pre>"
      ],
      "text/plain": [
       "| 2         | 14200    | 2136.715953  | 0.706761          |                     | 19.642841       |"
      ]
     },
     "metadata": {},
     "output_type": "display_data"
    },
    {
     "data": {
      "text/html": [
       "<pre>| 2         | 14500    | 2151.330097  | 0.706759          |                     | 20.528088       |</pre>"
      ],
      "text/plain": [
       "| 2         | 14500    | 2151.330097  | 0.706759          |                     | 20.528088       |"
      ]
     },
     "metadata": {},
     "output_type": "display_data"
    },
    {
     "data": {
      "text/html": [
       "<pre>| 2         | 14700    | 2161.346582  | 0.707211          |                     | 19.967079       |</pre>"
      ],
      "text/plain": [
       "| 2         | 14700    | 2161.346582  | 0.707211          |                     | 19.967079       |"
      ]
     },
     "metadata": {},
     "output_type": "display_data"
    },
    {
     "data": {
      "text/html": [
       "<pre>| 2         | 15000    | 2175.951877  | 0.708133          |                     | 20.540497       |</pre>"
      ],
      "text/plain": [
       "| 2         | 15000    | 2175.951877  | 0.708133          |                     | 20.540497       |"
      ]
     },
     "metadata": {},
     "output_type": "display_data"
    },
    {
     "data": {
      "text/html": [
       "<pre>| 2         | 15200    | 2186.897582  | 0.708355          |                     | 18.272015       |</pre>"
      ],
      "text/plain": [
       "| 2         | 15200    | 2186.897582  | 0.708355          |                     | 18.272015       |"
      ]
     },
     "metadata": {},
     "output_type": "display_data"
    },
    {
     "data": {
      "text/html": [
       "<pre>| 2         | 15400    | 2197.815579  | 0.708636          |                     | 18.318377       |</pre>"
      ],
      "text/plain": [
       "| 2         | 15400    | 2197.815579  | 0.708636          |                     | 18.318377       |"
      ]
     },
     "metadata": {},
     "output_type": "display_data"
    },
    {
     "data": {
      "text/html": [
       "<pre>| 2         | 15600    | 2208.297049  | 0.709423          |                     | 19.081295       |</pre>"
      ],
      "text/plain": [
       "| 2         | 15600    | 2208.297049  | 0.709423          |                     | 19.081295       |"
      ]
     },
     "metadata": {},
     "output_type": "display_data"
    },
    {
     "data": {
      "text/html": [
       "<pre>| 2         | 15800    | 2218.383548  | 0.709684          |                     | 19.828484       |</pre>"
      ],
      "text/plain": [
       "| 2         | 15800    | 2218.383548  | 0.709684          |                     | 19.828484       |"
      ]
     },
     "metadata": {},
     "output_type": "display_data"
    },
    {
     "data": {
      "text/html": [
       "<pre>| 2         | 16100    | 2233.404594  | 0.710932          |                     | 19.971985       |</pre>"
      ],
      "text/plain": [
       "| 2         | 16100    | 2233.404594  | 0.710932          |                     | 19.971985       |"
      ]
     },
     "metadata": {},
     "output_type": "display_data"
    },
    {
     "data": {
      "text/html": [
       "<pre>| 2         | 16300    | 2244.389980  | 0.710491          |                     | 18.206009       |</pre>"
      ],
      "text/plain": [
       "| 2         | 16300    | 2244.389980  | 0.710491          |                     | 18.206009       |"
      ]
     },
     "metadata": {},
     "output_type": "display_data"
    },
    {
     "data": {
      "text/html": [
       "<pre>| 2         | 16500    | 2254.834197  | 0.710788          |                     | 19.149288       |</pre>"
      ],
      "text/plain": [
       "| 2         | 16500    | 2254.834197  | 0.710788          |                     | 19.149288       |"
      ]
     },
     "metadata": {},
     "output_type": "display_data"
    },
    {
     "data": {
      "text/html": [
       "<pre>| 2         | 16700    | 2265.102392  | 0.710898          |                     | 19.477629       |</pre>"
      ],
      "text/plain": [
       "| 2         | 16700    | 2265.102392  | 0.710898          |                     | 19.477629       |"
      ]
     },
     "metadata": {},
     "output_type": "display_data"
    },
    {
     "data": {
      "text/html": [
       "<pre>| 2         | 16900    | 2275.351980  | 0.711479          |                     | 19.513023       |</pre>"
      ],
      "text/plain": [
       "| 2         | 16900    | 2275.351980  | 0.711479          |                     | 19.513023       |"
      ]
     },
     "metadata": {},
     "output_type": "display_data"
    },
    {
     "data": {
      "text/html": [
       "<pre>| 2         | 17200    | 2289.056834  | 0.712151          |                     | 21.890059       |</pre>"
      ],
      "text/plain": [
       "| 2         | 17200    | 2289.056834  | 0.712151          |                     | 21.890059       |"
      ]
     },
     "metadata": {},
     "output_type": "display_data"
    },
    {
     "data": {
      "text/html": [
       "<pre>| 2         | 17500    | 2304.527074  | 0.712286          |                     | 19.392073       |</pre>"
      ],
      "text/plain": [
       "| 2         | 17500    | 2304.527074  | 0.712286          |                     | 19.392073       |"
      ]
     },
     "metadata": {},
     "output_type": "display_data"
    },
    {
     "data": {
      "text/html": [
       "<pre>| 2         | 17700    | 2315.484383  | 0.712938          |                     | 18.252609       |</pre>"
      ],
      "text/plain": [
       "| 2         | 17700    | 2315.484383  | 0.712938          |                     | 18.252609       |"
      ]
     },
     "metadata": {},
     "output_type": "display_data"
    },
    {
     "data": {
      "text/html": [
       "<pre>| 2         | 18000    | 2330.161540  | 0.713611          |                     | 20.439949       |</pre>"
      ],
      "text/plain": [
       "| 2         | 18000    | 2330.161540  | 0.713611          |                     | 20.439949       |"
      ]
     },
     "metadata": {},
     "output_type": "display_data"
    },
    {
     "data": {
      "text/html": [
       "<pre>| 2         | 18300    | 2344.611727  | 0.714536          |                     | 20.760986       |</pre>"
      ],
      "text/plain": [
       "| 2         | 18300    | 2344.611727  | 0.714536          |                     | 20.760986       |"
      ]
     },
     "metadata": {},
     "output_type": "display_data"
    },
    {
     "data": {
      "text/html": [
       "<pre>| 2         | 18500    | 2354.964153  | 0.714919          |                     | 19.319139       |</pre>"
      ],
      "text/plain": [
       "| 2         | 18500    | 2354.964153  | 0.714919          |                     | 19.319139       |"
      ]
     },
     "metadata": {},
     "output_type": "display_data"
    },
    {
     "data": {
      "text/html": [
       "<pre>| 2         | 18700    | 2365.404953  | 0.715294          |                     | 19.155638       |</pre>"
      ],
      "text/plain": [
       "| 2         | 18700    | 2365.404953  | 0.715294          |                     | 19.155638       |"
      ]
     },
     "metadata": {},
     "output_type": "display_data"
    },
    {
     "data": {
      "text/html": [
       "<pre>| 2         | 18900    | 2376.092876  | 0.715661          |                     | 18.712704       |</pre>"
      ],
      "text/plain": [
       "| 2         | 18900    | 2376.092876  | 0.715661          |                     | 18.712704       |"
      ]
     },
     "metadata": {},
     "output_type": "display_data"
    },
    {
     "data": {
      "text/html": [
       "<pre>| 2         | 19100    | 2386.435159  | 0.716178          |                     | 19.338064       |</pre>"
      ],
      "text/plain": [
       "| 2         | 19100    | 2386.435159  | 0.716178          |                     | 19.338064       |"
      ]
     },
     "metadata": {},
     "output_type": "display_data"
    },
    {
     "data": {
      "text/html": [
       "<pre>| 2         | 19300    | 2396.569963  | 0.716943          |                     | 19.734003       |</pre>"
      ],
      "text/plain": [
       "| 2         | 19300    | 2396.569963  | 0.716943          |                     | 19.734003       |"
      ]
     },
     "metadata": {},
     "output_type": "display_data"
    },
    {
     "data": {
      "text/html": [
       "<pre>| 2         | 19600    | 2410.743497  | 0.716939          |                     | 21.166206       |</pre>"
      ],
      "text/plain": [
       "| 2         | 19600    | 2410.743497  | 0.716939          |                     | 21.166206       |"
      ]
     },
     "metadata": {},
     "output_type": "display_data"
    },
    {
     "data": {
      "text/html": [
       "<pre>| 2         | 19800    | 2420.823170  | 0.717374          |                     | 19.841864       |</pre>"
      ],
      "text/plain": [
       "| 2         | 19800    | 2420.823170  | 0.717374          |                     | 19.841864       |"
      ]
     },
     "metadata": {},
     "output_type": "display_data"
    },
    {
     "data": {
      "text/html": [
       "<pre>| 2         | 20000    | 2431.346328  | 0.717700          |                     | 19.005741       |</pre>"
      ],
      "text/plain": [
       "| 2         | 20000    | 2431.346328  | 0.717700          |                     | 19.005741       |"
      ]
     },
     "metadata": {},
     "output_type": "display_data"
    },
    {
     "data": {
      "text/html": [
       "<pre>| 2         | 20200    | 2442.222129  | 0.717871          |                     | 18.389442       |</pre>"
      ],
      "text/plain": [
       "| 2         | 20200    | 2442.222129  | 0.717871          |                     | 18.389442       |"
      ]
     },
     "metadata": {},
     "output_type": "display_data"
    },
    {
     "data": {
      "text/html": [
       "<pre>| 2         | 20500    | 2456.665158  | 0.718439          |                     | 20.771242       |</pre>"
      ],
      "text/plain": [
       "| 2         | 20500    | 2456.665158  | 0.718439          |                     | 20.771242       |"
      ]
     },
     "metadata": {},
     "output_type": "display_data"
    },
    {
     "data": {
      "text/html": [
       "<pre>| 2         | 20800    | 2471.106488  | 0.718558          |                     | 20.773752       |</pre>"
      ],
      "text/plain": [
       "| 2         | 20800    | 2471.106488  | 0.718558          |                     | 20.773752       |"
      ]
     },
     "metadata": {},
     "output_type": "display_data"
    },
    {
     "data": {
      "text/html": [
       "<pre>| 2         | 21100    | 2485.681396  | 0.718957          |                     | 20.583324       |</pre>"
      ],
      "text/plain": [
       "| 2         | 21100    | 2485.681396  | 0.718957          |                     | 20.583324       |"
      ]
     },
     "metadata": {},
     "output_type": "display_data"
    },
    {
     "data": {
      "text/html": [
       "<pre>| 2         | 21300    | 2495.823967  | 0.719202          |                     | 19.718863       |</pre>"
      ],
      "text/plain": [
       "| 2         | 21300    | 2495.823967  | 0.719202          |                     | 19.718863       |"
      ]
     },
     "metadata": {},
     "output_type": "display_data"
    },
    {
     "data": {
      "text/html": [
       "<pre>| 2         | 21500    | 2506.586366  | 0.719535          |                     | 18.583202       |</pre>"
      ],
      "text/plain": [
       "| 2         | 21500    | 2506.586366  | 0.719535          |                     | 18.583202       |"
      ]
     },
     "metadata": {},
     "output_type": "display_data"
    },
    {
     "data": {
      "text/html": [
       "<pre>| 2         | 21800    | 2520.789069  | 0.719862          |                     | 21.122736       |</pre>"
      ],
      "text/plain": [
       "| 2         | 21800    | 2520.789069  | 0.719862          |                     | 21.122736       |"
      ]
     },
     "metadata": {},
     "output_type": "display_data"
    },
    {
     "data": {
      "text/html": [
       "<pre>| 2         | 22000    | 2531.032802  | 0.720455          |                     | 19.524143       |</pre>"
      ],
      "text/plain": [
       "| 2         | 22000    | 2531.032802  | 0.720455          |                     | 19.524143       |"
      ]
     },
     "metadata": {},
     "output_type": "display_data"
    },
    {
     "data": {
      "text/html": [
       "<pre>| 2         | 22200    | 2541.760300  | 0.720946          |                     | 18.643631       |</pre>"
      ],
      "text/plain": [
       "| 2         | 22200    | 2541.760300  | 0.720946          |                     | 18.643631       |"
      ]
     },
     "metadata": {},
     "output_type": "display_data"
    },
    {
     "data": {
      "text/html": [
       "<pre>| 2         | 22500    | 2556.277792  | 0.720844          |                     | 20.664759       |</pre>"
      ],
      "text/plain": [
       "| 2         | 22500    | 2556.277792  | 0.720844          |                     | 20.664759       |"
      ]
     },
     "metadata": {},
     "output_type": "display_data"
    },
    {
     "data": {
      "text/html": [
       "<pre>| 2         | 22700    | 2566.826635  | 0.720705          |                     | 18.959433       |</pre>"
      ],
      "text/plain": [
       "| 2         | 22700    | 2566.826635  | 0.720705          |                     | 18.959433       |"
      ]
     },
     "metadata": {},
     "output_type": "display_data"
    },
    {
     "data": {
      "text/html": [
       "<pre>| 2         | 22900    | 2577.494103  | 0.720568          |                     | 18.748545       |</pre>"
      ],
      "text/plain": [
       "| 2         | 22900    | 2577.494103  | 0.720568          |                     | 18.748545       |"
      ]
     },
     "metadata": {},
     "output_type": "display_data"
    },
    {
     "data": {
      "text/html": [
       "<pre>| 2         | 23200    | 2592.030061  | 0.720517          |                     | 20.638517       |</pre>"
      ],
      "text/plain": [
       "| 2         | 23200    | 2592.030061  | 0.720517          |                     | 20.638517       |"
      ]
     },
     "metadata": {},
     "output_type": "display_data"
    },
    {
     "data": {
      "text/html": [
       "<pre>| 2         | 23400    | 2602.664876  | 0.720470          |                     | 18.806135       |</pre>"
      ],
      "text/plain": [
       "| 2         | 23400    | 2602.664876  | 0.720470          |                     | 18.806135       |"
      ]
     },
     "metadata": {},
     "output_type": "display_data"
    },
    {
     "data": {
      "text/html": [
       "<pre>| 2         | 23600    | 2612.761998  | 0.721229          |                     | 19.807625       |</pre>"
      ],
      "text/plain": [
       "| 2         | 23600    | 2612.761998  | 0.721229          |                     | 19.807625       |"
      ]
     },
     "metadata": {},
     "output_type": "display_data"
    },
    {
     "data": {
      "text/html": [
       "<pre>| 2         | 23800    | 2623.028719  | 0.721303          |                     | 19.480436       |</pre>"
      ],
      "text/plain": [
       "| 2         | 23800    | 2623.028719  | 0.721303          |                     | 19.480436       |"
      ]
     },
     "metadata": {},
     "output_type": "display_data"
    },
    {
     "data": {
      "text/html": [
       "<pre>| 2         | 24000    | 2634.175440  | 0.721417          |                     | 17.942501       |</pre>"
      ],
      "text/plain": [
       "| 2         | 24000    | 2634.175440  | 0.721417          |                     | 17.942501       |"
      ]
     },
     "metadata": {},
     "output_type": "display_data"
    },
    {
     "data": {
      "text/html": [
       "<pre>| 2         | 24200    | 2644.329873  | 0.721405          |                     | 19.695812       |</pre>"
      ],
      "text/plain": [
       "| 2         | 24200    | 2644.329873  | 0.721405          |                     | 19.695812       |"
      ]
     },
     "metadata": {},
     "output_type": "display_data"
    },
    {
     "data": {
      "text/html": [
       "<pre>| 2         | 24400    | 2654.389311  | 0.721803          |                     | 19.881840       |</pre>"
      ],
      "text/plain": [
       "| 2         | 24400    | 2654.389311  | 0.721803          |                     | 19.881840       |"
      ]
     },
     "metadata": {},
     "output_type": "display_data"
    },
    {
     "data": {
      "text/html": [
       "<pre>| 2         | 24600    | 2664.709657  | 0.722073          |                     | 19.379198       |</pre>"
      ],
      "text/plain": [
       "| 2         | 24600    | 2664.709657  | 0.722073          |                     | 19.379198       |"
      ]
     },
     "metadata": {},
     "output_type": "display_data"
    },
    {
     "data": {
      "text/html": [
       "<pre>| 2         | 24800    | 2675.313379  | 0.722137          |                     | 18.861300       |</pre>"
      ],
      "text/plain": [
       "| 2         | 24800    | 2675.313379  | 0.722137          |                     | 18.861300       |"
      ]
     },
     "metadata": {},
     "output_type": "display_data"
    },
    {
     "data": {
      "text/html": [
       "<pre>| 2         | 25000    | 2685.815864  | 0.721960          |                     | 19.043139       |</pre>"
      ],
      "text/plain": [
       "| 2         | 25000    | 2685.815864  | 0.721960          |                     | 19.043139       |"
      ]
     },
     "metadata": {},
     "output_type": "display_data"
    },
    {
     "data": {
      "text/html": [
       "<pre>| 2         | 25200    | 2696.727546  | 0.722143          |                     | 18.328911       |</pre>"
      ],
      "text/plain": [
       "| 2         | 25200    | 2696.727546  | 0.722143          |                     | 18.328911       |"
      ]
     },
     "metadata": {},
     "output_type": "display_data"
    },
    {
     "data": {
      "text/html": [
       "<pre>| 2         | 25400    | 2706.777303  | 0.722323          |                     | 19.901024       |</pre>"
      ],
      "text/plain": [
       "| 2         | 25400    | 2706.777303  | 0.722323          |                     | 19.901024       |"
      ]
     },
     "metadata": {},
     "output_type": "display_data"
    },
    {
     "data": {
      "text/html": [
       "<pre>| 2         | 25600    | 2716.993434  | 0.723086          |                     | 19.576878       |</pre>"
      ],
      "text/plain": [
       "| 2         | 25600    | 2716.993434  | 0.723086          |                     | 19.576878       |"
      ]
     },
     "metadata": {},
     "output_type": "display_data"
    },
    {
     "data": {
      "text/html": [
       "<pre>| 2         | 25900    | 2731.391542  | 0.723707          |                     | 20.836082       |</pre>"
      ],
      "text/plain": [
       "| 2         | 25900    | 2731.391542  | 0.723707          |                     | 20.836082       |"
      ]
     },
     "metadata": {},
     "output_type": "display_data"
    },
    {
     "data": {
      "text/html": [
       "<pre>| 2         | 26100    | 2741.642937  | 0.724291          |                     | 19.509535       |</pre>"
      ],
      "text/plain": [
       "| 2         | 26100    | 2741.642937  | 0.724291          |                     | 19.509535       |"
      ]
     },
     "metadata": {},
     "output_type": "display_data"
    },
    {
     "data": {
      "text/html": [
       "<pre>| 2         | 26300    | 2753.246973  | 0.724753          |                     | 17.235373       |</pre>"
      ],
      "text/plain": [
       "| 2         | 26300    | 2753.246973  | 0.724753          |                     | 17.235373       |"
      ]
     },
     "metadata": {},
     "output_type": "display_data"
    },
    {
     "data": {
      "text/html": [
       "<pre>| 2         | 26500    | 2764.021399  | 0.724717          |                     | 18.562475       |</pre>"
      ],
      "text/plain": [
       "| 2         | 26500    | 2764.021399  | 0.724717          |                     | 18.562475       |"
      ]
     },
     "metadata": {},
     "output_type": "display_data"
    },
    {
     "data": {
      "text/html": [
       "<pre>| 2         | 26600    | 3095.879770  | 0.724850          | 0.866561            | 0.301333        |</pre>"
      ],
      "text/plain": [
       "| 2         | 26600    | 3095.879770  | 0.724850          | 0.866561            | 0.301333        |"
      ]
     },
     "metadata": {},
     "output_type": "display_data"
    },
    {
     "data": {
      "text/html": [
       "<pre>Checkpointing model into rep IDSIA by 1 conv graphlab net - train in 10 iters</pre>"
      ],
      "text/plain": [
       "Checkpointing model into rep IDSIA by 1 conv graphlab net - train in 10 iters"
      ]
     },
     "metadata": {},
     "output_type": "display_data"
    },
    {
     "data": {
      "text/html": [
       "<pre>| 3         | 300      | 3108.213810  | 0.746667          |                     | 24.370026       |</pre>"
      ],
      "text/plain": [
       "| 3         | 300      | 3108.213810  | 0.746667          |                     | 24.370026       |"
      ]
     },
     "metadata": {},
     "output_type": "display_data"
    },
    {
     "data": {
      "text/html": [
       "<pre>| 3         | 600      | 3120.757981  | 0.780000          |                     | 23.915369       |</pre>"
      ],
      "text/plain": [
       "| 3         | 600      | 3120.757981  | 0.780000          |                     | 23.915369       |"
      ]
     },
     "metadata": {},
     "output_type": "display_data"
    },
    {
     "data": {
      "text/html": [
       "<pre>| 3         | 900      | 3132.892723  | 0.765556          |                     | 24.722462       |</pre>"
      ],
      "text/plain": [
       "| 3         | 900      | 3132.892723  | 0.765556          |                     | 24.722462       |"
      ]
     },
     "metadata": {},
     "output_type": "display_data"
    },
    {
     "data": {
      "text/html": [
       "<pre>| 3         | 1200     | 3145.528693  | 0.758333          |                     | 23.741726       |</pre>"
      ],
      "text/plain": [
       "| 3         | 1200     | 3145.528693  | 0.758333          |                     | 23.741726       |"
      ]
     },
     "metadata": {},
     "output_type": "display_data"
    },
    {
     "data": {
      "text/html": [
       "<pre>| 3         | 1500     | 3157.361217  | 0.754667          |                     | 25.353809       |</pre>"
      ],
      "text/plain": [
       "| 3         | 1500     | 3157.361217  | 0.754667          |                     | 25.353809       |"
      ]
     },
     "metadata": {},
     "output_type": "display_data"
    },
    {
     "data": {
      "text/html": [
       "<pre>| 3         | 1800     | 3169.454877  | 0.755556          |                     | 24.806419       |</pre>"
      ],
      "text/plain": [
       "| 3         | 1800     | 3169.454877  | 0.755556          |                     | 24.806419       |"
      ]
     },
     "metadata": {},
     "output_type": "display_data"
    },
    {
     "data": {
      "text/html": [
       "<pre>| 3         | 2100     | 3182.819721  | 0.754762          |                     | 22.446966       |</pre>"
      ],
      "text/plain": [
       "| 3         | 2100     | 3182.819721  | 0.754762          |                     | 22.446966       |"
      ]
     },
     "metadata": {},
     "output_type": "display_data"
    },
    {
     "data": {
      "text/html": [
       "<pre>| 3         | 2400     | 3195.126343  | 0.753333          |                     | 24.377110       |</pre>"
      ],
      "text/plain": [
       "| 3         | 2400     | 3195.126343  | 0.753333          |                     | 24.377110       |"
      ]
     },
     "metadata": {},
     "output_type": "display_data"
    },
    {
     "data": {
      "text/html": [
       "<pre>| 3         | 2700     | 3207.026293  | 0.750370          |                     | 25.210142       |</pre>"
      ],
      "text/plain": [
       "| 3         | 2700     | 3207.026293  | 0.750370          |                     | 25.210142       |"
      ]
     },
     "metadata": {},
     "output_type": "display_data"
    },
    {
     "data": {
      "text/html": [
       "<pre>| 3         | 3000     | 3219.608036  | 0.751333          |                     | 23.844131       |</pre>"
      ],
      "text/plain": [
       "| 3         | 3000     | 3219.608036  | 0.751333          |                     | 23.844131       |"
      ]
     },
     "metadata": {},
     "output_type": "display_data"
    },
    {
     "data": {
      "text/html": [
       "<pre>| 3         | 3300     | 3232.587437  | 0.753030          |                     | 23.113510       |</pre>"
      ],
      "text/plain": [
       "| 3         | 3300     | 3232.587437  | 0.753030          |                     | 23.113510       |"
      ]
     },
     "metadata": {},
     "output_type": "display_data"
    },
    {
     "data": {
      "text/html": [
       "<pre>| 3         | 3600     | 3244.704907  | 0.750278          |                     | 24.757690       |</pre>"
      ],
      "text/plain": [
       "| 3         | 3600     | 3244.704907  | 0.750278          |                     | 24.757690       |"
      ]
     },
     "metadata": {},
     "output_type": "display_data"
    },
    {
     "data": {
      "text/html": [
       "<pre>| 3         | 3900     | 3257.256162  | 0.750769          |                     | 23.901945       |</pre>"
      ],
      "text/plain": [
       "| 3         | 3900     | 3257.256162  | 0.750769          |                     | 23.901945       |"
      ]
     },
     "metadata": {},
     "output_type": "display_data"
    },
    {
     "data": {
      "text/html": [
       "<pre>| 3         | 4200     | 3270.216283  | 0.752619          |                     | 23.147915       |</pre>"
      ],
      "text/plain": [
       "| 3         | 4200     | 3270.216283  | 0.752619          |                     | 23.147915       |"
      ]
     },
     "metadata": {},
     "output_type": "display_data"
    },
    {
     "data": {
      "text/html": [
       "<pre>| 3         | 4500     | 3282.490250  | 0.749111          |                     | 24.442039       |</pre>"
      ],
      "text/plain": [
       "| 3         | 4500     | 3282.490250  | 0.749111          |                     | 24.442039       |"
      ]
     },
     "metadata": {},
     "output_type": "display_data"
    },
    {
     "data": {
      "text/html": [
       "<pre>| 3         | 4800     | 3294.341984  | 0.751458          |                     | 25.312687       |</pre>"
      ],
      "text/plain": [
       "| 3         | 4800     | 3294.341984  | 0.751458          |                     | 25.312687       |"
      ]
     },
     "metadata": {},
     "output_type": "display_data"
    },
    {
     "data": {
      "text/html": [
       "<pre>| 3         | 5100     | 3306.272325  | 0.751961          |                     | 25.145964       |</pre>"
      ],
      "text/plain": [
       "| 3         | 5100     | 3306.272325  | 0.751961          |                     | 25.145964       |"
      ]
     },
     "metadata": {},
     "output_type": "display_data"
    },
    {
     "data": {
      "text/html": [
       "<pre>| 3         | 5400     | 3319.576518  | 0.753333          |                     | 22.549335       |</pre>"
      ],
      "text/plain": [
       "| 3         | 5400     | 3319.576518  | 0.753333          |                     | 22.549335       |"
      ]
     },
     "metadata": {},
     "output_type": "display_data"
    },
    {
     "data": {
      "text/html": [
       "<pre>| 3         | 5700     | 3331.225803  | 0.751404          |                     | 25.752592       |</pre>"
      ],
      "text/plain": [
       "| 3         | 5700     | 3331.225803  | 0.751404          |                     | 25.752592       |"
      ]
     },
     "metadata": {},
     "output_type": "display_data"
    },
    {
     "data": {
      "text/html": [
       "<pre>| 3         | 6000     | 3342.966123  | 0.753500          |                     | 25.553005       |</pre>"
      ],
      "text/plain": [
       "| 3         | 6000     | 3342.966123  | 0.753500          |                     | 25.553005       |"
      ]
     },
     "metadata": {},
     "output_type": "display_data"
    },
    {
     "data": {
      "text/html": [
       "<pre>| 3         | 6300     | 3355.090738  | 0.752222          |                     | 24.743031       |</pre>"
      ],
      "text/plain": [
       "| 3         | 6300     | 3355.090738  | 0.752222          |                     | 24.743031       |"
      ]
     },
     "metadata": {},
     "output_type": "display_data"
    },
    {
     "data": {
      "text/html": [
       "<pre>| 3         | 6600     | 3367.304660  | 0.755303          |                     | 24.562170       |</pre>"
      ],
      "text/plain": [
       "| 3         | 6600     | 3367.304660  | 0.755303          |                     | 24.562170       |"
      ]
     },
     "metadata": {},
     "output_type": "display_data"
    },
    {
     "data": {
      "text/html": [
       "<pre>| 3         | 6900     | 3380.664910  | 0.755797          |                     | 22.454735       |</pre>"
      ],
      "text/plain": [
       "| 3         | 6900     | 3380.664910  | 0.755797          |                     | 22.454735       |"
      ]
     },
     "metadata": {},
     "output_type": "display_data"
    },
    {
     "data": {
      "text/html": [
       "<pre>| 3         | 7200     | 3392.818093  | 0.754028          |                     | 24.684774       |</pre>"
      ],
      "text/plain": [
       "| 3         | 7200     | 3392.818093  | 0.754028          |                     | 24.684774       |"
      ]
     },
     "metadata": {},
     "output_type": "display_data"
    },
    {
     "data": {
      "text/html": [
       "<pre>| 3         | 7500     | 3405.148047  | 0.752933          |                     | 24.330976       |</pre>"
      ],
      "text/plain": [
       "| 3         | 7500     | 3405.148047  | 0.752933          |                     | 24.330976       |"
      ]
     },
     "metadata": {},
     "output_type": "display_data"
    },
    {
     "data": {
      "text/html": [
       "<pre>| 3         | 7800     | 3418.015316  | 0.752820          |                     | 23.315018       |</pre>"
      ],
      "text/plain": [
       "| 3         | 7800     | 3418.015316  | 0.752820          |                     | 23.315018       |"
      ]
     },
     "metadata": {},
     "output_type": "display_data"
    },
    {
     "data": {
      "text/html": [
       "<pre>| 3         | 8100     | 3430.365368  | 0.751605          |                     | 24.291334       |</pre>"
      ],
      "text/plain": [
       "| 3         | 8100     | 3430.365368  | 0.751605          |                     | 24.291334       |"
      ]
     },
     "metadata": {},
     "output_type": "display_data"
    },
    {
     "data": {
      "text/html": [
       "<pre>| 3         | 8400     | 3442.383811  | 0.750952          |                     | 24.961695       |</pre>"
      ],
      "text/plain": [
       "| 3         | 8400     | 3442.383811  | 0.750952          |                     | 24.961695       |"
      ]
     },
     "metadata": {},
     "output_type": "display_data"
    },
    {
     "data": {
      "text/html": [
       "<pre>| 3         | 8700     | 3454.395773  | 0.750920          |                     | 24.975060       |</pre>"
      ],
      "text/plain": [
       "| 3         | 8700     | 3454.395773  | 0.750920          |                     | 24.975060       |"
      ]
     },
     "metadata": {},
     "output_type": "display_data"
    },
    {
     "data": {
      "text/html": [
       "<pre>| 3         | 9000     | 3467.065512  | 0.751333          |                     | 23.678469       |</pre>"
      ],
      "text/plain": [
       "| 3         | 9000     | 3467.065512  | 0.751333          |                     | 23.678469       |"
      ]
     },
     "metadata": {},
     "output_type": "display_data"
    },
    {
     "data": {
      "text/html": [
       "<pre>| 3         | 9300     | 3479.559120  | 0.748925          |                     | 24.012329       |</pre>"
      ],
      "text/plain": [
       "| 3         | 9300     | 3479.559120  | 0.748925          |                     | 24.012329       |"
      ]
     },
     "metadata": {},
     "output_type": "display_data"
    },
    {
     "data": {
      "text/html": [
       "<pre>| 3         | 9600     | 3491.828453  | 0.749792          |                     | 24.451162       |</pre>"
      ],
      "text/plain": [
       "| 3         | 9600     | 3491.828453  | 0.749792          |                     | 24.451162       |"
      ]
     },
     "metadata": {},
     "output_type": "display_data"
    },
    {
     "data": {
      "text/html": [
       "<pre>| 3         | 9900     | 3503.269629  | 0.750202          |                     | 26.221071       |</pre>"
      ],
      "text/plain": [
       "| 3         | 9900     | 3503.269629  | 0.750202          |                     | 26.221071       |"
      ]
     },
     "metadata": {},
     "output_type": "display_data"
    },
    {
     "data": {
      "text/html": [
       "<pre>| 3         | 10200    | 3516.621476  | 0.750098          |                     | 22.468805       |</pre>"
      ],
      "text/plain": [
       "| 3         | 10200    | 3516.621476  | 0.750098          |                     | 22.468805       |"
      ]
     },
     "metadata": {},
     "output_type": "display_data"
    },
    {
     "data": {
      "text/html": [
       "<pre>| 3         | 10500    | 3528.343665  | 0.749714          |                     | 25.592497       |</pre>"
      ],
      "text/plain": [
       "| 3         | 10500    | 3528.343665  | 0.749714          |                     | 25.592497       |"
      ]
     },
     "metadata": {},
     "output_type": "display_data"
    },
    {
     "data": {
      "text/html": [
       "<pre>| 3         | 10800    | 3540.740013  | 0.749630          |                     | 24.200712       |</pre>"
      ],
      "text/plain": [
       "| 3         | 10800    | 3540.740013  | 0.749630          |                     | 24.200712       |"
      ]
     },
     "metadata": {},
     "output_type": "display_data"
    },
    {
     "data": {
      "text/html": [
       "<pre>| 3         | 11100    | 3553.955890  | 0.749279          |                     | 22.699970       |</pre>"
      ],
      "text/plain": [
       "| 3         | 11100    | 3553.955890  | 0.749279          |                     | 22.699970       |"
      ]
     },
     "metadata": {},
     "output_type": "display_data"
    },
    {
     "data": {
      "text/html": [
       "<pre>| 3         | 11400    | 3566.043691  | 0.749035          |                     | 24.818361       |</pre>"
      ],
      "text/plain": [
       "| 3         | 11400    | 3566.043691  | 0.749035          |                     | 24.818361       |"
      ]
     },
     "metadata": {},
     "output_type": "display_data"
    },
    {
     "data": {
      "text/html": [
       "<pre>| 3         | 11700    | 3577.957898  | 0.748205          |                     | 25.180037       |</pre>"
      ],
      "text/plain": [
       "| 3         | 11700    | 3577.957898  | 0.748205          |                     | 25.180037       |"
      ]
     },
     "metadata": {},
     "output_type": "display_data"
    },
    {
     "data": {
      "text/html": [
       "<pre>| 3         | 12000    | 3590.546633  | 0.749000          |                     | 23.830801       |</pre>"
      ],
      "text/plain": [
       "| 3         | 12000    | 3590.546633  | 0.749000          |                     | 23.830801       |"
      ]
     },
     "metadata": {},
     "output_type": "display_data"
    },
    {
     "data": {
      "text/html": [
       "<pre>| 3         | 12300    | 3603.481803  | 0.749675          |                     | 23.192581       |</pre>"
      ],
      "text/plain": [
       "| 3         | 12300    | 3603.481803  | 0.749675          |                     | 23.192581       |"
      ]
     },
     "metadata": {},
     "output_type": "display_data"
    },
    {
     "data": {
      "text/html": [
       "<pre>| 3         | 12600    | 3615.472442  | 0.749444          |                     | 25.019569       |</pre>"
      ],
      "text/plain": [
       "| 3         | 12600    | 3615.472442  | 0.749444          |                     | 25.019569       |"
      ]
     },
     "metadata": {},
     "output_type": "display_data"
    },
    {
     "data": {
      "text/html": [
       "<pre>| 3         | 12900    | 3627.661469  | 0.751008          |                     | 24.612265       |</pre>"
      ],
      "text/plain": [
       "| 3         | 12900    | 3627.661469  | 0.751008          |                     | 24.612265       |"
      ]
     },
     "metadata": {},
     "output_type": "display_data"
    },
    {
     "data": {
      "text/html": [
       "<pre>| 3         | 13200    | 3639.228284  | 0.752121          |                     | 25.936281       |</pre>"
      ],
      "text/plain": [
       "| 3         | 13200    | 3639.228284  | 0.752121          |                     | 25.936281       |"
      ]
     },
     "metadata": {},
     "output_type": "display_data"
    },
    {
     "data": {
      "text/html": [
       "<pre>| 3         | 13500    | 3652.875829  | 0.753111          |                     | 21.982002       |</pre>"
      ],
      "text/plain": [
       "| 3         | 13500    | 3652.875829  | 0.753111          |                     | 21.982002       |"
      ]
     },
     "metadata": {},
     "output_type": "display_data"
    },
    {
     "data": {
      "text/html": [
       "<pre>| 3         | 13800    | 3665.523216  | 0.753986          |                     | 23.720274       |</pre>"
      ],
      "text/plain": [
       "| 3         | 13800    | 3665.523216  | 0.753986          |                     | 23.720274       |"
      ]
     },
     "metadata": {},
     "output_type": "display_data"
    },
    {
     "data": {
      "text/html": [
       "<pre>| 3         | 14100    | 3677.651220  | 0.755106          |                     | 24.736135       |</pre>"
      ],
      "text/plain": [
       "| 3         | 14100    | 3677.651220  | 0.755106          |                     | 24.736135       |"
      ]
     },
     "metadata": {},
     "output_type": "display_data"
    },
    {
     "data": {
      "text/html": [
       "<pre>| 3         | 14400    | 3690.721945  | 0.755347          |                     | 22.952089       |</pre>"
      ],
      "text/plain": [
       "| 3         | 14400    | 3690.721945  | 0.755347          |                     | 22.952089       |"
      ]
     },
     "metadata": {},
     "output_type": "display_data"
    },
    {
     "data": {
      "text/html": [
       "<pre>| 3         | 14700    | 3703.249884  | 0.755782          |                     | 23.946436       |</pre>"
      ],
      "text/plain": [
       "| 3         | 14700    | 3703.249884  | 0.755782          |                     | 23.946436       |"
      ]
     },
     "metadata": {},
     "output_type": "display_data"
    },
    {
     "data": {
      "text/html": [
       "<pre>| 3         | 15000    | 3715.490102  | 0.756067          |                     | 24.509371       |</pre>"
      ],
      "text/plain": [
       "| 3         | 15000    | 3715.490102  | 0.756067          |                     | 24.509371       |"
      ]
     },
     "metadata": {},
     "output_type": "display_data"
    },
    {
     "data": {
      "text/html": [
       "<pre>| 3         | 15300    | 3727.633743  | 0.756928          |                     | 24.704287       |</pre>"
      ],
      "text/plain": [
       "| 3         | 15300    | 3727.633743  | 0.756928          |                     | 24.704287       |"
      ]
     },
     "metadata": {},
     "output_type": "display_data"
    },
    {
     "data": {
      "text/html": [
       "<pre>| 3         | 15600    | 3740.332072  | 0.758013          |                     | 23.625160       |</pre>"
      ],
      "text/plain": [
       "| 3         | 15600    | 3740.332072  | 0.758013          |                     | 23.625160       |"
      ]
     },
     "metadata": {},
     "output_type": "display_data"
    },
    {
     "data": {
      "text/html": [
       "<pre>| 3         | 15900    | 3753.209840  | 0.759371          |                     | 23.295952       |</pre>"
      ],
      "text/plain": [
       "| 3         | 15900    | 3753.209840  | 0.759371          |                     | 23.295952       |"
      ]
     },
     "metadata": {},
     "output_type": "display_data"
    },
    {
     "data": {
      "text/html": [
       "<pre>| 3         | 16200    | 3765.577062  | 0.760062          |                     | 24.257719       |</pre>"
      ],
      "text/plain": [
       "| 3         | 16200    | 3765.577062  | 0.760062          |                     | 24.257719       |"
      ]
     },
     "metadata": {},
     "output_type": "display_data"
    },
    {
     "data": {
      "text/html": [
       "<pre>| 3         | 16500    | 3778.723184  | 0.760364          |                     | 22.820419       |</pre>"
      ],
      "text/plain": [
       "| 3         | 16500    | 3778.723184  | 0.760364          |                     | 22.820419       |"
      ]
     },
     "metadata": {},
     "output_type": "display_data"
    },
    {
     "data": {
      "text/html": [
       "<pre>| 3         | 16800    | 3791.567898  | 0.760298          |                     | 23.355900       |</pre>"
      ],
      "text/plain": [
       "| 3         | 16800    | 3791.567898  | 0.760298          |                     | 23.355900       |"
      ]
     },
     "metadata": {},
     "output_type": "display_data"
    },
    {
     "data": {
      "text/html": [
       "<pre>| 3         | 17100    | 3804.477354  | 0.760819          |                     | 23.238752       |</pre>"
      ],
      "text/plain": [
       "| 3         | 17100    | 3804.477354  | 0.760819          |                     | 23.238752       |"
      ]
     },
     "metadata": {},
     "output_type": "display_data"
    },
    {
     "data": {
      "text/html": [
       "<pre>| 3         | 17400    | 3816.789904  | 0.761552          |                     | 24.365429       |</pre>"
      ],
      "text/plain": [
       "| 3         | 17400    | 3816.789904  | 0.761552          |                     | 24.365429       |"
      ]
     },
     "metadata": {},
     "output_type": "display_data"
    },
    {
     "data": {
      "text/html": [
       "<pre>| 3         | 17700    | 3830.179984  | 0.762260          |                     | 22.404617       |</pre>"
      ],
      "text/plain": [
       "| 3         | 17700    | 3830.179984  | 0.762260          |                     | 22.404617       |"
      ]
     },
     "metadata": {},
     "output_type": "display_data"
    },
    {
     "data": {
      "text/html": [
       "<pre>| 3         | 18000    | 3842.742157  | 0.762722          |                     | 23.881227       |</pre>"
      ],
      "text/plain": [
       "| 3         | 18000    | 3842.742157  | 0.762722          |                     | 23.881227       |"
      ]
     },
     "metadata": {},
     "output_type": "display_data"
    },
    {
     "data": {
      "text/html": [
       "<pre>| 3         | 18300    | 3855.196817  | 0.763333          |                     | 24.087399       |</pre>"
      ],
      "text/plain": [
       "| 3         | 18300    | 3855.196817  | 0.763333          |                     | 24.087399       |"
      ]
     },
     "metadata": {},
     "output_type": "display_data"
    },
    {
     "data": {
      "text/html": [
       "<pre>| 3         | 18600    | 3868.511524  | 0.763441          |                     | 22.531439       |</pre>"
      ],
      "text/plain": [
       "| 3         | 18600    | 3868.511524  | 0.763441          |                     | 22.531439       |"
      ]
     },
     "metadata": {},
     "output_type": "display_data"
    },
    {
     "data": {
      "text/html": [
       "<pre>| 3         | 18900    | 3880.624307  | 0.763810          |                     | 24.767221       |</pre>"
      ],
      "text/plain": [
       "| 3         | 18900    | 3880.624307  | 0.763810          |                     | 24.767221       |"
      ]
     },
     "metadata": {},
     "output_type": "display_data"
    },
    {
     "data": {
      "text/html": [
       "<pre>| 3         | 19200    | 3892.977566  | 0.763958          |                     | 24.285124       |</pre>"
      ],
      "text/plain": [
       "| 3         | 19200    | 3892.977566  | 0.763958          |                     | 24.285124       |"
      ]
     },
     "metadata": {},
     "output_type": "display_data"
    },
    {
     "data": {
      "text/html": [
       "<pre>| 3         | 19500    | 3905.142648  | 0.763795          |                     | 24.660698       |</pre>"
      ],
      "text/plain": [
       "| 3         | 19500    | 3905.142648  | 0.763795          |                     | 24.660698       |"
      ]
     },
     "metadata": {},
     "output_type": "display_data"
    },
    {
     "data": {
      "text/html": [
       "<pre>| 3         | 19800    | 3918.748909  | 0.763990          |                     | 22.048716       |</pre>"
      ],
      "text/plain": [
       "| 3         | 19800    | 3918.748909  | 0.763990          |                     | 22.048716       |"
      ]
     },
     "metadata": {},
     "output_type": "display_data"
    },
    {
     "data": {
      "text/html": [
       "<pre>| 3         | 20100    | 3930.835161  | 0.763582          |                     | 24.821554       |</pre>"
      ],
      "text/plain": [
       "| 3         | 20100    | 3930.835161  | 0.763582          |                     | 24.821554       |"
      ]
     },
     "metadata": {},
     "output_type": "display_data"
    },
    {
     "data": {
      "text/html": [
       "<pre>| 3         | 20400    | 3943.016653  | 0.763824          |                     | 24.627514       |</pre>"
      ],
      "text/plain": [
       "| 3         | 20400    | 3943.016653  | 0.763824          |                     | 24.627514       |"
      ]
     },
     "metadata": {},
     "output_type": "display_data"
    },
    {
     "data": {
      "text/html": [
       "<pre>| 3         | 20700    | 3955.203065  | 0.764106          |                     | 24.617645       |</pre>"
      ],
      "text/plain": [
       "| 3         | 20700    | 3955.203065  | 0.764106          |                     | 24.617645       |"
      ]
     },
     "metadata": {},
     "output_type": "display_data"
    },
    {
     "data": {
      "text/html": [
       "<pre>| 3         | 21000    | 3968.219355  | 0.764714          |                     | 23.048004       |</pre>"
      ],
      "text/plain": [
       "| 3         | 21000    | 3968.219355  | 0.764714          |                     | 23.048004       |"
      ]
     },
     "metadata": {},
     "output_type": "display_data"
    },
    {
     "data": {
      "text/html": [
       "<pre>| 3         | 21300    | 3980.501596  | 0.765023          |                     | 24.425516       |</pre>"
      ],
      "text/plain": [
       "| 3         | 21300    | 3980.501596  | 0.765023          |                     | 24.425516       |"
      ]
     },
     "metadata": {},
     "output_type": "display_data"
    },
    {
     "data": {
      "text/html": [
       "<pre>| 3         | 21600    | 3993.110069  | 0.765370          |                     | 23.793528       |</pre>"
      ],
      "text/plain": [
       "| 3         | 21600    | 3993.110069  | 0.765370          |                     | 23.793528       |"
      ]
     },
     "metadata": {},
     "output_type": "display_data"
    },
    {
     "data": {
      "text/html": [
       "<pre>| 3         | 21900    | 4006.288390  | 0.765251          |                     | 22.764637       |</pre>"
      ],
      "text/plain": [
       "| 3         | 21900    | 4006.288390  | 0.765251          |                     | 22.764637       |"
      ]
     },
     "metadata": {},
     "output_type": "display_data"
    },
    {
     "data": {
      "text/html": [
       "<pre>| 3         | 22200    | 4018.702559  | 0.765405          |                     | 24.165945       |</pre>"
      ],
      "text/plain": [
       "| 3         | 22200    | 4018.702559  | 0.765405          |                     | 24.165945       |"
      ]
     },
     "metadata": {},
     "output_type": "display_data"
    },
    {
     "data": {
      "text/html": [
       "<pre>| 3         | 22500    | 4030.732212  | 0.765111          |                     | 24.938360       |</pre>"
      ],
      "text/plain": [
       "| 3         | 22500    | 4030.732212  | 0.765111          |                     | 24.938360       |"
      ]
     },
     "metadata": {},
     "output_type": "display_data"
    },
    {
     "data": {
      "text/html": [
       "<pre>| 3         | 22800    | 4043.225100  | 0.764561          |                     | 24.013672       |</pre>"
      ],
      "text/plain": [
       "| 3         | 22800    | 4043.225100  | 0.764561          |                     | 24.013672       |"
      ]
     },
     "metadata": {},
     "output_type": "display_data"
    },
    {
     "data": {
      "text/html": [
       "<pre>| 3         | 23100    | 4056.720388  | 0.764545          |                     | 22.230019       |</pre>"
      ],
      "text/plain": [
       "| 3         | 23100    | 4056.720388  | 0.764545          |                     | 22.230019       |"
      ]
     },
     "metadata": {},
     "output_type": "display_data"
    },
    {
     "data": {
      "text/html": [
       "<pre>| 3         | 23400    | 4068.558407  | 0.763974          |                     | 25.342028       |</pre>"
      ],
      "text/plain": [
       "| 3         | 23400    | 4068.558407  | 0.763974          |                     | 25.342028       |"
      ]
     },
     "metadata": {},
     "output_type": "display_data"
    },
    {
     "data": {
      "text/html": [
       "<pre>| 3         | 23700    | 4080.037863  | 0.763840          |                     | 26.133640       |</pre>"
      ],
      "text/plain": [
       "| 3         | 23700    | 4080.037863  | 0.763840          |                     | 26.133640       |"
      ]
     },
     "metadata": {},
     "output_type": "display_data"
    },
    {
     "data": {
      "text/html": [
       "<pre>| 3         | 24000    | 4093.019623  | 0.763625          |                     | 23.109341       |</pre>"
      ],
      "text/plain": [
       "| 3         | 24000    | 4093.019623  | 0.763625          |                     | 23.109341       |"
      ]
     },
     "metadata": {},
     "output_type": "display_data"
    },
    {
     "data": {
      "text/html": [
       "<pre>| 3         | 24300    | 4106.149812  | 0.764033          |                     | 22.848127       |</pre>"
      ],
      "text/plain": [
       "| 3         | 24300    | 4106.149812  | 0.764033          |                     | 22.848127       |"
      ]
     },
     "metadata": {},
     "output_type": "display_data"
    },
    {
     "data": {
      "text/html": [
       "<pre>| 3         | 24600    | 4118.540884  | 0.764472          |                     | 24.211023       |</pre>"
      ],
      "text/plain": [
       "| 3         | 24600    | 4118.540884  | 0.764472          |                     | 24.211023       |"
      ]
     },
     "metadata": {},
     "output_type": "display_data"
    },
    {
     "data": {
      "text/html": [
       "<pre>| 3         | 24900    | 4131.687296  | 0.763614          |                     | 22.819859       |</pre>"
      ],
      "text/plain": [
       "| 3         | 24900    | 4131.687296  | 0.763614          |                     | 22.819859       |"
      ]
     },
     "metadata": {},
     "output_type": "display_data"
    },
    {
     "data": {
      "text/html": [
       "<pre>| 3         | 25200    | 4144.607638  | 0.763452          |                     | 23.219240       |</pre>"
      ],
      "text/plain": [
       "| 3         | 25200    | 4144.607638  | 0.763452          |                     | 23.219240       |"
      ]
     },
     "metadata": {},
     "output_type": "display_data"
    },
    {
     "data": {
      "text/html": [
       "<pre>| 3         | 25500    | 4156.600765  | 0.763098          |                     | 25.014324       |</pre>"
      ],
      "text/plain": [
       "| 3         | 25500    | 4156.600765  | 0.763098          |                     | 25.014324       |"
      ]
     },
     "metadata": {},
     "output_type": "display_data"
    },
    {
     "data": {
      "text/html": [
       "<pre>| 3         | 25800    | 4168.258562  | 0.763411          |                     | 25.733807       |</pre>"
      ],
      "text/plain": [
       "| 3         | 25800    | 4168.258562  | 0.763411          |                     | 25.733807       |"
      ]
     },
     "metadata": {},
     "output_type": "display_data"
    },
    {
     "data": {
      "text/html": [
       "<pre>| 3         | 26100    | 4180.608958  | 0.763755          |                     | 24.290726       |</pre>"
      ],
      "text/plain": [
       "| 3         | 26100    | 4180.608958  | 0.763755          |                     | 24.290726       |"
      ]
     },
     "metadata": {},
     "output_type": "display_data"
    },
    {
     "data": {
      "text/html": [
       "<pre>| 3         | 26400    | 4194.254849  | 0.764053          |                     | 21.984638       |</pre>"
      ],
      "text/plain": [
       "| 3         | 26400    | 4194.254849  | 0.764053          |                     | 21.984638       |"
      ]
     },
     "metadata": {},
     "output_type": "display_data"
    },
    {
     "data": {
      "text/html": [
       "<pre>| 3         | 26600    | 4473.293572  | 0.764248          | 0.861897            | 0.716746        |</pre>"
      ],
      "text/plain": [
       "| 3         | 26600    | 4473.293572  | 0.764248          | 0.861897            | 0.716746        |"
      ]
     },
     "metadata": {},
     "output_type": "display_data"
    },
    {
     "data": {
      "text/html": [
       "<pre>Checkpointing model into rep IDSIA by 1 conv graphlab net - train in 10 iters</pre>"
      ],
      "text/plain": [
       "Checkpointing model into rep IDSIA by 1 conv graphlab net - train in 10 iters"
      ]
     },
     "metadata": {},
     "output_type": "display_data"
    },
    {
     "data": {
      "text/html": [
       "<pre>| 4         | 200      | 4486.136275  | 0.770000          |                     | 15.654557       |</pre>"
      ],
      "text/plain": [
       "| 4         | 200      | 4486.136275  | 0.770000          |                     | 15.654557       |"
      ]
     },
     "metadata": {},
     "output_type": "display_data"
    },
    {
     "data": {
      "text/html": [
       "<pre>| 4         | 500      | 4497.757890  | 0.766000          |                     | 25.813869       |</pre>"
      ],
      "text/plain": [
       "| 4         | 500      | 4497.757890  | 0.766000          |                     | 25.813869       |"
      ]
     },
     "metadata": {},
     "output_type": "display_data"
    },
    {
     "data": {
      "text/html": [
       "<pre>| 4         | 800      | 4510.292240  | 0.766250          |                     | 23.934271       |</pre>"
      ],
      "text/plain": [
       "| 4         | 800      | 4510.292240  | 0.766250          |                     | 23.934271       |"
      ]
     },
     "metadata": {},
     "output_type": "display_data"
    },
    {
     "data": {
      "text/html": [
       "<pre>| 4         | 1100     | 4522.590552  | 0.758182          |                     | 24.393583       |</pre>"
      ],
      "text/plain": [
       "| 4         | 1100     | 4522.590552  | 0.758182          |                     | 24.393583       |"
      ]
     },
     "metadata": {},
     "output_type": "display_data"
    },
    {
     "data": {
      "text/html": [
       "<pre>| 4         | 1400     | 4535.541485  | 0.762857          |                     | 23.164347       |</pre>"
      ],
      "text/plain": [
       "| 4         | 1400     | 4535.541485  | 0.762857          |                     | 23.164347       |"
      ]
     },
     "metadata": {},
     "output_type": "display_data"
    },
    {
     "data": {
      "text/html": [
       "<pre>| 4         | 1700     | 4547.809505  | 0.759412          |                     | 24.453789       |</pre>"
      ],
      "text/plain": [
       "| 4         | 1700     | 4547.809505  | 0.759412          |                     | 24.453789       |"
      ]
     },
     "metadata": {},
     "output_type": "display_data"
    },
    {
     "data": {
      "text/html": [
       "<pre>| 4         | 2000     | 4559.663631  | 0.766000          |                     | 25.307642       |</pre>"
      ],
      "text/plain": [
       "| 4         | 2000     | 4559.663631  | 0.766000          |                     | 25.307642       |"
      ]
     },
     "metadata": {},
     "output_type": "display_data"
    },
    {
     "data": {
      "text/html": [
       "<pre>| 4         | 2300     | 4571.817812  | 0.761739          |                     | 24.682919       |</pre>"
      ],
      "text/plain": [
       "| 4         | 2300     | 4571.817812  | 0.761739          |                     | 24.682919       |"
      ]
     },
     "metadata": {},
     "output_type": "display_data"
    },
    {
     "data": {
      "text/html": [
       "<pre>| 4         | 2600     | 4584.759849  | 0.753846          |                     | 23.180250       |</pre>"
      ],
      "text/plain": [
       "| 4         | 2600     | 4584.759849  | 0.753846          |                     | 23.180250       |"
      ]
     },
     "metadata": {},
     "output_type": "display_data"
    },
    {
     "data": {
      "text/html": [
       "<pre>| 4         | 2900     | 4596.897909  | 0.757586          |                     | 24.715658       |</pre>"
      ],
      "text/plain": [
       "| 4         | 2900     | 4596.897909  | 0.757586          |                     | 24.715658       |"
      ]
     },
     "metadata": {},
     "output_type": "display_data"
    },
    {
     "data": {
      "text/html": [
       "<pre>| 4         | 3200     | 4609.532751  | 0.756562          |                     | 23.743835       |</pre>"
      ],
      "text/plain": [
       "| 4         | 3200     | 4609.532751  | 0.756562          |                     | 23.743835       |"
      ]
     },
     "metadata": {},
     "output_type": "display_data"
    },
    {
     "data": {
      "text/html": [
       "<pre>| 4         | 3500     | 4622.538340  | 0.761429          |                     | 23.067045       |</pre>"
      ],
      "text/plain": [
       "| 4         | 3500     | 4622.538340  | 0.761429          |                     | 23.067045       |"
      ]
     },
     "metadata": {},
     "output_type": "display_data"
    },
    {
     "data": {
      "text/html": [
       "<pre>| 4         | 3800     | 4634.410352  | 0.762632          |                     | 25.269487       |</pre>"
      ],
      "text/plain": [
       "| 4         | 3800     | 4634.410352  | 0.762632          |                     | 25.269487       |"
      ]
     },
     "metadata": {},
     "output_type": "display_data"
    },
    {
     "data": {
      "text/html": [
       "<pre>| 4         | 4100     | 4647.056048  | 0.764878          |                     | 23.723469       |</pre>"
      ],
      "text/plain": [
       "| 4         | 4100     | 4647.056048  | 0.764878          |                     | 23.723469       |"
      ]
     },
     "metadata": {},
     "output_type": "display_data"
    },
    {
     "data": {
      "text/html": [
       "<pre>| 4         | 4400     | 4659.282573  | 0.765455          |                     | 24.536818       |</pre>"
      ],
      "text/plain": [
       "| 4         | 4400     | 4659.282573  | 0.765455          |                     | 24.536818       |"
      ]
     },
     "metadata": {},
     "output_type": "display_data"
    },
    {
     "data": {
      "text/html": [
       "<pre>| 4         | 4700     | 4673.321356  | 0.764894          |                     | 21.369404       |</pre>"
      ],
      "text/plain": [
       "| 4         | 4700     | 4673.321356  | 0.764894          |                     | 21.369404       |"
      ]
     },
     "metadata": {},
     "output_type": "display_data"
    },
    {
     "data": {
      "text/html": [
       "<pre>| 4         | 5000     | 4685.431771  | 0.767600          |                     | 24.772034       |</pre>"
      ],
      "text/plain": [
       "| 4         | 5000     | 4685.431771  | 0.767600          |                     | 24.772034       |"
      ]
     },
     "metadata": {},
     "output_type": "display_data"
    },
    {
     "data": {
      "text/html": [
       "<pre>| 4         | 5300     | 4697.783814  | 0.768679          |                     | 24.287479       |</pre>"
      ],
      "text/plain": [
       "| 4         | 5300     | 4697.783814  | 0.768679          |                     | 24.287479       |"
      ]
     },
     "metadata": {},
     "output_type": "display_data"
    },
    {
     "data": {
      "text/html": [
       "<pre>| 4         | 5600     | 4711.154427  | 0.768571          |                     | 22.437298       |</pre>"
      ],
      "text/plain": [
       "| 4         | 5600     | 4711.154427  | 0.768571          |                     | 22.437298       |"
      ]
     },
     "metadata": {},
     "output_type": "display_data"
    },
    {
     "data": {
      "text/html": [
       "<pre>| 4         | 5900     | 4723.720037  | 0.768983          |                     | 23.874638       |</pre>"
      ],
      "text/plain": [
       "| 4         | 5900     | 4723.720037  | 0.768983          |                     | 23.874638       |"
      ]
     },
     "metadata": {},
     "output_type": "display_data"
    },
    {
     "data": {
      "text/html": [
       "<pre>| 4         | 6200     | 4735.500205  | 0.767097          |                     | 25.466562       |</pre>"
      ],
      "text/plain": [
       "| 4         | 6200     | 4735.500205  | 0.767097          |                     | 25.466562       |"
      ]
     },
     "metadata": {},
     "output_type": "display_data"
    },
    {
     "data": {
      "text/html": [
       "<pre>| 4         | 6500     | 4748.407783  | 0.768769          |                     | 23.242142       |</pre>"
      ],
      "text/plain": [
       "| 4         | 6500     | 4748.407783  | 0.768769          |                     | 23.242142       |"
      ]
     },
     "metadata": {},
     "output_type": "display_data"
    },
    {
     "data": {
      "text/html": [
       "<pre>| 4         | 6800     | 4761.528901  | 0.769706          |                     | 22.863901       |</pre>"
      ],
      "text/plain": [
       "| 4         | 6800     | 4761.528901  | 0.769706          |                     | 22.863901       |"
      ]
     },
     "metadata": {},
     "output_type": "display_data"
    },
    {
     "data": {
      "text/html": [
       "<pre>| 4         | 7100     | 4773.639821  | 0.770141          |                     | 24.771082       |</pre>"
      ],
      "text/plain": [
       "| 4         | 7100     | 4773.639821  | 0.770141          |                     | 24.771082       |"
      ]
     },
     "metadata": {},
     "output_type": "display_data"
    },
    {
     "data": {
      "text/html": [
       "<pre>| 4         | 7400     | 4785.593916  | 0.771486          |                     | 25.095955       |</pre>"
      ],
      "text/plain": [
       "| 4         | 7400     | 4785.593916  | 0.771486          |                     | 25.095955       |"
      ]
     },
     "metadata": {},
     "output_type": "display_data"
    },
    {
     "data": {
      "text/html": [
       "<pre>| 4         | 7700     | 4798.521685  | 0.773117          |                     | 23.205885       |</pre>"
      ],
      "text/plain": [
       "| 4         | 7700     | 4798.521685  | 0.773117          |                     | 23.205885       |"
      ]
     },
     "metadata": {},
     "output_type": "display_data"
    },
    {
     "data": {
      "text/html": [
       "<pre>| 4         | 8000     | 4811.416509  | 0.772750          |                     | 23.265125       |</pre>"
      ],
      "text/plain": [
       "| 4         | 8000     | 4811.416509  | 0.772750          |                     | 23.265125       |"
      ]
     },
     "metadata": {},
     "output_type": "display_data"
    },
    {
     "data": {
      "text/html": [
       "<pre>| 4         | 8300     | 4823.179420  | 0.773855          |                     | 25.503891       |</pre>"
      ],
      "text/plain": [
       "| 4         | 8300     | 4823.179420  | 0.773855          |                     | 25.503891       |"
      ]
     },
     "metadata": {},
     "output_type": "display_data"
    },
    {
     "data": {
      "text/html": [
       "<pre>| 4         | 8600     | 4836.004747  | 0.774651          |                     | 23.391237       |</pre>"
      ],
      "text/plain": [
       "| 4         | 8600     | 4836.004747  | 0.774651          |                     | 23.391237       |"
      ]
     },
     "metadata": {},
     "output_type": "display_data"
    },
    {
     "data": {
      "text/html": [
       "<pre>| 4         | 8900     | 4849.291059  | 0.774382          |                     | 22.579634       |</pre>"
      ],
      "text/plain": [
       "| 4         | 8900     | 4849.291059  | 0.774382          |                     | 22.579634       |"
      ]
     },
     "metadata": {},
     "output_type": "display_data"
    },
    {
     "data": {
      "text/html": [
       "<pre>| 4         | 9200     | 4861.585247  | 0.774130          |                     | 24.401737       |</pre>"
      ],
      "text/plain": [
       "| 4         | 9200     | 4861.585247  | 0.774130          |                     | 24.401737       |"
      ]
     },
     "metadata": {},
     "output_type": "display_data"
    },
    {
     "data": {
      "text/html": [
       "<pre>| 4         | 9500     | 4873.726247  | 0.774105          |                     | 24.709719       |</pre>"
      ],
      "text/plain": [
       "| 4         | 9500     | 4873.726247  | 0.774105          |                     | 24.709719       |"
      ]
     },
     "metadata": {},
     "output_type": "display_data"
    },
    {
     "data": {
      "text/html": [
       "<pre>| 4         | 9800     | 4885.418454  | 0.773878          |                     | 25.658091       |</pre>"
      ],
      "text/plain": [
       "| 4         | 9800     | 4885.418454  | 0.773878          |                     | 25.658091       |"
      ]
     },
     "metadata": {},
     "output_type": "display_data"
    },
    {
     "data": {
      "text/html": [
       "<pre>| 4         | 10100    | 4897.436426  | 0.771980          |                     | 24.962614       |</pre>"
      ],
      "text/plain": [
       "| 4         | 10100    | 4897.436426  | 0.771980          |                     | 24.962614       |"
      ]
     },
     "metadata": {},
     "output_type": "display_data"
    },
    {
     "data": {
      "text/html": [
       "<pre>| 4         | 10400    | 4910.864750  | 0.770673          |                     | 22.340807       |</pre>"
      ],
      "text/plain": [
       "| 4         | 10400    | 4910.864750  | 0.770673          |                     | 22.340807       |"
      ]
     },
     "metadata": {},
     "output_type": "display_data"
    },
    {
     "data": {
      "text/html": [
       "<pre>| 4         | 10700    | 4922.996676  | 0.771402          |                     | 24.728157       |</pre>"
      ],
      "text/plain": [
       "| 4         | 10700    | 4922.996676  | 0.771402          |                     | 24.728157       |"
      ]
     },
     "metadata": {},
     "output_type": "display_data"
    },
    {
     "data": {
      "text/html": [
       "<pre>| 4         | 11000    | 4935.497181  | 0.770636          |                     | 23.999063       |</pre>"
      ],
      "text/plain": [
       "| 4         | 11000    | 4935.497181  | 0.770636          |                     | 23.999063       |"
      ]
     },
     "metadata": {},
     "output_type": "display_data"
    },
    {
     "data": {
      "text/html": [
       "<pre>| 4         | 11300    | 4948.710210  | 0.770354          |                     | 22.704861       |</pre>"
      ],
      "text/plain": [
       "| 4         | 11300    | 4948.710210  | 0.770354          |                     | 22.704861       |"
      ]
     },
     "metadata": {},
     "output_type": "display_data"
    },
    {
     "data": {
      "text/html": [
       "<pre>| 4         | 11600    | 4961.869741  | 0.770086          |                     | 22.797129       |</pre>"
      ],
      "text/plain": [
       "| 4         | 11600    | 4961.869741  | 0.770086          |                     | 22.797129       |"
      ]
     },
     "metadata": {},
     "output_type": "display_data"
    },
    {
     "data": {
      "text/html": [
       "<pre>| 4         | 11900    | 4974.901050  | 0.770504          |                     | 23.021473       |</pre>"
      ],
      "text/plain": [
       "| 4         | 11900    | 4974.901050  | 0.770504          |                     | 23.021473       |"
      ]
     },
     "metadata": {},
     "output_type": "display_data"
    },
    {
     "data": {
      "text/html": [
       "<pre>| 4         | 12200    | 4987.173569  | 0.770902          |                     | 24.444859       |</pre>"
      ],
      "text/plain": [
       "| 4         | 12200    | 4987.173569  | 0.770902          |                     | 24.444859       |"
      ]
     },
     "metadata": {},
     "output_type": "display_data"
    },
    {
     "data": {
      "text/html": [
       "<pre>| 4         | 12500    | 5000.760959  | 0.768800          |                     | 22.079294       |</pre>"
      ],
      "text/plain": [
       "| 4         | 12500    | 5000.760959  | 0.768800          |                     | 22.079294       |"
      ]
     },
     "metadata": {},
     "output_type": "display_data"
    },
    {
     "data": {
      "text/html": [
       "<pre>| 4         | 12800    | 5013.745831  | 0.768984          |                     | 23.103846       |</pre>"
      ],
      "text/plain": [
       "| 4         | 12800    | 5013.745831  | 0.768984          |                     | 23.103846       |"
      ]
     },
     "metadata": {},
     "output_type": "display_data"
    },
    {
     "data": {
      "text/html": [
       "<pre>| 4         | 13100    | 5026.181297  | 0.768855          |                     | 24.124510       |</pre>"
      ],
      "text/plain": [
       "| 4         | 13100    | 5026.181297  | 0.768855          |                     | 24.124510       |"
      ]
     },
     "metadata": {},
     "output_type": "display_data"
    },
    {
     "data": {
      "text/html": [
       "<pre>| 4         | 13400    | 5039.056785  | 0.769627          |                     | 23.300133       |</pre>"
      ],
      "text/plain": [
       "| 4         | 13400    | 5039.056785  | 0.769627          |                     | 23.300133       |"
      ]
     },
     "metadata": {},
     "output_type": "display_data"
    },
    {
     "data": {
      "text/html": [
       "<pre>| 4         | 13700    | 5052.104957  | 0.769927          |                     | 22.991701       |</pre>"
      ],
      "text/plain": [
       "| 4         | 13700    | 5052.104957  | 0.769927          |                     | 22.991701       |"
      ]
     },
     "metadata": {},
     "output_type": "display_data"
    },
    {
     "data": {
      "text/html": [
       "<pre>| 4         | 14000    | 5063.665185  | 0.769357          |                     | 25.951027       |</pre>"
      ],
      "text/plain": [
       "| 4         | 14000    | 5063.665185  | 0.769357          |                     | 25.951027       |"
      ]
     },
     "metadata": {},
     "output_type": "display_data"
    },
    {
     "data": {
      "text/html": [
       "<pre>| 4         | 14300    | 5076.044809  | 0.768881          |                     | 24.233416       |</pre>"
      ],
      "text/plain": [
       "| 4         | 14300    | 5076.044809  | 0.768881          |                     | 24.233416       |"
      ]
     },
     "metadata": {},
     "output_type": "display_data"
    },
    {
     "data": {
      "text/html": [
       "<pre>| 4         | 14600    | 5087.832923  | 0.768151          |                     | 25.449352       |</pre>"
      ],
      "text/plain": [
       "| 4         | 14600    | 5087.832923  | 0.768151          |                     | 25.449352       |"
      ]
     },
     "metadata": {},
     "output_type": "display_data"
    },
    {
     "data": {
      "text/html": [
       "<pre>| 4         | 14900    | 5101.413680  | 0.767248          |                     | 22.090076       |</pre>"
      ],
      "text/plain": [
       "| 4         | 14900    | 5101.413680  | 0.767248          |                     | 22.090076       |"
      ]
     },
     "metadata": {},
     "output_type": "display_data"
    },
    {
     "data": {
      "text/html": [
       "<pre>| 4         | 15200    | 5114.261444  | 0.766118          |                     | 23.350378       |</pre>"
      ],
      "text/plain": [
       "| 4         | 15200    | 5114.261444  | 0.766118          |                     | 23.350378       |"
      ]
     },
     "metadata": {},
     "output_type": "display_data"
    },
    {
     "data": {
      "text/html": [
       "<pre>| 4         | 15500    | 5126.995241  | 0.766129          |                     | 23.559301       |</pre>"
      ],
      "text/plain": [
       "| 4         | 15500    | 5126.995241  | 0.766129          |                     | 23.559301       |"
      ]
     },
     "metadata": {},
     "output_type": "display_data"
    },
    {
     "data": {
      "text/html": [
       "<pre>| 4         | 15800    | 5140.092521  | 0.765063          |                     | 22.905565       |</pre>"
      ],
      "text/plain": [
       "| 4         | 15800    | 5140.092521  | 0.765063          |                     | 22.905565       |"
      ]
     },
     "metadata": {},
     "output_type": "display_data"
    },
    {
     "data": {
      "text/html": [
       "<pre>| 4         | 16100    | 5153.340865  | 0.764720          |                     | 22.644325       |</pre>"
      ],
      "text/plain": [
       "| 4         | 16100    | 5153.340865  | 0.764720          |                     | 22.644325       |"
      ]
     },
     "metadata": {},
     "output_type": "display_data"
    },
    {
     "data": {
      "text/html": [
       "<pre>| 4         | 16400    | 5165.450439  | 0.764329          |                     | 24.773769       |</pre>"
      ],
      "text/plain": [
       "| 4         | 16400    | 5165.450439  | 0.764329          |                     | 24.773769       |"
      ]
     },
     "metadata": {},
     "output_type": "display_data"
    },
    {
     "data": {
      "text/html": [
       "<pre>| 4         | 16700    | 5177.966737  | 0.764072          |                     | 23.968767       |</pre>"
      ],
      "text/plain": [
       "| 4         | 16700    | 5177.966737  | 0.764072          |                     | 23.968767       |"
      ]
     },
     "metadata": {},
     "output_type": "display_data"
    },
    {
     "data": {
      "text/html": [
       "<pre>| 4         | 17000    | 5191.336678  | 0.763059          |                     | 22.438379       |</pre>"
      ],
      "text/plain": [
       "| 4         | 17000    | 5191.336678  | 0.763059          |                     | 22.438379       |"
      ]
     },
     "metadata": {},
     "output_type": "display_data"
    },
    {
     "data": {
      "text/html": [
       "<pre>| 4         | 17300    | 5203.778342  | 0.762428          |                     | 24.112539       |</pre>"
      ],
      "text/plain": [
       "| 4         | 17300    | 5203.778342  | 0.762428          |                     | 24.112539       |"
      ]
     },
     "metadata": {},
     "output_type": "display_data"
    },
    {
     "data": {
      "text/html": [
       "<pre>| 4         | 17600    | 5216.318039  | 0.761477          |                     | 23.924009       |</pre>"
      ],
      "text/plain": [
       "| 4         | 17600    | 5216.318039  | 0.761477          |                     | 23.924009       |"
      ]
     },
     "metadata": {},
     "output_type": "display_data"
    },
    {
     "data": {
      "text/html": [
       "<pre>| 4         | 17900    | 5229.577094  | 0.761788          |                     | 22.626049       |</pre>"
      ],
      "text/plain": [
       "| 4         | 17900    | 5229.577094  | 0.761788          |                     | 22.626049       |"
      ]
     },
     "metadata": {},
     "output_type": "display_data"
    },
    {
     "data": {
      "text/html": [
       "<pre>| 4         | 18200    | 5242.104242  | 0.761099          |                     | 23.948032       |</pre>"
      ],
      "text/plain": [
       "| 4         | 18200    | 5242.104242  | 0.761099          |                     | 23.948032       |"
      ]
     },
     "metadata": {},
     "output_type": "display_data"
    },
    {
     "data": {
      "text/html": [
       "<pre>| 4         | 18500    | 5255.173635  | 0.759838          |                     | 22.954386       |</pre>"
      ],
      "text/plain": [
       "| 4         | 18500    | 5255.173635  | 0.759838          |                     | 22.954386       |"
      ]
     },
     "metadata": {},
     "output_type": "display_data"
    },
    {
     "data": {
      "text/html": [
       "<pre>| 4         | 18800    | 5266.906900  | 0.759202          |                     | 25.568336       |</pre>"
      ],
      "text/plain": [
       "| 4         | 18800    | 5266.906900  | 0.759202          |                     | 25.568336       |"
      ]
     },
     "metadata": {},
     "output_type": "display_data"
    },
    {
     "data": {
      "text/html": [
       "<pre>| 4         | 19100    | 5280.722482  | 0.758115          |                     | 21.714613       |</pre>"
      ],
      "text/plain": [
       "| 4         | 19100    | 5280.722482  | 0.758115          |                     | 21.714613       |"
      ]
     },
     "metadata": {},
     "output_type": "display_data"
    },
    {
     "data": {
      "text/html": [
       "<pre>| 4         | 19400    | 5293.468609  | 0.758093          |                     | 23.536562       |</pre>"
      ],
      "text/plain": [
       "| 4         | 19400    | 5293.468609  | 0.758093          |                     | 23.536562       |"
      ]
     },
     "metadata": {},
     "output_type": "display_data"
    },
    {
     "data": {
      "text/html": [
       "<pre>| 4         | 19700    | 5305.931224  | 0.757157          |                     | 24.071939       |</pre>"
      ],
      "text/plain": [
       "| 4         | 19700    | 5305.931224  | 0.757157          |                     | 24.071939       |"
      ]
     },
     "metadata": {},
     "output_type": "display_data"
    },
    {
     "data": {
      "text/html": [
       "<pre>| 4         | 20000    | 5319.759784  | 0.756050          |                     | 21.694241       |</pre>"
      ],
      "text/plain": [
       "| 4         | 20000    | 5319.759784  | 0.756050          |                     | 21.694241       |"
      ]
     },
     "metadata": {},
     "output_type": "display_data"
    },
    {
     "data": {
      "text/html": [
       "<pre>| 4         | 20300    | 5332.272257  | 0.755813          |                     | 23.976067       |</pre>"
      ],
      "text/plain": [
       "| 4         | 20300    | 5332.272257  | 0.755813          |                     | 23.976067       |"
      ]
     },
     "metadata": {},
     "output_type": "display_data"
    },
    {
     "data": {
      "text/html": [
       "<pre>| 4         | 20600    | 5344.681531  | 0.755388          |                     | 24.175508       |</pre>"
      ],
      "text/plain": [
       "| 4         | 20600    | 5344.681531  | 0.755388          |                     | 24.175508       |"
      ]
     },
     "metadata": {},
     "output_type": "display_data"
    },
    {
     "data": {
      "text/html": [
       "<pre>| 4         | 20900    | 5356.941280  | 0.754115          |                     | 24.470335       |</pre>"
      ],
      "text/plain": [
       "| 4         | 20900    | 5356.941280  | 0.754115          |                     | 24.470335       |"
      ]
     },
     "metadata": {},
     "output_type": "display_data"
    },
    {
     "data": {
      "text/html": [
       "<pre>| 4         | 21200    | 5369.834719  | 0.753491          |                     | 23.267607       |</pre>"
      ],
      "text/plain": [
       "| 4         | 21200    | 5369.834719  | 0.753491          |                     | 23.267607       |"
      ]
     },
     "metadata": {},
     "output_type": "display_data"
    },
    {
     "data": {
      "text/html": [
       "<pre>| 4         | 21500    | 5382.075826  | 0.751860          |                     | 24.507574       |</pre>"
      ],
      "text/plain": [
       "| 4         | 21500    | 5382.075826  | 0.751860          |                     | 24.507574       |"
      ]
     },
     "metadata": {},
     "output_type": "display_data"
    },
    {
     "data": {
      "text/html": [
       "<pre>| 4         | 21800    | 5393.799381  | 0.749312          |                     | 25.589523       |</pre>"
      ],
      "text/plain": [
       "| 4         | 21800    | 5393.799381  | 0.749312          |                     | 25.589523       |"
      ]
     },
     "metadata": {},
     "output_type": "display_data"
    },
    {
     "data": {
      "text/html": [
       "<pre>| 4         | 22100    | 5405.633553  | 0.748824          |                     | 25.350296       |</pre>"
      ],
      "text/plain": [
       "| 4         | 22100    | 5405.633553  | 0.748824          |                     | 25.350296       |"
      ]
     },
     "metadata": {},
     "output_type": "display_data"
    },
    {
     "data": {
      "text/html": [
       "<pre>| 4         | 22400    | 5419.062060  | 0.747455          |                     | 22.340557       |</pre>"
      ],
      "text/plain": [
       "| 4         | 22400    | 5419.062060  | 0.747455          |                     | 22.340557       |"
      ]
     },
     "metadata": {},
     "output_type": "display_data"
    },
    {
     "data": {
      "text/html": [
       "<pre>| 4         | 22700    | 5431.790204  | 0.745947          |                     | 23.569813       |</pre>"
      ],
      "text/plain": [
       "| 4         | 22700    | 5431.790204  | 0.745947          |                     | 23.569813       |"
      ]
     },
     "metadata": {},
     "output_type": "display_data"
    },
    {
     "data": {
      "text/html": [
       "<pre>| 4         | 23000    | 5444.332755  | 0.744348          |                     | 23.918596       |</pre>"
      ],
      "text/plain": [
       "| 4         | 23000    | 5444.332755  | 0.744348          |                     | 23.918596       |"
      ]
     },
     "metadata": {},
     "output_type": "display_data"
    },
    {
     "data": {
      "text/html": [
       "<pre>| 4         | 23300    | 5458.320751  | 0.742876          |                     | 21.446932       |</pre>"
      ],
      "text/plain": [
       "| 4         | 23300    | 5458.320751  | 0.742876          |                     | 21.446932       |"
      ]
     },
     "metadata": {},
     "output_type": "display_data"
    },
    {
     "data": {
      "text/html": [
       "<pre>| 4         | 23600    | 5470.481951  | 0.741144          |                     | 24.668623       |</pre>"
      ],
      "text/plain": [
       "| 4         | 23600    | 5470.481951  | 0.741144          |                     | 24.668623       |"
      ]
     },
     "metadata": {},
     "output_type": "display_data"
    },
    {
     "data": {
      "text/html": [
       "<pre>| 4         | 23900    | 5482.425586  | 0.739874          |                     | 25.117977       |</pre>"
      ],
      "text/plain": [
       "| 4         | 23900    | 5482.425586  | 0.739874          |                     | 25.117977       |"
      ]
     },
     "metadata": {},
     "output_type": "display_data"
    },
    {
     "data": {
      "text/html": [
       "<pre>| 4         | 24200    | 5494.491805  | 0.737645          |                     | 24.862795       |</pre>"
      ],
      "text/plain": [
       "| 4         | 24200    | 5494.491805  | 0.737645          |                     | 24.862795       |"
      ]
     },
     "metadata": {},
     "output_type": "display_data"
    },
    {
     "data": {
      "text/html": [
       "<pre>| 4         | 24500    | 5507.972190  | 0.737306          |                     | 22.254560       |</pre>"
      ],
      "text/plain": [
       "| 4         | 24500    | 5507.972190  | 0.737306          |                     | 22.254560       |"
      ]
     },
     "metadata": {},
     "output_type": "display_data"
    },
    {
     "data": {
      "text/html": [
       "<pre>| 4         | 24800    | 5520.603295  | 0.736532          |                     | 23.750891       |</pre>"
      ],
      "text/plain": [
       "| 4         | 24800    | 5520.603295  | 0.736532          |                     | 23.750891       |"
      ]
     },
     "metadata": {},
     "output_type": "display_data"
    },
    {
     "data": {
      "text/html": [
       "<pre>| 4         | 25100    | 5532.297513  | 0.735020          |                     | 25.653728       |</pre>"
      ],
      "text/plain": [
       "| 4         | 25100    | 5532.297513  | 0.735020          |                     | 25.653728       |"
      ]
     },
     "metadata": {},
     "output_type": "display_data"
    },
    {
     "data": {
      "text/html": [
       "<pre>| 4         | 25400    | 5544.827098  | 0.733465          |                     | 23.943302       |</pre>"
      ],
      "text/plain": [
       "| 4         | 25400    | 5544.827098  | 0.733465          |                     | 23.943302       |"
      ]
     },
     "metadata": {},
     "output_type": "display_data"
    },
    {
     "data": {
      "text/html": [
       "<pre>| 4         | 25700    | 5558.866612  | 0.731673          |                     | 21.368279       |</pre>"
      ],
      "text/plain": [
       "| 4         | 25700    | 5558.866612  | 0.731673          |                     | 21.368279       |"
      ]
     },
     "metadata": {},
     "output_type": "display_data"
    },
    {
     "data": {
      "text/html": [
       "<pre>| 4         | 26000    | 5571.114566  | 0.731192          |                     | 24.493889       |</pre>"
      ],
      "text/plain": [
       "| 4         | 26000    | 5571.114566  | 0.731192          |                     | 24.493889       |"
      ]
     },
     "metadata": {},
     "output_type": "display_data"
    },
    {
     "data": {
      "text/html": [
       "<pre>| 4         | 26300    | 5583.738211  | 0.730342          |                     | 23.764969       |</pre>"
      ],
      "text/plain": [
       "| 4         | 26300    | 5583.738211  | 0.730342          |                     | 23.764969       |"
      ]
     },
     "metadata": {},
     "output_type": "display_data"
    },
    {
     "data": {
      "text/html": [
       "<pre>| 4         | 26600    | 5596.380417  | 0.728308          |                     | 23.730021       |</pre>"
      ],
      "text/plain": [
       "| 4         | 26600    | 5596.380417  | 0.728308          |                     | 23.730021       |"
      ]
     },
     "metadata": {},
     "output_type": "display_data"
    },
    {
     "data": {
      "text/html": [
       "<pre>| 4         | 26600    | 5874.833503  | 0.728308          | 0.694229            | 23.730021       |</pre>"
      ],
      "text/plain": [
       "| 4         | 26600    | 5874.833503  | 0.728308          | 0.694229            | 23.730021       |"
      ]
     },
     "metadata": {},
     "output_type": "display_data"
    },
    {
     "data": {
      "text/html": [
       "<pre>Checkpointing model into rep IDSIA by 1 conv graphlab net - train in 10 iters</pre>"
      ],
      "text/plain": [
       "Checkpointing model into rep IDSIA by 1 conv graphlab net - train in 10 iters"
      ]
     },
     "metadata": {},
     "output_type": "display_data"
    },
    {
     "data": {
      "text/html": [
       "<pre>| 5         | 300      | 5887.634855  | 0.580000          |                     | 23.557352       |</pre>"
      ],
      "text/plain": [
       "| 5         | 300      | 5887.634855  | 0.580000          |                     | 23.557352       |"
      ]
     },
     "metadata": {},
     "output_type": "display_data"
    },
    {
     "data": {
      "text/html": [
       "<pre>| 5         | 600      | 5899.131766  | 0.586667          |                     | 26.094006       |</pre>"
      ],
      "text/plain": [
       "| 5         | 600      | 5899.131766  | 0.586667          |                     | 26.094006       |"
      ]
     },
     "metadata": {},
     "output_type": "display_data"
    },
    {
     "data": {
      "text/html": [
       "<pre>| 5         | 900      | 5910.967120  | 0.582222          |                     | 25.347746       |</pre>"
      ],
      "text/plain": [
       "| 5         | 900      | 5910.967120  | 0.582222          |                     | 25.347746       |"
      ]
     },
     "metadata": {},
     "output_type": "display_data"
    },
    {
     "data": {
      "text/html": [
       "<pre>| 5         | 1200     | 5923.776856  | 0.583333          |                     | 23.419724       |</pre>"
      ],
      "text/plain": [
       "| 5         | 1200     | 5923.776856  | 0.583333          |                     | 23.419724       |"
      ]
     },
     "metadata": {},
     "output_type": "display_data"
    },
    {
     "data": {
      "text/html": [
       "<pre>| 5         | 1500     | 5937.240769  | 0.576667          |                     | 22.281782       |</pre>"
      ],
      "text/plain": [
       "| 5         | 1500     | 5937.240769  | 0.576667          |                     | 22.281782       |"
      ]
     },
     "metadata": {},
     "output_type": "display_data"
    },
    {
     "data": {
      "text/html": [
       "<pre>| 5         | 1800     | 5949.827738  | 0.567778          |                     | 23.834169       |</pre>"
      ],
      "text/plain": [
       "| 5         | 1800     | 5949.827738  | 0.567778          |                     | 23.834169       |"
      ]
     },
     "metadata": {},
     "output_type": "display_data"
    },
    {
     "data": {
      "text/html": [
       "<pre>| 5         | 2100     | 5962.159317  | 0.563333          |                     | 24.327736       |</pre>"
      ],
      "text/plain": [
       "| 5         | 2100     | 5962.159317  | 0.563333          |                     | 24.327736       |"
      ]
     },
     "metadata": {},
     "output_type": "display_data"
    },
    {
     "data": {
      "text/html": [
       "<pre>| 5         | 2400     | 5976.317618  | 0.552500          |                     | 21.189041       |</pre>"
      ],
      "text/plain": [
       "| 5         | 2400     | 5976.317618  | 0.552500          |                     | 21.189041       |"
      ]
     },
     "metadata": {},
     "output_type": "display_data"
    },
    {
     "data": {
      "text/html": [
       "<pre>| 5         | 2700     | 5988.712581  | 0.542593          |                     | 24.203354       |</pre>"
      ],
      "text/plain": [
       "| 5         | 2700     | 5988.712581  | 0.542593          |                     | 24.203354       |"
      ]
     },
     "metadata": {},
     "output_type": "display_data"
    },
    {
     "data": {
      "text/html": [
       "<pre>| 5         | 3000     | 6001.122722  | 0.545000          |                     | 24.173784       |</pre>"
      ],
      "text/plain": [
       "| 5         | 3000     | 6001.122722  | 0.545000          |                     | 24.173784       |"
      ]
     },
     "metadata": {},
     "output_type": "display_data"
    },
    {
     "data": {
      "text/html": [
       "<pre>| 5         | 3300     | 6013.881781  | 0.541212          |                     | 23.512711       |</pre>"
      ],
      "text/plain": [
       "| 5         | 3300     | 6013.881781  | 0.541212          |                     | 23.512711       |"
      ]
     },
     "metadata": {},
     "output_type": "display_data"
    },
    {
     "data": {
      "text/html": [
       "<pre>| 5         | 3600     | 6026.854093  | 0.537778          |                     | 23.126143       |</pre>"
      ],
      "text/plain": [
       "| 5         | 3600     | 6026.854093  | 0.537778          |                     | 23.126143       |"
      ]
     },
     "metadata": {},
     "output_type": "display_data"
    },
    {
     "data": {
      "text/html": [
       "<pre>| 5         | 3900     | 6039.166968  | 0.525641          |                     | 24.364777       |</pre>"
      ],
      "text/plain": [
       "| 5         | 3900     | 6039.166968  | 0.525641          |                     | 24.364777       |"
      ]
     },
     "metadata": {},
     "output_type": "display_data"
    },
    {
     "data": {
      "text/html": [
       "<pre>| 5         | 4200     | 6051.897652  | 0.518571          |                     | 23.565090       |</pre>"
      ],
      "text/plain": [
       "| 5         | 4200     | 6051.897652  | 0.518571          |                     | 23.565090       |"
      ]
     },
     "metadata": {},
     "output_type": "display_data"
    },
    {
     "data": {
      "text/html": [
       "<pre>| 5         | 4500     | 6064.135486  | 0.512000          |                     | 24.514156       |</pre>"
      ],
      "text/plain": [
       "| 5         | 4500     | 6064.135486  | 0.512000          |                     | 24.514156       |"
      ]
     },
     "metadata": {},
     "output_type": "display_data"
    },
    {
     "data": {
      "text/html": [
       "<pre>| 5         | 4800     | 6076.932929  | 0.505208          |                     | 23.442152       |</pre>"
      ],
      "text/plain": [
       "| 5         | 4800     | 6076.932929  | 0.505208          |                     | 23.442152       |"
      ]
     },
     "metadata": {},
     "output_type": "display_data"
    },
    {
     "data": {
      "text/html": [
       "<pre>| 5         | 5100     | 6088.464327  | 0.499216          |                     | 26.015919       |</pre>"
      ],
      "text/plain": [
       "| 5         | 5100     | 6088.464327  | 0.499216          |                     | 26.015919       |"
      ]
     },
     "metadata": {},
     "output_type": "display_data"
    },
    {
     "data": {
      "text/html": [
       "<pre>| 5         | 5400     | 6100.188682  | 0.493889          |                     | 25.587824       |</pre>"
      ],
      "text/plain": [
       "| 5         | 5400     | 6100.188682  | 0.493889          |                     | 25.587824       |"
      ]
     },
     "metadata": {},
     "output_type": "display_data"
    },
    {
     "data": {
      "text/html": [
       "<pre>| 5         | 5700     | 6113.026780  | 0.484561          |                     | 23.367935       |</pre>"
      ],
      "text/plain": [
       "| 5         | 5700     | 6113.026780  | 0.484561          |                     | 23.367935       |"
      ]
     },
     "metadata": {},
     "output_type": "display_data"
    },
    {
     "data": {
      "text/html": [
       "<pre>| 5         | 6000     | 6125.781253  | 0.473333          |                     | 23.521152       |</pre>"
      ],
      "text/plain": [
       "| 5         | 6000     | 6125.781253  | 0.473333          |                     | 23.521152       |"
      ]
     },
     "metadata": {},
     "output_type": "display_data"
    },
    {
     "data": {
      "text/html": [
       "<pre>| 5         | 6300     | 6139.034574  | 0.456190          |                     | 22.635801       |</pre>"
      ],
      "text/plain": [
       "| 5         | 6300     | 6139.034574  | 0.456190          |                     | 22.635801       |"
      ]
     },
     "metadata": {},
     "output_type": "display_data"
    },
    {
     "data": {
      "text/html": [
       "<pre>| 5         | 6600     | 6151.988798  | 0.439091          |                     | 23.158504       |</pre>"
      ],
      "text/plain": [
       "| 5         | 6600     | 6151.988798  | 0.439091          |                     | 23.158504       |"
      ]
     },
     "metadata": {},
     "output_type": "display_data"
    },
    {
     "data": {
      "text/html": [
       "<pre>| 5         | 6900     | 6166.301012  | 0.422319          |                     | 20.961119       |</pre>"
      ],
      "text/plain": [
       "| 5         | 6900     | 6166.301012  | 0.422319          |                     | 20.961119       |"
      ]
     },
     "metadata": {},
     "output_type": "display_data"
    },
    {
     "data": {
      "text/html": [
       "<pre>| 5         | 7100     | 6177.483373  | 0.410563          |                     | 17.885281       |</pre>"
      ],
      "text/plain": [
       "| 5         | 7100     | 6177.483373  | 0.410563          |                     | 17.885281       |"
      ]
     },
     "metadata": {},
     "output_type": "display_data"
    },
    {
     "data": {
      "text/html": [
       "<pre>| 5         | 7300     | 6187.549790  | 0.399315          |                     | 19.868032       |</pre>"
      ],
      "text/plain": [
       "| 5         | 7300     | 6187.549790  | 0.399315          |                     | 19.868032       |"
      ]
     },
     "metadata": {},
     "output_type": "display_data"
    },
    {
     "data": {
      "text/html": [
       "<pre>| 5         | 7600     | 6203.058339  | 0.383816          |                     | 19.344200       |</pre>"
      ],
      "text/plain": [
       "| 5         | 7600     | 6203.058339  | 0.383816          |                     | 19.344200       |"
      ]
     },
     "metadata": {},
     "output_type": "display_data"
    },
    {
     "data": {
      "text/html": [
       "<pre>| 5         | 7800     | 6215.251202  | 0.374359          |                     | 16.403042       |</pre>"
      ],
      "text/plain": [
       "| 5         | 7800     | 6215.251202  | 0.374359          |                     | 16.403042       |"
      ]
     },
     "metadata": {},
     "output_type": "display_data"
    },
    {
     "data": {
      "text/html": [
       "<pre>| 5         | 8000     | 6226.388520  | 0.365000          |                     | 17.957617       |</pre>"
      ],
      "text/plain": [
       "| 5         | 8000     | 6226.388520  | 0.365000          |                     | 17.957617       |"
      ]
     },
     "metadata": {},
     "output_type": "display_data"
    },
    {
     "data": {
      "text/html": [
       "<pre>| 5         | 8200     | 6237.310720  | 0.356220          |                     | 18.311361       |</pre>"
      ],
      "text/plain": [
       "| 5         | 8200     | 6237.310720  | 0.356220          |                     | 18.311361       |"
      ]
     },
     "metadata": {},
     "output_type": "display_data"
    },
    {
     "data": {
      "text/html": [
       "<pre>| 5         | 8400     | 6248.967963  | 0.348095          |                     | 17.156675       |</pre>"
      ],
      "text/plain": [
       "| 5         | 8400     | 6248.967963  | 0.348095          |                     | 17.156675       |"
      ]
     },
     "metadata": {},
     "output_type": "display_data"
    },
    {
     "data": {
      "text/html": [
       "<pre>| 5         | 8600     | 6261.167593  | 0.340116          |                     | 16.393976       |</pre>"
      ],
      "text/plain": [
       "| 5         | 8600     | 6261.167593  | 0.340116          |                     | 16.393976       |"
      ]
     },
     "metadata": {},
     "output_type": "display_data"
    },
    {
     "data": {
      "text/html": [
       "<pre>| 5         | 8800     | 6271.749911  | 0.332500          |                     | 18.899408       |</pre>"
      ],
      "text/plain": [
       "| 5         | 8800     | 6271.749911  | 0.332500          |                     | 18.899408       |"
      ]
     },
     "metadata": {},
     "output_type": "display_data"
    },
    {
     "data": {
      "text/html": [
       "<pre>| 5         | 9000     | 6282.832250  | 0.325111          |                     | 18.046741       |</pre>"
      ],
      "text/plain": [
       "| 5         | 9000     | 6282.832250  | 0.325111          |                     | 18.046741       |"
      ]
     },
     "metadata": {},
     "output_type": "display_data"
    },
    {
     "data": {
      "text/html": [
       "<pre>| 5         | 9200     | 6293.713446  | 0.318261          |                     | 18.380320       |</pre>"
      ],
      "text/plain": [
       "| 5         | 9200     | 6293.713446  | 0.318261          |                     | 18.380320       |"
      ]
     },
     "metadata": {},
     "output_type": "display_data"
    },
    {
     "data": {
      "text/html": [
       "<pre>| 5         | 9400     | 6303.799860  | 0.311702          |                     | 19.828690       |</pre>"
      ],
      "text/plain": [
       "| 5         | 9400     | 6303.799860  | 0.311702          |                     | 19.828690       |"
      ]
     },
     "metadata": {},
     "output_type": "display_data"
    },
    {
     "data": {
      "text/html": [
       "<pre>| 5         | 9600     | 6316.161127  | 0.305313          |                     | 16.179575       |</pre>"
      ],
      "text/plain": [
       "| 5         | 9600     | 6316.161127  | 0.305313          |                     | 16.179575       |"
      ]
     },
     "metadata": {},
     "output_type": "display_data"
    },
    {
     "data": {
      "text/html": [
       "<pre>| 5         | 9800     | 6326.773626  | 0.299184          |                     | 18.845701       |</pre>"
      ],
      "text/plain": [
       "| 5         | 9800     | 6326.773626  | 0.299184          |                     | 18.845701       |"
      ]
     },
     "metadata": {},
     "output_type": "display_data"
    },
    {
     "data": {
      "text/html": [
       "<pre>| 5         | 10000    | 6337.085243  | 0.293400          |                     | 19.395571       |</pre>"
      ],
      "text/plain": [
       "| 5         | 10000    | 6337.085243  | 0.293400          |                     | 19.395571       |"
      ]
     },
     "metadata": {},
     "output_type": "display_data"
    },
    {
     "data": {
      "text/html": [
       "<pre>| 5         | 10200    | 6348.259143  | 0.287745          |                     | 17.898878       |</pre>"
      ],
      "text/plain": [
       "| 5         | 10200    | 6348.259143  | 0.287745          |                     | 17.898878       |"
      ]
     },
     "metadata": {},
     "output_type": "display_data"
    },
    {
     "data": {
      "text/html": [
       "<pre>| 5         | 10400    | 6358.906225  | 0.282596          |                     | 18.784489       |</pre>"
      ],
      "text/plain": [
       "| 5         | 10400    | 6358.906225  | 0.282596          |                     | 18.784489       |"
      ]
     },
     "metadata": {},
     "output_type": "display_data"
    },
    {
     "data": {
      "text/html": [
       "<pre>| 5         | 10600    | 6371.219130  | 0.277264          |                     | 16.243124       |</pre>"
      ],
      "text/plain": [
       "| 5         | 10600    | 6371.219130  | 0.277264          |                     | 16.243124       |"
      ]
     },
     "metadata": {},
     "output_type": "display_data"
    },
    {
     "data": {
      "text/html": [
       "<pre>| 5         | 10800    | 6382.049946  | 0.272222          |                     | 18.465826       |</pre>"
      ],
      "text/plain": [
       "| 5         | 10800    | 6382.049946  | 0.272222          |                     | 18.465826       |"
      ]
     },
     "metadata": {},
     "output_type": "display_data"
    },
    {
     "data": {
      "text/html": [
       "<pre>| 5         | 11000    | 6392.915622  | 0.267273          |                     | 18.406544       |</pre>"
      ],
      "text/plain": [
       "| 5         | 11000    | 6392.915622  | 0.267273          |                     | 18.406544       |"
      ]
     },
     "metadata": {},
     "output_type": "display_data"
    },
    {
     "data": {
      "text/html": [
       "<pre>| 5         | 11200    | 6403.255858  | 0.262589          |                     | 19.341930       |</pre>"
      ],
      "text/plain": [
       "| 5         | 11200    | 6403.255858  | 0.262589          |                     | 19.341930       |"
      ]
     },
     "metadata": {},
     "output_type": "display_data"
    },
    {
     "data": {
      "text/html": [
       "<pre>| 5         | 11400    | 6414.244292  | 0.257982          |                     | 18.200996       |</pre>"
      ],
      "text/plain": [
       "| 5         | 11400    | 6414.244292  | 0.257982          |                     | 18.200996       |"
      ]
     },
     "metadata": {},
     "output_type": "display_data"
    },
    {
     "data": {
      "text/html": [
       "<pre>| 5         | 11600    | 6426.258170  | 0.253621          |                     | 16.647388       |</pre>"
      ],
      "text/plain": [
       "| 5         | 11600    | 6426.258170  | 0.253621          |                     | 16.647388       |"
      ]
     },
     "metadata": {},
     "output_type": "display_data"
    },
    {
     "data": {
      "text/html": [
       "<pre>| 5         | 11800    | 6436.819327  | 0.249322          |                     | 18.937307       |</pre>"
      ],
      "text/plain": [
       "| 5         | 11800    | 6436.819327  | 0.249322          |                     | 18.937307       |"
      ]
     },
     "metadata": {},
     "output_type": "display_data"
    },
    {
     "data": {
      "text/html": [
       "<pre>| 5         | 12000    | 6447.462199  | 0.245167          |                     | 18.791925       |</pre>"
      ],
      "text/plain": [
       "| 5         | 12000    | 6447.462199  | 0.245167          |                     | 18.791925       |"
      ]
     },
     "metadata": {},
     "output_type": "display_data"
    },
    {
     "data": {
      "text/html": [
       "<pre>| 5         | 12200    | 6458.666576  | 0.241311          |                     | 17.850208       |</pre>"
      ],
      "text/plain": [
       "| 5         | 12200    | 6458.666576  | 0.241311          |                     | 17.850208       |"
      ]
     },
     "metadata": {},
     "output_type": "display_data"
    },
    {
     "data": {
      "text/html": [
       "<pre>| 5         | 12400    | 6470.988267  | 0.237661          |                     | 16.231504       |</pre>"
      ],
      "text/plain": [
       "| 5         | 12400    | 6470.988267  | 0.237661          |                     | 16.231504       |"
      ]
     },
     "metadata": {},
     "output_type": "display_data"
    },
    {
     "data": {
      "text/html": [
       "<pre>| 5         | 12600    | 6481.617753  | 0.233968          |                     | 18.815617       |</pre>"
      ],
      "text/plain": [
       "| 5         | 12600    | 6481.617753  | 0.233968          |                     | 18.815617       |"
      ]
     },
     "metadata": {},
     "output_type": "display_data"
    },
    {
     "data": {
      "text/html": [
       "<pre>| 5         | 12800    | 6492.417673  | 0.230547          |                     | 18.518660       |</pre>"
      ],
      "text/plain": [
       "| 5         | 12800    | 6492.417673  | 0.230547          |                     | 18.518660       |"
      ]
     },
     "metadata": {},
     "output_type": "display_data"
    },
    {
     "data": {
      "text/html": [
       "<pre>| 5         | 13000    | 6503.475896  | 0.227077          |                     | 18.086081       |</pre>"
      ],
      "text/plain": [
       "| 5         | 13000    | 6503.475896  | 0.227077          |                     | 18.086081       |"
      ]
     },
     "metadata": {},
     "output_type": "display_data"
    },
    {
     "data": {
      "text/html": [
       "<pre>| 5         | 13200    | 6514.761206  | 0.223636          |                     | 17.722147       |</pre>"
      ],
      "text/plain": [
       "| 5         | 13200    | 6514.761206  | 0.223636          |                     | 17.722147       |"
      ]
     },
     "metadata": {},
     "output_type": "display_data"
    },
    {
     "data": {
      "text/html": [
       "<pre>| 5         | 13400    | 6526.976772  | 0.220299          |                     | 16.372551       |</pre>"
      ],
      "text/plain": [
       "| 5         | 13400    | 6526.976772  | 0.220299          |                     | 16.372551       |"
      ]
     },
     "metadata": {},
     "output_type": "display_data"
    },
    {
     "data": {
      "text/html": [
       "<pre>| 5         | 13600    | 6538.261787  | 0.217132          |                     | 17.722601       |</pre>"
      ],
      "text/plain": [
       "| 5         | 13600    | 6538.261787  | 0.217132          |                     | 17.722601       |"
      ]
     },
     "metadata": {},
     "output_type": "display_data"
    },
    {
     "data": {
      "text/html": [
       "<pre>| 5         | 13800    | 6549.503333  | 0.214130          |                     | 17.791180       |</pre>"
      ],
      "text/plain": [
       "| 5         | 13800    | 6549.503333  | 0.214130          |                     | 17.791180       |"
      ]
     },
     "metadata": {},
     "output_type": "display_data"
    },
    {
     "data": {
      "text/html": [
       "<pre>| 5         | 14000    | 6561.202095  | 0.211071          |                     | 17.095829       |</pre>"
      ],
      "text/plain": [
       "| 5         | 14000    | 6561.202095  | 0.211071          |                     | 17.095829       |"
      ]
     },
     "metadata": {},
     "output_type": "display_data"
    },
    {
     "data": {
      "text/html": [
       "<pre>| 5         | 14200    | 6572.607404  | 0.208380          |                     | 17.535698       |</pre>"
      ],
      "text/plain": [
       "| 5         | 14200    | 6572.607404  | 0.208380          |                     | 17.535698       |"
      ]
     },
     "metadata": {},
     "output_type": "display_data"
    },
    {
     "data": {
      "text/html": [
       "<pre>| 5         | 14400    | 6583.096368  | 0.205556          |                     | 19.067608       |</pre>"
      ],
      "text/plain": [
       "| 5         | 14400    | 6583.096368  | 0.205556          |                     | 19.067608       |"
      ]
     },
     "metadata": {},
     "output_type": "display_data"
    },
    {
     "data": {
      "text/html": [
       "<pre>| 5         | 14600    | 6593.301624  | 0.202877          |                     | 19.597740       |</pre>"
      ],
      "text/plain": [
       "| 5         | 14600    | 6593.301624  | 0.202877          |                     | 19.597740       |"
      ]
     },
     "metadata": {},
     "output_type": "display_data"
    },
    {
     "data": {
      "text/html": [
       "<pre>| 5         | 14800    | 6604.128436  | 0.200203          |                     | 18.472672       |</pre>"
      ],
      "text/plain": [
       "| 5         | 14800    | 6604.128436  | 0.200203          |                     | 18.472672       |"
      ]
     },
     "metadata": {},
     "output_type": "display_data"
    },
    {
     "data": {
      "text/html": [
       "<pre>| 5         | 15000    | 6615.245520  | 0.197600          |                     | 17.990362       |</pre>"
      ],
      "text/plain": [
       "| 5         | 15000    | 6615.245520  | 0.197600          |                     | 17.990362       |"
      ]
     },
     "metadata": {},
     "output_type": "display_data"
    },
    {
     "data": {
      "text/html": [
       "<pre>| 5         | 15200    | 6627.101830  | 0.195000          |                     | 16.868622       |</pre>"
      ],
      "text/plain": [
       "| 5         | 15200    | 6627.101830  | 0.195000          |                     | 16.868622       |"
      ]
     },
     "metadata": {},
     "output_type": "display_data"
    },
    {
     "data": {
      "text/html": [
       "<pre>| 5         | 15400    | 6638.541751  | 0.192532          |                     | 17.482668       |</pre>"
      ],
      "text/plain": [
       "| 5         | 15400    | 6638.541751  | 0.192532          |                     | 17.482668       |"
      ]
     },
     "metadata": {},
     "output_type": "display_data"
    },
    {
     "data": {
      "text/html": [
       "<pre>| 5         | 15600    | 6649.644967  | 0.190192          |                     | 18.012764       |</pre>"
      ],
      "text/plain": [
       "| 5         | 15600    | 6649.644967  | 0.190192          |                     | 18.012764       |"
      ]
     },
     "metadata": {},
     "output_type": "display_data"
    },
    {
     "data": {
      "text/html": [
       "<pre>| 5         | 15800    | 6661.783845  | 0.187911          |                     | 16.476015       |</pre>"
      ],
      "text/plain": [
       "| 5         | 15800    | 6661.783845  | 0.187911          |                     | 16.476015       |"
      ]
     },
     "metadata": {},
     "output_type": "display_data"
    },
    {
     "data": {
      "text/html": [
       "<pre>| 5         | 16000    | 6672.865372  | 0.185563          |                     | 18.048050       |</pre>"
      ],
      "text/plain": [
       "| 5         | 16000    | 6672.865372  | 0.185563          |                     | 18.048050       |"
      ]
     },
     "metadata": {},
     "output_type": "display_data"
    },
    {
     "data": {
      "text/html": [
       "<pre>| 5         | 16200    | 6683.938937  | 0.183272          |                     | 18.061005       |</pre>"
      ],
      "text/plain": [
       "| 5         | 16200    | 6683.938937  | 0.183272          |                     | 18.061005       |"
      ]
     },
     "metadata": {},
     "output_type": "display_data"
    },
    {
     "data": {
      "text/html": [
       "<pre>| 5         | 16400    | 6694.539901  | 0.181037          |                     | 18.866243       |</pre>"
      ],
      "text/plain": [
       "| 5         | 16400    | 6694.539901  | 0.181037          |                     | 18.866243       |"
      ]
     },
     "metadata": {},
     "output_type": "display_data"
    },
    {
     "data": {
      "text/html": [
       "<pre>| 5         | 16600    | 6705.746001  | 0.178916          |                     | 17.847424       |</pre>"
      ],
      "text/plain": [
       "| 5         | 16600    | 6705.746001  | 0.178916          |                     | 17.847424       |"
      ]
     },
     "metadata": {},
     "output_type": "display_data"
    },
    {
     "data": {
      "text/html": [
       "<pre>| 5         | 16800    | 6717.502293  | 0.176905          |                     | 17.012133       |</pre>"
      ],
      "text/plain": [
       "| 5         | 16800    | 6717.502293  | 0.176905          |                     | 17.012133       |"
      ]
     },
     "metadata": {},
     "output_type": "display_data"
    },
    {
     "data": {
      "text/html": [
       "<pre>| 5         | 17000    | 6728.330498  | 0.174882          |                     | 18.470289       |</pre>"
      ],
      "text/plain": [
       "| 5         | 17000    | 6728.330498  | 0.174882          |                     | 18.470289       |"
      ]
     },
     "metadata": {},
     "output_type": "display_data"
    },
    {
     "data": {
      "text/html": [
       "<pre>| 5         | 17200    | 6738.813724  | 0.172849          |                     | 19.078136       |</pre>"
      ],
      "text/plain": [
       "| 5         | 17200    | 6738.813724  | 0.172849          |                     | 19.078136       |"
      ]
     },
     "metadata": {},
     "output_type": "display_data"
    },
    {
     "data": {
      "text/html": [
       "<pre>| 5         | 17400    | 6749.833015  | 0.170977          |                     | 18.149942       |</pre>"
      ],
      "text/plain": [
       "| 5         | 17400    | 6749.833015  | 0.170977          |                     | 18.149942       |"
      ]
     },
     "metadata": {},
     "output_type": "display_data"
    },
    {
     "data": {
      "text/html": [
       "<pre>| 5         | 17600    | 6762.012507  | 0.169091          |                     | 16.421074       |</pre>"
      ],
      "text/plain": [
       "| 5         | 17600    | 6762.012507  | 0.169091          |                     | 16.421074       |"
      ]
     },
     "metadata": {},
     "output_type": "display_data"
    },
    {
     "data": {
      "text/html": [
       "<pre>| 5         | 17800    | 6772.365425  | 0.167247          |                     | 19.318195       |</pre>"
      ],
      "text/plain": [
       "| 5         | 17800    | 6772.365425  | 0.167247          |                     | 19.318195       |"
      ]
     },
     "metadata": {},
     "output_type": "display_data"
    },
    {
     "data": {
      "text/html": [
       "<pre>| 5         | 18000    | 6783.507708  | 0.165556          |                     | 17.949644       |</pre>"
      ],
      "text/plain": [
       "| 5         | 18000    | 6783.507708  | 0.165556          |                     | 17.949644       |"
      ]
     },
     "metadata": {},
     "output_type": "display_data"
    },
    {
     "data": {
      "text/html": [
       "<pre>| 5         | 18200    | 6794.497963  | 0.163736          |                     | 18.197937       |</pre>"
      ],
      "text/plain": [
       "| 5         | 18200    | 6794.497963  | 0.163736          |                     | 18.197937       |"
      ]
     },
     "metadata": {},
     "output_type": "display_data"
    },
    {
     "data": {
      "text/html": [
       "<pre>| 5         | 18400    | 6805.830896  | 0.162120          |                     | 17.647709       |</pre>"
      ],
      "text/plain": [
       "| 5         | 18400    | 6805.830896  | 0.162120          |                     | 17.647709       |"
      ]
     },
     "metadata": {},
     "output_type": "display_data"
    },
    {
     "data": {
      "text/html": [
       "<pre>| 5         | 18600    | 6817.803045  | 0.160376          |                     | 16.705441       |</pre>"
      ],
      "text/plain": [
       "| 5         | 18600    | 6817.803045  | 0.160376          |                     | 16.705441       |"
      ]
     },
     "metadata": {},
     "output_type": "display_data"
    },
    {
     "data": {
      "text/html": [
       "<pre>| 5         | 18800    | 6828.490045  | 0.158670          |                     | 18.714314       |</pre>"
      ],
      "text/plain": [
       "| 5         | 18800    | 6828.490045  | 0.158670          |                     | 18.714314       |"
      ]
     },
     "metadata": {},
     "output_type": "display_data"
    },
    {
     "data": {
      "text/html": [
       "<pre>| 5         | 19000    | 6839.644110  | 0.157053          |                     | 17.930666       |</pre>"
      ],
      "text/plain": [
       "| 5         | 19000    | 6839.644110  | 0.157053          |                     | 17.930666       |"
      ]
     },
     "metadata": {},
     "output_type": "display_data"
    },
    {
     "data": {
      "text/html": [
       "<pre>| 5         | 19200    | 6851.137027  | 0.155521          |                     | 17.402060       |</pre>"
      ],
      "text/plain": [
       "| 5         | 19200    | 6851.137027  | 0.155521          |                     | 17.402060       |"
      ]
     },
     "metadata": {},
     "output_type": "display_data"
    },
    {
     "data": {
      "text/html": [
       "<pre>| 5         | 19400    | 6862.928452  | 0.153918          |                     | 16.961451       |</pre>"
      ],
      "text/plain": [
       "| 5         | 19400    | 6862.928452  | 0.153918          |                     | 16.961451       |"
      ]
     },
     "metadata": {},
     "output_type": "display_data"
    },
    {
     "data": {
      "text/html": [
       "<pre>| 5         | 19600    | 6873.857998  | 0.152347          |                     | 18.299013       |</pre>"
      ],
      "text/plain": [
       "| 5         | 19600    | 6873.857998  | 0.152347          |                     | 18.299013       |"
      ]
     },
     "metadata": {},
     "output_type": "display_data"
    },
    {
     "data": {
      "text/html": [
       "<pre>| 5         | 19800    | 6885.070008  | 0.150859          |                     | 17.838043       |</pre>"
      ],
      "text/plain": [
       "| 5         | 19800    | 6885.070008  | 0.150859          |                     | 17.838043       |"
      ]
     },
     "metadata": {},
     "output_type": "display_data"
    },
    {
     "data": {
      "text/html": [
       "<pre>| 5         | 20000    | 6895.813372  | 0.149400          |                     | 18.616129       |</pre>"
      ],
      "text/plain": [
       "| 5         | 20000    | 6895.813372  | 0.149400          |                     | 18.616129       |"
      ]
     },
     "metadata": {},
     "output_type": "display_data"
    },
    {
     "data": {
      "text/html": [
       "<pre>| 5         | 20200    | 6907.620725  | 0.147970          |                     | 16.938580       |</pre>"
      ],
      "text/plain": [
       "| 5         | 20200    | 6907.620725  | 0.147970          |                     | 16.938580       |"
      ]
     },
     "metadata": {},
     "output_type": "display_data"
    },
    {
     "data": {
      "text/html": [
       "<pre>| 5         | 20400    | 6917.919712  | 0.146618          |                     | 19.419376       |</pre>"
      ],
      "text/plain": [
       "| 5         | 20400    | 6917.919712  | 0.146618          |                     | 19.419376       |"
      ]
     },
     "metadata": {},
     "output_type": "display_data"
    },
    {
     "data": {
      "text/html": [
       "<pre>| 5         | 20600    | 6928.624092  | 0.145291          |                     | 18.683945       |</pre>"
      ],
      "text/plain": [
       "| 5         | 20600    | 6928.624092  | 0.145291          |                     | 18.683945       |"
      ]
     },
     "metadata": {},
     "output_type": "display_data"
    },
    {
     "data": {
      "text/html": [
       "<pre>| 5         | 20900    | 6943.548812  | 0.143301          |                     | 20.100878       |</pre>"
      ],
      "text/plain": [
       "| 5         | 20900    | 6943.548812  | 0.143301          |                     | 20.100878       |"
      ]
     },
     "metadata": {},
     "output_type": "display_data"
    },
    {
     "data": {
      "text/html": [
       "<pre>| 5         | 21100    | 6954.184619  | 0.141991          |                     | 18.804476       |</pre>"
      ],
      "text/plain": [
       "| 5         | 21100    | 6954.184619  | 0.141991          |                     | 18.804476       |"
      ]
     },
     "metadata": {},
     "output_type": "display_data"
    },
    {
     "data": {
      "text/html": [
       "<pre>| 5         | 21300    | 6965.752048  | 0.140657          |                     | 17.289865       |</pre>"
      ],
      "text/plain": [
       "| 5         | 21300    | 6965.752048  | 0.140657          |                     | 17.289865       |"
      ]
     },
     "metadata": {},
     "output_type": "display_data"
    },
    {
     "data": {
      "text/html": [
       "<pre>| 5         | 21500    | 6977.197207  | 0.139349          |                     | 17.474636       |</pre>"
      ],
      "text/plain": [
       "| 5         | 21500    | 6977.197207  | 0.139349          |                     | 17.474636       |"
      ]
     },
     "metadata": {},
     "output_type": "display_data"
    },
    {
     "data": {
      "text/html": [
       "<pre>| 5         | 21700    | 6987.817222  | 0.138157          |                     | 18.832415       |</pre>"
      ],
      "text/plain": [
       "| 5         | 21700    | 6987.817222  | 0.138157          |                     | 18.832415       |"
      ]
     },
     "metadata": {},
     "output_type": "display_data"
    },
    {
     "data": {
      "text/html": [
       "<pre>| 5         | 21900    | 6999.483763  | 0.136941          |                     | 17.143024       |</pre>"
      ],
      "text/plain": [
       "| 5         | 21900    | 6999.483763  | 0.136941          |                     | 17.143024       |"
      ]
     },
     "metadata": {},
     "output_type": "display_data"
    },
    {
     "data": {
      "text/html": [
       "<pre>| 5         | 22100    | 7010.205110  | 0.135701          |                     | 18.654388       |</pre>"
      ],
      "text/plain": [
       "| 5         | 22100    | 7010.205110  | 0.135701          |                     | 18.654388       |"
      ]
     },
     "metadata": {},
     "output_type": "display_data"
    },
    {
     "data": {
      "text/html": [
       "<pre>| 5         | 22300    | 7022.122487  | 0.134484          |                     | 16.782183       |</pre>"
      ],
      "text/plain": [
       "| 5         | 22300    | 7022.122487  | 0.134484          |                     | 16.782183       |"
      ]
     },
     "metadata": {},
     "output_type": "display_data"
    },
    {
     "data": {
      "text/html": [
       "<pre>| 5         | 22500    | 7033.345005  | 0.133378          |                     | 17.821312       |</pre>"
      ],
      "text/plain": [
       "| 5         | 22500    | 7033.345005  | 0.133378          |                     | 17.821312       |"
      ]
     },
     "metadata": {},
     "output_type": "display_data"
    },
    {
     "data": {
      "text/html": [
       "<pre>| 5         | 22700    | 7043.523416  | 0.132247          |                     | 19.649450       |</pre>"
      ],
      "text/plain": [
       "| 5         | 22700    | 7043.523416  | 0.132247          |                     | 19.649450       |"
      ]
     },
     "metadata": {},
     "output_type": "display_data"
    },
    {
     "data": {
      "text/html": [
       "<pre>| 5         | 22900    | 7054.485408  | 0.131135          |                     | 18.244846       |</pre>"
      ],
      "text/plain": [
       "| 5         | 22900    | 7054.485408  | 0.131135          |                     | 18.244846       |"
      ]
     },
     "metadata": {},
     "output_type": "display_data"
    },
    {
     "data": {
      "text/html": [
       "<pre>| 5         | 23100    | 7066.385328  | 0.130130          |                     | 16.806875       |</pre>"
      ],
      "text/plain": [
       "| 5         | 23100    | 7066.385328  | 0.130130          |                     | 16.806875       |"
      ]
     },
     "metadata": {},
     "output_type": "display_data"
    },
    {
     "data": {
      "text/html": [
       "<pre>| 5         | 23300    | 7078.105734  | 0.129013          |                     | 17.064209       |</pre>"
      ],
      "text/plain": [
       "| 5         | 23300    | 7078.105734  | 0.129013          |                     | 17.064209       |"
      ]
     },
     "metadata": {},
     "output_type": "display_data"
    },
    {
     "data": {
      "text/html": [
       "<pre>| 5         | 23500    | 7088.844443  | 0.127915          |                     | 18.624264       |</pre>"
      ],
      "text/plain": [
       "| 5         | 23500    | 7088.844443  | 0.127915          |                     | 18.624264       |"
      ]
     },
     "metadata": {},
     "output_type": "display_data"
    },
    {
     "data": {
      "text/html": [
       "<pre>| 5         | 23700    | 7100.628832  | 0.126878          |                     | 16.971563       |</pre>"
      ],
      "text/plain": [
       "| 5         | 23700    | 7100.628832  | 0.126878          |                     | 16.971563       |"
      ]
     },
     "metadata": {},
     "output_type": "display_data"
    },
    {
     "data": {
      "text/html": [
       "<pre>| 5         | 23900    | 7112.754700  | 0.125900          |                     | 16.493690       |</pre>"
      ],
      "text/plain": [
       "| 5         | 23900    | 7112.754700  | 0.125900          |                     | 16.493690       |"
      ]
     },
     "metadata": {},
     "output_type": "display_data"
    },
    {
     "data": {
      "text/html": [
       "<pre>| 5         | 24100    | 7123.633974  | 0.124938          |                     | 18.383547       |</pre>"
      ],
      "text/plain": [
       "| 5         | 24100    | 7123.633974  | 0.124938          |                     | 18.383547       |"
      ]
     },
     "metadata": {},
     "output_type": "display_data"
    },
    {
     "data": {
      "text/html": [
       "<pre>| 5         | 24300    | 7135.190293  | 0.123951          |                     | 17.306551       |</pre>"
      ],
      "text/plain": [
       "| 5         | 24300    | 7135.190293  | 0.123951          |                     | 17.306551       |"
      ]
     },
     "metadata": {},
     "output_type": "display_data"
    },
    {
     "data": {
      "text/html": [
       "<pre>| 5         | 24500    | 7146.504471  | 0.123061          |                     | 17.676931       |</pre>"
      ],
      "text/plain": [
       "| 5         | 24500    | 7146.504471  | 0.123061          |                     | 17.676931       |"
      ]
     },
     "metadata": {},
     "output_type": "display_data"
    },
    {
     "data": {
      "text/html": [
       "<pre>| 5         | 24700    | 7158.555617  | 0.122065          |                     | 16.595968       |</pre>"
      ],
      "text/plain": [
       "| 5         | 24700    | 7158.555617  | 0.122065          |                     | 16.595968       |"
      ]
     },
     "metadata": {},
     "output_type": "display_data"
    },
    {
     "data": {
      "text/html": [
       "<pre>| 5         | 24900    | 7169.137197  | 0.121084          |                     | 18.900768       |</pre>"
      ],
      "text/plain": [
       "| 5         | 24900    | 7169.137197  | 0.121084          |                     | 18.900768       |"
      ]
     },
     "metadata": {},
     "output_type": "display_data"
    },
    {
     "data": {
      "text/html": [
       "<pre>| 5         | 25100    | 7179.993595  | 0.120120          |                     | 18.422295       |</pre>"
      ],
      "text/plain": [
       "| 5         | 25100    | 7179.993595  | 0.120120          |                     | 18.422295       |"
      ]
     },
     "metadata": {},
     "output_type": "display_data"
    },
    {
     "data": {
      "text/html": [
       "<pre>| 5         | 25300    | 7190.898356  | 0.119209          |                     | 18.340611       |</pre>"
      ],
      "text/plain": [
       "| 5         | 25300    | 7190.898356  | 0.119209          |                     | 18.340611       |"
      ]
     },
     "metadata": {},
     "output_type": "display_data"
    },
    {
     "data": {
      "text/html": [
       "<pre>| 5         | 25500    | 7202.386355  | 0.118275          |                     | 17.409496       |</pre>"
      ],
      "text/plain": [
       "| 5         | 25500    | 7202.386355  | 0.118275          |                     | 17.409496       |"
      ]
     },
     "metadata": {},
     "output_type": "display_data"
    },
    {
     "data": {
      "text/html": [
       "<pre>| 5         | 25700    | 7214.539835  | 0.117393          |                     | 16.456163       |</pre>"
      ],
      "text/plain": [
       "| 5         | 25700    | 7214.539835  | 0.117393          |                     | 16.456163       |"
      ]
     },
     "metadata": {},
     "output_type": "display_data"
    },
    {
     "data": {
      "text/html": [
       "<pre>| 5         | 25900    | 7225.026852  | 0.116486          |                     | 19.071236       |</pre>"
      ],
      "text/plain": [
       "| 5         | 25900    | 7225.026852  | 0.116486          |                     | 19.071236       |"
      ]
     },
     "metadata": {},
     "output_type": "display_data"
    },
    {
     "data": {
      "text/html": [
       "<pre>| 5         | 26100    | 7235.548424  | 0.115632          |                     | 19.008522       |</pre>"
      ],
      "text/plain": [
       "| 5         | 26100    | 7235.548424  | 0.115632          |                     | 19.008522       |"
      ]
     },
     "metadata": {},
     "output_type": "display_data"
    },
    {
     "data": {
      "text/html": [
       "<pre>| 5         | 26300    | 7246.697760  | 0.114791          |                     | 17.938292       |</pre>"
      ],
      "text/plain": [
       "| 5         | 26300    | 7246.697760  | 0.114791          |                     | 17.938292       |"
      ]
     },
     "metadata": {},
     "output_type": "display_data"
    },
    {
     "data": {
      "text/html": [
       "<pre>| 5         | 26500    | 7258.178576  | 0.114038          |                     | 17.420393       |</pre>"
      ],
      "text/plain": [
       "| 5         | 26500    | 7258.178576  | 0.114038          |                     | 17.420393       |"
      ]
     },
     "metadata": {},
     "output_type": "display_data"
    },
    {
     "data": {
      "text/html": [
       "<pre>| 5         | 26600    | 7538.730448  | 0.113609          | 0.005375            | 0.356440        |</pre>"
      ],
      "text/plain": [
       "| 5         | 26600    | 7538.730448  | 0.113609          | 0.005375            | 0.356440        |"
      ]
     },
     "metadata": {},
     "output_type": "display_data"
    },
    {
     "data": {
      "text/html": [
       "<pre>Checkpointing model into rep IDSIA by 1 conv graphlab net - train in 10 iters</pre>"
      ],
      "text/plain": [
       "Checkpointing model into rep IDSIA by 1 conv graphlab net - train in 10 iters"
      ]
     },
     "metadata": {},
     "output_type": "display_data"
    },
    {
     "data": {
      "text/html": [
       "<pre>| 6         | 200      | 7550.710600  | 0.005000          |                     | 16.766842       |</pre>"
      ],
      "text/plain": [
       "| 6         | 200      | 7550.710600  | 0.005000          |                     | 16.766842       |"
      ]
     },
     "metadata": {},
     "output_type": "display_data"
    },
    {
     "data": {
      "text/html": [
       "<pre>| 6         | 400      | 7562.962952  | 0.002500          |                     | 16.323433       |</pre>"
      ],
      "text/plain": [
       "| 6         | 400      | 7562.962952  | 0.002500          |                     | 16.323433       |"
      ]
     },
     "metadata": {},
     "output_type": "display_data"
    },
    {
     "data": {
      "text/html": [
       "<pre>| 6         | 600      | 7575.184838  | 0.003333          |                     | 16.364052       |</pre>"
      ],
      "text/plain": [
       "| 6         | 600      | 7575.184838  | 0.003333          |                     | 16.364052       |"
      ]
     },
     "metadata": {},
     "output_type": "display_data"
    },
    {
     "data": {
      "text/html": [
       "<pre>| 6         | 800      | 7587.199372  | 0.002500          |                     | 16.646507       |</pre>"
      ],
      "text/plain": [
       "| 6         | 800      | 7587.199372  | 0.002500          |                     | 16.646507       |"
      ]
     },
     "metadata": {},
     "output_type": "display_data"
    },
    {
     "data": {
      "text/html": [
       "<pre>| 6         | 1000     | 7598.898472  | 0.003000          |                     | 17.095333       |</pre>"
      ],
      "text/plain": [
       "| 6         | 1000     | 7598.898472  | 0.003000          |                     | 17.095333       |"
      ]
     },
     "metadata": {},
     "output_type": "display_data"
    },
    {
     "data": {
      "text/html": [
       "<pre>| 6         | 1200     | 7610.919355  | 0.003333          |                     | 16.637737       |</pre>"
      ],
      "text/plain": [
       "| 6         | 1200     | 7610.919355  | 0.003333          |                     | 16.637737       |"
      ]
     },
     "metadata": {},
     "output_type": "display_data"
    },
    {
     "data": {
      "text/html": [
       "<pre>| 6         | 1400     | 7623.238848  | 0.002857          |                     | 16.234406       |</pre>"
      ],
      "text/plain": [
       "| 6         | 1400     | 7623.238848  | 0.002857          |                     | 16.234406       |"
      ]
     },
     "metadata": {},
     "output_type": "display_data"
    },
    {
     "data": {
      "text/html": [
       "<pre>| 6         | 1600     | 7634.901730  | 0.003750          |                     | 17.148430       |</pre>"
      ],
      "text/plain": [
       "| 6         | 1600     | 7634.901730  | 0.003750          |                     | 17.148430       |"
      ]
     },
     "metadata": {},
     "output_type": "display_data"
    },
    {
     "data": {
      "text/html": [
       "<pre>| 6         | 1800     | 7646.888084  | 0.004444          |                     | 16.685646       |</pre>"
      ],
      "text/plain": [
       "| 6         | 1800     | 7646.888084  | 0.004444          |                     | 16.685646       |"
      ]
     },
     "metadata": {},
     "output_type": "display_data"
    },
    {
     "data": {
      "text/html": [
       "<pre>| 6         | 2000     | 7659.221966  | 0.004000          |                     | 16.215479       |</pre>"
      ],
      "text/plain": [
       "| 6         | 2000     | 7659.221966  | 0.004000          |                     | 16.215479       |"
      ]
     },
     "metadata": {},
     "output_type": "display_data"
    },
    {
     "data": {
      "text/html": [
       "<pre>| 6         | 2200     | 7670.773572  | 0.003636          |                     | 17.313610       |</pre>"
      ],
      "text/plain": [
       "| 6         | 2200     | 7670.773572  | 0.003636          |                     | 17.313610       |"
      ]
     },
     "metadata": {},
     "output_type": "display_data"
    },
    {
     "data": {
      "text/html": [
       "<pre>| 6         | 2400     | 7681.810483  | 0.003750          |                     | 18.121010       |</pre>"
      ],
      "text/plain": [
       "| 6         | 2400     | 7681.810483  | 0.003750          |                     | 18.121010       |"
      ]
     },
     "metadata": {},
     "output_type": "display_data"
    },
    {
     "data": {
      "text/html": [
       "<pre>| 6         | 2600     | 7693.553273  | 0.005000          |                     | 17.031725       |</pre>"
      ],
      "text/plain": [
       "| 6         | 2600     | 7693.553273  | 0.005000          |                     | 17.031725       |"
      ]
     },
     "metadata": {},
     "output_type": "display_data"
    },
    {
     "data": {
      "text/html": [
       "<pre>| 6         | 2800     | 7704.759009  | 0.005357          |                     | 17.848047       |</pre>"
      ],
      "text/plain": [
       "| 6         | 2800     | 7704.759009  | 0.005357          |                     | 17.848047       |"
      ]
     },
     "metadata": {},
     "output_type": "display_data"
    },
    {
     "data": {
      "text/html": [
       "<pre>| 6         | 3000     | 7717.558867  | 0.005333          |                     | 15.625141       |</pre>"
      ],
      "text/plain": [
       "| 6         | 3000     | 7717.558867  | 0.005333          |                     | 15.625141       |"
      ]
     },
     "metadata": {},
     "output_type": "display_data"
    },
    {
     "data": {
      "text/html": [
       "<pre>| 6         | 3200     | 7728.895970  | 0.005000          |                     | 17.641199       |</pre>"
      ],
      "text/plain": [
       "| 6         | 3200     | 7728.895970  | 0.005000          |                     | 17.641199       |"
      ]
     },
     "metadata": {},
     "output_type": "display_data"
    },
    {
     "data": {
      "text/html": [
       "<pre>| 6         | 3400     | 7740.012297  | 0.004706          |                     | 17.991545       |</pre>"
      ],
      "text/plain": [
       "| 6         | 3400     | 7740.012297  | 0.004706          |                     | 17.991545       |"
      ]
     },
     "metadata": {},
     "output_type": "display_data"
    },
    {
     "data": {
      "text/html": [
       "<pre>| 6         | 3600     | 7751.293929  | 0.004722          |                     | 17.727930       |</pre>"
      ],
      "text/plain": [
       "| 6         | 3600     | 7751.293929  | 0.004722          |                     | 17.727930       |"
      ]
     },
     "metadata": {},
     "output_type": "display_data"
    },
    {
     "data": {
      "text/html": [
       "<pre>| 6         | 3800     | 7763.478906  | 0.004737          |                     | 16.413652       |</pre>"
      ],
      "text/plain": [
       "| 6         | 3800     | 7763.478906  | 0.004737          |                     | 16.413652       |"
      ]
     },
     "metadata": {},
     "output_type": "display_data"
    },
    {
     "data": {
      "text/html": [
       "<pre>| 6         | 4000     | 7775.635874  | 0.004750          |                     | 16.451506       |</pre>"
      ],
      "text/plain": [
       "| 6         | 4000     | 7775.635874  | 0.004750          |                     | 16.451506       |"
      ]
     },
     "metadata": {},
     "output_type": "display_data"
    },
    {
     "data": {
      "text/html": [
       "<pre>| 6         | 4200     | 7787.655537  | 0.004524          |                     | 16.639370       |</pre>"
      ],
      "text/plain": [
       "| 6         | 4200     | 7787.655537  | 0.004524          |                     | 16.639370       |"
      ]
     },
     "metadata": {},
     "output_type": "display_data"
    },
    {
     "data": {
      "text/html": [
       "<pre>| 6         | 4400     | 7799.372935  | 0.004318          |                     | 17.068668       |</pre>"
      ],
      "text/plain": [
       "| 6         | 4400     | 7799.372935  | 0.004318          |                     | 17.068668       |"
      ]
     },
     "metadata": {},
     "output_type": "display_data"
    },
    {
     "data": {
      "text/html": [
       "<pre>| 6         | 4600     | 7811.837916  | 0.004783          |                     | 16.044962       |</pre>"
      ],
      "text/plain": [
       "| 6         | 4600     | 7811.837916  | 0.004783          |                     | 16.044962       |"
      ]
     },
     "metadata": {},
     "output_type": "display_data"
    },
    {
     "data": {
      "text/html": [
       "<pre>| 6         | 4800     | 7823.878683  | 0.004583          |                     | 16.610231       |</pre>"
      ],
      "text/plain": [
       "| 6         | 4800     | 7823.878683  | 0.004583          |                     | 16.610231       |"
      ]
     },
     "metadata": {},
     "output_type": "display_data"
    },
    {
     "data": {
      "text/html": [
       "<pre>| 6         | 5000     | 7835.342388  | 0.004600          |                     | 17.446339       |</pre>"
      ],
      "text/plain": [
       "| 6         | 5000     | 7835.342388  | 0.004600          |                     | 17.446339       |"
      ]
     },
     "metadata": {},
     "output_type": "display_data"
    },
    {
     "data": {
      "text/html": [
       "<pre>| 6         | 5200     | 7847.112152  | 0.004615          |                     | 16.992710       |</pre>"
      ],
      "text/plain": [
       "| 6         | 5200     | 7847.112152  | 0.004615          |                     | 16.992710       |"
      ]
     },
     "metadata": {},
     "output_type": "display_data"
    },
    {
     "data": {
      "text/html": [
       "<pre>| 6         | 5400     | 7858.837728  | 0.004630          |                     | 17.056732       |</pre>"
      ],
      "text/plain": [
       "| 6         | 5400     | 7858.837728  | 0.004630          |                     | 17.056732       |"
      ]
     },
     "metadata": {},
     "output_type": "display_data"
    },
    {
     "data": {
      "text/html": [
       "<pre>| 6         | 5600     | 7871.093657  | 0.004643          |                     | 16.318642       |</pre>"
      ],
      "text/plain": [
       "| 6         | 5600     | 7871.093657  | 0.004643          |                     | 16.318642       |"
      ]
     },
     "metadata": {},
     "output_type": "display_data"
    },
    {
     "data": {
      "text/html": [
       "<pre>| 6         | 5800     | 7882.588732  | 0.004483          |                     | 17.398754       |</pre>"
      ],
      "text/plain": [
       "| 6         | 5800     | 7882.588732  | 0.004483          |                     | 17.398754       |"
      ]
     },
     "metadata": {},
     "output_type": "display_data"
    },
    {
     "data": {
      "text/html": [
       "<pre>| 6         | 6000     | 7894.500540  | 0.004833          |                     | 16.790060       |</pre>"
      ],
      "text/plain": [
       "| 6         | 6000     | 7894.500540  | 0.004833          |                     | 16.790060       |"
      ]
     },
     "metadata": {},
     "output_type": "display_data"
    },
    {
     "data": {
      "text/html": [
       "<pre>| 6         | 6200     | 7905.677067  | 0.005000          |                     | 17.894646       |</pre>"
      ],
      "text/plain": [
       "| 6         | 6200     | 7905.677067  | 0.005000          |                     | 17.894646       |"
      ]
     },
     "metadata": {},
     "output_type": "display_data"
    },
    {
     "data": {
      "text/html": [
       "<pre>| 6         | 6400     | 7918.590232  | 0.004844          |                     | 15.488077       |</pre>"
      ],
      "text/plain": [
       "| 6         | 6400     | 7918.590232  | 0.004844          |                     | 15.488077       |"
      ]
     },
     "metadata": {},
     "output_type": "display_data"
    },
    {
     "data": {
      "text/html": [
       "<pre>| 6         | 6600     | 7930.455599  | 0.004697          |                     | 16.855743       |</pre>"
      ],
      "text/plain": [
       "| 6         | 6600     | 7930.455599  | 0.004697          |                     | 16.855743       |"
      ]
     },
     "metadata": {},
     "output_type": "display_data"
    },
    {
     "data": {
      "text/html": [
       "<pre>| 6         | 6800     | 7942.082592  | 0.004559          |                     | 17.201344       |</pre>"
      ],
      "text/plain": [
       "| 6         | 6800     | 7942.082592  | 0.004559          |                     | 17.201344       |"
      ]
     },
     "metadata": {},
     "output_type": "display_data"
    },
    {
     "data": {
      "text/html": [
       "<pre>| 6         | 7000     | 7953.673554  | 0.005000          |                     | 17.254835       |</pre>"
      ],
      "text/plain": [
       "| 6         | 7000     | 7953.673554  | 0.005000          |                     | 17.254835       |"
      ]
     },
     "metadata": {},
     "output_type": "display_data"
    },
    {
     "data": {
      "text/html": [
       "<pre>| 6         | 7200     | 7966.074948  | 0.004861          |                     | 16.127258       |</pre>"
      ],
      "text/plain": [
       "| 6         | 7200     | 7966.074948  | 0.004861          |                     | 16.127258       |"
      ]
     },
     "metadata": {},
     "output_type": "display_data"
    },
    {
     "data": {
      "text/html": [
       "<pre>| 6         | 7400     | 7977.959131  | 0.004730          |                     | 16.829077       |</pre>"
      ],
      "text/plain": [
       "| 6         | 7400     | 7977.959131  | 0.004730          |                     | 16.829077       |"
      ]
     },
     "metadata": {},
     "output_type": "display_data"
    },
    {
     "data": {
      "text/html": [
       "<pre>| 6         | 7600     | 7989.294306  | 0.004868          |                     | 17.644182       |</pre>"
      ],
      "text/plain": [
       "| 6         | 7600     | 7989.294306  | 0.004868          |                     | 17.644182       |"
      ]
     },
     "metadata": {},
     "output_type": "display_data"
    },
    {
     "data": {
      "text/html": [
       "<pre>| 6         | 7800     | 8001.004200  | 0.005128          |                     | 17.079573       |</pre>"
      ],
      "text/plain": [
       "| 6         | 7800     | 8001.004200  | 0.005128          |                     | 17.079573       |"
      ]
     },
     "metadata": {},
     "output_type": "display_data"
    },
    {
     "data": {
      "text/html": [
       "<pre>| 6         | 8000     | 8013.338815  | 0.005000          |                     | 16.214533       |</pre>"
      ],
      "text/plain": [
       "| 6         | 8000     | 8013.338815  | 0.005000          |                     | 16.214533       |"
      ]
     },
     "metadata": {},
     "output_type": "display_data"
    },
    {
     "data": {
      "text/html": [
       "<pre>| 6         | 8200     | 8025.337169  | 0.005000          |                     | 16.668949       |</pre>"
      ],
      "text/plain": [
       "| 6         | 8200     | 8025.337169  | 0.005000          |                     | 16.668949       |"
      ]
     },
     "metadata": {},
     "output_type": "display_data"
    },
    {
     "data": {
      "text/html": [
       "<pre>| 6         | 8400     | 8036.622566  | 0.005238          |                     | 17.721987       |</pre>"
      ],
      "text/plain": [
       "| 6         | 8400     | 8036.622566  | 0.005238          |                     | 17.721987       |"
      ]
     },
     "metadata": {},
     "output_type": "display_data"
    },
    {
     "data": {
      "text/html": [
       "<pre>| 6         | 8600     | 8048.303861  | 0.005233          |                     | 17.121401       |</pre>"
      ],
      "text/plain": [
       "| 6         | 8600     | 8048.303861  | 0.005233          |                     | 17.121401       |"
      ]
     },
     "metadata": {},
     "output_type": "display_data"
    },
    {
     "data": {
      "text/html": [
       "<pre>| 6         | 8800     | 8060.319461  | 0.005227          |                     | 16.645048       |</pre>"
      ],
      "text/plain": [
       "| 6         | 8800     | 8060.319461  | 0.005227          |                     | 16.645048       |"
      ]
     },
     "metadata": {},
     "output_type": "display_data"
    },
    {
     "data": {
      "text/html": [
       "<pre>| 6         | 9000     | 8072.571842  | 0.005111          |                     | 16.323332       |</pre>"
      ],
      "text/plain": [
       "| 6         | 9000     | 8072.571842  | 0.005111          |                     | 16.323332       |"
      ]
     },
     "metadata": {},
     "output_type": "display_data"
    },
    {
     "data": {
      "text/html": [
       "<pre>| 6         | 9200     | 8084.172155  | 0.005217          |                     | 17.240904       |</pre>"
      ],
      "text/plain": [
       "| 6         | 9200     | 8084.172155  | 0.005217          |                     | 17.240904       |"
      ]
     },
     "metadata": {},
     "output_type": "display_data"
    },
    {
     "data": {
      "text/html": [
       "<pre>| 6         | 9400     | 8095.484097  | 0.005319          |                     | 17.680443       |</pre>"
      ],
      "text/plain": [
       "| 6         | 9400     | 8095.484097  | 0.005319          |                     | 17.680443       |"
      ]
     },
     "metadata": {},
     "output_type": "display_data"
    },
    {
     "data": {
      "text/html": [
       "<pre>| 6         | 9600     | 8107.368402  | 0.005313          |                     | 16.828949       |</pre>"
      ],
      "text/plain": [
       "| 6         | 9600     | 8107.368402  | 0.005313          |                     | 16.828949       |"
      ]
     },
     "metadata": {},
     "output_type": "display_data"
    },
    {
     "data": {
      "text/html": [
       "<pre>| 6         | 9800     | 8119.671021  | 0.005306          |                     | 16.256668       |</pre>"
      ],
      "text/plain": [
       "| 6         | 9800     | 8119.671021  | 0.005306          |                     | 16.256668       |"
      ]
     },
     "metadata": {},
     "output_type": "display_data"
    },
    {
     "data": {
      "text/html": [
       "<pre>| 6         | 10000    | 8130.981506  | 0.005400          |                     | 17.682703       |</pre>"
      ],
      "text/plain": [
       "| 6         | 10000    | 8130.981506  | 0.005400          |                     | 17.682703       |"
      ]
     },
     "metadata": {},
     "output_type": "display_data"
    },
    {
     "data": {
      "text/html": [
       "<pre>| 6         | 10200    | 8142.570062  | 0.005392          |                     | 17.258415       |</pre>"
      ],
      "text/plain": [
       "| 6         | 10200    | 8142.570062  | 0.005392          |                     | 17.258415       |"
      ]
     },
     "metadata": {},
     "output_type": "display_data"
    },
    {
     "data": {
      "text/html": [
       "<pre>| 6         | 10400    | 8154.056117  | 0.005673          |                     | 17.412441       |</pre>"
      ],
      "text/plain": [
       "| 6         | 10400    | 8154.056117  | 0.005673          |                     | 17.412441       |"
      ]
     },
     "metadata": {},
     "output_type": "display_data"
    },
    {
     "data": {
      "text/html": [
       "<pre>| 6         | 10600    | 8166.742964  | 0.005566          |                     | 15.764338       |</pre>"
      ],
      "text/plain": [
       "| 6         | 10600    | 8166.742964  | 0.005566          |                     | 15.764338       |"
      ]
     },
     "metadata": {},
     "output_type": "display_data"
    },
    {
     "data": {
      "text/html": [
       "<pre>| 6         | 10800    | 8178.034378  | 0.005556          |                     | 17.712605       |</pre>"
      ],
      "text/plain": [
       "| 6         | 10800    | 8178.034378  | 0.005556          |                     | 17.712605       |"
      ]
     },
     "metadata": {},
     "output_type": "display_data"
    },
    {
     "data": {
      "text/html": [
       "<pre>| 6         | 11000    | 8189.709497  | 0.005455          |                     | 17.130451       |</pre>"
      ],
      "text/plain": [
       "| 6         | 11000    | 8189.709497  | 0.005455          |                     | 17.130451       |"
      ]
     },
     "metadata": {},
     "output_type": "display_data"
    },
    {
     "data": {
      "text/html": [
       "<pre>| 6         | 11200    | 8201.132306  | 0.005446          |                     | 17.508789       |</pre>"
      ],
      "text/plain": [
       "| 6         | 11200    | 8201.132306  | 0.005446          |                     | 17.508789       |"
      ]
     },
     "metadata": {},
     "output_type": "display_data"
    },
    {
     "data": {
      "text/html": [
       "<pre>| 6         | 11400    | 8213.156694  | 0.005351          |                     | 16.632898       |</pre>"
      ],
      "text/plain": [
       "| 6         | 11400    | 8213.156694  | 0.005351          |                     | 16.632898       |"
      ]
     },
     "metadata": {},
     "output_type": "display_data"
    },
    {
     "data": {
      "text/html": [
       "<pre>| 6         | 11600    | 8225.594673  | 0.005345          |                     | 16.079744       |</pre>"
      ],
      "text/plain": [
       "| 6         | 11600    | 8225.594673  | 0.005345          |                     | 16.079744       |"
      ]
     },
     "metadata": {},
     "output_type": "display_data"
    },
    {
     "data": {
      "text/html": [
       "<pre>| 6         | 11800    | 8237.590143  | 0.005254          |                     | 16.672964       |</pre>"
      ],
      "text/plain": [
       "| 6         | 11800    | 8237.590143  | 0.005254          |                     | 16.672964       |"
      ]
     },
     "metadata": {},
     "output_type": "display_data"
    },
    {
     "data": {
      "text/html": [
       "<pre>| 6         | 12000    | 8249.033383  | 0.005167          |                     | 17.477606       |</pre>"
      ],
      "text/plain": [
       "| 6         | 12000    | 8249.033383  | 0.005167          |                     | 17.477606       |"
      ]
     },
     "metadata": {},
     "output_type": "display_data"
    },
    {
     "data": {
      "text/html": [
       "<pre>| 6         | 12200    | 8261.235441  | 0.005246          |                     | 16.390686       |</pre>"
      ],
      "text/plain": [
       "| 6         | 12200    | 8261.235441  | 0.005246          |                     | 16.390686       |"
      ]
     },
     "metadata": {},
     "output_type": "display_data"
    },
    {
     "data": {
      "text/html": [
       "<pre>| 6         | 12400    | 8273.730903  | 0.005403          |                     | 16.005806       |</pre>"
      ],
      "text/plain": [
       "| 6         | 12400    | 8273.730903  | 0.005403          |                     | 16.005806       |"
      ]
     },
     "metadata": {},
     "output_type": "display_data"
    },
    {
     "data": {
      "text/html": [
       "<pre>| 6         | 12600    | 8285.580450  | 0.005397          |                     | 16.878258       |</pre>"
      ],
      "text/plain": [
       "| 6         | 12600    | 8285.580450  | 0.005397          |                     | 16.878258       |"
      ]
     },
     "metadata": {},
     "output_type": "display_data"
    },
    {
     "data": {
      "text/html": [
       "<pre>| 6         | 12800    | 8297.855695  | 0.005547          |                     | 16.292938       |</pre>"
      ],
      "text/plain": [
       "| 6         | 12800    | 8297.855695  | 0.005547          |                     | 16.292938       |"
      ]
     },
     "metadata": {},
     "output_type": "display_data"
    },
    {
     "data": {
      "text/html": [
       "<pre>| 6         | 13000    | 8310.517924  | 0.005538          |                     | 15.795044       |</pre>"
      ],
      "text/plain": [
       "| 6         | 13000    | 8310.517924  | 0.005538          |                     | 15.795044       |"
      ]
     },
     "metadata": {},
     "output_type": "display_data"
    },
    {
     "data": {
      "text/html": [
       "<pre>| 6         | 13200    | 8322.425448  | 0.005455          |                     | 16.796095       |</pre>"
      ],
      "text/plain": [
       "| 6         | 13200    | 8322.425448  | 0.005455          |                     | 16.796095       |"
      ]
     },
     "metadata": {},
     "output_type": "display_data"
    },
    {
     "data": {
      "text/html": [
       "<pre>| 6         | 13400    | 8334.044338  | 0.005373          |                     | 17.213358       |</pre>"
      ],
      "text/plain": [
       "| 6         | 13400    | 8334.044338  | 0.005373          |                     | 17.213358       |"
      ]
     },
     "metadata": {},
     "output_type": "display_data"
    },
    {
     "data": {
      "text/html": [
       "<pre>| 6         | 13600    | 8345.935757  | 0.005368          |                     | 16.818861       |</pre>"
      ],
      "text/plain": [
       "| 6         | 13600    | 8345.935757  | 0.005368          |                     | 16.818861       |"
      ]
     },
     "metadata": {},
     "output_type": "display_data"
    },
    {
     "data": {
      "text/html": [
       "<pre>| 6         | 13800    | 8358.279340  | 0.005435          |                     | 16.202747       |</pre>"
      ],
      "text/plain": [
       "| 6         | 13800    | 8358.279340  | 0.005435          |                     | 16.202747       |"
      ]
     },
     "metadata": {},
     "output_type": "display_data"
    },
    {
     "data": {
      "text/html": [
       "<pre>| 6         | 14000    | 8369.761756  | 0.005357          |                     | 17.417917       |</pre>"
      ],
      "text/plain": [
       "| 6         | 14000    | 8369.761756  | 0.005357          |                     | 17.417917       |"
      ]
     },
     "metadata": {},
     "output_type": "display_data"
    },
    {
     "data": {
      "text/html": [
       "<pre>| 6         | 14200    | 8381.650960  | 0.005563          |                     | 16.821995       |</pre>"
      ],
      "text/plain": [
       "| 6         | 14200    | 8381.650960  | 0.005563          |                     | 16.821995       |"
      ]
     },
     "metadata": {},
     "output_type": "display_data"
    },
    {
     "data": {
      "text/html": [
       "<pre>| 6         | 14400    | 8393.072407  | 0.005556          |                     | 17.510920       |</pre>"
      ],
      "text/plain": [
       "| 6         | 14400    | 8393.072407  | 0.005556          |                     | 17.510920       |"
      ]
     },
     "metadata": {},
     "output_type": "display_data"
    },
    {
     "data": {
      "text/html": [
       "<pre>| 6         | 14600    | 8404.702861  | 0.005616          |                     | 17.196230       |</pre>"
      ],
      "text/plain": [
       "| 6         | 14600    | 8404.702861  | 0.005616          |                     | 17.196230       |"
      ]
     },
     "metadata": {},
     "output_type": "display_data"
    },
    {
     "data": {
      "text/html": [
       "<pre>| 6         | 14800    | 8417.252985  | 0.005608          |                     | 15.936083       |</pre>"
      ],
      "text/plain": [
       "| 6         | 14800    | 8417.252985  | 0.005608          |                     | 15.936083       |"
      ]
     },
     "metadata": {},
     "output_type": "display_data"
    },
    {
     "data": {
      "text/html": [
       "<pre>| 6         | 15000    | 8429.031639  | 0.005600          |                     | 16.979876       |</pre>"
      ],
      "text/plain": [
       "| 6         | 15000    | 8429.031639  | 0.005600          |                     | 16.979876       |"
      ]
     },
     "metadata": {},
     "output_type": "display_data"
    },
    {
     "data": {
      "text/html": [
       "<pre>| 6         | 15200    | 8440.504917  | 0.005526          |                     | 17.431816       |</pre>"
      ],
      "text/plain": [
       "| 6         | 15200    | 8440.504917  | 0.005526          |                     | 17.431816       |"
      ]
     },
     "metadata": {},
     "output_type": "display_data"
    },
    {
     "data": {
      "text/html": [
       "<pre>| 6         | 15400    | 8451.903306  | 0.005519          |                     | 17.546335       |</pre>"
      ],
      "text/plain": [
       "| 6         | 15400    | 8451.903306  | 0.005519          |                     | 17.546335       |"
      ]
     },
     "metadata": {},
     "output_type": "display_data"
    },
    {
     "data": {
      "text/html": [
       "<pre>| 6         | 15600    | 8464.656388  | 0.005577          |                     | 15.682473       |</pre>"
      ],
      "text/plain": [
       "| 6         | 15600    | 8464.656388  | 0.005577          |                     | 15.682473       |"
      ]
     },
     "metadata": {},
     "output_type": "display_data"
    },
    {
     "data": {
      "text/html": [
       "<pre>| 6         | 15800    | 8476.422572  | 0.005633          |                     | 16.997883       |</pre>"
      ],
      "text/plain": [
       "| 6         | 15800    | 8476.422572  | 0.005633          |                     | 16.997883       |"
      ]
     },
     "metadata": {},
     "output_type": "display_data"
    },
    {
     "data": {
      "text/html": [
       "<pre>| 6         | 16000    | 8487.872491  | 0.005563          |                     | 17.467361       |</pre>"
      ],
      "text/plain": [
       "| 6         | 16000    | 8487.872491  | 0.005563          |                     | 17.467361       |"
      ]
     },
     "metadata": {},
     "output_type": "display_data"
    },
    {
     "data": {
      "text/html": [
       "<pre>| 6         | 16200    | 8499.160914  | 0.005494          |                     | 17.717268       |</pre>"
      ],
      "text/plain": [
       "| 6         | 16200    | 8499.160914  | 0.005494          |                     | 17.717268       |"
      ]
     },
     "metadata": {},
     "output_type": "display_data"
    },
    {
     "data": {
      "text/html": [
       "<pre>| 6         | 16400    | 8511.245782  | 0.005427          |                     | 16.549622       |</pre>"
      ],
      "text/plain": [
       "| 6         | 16400    | 8511.245782  | 0.005427          |                     | 16.549622       |"
      ]
     },
     "metadata": {},
     "output_type": "display_data"
    },
    {
     "data": {
      "text/html": [
       "<pre>| 6         | 16600    | 8523.856896  | 0.005422          |                     | 15.859035       |</pre>"
      ],
      "text/plain": [
       "| 6         | 16600    | 8523.856896  | 0.005422          |                     | 15.859035       |"
      ]
     },
     "metadata": {},
     "output_type": "display_data"
    },
    {
     "data": {
      "text/html": [
       "<pre>| 6         | 16800    | 8535.555288  | 0.005476          |                     | 17.096359       |</pre>"
      ],
      "text/plain": [
       "| 6         | 16800    | 8535.555288  | 0.005476          |                     | 17.096359       |"
      ]
     },
     "metadata": {},
     "output_type": "display_data"
    },
    {
     "data": {
      "text/html": [
       "<pre>| 6         | 17000    | 8547.428064  | 0.005471          |                     | 16.845266       |</pre>"
      ],
      "text/plain": [
       "| 6         | 17000    | 8547.428064  | 0.005471          |                     | 16.845266       |"
      ]
     },
     "metadata": {},
     "output_type": "display_data"
    },
    {
     "data": {
      "text/html": [
       "<pre>| 6         | 17200    | 8559.840046  | 0.005407          |                     | 16.113466       |</pre>"
      ],
      "text/plain": [
       "| 6         | 17200    | 8559.840046  | 0.005407          |                     | 16.113466       |"
      ]
     },
     "metadata": {},
     "output_type": "display_data"
    },
    {
     "data": {
      "text/html": [
       "<pre>| 6         | 17400    | 8572.044203  | 0.005460          |                     | 16.387846       |</pre>"
      ],
      "text/plain": [
       "| 6         | 17400    | 8572.044203  | 0.005460          |                     | 16.387846       |"
      ]
     },
     "metadata": {},
     "output_type": "display_data"
    },
    {
     "data": {
      "text/html": [
       "<pre>| 6         | 17600    | 8583.492064  | 0.005455          |                     | 17.470522       |</pre>"
      ],
      "text/plain": [
       "| 6         | 17600    | 8583.492064  | 0.005455          |                     | 17.470522       |"
      ]
     },
     "metadata": {},
     "output_type": "display_data"
    },
    {
     "data": {
      "text/html": [
       "<pre>| 6         | 17800    | 8595.575039  | 0.005449          |                     | 16.552179       |</pre>"
      ],
      "text/plain": [
       "| 6         | 17800    | 8595.575039  | 0.005449          |                     | 16.552179       |"
      ]
     },
     "metadata": {},
     "output_type": "display_data"
    },
    {
     "data": {
      "text/html": [
       "<pre>| 6         | 18000    | 8608.154523  | 0.005556          |                     | 15.898937       |</pre>"
      ],
      "text/plain": [
       "| 6         | 18000    | 8608.154523  | 0.005556          |                     | 15.898937       |"
      ]
     },
     "metadata": {},
     "output_type": "display_data"
    },
    {
     "data": {
      "text/html": [
       "<pre>| 6         | 18200    | 8620.537415  | 0.005495          |                     | 16.151278       |</pre>"
      ],
      "text/plain": [
       "| 6         | 18200    | 8620.537415  | 0.005495          |                     | 16.151278       |"
      ]
     },
     "metadata": {},
     "output_type": "display_data"
    },
    {
     "data": {
      "text/html": [
       "<pre>| 6         | 18400    | 8632.485862  | 0.005598          |                     | 16.738586       |</pre>"
      ],
      "text/plain": [
       "| 6         | 18400    | 8632.485862  | 0.005598          |                     | 16.738586       |"
      ]
     },
     "metadata": {},
     "output_type": "display_data"
    },
    {
     "data": {
      "text/html": [
       "<pre>| 6         | 18600    | 8644.010755  | 0.005538          |                     | 17.353727       |</pre>"
      ],
      "text/plain": [
       "| 6         | 18600    | 8644.010755  | 0.005538          |                     | 17.353727       |"
      ]
     },
     "metadata": {},
     "output_type": "display_data"
    },
    {
     "data": {
      "text/html": [
       "<pre>| 6         | 18800    | 8656.663048  | 0.005479          |                     | 15.807449       |</pre>"
      ],
      "text/plain": [
       "| 6         | 18800    | 8656.663048  | 0.005479          |                     | 15.807449       |"
      ]
     },
     "metadata": {},
     "output_type": "display_data"
    },
    {
     "data": {
      "text/html": [
       "<pre>| 6         | 19000    | 8668.641847  | 0.005474          |                     | 16.696125       |</pre>"
      ],
      "text/plain": [
       "| 6         | 19000    | 8668.641847  | 0.005474          |                     | 16.696125       |"
      ]
     },
     "metadata": {},
     "output_type": "display_data"
    },
    {
     "data": {
      "text/html": [
       "<pre>| 6         | 19200    | 8680.319575  | 0.005521          |                     | 17.126621       |</pre>"
      ],
      "text/plain": [
       "| 6         | 19200    | 8680.319575  | 0.005521          |                     | 17.126621       |"
      ]
     },
     "metadata": {},
     "output_type": "display_data"
    },
    {
     "data": {
      "text/html": [
       "<pre>| 6         | 19400    | 8691.896434  | 0.005464          |                     | 17.275837       |</pre>"
      ],
      "text/plain": [
       "| 6         | 19400    | 8691.896434  | 0.005464          |                     | 17.275837       |"
      ]
     },
     "metadata": {},
     "output_type": "display_data"
    },
    {
     "data": {
      "text/html": [
       "<pre>| 6         | 19600    | 8703.113739  | 0.005408          |                     | 17.829639       |</pre>"
      ],
      "text/plain": [
       "| 6         | 19600    | 8703.113739  | 0.005408          |                     | 17.829639       |"
      ]
     },
     "metadata": {},
     "output_type": "display_data"
    },
    {
     "data": {
      "text/html": [
       "<pre>| 6         | 19800    | 8714.952154  | 0.005404          |                     | 16.894159       |</pre>"
      ],
      "text/plain": [
       "| 6         | 19800    | 8714.952154  | 0.005404          |                     | 16.894159       |"
      ]
     },
     "metadata": {},
     "output_type": "display_data"
    },
    {
     "data": {
      "text/html": [
       "<pre>| 6         | 20000    | 8727.192044  | 0.005400          |                     | 16.340036       |</pre>"
      ],
      "text/plain": [
       "| 6         | 20000    | 8727.192044  | 0.005400          |                     | 16.340036       |"
      ]
     },
     "metadata": {},
     "output_type": "display_data"
    },
    {
     "data": {
      "text/html": [
       "<pre>| 6         | 20200    | 8738.262103  | 0.005396          |                     | 18.066721       |</pre>"
      ],
      "text/plain": [
       "| 6         | 20200    | 8738.262103  | 0.005396          |                     | 18.066721       |"
      ]
     },
     "metadata": {},
     "output_type": "display_data"
    },
    {
     "data": {
      "text/html": [
       "<pre>| 6         | 20400    | 8749.404267  | 0.005441          |                     | 17.949833       |</pre>"
      ],
      "text/plain": [
       "| 6         | 20400    | 8749.404267  | 0.005441          |                     | 17.949833       |"
      ]
     },
     "metadata": {},
     "output_type": "display_data"
    },
    {
     "data": {
      "text/html": [
       "<pre>| 6         | 20600    | 8760.026481  | 0.005485          |                     | 18.828430       |</pre>"
      ],
      "text/plain": [
       "| 6         | 20600    | 8760.026481  | 0.005485          |                     | 18.828430       |"
      ]
     },
     "metadata": {},
     "output_type": "display_data"
    },
    {
     "data": {
      "text/html": [
       "<pre>| 6         | 20800    | 8772.107037  | 0.005529          |                     | 16.555540       |</pre>"
      ],
      "text/plain": [
       "| 6         | 20800    | 8772.107037  | 0.005529          |                     | 16.555540       |"
      ]
     },
     "metadata": {},
     "output_type": "display_data"
    },
    {
     "data": {
      "text/html": [
       "<pre>| 6         | 21000    | 8783.414115  | 0.005476          |                     | 17.688059       |</pre>"
      ],
      "text/plain": [
       "| 6         | 21000    | 8783.414115  | 0.005476          |                     | 17.688059       |"
      ]
     },
     "metadata": {},
     "output_type": "display_data"
    },
    {
     "data": {
      "text/html": [
       "<pre>| 6         | 21200    | 8794.849592  | 0.005472          |                     | 17.489397       |</pre>"
      ],
      "text/plain": [
       "| 6         | 21200    | 8794.849592  | 0.005472          |                     | 17.489397       |"
      ]
     },
     "metadata": {},
     "output_type": "display_data"
    },
    {
     "data": {
      "text/html": [
       "<pre>| 6         | 21400    | 8805.492398  | 0.005421          |                     | 18.792070       |</pre>"
      ],
      "text/plain": [
       "| 6         | 21400    | 8805.492398  | 0.005421          |                     | 18.792070       |"
      ]
     },
     "metadata": {},
     "output_type": "display_data"
    },
    {
     "data": {
      "text/html": [
       "<pre>| 6         | 21600    | 8817.990556  | 0.005417          |                     | 16.002369       |</pre>"
      ],
      "text/plain": [
       "| 6         | 21600    | 8817.990556  | 0.005417          |                     | 16.002369       |"
      ]
     },
     "metadata": {},
     "output_type": "display_data"
    },
    {
     "data": {
      "text/html": [
       "<pre>| 6         | 21800    | 8829.555144  | 0.005459          |                     | 17.294134       |</pre>"
      ],
      "text/plain": [
       "| 6         | 21800    | 8829.555144  | 0.005459          |                     | 17.294134       |"
      ]
     },
     "metadata": {},
     "output_type": "display_data"
    },
    {
     "data": {
      "text/html": [
       "<pre>| 6         | 22000    | 8840.478907  | 0.005409          |                     | 18.308741       |</pre>"
      ],
      "text/plain": [
       "| 6         | 22000    | 8840.478907  | 0.005409          |                     | 18.308741       |"
      ]
     },
     "metadata": {},
     "output_type": "display_data"
    },
    {
     "data": {
      "text/html": [
       "<pre>| 6         | 22200    | 8852.018848  | 0.005360          |                     | 17.331095       |</pre>"
      ],
      "text/plain": [
       "| 6         | 22200    | 8852.018848  | 0.005360          |                     | 17.331095       |"
      ]
     },
     "metadata": {},
     "output_type": "display_data"
    },
    {
     "data": {
      "text/html": [
       "<pre>| 6         | 22400    | 8863.475803  | 0.005313          |                     | 17.456665       |</pre>"
      ],
      "text/plain": [
       "| 6         | 22400    | 8863.475803  | 0.005313          |                     | 17.456665       |"
      ]
     },
     "metadata": {},
     "output_type": "display_data"
    },
    {
     "data": {
      "text/html": [
       "<pre>| 6         | 22600    | 8874.623413  | 0.005398          |                     | 17.941027       |</pre>"
      ],
      "text/plain": [
       "| 6         | 22600    | 8874.623413  | 0.005398          |                     | 17.941027       |"
      ]
     },
     "metadata": {},
     "output_type": "display_data"
    },
    {
     "data": {
      "text/html": [
       "<pre>| 6         | 22800    | 8885.871793  | 0.005395          |                     | 17.780384       |</pre>"
      ],
      "text/plain": [
       "| 6         | 22800    | 8885.871793  | 0.005395          |                     | 17.780384       |"
      ]
     },
     "metadata": {},
     "output_type": "display_data"
    },
    {
     "data": {
      "text/html": [
       "<pre>| 6         | 23000    | 8896.426043  | 0.005391          |                     | 18.949671       |</pre>"
      ],
      "text/plain": [
       "| 6         | 23000    | 8896.426043  | 0.005391          |                     | 18.949671       |"
      ]
     },
     "metadata": {},
     "output_type": "display_data"
    },
    {
     "data": {
      "text/html": [
       "<pre>| 6         | 23200    | 8907.137353  | 0.005431          |                     | 18.671844       |</pre>"
      ],
      "text/plain": [
       "| 6         | 23200    | 8907.137353  | 0.005431          |                     | 18.671844       |"
      ]
     },
     "metadata": {},
     "output_type": "display_data"
    },
    {
     "data": {
      "text/html": [
       "<pre>| 6         | 23400    | 8919.469520  | 0.005385          |                     | 16.217787       |</pre>"
      ],
      "text/plain": [
       "| 6         | 23400    | 8919.469520  | 0.005385          |                     | 16.217787       |"
      ]
     },
     "metadata": {},
     "output_type": "display_data"
    },
    {
     "data": {
      "text/html": [
       "<pre>| 6         | 23600    | 8930.106855  | 0.005339          |                     | 18.801662       |</pre>"
      ],
      "text/plain": [
       "| 6         | 23600    | 8930.106855  | 0.005339          |                     | 18.801662       |"
      ]
     },
     "metadata": {},
     "output_type": "display_data"
    },
    {
     "data": {
      "text/html": [
       "<pre>| 6         | 23800    | 8941.094552  | 0.005420          |                     | 18.202187       |</pre>"
      ],
      "text/plain": [
       "| 6         | 23800    | 8941.094552  | 0.005420          |                     | 18.202187       |"
      ]
     },
     "metadata": {},
     "output_type": "display_data"
    },
    {
     "data": {
      "text/html": [
       "<pre>| 6         | 24100    | 8956.030756  | 0.005436          |                     | 20.085407       |</pre>"
      ],
      "text/plain": [
       "| 6         | 24100    | 8956.030756  | 0.005436          |                     | 20.085407       |"
      ]
     },
     "metadata": {},
     "output_type": "display_data"
    },
    {
     "data": {
      "text/html": [
       "<pre>| 6         | 24300    | 8966.910585  | 0.005432          |                     | 18.382643       |</pre>"
      ],
      "text/plain": [
       "| 6         | 24300    | 8966.910585  | 0.005432          |                     | 18.382643       |"
      ]
     },
     "metadata": {},
     "output_type": "display_data"
    },
    {
     "data": {
      "text/html": [
       "<pre>| 6         | 24500    | 8979.189394  | 0.005510          |                     | 16.288240       |</pre>"
      ],
      "text/plain": [
       "| 6         | 24500    | 8979.189394  | 0.005510          |                     | 16.288240       |"
      ]
     },
     "metadata": {},
     "output_type": "display_data"
    },
    {
     "data": {
      "text/html": [
       "<pre>| 6         | 24700    | 8990.013335  | 0.005466          |                     | 18.477543       |</pre>"
      ],
      "text/plain": [
       "| 6         | 24700    | 8990.013335  | 0.005466          |                     | 18.477543       |"
      ]
     },
     "metadata": {},
     "output_type": "display_data"
    },
    {
     "data": {
      "text/html": [
       "<pre>| 6         | 24900    | 9001.423879  | 0.005422          |                     | 17.527643       |</pre>"
      ],
      "text/plain": [
       "| 6         | 24900    | 9001.423879  | 0.005422          |                     | 17.527643       |"
      ]
     },
     "metadata": {},
     "output_type": "display_data"
    },
    {
     "data": {
      "text/html": [
       "<pre>| 6         | 25100    | 9013.047085  | 0.005378          |                     | 17.206993       |</pre>"
      ],
      "text/plain": [
       "| 6         | 25100    | 9013.047085  | 0.005378          |                     | 17.206993       |"
      ]
     },
     "metadata": {},
     "output_type": "display_data"
    },
    {
     "data": {
      "text/html": [
       "<pre>| 6         | 25300    | 9024.962343  | 0.005375          |                     | 16.785172       |</pre>"
      ],
      "text/plain": [
       "| 6         | 25300    | 9024.962343  | 0.005375          |                     | 16.785172       |"
      ]
     },
     "metadata": {},
     "output_type": "display_data"
    },
    {
     "data": {
      "text/html": [
       "<pre>| 6         | 25500    | 9035.605981  | 0.005333          |                     | 18.790573       |</pre>"
      ],
      "text/plain": [
       "| 6         | 25500    | 9035.605981  | 0.005333          |                     | 18.790573       |"
      ]
     },
     "metadata": {},
     "output_type": "display_data"
    },
    {
     "data": {
      "text/html": [
       "<pre>| 6         | 25700    | 9046.663613  | 0.005331          |                     | 18.087048       |</pre>"
      ],
      "text/plain": [
       "| 6         | 25700    | 9046.663613  | 0.005331          |                     | 18.087048       |"
      ]
     },
     "metadata": {},
     "output_type": "display_data"
    },
    {
     "data": {
      "text/html": [
       "<pre>| 6         | 25900    | 9057.398165  | 0.005290          |                     | 18.631464       |</pre>"
      ],
      "text/plain": [
       "| 6         | 25900    | 9057.398165  | 0.005290          |                     | 18.631464       |"
      ]
     },
     "metadata": {},
     "output_type": "display_data"
    },
    {
     "data": {
      "text/html": [
       "<pre>| 6         | 26100    | 9069.959060  | 0.005287          |                     | 15.922415       |</pre>"
      ],
      "text/plain": [
       "| 6         | 26100    | 9069.959060  | 0.005287          |                     | 15.922415       |"
      ]
     },
     "metadata": {},
     "output_type": "display_data"
    },
    {
     "data": {
      "text/html": [
       "<pre>| 6         | 26300    | 9081.052840  | 0.005285          |                     | 18.028143       |</pre>"
      ],
      "text/plain": [
       "| 6         | 26300    | 9081.052840  | 0.005285          |                     | 18.028143       |"
      ]
     },
     "metadata": {},
     "output_type": "display_data"
    },
    {
     "data": {
      "text/html": [
       "<pre>| 6         | 26500    | 9091.799754  | 0.005358          |                     | 18.609953       |</pre>"
      ],
      "text/plain": [
       "| 6         | 26500    | 9091.799754  | 0.005358          |                     | 18.609953       |"
      ]
     },
     "metadata": {},
     "output_type": "display_data"
    },
    {
     "data": {
      "text/html": [
       "<pre>| 6         | 26600    | 9415.249058  | 0.005338          | 0.005375            | 0.309167        |</pre>"
      ],
      "text/plain": [
       "| 6         | 26600    | 9415.249058  | 0.005338          | 0.005375            | 0.309167        |"
      ]
     },
     "metadata": {},
     "output_type": "display_data"
    },
    {
     "data": {
      "text/html": [
       "<pre>Checkpointing model into rep IDSIA by 1 conv graphlab net - train in 10 iters</pre>"
      ],
      "text/plain": [
       "Checkpointing model into rep IDSIA by 1 conv graphlab net - train in 10 iters"
      ]
     },
     "metadata": {},
     "output_type": "display_data"
    },
    {
     "data": {
      "text/html": [
       "<pre>| 7         | 100      | 9426.023061  | 0.000000          |                     | 9.564119        |</pre>"
      ],
      "text/plain": [
       "| 7         | 100      | 9426.023061  | 0.000000          |                     | 9.564119        |"
      ]
     },
     "metadata": {},
     "output_type": "display_data"
    },
    {
     "data": {
      "text/html": [
       "<pre>| 7         | 300      | 9439.546163  | 0.003333          |                     | 14.737060       |</pre>"
      ],
      "text/plain": [
       "| 7         | 300      | 9439.546163  | 0.003333          |                     | 14.737060       |"
      ]
     },
     "metadata": {},
     "output_type": "display_data"
    },
    {
     "data": {
      "text/html": [
       "<pre>| 7         | 500      | 9454.033441  | 0.004000          |                     | 13.805197       |</pre>"
      ],
      "text/plain": [
       "| 7         | 500      | 9454.033441  | 0.004000          |                     | 13.805197       |"
      ]
     },
     "metadata": {},
     "output_type": "display_data"
    },
    {
     "data": {
      "text/html": [
       "<pre>| 7         | 700      | 9466.803559  | 0.002857          |                     | 15.661589       |</pre>"
      ],
      "text/plain": [
       "| 7         | 700      | 9466.803559  | 0.002857          |                     | 15.661589       |"
      ]
     },
     "metadata": {},
     "output_type": "display_data"
    },
    {
     "data": {
      "text/html": [
       "<pre>| 7         | 900      | 9479.891908  | 0.002222          |                     | 15.280741       |</pre>"
      ],
      "text/plain": [
       "| 7         | 900      | 9479.891908  | 0.002222          |                     | 15.280741       |"
      ]
     },
     "metadata": {},
     "output_type": "display_data"
    },
    {
     "data": {
      "text/html": [
       "<pre>| 7         | 1100     | 9493.165200  | 0.003636          |                     | 15.067878       |</pre>"
      ],
      "text/plain": [
       "| 7         | 1100     | 9493.165200  | 0.003636          |                     | 15.067878       |"
      ]
     },
     "metadata": {},
     "output_type": "display_data"
    },
    {
     "data": {
      "text/html": [
       "<pre>| 7         | 1300     | 9507.370273  | 0.003077          |                     | 14.079475       |</pre>"
      ],
      "text/plain": [
       "| 7         | 1300     | 9507.370273  | 0.003077          |                     | 14.079475       |"
      ]
     },
     "metadata": {},
     "output_type": "display_data"
    },
    {
     "data": {
      "text/html": [
       "<pre>| 7         | 1500     | 9521.519886  | 0.003333          |                     | 14.134661       |</pre>"
      ],
      "text/plain": [
       "| 7         | 1500     | 9521.519886  | 0.003333          |                     | 14.134661       |"
      ]
     },
     "metadata": {},
     "output_type": "display_data"
    },
    {
     "data": {
      "text/html": [
       "<pre>| 7         | 1700     | 9533.638279  | 0.004118          |                     | 16.503803       |</pre>"
      ],
      "text/plain": [
       "| 7         | 1700     | 9533.638279  | 0.004118          |                     | 16.503803       |"
      ]
     },
     "metadata": {},
     "output_type": "display_data"
    },
    {
     "data": {
      "text/html": [
       "<pre>| 7         | 1900     | 9543.696483  | 0.004211          |                     | 19.884304       |</pre>"
      ],
      "text/plain": [
       "| 7         | 1900     | 9543.696483  | 0.004211          |                     | 19.884304       |"
      ]
     },
     "metadata": {},
     "output_type": "display_data"
    },
    {
     "data": {
      "text/html": [
       "<pre>| 7         | 2100     | 9553.895033  | 0.003810          |                     | 19.610586       |</pre>"
      ],
      "text/plain": [
       "| 7         | 2100     | 9553.895033  | 0.003810          |                     | 19.610586       |"
      ]
     },
     "metadata": {},
     "output_type": "display_data"
    },
    {
     "data": {
      "text/html": [
       "<pre>| 7         | 2300     | 9566.449001  | 0.003478          |                     | 15.931219       |</pre>"
      ],
      "text/plain": [
       "| 7         | 2300     | 9566.449001  | 0.003478          |                     | 15.931219       |"
      ]
     },
     "metadata": {},
     "output_type": "display_data"
    },
    {
     "data": {
      "text/html": [
       "<pre>| 7         | 2500     | 9576.536301  | 0.005200          |                     | 19.826918       |</pre>"
      ],
      "text/plain": [
       "| 7         | 2500     | 9576.536301  | 0.005200          |                     | 19.826918       |"
      ]
     },
     "metadata": {},
     "output_type": "display_data"
    },
    {
     "data": {
      "text/html": [
       "<pre>| 7         | 2700     | 9586.737606  | 0.004815          |                     | 19.605333       |</pre>"
      ],
      "text/plain": [
       "| 7         | 2700     | 9586.737606  | 0.004815          |                     | 19.605333       |"
      ]
     },
     "metadata": {},
     "output_type": "display_data"
    },
    {
     "data": {
      "text/html": [
       "<pre>| 7         | 2900     | 9597.415746  | 0.005172          |                     | 18.729855       |</pre>"
      ],
      "text/plain": [
       "| 7         | 2900     | 9597.415746  | 0.005172          |                     | 18.729855       |"
      ]
     },
     "metadata": {},
     "output_type": "display_data"
    },
    {
     "data": {
      "text/html": [
       "<pre>| 7         | 3100     | 9607.873303  | 0.005161          |                     | 19.124924       |</pre>"
      ],
      "text/plain": [
       "| 7         | 3100     | 9607.873303  | 0.005161          |                     | 19.124924       |"
      ]
     },
     "metadata": {},
     "output_type": "display_data"
    },
    {
     "data": {
      "text/html": [
       "<pre>| 7         | 3300     | 9619.216962  | 0.004848          |                     | 17.630991       |</pre>"
      ],
      "text/plain": [
       "| 7         | 3300     | 9619.216962  | 0.004848          |                     | 17.630991       |"
      ]
     },
     "metadata": {},
     "output_type": "display_data"
    },
    {
     "data": {
      "text/html": [
       "<pre>| 7         | 3500     | 9631.203758  | 0.004571          |                     | 16.685059       |</pre>"
      ],
      "text/plain": [
       "| 7         | 3500     | 9631.203758  | 0.004571          |                     | 16.685059       |"
      ]
     },
     "metadata": {},
     "output_type": "display_data"
    },
    {
     "data": {
      "text/html": [
       "<pre>| 7         | 3700     | 9642.957240  | 0.004865          |                     | 17.016224       |</pre>"
      ],
      "text/plain": [
       "| 7         | 3700     | 9642.957240  | 0.004865          |                     | 17.016224       |"
      ]
     },
     "metadata": {},
     "output_type": "display_data"
    },
    {
     "data": {
      "text/html": [
       "<pre>| 7         | 3900     | 9653.787569  | 0.004615          |                     | 18.466669       |</pre>"
      ],
      "text/plain": [
       "| 7         | 3900     | 9653.787569  | 0.004615          |                     | 18.466669       |"
      ]
     },
     "metadata": {},
     "output_type": "display_data"
    },
    {
     "data": {
      "text/html": [
       "<pre>| 7         | 4100     | 9665.522041  | 0.004634          |                     | 17.043819       |</pre>"
      ],
      "text/plain": [
       "| 7         | 4100     | 9665.522041  | 0.004634          |                     | 17.043819       |"
      ]
     },
     "metadata": {},
     "output_type": "display_data"
    },
    {
     "data": {
      "text/html": [
       "<pre>| 7         | 4300     | 9677.050275  | 0.004419          |                     | 17.348711       |</pre>"
      ],
      "text/plain": [
       "| 7         | 4300     | 9677.050275  | 0.004419          |                     | 17.348711       |"
      ]
     },
     "metadata": {},
     "output_type": "display_data"
    },
    {
     "data": {
      "text/html": [
       "<pre>| 7         | 4500     | 9687.114522  | 0.004444          |                     | 19.872276       |</pre>"
      ],
      "text/plain": [
       "| 7         | 4500     | 9687.114522  | 0.004444          |                     | 19.872276       |"
      ]
     },
     "metadata": {},
     "output_type": "display_data"
    },
    {
     "data": {
      "text/html": [
       "<pre>| 7         | 4700     | 9697.374919  | 0.004681          |                     | 19.492451       |</pre>"
      ],
      "text/plain": [
       "| 7         | 4700     | 9697.374919  | 0.004681          |                     | 19.492451       |"
      ]
     },
     "metadata": {},
     "output_type": "display_data"
    },
    {
     "data": {
      "text/html": [
       "<pre>| 7         | 4900     | 9709.391762  | 0.004490          |                     | 16.643324       |</pre>"
      ],
      "text/plain": [
       "| 7         | 4900     | 9709.391762  | 0.004490          |                     | 16.643324       |"
      ]
     },
     "metadata": {},
     "output_type": "display_data"
    },
    {
     "data": {
      "text/html": [
       "<pre>| 7         | 5100     | 9720.871250  | 0.004510          |                     | 17.422354       |</pre>"
      ],
      "text/plain": [
       "| 7         | 5100     | 9720.871250  | 0.004510          |                     | 17.422354       |"
      ]
     },
     "metadata": {},
     "output_type": "display_data"
    },
    {
     "data": {
      "text/html": [
       "<pre>| 7         | 5300     | 9731.295964  | 0.004717          |                     | 19.185156       |</pre>"
      ],
      "text/plain": [
       "| 7         | 5300     | 9731.295964  | 0.004717          |                     | 19.185156       |"
      ]
     },
     "metadata": {},
     "output_type": "display_data"
    },
    {
     "data": {
      "text/html": [
       "<pre>| 7         | 5500     | 9742.447664  | 0.004545          |                     | 17.934484       |</pre>"
      ],
      "text/plain": [
       "| 7         | 5500     | 9742.447664  | 0.004545          |                     | 17.934484       |"
      ]
     },
     "metadata": {},
     "output_type": "display_data"
    },
    {
     "data": {
      "text/html": [
       "<pre>| 7         | 5700     | 9752.805297  | 0.004561          |                     | 19.309437       |</pre>"
      ],
      "text/plain": [
       "| 7         | 5700     | 9752.805297  | 0.004561          |                     | 19.309437       |"
      ]
     },
     "metadata": {},
     "output_type": "display_data"
    },
    {
     "data": {
      "text/html": [
       "<pre>| 7         | 5900     | 9763.112597  | 0.004746          |                     | 19.403770       |</pre>"
      ],
      "text/plain": [
       "| 7         | 5900     | 9763.112597  | 0.004746          |                     | 19.403770       |"
      ]
     },
     "metadata": {},
     "output_type": "display_data"
    },
    {
     "data": {
      "text/html": [
       "<pre>| 7         | 6100     | 9775.501379  | 0.004918          |                     | 16.143625       |</pre>"
      ],
      "text/plain": [
       "| 7         | 6100     | 9775.501379  | 0.004918          |                     | 16.143625       |"
      ]
     },
     "metadata": {},
     "output_type": "display_data"
    },
    {
     "data": {
      "text/html": [
       "<pre>| 7         | 6300     | 9786.172371  | 0.004921          |                     | 18.742413       |</pre>"
      ],
      "text/plain": [
       "| 7         | 6300     | 9786.172371  | 0.004921          |                     | 18.742413       |"
      ]
     },
     "metadata": {},
     "output_type": "display_data"
    },
    {
     "data": {
      "text/html": [
       "<pre>| 7         | 6500     | 9796.970736  | 0.004769          |                     | 18.521288       |</pre>"
      ],
      "text/plain": [
       "| 7         | 6500     | 9796.970736  | 0.004769          |                     | 18.521288       |"
      ]
     },
     "metadata": {},
     "output_type": "display_data"
    },
    {
     "data": {
      "text/html": [
       "<pre>| 7         | 6700     | 9807.768056  | 0.004627          |                     | 18.523148       |</pre>"
      ],
      "text/plain": [
       "| 7         | 6700     | 9807.768056  | 0.004627          |                     | 18.523148       |"
      ]
     },
     "metadata": {},
     "output_type": "display_data"
    },
    {
     "data": {
      "text/html": [
       "<pre>| 7         | 6900     | 9819.057282  | 0.004928          |                     | 17.715973       |</pre>"
      ],
      "text/plain": [
       "| 7         | 6900     | 9819.057282  | 0.004928          |                     | 17.715973       |"
      ]
     },
     "metadata": {},
     "output_type": "display_data"
    },
    {
     "data": {
      "text/html": [
       "<pre>| 7         | 7100     | 9830.671063  | 0.004930          |                     | 17.220947       |</pre>"
      ],
      "text/plain": [
       "| 7         | 7100     | 9830.671063  | 0.004930          |                     | 17.220947       |"
      ]
     },
     "metadata": {},
     "output_type": "display_data"
    },
    {
     "data": {
      "text/html": [
       "<pre>| 7         | 7300     | 9841.463483  | 0.004795          |                     | 18.531481       |</pre>"
      ],
      "text/plain": [
       "| 7         | 7300     | 9841.463483  | 0.004795          |                     | 18.531481       |"
      ]
     },
     "metadata": {},
     "output_type": "display_data"
    },
    {
     "data": {
      "text/html": [
       "<pre>| 7         | 7500     | 9852.463937  | 0.004800          |                     | 18.181089       |</pre>"
      ],
      "text/plain": [
       "| 7         | 7500     | 9852.463937  | 0.004800          |                     | 18.181089       |"
      ]
     },
     "metadata": {},
     "output_type": "display_data"
    },
    {
     "data": {
      "text/html": [
       "<pre>| 7         | 7700     | 9863.385814  | 0.004935          |                     | 18.311850       |</pre>"
      ],
      "text/plain": [
       "| 7         | 7700     | 9863.385814  | 0.004935          |                     | 18.311850       |"
      ]
     },
     "metadata": {},
     "output_type": "display_data"
    },
    {
     "data": {
      "text/html": [
       "<pre>| 7         | 7900     | 9875.700897  | 0.005063          |                     | 16.240280       |</pre>"
      ],
      "text/plain": [
       "| 7         | 7900     | 9875.700897  | 0.005063          |                     | 16.240280       |"
      ]
     },
     "metadata": {},
     "output_type": "display_data"
    },
    {
     "data": {
      "text/html": [
       "<pre>| 7         | 8100     | 9887.029691  | 0.005062          |                     | 17.654127       |</pre>"
      ],
      "text/plain": [
       "| 7         | 8100     | 9887.029691  | 0.005062          |                     | 17.654127       |"
      ]
     },
     "metadata": {},
     "output_type": "display_data"
    },
    {
     "data": {
      "text/html": [
       "<pre>| 7         | 8300     | 9897.485776  | 0.005060          |                     | 19.127575       |</pre>"
      ],
      "text/plain": [
       "| 7         | 8300     | 9897.485776  | 0.005060          |                     | 19.127575       |"
      ]
     },
     "metadata": {},
     "output_type": "display_data"
    },
    {
     "data": {
      "text/html": [
       "<pre>| 7         | 8500     | 9908.144859  | 0.005294          |                     | 18.763348       |</pre>"
      ],
      "text/plain": [
       "| 7         | 8500     | 9908.144859  | 0.005294          |                     | 18.763348       |"
      ]
     },
     "metadata": {},
     "output_type": "display_data"
    },
    {
     "data": {
      "text/html": [
       "<pre>| 7         | 8700     | 9920.140101  | 0.005172          |                     | 16.673283       |</pre>"
      ],
      "text/plain": [
       "| 7         | 8700     | 9920.140101  | 0.005172          |                     | 16.673283       |"
      ]
     },
     "metadata": {},
     "output_type": "display_data"
    },
    {
     "data": {
      "text/html": [
       "<pre>| 7         | 8900     | 9931.636303  | 0.005169          |                     | 17.397039       |</pre>"
      ],
      "text/plain": [
       "| 7         | 8900     | 9931.636303  | 0.005169          |                     | 17.397039       |"
      ]
     },
     "metadata": {},
     "output_type": "display_data"
    },
    {
     "data": {
      "text/html": [
       "<pre>| 7         | 9100     | 9942.944272  | 0.005165          |                     | 17.686638       |</pre>"
      ],
      "text/plain": [
       "| 7         | 9100     | 9942.944272  | 0.005165          |                     | 17.686638       |"
      ]
     },
     "metadata": {},
     "output_type": "display_data"
    },
    {
     "data": {
      "text/html": [
       "<pre>| 7         | 9300     | 9953.923981  | 0.005269          |                     | 18.215471       |</pre>"
      ],
      "text/plain": [
       "| 7         | 9300     | 9953.923981  | 0.005269          |                     | 18.215471       |"
      ]
     },
     "metadata": {},
     "output_type": "display_data"
    },
    {
     "data": {
      "text/html": [
       "<pre>| 7         | 9500     | 9965.152391  | 0.005368          |                     | 17.811958       |</pre>"
      ],
      "text/plain": [
       "| 7         | 9500     | 9965.152391  | 0.005368          |                     | 17.811958       |"
      ]
     },
     "metadata": {},
     "output_type": "display_data"
    },
    {
     "data": {
      "text/html": [
       "<pre>| 7         | 9700     | 9976.696728  | 0.005361          |                     | 17.324495       |</pre>"
      ],
      "text/plain": [
       "| 7         | 9700     | 9976.696728  | 0.005361          |                     | 17.324495       |"
      ]
     },
     "metadata": {},
     "output_type": "display_data"
    },
    {
     "data": {
      "text/html": [
       "<pre>| 7         | 9900     | 9987.932742  | 0.005253          |                     | 17.799931       |</pre>"
      ],
      "text/plain": [
       "| 7         | 9900     | 9987.932742  | 0.005253          |                     | 17.799931       |"
      ]
     },
     "metadata": {},
     "output_type": "display_data"
    },
    {
     "data": {
      "text/html": [
       "<pre>| 7         | 10100    | 9999.041549  | 0.005347          |                     | 18.003702       |</pre>"
      ],
      "text/plain": [
       "| 7         | 10100    | 9999.041549  | 0.005347          |                     | 18.003702       |"
      ]
     },
     "metadata": {},
     "output_type": "display_data"
    },
    {
     "data": {
      "text/html": [
       "<pre>| 7         | 10300    | 10009.872218 | 0.005631          |                     | 18.466099       |</pre>"
      ],
      "text/plain": [
       "| 7         | 10300    | 10009.872218 | 0.005631          |                     | 18.466099       |"
      ]
     },
     "metadata": {},
     "output_type": "display_data"
    },
    {
     "data": {
      "text/html": [
       "<pre>| 7         | 10500    | 10022.127911 | 0.005619          |                     | 16.318947       |</pre>"
      ],
      "text/plain": [
       "| 7         | 10500    | 10022.127911 | 0.005619          |                     | 16.318947       |"
      ]
     },
     "metadata": {},
     "output_type": "display_data"
    },
    {
     "data": {
      "text/html": [
       "<pre>| 7         | 10700    | 10032.837732 | 0.005514          |                     | 18.674414       |</pre>"
      ],
      "text/plain": [
       "| 7         | 10700    | 10032.837732 | 0.005514          |                     | 18.674414       |"
      ]
     },
     "metadata": {},
     "output_type": "display_data"
    },
    {
     "data": {
      "text/html": [
       "<pre>| 7         | 10900    | 10043.428291 | 0.005505          |                     | 18.884781       |</pre>"
      ],
      "text/plain": [
       "| 7         | 10900    | 10043.428291 | 0.005505          |                     | 18.884781       |"
      ]
     },
     "metadata": {},
     "output_type": "display_data"
    },
    {
     "data": {
      "text/html": [
       "<pre>| 7         | 11100    | 10053.823122 | 0.005495          |                     | 19.240328       |</pre>"
      ],
      "text/plain": [
       "| 7         | 11100    | 10053.823122 | 0.005495          |                     | 19.240328       |"
      ]
     },
     "metadata": {},
     "output_type": "display_data"
    },
    {
     "data": {
      "text/html": [
       "<pre>| 7         | 11300    | 10065.289804 | 0.005398          |                     | 17.441843       |</pre>"
      ],
      "text/plain": [
       "| 7         | 11300    | 10065.289804 | 0.005398          |                     | 17.441843       |"
      ]
     },
     "metadata": {},
     "output_type": "display_data"
    },
    {
     "data": {
      "text/html": [
       "<pre>| 7         | 11500    | 10077.131540 | 0.005304          |                     | 16.889387       |</pre>"
      ],
      "text/plain": [
       "| 7         | 11500    | 10077.131540 | 0.005304          |                     | 16.889387       |"
      ]
     },
     "metadata": {},
     "output_type": "display_data"
    },
    {
     "data": {
      "text/html": [
       "<pre>| 7         | 11700    | 10087.355810 | 0.005299          |                     | 19.561340       |</pre>"
      ],
      "text/plain": [
       "| 7         | 11700    | 10087.355810 | 0.005299          |                     | 19.561340       |"
      ]
     },
     "metadata": {},
     "output_type": "display_data"
    },
    {
     "data": {
      "text/html": [
       "<pre>| 7         | 11900    | 10099.040453 | 0.005210          |                     | 17.116447       |</pre>"
      ],
      "text/plain": [
       "| 7         | 11900    | 10099.040453 | 0.005210          |                     | 17.116447       |"
      ]
     },
     "metadata": {},
     "output_type": "display_data"
    },
    {
     "data": {
      "text/html": [
       "<pre>| 7         | 12100    | 10110.716090 | 0.005207          |                     | 17.129723       |</pre>"
      ],
      "text/plain": [
       "| 7         | 12100    | 10110.716090 | 0.005207          |                     | 17.129723       |"
      ]
     },
     "metadata": {},
     "output_type": "display_data"
    },
    {
     "data": {
      "text/html": [
       "<pre>| 7         | 12300    | 10122.057073 | 0.005285          |                     | 17.635098       |</pre>"
      ],
      "text/plain": [
       "| 7         | 12300    | 10122.057073 | 0.005285          |                     | 17.635098       |"
      ]
     },
     "metadata": {},
     "output_type": "display_data"
    },
    {
     "data": {
      "text/html": [
       "<pre>| 7         | 12500    | 10133.555387 | 0.005440          |                     | 17.393906       |</pre>"
      ],
      "text/plain": [
       "| 7         | 12500    | 10133.555387 | 0.005440          |                     | 17.393906       |"
      ]
     },
     "metadata": {},
     "output_type": "display_data"
    },
    {
     "data": {
      "text/html": [
       "<pre>| 7         | 12700    | 10144.346995 | 0.005591          |                     | 18.532881       |</pre>"
      ],
      "text/plain": [
       "| 7         | 12700    | 10144.346995 | 0.005591          |                     | 18.532881       |"
      ]
     },
     "metadata": {},
     "output_type": "display_data"
    },
    {
     "data": {
      "text/html": [
       "<pre>| 7         | 12900    | 10155.605704 | 0.005504          |                     | 17.764067       |</pre>"
      ],
      "text/plain": [
       "| 7         | 12900    | 10155.605704 | 0.005504          |                     | 17.764067       |"
      ]
     },
     "metadata": {},
     "output_type": "display_data"
    },
    {
     "data": {
      "text/html": [
       "<pre>| 7         | 13100    | 10167.747940 | 0.005496          |                     | 16.471420       |</pre>"
      ],
      "text/plain": [
       "| 7         | 13100    | 10167.747940 | 0.005496          |                     | 16.471420       |"
      ]
     },
     "metadata": {},
     "output_type": "display_data"
    },
    {
     "data": {
      "text/html": [
       "<pre>| 7         | 13300    | 10178.367064 | 0.005414          |                     | 18.863626       |</pre>"
      ],
      "text/plain": [
       "| 7         | 13300    | 10178.367064 | 0.005414          |                     | 18.863626       |"
      ]
     },
     "metadata": {},
     "output_type": "display_data"
    },
    {
     "data": {
      "text/html": [
       "<pre>| 7         | 13500    | 10188.835378 | 0.005407          |                     | 19.074791       |</pre>"
      ],
      "text/plain": [
       "| 7         | 13500    | 10188.835378 | 0.005407          |                     | 19.074791       |"
      ]
     },
     "metadata": {},
     "output_type": "display_data"
    },
    {
     "data": {
      "text/html": [
       "<pre>| 7         | 13700    | 10200.180074 | 0.005474          |                     | 17.629419       |</pre>"
      ],
      "text/plain": [
       "| 7         | 13700    | 10200.180074 | 0.005474          |                     | 17.629419       |"
      ]
     },
     "metadata": {},
     "output_type": "display_data"
    },
    {
     "data": {
      "text/html": [
       "<pre>| 7         | 13900    | 10212.586405 | 0.005396          |                     | 16.120773       |</pre>"
      ],
      "text/plain": [
       "| 7         | 13900    | 10212.586405 | 0.005396          |                     | 16.120773       |"
      ]
     },
     "metadata": {},
     "output_type": "display_data"
    },
    {
     "data": {
      "text/html": [
       "<pre>| 7         | 14100    | 10223.477985 | 0.005603          |                     | 18.362831       |</pre>"
      ],
      "text/plain": [
       "| 7         | 14100    | 10223.477985 | 0.005603          |                     | 18.362831       |"
      ]
     },
     "metadata": {},
     "output_type": "display_data"
    },
    {
     "data": {
      "text/html": [
       "<pre>| 7         | 14300    | 10233.868831 | 0.005524          |                     | 19.247707       |</pre>"
      ],
      "text/plain": [
       "| 7         | 14300    | 10233.868831 | 0.005524          |                     | 19.247707       |"
      ]
     },
     "metadata": {},
     "output_type": "display_data"
    },
    {
     "data": {
      "text/html": [
       "<pre>| 7         | 14500    | 10244.873240 | 0.005517          |                     | 18.174507       |</pre>"
      ],
      "text/plain": [
       "| 7         | 14500    | 10244.873240 | 0.005517          |                     | 18.174507       |"
      ]
     },
     "metadata": {},
     "output_type": "display_data"
    },
    {
     "data": {
      "text/html": [
       "<pre>| 7         | 14700    | 10255.335393 | 0.005646          |                     | 19.116535       |</pre>"
      ],
      "text/plain": [
       "| 7         | 14700    | 10255.335393 | 0.005646          |                     | 19.116535       |"
      ]
     },
     "metadata": {},
     "output_type": "display_data"
    },
    {
     "data": {
      "text/html": [
       "<pre>| 7         | 14900    | 10267.305198 | 0.005570          |                     | 16.708710       |</pre>"
      ],
      "text/plain": [
       "| 7         | 14900    | 10267.305198 | 0.005570          |                     | 16.708710       |"
      ]
     },
     "metadata": {},
     "output_type": "display_data"
    },
    {
     "data": {
      "text/html": [
       "<pre>| 7         | 15100    | 10278.437033 | 0.005563          |                     | 17.966494       |</pre>"
      ],
      "text/plain": [
       "| 7         | 15100    | 10278.437033 | 0.005563          |                     | 17.966494       |"
      ]
     },
     "metadata": {},
     "output_type": "display_data"
    },
    {
     "data": {
      "text/html": [
       "<pre>| 7         | 15300    | 10289.193016 | 0.005490          |                     | 18.594286       |</pre>"
      ],
      "text/plain": [
       "| 7         | 15300    | 10289.193016 | 0.005490          |                     | 18.594286       |"
      ]
     },
     "metadata": {},
     "output_type": "display_data"
    },
    {
     "data": {
      "text/html": [
       "<pre>| 7         | 15500    | 10299.929313 | 0.005548          |                     | 18.628412       |</pre>"
      ],
      "text/plain": [
       "| 7         | 15500    | 10299.929313 | 0.005548          |                     | 18.628412       |"
      ]
     },
     "metadata": {},
     "output_type": "display_data"
    },
    {
     "data": {
      "text/html": [
       "<pre>| 7         | 15700    | 10312.038380 | 0.005669          |                     | 16.516573       |</pre>"
      ],
      "text/plain": [
       "| 7         | 15700    | 10312.038380 | 0.005669          |                     | 16.516573       |"
      ]
     },
     "metadata": {},
     "output_type": "display_data"
    },
    {
     "data": {
      "text/html": [
       "<pre>| 7         | 15900    | 10323.669953 | 0.005597          |                     | 17.194546       |</pre>"
      ],
      "text/plain": [
       "| 7         | 15900    | 10323.669953 | 0.005597          |                     | 17.194546       |"
      ]
     },
     "metadata": {},
     "output_type": "display_data"
    },
    {
     "data": {
      "text/html": [
       "<pre>| 7         | 16100    | 10335.121155 | 0.005528          |                     | 17.465410       |</pre>"
      ],
      "text/plain": [
       "| 7         | 16100    | 10335.121155 | 0.005528          |                     | 17.465410       |"
      ]
     },
     "metadata": {},
     "output_type": "display_data"
    },
    {
     "data": {
      "text/html": [
       "<pre>| 7         | 16300    | 10346.229294 | 0.005460          |                     | 18.004820       |</pre>"
      ],
      "text/plain": [
       "| 7         | 16300    | 10346.229294 | 0.005460          |                     | 18.004820       |"
      ]
     },
     "metadata": {},
     "output_type": "display_data"
    },
    {
     "data": {
      "text/html": [
       "<pre>| 7         | 16500    | 10357.678731 | 0.005394          |                     | 17.468157       |</pre>"
      ],
      "text/plain": [
       "| 7         | 16500    | 10357.678731 | 0.005394          |                     | 17.468157       |"
      ]
     },
     "metadata": {},
     "output_type": "display_data"
    },
    {
     "data": {
      "text/html": [
       "<pre>| 7         | 16700    | 10369.055402 | 0.005389          |                     | 17.579782       |</pre>"
      ],
      "text/plain": [
       "| 7         | 16700    | 10369.055402 | 0.005389          |                     | 17.579782       |"
      ]
     },
     "metadata": {},
     "output_type": "display_data"
    },
    {
     "data": {
      "text/html": [
       "<pre>| 7         | 16900    | 10380.039674 | 0.005503          |                     | 18.207861       |</pre>"
      ],
      "text/plain": [
       "| 7         | 16900    | 10380.039674 | 0.005503          |                     | 18.207861       |"
      ]
     },
     "metadata": {},
     "output_type": "display_data"
    },
    {
     "data": {
      "text/html": [
       "<pre>| 7         | 17100    | 10391.122421 | 0.005439          |                     | 18.046061       |</pre>"
      ],
      "text/plain": [
       "| 7         | 17100    | 10391.122421 | 0.005439          |                     | 18.046061       |"
      ]
     },
     "metadata": {},
     "output_type": "display_data"
    },
    {
     "data": {
      "text/html": [
       "<pre>| 7         | 17300    | 10401.983568 | 0.005434          |                     | 18.414318       |</pre>"
      ],
      "text/plain": [
       "| 7         | 17300    | 10401.983568 | 0.005434          |                     | 18.414318       |"
      ]
     },
     "metadata": {},
     "output_type": "display_data"
    },
    {
     "data": {
      "text/html": [
       "<pre>| 7         | 17500    | 10414.137138 | 0.005486          |                     | 16.456043       |</pre>"
      ],
      "text/plain": [
       "| 7         | 17500    | 10414.137138 | 0.005486          |                     | 16.456043       |"
      ]
     },
     "metadata": {},
     "output_type": "display_data"
    },
    {
     "data": {
      "text/html": [
       "<pre>| 7         | 17700    | 10425.358004 | 0.005480          |                     | 17.823925       |</pre>"
      ],
      "text/plain": [
       "| 7         | 17700    | 10425.358004 | 0.005480          |                     | 17.823925       |"
      ]
     },
     "metadata": {},
     "output_type": "display_data"
    },
    {
     "data": {
      "text/html": [
       "<pre>| 7         | 17900    | 10436.485424 | 0.005531          |                     | 17.973606       |</pre>"
      ],
      "text/plain": [
       "| 7         | 17900    | 10436.485424 | 0.005531          |                     | 17.973606       |"
      ]
     },
     "metadata": {},
     "output_type": "display_data"
    },
    {
     "data": {
      "text/html": [
       "<pre>| 7         | 18100    | 10446.932139 | 0.005525          |                     | 19.144815       |</pre>"
      ],
      "text/plain": [
       "| 7         | 18100    | 10446.932139 | 0.005525          |                     | 19.144815       |"
      ]
     },
     "metadata": {},
     "output_type": "display_data"
    },
    {
     "data": {
      "text/html": [
       "<pre>| 7         | 18300    | 10459.664717 | 0.005628          |                     | 15.707711       |</pre>"
      ],
      "text/plain": [
       "| 7         | 18300    | 10459.664717 | 0.005628          |                     | 15.707711       |"
      ]
     },
     "metadata": {},
     "output_type": "display_data"
    },
    {
     "data": {
      "text/html": [
       "<pre>| 7         | 18500    | 10470.809847 | 0.005568          |                     | 17.945055       |</pre>"
      ],
      "text/plain": [
       "| 7         | 18500    | 10470.809847 | 0.005568          |                     | 17.945055       |"
      ]
     },
     "metadata": {},
     "output_type": "display_data"
    },
    {
     "data": {
      "text/html": [
       "<pre>| 7         | 18700    | 10481.289597 | 0.005508          |                     | 19.084423       |</pre>"
      ],
      "text/plain": [
       "| 7         | 18700    | 10481.289597 | 0.005508          |                     | 19.084423       |"
      ]
     },
     "metadata": {},
     "output_type": "display_data"
    },
    {
     "data": {
      "text/html": [
       "<pre>| 7         | 18900    | 10493.116254 | 0.005450          |                     | 16.910986       |</pre>"
      ],
      "text/plain": [
       "| 7         | 18900    | 10493.116254 | 0.005450          |                     | 16.910986       |"
      ]
     },
     "metadata": {},
     "output_type": "display_data"
    },
    {
     "data": {
      "text/html": [
       "<pre>| 7         | 19100    | 10505.293931 | 0.005550          |                     | 16.423470       |</pre>"
      ],
      "text/plain": [
       "| 7         | 19100    | 10505.293931 | 0.005550          |                     | 16.423470       |"
      ]
     },
     "metadata": {},
     "output_type": "display_data"
    },
    {
     "data": {
      "text/html": [
       "<pre>| 7         | 19300    | 10516.333019 | 0.005492          |                     | 18.117468       |</pre>"
      ],
      "text/plain": [
       "| 7         | 19300    | 10516.333019 | 0.005492          |                     | 18.117468       |"
      ]
     },
     "metadata": {},
     "output_type": "display_data"
    },
    {
     "data": {
      "text/html": [
       "<pre>| 7         | 19500    | 10528.242391 | 0.005436          |                     | 16.793465       |</pre>"
      ],
      "text/plain": [
       "| 7         | 19500    | 10528.242391 | 0.005436          |                     | 16.793465       |"
      ]
     },
     "metadata": {},
     "output_type": "display_data"
    },
    {
     "data": {
      "text/html": [
       "<pre>| 7         | 19700    | 10540.120051 | 0.005381          |                     | 16.838360       |</pre>"
      ],
      "text/plain": [
       "| 7         | 19700    | 10540.120051 | 0.005381          |                     | 16.838360       |"
      ]
     },
     "metadata": {},
     "output_type": "display_data"
    },
    {
     "data": {
      "text/html": [
       "<pre>| 7         | 19900    | 10551.510970 | 0.005377          |                     | 17.557810       |</pre>"
      ],
      "text/plain": [
       "| 7         | 19900    | 10551.510970 | 0.005377          |                     | 17.557810       |"
      ]
     },
     "metadata": {},
     "output_type": "display_data"
    },
    {
     "data": {
      "text/html": [
       "<pre>| 7         | 20100    | 10563.380868 | 0.005423          |                     | 16.849382       |</pre>"
      ],
      "text/plain": [
       "| 7         | 20100    | 10563.380868 | 0.005423          |                     | 16.849382       |"
      ]
     },
     "metadata": {},
     "output_type": "display_data"
    },
    {
     "data": {
      "text/html": [
       "<pre>| 7         | 20300    | 10573.483726 | 0.005419          |                     | 19.796341       |</pre>"
      ],
      "text/plain": [
       "| 7         | 20300    | 10573.483726 | 0.005419          |                     | 19.796341       |"
      ]
     },
     "metadata": {},
     "output_type": "display_data"
    },
    {
     "data": {
      "text/html": [
       "<pre>| 7         | 20500    | 10583.945691 | 0.005512          |                     | 19.116865       |</pre>"
      ],
      "text/plain": [
       "| 7         | 20500    | 10583.945691 | 0.005512          |                     | 19.116865       |"
      ]
     },
     "metadata": {},
     "output_type": "display_data"
    },
    {
     "data": {
      "text/html": [
       "<pre>| 7         | 20700    | 10596.263143 | 0.005507          |                     | 16.237162       |</pre>"
      ],
      "text/plain": [
       "| 7         | 20700    | 10596.263143 | 0.005507          |                     | 16.237162       |"
      ]
     },
     "metadata": {},
     "output_type": "display_data"
    },
    {
     "data": {
      "text/html": [
       "<pre>| 7         | 20900    | 10606.864591 | 0.005502          |                     | 18.865349       |</pre>"
      ],
      "text/plain": [
       "| 7         | 20900    | 10606.864591 | 0.005502          |                     | 18.865349       |"
      ]
     },
     "metadata": {},
     "output_type": "display_data"
    },
    {
     "data": {
      "text/html": [
       "<pre>| 7         | 21100    | 10618.043120 | 0.005498          |                     | 17.891411       |</pre>"
      ],
      "text/plain": [
       "| 7         | 21100    | 10618.043120 | 0.005498          |                     | 17.891411       |"
      ]
     },
     "metadata": {},
     "output_type": "display_data"
    },
    {
     "data": {
      "text/html": [
       "<pre>| 7         | 21300    | 10629.048334 | 0.005446          |                     | 18.173229       |</pre>"
      ],
      "text/plain": [
       "| 7         | 21300    | 10629.048334 | 0.005446          |                     | 18.173229       |"
      ]
     },
     "metadata": {},
     "output_type": "display_data"
    },
    {
     "data": {
      "text/html": [
       "<pre>| 7         | 21500    | 10641.631284 | 0.005395          |                     | 15.894497       |</pre>"
      ],
      "text/plain": [
       "| 7         | 21500    | 10641.631284 | 0.005395          |                     | 15.894497       |"
      ]
     },
     "metadata": {},
     "output_type": "display_data"
    },
    {
     "data": {
      "text/html": [
       "<pre>| 7         | 21700    | 10653.051298 | 0.005438          |                     | 17.513113       |</pre>"
      ],
      "text/plain": [
       "| 7         | 21700    | 10653.051298 | 0.005438          |                     | 17.513113       |"
      ]
     },
     "metadata": {},
     "output_type": "display_data"
    },
    {
     "data": {
      "text/html": [
       "<pre>| 7         | 21900    | 10663.750549 | 0.005434          |                     | 18.692911       |</pre>"
      ],
      "text/plain": [
       "| 7         | 21900    | 10663.750549 | 0.005434          |                     | 18.692911       |"
      ]
     },
     "metadata": {},
     "output_type": "display_data"
    },
    {
     "data": {
      "text/html": [
       "<pre>| 7         | 22100    | 10675.100437 | 0.005385          |                     | 17.621336       |</pre>"
      ],
      "text/plain": [
       "| 7         | 22100    | 10675.100437 | 0.005385          |                     | 17.621336       |"
      ]
     },
     "metadata": {},
     "output_type": "display_data"
    },
    {
     "data": {
      "text/html": [
       "<pre>| 7         | 22300    | 10687.359720 | 0.005336          |                     | 16.314138       |</pre>"
      ],
      "text/plain": [
       "| 7         | 22300    | 10687.359720 | 0.005336          |                     | 16.314138       |"
      ]
     },
     "metadata": {},
     "output_type": "display_data"
    },
    {
     "data": {
      "text/html": [
       "<pre>| 7         | 22500    | 10698.011899 | 0.005378          |                     | 18.775520       |</pre>"
      ],
      "text/plain": [
       "| 7         | 22500    | 10698.011899 | 0.005378          |                     | 18.775520       |"
      ]
     },
     "metadata": {},
     "output_type": "display_data"
    },
    {
     "data": {
      "text/html": [
       "<pre>| 7         | 22700    | 10709.557924 | 0.005374          |                     | 17.321962       |</pre>"
      ],
      "text/plain": [
       "| 7         | 22700    | 10709.557924 | 0.005374          |                     | 17.321962       |"
      ]
     },
     "metadata": {},
     "output_type": "display_data"
    },
    {
     "data": {
      "text/html": [
       "<pre>| 7         | 22900    | 10720.427327 | 0.005371          |                     | 18.400269       |</pre>"
      ],
      "text/plain": [
       "| 7         | 22900    | 10720.427327 | 0.005371          |                     | 18.400269       |"
      ]
     },
     "metadata": {},
     "output_type": "display_data"
    },
    {
     "data": {
      "text/html": [
       "<pre>| 7         | 23100    | 10732.144977 | 0.005455          |                     | 17.068304       |</pre>"
      ],
      "text/plain": [
       "| 7         | 23100    | 10732.144977 | 0.005455          |                     | 17.068304       |"
      ]
     },
     "metadata": {},
     "output_type": "display_data"
    },
    {
     "data": {
      "text/html": [
       "<pre>| 7         | 23300    | 10743.369448 | 0.005408          |                     | 17.818224       |</pre>"
      ],
      "text/plain": [
       "| 7         | 23300    | 10743.369448 | 0.005408          |                     | 17.818224       |"
      ]
     },
     "metadata": {},
     "output_type": "display_data"
    },
    {
     "data": {
      "text/html": [
       "<pre>| 7         | 23500    | 10753.699918 | 0.005362          |                     | 19.360147       |</pre>"
      ],
      "text/plain": [
       "| 7         | 23500    | 10753.699918 | 0.005362          |                     | 19.360147       |"
      ]
     },
     "metadata": {},
     "output_type": "display_data"
    },
    {
     "data": {
      "text/html": [
       "<pre>| 7         | 23700    | 10763.857479 | 0.005359          |                     | 19.689810       |</pre>"
      ],
      "text/plain": [
       "| 7         | 23700    | 10763.857479 | 0.005359          |                     | 19.689810       |"
      ]
     },
     "metadata": {},
     "output_type": "display_data"
    },
    {
     "data": {
      "text/html": [
       "<pre>| 7         | 23900    | 10774.765806 | 0.005397          |                     | 18.334618       |</pre>"
      ],
      "text/plain": [
       "| 7         | 23900    | 10774.765806 | 0.005397          |                     | 18.334618       |"
      ]
     },
     "metadata": {},
     "output_type": "display_data"
    },
    {
     "data": {
      "text/html": [
       "<pre>| 7         | 24100    | 10786.209809 | 0.005436          |                     | 17.476391       |</pre>"
      ],
      "text/plain": [
       "| 7         | 24100    | 10786.209809 | 0.005436          |                     | 17.476391       |"
      ]
     },
     "metadata": {},
     "output_type": "display_data"
    },
    {
     "data": {
      "text/html": [
       "<pre>| 7         | 24300    | 10797.528580 | 0.005432          |                     | 17.669737       |</pre>"
      ],
      "text/plain": [
       "| 7         | 24300    | 10797.528580 | 0.005432          |                     | 17.669737       |"
      ]
     },
     "metadata": {},
     "output_type": "display_data"
    },
    {
     "data": {
      "text/html": [
       "<pre>| 7         | 24500    | 10808.527419 | 0.005510          |                     | 18.183773       |</pre>"
      ],
      "text/plain": [
       "| 7         | 24500    | 10808.527419 | 0.005510          |                     | 18.183773       |"
      ]
     },
     "metadata": {},
     "output_type": "display_data"
    },
    {
     "data": {
      "text/html": [
       "<pre>| 7         | 24700    | 10820.086806 | 0.005466          |                     | 17.301926       |</pre>"
      ],
      "text/plain": [
       "| 7         | 24700    | 10820.086806 | 0.005466          |                     | 17.301926       |"
      ]
     },
     "metadata": {},
     "output_type": "display_data"
    },
    {
     "data": {
      "text/html": [
       "<pre>| 7         | 24900    | 10831.088742 | 0.005422          |                     | 18.178686       |</pre>"
      ],
      "text/plain": [
       "| 7         | 24900    | 10831.088742 | 0.005422          |                     | 18.178686       |"
      ]
     },
     "metadata": {},
     "output_type": "display_data"
    },
    {
     "data": {
      "text/html": [
       "<pre>| 7         | 25100    | 10842.960456 | 0.005378          |                     | 16.846741       |</pre>"
      ],
      "text/plain": [
       "| 7         | 25100    | 10842.960456 | 0.005378          |                     | 16.846741       |"
      ]
     },
     "metadata": {},
     "output_type": "display_data"
    },
    {
     "data": {
      "text/html": [
       "<pre>| 7         | 25300    | 10854.358019 | 0.005375          |                     | 17.547590       |</pre>"
      ],
      "text/plain": [
       "| 7         | 25300    | 10854.358019 | 0.005375          |                     | 17.547590       |"
      ]
     },
     "metadata": {},
     "output_type": "display_data"
    },
    {
     "data": {
      "text/html": [
       "<pre>| 7         | 25500    | 10865.667545 | 0.005333          |                     | 17.684200       |</pre>"
      ],
      "text/plain": [
       "| 7         | 25500    | 10865.667545 | 0.005333          |                     | 17.684200       |"
      ]
     },
     "metadata": {},
     "output_type": "display_data"
    },
    {
     "data": {
      "text/html": [
       "<pre>| 7         | 25700    | 10877.044666 | 0.005331          |                     | 17.579170       |</pre>"
      ],
      "text/plain": [
       "| 7         | 25700    | 10877.044666 | 0.005331          |                     | 17.579170       |"
      ]
     },
     "metadata": {},
     "output_type": "display_data"
    },
    {
     "data": {
      "text/html": [
       "<pre>| 7         | 25900    | 10889.033584 | 0.005290          |                     | 16.682035       |</pre>"
      ],
      "text/plain": [
       "| 7         | 25900    | 10889.033584 | 0.005290          |                     | 16.682035       |"
      ]
     },
     "metadata": {},
     "output_type": "display_data"
    },
    {
     "data": {
      "text/html": [
       "<pre>| 7         | 26100    | 10899.572577 | 0.005287          |                     | 18.977194       |</pre>"
      ],
      "text/plain": [
       "| 7         | 26100    | 10899.572577 | 0.005287          |                     | 18.977194       |"
      ]
     },
     "metadata": {},
     "output_type": "display_data"
    },
    {
     "data": {
      "text/html": [
       "<pre>| 7         | 26300    | 10910.544710 | 0.005285          |                     | 18.227947       |</pre>"
      ],
      "text/plain": [
       "| 7         | 26300    | 10910.544710 | 0.005285          |                     | 18.227947       |"
      ]
     },
     "metadata": {},
     "output_type": "display_data"
    },
    {
     "data": {
      "text/html": [
       "<pre>| 7         | 26500    | 10923.148342 | 0.005358          |                     | 15.868483       |</pre>"
      ],
      "text/plain": [
       "| 7         | 26500    | 10923.148342 | 0.005358          |                     | 15.868483       |"
      ]
     },
     "metadata": {},
     "output_type": "display_data"
    },
    {
     "data": {
      "text/html": [
       "<pre>| 7         | 26600    | 11193.522634 | 0.005338          | 0.005375            | 0.369858        |</pre>"
      ],
      "text/plain": [
       "| 7         | 26600    | 11193.522634 | 0.005338          | 0.005375            | 0.369858        |"
      ]
     },
     "metadata": {},
     "output_type": "display_data"
    },
    {
     "data": {
      "text/html": [
       "<pre>Checkpointing model into rep IDSIA by 1 conv graphlab net - train in 10 iters</pre>"
      ],
      "text/plain": [
       "Checkpointing model into rep IDSIA by 1 conv graphlab net - train in 10 iters"
      ]
     },
     "metadata": {},
     "output_type": "display_data"
    },
    {
     "data": {
      "text/html": [
       "<pre>| 8         | 200      | 11205.580787 | 0.005000          |                     | 16.715508       |</pre>"
      ],
      "text/plain": [
       "| 8         | 200      | 11205.580787 | 0.005000          |                     | 16.715508       |"
      ]
     },
     "metadata": {},
     "output_type": "display_data"
    },
    {
     "data": {
      "text/html": [
       "<pre>| 8         | 400      | 11217.447073 | 0.002500          |                     | 16.816275       |</pre>"
      ],
      "text/plain": [
       "| 8         | 400      | 11217.447073 | 0.002500          |                     | 16.816275       |"
      ]
     },
     "metadata": {},
     "output_type": "display_data"
    },
    {
     "data": {
      "text/html": [
       "<pre>| 8         | 600      | 11228.973848 | 0.003333          |                     | 17.350904       |</pre>"
      ],
      "text/plain": [
       "| 8         | 600      | 11228.973848 | 0.003333          |                     | 17.350904       |"
      ]
     },
     "metadata": {},
     "output_type": "display_data"
    },
    {
     "data": {
      "text/html": [
       "<pre>| 8         | 800      | 11239.818246 | 0.002500          |                     | 18.442694       |</pre>"
      ],
      "text/plain": [
       "| 8         | 800      | 11239.818246 | 0.002500          |                     | 18.442694       |"
      ]
     },
     "metadata": {},
     "output_type": "display_data"
    },
    {
     "data": {
      "text/html": [
       "<pre>| 8         | 1000     | 11250.816808 | 0.003000          |                     | 18.184177       |</pre>"
      ],
      "text/plain": [
       "| 8         | 1000     | 11250.816808 | 0.003000          |                     | 18.184177       |"
      ]
     },
     "metadata": {},
     "output_type": "display_data"
    },
    {
     "data": {
      "text/html": [
       "<pre>| 8         | 1200     | 11263.032774 | 0.003333          |                     | 16.372032       |</pre>"
      ],
      "text/plain": [
       "| 8         | 1200     | 11263.032774 | 0.003333          |                     | 16.372032       |"
      ]
     },
     "metadata": {},
     "output_type": "display_data"
    },
    {
     "data": {
      "text/html": [
       "<pre>| 8         | 1400     | 11274.096408 | 0.002857          |                     | 18.077246       |</pre>"
      ],
      "text/plain": [
       "| 8         | 1400     | 11274.096408 | 0.002857          |                     | 18.077246       |"
      ]
     },
     "metadata": {},
     "output_type": "display_data"
    },
    {
     "data": {
      "text/html": [
       "<pre>| 8         | 1600     | 11284.718685 | 0.003750          |                     | 18.828325       |</pre>"
      ],
      "text/plain": [
       "| 8         | 1600     | 11284.718685 | 0.003750          |                     | 18.828325       |"
      ]
     },
     "metadata": {},
     "output_type": "display_data"
    },
    {
     "data": {
      "text/html": [
       "<pre>| 8         | 1800     | 11295.414226 | 0.004444          |                     | 18.699408       |</pre>"
      ],
      "text/plain": [
       "| 8         | 1800     | 11295.414226 | 0.004444          |                     | 18.699408       |"
      ]
     },
     "metadata": {},
     "output_type": "display_data"
    },
    {
     "data": {
      "text/html": [
       "<pre>| 8         | 2000     | 11306.574639 | 0.004000          |                     | 17.920496       |</pre>"
      ],
      "text/plain": [
       "| 8         | 2000     | 11306.574639 | 0.004000          |                     | 17.920496       |"
      ]
     },
     "metadata": {},
     "output_type": "display_data"
    },
    {
     "data": {
      "text/html": [
       "<pre>| 8         | 2200     | 11318.706954 | 0.003636          |                     | 16.484890       |</pre>"
      ],
      "text/plain": [
       "| 8         | 2200     | 11318.706954 | 0.003636          |                     | 16.484890       |"
      ]
     },
     "metadata": {},
     "output_type": "display_data"
    },
    {
     "data": {
      "text/html": [
       "<pre>| 8         | 2400     | 11329.126307 | 0.003750          |                     | 19.195021       |</pre>"
      ],
      "text/plain": [
       "| 8         | 2400     | 11329.126307 | 0.003750          |                     | 19.195021       |"
      ]
     },
     "metadata": {},
     "output_type": "display_data"
    },
    {
     "data": {
      "text/html": [
       "<pre>| 8         | 2600     | 11339.547293 | 0.005000          |                     | 19.192070       |</pre>"
      ],
      "text/plain": [
       "| 8         | 2600     | 11339.547293 | 0.005000          |                     | 19.192070       |"
      ]
     },
     "metadata": {},
     "output_type": "display_data"
    },
    {
     "data": {
      "text/html": [
       "<pre>| 8         | 2800     | 11350.272471 | 0.005357          |                     | 18.647680       |</pre>"
      ],
      "text/plain": [
       "| 8         | 2800     | 11350.272471 | 0.005357          |                     | 18.647680       |"
      ]
     },
     "metadata": {},
     "output_type": "display_data"
    },
    {
     "data": {
      "text/html": [
       "<pre>| 8         | 3000     | 11361.033297 | 0.005333          |                     | 18.585966       |</pre>"
      ],
      "text/plain": [
       "| 8         | 3000     | 11361.033297 | 0.005333          |                     | 18.585966       |"
      ]
     },
     "metadata": {},
     "output_type": "display_data"
    },
    {
     "data": {
      "text/html": [
       "<pre>| 8         | 3200     | 11372.790819 | 0.005000          |                     | 17.010361       |</pre>"
      ],
      "text/plain": [
       "| 8         | 3200     | 11372.790819 | 0.005000          |                     | 17.010361       |"
      ]
     },
     "metadata": {},
     "output_type": "display_data"
    },
    {
     "data": {
      "text/html": [
       "<pre>| 8         | 3400     | 11384.355998 | 0.004706          |                     | 17.293287       |</pre>"
      ],
      "text/plain": [
       "| 8         | 3400     | 11384.355998 | 0.004706          |                     | 17.293287       |"
      ]
     },
     "metadata": {},
     "output_type": "display_data"
    },
    {
     "data": {
      "text/html": [
       "<pre>| 8         | 3600     | 11394.810030 | 0.004722          |                     | 19.131395       |</pre>"
      ],
      "text/plain": [
       "| 8         | 3600     | 11394.810030 | 0.004722          |                     | 19.131395       |"
      ]
     },
     "metadata": {},
     "output_type": "display_data"
    },
    {
     "data": {
      "text/html": [
       "<pre>| 8         | 3800     | 11405.131395 | 0.004737          |                     | 19.377296       |</pre>"
      ],
      "text/plain": [
       "| 8         | 3800     | 11405.131395 | 0.004737          |                     | 19.377296       |"
      ]
     },
     "metadata": {},
     "output_type": "display_data"
    },
    {
     "data": {
      "text/html": [
       "<pre>| 8         | 4000     | 11416.553254 | 0.004750          |                     | 17.510275       |</pre>"
      ],
      "text/plain": [
       "| 8         | 4000     | 11416.553254 | 0.004750          |                     | 17.510275       |"
      ]
     },
     "metadata": {},
     "output_type": "display_data"
    },
    {
     "data": {
      "text/html": [
       "<pre>| 8         | 4200     | 11428.202049 | 0.004524          |                     | 17.169146       |</pre>"
      ],
      "text/plain": [
       "| 8         | 4200     | 11428.202049 | 0.004524          |                     | 17.169146       |"
      ]
     },
     "metadata": {},
     "output_type": "display_data"
    },
    {
     "data": {
      "text/html": [
       "<pre>| 8         | 4400     | 11438.420237 | 0.004318          |                     | 19.572937       |</pre>"
      ],
      "text/plain": [
       "| 8         | 4400     | 11438.420237 | 0.004318          |                     | 19.572937       |"
      ]
     },
     "metadata": {},
     "output_type": "display_data"
    },
    {
     "data": {
      "text/html": [
       "<pre>| 8         | 4600     | 11449.295338 | 0.004783          |                     | 18.390625       |</pre>"
      ],
      "text/plain": [
       "| 8         | 4600     | 11449.295338 | 0.004783          |                     | 18.390625       |"
      ]
     },
     "metadata": {},
     "output_type": "display_data"
    },
    {
     "data": {
      "text/html": [
       "<pre>| 8         | 4800     | 11460.202536 | 0.004583          |                     | 18.336519       |</pre>"
      ],
      "text/plain": [
       "| 8         | 4800     | 11460.202536 | 0.004583          |                     | 18.336519       |"
      ]
     },
     "metadata": {},
     "output_type": "display_data"
    },
    {
     "data": {
      "text/html": [
       "<pre>| 8         | 5000     | 11471.892304 | 0.004600          |                     | 17.109009       |</pre>"
      ],
      "text/plain": [
       "| 8         | 5000     | 11471.892304 | 0.004600          |                     | 17.109009       |"
      ]
     },
     "metadata": {},
     "output_type": "display_data"
    },
    {
     "data": {
      "text/html": [
       "<pre>| 8         | 5200     | 11483.208731 | 0.004615          |                     | 17.673386       |</pre>"
      ],
      "text/plain": [
       "| 8         | 5200     | 11483.208731 | 0.004615          |                     | 17.673386       |"
      ]
     },
     "metadata": {},
     "output_type": "display_data"
    },
    {
     "data": {
      "text/html": [
       "<pre>| 8         | 5400     | 11494.264441 | 0.004630          |                     | 18.090214       |</pre>"
      ],
      "text/plain": [
       "| 8         | 5400     | 11494.264441 | 0.004630          |                     | 18.090214       |"
      ]
     },
     "metadata": {},
     "output_type": "display_data"
    },
    {
     "data": {
      "text/html": [
       "<pre>| 8         | 5600     | 11504.819708 | 0.004643          |                     | 18.947887       |</pre>"
      ],
      "text/plain": [
       "| 8         | 5600     | 11504.819708 | 0.004643          |                     | 18.947887       |"
      ]
     },
     "metadata": {},
     "output_type": "display_data"
    },
    {
     "data": {
      "text/html": [
       "<pre>| 8         | 5800     | 11515.287923 | 0.004483          |                     | 19.105499       |</pre>"
      ],
      "text/plain": [
       "| 8         | 5800     | 11515.287923 | 0.004483          |                     | 19.105499       |"
      ]
     },
     "metadata": {},
     "output_type": "display_data"
    },
    {
     "data": {
      "text/html": [
       "<pre>| 8         | 6000     | 11527.550630 | 0.004833          |                     | 16.309587       |</pre>"
      ],
      "text/plain": [
       "| 8         | 6000     | 11527.550630 | 0.004833          |                     | 16.309587       |"
      ]
     },
     "metadata": {},
     "output_type": "display_data"
    },
    {
     "data": {
      "text/html": [
       "<pre>| 8         | 6200     | 11538.233881 | 0.005000          |                     | 18.720877       |</pre>"
      ],
      "text/plain": [
       "| 8         | 6200     | 11538.233881 | 0.005000          |                     | 18.720877       |"
      ]
     },
     "metadata": {},
     "output_type": "display_data"
    },
    {
     "data": {
      "text/html": [
       "<pre>| 8         | 6400     | 11548.859422 | 0.004844          |                     | 18.822571       |</pre>"
      ],
      "text/plain": [
       "| 8         | 6400     | 11548.859422 | 0.004844          |                     | 18.822571       |"
      ]
     },
     "metadata": {},
     "output_type": "display_data"
    },
    {
     "data": {
      "text/html": [
       "<pre>| 8         | 6600     | 11560.622900 | 0.004697          |                     | 17.001768       |</pre>"
      ],
      "text/plain": [
       "| 8         | 6600     | 11560.622900 | 0.004697          |                     | 17.001768       |"
      ]
     },
     "metadata": {},
     "output_type": "display_data"
    },
    {
     "data": {
      "text/html": [
       "<pre>| 8         | 6800     | 11572.212239 | 0.004559          |                     | 17.257280       |</pre>"
      ],
      "text/plain": [
       "| 8         | 6800     | 11572.212239 | 0.004559          |                     | 17.257280       |"
      ]
     },
     "metadata": {},
     "output_type": "display_data"
    },
    {
     "data": {
      "text/html": [
       "<pre>| 8         | 7000     | 11583.686304 | 0.005000          |                     | 17.430569       |</pre>"
      ],
      "text/plain": [
       "| 8         | 7000     | 11583.686304 | 0.005000          |                     | 17.430569       |"
      ]
     },
     "metadata": {},
     "output_type": "display_data"
    },
    {
     "data": {
      "text/html": [
       "<pre>| 8         | 7200     | 11595.119221 | 0.004861          |                     | 17.493349       |</pre>"
      ],
      "text/plain": [
       "| 8         | 7200     | 11595.119221 | 0.004861          |                     | 17.493349       |"
      ]
     },
     "metadata": {},
     "output_type": "display_data"
    },
    {
     "data": {
      "text/html": [
       "<pre>| 8         | 7400     | 11605.497467 | 0.004730          |                     | 19.271093       |</pre>"
      ],
      "text/plain": [
       "| 8         | 7400     | 11605.497467 | 0.004730          |                     | 19.271093       |"
      ]
     },
     "metadata": {},
     "output_type": "display_data"
    },
    {
     "data": {
      "text/html": [
       "<pre>| 8         | 7600     | 11617.081387 | 0.004868          |                     | 17.265312       |</pre>"
      ],
      "text/plain": [
       "| 8         | 7600     | 11617.081387 | 0.004868          |                     | 17.265312       |"
      ]
     },
     "metadata": {},
     "output_type": "display_data"
    },
    {
     "data": {
      "text/html": [
       "<pre>| 8         | 7800     | 11629.250494 | 0.005128          |                     | 16.435053       |</pre>"
      ],
      "text/plain": [
       "| 8         | 7800     | 11629.250494 | 0.005128          |                     | 16.435053       |"
      ]
     },
     "metadata": {},
     "output_type": "display_data"
    },
    {
     "data": {
      "text/html": [
       "<pre>| 8         | 8000     | 11640.378398 | 0.005000          |                     | 17.972860       |</pre>"
      ],
      "text/plain": [
       "| 8         | 8000     | 11640.378398 | 0.005000          |                     | 17.972860       |"
      ]
     },
     "metadata": {},
     "output_type": "display_data"
    },
    {
     "data": {
      "text/html": [
       "<pre>| 8         | 8200     | 11651.284844 | 0.005000          |                     | 18.337753       |</pre>"
      ],
      "text/plain": [
       "| 8         | 8200     | 11651.284844 | 0.005000          |                     | 18.337753       |"
      ]
     },
     "metadata": {},
     "output_type": "display_data"
    },
    {
     "data": {
      "text/html": [
       "<pre>| 8         | 8400     | 11663.460627 | 0.005238          |                     | 16.426088       |</pre>"
      ],
      "text/plain": [
       "| 8         | 8400     | 11663.460627 | 0.005238          |                     | 16.426088       |"
      ]
     },
     "metadata": {},
     "output_type": "display_data"
    },
    {
     "data": {
      "text/html": [
       "<pre>| 8         | 8600     | 11675.375834 | 0.005233          |                     | 16.785242       |</pre>"
      ],
      "text/plain": [
       "| 8         | 8600     | 11675.375834 | 0.005233          |                     | 16.785242       |"
      ]
     },
     "metadata": {},
     "output_type": "display_data"
    },
    {
     "data": {
      "text/html": [
       "<pre>| 8         | 8800     | 11685.944677 | 0.005227          |                     | 18.923546       |</pre>"
      ],
      "text/plain": [
       "| 8         | 8800     | 11685.944677 | 0.005227          |                     | 18.923546       |"
      ]
     },
     "metadata": {},
     "output_type": "display_data"
    },
    {
     "data": {
      "text/html": [
       "<pre>| 8         | 9000     | 11696.810044 | 0.005111          |                     | 18.407108       |</pre>"
      ],
      "text/plain": [
       "| 8         | 9000     | 11696.810044 | 0.005111          |                     | 18.407108       |"
      ]
     },
     "metadata": {},
     "output_type": "display_data"
    },
    {
     "data": {
      "text/html": [
       "<pre>| 8         | 9200     | 11709.165659 | 0.005217          |                     | 16.186995       |</pre>"
      ],
      "text/plain": [
       "| 8         | 9200     | 11709.165659 | 0.005217          |                     | 16.186995       |"
      ]
     },
     "metadata": {},
     "output_type": "display_data"
    },
    {
     "data": {
      "text/html": [
       "<pre>| 8         | 9400     | 11720.970527 | 0.005319          |                     | 16.942144       |</pre>"
      ],
      "text/plain": [
       "| 8         | 9400     | 11720.970527 | 0.005319          |                     | 16.942144       |"
      ]
     },
     "metadata": {},
     "output_type": "display_data"
    },
    {
     "data": {
      "text/html": [
       "<pre>| 8         | 9600     | 11731.953131 | 0.005313          |                     | 18.210598       |</pre>"
      ],
      "text/plain": [
       "| 8         | 9600     | 11731.953131 | 0.005313          |                     | 18.210598       |"
      ]
     },
     "metadata": {},
     "output_type": "display_data"
    },
    {
     "data": {
      "text/html": [
       "<pre>| 8         | 9800     | 11744.206601 | 0.005306          |                     | 16.321909       |</pre>"
      ],
      "text/plain": [
       "| 8         | 9800     | 11744.206601 | 0.005306          |                     | 16.321909       |"
      ]
     },
     "metadata": {},
     "output_type": "display_data"
    },
    {
     "data": {
      "text/html": [
       "<pre>| 8         | 10000    | 11756.379347 | 0.005400          |                     | 16.430189       |</pre>"
      ],
      "text/plain": [
       "| 8         | 10000    | 11756.379347 | 0.005400          |                     | 16.430189       |"
      ]
     },
     "metadata": {},
     "output_type": "display_data"
    },
    {
     "data": {
      "text/html": [
       "<pre>| 8         | 10200    | 11767.530259 | 0.005392          |                     | 17.935711       |</pre>"
      ],
      "text/plain": [
       "| 8         | 10200    | 11767.530259 | 0.005392          |                     | 17.935711       |"
      ]
     },
     "metadata": {},
     "output_type": "display_data"
    },
    {
     "data": {
      "text/html": [
       "<pre>| 8         | 10400    | 11779.102504 | 0.005673          |                     | 17.282778       |</pre>"
      ],
      "text/plain": [
       "| 8         | 10400    | 11779.102504 | 0.005673          |                     | 17.282778       |"
      ]
     },
     "metadata": {},
     "output_type": "display_data"
    },
    {
     "data": {
      "text/html": [
       "<pre>| 8         | 10600    | 11789.528687 | 0.005566          |                     | 19.182417       |</pre>"
      ],
      "text/plain": [
       "| 8         | 10600    | 11789.528687 | 0.005566          |                     | 19.182417       |"
      ]
     },
     "metadata": {},
     "output_type": "display_data"
    },
    {
     "data": {
      "text/html": [
       "<pre>| 8         | 10800    | 11801.068256 | 0.005556          |                     | 17.331701       |</pre>"
      ],
      "text/plain": [
       "| 8         | 10800    | 11801.068256 | 0.005556          |                     | 17.331701       |"
      ]
     },
     "metadata": {},
     "output_type": "display_data"
    },
    {
     "data": {
      "text/html": [
       "<pre>| 8         | 11000    | 11812.860869 | 0.005455          |                     | 16.959764       |</pre>"
      ],
      "text/plain": [
       "| 8         | 11000    | 11812.860869 | 0.005455          |                     | 16.959764       |"
      ]
     },
     "metadata": {},
     "output_type": "display_data"
    },
    {
     "data": {
      "text/html": [
       "<pre>| 8         | 11200    | 11823.809251 | 0.005446          |                     | 18.267544       |</pre>"
      ],
      "text/plain": [
       "| 8         | 11200    | 11823.809251 | 0.005446          |                     | 18.267544       |"
      ]
     },
     "metadata": {},
     "output_type": "display_data"
    },
    {
     "data": {
      "text/html": [
       "<pre>| 8         | 11400    | 11834.845867 | 0.005351          |                     | 18.121500       |</pre>"
      ],
      "text/plain": [
       "| 8         | 11400    | 11834.845867 | 0.005351          |                     | 18.121500       |"
      ]
     },
     "metadata": {},
     "output_type": "display_data"
    },
    {
     "data": {
      "text/html": [
       "<pre>| 8         | 11600    | 11846.849206 | 0.005345          |                     | 16.662029       |</pre>"
      ],
      "text/plain": [
       "| 8         | 11600    | 11846.849206 | 0.005345          |                     | 16.662029       |"
      ]
     },
     "metadata": {},
     "output_type": "display_data"
    },
    {
     "data": {
      "text/html": [
       "<pre>| 8         | 11800    | 11858.547164 | 0.005254          |                     | 17.096972       |</pre>"
      ],
      "text/plain": [
       "| 8         | 11800    | 11858.547164 | 0.005254          |                     | 17.096972       |"
      ]
     },
     "metadata": {},
     "output_type": "display_data"
    },
    {
     "data": {
      "text/html": [
       "<pre>| 8         | 12000    | 11869.824623 | 0.005167          |                     | 17.734514       |</pre>"
      ],
      "text/plain": [
       "| 8         | 12000    | 11869.824623 | 0.005167          |                     | 17.734514       |"
      ]
     },
     "metadata": {},
     "output_type": "display_data"
    },
    {
     "data": {
      "text/html": [
       "<pre>| 8         | 12200    | 11880.879520 | 0.005246          |                     | 18.091536       |</pre>"
      ],
      "text/plain": [
       "| 8         | 12200    | 11880.879520 | 0.005246          |                     | 18.091536       |"
      ]
     },
     "metadata": {},
     "output_type": "display_data"
    },
    {
     "data": {
      "text/html": [
       "<pre>| 8         | 12400    | 11893.298721 | 0.005403          |                     | 16.104103       |</pre>"
      ],
      "text/plain": [
       "| 8         | 12400    | 11893.298721 | 0.005403          |                     | 16.104103       |"
      ]
     },
     "metadata": {},
     "output_type": "display_data"
    },
    {
     "data": {
      "text/html": [
       "<pre>| 8         | 12600    | 11904.412869 | 0.005397          |                     | 17.995068       |</pre>"
      ],
      "text/plain": [
       "| 8         | 12600    | 11904.412869 | 0.005397          |                     | 17.995068       |"
      ]
     },
     "metadata": {},
     "output_type": "display_data"
    },
    {
     "data": {
      "text/html": [
       "<pre>| 8         | 12800    | 11915.341871 | 0.005547          |                     | 18.299934       |</pre>"
      ],
      "text/plain": [
       "| 8         | 12800    | 11915.341871 | 0.005547          |                     | 18.299934       |"
      ]
     },
     "metadata": {},
     "output_type": "display_data"
    },
    {
     "data": {
      "text/html": [
       "<pre>| 8         | 13000    | 11926.441210 | 0.005538          |                     | 18.019098       |</pre>"
      ],
      "text/plain": [
       "| 8         | 13000    | 11926.441210 | 0.005538          |                     | 18.019098       |"
      ]
     },
     "metadata": {},
     "output_type": "display_data"
    },
    {
     "data": {
      "text/html": [
       "<pre>| 8         | 13200    | 11937.917540 | 0.005455          |                     | 17.427181       |</pre>"
      ],
      "text/plain": [
       "| 8         | 13200    | 11937.917540 | 0.005455          |                     | 17.427181       |"
      ]
     },
     "metadata": {},
     "output_type": "display_data"
    },
    {
     "data": {
      "text/html": [
       "<pre>| 8         | 13400    | 11949.505361 | 0.005373          |                     | 17.259459       |</pre>"
      ],
      "text/plain": [
       "| 8         | 13400    | 11949.505361 | 0.005373          |                     | 17.259459       |"
      ]
     },
     "metadata": {},
     "output_type": "display_data"
    },
    {
     "data": {
      "text/html": [
       "<pre>| 8         | 13600    | 11961.263972 | 0.005368          |                     | 17.008842       |</pre>"
      ],
      "text/plain": [
       "| 8         | 13600    | 11961.263972 | 0.005368          |                     | 17.008842       |"
      ]
     },
     "metadata": {},
     "output_type": "display_data"
    },
    {
     "data": {
      "text/html": [
       "<pre>| 8         | 13800    | 11972.608245 | 0.005435          |                     | 17.630005       |</pre>"
      ],
      "text/plain": [
       "| 8         | 13800    | 11972.608245 | 0.005435          |                     | 17.630005       |"
      ]
     },
     "metadata": {},
     "output_type": "display_data"
    },
    {
     "data": {
      "text/html": [
       "<pre>| 8         | 14000    | 11984.940498 | 0.005357          |                     | 16.217680       |</pre>"
      ],
      "text/plain": [
       "| 8         | 14000    | 11984.940498 | 0.005357          |                     | 16.217680       |"
      ]
     },
     "metadata": {},
     "output_type": "display_data"
    },
    {
     "data": {
      "text/html": [
       "<pre>| 8         | 14200    | 11996.618817 | 0.005563          |                     | 17.125738       |</pre>"
      ],
      "text/plain": [
       "| 8         | 14200    | 11996.618817 | 0.005563          |                     | 17.125738       |"
      ]
     },
     "metadata": {},
     "output_type": "display_data"
    },
    {
     "data": {
      "text/html": [
       "<pre>| 8         | 14400    | 12007.911072 | 0.005556          |                     | 17.711235       |</pre>"
      ],
      "text/plain": [
       "| 8         | 14400    | 12007.911072 | 0.005556          |                     | 17.711235       |"
      ]
     },
     "metadata": {},
     "output_type": "display_data"
    },
    {
     "data": {
      "text/html": [
       "<pre>| 8         | 14600    | 12019.467275 | 0.005616          |                     | 17.306742       |</pre>"
      ],
      "text/plain": [
       "| 8         | 14600    | 12019.467275 | 0.005616          |                     | 17.306742       |"
      ]
     },
     "metadata": {},
     "output_type": "display_data"
    },
    {
     "data": {
      "text/html": [
       "<pre>| 8         | 14800    | 12031.448504 | 0.005608          |                     | 16.692780       |</pre>"
      ],
      "text/plain": [
       "| 8         | 14800    | 12031.448504 | 0.005608          |                     | 16.692780       |"
      ]
     },
     "metadata": {},
     "output_type": "display_data"
    },
    {
     "data": {
      "text/html": [
       "<pre>| 8         | 15000    | 12042.567233 | 0.005600          |                     | 17.987640       |</pre>"
      ],
      "text/plain": [
       "| 8         | 15000    | 12042.567233 | 0.005600          |                     | 17.987640       |"
      ]
     },
     "metadata": {},
     "output_type": "display_data"
    },
    {
     "data": {
      "text/html": [
       "<pre>| 8         | 15200    | 12053.238015 | 0.005526          |                     | 18.742758       |</pre>"
      ],
      "text/plain": [
       "| 8         | 15200    | 12053.238015 | 0.005526          |                     | 18.742758       |"
      ]
     },
     "metadata": {},
     "output_type": "display_data"
    },
    {
     "data": {
      "text/html": [
       "<pre>| 8         | 15400    | 12063.997035 | 0.005519          |                     | 18.589096       |</pre>"
      ],
      "text/plain": [
       "| 8         | 15400    | 12063.997035 | 0.005519          |                     | 18.589096       |"
      ]
     },
     "metadata": {},
     "output_type": "display_data"
    },
    {
     "data": {
      "text/html": [
       "<pre>| 8         | 15600    | 12076.618287 | 0.005577          |                     | 15.846292       |</pre>"
      ],
      "text/plain": [
       "| 8         | 15600    | 12076.618287 | 0.005577          |                     | 15.846292       |"
      ]
     },
     "metadata": {},
     "output_type": "display_data"
    },
    {
     "data": {
      "text/html": [
       "<pre>| 8         | 15800    | 12087.632588 | 0.005633          |                     | 18.158173       |</pre>"
      ],
      "text/plain": [
       "| 8         | 15800    | 12087.632588 | 0.005633          |                     | 18.158173       |"
      ]
     },
     "metadata": {},
     "output_type": "display_data"
    },
    {
     "data": {
      "text/html": [
       "<pre>| 8         | 16000    | 12098.183271 | 0.005563          |                     | 18.956120       |</pre>"
      ],
      "text/plain": [
       "| 8         | 16000    | 12098.183271 | 0.005563          |                     | 18.956120       |"
      ]
     },
     "metadata": {},
     "output_type": "display_data"
    },
    {
     "data": {
      "text/html": [
       "<pre>| 8         | 16200    | 12109.477066 | 0.005494          |                     | 17.708872       |</pre>"
      ],
      "text/plain": [
       "| 8         | 16200    | 12109.477066 | 0.005494          |                     | 17.708872       |"
      ]
     },
     "metadata": {},
     "output_type": "display_data"
    },
    {
     "data": {
      "text/html": [
       "<pre>| 8         | 16400    | 12121.088402 | 0.005427          |                     | 17.224539       |</pre>"
      ],
      "text/plain": [
       "| 8         | 16400    | 12121.088402 | 0.005427          |                     | 17.224539       |"
      ]
     },
     "metadata": {},
     "output_type": "display_data"
    },
    {
     "data": {
      "text/html": [
       "<pre>| 8         | 16600    | 12132.379120 | 0.005422          |                     | 17.713640       |</pre>"
      ],
      "text/plain": [
       "| 8         | 16600    | 12132.379120 | 0.005422          |                     | 17.713640       |"
      ]
     },
     "metadata": {},
     "output_type": "display_data"
    },
    {
     "data": {
      "text/html": [
       "<pre>| 8         | 16800    | 12144.318163 | 0.005476          |                     | 16.751760       |</pre>"
      ],
      "text/plain": [
       "| 8         | 16800    | 12144.318163 | 0.005476          |                     | 16.751760       |"
      ]
     },
     "metadata": {},
     "output_type": "display_data"
    },
    {
     "data": {
      "text/html": [
       "<pre>| 8         | 17000    | 12154.860938 | 0.005471          |                     | 18.970369       |</pre>"
      ],
      "text/plain": [
       "| 8         | 17000    | 12154.860938 | 0.005471          |                     | 18.970369       |"
      ]
     },
     "metadata": {},
     "output_type": "display_data"
    },
    {
     "data": {
      "text/html": [
       "<pre>| 8         | 17200    | 12166.287214 | 0.005407          |                     | 17.503521       |</pre>"
      ],
      "text/plain": [
       "| 8         | 17200    | 12166.287214 | 0.005407          |                     | 17.503521       |"
      ]
     },
     "metadata": {},
     "output_type": "display_data"
    },
    {
     "data": {
      "text/html": [
       "<pre>| 8         | 17400    | 12178.102308 | 0.005460          |                     | 16.927507       |</pre>"
      ],
      "text/plain": [
       "| 8         | 17400    | 12178.102308 | 0.005460          |                     | 16.927507       |"
      ]
     },
     "metadata": {},
     "output_type": "display_data"
    },
    {
     "data": {
      "text/html": [
       "<pre>| 8         | 17600    | 12188.608449 | 0.005455          |                     | 19.036430       |</pre>"
      ],
      "text/plain": [
       "| 8         | 17600    | 12188.608449 | 0.005455          |                     | 19.036430       |"
      ]
     },
     "metadata": {},
     "output_type": "display_data"
    },
    {
     "data": {
      "text/html": [
       "<pre>| 8         | 17800    | 12199.284219 | 0.005449          |                     | 18.734018       |</pre>"
      ],
      "text/plain": [
       "| 8         | 17800    | 12199.284219 | 0.005449          |                     | 18.734018       |"
      ]
     },
     "metadata": {},
     "output_type": "display_data"
    },
    {
     "data": {
      "text/html": [
       "<pre>| 8         | 18000    | 12210.051477 | 0.005556          |                     | 18.574881       |</pre>"
      ],
      "text/plain": [
       "| 8         | 18000    | 12210.051477 | 0.005556          |                     | 18.574881       |"
      ]
     },
     "metadata": {},
     "output_type": "display_data"
    },
    {
     "data": {
      "text/html": [
       "<pre>| 8         | 18200    | 12222.644748 | 0.005495          |                     | 15.881466       |</pre>"
      ],
      "text/plain": [
       "| 8         | 18200    | 12222.644748 | 0.005495          |                     | 15.881466       |"
      ]
     },
     "metadata": {},
     "output_type": "display_data"
    },
    {
     "data": {
      "text/html": [
       "<pre>| 8         | 18400    | 12233.670038 | 0.005598          |                     | 18.140112       |</pre>"
      ],
      "text/plain": [
       "| 8         | 18400    | 12233.670038 | 0.005598          |                     | 18.140112       |"
      ]
     },
     "metadata": {},
     "output_type": "display_data"
    },
    {
     "data": {
      "text/html": [
       "<pre>| 8         | 18600    | 12245.816024 | 0.005538          |                     | 16.466360       |</pre>"
      ],
      "text/plain": [
       "| 8         | 18600    | 12245.816024 | 0.005538          |                     | 16.466360       |"
      ]
     },
     "metadata": {},
     "output_type": "display_data"
    },
    {
     "data": {
      "text/html": [
       "<pre>| 8         | 18800    | 12258.026798 | 0.005479          |                     | 16.378984       |</pre>"
      ],
      "text/plain": [
       "| 8         | 18800    | 12258.026798 | 0.005479          |                     | 16.378984       |"
      ]
     },
     "metadata": {},
     "output_type": "display_data"
    },
    {
     "data": {
      "text/html": [
       "<pre>| 8         | 19000    | 12269.573573 | 0.005474          |                     | 17.320839       |</pre>"
      ],
      "text/plain": [
       "| 8         | 19000    | 12269.573573 | 0.005474          |                     | 17.320839       |"
      ]
     },
     "metadata": {},
     "output_type": "display_data"
    },
    {
     "data": {
      "text/html": [
       "<pre>| 8         | 19200    | 12279.913733 | 0.005521          |                     | 19.342077       |</pre>"
      ],
      "text/plain": [
       "| 8         | 19200    | 12279.913733 | 0.005521          |                     | 19.342077       |"
      ]
     },
     "metadata": {},
     "output_type": "display_data"
    },
    {
     "data": {
      "text/html": [
       "<pre>| 8         | 19400    | 12291.258033 | 0.005464          |                     | 17.629978       |</pre>"
      ],
      "text/plain": [
       "| 8         | 19400    | 12291.258033 | 0.005464          |                     | 17.629978       |"
      ]
     },
     "metadata": {},
     "output_type": "display_data"
    },
    {
     "data": {
      "text/html": [
       "<pre>| 8         | 19600    | 12301.982397 | 0.005408          |                     | 18.649149       |</pre>"
      ],
      "text/plain": [
       "| 8         | 19600    | 12301.982397 | 0.005408          |                     | 18.649149       |"
      ]
     },
     "metadata": {},
     "output_type": "display_data"
    },
    {
     "data": {
      "text/html": [
       "<pre>| 8         | 19800    | 12313.968773 | 0.005404          |                     | 16.685610       |</pre>"
      ],
      "text/plain": [
       "| 8         | 19800    | 12313.968773 | 0.005404          |                     | 16.685610       |"
      ]
     },
     "metadata": {},
     "output_type": "display_data"
    },
    {
     "data": {
      "text/html": [
       "<pre>| 8         | 20000    | 12325.263648 | 0.005400          |                     | 17.707115       |</pre>"
      ],
      "text/plain": [
       "| 8         | 20000    | 12325.263648 | 0.005400          |                     | 17.707115       |"
      ]
     },
     "metadata": {},
     "output_type": "display_data"
    },
    {
     "data": {
      "text/html": [
       "<pre>| 8         | 20200    | 12335.446264 | 0.005396          |                     | 19.641365       |</pre>"
      ],
      "text/plain": [
       "| 8         | 20200    | 12335.446264 | 0.005396          |                     | 19.641365       |"
      ]
     },
     "metadata": {},
     "output_type": "display_data"
    },
    {
     "data": {
      "text/html": [
       "<pre>| 8         | 20400    | 12346.602148 | 0.005441          |                     | 17.927742       |</pre>"
      ],
      "text/plain": [
       "| 8         | 20400    | 12346.602148 | 0.005441          |                     | 17.927742       |"
      ]
     },
     "metadata": {},
     "output_type": "display_data"
    },
    {
     "data": {
      "text/html": [
       "<pre>| 8         | 20600    | 12359.083254 | 0.005485          |                     | 16.024197       |</pre>"
      ],
      "text/plain": [
       "| 8         | 20600    | 12359.083254 | 0.005485          |                     | 16.024197       |"
      ]
     },
     "metadata": {},
     "output_type": "display_data"
    },
    {
     "data": {
      "text/html": [
       "<pre>| 8         | 20800    | 12370.473419 | 0.005529          |                     | 17.559002       |</pre>"
      ],
      "text/plain": [
       "| 8         | 20800    | 12370.473419 | 0.005529          |                     | 17.559002       |"
      ]
     },
     "metadata": {},
     "output_type": "display_data"
    },
    {
     "data": {
      "text/html": [
       "<pre>| 8         | 21000    | 12381.155157 | 0.005476          |                     | 18.723591       |</pre>"
      ],
      "text/plain": [
       "| 8         | 21000    | 12381.155157 | 0.005476          |                     | 18.723591       |"
      ]
     },
     "metadata": {},
     "output_type": "display_data"
    },
    {
     "data": {
      "text/html": [
       "<pre>| 8         | 21200    | 12392.516314 | 0.005472          |                     | 17.603836       |</pre>"
      ],
      "text/plain": [
       "| 8         | 21200    | 12392.516314 | 0.005472          |                     | 17.603836       |"
      ]
     },
     "metadata": {},
     "output_type": "display_data"
    },
    {
     "data": {
      "text/html": [
       "<pre>| 8         | 21400    | 12404.312449 | 0.005421          |                     | 16.954721       |</pre>"
      ],
      "text/plain": [
       "| 8         | 21400    | 12404.312449 | 0.005421          |                     | 16.954721       |"
      ]
     },
     "metadata": {},
     "output_type": "display_data"
    },
    {
     "data": {
      "text/html": [
       "<pre>| 8         | 21600    | 12415.973365 | 0.005417          |                     | 17.151279       |</pre>"
      ],
      "text/plain": [
       "| 8         | 21600    | 12415.973365 | 0.005417          |                     | 17.151279       |"
      ]
     },
     "metadata": {},
     "output_type": "display_data"
    },
    {
     "data": {
      "text/html": [
       "<pre>| 8         | 21800    | 12427.405105 | 0.005459          |                     | 17.495176       |</pre>"
      ],
      "text/plain": [
       "| 8         | 21800    | 12427.405105 | 0.005459          |                     | 17.495176       |"
      ]
     },
     "metadata": {},
     "output_type": "display_data"
    },
    {
     "data": {
      "text/html": [
       "<pre>| 8         | 22000    | 12438.671889 | 0.005409          |                     | 17.751265       |</pre>"
      ],
      "text/plain": [
       "| 8         | 22000    | 12438.671889 | 0.005409          |                     | 17.751265       |"
      ]
     },
     "metadata": {},
     "output_type": "display_data"
    },
    {
     "data": {
      "text/html": [
       "<pre>| 8         | 22200    | 12450.167700 | 0.005360          |                     | 17.397675       |</pre>"
      ],
      "text/plain": [
       "| 8         | 22200    | 12450.167700 | 0.005360          |                     | 17.397675       |"
      ]
     },
     "metadata": {},
     "output_type": "display_data"
    },
    {
     "data": {
      "text/html": [
       "<pre>| 8         | 22400    | 12461.503156 | 0.005313          |                     | 17.643751       |</pre>"
      ],
      "text/plain": [
       "| 8         | 22400    | 12461.503156 | 0.005313          |                     | 17.643751       |"
      ]
     },
     "metadata": {},
     "output_type": "display_data"
    },
    {
     "data": {
      "text/html": [
       "<pre>| 8         | 22600    | 12473.606945 | 0.005398          |                     | 16.523716       |</pre>"
      ],
      "text/plain": [
       "| 8         | 22600    | 12473.606945 | 0.005398          |                     | 16.523716       |"
      ]
     },
     "metadata": {},
     "output_type": "display_data"
    },
    {
     "data": {
      "text/html": [
       "<pre>| 8         | 22800    | 12484.048553 | 0.005395          |                     | 19.154133       |</pre>"
      ],
      "text/plain": [
       "| 8         | 22800    | 12484.048553 | 0.005395          |                     | 19.154133       |"
      ]
     },
     "metadata": {},
     "output_type": "display_data"
    },
    {
     "data": {
      "text/html": [
       "<pre>| 8         | 23100    | 12500.117370 | 0.005455          |                     | 18.669733       |</pre>"
      ],
      "text/plain": [
       "| 8         | 23100    | 12500.117370 | 0.005455          |                     | 18.669733       |"
      ]
     },
     "metadata": {},
     "output_type": "display_data"
    },
    {
     "data": {
      "text/html": [
       "<pre>| 8         | 23300    | 12511.570039 | 0.005408          |                     | 17.463142       |</pre>"
      ],
      "text/plain": [
       "| 8         | 23300    | 12511.570039 | 0.005408          |                     | 17.463142       |"
      ]
     },
     "metadata": {},
     "output_type": "display_data"
    },
    {
     "data": {
      "text/html": [
       "<pre>| 8         | 23500    | 12521.857840 | 0.005362          |                     | 19.440512       |</pre>"
      ],
      "text/plain": [
       "| 8         | 23500    | 12521.857840 | 0.005362          |                     | 19.440512       |"
      ]
     },
     "metadata": {},
     "output_type": "display_data"
    },
    {
     "data": {
      "text/html": [
       "<pre>| 8         | 23700    | 12532.650221 | 0.005359          |                     | 18.531614       |</pre>"
      ],
      "text/plain": [
       "| 8         | 23700    | 12532.650221 | 0.005359          |                     | 18.531614       |"
      ]
     },
     "metadata": {},
     "output_type": "display_data"
    },
    {
     "data": {
      "text/html": [
       "<pre>| 8         | 23900    | 12544.252498 | 0.005397          |                     | 17.238003       |</pre>"
      ],
      "text/plain": [
       "| 8         | 23900    | 12544.252498 | 0.005397          |                     | 17.238003       |"
      ]
     },
     "metadata": {},
     "output_type": "display_data"
    },
    {
     "data": {
      "text/html": [
       "<pre>| 8         | 24100    | 12556.540832 | 0.005436          |                     | 16.275583       |</pre>"
      ],
      "text/plain": [
       "| 8         | 24100    | 12556.540832 | 0.005436          |                     | 16.275583       |"
      ]
     },
     "metadata": {},
     "output_type": "display_data"
    },
    {
     "data": {
      "text/html": [
       "<pre>| 8         | 24300    | 12567.082768 | 0.005432          |                     | 18.971878       |</pre>"
      ],
      "text/plain": [
       "| 8         | 24300    | 12567.082768 | 0.005432          |                     | 18.971878       |"
      ]
     },
     "metadata": {},
     "output_type": "display_data"
    },
    {
     "data": {
      "text/html": [
       "<pre>| 8         | 24500    | 12578.081913 | 0.005510          |                     | 18.183210       |</pre>"
      ],
      "text/plain": [
       "| 8         | 24500    | 12578.081913 | 0.005510          |                     | 18.183210       |"
      ]
     },
     "metadata": {},
     "output_type": "display_data"
    },
    {
     "data": {
      "text/html": [
       "<pre>| 8         | 24700    | 12588.606993 | 0.005466          |                     | 19.002209       |</pre>"
      ],
      "text/plain": [
       "| 8         | 24700    | 12588.606993 | 0.005466          |                     | 19.002209       |"
      ]
     },
     "metadata": {},
     "output_type": "display_data"
    },
    {
     "data": {
      "text/html": [
       "<pre>| 8         | 24900    | 12599.976067 | 0.005422          |                     | 17.591618       |</pre>"
      ],
      "text/plain": [
       "| 8         | 24900    | 12599.976067 | 0.005422          |                     | 17.591618       |"
      ]
     },
     "metadata": {},
     "output_type": "display_data"
    },
    {
     "data": {
      "text/html": [
       "<pre>| 8         | 25100    | 12612.287296 | 0.005378          |                     | 16.245314       |</pre>"
      ],
      "text/plain": [
       "| 8         | 25100    | 12612.287296 | 0.005378          |                     | 16.245314       |"
      ]
     },
     "metadata": {},
     "output_type": "display_data"
    },
    {
     "data": {
      "text/html": [
       "<pre>| 8         | 25300    | 12622.733081 | 0.005375          |                     | 19.146496       |</pre>"
      ],
      "text/plain": [
       "| 8         | 25300    | 12622.733081 | 0.005375          |                     | 19.146496       |"
      ]
     },
     "metadata": {},
     "output_type": "display_data"
    },
    {
     "data": {
      "text/html": [
       "<pre>| 8         | 25500    | 12633.849845 | 0.005333          |                     | 17.990810       |</pre>"
      ],
      "text/plain": [
       "| 8         | 25500    | 12633.849845 | 0.005333          |                     | 17.990810       |"
      ]
     },
     "metadata": {},
     "output_type": "display_data"
    },
    {
     "data": {
      "text/html": [
       "<pre>| 8         | 25700    | 12645.989985 | 0.005331          |                     | 16.474314       |</pre>"
      ],
      "text/plain": [
       "| 8         | 25700    | 12645.989985 | 0.005331          |                     | 16.474314       |"
      ]
     },
     "metadata": {},
     "output_type": "display_data"
    },
    {
     "data": {
      "text/html": [
       "<pre>| 8         | 25900    | 12657.992154 | 0.005290          |                     | 16.663622       |</pre>"
      ],
      "text/plain": [
       "| 8         | 25900    | 12657.992154 | 0.005290          |                     | 16.663622       |"
      ]
     },
     "metadata": {},
     "output_type": "display_data"
    },
    {
     "data": {
      "text/html": [
       "<pre>| 8         | 26100    | 12669.163788 | 0.005287          |                     | 17.902485       |</pre>"
      ],
      "text/plain": [
       "| 8         | 26100    | 12669.163788 | 0.005287          |                     | 17.902485       |"
      ]
     },
     "metadata": {},
     "output_type": "display_data"
    },
    {
     "data": {
      "text/html": [
       "<pre>| 8         | 26300    | 12681.037364 | 0.005285          |                     | 16.844120       |</pre>"
      ],
      "text/plain": [
       "| 8         | 26300    | 12681.037364 | 0.005285          |                     | 16.844120       |"
      ]
     },
     "metadata": {},
     "output_type": "display_data"
    },
    {
     "data": {
      "text/html": [
       "<pre>| 8         | 26500    | 12693.447879 | 0.005358          |                     | 16.115360       |</pre>"
      ],
      "text/plain": [
       "| 8         | 26500    | 12693.447879 | 0.005358          |                     | 16.115360       |"
      ]
     },
     "metadata": {},
     "output_type": "display_data"
    },
    {
     "data": {
      "text/html": [
       "<pre>| 8         | 26600    | 12965.663004 | 0.005338          | 0.005375            | 0.367357        |</pre>"
      ],
      "text/plain": [
       "| 8         | 26600    | 12965.663004 | 0.005338          | 0.005375            | 0.367357        |"
      ]
     },
     "metadata": {},
     "output_type": "display_data"
    },
    {
     "data": {
      "text/html": [
       "<pre>Checkpointing model into rep IDSIA by 1 conv graphlab net - train in 10 iters</pre>"
      ],
      "text/plain": [
       "Checkpointing model into rep IDSIA by 1 conv graphlab net - train in 10 iters"
      ]
     },
     "metadata": {},
     "output_type": "display_data"
    },
    {
     "data": {
      "text/html": [
       "<pre>| 9         | 200      | 12978.499285 | 0.005000          |                     | 15.682399       |</pre>"
      ],
      "text/plain": [
       "| 9         | 200      | 12978.499285 | 0.005000          |                     | 15.682399       |"
      ]
     },
     "metadata": {},
     "output_type": "display_data"
    },
    {
     "data": {
      "text/html": [
       "<pre>| 9         | 400      | 12989.450144 | 0.002500          |                     | 18.263378       |</pre>"
      ],
      "text/plain": [
       "| 9         | 400      | 12989.450144 | 0.002500          |                     | 18.263378       |"
      ]
     },
     "metadata": {},
     "output_type": "display_data"
    },
    {
     "data": {
      "text/html": [
       "<pre>| 9         | 600      | 13000.497434 | 0.003333          |                     | 18.104006       |</pre>"
      ],
      "text/plain": [
       "| 9         | 600      | 13000.497434 | 0.003333          |                     | 18.104006       |"
      ]
     },
     "metadata": {},
     "output_type": "display_data"
    },
    {
     "data": {
      "text/html": [
       "<pre>| 9         | 800      | 13013.011113 | 0.002500          |                     | 15.982527       |</pre>"
      ],
      "text/plain": [
       "| 9         | 800      | 13013.011113 | 0.002500          |                     | 15.982527       |"
      ]
     },
     "metadata": {},
     "output_type": "display_data"
    },
    {
     "data": {
      "text/html": [
       "<pre>| 9         | 1000     | 13023.692576 | 0.003000          |                     | 18.723997       |</pre>"
      ],
      "text/plain": [
       "| 9         | 1000     | 13023.692576 | 0.003000          |                     | 18.723997       |"
      ]
     },
     "metadata": {},
     "output_type": "display_data"
    },
    {
     "data": {
      "text/html": [
       "<pre>| 9         | 1200     | 13034.399597 | 0.003333          |                     | 18.679319       |</pre>"
      ],
      "text/plain": [
       "| 9         | 1200     | 13034.399597 | 0.003333          |                     | 18.679319       |"
      ]
     },
     "metadata": {},
     "output_type": "display_data"
    },
    {
     "data": {
      "text/html": [
       "<pre>| 9         | 1400     | 13045.195383 | 0.002857          |                     | 18.525780       |</pre>"
      ],
      "text/plain": [
       "| 9         | 1400     | 13045.195383 | 0.002857          |                     | 18.525780       |"
      ]
     },
     "metadata": {},
     "output_type": "display_data"
    },
    {
     "data": {
      "text/html": [
       "<pre>| 9         | 1600     | 13057.189453 | 0.003750          |                     | 16.674908       |</pre>"
      ],
      "text/plain": [
       "| 9         | 1600     | 13057.189453 | 0.003750          |                     | 16.674908       |"
      ]
     },
     "metadata": {},
     "output_type": "display_data"
    },
    {
     "data": {
      "text/html": [
       "<pre>| 9         | 1800     | 13068.728887 | 0.004444          |                     | 17.331835       |</pre>"
      ],
      "text/plain": [
       "| 9         | 1800     | 13068.728887 | 0.004444          |                     | 17.331835       |"
      ]
     },
     "metadata": {},
     "output_type": "display_data"
    },
    {
     "data": {
      "text/html": [
       "<pre>| 9         | 2000     | 13079.725514 | 0.004000          |                     | 18.187454       |</pre>"
      ],
      "text/plain": [
       "| 9         | 2000     | 13079.725514 | 0.004000          |                     | 18.187454       |"
      ]
     },
     "metadata": {},
     "output_type": "display_data"
    },
    {
     "data": {
      "text/html": [
       "<pre>| 9         | 2200     | 13090.922646 | 0.003636          |                     | 17.861673       |</pre>"
      ],
      "text/plain": [
       "| 9         | 2200     | 13090.922646 | 0.003636          |                     | 17.861673       |"
      ]
     },
     "metadata": {},
     "output_type": "display_data"
    },
    {
     "data": {
      "text/html": [
       "<pre>| 9         | 2400     | 13101.849420 | 0.003750          |                     | 18.303709       |</pre>"
      ],
      "text/plain": [
       "| 9         | 2400     | 13101.849420 | 0.003750          |                     | 18.303709       |"
      ]
     },
     "metadata": {},
     "output_type": "display_data"
    },
    {
     "data": {
      "text/html": [
       "<pre>| 9         | 2600     | 13113.562241 | 0.005000          |                     | 17.075258       |</pre>"
      ],
      "text/plain": [
       "| 9         | 2600     | 13113.562241 | 0.005000          |                     | 17.075258       |"
      ]
     },
     "metadata": {},
     "output_type": "display_data"
    },
    {
     "data": {
      "text/html": [
       "<pre>| 9         | 2800     | 13124.659542 | 0.005357          |                     | 18.022400       |</pre>"
      ],
      "text/plain": [
       "| 9         | 2800     | 13124.659542 | 0.005357          |                     | 18.022400       |"
      ]
     },
     "metadata": {},
     "output_type": "display_data"
    },
    {
     "data": {
      "text/html": [
       "<pre>| 9         | 3000     | 13135.051083 | 0.005333          |                     | 19.246437       |</pre>"
      ],
      "text/plain": [
       "| 9         | 3000     | 13135.051083 | 0.005333          |                     | 19.246437       |"
      ]
     },
     "metadata": {},
     "output_type": "display_data"
    },
    {
     "data": {
      "text/html": [
       "<pre>| 9         | 3200     | 13145.803154 | 0.005000          |                     | 18.601122       |</pre>"
      ],
      "text/plain": [
       "| 9         | 3200     | 13145.803154 | 0.005000          |                     | 18.601122       |"
      ]
     },
     "metadata": {},
     "output_type": "display_data"
    },
    {
     "data": {
      "text/html": [
       "<pre>| 9         | 3400     | 13158.330128 | 0.004706          |                     | 15.965530       |</pre>"
      ],
      "text/plain": [
       "| 9         | 3400     | 13158.330128 | 0.004706          |                     | 15.965530       |"
      ]
     },
     "metadata": {},
     "output_type": "display_data"
    },
    {
     "data": {
      "text/html": [
       "<pre>| 9         | 3600     | 13169.555030 | 0.004722          |                     | 17.817513       |</pre>"
      ],
      "text/plain": [
       "| 9         | 3600     | 13169.555030 | 0.004722          |                     | 17.817513       |"
      ]
     },
     "metadata": {},
     "output_type": "display_data"
    },
    {
     "data": {
      "text/html": [
       "<pre>| 9         | 3800     | 13180.375152 | 0.004737          |                     | 18.484077       |</pre>"
      ],
      "text/plain": [
       "| 9         | 3800     | 13180.375152 | 0.004737          |                     | 18.484077       |"
      ]
     },
     "metadata": {},
     "output_type": "display_data"
    },
    {
     "data": {
      "text/html": [
       "<pre>| 9         | 4000     | 13191.937000 | 0.004750          |                     | 17.298260       |</pre>"
      ],
      "text/plain": [
       "| 9         | 4000     | 13191.937000 | 0.004750          |                     | 17.298260       |"
      ]
     },
     "metadata": {},
     "output_type": "display_data"
    },
    {
     "data": {
      "text/html": [
       "<pre>| 9         | 4200     | 13202.361943 | 0.004524          |                     | 19.184809       |</pre>"
      ],
      "text/plain": [
       "| 9         | 4200     | 13202.361943 | 0.004524          |                     | 19.184809       |"
      ]
     },
     "metadata": {},
     "output_type": "display_data"
    },
    {
     "data": {
      "text/html": [
       "<pre>| 9         | 4400     | 13214.485143 | 0.004318          |                     | 16.497250       |</pre>"
      ],
      "text/plain": [
       "| 9         | 4400     | 13214.485143 | 0.004318          |                     | 16.497250       |"
      ]
     },
     "metadata": {},
     "output_type": "display_data"
    },
    {
     "data": {
      "text/html": [
       "<pre>| 9         | 4600     | 13225.907835 | 0.004783          |                     | 17.509050       |</pre>"
      ],
      "text/plain": [
       "| 9         | 4600     | 13225.907835 | 0.004783          |                     | 17.509050       |"
      ]
     },
     "metadata": {},
     "output_type": "display_data"
    },
    {
     "data": {
      "text/html": [
       "<pre>| 9         | 4800     | 13237.416169 | 0.004583          |                     | 17.378685       |</pre>"
      ],
      "text/plain": [
       "| 9         | 4800     | 13237.416169 | 0.004583          |                     | 17.378685       |"
      ]
     },
     "metadata": {},
     "output_type": "display_data"
    },
    {
     "data": {
      "text/html": [
       "<pre>| 9         | 5000     | 13249.176182 | 0.004600          |                     | 17.006815       |</pre>"
      ],
      "text/plain": [
       "| 9         | 5000     | 13249.176182 | 0.004600          |                     | 17.006815       |"
      ]
     },
     "metadata": {},
     "output_type": "display_data"
    },
    {
     "data": {
      "text/html": [
       "<pre>| 9         | 5200     | 13260.789227 | 0.004615          |                     | 17.221966       |</pre>"
      ],
      "text/plain": [
       "| 9         | 5200     | 13260.789227 | 0.004615          |                     | 17.221966       |"
      ]
     },
     "metadata": {},
     "output_type": "display_data"
    },
    {
     "data": {
      "text/html": [
       "<pre>| 9         | 5400     | 13271.891831 | 0.004630          |                     | 18.013832       |</pre>"
      ],
      "text/plain": [
       "| 9         | 5400     | 13271.891831 | 0.004630          |                     | 18.013832       |"
      ]
     },
     "metadata": {},
     "output_type": "display_data"
    },
    {
     "data": {
      "text/html": [
       "<pre>| 9         | 5600     | 13282.716659 | 0.004643          |                     | 18.476002       |</pre>"
      ],
      "text/plain": [
       "| 9         | 5600     | 13282.716659 | 0.004643          |                     | 18.476002       |"
      ]
     },
     "metadata": {},
     "output_type": "display_data"
    },
    {
     "data": {
      "text/html": [
       "<pre>| 9         | 5800     | 13293.490865 | 0.004483          |                     | 18.562887       |</pre>"
      ],
      "text/plain": [
       "| 9         | 5800     | 13293.490865 | 0.004483          |                     | 18.562887       |"
      ]
     },
     "metadata": {},
     "output_type": "display_data"
    },
    {
     "data": {
      "text/html": [
       "<pre>| 9         | 6000     | 13305.839216 | 0.004833          |                     | 16.196468       |</pre>"
      ],
      "text/plain": [
       "| 9         | 6000     | 13305.839216 | 0.004833          |                     | 16.196468       |"
      ]
     },
     "metadata": {},
     "output_type": "display_data"
    },
    {
     "data": {
      "text/html": [
       "<pre>| 9         | 6200     | 13317.101589 | 0.005000          |                     | 17.758245       |</pre>"
      ],
      "text/plain": [
       "| 9         | 6200     | 13317.101589 | 0.005000          |                     | 17.758245       |"
      ]
     },
     "metadata": {},
     "output_type": "display_data"
    },
    {
     "data": {
      "text/html": [
       "<pre>| 9         | 6400     | 13327.773099 | 0.004844          |                     | 18.741501       |</pre>"
      ],
      "text/plain": [
       "| 9         | 6400     | 13327.773099 | 0.004844          |                     | 18.741501       |"
      ]
     },
     "metadata": {},
     "output_type": "display_data"
    },
    {
     "data": {
      "text/html": [
       "<pre>| 9         | 6600     | 13339.782680 | 0.004697          |                     | 16.653395       |</pre>"
      ],
      "text/plain": [
       "| 9         | 6600     | 13339.782680 | 0.004697          |                     | 16.653395       |"
      ]
     },
     "metadata": {},
     "output_type": "display_data"
    },
    {
     "data": {
      "text/html": [
       "<pre>| 9         | 6800     | 13351.468776 | 0.004559          |                     | 17.114325       |</pre>"
      ],
      "text/plain": [
       "| 9         | 6800     | 13351.468776 | 0.004559          |                     | 17.114325       |"
      ]
     },
     "metadata": {},
     "output_type": "display_data"
    },
    {
     "data": {
      "text/html": [
       "<pre>| 9         | 7000     | 13361.829510 | 0.005000          |                     | 19.303652       |</pre>"
      ],
      "text/plain": [
       "| 9         | 7000     | 13361.829510 | 0.005000          |                     | 19.303652       |"
      ]
     },
     "metadata": {},
     "output_type": "display_data"
    },
    {
     "data": {
      "text/html": [
       "<pre>| 9         | 7200     | 13373.212966 | 0.004861          |                     | 17.569351       |</pre>"
      ],
      "text/plain": [
       "| 9         | 7200     | 13373.212966 | 0.004861          |                     | 17.569351       |"
      ]
     },
     "metadata": {},
     "output_type": "display_data"
    },
    {
     "data": {
      "text/html": [
       "<pre>| 9         | 7400     | 13384.112671 | 0.004730          |                     | 18.349123       |</pre>"
      ],
      "text/plain": [
       "| 9         | 7400     | 13384.112671 | 0.004730          |                     | 18.349123       |"
      ]
     },
     "metadata": {},
     "output_type": "display_data"
    },
    {
     "data": {
      "text/html": [
       "<pre>| 9         | 7600     | 13396.063774 | 0.004868          |                     | 16.734892       |</pre>"
      ],
      "text/plain": [
       "| 9         | 7600     | 13396.063774 | 0.004868          |                     | 16.734892       |"
      ]
     },
     "metadata": {},
     "output_type": "display_data"
    },
    {
     "data": {
      "text/html": [
       "<pre>| 9         | 7800     | 13407.736469 | 0.005128          |                     | 17.134007       |</pre>"
      ],
      "text/plain": [
       "| 9         | 7800     | 13407.736469 | 0.005128          |                     | 17.134007       |"
      ]
     },
     "metadata": {},
     "output_type": "display_data"
    },
    {
     "data": {
      "text/html": [
       "<pre>| 9         | 8000     | 13418.148208 | 0.005000          |                     | 19.209044       |</pre>"
      ],
      "text/plain": [
       "| 9         | 8000     | 13418.148208 | 0.005000          |                     | 19.209044       |"
      ]
     },
     "metadata": {},
     "output_type": "display_data"
    },
    {
     "data": {
      "text/html": [
       "<pre>| 9         | 8200     | 13429.363188 | 0.005000          |                     | 17.833303       |</pre>"
      ],
      "text/plain": [
       "| 9         | 8200     | 13429.363188 | 0.005000          |                     | 17.833303       |"
      ]
     },
     "metadata": {},
     "output_type": "display_data"
    },
    {
     "data": {
      "text/html": [
       "<pre>| 9         | 8400     | 13441.043872 | 0.005238          |                     | 17.122307       |</pre>"
      ],
      "text/plain": [
       "| 9         | 8400     | 13441.043872 | 0.005238          |                     | 17.122307       |"
      ]
     },
     "metadata": {},
     "output_type": "display_data"
    },
    {
     "data": {
      "text/html": [
       "<pre>| 9         | 8600     | 13452.309596 | 0.005233          |                     | 17.752928       |</pre>"
      ],
      "text/plain": [
       "| 9         | 8600     | 13452.309596 | 0.005233          |                     | 17.752928       |"
      ]
     },
     "metadata": {},
     "output_type": "display_data"
    },
    {
     "data": {
      "text/html": [
       "<pre>| 9         | 8800     | 13462.748325 | 0.005227          |                     | 19.159452       |</pre>"
      ],
      "text/plain": [
       "| 9         | 8800     | 13462.748325 | 0.005227          |                     | 19.159452       |"
      ]
     },
     "metadata": {},
     "output_type": "display_data"
    },
    {
     "data": {
      "text/html": [
       "<pre>| 9         | 9000     | 13473.987932 | 0.005111          |                     | 17.794186       |</pre>"
      ],
      "text/plain": [
       "| 9         | 9000     | 13473.987932 | 0.005111          |                     | 17.794186       |"
      ]
     },
     "metadata": {},
     "output_type": "display_data"
    },
    {
     "data": {
      "text/html": [
       "<pre>| 9         | 9200     | 13486.514252 | 0.005217          |                     | 15.966413       |</pre>"
      ],
      "text/plain": [
       "| 9         | 9200     | 13486.514252 | 0.005217          |                     | 15.966413       |"
      ]
     },
     "metadata": {},
     "output_type": "display_data"
    },
    {
     "data": {
      "text/html": [
       "<pre>| 9         | 9400     | 13498.456807 | 0.005319          |                     | 16.746803       |</pre>"
      ],
      "text/plain": [
       "| 9         | 9400     | 13498.456807 | 0.005319          |                     | 16.746803       |"
      ]
     },
     "metadata": {},
     "output_type": "display_data"
    },
    {
     "data": {
      "text/html": [
       "<pre>| 9         | 9600     | 13509.746555 | 0.005313          |                     | 17.715195       |</pre>"
      ],
      "text/plain": [
       "| 9         | 9600     | 13509.746555 | 0.005313          |                     | 17.715195       |"
      ]
     },
     "metadata": {},
     "output_type": "display_data"
    },
    {
     "data": {
      "text/html": [
       "<pre>| 9         | 9800     | 13521.531280 | 0.005306          |                     | 16.971113       |</pre>"
      ],
      "text/plain": [
       "| 9         | 9800     | 13521.531280 | 0.005306          |                     | 16.971113       |"
      ]
     },
     "metadata": {},
     "output_type": "display_data"
    },
    {
     "data": {
      "text/html": [
       "<pre>| 9         | 10000    | 13533.865598 | 0.005400          |                     | 16.214928       |</pre>"
      ],
      "text/plain": [
       "| 9         | 10000    | 13533.865598 | 0.005400          |                     | 16.214928       |"
      ]
     },
     "metadata": {},
     "output_type": "display_data"
    },
    {
     "data": {
      "text/html": [
       "<pre>| 9         | 10200    | 13544.957118 | 0.005392          |                     | 18.031796       |</pre>"
      ],
      "text/plain": [
       "| 9         | 10200    | 13544.957118 | 0.005392          |                     | 18.031796       |"
      ]
     },
     "metadata": {},
     "output_type": "display_data"
    },
    {
     "data": {
      "text/html": [
       "<pre>| 9         | 10400    | 13556.346932 | 0.005673          |                     | 17.559538       |</pre>"
      ],
      "text/plain": [
       "| 9         | 10400    | 13556.346932 | 0.005673          |                     | 17.559538       |"
      ]
     },
     "metadata": {},
     "output_type": "display_data"
    },
    {
     "data": {
      "text/html": [
       "<pre>| 9         | 10600    | 13566.977789 | 0.005566          |                     | 18.813166       |</pre>"
      ],
      "text/plain": [
       "| 9         | 10600    | 13566.977789 | 0.005566          |                     | 18.813166       |"
      ]
     },
     "metadata": {},
     "output_type": "display_data"
    },
    {
     "data": {
      "text/html": [
       "<pre>| 9         | 10800    | 13579.336399 | 0.005556          |                     | 16.183071       |</pre>"
      ],
      "text/plain": [
       "| 9         | 10800    | 13579.336399 | 0.005556          |                     | 16.183071       |"
      ]
     },
     "metadata": {},
     "output_type": "display_data"
    },
    {
     "data": {
      "text/html": [
       "<pre>| 9         | 11000    | 13590.278642 | 0.005455          |                     | 18.277748       |</pre>"
      ],
      "text/plain": [
       "| 9         | 11000    | 13590.278642 | 0.005455          |                     | 18.277748       |"
      ]
     },
     "metadata": {},
     "output_type": "display_data"
    },
    {
     "data": {
      "text/html": [
       "<pre>| 9         | 11200    | 13600.615394 | 0.005446          |                     | 19.348434       |</pre>"
      ],
      "text/plain": [
       "| 9         | 11200    | 13600.615394 | 0.005446          |                     | 19.348434       |"
      ]
     },
     "metadata": {},
     "output_type": "display_data"
    },
    {
     "data": {
      "text/html": [
       "<pre>| 9         | 11500    | 13615.489663 | 0.005304          |                     | 20.169062       |</pre>"
      ],
      "text/plain": [
       "| 9         | 11500    | 13615.489663 | 0.005304          |                     | 20.169062       |"
      ]
     },
     "metadata": {},
     "output_type": "display_data"
    },
    {
     "data": {
      "text/html": [
       "<pre>| 9         | 11700    | 13626.807792 | 0.005299          |                     | 17.670776       |</pre>"
      ],
      "text/plain": [
       "| 9         | 11700    | 13626.807792 | 0.005299          |                     | 17.670776       |"
      ]
     },
     "metadata": {},
     "output_type": "display_data"
    },
    {
     "data": {
      "text/html": [
       "<pre>| 9         | 11900    | 13639.105530 | 0.005210          |                     | 16.263178       |</pre>"
      ],
      "text/plain": [
       "| 9         | 11900    | 13639.105530 | 0.005210          |                     | 16.263178       |"
      ]
     },
     "metadata": {},
     "output_type": "display_data"
    },
    {
     "data": {
      "text/html": [
       "<pre>| 9         | 12100    | 13650.434633 | 0.005207          |                     | 17.653633       |</pre>"
      ],
      "text/plain": [
       "| 9         | 12100    | 13650.434633 | 0.005207          |                     | 17.653633       |"
      ]
     },
     "metadata": {},
     "output_type": "display_data"
    },
    {
     "data": {
      "text/html": [
       "<pre>| 9         | 12300    | 13662.600877 | 0.005285          |                     | 16.438911       |</pre>"
      ],
      "text/plain": [
       "| 9         | 12300    | 13662.600877 | 0.005285          |                     | 16.438911       |"
      ]
     },
     "metadata": {},
     "output_type": "display_data"
    },
    {
     "data": {
      "text/html": [
       "<pre>| 9         | 12500    | 13672.848420 | 0.005440          |                     | 19.516878       |</pre>"
      ],
      "text/plain": [
       "| 9         | 12500    | 13672.848420 | 0.005440          |                     | 19.516878       |"
      ]
     },
     "metadata": {},
     "output_type": "display_data"
    },
    {
     "data": {
      "text/html": [
       "<pre>| 9         | 12700    | 13685.118677 | 0.005591          |                     | 16.299593       |</pre>"
      ],
      "text/plain": [
       "| 9         | 12700    | 13685.118677 | 0.005591          |                     | 16.299593       |"
      ]
     },
     "metadata": {},
     "output_type": "display_data"
    },
    {
     "data": {
      "text/html": [
       "<pre>| 9         | 12900    | 13695.912988 | 0.005504          |                     | 18.528303       |</pre>"
      ],
      "text/plain": [
       "| 9         | 12900    | 13695.912988 | 0.005504          |                     | 18.528303       |"
      ]
     },
     "metadata": {},
     "output_type": "display_data"
    },
    {
     "data": {
      "text/html": [
       "<pre>| 9         | 13100    | 13706.367812 | 0.005496          |                     | 19.129887       |</pre>"
      ],
      "text/plain": [
       "| 9         | 13100    | 13706.367812 | 0.005496          |                     | 19.129887       |"
      ]
     },
     "metadata": {},
     "output_type": "display_data"
    },
    {
     "data": {
      "text/html": [
       "<pre>| 9         | 13300    | 13717.478544 | 0.005414          |                     | 18.000607       |</pre>"
      ],
      "text/plain": [
       "| 9         | 13300    | 13717.478544 | 0.005414          |                     | 18.000607       |"
      ]
     },
     "metadata": {},
     "output_type": "display_data"
    },
    {
     "data": {
      "text/html": [
       "<pre>| 9         | 13500    | 13728.492211 | 0.005407          |                     | 18.159288       |</pre>"
      ],
      "text/plain": [
       "| 9         | 13500    | 13728.492211 | 0.005407          |                     | 18.159288       |"
      ]
     },
     "metadata": {},
     "output_type": "display_data"
    },
    {
     "data": {
      "text/html": [
       "<pre>| 9         | 13700    | 13740.301678 | 0.005474          |                     | 16.935560       |</pre>"
      ],
      "text/plain": [
       "| 9         | 13700    | 13740.301678 | 0.005474          |                     | 16.935560       |"
      ]
     },
     "metadata": {},
     "output_type": "display_data"
    },
    {
     "data": {
      "text/html": [
       "<pre>| 9         | 13900    | 13751.325790 | 0.005396          |                     | 18.142019       |</pre>"
      ],
      "text/plain": [
       "| 9         | 13900    | 13751.325790 | 0.005396          |                     | 18.142019       |"
      ]
     },
     "metadata": {},
     "output_type": "display_data"
    },
    {
     "data": {
      "text/html": [
       "<pre>| 9         | 14100    | 13762.575145 | 0.005603          |                     | 17.778830       |</pre>"
      ],
      "text/plain": [
       "| 9         | 14100    | 13762.575145 | 0.005603          |                     | 17.778830       |"
      ]
     },
     "metadata": {},
     "output_type": "display_data"
    },
    {
     "data": {
      "text/html": [
       "<pre>| 9         | 14300    | 13774.165502 | 0.005524          |                     | 17.255732       |</pre>"
      ],
      "text/plain": [
       "| 9         | 14300    | 13774.165502 | 0.005524          |                     | 17.255732       |"
      ]
     },
     "metadata": {},
     "output_type": "display_data"
    },
    {
     "data": {
      "text/html": [
       "<pre>| 9         | 14500    | 13785.833083 | 0.005517          |                     | 17.141485       |</pre>"
      ],
      "text/plain": [
       "| 9         | 14500    | 13785.833083 | 0.005517          |                     | 17.141485       |"
      ]
     },
     "metadata": {},
     "output_type": "display_data"
    },
    {
     "data": {
      "text/html": [
       "<pre>| 9         | 14700    | 13796.549354 | 0.005646          |                     | 18.663233       |</pre>"
      ],
      "text/plain": [
       "| 9         | 14700    | 13796.549354 | 0.005646          |                     | 18.663233       |"
      ]
     },
     "metadata": {},
     "output_type": "display_data"
    },
    {
     "data": {
      "text/html": [
       "<pre>| 9         | 14900    | 13807.801511 | 0.005570          |                     | 17.774372       |</pre>"
      ],
      "text/plain": [
       "| 9         | 14900    | 13807.801511 | 0.005570          |                     | 17.774372       |"
      ]
     },
     "metadata": {},
     "output_type": "display_data"
    },
    {
     "data": {
      "text/html": [
       "<pre>| 9         | 15100    | 13818.167810 | 0.005563          |                     | 19.293253       |</pre>"
      ],
      "text/plain": [
       "| 9         | 15100    | 13818.167810 | 0.005563          |                     | 19.293253       |"
      ]
     },
     "metadata": {},
     "output_type": "display_data"
    },
    {
     "data": {
      "text/html": [
       "<pre>| 9         | 15300    | 13829.868439 | 0.005490          |                     | 17.093143       |</pre>"
      ],
      "text/plain": [
       "| 9         | 15300    | 13829.868439 | 0.005490          |                     | 17.093143       |"
      ]
     },
     "metadata": {},
     "output_type": "display_data"
    },
    {
     "data": {
      "text/html": [
       "<pre>| 9         | 15500    | 13841.856391 | 0.005548          |                     | 16.683403       |</pre>"
      ],
      "text/plain": [
       "| 9         | 15500    | 13841.856391 | 0.005548          |                     | 16.683403       |"
      ]
     },
     "metadata": {},
     "output_type": "display_data"
    },
    {
     "data": {
      "text/html": [
       "<pre>| 9         | 15700    | 13852.736845 | 0.005669          |                     | 18.381557       |</pre>"
      ],
      "text/plain": [
       "| 9         | 15700    | 13852.736845 | 0.005669          |                     | 18.381557       |"
      ]
     },
     "metadata": {},
     "output_type": "display_data"
    },
    {
     "data": {
      "text/html": [
       "<pre>| 9         | 15900    | 13863.921847 | 0.005597          |                     | 17.881086       |</pre>"
      ],
      "text/plain": [
       "| 9         | 15900    | 13863.921847 | 0.005597          |                     | 17.881086       |"
      ]
     },
     "metadata": {},
     "output_type": "display_data"
    },
    {
     "data": {
      "text/html": [
       "<pre>| 9         | 16100    | 13876.178083 | 0.005528          |                     | 16.318241       |</pre>"
      ],
      "text/plain": [
       "| 9         | 16100    | 13876.178083 | 0.005528          |                     | 16.318241       |"
      ]
     },
     "metadata": {},
     "output_type": "display_data"
    },
    {
     "data": {
      "text/html": [
       "<pre>| 9         | 16300    | 13887.167522 | 0.005460          |                     | 18.199287       |</pre>"
      ],
      "text/plain": [
       "| 9         | 16300    | 13887.167522 | 0.005460          |                     | 18.199287       |"
      ]
     },
     "metadata": {},
     "output_type": "display_data"
    },
    {
     "data": {
      "text/html": [
       "<pre>| 9         | 16500    | 13897.769239 | 0.005394          |                     | 18.864840       |</pre>"
      ],
      "text/plain": [
       "| 9         | 16500    | 13897.769239 | 0.005394          |                     | 18.864840       |"
      ]
     },
     "metadata": {},
     "output_type": "display_data"
    },
    {
     "data": {
      "text/html": [
       "<pre>| 9         | 16700    | 13908.483210 | 0.005389          |                     | 18.667250       |</pre>"
      ],
      "text/plain": [
       "| 9         | 16700    | 13908.483210 | 0.005389          |                     | 18.667250       |"
      ]
     },
     "metadata": {},
     "output_type": "display_data"
    },
    {
     "data": {
      "text/html": [
       "<pre>| 9         | 16900    | 13920.201337 | 0.005503          |                     | 17.067572       |</pre>"
      ],
      "text/plain": [
       "| 9         | 16900    | 13920.201337 | 0.005503          |                     | 17.067572       |"
      ]
     },
     "metadata": {},
     "output_type": "display_data"
    },
    {
     "data": {
      "text/html": [
       "<pre>| 9         | 17100    | 13931.849995 | 0.005439          |                     | 17.169369       |</pre>"
      ],
      "text/plain": [
       "| 9         | 17100    | 13931.849995 | 0.005439          |                     | 17.169369       |"
      ]
     },
     "metadata": {},
     "output_type": "display_data"
    },
    {
     "data": {
      "text/html": [
       "<pre>| 9         | 17300    | 13942.520813 | 0.005434          |                     | 18.742699       |</pre>"
      ],
      "text/plain": [
       "| 9         | 17300    | 13942.520813 | 0.005434          |                     | 18.742699       |"
      ]
     },
     "metadata": {},
     "output_type": "display_data"
    },
    {
     "data": {
      "text/html": [
       "<pre>| 9         | 17500    | 13953.392469 | 0.005486          |                     | 18.396420       |</pre>"
      ],
      "text/plain": [
       "| 9         | 17500    | 13953.392469 | 0.005486          |                     | 18.396420       |"
      ]
     },
     "metadata": {},
     "output_type": "display_data"
    },
    {
     "data": {
      "text/html": [
       "<pre>| 9         | 17700    | 13964.429861 | 0.005480          |                     | 18.120235       |</pre>"
      ],
      "text/plain": [
       "| 9         | 17700    | 13964.429861 | 0.005480          |                     | 18.120235       |"
      ]
     },
     "metadata": {},
     "output_type": "display_data"
    },
    {
     "data": {
      "text/html": [
       "<pre>| 9         | 17900    | 13976.518530 | 0.005531          |                     | 16.544439       |</pre>"
      ],
      "text/plain": [
       "| 9         | 17900    | 13976.518530 | 0.005531          |                     | 16.544439       |"
      ]
     },
     "metadata": {},
     "output_type": "display_data"
    },
    {
     "data": {
      "text/html": [
       "<pre>| 9         | 18100    | 13987.624811 | 0.005525          |                     | 18.007793       |</pre>"
      ],
      "text/plain": [
       "| 9         | 18100    | 13987.624811 | 0.005525          |                     | 18.007793       |"
      ]
     },
     "metadata": {},
     "output_type": "display_data"
    },
    {
     "data": {
      "text/html": [
       "<pre>| 9         | 18300    | 13998.489519 | 0.005628          |                     | 18.408258       |</pre>"
      ],
      "text/plain": [
       "| 9         | 18300    | 13998.489519 | 0.005628          |                     | 18.408258       |"
      ]
     },
     "metadata": {},
     "output_type": "display_data"
    },
    {
     "data": {
      "text/html": [
       "<pre>| 9         | 18500    | 14009.530127 | 0.005568          |                     | 18.114918       |</pre>"
      ],
      "text/plain": [
       "| 9         | 18500    | 14009.530127 | 0.005568          |                     | 18.114918       |"
      ]
     },
     "metadata": {},
     "output_type": "display_data"
    },
    {
     "data": {
      "text/html": [
       "<pre>| 9         | 18700    | 14021.831798 | 0.005508          |                     | 16.257977       |</pre>"
      ],
      "text/plain": [
       "| 9         | 18700    | 14021.831798 | 0.005508          |                     | 16.257977       |"
      ]
     },
     "metadata": {},
     "output_type": "display_data"
    },
    {
     "data": {
      "text/html": [
       "<pre>| 9         | 18900    | 14032.962941 | 0.005450          |                     | 17.967577       |</pre>"
      ],
      "text/plain": [
       "| 9         | 18900    | 14032.962941 | 0.005450          |                     | 17.967577       |"
      ]
     },
     "metadata": {},
     "output_type": "display_data"
    },
    {
     "data": {
      "text/html": [
       "<pre>| 9         | 19100    | 14043.272909 | 0.005550          |                     | 19.398735       |</pre>"
      ],
      "text/plain": [
       "| 9         | 19100    | 14043.272909 | 0.005550          |                     | 19.398735       |"
      ]
     },
     "metadata": {},
     "output_type": "display_data"
    },
    {
     "data": {
      "text/html": [
       "<pre>| 9         | 19300    | 14053.917250 | 0.005492          |                     | 18.789345       |</pre>"
      ],
      "text/plain": [
       "| 9         | 19300    | 14053.917250 | 0.005492          |                     | 18.789345       |"
      ]
     },
     "metadata": {},
     "output_type": "display_data"
    },
    {
     "data": {
      "text/html": [
       "<pre>| 9         | 19500    | 14064.374550 | 0.005436          |                     | 19.125343       |</pre>"
      ],
      "text/plain": [
       "| 9         | 19500    | 14064.374550 | 0.005436          |                     | 19.125343       |"
      ]
     },
     "metadata": {},
     "output_type": "display_data"
    },
    {
     "data": {
      "text/html": [
       "<pre>| 9         | 19700    | 14074.674391 | 0.005381          |                     | 19.417816       |</pre>"
      ],
      "text/plain": [
       "| 9         | 19700    | 14074.674391 | 0.005381          |                     | 19.417816       |"
      ]
     },
     "metadata": {},
     "output_type": "display_data"
    },
    {
     "data": {
      "text/html": [
       "<pre>| 9         | 19900    | 14087.113229 | 0.005377          |                     | 16.078669       |</pre>"
      ],
      "text/plain": [
       "| 9         | 19900    | 14087.113229 | 0.005377          |                     | 16.078669       |"
      ]
     },
     "metadata": {},
     "output_type": "display_data"
    },
    {
     "data": {
      "text/html": [
       "<pre>| 9         | 20100    | 14097.808188 | 0.005423          |                     | 18.700411       |</pre>"
      ],
      "text/plain": [
       "| 9         | 20100    | 14097.808188 | 0.005423          |                     | 18.700411       |"
      ]
     },
     "metadata": {},
     "output_type": "display_data"
    },
    {
     "data": {
      "text/html": [
       "<pre>| 9         | 20300    | 14108.337306 | 0.005419          |                     | 18.994905       |</pre>"
      ],
      "text/plain": [
       "| 9         | 20300    | 14108.337306 | 0.005419          |                     | 18.994905       |"
      ]
     },
     "metadata": {},
     "output_type": "display_data"
    },
    {
     "data": {
      "text/html": [
       "<pre>| 9         | 20500    | 14119.307384 | 0.005512          |                     | 18.231430       |</pre>"
      ],
      "text/plain": [
       "| 9         | 20500    | 14119.307384 | 0.005512          |                     | 18.231430       |"
      ]
     },
     "metadata": {},
     "output_type": "display_data"
    },
    {
     "data": {
      "text/html": [
       "<pre>| 9         | 20700    | 14131.101110 | 0.005507          |                     | 16.958143       |</pre>"
      ],
      "text/plain": [
       "| 9         | 20700    | 14131.101110 | 0.005507          |                     | 16.958143       |"
      ]
     },
     "metadata": {},
     "output_type": "display_data"
    },
    {
     "data": {
      "text/html": [
       "<pre>| 9         | 20900    | 14142.702645 | 0.005502          |                     | 17.239096       |</pre>"
      ],
      "text/plain": [
       "| 9         | 20900    | 14142.702645 | 0.005502          |                     | 17.239096       |"
      ]
     },
     "metadata": {},
     "output_type": "display_data"
    },
    {
     "data": {
      "text/html": [
       "<pre>| 9         | 21100    | 14153.008289 | 0.005498          |                     | 19.406841       |</pre>"
      ],
      "text/plain": [
       "| 9         | 21100    | 14153.008289 | 0.005498          |                     | 19.406841       |"
      ]
     },
     "metadata": {},
     "output_type": "display_data"
    },
    {
     "data": {
      "text/html": [
       "<pre>| 9         | 21300    | 14163.989640 | 0.005446          |                     | 18.212704       |</pre>"
      ],
      "text/plain": [
       "| 9         | 21300    | 14163.989640 | 0.005446          |                     | 18.212704       |"
      ]
     },
     "metadata": {},
     "output_type": "display_data"
    },
    {
     "data": {
      "text/html": [
       "<pre>| 9         | 21500    | 14174.462207 | 0.005395          |                     | 19.097511       |</pre>"
      ],
      "text/plain": [
       "| 9         | 21500    | 14174.462207 | 0.005395          |                     | 19.097511       |"
      ]
     },
     "metadata": {},
     "output_type": "display_data"
    },
    {
     "data": {
      "text/html": [
       "<pre>| 9         | 21700    | 14184.597276 | 0.005438          |                     | 19.733496       |</pre>"
      ],
      "text/plain": [
       "| 9         | 21700    | 14184.597276 | 0.005438          |                     | 19.733496       |"
      ]
     },
     "metadata": {},
     "output_type": "display_data"
    },
    {
     "data": {
      "text/html": [
       "<pre>| 9         | 21900    | 14197.395056 | 0.005434          |                     | 15.627692       |</pre>"
      ],
      "text/plain": [
       "| 9         | 21900    | 14197.395056 | 0.005434          |                     | 15.627692       |"
      ]
     },
     "metadata": {},
     "output_type": "display_data"
    },
    {
     "data": {
      "text/html": [
       "<pre>| 9         | 22100    | 14208.002770 | 0.005385          |                     | 18.854210       |</pre>"
      ],
      "text/plain": [
       "| 9         | 22100    | 14208.002770 | 0.005385          |                     | 18.854210       |"
      ]
     },
     "metadata": {},
     "output_type": "display_data"
    },
    {
     "data": {
      "text/html": [
       "<pre>| 9         | 22300    | 14218.523356 | 0.005336          |                     | 19.010334       |</pre>"
      ],
      "text/plain": [
       "| 9         | 22300    | 14218.523356 | 0.005336          |                     | 19.010334       |"
      ]
     },
     "metadata": {},
     "output_type": "display_data"
    },
    {
     "data": {
      "text/html": [
       "<pre>| 9         | 22500    | 14229.713939 | 0.005378          |                     | 17.872166       |</pre>"
      ],
      "text/plain": [
       "| 9         | 22500    | 14229.713939 | 0.005378          |                     | 17.872166       |"
      ]
     },
     "metadata": {},
     "output_type": "display_data"
    },
    {
     "data": {
      "text/html": [
       "<pre>| 9         | 22800    | 14245.564617 | 0.005395          |                     | 18.926670       |</pre>"
      ],
      "text/plain": [
       "| 9         | 22800    | 14245.564617 | 0.005395          |                     | 18.926670       |"
      ]
     },
     "metadata": {},
     "output_type": "display_data"
    },
    {
     "data": {
      "text/html": [
       "<pre>| 9         | 23000    | 14257.343697 | 0.005391          |                     | 16.979252       |</pre>"
      ],
      "text/plain": [
       "| 9         | 23000    | 14257.343697 | 0.005391          |                     | 16.979252       |"
      ]
     },
     "metadata": {},
     "output_type": "display_data"
    },
    {
     "data": {
      "text/html": [
       "<pre>| 9         | 23200    | 14269.031332 | 0.005431          |                     | 17.112103       |</pre>"
      ],
      "text/plain": [
       "| 9         | 23200    | 14269.031332 | 0.005431          |                     | 17.112103       |"
      ]
     },
     "metadata": {},
     "output_type": "display_data"
    },
    {
     "data": {
      "text/html": [
       "<pre>| 9         | 23400    | 14279.863274 | 0.005385          |                     | 18.463869       |</pre>"
      ],
      "text/plain": [
       "| 9         | 23400    | 14279.863274 | 0.005385          |                     | 18.463869       |"
      ]
     },
     "metadata": {},
     "output_type": "display_data"
    },
    {
     "data": {
      "text/html": [
       "<pre>| 9         | 23600    | 14291.554021 | 0.005339          |                     | 17.107576       |</pre>"
      ],
      "text/plain": [
       "| 9         | 23600    | 14291.554021 | 0.005339          |                     | 17.107576       |"
      ]
     },
     "metadata": {},
     "output_type": "display_data"
    },
    {
     "data": {
      "text/html": [
       "<pre>| 9         | 23800    | 14303.064351 | 0.005420          |                     | 17.375654       |</pre>"
      ],
      "text/plain": [
       "| 9         | 23800    | 14303.064351 | 0.005420          |                     | 17.375654       |"
      ]
     },
     "metadata": {},
     "output_type": "display_data"
    },
    {
     "data": {
      "text/html": [
       "<pre>| 9         | 24000    | 14313.481633 | 0.005417          |                     | 19.198896       |</pre>"
      ],
      "text/plain": [
       "| 9         | 24000    | 14313.481633 | 0.005417          |                     | 19.198896       |"
      ]
     },
     "metadata": {},
     "output_type": "display_data"
    },
    {
     "data": {
      "text/html": [
       "<pre>| 9         | 24200    | 14324.032064 | 0.005413          |                     | 18.956547       |</pre>"
      ],
      "text/plain": [
       "| 9         | 24200    | 14324.032064 | 0.005413          |                     | 18.956547       |"
      ]
     },
     "metadata": {},
     "output_type": "display_data"
    },
    {
     "data": {
      "text/html": [
       "<pre>| 9         | 24400    | 14334.736012 | 0.005410          |                     | 18.684708       |</pre>"
      ],
      "text/plain": [
       "| 9         | 24400    | 14334.736012 | 0.005410          |                     | 18.684708       |"
      ]
     },
     "metadata": {},
     "output_type": "display_data"
    },
    {
     "data": {
      "text/html": [
       "<pre>| 9         | 24600    | 14346.213227 | 0.005488          |                     | 17.425871       |</pre>"
      ],
      "text/plain": [
       "| 9         | 24600    | 14346.213227 | 0.005488          |                     | 17.425871       |"
      ]
     },
     "metadata": {},
     "output_type": "display_data"
    },
    {
     "data": {
      "text/html": [
       "<pre>| 9         | 24800    | 14357.320558 | 0.005444          |                     | 18.006071       |</pre>"
      ],
      "text/plain": [
       "| 9         | 24800    | 14357.320558 | 0.005444          |                     | 18.006071       |"
      ]
     },
     "metadata": {},
     "output_type": "display_data"
    },
    {
     "data": {
      "text/html": [
       "<pre>| 9         | 25000    | 14367.921997 | 0.005400          |                     | 18.865414       |</pre>"
      ],
      "text/plain": [
       "| 9         | 25000    | 14367.921997 | 0.005400          |                     | 18.865414       |"
      ]
     },
     "metadata": {},
     "output_type": "display_data"
    },
    {
     "data": {
      "text/html": [
       "<pre>| 9         | 25200    | 14379.125479 | 0.005397          |                     | 17.851582       |</pre>"
      ],
      "text/plain": [
       "| 9         | 25200    | 14379.125479 | 0.005397          |                     | 17.851582       |"
      ]
     },
     "metadata": {},
     "output_type": "display_data"
    },
    {
     "data": {
      "text/html": [
       "<pre>| 9         | 25400    | 14391.141661 | 0.005354          |                     | 16.644207       |</pre>"
      ],
      "text/plain": [
       "| 9         | 25400    | 14391.141661 | 0.005354          |                     | 16.644207       |"
      ]
     },
     "metadata": {},
     "output_type": "display_data"
    },
    {
     "data": {
      "text/html": [
       "<pre>| 9         | 25600    | 14402.987543 | 0.005352          |                     | 16.883522       |</pre>"
      ],
      "text/plain": [
       "| 9         | 25600    | 14402.987543 | 0.005352          |                     | 16.883522       |"
      ]
     },
     "metadata": {},
     "output_type": "display_data"
    },
    {
     "data": {
      "text/html": [
       "<pre>| 9         | 25800    | 14414.268790 | 0.005310          |                     | 17.728512       |</pre>"
      ],
      "text/plain": [
       "| 9         | 25800    | 14414.268790 | 0.005310          |                     | 17.728512       |"
      ]
     },
     "metadata": {},
     "output_type": "display_data"
    },
    {
     "data": {
      "text/html": [
       "<pre>| 9         | 26000    | 14425.141666 | 0.005269          |                     | 18.394423       |</pre>"
      ],
      "text/plain": [
       "| 9         | 26000    | 14425.141666 | 0.005269          |                     | 18.394423       |"
      ]
     },
     "metadata": {},
     "output_type": "display_data"
    },
    {
     "data": {
      "text/html": [
       "<pre>| 9         | 26200    | 14436.153777 | 0.005305          |                     | 18.161793       |</pre>"
      ],
      "text/plain": [
       "| 9         | 26200    | 14436.153777 | 0.005305          |                     | 18.161793       |"
      ]
     },
     "metadata": {},
     "output_type": "display_data"
    },
    {
     "data": {
      "text/html": [
       "<pre>| 9         | 26400    | 14448.535021 | 0.005303          |                     | 16.153479       |</pre>"
      ],
      "text/plain": [
       "| 9         | 26400    | 14448.535021 | 0.005303          |                     | 16.153479       |"
      ]
     },
     "metadata": {},
     "output_type": "display_data"
    },
    {
     "data": {
      "text/html": [
       "<pre>| 9         | 26600    | 14459.577374 | 0.005338          |                     | 18.112053       |</pre>"
      ],
      "text/plain": [
       "| 9         | 26600    | 14459.577374 | 0.005338          |                     | 18.112053       |"
      ]
     },
     "metadata": {},
     "output_type": "display_data"
    },
    {
     "data": {
      "text/html": [
       "<pre>| 9         | 26600    | 14742.252774 | 0.005338          | 0.005375            | 18.112053       |</pre>"
      ],
      "text/plain": [
       "| 9         | 26600    | 14742.252774 | 0.005338          | 0.005375            | 18.112053       |"
      ]
     },
     "metadata": {},
     "output_type": "display_data"
    },
    {
     "data": {
      "text/html": [
       "<pre>Checkpointing model into rep IDSIA by 1 conv graphlab net - train in 10 iters</pre>"
      ],
      "text/plain": [
       "Checkpointing model into rep IDSIA by 1 conv graphlab net - train in 10 iters"
      ]
     },
     "metadata": {},
     "output_type": "display_data"
    },
    {
     "data": {
      "text/html": [
       "<pre>| 10        | 200      | 14755.287049 | 0.005000          |                     | 15.405474       |</pre>"
      ],
      "text/plain": [
       "| 10        | 200      | 14755.287049 | 0.005000          |                     | 15.405474       |"
      ]
     },
     "metadata": {},
     "output_type": "display_data"
    },
    {
     "data": {
      "text/html": [
       "<pre>| 10        | 400      | 14767.974024 | 0.002500          |                     | 15.764181       |</pre>"
      ],
      "text/plain": [
       "| 10        | 400      | 14767.974024 | 0.002500          |                     | 15.764181       |"
      ]
     },
     "metadata": {},
     "output_type": "display_data"
    },
    {
     "data": {
      "text/html": [
       "<pre>| 10        | 600      | 14780.490467 | 0.003333          |                     | 15.978976       |</pre>"
      ],
      "text/plain": [
       "| 10        | 600      | 14780.490467 | 0.003333          |                     | 15.978976       |"
      ]
     },
     "metadata": {},
     "output_type": "display_data"
    },
    {
     "data": {
      "text/html": [
       "<pre>| 10        | 800      | 14792.692691 | 0.002500          |                     | 16.390463       |</pre>"
      ],
      "text/plain": [
       "| 10        | 800      | 14792.692691 | 0.002500          |                     | 16.390463       |"
      ]
     },
     "metadata": {},
     "output_type": "display_data"
    },
    {
     "data": {
      "text/html": [
       "<pre>| 10        | 1000     | 14805.541371 | 0.003000          |                     | 15.565794       |</pre>"
      ],
      "text/plain": [
       "| 10        | 1000     | 14805.541371 | 0.003000          |                     | 15.565794       |"
      ]
     },
     "metadata": {},
     "output_type": "display_data"
    },
    {
     "data": {
      "text/html": [
       "<pre>| 10        | 1200     | 14817.556555 | 0.003333          |                     | 16.645597       |</pre>"
      ],
      "text/plain": [
       "| 10        | 1200     | 14817.556555 | 0.003333          |                     | 16.645597       |"
      ]
     },
     "metadata": {},
     "output_type": "display_data"
    },
    {
     "data": {
      "text/html": [
       "<pre>| 10        | 1400     | 14829.175999 | 0.002857          |                     | 17.212526       |</pre>"
      ],
      "text/plain": [
       "| 10        | 1400     | 14829.175999 | 0.002857          |                     | 17.212526       |"
      ]
     },
     "metadata": {},
     "output_type": "display_data"
    },
    {
     "data": {
      "text/html": [
       "<pre>| 10        | 1600     | 14841.419983 | 0.003750          |                     | 16.334538       |</pre>"
      ],
      "text/plain": [
       "| 10        | 1600     | 14841.419983 | 0.003750          |                     | 16.334538       |"
      ]
     },
     "metadata": {},
     "output_type": "display_data"
    },
    {
     "data": {
      "text/html": [
       "<pre>| 10        | 1800     | 14852.047754 | 0.004444          |                     | 18.818611       |</pre>"
      ],
      "text/plain": [
       "| 10        | 1800     | 14852.047754 | 0.004444          |                     | 18.818611       |"
      ]
     },
     "metadata": {},
     "output_type": "display_data"
    },
    {
     "data": {
      "text/html": [
       "<pre>| 10        | 2000     | 14863.568052 | 0.004000          |                     | 17.360699       |</pre>"
      ],
      "text/plain": [
       "| 10        | 2000     | 14863.568052 | 0.004000          |                     | 17.360699       |"
      ]
     },
     "metadata": {},
     "output_type": "display_data"
    },
    {
     "data": {
      "text/html": [
       "<pre>| 10        | 2200     | 14875.554402 | 0.003636          |                     | 16.685648       |</pre>"
      ],
      "text/plain": [
       "| 10        | 2200     | 14875.554402 | 0.003636          |                     | 16.685648       |"
      ]
     },
     "metadata": {},
     "output_type": "display_data"
    },
    {
     "data": {
      "text/html": [
       "<pre>| 10        | 2400     | 14886.541381 | 0.003750          |                     | 18.203327       |</pre>"
      ],
      "text/plain": [
       "| 10        | 2400     | 14886.541381 | 0.003750          |                     | 18.203327       |"
      ]
     },
     "metadata": {},
     "output_type": "display_data"
    },
    {
     "data": {
      "text/html": [
       "<pre>| 10        | 2600     | 14897.509970 | 0.005000          |                     | 18.233881       |</pre>"
      ],
      "text/plain": [
       "| 10        | 2600     | 14897.509970 | 0.005000          |                     | 18.233881       |"
      ]
     },
     "metadata": {},
     "output_type": "display_data"
    },
    {
     "data": {
      "text/html": [
       "<pre>| 10        | 2800     | 14909.603018 | 0.005357          |                     | 16.538454       |</pre>"
      ],
      "text/plain": [
       "| 10        | 2800     | 14909.603018 | 0.005357          |                     | 16.538454       |"
      ]
     },
     "metadata": {},
     "output_type": "display_data"
    },
    {
     "data": {
      "text/html": [
       "<pre>| 10        | 3000     | 14920.800007 | 0.005333          |                     | 17.861923       |</pre>"
      ],
      "text/plain": [
       "| 10        | 3000     | 14920.800007 | 0.005333          |                     | 17.861923       |"
      ]
     },
     "metadata": {},
     "output_type": "display_data"
    },
    {
     "data": {
      "text/html": [
       "<pre>| 10        | 3200     | 14931.504437 | 0.005000          |                     | 18.683880       |</pre>"
      ],
      "text/plain": [
       "| 10        | 3200     | 14931.504437 | 0.005000          |                     | 18.683880       |"
      ]
     },
     "metadata": {},
     "output_type": "display_data"
    },
    {
     "data": {
      "text/html": [
       "<pre>| 10        | 3400     | 14942.673262 | 0.004706          |                     | 17.906988       |</pre>"
      ],
      "text/plain": [
       "| 10        | 3400     | 14942.673262 | 0.004706          |                     | 17.906988       |"
      ]
     },
     "metadata": {},
     "output_type": "display_data"
    },
    {
     "data": {
      "text/html": [
       "<pre>| 10        | 3600     | 14954.984473 | 0.004722          |                     | 16.245356       |</pre>"
      ],
      "text/plain": [
       "| 10        | 3600     | 14954.984473 | 0.004722          |                     | 16.245356       |"
      ]
     },
     "metadata": {},
     "output_type": "display_data"
    },
    {
     "data": {
      "text/html": [
       "<pre>| 10        | 3800     | 14965.874401 | 0.004737          |                     | 18.365562       |</pre>"
      ],
      "text/plain": [
       "| 10        | 3800     | 14965.874401 | 0.004737          |                     | 18.365562       |"
      ]
     },
     "metadata": {},
     "output_type": "display_data"
    },
    {
     "data": {
      "text/html": [
       "<pre>| 10        | 4000     | 14976.279297 | 0.004750          |                     | 19.221762       |</pre>"
      ],
      "text/plain": [
       "| 10        | 4000     | 14976.279297 | 0.004750          |                     | 19.221762       |"
      ]
     },
     "metadata": {},
     "output_type": "display_data"
    },
    {
     "data": {
      "text/html": [
       "<pre>| 10        | 4200     | 14987.845420 | 0.004524          |                     | 17.291864       |</pre>"
      ],
      "text/plain": [
       "| 10        | 4200     | 14987.845420 | 0.004524          |                     | 17.291864       |"
      ]
     },
     "metadata": {},
     "output_type": "display_data"
    },
    {
     "data": {
      "text/html": [
       "<pre>| 10        | 4400     | 14998.553832 | 0.004318          |                     | 18.676918       |</pre>"
      ],
      "text/plain": [
       "| 10        | 4400     | 14998.553832 | 0.004318          |                     | 18.676918       |"
      ]
     },
     "metadata": {},
     "output_type": "display_data"
    },
    {
     "data": {
      "text/html": [
       "<pre>| 10        | 4600     | 15010.595982 | 0.004783          |                     | 16.608324       |</pre>"
      ],
      "text/plain": [
       "| 10        | 4600     | 15010.595982 | 0.004783          |                     | 16.608324       |"
      ]
     },
     "metadata": {},
     "output_type": "display_data"
    },
    {
     "data": {
      "text/html": [
       "<pre>| 10        | 4800     | 15022.150652 | 0.004583          |                     | 17.308994       |</pre>"
      ],
      "text/plain": [
       "| 10        | 4800     | 15022.150652 | 0.004583          |                     | 17.308994       |"
      ]
     },
     "metadata": {},
     "output_type": "display_data"
    },
    {
     "data": {
      "text/html": [
       "<pre>| 10        | 5000     | 15032.265803 | 0.004600          |                     | 19.772322       |</pre>"
      ],
      "text/plain": [
       "| 10        | 5000     | 15032.265803 | 0.004600          |                     | 19.772322       |"
      ]
     },
     "metadata": {},
     "output_type": "display_data"
    },
    {
     "data": {
      "text/html": [
       "<pre>| 10        | 5200     | 15043.098718 | 0.004615          |                     | 18.462254       |</pre>"
      ],
      "text/plain": [
       "| 10        | 5200     | 15043.098718 | 0.004615          |                     | 18.462254       |"
      ]
     },
     "metadata": {},
     "output_type": "display_data"
    },
    {
     "data": {
      "text/html": [
       "<pre>| 10        | 5400     | 15054.758874 | 0.004630          |                     | 17.152416       |</pre>"
      ],
      "text/plain": [
       "| 10        | 5400     | 15054.758874 | 0.004630          |                     | 17.152416       |"
      ]
     },
     "metadata": {},
     "output_type": "display_data"
    },
    {
     "data": {
      "text/html": [
       "<pre>| 10        | 5600     | 15066.298413 | 0.004643          |                     | 17.331730       |</pre>"
      ],
      "text/plain": [
       "| 10        | 5600     | 15066.298413 | 0.004643          |                     | 17.331730       |"
      ]
     },
     "metadata": {},
     "output_type": "display_data"
    },
    {
     "data": {
      "text/html": [
       "<pre>| 10        | 5800     | 15077.299863 | 0.004483          |                     | 18.179434       |</pre>"
      ],
      "text/plain": [
       "| 10        | 5800     | 15077.299863 | 0.004483          |                     | 18.179434       |"
      ]
     },
     "metadata": {},
     "output_type": "display_data"
    },
    {
     "data": {
      "text/html": [
       "<pre>| 10        | 6000     | 15087.961686 | 0.004833          |                     | 18.758532       |</pre>"
      ],
      "text/plain": [
       "| 10        | 6000     | 15087.961686 | 0.004833          |                     | 18.758532       |"
      ]
     },
     "metadata": {},
     "output_type": "display_data"
    },
    {
     "data": {
      "text/html": [
       "<pre>| 10        | 6200     | 15100.101641 | 0.005000          |                     | 16.474525       |</pre>"
      ],
      "text/plain": [
       "| 10        | 6200     | 15100.101641 | 0.005000          |                     | 16.474525       |"
      ]
     },
     "metadata": {},
     "output_type": "display_data"
    },
    {
     "data": {
      "text/html": [
       "<pre>| 10        | 6400     | 15111.703726 | 0.004844          |                     | 17.238247       |</pre>"
      ],
      "text/plain": [
       "| 10        | 6400     | 15111.703726 | 0.004844          |                     | 17.238247       |"
      ]
     },
     "metadata": {},
     "output_type": "display_data"
    },
    {
     "data": {
      "text/html": [
       "<pre>| 10        | 6600     | 15122.669059 | 0.004697          |                     | 18.239336       |</pre>"
      ],
      "text/plain": [
       "| 10        | 6600     | 15122.669059 | 0.004697          |                     | 18.239336       |"
      ]
     },
     "metadata": {},
     "output_type": "display_data"
    },
    {
     "data": {
      "text/html": [
       "<pre>| 10        | 6800     | 15134.115288 | 0.004559          |                     | 17.472984       |</pre>"
      ],
      "text/plain": [
       "| 10        | 6800     | 15134.115288 | 0.004559          |                     | 17.472984       |"
      ]
     },
     "metadata": {},
     "output_type": "display_data"
    },
    {
     "data": {
      "text/html": [
       "<pre>| 10        | 7000     | 15145.645799 | 0.005000          |                     | 17.345274       |</pre>"
      ],
      "text/plain": [
       "| 10        | 7000     | 15145.645799 | 0.005000          |                     | 17.345274       |"
      ]
     },
     "metadata": {},
     "output_type": "display_data"
    },
    {
     "data": {
      "text/html": [
       "<pre>| 10        | 7200     | 15156.974917 | 0.004861          |                     | 17.653658       |</pre>"
      ],
      "text/plain": [
       "| 10        | 7200     | 15156.974917 | 0.004861          |                     | 17.653658       |"
      ]
     },
     "metadata": {},
     "output_type": "display_data"
    },
    {
     "data": {
      "text/html": [
       "<pre>| 10        | 7400     | 15168.599513 | 0.004730          |                     | 17.204866       |</pre>"
      ],
      "text/plain": [
       "| 10        | 7400     | 15168.599513 | 0.004730          |                     | 17.204866       |"
      ]
     },
     "metadata": {},
     "output_type": "display_data"
    },
    {
     "data": {
      "text/html": [
       "<pre>| 10        | 7600     | 15178.758700 | 0.004868          |                     | 19.686623       |</pre>"
      ],
      "text/plain": [
       "| 10        | 7600     | 15178.758700 | 0.004868          |                     | 19.686623       |"
      ]
     },
     "metadata": {},
     "output_type": "display_data"
    },
    {
     "data": {
      "text/html": [
       "<pre>| 10        | 7800     | 15190.478089 | 0.005128          |                     | 17.065754       |</pre>"
      ],
      "text/plain": [
       "| 10        | 7800     | 15190.478089 | 0.005128          |                     | 17.065754       |"
      ]
     },
     "metadata": {},
     "output_type": "display_data"
    },
    {
     "data": {
      "text/html": [
       "<pre>| 10        | 8000     | 15202.782057 | 0.005000          |                     | 16.254923       |</pre>"
      ],
      "text/plain": [
       "| 10        | 8000     | 15202.782057 | 0.005000          |                     | 16.254923       |"
      ]
     },
     "metadata": {},
     "output_type": "display_data"
    },
    {
     "data": {
      "text/html": [
       "<pre>| 10        | 8200     | 15214.264389 | 0.005000          |                     | 17.418041       |</pre>"
      ],
      "text/plain": [
       "| 10        | 8200     | 15214.264389 | 0.005000          |                     | 17.418041       |"
      ]
     },
     "metadata": {},
     "output_type": "display_data"
    },
    {
     "data": {
      "text/html": [
       "<pre>| 10        | 8400     | 15224.794561 | 0.005238          |                     | 18.993082       |</pre>"
      ],
      "text/plain": [
       "| 10        | 8400     | 15224.794561 | 0.005238          |                     | 18.993082       |"
      ]
     },
     "metadata": {},
     "output_type": "display_data"
    },
    {
     "data": {
      "text/html": [
       "<pre>| 10        | 8600     | 15236.523373 | 0.005233          |                     | 17.052025       |</pre>"
      ],
      "text/plain": [
       "| 10        | 8600     | 15236.523373 | 0.005233          |                     | 17.052025       |"
      ]
     },
     "metadata": {},
     "output_type": "display_data"
    },
    {
     "data": {
      "text/html": [
       "<pre>| 10        | 8800     | 15248.097556 | 0.005227          |                     | 17.279791       |</pre>"
      ],
      "text/plain": [
       "| 10        | 8800     | 15248.097556 | 0.005227          |                     | 17.279791       |"
      ]
     },
     "metadata": {},
     "output_type": "display_data"
    },
    {
     "data": {
      "text/html": [
       "<pre>| 10        | 9000     | 15259.233482 | 0.005111          |                     | 17.959908       |</pre>"
      ],
      "text/plain": [
       "| 10        | 9000     | 15259.233482 | 0.005111          |                     | 17.959908       |"
      ]
     },
     "metadata": {},
     "output_type": "display_data"
    },
    {
     "data": {
      "text/html": [
       "<pre>| 10        | 9200     | 15269.999586 | 0.005217          |                     | 18.576855       |</pre>"
      ],
      "text/plain": [
       "| 10        | 9200     | 15269.999586 | 0.005217          |                     | 18.576855       |"
      ]
     },
     "metadata": {},
     "output_type": "display_data"
    },
    {
     "data": {
      "text/html": [
       "<pre>| 10        | 9400     | 15281.114173 | 0.005319          |                     | 17.994331       |</pre>"
      ],
      "text/plain": [
       "| 10        | 9400     | 15281.114173 | 0.005319          |                     | 17.994331       |"
      ]
     },
     "metadata": {},
     "output_type": "display_data"
    },
    {
     "data": {
      "text/html": [
       "<pre>| 10        | 9600     | 15292.975456 | 0.005313          |                     | 16.861614       |</pre>"
      ],
      "text/plain": [
       "| 10        | 9600     | 15292.975456 | 0.005313          |                     | 16.861614       |"
      ]
     },
     "metadata": {},
     "output_type": "display_data"
    },
    {
     "data": {
      "text/html": [
       "<pre>| 10        | 9800     | 15303.780155 | 0.005306          |                     | 18.510471       |</pre>"
      ],
      "text/plain": [
       "| 10        | 9800     | 15303.780155 | 0.005306          |                     | 18.510471       |"
      ]
     },
     "metadata": {},
     "output_type": "display_data"
    },
    {
     "data": {
      "text/html": [
       "<pre>| 10        | 10000    | 15314.794091 | 0.005400          |                     | 18.158772       |</pre>"
      ],
      "text/plain": [
       "| 10        | 10000    | 15314.794091 | 0.005400          |                     | 18.158772       |"
      ]
     },
     "metadata": {},
     "output_type": "display_data"
    },
    {
     "data": {
      "text/html": [
       "<pre>| 10        | 10200    | 15325.752213 | 0.005392          |                     | 18.251299       |</pre>"
      ],
      "text/plain": [
       "| 10        | 10200    | 15325.752213 | 0.005392          |                     | 18.251299       |"
      ]
     },
     "metadata": {},
     "output_type": "display_data"
    },
    {
     "data": {
      "text/html": [
       "<pre>| 10        | 10400    | 15337.403366 | 0.005673          |                     | 17.165720       |</pre>"
      ],
      "text/plain": [
       "| 10        | 10400    | 15337.403366 | 0.005673          |                     | 17.165720       |"
      ]
     },
     "metadata": {},
     "output_type": "display_data"
    },
    {
     "data": {
      "text/html": [
       "<pre>| 10        | 10600    | 15349.101850 | 0.005566          |                     | 17.096241       |</pre>"
      ],
      "text/plain": [
       "| 10        | 10600    | 15349.101850 | 0.005566          |                     | 17.096241       |"
      ]
     },
     "metadata": {},
     "output_type": "display_data"
    },
    {
     "data": {
      "text/html": [
       "<pre>| 10        | 10800    | 15360.157502 | 0.005556          |                     | 18.090252       |</pre>"
      ],
      "text/plain": [
       "| 10        | 10800    | 15360.157502 | 0.005556          |                     | 18.090252       |"
      ]
     },
     "metadata": {},
     "output_type": "display_data"
    },
    {
     "data": {
      "text/html": [
       "<pre>| 10        | 11000    | 15370.417952 | 0.005455          |                     | 19.492348       |</pre>"
      ],
      "text/plain": [
       "| 10        | 11000    | 15370.417952 | 0.005455          |                     | 19.492348       |"
      ]
     },
     "metadata": {},
     "output_type": "display_data"
    },
    {
     "data": {
      "text/html": [
       "<pre>| 10        | 11200    | 15382.729357 | 0.005446          |                     | 16.245110       |</pre>"
      ],
      "text/plain": [
       "| 10        | 11200    | 15382.729357 | 0.005446          |                     | 16.245110       |"
      ]
     },
     "metadata": {},
     "output_type": "display_data"
    },
    {
     "data": {
      "text/html": [
       "<pre>| 10        | 11400    | 15394.418607 | 0.005351          |                     | 17.109709       |</pre>"
      ],
      "text/plain": [
       "| 10        | 11400    | 15394.418607 | 0.005351          |                     | 17.109709       |"
      ]
     },
     "metadata": {},
     "output_type": "display_data"
    },
    {
     "data": {
      "text/html": [
       "<pre>| 10        | 11600    | 15405.228043 | 0.005345          |                     | 18.502388       |</pre>"
      ],
      "text/plain": [
       "| 10        | 11600    | 15405.228043 | 0.005345          |                     | 18.502388       |"
      ]
     },
     "metadata": {},
     "output_type": "display_data"
    },
    {
     "data": {
      "text/html": [
       "<pre>| 10        | 11800    | 15416.633990 | 0.005254          |                     | 17.534706       |</pre>"
      ],
      "text/plain": [
       "| 10        | 11800    | 15416.633990 | 0.005254          |                     | 17.534706       |"
      ]
     },
     "metadata": {},
     "output_type": "display_data"
    },
    {
     "data": {
      "text/html": [
       "<pre>| 10        | 12000    | 15428.256972 | 0.005167          |                     | 17.207296       |</pre>"
      ],
      "text/plain": [
       "| 10        | 12000    | 15428.256972 | 0.005167          |                     | 17.207296       |"
      ]
     },
     "metadata": {},
     "output_type": "display_data"
    },
    {
     "data": {
      "text/html": [
       "<pre>| 10        | 12200    | 15439.818210 | 0.005246          |                     | 17.299162       |</pre>"
      ],
      "text/plain": [
       "| 10        | 12200    | 15439.818210 | 0.005246          |                     | 17.299162       |"
      ]
     },
     "metadata": {},
     "output_type": "display_data"
    },
    {
     "data": {
      "text/html": [
       "<pre>| 10        | 12400    | 15451.364546 | 0.005403          |                     | 17.321539       |</pre>"
      ],
      "text/plain": [
       "| 10        | 12400    | 15451.364546 | 0.005403          |                     | 17.321539       |"
      ]
     },
     "metadata": {},
     "output_type": "display_data"
    },
    {
     "data": {
      "text/html": [
       "<pre>| 10        | 12600    | 15462.385857 | 0.005397          |                     | 18.146633       |</pre>"
      ],
      "text/plain": [
       "| 10        | 12600    | 15462.385857 | 0.005397          |                     | 18.146633       |"
      ]
     },
     "metadata": {},
     "output_type": "display_data"
    },
    {
     "data": {
      "text/html": [
       "<pre>| 10        | 12800    | 15474.251213 | 0.005547          |                     | 16.855812       |</pre>"
      ],
      "text/plain": [
       "| 10        | 12800    | 15474.251213 | 0.005547          |                     | 16.855812       |"
      ]
     },
     "metadata": {},
     "output_type": "display_data"
    },
    {
     "data": {
      "text/html": [
       "<pre>| 10        | 13000    | 15485.832779 | 0.005538          |                     | 17.268822       |</pre>"
      ],
      "text/plain": [
       "| 10        | 13000    | 15485.832779 | 0.005538          |                     | 17.268822       |"
      ]
     },
     "metadata": {},
     "output_type": "display_data"
    },
    {
     "data": {
      "text/html": [
       "<pre>| 10        | 13200    | 15497.205469 | 0.005455          |                     | 17.585991       |</pre>"
      ],
      "text/plain": [
       "| 10        | 13200    | 15497.205469 | 0.005455          |                     | 17.585991       |"
      ]
     },
     "metadata": {},
     "output_type": "display_data"
    },
    {
     "data": {
      "text/html": [
       "<pre>| 10        | 13400    | 15507.690523 | 0.005373          |                     | 19.074728       |</pre>"
      ],
      "text/plain": [
       "| 10        | 13400    | 15507.690523 | 0.005373          |                     | 19.074728       |"
      ]
     },
     "metadata": {},
     "output_type": "display_data"
    },
    {
     "data": {
      "text/html": [
       "<pre>| 10        | 13600    | 15519.181935 | 0.005368          |                     | 17.404346       |</pre>"
      ],
      "text/plain": [
       "| 10        | 13600    | 15519.181935 | 0.005368          |                     | 17.404346       |"
      ]
     },
     "metadata": {},
     "output_type": "display_data"
    },
    {
     "data": {
      "text/html": [
       "<pre>| 10        | 13800    | 15531.622316 | 0.005435          |                     | 16.076656       |</pre>"
      ],
      "text/plain": [
       "| 10        | 13800    | 15531.622316 | 0.005435          |                     | 16.076656       |"
      ]
     },
     "metadata": {},
     "output_type": "display_data"
    },
    {
     "data": {
      "text/html": [
       "<pre>| 10        | 14000    | 15541.647273 | 0.005357          |                     | 19.950235       |</pre>"
      ],
      "text/plain": [
       "| 10        | 14000    | 15541.647273 | 0.005357          |                     | 19.950235       |"
      ]
     },
     "metadata": {},
     "output_type": "display_data"
    },
    {
     "data": {
      "text/html": [
       "<pre>| 10        | 14200    | 15553.208870 | 0.005563          |                     | 17.298611       |</pre>"
      ],
      "text/plain": [
       "| 10        | 14200    | 15553.208870 | 0.005563          |                     | 17.298611       |"
      ]
     },
     "metadata": {},
     "output_type": "display_data"
    },
    {
     "data": {
      "text/html": [
       "<pre>| 10        | 14400    | 15565.366680 | 0.005556          |                     | 16.450369       |</pre>"
      ],
      "text/plain": [
       "| 10        | 14400    | 15565.366680 | 0.005556          |                     | 16.450369       |"
      ]
     },
     "metadata": {},
     "output_type": "display_data"
    },
    {
     "data": {
      "text/html": [
       "<pre>| 10        | 14600    | 15576.936179 | 0.005616          |                     | 17.286795       |</pre>"
      ],
      "text/plain": [
       "| 10        | 14600    | 15576.936179 | 0.005616          |                     | 17.286795       |"
      ]
     },
     "metadata": {},
     "output_type": "display_data"
    },
    {
     "data": {
      "text/html": [
       "<pre>| 10        | 14800    | 15587.958016 | 0.005608          |                     | 18.145803       |</pre>"
      ],
      "text/plain": [
       "| 10        | 14800    | 15587.958016 | 0.005608          |                     | 18.145803       |"
      ]
     },
     "metadata": {},
     "output_type": "display_data"
    },
    {
     "data": {
      "text/html": [
       "<pre>| 10        | 15000    | 15598.920055 | 0.005600          |                     | 18.244802       |</pre>"
      ],
      "text/plain": [
       "| 10        | 15000    | 15598.920055 | 0.005600          |                     | 18.244802       |"
      ]
     },
     "metadata": {},
     "output_type": "display_data"
    },
    {
     "data": {
      "text/html": [
       "<pre>| 10        | 15200    | 15610.699577 | 0.005526          |                     | 16.978586       |</pre>"
      ],
      "text/plain": [
       "| 10        | 15200    | 15610.699577 | 0.005526          |                     | 16.978586       |"
      ]
     },
     "metadata": {},
     "output_type": "display_data"
    },
    {
     "data": {
      "text/html": [
       "<pre>| 10        | 15400    | 15622.064621 | 0.005519          |                     | 17.597845       |</pre>"
      ],
      "text/plain": [
       "| 10        | 15400    | 15622.064621 | 0.005519          |                     | 17.597845       |"
      ]
     },
     "metadata": {},
     "output_type": "display_data"
    },
    {
     "data": {
      "text/html": [
       "<pre>| 10        | 15600    | 15633.248568 | 0.005577          |                     | 17.882788       |</pre>"
      ],
      "text/plain": [
       "| 10        | 15600    | 15633.248568 | 0.005577          |                     | 17.882788       |"
      ]
     },
     "metadata": {},
     "output_type": "display_data"
    },
    {
     "data": {
      "text/html": [
       "<pre>| 10        | 15800    | 15644.576688 | 0.005633          |                     | 17.655169       |</pre>"
      ],
      "text/plain": [
       "| 10        | 15800    | 15644.576688 | 0.005633          |                     | 17.655169       |"
      ]
     },
     "metadata": {},
     "output_type": "display_data"
    },
    {
     "data": {
      "text/html": [
       "<pre>| 10        | 16000    | 15656.156444 | 0.005563          |                     | 17.271496       |</pre>"
      ],
      "text/plain": [
       "| 10        | 16000    | 15656.156444 | 0.005563          |                     | 17.271496       |"
      ]
     },
     "metadata": {},
     "output_type": "display_data"
    },
    {
     "data": {
      "text/html": [
       "<pre>| 10        | 16200    | 15667.192638 | 0.005494          |                     | 18.122181       |</pre>"
      ],
      "text/plain": [
       "| 10        | 16200    | 15667.192638 | 0.005494          |                     | 18.122181       |"
      ]
     },
     "metadata": {},
     "output_type": "display_data"
    },
    {
     "data": {
      "text/html": [
       "<pre>| 10        | 16400    | 15678.703472 | 0.005427          |                     | 17.374945       |</pre>"
      ],
      "text/plain": [
       "| 10        | 16400    | 15678.703472 | 0.005427          |                     | 17.374945       |"
      ]
     },
     "metadata": {},
     "output_type": "display_data"
    },
    {
     "data": {
      "text/html": [
       "<pre>| 10        | 16600    | 15689.355748 | 0.005422          |                     | 18.775360       |</pre>"
      ],
      "text/plain": [
       "| 10        | 16600    | 15689.355748 | 0.005422          |                     | 18.775360       |"
      ]
     },
     "metadata": {},
     "output_type": "display_data"
    },
    {
     "data": {
      "text/html": [
       "<pre>| 10        | 16800    | 15700.845273 | 0.005476          |                     | 17.407166       |</pre>"
      ],
      "text/plain": [
       "| 10        | 16800    | 15700.845273 | 0.005476          |                     | 17.407166       |"
      ]
     },
     "metadata": {},
     "output_type": "display_data"
    },
    {
     "data": {
      "text/html": [
       "<pre>| 10        | 17000    | 15713.022946 | 0.005471          |                     | 16.423502       |</pre>"
      ],
      "text/plain": [
       "| 10        | 17000    | 15713.022946 | 0.005471          |                     | 16.423502       |"
      ]
     },
     "metadata": {},
     "output_type": "display_data"
    },
    {
     "data": {
      "text/html": [
       "<pre>| 10        | 17200    | 15724.214015 | 0.005407          |                     | 17.871368       |</pre>"
      ],
      "text/plain": [
       "| 10        | 17200    | 15724.214015 | 0.005407          |                     | 17.871368       |"
      ]
     },
     "metadata": {},
     "output_type": "display_data"
    },
    {
     "data": {
      "text/html": [
       "<pre>| 10        | 17400    | 15735.570199 | 0.005460          |                     | 17.611574       |</pre>"
      ],
      "text/plain": [
       "| 10        | 17400    | 15735.570199 | 0.005460          |                     | 17.611574       |"
      ]
     },
     "metadata": {},
     "output_type": "display_data"
    },
    {
     "data": {
      "text/html": [
       "<pre>| 10        | 17600    | 15747.801320 | 0.005455          |                     | 16.351730       |</pre>"
      ],
      "text/plain": [
       "| 10        | 17600    | 15747.801320 | 0.005455          |                     | 16.351730       |"
      ]
     },
     "metadata": {},
     "output_type": "display_data"
    },
    {
     "data": {
      "text/html": [
       "<pre>| 10        | 17800    | 15758.608800 | 0.005449          |                     | 18.505676       |</pre>"
      ],
      "text/plain": [
       "| 10        | 17800    | 15758.608800 | 0.005449          |                     | 18.505676       |"
      ]
     },
     "metadata": {},
     "output_type": "display_data"
    },
    {
     "data": {
      "text/html": [
       "<pre>| 10        | 18000    | 15769.427061 | 0.005556          |                     | 18.487278       |</pre>"
      ],
      "text/plain": [
       "| 10        | 18000    | 15769.427061 | 0.005556          |                     | 18.487278       |"
      ]
     },
     "metadata": {},
     "output_type": "display_data"
    },
    {
     "data": {
      "text/html": [
       "<pre>| 10        | 18200    | 15780.467447 | 0.005495          |                     | 18.115322       |</pre>"
      ],
      "text/plain": [
       "| 10        | 18200    | 15780.467447 | 0.005495          |                     | 18.115322       |"
      ]
     },
     "metadata": {},
     "output_type": "display_data"
    },
    {
     "data": {
      "text/html": [
       "<pre>| 10        | 18400    | 15792.505244 | 0.005598          |                     | 16.614298       |</pre>"
      ],
      "text/plain": [
       "| 10        | 18400    | 15792.505244 | 0.005598          |                     | 16.614298       |"
      ]
     },
     "metadata": {},
     "output_type": "display_data"
    },
    {
     "data": {
      "text/html": [
       "<pre>| 10        | 18600    | 15803.719435 | 0.005538          |                     | 17.834545       |</pre>"
      ],
      "text/plain": [
       "| 10        | 18600    | 15803.719435 | 0.005538          |                     | 17.834545       |"
      ]
     },
     "metadata": {},
     "output_type": "display_data"
    },
    {
     "data": {
      "text/html": [
       "<pre>| 10        | 18800    | 15813.794610 | 0.005479          |                     | 19.850809       |</pre>"
      ],
      "text/plain": [
       "| 10        | 18800    | 15813.794610 | 0.005479          |                     | 19.850809       |"
      ]
     },
     "metadata": {},
     "output_type": "display_data"
    },
    {
     "data": {
      "text/html": [
       "<pre>| 10        | 19000    | 15825.149534 | 0.005474          |                     | 17.613478       |</pre>"
      ],
      "text/plain": [
       "| 10        | 19000    | 15825.149534 | 0.005474          |                     | 17.613478       |"
      ]
     },
     "metadata": {},
     "output_type": "display_data"
    },
    {
     "data": {
      "text/html": [
       "<pre>| 10        | 19200    | 15836.169349 | 0.005521          |                     | 18.149158       |</pre>"
      ],
      "text/plain": [
       "| 10        | 19200    | 15836.169349 | 0.005521          |                     | 18.149158       |"
      ]
     },
     "metadata": {},
     "output_type": "display_data"
    },
    {
     "data": {
      "text/html": [
       "<pre>| 10        | 19400    | 15847.961056 | 0.005464          |                     | 16.961052       |</pre>"
      ],
      "text/plain": [
       "| 10        | 19400    | 15847.961056 | 0.005464          |                     | 16.961052       |"
      ]
     },
     "metadata": {},
     "output_type": "display_data"
    },
    {
     "data": {
      "text/html": [
       "<pre>| 10        | 19600    | 15859.491728 | 0.005408          |                     | 17.345030       |</pre>"
      ],
      "text/plain": [
       "| 10        | 19600    | 15859.491728 | 0.005408          |                     | 17.345030       |"
      ]
     },
     "metadata": {},
     "output_type": "display_data"
    },
    {
     "data": {
      "text/html": [
       "<pre>| 10        | 19800    | 15870.627322 | 0.005404          |                     | 17.960438       |</pre>"
      ],
      "text/plain": [
       "| 10        | 19800    | 15870.627322 | 0.005404          |                     | 17.960438       |"
      ]
     },
     "metadata": {},
     "output_type": "display_data"
    },
    {
     "data": {
      "text/html": [
       "<pre>| 10        | 20000    | 15881.192315 | 0.005400          |                     | 18.930483       |</pre>"
      ],
      "text/plain": [
       "| 10        | 20000    | 15881.192315 | 0.005400          |                     | 18.930483       |"
      ]
     },
     "metadata": {},
     "output_type": "display_data"
    },
    {
     "data": {
      "text/html": [
       "<pre>| 10        | 20200    | 15893.707670 | 0.005396          |                     | 15.980365       |</pre>"
      ],
      "text/plain": [
       "| 10        | 20200    | 15893.707670 | 0.005396          |                     | 15.980365       |"
      ]
     },
     "metadata": {},
     "output_type": "display_data"
    },
    {
     "data": {
      "text/html": [
       "<pre>| 10        | 20400    | 15904.955934 | 0.005441          |                     | 17.780519       |</pre>"
      ],
      "text/plain": [
       "| 10        | 20400    | 15904.955934 | 0.005441          |                     | 17.780519       |"
      ]
     },
     "metadata": {},
     "output_type": "display_data"
    },
    {
     "data": {
      "text/html": [
       "<pre>| 10        | 20600    | 15916.525045 | 0.005485          |                     | 17.287420       |</pre>"
      ],
      "text/plain": [
       "| 10        | 20600    | 15916.525045 | 0.005485          |                     | 17.287420       |"
      ]
     },
     "metadata": {},
     "output_type": "display_data"
    },
    {
     "data": {
      "text/html": [
       "<pre>| 10        | 20800    | 15928.486285 | 0.005529          |                     | 16.720678       |</pre>"
      ],
      "text/plain": [
       "| 10        | 20800    | 15928.486285 | 0.005529          |                     | 16.720678       |"
      ]
     },
     "metadata": {},
     "output_type": "display_data"
    },
    {
     "data": {
      "text/html": [
       "<pre>| 10        | 21000    | 15940.315252 | 0.005476          |                     | 16.907637       |</pre>"
      ],
      "text/plain": [
       "| 10        | 21000    | 15940.315252 | 0.005476          |                     | 16.907637       |"
      ]
     },
     "metadata": {},
     "output_type": "display_data"
    },
    {
     "data": {
      "text/html": [
       "<pre>| 10        | 21200    | 15951.541475 | 0.005472          |                     | 17.815413       |</pre>"
      ],
      "text/plain": [
       "| 10        | 21200    | 15951.541475 | 0.005472          |                     | 17.815413       |"
      ]
     },
     "metadata": {},
     "output_type": "display_data"
    },
    {
     "data": {
      "text/html": [
       "<pre>| 10        | 21400    | 15962.931339 | 0.005421          |                     | 17.559500       |</pre>"
      ],
      "text/plain": [
       "| 10        | 21400    | 15962.931339 | 0.005421          |                     | 17.559500       |"
      ]
     },
     "metadata": {},
     "output_type": "display_data"
    },
    {
     "data": {
      "text/html": [
       "<pre>| 10        | 21600    | 15975.586527 | 0.005417          |                     | 15.803770       |</pre>"
      ],
      "text/plain": [
       "| 10        | 21600    | 15975.586527 | 0.005417          |                     | 15.803770       |"
      ]
     },
     "metadata": {},
     "output_type": "display_data"
    },
    {
     "data": {
      "text/html": [
       "<pre>| 10        | 21800    | 15986.834736 | 0.005459          |                     | 17.780638       |</pre>"
      ],
      "text/plain": [
       "| 10        | 21800    | 15986.834736 | 0.005459          |                     | 17.780638       |"
      ]
     },
     "metadata": {},
     "output_type": "display_data"
    },
    {
     "data": {
      "text/html": [
       "<pre>| 10        | 22000    | 15997.578835 | 0.005409          |                     | 18.614838       |</pre>"
      ],
      "text/plain": [
       "| 10        | 22000    | 15997.578835 | 0.005409          |                     | 18.614838       |"
      ]
     },
     "metadata": {},
     "output_type": "display_data"
    },
    {
     "data": {
      "text/html": [
       "<pre>| 10        | 22200    | 16009.369491 | 0.005360          |                     | 16.962614       |</pre>"
      ],
      "text/plain": [
       "| 10        | 22200    | 16009.369491 | 0.005360          |                     | 16.962614       |"
      ]
     },
     "metadata": {},
     "output_type": "display_data"
    },
    {
     "data": {
      "text/html": [
       "<pre>| 10        | 22400    | 16021.410957 | 0.005313          |                     | 16.609240       |</pre>"
      ],
      "text/plain": [
       "| 10        | 22400    | 16021.410957 | 0.005313          |                     | 16.609240       |"
      ]
     },
     "metadata": {},
     "output_type": "display_data"
    },
    {
     "data": {
      "text/html": [
       "<pre>| 10        | 22600    | 16032.383322 | 0.005398          |                     | 18.227638       |</pre>"
      ],
      "text/plain": [
       "| 10        | 22600    | 16032.383322 | 0.005398          |                     | 18.227638       |"
      ]
     },
     "metadata": {},
     "output_type": "display_data"
    },
    {
     "data": {
      "text/html": [
       "<pre>| 10        | 22800    | 16043.404732 | 0.005395          |                     | 18.146503       |</pre>"
      ],
      "text/plain": [
       "| 10        | 22800    | 16043.404732 | 0.005395          |                     | 18.146503       |"
      ]
     },
     "metadata": {},
     "output_type": "display_data"
    },
    {
     "data": {
      "text/html": [
       "<pre>| 10        | 23000    | 16053.990548 | 0.005391          |                     | 18.893177       |</pre>"
      ],
      "text/plain": [
       "| 10        | 23000    | 16053.990548 | 0.005391          |                     | 18.893177       |"
      ]
     },
     "metadata": {},
     "output_type": "display_data"
    },
    {
     "data": {
      "text/html": [
       "<pre>| 10        | 23200    | 16065.570841 | 0.005431          |                     | 17.270710       |</pre>"
      ],
      "text/plain": [
       "| 10        | 23200    | 16065.570841 | 0.005431          |                     | 17.270710       |"
      ]
     },
     "metadata": {},
     "output_type": "display_data"
    },
    {
     "data": {
      "text/html": [
       "<pre>| 10        | 23400    | 16076.580931 | 0.005385          |                     | 18.165152       |</pre>"
      ],
      "text/plain": [
       "| 10        | 23400    | 16076.580931 | 0.005385          |                     | 18.165152       |"
      ]
     },
     "metadata": {},
     "output_type": "display_data"
    },
    {
     "data": {
      "text/html": [
       "<pre>| 10        | 23600    | 16087.538918 | 0.005339          |                     | 18.251535       |</pre>"
      ],
      "text/plain": [
       "| 10        | 23600    | 16087.538918 | 0.005339          |                     | 18.251535       |"
      ]
     },
     "metadata": {},
     "output_type": "display_data"
    },
    {
     "data": {
      "text/html": [
       "<pre>| 10        | 23800    | 16098.522907 | 0.005420          |                     | 18.208315       |</pre>"
      ],
      "text/plain": [
       "| 10        | 23800    | 16098.522907 | 0.005420          |                     | 18.208315       |"
      ]
     },
     "metadata": {},
     "output_type": "display_data"
    },
    {
     "data": {
      "text/html": [
       "<pre>| 10        | 24000    | 16109.370301 | 0.005417          |                     | 18.437658       |</pre>"
      ],
      "text/plain": [
       "| 10        | 24000    | 16109.370301 | 0.005417          |                     | 18.437658       |"
      ]
     },
     "metadata": {},
     "output_type": "display_data"
    },
    {
     "data": {
      "text/html": [
       "<pre>| 10        | 24200    | 16121.548969 | 0.005413          |                     | 16.422138       |</pre>"
      ],
      "text/plain": [
       "| 10        | 24200    | 16121.548969 | 0.005413          |                     | 16.422138       |"
      ]
     },
     "metadata": {},
     "output_type": "display_data"
    },
    {
     "data": {
      "text/html": [
       "<pre>| 10        | 24400    | 16132.378803 | 0.005410          |                     | 18.467476       |</pre>"
      ],
      "text/plain": [
       "| 10        | 24400    | 16132.378803 | 0.005410          |                     | 18.467476       |"
      ]
     },
     "metadata": {},
     "output_type": "display_data"
    },
    {
     "data": {
      "text/html": [
       "<pre>| 10        | 24600    | 16143.237176 | 0.005488          |                     | 18.418970       |</pre>"
      ],
      "text/plain": [
       "| 10        | 24600    | 16143.237176 | 0.005488          |                     | 18.418970       |"
      ]
     },
     "metadata": {},
     "output_type": "display_data"
    },
    {
     "data": {
      "text/html": [
       "<pre>| 10        | 24800    | 16155.005201 | 0.005444          |                     | 16.995234       |</pre>"
      ],
      "text/plain": [
       "| 10        | 24800    | 16155.005201 | 0.005444          |                     | 16.995234       |"
      ]
     },
     "metadata": {},
     "output_type": "display_data"
    },
    {
     "data": {
      "text/html": [
       "<pre>| 10        | 25000    | 16166.832770 | 0.005400          |                     | 16.909613       |</pre>"
      ],
      "text/plain": [
       "| 10        | 25000    | 16166.832770 | 0.005400          |                     | 16.909613       |"
      ]
     },
     "metadata": {},
     "output_type": "display_data"
    },
    {
     "data": {
      "text/html": [
       "<pre>| 10        | 25200    | 16177.238082 | 0.005397          |                     | 19.220955       |</pre>"
      ],
      "text/plain": [
       "| 10        | 25200    | 16177.238082 | 0.005397          |                     | 19.220955       |"
      ]
     },
     "metadata": {},
     "output_type": "display_data"
    },
    {
     "data": {
      "text/html": [
       "<pre>| 10        | 25400    | 16187.821114 | 0.005354          |                     | 18.898172       |</pre>"
      ],
      "text/plain": [
       "| 10        | 25400    | 16187.821114 | 0.005354          |                     | 18.898172       |"
      ]
     },
     "metadata": {},
     "output_type": "display_data"
    },
    {
     "data": {
      "text/html": [
       "<pre>| 10        | 25600    | 16198.678484 | 0.005352          |                     | 18.420671       |</pre>"
      ],
      "text/plain": [
       "| 10        | 25600    | 16198.678484 | 0.005352          |                     | 18.420671       |"
      ]
     },
     "metadata": {},
     "output_type": "display_data"
    },
    {
     "data": {
      "text/html": [
       "<pre>| 10        | 25800    | 16210.419008 | 0.005310          |                     | 17.035051       |</pre>"
      ],
      "text/plain": [
       "| 10        | 25800    | 16210.419008 | 0.005310          |                     | 17.035051       |"
      ]
     },
     "metadata": {},
     "output_type": "display_data"
    },
    {
     "data": {
      "text/html": [
       "<pre>| 10        | 26000    | 16221.977105 | 0.005269          |                     | 17.303844       |</pre>"
      ],
      "text/plain": [
       "| 10        | 26000    | 16221.977105 | 0.005269          |                     | 17.303844       |"
      ]
     },
     "metadata": {},
     "output_type": "display_data"
    },
    {
     "data": {
      "text/html": [
       "<pre>| 10        | 26200    | 16232.975386 | 0.005305          |                     | 18.184664       |</pre>"
      ],
      "text/plain": [
       "| 10        | 26200    | 16232.975386 | 0.005305          |                     | 18.184664       |"
      ]
     },
     "metadata": {},
     "output_type": "display_data"
    },
    {
     "data": {
      "text/html": [
       "<pre>| 10        | 26400    | 16244.179140 | 0.005303          |                     | 17.851192       |</pre>"
      ],
      "text/plain": [
       "| 10        | 26400    | 16244.179140 | 0.005303          |                     | 17.851192       |"
      ]
     },
     "metadata": {},
     "output_type": "display_data"
    },
    {
     "data": {
      "text/html": [
       "<pre>| 10        | 26600    | 16255.948403 | 0.005338          |                     | 16.993420       |</pre>"
      ],
      "text/plain": [
       "| 10        | 26600    | 16255.948403 | 0.005338          |                     | 16.993420       |"
      ]
     },
     "metadata": {},
     "output_type": "display_data"
    },
    {
     "data": {
      "text/html": [
       "<pre>| 10        | 26600    | 16520.066256 | 0.005338          | 0.005375            | 16.993420       |</pre>"
      ],
      "text/plain": [
       "| 10        | 26600    | 16520.066256 | 0.005338          | 0.005375            | 16.993420       |"
      ]
     },
     "metadata": {},
     "output_type": "display_data"
    },
    {
     "data": {
      "text/html": [
       "<pre>Checkpointing model into rep IDSIA by 1 conv graphlab net - train in 10 iters</pre>"
      ],
      "text/plain": [
       "Checkpointing model into rep IDSIA by 1 conv graphlab net - train in 10 iters"
      ]
     },
     "metadata": {},
     "output_type": "display_data"
    },
    {
     "data": {
      "text/html": [
       "<pre>+-----------+----------+--------------+-------------------+---------------------+-----------------+</pre>"
      ],
      "text/plain": [
       "+-----------+----------+--------------+-------------------+---------------------+-----------------+"
      ]
     },
     "metadata": {},
     "output_type": "display_data"
    }
   ],
   "source": [
    "trained_dato = gl.neuralnet_classifier.create(train_signs, target='label',\n",
    "                                             features=['image'],\n",
    "                                             network= dato_net,\n",
    "                                              validation_set= valid_signs,\n",
    "                                             max_iterations= 10,\n",
    "                                              model_checkpoint_path ='rep IDSIA by 1 conv graphlab net - train in 10 iters',\n",
    "                                              model_checkpoint_interval = 1\n",
    "                                             )"
   ]
  }
 ],
 "metadata": {
  "kernelspec": {
   "display_name": "Python 2",
   "language": "python",
   "name": "python2"
  },
  "language_info": {
   "codemirror_mode": {
    "name": "ipython",
    "version": 2
   },
   "file_extension": ".py",
   "mimetype": "text/x-python",
   "name": "python",
   "nbconvert_exporter": "python",
   "pygments_lexer": "ipython2",
   "version": "2.7.12"
  }
 },
 "nbformat": 4,
 "nbformat_minor": 0
}
