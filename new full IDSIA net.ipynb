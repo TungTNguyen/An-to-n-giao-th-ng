{
 "cells": [
  {
   "cell_type": "code",
   "execution_count": 1,
   "metadata": {
    "collapsed": false
   },
   "outputs": [
    {
     "name": "stdout",
     "output_type": "stream",
     "text": [
      "This non-commercial license of GraphLab Create for academic use is assigned to keira1412@gmail.com and will expire on October 05, 2017.\n"
     ]
    },
    {
     "name": "stderr",
     "output_type": "stream",
     "text": [
      "[INFO] graphlab.cython.cy_server: GraphLab Create v2.1 started. Logging: /tmp/graphlab_server_1480154922.log\n"
     ]
    },
    {
     "data": {
      "text/html": [
       "<div style=\"max-height:1000px;max-width:1500px;overflow:auto;\"><table frame=\"box\" rules=\"cols\">\n",
       "    <tr>\n",
       "        <th style=\"padding-left: 1em; padding-right: 1em; text-align: center\">path</th>\n",
       "        <th style=\"padding-left: 1em; padding-right: 1em; text-align: center\">image</th>\n",
       "        <th style=\"padding-left: 1em; padding-right: 1em; text-align: center\">label</th>\n",
       "    </tr>\n",
       "    <tr>\n",
       "        <td style=\"padding-left: 1em; padding-right: 1em; text-align: center; vertical-align: top\">E:/COGNITIVE_SCIENCE/ARTI<br>FICIAL_INTELLIGENCE/R ...</td>\n",
       "        <td style=\"padding-left: 1em; padding-right: 1em; text-align: center; vertical-align: top\">Height: 48 Width: 48</td>\n",
       "        <td style=\"padding-left: 1em; padding-right: 1em; text-align: center; vertical-align: top\">18</td>\n",
       "    </tr>\n",
       "    <tr>\n",
       "        <td style=\"padding-left: 1em; padding-right: 1em; text-align: center; vertical-align: top\">E:/COGNITIVE_SCIENCE/ARTI<br>FICIAL_INTELLIGENCE/R ...</td>\n",
       "        <td style=\"padding-left: 1em; padding-right: 1em; text-align: center; vertical-align: top\">Height: 48 Width: 48</td>\n",
       "        <td style=\"padding-left: 1em; padding-right: 1em; text-align: center; vertical-align: top\">8</td>\n",
       "    </tr>\n",
       "    <tr>\n",
       "        <td style=\"padding-left: 1em; padding-right: 1em; text-align: center; vertical-align: top\">E:/COGNITIVE_SCIENCE/ARTI<br>FICIAL_INTELLIGENCE/R ...</td>\n",
       "        <td style=\"padding-left: 1em; padding-right: 1em; text-align: center; vertical-align: top\">Height: 48 Width: 48</td>\n",
       "        <td style=\"padding-left: 1em; padding-right: 1em; text-align: center; vertical-align: top\">24</td>\n",
       "    </tr>\n",
       "    <tr>\n",
       "        <td style=\"padding-left: 1em; padding-right: 1em; text-align: center; vertical-align: top\">E:/COGNITIVE_SCIENCE/ARTI<br>FICIAL_INTELLIGENCE/R ...</td>\n",
       "        <td style=\"padding-left: 1em; padding-right: 1em; text-align: center; vertical-align: top\">Height: 48 Width: 48</td>\n",
       "        <td style=\"padding-left: 1em; padding-right: 1em; text-align: center; vertical-align: top\">15</td>\n",
       "    </tr>\n",
       "    <tr>\n",
       "        <td style=\"padding-left: 1em; padding-right: 1em; text-align: center; vertical-align: top\">E:/COGNITIVE_SCIENCE/ARTI<br>FICIAL_INTELLIGENCE/R ...</td>\n",
       "        <td style=\"padding-left: 1em; padding-right: 1em; text-align: center; vertical-align: top\">Height: 48 Width: 48</td>\n",
       "        <td style=\"padding-left: 1em; padding-right: 1em; text-align: center; vertical-align: top\">9</td>\n",
       "    </tr>\n",
       "    <tr>\n",
       "        <td style=\"padding-left: 1em; padding-right: 1em; text-align: center; vertical-align: top\">E:/COGNITIVE_SCIENCE/ARTI<br>FICIAL_INTELLIGENCE/R ...</td>\n",
       "        <td style=\"padding-left: 1em; padding-right: 1em; text-align: center; vertical-align: top\">Height: 48 Width: 48</td>\n",
       "        <td style=\"padding-left: 1em; padding-right: 1em; text-align: center; vertical-align: top\">5</td>\n",
       "    </tr>\n",
       "    <tr>\n",
       "        <td style=\"padding-left: 1em; padding-right: 1em; text-align: center; vertical-align: top\">E:/COGNITIVE_SCIENCE/ARTI<br>FICIAL_INTELLIGENCE/R ...</td>\n",
       "        <td style=\"padding-left: 1em; padding-right: 1em; text-align: center; vertical-align: top\">Height: 48 Width: 48</td>\n",
       "        <td style=\"padding-left: 1em; padding-right: 1em; text-align: center; vertical-align: top\">38</td>\n",
       "    </tr>\n",
       "    <tr>\n",
       "        <td style=\"padding-left: 1em; padding-right: 1em; text-align: center; vertical-align: top\">E:/COGNITIVE_SCIENCE/ARTI<br>FICIAL_INTELLIGENCE/R ...</td>\n",
       "        <td style=\"padding-left: 1em; padding-right: 1em; text-align: center; vertical-align: top\">Height: 48 Width: 48</td>\n",
       "        <td style=\"padding-left: 1em; padding-right: 1em; text-align: center; vertical-align: top\">6</td>\n",
       "    </tr>\n",
       "    <tr>\n",
       "        <td style=\"padding-left: 1em; padding-right: 1em; text-align: center; vertical-align: top\">E:/COGNITIVE_SCIENCE/ARTI<br>FICIAL_INTELLIGENCE/R ...</td>\n",
       "        <td style=\"padding-left: 1em; padding-right: 1em; text-align: center; vertical-align: top\">Height: 48 Width: 48</td>\n",
       "        <td style=\"padding-left: 1em; padding-right: 1em; text-align: center; vertical-align: top\">10</td>\n",
       "    </tr>\n",
       "    <tr>\n",
       "        <td style=\"padding-left: 1em; padding-right: 1em; text-align: center; vertical-align: top\">E:/COGNITIVE_SCIENCE/ARTI<br>FICIAL_INTELLIGENCE/R ...</td>\n",
       "        <td style=\"padding-left: 1em; padding-right: 1em; text-align: center; vertical-align: top\">Height: 48 Width: 48</td>\n",
       "        <td style=\"padding-left: 1em; padding-right: 1em; text-align: center; vertical-align: top\">26</td>\n",
       "    </tr>\n",
       "</table>\n",
       "[39209 rows x 3 columns]<br/>Note: Only the head of the SFrame is printed.<br/>You can use print_rows(num_rows=m, num_columns=n) to print more rows and columns.\n",
       "</div>"
      ],
      "text/plain": [
       "Columns:\n",
       "\tpath\tstr\n",
       "\timage\tImage\n",
       "\tlabel\tint\n",
       "\n",
       "Rows: 39209\n",
       "\n",
       "Data:\n",
       "+-------------------------------+----------------------+-------+\n",
       "|              path             |        image         | label |\n",
       "+-------------------------------+----------------------+-------+\n",
       "| E:/COGNITIVE_SCIENCE/ARTIF... | Height: 48 Width: 48 |   18  |\n",
       "| E:/COGNITIVE_SCIENCE/ARTIF... | Height: 48 Width: 48 |   8   |\n",
       "| E:/COGNITIVE_SCIENCE/ARTIF... | Height: 48 Width: 48 |   24  |\n",
       "| E:/COGNITIVE_SCIENCE/ARTIF... | Height: 48 Width: 48 |   15  |\n",
       "| E:/COGNITIVE_SCIENCE/ARTIF... | Height: 48 Width: 48 |   9   |\n",
       "| E:/COGNITIVE_SCIENCE/ARTIF... | Height: 48 Width: 48 |   5   |\n",
       "| E:/COGNITIVE_SCIENCE/ARTIF... | Height: 48 Width: 48 |   38  |\n",
       "| E:/COGNITIVE_SCIENCE/ARTIF... | Height: 48 Width: 48 |   6   |\n",
       "| E:/COGNITIVE_SCIENCE/ARTIF... | Height: 48 Width: 48 |   10  |\n",
       "| E:/COGNITIVE_SCIENCE/ARTIF... | Height: 48 Width: 48 |   26  |\n",
       "+-------------------------------+----------------------+-------+\n",
       "[39209 rows x 3 columns]\n",
       "Note: Only the head of the SFrame is printed.\n",
       "You can use print_rows(num_rows=m, num_columns=n) to print more rows and columns."
      ]
     },
     "execution_count": 1,
     "metadata": {},
     "output_type": "execute_result"
    }
   ],
   "source": [
    "import graphlab as gl\n",
    "train_signs = gl.SFrame('train_sframe/')\n",
    "train_signs['image'] = gl.image_analysis.resize(train_signs['image'], 48,48, channels = 3)\n",
    "#28 cho Lenet, 48 cho Idsia-net. \n",
    "#3 kenh mau thi nhieu thong tin hon.\n",
    "train_signs"
   ]
  },
  {
   "cell_type": "code",
   "execution_count": 2,
   "metadata": {
    "collapsed": false
   },
   "outputs": [
    {
     "data": {
      "text/plain": [
       "\n",
       "### network layers ###\n",
       "layer[0]: ConvolutionLayer\n",
       "  init_random = gaussian\n",
       "  padding = 0\n",
       "  stride = 2\n",
       "  num_channels = 10\n",
       "  num_groups = 1\n",
       "  kernel_size = 3\n",
       "layer[1]: MaxPoolingLayer\n",
       "  padding = 0\n",
       "  stride = 2\n",
       "  kernel_size = 3\n",
       "layer[2]: FlattenLayer\n",
       "layer[3]: FullConnectionLayer\n",
       "  init_sigma = 0.01\n",
       "  init_random = gaussian\n",
       "  init_bias = 0\n",
       "  num_hidden_units = 100\n",
       "layer[4]: RectifiedLinearLayer\n",
       "layer[5]: DropoutLayer\n",
       "  threshold = 0.5\n",
       "layer[6]: FullConnectionLayer\n",
       "  init_sigma = 0.01\n",
       "  init_random = gaussian\n",
       "  init_bias = 0\n",
       "  num_hidden_units = 43\n",
       "layer[7]: SoftmaxLayer\n",
       "### end network layers ###\n",
       "\n",
       "### network parameters ###\n",
       "learning_rate = 0.001\n",
       "momentum = 0.9\n",
       "### end network parameters ###"
      ]
     },
     "execution_count": 2,
     "metadata": {},
     "output_type": "execute_result"
    }
   ],
   "source": [
    "dato_net = gl.deeplearning.create(train_signs, target='label')\n",
    "dato_net"
   ]
  },
  {
   "cell_type": "code",
   "execution_count": 3,
   "metadata": {
    "collapsed": false
   },
   "outputs": [
    {
     "data": {
      "text/plain": [
       "\n",
       "### network layers ###\n",
       "layer[0]: ConvolutionLayer\n",
       "  init_random = gaussian\n",
       "  padding = 0\n",
       "  stride = 1\n",
       "  num_channels = 100\n",
       "  num_groups = 1\n",
       "  kernel_size = 7\n",
       "layer[1]: MaxPoolingLayer\n",
       "  padding = 0\n",
       "  stride = 2\n",
       "  kernel_size = 2\n",
       "layer[2]: ConvolutionLayer\n",
       "  init_random = gaussian\n",
       "  padding = 0\n",
       "  stride = 1\n",
       "  num_channels = 150\n",
       "  num_groups = 1\n",
       "  kernel_size = 4\n",
       "layer[3]: MaxPoolingLayer\n",
       "  padding = 0\n",
       "  stride = 2\n",
       "  kernel_size = 2\n",
       "layer[4]: ConvolutionLayer\n",
       "  init_random = gaussian\n",
       "  padding = 0\n",
       "  stride = 1\n",
       "  num_channels = 250\n",
       "  num_groups = 1\n",
       "  kernel_size = 4\n",
       "layer[5]: MaxPoolingLayer\n",
       "  padding = 0\n",
       "  stride = 2\n",
       "  kernel_size = 2\n",
       "layer[6]: FlattenLayer\n",
       "layer[7]: FullConnectionLayer\n",
       "  init_sigma = 0.01\n",
       "  init_random = gaussian\n",
       "  init_bias = 0\n",
       "  num_hidden_units = 300\n",
       "layer[8]: RectifiedLinearLayer\n",
       "layer[9]: DropoutLayer\n",
       "  threshold = 0.5\n",
       "layer[10]: FullConnectionLayer\n",
       "  init_sigma = 0.01\n",
       "  init_random = gaussian\n",
       "  init_bias = 0\n",
       "  num_hidden_units = 43\n",
       "layer[11]: SoftmaxLayer\n",
       "### end network layers ###\n",
       "\n",
       "### network parameters ###\n",
       "learning_rate = 0.001\n",
       "momentum = 0.9\n",
       "### end network parameters ###"
      ]
     },
     "execution_count": 3,
     "metadata": {},
     "output_type": "execute_result"
    }
   ],
   "source": [
    "dato_net.layers[0].num_channels=100\n",
    "dato_net.layers[0].kernel_size= 7\n",
    "dato_net.layers[0].stride= 1\n",
    "\n",
    "dato_net.layers[1].kernel_size= 2\n",
    "dato_net.layers[1].stride= 2\n",
    "\n",
    "dato_net.layers[3].num_hidden_units= 300\n",
    "#dato_net.layers[1].kernel_size=2\n",
    "# dato_net.layers[2] = \n",
    "dato_net.layers.insert(2, gl.deeplearning.layers.ConvolutionLayer(kernel_size= 4,\n",
    "                                                                      num_channels= 150,\n",
    "                                                                    stride= 1, \n",
    "                                                                    padding= 0 ))\n",
    "dato_net.layers.insert(3, gl.deeplearning.layers.MaxPoolingLayer(kernel_size= 2,\n",
    "                                                                    stride=2,\n",
    "                                                                    padding=0))\n",
    "dato_net.layers.insert(4, gl.deeplearning.layers.ConvolutionLayer(kernel_size= 4,\n",
    "                                                                      num_channels= 250,\n",
    "                                                                    stride= 1, \n",
    "                                                                    padding= 0 ))\n",
    "dato_net.layers.insert(5, gl.deeplearning.layers.MaxPoolingLayer(kernel_size= 2,\n",
    "                                                                    stride=2,\n",
    "                                                                    padding=0))\n",
    "\n",
    "dato_net"
   ]
  },
  {
   "cell_type": "code",
   "execution_count": null,
   "metadata": {
    "collapsed": false,
    "scrolled": true
   },
   "outputs": [
    {
     "name": "stdout",
     "output_type": "stream",
     "text": [
      "Using network:\n",
      "\n",
      "### network layers ###\n",
      "layer[0]: ConvolutionLayer\n",
      "  init_random = gaussian\n",
      "  padding = 0\n",
      "  stride = 1\n",
      "  num_channels = 100\n",
      "  num_groups = 1\n",
      "  kernel_size = 7\n",
      "layer[1]: MaxPoolingLayer\n",
      "  padding = 0\n",
      "  stride = 2\n",
      "  kernel_size = 2\n",
      "layer[2]: ConvolutionLayer\n",
      "  init_random = gaussian\n",
      "  padding = 0\n",
      "  stride = 1\n",
      "  num_channels = 150\n",
      "  num_groups = 1\n",
      "  kernel_size = 4\n",
      "layer[3]: MaxPoolingLayer\n",
      "  padding = 0\n",
      "  stride = 2\n",
      "  kernel_size = 2\n",
      "layer[4]: ConvolutionLayer\n",
      "  init_random = gaussian\n",
      "  padding = 0\n",
      "  stride = 1\n",
      "  num_channels = 250\n",
      "  num_groups = 1\n",
      "  kernel_size = 4\n",
      "layer[5]: MaxPoolingLayer\n",
      "  padding = 0\n",
      "  stride = 2\n",
      "  kernel_size = 2\n",
      "layer[6]: FlattenLayer\n",
      "layer[7]: FullConnectionLayer\n",
      "  init_sigma = 0.01\n",
      "  init_random = gaussian\n",
      "  init_bias = 0\n",
      "  num_hidden_units = 300\n",
      "layer[8]: RectifiedLinearLayer\n",
      "layer[9]: DropoutLayer\n",
      "  threshold = 0.5\n",
      "layer[10]: FullConnectionLayer\n",
      "  init_sigma = 0.01\n",
      "  init_random = gaussian\n",
      "  init_bias = 0\n",
      "  num_hidden_units = 43\n",
      "layer[11]: SoftmaxLayer\n",
      "### end network layers ###\n",
      "\n",
      "### network parameters ###\n",
      "model_checkpoint_interval = 1\n",
      "learning_rate = 0.001\n",
      "momentum = 0.9\n",
      "model_checkpoint_path = new IDSIA net - train in 100 iter\n",
      "### end network parameters ###\n",
      "\n",
      "PROGRESS: Creating a validation set from 5 percent of training data. This may take a while.\n",
      "          You can set ``validation_set=None`` to disable validation tracking.\n",
      "\n"
     ]
    },
    {
     "data": {
      "text/html": [
       "<pre>Computing mean image...</pre>"
      ],
      "text/plain": [
       "Computing mean image..."
      ]
     },
     "metadata": {},
     "output_type": "display_data"
    },
    {
     "data": {
      "text/html": [
       "<pre>Done computing mean image.</pre>"
      ],
      "text/plain": [
       "Done computing mean image."
      ]
     },
     "metadata": {},
     "output_type": "display_data"
    },
    {
     "data": {
      "text/html": [
       "<pre>For Nvidia GPU CUDA support, please go to https://turi.com/download/install-graphlab-create-gpu.html</pre>"
      ],
      "text/plain": [
       "For Nvidia GPU CUDA support, please go to https://turi.com/download/install-graphlab-create-gpu.html"
      ]
     },
     "metadata": {},
     "output_type": "display_data"
    },
    {
     "data": {
      "text/html": [
       "<pre>Creating neuralnet using cpu</pre>"
      ],
      "text/plain": [
       "Creating neuralnet using cpu"
      ]
     },
     "metadata": {},
     "output_type": "display_data"
    },
    {
     "data": {
      "text/html": [
       "<pre>Training with batch size = 100</pre>"
      ],
      "text/plain": [
       "Training with batch size = 100"
      ]
     },
     "metadata": {},
     "output_type": "display_data"
    },
    {
     "data": {
      "text/html": [
       "<pre>+-----------+----------+--------------+-------------------+---------------------+-----------------+</pre>"
      ],
      "text/plain": [
       "+-----------+----------+--------------+-------------------+---------------------+-----------------+"
      ]
     },
     "metadata": {},
     "output_type": "display_data"
    },
    {
     "data": {
      "text/html": [
       "<pre>| Iteration | Examples | Elapsed Time | Training-accuracy | Validation-accuracy | Examples/second |</pre>"
      ],
      "text/plain": [
       "| Iteration | Examples | Elapsed Time | Training-accuracy | Validation-accuracy | Examples/second |"
      ]
     },
     "metadata": {},
     "output_type": "display_data"
    },
    {
     "data": {
      "text/html": [
       "<pre>+-----------+----------+--------------+-------------------+---------------------+-----------------+</pre>"
      ],
      "text/plain": [
       "+-----------+----------+--------------+-------------------+---------------------+-----------------+"
      ]
     },
     "metadata": {},
     "output_type": "display_data"
    }
   ],
   "source": [
    "trained_dato = gl.neuralnet_classifier.create(train_signs, target='label',\n",
    "                                             features=['image'],\n",
    "                                             network= dato_net,\n",
    "                                             max_iterations= 100,\n",
    "                                              model_checkpoint_path ='new IDSIA net - train in 100 iter',\n",
    "                                              model_checkpoint_interval = 1\n",
    "                                             )"
   ]
  },
  {
   "cell_type": "code",
   "execution_count": 1,
   "metadata": {
    "collapsed": false
   },
   "outputs": [
    {
     "name": "stdout",
     "output_type": "stream",
     "text": [
      "This non-commercial license of GraphLab Create for academic use is assigned to keira1412@gmail.com and will expire on October 05, 2017.\n"
     ]
    },
    {
     "name": "stderr",
     "output_type": "stream",
     "text": [
      "[INFO] graphlab.cython.cy_server: GraphLab Create v2.1 started. Logging: /tmp/graphlab_server_1479286858.log\n"
     ]
    },
    {
     "data": {
      "text/html": [
       "<div style=\"max-height:1000px;max-width:1500px;overflow:auto;\"><table frame=\"box\" rules=\"cols\">\n",
       "    <tr>\n",
       "        <th style=\"padding-left: 1em; padding-right: 1em; text-align: center\">path</th>\n",
       "        <th style=\"padding-left: 1em; padding-right: 1em; text-align: center\">image</th>\n",
       "        <th style=\"padding-left: 1em; padding-right: 1em; text-align: center\">label</th>\n",
       "    </tr>\n",
       "    <tr>\n",
       "        <td style=\"padding-left: 1em; padding-right: 1em; text-align: center; vertical-align: top\">E:/COGNITIVE_SCIENCE/ARTI<br>FICIAL_INTELLIGENCE/R ...</td>\n",
       "        <td style=\"padding-left: 1em; padding-right: 1em; text-align: center; vertical-align: top\">Height: 48 Width: 48</td>\n",
       "        <td style=\"padding-left: 1em; padding-right: 1em; text-align: center; vertical-align: top\">26</td>\n",
       "    </tr>\n",
       "    <tr>\n",
       "        <td style=\"padding-left: 1em; padding-right: 1em; text-align: center; vertical-align: top\">E:/COGNITIVE_SCIENCE/ARTI<br>FICIAL_INTELLIGENCE/R ...</td>\n",
       "        <td style=\"padding-left: 1em; padding-right: 1em; text-align: center; vertical-align: top\">Height: 48 Width: 48</td>\n",
       "        <td style=\"padding-left: 1em; padding-right: 1em; text-align: center; vertical-align: top\">8</td>\n",
       "    </tr>\n",
       "    <tr>\n",
       "        <td style=\"padding-left: 1em; padding-right: 1em; text-align: center; vertical-align: top\">E:/COGNITIVE_SCIENCE/ARTI<br>FICIAL_INTELLIGENCE/R ...</td>\n",
       "        <td style=\"padding-left: 1em; padding-right: 1em; text-align: center; vertical-align: top\">Height: 48 Width: 48</td>\n",
       "        <td style=\"padding-left: 1em; padding-right: 1em; text-align: center; vertical-align: top\">17</td>\n",
       "    </tr>\n",
       "    <tr>\n",
       "        <td style=\"padding-left: 1em; padding-right: 1em; text-align: center; vertical-align: top\">E:/COGNITIVE_SCIENCE/ARTI<br>FICIAL_INTELLIGENCE/R ...</td>\n",
       "        <td style=\"padding-left: 1em; padding-right: 1em; text-align: center; vertical-align: top\">Height: 48 Width: 48</td>\n",
       "        <td style=\"padding-left: 1em; padding-right: 1em; text-align: center; vertical-align: top\">38</td>\n",
       "    </tr>\n",
       "    <tr>\n",
       "        <td style=\"padding-left: 1em; padding-right: 1em; text-align: center; vertical-align: top\">E:/COGNITIVE_SCIENCE/ARTI<br>FICIAL_INTELLIGENCE/R ...</td>\n",
       "        <td style=\"padding-left: 1em; padding-right: 1em; text-align: center; vertical-align: top\">Height: 48 Width: 48</td>\n",
       "        <td style=\"padding-left: 1em; padding-right: 1em; text-align: center; vertical-align: top\">35</td>\n",
       "    </tr>\n",
       "    <tr>\n",
       "        <td style=\"padding-left: 1em; padding-right: 1em; text-align: center; vertical-align: top\">E:/COGNITIVE_SCIENCE/ARTI<br>FICIAL_INTELLIGENCE/R ...</td>\n",
       "        <td style=\"padding-left: 1em; padding-right: 1em; text-align: center; vertical-align: top\">Height: 48 Width: 48</td>\n",
       "        <td style=\"padding-left: 1em; padding-right: 1em; text-align: center; vertical-align: top\">42</td>\n",
       "    </tr>\n",
       "    <tr>\n",
       "        <td style=\"padding-left: 1em; padding-right: 1em; text-align: center; vertical-align: top\">E:/COGNITIVE_SCIENCE/ARTI<br>FICIAL_INTELLIGENCE/R ...</td>\n",
       "        <td style=\"padding-left: 1em; padding-right: 1em; text-align: center; vertical-align: top\">Height: 48 Width: 48</td>\n",
       "        <td style=\"padding-left: 1em; padding-right: 1em; text-align: center; vertical-align: top\">17</td>\n",
       "    </tr>\n",
       "    <tr>\n",
       "        <td style=\"padding-left: 1em; padding-right: 1em; text-align: center; vertical-align: top\">E:/COGNITIVE_SCIENCE/ARTI<br>FICIAL_INTELLIGENCE/R ...</td>\n",
       "        <td style=\"padding-left: 1em; padding-right: 1em; text-align: center; vertical-align: top\">Height: 48 Width: 48</td>\n",
       "        <td style=\"padding-left: 1em; padding-right: 1em; text-align: center; vertical-align: top\">4</td>\n",
       "    </tr>\n",
       "    <tr>\n",
       "        <td style=\"padding-left: 1em; padding-right: 1em; text-align: center; vertical-align: top\">E:/COGNITIVE_SCIENCE/ARTI<br>FICIAL_INTELLIGENCE/R ...</td>\n",
       "        <td style=\"padding-left: 1em; padding-right: 1em; text-align: center; vertical-align: top\">Height: 48 Width: 48</td>\n",
       "        <td style=\"padding-left: 1em; padding-right: 1em; text-align: center; vertical-align: top\">1</td>\n",
       "    </tr>\n",
       "    <tr>\n",
       "        <td style=\"padding-left: 1em; padding-right: 1em; text-align: center; vertical-align: top\">E:/COGNITIVE_SCIENCE/ARTI<br>FICIAL_INTELLIGENCE/R ...</td>\n",
       "        <td style=\"padding-left: 1em; padding-right: 1em; text-align: center; vertical-align: top\">Height: 48 Width: 48</td>\n",
       "        <td style=\"padding-left: 1em; padding-right: 1em; text-align: center; vertical-align: top\">2</td>\n",
       "    </tr>\n",
       "</table>\n",
       "[12630 rows x 3 columns]<br/>Note: Only the head of the SFrame is printed.<br/>You can use print_rows(num_rows=m, num_columns=n) to print more rows and columns.\n",
       "</div>"
      ],
      "text/plain": [
       "Columns:\n",
       "\tpath\tstr\n",
       "\timage\tImage\n",
       "\tlabel\tint\n",
       "\n",
       "Rows: 12630\n",
       "\n",
       "Data:\n",
       "+-------------------------------+----------------------+-------+\n",
       "|              path             |        image         | label |\n",
       "+-------------------------------+----------------------+-------+\n",
       "| E:/COGNITIVE_SCIENCE/ARTIF... | Height: 48 Width: 48 |   26  |\n",
       "| E:/COGNITIVE_SCIENCE/ARTIF... | Height: 48 Width: 48 |   8   |\n",
       "| E:/COGNITIVE_SCIENCE/ARTIF... | Height: 48 Width: 48 |   17  |\n",
       "| E:/COGNITIVE_SCIENCE/ARTIF... | Height: 48 Width: 48 |   38  |\n",
       "| E:/COGNITIVE_SCIENCE/ARTIF... | Height: 48 Width: 48 |   35  |\n",
       "| E:/COGNITIVE_SCIENCE/ARTIF... | Height: 48 Width: 48 |   42  |\n",
       "| E:/COGNITIVE_SCIENCE/ARTIF... | Height: 48 Width: 48 |   17  |\n",
       "| E:/COGNITIVE_SCIENCE/ARTIF... | Height: 48 Width: 48 |   4   |\n",
       "| E:/COGNITIVE_SCIENCE/ARTIF... | Height: 48 Width: 48 |   1   |\n",
       "| E:/COGNITIVE_SCIENCE/ARTIF... | Height: 48 Width: 48 |   2   |\n",
       "+-------------------------------+----------------------+-------+\n",
       "[12630 rows x 3 columns]\n",
       "Note: Only the head of the SFrame is printed.\n",
       "You can use print_rows(num_rows=m, num_columns=n) to print more rows and columns."
      ]
     },
     "execution_count": 1,
     "metadata": {},
     "output_type": "execute_result"
    }
   ],
   "source": [
    "import graphlab as gl\n",
    "test_signs= gl.SFrame('test_sframe/')\n",
    "test_signs['image'] = gl.image_analysis.resize(test_signs['image'], 48, 48, channels= 3)\n",
    "#28 cho Lenet, 30 (mình chọn) cho mạng dato 1000 lượt, \n",
    "#48 cho idsia net, 3 channels \n",
    "test_signs"
   ]
  },
  {
   "cell_type": "code",
   "execution_count": 5,
   "metadata": {
    "collapsed": false
   },
   "outputs": [
    {
     "data": {
      "text/plain": [
       "{'accuracy': 0.8746634721755981, 'confusion_matrix': Columns:\n",
       " \ttarget_label\tint\n",
       " \tpredicted_label\tint\n",
       " \tcount\tint\n",
       " \n",
       " Rows: 330\n",
       " \n",
       " Data:\n",
       " +--------------+-----------------+-------+\n",
       " | target_label | predicted_label | count |\n",
       " +--------------+-----------------+-------+\n",
       " |      0       |        0        |   40  |\n",
       " |      1       |        0        |   7   |\n",
       " |      0       |        1        |   3   |\n",
       " |      1       |        1        |  652  |\n",
       " |      2       |        1        |   32  |\n",
       " |      3       |        1        |   3   |\n",
       " |      4       |        1        |   22  |\n",
       " |      5       |        1        |   7   |\n",
       " |      8       |        1        |   2   |\n",
       " |      11      |        1        |   7   |\n",
       " +--------------+-----------------+-------+\n",
       " [330 rows x 3 columns]\n",
       " Note: Only the head of the SFrame is printed.\n",
       " You can use print_rows(num_rows=m, num_columns=n) to print more rows and columns.}"
      ]
     },
     "execution_count": 5,
     "metadata": {},
     "output_type": "execute_result"
    }
   ],
   "source": [
    "trained_dato.evaluate(test_signs)"
   ]
  },
  {
   "cell_type": "markdown",
   "metadata": {},
   "source": [
    "Ngon!"
   ]
  },
  {
   "cell_type": "code",
   "execution_count": 4,
   "metadata": {
    "collapsed": false,
    "scrolled": true
   },
   "outputs": [
    {
     "data": {
      "text/html": [
       "<pre>Computing mean image...</pre>"
      ],
      "text/plain": [
       "Computing mean image..."
      ]
     },
     "metadata": {},
     "output_type": "display_data"
    },
    {
     "data": {
      "text/html": [
       "<pre>Done computing mean image.</pre>"
      ],
      "text/plain": [
       "Done computing mean image."
      ]
     },
     "metadata": {},
     "output_type": "display_data"
    },
    {
     "data": {
      "text/html": [
       "<pre>Creating neuralnet using cpu</pre>"
      ],
      "text/plain": [
       "Creating neuralnet using cpu"
      ]
     },
     "metadata": {},
     "output_type": "display_data"
    },
    {
     "data": {
      "text/html": [
       "<pre>Training with batch size = 100</pre>"
      ],
      "text/plain": [
       "Training with batch size = 100"
      ]
     },
     "metadata": {},
     "output_type": "display_data"
    },
    {
     "data": {
      "text/html": [
       "<pre>+-----------+----------+--------------+-------------------+---------------------+-----------------+</pre>"
      ],
      "text/plain": [
       "+-----------+----------+--------------+-------------------+---------------------+-----------------+"
      ]
     },
     "metadata": {},
     "output_type": "display_data"
    },
    {
     "data": {
      "text/html": [
       "<pre>| Iteration | Examples | Elapsed Time | Training-accuracy | Validation-accuracy | Examples/second |</pre>"
      ],
      "text/plain": [
       "| Iteration | Examples | Elapsed Time | Training-accuracy | Validation-accuracy | Examples/second |"
      ]
     },
     "metadata": {},
     "output_type": "display_data"
    },
    {
     "data": {
      "text/html": [
       "<pre>+-----------+----------+--------------+-------------------+---------------------+-----------------+</pre>"
      ],
      "text/plain": [
       "+-----------+----------+--------------+-------------------+---------------------+-----------------+"
      ]
     },
     "metadata": {},
     "output_type": "display_data"
    },
    {
     "data": {
      "text/html": [
       "<pre>| 1         | 100      | 20.671925    | 0.000000          |                     | 4.837489        |</pre>"
      ],
      "text/plain": [
       "| 1         | 100      | 20.671925    | 0.000000          |                     | 4.837489        |"
      ]
     },
     "metadata": {},
     "output_type": "display_data"
    },
    {
     "data": {
      "text/html": [
       "<pre>| 1         | 200      | 44.852941    | 0.005000          |                     | 4.135474        |</pre>"
      ],
      "text/plain": [
       "| 1         | 200      | 44.852941    | 0.005000          |                     | 4.135474        |"
      ]
     },
     "metadata": {},
     "output_type": "display_data"
    },
    {
     "data": {
      "text/html": [
       "<pre>| 1         | 300      | 67.688465    | 0.010000          |                     | 4.379142        |</pre>"
      ],
      "text/plain": [
       "| 1         | 300      | 67.688465    | 0.010000          |                     | 4.379142        |"
      ]
     },
     "metadata": {},
     "output_type": "display_data"
    },
    {
     "data": {
      "text/html": [
       "<pre>| 1         | 400      | 88.736954    | 0.017500          |                     | 4.750934        |</pre>"
      ],
      "text/plain": [
       "| 1         | 400      | 88.736954    | 0.017500          |                     | 4.750934        |"
      ]
     },
     "metadata": {},
     "output_type": "display_data"
    },
    {
     "data": {
      "text/html": [
       "<pre>| 1         | 500      | 108.823773   | 0.018000          |                     | 4.978395        |</pre>"
      ],
      "text/plain": [
       "| 1         | 500      | 108.823773   | 0.018000          |                     | 4.978395        |"
      ]
     },
     "metadata": {},
     "output_type": "display_data"
    },
    {
     "data": {
      "text/html": [
       "<pre>| 1         | 600      | 129.463609   | 0.016667          |                     | 4.844994        |</pre>"
      ],
      "text/plain": [
       "| 1         | 600      | 129.463609   | 0.016667          |                     | 4.844994        |"
      ]
     },
     "metadata": {},
     "output_type": "display_data"
    },
    {
     "data": {
      "text/html": [
       "<pre>| 1         | 700      | 149.732532   | 0.025714          |                     | 4.933662        |</pre>"
      ],
      "text/plain": [
       "| 1         | 700      | 149.732532   | 0.025714          |                     | 4.933662        |"
      ]
     },
     "metadata": {},
     "output_type": "display_data"
    },
    {
     "data": {
      "text/html": [
       "<pre>| 1         | 800      | 170.521090   | 0.033750          |                     | 4.810337        |</pre>"
      ],
      "text/plain": [
       "| 1         | 800      | 170.521090   | 0.033750          |                     | 4.810337        |"
      ]
     },
     "metadata": {},
     "output_type": "display_data"
    },
    {
     "data": {
      "text/html": [
       "<pre>| 1         | 900      | 191.768906   | 0.037778          |                     | 4.706367        |</pre>"
      ],
      "text/plain": [
       "| 1         | 900      | 191.768906   | 0.037778          |                     | 4.706367        |"
      ]
     },
     "metadata": {},
     "output_type": "display_data"
    },
    {
     "data": {
      "text/html": [
       "<pre>| 1         | 1000     | 214.189627   | 0.043000          |                     | 4.460160        |</pre>"
      ],
      "text/plain": [
       "| 1         | 1000     | 214.189627   | 0.043000          |                     | 4.460160        |"
      ]
     },
     "metadata": {},
     "output_type": "display_data"
    },
    {
     "data": {
      "text/html": [
       "<pre>| 1         | 1100     | 235.383834   | 0.045455          |                     | 4.718271        |</pre>"
      ],
      "text/plain": [
       "| 1         | 1100     | 235.383834   | 0.045455          |                     | 4.718271        |"
      ]
     },
     "metadata": {},
     "output_type": "display_data"
    },
    {
     "data": {
      "text/html": [
       "<pre>| 1         | 1200     | 256.102401   | 0.046667          |                     | 4.826589        |</pre>"
      ],
      "text/plain": [
       "| 1         | 1200     | 256.102401   | 0.046667          |                     | 4.826589        |"
      ]
     },
     "metadata": {},
     "output_type": "display_data"
    },
    {
     "data": {
      "text/html": [
       "<pre>| 1         | 1300     | 277.972555   | 0.050769          |                     | 4.572442        |</pre>"
      ],
      "text/plain": [
       "| 1         | 1300     | 277.972555   | 0.050769          |                     | 4.572442        |"
      ]
     },
     "metadata": {},
     "output_type": "display_data"
    },
    {
     "data": {
      "text/html": [
       "<pre>| 1         | 1400     | 298.137738   | 0.051429          |                     | 4.959044        |</pre>"
      ],
      "text/plain": [
       "| 1         | 1400     | 298.137738   | 0.051429          |                     | 4.959044        |"
      ]
     },
     "metadata": {},
     "output_type": "display_data"
    },
    {
     "data": {
      "text/html": [
       "<pre>| 1         | 1500     | 319.249814   | 0.053333          |                     | 4.736625        |</pre>"
      ],
      "text/plain": [
       "| 1         | 1500     | 319.249814   | 0.053333          |                     | 4.736625        |"
      ]
     },
     "metadata": {},
     "output_type": "display_data"
    },
    {
     "data": {
      "text/html": [
       "<pre>| 1         | 1600     | 339.105037   | 0.053750          |                     | 5.036457        |</pre>"
      ],
      "text/plain": [
       "| 1         | 1600     | 339.105037   | 0.053750          |                     | 5.036457        |"
      ]
     },
     "metadata": {},
     "output_type": "display_data"
    },
    {
     "data": {
      "text/html": [
       "<pre>| 1         | 1700     | 358.929931   | 0.054706          |                     | 5.044163        |</pre>"
      ],
      "text/plain": [
       "| 1         | 1700     | 358.929931   | 0.054706          |                     | 5.044163        |"
      ]
     },
     "metadata": {},
     "output_type": "display_data"
    },
    {
     "data": {
      "text/html": [
       "<pre>| 1         | 1800     | 378.844761   | 0.056667          |                     | 5.021384        |</pre>"
      ],
      "text/plain": [
       "| 1         | 1800     | 378.844761   | 0.056667          |                     | 5.021384        |"
      ]
     },
     "metadata": {},
     "output_type": "display_data"
    },
    {
     "data": {
      "text/html": [
       "<pre>| 1         | 1900     | 398.635873   | 0.056316          |                     | 5.052774        |</pre>"
      ],
      "text/plain": [
       "| 1         | 1900     | 398.635873   | 0.056316          |                     | 5.052774        |"
      ]
     },
     "metadata": {},
     "output_type": "display_data"
    },
    {
     "data": {
      "text/html": [
       "<pre>| 1         | 2000     | 419.131334   | 0.057000          |                     | 4.879133        |</pre>"
      ],
      "text/plain": [
       "| 1         | 2000     | 419.131334   | 0.057000          |                     | 4.879133        |"
      ]
     },
     "metadata": {},
     "output_type": "display_data"
    },
    {
     "data": {
      "text/html": [
       "<pre>| 1         | 2100     | 439.108892   | 0.058095          |                     | 5.005614        |</pre>"
      ],
      "text/plain": [
       "| 1         | 2100     | 439.108892   | 0.058095          |                     | 5.005614        |"
      ]
     },
     "metadata": {},
     "output_type": "display_data"
    },
    {
     "data": {
      "text/html": [
       "<pre>| 1         | 2200     | 458.965128   | 0.058182          |                     | 5.036201        |</pre>"
      ],
      "text/plain": [
       "| 1         | 2200     | 458.965128   | 0.058182          |                     | 5.036201        |"
      ]
     },
     "metadata": {},
     "output_type": "display_data"
    },
    {
     "data": {
      "text/html": [
       "<pre>| 1         | 2300     | 479.167884   | 0.060870          |                     | 4.949819        |</pre>"
      ],
      "text/plain": [
       "| 1         | 2300     | 479.167884   | 0.060870          |                     | 4.949819        |"
      ]
     },
     "metadata": {},
     "output_type": "display_data"
    },
    {
     "data": {
      "text/html": [
       "<pre>| 1         | 2400     | 499.051443   | 0.063333          |                     | 5.029280        |</pre>"
      ],
      "text/plain": [
       "| 1         | 2400     | 499.051443   | 0.063333          |                     | 5.029280        |"
      ]
     },
     "metadata": {},
     "output_type": "display_data"
    },
    {
     "data": {
      "text/html": [
       "<pre>| 1         | 2500     | 519.137138   | 0.065200          |                     | 4.978668        |</pre>"
      ],
      "text/plain": [
       "| 1         | 2500     | 519.137138   | 0.065200          |                     | 4.978668        |"
      ]
     },
     "metadata": {},
     "output_type": "display_data"
    },
    {
     "data": {
      "text/html": [
       "<pre>| 1         | 2600     | 539.056224   | 0.068077          |                     | 5.020316        |</pre>"
      ],
      "text/plain": [
       "| 1         | 2600     | 539.056224   | 0.068077          |                     | 5.020316        |"
      ]
     },
     "metadata": {},
     "output_type": "display_data"
    },
    {
     "data": {
      "text/html": [
       "<pre>| 1         | 2700     | 559.010369   | 0.068889          |                     | 5.011486        |</pre>"
      ],
      "text/plain": [
       "| 1         | 2700     | 559.010369   | 0.068889          |                     | 5.011486        |"
      ]
     },
     "metadata": {},
     "output_type": "display_data"
    },
    {
     "data": {
      "text/html": [
       "<pre>| 1         | 2800     | 578.816477   | 0.071071          |                     | 5.048950        |</pre>"
      ],
      "text/plain": [
       "| 1         | 2800     | 578.816477   | 0.071071          |                     | 5.048950        |"
      ]
     },
     "metadata": {},
     "output_type": "display_data"
    },
    {
     "data": {
      "text/html": [
       "<pre>| 1         | 2900     | 598.622977   | 0.072414          |                     | 5.048845        |</pre>"
      ],
      "text/plain": [
       "| 1         | 2900     | 598.622977   | 0.072414          |                     | 5.048845        |"
      ]
     },
     "metadata": {},
     "output_type": "display_data"
    },
    {
     "data": {
      "text/html": [
       "<pre>| 1         | 3000     | 618.378395   | 0.073000          |                     | 5.061902        |</pre>"
      ],
      "text/plain": [
       "| 1         | 3000     | 618.378395   | 0.073000          |                     | 5.061902        |"
      ]
     },
     "metadata": {},
     "output_type": "display_data"
    },
    {
     "data": {
      "text/html": [
       "<pre>| 1         | 3100     | 638.144912   | 0.073871          |                     | 5.059060        |</pre>"
      ],
      "text/plain": [
       "| 1         | 3100     | 638.144912   | 0.073871          |                     | 5.059060        |"
      ]
     },
     "metadata": {},
     "output_type": "display_data"
    },
    {
     "data": {
      "text/html": [
       "<pre>| 1         | 3200     | 657.857810   | 0.075000          |                     | 5.072821        |</pre>"
      ],
      "text/plain": [
       "| 1         | 3200     | 657.857810   | 0.075000          |                     | 5.072821        |"
      ]
     },
     "metadata": {},
     "output_type": "display_data"
    },
    {
     "data": {
      "text/html": [
       "<pre>| 1         | 3300     | 677.696831   | 0.076061          |                     | 5.040576        |</pre>"
      ],
      "text/plain": [
       "| 1         | 3300     | 677.696831   | 0.076061          |                     | 5.040576        |"
      ]
     },
     "metadata": {},
     "output_type": "display_data"
    },
    {
     "data": {
      "text/html": [
       "<pre>| 1         | 3400     | 697.716420   | 0.077941          |                     | 4.995103        |</pre>"
      ],
      "text/plain": [
       "| 1         | 3400     | 697.716420   | 0.077941          |                     | 4.995103        |"
      ]
     },
     "metadata": {},
     "output_type": "display_data"
    },
    {
     "data": {
      "text/html": [
       "<pre>| 1         | 3500     | 717.652831   | 0.078286          |                     | 5.015949        |</pre>"
      ],
      "text/plain": [
       "| 1         | 3500     | 717.652831   | 0.078286          |                     | 5.015949        |"
      ]
     },
     "metadata": {},
     "output_type": "display_data"
    },
    {
     "data": {
      "text/html": [
       "<pre>| 1         | 3600     | 737.546960   | 0.078889          |                     | 5.026608        |</pre>"
      ],
      "text/plain": [
       "| 1         | 3600     | 737.546960   | 0.078889          |                     | 5.026608        |"
      ]
     },
     "metadata": {},
     "output_type": "display_data"
    },
    {
     "data": {
      "text/html": [
       "<pre>| 1         | 3700     | 757.325739   | 0.080541          |                     | 5.055922        |</pre>"
      ],
      "text/plain": [
       "| 1         | 3700     | 757.325739   | 0.080541          |                     | 5.055922        |"
      ]
     },
     "metadata": {},
     "output_type": "display_data"
    },
    {
     "data": {
      "text/html": [
       "<pre>| 1         | 3800     | 778.503072   | 0.080789          |                     | 4.722032        |</pre>"
      ],
      "text/plain": [
       "| 1         | 3800     | 778.503072   | 0.080789          |                     | 4.722032        |"
      ]
     },
     "metadata": {},
     "output_type": "display_data"
    },
    {
     "data": {
      "text/html": [
       "<pre>| 1         | 3900     | 798.275613   | 0.082821          |                     | 5.057520        |</pre>"
      ],
      "text/plain": [
       "| 1         | 3900     | 798.275613   | 0.082821          |                     | 5.057520        |"
      ]
     },
     "metadata": {},
     "output_type": "display_data"
    },
    {
     "data": {
      "text/html": [
       "<pre>| 1         | 4000     | 818.020358   | 0.084000          |                     | 5.064636        |</pre>"
      ],
      "text/plain": [
       "| 1         | 4000     | 818.020358   | 0.084000          |                     | 5.064636        |"
      ]
     },
     "metadata": {},
     "output_type": "display_data"
    },
    {
     "data": {
      "text/html": [
       "<pre>| 1         | 4100     | 837.986525   | 0.083902          |                     | 5.008472        |</pre>"
      ],
      "text/plain": [
       "| 1         | 4100     | 837.986525   | 0.083902          |                     | 5.008472        |"
      ]
     },
     "metadata": {},
     "output_type": "display_data"
    },
    {
     "data": {
      "text/html": [
       "<pre>| 1         | 4200     | 857.768467   | 0.085952          |                     | 5.055115        |</pre>"
      ],
      "text/plain": [
       "| 1         | 4200     | 857.768467   | 0.085952          |                     | 5.055115        |"
      ]
     },
     "metadata": {},
     "output_type": "display_data"
    },
    {
     "data": {
      "text/html": [
       "<pre>| 1         | 4300     | 877.479535   | 0.085581          |                     | 5.073291        |</pre>"
      ],
      "text/plain": [
       "| 1         | 4300     | 877.479535   | 0.085581          |                     | 5.073291        |"
      ]
     },
     "metadata": {},
     "output_type": "display_data"
    },
    {
     "data": {
      "text/html": [
       "<pre>| 1         | 4400     | 897.378219   | 0.086364          |                     | 5.025458        |</pre>"
      ],
      "text/plain": [
       "| 1         | 4400     | 897.378219   | 0.086364          |                     | 5.025458        |"
      ]
     },
     "metadata": {},
     "output_type": "display_data"
    },
    {
     "data": {
      "text/html": [
       "<pre>| 1         | 4500     | 917.197087   | 0.088000          |                     | 5.045697        |</pre>"
      ],
      "text/plain": [
       "| 1         | 4500     | 917.197087   | 0.088000          |                     | 5.045697        |"
      ]
     },
     "metadata": {},
     "output_type": "display_data"
    },
    {
     "data": {
      "text/html": [
       "<pre>| 1         | 4600     | 936.942893   | 0.088043          |                     | 5.064371        |</pre>"
      ],
      "text/plain": [
       "| 1         | 4600     | 936.942893   | 0.088043          |                     | 5.064371        |"
      ]
     },
     "metadata": {},
     "output_type": "display_data"
    },
    {
     "data": {
      "text/html": [
       "<pre>| 1         | 4700     | 956.733064   | 0.088723          |                     | 5.053010        |</pre>"
      ],
      "text/plain": [
       "| 1         | 4700     | 956.733064   | 0.088723          |                     | 5.053010        |"
      ]
     },
     "metadata": {},
     "output_type": "display_data"
    },
    {
     "data": {
      "text/html": [
       "<pre>| 1         | 4800     | 976.612654   | 0.088958          |                     | 5.030283        |</pre>"
      ],
      "text/plain": [
       "| 1         | 4800     | 976.612654   | 0.088958          |                     | 5.030283        |"
      ]
     },
     "metadata": {},
     "output_type": "display_data"
    },
    {
     "data": {
      "text/html": [
       "<pre>| 1         | 4900     | 997.235804   | 0.089388          |                     | 4.848919        |</pre>"
      ],
      "text/plain": [
       "| 1         | 4900     | 997.235804   | 0.089388          |                     | 4.848919        |"
      ]
     },
     "metadata": {},
     "output_type": "display_data"
    },
    {
     "data": {
      "text/html": [
       "<pre>| 1         | 5000     | 1021.398211  | 0.091000          |                     | 4.138660        |</pre>"
      ],
      "text/plain": [
       "| 1         | 5000     | 1021.398211  | 0.091000          |                     | 4.138660        |"
      ]
     },
     "metadata": {},
     "output_type": "display_data"
    },
    {
     "data": {
      "text/html": [
       "<pre>| 1         | 5100     | 1043.625573  | 0.090784          |                     | 4.498960        |</pre>"
      ],
      "text/plain": [
       "| 1         | 5100     | 1043.625573  | 0.090784          |                     | 4.498960        |"
      ]
     },
     "metadata": {},
     "output_type": "display_data"
    },
    {
     "data": {
      "text/html": [
       "<pre>| 1         | 5200     | 1063.558980  | 0.090385          |                     | 5.016708        |</pre>"
      ],
      "text/plain": [
       "| 1         | 5200     | 1063.558980  | 0.090385          |                     | 5.016708        |"
      ]
     },
     "metadata": {},
     "output_type": "display_data"
    },
    {
     "data": {
      "text/html": [
       "<pre>| 1         | 5300     | 1083.157784  | 0.090377          |                     | 5.102348        |</pre>"
      ],
      "text/plain": [
       "| 1         | 5300     | 1083.157784  | 0.090377          |                     | 5.102348        |"
      ]
     },
     "metadata": {},
     "output_type": "display_data"
    },
    {
     "data": {
      "text/html": [
       "<pre>| 1         | 5400     | 1103.100190  | 0.090000          |                     | 5.014441        |</pre>"
      ],
      "text/plain": [
       "| 1         | 5400     | 1103.100190  | 0.090000          |                     | 5.014441        |"
      ]
     },
     "metadata": {},
     "output_type": "display_data"
    },
    {
     "data": {
      "text/html": [
       "<pre>| 1         | 5500     | 1122.836203  | 0.091455          |                     | 5.066878        |</pre>"
      ],
      "text/plain": [
       "| 1         | 5500     | 1122.836203  | 0.091455          |                     | 5.066878        |"
      ]
     },
     "metadata": {},
     "output_type": "display_data"
    },
    {
     "data": {
      "text/html": [
       "<pre>| 1         | 5600     | 1142.606203  | 0.091786          |                     | 5.058169        |</pre>"
      ],
      "text/plain": [
       "| 1         | 5600     | 1142.606203  | 0.091786          |                     | 5.058169        |"
      ]
     },
     "metadata": {},
     "output_type": "display_data"
    },
    {
     "data": {
      "text/html": [
       "<pre>| 1         | 5700     | 1162.375996  | 0.092632          |                     | 5.058223        |</pre>"
      ],
      "text/plain": [
       "| 1         | 5700     | 1162.375996  | 0.092632          |                     | 5.058223        |"
      ]
     },
     "metadata": {},
     "output_type": "display_data"
    },
    {
     "data": {
      "text/html": [
       "<pre>| 1         | 5800     | 1181.968192  | 0.094483          |                     | 5.104076        |</pre>"
      ],
      "text/plain": [
       "| 1         | 5800     | 1181.968192  | 0.094483          |                     | 5.104076        |"
      ]
     },
     "metadata": {},
     "output_type": "display_data"
    },
    {
     "data": {
      "text/html": [
       "<pre>| 1         | 5900     | 1201.647337  | 0.096780          |                     | 5.081519        |</pre>"
      ],
      "text/plain": [
       "| 1         | 5900     | 1201.647337  | 0.096780          |                     | 5.081519        |"
      ]
     },
     "metadata": {},
     "output_type": "display_data"
    },
    {
     "data": {
      "text/html": [
       "<pre>| 1         | 6000     | 1221.218326  | 0.097667          |                     | 5.109604        |</pre>"
      ],
      "text/plain": [
       "| 1         | 6000     | 1221.218326  | 0.097667          |                     | 5.109604        |"
      ]
     },
     "metadata": {},
     "output_type": "display_data"
    },
    {
     "data": {
      "text/html": [
       "<pre>| 1         | 6100     | 1241.085300  | 0.098689          |                     | 5.033478        |</pre>"
      ],
      "text/plain": [
       "| 1         | 6100     | 1241.085300  | 0.098689          |                     | 5.033478        |"
      ]
     },
     "metadata": {},
     "output_type": "display_data"
    },
    {
     "data": {
      "text/html": [
       "<pre>| 1         | 6200     | 1260.953425  | 0.101129          |                     | 5.033187        |</pre>"
      ],
      "text/plain": [
       "| 1         | 6200     | 1260.953425  | 0.101129          |                     | 5.033187        |"
      ]
     },
     "metadata": {},
     "output_type": "display_data"
    },
    {
     "data": {
      "text/html": [
       "<pre>| 1         | 6300     | 1280.687422  | 0.101905          |                     | 5.067398        |</pre>"
      ],
      "text/plain": [
       "| 1         | 6300     | 1280.687422  | 0.101905          |                     | 5.067398        |"
      ]
     },
     "metadata": {},
     "output_type": "display_data"
    },
    {
     "data": {
      "text/html": [
       "<pre>| 1         | 6400     | 1300.619206  | 0.102812          |                     | 5.017112        |</pre>"
      ],
      "text/plain": [
       "| 1         | 6400     | 1300.619206  | 0.102812          |                     | 5.017112        |"
      ]
     },
     "metadata": {},
     "output_type": "display_data"
    },
    {
     "data": {
      "text/html": [
       "<pre>| 1         | 6500     | 1320.386315  | 0.103692          |                     | 5.058912        |</pre>"
      ],
      "text/plain": [
       "| 1         | 6500     | 1320.386315  | 0.103692          |                     | 5.058912        |"
      ]
     },
     "metadata": {},
     "output_type": "display_data"
    },
    {
     "data": {
      "text/html": [
       "<pre>| 1         | 6600     | 1342.302048  | 0.104697          |                     | 4.562929        |</pre>"
      ],
      "text/plain": [
       "| 1         | 6600     | 1342.302048  | 0.104697          |                     | 4.562929        |"
      ]
     },
     "metadata": {},
     "output_type": "display_data"
    },
    {
     "data": {
      "text/html": [
       "<pre>| 1         | 6700     | 1362.749666  | 0.106119          |                     | 4.890546        |</pre>"
      ],
      "text/plain": [
       "| 1         | 6700     | 1362.749666  | 0.106119          |                     | 4.890546        |"
      ]
     },
     "metadata": {},
     "output_type": "display_data"
    },
    {
     "data": {
      "text/html": [
       "<pre>| 1         | 6800     | 1382.629627  | 0.107941          |                     | 5.030189        |</pre>"
      ],
      "text/plain": [
       "| 1         | 6800     | 1382.629627  | 0.107941          |                     | 5.030189        |"
      ]
     },
     "metadata": {},
     "output_type": "display_data"
    },
    {
     "data": {
      "text/html": [
       "<pre>| 1         | 6900     | 1402.293212  | 0.110725          |                     | 5.085545        |</pre>"
      ],
      "text/plain": [
       "| 1         | 6900     | 1402.293212  | 0.110725          |                     | 5.085545        |"
      ]
     },
     "metadata": {},
     "output_type": "display_data"
    },
    {
     "data": {
      "text/html": [
       "<pre>| 1         | 7000     | 1427.887145  | 0.112857          |                     | 3.907176        |</pre>"
      ],
      "text/plain": [
       "| 1         | 7000     | 1427.887145  | 0.112857          |                     | 3.907176        |"
      ]
     },
     "metadata": {},
     "output_type": "display_data"
    },
    {
     "data": {
      "text/html": [
       "<pre>| 1         | 7100     | 1454.263067  | 0.114507          |                     | 3.791339        |</pre>"
      ],
      "text/plain": [
       "| 1         | 7100     | 1454.263067  | 0.114507          |                     | 3.791339        |"
      ]
     },
     "metadata": {},
     "output_type": "display_data"
    },
    {
     "data": {
      "text/html": [
       "<pre>| 1         | 7200     | 1482.315741  | 0.116806          |                     | 3.564721        |</pre>"
      ],
      "text/plain": [
       "| 1         | 7200     | 1482.315741  | 0.116806          |                     | 3.564721        |"
      ]
     },
     "metadata": {},
     "output_type": "display_data"
    },
    {
     "data": {
      "text/html": [
       "<pre>| 1         | 7300     | 1513.949478  | 0.119589          |                     | 3.161181        |</pre>"
      ],
      "text/plain": [
       "| 1         | 7300     | 1513.949478  | 0.119589          |                     | 3.161181        |"
      ]
     },
     "metadata": {},
     "output_type": "display_data"
    },
    {
     "data": {
      "text/html": [
       "<pre>| 1         | 7400     | 1540.377697  | 0.121081          |                     | 3.783834        |</pre>"
      ],
      "text/plain": [
       "| 1         | 7400     | 1540.377697  | 0.121081          |                     | 3.783834        |"
      ]
     },
     "metadata": {},
     "output_type": "display_data"
    },
    {
     "data": {
      "text/html": [
       "<pre>| 1         | 7500     | 1565.021021  | 0.122400          |                     | 4.057897        |</pre>"
      ],
      "text/plain": [
       "| 1         | 7500     | 1565.021021  | 0.122400          |                     | 4.057897        |"
      ]
     },
     "metadata": {},
     "output_type": "display_data"
    },
    {
     "data": {
      "text/html": [
       "<pre>| 1         | 7600     | 1590.897938  | 0.124079          |                     | 3.864448        |</pre>"
      ],
      "text/plain": [
       "| 1         | 7600     | 1590.897938  | 0.124079          |                     | 3.864448        |"
      ]
     },
     "metadata": {},
     "output_type": "display_data"
    },
    {
     "data": {
      "text/html": [
       "<pre>| 1         | 7700     | 1617.322351  | 0.126234          |                     | 3.784377        |</pre>"
      ],
      "text/plain": [
       "| 1         | 7700     | 1617.322351  | 0.126234          |                     | 3.784377        |"
      ]
     },
     "metadata": {},
     "output_type": "display_data"
    },
    {
     "data": {
      "text/html": [
       "<pre>| 1         | 7800     | 1640.185781  | 0.127564          |                     | 4.373796        |</pre>"
      ],
      "text/plain": [
       "| 1         | 7800     | 1640.185781  | 0.127564          |                     | 4.373796        |"
      ]
     },
     "metadata": {},
     "output_type": "display_data"
    },
    {
     "data": {
      "text/html": [
       "<pre>| 1         | 7900     | 1663.446114  | 0.129620          |                     | 4.299166        |</pre>"
      ],
      "text/plain": [
       "| 1         | 7900     | 1663.446114  | 0.129620          |                     | 4.299166        |"
      ]
     },
     "metadata": {},
     "output_type": "display_data"
    },
    {
     "data": {
      "text/html": [
       "<pre>| 1         | 8000     | 1684.156634  | 0.130750          |                     | 4.828464        |</pre>"
      ],
      "text/plain": [
       "| 1         | 8000     | 1684.156634  | 0.130750          |                     | 4.828464        |"
      ]
     },
     "metadata": {},
     "output_type": "display_data"
    },
    {
     "data": {
      "text/html": [
       "<pre>| 1         | 8100     | 1705.761557  | 0.131975          |                     | 4.628578        |</pre>"
      ],
      "text/plain": [
       "| 1         | 8100     | 1705.761557  | 0.131975          |                     | 4.628578        |"
      ]
     },
     "metadata": {},
     "output_type": "display_data"
    },
    {
     "data": {
      "text/html": [
       "<pre>| 1         | 8200     | 1726.641263  | 0.133293          |                     | 4.789337        |</pre>"
      ],
      "text/plain": [
       "| 1         | 8200     | 1726.641263  | 0.133293          |                     | 4.789337        |"
      ]
     },
     "metadata": {},
     "output_type": "display_data"
    },
    {
     "data": {
      "text/html": [
       "<pre>| 1         | 8300     | 1747.383612  | 0.135060          |                     | 4.821054        |</pre>"
      ],
      "text/plain": [
       "| 1         | 8300     | 1747.383612  | 0.135060          |                     | 4.821054        |"
      ]
     },
     "metadata": {},
     "output_type": "display_data"
    },
    {
     "data": {
      "text/html": [
       "<pre>| 1         | 8400     | 1767.681418  | 0.136190          |                     | 4.926642        |</pre>"
      ],
      "text/plain": [
       "| 1         | 8400     | 1767.681418  | 0.136190          |                     | 4.926642        |"
      ]
     },
     "metadata": {},
     "output_type": "display_data"
    },
    {
     "data": {
      "text/html": [
       "<pre>| 1         | 8500     | 1788.230152  | 0.138471          |                     | 4.866478        |</pre>"
      ],
      "text/plain": [
       "| 1         | 8500     | 1788.230152  | 0.138471          |                     | 4.866478        |"
      ]
     },
     "metadata": {},
     "output_type": "display_data"
    },
    {
     "data": {
      "text/html": [
       "<pre>| 1         | 8600     | 1808.279769  | 0.139884          |                     | 4.987628        |</pre>"
      ],
      "text/plain": [
       "| 1         | 8600     | 1808.279769  | 0.139884          |                     | 4.987628        |"
      ]
     },
     "metadata": {},
     "output_type": "display_data"
    },
    {
     "data": {
      "text/html": [
       "<pre>| 1         | 8700     | 1828.478075  | 0.141264          |                     | 4.950916        |</pre>"
      ],
      "text/plain": [
       "| 1         | 8700     | 1828.478075  | 0.141264          |                     | 4.950916        |"
      ]
     },
     "metadata": {},
     "output_type": "display_data"
    },
    {
     "data": {
      "text/html": [
       "<pre>| 1         | 8800     | 1848.774572  | 0.143864          |                     | 4.926951        |</pre>"
      ],
      "text/plain": [
       "| 1         | 8800     | 1848.774572  | 0.143864          |                     | 4.926951        |"
      ]
     },
     "metadata": {},
     "output_type": "display_data"
    },
    {
     "data": {
      "text/html": [
       "<pre>| 1         | 8900     | 1869.071409  | 0.146067          |                     | 4.926881        |</pre>"
      ],
      "text/plain": [
       "| 1         | 8900     | 1869.071409  | 0.146067          |                     | 4.926881        |"
      ]
     },
     "metadata": {},
     "output_type": "display_data"
    },
    {
     "data": {
      "text/html": [
       "<pre>| 1         | 9000     | 1889.424542  | 0.148000          |                     | 4.913245        |</pre>"
      ],
      "text/plain": [
       "| 1         | 9000     | 1889.424542  | 0.148000          |                     | 4.913245        |"
      ]
     },
     "metadata": {},
     "output_type": "display_data"
    },
    {
     "data": {
      "text/html": [
       "<pre>| 1         | 9100     | 1910.000361  | 0.149780          |                     | 4.860074        |</pre>"
      ],
      "text/plain": [
       "| 1         | 9100     | 1910.000361  | 0.149780          |                     | 4.860074        |"
      ]
     },
     "metadata": {},
     "output_type": "display_data"
    },
    {
     "data": {
      "text/html": [
       "<pre>| 1         | 9200     | 1930.168203  | 0.151196          |                     | 4.958388        |</pre>"
      ],
      "text/plain": [
       "| 1         | 9200     | 1930.168203  | 0.151196          |                     | 4.958388        |"
      ]
     },
     "metadata": {},
     "output_type": "display_data"
    },
    {
     "data": {
      "text/html": [
       "<pre>| 1         | 9300     | 1950.644015  | 0.152688          |                     | 4.883814        |</pre>"
      ],
      "text/plain": [
       "| 1         | 9300     | 1950.644015  | 0.152688          |                     | 4.883814        |"
      ]
     },
     "metadata": {},
     "output_type": "display_data"
    },
    {
     "data": {
      "text/html": [
       "<pre>| 1         | 9400     | 1974.257986  | 0.154468          |                     | 4.234781        |</pre>"
      ],
      "text/plain": [
       "| 1         | 9400     | 1974.257986  | 0.154468          |                     | 4.234781        |"
      ]
     },
     "metadata": {},
     "output_type": "display_data"
    },
    {
     "data": {
      "text/html": [
       "<pre>| 1         | 9500     | 1994.317590  | 0.156105          |                     | 4.985142        |</pre>"
      ],
      "text/plain": [
       "| 1         | 9500     | 1994.317590  | 0.156105          |                     | 4.985142        |"
      ]
     },
     "metadata": {},
     "output_type": "display_data"
    },
    {
     "data": {
      "text/html": [
       "<pre>| 1         | 9600     | 2013.970047  | 0.158229          |                     | 5.088422        |</pre>"
      ],
      "text/plain": [
       "| 1         | 9600     | 2013.970047  | 0.158229          |                     | 5.088422        |"
      ]
     },
     "metadata": {},
     "output_type": "display_data"
    },
    {
     "data": {
      "text/html": [
       "<pre>| 1         | 9700     | 2033.837780  | 0.159794          |                     | 5.033287        |</pre>"
      ],
      "text/plain": [
       "| 1         | 9700     | 2033.837780  | 0.159794          |                     | 5.033287        |"
      ]
     },
     "metadata": {},
     "output_type": "display_data"
    },
    {
     "data": {
      "text/html": [
       "<pre>| 1         | 9800     | 2055.395865  | 0.162449          |                     | 4.638629        |</pre>"
      ],
      "text/plain": [
       "| 1         | 9800     | 2055.395865  | 0.162449          |                     | 4.638629        |"
      ]
     },
     "metadata": {},
     "output_type": "display_data"
    },
    {
     "data": {
      "text/html": [
       "<pre>| 1         | 9900     | 2075.206382  | 0.165354          |                     | 5.047824        |</pre>"
      ],
      "text/plain": [
       "| 1         | 9900     | 2075.206382  | 0.165354          |                     | 5.047824        |"
      ]
     },
     "metadata": {},
     "output_type": "display_data"
    },
    {
     "data": {
      "text/html": [
       "<pre>| 1         | 10000    | 2095.171485  | 0.167700          |                     | 5.008746        |</pre>"
      ],
      "text/plain": [
       "| 1         | 10000    | 2095.171485  | 0.167700          |                     | 5.008746        |"
      ]
     },
     "metadata": {},
     "output_type": "display_data"
    },
    {
     "data": {
      "text/html": [
       "<pre>| 1         | 10100    | 2114.927786  | 0.170297          |                     | 5.061671        |</pre>"
      ],
      "text/plain": [
       "| 1         | 10100    | 2114.927786  | 0.170297          |                     | 5.061671        |"
      ]
     },
     "metadata": {},
     "output_type": "display_data"
    },
    {
     "data": {
      "text/html": [
       "<pre>| 1         | 10200    | 2134.511747  | 0.171667          |                     | 5.106217        |</pre>"
      ],
      "text/plain": [
       "| 1         | 10200    | 2134.511747  | 0.171667          |                     | 5.106217        |"
      ]
     },
     "metadata": {},
     "output_type": "display_data"
    },
    {
     "data": {
      "text/html": [
       "<pre>| 1         | 10300    | 2156.325798  | 0.174078          |                     | 4.584202        |</pre>"
      ],
      "text/plain": [
       "| 1         | 10300    | 2156.325798  | 0.174078          |                     | 4.584202        |"
      ]
     },
     "metadata": {},
     "output_type": "display_data"
    },
    {
     "data": {
      "text/html": [
       "<pre>| 1         | 10400    | 2177.137884  | 0.176250          |                     | 4.804900        |</pre>"
      ],
      "text/plain": [
       "| 1         | 10400    | 2177.137884  | 0.176250          |                     | 4.804900        |"
      ]
     },
     "metadata": {},
     "output_type": "display_data"
    },
    {
     "data": {
      "text/html": [
       "<pre>| 1         | 10500    | 2199.239477  | 0.178667          |                     | 4.524562        |</pre>"
      ],
      "text/plain": [
       "| 1         | 10500    | 2199.239477  | 0.178667          |                     | 4.524562        |"
      ]
     },
     "metadata": {},
     "output_type": "display_data"
    },
    {
     "data": {
      "text/html": [
       "<pre>| 1         | 10600    | 2219.279444  | 0.181792          |                     | 4.990032        |</pre>"
      ],
      "text/plain": [
       "| 1         | 10600    | 2219.279444  | 0.181792          |                     | 4.990032        |"
      ]
     },
     "metadata": {},
     "output_type": "display_data"
    },
    {
     "data": {
      "text/html": [
       "<pre>| 1         | 10700    | 2239.085562  | 0.184206          |                     | 5.048941        |</pre>"
      ],
      "text/plain": [
       "| 1         | 10700    | 2239.085562  | 0.184206          |                     | 5.048941        |"
      ]
     },
     "metadata": {},
     "output_type": "display_data"
    },
    {
     "data": {
      "text/html": [
       "<pre>| 1         | 10800    | 2258.846491  | 0.185556          |                     | 5.060493        |</pre>"
      ],
      "text/plain": [
       "| 1         | 10800    | 2258.846491  | 0.185556          |                     | 5.060493        |"
      ]
     },
     "metadata": {},
     "output_type": "display_data"
    },
    {
     "data": {
      "text/html": [
       "<pre>| 1         | 10900    | 2281.614545  | 0.187890          |                     | 4.392117        |</pre>"
      ],
      "text/plain": [
       "| 1         | 10900    | 2281.614545  | 0.187890          |                     | 4.392117        |"
      ]
     },
     "metadata": {},
     "output_type": "display_data"
    },
    {
     "data": {
      "text/html": [
       "<pre>| 1         | 11000    | 2305.566179  | 0.189727          |                     | 4.175081        |</pre>"
      ],
      "text/plain": [
       "| 1         | 11000    | 2305.566179  | 0.189727          |                     | 4.175081        |"
      ]
     },
     "metadata": {},
     "output_type": "display_data"
    },
    {
     "data": {
      "text/html": [
       "<pre>| 1         | 11100    | 2329.212474  | 0.190901          |                     | 4.228993        |</pre>"
      ],
      "text/plain": [
       "| 1         | 11100    | 2329.212474  | 0.190901          |                     | 4.228993        |"
      ]
     },
     "metadata": {},
     "output_type": "display_data"
    },
    {
     "data": {
      "text/html": [
       "<pre>| 1         | 11200    | 2352.480101  | 0.193125          |                     | 4.297818        |</pre>"
      ],
      "text/plain": [
       "| 1         | 11200    | 2352.480101  | 0.193125          |                     | 4.297818        |"
      ]
     },
     "metadata": {},
     "output_type": "display_data"
    },
    {
     "data": {
      "text/html": [
       "<pre>| 1         | 11300    | 2376.164515  | 0.194956          |                     | 4.222184        |</pre>"
      ],
      "text/plain": [
       "| 1         | 11300    | 2376.164515  | 0.194956          |                     | 4.222184        |"
      ]
     },
     "metadata": {},
     "output_type": "display_data"
    },
    {
     "data": {
      "text/html": [
       "<pre>| 1         | 11400    | 2396.649019  | 0.197456          |                     | 4.881739        |</pre>"
      ],
      "text/plain": [
       "| 1         | 11400    | 2396.649019  | 0.197456          |                     | 4.881739        |"
      ]
     },
     "metadata": {},
     "output_type": "display_data"
    },
    {
     "data": {
      "text/html": [
       "<pre>| 1         | 11500    | 2418.368231  | 0.198696          |                     | 4.604218        |</pre>"
      ],
      "text/plain": [
       "| 1         | 11500    | 2418.368231  | 0.198696          |                     | 4.604218        |"
      ]
     },
     "metadata": {},
     "output_type": "display_data"
    },
    {
     "data": {
      "text/html": [
       "<pre>| 1         | 11600    | 2440.014930  | 0.200345          |                     | 4.619642        |</pre>"
      ],
      "text/plain": [
       "| 1         | 11600    | 2440.014930  | 0.200345          |                     | 4.619642        |"
      ]
     },
     "metadata": {},
     "output_type": "display_data"
    },
    {
     "data": {
      "text/html": [
       "<pre>| 1         | 11700    | 2462.694680  | 0.203248          |                     | 4.409221        |</pre>"
      ],
      "text/plain": [
       "| 1         | 11700    | 2462.694680  | 0.203248          |                     | 4.409221        |"
      ]
     },
     "metadata": {},
     "output_type": "display_data"
    },
    {
     "data": {
      "text/html": [
       "<pre>| 1         | 11800    | 2486.877068  | 0.204492          |                     | 4.135242        |</pre>"
      ],
      "text/plain": [
       "| 1         | 11800    | 2486.877068  | 0.204492          |                     | 4.135242        |"
      ]
     },
     "metadata": {},
     "output_type": "display_data"
    },
    {
     "data": {
      "text/html": [
       "<pre>| 1         | 11900    | 2511.007050  | 0.207143          |                     | 4.144221        |</pre>"
      ],
      "text/plain": [
       "| 1         | 11900    | 2511.007050  | 0.207143          |                     | 4.144221        |"
      ]
     },
     "metadata": {},
     "output_type": "display_data"
    },
    {
     "data": {
      "text/html": [
       "<pre>| 1         | 12000    | 2533.991534  | 0.209500          |                     | 4.350759        |</pre>"
      ],
      "text/plain": [
       "| 1         | 12000    | 2533.991534  | 0.209500          |                     | 4.350759        |"
      ]
     },
     "metadata": {},
     "output_type": "display_data"
    },
    {
     "data": {
      "text/html": [
       "<pre>| 1         | 12100    | 2555.038266  | 0.210909          |                     | 4.751331        |</pre>"
      ],
      "text/plain": [
       "| 1         | 12100    | 2555.038266  | 0.210909          |                     | 4.751331        |"
      ]
     },
     "metadata": {},
     "output_type": "display_data"
    },
    {
     "data": {
      "text/html": [
       "<pre>| 1         | 12200    | 2579.539929  | 0.213525          |                     | 4.081356        |</pre>"
      ],
      "text/plain": [
       "| 1         | 12200    | 2579.539929  | 0.213525          |                     | 4.081356        |"
      ]
     },
     "metadata": {},
     "output_type": "display_data"
    },
    {
     "data": {
      "text/html": [
       "<pre>| 1         | 12300    | 2602.607977  | 0.215122          |                     | 4.335003        |</pre>"
      ],
      "text/plain": [
       "| 1         | 12300    | 2602.607977  | 0.215122          |                     | 4.335003        |"
      ]
     },
     "metadata": {},
     "output_type": "display_data"
    },
    {
     "data": {
      "text/html": [
       "<pre>| 1         | 12400    | 2627.014492  | 0.217419          |                     | 4.097265        |</pre>"
      ],
      "text/plain": [
       "| 1         | 12400    | 2627.014492  | 0.217419          |                     | 4.097265        |"
      ]
     },
     "metadata": {},
     "output_type": "display_data"
    },
    {
     "data": {
      "text/html": [
       "<pre>| 1         | 12500    | 2647.496146  | 0.219040          |                     | 4.882418        |</pre>"
      ],
      "text/plain": [
       "| 1         | 12500    | 2647.496146  | 0.219040          |                     | 4.882418        |"
      ]
     },
     "metadata": {},
     "output_type": "display_data"
    },
    {
     "data": {
      "text/html": [
       "<pre>| 1         | 12600    | 2667.430658  | 0.220476          |                     | 5.016424        |</pre>"
      ],
      "text/plain": [
       "| 1         | 12600    | 2667.430658  | 0.220476          |                     | 5.016424        |"
      ]
     },
     "metadata": {},
     "output_type": "display_data"
    },
    {
     "data": {
      "text/html": [
       "<pre>| 1         | 12700    | 2687.115375  | 0.222520          |                     | 5.080084        |</pre>"
      ],
      "text/plain": [
       "| 1         | 12700    | 2687.115375  | 0.222520          |                     | 5.080084        |"
      ]
     },
     "metadata": {},
     "output_type": "display_data"
    },
    {
     "data": {
      "text/html": [
       "<pre>| 1         | 12800    | 2706.863818  | 0.224453          |                     | 5.063693        |</pre>"
      ],
      "text/plain": [
       "| 1         | 12800    | 2706.863818  | 0.224453          |                     | 5.063693        |"
      ]
     },
     "metadata": {},
     "output_type": "display_data"
    },
    {
     "data": {
      "text/html": [
       "<pre>| 1         | 12900    | 2726.677890  | 0.225891          |                     | 5.046920        |</pre>"
      ],
      "text/plain": [
       "| 1         | 12900    | 2726.677890  | 0.225891          |                     | 5.046920        |"
      ]
     },
     "metadata": {},
     "output_type": "display_data"
    },
    {
     "data": {
      "text/html": [
       "<pre>| 1         | 13000    | 2747.133230  | 0.228154          |                     | 4.888695        |</pre>"
      ],
      "text/plain": [
       "| 1         | 13000    | 2747.133230  | 0.228154          |                     | 4.888695        |"
      ]
     },
     "metadata": {},
     "output_type": "display_data"
    },
    {
     "data": {
      "text/html": [
       "<pre>| 1         | 13100    | 2768.146761  | 0.230000          |                     | 4.758842        |</pre>"
      ],
      "text/plain": [
       "| 1         | 13100    | 2768.146761  | 0.230000          |                     | 4.758842        |"
      ]
     },
     "metadata": {},
     "output_type": "display_data"
    },
    {
     "data": {
      "text/html": [
       "<pre>| 1         | 13200    | 2787.917466  | 0.232500          |                     | 5.057985        |</pre>"
      ],
      "text/plain": [
       "| 1         | 13200    | 2787.917466  | 0.232500          |                     | 5.057985        |"
      ]
     },
     "metadata": {},
     "output_type": "display_data"
    },
    {
     "data": {
      "text/html": [
       "<pre>| 1         | 13300    | 2809.219536  | 0.234586          |                     | 4.694381        |</pre>"
      ],
      "text/plain": [
       "| 1         | 13300    | 2809.219536  | 0.234586          |                     | 4.694381        |"
      ]
     },
     "metadata": {},
     "output_type": "display_data"
    },
    {
     "data": {
      "text/html": [
       "<pre>| 1         | 13400    | 2829.379074  | 0.236194          |                     | 4.960431        |</pre>"
      ],
      "text/plain": [
       "| 1         | 13400    | 2829.379074  | 0.236194          |                     | 4.960431        |"
      ]
     },
     "metadata": {},
     "output_type": "display_data"
    },
    {
     "data": {
      "text/html": [
       "<pre>| 1         | 13500    | 2849.162140  | 0.238222          |                     | 5.054839        |</pre>"
      ],
      "text/plain": [
       "| 1         | 13500    | 2849.162140  | 0.238222          |                     | 5.054839        |"
      ]
     },
     "metadata": {},
     "output_type": "display_data"
    },
    {
     "data": {
      "text/html": [
       "<pre>| 1         | 13600    | 2868.973300  | 0.240147          |                     | 5.047651        |</pre>"
      ],
      "text/plain": [
       "| 1         | 13600    | 2868.973300  | 0.240147          |                     | 5.047651        |"
      ]
     },
     "metadata": {},
     "output_type": "display_data"
    },
    {
     "data": {
      "text/html": [
       "<pre>| 1         | 13700    | 2888.926243  | 0.241679          |                     | 5.011789        |</pre>"
      ],
      "text/plain": [
       "| 1         | 13700    | 2888.926243  | 0.241679          |                     | 5.011789        |"
      ]
     },
     "metadata": {},
     "output_type": "display_data"
    },
    {
     "data": {
      "text/html": [
       "<pre>| 1         | 13800    | 2908.993204  | 0.243986          |                     | 4.983316        |</pre>"
      ],
      "text/plain": [
       "| 1         | 13800    | 2908.993204  | 0.243986          |                     | 4.983316        |"
      ]
     },
     "metadata": {},
     "output_type": "display_data"
    },
    {
     "data": {
      "text/html": [
       "<pre>| 1         | 13900    | 2928.813785  | 0.245827          |                     | 5.045259        |</pre>"
      ],
      "text/plain": [
       "| 1         | 13900    | 2928.813785  | 0.245827          |                     | 5.045259        |"
      ]
     },
     "metadata": {},
     "output_type": "display_data"
    },
    {
     "data": {
      "text/html": [
       "<pre>| 1         | 14000    | 2948.864307  | 0.247786          |                     | 4.987402        |</pre>"
      ],
      "text/plain": [
       "| 1         | 14000    | 2948.864307  | 0.247786          |                     | 4.987402        |"
      ]
     },
     "metadata": {},
     "output_type": "display_data"
    },
    {
     "data": {
      "text/html": [
       "<pre>| 1         | 14100    | 2968.473273  | 0.249716          |                     | 5.099709        |</pre>"
      ],
      "text/plain": [
       "| 1         | 14100    | 2968.473273  | 0.249716          |                     | 5.099709        |"
      ]
     },
     "metadata": {},
     "output_type": "display_data"
    },
    {
     "data": {
      "text/html": [
       "<pre>| 1         | 14200    | 2988.198640  | 0.251761          |                     | 5.069618        |</pre>"
      ],
      "text/plain": [
       "| 1         | 14200    | 2988.198640  | 0.251761          |                     | 5.069618        |"
      ]
     },
     "metadata": {},
     "output_type": "display_data"
    },
    {
     "data": {
      "text/html": [
       "<pre>| 1         | 14300    | 3007.990981  | 0.253706          |                     | 5.052455        |</pre>"
      ],
      "text/plain": [
       "| 1         | 14300    | 3007.990981  | 0.253706          |                     | 5.052455        |"
      ]
     },
     "metadata": {},
     "output_type": "display_data"
    },
    {
     "data": {
      "text/html": [
       "<pre>| 1         | 14400    | 3028.146185  | 0.255694          |                     | 4.961499        |</pre>"
      ],
      "text/plain": [
       "| 1         | 14400    | 3028.146185  | 0.255694          |                     | 4.961499        |"
      ]
     },
     "metadata": {},
     "output_type": "display_data"
    },
    {
     "data": {
      "text/html": [
       "<pre>| 1         | 14500    | 3048.131879  | 0.257793          |                     | 5.003579        |</pre>"
      ],
      "text/plain": [
       "| 1         | 14500    | 3048.131879  | 0.257793          |                     | 5.003579        |"
      ]
     },
     "metadata": {},
     "output_type": "display_data"
    },
    {
     "data": {
      "text/html": [
       "<pre>| 1         | 14600    | 3068.076921  | 0.259315          |                     | 5.013776        |</pre>"
      ],
      "text/plain": [
       "| 1         | 14600    | 3068.076921  | 0.259315          |                     | 5.013776        |"
      ]
     },
     "metadata": {},
     "output_type": "display_data"
    },
    {
     "data": {
      "text/html": [
       "<pre>| 1         | 14700    | 3088.227961  | 0.261497          |                     | 4.962524        |</pre>"
      ],
      "text/plain": [
       "| 1         | 14700    | 3088.227961  | 0.261497          |                     | 4.962524        |"
      ]
     },
     "metadata": {},
     "output_type": "display_data"
    },
    {
     "data": {
      "text/html": [
       "<pre>| 1         | 14800    | 3107.712719  | 0.263378          |                     | 5.132217        |</pre>"
      ],
      "text/plain": [
       "| 1         | 14800    | 3107.712719  | 0.263378          |                     | 5.132217        |"
      ]
     },
     "metadata": {},
     "output_type": "display_data"
    },
    {
     "data": {
      "text/html": [
       "<pre>| 1         | 14900    | 3127.878651  | 0.265235          |                     | 4.958859        |</pre>"
      ],
      "text/plain": [
       "| 1         | 14900    | 3127.878651  | 0.265235          |                     | 4.958859        |"
      ]
     },
     "metadata": {},
     "output_type": "display_data"
    },
    {
     "data": {
      "text/html": [
       "<pre>| 1         | 15000    | 3147.753685  | 0.266533          |                     | 5.031439        |</pre>"
      ],
      "text/plain": [
       "| 1         | 15000    | 3147.753685  | 0.266533          |                     | 5.031439        |"
      ]
     },
     "metadata": {},
     "output_type": "display_data"
    },
    {
     "data": {
      "text/html": [
       "<pre>| 1         | 15100    | 3169.120585  | 0.268079          |                     | 4.680132        |</pre>"
      ],
      "text/plain": [
       "| 1         | 15100    | 3169.120585  | 0.268079          |                     | 4.680132        |"
      ]
     },
     "metadata": {},
     "output_type": "display_data"
    },
    {
     "data": {
      "text/html": [
       "<pre>| 1         | 15200    | 3192.198593  | 0.269539          |                     | 4.333130        |</pre>"
      ],
      "text/plain": [
       "| 1         | 15200    | 3192.198593  | 0.269539          |                     | 4.333130        |"
      ]
     },
     "metadata": {},
     "output_type": "display_data"
    },
    {
     "data": {
      "text/html": [
       "<pre>| 1         | 15300    | 3212.234856  | 0.271569          |                     | 4.990951        |</pre>"
      ],
      "text/plain": [
       "| 1         | 15300    | 3212.234856  | 0.271569          |                     | 4.990951        |"
      ]
     },
     "metadata": {},
     "output_type": "display_data"
    },
    {
     "data": {
      "text/html": [
       "<pre>| 1         | 15400    | 3231.927160  | 0.273377          |                     | 5.078129        |</pre>"
      ],
      "text/plain": [
       "| 1         | 15400    | 3231.927160  | 0.273377          |                     | 5.078129        |"
      ]
     },
     "metadata": {},
     "output_type": "display_data"
    },
    {
     "data": {
      "text/html": [
       "<pre>| 1         | 15500    | 3251.558358  | 0.275097          |                     | 5.093934        |</pre>"
      ],
      "text/plain": [
       "| 1         | 15500    | 3251.558358  | 0.275097          |                     | 5.093934        |"
      ]
     },
     "metadata": {},
     "output_type": "display_data"
    },
    {
     "data": {
      "text/html": [
       "<pre>| 1         | 15600    | 3271.086965  | 0.276987          |                     | 5.120690        |</pre>"
      ],
      "text/plain": [
       "| 1         | 15600    | 3271.086965  | 0.276987          |                     | 5.120690        |"
      ]
     },
     "metadata": {},
     "output_type": "display_data"
    },
    {
     "data": {
      "text/html": [
       "<pre>| 1         | 15700    | 3292.047335  | 0.278599          |                     | 4.770907        |</pre>"
      ],
      "text/plain": [
       "| 1         | 15700    | 3292.047335  | 0.278599          |                     | 4.770907        |"
      ]
     },
     "metadata": {},
     "output_type": "display_data"
    },
    {
     "data": {
      "text/html": [
       "<pre>| 1         | 15800    | 3311.750983  | 0.279937          |                     | 5.075202        |</pre>"
      ],
      "text/plain": [
       "| 1         | 15800    | 3311.750983  | 0.279937          |                     | 5.075202        |"
      ]
     },
     "metadata": {},
     "output_type": "display_data"
    },
    {
     "data": {
      "text/html": [
       "<pre>| 1         | 15900    | 3331.568847  | 0.281509          |                     | 5.045953        |</pre>"
      ],
      "text/plain": [
       "| 1         | 15900    | 3331.568847  | 0.281509          |                     | 5.045953        |"
      ]
     },
     "metadata": {},
     "output_type": "display_data"
    },
    {
     "data": {
      "text/html": [
       "<pre>| 1         | 16000    | 3351.215485  | 0.283312          |                     | 5.089930        |</pre>"
      ],
      "text/plain": [
       "| 1         | 16000    | 3351.215485  | 0.283312          |                     | 5.089930        |"
      ]
     },
     "metadata": {},
     "output_type": "display_data"
    },
    {
     "data": {
      "text/html": [
       "<pre>| 1         | 16100    | 3372.092693  | 0.284596          |                     | 4.789916        |</pre>"
      ],
      "text/plain": [
       "| 1         | 16100    | 3372.092693  | 0.284596          |                     | 4.789916        |"
      ]
     },
     "metadata": {},
     "output_type": "display_data"
    },
    {
     "data": {
      "text/html": [
       "<pre>| 1         | 16200    | 3393.020851  | 0.286358          |                     | 4.778247        |</pre>"
      ],
      "text/plain": [
       "| 1         | 16200    | 3393.020851  | 0.286358          |                     | 4.778247        |"
      ]
     },
     "metadata": {},
     "output_type": "display_data"
    },
    {
     "data": {
      "text/html": [
       "<pre>| 1         | 16300    | 3413.850270  | 0.288221          |                     | 4.800903        |</pre>"
      ],
      "text/plain": [
       "| 1         | 16300    | 3413.850270  | 0.288221          |                     | 4.800903        |"
      ]
     },
     "metadata": {},
     "output_type": "display_data"
    },
    {
     "data": {
      "text/html": [
       "<pre>| 1         | 16400    | 3434.680402  | 0.290244          |                     | 4.800737        |</pre>"
      ],
      "text/plain": [
       "| 1         | 16400    | 3434.680402  | 0.290244          |                     | 4.800737        |"
      ]
     },
     "metadata": {},
     "output_type": "display_data"
    },
    {
     "data": {
      "text/html": [
       "<pre>| 1         | 16500    | 3455.615701  | 0.292121          |                     | 4.776621        |</pre>"
      ],
      "text/plain": [
       "| 1         | 16500    | 3455.615701  | 0.292121          |                     | 4.776621        |"
      ]
     },
     "metadata": {},
     "output_type": "display_data"
    },
    {
     "data": {
      "text/html": [
       "<pre>| 1         | 16600    | 3477.350787  | 0.294337          |                     | 4.600858        |</pre>"
      ],
      "text/plain": [
       "| 1         | 16600    | 3477.350787  | 0.294337          |                     | 4.600858        |"
      ]
     },
     "metadata": {},
     "output_type": "display_data"
    },
    {
     "data": {
      "text/html": [
       "<pre>| 1         | 16700    | 3501.538349  | 0.296048          |                     | 4.134357        |</pre>"
      ],
      "text/plain": [
       "| 1         | 16700    | 3501.538349  | 0.296048          |                     | 4.134357        |"
      ]
     },
     "metadata": {},
     "output_type": "display_data"
    },
    {
     "data": {
      "text/html": [
       "<pre>| 1         | 16800    | 3522.487578  | 0.298452          |                     | 4.773441        |</pre>"
      ],
      "text/plain": [
       "| 1         | 16800    | 3522.487578  | 0.298452          |                     | 4.773441        |"
      ]
     },
     "metadata": {},
     "output_type": "display_data"
    },
    {
     "data": {
      "text/html": [
       "<pre>| 1         | 16900    | 3543.866332  | 0.300178          |                     | 4.677542        |</pre>"
      ],
      "text/plain": [
       "| 1         | 16900    | 3543.866332  | 0.300178          |                     | 4.677542        |"
      ]
     },
     "metadata": {},
     "output_type": "display_data"
    },
    {
     "data": {
      "text/html": [
       "<pre>| 1         | 17000    | 3567.392894  | 0.301882          |                     | 4.250514        |</pre>"
      ],
      "text/plain": [
       "| 1         | 17000    | 3567.392894  | 0.301882          |                     | 4.250514        |"
      ]
     },
     "metadata": {},
     "output_type": "display_data"
    },
    {
     "data": {
      "text/html": [
       "<pre>| 1         | 17100    | 3589.479246  | 0.303333          |                     | 4.527683        |</pre>"
      ],
      "text/plain": [
       "| 1         | 17100    | 3589.479246  | 0.303333          |                     | 4.527683        |"
      ]
     },
     "metadata": {},
     "output_type": "display_data"
    },
    {
     "data": {
      "text/html": [
       "<pre>| 1         | 17200    | 3609.554744  | 0.304767          |                     | 4.981199        |</pre>"
      ],
      "text/plain": [
       "| 1         | 17200    | 3609.554744  | 0.304767          |                     | 4.981199        |"
      ]
     },
     "metadata": {},
     "output_type": "display_data"
    },
    {
     "data": {
      "text/html": [
       "<pre>| 1         | 17300    | 3629.193327  | 0.306301          |                     | 5.092020        |</pre>"
      ],
      "text/plain": [
       "| 1         | 17300    | 3629.193327  | 0.306301          |                     | 5.092020        |"
      ]
     },
     "metadata": {},
     "output_type": "display_data"
    },
    {
     "data": {
      "text/html": [
       "<pre>| 1         | 17400    | 3648.849783  | 0.307759          |                     | 5.087384        |</pre>"
      ],
      "text/plain": [
       "| 1         | 17400    | 3648.849783  | 0.307759          |                     | 5.087384        |"
      ]
     },
     "metadata": {},
     "output_type": "display_data"
    },
    {
     "data": {
      "text/html": [
       "<pre>| 1         | 17500    | 3668.471649  | 0.309486          |                     | 5.096355        |</pre>"
      ],
      "text/plain": [
       "| 1         | 17500    | 3668.471649  | 0.309486          |                     | 5.096355        |"
      ]
     },
     "metadata": {},
     "output_type": "display_data"
    },
    {
     "data": {
      "text/html": [
       "<pre>| 1         | 17600    | 3688.259043  | 0.311307          |                     | 5.053721        |</pre>"
      ],
      "text/plain": [
       "| 1         | 17600    | 3688.259043  | 0.311307          |                     | 5.053721        |"
      ]
     },
     "metadata": {},
     "output_type": "display_data"
    },
    {
     "data": {
      "text/html": [
       "<pre>| 1         | 17700    | 3708.101015  | 0.312373          |                     | 5.039823        |</pre>"
      ],
      "text/plain": [
       "| 1         | 17700    | 3708.101015  | 0.312373          |                     | 5.039823        |"
      ]
     },
     "metadata": {},
     "output_type": "display_data"
    },
    {
     "data": {
      "text/html": [
       "<pre>| 1         | 17800    | 3727.821049  | 0.314607          |                     | 5.070985        |</pre>"
      ],
      "text/plain": [
       "| 1         | 17800    | 3727.821049  | 0.314607          |                     | 5.070985        |"
      ]
     },
     "metadata": {},
     "output_type": "display_data"
    },
    {
     "data": {
      "text/html": [
       "<pre>| 1         | 17900    | 3747.395973  | 0.316313          |                     | 5.108576        |</pre>"
      ],
      "text/plain": [
       "| 1         | 17900    | 3747.395973  | 0.316313          |                     | 5.108576        |"
      ]
     },
     "metadata": {},
     "output_type": "display_data"
    },
    {
     "data": {
      "text/html": [
       "<pre>| 1         | 18000    | 3767.060450  | 0.318111          |                     | 5.085315        |</pre>"
      ],
      "text/plain": [
       "| 1         | 18000    | 3767.060450  | 0.318111          |                     | 5.085315        |"
      ]
     },
     "metadata": {},
     "output_type": "display_data"
    },
    {
     "data": {
      "text/html": [
       "<pre>| 1         | 18100    | 3788.635985  | 0.319724          |                     | 4.634877        |</pre>"
      ],
      "text/plain": [
       "| 1         | 18100    | 3788.635985  | 0.319724          |                     | 4.634877        |"
      ]
     },
     "metadata": {},
     "output_type": "display_data"
    },
    {
     "data": {
      "text/html": [
       "<pre>| 1         | 18200    | 3808.396725  | 0.321209          |                     | 5.060538        |</pre>"
      ],
      "text/plain": [
       "| 1         | 18200    | 3808.396725  | 0.321209          |                     | 5.060538        |"
      ]
     },
     "metadata": {},
     "output_type": "display_data"
    },
    {
     "data": {
      "text/html": [
       "<pre>| 1         | 18300    | 3828.059296  | 0.322896          |                     | 5.085804        |</pre>"
      ],
      "text/plain": [
       "| 1         | 18300    | 3828.059296  | 0.322896          |                     | 5.085804        |"
      ]
     },
     "metadata": {},
     "output_type": "display_data"
    },
    {
     "data": {
      "text/html": [
       "<pre>| 1         | 18400    | 3848.484912  | 0.324402          |                     | 4.895814        |</pre>"
      ],
      "text/plain": [
       "| 1         | 18400    | 3848.484912  | 0.324402          |                     | 4.895814        |"
      ]
     },
     "metadata": {},
     "output_type": "display_data"
    },
    {
     "data": {
      "text/html": [
       "<pre>| 1         | 18500    | 3868.041021  | 0.326054          |                     | 5.113494        |</pre>"
      ],
      "text/plain": [
       "| 1         | 18500    | 3868.041021  | 0.326054          |                     | 5.113494        |"
      ]
     },
     "metadata": {},
     "output_type": "display_data"
    },
    {
     "data": {
      "text/html": [
       "<pre>| 1         | 18600    | 3888.196494  | 0.327581          |                     | 4.961433        |</pre>"
      ],
      "text/plain": [
       "| 1         | 18600    | 3888.196494  | 0.327581          |                     | 4.961433        |"
      ]
     },
     "metadata": {},
     "output_type": "display_data"
    },
    {
     "data": {
      "text/html": [
       "<pre>| 1         | 18700    | 3908.041781  | 0.329144          |                     | 5.038985        |</pre>"
      ],
      "text/plain": [
       "| 1         | 18700    | 3908.041781  | 0.329144          |                     | 5.038985        |"
      ]
     },
     "metadata": {},
     "output_type": "display_data"
    },
    {
     "data": {
      "text/html": [
       "<pre>| 1         | 18800    | 3927.655418  | 0.331223          |                     | 5.098485        |</pre>"
      ],
      "text/plain": [
       "| 1         | 18800    | 3927.655418  | 0.331223          |                     | 5.098485        |"
      ]
     },
     "metadata": {},
     "output_type": "display_data"
    },
    {
     "data": {
      "text/html": [
       "<pre>| 1         | 18900    | 3947.162295  | 0.333439          |                     | 5.126395        |</pre>"
      ],
      "text/plain": [
       "| 1         | 18900    | 3947.162295  | 0.333439          |                     | 5.126395        |"
      ]
     },
     "metadata": {},
     "output_type": "display_data"
    },
    {
     "data": {
      "text/html": [
       "<pre>| 1         | 19000    | 3966.826035  | 0.334579          |                     | 5.085502        |</pre>"
      ],
      "text/plain": [
       "| 1         | 19000    | 3966.826035  | 0.334579          |                     | 5.085502        |"
      ]
     },
     "metadata": {},
     "output_type": "display_data"
    },
    {
     "data": {
      "text/html": [
       "<pre>| 1         | 19100    | 3986.514745  | 0.336283          |                     | 5.079053        |</pre>"
      ],
      "text/plain": [
       "| 1         | 19100    | 3986.514745  | 0.336283          |                     | 5.079053        |"
      ]
     },
     "metadata": {},
     "output_type": "display_data"
    },
    {
     "data": {
      "text/html": [
       "<pre>| 1         | 19200    | 4006.239440  | 0.338385          |                     | 5.069789        |</pre>"
      ],
      "text/plain": [
       "| 1         | 19200    | 4006.239440  | 0.338385          |                     | 5.069789        |"
      ]
     },
     "metadata": {},
     "output_type": "display_data"
    },
    {
     "data": {
      "text/html": [
       "<pre>| 1         | 19300    | 4026.203860  | 0.339948          |                     | 5.008913        |</pre>"
      ],
      "text/plain": [
       "| 1         | 19300    | 4026.203860  | 0.339948          |                     | 5.008913        |"
      ]
     },
     "metadata": {},
     "output_type": "display_data"
    },
    {
     "data": {
      "text/html": [
       "<pre>| 1         | 19400    | 4045.961342  | 0.341856          |                     | 5.061372        |</pre>"
      ],
      "text/plain": [
       "| 1         | 19400    | 4045.961342  | 0.341856          |                     | 5.061372        |"
      ]
     },
     "metadata": {},
     "output_type": "display_data"
    },
    {
     "data": {
      "text/html": [
       "<pre>| 1         | 19500    | 4065.508975  | 0.343282          |                     | 5.115707        |</pre>"
      ],
      "text/plain": [
       "| 1         | 19500    | 4065.508975  | 0.343282          |                     | 5.115707        |"
      ]
     },
     "metadata": {},
     "output_type": "display_data"
    },
    {
     "data": {
      "text/html": [
       "<pre>| 1         | 19600    | 4085.697576  | 0.344796          |                     | 4.953292        |</pre>"
      ],
      "text/plain": [
       "| 1         | 19600    | 4085.697576  | 0.344796          |                     | 4.953292        |"
      ]
     },
     "metadata": {},
     "output_type": "display_data"
    },
    {
     "data": {
      "text/html": [
       "<pre>| 1         | 19700    | 4105.188412  | 0.346294          |                     | 5.130615        |</pre>"
      ],
      "text/plain": [
       "| 1         | 19700    | 4105.188412  | 0.346294          |                     | 5.130615        |"
      ]
     },
     "metadata": {},
     "output_type": "display_data"
    },
    {
     "data": {
      "text/html": [
       "<pre>| 1         | 19800    | 4125.104770  | 0.348081          |                     | 5.020999        |</pre>"
      ],
      "text/plain": [
       "| 1         | 19800    | 4125.104770  | 0.348081          |                     | 5.020999        |"
      ]
     },
     "metadata": {},
     "output_type": "display_data"
    },
    {
     "data": {
      "text/html": [
       "<pre>| 1         | 19900    | 4146.212517  | 0.349849          |                     | 4.737601        |</pre>"
      ],
      "text/plain": [
       "| 1         | 19900    | 4146.212517  | 0.349849          |                     | 4.737601        |"
      ]
     },
     "metadata": {},
     "output_type": "display_data"
    },
    {
     "data": {
      "text/html": [
       "<pre>| 1         | 20000    | 4167.924625  | 0.351750          |                     | 4.605722        |</pre>"
      ],
      "text/plain": [
       "| 1         | 20000    | 4167.924625  | 0.351750          |                     | 4.605722        |"
      ]
     },
     "metadata": {},
     "output_type": "display_data"
    },
    {
     "data": {
      "text/html": [
       "<pre>| 1         | 20100    | 4188.390526  | 0.353483          |                     | 4.886176        |</pre>"
      ],
      "text/plain": [
       "| 1         | 20100    | 4188.390526  | 0.353483          |                     | 4.886176        |"
      ]
     },
     "metadata": {},
     "output_type": "display_data"
    },
    {
     "data": {
      "text/html": [
       "<pre>| 1         | 20200    | 4207.951697  | 0.355198          |                     | 5.112167        |</pre>"
      ],
      "text/plain": [
       "| 1         | 20200    | 4207.951697  | 0.355198          |                     | 5.112167        |"
      ]
     },
     "metadata": {},
     "output_type": "display_data"
    },
    {
     "data": {
      "text/html": [
       "<pre>| 1         | 20300    | 4227.706599  | 0.357291          |                     | 5.062036        |</pre>"
      ],
      "text/plain": [
       "| 1         | 20300    | 4227.706599  | 0.357291          |                     | 5.062036        |"
      ]
     },
     "metadata": {},
     "output_type": "display_data"
    },
    {
     "data": {
      "text/html": [
       "<pre>| 1         | 20400    | 4247.363333  | 0.359118          |                     | 5.087316        |</pre>"
      ],
      "text/plain": [
       "| 1         | 20400    | 4247.363333  | 0.359118          |                     | 5.087316        |"
      ]
     },
     "metadata": {},
     "output_type": "display_data"
    },
    {
     "data": {
      "text/html": [
       "<pre>| 1         | 20500    | 4266.936437  | 0.360976          |                     | 5.109055        |</pre>"
      ],
      "text/plain": [
       "| 1         | 20500    | 4266.936437  | 0.360976          |                     | 5.109055        |"
      ]
     },
     "metadata": {},
     "output_type": "display_data"
    },
    {
     "data": {
      "text/html": [
       "<pre>| 1         | 20600    | 4286.625566  | 0.362524          |                     | 5.078942        |</pre>"
      ],
      "text/plain": [
       "| 1         | 20600    | 4286.625566  | 0.362524          |                     | 5.078942        |"
      ]
     },
     "metadata": {},
     "output_type": "display_data"
    },
    {
     "data": {
      "text/html": [
       "<pre>| 1         | 20700    | 4306.473893  | 0.363961          |                     | 5.038209        |</pre>"
      ],
      "text/plain": [
       "| 1         | 20700    | 4306.473893  | 0.363961          |                     | 5.038209        |"
      ]
     },
     "metadata": {},
     "output_type": "display_data"
    },
    {
     "data": {
      "text/html": [
       "<pre>| 1         | 20800    | 4326.562041  | 0.365673          |                     | 4.978059        |</pre>"
      ],
      "text/plain": [
       "| 1         | 20800    | 4326.562041  | 0.365673          |                     | 4.978059        |"
      ]
     },
     "metadata": {},
     "output_type": "display_data"
    },
    {
     "data": {
      "text/html": [
       "<pre>| 1         | 20900    | 4346.290813  | 0.367368          |                     | 5.068738        |</pre>"
      ],
      "text/plain": [
       "| 1         | 20900    | 4346.290813  | 0.367368          |                     | 5.068738        |"
      ]
     },
     "metadata": {},
     "output_type": "display_data"
    },
    {
     "data": {
      "text/html": [
       "<pre>| 1         | 21000    | 4365.950014  | 0.369190          |                     | 5.086676        |</pre>"
      ],
      "text/plain": [
       "| 1         | 21000    | 4365.950014  | 0.369190          |                     | 5.086676        |"
      ]
     },
     "metadata": {},
     "output_type": "display_data"
    },
    {
     "data": {
      "text/html": [
       "<pre>| 1         | 21100    | 4389.501095  | 0.370284          |                     | 4.246090        |</pre>"
      ],
      "text/plain": [
       "| 1         | 21100    | 4389.501095  | 0.370284          |                     | 4.246090        |"
      ]
     },
     "metadata": {},
     "output_type": "display_data"
    },
    {
     "data": {
      "text/html": [
       "<pre>| 1         | 21200    | 4409.528007  | 0.372264          |                     | 4.993285        |</pre>"
      ],
      "text/plain": [
       "| 1         | 21200    | 4409.528007  | 0.372264          |                     | 4.993285        |"
      ]
     },
     "metadata": {},
     "output_type": "display_data"
    },
    {
     "data": {
      "text/html": [
       "<pre>| 1         | 21300    | 4429.373645  | 0.373991          |                     | 5.038888        |</pre>"
      ],
      "text/plain": [
       "| 1         | 21300    | 4429.373645  | 0.373991          |                     | 5.038888        |"
      ]
     },
     "metadata": {},
     "output_type": "display_data"
    },
    {
     "data": {
      "text/html": [
       "<pre>| 1         | 21400    | 4449.351021  | 0.375607          |                     | 5.005661        |</pre>"
      ],
      "text/plain": [
       "| 1         | 21400    | 4449.351021  | 0.375607          |                     | 5.005661        |"
      ]
     },
     "metadata": {},
     "output_type": "display_data"
    },
    {
     "data": {
      "text/html": [
       "<pre>| 1         | 21500    | 4469.291684  | 0.377116          |                     | 5.014878        |</pre>"
      ],
      "text/plain": [
       "| 1         | 21500    | 4469.291684  | 0.377116          |                     | 5.014878        |"
      ]
     },
     "metadata": {},
     "output_type": "display_data"
    },
    {
     "data": {
      "text/html": [
       "<pre>| 1         | 21600    | 4488.980288  | 0.378750          |                     | 5.079080        |</pre>"
      ],
      "text/plain": [
       "| 1         | 21600    | 4488.980288  | 0.378750          |                     | 5.079080        |"
      ]
     },
     "metadata": {},
     "output_type": "display_data"
    },
    {
     "data": {
      "text/html": [
       "<pre>| 1         | 21700    | 4508.789537  | 0.380783          |                     | 5.048148        |</pre>"
      ],
      "text/plain": [
       "| 1         | 21700    | 4508.789537  | 0.380783          |                     | 5.048148        |"
      ]
     },
     "metadata": {},
     "output_type": "display_data"
    },
    {
     "data": {
      "text/html": [
       "<pre>| 1         | 21800    | 4528.641421  | 0.382294          |                     | 5.037309        |</pre>"
      ],
      "text/plain": [
       "| 1         | 21800    | 4528.641421  | 0.382294          |                     | 5.037309        |"
      ]
     },
     "metadata": {},
     "output_type": "display_data"
    },
    {
     "data": {
      "text/html": [
       "<pre>| 1         | 21900    | 4548.445279  | 0.384064          |                     | 5.049517        |</pre>"
      ],
      "text/plain": [
       "| 1         | 21900    | 4548.445279  | 0.384064          |                     | 5.049517        |"
      ]
     },
     "metadata": {},
     "output_type": "display_data"
    },
    {
     "data": {
      "text/html": [
       "<pre>| 1         | 22000    | 4568.487006  | 0.385182          |                     | 4.989592        |</pre>"
      ],
      "text/plain": [
       "| 1         | 22000    | 4568.487006  | 0.385182          |                     | 4.989592        |"
      ]
     },
     "metadata": {},
     "output_type": "display_data"
    },
    {
     "data": {
      "text/html": [
       "<pre>| 1         | 22100    | 4588.281452  | 0.386923          |                     | 5.051920        |</pre>"
      ],
      "text/plain": [
       "| 1         | 22100    | 4588.281452  | 0.386923          |                     | 5.051920        |"
      ]
     },
     "metadata": {},
     "output_type": "display_data"
    },
    {
     "data": {
      "text/html": [
       "<pre>| 1         | 22200    | 4608.028362  | 0.388333          |                     | 5.064084        |</pre>"
      ],
      "text/plain": [
       "| 1         | 22200    | 4608.028362  | 0.388333          |                     | 5.064084        |"
      ]
     },
     "metadata": {},
     "output_type": "display_data"
    },
    {
     "data": {
      "text/html": [
       "<pre>| 1         | 22300    | 4628.021691  | 0.389955          |                     | 5.001670        |</pre>"
      ],
      "text/plain": [
       "| 1         | 22300    | 4628.021691  | 0.389955          |                     | 5.001670        |"
      ]
     },
     "metadata": {},
     "output_type": "display_data"
    },
    {
     "data": {
      "text/html": [
       "<pre>| 1         | 22400    | 4648.188225  | 0.391562          |                     | 4.958711        |</pre>"
      ],
      "text/plain": [
       "| 1         | 22400    | 4648.188225  | 0.391562          |                     | 4.958711        |"
      ]
     },
     "metadata": {},
     "output_type": "display_data"
    },
    {
     "data": {
      "text/html": [
       "<pre>| 1         | 22500    | 4667.888856  | 0.393067          |                     | 5.075982        |</pre>"
      ],
      "text/plain": [
       "| 1         | 22500    | 4667.888856  | 0.393067          |                     | 5.075982        |"
      ]
     },
     "metadata": {},
     "output_type": "display_data"
    },
    {
     "data": {
      "text/html": [
       "<pre>| 1         | 22600    | 4688.028733  | 0.394513          |                     | 4.965271        |</pre>"
      ],
      "text/plain": [
       "| 1         | 22600    | 4688.028733  | 0.394513          |                     | 4.965271        |"
      ]
     },
     "metadata": {},
     "output_type": "display_data"
    },
    {
     "data": {
      "text/html": [
       "<pre>| 1         | 22700    | 4707.846649  | 0.395947          |                     | 5.045938        |</pre>"
      ],
      "text/plain": [
       "| 1         | 22700    | 4707.846649  | 0.395947          |                     | 5.045938        |"
      ]
     },
     "metadata": {},
     "output_type": "display_data"
    },
    {
     "data": {
      "text/html": [
       "<pre>| 1         | 22800    | 4727.883659  | 0.397237          |                     | 4.990765        |</pre>"
      ],
      "text/plain": [
       "| 1         | 22800    | 4727.883659  | 0.397237          |                     | 4.990765        |"
      ]
     },
     "metadata": {},
     "output_type": "display_data"
    },
    {
     "data": {
      "text/html": [
       "<pre>| 1         | 22900    | 4747.762900  | 0.398646          |                     | 5.030373        |</pre>"
      ],
      "text/plain": [
       "| 1         | 22900    | 4747.762900  | 0.398646          |                     | 5.030373        |"
      ]
     },
     "metadata": {},
     "output_type": "display_data"
    },
    {
     "data": {
      "text/html": [
       "<pre>| 1         | 23000    | 4767.397464  | 0.399957          |                     | 5.093060        |</pre>"
      ],
      "text/plain": [
       "| 1         | 23000    | 4767.397464  | 0.399957          |                     | 5.093060        |"
      ]
     },
     "metadata": {},
     "output_type": "display_data"
    },
    {
     "data": {
      "text/html": [
       "<pre>| 1         | 23100    | 4787.738603  | 0.401169          |                     | 4.916152        |</pre>"
      ],
      "text/plain": [
       "| 1         | 23100    | 4787.738603  | 0.401169          |                     | 4.916152        |"
      ]
     },
     "metadata": {},
     "output_type": "display_data"
    },
    {
     "data": {
      "text/html": [
       "<pre>| 1         | 23200    | 4807.354078  | 0.402543          |                     | 5.098009        |</pre>"
      ],
      "text/plain": [
       "| 1         | 23200    | 4807.354078  | 0.402543          |                     | 5.098009        |"
      ]
     },
     "metadata": {},
     "output_type": "display_data"
    },
    {
     "data": {
      "text/html": [
       "<pre>| 1         | 23300    | 4827.259547  | 0.403820          |                     | 5.023746        |</pre>"
      ],
      "text/plain": [
       "| 1         | 23300    | 4827.259547  | 0.403820          |                     | 5.023746        |"
      ]
     },
     "metadata": {},
     "output_type": "display_data"
    },
    {
     "data": {
      "text/html": [
       "<pre>| 1         | 23400    | 4846.992681  | 0.405214          |                     | 5.067616        |</pre>"
      ],
      "text/plain": [
       "| 1         | 23400    | 4846.992681  | 0.405214          |                     | 5.067616        |"
      ]
     },
     "metadata": {},
     "output_type": "display_data"
    },
    {
     "data": {
      "text/html": [
       "<pre>| 1         | 23500    | 4866.674547  | 0.406638          |                     | 5.080820        |</pre>"
      ],
      "text/plain": [
       "| 1         | 23500    | 4866.674547  | 0.406638          |                     | 5.080820        |"
      ]
     },
     "metadata": {},
     "output_type": "display_data"
    },
    {
     "data": {
      "text/html": [
       "<pre>| 1         | 23600    | 4886.579645  | 0.408136          |                     | 5.023838        |</pre>"
      ],
      "text/plain": [
       "| 1         | 23600    | 4886.579645  | 0.408136          |                     | 5.023838        |"
      ]
     },
     "metadata": {},
     "output_type": "display_data"
    },
    {
     "data": {
      "text/html": [
       "<pre>| 1         | 23700    | 4906.272552  | 0.409705          |                     | 5.077975        |</pre>"
      ],
      "text/plain": [
       "| 1         | 23700    | 4906.272552  | 0.409705          |                     | 5.077975        |"
      ]
     },
     "metadata": {},
     "output_type": "display_data"
    },
    {
     "data": {
      "text/html": [
       "<pre>| 1         | 23800    | 4926.309999  | 0.411555          |                     | 4.990655        |</pre>"
      ],
      "text/plain": [
       "| 1         | 23800    | 4926.309999  | 0.411555          |                     | 4.990655        |"
      ]
     },
     "metadata": {},
     "output_type": "display_data"
    },
    {
     "data": {
      "text/html": [
       "<pre>| 1         | 23900    | 4945.925389  | 0.412594          |                     | 5.098036        |</pre>"
      ],
      "text/plain": [
       "| 1         | 23900    | 4945.925389  | 0.412594          |                     | 5.098036        |"
      ]
     },
     "metadata": {},
     "output_type": "display_data"
    },
    {
     "data": {
      "text/html": [
       "<pre>| 1         | 24000    | 4965.562358  | 0.414042          |                     | 5.092434        |</pre>"
      ],
      "text/plain": [
       "| 1         | 24000    | 4965.562358  | 0.414042          |                     | 5.092434        |"
      ]
     },
     "metadata": {},
     "output_type": "display_data"
    },
    {
     "data": {
      "text/html": [
       "<pre>| 1         | 24100    | 4987.313420  | 0.415394          |                     | 4.597476        |</pre>"
      ],
      "text/plain": [
       "| 1         | 24100    | 4987.313420  | 0.415394          |                     | 4.597476        |"
      ]
     },
     "metadata": {},
     "output_type": "display_data"
    },
    {
     "data": {
      "text/html": [
       "<pre>| 1         | 24200    | 5007.123416  | 0.416653          |                     | 5.047957        |</pre>"
      ],
      "text/plain": [
       "| 1         | 24200    | 5007.123416  | 0.416653          |                     | 5.047957        |"
      ]
     },
     "metadata": {},
     "output_type": "display_data"
    },
    {
     "data": {
      "text/html": [
       "<pre>| 1         | 24300    | 5027.077810  | 0.417860          |                     | 5.011428        |</pre>"
      ],
      "text/plain": [
       "| 1         | 24300    | 5027.077810  | 0.417860          |                     | 5.011428        |"
      ]
     },
     "metadata": {},
     "output_type": "display_data"
    },
    {
     "data": {
      "text/html": [
       "<pre>| 1         | 24400    | 5046.760389  | 0.419098          |                     | 5.080639        |</pre>"
      ],
      "text/plain": [
       "| 1         | 24400    | 5046.760389  | 0.419098          |                     | 5.080639        |"
      ]
     },
     "metadata": {},
     "output_type": "display_data"
    },
    {
     "data": {
      "text/html": [
       "<pre>| 1         | 24500    | 5066.584816  | 0.420408          |                     | 5.044278        |</pre>"
      ],
      "text/plain": [
       "| 1         | 24500    | 5066.584816  | 0.420408          |                     | 5.044278        |"
      ]
     },
     "metadata": {},
     "output_type": "display_data"
    },
    {
     "data": {
      "text/html": [
       "<pre>| 1         | 24600    | 5086.523671  | 0.421301          |                     | 5.015335        |</pre>"
      ],
      "text/plain": [
       "| 1         | 24600    | 5086.523671  | 0.421301          |                     | 5.015335        |"
      ]
     },
     "metadata": {},
     "output_type": "display_data"
    },
    {
     "data": {
      "text/html": [
       "<pre>| 1         | 24700    | 5106.653536  | 0.422996          |                     | 4.967741        |</pre>"
      ],
      "text/plain": [
       "| 1         | 24700    | 5106.653536  | 0.422996          |                     | 4.967741        |"
      ]
     },
     "metadata": {},
     "output_type": "display_data"
    },
    {
     "data": {
      "text/html": [
       "<pre>| 1         | 24800    | 5126.496874  | 0.424315          |                     | 5.039474        |</pre>"
      ],
      "text/plain": [
       "| 1         | 24800    | 5126.496874  | 0.424315          |                     | 5.039474        |"
      ]
     },
     "metadata": {},
     "output_type": "display_data"
    },
    {
     "data": {
      "text/html": [
       "<pre>| 1         | 24900    | 5146.340619  | 0.425622          |                     | 5.039373        |</pre>"
      ],
      "text/plain": [
       "| 1         | 24900    | 5146.340619  | 0.425622          |                     | 5.039373        |"
      ]
     },
     "metadata": {},
     "output_type": "display_data"
    },
    {
     "data": {
      "text/html": [
       "<pre>| 1         | 25000    | 5166.326361  | 0.426920          |                     | 5.003571        |</pre>"
      ],
      "text/plain": [
       "| 1         | 25000    | 5166.326361  | 0.426920          |                     | 5.003571        |"
      ]
     },
     "metadata": {},
     "output_type": "display_data"
    },
    {
     "data": {
      "text/html": [
       "<pre>| 1         | 25100    | 5186.127816  | 0.428327          |                     | 5.050129        |</pre>"
      ],
      "text/plain": [
       "| 1         | 25100    | 5186.127816  | 0.428327          |                     | 5.050129        |"
      ]
     },
     "metadata": {},
     "output_type": "display_data"
    },
    {
     "data": {
      "text/html": [
       "<pre>| 1         | 25200    | 5205.817848  | 0.429365          |                     | 5.078715        |</pre>"
      ],
      "text/plain": [
       "| 1         | 25200    | 5205.817848  | 0.429365          |                     | 5.078715        |"
      ]
     },
     "metadata": {},
     "output_type": "display_data"
    },
    {
     "data": {
      "text/html": [
       "<pre>| 1         | 25300    | 5225.583290  | 0.430830          |                     | 5.059331        |</pre>"
      ],
      "text/plain": [
       "| 1         | 25300    | 5225.583290  | 0.430830          |                     | 5.059331        |"
      ]
     },
     "metadata": {},
     "output_type": "display_data"
    },
    {
     "data": {
      "text/html": [
       "<pre>| 1         | 25400    | 5245.194533  | 0.432323          |                     | 5.099115        |</pre>"
      ],
      "text/plain": [
       "| 1         | 25400    | 5245.194533  | 0.432323          |                     | 5.099115        |"
      ]
     },
     "metadata": {},
     "output_type": "display_data"
    },
    {
     "data": {
      "text/html": [
       "<pre>| 1         | 25500    | 5265.909130  | 0.433490          |                     | 4.827516        |</pre>"
      ],
      "text/plain": [
       "| 1         | 25500    | 5265.909130  | 0.433490          |                     | 4.827516        |"
      ]
     },
     "metadata": {},
     "output_type": "display_data"
    },
    {
     "data": {
      "text/html": [
       "<pre>| 1         | 25600    | 5286.174390  | 0.434531          |                     | 4.934552        |</pre>"
      ],
      "text/plain": [
       "| 1         | 25600    | 5286.174390  | 0.434531          |                     | 4.934552        |"
      ]
     },
     "metadata": {},
     "output_type": "display_data"
    },
    {
     "data": {
      "text/html": [
       "<pre>| 1         | 25700    | 5306.028702  | 0.435875          |                     | 5.036693        |</pre>"
      ],
      "text/plain": [
       "| 1         | 25700    | 5306.028702  | 0.435875          |                     | 5.036693        |"
      ]
     },
     "metadata": {},
     "output_type": "display_data"
    },
    {
     "data": {
      "text/html": [
       "<pre>| 1         | 25800    | 5325.617226  | 0.436977          |                     | 5.105026        |</pre>"
      ],
      "text/plain": [
       "| 1         | 25800    | 5325.617226  | 0.436977          |                     | 5.105026        |"
      ]
     },
     "metadata": {},
     "output_type": "display_data"
    },
    {
     "data": {
      "text/html": [
       "<pre>| 1         | 25900    | 5345.169592  | 0.438378          |                     | 5.114471        |</pre>"
      ],
      "text/plain": [
       "| 1         | 25900    | 5345.169592  | 0.438378          |                     | 5.114471        |"
      ]
     },
     "metadata": {},
     "output_type": "display_data"
    },
    {
     "data": {
      "text/html": [
       "<pre>| 1         | 26000    | 5365.107809  | 0.439731          |                     | 5.015493        |</pre>"
      ],
      "text/plain": [
       "| 1         | 26000    | 5365.107809  | 0.439731          |                     | 5.015493        |"
      ]
     },
     "metadata": {},
     "output_type": "display_data"
    },
    {
     "data": {
      "text/html": [
       "<pre>| 1         | 26100    | 5384.906988  | 0.441073          |                     | 5.050713        |</pre>"
      ],
      "text/plain": [
       "| 1         | 26100    | 5384.906988  | 0.441073          |                     | 5.050713        |"
      ]
     },
     "metadata": {},
     "output_type": "display_data"
    },
    {
     "data": {
      "text/html": [
       "<pre>| 1         | 26200    | 5404.709305  | 0.442099          |                     | 5.049915        |</pre>"
      ],
      "text/plain": [
       "| 1         | 26200    | 5404.709305  | 0.442099          |                     | 5.049915        |"
      ]
     },
     "metadata": {},
     "output_type": "display_data"
    },
    {
     "data": {
      "text/html": [
       "<pre>| 1         | 26300    | 5424.509946  | 0.443460          |                     | 5.050344        |</pre>"
      ],
      "text/plain": [
       "| 1         | 26300    | 5424.509946  | 0.443460          |                     | 5.050344        |"
      ]
     },
     "metadata": {},
     "output_type": "display_data"
    },
    {
     "data": {
      "text/html": [
       "<pre>| 1         | 26400    | 5444.330919  | 0.444735          |                     | 5.045157        |</pre>"
      ],
      "text/plain": [
       "| 1         | 26400    | 5444.330919  | 0.444735          |                     | 5.045157        |"
      ]
     },
     "metadata": {},
     "output_type": "display_data"
    },
    {
     "data": {
      "text/html": [
       "<pre>| 1         | 26500    | 5464.207774  | 0.446377          |                     | 5.030977        |</pre>"
      ],
      "text/plain": [
       "| 1         | 26500    | 5464.207774  | 0.446377          |                     | 5.030977        |"
      ]
     },
     "metadata": {},
     "output_type": "display_data"
    },
    {
     "data": {
      "text/html": [
       "<pre>| 1         | 26600    | 5484.098486  | 0.447707          |                     | 5.027472        |</pre>"
      ],
      "text/plain": [
       "| 1         | 26600    | 5484.098486  | 0.447707          |                     | 5.027472        |"
      ]
     },
     "metadata": {},
     "output_type": "display_data"
    },
    {
     "data": {
      "text/html": [
       "<pre>| 1         | 26700    | 5503.787159  | 0.448951          |                     | 5.079062        |</pre>"
      ],
      "text/plain": [
       "| 1         | 26700    | 5503.787159  | 0.448951          |                     | 5.079062        |"
      ]
     },
     "metadata": {},
     "output_type": "display_data"
    },
    {
     "data": {
      "text/html": [
       "<pre>| 1         | 26800    | 5523.466602  | 0.449813          |                     | 5.081445        |</pre>"
      ],
      "text/plain": [
       "| 1         | 26800    | 5523.466602  | 0.449813          |                     | 5.081445        |"
      ]
     },
     "metadata": {},
     "output_type": "display_data"
    },
    {
     "data": {
      "text/html": [
       "<pre>| 1         | 26900    | 5543.621112  | 0.451115          |                     | 4.961669        |</pre>"
      ],
      "text/plain": [
       "| 1         | 26900    | 5543.621112  | 0.451115          |                     | 4.961669        |"
      ]
     },
     "metadata": {},
     "output_type": "display_data"
    },
    {
     "data": {
      "text/html": [
       "<pre>| 1         | 27000    | 5563.475640  | 0.452185          |                     | 5.036638        |</pre>"
      ],
      "text/plain": [
       "| 1         | 27000    | 5563.475640  | 0.452185          |                     | 5.036638        |"
      ]
     },
     "metadata": {},
     "output_type": "display_data"
    },
    {
     "data": {
      "text/html": [
       "<pre>| 1         | 27100    | 5585.796674  | 0.453432          |                     | 4.480077        |</pre>"
      ],
      "text/plain": [
       "| 1         | 27100    | 5585.796674  | 0.453432          |                     | 4.480077        |"
      ]
     },
     "metadata": {},
     "output_type": "display_data"
    },
    {
     "data": {
      "text/html": [
       "<pre>| 1         | 27200    | 5607.427914  | 0.454706          |                     | 4.622943        |</pre>"
      ],
      "text/plain": [
       "| 1         | 27200    | 5607.427914  | 0.454706          |                     | 4.622943        |"
      ]
     },
     "metadata": {},
     "output_type": "display_data"
    },
    {
     "data": {
      "text/html": [
       "<pre>| 1         | 27300    | 5627.107828  | 0.456117          |                     | 5.081323        |</pre>"
      ],
      "text/plain": [
       "| 1         | 27300    | 5627.107828  | 0.456117          |                     | 5.081323        |"
      ]
     },
     "metadata": {},
     "output_type": "display_data"
    },
    {
     "data": {
      "text/html": [
       "<pre>| 1         | 27400    | 5646.733768  | 0.457336          |                     | 5.095297        |</pre>"
      ],
      "text/plain": [
       "| 1         | 27400    | 5646.733768  | 0.457336          |                     | 5.095297        |"
      ]
     },
     "metadata": {},
     "output_type": "display_data"
    },
    {
     "data": {
      "text/html": [
       "<pre>| 1         | 27500    | 5666.471303  | 0.458436          |                     | 5.066489        |</pre>"
      ],
      "text/plain": [
       "| 1         | 27500    | 5666.471303  | 0.458436          |                     | 5.066489        |"
      ]
     },
     "metadata": {},
     "output_type": "display_data"
    },
    {
     "data": {
      "text/html": [
       "<pre>| 1         | 27600    | 5686.133310  | 0.459674          |                     | 5.085955        |</pre>"
      ],
      "text/plain": [
       "| 1         | 27600    | 5686.133310  | 0.459674          |                     | 5.085955        |"
      ]
     },
     "metadata": {},
     "output_type": "display_data"
    },
    {
     "data": {
      "text/html": [
       "<pre>| 1         | 27700    | 5705.964226  | 0.460830          |                     | 5.042627        |</pre>"
      ],
      "text/plain": [
       "| 1         | 27700    | 5705.964226  | 0.460830          |                     | 5.042627        |"
      ]
     },
     "metadata": {},
     "output_type": "display_data"
    },
    {
     "data": {
      "text/html": [
       "<pre>| 1         | 27800    | 5725.415575  | 0.461942          |                     | 5.141033        |</pre>"
      ],
      "text/plain": [
       "| 1         | 27800    | 5725.415575  | 0.461942          |                     | 5.141033        |"
      ]
     },
     "metadata": {},
     "output_type": "display_data"
    },
    {
     "data": {
      "text/html": [
       "<pre>| 1         | 27900    | 5745.380608  | 0.463190          |                     | 5.008755        |</pre>"
      ],
      "text/plain": [
       "| 1         | 27900    | 5745.380608  | 0.463190          |                     | 5.008755        |"
      ]
     },
     "metadata": {},
     "output_type": "display_data"
    },
    {
     "data": {
      "text/html": [
       "<pre>| 1         | 28000    | 5765.133789  | 0.464464          |                     | 5.062476        |</pre>"
      ],
      "text/plain": [
       "| 1         | 28000    | 5765.133789  | 0.464464          |                     | 5.062476        |"
      ]
     },
     "metadata": {},
     "output_type": "display_data"
    },
    {
     "data": {
      "text/html": [
       "<pre>| 1         | 28100    | 5785.046740  | 0.465587          |                     | 5.021859        |</pre>"
      ],
      "text/plain": [
       "| 1         | 28100    | 5785.046740  | 0.465587          |                     | 5.021859        |"
      ]
     },
     "metadata": {},
     "output_type": "display_data"
    },
    {
     "data": {
      "text/html": [
       "<pre>| 1         | 28200    | 5806.742695  | 0.466915          |                     | 4.609155        |</pre>"
      ],
      "text/plain": [
       "| 1         | 28200    | 5806.742695  | 0.466915          |                     | 4.609155        |"
      ]
     },
     "metadata": {},
     "output_type": "display_data"
    },
    {
     "data": {
      "text/html": [
       "<pre>| 1         | 28300    | 5828.184206  | 0.468127          |                     | 4.663851        |</pre>"
      ],
      "text/plain": [
       "| 1         | 28300    | 5828.184206  | 0.468127          |                     | 4.663851        |"
      ]
     },
     "metadata": {},
     "output_type": "display_data"
    },
    {
     "data": {
      "text/html": [
       "<pre>| 1         | 28400    | 5848.366011  | 0.469542          |                     | 4.954957        |</pre>"
      ],
      "text/plain": [
       "| 1         | 28400    | 5848.366011  | 0.469542          |                     | 4.954957        |"
      ]
     },
     "metadata": {},
     "output_type": "display_data"
    },
    {
     "data": {
      "text/html": [
       "<pre>| 1         | 28500    | 5868.566981  | 0.470491          |                     | 4.950255        |</pre>"
      ],
      "text/plain": [
       "| 1         | 28500    | 5868.566981  | 0.470491          |                     | 4.950255        |"
      ]
     },
     "metadata": {},
     "output_type": "display_data"
    },
    {
     "data": {
      "text/html": [
       "<pre>| 1         | 28600    | 5889.501350  | 0.471608          |                     | 4.776835        |</pre>"
      ],
      "text/plain": [
       "| 1         | 28600    | 5889.501350  | 0.471608          |                     | 4.776835        |"
      ]
     },
     "metadata": {},
     "output_type": "display_data"
    },
    {
     "data": {
      "text/html": [
       "<pre>| 1         | 28700    | 5909.725047  | 0.472753          |                     | 4.944693        |</pre>"
      ],
      "text/plain": [
       "| 1         | 28700    | 5909.725047  | 0.472753          |                     | 4.944693        |"
      ]
     },
     "metadata": {},
     "output_type": "display_data"
    },
    {
     "data": {
      "text/html": [
       "<pre>| 1         | 28800    | 5933.605817  | 0.473889          |                     | 4.187472        |</pre>"
      ],
      "text/plain": [
       "| 1         | 28800    | 5933.605817  | 0.473889          |                     | 4.187472        |"
      ]
     },
     "metadata": {},
     "output_type": "display_data"
    },
    {
     "data": {
      "text/html": [
       "<pre>| 1         | 28900    | 5953.333988  | 0.474879          |                     | 5.068894        |</pre>"
      ],
      "text/plain": [
       "| 1         | 28900    | 5953.333988  | 0.474879          |                     | 5.068894        |"
      ]
     },
     "metadata": {},
     "output_type": "display_data"
    },
    {
     "data": {
      "text/html": [
       "<pre>| 1         | 29000    | 5973.535707  | 0.475966          |                     | 4.950072        |</pre>"
      ],
      "text/plain": [
       "| 1         | 29000    | 5973.535707  | 0.475966          |                     | 4.950072        |"
      ]
     },
     "metadata": {},
     "output_type": "display_data"
    },
    {
     "data": {
      "text/html": [
       "<pre>| 1         | 29100    | 5994.963317  | 0.476942          |                     | 4.666876        |</pre>"
      ],
      "text/plain": [
       "| 1         | 29100    | 5994.963317  | 0.476942          |                     | 4.666876        |"
      ]
     },
     "metadata": {},
     "output_type": "display_data"
    },
    {
     "data": {
      "text/html": [
       "<pre>| 1         | 29200    | 6015.318412  | 0.477911          |                     | 4.912775        |</pre>"
      ],
      "text/plain": [
       "| 1         | 29200    | 6015.318412  | 0.477911          |                     | 4.912775        |"
      ]
     },
     "metadata": {},
     "output_type": "display_data"
    },
    {
     "data": {
      "text/html": [
       "<pre>| 1         | 29300    | 6035.169207  | 0.479079          |                     | 5.037581        |</pre>"
      ],
      "text/plain": [
       "| 1         | 29300    | 6035.169207  | 0.479079          |                     | 5.037581        |"
      ]
     },
     "metadata": {},
     "output_type": "display_data"
    },
    {
     "data": {
      "text/html": [
       "<pre>| 1         | 29400    | 6054.893568  | 0.480306          |                     | 5.069872        |</pre>"
      ],
      "text/plain": [
       "| 1         | 29400    | 6054.893568  | 0.480306          |                     | 5.069872        |"
      ]
     },
     "metadata": {},
     "output_type": "display_data"
    },
    {
     "data": {
      "text/html": [
       "<pre>| 1         | 29500    | 6074.616893  | 0.481661          |                     | 5.070143        |</pre>"
      ],
      "text/plain": [
       "| 1         | 29500    | 6074.616893  | 0.481661          |                     | 5.070143        |"
      ]
     },
     "metadata": {},
     "output_type": "display_data"
    },
    {
     "data": {
      "text/html": [
       "<pre>| 1         | 29600    | 6094.501295  | 0.482770          |                     | 5.029062        |</pre>"
      ],
      "text/plain": [
       "| 1         | 29600    | 6094.501295  | 0.482770          |                     | 5.029062        |"
      ]
     },
     "metadata": {},
     "output_type": "display_data"
    },
    {
     "data": {
      "text/html": [
       "<pre>| 1         | 29700    | 6114.284741  | 0.483771          |                     | 5.054734        |</pre>"
      ],
      "text/plain": [
       "| 1         | 29700    | 6114.284741  | 0.483771          |                     | 5.054734        |"
      ]
     },
     "metadata": {},
     "output_type": "display_data"
    },
    {
     "data": {
      "text/html": [
       "<pre>| 1         | 29800    | 6136.493096  | 0.484933          |                     | 4.502809        |</pre>"
      ],
      "text/plain": [
       "| 1         | 29800    | 6136.493096  | 0.484933          |                     | 4.502809        |"
      ]
     },
     "metadata": {},
     "output_type": "display_data"
    },
    {
     "data": {
      "text/html": [
       "<pre>| 1         | 29900    | 6158.532506  | 0.486020          |                     | 4.537325        |</pre>"
      ],
      "text/plain": [
       "| 1         | 29900    | 6158.532506  | 0.486020          |                     | 4.537325        |"
      ]
     },
     "metadata": {},
     "output_type": "display_data"
    },
    {
     "data": {
      "text/html": [
       "<pre>| 1         | 30000    | 6179.823368  | 0.486933          |                     | 4.696851        |</pre>"
      ],
      "text/plain": [
       "| 1         | 30000    | 6179.823368  | 0.486933          |                     | 4.696851        |"
      ]
     },
     "metadata": {},
     "output_type": "display_data"
    },
    {
     "data": {
      "text/html": [
       "<pre>| 1         | 30100    | 6202.521447  | 0.488239          |                     | 4.405662        |</pre>"
      ],
      "text/plain": [
       "| 1         | 30100    | 6202.521447  | 0.488239          |                     | 4.405662        |"
      ]
     },
     "metadata": {},
     "output_type": "display_data"
    },
    {
     "data": {
      "text/html": [
       "<pre>| 1         | 30200    | 6223.466851  | 0.489437          |                     | 4.774315        |</pre>"
      ],
      "text/plain": [
       "| 1         | 30200    | 6223.466851  | 0.489437          |                     | 4.774315        |"
      ]
     },
     "metadata": {},
     "output_type": "display_data"
    },
    {
     "data": {
      "text/html": [
       "<pre>| 1         | 30300    | 6244.148425  | 0.490594          |                     | 4.835221        |</pre>"
      ],
      "text/plain": [
       "| 1         | 30300    | 6244.148425  | 0.490594          |                     | 4.835221        |"
      ]
     },
     "metadata": {},
     "output_type": "display_data"
    },
    {
     "data": {
      "text/html": [
       "<pre>| 1         | 30400    | 6263.773852  | 0.491645          |                     | 5.095429        |</pre>"
      ],
      "text/plain": [
       "| 1         | 30400    | 6263.773852  | 0.491645          |                     | 5.095429        |"
      ]
     },
     "metadata": {},
     "output_type": "display_data"
    },
    {
     "data": {
      "text/html": [
       "<pre>| 1         | 30500    | 6283.649787  | 0.492820          |                     | 5.031210        |</pre>"
      ],
      "text/plain": [
       "| 1         | 30500    | 6283.649787  | 0.492820          |                     | 5.031210        |"
      ]
     },
     "metadata": {},
     "output_type": "display_data"
    },
    {
     "data": {
      "text/html": [
       "<pre>| 1         | 30600    | 6303.448961  | 0.494020          |                     | 5.050716        |</pre>"
      ],
      "text/plain": [
       "| 1         | 30600    | 6303.448961  | 0.494020          |                     | 5.050716        |"
      ]
     },
     "metadata": {},
     "output_type": "display_data"
    },
    {
     "data": {
      "text/html": [
       "<pre>| 1         | 30700    | 6323.472228  | 0.494951          |                     | 4.994196        |</pre>"
      ],
      "text/plain": [
       "| 1         | 30700    | 6323.472228  | 0.494951          |                     | 4.994196        |"
      ]
     },
     "metadata": {},
     "output_type": "display_data"
    },
    {
     "data": {
      "text/html": [
       "<pre>| 1         | 30800    | 6343.222922  | 0.496169          |                     | 5.063109        |</pre>"
      ],
      "text/plain": [
       "| 1         | 30800    | 6343.222922  | 0.496169          |                     | 5.063109        |"
      ]
     },
     "metadata": {},
     "output_type": "display_data"
    },
    {
     "data": {
      "text/html": [
       "<pre>| 1         | 30900    | 6363.497173  | 0.497184          |                     | 4.932365        |</pre>"
      ],
      "text/plain": [
       "| 1         | 30900    | 6363.497173  | 0.497184          |                     | 4.932365        |"
      ]
     },
     "metadata": {},
     "output_type": "display_data"
    },
    {
     "data": {
      "text/html": [
       "<pre>| 1         | 31000    | 6383.782033  | 0.498323          |                     | 4.929781        |</pre>"
      ],
      "text/plain": [
       "| 1         | 31000    | 6383.782033  | 0.498323          |                     | 4.929781        |"
      ]
     },
     "metadata": {},
     "output_type": "display_data"
    },
    {
     "data": {
      "text/html": [
       "<pre>| 1         | 31100    | 6403.943796  | 0.499228          |                     | 4.959884        |</pre>"
      ],
      "text/plain": [
       "| 1         | 31100    | 6403.943796  | 0.499228          |                     | 4.959884        |"
      ]
     },
     "metadata": {},
     "output_type": "display_data"
    },
    {
     "data": {
      "text/html": [
       "<pre>| 1         | 31200    | 6424.056053  | 0.500192          |                     | 4.972094        |</pre>"
      ],
      "text/plain": [
       "| 1         | 31200    | 6424.056053  | 0.500192          |                     | 4.972094        |"
      ]
     },
     "metadata": {},
     "output_type": "display_data"
    },
    {
     "data": {
      "text/html": [
       "<pre>| 1         | 31300    | 6444.489710  | 0.501086          |                     | 4.893886        |</pre>"
      ],
      "text/plain": [
       "| 1         | 31300    | 6444.489710  | 0.501086          |                     | 4.893886        |"
      ]
     },
     "metadata": {},
     "output_type": "display_data"
    },
    {
     "data": {
      "text/html": [
       "<pre>| 1         | 31400    | 6466.728691  | 0.502134          |                     | 4.496614        |</pre>"
      ],
      "text/plain": [
       "| 1         | 31400    | 6466.728691  | 0.502134          |                     | 4.496614        |"
      ]
     },
     "metadata": {},
     "output_type": "display_data"
    },
    {
     "data": {
      "text/html": [
       "<pre>| 1         | 31500    | 6486.789641  | 0.503206          |                     | 4.984804        |</pre>"
      ],
      "text/plain": [
       "| 1         | 31500    | 6486.789641  | 0.503206          |                     | 4.984804        |"
      ]
     },
     "metadata": {},
     "output_type": "display_data"
    },
    {
     "data": {
      "text/html": [
       "<pre>| 1         | 31600    | 6508.649400  | 0.504209          |                     | 4.574614        |</pre>"
      ],
      "text/plain": [
       "| 1         | 31600    | 6508.649400  | 0.504209          |                     | 4.574614        |"
      ]
     },
     "metadata": {},
     "output_type": "display_data"
    },
    {
     "data": {
      "text/html": [
       "<pre>| 1         | 31700    | 6529.310345  | 0.505047          |                     | 4.840052        |</pre>"
      ],
      "text/plain": [
       "| 1         | 31700    | 6529.310345  | 0.505047          |                     | 4.840052        |"
      ]
     },
     "metadata": {},
     "output_type": "display_data"
    },
    {
     "data": {
      "text/html": [
       "<pre>| 1         | 31800    | 6549.490198  | 0.506006          |                     | 4.955437        |</pre>"
      ],
      "text/plain": [
       "| 1         | 31800    | 6549.490198  | 0.506006          |                     | 4.955437        |"
      ]
     },
     "metadata": {},
     "output_type": "display_data"
    },
    {
     "data": {
      "text/html": [
       "<pre>| 1         | 31900    | 6569.433043  | 0.506865          |                     | 5.014330        |</pre>"
      ],
      "text/plain": [
       "| 1         | 31900    | 6569.433043  | 0.506865          |                     | 5.014330        |"
      ]
     },
     "metadata": {},
     "output_type": "display_data"
    },
    {
     "data": {
      "text/html": [
       "<pre>| 1         | 32000    | 6589.041860  | 0.507656          |                     | 5.099750        |</pre>"
      ],
      "text/plain": [
       "| 1         | 32000    | 6589.041860  | 0.507656          |                     | 5.099750        |"
      ]
     },
     "metadata": {},
     "output_type": "display_data"
    },
    {
     "data": {
      "text/html": [
       "<pre>| 1         | 32100    | 6609.144613  | 0.508629          |                     | 4.974439        |</pre>"
      ],
      "text/plain": [
       "| 1         | 32100    | 6609.144613  | 0.508629          |                     | 4.974439        |"
      ]
     },
     "metadata": {},
     "output_type": "display_data"
    },
    {
     "data": {
      "text/html": [
       "<pre>| 1         | 32200    | 6628.801705  | 0.509689          |                     | 5.087223        |</pre>"
      ],
      "text/plain": [
       "| 1         | 32200    | 6628.801705  | 0.509689          |                     | 5.087223        |"
      ]
     },
     "metadata": {},
     "output_type": "display_data"
    },
    {
     "data": {
      "text/html": [
       "<pre>| 1         | 32300    | 6648.540663  | 0.510464          |                     | 5.066124        |</pre>"
      ],
      "text/plain": [
       "| 1         | 32300    | 6648.540663  | 0.510464          |                     | 5.066124        |"
      ]
     },
     "metadata": {},
     "output_type": "display_data"
    },
    {
     "data": {
      "text/html": [
       "<pre>| 1         | 32400    | 6668.332322  | 0.511420          |                     | 5.052632        |</pre>"
      ],
      "text/plain": [
       "| 1         | 32400    | 6668.332322  | 0.511420          |                     | 5.052632        |"
      ]
     },
     "metadata": {},
     "output_type": "display_data"
    },
    {
     "data": {
      "text/html": [
       "<pre>| 1         | 32500    | 6688.485581  | 0.512523          |                     | 4.961977        |</pre>"
      ],
      "text/plain": [
       "| 1         | 32500    | 6688.485581  | 0.512523          |                     | 4.961977        |"
      ]
     },
     "metadata": {},
     "output_type": "display_data"
    },
    {
     "data": {
      "text/html": [
       "<pre>| 1         | 32600    | 6708.280141  | 0.513436          |                     | 5.051895        |</pre>"
      ],
      "text/plain": [
       "| 1         | 32600    | 6708.280141  | 0.513436          |                     | 5.051895        |"
      ]
     },
     "metadata": {},
     "output_type": "display_data"
    },
    {
     "data": {
      "text/html": [
       "<pre>| 1         | 32700    | 6728.008083  | 0.514251          |                     | 5.068955        |</pre>"
      ],
      "text/plain": [
       "| 1         | 32700    | 6728.008083  | 0.514251          |                     | 5.068955        |"
      ]
     },
     "metadata": {},
     "output_type": "display_data"
    },
    {
     "data": {
      "text/html": [
       "<pre>| 1         | 32800    | 6747.600699  | 0.515122          |                     | 5.103960        |</pre>"
      ],
      "text/plain": [
       "| 1         | 32800    | 6747.600699  | 0.515122          |                     | 5.103960        |"
      ]
     },
     "metadata": {},
     "output_type": "display_data"
    },
    {
     "data": {
      "text/html": [
       "<pre>| 1         | 32900    | 6767.374596  | 0.515897          |                     | 5.057171        |</pre>"
      ],
      "text/plain": [
       "| 1         | 32900    | 6767.374596  | 0.515897          |                     | 5.057171        |"
      ]
     },
     "metadata": {},
     "output_type": "display_data"
    },
    {
     "data": {
      "text/html": [
       "<pre>| 1         | 33000    | 6790.257117  | 0.516879          |                     | 4.370149        |</pre>"
      ],
      "text/plain": [
       "| 1         | 33000    | 6790.257117  | 0.516879          |                     | 4.370149        |"
      ]
     },
     "metadata": {},
     "output_type": "display_data"
    },
    {
     "data": {
      "text/html": [
       "<pre>| 1         | 33100    | 6811.677799  | 0.517764          |                     | 4.668384        |</pre>"
      ],
      "text/plain": [
       "| 1         | 33100    | 6811.677799  | 0.517764          |                     | 4.668384        |"
      ]
     },
     "metadata": {},
     "output_type": "display_data"
    },
    {
     "data": {
      "text/html": [
       "<pre>| 1         | 33200    | 6831.496477  | 0.518584          |                     | 5.045748        |</pre>"
      ],
      "text/plain": [
       "| 1         | 33200    | 6831.496477  | 0.518584          |                     | 5.045748        |"
      ]
     },
     "metadata": {},
     "output_type": "display_data"
    },
    {
     "data": {
      "text/html": [
       "<pre>| 1         | 33300    | 6851.143347  | 0.519550          |                     | 5.089870        |</pre>"
      ],
      "text/plain": [
       "| 1         | 33300    | 6851.143347  | 0.519550          |                     | 5.089870        |"
      ]
     },
     "metadata": {},
     "output_type": "display_data"
    },
    {
     "data": {
      "text/html": [
       "<pre>| 1         | 33400    | 6870.749801  | 0.520359          |                     | 5.100359        |</pre>"
      ],
      "text/plain": [
       "| 1         | 33400    | 6870.749801  | 0.520359          |                     | 5.100359        |"
      ]
     },
     "metadata": {},
     "output_type": "display_data"
    },
    {
     "data": {
      "text/html": [
       "<pre>| 1         | 33500    | 6890.559498  | 0.521373          |                     | 5.048032        |</pre>"
      ],
      "text/plain": [
       "| 1         | 33500    | 6890.559498  | 0.521373          |                     | 5.048032        |"
      ]
     },
     "metadata": {},
     "output_type": "display_data"
    },
    {
     "data": {
      "text/html": [
       "<pre>| 1         | 33600    | 6910.250842  | 0.522024          |                     | 5.078373        |</pre>"
      ],
      "text/plain": [
       "| 1         | 33600    | 6910.250842  | 0.522024          |                     | 5.078373        |"
      ]
     },
     "metadata": {},
     "output_type": "display_data"
    },
    {
     "data": {
      "text/html": [
       "<pre>| 1         | 33700    | 6930.159951  | 0.522671          |                     | 5.022827        |</pre>"
      ],
      "text/plain": [
       "| 1         | 33700    | 6930.159951  | 0.522671          |                     | 5.022827        |"
      ]
     },
     "metadata": {},
     "output_type": "display_data"
    },
    {
     "data": {
      "text/html": [
       "<pre>| 1         | 33800    | 6950.363161  | 0.523550          |                     | 4.949710        |</pre>"
      ],
      "text/plain": [
       "| 1         | 33800    | 6950.363161  | 0.523550          |                     | 4.949710        |"
      ]
     },
     "metadata": {},
     "output_type": "display_data"
    },
    {
     "data": {
      "text/html": [
       "<pre>| 1         | 33900    | 6971.331743  | 0.524366          |                     | 4.769042        |</pre>"
      ],
      "text/plain": [
       "| 1         | 33900    | 6971.331743  | 0.524366          |                     | 4.769042        |"
      ]
     },
     "metadata": {},
     "output_type": "display_data"
    },
    {
     "data": {
      "text/html": [
       "<pre>| 1         | 34000    | 6991.067159  | 0.525324          |                     | 5.067030        |</pre>"
      ],
      "text/plain": [
       "| 1         | 34000    | 6991.067159  | 0.525324          |                     | 5.067030        |"
      ]
     },
     "metadata": {},
     "output_type": "display_data"
    },
    {
     "data": {
      "text/html": [
       "<pre>| 1         | 34100    | 7011.233753  | 0.526188          |                     | 4.958696        |</pre>"
      ],
      "text/plain": [
       "| 1         | 34100    | 7011.233753  | 0.526188          |                     | 4.958696        |"
      ]
     },
     "metadata": {},
     "output_type": "display_data"
    },
    {
     "data": {
      "text/html": [
       "<pre>| 1         | 34200    | 7030.921296  | 0.527047          |                     | 5.079352        |</pre>"
      ],
      "text/plain": [
       "| 1         | 34200    | 7030.921296  | 0.527047          |                     | 5.079352        |"
      ]
     },
     "metadata": {},
     "output_type": "display_data"
    },
    {
     "data": {
      "text/html": [
       "<pre>| 1         | 34300    | 7050.592073  | 0.528134          |                     | 5.083683        |</pre>"
      ],
      "text/plain": [
       "| 1         | 34300    | 7050.592073  | 0.528134          |                     | 5.083683        |"
      ]
     },
     "metadata": {},
     "output_type": "display_data"
    },
    {
     "data": {
      "text/html": [
       "<pre>| 1         | 34400    | 7070.479981  | 0.529302          |                     | 5.028181        |</pre>"
      ],
      "text/plain": [
       "| 1         | 34400    | 7070.479981  | 0.529302          |                     | 5.028181        |"
      ]
     },
     "metadata": {},
     "output_type": "display_data"
    },
    {
     "data": {
      "text/html": [
       "<pre>| 1         | 34500    | 7091.964070  | 0.529942          |                     | 4.654610        |</pre>"
      ],
      "text/plain": [
       "| 1         | 34500    | 7091.964070  | 0.529942          |                     | 4.654610        |"
      ]
     },
     "metadata": {},
     "output_type": "display_data"
    },
    {
     "data": {
      "text/html": [
       "<pre>| 1         | 34600    | 7111.569196  | 0.531069          |                     | 5.100710        |</pre>"
      ],
      "text/plain": [
       "| 1         | 34600    | 7111.569196  | 0.531069          |                     | 5.100710        |"
      ]
     },
     "metadata": {},
     "output_type": "display_data"
    },
    {
     "data": {
      "text/html": [
       "<pre>| 1         | 34700    | 7131.152362  | 0.531931          |                     | 5.106422        |</pre>"
      ],
      "text/plain": [
       "| 1         | 34700    | 7131.152362  | 0.531931          |                     | 5.106422        |"
      ]
     },
     "metadata": {},
     "output_type": "display_data"
    },
    {
     "data": {
      "text/html": [
       "<pre>| 1         | 34800    | 7150.855178  | 0.532586          |                     | 5.075417        |</pre>"
      ],
      "text/plain": [
       "| 1         | 34800    | 7150.855178  | 0.532586          |                     | 5.075417        |"
      ]
     },
     "metadata": {},
     "output_type": "display_data"
    },
    {
     "data": {
      "text/html": [
       "<pre>| 1         | 34900    | 7170.863008  | 0.533524          |                     | 4.998042        |</pre>"
      ],
      "text/plain": [
       "| 1         | 34900    | 7170.863008  | 0.533524          |                     | 4.998042        |"
      ]
     },
     "metadata": {},
     "output_type": "display_data"
    },
    {
     "data": {
      "text/html": [
       "<pre>| 1         | 35000    | 7190.944547  | 0.534486          |                     | 4.979699        |</pre>"
      ],
      "text/plain": [
       "| 1         | 35000    | 7190.944547  | 0.534486          |                     | 4.979699        |"
      ]
     },
     "metadata": {},
     "output_type": "display_data"
    },
    {
     "data": {
      "text/html": [
       "<pre>| 1         | 35100    | 7210.629842  | 0.535299          |                     | 5.079935        |</pre>"
      ],
      "text/plain": [
       "| 1         | 35100    | 7210.629842  | 0.535299          |                     | 5.079935        |"
      ]
     },
     "metadata": {},
     "output_type": "display_data"
    },
    {
     "data": {
      "text/html": [
       "<pre>| 1         | 35200    | 7230.129842  | 0.535994          |                     | 5.128211        |</pre>"
      ],
      "text/plain": [
       "| 1         | 35200    | 7230.129842  | 0.535994          |                     | 5.128211        |"
      ]
     },
     "metadata": {},
     "output_type": "display_data"
    },
    {
     "data": {
      "text/html": [
       "<pre>| 1         | 35300    | 7249.778961  | 0.536742          |                     | 5.089279        |</pre>"
      ],
      "text/plain": [
       "| 1         | 35300    | 7249.778961  | 0.536742          |                     | 5.089279        |"
      ]
     },
     "metadata": {},
     "output_type": "display_data"
    },
    {
     "data": {
      "text/html": [
       "<pre>| 1         | 35400    | 7269.562747  | 0.537599          |                     | 5.054646        |</pre>"
      ],
      "text/plain": [
       "| 1         | 35400    | 7269.562747  | 0.537599          |                     | 5.054646        |"
      ]
     },
     "metadata": {},
     "output_type": "display_data"
    },
    {
     "data": {
      "text/html": [
       "<pre>| 1         | 35500    | 7289.522247  | 0.538423          |                     | 5.010145        |</pre>"
      ],
      "text/plain": [
       "| 1         | 35500    | 7289.522247  | 0.538423          |                     | 5.010145        |"
      ]
     },
     "metadata": {},
     "output_type": "display_data"
    },
    {
     "data": {
      "text/html": [
       "<pre>| 1         | 35600    | 7309.061744  | 0.539382          |                     | 5.117837        |</pre>"
      ],
      "text/plain": [
       "| 1         | 35600    | 7309.061744  | 0.539382          |                     | 5.117837        |"
      ]
     },
     "metadata": {},
     "output_type": "display_data"
    },
    {
     "data": {
      "text/html": [
       "<pre>| 1         | 35700    | 7328.729434  | 0.540252          |                     | 5.084482        |</pre>"
      ],
      "text/plain": [
       "| 1         | 35700    | 7328.729434  | 0.540252          |                     | 5.084482        |"
      ]
     },
     "metadata": {},
     "output_type": "display_data"
    },
    {
     "data": {
      "text/html": [
       "<pre>| 1         | 35800    | 7348.885352  | 0.541089          |                     | 4.961326        |</pre>"
      ],
      "text/plain": [
       "| 1         | 35800    | 7348.885352  | 0.541089          |                     | 4.961326        |"
      ]
     },
     "metadata": {},
     "output_type": "display_data"
    },
    {
     "data": {
      "text/html": [
       "<pre>| 1         | 35900    | 7368.773914  | 0.541755          |                     | 5.028014        |</pre>"
      ],
      "text/plain": [
       "| 1         | 35900    | 7368.773914  | 0.541755          |                     | 5.028014        |"
      ]
     },
     "metadata": {},
     "output_type": "display_data"
    },
    {
     "data": {
      "text/html": [
       "<pre>| 1         | 36000    | 7390.316721  | 0.542500          |                     | 4.641920        |</pre>"
      ],
      "text/plain": [
       "| 1         | 36000    | 7390.316721  | 0.542500          |                     | 4.641920        |"
      ]
     },
     "metadata": {},
     "output_type": "display_data"
    },
    {
     "data": {
      "text/html": [
       "<pre>| 1         | 36100    | 7410.428498  | 0.543407          |                     | 4.972208        |</pre>"
      ],
      "text/plain": [
       "| 1         | 36100    | 7410.428498  | 0.543407          |                     | 4.972208        |"
      ]
     },
     "metadata": {},
     "output_type": "display_data"
    },
    {
     "data": {
      "text/html": [
       "<pre>| 1         | 36200    | 7430.071731  | 0.543950          |                     | 5.090814        |</pre>"
      ],
      "text/plain": [
       "| 1         | 36200    | 7430.071731  | 0.543950          |                     | 5.090814        |"
      ]
     },
     "metadata": {},
     "output_type": "display_data"
    },
    {
     "data": {
      "text/html": [
       "<pre>| 1         | 36300    | 7449.849812  | 0.544793          |                     | 5.056100        |</pre>"
      ],
      "text/plain": [
       "| 1         | 36300    | 7449.849812  | 0.544793          |                     | 5.056100        |"
      ]
     },
     "metadata": {},
     "output_type": "display_data"
    },
    {
     "data": {
      "text/html": [
       "<pre>| 1         | 36400    | 7469.368609  | 0.545769          |                     | 5.123268        |</pre>"
      ],
      "text/plain": [
       "| 1         | 36400    | 7469.368609  | 0.545769          |                     | 5.123268        |"
      ]
     },
     "metadata": {},
     "output_type": "display_data"
    },
    {
     "data": {
      "text/html": [
       "<pre>| 1         | 36500    | 7489.276464  | 0.546685          |                     | 5.023147        |</pre>"
      ],
      "text/plain": [
       "| 1         | 36500    | 7489.276464  | 0.546685          |                     | 5.023147        |"
      ]
     },
     "metadata": {},
     "output_type": "display_data"
    },
    {
     "data": {
      "text/html": [
       "<pre>| 1         | 36600    | 7509.012956  | 0.547568          |                     | 5.066752        |</pre>"
      ],
      "text/plain": [
       "| 1         | 36600    | 7509.012956  | 0.547568          |                     | 5.066752        |"
      ]
     },
     "metadata": {},
     "output_type": "display_data"
    },
    {
     "data": {
      "text/html": [
       "<pre>| 1         | 36700    | 7528.725380  | 0.548529          |                     | 5.072943        |</pre>"
      ],
      "text/plain": [
       "| 1         | 36700    | 7528.725380  | 0.548529          |                     | 5.072943        |"
      ]
     },
     "metadata": {},
     "output_type": "display_data"
    },
    {
     "data": {
      "text/html": [
       "<pre>| 1         | 36800    | 7548.341107  | 0.549375          |                     | 5.097949        |</pre>"
      ],
      "text/plain": [
       "| 1         | 36800    | 7548.341107  | 0.549375          |                     | 5.097949        |"
      ]
     },
     "metadata": {},
     "output_type": "display_data"
    },
    {
     "data": {
      "text/html": [
       "<pre>| 1         | 36900    | 7568.119528  | 0.550244          |                     | 5.056015        |</pre>"
      ],
      "text/plain": [
       "| 1         | 36900    | 7568.119528  | 0.550244          |                     | 5.056015        |"
      ]
     },
     "metadata": {},
     "output_type": "display_data"
    },
    {
     "data": {
      "text/html": [
       "<pre>| 1         | 37000    | 7588.067490  | 0.551027          |                     | 5.013044        |</pre>"
      ],
      "text/plain": [
       "| 1         | 37000    | 7588.067490  | 0.551027          |                     | 5.013044        |"
      ]
     },
     "metadata": {},
     "output_type": "display_data"
    },
    {
     "data": {
      "text/html": [
       "<pre>| 1         | 37100    | 7607.769788  | 0.551752          |                     | 5.075553        |</pre>"
      ],
      "text/plain": [
       "| 1         | 37100    | 7607.769788  | 0.551752          |                     | 5.075553        |"
      ]
     },
     "metadata": {},
     "output_type": "display_data"
    },
    {
     "data": {
      "text/html": [
       "<pre>| 1         | 37200    | 7627.485258  | 0.552446          |                     | 5.072156        |</pre>"
      ],
      "text/plain": [
       "| 1         | 37200    | 7627.485258  | 0.552446          |                     | 5.072156        |"
      ]
     },
     "metadata": {},
     "output_type": "display_data"
    },
    {
     "data": {
      "text/html": [
       "<pre>| 1         | 37300    | 7648.503863  | 0.553378          |                     | 4.757692        |</pre>"
      ],
      "text/plain": [
       "| 1         | 37300    | 7648.503863  | 0.553378          |                     | 4.757692        |"
      ]
     },
     "metadata": {},
     "output_type": "display_data"
    },
    {
     "data": {
      "text/html": [
       "<pre>| 1         | 37400    | 7671.352564  | 0.553957          |                     | 4.376614        |</pre>"
      ],
      "text/plain": [
       "| 1         | 37400    | 7671.352564  | 0.553957          |                     | 4.376614        |"
      ]
     },
     "metadata": {},
     "output_type": "display_data"
    },
    {
     "data": {
      "text/html": [
       "<pre>| 1         | 37400    | 7800.314106  | 0.553957          | 0.918226            | 4.376614        |</pre>"
      ],
      "text/plain": [
       "| 1         | 37400    | 7800.314106  | 0.553957          | 0.918226            | 4.376614        |"
      ]
     },
     "metadata": {},
     "output_type": "display_data"
    },
    {
     "data": {
      "text/html": [
       "<pre>Checkpointing model into rep IDSIA by 3 conv graphlab net - train in 3 iter</pre>"
      ],
      "text/plain": [
       "Checkpointing model into rep IDSIA by 3 conv graphlab net - train in 3 iter"
      ]
     },
     "metadata": {},
     "output_type": "display_data"
    },
    {
     "data": {
      "text/html": [
       "<pre>| 2         | 100      | 7822.349047  | 0.830000          |                     | 4.538311        |</pre>"
      ],
      "text/plain": [
       "| 2         | 100      | 7822.349047  | 0.830000          |                     | 4.538311        |"
      ]
     },
     "metadata": {},
     "output_type": "display_data"
    },
    {
     "data": {
      "text/html": [
       "<pre>| 2         | 200      | 7846.909725  | 0.870000          |                     | 4.071548        |</pre>"
      ],
      "text/plain": [
       "| 2         | 200      | 7846.909725  | 0.870000          |                     | 4.071548        |"
      ]
     },
     "metadata": {},
     "output_type": "display_data"
    },
    {
     "data": {
      "text/html": [
       "<pre>| 2         | 300      | 7868.792043  | 0.866667          |                     | 4.569902        |</pre>"
      ],
      "text/plain": [
       "| 2         | 300      | 7868.792043  | 0.866667          |                     | 4.569902        |"
      ]
     },
     "metadata": {},
     "output_type": "display_data"
    },
    {
     "data": {
      "text/html": [
       "<pre>| 2         | 400      | 7889.295638  | 0.880000          |                     | 4.877191        |</pre>"
      ],
      "text/plain": [
       "| 2         | 400      | 7889.295638  | 0.880000          |                     | 4.877191        |"
      ]
     },
     "metadata": {},
     "output_type": "display_data"
    },
    {
     "data": {
      "text/html": [
       "<pre>| 2         | 500      | 7909.862438  | 0.878000          |                     | 4.862206        |</pre>"
      ],
      "text/plain": [
       "| 2         | 500      | 7909.862438  | 0.878000          |                     | 4.862206        |"
      ]
     },
     "metadata": {},
     "output_type": "display_data"
    },
    {
     "data": {
      "text/html": [
       "<pre>| 2         | 600      | 7930.430275  | 0.876667          |                     | 4.861958        |</pre>"
      ],
      "text/plain": [
       "| 2         | 600      | 7930.430275  | 0.876667          |                     | 4.861958        |"
      ]
     },
     "metadata": {},
     "output_type": "display_data"
    },
    {
     "data": {
      "text/html": [
       "<pre>| 2         | 700      | 7952.052737  | 0.867143          |                     | 4.624821        |</pre>"
      ],
      "text/plain": [
       "| 2         | 700      | 7952.052737  | 0.867143          |                     | 4.624821        |"
      ]
     },
     "metadata": {},
     "output_type": "display_data"
    },
    {
     "data": {
      "text/html": [
       "<pre>| 2         | 800      | 7989.280793  | 0.872500          |                     | 2.686147        |</pre>"
      ],
      "text/plain": [
       "| 2         | 800      | 7989.280793  | 0.872500          |                     | 2.686147        |"
      ]
     },
     "metadata": {},
     "output_type": "display_data"
    },
    {
     "data": {
      "text/html": [
       "<pre>| 2         | 900      | 8023.211004  | 0.870000          |                     | 2.947230        |</pre>"
      ],
      "text/plain": [
       "| 2         | 900      | 8023.211004  | 0.870000          |                     | 2.947230        |"
      ]
     },
     "metadata": {},
     "output_type": "display_data"
    },
    {
     "data": {
      "text/html": [
       "<pre>| 2         | 1000     | 8055.142454  | 0.865000          |                     | 3.131704        |</pre>"
      ],
      "text/plain": [
       "| 2         | 1000     | 8055.142454  | 0.865000          |                     | 3.131704        |"
      ]
     },
     "metadata": {},
     "output_type": "display_data"
    },
    {
     "data": {
      "text/html": [
       "<pre>| 2         | 1100     | 8090.570754  | 0.864545          |                     | 2.822602        |</pre>"
      ],
      "text/plain": [
       "| 2         | 1100     | 8090.570754  | 0.864545          |                     | 2.822602        |"
      ]
     },
     "metadata": {},
     "output_type": "display_data"
    },
    {
     "data": {
      "text/html": [
       "<pre>| 2         | 1200     | 8137.875410  | 0.866667          |                     | 2.113958        |</pre>"
      ],
      "text/plain": [
       "| 2         | 1200     | 8137.875410  | 0.866667          |                     | 2.113958        |"
      ]
     },
     "metadata": {},
     "output_type": "display_data"
    },
    {
     "data": {
      "text/html": [
       "<pre>| 2         | 1300     | 8172.134327  | 0.868462          |                     | 2.918948        |</pre>"
      ],
      "text/plain": [
       "| 2         | 1300     | 8172.134327  | 0.868462          |                     | 2.918948        |"
      ]
     },
     "metadata": {},
     "output_type": "display_data"
    },
    {
     "data": {
      "text/html": [
       "<pre>| 2         | 1400     | 8201.948796  | 0.867143          |                     | 3.354074        |</pre>"
      ],
      "text/plain": [
       "| 2         | 1400     | 8201.948796  | 0.867143          |                     | 3.354074        |"
      ]
     },
     "metadata": {},
     "output_type": "display_data"
    },
    {
     "data": {
      "text/html": [
       "<pre>| 2         | 1500     | 8240.507786  | 0.868000          |                     | 2.593429        |</pre>"
      ],
      "text/plain": [
       "| 2         | 1500     | 8240.507786  | 0.868000          |                     | 2.593429        |"
      ]
     },
     "metadata": {},
     "output_type": "display_data"
    },
    {
     "data": {
      "text/html": [
       "<pre>| 2         | 1600     | 8270.756881  | 0.864375          |                     | 3.305884        |</pre>"
      ],
      "text/plain": [
       "| 2         | 1600     | 8270.756881  | 0.864375          |                     | 3.305884        |"
      ]
     },
     "metadata": {},
     "output_type": "display_data"
    },
    {
     "data": {
      "text/html": [
       "<pre>| 2         | 1700     | 8298.945139  | 0.862353          |                     | 3.547579        |</pre>"
      ],
      "text/plain": [
       "| 2         | 1700     | 8298.945139  | 0.862353          |                     | 3.547579        |"
      ]
     },
     "metadata": {},
     "output_type": "display_data"
    },
    {
     "data": {
      "text/html": [
       "<pre>| 2         | 1800     | 8326.434109  | 0.863889          |                     | 3.637820        |</pre>"
      ],
      "text/plain": [
       "| 2         | 1800     | 8326.434109  | 0.863889          |                     | 3.637820        |"
      ]
     },
     "metadata": {},
     "output_type": "display_data"
    },
    {
     "data": {
      "text/html": [
       "<pre>| 2         | 1900     | 8363.258670  | 0.866316          |                     | 2.715579        |</pre>"
      ],
      "text/plain": [
       "| 2         | 1900     | 8363.258670  | 0.866316          |                     | 2.715579        |"
      ]
     },
     "metadata": {},
     "output_type": "display_data"
    },
    {
     "data": {
      "text/html": [
       "<pre>| 2         | 2000     | 8390.225922  | 0.867000          |                     | 3.708201        |</pre>"
      ],
      "text/plain": [
       "| 2         | 2000     | 8390.225922  | 0.867000          |                     | 3.708201        |"
      ]
     },
     "metadata": {},
     "output_type": "display_data"
    },
    {
     "data": {
      "text/html": [
       "<pre>| 2         | 2100     | 8425.548148  | 0.868095          |                     | 2.831082        |</pre>"
      ],
      "text/plain": [
       "| 2         | 2100     | 8425.548148  | 0.868095          |                     | 2.831082        |"
      ]
     },
     "metadata": {},
     "output_type": "display_data"
    },
    {
     "data": {
      "text/html": [
       "<pre>| 2         | 2200     | 8455.372832  | 0.866818          |                     | 3.352923        |</pre>"
      ],
      "text/plain": [
       "| 2         | 2200     | 8455.372832  | 0.866818          |                     | 3.352923        |"
      ]
     },
     "metadata": {},
     "output_type": "display_data"
    },
    {
     "data": {
      "text/html": [
       "<pre>| 2         | 2300     | 8483.260816  | 0.867826          |                     | 3.585774        |</pre>"
      ],
      "text/plain": [
       "| 2         | 2300     | 8483.260816  | 0.867826          |                     | 3.585774        |"
      ]
     },
     "metadata": {},
     "output_type": "display_data"
    },
    {
     "data": {
      "text/html": [
       "<pre>| 2         | 2400     | 8520.332810  | 0.867083          |                     | 2.697454        |</pre>"
      ],
      "text/plain": [
       "| 2         | 2400     | 8520.332810  | 0.867083          |                     | 2.697454        |"
      ]
     },
     "metadata": {},
     "output_type": "display_data"
    },
    {
     "data": {
      "text/html": [
       "<pre>| 2         | 2500     | 8549.432411  | 0.868000          |                     | 3.436476        |</pre>"
      ],
      "text/plain": [
       "| 2         | 2500     | 8549.432411  | 0.868000          |                     | 3.436476        |"
      ]
     },
     "metadata": {},
     "output_type": "display_data"
    },
    {
     "data": {
      "text/html": [
       "<pre>| 2         | 2600     | 8579.452428  | 0.867692          |                     | 3.331109        |</pre>"
      ],
      "text/plain": [
       "| 2         | 2600     | 8579.452428  | 0.867692          |                     | 3.331109        |"
      ]
     },
     "metadata": {},
     "output_type": "display_data"
    },
    {
     "data": {
      "text/html": [
       "<pre>| 2         | 2700     | 8610.080425  | 0.870370          |                     | 3.264986        |</pre>"
      ],
      "text/plain": [
       "| 2         | 2700     | 8610.080425  | 0.870370          |                     | 3.264986        |"
      ]
     },
     "metadata": {},
     "output_type": "display_data"
    },
    {
     "data": {
      "text/html": [
       "<pre>| 2         | 2800     | 8637.415465  | 0.871071          |                     | 3.658308        |</pre>"
      ],
      "text/plain": [
       "| 2         | 2800     | 8637.415465  | 0.871071          |                     | 3.658308        |"
      ]
     },
     "metadata": {},
     "output_type": "display_data"
    },
    {
     "data": {
      "text/html": [
       "<pre>| 2         | 2900     | 8664.942519  | 0.868276          |                     | 3.632792        |</pre>"
      ],
      "text/plain": [
       "| 2         | 2900     | 8664.942519  | 0.868276          |                     | 3.632792        |"
      ]
     },
     "metadata": {},
     "output_type": "display_data"
    },
    {
     "data": {
      "text/html": [
       "<pre>| 2         | 3000     | 8693.264924  | 0.868667          |                     | 3.530773        |</pre>"
      ],
      "text/plain": [
       "| 2         | 3000     | 8693.264924  | 0.868667          |                     | 3.530773        |"
      ]
     },
     "metadata": {},
     "output_type": "display_data"
    },
    {
     "data": {
      "text/html": [
       "<pre>| 2         | 3100     | 8721.311399  | 0.867419          |                     | 3.565510        |</pre>"
      ],
      "text/plain": [
       "| 2         | 3100     | 8721.311399  | 0.867419          |                     | 3.565510        |"
      ]
     },
     "metadata": {},
     "output_type": "display_data"
    },
    {
     "data": {
      "text/html": [
       "<pre>| 2         | 3200     | 8749.500263  | 0.868750          |                     | 3.547499        |</pre>"
      ],
      "text/plain": [
       "| 2         | 3200     | 8749.500263  | 0.868750          |                     | 3.547499        |"
      ]
     },
     "metadata": {},
     "output_type": "display_data"
    },
    {
     "data": {
      "text/html": [
       "<pre>| 2         | 3300     | 8777.869493  | 0.868182          |                     | 3.524946        |</pre>"
      ],
      "text/plain": [
       "| 2         | 3300     | 8777.869493  | 0.868182          |                     | 3.524946        |"
      ]
     },
     "metadata": {},
     "output_type": "display_data"
    },
    {
     "data": {
      "text/html": [
       "<pre>| 2         | 3400     | 8808.684398  | 0.867647          |                     | 3.245186        |</pre>"
      ],
      "text/plain": [
       "| 2         | 3400     | 8808.684398  | 0.867647          |                     | 3.245186        |"
      ]
     },
     "metadata": {},
     "output_type": "display_data"
    },
    {
     "data": {
      "text/html": [
       "<pre>| 2         | 3500     | 8836.427679  | 0.865714          |                     | 3.604473        |</pre>"
      ],
      "text/plain": [
       "| 2         | 3500     | 8836.427679  | 0.865714          |                     | 3.604473        |"
      ]
     },
     "metadata": {},
     "output_type": "display_data"
    },
    {
     "data": {
      "text/html": [
       "<pre>| 2         | 3600     | 8863.860076  | 0.865556          |                     | 3.645324        |</pre>"
      ],
      "text/plain": [
       "| 2         | 3600     | 8863.860076  | 0.865556          |                     | 3.645324        |"
      ]
     },
     "metadata": {},
     "output_type": "display_data"
    },
    {
     "data": {
      "text/html": [
       "<pre>| 2         | 3700     | 8891.362152  | 0.865405          |                     | 3.636090        |</pre>"
      ],
      "text/plain": [
       "| 2         | 3700     | 8891.362152  | 0.865405          |                     | 3.636090        |"
      ]
     },
     "metadata": {},
     "output_type": "display_data"
    },
    {
     "data": {
      "text/html": [
       "<pre>| 2         | 3800     | 8919.599509  | 0.865526          |                     | 3.541409        |</pre>"
      ],
      "text/plain": [
       "| 2         | 3800     | 8919.599509  | 0.865526          |                     | 3.541409        |"
      ]
     },
     "metadata": {},
     "output_type": "display_data"
    },
    {
     "data": {
      "text/html": [
       "<pre>| 2         | 3900     | 8948.161088  | 0.866667          |                     | 3.501208        |</pre>"
      ],
      "text/plain": [
       "| 2         | 3900     | 8948.161088  | 0.866667          |                     | 3.501208        |"
      ]
     },
     "metadata": {},
     "output_type": "display_data"
    },
    {
     "data": {
      "text/html": [
       "<pre>| 2         | 4000     | 8976.729784  | 0.867500          |                     | 3.500334        |</pre>"
      ],
      "text/plain": [
       "| 2         | 4000     | 8976.729784  | 0.867500          |                     | 3.500334        |"
      ]
     },
     "metadata": {},
     "output_type": "display_data"
    },
    {
     "data": {
      "text/html": [
       "<pre>| 2         | 4100     | 9007.512062  | 0.867073          |                     | 3.248620        |</pre>"
      ],
      "text/plain": [
       "| 2         | 4100     | 9007.512062  | 0.867073          |                     | 3.248620        |"
      ]
     },
     "metadata": {},
     "output_type": "display_data"
    },
    {
     "data": {
      "text/html": [
       "<pre>| 2         | 4200     | 9035.034547  | 0.868095          |                     | 3.633394        |</pre>"
      ],
      "text/plain": [
       "| 2         | 4200     | 9035.034547  | 0.868095          |                     | 3.633394        |"
      ]
     },
     "metadata": {},
     "output_type": "display_data"
    },
    {
     "data": {
      "text/html": [
       "<pre>| 2         | 4300     | 9063.363937  | 0.867674          |                     | 3.529907        |</pre>"
      ],
      "text/plain": [
       "| 2         | 4300     | 9063.363937  | 0.867674          |                     | 3.529907        |"
      ]
     },
     "metadata": {},
     "output_type": "display_data"
    },
    {
     "data": {
      "text/html": [
       "<pre>| 2         | 4400     | 9090.488699  | 0.867500          |                     | 3.686664        |</pre>"
      ],
      "text/plain": [
       "| 2         | 4400     | 9090.488699  | 0.867500          |                     | 3.686664        |"
      ]
     },
     "metadata": {},
     "output_type": "display_data"
    },
    {
     "data": {
      "text/html": [
       "<pre>| 2         | 4500     | 9119.370074  | 0.869111          |                     | 3.462439        |</pre>"
      ],
      "text/plain": [
       "| 2         | 4500     | 9119.370074  | 0.869111          |                     | 3.462439        |"
      ]
     },
     "metadata": {},
     "output_type": "display_data"
    },
    {
     "data": {
      "text/html": [
       "<pre>| 2         | 4600     | 9146.919272  | 0.869565          |                     | 3.629869        |</pre>"
      ],
      "text/plain": [
       "| 2         | 4600     | 9146.919272  | 0.869565          |                     | 3.629869        |"
      ]
     },
     "metadata": {},
     "output_type": "display_data"
    },
    {
     "data": {
      "text/html": [
       "<pre>| 2         | 4700     | 9176.421546  | 0.868936          |                     | 3.389572        |</pre>"
      ],
      "text/plain": [
       "| 2         | 4700     | 9176.421546  | 0.868936          |                     | 3.389572        |"
      ]
     },
     "metadata": {},
     "output_type": "display_data"
    },
    {
     "data": {
      "text/html": [
       "<pre>| 2         | 4800     | 9204.127700  | 0.868125          |                     | 3.609305        |</pre>"
      ],
      "text/plain": [
       "| 2         | 4800     | 9204.127700  | 0.868125          |                     | 3.609305        |"
      ]
     },
     "metadata": {},
     "output_type": "display_data"
    },
    {
     "data": {
      "text/html": [
       "<pre>| 2         | 4900     | 9226.665618  | 0.867347          |                     | 4.436964        |</pre>"
      ],
      "text/plain": [
       "| 2         | 4900     | 9226.665618  | 0.867347          |                     | 4.436964        |"
      ]
     },
     "metadata": {},
     "output_type": "display_data"
    },
    {
     "data": {
      "text/html": [
       "<pre>| 2         | 5000     | 9247.224073  | 0.867800          |                     | 4.864179        |</pre>"
      ],
      "text/plain": [
       "| 2         | 5000     | 9247.224073  | 0.867800          |                     | 4.864179        |"
      ]
     },
     "metadata": {},
     "output_type": "display_data"
    },
    {
     "data": {
      "text/html": [
       "<pre>| 2         | 5100     | 9270.191126  | 0.867647          |                     | 4.354062        |</pre>"
      ],
      "text/plain": [
       "| 2         | 5100     | 9270.191126  | 0.867647          |                     | 4.354062        |"
      ]
     },
     "metadata": {},
     "output_type": "display_data"
    },
    {
     "data": {
      "text/html": [
       "<pre>| 2         | 5200     | 9290.449267  | 0.868462          |                     | 4.936288        |</pre>"
      ],
      "text/plain": [
       "| 2         | 5200     | 9290.449267  | 0.868462          |                     | 4.936288        |"
      ]
     },
     "metadata": {},
     "output_type": "display_data"
    },
    {
     "data": {
      "text/html": [
       "<pre>| 2         | 5300     | 9310.704769  | 0.867736          |                     | 4.936936        |</pre>"
      ],
      "text/plain": [
       "| 2         | 5300     | 9310.704769  | 0.867736          |                     | 4.936936        |"
      ]
     },
     "metadata": {},
     "output_type": "display_data"
    },
    {
     "data": {
      "text/html": [
       "<pre>| 2         | 5400     | 9330.597419  | 0.867037          |                     | 5.026978        |</pre>"
      ],
      "text/plain": [
       "| 2         | 5400     | 9330.597419  | 0.867037          |                     | 5.026978        |"
      ]
     },
     "metadata": {},
     "output_type": "display_data"
    },
    {
     "data": {
      "text/html": [
       "<pre>| 2         | 5500     | 9353.402612  | 0.866909          |                     | 4.384965        |</pre>"
      ],
      "text/plain": [
       "| 2         | 5500     | 9353.402612  | 0.866909          |                     | 4.384965        |"
      ]
     },
     "metadata": {},
     "output_type": "display_data"
    },
    {
     "data": {
      "text/html": [
       "<pre>| 2         | 5600     | 9374.443050  | 0.866250          |                     | 4.752753        |</pre>"
      ],
      "text/plain": [
       "| 2         | 5600     | 9374.443050  | 0.866250          |                     | 4.752753        |"
      ]
     },
     "metadata": {},
     "output_type": "display_data"
    },
    {
     "data": {
      "text/html": [
       "<pre>| 2         | 5700     | 9394.196889  | 0.866140          |                     | 5.062307        |</pre>"
      ],
      "text/plain": [
       "| 2         | 5700     | 9394.196889  | 0.866140          |                     | 5.062307        |"
      ]
     },
     "metadata": {},
     "output_type": "display_data"
    },
    {
     "data": {
      "text/html": [
       "<pre>| 2         | 5800     | 9414.060161  | 0.866724          |                     | 5.034417        |</pre>"
      ],
      "text/plain": [
       "| 2         | 5800     | 9414.060161  | 0.866724          |                     | 5.034417        |"
      ]
     },
     "metadata": {},
     "output_type": "display_data"
    },
    {
     "data": {
      "text/html": [
       "<pre>| 2         | 5900     | 9433.968447  | 0.865932          |                     | 5.023038        |</pre>"
      ],
      "text/plain": [
       "| 2         | 5900     | 9433.968447  | 0.865932          |                     | 5.023038        |"
      ]
     },
     "metadata": {},
     "output_type": "display_data"
    },
    {
     "data": {
      "text/html": [
       "<pre>| 2         | 6000     | 9453.866096  | 0.865833          |                     | 5.025717        |</pre>"
      ],
      "text/plain": [
       "| 2         | 6000     | 9453.866096  | 0.865833          |                     | 5.025717        |"
      ]
     },
     "metadata": {},
     "output_type": "display_data"
    },
    {
     "data": {
      "text/html": [
       "<pre>| 2         | 6100     | 9475.729635  | 0.864590          |                     | 4.573822        |</pre>"
      ],
      "text/plain": [
       "| 2         | 6100     | 9475.729635  | 0.864590          |                     | 4.573822        |"
      ]
     },
     "metadata": {},
     "output_type": "display_data"
    },
    {
     "data": {
      "text/html": [
       "<pre>| 2         | 6200     | 9495.938308  | 0.865000          |                     | 4.948370        |</pre>"
      ],
      "text/plain": [
       "| 2         | 6200     | 9495.938308  | 0.865000          |                     | 4.948370        |"
      ]
     },
     "metadata": {},
     "output_type": "display_data"
    },
    {
     "data": {
      "text/html": [
       "<pre>| 2         | 6300     | 9515.667625  | 0.865238          |                     | 5.068599        |</pre>"
      ],
      "text/plain": [
       "| 2         | 6300     | 9515.667625  | 0.865238          |                     | 5.068599        |"
      ]
     },
     "metadata": {},
     "output_type": "display_data"
    },
    {
     "data": {
      "text/html": [
       "<pre>| 2         | 6400     | 9535.358726  | 0.866406          |                     | 5.078437        |</pre>"
      ],
      "text/plain": [
       "| 2         | 6400     | 9535.358726  | 0.866406          |                     | 5.078437        |"
      ]
     },
     "metadata": {},
     "output_type": "display_data"
    },
    {
     "data": {
      "text/html": [
       "<pre>| 2         | 6500     | 9555.483796  | 0.866308          |                     | 4.968927        |</pre>"
      ],
      "text/plain": [
       "| 2         | 6500     | 9555.483796  | 0.866308          |                     | 4.968927        |"
      ]
     },
     "metadata": {},
     "output_type": "display_data"
    },
    {
     "data": {
      "text/html": [
       "<pre>| 2         | 6600     | 9575.401217  | 0.866970          |                     | 5.020736        |</pre>"
      ],
      "text/plain": [
       "| 2         | 6600     | 9575.401217  | 0.866970          |                     | 5.020736        |"
      ]
     },
     "metadata": {},
     "output_type": "display_data"
    },
    {
     "data": {
      "text/html": [
       "<pre>| 2         | 6700     | 9595.222703  | 0.867761          |                     | 5.045025        |</pre>"
      ],
      "text/plain": [
       "| 2         | 6700     | 9595.222703  | 0.867761          |                     | 5.045025        |"
      ]
     },
     "metadata": {},
     "output_type": "display_data"
    },
    {
     "data": {
      "text/html": [
       "<pre>| 2         | 6800     | 9614.956496  | 0.868971          |                     | 5.067447        |</pre>"
      ],
      "text/plain": [
       "| 2         | 6800     | 9614.956496  | 0.868971          |                     | 5.067447        |"
      ]
     },
     "metadata": {},
     "output_type": "display_data"
    },
    {
     "data": {
      "text/html": [
       "<pre>| 2         | 6900     | 9634.871569  | 0.869420          |                     | 5.021322        |</pre>"
      ],
      "text/plain": [
       "| 2         | 6900     | 9634.871569  | 0.869420          |                     | 5.021322        |"
      ]
     },
     "metadata": {},
     "output_type": "display_data"
    },
    {
     "data": {
      "text/html": [
       "<pre>| 2         | 7000     | 9655.958402  | 0.870000          |                     | 4.742296        |</pre>"
      ],
      "text/plain": [
       "| 2         | 7000     | 9655.958402  | 0.870000          |                     | 4.742296        |"
      ]
     },
     "metadata": {},
     "output_type": "display_data"
    },
    {
     "data": {
      "text/html": [
       "<pre>| 2         | 7100     | 9675.542810  | 0.869859          |                     | 5.106103        |</pre>"
      ],
      "text/plain": [
       "| 2         | 7100     | 9675.542810  | 0.869859          |                     | 5.106103        |"
      ]
     },
     "metadata": {},
     "output_type": "display_data"
    },
    {
     "data": {
      "text/html": [
       "<pre>| 2         | 7200     | 9695.235685  | 0.870000          |                     | 5.077984        |</pre>"
      ],
      "text/plain": [
       "| 2         | 7200     | 9695.235685  | 0.870000          |                     | 5.077984        |"
      ]
     },
     "metadata": {},
     "output_type": "display_data"
    },
    {
     "data": {
      "text/html": [
       "<pre>| 2         | 7300     | 9715.226720  | 0.871096          |                     | 5.002237        |</pre>"
      ],
      "text/plain": [
       "| 2         | 7300     | 9715.226720  | 0.871096          |                     | 5.002237        |"
      ]
     },
     "metadata": {},
     "output_type": "display_data"
    },
    {
     "data": {
      "text/html": [
       "<pre>| 2         | 7400     | 9734.988057  | 0.871216          |                     | 5.060385        |</pre>"
      ],
      "text/plain": [
       "| 2         | 7400     | 9734.988057  | 0.871216          |                     | 5.060385        |"
      ]
     },
     "metadata": {},
     "output_type": "display_data"
    },
    {
     "data": {
      "text/html": [
       "<pre>| 2         | 7500     | 9754.545995  | 0.871067          |                     | 5.113013        |</pre>"
      ],
      "text/plain": [
       "| 2         | 7500     | 9754.545995  | 0.871067          |                     | 5.113013        |"
      ]
     },
     "metadata": {},
     "output_type": "display_data"
    },
    {
     "data": {
      "text/html": [
       "<pre>| 2         | 7600     | 9774.409454  | 0.870395          |                     | 5.034370        |</pre>"
      ],
      "text/plain": [
       "| 2         | 7600     | 9774.409454  | 0.870395          |                     | 5.034370        |"
      ]
     },
     "metadata": {},
     "output_type": "display_data"
    },
    {
     "data": {
      "text/html": [
       "<pre>| 2         | 7700     | 9794.169338  | 0.870909          |                     | 5.060760        |</pre>"
      ],
      "text/plain": [
       "| 2         | 7700     | 9794.169338  | 0.870909          |                     | 5.060760        |"
      ]
     },
     "metadata": {},
     "output_type": "display_data"
    },
    {
     "data": {
      "text/html": [
       "<pre>| 2         | 7800     | 9815.917255  | 0.870513          |                     | 4.598140        |</pre>"
      ],
      "text/plain": [
       "| 2         | 7800     | 9815.917255  | 0.870513          |                     | 4.598140        |"
      ]
     },
     "metadata": {},
     "output_type": "display_data"
    },
    {
     "data": {
      "text/html": [
       "<pre>| 2         | 7900     | 9835.443199  | 0.871519          |                     | 5.121396        |</pre>"
      ],
      "text/plain": [
       "| 2         | 7900     | 9835.443199  | 0.871519          |                     | 5.121396        |"
      ]
     },
     "metadata": {},
     "output_type": "display_data"
    },
    {
     "data": {
      "text/html": [
       "<pre>| 2         | 8000     | 9855.165600  | 0.872375          |                     | 5.070373        |</pre>"
      ],
      "text/plain": [
       "| 2         | 8000     | 9855.165600  | 0.872375          |                     | 5.070373        |"
      ]
     },
     "metadata": {},
     "output_type": "display_data"
    },
    {
     "data": {
      "text/html": [
       "<pre>| 2         | 8100     | 9874.976575  | 0.873086          |                     | 5.047707        |</pre>"
      ],
      "text/plain": [
       "| 2         | 8100     | 9874.976575  | 0.873086          |                     | 5.047707        |"
      ]
     },
     "metadata": {},
     "output_type": "display_data"
    },
    {
     "data": {
      "text/html": [
       "<pre>| 2         | 8200     | 9894.684945  | 0.873780          |                     | 5.073987        |</pre>"
      ],
      "text/plain": [
       "| 2         | 8200     | 9894.684945  | 0.873780          |                     | 5.073987        |"
      ]
     },
     "metadata": {},
     "output_type": "display_data"
    },
    {
     "data": {
      "text/html": [
       "<pre>| 2         | 8300     | 9914.583199  | 0.874217          |                     | 5.025566        |</pre>"
      ],
      "text/plain": [
       "| 2         | 8300     | 9914.583199  | 0.874217          |                     | 5.025566        |"
      ]
     },
     "metadata": {},
     "output_type": "display_data"
    },
    {
     "data": {
      "text/html": [
       "<pre>| 2         | 8400     | 9934.490732  | 0.873929          |                     | 5.023224        |</pre>"
      ],
      "text/plain": [
       "| 2         | 8400     | 9934.490732  | 0.873929          |                     | 5.023224        |"
      ]
     },
     "metadata": {},
     "output_type": "display_data"
    },
    {
     "data": {
      "text/html": [
       "<pre>| 2         | 8500     | 9954.402564  | 0.873529          |                     | 5.022145        |</pre>"
      ],
      "text/plain": [
       "| 2         | 8500     | 9954.402564  | 0.873529          |                     | 5.022145        |"
      ]
     },
     "metadata": {},
     "output_type": "display_data"
    },
    {
     "data": {
      "text/html": [
       "<pre>| 2         | 8600     | 9974.061968  | 0.873256          |                     | 5.086621        |</pre>"
      ],
      "text/plain": [
       "| 2         | 8600     | 9974.061968  | 0.873256          |                     | 5.086621        |"
      ]
     },
     "metadata": {},
     "output_type": "display_data"
    },
    {
     "data": {
      "text/html": [
       "<pre>| 2         | 8700     | 9993.898946  | 0.873563          |                     | 5.041090        |</pre>"
      ],
      "text/plain": [
       "| 2         | 8700     | 9993.898946  | 0.873563          |                     | 5.041090        |"
      ]
     },
     "metadata": {},
     "output_type": "display_data"
    },
    {
     "data": {
      "text/html": [
       "<pre>| 2         | 8800     | 10013.576719 | 0.873523          |                     | 5.081874        |</pre>"
      ],
      "text/plain": [
       "| 2         | 8800     | 10013.576719 | 0.873523          |                     | 5.081874        |"
      ]
     },
     "metadata": {},
     "output_type": "display_data"
    },
    {
     "data": {
      "text/html": [
       "<pre>| 2         | 8900     | 10033.423124 | 0.874045          |                     | 5.038696        |</pre>"
      ],
      "text/plain": [
       "| 2         | 8900     | 10033.423124 | 0.874045          |                     | 5.038696        |"
      ]
     },
     "metadata": {},
     "output_type": "display_data"
    },
    {
     "data": {
      "text/html": [
       "<pre>| 2         | 9000     | 10053.121480 | 0.874111          |                     | 5.076567        |</pre>"
      ],
      "text/plain": [
       "| 2         | 9000     | 10053.121480 | 0.874111          |                     | 5.076567        |"
      ]
     },
     "metadata": {},
     "output_type": "display_data"
    },
    {
     "data": {
      "text/html": [
       "<pre>| 2         | 9100     | 10073.048725 | 0.874396          |                     | 5.018255        |</pre>"
      ],
      "text/plain": [
       "| 2         | 9100     | 10073.048725 | 0.874396          |                     | 5.018255        |"
      ]
     },
     "metadata": {},
     "output_type": "display_data"
    },
    {
     "data": {
      "text/html": [
       "<pre>| 2         | 9200     | 10092.769598 | 0.875000          |                     | 5.070774        |</pre>"
      ],
      "text/plain": [
       "| 2         | 9200     | 10092.769598 | 0.875000          |                     | 5.070774        |"
      ]
     },
     "metadata": {},
     "output_type": "display_data"
    },
    {
     "data": {
      "text/html": [
       "<pre>| 2         | 9300     | 10112.944080 | 0.874516          |                     | 4.956753        |</pre>"
      ],
      "text/plain": [
       "| 2         | 9300     | 10112.944080 | 0.874516          |                     | 4.956753        |"
      ]
     },
     "metadata": {},
     "output_type": "display_data"
    },
    {
     "data": {
      "text/html": [
       "<pre>| 2         | 9400     | 10132.695594 | 0.874787          |                     | 5.062901        |</pre>"
      ],
      "text/plain": [
       "| 2         | 9400     | 10132.695594 | 0.874787          |                     | 5.062901        |"
      ]
     },
     "metadata": {},
     "output_type": "display_data"
    },
    {
     "data": {
      "text/html": [
       "<pre>| 2         | 9500     | 10152.294095 | 0.874842          |                     | 5.102431        |</pre>"
      ],
      "text/plain": [
       "| 2         | 9500     | 10152.294095 | 0.874842          |                     | 5.102431        |"
      ]
     },
     "metadata": {},
     "output_type": "display_data"
    },
    {
     "data": {
      "text/html": [
       "<pre>| 2         | 9600     | 10171.693586 | 0.874896          |                     | 5.154775        |</pre>"
      ],
      "text/plain": [
       "| 2         | 9600     | 10171.693586 | 0.874896          |                     | 5.154775        |"
      ]
     },
     "metadata": {},
     "output_type": "display_data"
    },
    {
     "data": {
      "text/html": [
       "<pre>| 2         | 9700     | 10191.378779 | 0.874639          |                     | 5.079960        |</pre>"
      ],
      "text/plain": [
       "| 2         | 9700     | 10191.378779 | 0.874639          |                     | 5.079960        |"
      ]
     },
     "metadata": {},
     "output_type": "display_data"
    },
    {
     "data": {
      "text/html": [
       "<pre>| 2         | 9800     | 10211.138633 | 0.874388          |                     | 5.060771        |</pre>"
      ],
      "text/plain": [
       "| 2         | 9800     | 10211.138633 | 0.874388          |                     | 5.060771        |"
      ]
     },
     "metadata": {},
     "output_type": "display_data"
    },
    {
     "data": {
      "text/html": [
       "<pre>| 2         | 9900     | 10230.898715 | 0.874545          |                     | 5.060707        |</pre>"
      ],
      "text/plain": [
       "| 2         | 9900     | 10230.898715 | 0.874545          |                     | 5.060707        |"
      ]
     },
     "metadata": {},
     "output_type": "display_data"
    },
    {
     "data": {
      "text/html": [
       "<pre>| 2         | 10000    | 10250.634045 | 0.874500          |                     | 5.067051        |</pre>"
      ],
      "text/plain": [
       "| 2         | 10000    | 10250.634045 | 0.874500          |                     | 5.067051        |"
      ]
     },
     "metadata": {},
     "output_type": "display_data"
    },
    {
     "data": {
      "text/html": [
       "<pre>| 2         | 10100    | 10270.360371 | 0.874554          |                     | 5.069368        |</pre>"
      ],
      "text/plain": [
       "| 2         | 10100    | 10270.360371 | 0.874554          |                     | 5.069368        |"
      ]
     },
     "metadata": {},
     "output_type": "display_data"
    },
    {
     "data": {
      "text/html": [
       "<pre>| 2         | 10200    | 10290.204374 | 0.874216          |                     | 5.039307        |</pre>"
      ],
      "text/plain": [
       "| 2         | 10200    | 10290.204374 | 0.874216          |                     | 5.039307        |"
      ]
     },
     "metadata": {},
     "output_type": "display_data"
    },
    {
     "data": {
      "text/html": [
       "<pre>| 2         | 10300    | 10311.853460 | 0.874272          |                     | 4.619131        |</pre>"
      ],
      "text/plain": [
       "| 2         | 10300    | 10311.853460 | 0.874272          |                     | 4.619131        |"
      ]
     },
     "metadata": {},
     "output_type": "display_data"
    },
    {
     "data": {
      "text/html": [
       "<pre>| 2         | 10400    | 10332.751582 | 0.874231          |                     | 4.785124        |</pre>"
      ],
      "text/plain": [
       "| 2         | 10400    | 10332.751582 | 0.874231          |                     | 4.785124        |"
      ]
     },
     "metadata": {},
     "output_type": "display_data"
    },
    {
     "data": {
      "text/html": [
       "<pre>| 2         | 10500    | 10352.678091 | 0.874571          |                     | 5.018441        |</pre>"
      ],
      "text/plain": [
       "| 2         | 10500    | 10352.678091 | 0.874571          |                     | 5.018441        |"
      ]
     },
     "metadata": {},
     "output_type": "display_data"
    },
    {
     "data": {
      "text/html": [
       "<pre>| 2         | 10600    | 10372.447149 | 0.875283          |                     | 5.058406        |</pre>"
      ],
      "text/plain": [
       "| 2         | 10600    | 10372.447149 | 0.875283          |                     | 5.058406        |"
      ]
     },
     "metadata": {},
     "output_type": "display_data"
    },
    {
     "data": {
      "text/html": [
       "<pre>| 2         | 10700    | 10392.360004 | 0.874953          |                     | 5.021880        |</pre>"
      ],
      "text/plain": [
       "| 2         | 10700    | 10392.360004 | 0.874953          |                     | 5.021880        |"
      ]
     },
     "metadata": {},
     "output_type": "display_data"
    },
    {
     "data": {
      "text/html": [
       "<pre>| 2         | 10800    | 10416.268395 | 0.875093          |                     | 4.182631        |</pre>"
      ],
      "text/plain": [
       "| 2         | 10800    | 10416.268395 | 0.875093          |                     | 4.182631        |"
      ]
     },
     "metadata": {},
     "output_type": "display_data"
    },
    {
     "data": {
      "text/html": [
       "<pre>| 2         | 10900    | 10438.824582 | 0.875505          |                     | 4.433375        |</pre>"
      ],
      "text/plain": [
       "| 2         | 10900    | 10438.824582 | 0.875505          |                     | 4.433375        |"
      ]
     },
     "metadata": {},
     "output_type": "display_data"
    },
    {
     "data": {
      "text/html": [
       "<pre>| 2         | 11000    | 10458.459270 | 0.875909          |                     | 5.093027        |</pre>"
      ],
      "text/plain": [
       "| 2         | 11000    | 10458.459270 | 0.875909          |                     | 5.093027        |"
      ]
     },
     "metadata": {},
     "output_type": "display_data"
    },
    {
     "data": {
      "text/html": [
       "<pre>| 2         | 11100    | 10478.017185 | 0.875856          |                     | 5.113026        |</pre>"
      ],
      "text/plain": [
       "| 2         | 11100    | 10478.017185 | 0.875856          |                     | 5.113026        |"
      ]
     },
     "metadata": {},
     "output_type": "display_data"
    },
    {
     "data": {
      "text/html": [
       "<pre>| 2         | 11200    | 10498.277314 | 0.876339          |                     | 4.935797        |</pre>"
      ],
      "text/plain": [
       "| 2         | 11200    | 10498.277314 | 0.876339          |                     | 4.935797        |"
      ]
     },
     "metadata": {},
     "output_type": "display_data"
    },
    {
     "data": {
      "text/html": [
       "<pre>| 2         | 11300    | 10518.372943 | 0.876814          |                     | 4.976206        |</pre>"
      ],
      "text/plain": [
       "| 2         | 11300    | 10518.372943 | 0.876814          |                     | 4.976206        |"
      ]
     },
     "metadata": {},
     "output_type": "display_data"
    },
    {
     "data": {
      "text/html": [
       "<pre>| 2         | 11400    | 10538.493752 | 0.876754          |                     | 4.969979        |</pre>"
      ],
      "text/plain": [
       "| 2         | 11400    | 10538.493752 | 0.876754          |                     | 4.969979        |"
      ]
     },
     "metadata": {},
     "output_type": "display_data"
    },
    {
     "data": {
      "text/html": [
       "<pre>| 2         | 11500    | 10558.382438 | 0.877217          |                     | 5.027984        |</pre>"
      ],
      "text/plain": [
       "| 2         | 11500    | 10558.382438 | 0.877217          |                     | 5.027984        |"
      ]
     },
     "metadata": {},
     "output_type": "display_data"
    },
    {
     "data": {
      "text/html": [
       "<pre>| 2         | 11600    | 10578.667798 | 0.877155          |                     | 4.929665        |</pre>"
      ],
      "text/plain": [
       "| 2         | 11600    | 10578.667798 | 0.877155          |                     | 4.929665        |"
      ]
     },
     "metadata": {},
     "output_type": "display_data"
    },
    {
     "data": {
      "text/html": [
       "<pre>| 2         | 11700    | 10601.058795 | 0.877350          |                     | 4.466084        |</pre>"
      ],
      "text/plain": [
       "| 2         | 11700    | 10601.058795 | 0.877350          |                     | 4.466084        |"
      ]
     },
     "metadata": {},
     "output_type": "display_data"
    },
    {
     "data": {
      "text/html": [
       "<pre>| 2         | 11800    | 10621.445794 | 0.877288          |                     | 4.905083        |</pre>"
      ],
      "text/plain": [
       "| 2         | 11800    | 10621.445794 | 0.877288          |                     | 4.905083        |"
      ]
     },
     "metadata": {},
     "output_type": "display_data"
    },
    {
     "data": {
      "text/html": [
       "<pre>| 2         | 11900    | 10645.553925 | 0.877647          |                     | 4.147978        |</pre>"
      ],
      "text/plain": [
       "| 2         | 11900    | 10645.553925 | 0.877647          |                     | 4.147978        |"
      ]
     },
     "metadata": {},
     "output_type": "display_data"
    },
    {
     "data": {
      "text/html": [
       "<pre>| 2         | 12000    | 10669.746929 | 0.878083          |                     | 4.133425        |</pre>"
      ],
      "text/plain": [
       "| 2         | 12000    | 10669.746929 | 0.878083          |                     | 4.133425        |"
      ]
     },
     "metadata": {},
     "output_type": "display_data"
    },
    {
     "data": {
      "text/html": [
       "<pre>| 2         | 12100    | 10692.740853 | 0.877851          |                     | 4.348975        |</pre>"
      ],
      "text/plain": [
       "| 2         | 12100    | 10692.740853 | 0.877851          |                     | 4.348975        |"
      ]
     },
     "metadata": {},
     "output_type": "display_data"
    },
    {
     "data": {
      "text/html": [
       "<pre>| 2         | 12200    | 10720.952464 | 0.878279          |                     | 3.544644        |</pre>"
      ],
      "text/plain": [
       "| 2         | 12200    | 10720.952464 | 0.878279          |                     | 3.544644        |"
      ]
     },
     "metadata": {},
     "output_type": "display_data"
    },
    {
     "data": {
      "text/html": [
       "<pre>| 2         | 12300    | 10744.025566 | 0.878293          |                     | 4.334047        |</pre>"
      ],
      "text/plain": [
       "| 2         | 12300    | 10744.025566 | 0.878293          |                     | 4.334047        |"
      ]
     },
     "metadata": {},
     "output_type": "display_data"
    },
    {
     "data": {
      "text/html": [
       "<pre>| 2         | 12400    | 10766.613001 | 0.878548          |                     | 4.427239        |</pre>"
      ],
      "text/plain": [
       "| 2         | 12400    | 10766.613001 | 0.878548          |                     | 4.427239        |"
      ]
     },
     "metadata": {},
     "output_type": "display_data"
    },
    {
     "data": {
      "text/html": [
       "<pre>| 2         | 12500    | 10788.549323 | 0.878800          |                     | 4.558650        |</pre>"
      ],
      "text/plain": [
       "| 2         | 12500    | 10788.549323 | 0.878800          |                     | 4.558650        |"
      ]
     },
     "metadata": {},
     "output_type": "display_data"
    },
    {
     "data": {
      "text/html": [
       "<pre>| 2         | 12600    | 10811.953175 | 0.878968          |                     | 4.272800        |</pre>"
      ],
      "text/plain": [
       "| 2         | 12600    | 10811.953175 | 0.878968          |                     | 4.272800        |"
      ]
     },
     "metadata": {},
     "output_type": "display_data"
    },
    {
     "data": {
      "text/html": [
       "<pre>| 2         | 12700    | 10835.968818 | 0.879291          |                     | 4.163954        |</pre>"
      ],
      "text/plain": [
       "| 2         | 12700    | 10835.968818 | 0.879291          |                     | 4.163954        |"
      ]
     },
     "metadata": {},
     "output_type": "display_data"
    },
    {
     "data": {
      "text/html": [
       "<pre>| 2         | 12800    | 10860.176648 | 0.878906          |                     | 4.130897        |</pre>"
      ],
      "text/plain": [
       "| 2         | 12800    | 10860.176648 | 0.878906          |                     | 4.130897        |"
      ]
     },
     "metadata": {},
     "output_type": "display_data"
    },
    {
     "data": {
      "text/html": [
       "<pre>| 2         | 12900    | 10882.480552 | 0.878760          |                     | 4.483518        |</pre>"
      ],
      "text/plain": [
       "| 2         | 12900    | 10882.480552 | 0.878760          |                     | 4.483518        |"
      ]
     },
     "metadata": {},
     "output_type": "display_data"
    },
    {
     "data": {
      "text/html": [
       "<pre>| 2         | 13000    | 10906.508979 | 0.879000          |                     | 4.161737        |</pre>"
      ],
      "text/plain": [
       "| 2         | 13000    | 10906.508979 | 0.879000          |                     | 4.161737        |"
      ]
     },
     "metadata": {},
     "output_type": "display_data"
    },
    {
     "data": {
      "text/html": [
       "<pre>| 2         | 13100    | 10930.466224 | 0.878626          |                     | 4.174101        |</pre>"
      ],
      "text/plain": [
       "| 2         | 13100    | 10930.466224 | 0.878626          |                     | 4.174101        |"
      ]
     },
     "metadata": {},
     "output_type": "display_data"
    },
    {
     "data": {
      "text/html": [
       "<pre>| 2         | 13200    | 10953.541155 | 0.878712          |                     | 4.333707        |</pre>"
      ],
      "text/plain": [
       "| 2         | 13200    | 10953.541155 | 0.878712          |                     | 4.333707        |"
      ]
     },
     "metadata": {},
     "output_type": "display_data"
    },
    {
     "data": {
      "text/html": [
       "<pre>| 2         | 13300    | 10978.900864 | 0.879023          |                     | 3.943269        |</pre>"
      ],
      "text/plain": [
       "| 2         | 13300    | 10978.900864 | 0.879023          |                     | 3.943269        |"
      ]
     },
     "metadata": {},
     "output_type": "display_data"
    },
    {
     "data": {
      "text/html": [
       "<pre>| 2         | 13400    | 11004.311918 | 0.879104          |                     | 3.935291        |</pre>"
      ],
      "text/plain": [
       "| 2         | 13400    | 11004.311918 | 0.879104          |                     | 3.935291        |"
      ]
     },
     "metadata": {},
     "output_type": "display_data"
    },
    {
     "data": {
      "text/html": [
       "<pre>| 2         | 13500    | 11026.778922 | 0.879481          |                     | 4.450971        |</pre>"
      ],
      "text/plain": [
       "| 2         | 13500    | 11026.778922 | 0.879481          |                     | 4.450971        |"
      ]
     },
     "metadata": {},
     "output_type": "display_data"
    },
    {
     "data": {
      "text/html": [
       "<pre>| 2         | 13600    | 11048.576829 | 0.879338          |                     | 4.587597        |</pre>"
      ],
      "text/plain": [
       "| 2         | 13600    | 11048.576829 | 0.879338          |                     | 4.587597        |"
      ]
     },
     "metadata": {},
     "output_type": "display_data"
    },
    {
     "data": {
      "text/html": [
       "<pre>| 2         | 13700    | 11073.417255 | 0.879489          |                     | 4.025695        |</pre>"
      ],
      "text/plain": [
       "| 2         | 13700    | 11073.417255 | 0.879489          |                     | 4.025695        |"
      ]
     },
     "metadata": {},
     "output_type": "display_data"
    },
    {
     "data": {
      "text/html": [
       "<pre>| 2         | 13800    | 11094.986711 | 0.879783          |                     | 4.636186        |</pre>"
      ],
      "text/plain": [
       "| 2         | 13800    | 11094.986711 | 0.879783          |                     | 4.636186        |"
      ]
     },
     "metadata": {},
     "output_type": "display_data"
    },
    {
     "data": {
      "text/html": [
       "<pre>| 2         | 13900    | 11115.683589 | 0.879856          |                     | 4.831650        |</pre>"
      ],
      "text/plain": [
       "| 2         | 13900    | 11115.683589 | 0.879856          |                     | 4.831650        |"
      ]
     },
     "metadata": {},
     "output_type": "display_data"
    },
    {
     "data": {
      "text/html": [
       "<pre>| 2         | 14000    | 11137.005690 | 0.880143          |                     | 4.689967        |</pre>"
      ],
      "text/plain": [
       "| 2         | 14000    | 11137.005690 | 0.880143          |                     | 4.689967        |"
      ]
     },
     "metadata": {},
     "output_type": "display_data"
    },
    {
     "data": {
      "text/html": [
       "<pre>| 2         | 14100    | 11156.874225 | 0.880213          |                     | 5.033083        |</pre>"
      ],
      "text/plain": [
       "| 2         | 14100    | 11156.874225 | 0.880213          |                     | 5.033083        |"
      ]
     },
     "metadata": {},
     "output_type": "display_data"
    },
    {
     "data": {
      "text/html": [
       "<pre>| 2         | 14200    | 11176.974841 | 0.880000          |                     | 4.974970        |</pre>"
      ],
      "text/plain": [
       "| 2         | 14200    | 11176.974841 | 0.880000          |                     | 4.974970        |"
      ]
     },
     "metadata": {},
     "output_type": "display_data"
    },
    {
     "data": {
      "text/html": [
       "<pre>| 2         | 14300    | 11196.725482 | 0.879930          |                     | 5.063127        |</pre>"
      ],
      "text/plain": [
       "| 2         | 14300    | 11196.725482 | 0.879930          |                     | 5.063127        |"
      ]
     },
     "metadata": {},
     "output_type": "display_data"
    },
    {
     "data": {
      "text/html": [
       "<pre>| 2         | 14400    | 11217.595639 | 0.879931          |                     | 4.791531        |</pre>"
      ],
      "text/plain": [
       "| 2         | 14400    | 11217.595639 | 0.879931          |                     | 4.791531        |"
      ]
     },
     "metadata": {},
     "output_type": "display_data"
    },
    {
     "data": {
      "text/html": [
       "<pre>| 2         | 14500    | 11238.321275 | 0.880000          |                     | 4.824951        |</pre>"
      ],
      "text/plain": [
       "| 2         | 14500    | 11238.321275 | 0.880000          |                     | 4.824951        |"
      ]
     },
     "metadata": {},
     "output_type": "display_data"
    },
    {
     "data": {
      "text/html": [
       "<pre>| 2         | 14600    | 11258.296987 | 0.880342          |                     | 5.006074        |</pre>"
      ],
      "text/plain": [
       "| 2         | 14600    | 11258.296987 | 0.880342          |                     | 5.006074        |"
      ]
     },
     "metadata": {},
     "output_type": "display_data"
    },
    {
     "data": {
      "text/html": [
       "<pre>| 2         | 14700    | 11278.308176 | 0.880816          |                     | 4.997201        |</pre>"
      ],
      "text/plain": [
       "| 2         | 14700    | 11278.308176 | 0.880816          |                     | 4.997201        |"
      ]
     },
     "metadata": {},
     "output_type": "display_data"
    },
    {
     "data": {
      "text/html": [
       "<pre>| 2         | 14800    | 11298.258953 | 0.881014          |                     | 5.012335        |</pre>"
      ],
      "text/plain": [
       "| 2         | 14800    | 11298.258953 | 0.881014          |                     | 5.012335        |"
      ]
     },
     "metadata": {},
     "output_type": "display_data"
    },
    {
     "data": {
      "text/html": [
       "<pre>| 2         | 14900    | 11318.790534 | 0.880940          |                     | 4.870545        |</pre>"
      ],
      "text/plain": [
       "| 2         | 14900    | 11318.790534 | 0.880940          |                     | 4.870545        |"
      ]
     },
     "metadata": {},
     "output_type": "display_data"
    },
    {
     "data": {
      "text/html": [
       "<pre>| 2         | 15000    | 11339.297040 | 0.881067          |                     | 4.876501        |</pre>"
      ],
      "text/plain": [
       "| 2         | 15000    | 11339.297040 | 0.881067          |                     | 4.876501        |"
      ]
     },
     "metadata": {},
     "output_type": "display_data"
    },
    {
     "data": {
      "text/html": [
       "<pre>| 2         | 15100    | 11361.358003 | 0.881126          |                     | 4.532898        |</pre>"
      ],
      "text/plain": [
       "| 2         | 15100    | 11361.358003 | 0.881126          |                     | 4.532898        |"
      ]
     },
     "metadata": {},
     "output_type": "display_data"
    },
    {
     "data": {
      "text/html": [
       "<pre>| 2         | 15200    | 11386.735385 | 0.881118          |                     | 3.940515        |</pre>"
      ],
      "text/plain": [
       "| 2         | 15200    | 11386.735385 | 0.881118          |                     | 3.940515        |"
      ]
     },
     "metadata": {},
     "output_type": "display_data"
    },
    {
     "data": {
      "text/html": [
       "<pre>| 2         | 15300    | 11406.586882 | 0.881111          |                     | 5.037401        |</pre>"
      ],
      "text/plain": [
       "| 2         | 15300    | 11406.586882 | 0.881111          |                     | 5.037401        |"
      ]
     },
     "metadata": {},
     "output_type": "display_data"
    },
    {
     "data": {
      "text/html": [
       "<pre>| 2         | 15400    | 11426.406302 | 0.881039          |                     | 5.045556        |</pre>"
      ],
      "text/plain": [
       "| 2         | 15400    | 11426.406302 | 0.881039          |                     | 5.045556        |"
      ]
     },
     "metadata": {},
     "output_type": "display_data"
    },
    {
     "data": {
      "text/html": [
       "<pre>| 2         | 15500    | 11446.504082 | 0.880774          |                     | 4.975675        |</pre>"
      ],
      "text/plain": [
       "| 2         | 15500    | 11446.504082 | 0.880774          |                     | 4.975675        |"
      ]
     },
     "metadata": {},
     "output_type": "display_data"
    },
    {
     "data": {
      "text/html": [
       "<pre>| 2         | 15600    | 11466.107579 | 0.880705          |                     | 5.101130        |</pre>"
      ],
      "text/plain": [
       "| 2         | 15600    | 11466.107579 | 0.880705          |                     | 5.101130        |"
      ]
     },
     "metadata": {},
     "output_type": "display_data"
    },
    {
     "data": {
      "text/html": [
       "<pre>| 2         | 15700    | 11485.786977 | 0.880701          |                     | 5.081458        |</pre>"
      ],
      "text/plain": [
       "| 2         | 15700    | 11485.786977 | 0.880701          |                     | 5.081458        |"
      ]
     },
     "metadata": {},
     "output_type": "display_data"
    },
    {
     "data": {
      "text/html": [
       "<pre>| 2         | 15800    | 11505.983540 | 0.880949          |                     | 4.951341        |</pre>"
      ],
      "text/plain": [
       "| 2         | 15800    | 11505.983540 | 0.880949          |                     | 4.951341        |"
      ]
     },
     "metadata": {},
     "output_type": "display_data"
    },
    {
     "data": {
      "text/html": [
       "<pre>| 2         | 15900    | 11525.850384 | 0.880880          |                     | 5.033509        |</pre>"
      ],
      "text/plain": [
       "| 2         | 15900    | 11525.850384 | 0.880880          |                     | 5.033509        |"
      ]
     },
     "metadata": {},
     "output_type": "display_data"
    },
    {
     "data": {
      "text/html": [
       "<pre>| 2         | 16000    | 11545.570938 | 0.880813          |                     | 5.070850        |</pre>"
      ],
      "text/plain": [
       "| 2         | 16000    | 11545.570938 | 0.880813          |                     | 5.070850        |"
      ]
     },
     "metadata": {},
     "output_type": "display_data"
    },
    {
     "data": {
      "text/html": [
       "<pre>| 2         | 16100    | 11565.449174 | 0.880870          |                     | 5.030628        |</pre>"
      ],
      "text/plain": [
       "| 2         | 16100    | 11565.449174 | 0.880870          |                     | 5.030628        |"
      ]
     },
     "metadata": {},
     "output_type": "display_data"
    },
    {
     "data": {
      "text/html": [
       "<pre>| 2         | 16200    | 11586.740751 | 0.880988          |                     | 4.696693        |</pre>"
      ],
      "text/plain": [
       "| 2         | 16200    | 11586.740751 | 0.880988          |                     | 4.696693        |"
      ]
     },
     "metadata": {},
     "output_type": "display_data"
    },
    {
     "data": {
      "text/html": [
       "<pre>| 2         | 16300    | 11607.817791 | 0.880798          |                     | 4.744501        |</pre>"
      ],
      "text/plain": [
       "| 2         | 16300    | 11607.817791 | 0.880798          |                     | 4.744501        |"
      ]
     },
     "metadata": {},
     "output_type": "display_data"
    },
    {
     "data": {
      "text/html": [
       "<pre>| 2         | 16400    | 11627.881295 | 0.880976          |                     | 4.984179        |</pre>"
      ],
      "text/plain": [
       "| 2         | 16400    | 11627.881295 | 0.880976          |                     | 4.984179        |"
      ]
     },
     "metadata": {},
     "output_type": "display_data"
    },
    {
     "data": {
      "text/html": [
       "<pre>| 2         | 16500    | 11647.712921 | 0.881151          |                     | 5.042445        |</pre>"
      ],
      "text/plain": [
       "| 2         | 16500    | 11647.712921 | 0.881151          |                     | 5.042445        |"
      ]
     },
     "metadata": {},
     "output_type": "display_data"
    },
    {
     "data": {
      "text/html": [
       "<pre>| 2         | 16600    | 11667.651618 | 0.881446          |                     | 5.015371        |</pre>"
      ],
      "text/plain": [
       "| 2         | 16600    | 11667.651618 | 0.881446          |                     | 5.015371        |"
      ]
     },
     "metadata": {},
     "output_type": "display_data"
    },
    {
     "data": {
      "text/html": [
       "<pre>| 2         | 16700    | 11687.570363 | 0.881677          |                     | 5.020397        |</pre>"
      ],
      "text/plain": [
       "| 2         | 16700    | 11687.570363 | 0.881677          |                     | 5.020397        |"
      ]
     },
     "metadata": {},
     "output_type": "display_data"
    },
    {
     "data": {
      "text/html": [
       "<pre>| 2         | 16800    | 11707.437245 | 0.881905          |                     | 5.033503        |</pre>"
      ],
      "text/plain": [
       "| 2         | 16800    | 11707.437245 | 0.881905          |                     | 5.033503        |"
      ]
     },
     "metadata": {},
     "output_type": "display_data"
    },
    {
     "data": {
      "text/html": [
       "<pre>| 2         | 16900    | 11728.122572 | 0.882367          |                     | 4.834344        |</pre>"
      ],
      "text/plain": [
       "| 2         | 16900    | 11728.122572 | 0.882367          |                     | 4.834344        |"
      ]
     },
     "metadata": {},
     "output_type": "display_data"
    },
    {
     "data": {
      "text/html": [
       "<pre>| 2         | 17000    | 11748.133949 | 0.882000          |                     | 4.997162        |</pre>"
      ],
      "text/plain": [
       "| 2         | 17000    | 11748.133949 | 0.882000          |                     | 4.997162        |"
      ]
     },
     "metadata": {},
     "output_type": "display_data"
    },
    {
     "data": {
      "text/html": [
       "<pre>| 2         | 17100    | 11767.908158 | 0.882339          |                     | 5.057089        |</pre>"
      ],
      "text/plain": [
       "| 2         | 17100    | 11767.908158 | 0.882339          |                     | 5.057089        |"
      ]
     },
     "metadata": {},
     "output_type": "display_data"
    },
    {
     "data": {
      "text/html": [
       "<pre>| 2         | 17200    | 11787.807652 | 0.882674          |                     | 5.025251        |</pre>"
      ],
      "text/plain": [
       "| 2         | 17200    | 11787.807652 | 0.882674          |                     | 5.025251        |"
      ]
     },
     "metadata": {},
     "output_type": "display_data"
    },
    {
     "data": {
      "text/html": [
       "<pre>| 2         | 17300    | 11808.217178 | 0.882659          |                     | 4.899674        |</pre>"
      ],
      "text/plain": [
       "| 2         | 17300    | 11808.217178 | 0.882659          |                     | 4.899674        |"
      ]
     },
     "metadata": {},
     "output_type": "display_data"
    },
    {
     "data": {
      "text/html": [
       "<pre>| 2         | 17400    | 11830.184981 | 0.882529          |                     | 4.552115        |</pre>"
      ],
      "text/plain": [
       "| 2         | 17400    | 11830.184981 | 0.882529          |                     | 4.552115        |"
      ]
     },
     "metadata": {},
     "output_type": "display_data"
    },
    {
     "data": {
      "text/html": [
       "<pre>| 2         | 17500    | 11850.148468 | 0.882686          |                     | 5.009145        |</pre>"
      ],
      "text/plain": [
       "| 2         | 17500    | 11850.148468 | 0.882686          |                     | 5.009145        |"
      ]
     },
     "metadata": {},
     "output_type": "display_data"
    },
    {
     "data": {
      "text/html": [
       "<pre>| 2         | 17600    | 11870.141963 | 0.882443          |                     | 5.001627        |</pre>"
      ],
      "text/plain": [
       "| 2         | 17600    | 11870.141963 | 0.882443          |                     | 5.001627        |"
      ]
     },
     "metadata": {},
     "output_type": "display_data"
    },
    {
     "data": {
      "text/html": [
       "<pre>| 2         | 17700    | 11890.148413 | 0.882316          |                     | 4.998394        |</pre>"
      ],
      "text/plain": [
       "| 2         | 17700    | 11890.148413 | 0.882316          |                     | 4.998394        |"
      ]
     },
     "metadata": {},
     "output_type": "display_data"
    },
    {
     "data": {
      "text/html": [
       "<pre>| 2         | 17800    | 11910.013397 | 0.882921          |                     | 5.033981        |</pre>"
      ],
      "text/plain": [
       "| 2         | 17800    | 11910.013397 | 0.882921          |                     | 5.033981        |"
      ]
     },
     "metadata": {},
     "output_type": "display_data"
    },
    {
     "data": {
      "text/html": [
       "<pre>| 2         | 17900    | 11930.033857 | 0.883073          |                     | 4.994887        |</pre>"
      ],
      "text/plain": [
       "| 2         | 17900    | 11930.033857 | 0.883073          |                     | 4.994887        |"
      ]
     },
     "metadata": {},
     "output_type": "display_data"
    },
    {
     "data": {
      "text/html": [
       "<pre>| 2         | 18000    | 11949.863557 | 0.883167          |                     | 5.042941        |</pre>"
      ],
      "text/plain": [
       "| 2         | 18000    | 11949.863557 | 0.883167          |                     | 5.042941        |"
      ]
     },
     "metadata": {},
     "output_type": "display_data"
    },
    {
     "data": {
      "text/html": [
       "<pre>| 2         | 18100    | 11969.913262 | 0.883370          |                     | 4.987604        |</pre>"
      ],
      "text/plain": [
       "| 2         | 18100    | 11969.913262 | 0.883370          |                     | 4.987604        |"
      ]
     },
     "metadata": {},
     "output_type": "display_data"
    },
    {
     "data": {
      "text/html": [
       "<pre>| 2         | 18200    | 11989.686086 | 0.883516          |                     | 5.057447        |</pre>"
      ],
      "text/plain": [
       "| 2         | 18200    | 11989.686086 | 0.883516          |                     | 5.057447        |"
      ]
     },
     "metadata": {},
     "output_type": "display_data"
    },
    {
     "data": {
      "text/html": [
       "<pre>| 2         | 18300    | 12009.521261 | 0.883552          |                     | 5.041553        |</pre>"
      ],
      "text/plain": [
       "| 2         | 18300    | 12009.521261 | 0.883552          |                     | 5.041553        |"
      ]
     },
     "metadata": {},
     "output_type": "display_data"
    },
    {
     "data": {
      "text/html": [
       "<pre>| 2         | 18400    | 12029.452741 | 0.883641          |                     | 5.017185        |</pre>"
      ],
      "text/plain": [
       "| 2         | 18400    | 12029.452741 | 0.883641          |                     | 5.017185        |"
      ]
     },
     "metadata": {},
     "output_type": "display_data"
    },
    {
     "data": {
      "text/html": [
       "<pre>| 2         | 18500    | 12049.428573 | 0.883514          |                     | 5.006048        |</pre>"
      ],
      "text/plain": [
       "| 2         | 18500    | 12049.428573 | 0.883514          |                     | 5.006048        |"
      ]
     },
     "metadata": {},
     "output_type": "display_data"
    },
    {
     "data": {
      "text/html": [
       "<pre>| 2         | 18600    | 12069.212846 | 0.883548          |                     | 5.054520        |</pre>"
      ],
      "text/plain": [
       "| 2         | 18600    | 12069.212846 | 0.883548          |                     | 5.054520        |"
      ]
     },
     "metadata": {},
     "output_type": "display_data"
    },
    {
     "data": {
      "text/html": [
       "<pre>| 2         | 18700    | 12088.989280 | 0.883636          |                     | 5.056523        |</pre>"
      ],
      "text/plain": [
       "| 2         | 18700    | 12088.989280 | 0.883636          |                     | 5.056523        |"
      ]
     },
     "metadata": {},
     "output_type": "display_data"
    },
    {
     "data": {
      "text/html": [
       "<pre>| 2         | 18800    | 12109.871480 | 0.883989          |                     | 4.788768        |</pre>"
      ],
      "text/plain": [
       "| 2         | 18800    | 12109.871480 | 0.883989          |                     | 4.788768        |"
      ]
     },
     "metadata": {},
     "output_type": "display_data"
    },
    {
     "data": {
      "text/html": [
       "<pre>| 2         | 18900    | 12131.081220 | 0.884180          |                     | 4.714819        |</pre>"
      ],
      "text/plain": [
       "| 2         | 18900    | 12131.081220 | 0.884180          |                     | 4.714819        |"
      ]
     },
     "metadata": {},
     "output_type": "display_data"
    },
    {
     "data": {
      "text/html": [
       "<pre>| 2         | 19000    | 12152.811941 | 0.884263          |                     | 4.601779        |</pre>"
      ],
      "text/plain": [
       "| 2         | 19000    | 12152.811941 | 0.884263          |                     | 4.601779        |"
      ]
     },
     "metadata": {},
     "output_type": "display_data"
    },
    {
     "data": {
      "text/html": [
       "<pre>| 2         | 19100    | 12172.795135 | 0.884346          |                     | 5.004201        |</pre>"
      ],
      "text/plain": [
       "| 2         | 19100    | 12172.795135 | 0.884346          |                     | 5.004201        |"
      ]
     },
     "metadata": {},
     "output_type": "display_data"
    },
    {
     "data": {
      "text/html": [
       "<pre>| 2         | 19200    | 12192.953855 | 0.884427          |                     | 4.960632        |</pre>"
      ],
      "text/plain": [
       "| 2         | 19200    | 12192.953855 | 0.884427          |                     | 4.960632        |"
      ]
     },
     "metadata": {},
     "output_type": "display_data"
    },
    {
     "data": {
      "text/html": [
       "<pre>| 2         | 19300    | 12213.943740 | 0.884404          |                     | 4.764200        |</pre>"
      ],
      "text/plain": [
       "| 2         | 19300    | 12213.943740 | 0.884404          |                     | 4.764200        |"
      ]
     },
     "metadata": {},
     "output_type": "display_data"
    },
    {
     "data": {
      "text/html": [
       "<pre>| 2         | 19400    | 12234.278464 | 0.884742          |                     | 4.917696        |</pre>"
      ],
      "text/plain": [
       "| 2         | 19400    | 12234.278464 | 0.884742          |                     | 4.917696        |"
      ]
     },
     "metadata": {},
     "output_type": "display_data"
    },
    {
     "data": {
      "text/html": [
       "<pre>| 2         | 19500    | 12253.820737 | 0.884923          |                     | 5.117114        |</pre>"
      ],
      "text/plain": [
       "| 2         | 19500    | 12253.820737 | 0.884923          |                     | 5.117114        |"
      ]
     },
     "metadata": {},
     "output_type": "display_data"
    },
    {
     "data": {
      "text/html": [
       "<pre>| 2         | 19600    | 12273.570909 | 0.885000          |                     | 5.063252        |</pre>"
      ],
      "text/plain": [
       "| 2         | 19600    | 12273.570909 | 0.885000          |                     | 5.063252        |"
      ]
     },
     "metadata": {},
     "output_type": "display_data"
    },
    {
     "data": {
      "text/html": [
       "<pre>| 2         | 19700    | 12293.526120 | 0.885178          |                     | 5.011216        |</pre>"
      ],
      "text/plain": [
       "| 2         | 19700    | 12293.526120 | 0.885178          |                     | 5.011216        |"
      ]
     },
     "metadata": {},
     "output_type": "display_data"
    },
    {
     "data": {
      "text/html": [
       "<pre>| 2         | 19800    | 12314.834106 | 0.885303          |                     | 4.693075        |</pre>"
      ],
      "text/plain": [
       "| 2         | 19800    | 12314.834106 | 0.885303          |                     | 4.693075        |"
      ]
     },
     "metadata": {},
     "output_type": "display_data"
    },
    {
     "data": {
      "text/html": [
       "<pre>| 2         | 19900    | 12334.755395 | 0.885528          |                     | 5.019755        |</pre>"
      ],
      "text/plain": [
       "| 2         | 19900    | 12334.755395 | 0.885528          |                     | 5.019755        |"
      ]
     },
     "metadata": {},
     "output_type": "display_data"
    },
    {
     "data": {
      "text/html": [
       "<pre>| 2         | 20000    | 12354.854940 | 0.885700          |                     | 4.975237        |</pre>"
      ],
      "text/plain": [
       "| 2         | 20000    | 12354.854940 | 0.885700          |                     | 4.975237        |"
      ]
     },
     "metadata": {},
     "output_type": "display_data"
    },
    {
     "data": {
      "text/html": [
       "<pre>| 2         | 20100    | 12374.831352 | 0.885672          |                     | 5.005905        |</pre>"
      ],
      "text/plain": [
       "| 2         | 20100    | 12374.831352 | 0.885672          |                     | 5.005905        |"
      ]
     },
     "metadata": {},
     "output_type": "display_data"
    },
    {
     "data": {
      "text/html": [
       "<pre>| 2         | 20200    | 12394.470816 | 0.885743          |                     | 5.091794        |</pre>"
      ],
      "text/plain": [
       "| 2         | 20200    | 12394.470816 | 0.885743          |                     | 5.091794        |"
      ]
     },
     "metadata": {},
     "output_type": "display_data"
    },
    {
     "data": {
      "text/html": [
       "<pre>| 2         | 20300    | 12414.182115 | 0.885862          |                     | 5.073231        |</pre>"
      ],
      "text/plain": [
       "| 2         | 20300    | 12414.182115 | 0.885862          |                     | 5.073231        |"
      ]
     },
     "metadata": {},
     "output_type": "display_data"
    },
    {
     "data": {
      "text/html": [
       "<pre>| 2         | 20400    | 12433.952497 | 0.886029          |                     | 5.058067        |</pre>"
      ],
      "text/plain": [
       "| 2         | 20400    | 12433.952497 | 0.886029          |                     | 5.058067        |"
      ]
     },
     "metadata": {},
     "output_type": "display_data"
    },
    {
     "data": {
      "text/html": [
       "<pre>| 2         | 20500    | 12453.843542 | 0.886341          |                     | 5.027388        |</pre>"
      ],
      "text/plain": [
       "| 2         | 20500    | 12453.843542 | 0.886341          |                     | 5.027388        |"
      ]
     },
     "metadata": {},
     "output_type": "display_data"
    },
    {
     "data": {
      "text/html": [
       "<pre>| 2         | 20600    | 12473.832220 | 0.886068          |                     | 5.002833        |</pre>"
      ],
      "text/plain": [
       "| 2         | 20600    | 12473.832220 | 0.886068          |                     | 5.002833        |"
      ]
     },
     "metadata": {},
     "output_type": "display_data"
    },
    {
     "data": {
      "text/html": [
       "<pre>| 2         | 20700    | 12494.127485 | 0.886135          |                     | 4.927258        |</pre>"
      ],
      "text/plain": [
       "| 2         | 20700    | 12494.127485 | 0.886135          |                     | 4.927258        |"
      ]
     },
     "metadata": {},
     "output_type": "display_data"
    },
    {
     "data": {
      "text/html": [
       "<pre>| 2         | 20800    | 12515.878882 | 0.886154          |                     | 4.597406        |</pre>"
      ],
      "text/plain": [
       "| 2         | 20800    | 12515.878882 | 0.886154          |                     | 4.597406        |"
      ]
     },
     "metadata": {},
     "output_type": "display_data"
    },
    {
     "data": {
      "text/html": [
       "<pre>| 2         | 20900    | 12537.102572 | 0.886220          |                     | 4.711719        |</pre>"
      ],
      "text/plain": [
       "| 2         | 20900    | 12537.102572 | 0.886220          |                     | 4.711719        |"
      ]
     },
     "metadata": {},
     "output_type": "display_data"
    },
    {
     "data": {
      "text/html": [
       "<pre>| 2         | 21000    | 12556.918710 | 0.886333          |                     | 5.046389        |</pre>"
      ],
      "text/plain": [
       "| 2         | 21000    | 12556.918710 | 0.886333          |                     | 5.046389        |"
      ]
     },
     "metadata": {},
     "output_type": "display_data"
    },
    {
     "data": {
      "text/html": [
       "<pre>| 2         | 21100    | 12577.095137 | 0.886161          |                     | 4.956278        |</pre>"
      ],
      "text/plain": [
       "| 2         | 21100    | 12577.095137 | 0.886161          |                     | 4.956278        |"
      ]
     },
     "metadata": {},
     "output_type": "display_data"
    },
    {
     "data": {
      "text/html": [
       "<pre>| 2         | 21200    | 12596.760241 | 0.886274          |                     | 5.085149        |</pre>"
      ],
      "text/plain": [
       "| 2         | 21200    | 12596.760241 | 0.886274          |                     | 5.085149        |"
      ]
     },
     "metadata": {},
     "output_type": "display_data"
    },
    {
     "data": {
      "text/html": [
       "<pre>| 2         | 21300    | 12617.557863 | 0.886197          |                     | 4.808242        |</pre>"
      ],
      "text/plain": [
       "| 2         | 21300    | 12617.557863 | 0.886197          |                     | 4.808242        |"
      ]
     },
     "metadata": {},
     "output_type": "display_data"
    },
    {
     "data": {
      "text/html": [
       "<pre>| 2         | 21400    | 12637.405723 | 0.886308          |                     | 5.038328        |</pre>"
      ],
      "text/plain": [
       "| 2         | 21400    | 12637.405723 | 0.886308          |                     | 5.038328        |"
      ]
     },
     "metadata": {},
     "output_type": "display_data"
    },
    {
     "data": {
      "text/html": [
       "<pre>| 2         | 21500    | 12657.396135 | 0.886605          |                     | 5.002402        |</pre>"
      ],
      "text/plain": [
       "| 2         | 21500    | 12657.396135 | 0.886605          |                     | 5.002402        |"
      ]
     },
     "metadata": {},
     "output_type": "display_data"
    },
    {
     "data": {
      "text/html": [
       "<pre>| 2         | 21600    | 12681.538935 | 0.886713          |                     | 4.142021        |</pre>"
      ],
      "text/plain": [
       "| 2         | 21600    | 12681.538935 | 0.886713          |                     | 4.142021        |"
      ]
     },
     "metadata": {},
     "output_type": "display_data"
    },
    {
     "data": {
      "text/html": [
       "<pre>| 2         | 21700    | 12702.028835 | 0.887005          |                     | 4.880449        |</pre>"
      ],
      "text/plain": [
       "| 2         | 21700    | 12702.028835 | 0.887005          |                     | 4.880449        |"
      ]
     },
     "metadata": {},
     "output_type": "display_data"
    },
    {
     "data": {
      "text/html": [
       "<pre>| 2         | 21800    | 12722.076331 | 0.887064          |                     | 4.988154        |</pre>"
      ],
      "text/plain": [
       "| 2         | 21800    | 12722.076331 | 0.887064          |                     | 4.988154        |"
      ]
     },
     "metadata": {},
     "output_type": "display_data"
    },
    {
     "data": {
      "text/html": [
       "<pre>| 2         | 21900    | 12741.708921 | 0.887443          |                     | 5.093573        |</pre>"
      ],
      "text/plain": [
       "| 2         | 21900    | 12741.708921 | 0.887443          |                     | 5.093573        |"
      ]
     },
     "metadata": {},
     "output_type": "display_data"
    },
    {
     "data": {
      "text/html": [
       "<pre>| 2         | 22000    | 12763.677571 | 0.887364          |                     | 4.551941        |</pre>"
      ],
      "text/plain": [
       "| 2         | 22000    | 12763.677571 | 0.887364          |                     | 4.551941        |"
      ]
     },
     "metadata": {},
     "output_type": "display_data"
    },
    {
     "data": {
      "text/html": [
       "<pre>| 2         | 22100    | 12783.727577 | 0.887511          |                     | 4.987532        |</pre>"
      ],
      "text/plain": [
       "| 2         | 22100    | 12783.727577 | 0.887511          |                     | 4.987532        |"
      ]
     },
     "metadata": {},
     "output_type": "display_data"
    },
    {
     "data": {
      "text/html": [
       "<pre>| 2         | 22200    | 12803.719123 | 0.887613          |                     | 5.002113        |</pre>"
      ],
      "text/plain": [
       "| 2         | 22200    | 12803.719123 | 0.887613          |                     | 5.002113        |"
      ]
     },
     "metadata": {},
     "output_type": "display_data"
    },
    {
     "data": {
      "text/html": [
       "<pre>| 2         | 22300    | 12824.063286 | 0.887399          |                     | 4.915413        |</pre>"
      ],
      "text/plain": [
       "| 2         | 22300    | 12824.063286 | 0.887399          |                     | 4.915413        |"
      ]
     },
     "metadata": {},
     "output_type": "display_data"
    },
    {
     "data": {
      "text/html": [
       "<pre>| 2         | 22400    | 12843.842608 | 0.887589          |                     | 5.055784        |</pre>"
      ],
      "text/plain": [
       "| 2         | 22400    | 12843.842608 | 0.887589          |                     | 5.055784        |"
      ]
     },
     "metadata": {},
     "output_type": "display_data"
    },
    {
     "data": {
      "text/html": [
       "<pre>| 2         | 22500    | 12863.647748 | 0.887956          |                     | 5.049194        |</pre>"
      ],
      "text/plain": [
       "| 2         | 22500    | 12863.647748 | 0.887956          |                     | 5.049194        |"
      ]
     },
     "metadata": {},
     "output_type": "display_data"
    },
    {
     "data": {
      "text/html": [
       "<pre>| 2         | 22600    | 12883.510290 | 0.888009          |                     | 5.034604        |</pre>"
      ],
      "text/plain": [
       "| 2         | 22600    | 12883.510290 | 0.888009          |                     | 5.034604        |"
      ]
     },
     "metadata": {},
     "output_type": "display_data"
    },
    {
     "data": {
      "text/html": [
       "<pre>| 2         | 22700    | 12906.704450 | 0.888106          |                     | 4.311432        |</pre>"
      ],
      "text/plain": [
       "| 2         | 22700    | 12906.704450 | 0.888106          |                     | 4.311432        |"
      ]
     },
     "metadata": {},
     "output_type": "display_data"
    },
    {
     "data": {
      "text/html": [
       "<pre>| 2         | 22800    | 12927.151294 | 0.888114          |                     | 4.890728        |</pre>"
      ],
      "text/plain": [
       "| 2         | 22800    | 12927.151294 | 0.888114          |                     | 4.890728        |"
      ]
     },
     "metadata": {},
     "output_type": "display_data"
    },
    {
     "data": {
      "text/html": [
       "<pre>| 2         | 22900    | 12946.606770 | 0.888166          |                     | 5.139940        |</pre>"
      ],
      "text/plain": [
       "| 2         | 22900    | 12946.606770 | 0.888166          |                     | 5.139940        |"
      ]
     },
     "metadata": {},
     "output_type": "display_data"
    },
    {
     "data": {
      "text/html": [
       "<pre>| 2         | 23000    | 12966.733390 | 0.888174          |                     | 4.968544        |</pre>"
      ],
      "text/plain": [
       "| 2         | 23000    | 12966.733390 | 0.888174          |                     | 4.968544        |"
      ]
     },
     "metadata": {},
     "output_type": "display_data"
    },
    {
     "data": {
      "text/html": [
       "<pre>| 2         | 23100    | 12986.584526 | 0.888182          |                     | 5.037495        |</pre>"
      ],
      "text/plain": [
       "| 2         | 23100    | 12986.584526 | 0.888182          |                     | 5.037495        |"
      ]
     },
     "metadata": {},
     "output_type": "display_data"
    },
    {
     "data": {
      "text/html": [
       "<pre>| 2         | 23200    | 13006.577641 | 0.888233          |                     | 5.001722        |</pre>"
      ],
      "text/plain": [
       "| 2         | 23200    | 13006.577641 | 0.888233          |                     | 5.001722        |"
      ]
     },
     "metadata": {},
     "output_type": "display_data"
    },
    {
     "data": {
      "text/html": [
       "<pre>| 2         | 23300    | 13026.648882 | 0.888584          |                     | 4.982253        |</pre>"
      ],
      "text/plain": [
       "| 2         | 23300    | 13026.648882 | 0.888584          |                     | 4.982253        |"
      ]
     },
     "metadata": {},
     "output_type": "display_data"
    },
    {
     "data": {
      "text/html": [
       "<pre>| 2         | 23400    | 13046.810449 | 0.888590          |                     | 4.959935        |</pre>"
      ],
      "text/plain": [
       "| 2         | 23400    | 13046.810449 | 0.888590          |                     | 4.959935        |"
      ]
     },
     "metadata": {},
     "output_type": "display_data"
    },
    {
     "data": {
      "text/html": [
       "<pre>| 2         | 23500    | 13068.873001 | 0.888638          |                     | 4.532566        |</pre>"
      ],
      "text/plain": [
       "| 2         | 23500    | 13068.873001 | 0.888638          |                     | 4.532566        |"
      ]
     },
     "metadata": {},
     "output_type": "display_data"
    },
    {
     "data": {
      "text/html": [
       "<pre>| 2         | 23600    | 13092.878487 | 0.888644          |                     | 4.165713        |</pre>"
      ],
      "text/plain": [
       "| 2         | 23600    | 13092.878487 | 0.888644          |                     | 4.165713        |"
      ]
     },
     "metadata": {},
     "output_type": "display_data"
    },
    {
     "data": {
      "text/html": [
       "<pre>| 2         | 23700    | 13118.736053 | 0.888861          |                     | 3.867341        |</pre>"
      ],
      "text/plain": [
       "| 2         | 23700    | 13118.736053 | 0.888861          |                     | 3.867341        |"
      ]
     },
     "metadata": {},
     "output_type": "display_data"
    },
    {
     "data": {
      "text/html": [
       "<pre>| 2         | 23800    | 13143.542660 | 0.889076          |                     | 4.031184        |</pre>"
      ],
      "text/plain": [
       "| 2         | 23800    | 13143.542660 | 0.889076          |                     | 4.031184        |"
      ]
     },
     "metadata": {},
     "output_type": "display_data"
    },
    {
     "data": {
      "text/html": [
       "<pre>| 2         | 23900    | 13166.578777 | 0.889205          |                     | 4.341013        |</pre>"
      ],
      "text/plain": [
       "| 2         | 23900    | 13166.578777 | 0.889205          |                     | 4.341013        |"
      ]
     },
     "metadata": {},
     "output_type": "display_data"
    },
    {
     "data": {
      "text/html": [
       "<pre>| 2         | 24000    | 13187.650690 | 0.889292          |                     | 4.745651        |</pre>"
      ],
      "text/plain": [
       "| 2         | 24000    | 13187.650690 | 0.889292          |                     | 4.745651        |"
      ]
     },
     "metadata": {},
     "output_type": "display_data"
    },
    {
     "data": {
      "text/html": [
       "<pre>| 2         | 24100    | 13212.919260 | 0.889419          |                     | 3.957484        |</pre>"
      ],
      "text/plain": [
       "| 2         | 24100    | 13212.919260 | 0.889419          |                     | 3.957484        |"
      ]
     },
     "metadata": {},
     "output_type": "display_data"
    },
    {
     "data": {
      "text/html": [
       "<pre>| 2         | 24200    | 13235.267790 | 0.889587          |                     | 4.474567        |</pre>"
      ],
      "text/plain": [
       "| 2         | 24200    | 13235.267790 | 0.889587          |                     | 4.474567        |"
      ]
     },
     "metadata": {},
     "output_type": "display_data"
    },
    {
     "data": {
      "text/html": [
       "<pre>| 2         | 24300    | 13255.866945 | 0.889630          |                     | 4.854568        |</pre>"
      ],
      "text/plain": [
       "| 2         | 24300    | 13255.866945 | 0.889630          |                     | 4.854568        |"
      ]
     },
     "metadata": {},
     "output_type": "display_data"
    },
    {
     "data": {
      "text/html": [
       "<pre>| 2         | 24400    | 13276.426166 | 0.889672          |                     | 4.864000        |</pre>"
      ],
      "text/plain": [
       "| 2         | 24400    | 13276.426166 | 0.889672          |                     | 4.864000        |"
      ]
     },
     "metadata": {},
     "output_type": "display_data"
    },
    {
     "data": {
      "text/html": [
       "<pre>| 2         | 24500    | 13297.252633 | 0.890000          |                     | 4.801585        |</pre>"
      ],
      "text/plain": [
       "| 2         | 24500    | 13297.252633 | 0.890000          |                     | 4.801585        |"
      ]
     },
     "metadata": {},
     "output_type": "display_data"
    },
    {
     "data": {
      "text/html": [
       "<pre>| 2         | 24600    | 13317.365926 | 0.890163          |                     | 4.971835        |</pre>"
      ],
      "text/plain": [
       "| 2         | 24600    | 13317.365926 | 0.890163          |                     | 4.971835        |"
      ]
     },
     "metadata": {},
     "output_type": "display_data"
    },
    {
     "data": {
      "text/html": [
       "<pre>| 2         | 24700    | 13338.033643 | 0.890486          |                     | 4.838461        |</pre>"
      ],
      "text/plain": [
       "| 2         | 24700    | 13338.033643 | 0.890486          |                     | 4.838461        |"
      ]
     },
     "metadata": {},
     "output_type": "display_data"
    },
    {
     "data": {
      "text/html": [
       "<pre>| 2         | 24800    | 13362.421671 | 0.890524          |                     | 4.100373        |</pre>"
      ],
      "text/plain": [
       "| 2         | 24800    | 13362.421671 | 0.890524          |                     | 4.100373        |"
      ]
     },
     "metadata": {},
     "output_type": "display_data"
    },
    {
     "data": {
      "text/html": [
       "<pre>| 2         | 24900    | 13383.215394 | 0.890643          |                     | 4.809143        |</pre>"
      ],
      "text/plain": [
       "| 2         | 24900    | 13383.215394 | 0.890643          |                     | 4.809143        |"
      ]
     },
     "metadata": {},
     "output_type": "display_data"
    },
    {
     "data": {
      "text/html": [
       "<pre>| 2         | 25000    | 13403.625381 | 0.890640          |                     | 4.899563        |</pre>"
      ],
      "text/plain": [
       "| 2         | 25000    | 13403.625381 | 0.890640          |                     | 4.899563        |"
      ]
     },
     "metadata": {},
     "output_type": "display_data"
    },
    {
     "data": {
      "text/html": [
       "<pre>| 2         | 25100    | 13427.526525 | 0.890757          |                     | 4.183903        |</pre>"
      ],
      "text/plain": [
       "| 2         | 25100    | 13427.526525 | 0.890757          |                     | 4.183903        |"
      ]
     },
     "metadata": {},
     "output_type": "display_data"
    },
    {
     "data": {
      "text/html": [
       "<pre>| 2         | 25200    | 13447.814571 | 0.890794          |                     | 4.929010        |</pre>"
      ],
      "text/plain": [
       "| 2         | 25200    | 13447.814571 | 0.890794          |                     | 4.929010        |"
      ]
     },
     "metadata": {},
     "output_type": "display_data"
    },
    {
     "data": {
      "text/html": [
       "<pre>| 2         | 25300    | 13468.491955 | 0.890949          |                     | 4.836198        |</pre>"
      ],
      "text/plain": [
       "| 2         | 25300    | 13468.491955 | 0.890949          |                     | 4.836198        |"
      ]
     },
     "metadata": {},
     "output_type": "display_data"
    },
    {
     "data": {
      "text/html": [
       "<pre>| 2         | 25400    | 13488.957911 | 0.891220          |                     | 4.886163        |</pre>"
      ],
      "text/plain": [
       "| 2         | 25400    | 13488.957911 | 0.891220          |                     | 4.886163        |"
      ]
     },
     "metadata": {},
     "output_type": "display_data"
    },
    {
     "data": {
      "text/html": [
       "<pre>| 2         | 25500    | 13514.023470 | 0.891255          |                     | 3.989538        |</pre>"
      ],
      "text/plain": [
       "| 2         | 25500    | 13514.023470 | 0.891255          |                     | 3.989538        |"
      ]
     },
     "metadata": {},
     "output_type": "display_data"
    },
    {
     "data": {
      "text/html": [
       "<pre>| 2         | 25600    | 13536.172980 | 0.891523          |                     | 4.514773        |</pre>"
      ],
      "text/plain": [
       "| 2         | 25600    | 13536.172980 | 0.891523          |                     | 4.514773        |"
      ]
     },
     "metadata": {},
     "output_type": "display_data"
    },
    {
     "data": {
      "text/html": [
       "<pre>| 2         | 25700    | 13558.626317 | 0.891673          |                     | 4.453684        |</pre>"
      ],
      "text/plain": [
       "| 2         | 25700    | 13558.626317 | 0.891673          |                     | 4.453684        |"
      ]
     },
     "metadata": {},
     "output_type": "display_data"
    },
    {
     "data": {
      "text/html": [
       "<pre>| 2         | 25800    | 13580.584829 | 0.891705          |                     | 4.554039        |</pre>"
      ],
      "text/plain": [
       "| 2         | 25800    | 13580.584829 | 0.891705          |                     | 4.554039        |"
      ]
     },
     "metadata": {},
     "output_type": "display_data"
    },
    {
     "data": {
      "text/html": [
       "<pre>| 2         | 25900    | 13602.237629 | 0.891892          |                     | 4.618339        |</pre>"
      ],
      "text/plain": [
       "| 2         | 25900    | 13602.237629 | 0.891892          |                     | 4.618339        |"
      ]
     },
     "metadata": {},
     "output_type": "display_data"
    },
    {
     "data": {
      "text/html": [
       "<pre>| 2         | 26000    | 13624.230515 | 0.892000          |                     | 4.546926        |</pre>"
      ],
      "text/plain": [
       "| 2         | 26000    | 13624.230515 | 0.892000          |                     | 4.546926        |"
      ]
     },
     "metadata": {},
     "output_type": "display_data"
    },
    {
     "data": {
      "text/html": [
       "<pre>| 2         | 26100    | 13647.500369 | 0.892031          |                     | 4.297405        |</pre>"
      ],
      "text/plain": [
       "| 2         | 26100    | 13647.500369 | 0.892031          |                     | 4.297405        |"
      ]
     },
     "metadata": {},
     "output_type": "display_data"
    },
    {
     "data": {
      "text/html": [
       "<pre>| 2         | 26200    | 13668.167391 | 0.892023          |                     | 4.838627        |</pre>"
      ],
      "text/plain": [
       "| 2         | 26200    | 13668.167391 | 0.892023          |                     | 4.838627        |"
      ]
     },
     "metadata": {},
     "output_type": "display_data"
    },
    {
     "data": {
      "text/html": [
       "<pre>| 2         | 26300    | 13689.006604 | 0.892129          |                     | 4.798649        |</pre>"
      ],
      "text/plain": [
       "| 2         | 26300    | 13689.006604 | 0.892129          |                     | 4.798649        |"
      ]
     },
     "metadata": {},
     "output_type": "display_data"
    },
    {
     "data": {
      "text/html": [
       "<pre>| 2         | 26400    | 13709.607366 | 0.892159          |                     | 4.854188        |</pre>"
      ],
      "text/plain": [
       "| 2         | 26400    | 13709.607366 | 0.892159          |                     | 4.854188        |"
      ]
     },
     "metadata": {},
     "output_type": "display_data"
    },
    {
     "data": {
      "text/html": [
       "<pre>| 2         | 26500    | 13731.372021 | 0.892302          |                     | 4.594604        |</pre>"
      ],
      "text/plain": [
       "| 2         | 26500    | 13731.372021 | 0.892302          |                     | 4.594604        |"
      ]
     },
     "metadata": {},
     "output_type": "display_data"
    },
    {
     "data": {
      "text/html": [
       "<pre>| 2         | 26600    | 13751.376545 | 0.892481          |                     | 4.998868        |</pre>"
      ],
      "text/plain": [
       "| 2         | 26600    | 13751.376545 | 0.892481          |                     | 4.998868        |"
      ]
     },
     "metadata": {},
     "output_type": "display_data"
    },
    {
     "data": {
      "text/html": [
       "<pre>| 2         | 26700    | 13772.321933 | 0.892622          |                     | 4.774320        |</pre>"
      ],
      "text/plain": [
       "| 2         | 26700    | 13772.321933 | 0.892622          |                     | 4.774320        |"
      ]
     },
     "metadata": {},
     "output_type": "display_data"
    },
    {
     "data": {
      "text/html": [
       "<pre>| 2         | 26800    | 13793.084446 | 0.892612          |                     | 4.816373        |</pre>"
      ],
      "text/plain": [
       "| 2         | 26800    | 13793.084446 | 0.892612          |                     | 4.816373        |"
      ]
     },
     "metadata": {},
     "output_type": "display_data"
    },
    {
     "data": {
      "text/html": [
       "<pre>| 2         | 26900    | 13813.253090 | 0.892751          |                     | 4.958196        |</pre>"
      ],
      "text/plain": [
       "| 2         | 26900    | 13813.253090 | 0.892751          |                     | 4.958196        |"
      ]
     },
     "metadata": {},
     "output_type": "display_data"
    },
    {
     "data": {
      "text/html": [
       "<pre>| 2         | 27000    | 13833.395804 | 0.893000          |                     | 4.964571        |</pre>"
      ],
      "text/plain": [
       "| 2         | 27000    | 13833.395804 | 0.893000          |                     | 4.964571        |"
      ]
     },
     "metadata": {},
     "output_type": "display_data"
    },
    {
     "data": {
      "text/html": [
       "<pre>| 2         | 27100    | 13853.358284 | 0.892989          |                     | 5.009397        |</pre>"
      ],
      "text/plain": [
       "| 2         | 27100    | 13853.358284 | 0.892989          |                     | 5.009397        |"
      ]
     },
     "metadata": {},
     "output_type": "display_data"
    },
    {
     "data": {
      "text/html": [
       "<pre>| 2         | 27200    | 13874.178466 | 0.893051          |                     | 4.803032        |</pre>"
      ],
      "text/plain": [
       "| 2         | 27200    | 13874.178466 | 0.893051          |                     | 4.803032        |"
      ]
     },
     "metadata": {},
     "output_type": "display_data"
    },
    {
     "data": {
      "text/html": [
       "<pre>| 2         | 27300    | 13894.208454 | 0.893077          |                     | 4.992514        |</pre>"
      ],
      "text/plain": [
       "| 2         | 27300    | 13894.208454 | 0.893077          |                     | 4.992514        |"
      ]
     },
     "metadata": {},
     "output_type": "display_data"
    },
    {
     "data": {
      "text/html": [
       "<pre>| 2         | 27400    | 13914.278656 | 0.893102          |                     | 4.982511        |</pre>"
      ],
      "text/plain": [
       "| 2         | 27400    | 13914.278656 | 0.893102          |                     | 4.982511        |"
      ]
     },
     "metadata": {},
     "output_type": "display_data"
    },
    {
     "data": {
      "text/html": [
       "<pre>| 2         | 27500    | 13934.311512 | 0.893127          |                     | 4.991805        |</pre>"
      ],
      "text/plain": [
       "| 2         | 27500    | 13934.311512 | 0.893127          |                     | 4.991805        |"
      ]
     },
     "metadata": {},
     "output_type": "display_data"
    },
    {
     "data": {
      "text/html": [
       "<pre>| 2         | 27600    | 13954.205596 | 0.893261          |                     | 5.026616        |</pre>"
      ],
      "text/plain": [
       "| 2         | 27600    | 13954.205596 | 0.893261          |                     | 5.026616        |"
      ]
     },
     "metadata": {},
     "output_type": "display_data"
    },
    {
     "data": {
      "text/html": [
       "<pre>| 2         | 27700    | 13977.064497 | 0.893466          |                     | 4.374663        |</pre>"
      ],
      "text/plain": [
       "| 2         | 27700    | 13977.064497 | 0.893466          |                     | 4.374663        |"
      ]
     },
     "metadata": {},
     "output_type": "display_data"
    },
    {
     "data": {
      "text/html": [
       "<pre>| 2         | 27800    | 13999.742379 | 0.893669          |                     | 4.409583        |</pre>"
      ],
      "text/plain": [
       "| 2         | 27800    | 13999.742379 | 0.893669          |                     | 4.409583        |"
      ]
     },
     "metadata": {},
     "output_type": "display_data"
    },
    {
     "data": {
      "text/html": [
       "<pre>| 2         | 27900    | 14022.812768 | 0.893835          |                     | 4.334559        |</pre>"
      ],
      "text/plain": [
       "| 2         | 27900    | 14022.812768 | 0.893835          |                     | 4.334559        |"
      ]
     },
     "metadata": {},
     "output_type": "display_data"
    },
    {
     "data": {
      "text/html": [
       "<pre>| 2         | 28000    | 14044.882372 | 0.893893          |                     | 4.531122        |</pre>"
      ],
      "text/plain": [
       "| 2         | 28000    | 14044.882372 | 0.893893          |                     | 4.531122        |"
      ]
     },
     "metadata": {},
     "output_type": "display_data"
    },
    {
     "data": {
      "text/html": [
       "<pre>| 2         | 28100    | 14068.359562 | 0.893915          |                     | 4.259455        |</pre>"
      ],
      "text/plain": [
       "| 2         | 28100    | 14068.359562 | 0.893915          |                     | 4.259455        |"
      ]
     },
     "metadata": {},
     "output_type": "display_data"
    },
    {
     "data": {
      "text/html": [
       "<pre>| 2         | 28200    | 14089.555487 | 0.893972          |                     | 4.717887        |</pre>"
      ],
      "text/plain": [
       "| 2         | 28200    | 14089.555487 | 0.893972          |                     | 4.717887        |"
      ]
     },
     "metadata": {},
     "output_type": "display_data"
    },
    {
     "data": {
      "text/html": [
       "<pre>| 2         | 28300    | 14111.114686 | 0.893922          |                     | 4.638388        |</pre>"
      ],
      "text/plain": [
       "| 2         | 28300    | 14111.114686 | 0.893922          |                     | 4.638388        |"
      ]
     },
     "metadata": {},
     "output_type": "display_data"
    },
    {
     "data": {
      "text/html": [
       "<pre>| 2         | 28400    | 14134.298298 | 0.894049          |                     | 4.313392        |</pre>"
      ],
      "text/plain": [
       "| 2         | 28400    | 14134.298298 | 0.894049          |                     | 4.313392        |"
      ]
     },
     "metadata": {},
     "output_type": "display_data"
    },
    {
     "data": {
      "text/html": [
       "<pre>| 2         | 28500    | 14157.333397 | 0.894281          |                     | 4.341201        |</pre>"
      ],
      "text/plain": [
       "| 2         | 28500    | 14157.333397 | 0.894281          |                     | 4.341201        |"
      ]
     },
     "metadata": {},
     "output_type": "display_data"
    },
    {
     "data": {
      "text/html": [
       "<pre>| 2         | 28600    | 14179.034592 | 0.894511          |                     | 4.608041        |</pre>"
      ],
      "text/plain": [
       "| 2         | 28600    | 14179.034592 | 0.894511          |                     | 4.608041        |"
      ]
     },
     "metadata": {},
     "output_type": "display_data"
    },
    {
     "data": {
      "text/html": [
       "<pre>| 2         | 28700    | 14202.147224 | 0.894599          |                     | 4.326642        |</pre>"
      ],
      "text/plain": [
       "| 2         | 28700    | 14202.147224 | 0.894599          |                     | 4.326642        |"
      ]
     },
     "metadata": {},
     "output_type": "display_data"
    },
    {
     "data": {
      "text/html": [
       "<pre>| 2         | 28800    | 14224.176225 | 0.894896          |                     | 4.539468        |</pre>"
      ],
      "text/plain": [
       "| 2         | 28800    | 14224.176225 | 0.894896          |                     | 4.539468        |"
      ]
     },
     "metadata": {},
     "output_type": "display_data"
    },
    {
     "data": {
      "text/html": [
       "<pre>| 2         | 28900    | 14245.189813 | 0.894913          |                     | 4.758825        |</pre>"
      ],
      "text/plain": [
       "| 2         | 28900    | 14245.189813 | 0.894913          |                     | 4.758825        |"
      ]
     },
     "metadata": {},
     "output_type": "display_data"
    },
    {
     "data": {
      "text/html": [
       "<pre>| 2         | 29000    | 14267.171177 | 0.895000          |                     | 4.549308        |</pre>"
      ],
      "text/plain": [
       "| 2         | 29000    | 14267.171177 | 0.895000          |                     | 4.549308        |"
      ]
     },
     "metadata": {},
     "output_type": "display_data"
    },
    {
     "data": {
      "text/html": [
       "<pre>| 2         | 29100    | 14287.217895 | 0.894983          |                     | 4.988348        |</pre>"
      ],
      "text/plain": [
       "| 2         | 29100    | 14287.217895 | 0.894983          |                     | 4.988348        |"
      ]
     },
     "metadata": {},
     "output_type": "display_data"
    },
    {
     "data": {
      "text/html": [
       "<pre>| 2         | 29200    | 14307.465105 | 0.895034          |                     | 4.938954        |</pre>"
      ],
      "text/plain": [
       "| 2         | 29200    | 14307.465105 | 0.895034          |                     | 4.938954        |"
      ]
     },
     "metadata": {},
     "output_type": "display_data"
    },
    {
     "data": {
      "text/html": [
       "<pre>| 2         | 29300    | 14328.789507 | 0.895119          |                     | 4.689467        |</pre>"
      ],
      "text/plain": [
       "| 2         | 29300    | 14328.789507 | 0.895119          |                     | 4.689467        |"
      ]
     },
     "metadata": {},
     "output_type": "display_data"
    },
    {
     "data": {
      "text/html": [
       "<pre>| 2         | 29400    | 14349.093372 | 0.895102          |                     | 4.925168        |</pre>"
      ],
      "text/plain": [
       "| 2         | 29400    | 14349.093372 | 0.895102          |                     | 4.925168        |"
      ]
     },
     "metadata": {},
     "output_type": "display_data"
    },
    {
     "data": {
      "text/html": [
       "<pre>| 2         | 29500    | 14368.981786 | 0.895153          |                     | 5.028051        |</pre>"
      ],
      "text/plain": [
       "| 2         | 29500    | 14368.981786 | 0.895153          |                     | 5.028051        |"
      ]
     },
     "metadata": {},
     "output_type": "display_data"
    },
    {
     "data": {
      "text/html": [
       "<pre>| 2         | 29600    | 14389.299126 | 0.895203          |                     | 4.921904        |</pre>"
      ],
      "text/plain": [
       "| 2         | 29600    | 14389.299126 | 0.895203          |                     | 4.921904        |"
      ]
     },
     "metadata": {},
     "output_type": "display_data"
    },
    {
     "data": {
      "text/html": [
       "<pre>| 2         | 29700    | 14409.506476 | 0.895151          |                     | 4.948696        |</pre>"
      ],
      "text/plain": [
       "| 2         | 29700    | 14409.506476 | 0.895151          |                     | 4.948696        |"
      ]
     },
     "metadata": {},
     "output_type": "display_data"
    },
    {
     "data": {
      "text/html": [
       "<pre>| 2         | 29800    | 14430.052684 | 0.895235          |                     | 4.867078        |</pre>"
      ],
      "text/plain": [
       "| 2         | 29800    | 14430.052684 | 0.895235          |                     | 4.867078        |"
      ]
     },
     "metadata": {},
     "output_type": "display_data"
    },
    {
     "data": {
      "text/html": [
       "<pre>| 2         | 29900    | 14450.596095 | 0.895451          |                     | 4.867745        |</pre>"
      ],
      "text/plain": [
       "| 2         | 29900    | 14450.596095 | 0.895451          |                     | 4.867745        |"
      ]
     },
     "metadata": {},
     "output_type": "display_data"
    },
    {
     "data": {
      "text/html": [
       "<pre>| 2         | 30000    | 14471.735735 | 0.895633          |                     | 4.730447        |</pre>"
      ],
      "text/plain": [
       "| 2         | 30000    | 14471.735735 | 0.895633          |                     | 4.730447        |"
      ]
     },
     "metadata": {},
     "output_type": "display_data"
    },
    {
     "data": {
      "text/html": [
       "<pre>| 2         | 30100    | 14493.832931 | 0.895880          |                     | 4.525459        |</pre>"
      ],
      "text/plain": [
       "| 2         | 30100    | 14493.832931 | 0.895880          |                     | 4.525459        |"
      ]
     },
     "metadata": {},
     "output_type": "display_data"
    },
    {
     "data": {
      "text/html": [
       "<pre>| 2         | 30200    | 14515.535821 | 0.895894          |                     | 4.607680        |</pre>"
      ],
      "text/plain": [
       "| 2         | 30200    | 14515.535821 | 0.895894          |                     | 4.607680        |"
      ]
     },
     "metadata": {},
     "output_type": "display_data"
    },
    {
     "data": {
      "text/html": [
       "<pre>| 2         | 30300    | 14537.475398 | 0.895875          |                     | 4.557973        |</pre>"
      ],
      "text/plain": [
       "| 2         | 30300    | 14537.475398 | 0.895875          |                     | 4.557973        |"
      ]
     },
     "metadata": {},
     "output_type": "display_data"
    },
    {
     "data": {
      "text/html": [
       "<pre>| 2         | 30400    | 14557.775238 | 0.895921          |                     | 4.926148        |</pre>"
      ],
      "text/plain": [
       "| 2         | 30400    | 14557.775238 | 0.895921          |                     | 4.926148        |"
      ]
     },
     "metadata": {},
     "output_type": "display_data"
    },
    {
     "data": {
      "text/html": [
       "<pre>| 2         | 30500    | 14578.197864 | 0.895967          |                     | 4.896534        |</pre>"
      ],
      "text/plain": [
       "| 2         | 30500    | 14578.197864 | 0.895967          |                     | 4.896534        |"
      ]
     },
     "metadata": {},
     "output_type": "display_data"
    },
    {
     "data": {
      "text/html": [
       "<pre>| 2         | 30600    | 14598.578056 | 0.896046          |                     | 4.906724        |</pre>"
      ],
      "text/plain": [
       "| 2         | 30600    | 14598.578056 | 0.896046          |                     | 4.906724        |"
      ]
     },
     "metadata": {},
     "output_type": "display_data"
    },
    {
     "data": {
      "text/html": [
       "<pre>| 2         | 30700    | 14620.044671 | 0.896222          |                     | 4.658392        |</pre>"
      ],
      "text/plain": [
       "| 2         | 30700    | 14620.044671 | 0.896222          |                     | 4.658392        |"
      ]
     },
     "metadata": {},
     "output_type": "display_data"
    },
    {
     "data": {
      "text/html": [
       "<pre>| 2         | 30800    | 14641.921653 | 0.896364          |                     | 4.571015        |</pre>"
      ],
      "text/plain": [
       "| 2         | 30800    | 14641.921653 | 0.896364          |                     | 4.571015        |"
      ]
     },
     "metadata": {},
     "output_type": "display_data"
    },
    {
     "data": {
      "text/html": [
       "<pre>| 2         | 30900    | 14662.171197 | 0.896537          |                     | 4.938385        |</pre>"
      ],
      "text/plain": [
       "| 2         | 30900    | 14662.171197 | 0.896537          |                     | 4.938385        |"
      ]
     },
     "metadata": {},
     "output_type": "display_data"
    },
    {
     "data": {
      "text/html": [
       "<pre>| 2         | 31000    | 14682.587585 | 0.896645          |                     | 4.898025        |</pre>"
      ],
      "text/plain": [
       "| 2         | 31000    | 14682.587585 | 0.896645          |                     | 4.898025        |"
      ]
     },
     "metadata": {},
     "output_type": "display_data"
    },
    {
     "data": {
      "text/html": [
       "<pre>| 2         | 31100    | 14706.086697 | 0.896592          |                     | 4.255485        |</pre>"
      ],
      "text/plain": [
       "| 2         | 31100    | 14706.086697 | 0.896592          |                     | 4.255485        |"
      ]
     },
     "metadata": {},
     "output_type": "display_data"
    },
    {
     "data": {
      "text/html": [
       "<pre>| 2         | 31200    | 14726.082976 | 0.896506          |                     | 5.000927        |</pre>"
      ],
      "text/plain": [
       "| 2         | 31200    | 14726.082976 | 0.896506          |                     | 5.000927        |"
      ]
     },
     "metadata": {},
     "output_type": "display_data"
    },
    {
     "data": {
      "text/html": [
       "<pre>| 2         | 31300    | 14746.948163 | 0.896645          |                     | 4.792669        |</pre>"
      ],
      "text/plain": [
       "| 2         | 31300    | 14746.948163 | 0.896645          |                     | 4.792669        |"
      ]
     },
     "metadata": {},
     "output_type": "display_data"
    },
    {
     "data": {
      "text/html": [
       "<pre>| 2         | 31400    | 14766.869981 | 0.896688          |                     | 5.019621        |</pre>"
      ],
      "text/plain": [
       "| 2         | 31400    | 14766.869981 | 0.896688          |                     | 5.019621        |"
      ]
     },
     "metadata": {},
     "output_type": "display_data"
    },
    {
     "data": {
      "text/html": [
       "<pre>| 2         | 31500    | 14787.060403 | 0.896825          |                     | 4.952844        |</pre>"
      ],
      "text/plain": [
       "| 2         | 31500    | 14787.060403 | 0.896825          |                     | 4.952844        |"
      ]
     },
     "metadata": {},
     "output_type": "display_data"
    },
    {
     "data": {
      "text/html": [
       "<pre>| 2         | 31600    | 14807.416049 | 0.896930          |                     | 4.912642        |</pre>"
      ],
      "text/plain": [
       "| 2         | 31600    | 14807.416049 | 0.896930          |                     | 4.912642        |"
      ]
     },
     "metadata": {},
     "output_type": "display_data"
    },
    {
     "data": {
      "text/html": [
       "<pre>| 2         | 31700    | 14828.958656 | 0.896845          |                     | 4.641965        |</pre>"
      ],
      "text/plain": [
       "| 2         | 31700    | 14828.958656 | 0.896845          |                     | 4.641965        |"
      ]
     },
     "metadata": {},
     "output_type": "display_data"
    },
    {
     "data": {
      "text/html": [
       "<pre>| 2         | 31800    | 14849.691496 | 0.897013          |                     | 4.823268        |</pre>"
      ],
      "text/plain": [
       "| 2         | 31800    | 14849.691496 | 0.897013          |                     | 4.823268        |"
      ]
     },
     "metadata": {},
     "output_type": "display_data"
    },
    {
     "data": {
      "text/html": [
       "<pre>| 2         | 31900    | 14870.212889 | 0.897022          |                     | 4.872962        |</pre>"
      ],
      "text/plain": [
       "| 2         | 31900    | 14870.212889 | 0.897022          |                     | 4.872962        |"
      ]
     },
     "metadata": {},
     "output_type": "display_data"
    },
    {
     "data": {
      "text/html": [
       "<pre>| 2         | 32000    | 14890.363342 | 0.897250          |                     | 4.962666        |</pre>"
      ],
      "text/plain": [
       "| 2         | 32000    | 14890.363342 | 0.897250          |                     | 4.962666        |"
      ]
     },
     "metadata": {},
     "output_type": "display_data"
    },
    {
     "data": {
      "text/html": [
       "<pre>| 2         | 32100    | 14910.728069 | 0.897227          |                     | 4.910450        |</pre>"
      ],
      "text/plain": [
       "| 2         | 32100    | 14910.728069 | 0.897227          |                     | 4.910450        |"
      ]
     },
     "metadata": {},
     "output_type": "display_data"
    },
    {
     "data": {
      "text/html": [
       "<pre>| 2         | 32200    | 14931.450349 | 0.897205          |                     | 4.825725        |</pre>"
      ],
      "text/plain": [
       "| 2         | 32200    | 14931.450349 | 0.897205          |                     | 4.825725        |"
      ]
     },
     "metadata": {},
     "output_type": "display_data"
    },
    {
     "data": {
      "text/html": [
       "<pre>| 2         | 32300    | 14951.714093 | 0.897183          |                     | 4.934923        |</pre>"
      ],
      "text/plain": [
       "| 2         | 32300    | 14951.714093 | 0.897183          |                     | 4.934923        |"
      ]
     },
     "metadata": {},
     "output_type": "display_data"
    },
    {
     "data": {
      "text/html": [
       "<pre>| 2         | 32400    | 14972.540974 | 0.897315          |                     | 4.801492        |</pre>"
      ],
      "text/plain": [
       "| 2         | 32400    | 14972.540974 | 0.897315          |                     | 4.801492        |"
      ]
     },
     "metadata": {},
     "output_type": "display_data"
    },
    {
     "data": {
      "text/html": [
       "<pre>| 2         | 32500    | 14993.047418 | 0.897508          |                     | 4.876510        |</pre>"
      ],
      "text/plain": [
       "| 2         | 32500    | 14993.047418 | 0.897508          |                     | 4.876510        |"
      ]
     },
     "metadata": {},
     "output_type": "display_data"
    },
    {
     "data": {
      "text/html": [
       "<pre>| 2         | 32600    | 15013.136259 | 0.897638          |                     | 4.977888        |</pre>"
      ],
      "text/plain": [
       "| 2         | 32600    | 15013.136259 | 0.897638          |                     | 4.977888        |"
      ]
     },
     "metadata": {},
     "output_type": "display_data"
    },
    {
     "data": {
      "text/html": [
       "<pre>| 2         | 32700    | 15034.703160 | 0.897584          |                     | 4.636734        |</pre>"
      ],
      "text/plain": [
       "| 2         | 32700    | 15034.703160 | 0.897584          |                     | 4.636734        |"
      ]
     },
     "metadata": {},
     "output_type": "display_data"
    },
    {
     "data": {
      "text/html": [
       "<pre>| 2         | 32800    | 15056.795831 | 0.897591          |                     | 4.526388        |</pre>"
      ],
      "text/plain": [
       "| 2         | 32800    | 15056.795831 | 0.897591          |                     | 4.526388        |"
      ]
     },
     "metadata": {},
     "output_type": "display_data"
    },
    {
     "data": {
      "text/html": [
       "<pre>| 2         | 32900    | 15078.182976 | 0.897660          |                     | 4.675706        |</pre>"
      ],
      "text/plain": [
       "| 2         | 32900    | 15078.182976 | 0.897660          |                     | 4.675706        |"
      ]
     },
     "metadata": {},
     "output_type": "display_data"
    },
    {
     "data": {
      "text/html": [
       "<pre>| 2         | 33000    | 15099.780552 | 0.897636          |                     | 4.630155        |</pre>"
      ],
      "text/plain": [
       "| 2         | 33000    | 15099.780552 | 0.897636          |                     | 4.630155        |"
      ]
     },
     "metadata": {},
     "output_type": "display_data"
    },
    {
     "data": {
      "text/html": [
       "<pre>| 2         | 33100    | 15121.690644 | 0.897764          |                     | 4.564102        |</pre>"
      ],
      "text/plain": [
       "| 2         | 33100    | 15121.690644 | 0.897764          |                     | 4.564102        |"
      ]
     },
     "metadata": {},
     "output_type": "display_data"
    },
    {
     "data": {
      "text/html": [
       "<pre>| 2         | 33200    | 15143.417058 | 0.897982          |                     | 4.602692        |</pre>"
      ],
      "text/plain": [
       "| 2         | 33200    | 15143.417058 | 0.897982          |                     | 4.602692        |"
      ]
     },
     "metadata": {},
     "output_type": "display_data"
    },
    {
     "data": {
      "text/html": [
       "<pre>| 2         | 33300    | 15168.552963 | 0.897958          |                     | 3.978374        |</pre>"
      ],
      "text/plain": [
       "| 2         | 33300    | 15168.552963 | 0.897958          |                     | 3.978374        |"
      ]
     },
     "metadata": {},
     "output_type": "display_data"
    },
    {
     "data": {
      "text/html": [
       "<pre>| 2         | 33400    | 15188.861020 | 0.898054          |                     | 4.924153        |</pre>"
      ],
      "text/plain": [
       "| 2         | 33400    | 15188.861020 | 0.898054          |                     | 4.924153        |"
      ]
     },
     "metadata": {},
     "output_type": "display_data"
    },
    {
     "data": {
      "text/html": [
       "<pre>| 2         | 33500    | 15209.133384 | 0.898119          |                     | 4.932824        |</pre>"
      ],
      "text/plain": [
       "| 2         | 33500    | 15209.133384 | 0.898119          |                     | 4.932824        |"
      ]
     },
     "metadata": {},
     "output_type": "display_data"
    },
    {
     "data": {
      "text/html": [
       "<pre>| 2         | 33600    | 15231.269754 | 0.898095          |                     | 4.517457        |</pre>"
      ],
      "text/plain": [
       "| 2         | 33600    | 15231.269754 | 0.898095          |                     | 4.517457        |"
      ]
     },
     "metadata": {},
     "output_type": "display_data"
    },
    {
     "data": {
      "text/html": [
       "<pre>| 2         | 33700    | 15253.396837 | 0.898131          |                     | 4.519345        |</pre>"
      ],
      "text/plain": [
       "| 2         | 33700    | 15253.396837 | 0.898131          |                     | 4.519345        |"
      ]
     },
     "metadata": {},
     "output_type": "display_data"
    },
    {
     "data": {
      "text/html": [
       "<pre>| 2         | 33800    | 15273.385538 | 0.898284          |                     | 5.002824        |</pre>"
      ],
      "text/plain": [
       "| 2         | 33800    | 15273.385538 | 0.898284          |                     | 5.002824        |"
      ]
     },
     "metadata": {},
     "output_type": "display_data"
    },
    {
     "data": {
      "text/html": [
       "<pre>| 2         | 33900    | 15293.602952 | 0.898289          |                     | 4.946232        |</pre>"
      ],
      "text/plain": [
       "| 2         | 33900    | 15293.602952 | 0.898289          |                     | 4.946232        |"
      ]
     },
     "metadata": {},
     "output_type": "display_data"
    },
    {
     "data": {
      "text/html": [
       "<pre>| 2         | 34000    | 15313.808038 | 0.898324          |                     | 4.949249        |</pre>"
      ],
      "text/plain": [
       "| 2         | 34000    | 15313.808038 | 0.898324          |                     | 4.949249        |"
      ]
     },
     "metadata": {},
     "output_type": "display_data"
    },
    {
     "data": {
      "text/html": [
       "<pre>| 2         | 34100    | 15334.278993 | 0.898416          |                     | 4.884971        |</pre>"
      ],
      "text/plain": [
       "| 2         | 34100    | 15334.278993 | 0.898416          |                     | 4.884971        |"
      ]
     },
     "metadata": {},
     "output_type": "display_data"
    },
    {
     "data": {
      "text/html": [
       "<pre>| 2         | 34200    | 15355.692938 | 0.898567          |                     | 4.669856        |</pre>"
      ],
      "text/plain": [
       "| 2         | 34200    | 15355.692938 | 0.898567          |                     | 4.669856        |"
      ]
     },
     "metadata": {},
     "output_type": "display_data"
    },
    {
     "data": {
      "text/html": [
       "<pre>| 2         | 34300    | 15376.493060 | 0.898630          |                     | 4.807663        |</pre>"
      ],
      "text/plain": [
       "| 2         | 34300    | 15376.493060 | 0.898630          |                     | 4.807663        |"
      ]
     },
     "metadata": {},
     "output_type": "display_data"
    },
    {
     "data": {
      "text/html": [
       "<pre>| 2         | 34400    | 15396.985823 | 0.898750          |                     | 4.879770        |</pre>"
      ],
      "text/plain": [
       "| 2         | 34400    | 15396.985823 | 0.898750          |                     | 4.879770        |"
      ]
     },
     "metadata": {},
     "output_type": "display_data"
    },
    {
     "data": {
      "text/html": [
       "<pre>| 2         | 34500    | 15416.974072 | 0.898725          |                     | 5.002937        |</pre>"
      ],
      "text/plain": [
       "| 2         | 34500    | 15416.974072 | 0.898725          |                     | 5.002937        |"
      ]
     },
     "metadata": {},
     "output_type": "display_data"
    },
    {
     "data": {
      "text/html": [
       "<pre>| 2         | 34600    | 15437.328045 | 0.898844          |                     | 4.913047        |</pre>"
      ],
      "text/plain": [
       "| 2         | 34600    | 15437.328045 | 0.898844          |                     | 4.913047        |"
      ]
     },
     "metadata": {},
     "output_type": "display_data"
    },
    {
     "data": {
      "text/html": [
       "<pre>| 2         | 34700    | 15457.501126 | 0.898963          |                     | 4.957101        |</pre>"
      ],
      "text/plain": [
       "| 2         | 34700    | 15457.501126 | 0.898963          |                     | 4.957101        |"
      ]
     },
     "metadata": {},
     "output_type": "display_data"
    },
    {
     "data": {
      "text/html": [
       "<pre>| 2         | 34800    | 15477.556595 | 0.898908          |                     | 4.986174        |</pre>"
      ],
      "text/plain": [
       "| 2         | 34800    | 15477.556595 | 0.898908          |                     | 4.986174        |"
      ]
     },
     "metadata": {},
     "output_type": "display_data"
    },
    {
     "data": {
      "text/html": [
       "<pre>| 2         | 34900    | 15497.865917 | 0.899054          |                     | 4.923846        |</pre>"
      ],
      "text/plain": [
       "| 2         | 34900    | 15497.865917 | 0.899054          |                     | 4.923846        |"
      ]
     },
     "metadata": {},
     "output_type": "display_data"
    },
    {
     "data": {
      "text/html": [
       "<pre>| 2         | 35000    | 15518.073372 | 0.899114          |                     | 4.948665        |</pre>"
      ],
      "text/plain": [
       "| 2         | 35000    | 15518.073372 | 0.899114          |                     | 4.948665        |"
      ]
     },
     "metadata": {},
     "output_type": "display_data"
    },
    {
     "data": {
      "text/html": [
       "<pre>| 2         | 35100    | 15543.363552 | 0.899060          |                     | 3.954104        |</pre>"
      ],
      "text/plain": [
       "| 2         | 35100    | 15543.363552 | 0.899060          |                     | 3.954104        |"
      ]
     },
     "metadata": {},
     "output_type": "display_data"
    },
    {
     "data": {
      "text/html": [
       "<pre>| 2         | 35200    | 15564.074960 | 0.899148          |                     | 4.828257        |</pre>"
      ],
      "text/plain": [
       "| 2         | 35200    | 15564.074960 | 0.899148          |                     | 4.828257        |"
      ]
     },
     "metadata": {},
     "output_type": "display_data"
    },
    {
     "data": {
      "text/html": [
       "<pre>| 2         | 35300    | 15584.135246 | 0.899065          |                     | 4.984974        |</pre>"
      ],
      "text/plain": [
       "| 2         | 35300    | 15584.135246 | 0.899065          |                     | 4.984974        |"
      ]
     },
     "metadata": {},
     "output_type": "display_data"
    },
    {
     "data": {
      "text/html": [
       "<pre>| 2         | 35400    | 15604.503802 | 0.899096          |                     | 4.909533        |</pre>"
      ],
      "text/plain": [
       "| 2         | 35400    | 15604.503802 | 0.899096          |                     | 4.909533        |"
      ]
     },
     "metadata": {},
     "output_type": "display_data"
    },
    {
     "data": {
      "text/html": [
       "<pre>| 2         | 35500    | 15625.140059 | 0.899183          |                     | 4.845840        |</pre>"
      ],
      "text/plain": [
       "| 2         | 35500    | 15625.140059 | 0.899183          |                     | 4.845840        |"
      ]
     },
     "metadata": {},
     "output_type": "display_data"
    },
    {
     "data": {
      "text/html": [
       "<pre>| 2         | 35600    | 15645.435065 | 0.899298          |                     | 4.927317        |</pre>"
      ],
      "text/plain": [
       "| 2         | 35600    | 15645.435065 | 0.899298          |                     | 4.927317        |"
      ]
     },
     "metadata": {},
     "output_type": "display_data"
    },
    {
     "data": {
      "text/html": [
       "<pre>| 2         | 35700    | 15665.830714 | 0.899440          |                     | 4.903007        |</pre>"
      ],
      "text/plain": [
       "| 2         | 35700    | 15665.830714 | 0.899440          |                     | 4.903007        |"
      ]
     },
     "metadata": {},
     "output_type": "display_data"
    },
    {
     "data": {
      "text/html": [
       "<pre>| 2         | 35800    | 15685.952291 | 0.899497          |                     | 4.969789        |</pre>"
      ],
      "text/plain": [
       "| 2         | 35800    | 15685.952291 | 0.899497          |                     | 4.969789        |"
      ]
     },
     "metadata": {},
     "output_type": "display_data"
    },
    {
     "data": {
      "text/html": [
       "<pre>| 2         | 35900    | 15706.522696 | 0.899582          |                     | 4.861355        |</pre>"
      ],
      "text/plain": [
       "| 2         | 35900    | 15706.522696 | 0.899582          |                     | 4.861355        |"
      ]
     },
     "metadata": {},
     "output_type": "display_data"
    },
    {
     "data": {
      "text/html": [
       "<pre>| 2         | 36000    | 15727.500505 | 0.899694          |                     | 4.766942        |</pre>"
      ],
      "text/plain": [
       "| 2         | 36000    | 15727.500505 | 0.899694          |                     | 4.766942        |"
      ]
     },
     "metadata": {},
     "output_type": "display_data"
    },
    {
     "data": {
      "text/html": [
       "<pre>| 2         | 36100    | 15747.596073 | 0.899778          |                     | 4.976226        |</pre>"
      ],
      "text/plain": [
       "| 2         | 36100    | 15747.596073 | 0.899778          |                     | 4.976226        |"
      ]
     },
     "metadata": {},
     "output_type": "display_data"
    },
    {
     "data": {
      "text/html": [
       "<pre>| 2         | 36200    | 15767.681336 | 0.899807          |                     | 4.978770        |</pre>"
      ],
      "text/plain": [
       "| 2         | 36200    | 15767.681336 | 0.899807          |                     | 4.978770        |"
      ]
     },
     "metadata": {},
     "output_type": "display_data"
    },
    {
     "data": {
      "text/html": [
       "<pre>| 2         | 36300    | 15788.194643 | 0.899945          |                     | 4.874883        |</pre>"
      ],
      "text/plain": [
       "| 2         | 36300    | 15788.194643 | 0.899945          |                     | 4.874883        |"
      ]
     },
     "metadata": {},
     "output_type": "display_data"
    },
    {
     "data": {
      "text/html": [
       "<pre>| 2         | 36400    | 15808.410991 | 0.899945          |                     | 4.946492        |</pre>"
      ],
      "text/plain": [
       "| 2         | 36400    | 15808.410991 | 0.899945          |                     | 4.946492        |"
      ]
     },
     "metadata": {},
     "output_type": "display_data"
    },
    {
     "data": {
      "text/html": [
       "<pre>| 2         | 36500    | 15829.588885 | 0.899973          |                     | 4.721905        |</pre>"
      ],
      "text/plain": [
       "| 2         | 36500    | 15829.588885 | 0.899973          |                     | 4.721905        |"
      ]
     },
     "metadata": {},
     "output_type": "display_data"
    },
    {
     "data": {
      "text/html": [
       "<pre>| 2         | 36600    | 15849.900065 | 0.900137          |                     | 4.923397        |</pre>"
      ],
      "text/plain": [
       "| 2         | 36600    | 15849.900065 | 0.900137          |                     | 4.923397        |"
      ]
     },
     "metadata": {},
     "output_type": "display_data"
    },
    {
     "data": {
      "text/html": [
       "<pre>| 2         | 36700    | 15869.931346 | 0.900245          |                     | 4.992197        |</pre>"
      ],
      "text/plain": [
       "| 2         | 36700    | 15869.931346 | 0.900245          |                     | 4.992197        |"
      ]
     },
     "metadata": {},
     "output_type": "display_data"
    },
    {
     "data": {
      "text/html": [
       "<pre>| 2         | 36800    | 15890.011944 | 0.900353          |                     | 4.979928        |</pre>"
      ],
      "text/plain": [
       "| 2         | 36800    | 15890.011944 | 0.900353          |                     | 4.979928        |"
      ]
     },
     "metadata": {},
     "output_type": "display_data"
    },
    {
     "data": {
      "text/html": [
       "<pre>| 2         | 36900    | 15910.134488 | 0.900434          |                     | 4.969550        |</pre>"
      ],
      "text/plain": [
       "| 2         | 36900    | 15910.134488 | 0.900434          |                     | 4.969550        |"
      ]
     },
     "metadata": {},
     "output_type": "display_data"
    },
    {
     "data": {
      "text/html": [
       "<pre>| 2         | 37000    | 15930.448768 | 0.900405          |                     | 4.922645        |</pre>"
      ],
      "text/plain": [
       "| 2         | 37000    | 15930.448768 | 0.900405          |                     | 4.922645        |"
      ]
     },
     "metadata": {},
     "output_type": "display_data"
    },
    {
     "data": {
      "text/html": [
       "<pre>| 2         | 37100    | 15950.916258 | 0.900323          |                     | 4.885798        |</pre>"
      ],
      "text/plain": [
       "| 2         | 37100    | 15950.916258 | 0.900323          |                     | 4.885798        |"
      ]
     },
     "metadata": {},
     "output_type": "display_data"
    },
    {
     "data": {
      "text/html": [
       "<pre>| 2         | 37200    | 15972.370207 | 0.900376          |                     | 4.661147        |</pre>"
      ],
      "text/plain": [
       "| 2         | 37200    | 15972.370207 | 0.900376          |                     | 4.661147        |"
      ]
     },
     "metadata": {},
     "output_type": "display_data"
    },
    {
     "data": {
      "text/html": [
       "<pre>| 2         | 37300    | 15992.897730 | 0.900402          |                     | 4.871513        |</pre>"
      ],
      "text/plain": [
       "| 2         | 37300    | 15992.897730 | 0.900402          |                     | 4.871513        |"
      ]
     },
     "metadata": {},
     "output_type": "display_data"
    },
    {
     "data": {
      "text/html": [
       "<pre>| 2         | 37400    | 16014.509265 | 0.900562          |                     | 4.627154        |</pre>"
      ],
      "text/plain": [
       "| 2         | 37400    | 16014.509265 | 0.900562          |                     | 4.627154        |"
      ]
     },
     "metadata": {},
     "output_type": "display_data"
    },
    {
     "data": {
      "text/html": [
       "<pre>| 2         | 37400    | 16149.869574 | 0.900562          | 0.960983            | 4.627154        |</pre>"
      ],
      "text/plain": [
       "| 2         | 37400    | 16149.869574 | 0.900562          | 0.960983            | 4.627154        |"
      ]
     },
     "metadata": {},
     "output_type": "display_data"
    },
    {
     "data": {
      "text/html": [
       "<pre>Checkpointing model into rep IDSIA by 3 conv graphlab net - train in 3 iter</pre>"
      ],
      "text/plain": [
       "Checkpointing model into rep IDSIA by 3 conv graphlab net - train in 3 iter"
      ]
     },
     "metadata": {},
     "output_type": "display_data"
    },
    {
     "data": {
      "text/html": [
       "<pre>| 3         | 100      | 16170.341075 | 0.900000          |                     | 4.884916        |</pre>"
      ],
      "text/plain": [
       "| 3         | 100      | 16170.341075 | 0.900000          |                     | 4.884916        |"
      ]
     },
     "metadata": {},
     "output_type": "display_data"
    },
    {
     "data": {
      "text/html": [
       "<pre>| 3         | 200      | 16190.412728 | 0.920000          |                     | 4.982145        |</pre>"
      ],
      "text/plain": [
       "| 3         | 200      | 16190.412728 | 0.920000          |                     | 4.982145        |"
      ]
     },
     "metadata": {},
     "output_type": "display_data"
    },
    {
     "data": {
      "text/html": [
       "<pre>| 3         | 300      | 16215.054180 | 0.933333          |                     | 4.058202        |</pre>"
      ],
      "text/plain": [
       "| 3         | 300      | 16215.054180 | 0.933333          |                     | 4.058202        |"
      ]
     },
     "metadata": {},
     "output_type": "display_data"
    },
    {
     "data": {
      "text/html": [
       "<pre>| 3         | 400      | 16245.880284 | 0.932500          |                     | 3.244006        |</pre>"
      ],
      "text/plain": [
       "| 3         | 400      | 16245.880284 | 0.932500          |                     | 3.244006        |"
      ]
     },
     "metadata": {},
     "output_type": "display_data"
    },
    {
     "data": {
      "text/html": [
       "<pre>| 3         | 500      | 16278.888597 | 0.934000          |                     | 3.029541        |</pre>"
      ],
      "text/plain": [
       "| 3         | 500      | 16278.888597 | 0.934000          |                     | 3.029541        |"
      ]
     },
     "metadata": {},
     "output_type": "display_data"
    },
    {
     "data": {
      "text/html": [
       "<pre>| 3         | 600      | 16307.721668 | 0.928333          |                     | 3.468237        |</pre>"
      ],
      "text/plain": [
       "| 3         | 600      | 16307.721668 | 0.928333          |                     | 3.468237        |"
      ]
     },
     "metadata": {},
     "output_type": "display_data"
    },
    {
     "data": {
      "text/html": [
       "<pre>| 3         | 700      | 16341.071796 | 0.927143          |                     | 2.998489        |</pre>"
      ],
      "text/plain": [
       "| 3         | 700      | 16341.071796 | 0.927143          |                     | 2.998489        |"
      ]
     },
     "metadata": {},
     "output_type": "display_data"
    },
    {
     "data": {
      "text/html": [
       "<pre>| 3         | 800      | 16369.890951 | 0.931250          |                     | 3.469914        |</pre>"
      ],
      "text/plain": [
       "| 3         | 800      | 16369.890951 | 0.931250          |                     | 3.469914        |"
      ]
     },
     "metadata": {},
     "output_type": "display_data"
    },
    {
     "data": {
      "text/html": [
       "<pre>| 3         | 900      | 16402.313641 | 0.928889          |                     | 3.084262        |</pre>"
      ],
      "text/plain": [
       "| 3         | 900      | 16402.313641 | 0.928889          |                     | 3.084262        |"
      ]
     },
     "metadata": {},
     "output_type": "display_data"
    },
    {
     "data": {
      "text/html": [
       "<pre>| 3         | 1000     | 16433.874145 | 0.932000          |                     | 3.168514        |</pre>"
      ],
      "text/plain": [
       "| 3         | 1000     | 16433.874145 | 0.932000          |                     | 3.168514        |"
      ]
     },
     "metadata": {},
     "output_type": "display_data"
    },
    {
     "data": {
      "text/html": [
       "<pre>| 3         | 1100     | 16462.994067 | 0.930909          |                     | 3.434076        |</pre>"
      ],
      "text/plain": [
       "| 3         | 1100     | 16462.994067 | 0.930909          |                     | 3.434076        |"
      ]
     },
     "metadata": {},
     "output_type": "display_data"
    },
    {
     "data": {
      "text/html": [
       "<pre>| 3         | 1200     | 16490.651713 | 0.927500          |                     | 3.615660        |</pre>"
      ],
      "text/plain": [
       "| 3         | 1200     | 16490.651713 | 0.927500          |                     | 3.615660        |"
      ]
     },
     "metadata": {},
     "output_type": "display_data"
    },
    {
     "data": {
      "text/html": [
       "<pre>| 3         | 1300     | 16531.912224 | 0.930000          |                     | 2.423616        |</pre>"
      ],
      "text/plain": [
       "| 3         | 1300     | 16531.912224 | 0.930000          |                     | 2.423616        |"
      ]
     },
     "metadata": {},
     "output_type": "display_data"
    },
    {
     "data": {
      "text/html": [
       "<pre>| 3         | 1400     | 16561.063412 | 0.927143          |                     | 3.430388        |</pre>"
      ],
      "text/plain": [
       "| 3         | 1400     | 16561.063412 | 0.927143          |                     | 3.430388        |"
      ]
     },
     "metadata": {},
     "output_type": "display_data"
    },
    {
     "data": {
      "text/html": [
       "<pre>| 3         | 1500     | 16590.002528 | 0.924667          |                     | 3.455530        |</pre>"
      ],
      "text/plain": [
       "| 3         | 1500     | 16590.002528 | 0.924667          |                     | 3.455530        |"
      ]
     },
     "metadata": {},
     "output_type": "display_data"
    },
    {
     "data": {
      "text/html": [
       "<pre>| 3         | 1600     | 16618.450113 | 0.921875          |                     | 3.515238        |</pre>"
      ],
      "text/plain": [
       "| 3         | 1600     | 16618.450113 | 0.921875          |                     | 3.515238        |"
      ]
     },
     "metadata": {},
     "output_type": "display_data"
    },
    {
     "data": {
      "text/html": [
       "<pre>| 3         | 1700     | 16649.510150 | 0.923529          |                     | 3.219573        |</pre>"
      ],
      "text/plain": [
       "| 3         | 1700     | 16649.510150 | 0.923529          |                     | 3.219573        |"
      ]
     },
     "metadata": {},
     "output_type": "display_data"
    },
    {
     "data": {
      "text/html": [
       "<pre>| 3         | 1800     | 16680.096998 | 0.922778          |                     | 3.269377        |</pre>"
      ],
      "text/plain": [
       "| 3         | 1800     | 16680.096998 | 0.922778          |                     | 3.269377        |"
      ]
     },
     "metadata": {},
     "output_type": "display_data"
    },
    {
     "data": {
      "text/html": [
       "<pre>| 3         | 1900     | 16710.983861 | 0.921579          |                     | 3.237622        |</pre>"
      ],
      "text/plain": [
       "| 3         | 1900     | 16710.983861 | 0.921579          |                     | 3.237622        |"
      ]
     },
     "metadata": {},
     "output_type": "display_data"
    },
    {
     "data": {
      "text/html": [
       "<pre>| 3         | 2000     | 16745.576045 | 0.923500          |                     | 2.890827        |</pre>"
      ],
      "text/plain": [
       "| 3         | 2000     | 16745.576045 | 0.923500          |                     | 2.890827        |"
      ]
     },
     "metadata": {},
     "output_type": "display_data"
    },
    {
     "data": {
      "text/html": [
       "<pre>| 3         | 2100     | 16778.695326 | 0.925238          |                     | 3.019391        |</pre>"
      ],
      "text/plain": [
       "| 3         | 2100     | 16778.695326 | 0.925238          |                     | 3.019391        |"
      ]
     },
     "metadata": {},
     "output_type": "display_data"
    },
    {
     "data": {
      "text/html": [
       "<pre>| 3         | 2200     | 16807.605464 | 0.924545          |                     | 3.458992        |</pre>"
      ],
      "text/plain": [
       "| 3         | 2200     | 16807.605464 | 0.924545          |                     | 3.458992        |"
      ]
     },
     "metadata": {},
     "output_type": "display_data"
    },
    {
     "data": {
      "text/html": [
       "<pre>| 3         | 2300     | 16836.384647 | 0.923043          |                     | 3.474733        |</pre>"
      ],
      "text/plain": [
       "| 3         | 2300     | 16836.384647 | 0.923043          |                     | 3.474733        |"
      ]
     },
     "metadata": {},
     "output_type": "display_data"
    },
    {
     "data": {
      "text/html": [
       "<pre>| 3         | 2400     | 16866.219683 | 0.924583          |                     | 3.351764        |</pre>"
      ],
      "text/plain": [
       "| 3         | 2400     | 16866.219683 | 0.924583          |                     | 3.351764        |"
      ]
     },
     "metadata": {},
     "output_type": "display_data"
    },
    {
     "data": {
      "text/html": [
       "<pre>| 3         | 2500     | 16896.739196 | 0.925200          |                     | 3.276594        |</pre>"
      ],
      "text/plain": [
       "| 3         | 2500     | 16896.739196 | 0.925200          |                     | 3.276594        |"
      ]
     },
     "metadata": {},
     "output_type": "display_data"
    },
    {
     "data": {
      "text/html": [
       "<pre>| 3         | 2600     | 16924.826296 | 0.925385          |                     | 3.560351        |</pre>"
      ],
      "text/plain": [
       "| 3         | 2600     | 16924.826296 | 0.925385          |                     | 3.560351        |"
      ]
     },
     "metadata": {},
     "output_type": "display_data"
    },
    {
     "data": {
      "text/html": [
       "<pre>| 3         | 2700     | 16955.623859 | 0.926296          |                     | 3.247009        |</pre>"
      ],
      "text/plain": [
       "| 3         | 2700     | 16955.623859 | 0.926296          |                     | 3.247009        |"
      ]
     },
     "metadata": {},
     "output_type": "display_data"
    },
    {
     "data": {
      "text/html": [
       "<pre>| 3         | 2800     | 16986.278746 | 0.925714          |                     | 3.262123        |</pre>"
      ],
      "text/plain": [
       "| 3         | 2800     | 16986.278746 | 0.925714          |                     | 3.262123        |"
      ]
     },
     "metadata": {},
     "output_type": "display_data"
    },
    {
     "data": {
      "text/html": [
       "<pre>| 3         | 2900     | 17018.472372 | 0.923103          |                     | 3.106207        |</pre>"
      ],
      "text/plain": [
       "| 3         | 2900     | 17018.472372 | 0.923103          |                     | 3.106207        |"
      ]
     },
     "metadata": {},
     "output_type": "display_data"
    },
    {
     "data": {
      "text/html": [
       "<pre>| 3         | 3000     | 17048.300255 | 0.923000          |                     | 3.352567        |</pre>"
      ],
      "text/plain": [
       "| 3         | 3000     | 17048.300255 | 0.923000          |                     | 3.352567        |"
      ]
     },
     "metadata": {},
     "output_type": "display_data"
    },
    {
     "data": {
      "text/html": [
       "<pre>| 3         | 3100     | 17076.707900 | 0.922581          |                     | 3.520178        |</pre>"
      ],
      "text/plain": [
       "| 3         | 3100     | 17076.707900 | 0.922581          |                     | 3.520178        |"
      ]
     },
     "metadata": {},
     "output_type": "display_data"
    },
    {
     "data": {
      "text/html": [
       "<pre>| 3         | 3200     | 17114.135517 | 0.922813          |                     | 2.671824        |</pre>"
      ],
      "text/plain": [
       "| 3         | 3200     | 17114.135517 | 0.922813          |                     | 2.671824        |"
      ]
     },
     "metadata": {},
     "output_type": "display_data"
    },
    {
     "data": {
      "text/html": [
       "<pre>| 3         | 3300     | 17143.088566 | 0.922727          |                     | 3.453868        |</pre>"
      ],
      "text/plain": [
       "| 3         | 3300     | 17143.088566 | 0.922727          |                     | 3.453868        |"
      ]
     },
     "metadata": {},
     "output_type": "display_data"
    },
    {
     "data": {
      "text/html": [
       "<pre>| 3         | 3400     | 17180.795260 | 0.923235          |                     | 2.652050        |</pre>"
      ],
      "text/plain": [
       "| 3         | 3400     | 17180.795260 | 0.923235          |                     | 2.652050        |"
      ]
     },
     "metadata": {},
     "output_type": "display_data"
    },
    {
     "data": {
      "text/html": [
       "<pre>| 3         | 3500     | 17212.808667 | 0.921714          |                     | 3.123688        |</pre>"
      ],
      "text/plain": [
       "| 3         | 3500     | 17212.808667 | 0.921714          |                     | 3.123688        |"
      ]
     },
     "metadata": {},
     "output_type": "display_data"
    },
    {
     "data": {
      "text/html": [
       "<pre>| 3         | 3600     | 17245.751964 | 0.921667          |                     | 3.035519        |</pre>"
      ],
      "text/plain": [
       "| 3         | 3600     | 17245.751964 | 0.921667          |                     | 3.035519        |"
      ]
     },
     "metadata": {},
     "output_type": "display_data"
    },
    {
     "data": {
      "text/html": [
       "<pre>| 3         | 3700     | 17283.002320 | 0.921081          |                     | 2.684541        |</pre>"
      ],
      "text/plain": [
       "| 3         | 3700     | 17283.002320 | 0.921081          |                     | 2.684541        |"
      ]
     },
     "metadata": {},
     "output_type": "display_data"
    },
    {
     "data": {
      "text/html": [
       "<pre>| 3         | 3800     | 17321.798409 | 0.920789          |                     | 2.577578        |</pre>"
      ],
      "text/plain": [
       "| 3         | 3800     | 17321.798409 | 0.920789          |                     | 2.577578        |"
      ]
     },
     "metadata": {},
     "output_type": "display_data"
    },
    {
     "data": {
      "text/html": [
       "<pre>| 3         | 3900     | 17351.353217 | 0.919744          |                     | 3.383543        |</pre>"
      ],
      "text/plain": [
       "| 3         | 3900     | 17351.353217 | 0.919744          |                     | 3.383543        |"
      ]
     },
     "metadata": {},
     "output_type": "display_data"
    },
    {
     "data": {
      "text/html": [
       "<pre>| 3         | 4000     | 17380.032395 | 0.920500          |                     | 3.486850        |</pre>"
      ],
      "text/plain": [
       "| 3         | 4000     | 17380.032395 | 0.920500          |                     | 3.486850        |"
      ]
     },
     "metadata": {},
     "output_type": "display_data"
    },
    {
     "data": {
      "text/html": [
       "<pre>| 3         | 4100     | 17414.817649 | 0.920732          |                     | 2.874783        |</pre>"
      ],
      "text/plain": [
       "| 3         | 4100     | 17414.817649 | 0.920732          |                     | 2.874783        |"
      ]
     },
     "metadata": {},
     "output_type": "display_data"
    },
    {
     "data": {
      "text/html": [
       "<pre>| 3         | 4200     | 17438.994476 | 0.921429          |                     | 4.136190        |</pre>"
      ],
      "text/plain": [
       "| 3         | 4200     | 17438.994476 | 0.921429          |                     | 4.136190        |"
      ]
     },
     "metadata": {},
     "output_type": "display_data"
    },
    {
     "data": {
      "text/html": [
       "<pre>| 3         | 4300     | 17459.370109 | 0.920930          |                     | 4.907822        |</pre>"
      ],
      "text/plain": [
       "| 3         | 4300     | 17459.370109 | 0.920930          |                     | 4.907822        |"
      ]
     },
     "metadata": {},
     "output_type": "display_data"
    },
    {
     "data": {
      "text/html": [
       "<pre>| 3         | 4400     | 17479.542314 | 0.921364          |                     | 4.957315        |</pre>"
      ],
      "text/plain": [
       "| 3         | 4400     | 17479.542314 | 0.921364          |                     | 4.957315        |"
      ]
     },
     "metadata": {},
     "output_type": "display_data"
    },
    {
     "data": {
      "text/html": [
       "<pre>| 3         | 4500     | 17499.570527 | 0.922222          |                     | 4.992959        |</pre>"
      ],
      "text/plain": [
       "| 3         | 4500     | 17499.570527 | 0.922222          |                     | 4.992959        |"
      ]
     },
     "metadata": {},
     "output_type": "display_data"
    },
    {
     "data": {
      "text/html": [
       "<pre>| 3         | 4600     | 17520.216864 | 0.923261          |                     | 4.843474        |</pre>"
      ],
      "text/plain": [
       "| 3         | 4600     | 17520.216864 | 0.923261          |                     | 4.843474        |"
      ]
     },
     "metadata": {},
     "output_type": "display_data"
    },
    {
     "data": {
      "text/html": [
       "<pre>| 3         | 4700     | 17540.574990 | 0.923617          |                     | 4.912049        |</pre>"
      ],
      "text/plain": [
       "| 3         | 4700     | 17540.574990 | 0.923617          |                     | 4.912049        |"
      ]
     },
     "metadata": {},
     "output_type": "display_data"
    },
    {
     "data": {
      "text/html": [
       "<pre>| 3         | 4800     | 17560.686961 | 0.923750          |                     | 4.972159        |</pre>"
      ],
      "text/plain": [
       "| 3         | 4800     | 17560.686961 | 0.923750          |                     | 4.972159        |"
      ]
     },
     "metadata": {},
     "output_type": "display_data"
    },
    {
     "data": {
      "text/html": [
       "<pre>| 3         | 4900     | 17580.857625 | 0.923469          |                     | 4.957694        |</pre>"
      ],
      "text/plain": [
       "| 3         | 4900     | 17580.857625 | 0.923469          |                     | 4.957694        |"
      ]
     },
     "metadata": {},
     "output_type": "display_data"
    },
    {
     "data": {
      "text/html": [
       "<pre>| 3         | 5000     | 17601.043389 | 0.922800          |                     | 4.953985        |</pre>"
      ],
      "text/plain": [
       "| 3         | 5000     | 17601.043389 | 0.922800          |                     | 4.953985        |"
      ]
     },
     "metadata": {},
     "output_type": "display_data"
    },
    {
     "data": {
      "text/html": [
       "<pre>| 3         | 5100     | 17625.061692 | 0.922941          |                     | 4.163492        |</pre>"
      ],
      "text/plain": [
       "| 3         | 5100     | 17625.061692 | 0.922941          |                     | 4.163492        |"
      ]
     },
     "metadata": {},
     "output_type": "display_data"
    },
    {
     "data": {
      "text/html": [
       "<pre>| 3         | 5200     | 17645.187252 | 0.923269          |                     | 4.968807        |</pre>"
      ],
      "text/plain": [
       "| 3         | 5200     | 17645.187252 | 0.923269          |                     | 4.968807        |"
      ]
     },
     "metadata": {},
     "output_type": "display_data"
    },
    {
     "data": {
      "text/html": [
       "<pre>| 3         | 5300     | 17665.325199 | 0.923019          |                     | 4.965752        |</pre>"
      ],
      "text/plain": [
       "| 3         | 5300     | 17665.325199 | 0.923019          |                     | 4.965752        |"
      ]
     },
     "metadata": {},
     "output_type": "display_data"
    },
    {
     "data": {
      "text/html": [
       "<pre>| 3         | 5400     | 17685.267037 | 0.922407          |                     | 5.014582        |</pre>"
      ],
      "text/plain": [
       "| 3         | 5400     | 17685.267037 | 0.922407          |                     | 5.014582        |"
      ]
     },
     "metadata": {},
     "output_type": "display_data"
    },
    {
     "data": {
      "text/html": [
       "<pre>| 3         | 5500     | 17705.855248 | 0.922545          |                     | 4.857145        |</pre>"
      ],
      "text/plain": [
       "| 3         | 5500     | 17705.855248 | 0.922545          |                     | 4.857145        |"
      ]
     },
     "metadata": {},
     "output_type": "display_data"
    },
    {
     "data": {
      "text/html": [
       "<pre>| 3         | 5600     | 17728.506279 | 0.922500          |                     | 4.414810        |</pre>"
      ],
      "text/plain": [
       "| 3         | 5600     | 17728.506279 | 0.922500          |                     | 4.414810        |"
      ]
     },
     "metadata": {},
     "output_type": "display_data"
    },
    {
     "data": {
      "text/html": [
       "<pre>| 3         | 5700     | 17750.516909 | 0.921404          |                     | 4.543259        |</pre>"
      ],
      "text/plain": [
       "| 3         | 5700     | 17750.516909 | 0.921404          |                     | 4.543259        |"
      ]
     },
     "metadata": {},
     "output_type": "display_data"
    },
    {
     "data": {
      "text/html": [
       "<pre>| 3         | 5800     | 17770.711496 | 0.921034          |                     | 4.951825        |</pre>"
      ],
      "text/plain": [
       "| 3         | 5800     | 17770.711496 | 0.921034          |                     | 4.951825        |"
      ]
     },
     "metadata": {},
     "output_type": "display_data"
    },
    {
     "data": {
      "text/html": [
       "<pre>| 3         | 5900     | 17790.949567 | 0.921356          |                     | 4.941184        |</pre>"
      ],
      "text/plain": [
       "| 3         | 5900     | 17790.949567 | 0.921356          |                     | 4.941184        |"
      ]
     },
     "metadata": {},
     "output_type": "display_data"
    },
    {
     "data": {
      "text/html": [
       "<pre>| 3         | 6000     | 17811.288500 | 0.921833          |                     | 4.916680        |</pre>"
      ],
      "text/plain": [
       "| 3         | 6000     | 17811.288500 | 0.921833          |                     | 4.916680        |"
      ]
     },
     "metadata": {},
     "output_type": "display_data"
    },
    {
     "data": {
      "text/html": [
       "<pre>| 3         | 6100     | 17831.529644 | 0.921311          |                     | 4.940427        |</pre>"
      ],
      "text/plain": [
       "| 3         | 6100     | 17831.529644 | 0.921311          |                     | 4.940427        |"
      ]
     },
     "metadata": {},
     "output_type": "display_data"
    },
    {
     "data": {
      "text/html": [
       "<pre>| 3         | 6200     | 17852.760452 | 0.921774          |                     | 4.710137        |</pre>"
      ],
      "text/plain": [
       "| 3         | 6200     | 17852.760452 | 0.921774          |                     | 4.710137        |"
      ]
     },
     "metadata": {},
     "output_type": "display_data"
    },
    {
     "data": {
      "text/html": [
       "<pre>| 3         | 6300     | 17877.181007 | 0.922063          |                     | 4.094910        |</pre>"
      ],
      "text/plain": [
       "| 3         | 6300     | 17877.181007 | 0.922063          |                     | 4.094910        |"
      ]
     },
     "metadata": {},
     "output_type": "display_data"
    },
    {
     "data": {
      "text/html": [
       "<pre>| 3         | 6400     | 17901.990097 | 0.922656          |                     | 4.030782        |</pre>"
      ],
      "text/plain": [
       "| 3         | 6400     | 17901.990097 | 0.922656          |                     | 4.030782        |"
      ]
     },
     "metadata": {},
     "output_type": "display_data"
    },
    {
     "data": {
      "text/html": [
       "<pre>| 3         | 6500     | 17927.193842 | 0.922462          |                     | 3.967666        |</pre>"
      ],
      "text/plain": [
       "| 3         | 6500     | 17927.193842 | 0.922462          |                     | 3.967666        |"
      ]
     },
     "metadata": {},
     "output_type": "display_data"
    },
    {
     "data": {
      "text/html": [
       "<pre>| 3         | 6600     | 17960.259833 | 0.922727          |                     | 3.024255        |</pre>"
      ],
      "text/plain": [
       "| 3         | 6600     | 17960.259833 | 0.922727          |                     | 3.024255        |"
      ]
     },
     "metadata": {},
     "output_type": "display_data"
    },
    {
     "data": {
      "text/html": [
       "<pre>| 3         | 6700     | 17985.587208 | 0.922985          |                     | 3.948296        |</pre>"
      ],
      "text/plain": [
       "| 3         | 6700     | 17985.587208 | 0.922985          |                     | 3.948296        |"
      ]
     },
     "metadata": {},
     "output_type": "display_data"
    },
    {
     "data": {
      "text/html": [
       "<pre>| 3         | 6800     | 18010.443457 | 0.923971          |                     | 4.023131        |</pre>"
      ],
      "text/plain": [
       "| 3         | 6800     | 18010.443457 | 0.923971          |                     | 4.023131        |"
      ]
     },
     "metadata": {},
     "output_type": "display_data"
    },
    {
     "data": {
      "text/html": [
       "<pre>| 3         | 6900     | 18032.043445 | 0.923768          |                     | 4.629634        |</pre>"
      ],
      "text/plain": [
       "| 3         | 6900     | 18032.043445 | 0.923768          |                     | 4.629634        |"
      ]
     },
     "metadata": {},
     "output_type": "display_data"
    },
    {
     "data": {
      "text/html": [
       "<pre>| 3         | 7000     | 18056.510184 | 0.924143          |                     | 4.087184        |</pre>"
      ],
      "text/plain": [
       "| 3         | 7000     | 18056.510184 | 0.924143          |                     | 4.087184        |"
      ]
     },
     "metadata": {},
     "output_type": "display_data"
    },
    {
     "data": {
      "text/html": [
       "<pre>| 3         | 7100     | 18076.605582 | 0.924084          |                     | 4.976263        |</pre>"
      ],
      "text/plain": [
       "| 3         | 7100     | 18076.605582 | 0.924084          |                     | 4.976263        |"
      ]
     },
     "metadata": {},
     "output_type": "display_data"
    },
    {
     "data": {
      "text/html": [
       "<pre>| 3         | 7200     | 18098.399355 | 0.924167          |                     | 4.588465        |</pre>"
      ],
      "text/plain": [
       "| 3         | 7200     | 18098.399355 | 0.924167          |                     | 4.588465        |"
      ]
     },
     "metadata": {},
     "output_type": "display_data"
    },
    {
     "data": {
      "text/html": [
       "<pre>| 3         | 7300     | 18121.962341 | 0.924932          |                     | 4.243944        |</pre>"
      ],
      "text/plain": [
       "| 3         | 7300     | 18121.962341 | 0.924932          |                     | 4.243944        |"
      ]
     },
     "metadata": {},
     "output_type": "display_data"
    },
    {
     "data": {
      "text/html": [
       "<pre>| 3         | 7400     | 18148.841718 | 0.925135          |                     | 3.720324        |</pre>"
      ],
      "text/plain": [
       "| 3         | 7400     | 18148.841718 | 0.925135          |                     | 3.720324        |"
      ]
     },
     "metadata": {},
     "output_type": "display_data"
    },
    {
     "data": {
      "text/html": [
       "<pre>| 3         | 7500     | 18173.023393 | 0.925067          |                     | 4.135363        |</pre>"
      ],
      "text/plain": [
       "| 3         | 7500     | 18173.023393 | 0.925067          |                     | 4.135363        |"
      ]
     },
     "metadata": {},
     "output_type": "display_data"
    },
    {
     "data": {
      "text/html": [
       "<pre>| 3         | 7600     | 18197.916256 | 0.925263          |                     | 4.017219        |</pre>"
      ],
      "text/plain": [
       "| 3         | 7600     | 18197.916256 | 0.925263          |                     | 4.017219        |"
      ]
     },
     "metadata": {},
     "output_type": "display_data"
    },
    {
     "data": {
      "text/html": [
       "<pre>| 3         | 7700     | 18219.261158 | 0.925065          |                     | 4.684955        |</pre>"
      ],
      "text/plain": [
       "| 3         | 7700     | 18219.261158 | 0.925065          |                     | 4.684955        |"
      ]
     },
     "metadata": {},
     "output_type": "display_data"
    },
    {
     "data": {
      "text/html": [
       "<pre>| 3         | 7800     | 18242.837873 | 0.925385          |                     | 4.241473        |</pre>"
      ],
      "text/plain": [
       "| 3         | 7800     | 18242.837873 | 0.925385          |                     | 4.241473        |"
      ]
     },
     "metadata": {},
     "output_type": "display_data"
    },
    {
     "data": {
      "text/html": [
       "<pre>| 3         | 7900     | 18263.017674 | 0.925696          |                     | 4.955451        |</pre>"
      ],
      "text/plain": [
       "| 3         | 7900     | 18263.017674 | 0.925696          |                     | 4.955451        |"
      ]
     },
     "metadata": {},
     "output_type": "display_data"
    },
    {
     "data": {
      "text/html": [
       "<pre>| 3         | 8000     | 18284.479054 | 0.926375          |                     | 4.659533        |</pre>"
      ],
      "text/plain": [
       "| 3         | 8000     | 18284.479054 | 0.926375          |                     | 4.659533        |"
      ]
     },
     "metadata": {},
     "output_type": "display_data"
    },
    {
     "data": {
      "text/html": [
       "<pre>| 3         | 8100     | 18311.655846 | 0.926667          |                     | 3.679615        |</pre>"
      ],
      "text/plain": [
       "| 3         | 8100     | 18311.655846 | 0.926667          |                     | 3.679615        |"
      ]
     },
     "metadata": {},
     "output_type": "display_data"
    },
    {
     "data": {
      "text/html": [
       "<pre>| 3         | 8200     | 18335.986497 | 0.926463          |                     | 4.110038        |</pre>"
      ],
      "text/plain": [
       "| 3         | 8200     | 18335.986497 | 0.926463          |                     | 4.110038        |"
      ]
     },
     "metadata": {},
     "output_type": "display_data"
    },
    {
     "data": {
      "text/html": [
       "<pre>| 3         | 8300     | 18361.146975 | 0.926386          |                     | 3.974487        |</pre>"
      ],
      "text/plain": [
       "| 3         | 8300     | 18361.146975 | 0.926386          |                     | 3.974487        |"
      ]
     },
     "metadata": {},
     "output_type": "display_data"
    },
    {
     "data": {
      "text/html": [
       "<pre>| 3         | 8400     | 18384.937982 | 0.926667          |                     | 4.203268        |</pre>"
      ],
      "text/plain": [
       "| 3         | 8400     | 18384.937982 | 0.926667          |                     | 4.203268        |"
      ]
     },
     "metadata": {},
     "output_type": "display_data"
    },
    {
     "data": {
      "text/html": [
       "<pre>| 3         | 8500     | 18410.524268 | 0.926824          |                     | 3.908344        |</pre>"
      ],
      "text/plain": [
       "| 3         | 8500     | 18410.524268 | 0.926824          |                     | 3.908344        |"
      ]
     },
     "metadata": {},
     "output_type": "display_data"
    },
    {
     "data": {
      "text/html": [
       "<pre>| 3         | 8600     | 18434.298440 | 0.926860          |                     | 4.206248        |</pre>"
      ],
      "text/plain": [
       "| 3         | 8600     | 18434.298440 | 0.926860          |                     | 4.206248        |"
      ]
     },
     "metadata": {},
     "output_type": "display_data"
    },
    {
     "data": {
      "text/html": [
       "<pre>| 3         | 8700     | 18459.999315 | 0.926552          |                     | 3.890918        |</pre>"
      ],
      "text/plain": [
       "| 3         | 8700     | 18459.999315 | 0.926552          |                     | 3.890918        |"
      ]
     },
     "metadata": {},
     "output_type": "display_data"
    },
    {
     "data": {
      "text/html": [
       "<pre>| 3         | 8800     | 18483.559162 | 0.926818          |                     | 4.244508        |</pre>"
      ],
      "text/plain": [
       "| 3         | 8800     | 18483.559162 | 0.926818          |                     | 4.244508        |"
      ]
     },
     "metadata": {},
     "output_type": "display_data"
    },
    {
     "data": {
      "text/html": [
       "<pre>| 3         | 8900     | 18507.232619 | 0.927191          |                     | 4.224139        |</pre>"
      ],
      "text/plain": [
       "| 3         | 8900     | 18507.232619 | 0.927191          |                     | 4.224139        |"
      ]
     },
     "metadata": {},
     "output_type": "display_data"
    },
    {
     "data": {
      "text/html": [
       "<pre>| 3         | 9000     | 18528.641198 | 0.927333          |                     | 4.671026        |</pre>"
      ],
      "text/plain": [
       "| 3         | 9000     | 18528.641198 | 0.927333          |                     | 4.671026        |"
      ]
     },
     "metadata": {},
     "output_type": "display_data"
    },
    {
     "data": {
      "text/html": [
       "<pre>| 3         | 9100     | 18551.857097 | 0.927692          |                     | 4.307394        |</pre>"
      ],
      "text/plain": [
       "| 3         | 9100     | 18551.857097 | 0.927692          |                     | 4.307394        |"
      ]
     },
     "metadata": {},
     "output_type": "display_data"
    },
    {
     "data": {
      "text/html": [
       "<pre>| 3         | 9200     | 18574.966846 | 0.928043          |                     | 4.327180        |</pre>"
      ],
      "text/plain": [
       "| 3         | 9200     | 18574.966846 | 0.928043          |                     | 4.327180        |"
      ]
     },
     "metadata": {},
     "output_type": "display_data"
    },
    {
     "data": {
      "text/html": [
       "<pre>| 3         | 9300     | 18596.881993 | 0.928280          |                     | 4.563051        |</pre>"
      ],
      "text/plain": [
       "| 3         | 9300     | 18596.881993 | 0.928280          |                     | 4.563051        |"
      ]
     },
     "metadata": {},
     "output_type": "display_data"
    },
    {
     "data": {
      "text/html": [
       "<pre>| 3         | 9400     | 18621.279886 | 0.928511          |                     | 4.098713        |</pre>"
      ],
      "text/plain": [
       "| 3         | 9400     | 18621.279886 | 0.928511          |                     | 4.098713        |"
      ]
     },
     "metadata": {},
     "output_type": "display_data"
    },
    {
     "data": {
      "text/html": [
       "<pre>| 3         | 9500     | 18643.527503 | 0.928632          |                     | 4.494864        |</pre>"
      ],
      "text/plain": [
       "| 3         | 9500     | 18643.527503 | 0.928632          |                     | 4.494864        |"
      ]
     },
     "metadata": {},
     "output_type": "display_data"
    },
    {
     "data": {
      "text/html": [
       "<pre>| 3         | 9600     | 18669.286028 | 0.928646          |                     | 3.882210        |</pre>"
      ],
      "text/plain": [
       "| 3         | 9600     | 18669.286028 | 0.928646          |                     | 3.882210        |"
      ]
     },
     "metadata": {},
     "output_type": "display_data"
    },
    {
     "data": {
      "text/html": [
       "<pre>| 3         | 9700     | 18691.653849 | 0.928247          |                     | 4.470711        |</pre>"
      ],
      "text/plain": [
       "| 3         | 9700     | 18691.653849 | 0.928247          |                     | 4.470711        |"
      ]
     },
     "metadata": {},
     "output_type": "display_data"
    },
    {
     "data": {
      "text/html": [
       "<pre>| 3         | 9800     | 18714.069411 | 0.928367          |                     | 4.461184        |</pre>"
      ],
      "text/plain": [
       "| 3         | 9800     | 18714.069411 | 0.928367          |                     | 4.461184        |"
      ]
     },
     "metadata": {},
     "output_type": "display_data"
    },
    {
     "data": {
      "text/html": [
       "<pre>| 3         | 9900     | 18736.571148 | 0.928182          |                     | 4.444100        |</pre>"
      ],
      "text/plain": [
       "| 3         | 9900     | 18736.571148 | 0.928182          |                     | 4.444100        |"
      ]
     },
     "metadata": {},
     "output_type": "display_data"
    },
    {
     "data": {
      "text/html": [
       "<pre>| 3         | 10000    | 18758.921860 | 0.928400          |                     | 4.474131        |</pre>"
      ],
      "text/plain": [
       "| 3         | 10000    | 18758.921860 | 0.928400          |                     | 4.474131        |"
      ]
     },
     "metadata": {},
     "output_type": "display_data"
    },
    {
     "data": {
      "text/html": [
       "<pre>| 3         | 10100    | 18780.751561 | 0.928317          |                     | 4.580915        |</pre>"
      ],
      "text/plain": [
       "| 3         | 10100    | 18780.751561 | 0.928317          |                     | 4.580915        |"
      ]
     },
     "metadata": {},
     "output_type": "display_data"
    },
    {
     "data": {
      "text/html": [
       "<pre>| 3         | 10200    | 18802.366160 | 0.928333          |                     | 4.626503        |</pre>"
      ],
      "text/plain": [
       "| 3         | 10200    | 18802.366160 | 0.928333          |                     | 4.626503        |"
      ]
     },
     "metadata": {},
     "output_type": "display_data"
    },
    {
     "data": {
      "text/html": [
       "<pre>| 3         | 10300    | 18825.000703 | 0.928641          |                     | 4.418028        |</pre>"
      ],
      "text/plain": [
       "| 3         | 10300    | 18825.000703 | 0.928641          |                     | 4.418028        |"
      ]
     },
     "metadata": {},
     "output_type": "display_data"
    },
    {
     "data": {
      "text/html": [
       "<pre>| 3         | 10400    | 18847.048675 | 0.928365          |                     | 4.535562        |</pre>"
      ],
      "text/plain": [
       "| 3         | 10400    | 18847.048675 | 0.928365          |                     | 4.535562        |"
      ]
     },
     "metadata": {},
     "output_type": "display_data"
    },
    {
     "data": {
      "text/html": [
       "<pre>| 3         | 10500    | 18869.920487 | 0.928571          |                     | 4.372193        |</pre>"
      ],
      "text/plain": [
       "| 3         | 10500    | 18869.920487 | 0.928571          |                     | 4.372193        |"
      ]
     },
     "metadata": {},
     "output_type": "display_data"
    },
    {
     "data": {
      "text/html": [
       "<pre>| 3         | 10600    | 18898.415012 | 0.928868          |                     | 3.509446        |</pre>"
      ],
      "text/plain": [
       "| 3         | 10600    | 18898.415012 | 0.928868          |                     | 3.509446        |"
      ]
     },
     "metadata": {},
     "output_type": "display_data"
    },
    {
     "data": {
      "text/html": [
       "<pre>| 3         | 10700    | 18920.872689 | 0.928878          |                     | 4.452820        |</pre>"
      ],
      "text/plain": [
       "| 3         | 10700    | 18920.872689 | 0.928878          |                     | 4.452820        |"
      ]
     },
     "metadata": {},
     "output_type": "display_data"
    },
    {
     "data": {
      "text/html": [
       "<pre>| 3         | 10800    | 18946.919755 | 0.929352          |                     | 3.839208        |</pre>"
      ],
      "text/plain": [
       "| 3         | 10800    | 18946.919755 | 0.929352          |                     | 3.839208        |"
      ]
     },
     "metadata": {},
     "output_type": "display_data"
    },
    {
     "data": {
      "text/html": [
       "<pre>| 3         | 10900    | 18969.748006 | 0.929725          |                     | 4.380535        |</pre>"
      ],
      "text/plain": [
       "| 3         | 10900    | 18969.748006 | 0.929725          |                     | 4.380535        |"
      ]
     },
     "metadata": {},
     "output_type": "display_data"
    },
    {
     "data": {
      "text/html": [
       "<pre>| 3         | 11000    | 18991.596377 | 0.930091          |                     | 4.576998        |</pre>"
      ],
      "text/plain": [
       "| 3         | 11000    | 18991.596377 | 0.930091          |                     | 4.576998        |"
      ]
     },
     "metadata": {},
     "output_type": "display_data"
    },
    {
     "data": {
      "text/html": [
       "<pre>| 3         | 11100    | 19013.811369 | 0.929820          |                     | 4.501464        |</pre>"
      ],
      "text/plain": [
       "| 3         | 11100    | 19013.811369 | 0.929820          |                     | 4.501464        |"
      ]
     },
     "metadata": {},
     "output_type": "display_data"
    },
    {
     "data": {
      "text/html": [
       "<pre>| 3         | 11200    | 19036.596172 | 0.929911          |                     | 4.388891        |</pre>"
      ],
      "text/plain": [
       "| 3         | 11200    | 19036.596172 | 0.929911          |                     | 4.388891        |"
      ]
     },
     "metadata": {},
     "output_type": "display_data"
    },
    {
     "data": {
      "text/html": [
       "<pre>| 3         | 11300    | 19058.260031 | 0.930089          |                     | 4.615982        |</pre>"
      ],
      "text/plain": [
       "| 3         | 11300    | 19058.260031 | 0.930089          |                     | 4.615982        |"
      ]
     },
     "metadata": {},
     "output_type": "display_data"
    },
    {
     "data": {
      "text/html": [
       "<pre>| 3         | 11400    | 19081.818871 | 0.930263          |                     | 4.244695        |</pre>"
      ],
      "text/plain": [
       "| 3         | 11400    | 19081.818871 | 0.930263          |                     | 4.244695        |"
      ]
     },
     "metadata": {},
     "output_type": "display_data"
    },
    {
     "data": {
      "text/html": [
       "<pre>| 3         | 11500    | 19102.608264 | 0.930435          |                     | 4.810141        |</pre>"
      ],
      "text/plain": [
       "| 3         | 11500    | 19102.608264 | 0.930435          |                     | 4.810141        |"
      ]
     },
     "metadata": {},
     "output_type": "display_data"
    },
    {
     "data": {
      "text/html": [
       "<pre>| 3         | 11600    | 19126.566289 | 0.930603          |                     | 4.173965        |</pre>"
      ],
      "text/plain": [
       "| 3         | 11600    | 19126.566289 | 0.930603          |                     | 4.173965        |"
      ]
     },
     "metadata": {},
     "output_type": "display_data"
    },
    {
     "data": {
      "text/html": [
       "<pre>| 3         | 11700    | 19159.179239 | 0.930940          |                     | 3.066266        |</pre>"
      ],
      "text/plain": [
       "| 3         | 11700    | 19159.179239 | 0.930940          |                     | 3.066266        |"
      ]
     },
     "metadata": {},
     "output_type": "display_data"
    },
    {
     "data": {
      "text/html": [
       "<pre>| 3         | 11800    | 19184.722536 | 0.931017          |                     | 3.914923        |</pre>"
      ],
      "text/plain": [
       "| 3         | 11800    | 19184.722536 | 0.931017          |                     | 3.914923        |"
      ]
     },
     "metadata": {},
     "output_type": "display_data"
    },
    {
     "data": {
      "text/html": [
       "<pre>| 3         | 11900    | 19209.469108 | 0.931261          |                     | 4.040966        |</pre>"
      ],
      "text/plain": [
       "| 3         | 11900    | 19209.469108 | 0.931261          |                     | 4.040966        |"
      ]
     },
     "metadata": {},
     "output_type": "display_data"
    },
    {
     "data": {
      "text/html": [
       "<pre>| 3         | 12000    | 19234.226976 | 0.931417          |                     | 4.039118        |</pre>"
      ],
      "text/plain": [
       "| 3         | 12000    | 19234.226976 | 0.931417          |                     | 4.039118        |"
      ]
     },
     "metadata": {},
     "output_type": "display_data"
    },
    {
     "data": {
      "text/html": [
       "<pre>| 3         | 12100    | 19257.229547 | 0.931157          |                     | 4.347339        |</pre>"
      ],
      "text/plain": [
       "| 3         | 12100    | 19257.229547 | 0.931157          |                     | 4.347339        |"
      ]
     },
     "metadata": {},
     "output_type": "display_data"
    },
    {
     "data": {
      "text/html": [
       "<pre>| 3         | 12200    | 19279.314244 | 0.931311          |                     | 4.528022        |</pre>"
      ],
      "text/plain": [
       "| 3         | 12200    | 19279.314244 | 0.931311          |                     | 4.528022        |"
      ]
     },
     "metadata": {},
     "output_type": "display_data"
    },
    {
     "data": {
      "text/html": [
       "<pre>| 3         | 12300    | 19300.160487 | 0.931463          |                     | 4.797027        |</pre>"
      ],
      "text/plain": [
       "| 3         | 12300    | 19300.160487 | 0.931463          |                     | 4.797027        |"
      ]
     },
     "metadata": {},
     "output_type": "display_data"
    },
    {
     "data": {
      "text/html": [
       "<pre>| 3         | 12400    | 19320.765764 | 0.931613          |                     | 4.853127        |</pre>"
      ],
      "text/plain": [
       "| 3         | 12400    | 19320.765764 | 0.931613          |                     | 4.853127        |"
      ]
     },
     "metadata": {},
     "output_type": "display_data"
    },
    {
     "data": {
      "text/html": [
       "<pre>| 3         | 12500    | 19341.142884 | 0.931520          |                     | 4.907467        |</pre>"
      ],
      "text/plain": [
       "| 3         | 12500    | 19341.142884 | 0.931520          |                     | 4.907467        |"
      ]
     },
     "metadata": {},
     "output_type": "display_data"
    },
    {
     "data": {
      "text/html": [
       "<pre>| 3         | 12600    | 19361.293976 | 0.931349          |                     | 4.962508        |</pre>"
      ],
      "text/plain": [
       "| 3         | 12600    | 19361.293976 | 0.931349          |                     | 4.962508        |"
      ]
     },
     "metadata": {},
     "output_type": "display_data"
    },
    {
     "data": {
      "text/html": [
       "<pre>| 3         | 12700    | 19381.262888 | 0.931732          |                     | 5.007784        |</pre>"
      ],
      "text/plain": [
       "| 3         | 12700    | 19381.262888 | 0.931732          |                     | 5.007784        |"
      ]
     },
     "metadata": {},
     "output_type": "display_data"
    },
    {
     "data": {
      "text/html": [
       "<pre>| 3         | 12800    | 19402.267150 | 0.931328          |                     | 4.760937        |</pre>"
      ],
      "text/plain": [
       "| 3         | 12800    | 19402.267150 | 0.931328          |                     | 4.760937        |"
      ]
     },
     "metadata": {},
     "output_type": "display_data"
    },
    {
     "data": {
      "text/html": [
       "<pre>| 3         | 12900    | 19422.211119 | 0.931008          |                     | 5.014048        |</pre>"
      ],
      "text/plain": [
       "| 3         | 12900    | 19422.211119 | 0.931008          |                     | 5.014048        |"
      ]
     },
     "metadata": {},
     "output_type": "display_data"
    },
    {
     "data": {
      "text/html": [
       "<pre>| 3         | 13000    | 19442.615457 | 0.931154          |                     | 4.900917        |</pre>"
      ],
      "text/plain": [
       "| 3         | 13000    | 19442.615457 | 0.931154          |                     | 4.900917        |"
      ]
     },
     "metadata": {},
     "output_type": "display_data"
    },
    {
     "data": {
      "text/html": [
       "<pre>| 3         | 13100    | 19463.005674 | 0.931221          |                     | 4.904318        |</pre>"
      ],
      "text/plain": [
       "| 3         | 13100    | 19463.005674 | 0.931221          |                     | 4.904318        |"
      ]
     },
     "metadata": {},
     "output_type": "display_data"
    },
    {
     "data": {
      "text/html": [
       "<pre>| 3         | 13200    | 19483.073531 | 0.931364          |                     | 4.983090        |</pre>"
      ],
      "text/plain": [
       "| 3         | 13200    | 19483.073531 | 0.931364          |                     | 4.983090        |"
      ]
     },
     "metadata": {},
     "output_type": "display_data"
    },
    {
     "data": {
      "text/html": [
       "<pre>| 3         | 13300    | 19503.282387 | 0.931504          |                     | 4.948324        |</pre>"
      ],
      "text/plain": [
       "| 3         | 13300    | 19503.282387 | 0.931504          |                     | 4.948324        |"
      ]
     },
     "metadata": {},
     "output_type": "display_data"
    },
    {
     "data": {
      "text/html": [
       "<pre>| 3         | 13400    | 19523.816490 | 0.931642          |                     | 4.869948        |</pre>"
      ],
      "text/plain": [
       "| 3         | 13400    | 19523.816490 | 0.931642          |                     | 4.869948        |"
      ]
     },
     "metadata": {},
     "output_type": "display_data"
    },
    {
     "data": {
      "text/html": [
       "<pre>| 3         | 13500    | 19544.036493 | 0.931630          |                     | 4.945598        |</pre>"
      ],
      "text/plain": [
       "| 3         | 13500    | 19544.036493 | 0.931630          |                     | 4.945598        |"
      ]
     },
     "metadata": {},
     "output_type": "display_data"
    },
    {
     "data": {
      "text/html": [
       "<pre>| 3         | 13600    | 19564.551505 | 0.931838          |                     | 4.874479        |</pre>"
      ],
      "text/plain": [
       "| 3         | 13600    | 19564.551505 | 0.931838          |                     | 4.874479        |"
      ]
     },
     "metadata": {},
     "output_type": "display_data"
    },
    {
     "data": {
      "text/html": [
       "<pre>| 3         | 13700    | 19584.399121 | 0.931752          |                     | 5.038390        |</pre>"
      ],
      "text/plain": [
       "| 3         | 13700    | 19584.399121 | 0.931752          |                     | 5.038390        |"
      ]
     },
     "metadata": {},
     "output_type": "display_data"
    },
    {
     "data": {
      "text/html": [
       "<pre>| 3         | 13800    | 19604.452346 | 0.931522          |                     | 4.986733        |</pre>"
      ],
      "text/plain": [
       "| 3         | 13800    | 19604.452346 | 0.931522          |                     | 4.986733        |"
      ]
     },
     "metadata": {},
     "output_type": "display_data"
    },
    {
     "data": {
      "text/html": [
       "<pre>| 3         | 13900    | 19624.389709 | 0.931151          |                     | 5.015705        |</pre>"
      ],
      "text/plain": [
       "| 3         | 13900    | 19624.389709 | 0.931151          |                     | 5.015705        |"
      ]
     },
     "metadata": {},
     "output_type": "display_data"
    },
    {
     "data": {
      "text/html": [
       "<pre>| 3         | 14000    | 19644.570359 | 0.931286          |                     | 4.955240        |</pre>"
      ],
      "text/plain": [
       "| 3         | 14000    | 19644.570359 | 0.931286          |                     | 4.955240        |"
      ]
     },
     "metadata": {},
     "output_type": "display_data"
    },
    {
     "data": {
      "text/html": [
       "<pre>| 3         | 14100    | 19664.662089 | 0.931347          |                     | 4.977172        |</pre>"
      ],
      "text/plain": [
       "| 3         | 14100    | 19664.662089 | 0.931347          |                     | 4.977172        |"
      ]
     },
     "metadata": {},
     "output_type": "display_data"
    },
    {
     "data": {
      "text/html": [
       "<pre>| 3         | 14200    | 19685.006916 | 0.931549          |                     | 4.915254        |</pre>"
      ],
      "text/plain": [
       "| 3         | 14200    | 19685.006916 | 0.931549          |                     | 4.915254        |"
      ]
     },
     "metadata": {},
     "output_type": "display_data"
    },
    {
     "data": {
      "text/html": [
       "<pre>| 3         | 14300    | 19705.105748 | 0.931469          |                     | 4.975414        |</pre>"
      ],
      "text/plain": [
       "| 3         | 14300    | 19705.105748 | 0.931469          |                     | 4.975414        |"
      ]
     },
     "metadata": {},
     "output_type": "display_data"
    },
    {
     "data": {
      "text/html": [
       "<pre>| 3         | 14400    | 19725.217706 | 0.931667          |                     | 4.972170        |</pre>"
      ],
      "text/plain": [
       "| 3         | 14400    | 19725.217706 | 0.931667          |                     | 4.972170        |"
      ]
     },
     "metadata": {},
     "output_type": "display_data"
    },
    {
     "data": {
      "text/html": [
       "<pre>| 3         | 14500    | 19746.787524 | 0.931448          |                     | 4.636105        |</pre>"
      ],
      "text/plain": [
       "| 3         | 14500    | 19746.787524 | 0.931448          |                     | 4.636105        |"
      ]
     },
     "metadata": {},
     "output_type": "display_data"
    },
    {
     "data": {
      "text/html": [
       "<pre>| 3         | 14600    | 19766.881277 | 0.931507          |                     | 4.976670        |</pre>"
      ],
      "text/plain": [
       "| 3         | 14600    | 19766.881277 | 0.931507          |                     | 4.976670        |"
      ]
     },
     "metadata": {},
     "output_type": "display_data"
    },
    {
     "data": {
      "text/html": [
       "<pre>| 3         | 14700    | 19786.816099 | 0.931361          |                     | 5.016348        |</pre>"
      ],
      "text/plain": [
       "| 3         | 14700    | 19786.816099 | 0.931361          |                     | 5.016348        |"
      ]
     },
     "metadata": {},
     "output_type": "display_data"
    },
    {
     "data": {
      "text/html": [
       "<pre>| 3         | 14800    | 19806.853254 | 0.931149          |                     | 4.990729        |</pre>"
      ],
      "text/plain": [
       "| 3         | 14800    | 19806.853254 | 0.931149          |                     | 4.990729        |"
      ]
     },
     "metadata": {},
     "output_type": "display_data"
    },
    {
     "data": {
      "text/html": [
       "<pre>| 3         | 14900    | 19827.570693 | 0.930671          |                     | 4.826852        |</pre>"
      ],
      "text/plain": [
       "| 3         | 14900    | 19827.570693 | 0.930671          |                     | 4.826852        |"
      ]
     },
     "metadata": {},
     "output_type": "display_data"
    },
    {
     "data": {
      "text/html": [
       "<pre>| 3         | 15000    | 19853.521656 | 0.930533          |                     | 3.853426        |</pre>"
      ],
      "text/plain": [
       "| 3         | 15000    | 19853.521656 | 0.930533          |                     | 3.853426        |"
      ]
     },
     "metadata": {},
     "output_type": "display_data"
    },
    {
     "data": {
      "text/html": [
       "<pre>| 3         | 15100    | 19879.350246 | 0.930662          |                     | 3.871675        |</pre>"
      ],
      "text/plain": [
       "| 3         | 15100    | 19879.350246 | 0.930662          |                     | 3.871675        |"
      ]
     },
     "metadata": {},
     "output_type": "display_data"
    },
    {
     "data": {
      "text/html": [
       "<pre>| 3         | 15200    | 19902.783427 | 0.930395          |                     | 4.267452        |</pre>"
      ],
      "text/plain": [
       "| 3         | 15200    | 19902.783427 | 0.930395          |                     | 4.267452        |"
      ]
     },
     "metadata": {},
     "output_type": "display_data"
    },
    {
     "data": {
      "text/html": [
       "<pre>| 3         | 15300    | 19925.294455 | 0.930588          |                     | 4.442269        |</pre>"
      ],
      "text/plain": [
       "| 3         | 15300    | 19925.294455 | 0.930588          |                     | 4.442269        |"
      ]
     },
     "metadata": {},
     "output_type": "display_data"
    },
    {
     "data": {
      "text/html": [
       "<pre>| 3         | 15400    | 19945.353298 | 0.930844          |                     | 4.985330        |</pre>"
      ],
      "text/plain": [
       "| 3         | 15400    | 19945.353298 | 0.930844          |                     | 4.985330        |"
      ]
     },
     "metadata": {},
     "output_type": "display_data"
    },
    {
     "data": {
      "text/html": [
       "<pre>| 3         | 15500    | 19965.431295 | 0.930903          |                     | 4.980578        |</pre>"
      ],
      "text/plain": [
       "| 3         | 15500    | 19965.431295 | 0.930903          |                     | 4.980578        |"
      ]
     },
     "metadata": {},
     "output_type": "display_data"
    },
    {
     "data": {
      "text/html": [
       "<pre>| 3         | 15600    | 19985.653052 | 0.930833          |                     | 4.945172        |</pre>"
      ],
      "text/plain": [
       "| 3         | 15600    | 19985.653052 | 0.930833          |                     | 4.945172        |"
      ]
     },
     "metadata": {},
     "output_type": "display_data"
    },
    {
     "data": {
      "text/html": [
       "<pre>| 3         | 15700    | 20005.705481 | 0.930701          |                     | 4.986926        |</pre>"
      ],
      "text/plain": [
       "| 3         | 15700    | 20005.705481 | 0.930701          |                     | 4.986926        |"
      ]
     },
     "metadata": {},
     "output_type": "display_data"
    },
    {
     "data": {
      "text/html": [
       "<pre>| 3         | 15800    | 20027.422333 | 0.930506          |                     | 4.604716        |</pre>"
      ],
      "text/plain": [
       "| 3         | 15800    | 20027.422333 | 0.930506          |                     | 4.604716        |"
      ]
     },
     "metadata": {},
     "output_type": "display_data"
    },
    {
     "data": {
      "text/html": [
       "<pre>| 3         | 15900    | 20050.212100 | 0.930503          |                     | 4.387934        |</pre>"
      ],
      "text/plain": [
       "| 3         | 15900    | 20050.212100 | 0.930503          |                     | 4.387934        |"
      ]
     },
     "metadata": {},
     "output_type": "display_data"
    },
    {
     "data": {
      "text/html": [
       "<pre>| 3         | 16000    | 20071.932774 | 0.930562          |                     | 4.603909        |</pre>"
      ],
      "text/plain": [
       "| 3         | 16000    | 20071.932774 | 0.930562          |                     | 4.603909        |"
      ]
     },
     "metadata": {},
     "output_type": "display_data"
    },
    {
     "data": {
      "text/html": [
       "<pre>| 3         | 16100    | 20093.621934 | 0.930435          |                     | 4.610599        |</pre>"
      ],
      "text/plain": [
       "| 3         | 16100    | 20093.621934 | 0.930435          |                     | 4.610599        |"
      ]
     },
     "metadata": {},
     "output_type": "display_data"
    },
    {
     "data": {
      "text/html": [
       "<pre>| 3         | 16200    | 20119.898122 | 0.930247          |                     | 3.805730        |</pre>"
      ],
      "text/plain": [
       "| 3         | 16200    | 20119.898122 | 0.930247          |                     | 3.805730        |"
      ]
     },
     "metadata": {},
     "output_type": "display_data"
    },
    {
     "data": {
      "text/html": [
       "<pre>| 3         | 16300    | 20140.174346 | 0.929939          |                     | 4.931880        |</pre>"
      ],
      "text/plain": [
       "| 3         | 16300    | 20140.174346 | 0.929939          |                     | 4.931880        |"
      ]
     },
     "metadata": {},
     "output_type": "display_data"
    },
    {
     "data": {
      "text/html": [
       "<pre>| 3         | 16400    | 20160.228390 | 0.929878          |                     | 4.986525        |</pre>"
      ],
      "text/plain": [
       "| 3         | 16400    | 20160.228390 | 0.929878          |                     | 4.986525        |"
      ]
     },
     "metadata": {},
     "output_type": "display_data"
    },
    {
     "data": {
      "text/html": [
       "<pre>| 3         | 16500    | 20180.575111 | 0.930000          |                     | 4.914796        |</pre>"
      ],
      "text/plain": [
       "| 3         | 16500    | 20180.575111 | 0.930000          |                     | 4.914796        |"
      ]
     },
     "metadata": {},
     "output_type": "display_data"
    },
    {
     "data": {
      "text/html": [
       "<pre>| 3         | 16600    | 20201.785523 | 0.930060          |                     | 4.714667        |</pre>"
      ],
      "text/plain": [
       "| 3         | 16600    | 20201.785523 | 0.930060          |                     | 4.714667        |"
      ]
     },
     "metadata": {},
     "output_type": "display_data"
    },
    {
     "data": {
      "text/html": [
       "<pre>| 3         | 16700    | 20224.464515 | 0.930120          |                     | 4.409368        |</pre>"
      ],
      "text/plain": [
       "| 3         | 16700    | 20224.464515 | 0.930120          |                     | 4.409368        |"
      ]
     },
     "metadata": {},
     "output_type": "display_data"
    },
    {
     "data": {
      "text/html": [
       "<pre>| 3         | 16800    | 20245.710046 | 0.930298          |                     | 4.706873        |</pre>"
      ],
      "text/plain": [
       "| 3         | 16800    | 20245.710046 | 0.930298          |                     | 4.706873        |"
      ]
     },
     "metadata": {},
     "output_type": "display_data"
    },
    {
     "data": {
      "text/html": [
       "<pre>| 3         | 16900    | 20267.077246 | 0.930296          |                     | 4.680069        |</pre>"
      ],
      "text/plain": [
       "| 3         | 16900    | 20267.077246 | 0.930296          |                     | 4.680069        |"
      ]
     },
     "metadata": {},
     "output_type": "display_data"
    },
    {
     "data": {
      "text/html": [
       "<pre>| 3         | 17000    | 20290.433822 | 0.930176          |                     | 4.281448        |</pre>"
      ],
      "text/plain": [
       "| 3         | 17000    | 20290.433822 | 0.930176          |                     | 4.281448        |"
      ]
     },
     "metadata": {},
     "output_type": "display_data"
    },
    {
     "data": {
      "text/html": [
       "<pre>| 3         | 17100    | 20311.886864 | 0.930117          |                     | 4.661343        |</pre>"
      ],
      "text/plain": [
       "| 3         | 17100    | 20311.886864 | 0.930117          |                     | 4.661343        |"
      ]
     },
     "metadata": {},
     "output_type": "display_data"
    },
    {
     "data": {
      "text/html": [
       "<pre>| 3         | 17200    | 20335.180852 | 0.930233          |                     | 4.292954        |</pre>"
      ],
      "text/plain": [
       "| 3         | 17200    | 20335.180852 | 0.930233          |                     | 4.292954        |"
      ]
     },
     "metadata": {},
     "output_type": "display_data"
    },
    {
     "data": {
      "text/html": [
       "<pre>| 3         | 17300    | 20360.872741 | 0.930347          |                     | 3.892282        |</pre>"
      ],
      "text/plain": [
       "| 3         | 17300    | 20360.872741 | 0.930347          |                     | 3.892282        |"
      ]
     },
     "metadata": {},
     "output_type": "display_data"
    },
    {
     "data": {
      "text/html": [
       "<pre>| 3         | 17400    | 20386.427540 | 0.930057          |                     | 3.913157        |</pre>"
      ],
      "text/plain": [
       "| 3         | 17400    | 20386.427540 | 0.930057          |                     | 3.913157        |"
      ]
     },
     "metadata": {},
     "output_type": "display_data"
    },
    {
     "data": {
      "text/html": [
       "<pre>| 3         | 17500    | 20411.915353 | 0.930114          |                     | 3.923443        |</pre>"
      ],
      "text/plain": [
       "| 3         | 17500    | 20411.915353 | 0.930114          |                     | 3.923443        |"
      ]
     },
     "metadata": {},
     "output_type": "display_data"
    },
    {
     "data": {
      "text/html": [
       "<pre>| 3         | 17600    | 20436.866000 | 0.930114          |                     | 4.007912        |</pre>"
      ],
      "text/plain": [
       "| 3         | 17600    | 20436.866000 | 0.930114          |                     | 4.007912        |"
      ]
     },
     "metadata": {},
     "output_type": "display_data"
    },
    {
     "data": {
      "text/html": [
       "<pre>| 3         | 17700    | 20462.798187 | 0.930339          |                     | 3.856211        |</pre>"
      ],
      "text/plain": [
       "| 3         | 17700    | 20462.798187 | 0.930339          |                     | 3.856211        |"
      ]
     },
     "metadata": {},
     "output_type": "display_data"
    },
    {
     "data": {
      "text/html": [
       "<pre>| 3         | 17800    | 20488.452455 | 0.930618          |                     | 3.897989        |</pre>"
      ],
      "text/plain": [
       "| 3         | 17800    | 20488.452455 | 0.930618          |                     | 3.897989        |"
      ]
     },
     "metadata": {},
     "output_type": "display_data"
    },
    {
     "data": {
      "text/html": [
       "<pre>| 3         | 17900    | 20513.359021 | 0.930503          |                     | 4.015004        |</pre>"
      ],
      "text/plain": [
       "| 3         | 17900    | 20513.359021 | 0.930503          |                     | 4.015004        |"
      ]
     },
     "metadata": {},
     "output_type": "display_data"
    },
    {
     "data": {
      "text/html": [
       "<pre>| 3         | 18000    | 20536.382643 | 0.930611          |                     | 4.343365        |</pre>"
      ],
      "text/plain": [
       "| 3         | 18000    | 20536.382643 | 0.930611          |                     | 4.343365        |"
      ]
     },
     "metadata": {},
     "output_type": "display_data"
    },
    {
     "data": {
      "text/html": [
       "<pre>| 3         | 18100    | 20561.632294 | 0.930718          |                     | 3.960450        |</pre>"
      ],
      "text/plain": [
       "| 3         | 18100    | 20561.632294 | 0.930718          |                     | 3.960450        |"
      ]
     },
     "metadata": {},
     "output_type": "display_data"
    },
    {
     "data": {
      "text/html": [
       "<pre>| 3         | 18200    | 20585.174734 | 0.930604          |                     | 4.247648        |</pre>"
      ],
      "text/plain": [
       "| 3         | 18200    | 20585.174734 | 0.930604          |                     | 4.247648        |"
      ]
     },
     "metadata": {},
     "output_type": "display_data"
    },
    {
     "data": {
      "text/html": [
       "<pre>| 3         | 18300    | 20610.726507 | 0.930765          |                     | 3.913622        |</pre>"
      ],
      "text/plain": [
       "| 3         | 18300    | 20610.726507 | 0.930765          |                     | 3.913622        |"
      ]
     },
     "metadata": {},
     "output_type": "display_data"
    },
    {
     "data": {
      "text/html": [
       "<pre>| 3         | 18400    | 20634.992859 | 0.930761          |                     | 4.120935        |</pre>"
      ],
      "text/plain": [
       "| 3         | 18400    | 20634.992859 | 0.930761          |                     | 4.120935        |"
      ]
     },
     "metadata": {},
     "output_type": "display_data"
    },
    {
     "data": {
      "text/html": [
       "<pre>| 3         | 18500    | 20661.938907 | 0.930757          |                     | 3.711118        |</pre>"
      ],
      "text/plain": [
       "| 3         | 18500    | 20661.938907 | 0.930757          |                     | 3.711118        |"
      ]
     },
     "metadata": {},
     "output_type": "display_data"
    },
    {
     "data": {
      "text/html": [
       "<pre>| 3         | 18600    | 20686.848569 | 0.930591          |                     | 4.014506        |</pre>"
      ],
      "text/plain": [
       "| 3         | 18600    | 20686.848569 | 0.930591          |                     | 4.014506        |"
      ]
     },
     "metadata": {},
     "output_type": "display_data"
    },
    {
     "data": {
      "text/html": [
       "<pre>| 3         | 18700    | 20710.945306 | 0.930535          |                     | 4.149940        |</pre>"
      ],
      "text/plain": [
       "| 3         | 18700    | 20710.945306 | 0.930535          |                     | 4.149940        |"
      ]
     },
     "metadata": {},
     "output_type": "display_data"
    },
    {
     "data": {
      "text/html": [
       "<pre>| 3         | 18800    | 20735.285683 | 0.930638          |                     | 4.108402        |</pre>"
      ],
      "text/plain": [
       "| 3         | 18800    | 20735.285683 | 0.930638          |                     | 4.108402        |"
      ]
     },
     "metadata": {},
     "output_type": "display_data"
    },
    {
     "data": {
      "text/html": [
       "<pre>| 3         | 18900    | 20756.405175 | 0.930688          |                     | 4.734964        |</pre>"
      ],
      "text/plain": [
       "| 3         | 18900    | 20756.405175 | 0.930688          |                     | 4.734964        |"
      ]
     },
     "metadata": {},
     "output_type": "display_data"
    },
    {
     "data": {
      "text/html": [
       "<pre>| 3         | 19000    | 20780.602866 | 0.930737          |                     | 4.132624        |</pre>"
      ],
      "text/plain": [
       "| 3         | 19000    | 20780.602866 | 0.930737          |                     | 4.132624        |"
      ]
     },
     "metadata": {},
     "output_type": "display_data"
    },
    {
     "data": {
      "text/html": [
       "<pre>| 3         | 19100    | 20803.413800 | 0.930681          |                     | 4.383861        |</pre>"
      ],
      "text/plain": [
       "| 3         | 19100    | 20803.413800 | 0.930681          |                     | 4.383861        |"
      ]
     },
     "metadata": {},
     "output_type": "display_data"
    },
    {
     "data": {
      "text/html": [
       "<pre>| 3         | 19200    | 20824.559905 | 0.930677          |                     | 4.729004        |</pre>"
      ],
      "text/plain": [
       "| 3         | 19200    | 20824.559905 | 0.930677          |                     | 4.729004        |"
      ]
     },
     "metadata": {},
     "output_type": "display_data"
    },
    {
     "data": {
      "text/html": [
       "<pre>| 3         | 19300    | 20845.863470 | 0.930725          |                     | 4.694050        |</pre>"
      ],
      "text/plain": [
       "| 3         | 19300    | 20845.863470 | 0.930725          |                     | 4.694050        |"
      ]
     },
     "metadata": {},
     "output_type": "display_data"
    },
    {
     "data": {
      "text/html": [
       "<pre>| 3         | 19400    | 20867.721668 | 0.930825          |                     | 4.574943        |</pre>"
      ],
      "text/plain": [
       "| 3         | 19400    | 20867.721668 | 0.930825          |                     | 4.574943        |"
      ]
     },
     "metadata": {},
     "output_type": "display_data"
    },
    {
     "data": {
      "text/html": [
       "<pre>| 3         | 19500    | 20889.264460 | 0.930821          |                     | 4.641927        |</pre>"
      ],
      "text/plain": [
       "| 3         | 19500    | 20889.264460 | 0.930821          |                     | 4.641927        |"
      ]
     },
     "metadata": {},
     "output_type": "display_data"
    },
    {
     "data": {
      "text/html": [
       "<pre>| 3         | 19600    | 20914.313357 | 0.930816          |                     | 3.992190        |</pre>"
      ],
      "text/plain": [
       "| 3         | 19600    | 20914.313357 | 0.930816          |                     | 3.992190        |"
      ]
     },
     "metadata": {},
     "output_type": "display_data"
    },
    {
     "data": {
      "text/html": [
       "<pre>| 3         | 19700    | 20940.362136 | 0.930863          |                     | 3.838950        |</pre>"
      ],
      "text/plain": [
       "| 3         | 19700    | 20940.362136 | 0.930863          |                     | 3.838950        |"
      ]
     },
     "metadata": {},
     "output_type": "display_data"
    },
    {
     "data": {
      "text/html": [
       "<pre>| 3         | 19800    | 20964.342536 | 0.930909          |                     | 4.170073        |</pre>"
      ],
      "text/plain": [
       "| 3         | 19800    | 20964.342536 | 0.930909          |                     | 4.170073        |"
      ]
     },
     "metadata": {},
     "output_type": "display_data"
    },
    {
     "data": {
      "text/html": [
       "<pre>| 3         | 19900    | 20985.587365 | 0.930804          |                     | 4.707029        |</pre>"
      ],
      "text/plain": [
       "| 3         | 19900    | 20985.587365 | 0.930804          |                     | 4.707029        |"
      ]
     },
     "metadata": {},
     "output_type": "display_data"
    },
    {
     "data": {
      "text/html": [
       "<pre>| 3         | 20000    | 21006.967981 | 0.930750          |                     | 4.677136        |</pre>"
      ],
      "text/plain": [
       "| 3         | 20000    | 21006.967981 | 0.930750          |                     | 4.677136        |"
      ]
     },
     "metadata": {},
     "output_type": "display_data"
    },
    {
     "data": {
      "text/html": [
       "<pre>| 3         | 20100    | 21031.924409 | 0.930846          |                     | 4.006982        |</pre>"
      ],
      "text/plain": [
       "| 3         | 20100    | 21031.924409 | 0.930846          |                     | 4.006982        |"
      ]
     },
     "metadata": {},
     "output_type": "display_data"
    },
    {
     "data": {
      "text/html": [
       "<pre>| 3         | 20200    | 21053.315503 | 0.930891          |                     | 4.674842        |</pre>"
      ],
      "text/plain": [
       "| 3         | 20200    | 21053.315503 | 0.930891          |                     | 4.674842        |"
      ]
     },
     "metadata": {},
     "output_type": "display_data"
    },
    {
     "data": {
      "text/html": [
       "<pre>| 3         | 20300    | 21073.711168 | 0.931084          |                     | 4.903001        |</pre>"
      ],
      "text/plain": [
       "| 3         | 20300    | 21073.711168 | 0.931084          |                     | 4.903001        |"
      ]
     },
     "metadata": {},
     "output_type": "display_data"
    },
    {
     "data": {
      "text/html": [
       "<pre>| 3         | 20400    | 21093.748909 | 0.931275          |                     | 4.990583        |</pre>"
      ],
      "text/plain": [
       "| 3         | 20400    | 21093.748909 | 0.931275          |                     | 4.990583        |"
      ]
     },
     "metadata": {},
     "output_type": "display_data"
    },
    {
     "data": {
      "text/html": [
       "<pre>| 3         | 20500    | 21113.768742 | 0.931415          |                     | 4.995047        |</pre>"
      ],
      "text/plain": [
       "| 3         | 20500    | 21113.768742 | 0.931415          |                     | 4.995047        |"
      ]
     },
     "metadata": {},
     "output_type": "display_data"
    },
    {
     "data": {
      "text/html": [
       "<pre>| 3         | 20600    | 21133.714138 | 0.931408          |                     | 5.013694        |</pre>"
      ],
      "text/plain": [
       "| 3         | 20600    | 21133.714138 | 0.931408          |                     | 5.013694        |"
      ]
     },
     "metadata": {},
     "output_type": "display_data"
    },
    {
     "data": {
      "text/html": [
       "<pre>| 3         | 20700    | 21154.883540 | 0.931691          |                     | 4.723797        |</pre>"
      ],
      "text/plain": [
       "| 3         | 20700    | 21154.883540 | 0.931691          |                     | 4.723797        |"
      ]
     },
     "metadata": {},
     "output_type": "display_data"
    },
    {
     "data": {
      "text/html": [
       "<pre>| 3         | 20800    | 21174.972223 | 0.931731          |                     | 4.977927        |</pre>"
      ],
      "text/plain": [
       "| 3         | 20800    | 21174.972223 | 0.931731          |                     | 4.977927        |"
      ]
     },
     "metadata": {},
     "output_type": "display_data"
    },
    {
     "data": {
      "text/html": [
       "<pre>| 3         | 20900    | 21195.285277 | 0.931866          |                     | 4.922940        |</pre>"
      ],
      "text/plain": [
       "| 3         | 20900    | 21195.285277 | 0.931866          |                     | 4.922940        |"
      ]
     },
     "metadata": {},
     "output_type": "display_data"
    },
    {
     "data": {
      "text/html": [
       "<pre>| 3         | 21000    | 21215.510493 | 0.931810          |                     | 4.944323        |</pre>"
      ],
      "text/plain": [
       "| 3         | 21000    | 21215.510493 | 0.931810          |                     | 4.944323        |"
      ]
     },
     "metadata": {},
     "output_type": "display_data"
    },
    {
     "data": {
      "text/html": [
       "<pre>| 3         | 21100    | 21235.678967 | 0.931706          |                     | 4.958233        |</pre>"
      ],
      "text/plain": [
       "| 3         | 21100    | 21235.678967 | 0.931706          |                     | 4.958233        |"
      ]
     },
     "metadata": {},
     "output_type": "display_data"
    },
    {
     "data": {
      "text/html": [
       "<pre>| 3         | 21200    | 21261.948798 | 0.931840          |                     | 3.806651        |</pre>"
      ],
      "text/plain": [
       "| 3         | 21200    | 21261.948798 | 0.931840          |                     | 3.806651        |"
      ]
     },
     "metadata": {},
     "output_type": "display_data"
    },
    {
     "data": {
      "text/html": [
       "<pre>| 3         | 21300    | 21282.202659 | 0.932019          |                     | 4.937329        |</pre>"
      ],
      "text/plain": [
       "| 3         | 21300    | 21282.202659 | 0.932019          |                     | 4.937329        |"
      ]
     },
     "metadata": {},
     "output_type": "display_data"
    },
    {
     "data": {
      "text/html": [
       "<pre>| 3         | 21400    | 21302.502327 | 0.932150          |                     | 4.926187        |</pre>"
      ],
      "text/plain": [
       "| 3         | 21400    | 21302.502327 | 0.932150          |                     | 4.926187        |"
      ]
     },
     "metadata": {},
     "output_type": "display_data"
    },
    {
     "data": {
      "text/html": [
       "<pre>| 3         | 21500    | 21322.668077 | 0.932093          |                     | 4.958902        |</pre>"
      ],
      "text/plain": [
       "| 3         | 21500    | 21322.668077 | 0.932093          |                     | 4.958902        |"
      ]
     },
     "metadata": {},
     "output_type": "display_data"
    },
    {
     "data": {
      "text/html": [
       "<pre>| 3         | 21600    | 21342.895965 | 0.932315          |                     | 4.943671        |</pre>"
      ],
      "text/plain": [
       "| 3         | 21600    | 21342.895965 | 0.932315          |                     | 4.943671        |"
      ]
     },
     "metadata": {},
     "output_type": "display_data"
    },
    {
     "data": {
      "text/html": [
       "<pre>| 3         | 21700    | 21363.382976 | 0.932489          |                     | 4.881141        |</pre>"
      ],
      "text/plain": [
       "| 3         | 21700    | 21363.382976 | 0.932489          |                     | 4.881141        |"
      ]
     },
     "metadata": {},
     "output_type": "display_data"
    },
    {
     "data": {
      "text/html": [
       "<pre>| 3         | 21800    | 21383.606972 | 0.932615          |                     | 4.944622        |</pre>"
      ],
      "text/plain": [
       "| 3         | 21800    | 21383.606972 | 0.932615          |                     | 4.944622        |"
      ]
     },
     "metadata": {},
     "output_type": "display_data"
    },
    {
     "data": {
      "text/html": [
       "<pre>| 3         | 21900    | 21403.914868 | 0.932694          |                     | 4.924198        |</pre>"
      ],
      "text/plain": [
       "| 3         | 21900    | 21403.914868 | 0.932694          |                     | 4.924198        |"
      ]
     },
     "metadata": {},
     "output_type": "display_data"
    },
    {
     "data": {
      "text/html": [
       "<pre>| 3         | 22000    | 21426.957306 | 0.932636          |                     | 4.339817        |</pre>"
      ],
      "text/plain": [
       "| 3         | 22000    | 21426.957306 | 0.932636          |                     | 4.339817        |"
      ]
     },
     "metadata": {},
     "output_type": "display_data"
    },
    {
     "data": {
      "text/html": [
       "<pre>| 3         | 22100    | 21447.323769 | 0.932805          |                     | 4.910029        |</pre>"
      ],
      "text/plain": [
       "| 3         | 22100    | 21447.323769 | 0.932805          |                     | 4.910029        |"
      ]
     },
     "metadata": {},
     "output_type": "display_data"
    },
    {
     "data": {
      "text/html": [
       "<pre>| 3         | 22200    | 21467.430061 | 0.932838          |                     | 4.973569        |</pre>"
      ],
      "text/plain": [
       "| 3         | 22200    | 21467.430061 | 0.932838          |                     | 4.973569        |"
      ]
     },
     "metadata": {},
     "output_type": "display_data"
    },
    {
     "data": {
      "text/html": [
       "<pre>| 3         | 22300    | 21487.765895 | 0.932825          |                     | 4.917427        |</pre>"
      ],
      "text/plain": [
       "| 3         | 22300    | 21487.765895 | 0.932825          |                     | 4.917427        |"
      ]
     },
     "metadata": {},
     "output_type": "display_data"
    },
    {
     "data": {
      "text/html": [
       "<pre>| 3         | 22400    | 21507.545172 | 0.933080          |                     | 5.055797        |</pre>"
      ],
      "text/plain": [
       "| 3         | 22400    | 21507.545172 | 0.933080          |                     | 5.055797        |"
      ]
     },
     "metadata": {},
     "output_type": "display_data"
    },
    {
     "data": {
      "text/html": [
       "<pre>| 3         | 22500    | 21527.571982 | 0.933200          |                     | 4.993311        |</pre>"
      ],
      "text/plain": [
       "| 3         | 22500    | 21527.571982 | 0.933200          |                     | 4.993311        |"
      ]
     },
     "metadata": {},
     "output_type": "display_data"
    },
    {
     "data": {
      "text/html": [
       "<pre>| 3         | 22600    | 21548.226926 | 0.933097          |                     | 4.841453        |</pre>"
      ],
      "text/plain": [
       "| 3         | 22600    | 21548.226926 | 0.933097          |                     | 4.841453        |"
      ]
     },
     "metadata": {},
     "output_type": "display_data"
    },
    {
     "data": {
      "text/html": [
       "<pre>| 3         | 22700    | 21568.330667 | 0.933128          |                     | 4.974196        |</pre>"
      ],
      "text/plain": [
       "| 3         | 22700    | 21568.330667 | 0.933128          |                     | 4.974196        |"
      ]
     },
     "metadata": {},
     "output_type": "display_data"
    },
    {
     "data": {
      "text/html": [
       "<pre>| 3         | 22800    | 21589.361620 | 0.933114          |                     | 4.754898        |</pre>"
      ],
      "text/plain": [
       "| 3         | 22800    | 21589.361620 | 0.933114          |                     | 4.754898        |"
      ]
     },
     "metadata": {},
     "output_type": "display_data"
    },
    {
     "data": {
      "text/html": [
       "<pre>| 3         | 22900    | 21609.601757 | 0.933188          |                     | 4.940678        |</pre>"
      ],
      "text/plain": [
       "| 3         | 22900    | 21609.601757 | 0.933188          |                     | 4.940678        |"
      ]
     },
     "metadata": {},
     "output_type": "display_data"
    },
    {
     "data": {
      "text/html": [
       "<pre>| 3         | 23000    | 21632.845898 | 0.933217          |                     | 4.302159        |</pre>"
      ],
      "text/plain": [
       "| 3         | 23000    | 21632.845898 | 0.933217          |                     | 4.302159        |"
      ]
     },
     "metadata": {},
     "output_type": "display_data"
    },
    {
     "data": {
      "text/html": [
       "<pre>| 3         | 23100    | 21653.165177 | 0.933290          |                     | 4.921438        |</pre>"
      ],
      "text/plain": [
       "| 3         | 23100    | 21653.165177 | 0.933290          |                     | 4.921438        |"
      ]
     },
     "metadata": {},
     "output_type": "display_data"
    },
    {
     "data": {
      "text/html": [
       "<pre>| 3         | 23200    | 21673.372005 | 0.933319          |                     | 4.948822        |</pre>"
      ],
      "text/plain": [
       "| 3         | 23200    | 21673.372005 | 0.933319          |                     | 4.948822        |"
      ]
     },
     "metadata": {},
     "output_type": "display_data"
    },
    {
     "data": {
      "text/html": [
       "<pre>| 3         | 23300    | 21693.249629 | 0.933433          |                     | 5.030779        |</pre>"
      ],
      "text/plain": [
       "| 3         | 23300    | 21693.249629 | 0.933433          |                     | 5.030779        |"
      ]
     },
     "metadata": {},
     "output_type": "display_data"
    },
    {
     "data": {
      "text/html": [
       "<pre>| 3         | 23400    | 21713.602609 | 0.933419          |                     | 4.913285        |</pre>"
      ],
      "text/plain": [
       "| 3         | 23400    | 21713.602609 | 0.933419          |                     | 4.913285        |"
      ]
     },
     "metadata": {},
     "output_type": "display_data"
    },
    {
     "data": {
      "text/html": [
       "<pre>| 3         | 23500    | 21733.722583 | 0.933489          |                     | 4.970185        |</pre>"
      ],
      "text/plain": [
       "| 3         | 23500    | 21733.722583 | 0.933489          |                     | 4.970185        |"
      ]
     },
     "metadata": {},
     "output_type": "display_data"
    },
    {
     "data": {
      "text/html": [
       "<pre>| 3         | 23600    | 21753.833193 | 0.933602          |                     | 4.972500        |</pre>"
      ],
      "text/plain": [
       "| 3         | 23600    | 21753.833193 | 0.933602          |                     | 4.972500        |"
      ]
     },
     "metadata": {},
     "output_type": "display_data"
    },
    {
     "data": {
      "text/html": [
       "<pre>| 3         | 23700    | 21774.112390 | 0.933629          |                     | 4.931167        |</pre>"
      ],
      "text/plain": [
       "| 3         | 23700    | 21774.112390 | 0.933629          |                     | 4.931167        |"
      ]
     },
     "metadata": {},
     "output_type": "display_data"
    },
    {
     "data": {
      "text/html": [
       "<pre>| 3         | 23800    | 21794.753432 | 0.933739          |                     | 4.844713        |</pre>"
      ],
      "text/plain": [
       "| 3         | 23800    | 21794.753432 | 0.933739          |                     | 4.844713        |"
      ]
     },
     "metadata": {},
     "output_type": "display_data"
    },
    {
     "data": {
      "text/html": [
       "<pre>| 3         | 23900    | 21814.984546 | 0.933766          |                     | 4.942881        |</pre>"
      ],
      "text/plain": [
       "| 3         | 23900    | 21814.984546 | 0.933766          |                     | 4.942881        |"
      ]
     },
     "metadata": {},
     "output_type": "display_data"
    },
    {
     "data": {
      "text/html": [
       "<pre>| 3         | 24000    | 21835.612851 | 0.933750          |                     | 4.847706        |</pre>"
      ],
      "text/plain": [
       "| 3         | 24000    | 21835.612851 | 0.933750          |                     | 4.847706        |"
      ]
     },
     "metadata": {},
     "output_type": "display_data"
    },
    {
     "data": {
      "text/html": [
       "<pre>| 3         | 24100    | 21858.986084 | 0.933817          |                     | 4.278399        |</pre>"
      ],
      "text/plain": [
       "| 3         | 24100    | 21858.986084 | 0.933817          |                     | 4.278399        |"
      ]
     },
     "metadata": {},
     "output_type": "display_data"
    },
    {
     "data": {
      "text/html": [
       "<pre>| 3         | 24200    | 21880.356355 | 0.934008          |                     | 4.679397        |</pre>"
      ],
      "text/plain": [
       "| 3         | 24200    | 21880.356355 | 0.934008          |                     | 4.679397        |"
      ]
     },
     "metadata": {},
     "output_type": "display_data"
    },
    {
     "data": {
      "text/html": [
       "<pre>| 3         | 24300    | 21900.584955 | 0.934115          |                     | 4.943498        |</pre>"
      ],
      "text/plain": [
       "| 3         | 24300    | 21900.584955 | 0.934115          |                     | 4.943498        |"
      ]
     },
     "metadata": {},
     "output_type": "display_data"
    },
    {
     "data": {
      "text/html": [
       "<pre>| 3         | 24400    | 21920.911157 | 0.934139          |                     | 4.919761        |</pre>"
      ],
      "text/plain": [
       "| 3         | 24400    | 21920.911157 | 0.934139          |                     | 4.919761        |"
      ]
     },
     "metadata": {},
     "output_type": "display_data"
    },
    {
     "data": {
      "text/html": [
       "<pre>| 3         | 24500    | 21941.218493 | 0.934245          |                     | 4.924326        |</pre>"
      ],
      "text/plain": [
       "| 3         | 24500    | 21941.218493 | 0.934245          |                     | 4.924326        |"
      ]
     },
     "metadata": {},
     "output_type": "display_data"
    },
    {
     "data": {
      "text/html": [
       "<pre>| 3         | 24600    | 21961.964379 | 0.934106          |                     | 4.820230        |</pre>"
      ],
      "text/plain": [
       "| 3         | 24600    | 21961.964379 | 0.934106          |                     | 4.820230        |"
      ]
     },
     "metadata": {},
     "output_type": "display_data"
    },
    {
     "data": {
      "text/html": [
       "<pre>| 3         | 24700    | 21982.072659 | 0.934211          |                     | 4.973076        |</pre>"
      ],
      "text/plain": [
       "| 3         | 24700    | 21982.072659 | 0.934211          |                     | 4.973076        |"
      ]
     },
     "metadata": {},
     "output_type": "display_data"
    },
    {
     "data": {
      "text/html": [
       "<pre>| 3         | 24800    | 22002.260188 | 0.934073          |                     | 4.953554        |</pre>"
      ],
      "text/plain": [
       "| 3         | 24800    | 22002.260188 | 0.934073          |                     | 4.953554        |"
      ]
     },
     "metadata": {},
     "output_type": "display_data"
    },
    {
     "data": {
      "text/html": [
       "<pre>| 3         | 24900    | 22022.985610 | 0.934337          |                     | 4.824991        |</pre>"
      ],
      "text/plain": [
       "| 3         | 24900    | 22022.985610 | 0.934337          |                     | 4.824991        |"
      ]
     },
     "metadata": {},
     "output_type": "display_data"
    },
    {
     "data": {
      "text/html": [
       "<pre>| 3         | 25000    | 22047.362768 | 0.934320          |                     | 4.102204        |</pre>"
      ],
      "text/plain": [
       "| 3         | 25000    | 22047.362768 | 0.934320          |                     | 4.102204        |"
      ]
     },
     "metadata": {},
     "output_type": "display_data"
    },
    {
     "data": {
      "text/html": [
       "<pre>| 3         | 25100    | 22067.463088 | 0.934382          |                     | 4.975042        |</pre>"
      ],
      "text/plain": [
       "| 3         | 25100    | 22067.463088 | 0.934382          |                     | 4.975042        |"
      ]
     },
     "metadata": {},
     "output_type": "display_data"
    },
    {
     "data": {
      "text/html": [
       "<pre>| 3         | 25200    | 22087.582177 | 0.934325          |                     | 4.970403        |</pre>"
      ],
      "text/plain": [
       "| 3         | 25200    | 22087.582177 | 0.934325          |                     | 4.970403        |"
      ]
     },
     "metadata": {},
     "output_type": "display_data"
    },
    {
     "data": {
      "text/html": [
       "<pre>| 3         | 25300    | 22107.669592 | 0.934427          |                     | 4.978243        |</pre>"
      ],
      "text/plain": [
       "| 3         | 25300    | 22107.669592 | 0.934427          |                     | 4.978243        |"
      ]
     },
     "metadata": {},
     "output_type": "display_data"
    },
    {
     "data": {
      "text/html": [
       "<pre>| 3         | 25400    | 22127.437008 | 0.934488          |                     | 5.058830        |</pre>"
      ],
      "text/plain": [
       "| 3         | 25400    | 22127.437008 | 0.934488          |                     | 5.058830        |"
      ]
     },
     "metadata": {},
     "output_type": "display_data"
    },
    {
     "data": {
      "text/html": [
       "<pre>| 3         | 25500    | 22147.888574 | 0.934510          |                     | 4.889601        |</pre>"
      ],
      "text/plain": [
       "| 3         | 25500    | 22147.888574 | 0.934510          |                     | 4.889601        |"
      ]
     },
     "metadata": {},
     "output_type": "display_data"
    },
    {
     "data": {
      "text/html": [
       "<pre>| 3         | 25600    | 22168.428244 | 0.934570          |                     | 4.868633        |</pre>"
      ],
      "text/plain": [
       "| 3         | 25600    | 22168.428244 | 0.934570          |                     | 4.868633        |"
      ]
     },
     "metadata": {},
     "output_type": "display_data"
    },
    {
     "data": {
      "text/html": [
       "<pre>| 3         | 25700    | 22189.141646 | 0.934669          |                     | 4.827789        |</pre>"
      ],
      "text/plain": [
       "| 3         | 25700    | 22189.141646 | 0.934669          |                     | 4.827789        |"
      ]
     },
     "metadata": {},
     "output_type": "display_data"
    },
    {
     "data": {
      "text/html": [
       "<pre>| 3         | 25800    | 22210.474461 | 0.934496          |                     | 4.687610        |</pre>"
      ],
      "text/plain": [
       "| 3         | 25800    | 22210.474461 | 0.934496          |                     | 4.687610        |"
      ]
     },
     "metadata": {},
     "output_type": "display_data"
    },
    {
     "data": {
      "text/html": [
       "<pre>| 3         | 25900    | 22231.058986 | 0.934479          |                     | 4.858020        |</pre>"
      ],
      "text/plain": [
       "| 3         | 25900    | 22231.058986 | 0.934479          |                     | 4.858020        |"
      ]
     },
     "metadata": {},
     "output_type": "display_data"
    },
    {
     "data": {
      "text/html": [
       "<pre>| 3         | 26000    | 22251.446518 | 0.934462          |                     | 4.904957        |</pre>"
      ],
      "text/plain": [
       "| 3         | 26000    | 22251.446518 | 0.934462          |                     | 4.904957        |"
      ]
     },
     "metadata": {},
     "output_type": "display_data"
    },
    {
     "data": {
      "text/html": [
       "<pre>| 3         | 26100    | 22271.343172 | 0.934368          |                     | 5.025971        |</pre>"
      ],
      "text/plain": [
       "| 3         | 26100    | 22271.343172 | 0.934368          |                     | 5.025971        |"
      ]
     },
     "metadata": {},
     "output_type": "display_data"
    },
    {
     "data": {
      "text/html": [
       "<pre>| 3         | 26200    | 22291.516329 | 0.934351          |                     | 4.957086        |</pre>"
      ],
      "text/plain": [
       "| 3         | 26200    | 22291.516329 | 0.934351          |                     | 4.957086        |"
      ]
     },
     "metadata": {},
     "output_type": "display_data"
    },
    {
     "data": {
      "text/html": [
       "<pre>| 3         | 26300    | 22311.809791 | 0.934563          |                     | 4.927692        |</pre>"
      ],
      "text/plain": [
       "| 3         | 26300    | 22311.809791 | 0.934563          |                     | 4.927692        |"
      ]
     },
     "metadata": {},
     "output_type": "display_data"
    },
    {
     "data": {
      "text/html": [
       "<pre>| 3         | 26400    | 22331.938975 | 0.934545          |                     | 4.967909        |</pre>"
      ],
      "text/plain": [
       "| 3         | 26400    | 22331.938975 | 0.934545          |                     | 4.967909        |"
      ]
     },
     "metadata": {},
     "output_type": "display_data"
    },
    {
     "data": {
      "text/html": [
       "<pre>| 3         | 26500    | 22352.100874 | 0.934755          |                     | 4.959853        |</pre>"
      ],
      "text/plain": [
       "| 3         | 26500    | 22352.100874 | 0.934755          |                     | 4.959853        |"
      ]
     },
     "metadata": {},
     "output_type": "display_data"
    },
    {
     "data": {
      "text/html": [
       "<pre>| 3         | 26600    | 22372.550750 | 0.934887          |                     | 4.890004        |</pre>"
      ],
      "text/plain": [
       "| 3         | 26600    | 22372.550750 | 0.934887          |                     | 4.890004        |"
      ]
     },
     "metadata": {},
     "output_type": "display_data"
    },
    {
     "data": {
      "text/html": [
       "<pre>| 3         | 26700    | 22395.418131 | 0.934906          |                     | 4.373041        |</pre>"
      ],
      "text/plain": [
       "| 3         | 26700    | 22395.418131 | 0.934906          |                     | 4.373041        |"
      ]
     },
     "metadata": {},
     "output_type": "display_data"
    },
    {
     "data": {
      "text/html": [
       "<pre>| 3         | 26800    | 22420.265588 | 0.934888          |                     | 4.024560        |</pre>"
      ],
      "text/plain": [
       "| 3         | 26800    | 22420.265588 | 0.934888          |                     | 4.024560        |"
      ]
     },
     "metadata": {},
     "output_type": "display_data"
    },
    {
     "data": {
      "text/html": [
       "<pre>| 3         | 26900    | 22440.741498 | 0.934944          |                     | 4.883784        |</pre>"
      ],
      "text/plain": [
       "| 3         | 26900    | 22440.741498 | 0.934944          |                     | 4.883784        |"
      ]
     },
     "metadata": {},
     "output_type": "display_data"
    },
    {
     "data": {
      "text/html": [
       "<pre>| 3         | 27000    | 22464.834961 | 0.935000          |                     | 4.150504        |</pre>"
      ],
      "text/plain": [
       "| 3         | 27000    | 22464.834961 | 0.935000          |                     | 4.150504        |"
      ]
     },
     "metadata": {},
     "output_type": "display_data"
    },
    {
     "data": {
      "text/html": [
       "<pre>| 3         | 27100    | 22485.922022 | 0.935055          |                     | 4.742243        |</pre>"
      ],
      "text/plain": [
       "| 3         | 27100    | 22485.922022 | 0.935055          |                     | 4.742243        |"
      ]
     },
     "metadata": {},
     "output_type": "display_data"
    },
    {
     "data": {
      "text/html": [
       "<pre>| 3         | 27200    | 22506.188181 | 0.935147          |                     | 4.934335        |</pre>"
      ],
      "text/plain": [
       "| 3         | 27200    | 22506.188181 | 0.935147          |                     | 4.934335        |"
      ]
     },
     "metadata": {},
     "output_type": "display_data"
    },
    {
     "data": {
      "text/html": [
       "<pre>| 3         | 27300    | 22530.181577 | 0.935201          |                     | 4.167814        |</pre>"
      ],
      "text/plain": [
       "| 3         | 27300    | 22530.181577 | 0.935201          |                     | 4.167814        |"
      ]
     },
     "metadata": {},
     "output_type": "display_data"
    },
    {
     "data": {
      "text/html": [
       "<pre>| 3         | 27400    | 22553.231712 | 0.935328          |                     | 4.338372        |</pre>"
      ],
      "text/plain": [
       "| 3         | 27400    | 22553.231712 | 0.935328          |                     | 4.338372        |"
      ]
     },
     "metadata": {},
     "output_type": "display_data"
    },
    {
     "data": {
      "text/html": [
       "<pre>| 3         | 27500    | 22574.411873 | 0.935309          |                     | 4.721396        |</pre>"
      ],
      "text/plain": [
       "| 3         | 27500    | 22574.411873 | 0.935309          |                     | 4.721396        |"
      ]
     },
     "metadata": {},
     "output_type": "display_data"
    },
    {
     "data": {
      "text/html": [
       "<pre>| 3         | 27600    | 22600.498838 | 0.935290          |                     | 3.833332        |</pre>"
      ],
      "text/plain": [
       "| 3         | 27600    | 22600.498838 | 0.935290          |                     | 3.833332        |"
      ]
     },
     "metadata": {},
     "output_type": "display_data"
    },
    {
     "data": {
      "text/html": [
       "<pre>| 3         | 27700    | 22620.990050 | 0.935307          |                     | 4.880141        |</pre>"
      ],
      "text/plain": [
       "| 3         | 27700    | 22620.990050 | 0.935307          |                     | 4.880141        |"
      ]
     },
     "metadata": {},
     "output_type": "display_data"
    },
    {
     "data": {
      "text/html": [
       "<pre>| 3         | 27800    | 22641.235556 | 0.935324          |                     | 4.939368        |</pre>"
      ],
      "text/plain": [
       "| 3         | 27800    | 22641.235556 | 0.935324          |                     | 4.939368        |"
      ]
     },
     "metadata": {},
     "output_type": "display_data"
    },
    {
     "data": {
      "text/html": [
       "<pre>| 3         | 27900    | 22661.467823 | 0.935448          |                     | 4.942601        |</pre>"
      ],
      "text/plain": [
       "| 3         | 27900    | 22661.467823 | 0.935448          |                     | 4.942601        |"
      ]
     },
     "metadata": {},
     "output_type": "display_data"
    },
    {
     "data": {
      "text/html": [
       "<pre>| 3         | 28000    | 22682.587809 | 0.935536          |                     | 4.734854        |</pre>"
      ],
      "text/plain": [
       "| 3         | 28000    | 22682.587809 | 0.935536          |                     | 4.734854        |"
      ]
     },
     "metadata": {},
     "output_type": "display_data"
    },
    {
     "data": {
      "text/html": [
       "<pre>| 3         | 28100    | 22702.908295 | 0.935552          |                     | 4.921142        |</pre>"
      ],
      "text/plain": [
       "| 3         | 28100    | 22702.908295 | 0.935552          |                     | 4.921142        |"
      ]
     },
     "metadata": {},
     "output_type": "display_data"
    },
    {
     "data": {
      "text/html": [
       "<pre>| 3         | 28200    | 22723.610574 | 0.935461          |                     | 4.830383        |</pre>"
      ],
      "text/plain": [
       "| 3         | 28200    | 22723.610574 | 0.935461          |                     | 4.830383        |"
      ]
     },
     "metadata": {},
     "output_type": "display_data"
    },
    {
     "data": {
      "text/html": [
       "<pre>| 3         | 28300    | 22743.804567 | 0.935336          |                     | 4.951967        |</pre>"
      ],
      "text/plain": [
       "| 3         | 28300    | 22743.804567 | 0.935336          |                     | 4.951967        |"
      ]
     },
     "metadata": {},
     "output_type": "display_data"
    },
    {
     "data": {
      "text/html": [
       "<pre>| 3         | 28400    | 22764.314529 | 0.935528          |                     | 4.875680        |</pre>"
      ],
      "text/plain": [
       "| 3         | 28400    | 22764.314529 | 0.935528          |                     | 4.875680        |"
      ]
     },
     "metadata": {},
     "output_type": "display_data"
    },
    {
     "data": {
      "text/html": [
       "<pre>| 3         | 28500    | 22784.855880 | 0.935614          |                     | 4.868230        |</pre>"
      ],
      "text/plain": [
       "| 3         | 28500    | 22784.855880 | 0.935614          |                     | 4.868230        |"
      ]
     },
     "metadata": {},
     "output_type": "display_data"
    },
    {
     "data": {
      "text/html": [
       "<pre>| 3         | 28600    | 22805.843776 | 0.935629          |                     | 4.764656        |</pre>"
      ],
      "text/plain": [
       "| 3         | 28600    | 22805.843776 | 0.935629          |                     | 4.764656        |"
      ]
     },
     "metadata": {},
     "output_type": "display_data"
    },
    {
     "data": {
      "text/html": [
       "<pre>| 3         | 28700    | 22826.399229 | 0.935679          |                     | 4.864884        |</pre>"
      ],
      "text/plain": [
       "| 3         | 28700    | 22826.399229 | 0.935679          |                     | 4.864884        |"
      ]
     },
     "metadata": {},
     "output_type": "display_data"
    },
    {
     "data": {
      "text/html": [
       "<pre>| 3         | 28800    | 22846.610751 | 0.935833          |                     | 4.947672        |</pre>"
      ],
      "text/plain": [
       "| 3         | 28800    | 22846.610751 | 0.935833          |                     | 4.947672        |"
      ]
     },
     "metadata": {},
     "output_type": "display_data"
    },
    {
     "data": {
      "text/html": [
       "<pre>| 3         | 28900    | 22869.803395 | 0.935848          |                     | 4.311711        |</pre>"
      ],
      "text/plain": [
       "| 3         | 28900    | 22869.803395 | 0.935848          |                     | 4.311711        |"
      ]
     },
     "metadata": {},
     "output_type": "display_data"
    },
    {
     "data": {
      "text/html": [
       "<pre>| 3         | 29000    | 22890.009421 | 0.935931          |                     | 4.949020        |</pre>"
      ],
      "text/plain": [
       "| 3         | 29000    | 22890.009421 | 0.935931          |                     | 4.949020        |"
      ]
     },
     "metadata": {},
     "output_type": "display_data"
    },
    {
     "data": {
      "text/html": [
       "<pre>| 3         | 29100    | 22910.764861 | 0.935808          |                     | 4.818013        |</pre>"
      ],
      "text/plain": [
       "| 3         | 29100    | 22910.764861 | 0.935808          |                     | 4.818013        |"
      ]
     },
     "metadata": {},
     "output_type": "display_data"
    },
    {
     "data": {
      "text/html": [
       "<pre>| 3         | 29200    | 22936.339903 | 0.935788          |                     | 3.910066        |</pre>"
      ],
      "text/plain": [
       "| 3         | 29200    | 22936.339903 | 0.935788          |                     | 3.910066        |"
      ]
     },
     "metadata": {},
     "output_type": "display_data"
    },
    {
     "data": {
      "text/html": [
       "<pre>| 3         | 29300    | 22958.206110 | 0.935870          |                     | 4.573262        |</pre>"
      ],
      "text/plain": [
       "| 3         | 29300    | 22958.206110 | 0.935870          |                     | 4.573262        |"
      ]
     },
     "metadata": {},
     "output_type": "display_data"
    },
    {
     "data": {
      "text/html": [
       "<pre>| 3         | 29400    | 22980.425384 | 0.935884          |                     | 4.500597        |</pre>"
      ],
      "text/plain": [
       "| 3         | 29400    | 22980.425384 | 0.935884          |                     | 4.500597        |"
      ]
     },
     "metadata": {},
     "output_type": "display_data"
    },
    {
     "data": {
      "text/html": [
       "<pre>| 3         | 29500    | 23002.780772 | 0.936034          |                     | 4.473194        |</pre>"
      ],
      "text/plain": [
       "| 3         | 29500    | 23002.780772 | 0.936034          |                     | 4.473194        |"
      ]
     },
     "metadata": {},
     "output_type": "display_data"
    },
    {
     "data": {
      "text/html": [
       "<pre>| 3         | 29600    | 23026.410806 | 0.935912          |                     | 4.231903        |</pre>"
      ],
      "text/plain": [
       "| 3         | 29600    | 23026.410806 | 0.935912          |                     | 4.231903        |"
      ]
     },
     "metadata": {},
     "output_type": "display_data"
    },
    {
     "data": {
      "text/html": [
       "<pre>| 3         | 29700    | 23048.748091 | 0.935993          |                     | 4.476821        |</pre>"
      ],
      "text/plain": [
       "| 3         | 29700    | 23048.748091 | 0.935993          |                     | 4.476821        |"
      ]
     },
     "metadata": {},
     "output_type": "display_data"
    },
    {
     "data": {
      "text/html": [
       "<pre>| 3         | 29800    | 23072.331372 | 0.936007          |                     | 4.240295        |</pre>"
      ],
      "text/plain": [
       "| 3         | 29800    | 23072.331372 | 0.936007          |                     | 4.240295        |"
      ]
     },
     "metadata": {},
     "output_type": "display_data"
    },
    {
     "data": {
      "text/html": [
       "<pre>| 3         | 29900    | 23098.066951 | 0.935987          |                     | 3.885668        |</pre>"
      ],
      "text/plain": [
       "| 3         | 29900    | 23098.066951 | 0.935987          |                     | 3.885668        |"
      ]
     },
     "metadata": {},
     "output_type": "display_data"
    },
    {
     "data": {
      "text/html": [
       "<pre>| 3         | 30000    | 23122.624133 | 0.936033          |                     | 4.072128        |</pre>"
      ],
      "text/plain": [
       "| 3         | 30000    | 23122.624133 | 0.936033          |                     | 4.072128        |"
      ]
     },
     "metadata": {},
     "output_type": "display_data"
    },
    {
     "data": {
      "text/html": [
       "<pre>| 3         | 30100    | 23142.895564 | 0.936113          |                     | 4.933050        |</pre>"
      ],
      "text/plain": [
       "| 3         | 30100    | 23142.895564 | 0.936113          |                     | 4.933050        |"
      ]
     },
     "metadata": {},
     "output_type": "display_data"
    },
    {
     "data": {
      "text/html": [
       "<pre>| 3         | 30200    | 23163.092751 | 0.936159          |                     | 4.951186        |</pre>"
      ],
      "text/plain": [
       "| 3         | 30200    | 23163.092751 | 0.936159          |                     | 4.951186        |"
      ]
     },
     "metadata": {},
     "output_type": "display_data"
    },
    {
     "data": {
      "text/html": [
       "<pre>| 3         | 30300    | 23183.645313 | 0.936205          |                     | 4.865574        |</pre>"
      ],
      "text/plain": [
       "| 3         | 30300    | 23183.645313 | 0.936205          |                     | 4.865574        |"
      ]
     },
     "metadata": {},
     "output_type": "display_data"
    },
    {
     "data": {
      "text/html": [
       "<pre>| 3         | 30400    | 23204.344969 | 0.936217          |                     | 4.831001        |</pre>"
      ],
      "text/plain": [
       "| 3         | 30400    | 23204.344969 | 0.936217          |                     | 4.831001        |"
      ]
     },
     "metadata": {},
     "output_type": "display_data"
    },
    {
     "data": {
      "text/html": [
       "<pre>| 3         | 30500    | 23224.199509 | 0.936295          |                     | 5.036628        |</pre>"
      ],
      "text/plain": [
       "| 3         | 30500    | 23224.199509 | 0.936295          |                     | 5.036628        |"
      ]
     },
     "metadata": {},
     "output_type": "display_data"
    },
    {
     "data": {
      "text/html": [
       "<pre>| 3         | 30600    | 23244.626314 | 0.936438          |                     | 4.895529        |</pre>"
      ],
      "text/plain": [
       "| 3         | 30600    | 23244.626314 | 0.936438          |                     | 4.895529        |"
      ]
     },
     "metadata": {},
     "output_type": "display_data"
    },
    {
     "data": {
      "text/html": [
       "<pre>| 3         | 30700    | 23264.861764 | 0.936547          |                     | 4.941822        |</pre>"
      ],
      "text/plain": [
       "| 3         | 30700    | 23264.861764 | 0.936547          |                     | 4.941822        |"
      ]
     },
     "metadata": {},
     "output_type": "display_data"
    },
    {
     "data": {
      "text/html": [
       "<pre>| 3         | 30800    | 23285.796360 | 0.936558          |                     | 4.776783        |</pre>"
      ],
      "text/plain": [
       "| 3         | 30800    | 23285.796360 | 0.936558          |                     | 4.776783        |"
      ]
     },
     "metadata": {},
     "output_type": "display_data"
    },
    {
     "data": {
      "text/html": [
       "<pre>| 3         | 30900    | 23307.435457 | 0.936505          |                     | 4.621265        |</pre>"
      ],
      "text/plain": [
       "| 3         | 30900    | 23307.435457 | 0.936505          |                     | 4.621265        |"
      ]
     },
     "metadata": {},
     "output_type": "display_data"
    },
    {
     "data": {
      "text/html": [
       "<pre>| 3         | 31000    | 23329.842549 | 0.936613          |                     | 4.462874        |</pre>"
      ],
      "text/plain": [
       "| 3         | 31000    | 23329.842549 | 0.936613          |                     | 4.462874        |"
      ]
     },
     "metadata": {},
     "output_type": "display_data"
    },
    {
     "data": {
      "text/html": [
       "<pre>| 3         | 31100    | 23350.379011 | 0.936559          |                     | 4.869385        |</pre>"
      ],
      "text/plain": [
       "| 3         | 31100    | 23350.379011 | 0.936559          |                     | 4.869385        |"
      ]
     },
     "metadata": {},
     "output_type": "display_data"
    },
    {
     "data": {
      "text/html": [
       "<pre>| 3         | 31200    | 23371.377668 | 0.936538          |                     | 4.762208        |</pre>"
      ],
      "text/plain": [
       "| 3         | 31200    | 23371.377668 | 0.936538          |                     | 4.762208        |"
      ]
     },
     "metadata": {},
     "output_type": "display_data"
    },
    {
     "data": {
      "text/html": [
       "<pre>| 3         | 31300    | 23392.180248 | 0.936550          |                     | 4.807096        |</pre>"
      ],
      "text/plain": [
       "| 3         | 31300    | 23392.180248 | 0.936550          |                     | 4.807096        |"
      ]
     },
     "metadata": {},
     "output_type": "display_data"
    },
    {
     "data": {
      "text/html": [
       "<pre>| 3         | 31400    | 23412.565585 | 0.936497          |                     | 4.905487        |</pre>"
      ],
      "text/plain": [
       "| 3         | 31400    | 23412.565585 | 0.936497          |                     | 4.905487        |"
      ]
     },
     "metadata": {},
     "output_type": "display_data"
    },
    {
     "data": {
      "text/html": [
       "<pre>| 3         | 31500    | 23432.699228 | 0.936540          |                     | 4.966814        |</pre>"
      ],
      "text/plain": [
       "| 3         | 31500    | 23432.699228 | 0.936540          |                     | 4.966814        |"
      ]
     },
     "metadata": {},
     "output_type": "display_data"
    },
    {
     "data": {
      "text/html": [
       "<pre>| 3         | 31600    | 23452.914949 | 0.936677          |                     | 4.946649        |</pre>"
      ],
      "text/plain": [
       "| 3         | 31600    | 23452.914949 | 0.936677          |                     | 4.946649        |"
      ]
     },
     "metadata": {},
     "output_type": "display_data"
    },
    {
     "data": {
      "text/html": [
       "<pre>| 3         | 31700    | 23473.382513 | 0.936751          |                     | 4.885777        |</pre>"
      ],
      "text/plain": [
       "| 3         | 31700    | 23473.382513 | 0.936751          |                     | 4.885777        |"
      ]
     },
     "metadata": {},
     "output_type": "display_data"
    },
    {
     "data": {
      "text/html": [
       "<pre>| 3         | 31800    | 23496.072364 | 0.936887          |                     | 4.407255        |</pre>"
      ],
      "text/plain": [
       "| 3         | 31800    | 23496.072364 | 0.936887          |                     | 4.407255        |"
      ]
     },
     "metadata": {},
     "output_type": "display_data"
    },
    {
     "data": {
      "text/html": [
       "<pre>| 3         | 31900    | 23516.436851 | 0.936865          |                     | 4.910510        |</pre>"
      ],
      "text/plain": [
       "| 3         | 31900    | 23516.436851 | 0.936865          |                     | 4.910510        |"
      ]
     },
     "metadata": {},
     "output_type": "display_data"
    },
    {
     "data": {
      "text/html": [
       "<pre>| 3         | 32000    | 23536.511202 | 0.937000          |                     | 4.981481        |</pre>"
      ],
      "text/plain": [
       "| 3         | 32000    | 23536.511202 | 0.937000          |                     | 4.981481        |"
      ]
     },
     "metadata": {},
     "output_type": "display_data"
    },
    {
     "data": {
      "text/html": [
       "<pre>| 3         | 32100    | 23558.425351 | 0.937165          |                     | 4.563263        |</pre>"
      ],
      "text/plain": [
       "| 3         | 32100    | 23558.425351 | 0.937165          |                     | 4.563263        |"
      ]
     },
     "metadata": {},
     "output_type": "display_data"
    },
    {
     "data": {
      "text/html": [
       "<pre>| 3         | 32200    | 23578.631202 | 0.937267          |                     | 4.949065        |</pre>"
      ],
      "text/plain": [
       "| 3         | 32200    | 23578.631202 | 0.937267          |                     | 4.949065        |"
      ]
     },
     "metadata": {},
     "output_type": "display_data"
    },
    {
     "data": {
      "text/html": [
       "<pre>| 3         | 32300    | 23604.201429 | 0.937276          |                     | 3.910797        |</pre>"
      ],
      "text/plain": [
       "| 3         | 32300    | 23604.201429 | 0.937276          |                     | 3.910797        |"
      ]
     },
     "metadata": {},
     "output_type": "display_data"
    },
    {
     "data": {
      "text/html": [
       "<pre>| 3         | 32400    | 23626.811478 | 0.937377          |                     | 4.422810        |</pre>"
      ],
      "text/plain": [
       "| 3         | 32400    | 23626.811478 | 0.937377          |                     | 4.422810        |"
      ]
     },
     "metadata": {},
     "output_type": "display_data"
    },
    {
     "data": {
      "text/html": [
       "<pre>| 3         | 32500    | 23648.253015 | 0.937477          |                     | 4.663843        |</pre>"
      ],
      "text/plain": [
       "| 3         | 32500    | 23648.253015 | 0.937477          |                     | 4.663843        |"
      ]
     },
     "metadata": {},
     "output_type": "display_data"
    },
    {
     "data": {
      "text/html": [
       "<pre>| 3         | 32600    | 23675.686647 | 0.937607          |                     | 3.645162        |</pre>"
      ],
      "text/plain": [
       "| 3         | 32600    | 23675.686647 | 0.937607          |                     | 3.645162        |"
      ]
     },
     "metadata": {},
     "output_type": "display_data"
    },
    {
     "data": {
      "text/html": [
       "<pre>| 3         | 32700    | 23702.186159 | 0.937615          |                     | 3.773654        |</pre>"
      ],
      "text/plain": [
       "| 3         | 32700    | 23702.186159 | 0.937615          |                     | 3.773654        |"
      ]
     },
     "metadata": {},
     "output_type": "display_data"
    },
    {
     "data": {
      "text/html": [
       "<pre>| 3         | 32800    | 23725.489180 | 0.937622          |                     | 4.291293        |</pre>"
      ],
      "text/plain": [
       "| 3         | 32800    | 23725.489180 | 0.937622          |                     | 4.291293        |"
      ]
     },
     "metadata": {},
     "output_type": "display_data"
    },
    {
     "data": {
      "text/html": [
       "<pre>| 3         | 32900    | 23756.014477 | 0.937660          |                     | 3.275969        |</pre>"
      ],
      "text/plain": [
       "| 3         | 32900    | 23756.014477 | 0.937660          |                     | 3.275969        |"
      ]
     },
     "metadata": {},
     "output_type": "display_data"
    },
    {
     "data": {
      "text/html": [
       "<pre>| 3         | 33000    | 23782.178775 | 0.937636          |                     | 3.822002        |</pre>"
      ],
      "text/plain": [
       "| 3         | 33000    | 23782.178775 | 0.937636          |                     | 3.822002        |"
      ]
     },
     "metadata": {},
     "output_type": "display_data"
    },
    {
     "data": {
      "text/html": [
       "<pre>| 3         | 33100    | 23805.460027 | 0.937734          |                     | 4.295302        |</pre>"
      ],
      "text/plain": [
       "| 3         | 33100    | 23805.460027 | 0.937734          |                     | 4.295302        |"
      ]
     },
     "metadata": {},
     "output_type": "display_data"
    },
    {
     "data": {
      "text/html": [
       "<pre>| 3         | 33200    | 23828.380595 | 0.937861          |                     | 4.362894        |</pre>"
      ],
      "text/plain": [
       "| 3         | 33200    | 23828.380595 | 0.937861          |                     | 4.362894        |"
      ]
     },
     "metadata": {},
     "output_type": "display_data"
    },
    {
     "data": {
      "text/html": [
       "<pre>| 3         | 33300    | 23856.113236 | 0.937838          |                     | 3.605862        |</pre>"
      ],
      "text/plain": [
       "| 3         | 33300    | 23856.113236 | 0.937838          |                     | 3.605862        |"
      ]
     },
     "metadata": {},
     "output_type": "display_data"
    },
    {
     "data": {
      "text/html": [
       "<pre>| 3         | 33400    | 23884.167097 | 0.937874          |                     | 3.564568        |</pre>"
      ],
      "text/plain": [
       "| 3         | 33400    | 23884.167097 | 0.937874          |                     | 3.564568        |"
      ]
     },
     "metadata": {},
     "output_type": "display_data"
    },
    {
     "data": {
      "text/html": [
       "<pre>| 3         | 33500    | 23907.952255 | 0.937940          |                     | 4.204303        |</pre>"
      ],
      "text/plain": [
       "| 3         | 33500    | 23907.952255 | 0.937940          |                     | 4.204303        |"
      ]
     },
     "metadata": {},
     "output_type": "display_data"
    },
    {
     "data": {
      "text/html": [
       "<pre>| 3         | 33600    | 23933.804780 | 0.937768          |                     | 3.868094        |</pre>"
      ],
      "text/plain": [
       "| 3         | 33600    | 23933.804780 | 0.937768          |                     | 3.868094        |"
      ]
     },
     "metadata": {},
     "output_type": "display_data"
    },
    {
     "data": {
      "text/html": [
       "<pre>| 3         | 33700    | 23956.154846 | 0.937745          |                     | 4.474260        |</pre>"
      ],
      "text/plain": [
       "| 3         | 33700    | 23956.154846 | 0.937745          |                     | 4.474260        |"
      ]
     },
     "metadata": {},
     "output_type": "display_data"
    },
    {
     "data": {
      "text/html": [
       "<pre>| 3         | 33800    | 23977.729282 | 0.937781          |                     | 4.635121        |</pre>"
      ],
      "text/plain": [
       "| 3         | 33800    | 23977.729282 | 0.937781          |                     | 4.635121        |"
      ]
     },
     "metadata": {},
     "output_type": "display_data"
    },
    {
     "data": {
      "text/html": [
       "<pre>| 3         | 33900    | 23997.720758 | 0.937788          |                     | 5.002127        |</pre>"
      ],
      "text/plain": [
       "| 3         | 33900    | 23997.720758 | 0.937788          |                     | 5.002127        |"
      ]
     },
     "metadata": {},
     "output_type": "display_data"
    },
    {
     "data": {
      "text/html": [
       "<pre>| 3         | 34000    | 24019.681374 | 0.937794          |                     | 4.553605        |</pre>"
      ],
      "text/plain": [
       "| 3         | 34000    | 24019.681374 | 0.937794          |                     | 4.553605        |"
      ]
     },
     "metadata": {},
     "output_type": "display_data"
    },
    {
     "data": {
      "text/html": [
       "<pre>| 3         | 34100    | 24042.552240 | 0.937918          |                     | 4.372374        |</pre>"
      ],
      "text/plain": [
       "| 3         | 34100    | 24042.552240 | 0.937918          |                     | 4.372374        |"
      ]
     },
     "metadata": {},
     "output_type": "display_data"
    },
    {
     "data": {
      "text/html": [
       "<pre>| 3         | 34200    | 24064.859213 | 0.937953          |                     | 4.482903        |</pre>"
      ],
      "text/plain": [
       "| 3         | 34200    | 24064.859213 | 0.937953          |                     | 4.482903        |"
      ]
     },
     "metadata": {},
     "output_type": "display_data"
    },
    {
     "data": {
      "text/html": [
       "<pre>| 3         | 34300    | 24086.881049 | 0.938017          |                     | 4.540948        |</pre>"
      ],
      "text/plain": [
       "| 3         | 34300    | 24086.881049 | 0.938017          |                     | 4.540948        |"
      ]
     },
     "metadata": {},
     "output_type": "display_data"
    },
    {
     "data": {
      "text/html": [
       "<pre>| 3         | 34400    | 24108.891061 | 0.938052          |                     | 4.543394        |</pre>"
      ],
      "text/plain": [
       "| 3         | 34400    | 24108.891061 | 0.938052          |                     | 4.543394        |"
      ]
     },
     "metadata": {},
     "output_type": "display_data"
    },
    {
     "data": {
      "text/html": [
       "<pre>| 3         | 34500    | 24128.580613 | 0.938058          |                     | 5.078828        |</pre>"
      ],
      "text/plain": [
       "| 3         | 34500    | 24128.580613 | 0.938058          |                     | 5.078828        |"
      ]
     },
     "metadata": {},
     "output_type": "display_data"
    },
    {
     "data": {
      "text/html": [
       "<pre>| 3         | 34600    | 24148.472960 | 0.938092          |                     | 5.027058        |</pre>"
      ],
      "text/plain": [
       "| 3         | 34600    | 24148.472960 | 0.938092          |                     | 5.027058        |"
      ]
     },
     "metadata": {},
     "output_type": "display_data"
    },
    {
     "data": {
      "text/html": [
       "<pre>| 3         | 34700    | 24168.379947 | 0.938184          |                     | 5.023361        |</pre>"
      ],
      "text/plain": [
       "| 3         | 34700    | 24168.379947 | 0.938184          |                     | 5.023361        |"
      ]
     },
     "metadata": {},
     "output_type": "display_data"
    },
    {
     "data": {
      "text/html": [
       "<pre>| 3         | 34800    | 24188.103727 | 0.938103          |                     | 5.070023        |</pre>"
      ],
      "text/plain": [
       "| 3         | 34800    | 24188.103727 | 0.938103          |                     | 5.070023        |"
      ]
     },
     "metadata": {},
     "output_type": "display_data"
    },
    {
     "data": {
      "text/html": [
       "<pre>| 3         | 34900    | 24208.082088 | 0.938138          |                     | 5.005416        |</pre>"
      ],
      "text/plain": [
       "| 3         | 34900    | 24208.082088 | 0.938138          |                     | 5.005416        |"
      ]
     },
     "metadata": {},
     "output_type": "display_data"
    },
    {
     "data": {
      "text/html": [
       "<pre>| 3         | 35000    | 24230.478910 | 0.938171          |                     | 4.464923        |</pre>"
      ],
      "text/plain": [
       "| 3         | 35000    | 24230.478910 | 0.938171          |                     | 4.464923        |"
      ]
     },
     "metadata": {},
     "output_type": "display_data"
    },
    {
     "data": {
      "text/html": [
       "<pre>| 3         | 35100    | 24250.546421 | 0.938148          |                     | 4.983175        |</pre>"
      ],
      "text/plain": [
       "| 3         | 35100    | 24250.546421 | 0.938148          |                     | 4.983175        |"
      ]
     },
     "metadata": {},
     "output_type": "display_data"
    },
    {
     "data": {
      "text/html": [
       "<pre>| 3         | 35200    | 24271.777807 | 0.938182          |                     | 4.710007        |</pre>"
      ],
      "text/plain": [
       "| 3         | 35200    | 24271.777807 | 0.938182          |                     | 4.710007        |"
      ]
     },
     "metadata": {},
     "output_type": "display_data"
    },
    {
     "data": {
      "text/html": [
       "<pre>| 3         | 35300    | 24295.397073 | 0.938159          |                     | 4.233833        |</pre>"
      ],
      "text/plain": [
       "| 3         | 35300    | 24295.397073 | 0.938159          |                     | 4.233833        |"
      ]
     },
     "metadata": {},
     "output_type": "display_data"
    },
    {
     "data": {
      "text/html": [
       "<pre>| 3         | 35400    | 24315.042835 | 0.938277          |                     | 5.090154        |</pre>"
      ],
      "text/plain": [
       "| 3         | 35400    | 24315.042835 | 0.938277          |                     | 5.090154        |"
      ]
     },
     "metadata": {},
     "output_type": "display_data"
    },
    {
     "data": {
      "text/html": [
       "<pre>| 3         | 35500    | 24336.625355 | 0.938310          |                     | 4.633380        |</pre>"
      ],
      "text/plain": [
       "| 3         | 35500    | 24336.625355 | 0.938310          |                     | 4.633380        |"
      ]
     },
     "metadata": {},
     "output_type": "display_data"
    },
    {
     "data": {
      "text/html": [
       "<pre>| 3         | 35600    | 24359.214851 | 0.938343          |                     | 4.426840        |</pre>"
      ],
      "text/plain": [
       "| 3         | 35600    | 24359.214851 | 0.938343          |                     | 4.426840        |"
      ]
     },
     "metadata": {},
     "output_type": "display_data"
    },
    {
     "data": {
      "text/html": [
       "<pre>| 3         | 35700    | 24378.795953 | 0.938431          |                     | 5.106961        |</pre>"
      ],
      "text/plain": [
       "| 3         | 35700    | 24378.795953 | 0.938431          |                     | 5.106961        |"
      ]
     },
     "metadata": {},
     "output_type": "display_data"
    },
    {
     "data": {
      "text/html": [
       "<pre>| 3         | 35800    | 24398.502722 | 0.938464          |                     | 5.074397        |</pre>"
      ],
      "text/plain": [
       "| 3         | 35800    | 24398.502722 | 0.938464          |                     | 5.074397        |"
      ]
     },
     "metadata": {},
     "output_type": "display_data"
    },
    {
     "data": {
      "text/html": [
       "<pre>| 3         | 35900    | 24418.315721 | 0.938524          |                     | 5.047192        |</pre>"
      ],
      "text/plain": [
       "| 3         | 35900    | 24418.315721 | 0.938524          |                     | 5.047192        |"
      ]
     },
     "metadata": {},
     "output_type": "display_data"
    },
    {
     "data": {
      "text/html": [
       "<pre>| 3         | 36000    | 24438.078497 | 0.938528          |                     | 5.060019        |</pre>"
      ],
      "text/plain": [
       "| 3         | 36000    | 24438.078497 | 0.938528          |                     | 5.060019        |"
      ]
     },
     "metadata": {},
     "output_type": "display_data"
    },
    {
     "data": {
      "text/html": [
       "<pre>| 3         | 36100    | 24457.838692 | 0.938643          |                     | 5.060680        |</pre>"
      ],
      "text/plain": [
       "| 3         | 36100    | 24457.838692 | 0.938643          |                     | 5.060680        |"
      ]
     },
     "metadata": {},
     "output_type": "display_data"
    },
    {
     "data": {
      "text/html": [
       "<pre>| 3         | 36200    | 24485.416135 | 0.938619          |                     | 3.626154        |</pre>"
      ],
      "text/plain": [
       "| 3         | 36200    | 24485.416135 | 0.938619          |                     | 3.626154        |"
      ]
     },
     "metadata": {},
     "output_type": "display_data"
    },
    {
     "data": {
      "text/html": [
       "<pre>| 3         | 36300    | 24514.767048 | 0.938595          |                     | 3.407048        |</pre>"
      ],
      "text/plain": [
       "| 3         | 36300    | 24514.767048 | 0.938595          |                     | 3.407048        |"
      ]
     },
     "metadata": {},
     "output_type": "display_data"
    },
    {
     "data": {
      "text/html": [
       "<pre>| 3         | 36400    | 24540.465111 | 0.938599          |                     | 3.891342        |</pre>"
      ],
      "text/plain": [
       "| 3         | 36400    | 24540.465111 | 0.938599          |                     | 3.891342        |"
      ]
     },
     "metadata": {},
     "output_type": "display_data"
    },
    {
     "data": {
      "text/html": [
       "<pre>| 3         | 36500    | 24575.035343 | 0.938575          |                     | 2.892662        |</pre>"
      ],
      "text/plain": [
       "| 3         | 36500    | 24575.035343 | 0.938575          |                     | 2.892662        |"
      ]
     },
     "metadata": {},
     "output_type": "display_data"
    },
    {
     "data": {
      "text/html": [
       "<pre>| 3         | 36600    | 24601.984668 | 0.938689          |                     | 3.710670        |</pre>"
      ],
      "text/plain": [
       "| 3         | 36600    | 24601.984668 | 0.938689          |                     | 3.710670        |"
      ]
     },
     "metadata": {},
     "output_type": "display_data"
    },
    {
     "data": {
      "text/html": [
       "<pre>| 3         | 36700    | 24626.380447 | 0.938774          |                     | 4.099072        |</pre>"
      ],
      "text/plain": [
       "| 3         | 36700    | 24626.380447 | 0.938774          |                     | 4.099072        |"
      ]
     },
     "metadata": {},
     "output_type": "display_data"
    },
    {
     "data": {
      "text/html": [
       "<pre>| 3         | 36800    | 24649.004460 | 0.938777          |                     | 4.420079        |</pre>"
      ],
      "text/plain": [
       "| 3         | 36800    | 24649.004460 | 0.938777          |                     | 4.420079        |"
      ]
     },
     "metadata": {},
     "output_type": "display_data"
    },
    {
     "data": {
      "text/html": [
       "<pre>| 3         | 36900    | 24669.848825 | 0.938889          |                     | 4.797460        |</pre>"
      ],
      "text/plain": [
       "| 3         | 36900    | 24669.848825 | 0.938889          |                     | 4.797460        |"
      ]
     },
     "metadata": {},
     "output_type": "display_data"
    },
    {
     "data": {
      "text/html": [
       "<pre>| 3         | 37000    | 24693.956639 | 0.938865          |                     | 4.148032        |</pre>"
      ],
      "text/plain": [
       "| 3         | 37000    | 24693.956639 | 0.938865          |                     | 4.148032        |"
      ]
     },
     "metadata": {},
     "output_type": "display_data"
    },
    {
     "data": {
      "text/html": [
       "<pre>| 3         | 37100    | 24714.291203 | 0.938814          |                     | 4.917735        |</pre>"
      ],
      "text/plain": [
       "| 3         | 37100    | 24714.291203 | 0.938814          |                     | 4.917735        |"
      ]
     },
     "metadata": {},
     "output_type": "display_data"
    },
    {
     "data": {
      "text/html": [
       "<pre>| 3         | 37200    | 24738.495300 | 0.938790          |                     | 4.131535        |</pre>"
      ],
      "text/plain": [
       "| 3         | 37200    | 24738.495300 | 0.938790          |                     | 4.131535        |"
      ]
     },
     "metadata": {},
     "output_type": "display_data"
    },
    {
     "data": {
      "text/html": [
       "<pre>| 3         | 37300    | 24760.519540 | 0.938820          |                     | 4.540452        |</pre>"
      ],
      "text/plain": [
       "| 3         | 37300    | 24760.519540 | 0.938820          |                     | 4.540452        |"
      ]
     },
     "metadata": {},
     "output_type": "display_data"
    },
    {
     "data": {
      "text/html": [
       "<pre>| 3         | 37400    | 24783.551183 | 0.938877          |                     | 4.341849        |</pre>"
      ],
      "text/plain": [
       "| 3         | 37400    | 24783.551183 | 0.938877          |                     | 4.341849        |"
      ]
     },
     "metadata": {},
     "output_type": "display_data"
    },
    {
     "data": {
      "text/html": [
       "<pre>| 3         | 37400    | 24940.486680 | 0.938877          | 0.981293            | 4.341849        |</pre>"
      ],
      "text/plain": [
       "| 3         | 37400    | 24940.486680 | 0.938877          | 0.981293            | 4.341849        |"
      ]
     },
     "metadata": {},
     "output_type": "display_data"
    },
    {
     "data": {
      "text/html": [
       "<pre>Checkpointing model into rep IDSIA by 3 conv graphlab net - train in 3 iter</pre>"
      ],
      "text/plain": [
       "Checkpointing model into rep IDSIA by 3 conv graphlab net - train in 3 iter"
      ]
     },
     "metadata": {},
     "output_type": "display_data"
    },
    {
     "data": {
      "text/html": [
       "<pre>+-----------+----------+--------------+-------------------+---------------------+-----------------+</pre>"
      ],
      "text/plain": [
       "+-----------+----------+--------------+-------------------+---------------------+-----------------+"
      ]
     },
     "metadata": {},
     "output_type": "display_data"
    },
    {
     "name": "stdout",
     "output_type": "stream",
     "text": [
      "Using network:\n",
      "\n",
      "### network layers ###\n",
      "layer[0]: ConvolutionLayer\n",
      "  init_random = gaussian\n",
      "  padding = 0\n",
      "  stride = 1\n",
      "  num_channels = 100\n",
      "  num_groups = 1\n",
      "  kernel_size = 3\n",
      "layer[1]: MaxPoolingLayer\n",
      "  padding = 0\n",
      "  stride = 2\n",
      "  kernel_size = 2\n",
      "layer[2]: ConvolutionLayer\n",
      "  init_random = gaussian\n",
      "  padding = 0\n",
      "  stride = 1\n",
      "  num_channels = 150\n",
      "  num_groups = 1\n",
      "  kernel_size = 4\n",
      "layer[3]: MaxPoolingLayer\n",
      "  padding = 0\n",
      "  stride = 2\n",
      "  kernel_size = 2\n",
      "layer[4]: ConvolutionLayer\n",
      "  init_random = gaussian\n",
      "  padding = 0\n",
      "  stride = 1\n",
      "  num_channels = 250\n",
      "  num_groups = 1\n",
      "  kernel_size = 3\n",
      "layer[5]: MaxPoolingLayer\n",
      "  padding = 0\n",
      "  stride = 2\n",
      "  kernel_size = 2\n",
      "layer[6]: FlattenLayer\n",
      "layer[7]: FullConnectionLayer\n",
      "  init_sigma = 0.01\n",
      "  init_random = gaussian\n",
      "  init_bias = 0\n",
      "  num_hidden_units = 200\n",
      "layer[8]: RectifiedLinearLayer\n",
      "layer[9]: DropoutLayer\n",
      "  threshold = 0.5\n",
      "layer[10]: FullConnectionLayer\n",
      "  init_sigma = 0.01\n",
      "  init_random = gaussian\n",
      "  init_bias = 0\n",
      "  num_hidden_units = 43\n",
      "layer[11]: SoftmaxLayer\n",
      "### end network layers ###\n",
      "\n",
      "### network parameters ###\n",
      "model_checkpoint_interval = 1\n",
      "learning_rate = 0.001\n",
      "momentum = 0.9\n",
      "model_checkpoint_path = rep IDSIA by 3 conv graphlab net - train in 3 iter\n",
      "### end network parameters ###\n",
      "\n",
      "PROGRESS: Creating a validation set from 5 percent of training data. This may take a while.\n",
      "          You can set ``validation_set=None`` to disable validation tracking.\n",
      "\n"
     ]
    }
   ],
   "source": [
    "trained_dato = gl.neuralnet_classifier.create(train_signs, target='label',#create mang moi, muon train lai mang cu phai tim cach khac\n",
    "                                             features=['image'],\n",
    "                                             network= dato_net,\n",
    "                                             max_iterations= 3,\n",
    "                                              model_checkpoint_path ='rep IDSIA by 3 conv graphlab net - train in 3 iter',\n",
    "                                              model_checkpoint_interval = 1\n",
    "                                             )"
   ]
  }
 ],
 "metadata": {
  "kernelspec": {
   "display_name": "Python 2",
   "language": "python",
   "name": "python2"
  },
  "language_info": {
   "codemirror_mode": {
    "name": "ipython",
    "version": 2
   },
   "file_extension": ".py",
   "mimetype": "text/x-python",
   "name": "python",
   "nbconvert_exporter": "python",
   "pygments_lexer": "ipython2",
   "version": "2.7.12"
  }
 },
 "nbformat": 4,
 "nbformat_minor": 0
}
