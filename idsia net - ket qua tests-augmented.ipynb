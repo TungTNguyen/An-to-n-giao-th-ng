{
 "cells": [
  {
   "cell_type": "markdown",
   "metadata": {},
   "source": [
    "# Vòng lặp thứ 10:"
   ]
  },
  {
   "cell_type": "code",
   "execution_count": 1,
   "metadata": {
    "collapsed": false
   },
   "outputs": [
    {
     "name": "stdout",
     "output_type": "stream",
     "text": [
      "This non-commercial license of GraphLab Create for academic use is assigned to keira1412@gmail.com and will expire on October 05, 2017.\n"
     ]
    },
    {
     "name": "stderr",
     "output_type": "stream",
     "text": [
      "[INFO] graphlab.cython.cy_server: GraphLab Create v2.1 started. Logging: /tmp/graphlab_server_1480139852.log\n"
     ]
    },
    {
     "data": {
      "text/plain": [
       "Class               : NeuralNetClassifier\n",
       "\n",
       "Schema\n",
       "------\n",
       "Examples            : 37235\n",
       "Features            : 1\n",
       "Target column       : label\n",
       "\n",
       "Training Summary\n",
       "----------------\n",
       "Training accuracy   : 0.9102\n",
       "Validation accuracy : 0.961\n",
       "Training time (sec) : 63708.1784"
      ]
     },
     "execution_count": 1,
     "metadata": {},
     "output_type": "execute_result"
    }
   ],
   "source": [
    "import graphlab as gl\n",
    "\n",
    "idsia_net_10_iter = gl.load_model('IDSIA net - augmented train in 100 iter')\n",
    "idsia_net_10_iter"
   ]
  },
  {
   "cell_type": "code",
   "execution_count": 2,
   "metadata": {
    "collapsed": false
   },
   "outputs": [
    {
     "data": {
      "text/plain": [
       "{'accuracy': 0.939746618270874, 'confusion_matrix': Columns:\n",
       " \ttarget_label\tint\n",
       " \tpredicted_label\tint\n",
       " \tcount\tint\n",
       " \n",
       " Rows: 215\n",
       " \n",
       " Data:\n",
       " +--------------+-----------------+-------+\n",
       " | target_label | predicted_label | count |\n",
       " +--------------+-----------------+-------+\n",
       " |      0       |        0        |   42  |\n",
       " |      1       |        1        |  707  |\n",
       " |      2       |        1        |   7   |\n",
       " |      3       |        1        |   1   |\n",
       " |      4       |        1        |   9   |\n",
       " |      5       |        1        |   19  |\n",
       " |      6       |        1        |   1   |\n",
       " |      8       |        1        |   1   |\n",
       " |      18      |        1        |   2   |\n",
       " |      21      |        1        |   14  |\n",
       " +--------------+-----------------+-------+\n",
       " [215 rows x 3 columns]\n",
       " Note: Only the head of the SFrame is printed.\n",
       " You can use print_rows(num_rows=m, num_columns=n) to print more rows and columns.}"
      ]
     },
     "execution_count": 2,
     "metadata": {},
     "output_type": "execute_result"
    }
   ],
   "source": [
    "test_signs= gl.SFrame('test_sframe/')\n",
    "test_signs['image'] = gl.image_analysis.resize(test_signs['image'], 48, 48, channels= 3)\n",
    "#28 cho Lenet, 30 (mình chọn) cho mạng dato 1000 lượt, \n",
    "#48 cho idsia net, 3 channels \n",
    "# test_signs\n",
    "idsia_net_10_iter.evaluate(test_signs)"
   ]
  },
  {
   "cell_type": "markdown",
   "metadata": {
    "collapsed": true
   },
   "source": [
    "14 tieng"
   ]
  },
  {
   "cell_type": "markdown",
   "metadata": {},
   "source": [
    "# Vòng lặp thứ 11:"
   ]
  },
  {
   "cell_type": "code",
   "execution_count": 4,
   "metadata": {
    "collapsed": false
   },
   "outputs": [
    {
     "data": {
      "text/plain": [
       "Class               : NeuralNetClassifier\n",
       "\n",
       "Schema\n",
       "------\n",
       "Examples            : 37235\n",
       "Features            : 1\n",
       "Target column       : label\n",
       "\n",
       "Training Summary\n",
       "----------------\n",
       "Training accuracy   : 0.9172\n",
       "Validation accuracy : 0.964\n",
       "Training time (sec) : 70319.7493"
      ]
     },
     "execution_count": 4,
     "metadata": {},
     "output_type": "execute_result"
    }
   ],
   "source": [
    "idsia_net_11_iters = gl.load_model('IDSIA net - augmented train in 100 iter/')\n",
    "idsia_net_11_iters"
   ]
  },
  {
   "cell_type": "code",
   "execution_count": 5,
   "metadata": {
    "collapsed": false,
    "scrolled": false
   },
   "outputs": [
    {
     "data": {
      "text/plain": [
       "{'accuracy': 0.9367379546165466, 'confusion_matrix': Columns:\n",
       " \ttarget_label\tint\n",
       " \tpredicted_label\tint\n",
       " \tcount\tint\n",
       " \n",
       " Rows: 202\n",
       " \n",
       " Data:\n",
       " +--------------+-----------------+-------+\n",
       " | target_label | predicted_label | count |\n",
       " +--------------+-----------------+-------+\n",
       " |      0       |        0        |   52  |\n",
       " |      1       |        1        |  704  |\n",
       " |      2       |        1        |   5   |\n",
       " |      3       |        1        |   1   |\n",
       " |      4       |        1        |   9   |\n",
       " |      5       |        1        |   6   |\n",
       " |      8       |        1        |   2   |\n",
       " |      25      |        1        |   1   |\n",
       " |      1       |        2        |   2   |\n",
       " |      2       |        2        |  733  |\n",
       " +--------------+-----------------+-------+\n",
       " [202 rows x 3 columns]\n",
       " Note: Only the head of the SFrame is printed.\n",
       " You can use print_rows(num_rows=m, num_columns=n) to print more rows and columns.}"
      ]
     },
     "execution_count": 5,
     "metadata": {},
     "output_type": "execute_result"
    }
   ],
   "source": [
    "idsia_net_11_iters.evaluate(test_signs)"
   ]
  },
  {
   "cell_type": "markdown",
   "metadata": {},
   "source": [
    "16 tieng ruoi"
   ]
  },
  {
   "cell_type": "markdown",
   "metadata": {},
   "source": [
    "# Vòng lặp thứ 13:"
   ]
  },
  {
   "cell_type": "code",
   "execution_count": 6,
   "metadata": {
    "collapsed": false
   },
   "outputs": [
    {
     "data": {
      "text/plain": [
       "Class               : NeuralNetClassifier\n",
       "\n",
       "Schema\n",
       "------\n",
       "Examples            : 37235\n",
       "Features            : 1\n",
       "Target column       : label\n",
       "\n",
       "Training Summary\n",
       "----------------\n",
       "Training accuracy   : 0.9253\n",
       "Validation accuracy : 0.962\n",
       "Training time (sec) : 83351.8899"
      ]
     },
     "execution_count": 6,
     "metadata": {},
     "output_type": "execute_result"
    }
   ],
   "source": [
    "idsia_net_13_iters = gl.load_model('IDSIA net - augmented train in 100 iter/')\n",
    "idsia_net_13_iters"
   ]
  },
  {
   "cell_type": "code",
   "execution_count": 7,
   "metadata": {
    "collapsed": false,
    "scrolled": false
   },
   "outputs": [
    {
     "data": {
      "text/plain": [
       "{'accuracy': 0.9364212155342102, 'confusion_matrix': Columns:\n",
       " \ttarget_label\tint\n",
       " \tpredicted_label\tint\n",
       " \tcount\tint\n",
       " \n",
       " Rows: 209\n",
       " \n",
       " Data:\n",
       " +--------------+-----------------+-------+\n",
       " | target_label | predicted_label | count |\n",
       " +--------------+-----------------+-------+\n",
       " |      0       |        0        |   60  |\n",
       " |      4       |        0        |   1   |\n",
       " |      1       |        1        |  712  |\n",
       " |      2       |        1        |   6   |\n",
       " |      3       |        1        |   1   |\n",
       " |      4       |        1        |   11  |\n",
       " |      5       |        1        |   16  |\n",
       " |      8       |        1        |   3   |\n",
       " |      18      |        1        |   1   |\n",
       " |      25      |        1        |   1   |\n",
       " +--------------+-----------------+-------+\n",
       " [209 rows x 3 columns]\n",
       " Note: Only the head of the SFrame is printed.\n",
       " You can use print_rows(num_rows=m, num_columns=n) to print more rows and columns.}"
      ]
     },
     "execution_count": 7,
     "metadata": {},
     "output_type": "execute_result"
    }
   ],
   "source": [
    "idsia_net_13_iters.evaluate(test_signs)"
   ]
  },
  {
   "cell_type": "markdown",
   "metadata": {},
   "source": [
    "# Vòng lặp thứ 45:"
   ]
  },
  {
   "cell_type": "code",
   "execution_count": 8,
   "metadata": {
    "collapsed": false
   },
   "outputs": [
    {
     "data": {
      "text/plain": [
       "Class               : NeuralNetClassifier\n",
       "\n",
       "Schema\n",
       "------\n",
       "Examples            : 37235\n",
       "Features            : 1\n",
       "Target column       : label\n",
       "\n",
       "Training Summary\n",
       "----------------\n",
       "Training accuracy   : 0.9694\n",
       "Validation accuracy : 0.9873\n",
       "Training time (sec) : 330337.237"
      ]
     },
     "execution_count": 8,
     "metadata": {},
     "output_type": "execute_result"
    }
   ],
   "source": [
    "idsia_net_45_iters = gl.load_model('IDSIA net - augmented train in 100 iter/')\n",
    "idsia_net_45_iters"
   ]
  },
  {
   "cell_type": "code",
   "execution_count": 9,
   "metadata": {
    "collapsed": false,
    "scrolled": false
   },
   "outputs": [
    {
     "data": {
      "text/plain": [
       "{'accuracy': 0.95502769947052, 'confusion_matrix': Columns:\n",
       " \ttarget_label\tint\n",
       " \tpredicted_label\tint\n",
       " \tcount\tint\n",
       " \n",
       " Rows: 168\n",
       " \n",
       " Data:\n",
       " +--------------+-----------------+-------+\n",
       " | target_label | predicted_label | count |\n",
       " +--------------+-----------------+-------+\n",
       " |      0       |        0        |   60  |\n",
       " |      1       |        1        |  707  |\n",
       " |      2       |        1        |   1   |\n",
       " |      4       |        1        |   6   |\n",
       " |      5       |        1        |   5   |\n",
       " |      10      |        1        |   1   |\n",
       " |      18      |        1        |   5   |\n",
       " |      25      |        1        |   1   |\n",
       " |      40      |        1        |   1   |\n",
       " |      2       |        2        |  747  |\n",
       " +--------------+-----------------+-------+\n",
       " [168 rows x 3 columns]\n",
       " Note: Only the head of the SFrame is printed.\n",
       " You can use print_rows(num_rows=m, num_columns=n) to print more rows and columns.}"
      ]
     },
     "execution_count": 9,
     "metadata": {},
     "output_type": "execute_result"
    }
   ],
   "source": [
    "idsia_net_45_iters.evaluate(test_signs)"
   ]
  },
  {
   "cell_type": "markdown",
   "metadata": {},
   "source": [
    "# Vòng lặp thứ 66:"
   ]
  },
  {
   "cell_type": "code",
   "execution_count": 10,
   "metadata": {
    "collapsed": false
   },
   "outputs": [
    {
     "data": {
      "text/plain": [
       "Class               : NeuralNetClassifier\n",
       "\n",
       "Schema\n",
       "------\n",
       "Examples            : 37235\n",
       "Features            : 1\n",
       "Target column       : label\n",
       "\n",
       "Training Summary\n",
       "----------------\n",
       "Training accuracy   : 0.9772\n",
       "Validation accuracy : 0.9909\n",
       "Training time (sec) : 495254.4293"
      ]
     },
     "execution_count": 10,
     "metadata": {},
     "output_type": "execute_result"
    }
   ],
   "source": [
    "idsia_net_66_iters = gl.load_model('IDSIA net - augmented train in 100 iter/')\n",
    "idsia_net_66_iters"
   ]
  },
  {
   "cell_type": "code",
   "execution_count": 11,
   "metadata": {
    "collapsed": false,
    "scrolled": false
   },
   "outputs": [
    {
     "data": {
      "text/plain": [
       "{'accuracy': 0.9618368744850159, 'confusion_matrix': Columns:\n",
       " \ttarget_label\tint\n",
       " \tpredicted_label\tint\n",
       " \tcount\tint\n",
       " \n",
       " Rows: 158\n",
       " \n",
       " Data:\n",
       " +--------------+-----------------+-------+\n",
       " | target_label | predicted_label | count |\n",
       " +--------------+-----------------+-------+\n",
       " |      0       |        0        |   59  |\n",
       " |      1       |        1        |  712  |\n",
       " |      2       |        1        |   1   |\n",
       " |      4       |        1        |   7   |\n",
       " |      5       |        1        |   10  |\n",
       " |      6       |        1        |   1   |\n",
       " |      8       |        1        |   1   |\n",
       " |      21      |        1        |   10  |\n",
       " |      25      |        1        |   1   |\n",
       " |      30      |        1        |   1   |\n",
       " +--------------+-----------------+-------+\n",
       " [158 rows x 3 columns]\n",
       " Note: Only the head of the SFrame is printed.\n",
       " You can use print_rows(num_rows=m, num_columns=n) to print more rows and columns.}"
      ]
     },
     "execution_count": 11,
     "metadata": {},
     "output_type": "execute_result"
    }
   ],
   "source": [
    "idsia_net_66_iters.evaluate(test_signs)"
   ]
  },
  {
   "cell_type": "markdown",
   "metadata": {},
   "source": [
    "# Vòng lặp thứ 16:"
   ]
  },
  {
   "cell_type": "code",
   "execution_count": 14,
   "metadata": {
    "collapsed": false
   },
   "outputs": [
    {
     "data": {
      "text/plain": [
       "Class               : NeuralNetClassifier\n",
       "\n",
       "Schema\n",
       "------\n",
       "Examples            : 37211\n",
       "Features            : 1\n",
       "Target column       : label\n",
       "\n",
       "Training Summary\n",
       "----------------\n",
       "Training accuracy   : 0.9874\n",
       "Validation accuracy : 0.996\n",
       "Training time (sec) : 163034.2488"
      ]
     },
     "execution_count": 14,
     "metadata": {},
     "output_type": "execute_result"
    }
   ],
   "source": [
    "idsia_net_16_iters = gl.load_model('IDSIA net - train in 1000 iter/')\n",
    "idsia_net_16_iters"
   ]
  },
  {
   "cell_type": "code",
   "execution_count": 15,
   "metadata": {
    "collapsed": false,
    "scrolled": false
   },
   "outputs": [
    {
     "data": {
      "text/plain": [
       "{'accuracy': 0.958748996257782, 'confusion_matrix': Columns:\n",
       " \ttarget_label\tint\n",
       " \tpredicted_label\tint\n",
       " \tcount\tint\n",
       " \n",
       " Rows: 213\n",
       " \n",
       " Data:\n",
       " +--------------+-----------------+-------+\n",
       " | target_label | predicted_label | count |\n",
       " +--------------+-----------------+-------+\n",
       " |      0       |        0        |   58  |\n",
       " |      1       |        1        |  713  |\n",
       " |      2       |        1        |   9   |\n",
       " |      4       |        1        |   12  |\n",
       " |      5       |        1        |   7   |\n",
       " |      6       |        1        |   1   |\n",
       " |      8       |        1        |   3   |\n",
       " |      10      |        1        |   1   |\n",
       " |      18      |        1        |   5   |\n",
       " |      27      |        1        |   3   |\n",
       " +--------------+-----------------+-------+\n",
       " [213 rows x 3 columns]\n",
       " Note: Only the head of the SFrame is printed.\n",
       " You can use print_rows(num_rows=m, num_columns=n) to print more rows and columns.}"
      ]
     },
     "execution_count": 15,
     "metadata": {},
     "output_type": "execute_result"
    }
   ],
   "source": [
    "idsia_net_16_iters.evaluate(test_signs)"
   ]
  },
  {
   "cell_type": "markdown",
   "metadata": {},
   "source": [
    "# Vòng lặp thứ 17:"
   ]
  },
  {
   "cell_type": "code",
   "execution_count": 16,
   "metadata": {
    "collapsed": false
   },
   "outputs": [
    {
     "data": {
      "text/plain": [
       "Class               : NeuralNetClassifier\n",
       "\n",
       "Schema\n",
       "------\n",
       "Examples            : 37211\n",
       "Features            : 1\n",
       "Target column       : label\n",
       "\n",
       "Training Summary\n",
       "----------------\n",
       "Training accuracy   : 0.9889\n",
       "Validation accuracy : 0.995\n",
       "Training time (sec) : 172999.4944"
      ]
     },
     "execution_count": 16,
     "metadata": {},
     "output_type": "execute_result"
    }
   ],
   "source": [
    "idsia_net_17_iters = gl.load_model('IDSIA net - train in 1000 iter/')\n",
    "idsia_net_17_iters"
   ]
  },
  {
   "cell_type": "code",
   "execution_count": 17,
   "metadata": {
    "collapsed": false,
    "scrolled": false
   },
   "outputs": [
    {
     "data": {
      "text/plain": [
       "{'accuracy': 0.9559778571128845, 'confusion_matrix': Columns:\n",
       " \ttarget_label\tint\n",
       " \tpredicted_label\tint\n",
       " \tcount\tint\n",
       " \n",
       " Rows: 199\n",
       " \n",
       " Data:\n",
       " +--------------+-----------------+-------+\n",
       " | target_label | predicted_label | count |\n",
       " +--------------+-----------------+-------+\n",
       " |      0       |        0        |   59  |\n",
       " |      1       |        1        |  707  |\n",
       " |      2       |        1        |   6   |\n",
       " |      4       |        1        |   3   |\n",
       " |      5       |        1        |   2   |\n",
       " |      8       |        1        |   2   |\n",
       " |      10      |        1        |   1   |\n",
       " |      18      |        1        |   4   |\n",
       " |      30      |        1        |   1   |\n",
       " |      1       |        2        |   6   |\n",
       " +--------------+-----------------+-------+\n",
       " [199 rows x 3 columns]\n",
       " Note: Only the head of the SFrame is printed.\n",
       " You can use print_rows(num_rows=m, num_columns=n) to print more rows and columns.}"
      ]
     },
     "execution_count": 17,
     "metadata": {},
     "output_type": "execute_result"
    }
   ],
   "source": [
    "idsia_net_17_iters.evaluate(test_signs)"
   ]
  },
  {
   "cell_type": "markdown",
   "metadata": {},
   "source": [
    "# Vòng lặp thứ 38:"
   ]
  },
  {
   "cell_type": "code",
   "execution_count": 18,
   "metadata": {
    "collapsed": false
   },
   "outputs": [
    {
     "data": {
      "text/plain": [
       "Class               : NeuralNetClassifier\n",
       "\n",
       "Schema\n",
       "------\n",
       "Examples            : 37211\n",
       "Features            : 1\n",
       "Target column       : label\n",
       "\n",
       "Training Summary\n",
       "----------------\n",
       "Training accuracy   : 0.9956\n",
       "Validation accuracy : 0.996\n",
       "Training time (sec) : 397913.023"
      ]
     },
     "execution_count": 18,
     "metadata": {},
     "output_type": "execute_result"
    }
   ],
   "source": [
    "idsia_net_38_iters = gl.load_model('IDSIA net - train in 1000 iter/')\n",
    "idsia_net_38_iters"
   ]
  },
  {
   "cell_type": "code",
   "execution_count": 19,
   "metadata": {
    "collapsed": false,
    "scrolled": false
   },
   "outputs": [
    {
     "data": {
      "text/plain": [
       "{'accuracy': 0.9628661870956421, 'confusion_matrix': Columns:\n",
       " \ttarget_label\tint\n",
       " \tpredicted_label\tint\n",
       " \tcount\tint\n",
       " \n",
       " Rows: 197\n",
       " \n",
       " Data:\n",
       " +--------------+-----------------+-------+\n",
       " | target_label | predicted_label | count |\n",
       " +--------------+-----------------+-------+\n",
       " |      0       |        0        |   60  |\n",
       " |      1       |        1        |  712  |\n",
       " |      2       |        1        |   3   |\n",
       " |      4       |        1        |   8   |\n",
       " |      5       |        1        |   2   |\n",
       " |      8       |        1        |   2   |\n",
       " |      18      |        1        |   4   |\n",
       " |      27      |        1        |   2   |\n",
       " |      30      |        1        |   1   |\n",
       " |      38      |        1        |   2   |\n",
       " +--------------+-----------------+-------+\n",
       " [197 rows x 3 columns]\n",
       " Note: Only the head of the SFrame is printed.\n",
       " You can use print_rows(num_rows=m, num_columns=n) to print more rows and columns.}"
      ]
     },
     "execution_count": 19,
     "metadata": {},
     "output_type": "execute_result"
    }
   ],
   "source": [
    "idsia_net_38_iters.evaluate(test_signs)"
   ]
  },
  {
   "cell_type": "markdown",
   "metadata": {},
   "source": [
    "# Vòng lặp thứ 39:"
   ]
  },
  {
   "cell_type": "code",
   "execution_count": 20,
   "metadata": {
    "collapsed": false
   },
   "outputs": [
    {
     "data": {
      "text/plain": [
       "Class               : NeuralNetClassifier\n",
       "\n",
       "Schema\n",
       "------\n",
       "Examples            : 37211\n",
       "Features            : 1\n",
       "Target column       : label\n",
       "\n",
       "Training Summary\n",
       "----------------\n",
       "Training accuracy   : 0.9957\n",
       "Validation accuracy : 0.9975\n",
       "Training time (sec) : 409783.4283"
      ]
     },
     "execution_count": 20,
     "metadata": {},
     "output_type": "execute_result"
    }
   ],
   "source": [
    "idsia_net_39_iters = gl.load_model('IDSIA net - train in 1000 iter/')\n",
    "idsia_net_39_iters"
   ]
  },
  {
   "cell_type": "code",
   "execution_count": 21,
   "metadata": {
    "collapsed": false,
    "scrolled": false
   },
   "outputs": [
    {
     "data": {
      "text/plain": [
       "{'accuracy': 0.9642913937568665, 'confusion_matrix': Columns:\n",
       " \ttarget_label\tint\n",
       " \tpredicted_label\tint\n",
       " \tcount\tint\n",
       " \n",
       " Rows: 197\n",
       " \n",
       " Data:\n",
       " +--------------+-----------------+-------+\n",
       " | target_label | predicted_label | count |\n",
       " +--------------+-----------------+-------+\n",
       " |      0       |        0        |   59  |\n",
       " |      1       |        1        |  708  |\n",
       " |      2       |        1        |   2   |\n",
       " |      4       |        1        |   3   |\n",
       " |      5       |        1        |   1   |\n",
       " |      6       |        1        |   1   |\n",
       " |      10      |        1        |   1   |\n",
       " |      18      |        1        |   4   |\n",
       " |      30      |        1        |   1   |\n",
       " |      38      |        1        |   1   |\n",
       " +--------------+-----------------+-------+\n",
       " [197 rows x 3 columns]\n",
       " Note: Only the head of the SFrame is printed.\n",
       " You can use print_rows(num_rows=m, num_columns=n) to print more rows and columns.}"
      ]
     },
     "execution_count": 21,
     "metadata": {},
     "output_type": "execute_result"
    }
   ],
   "source": [
    "idsia_net_39_iters.evaluate(test_signs)"
   ]
  },
  {
   "cell_type": "markdown",
   "metadata": {},
   "source": [
    "# Vòng lặp thứ 40:"
   ]
  },
  {
   "cell_type": "code",
   "execution_count": 22,
   "metadata": {
    "collapsed": false
   },
   "outputs": [
    {
     "data": {
      "text/plain": [
       "Class               : NeuralNetClassifier\n",
       "\n",
       "Schema\n",
       "------\n",
       "Examples            : 37211\n",
       "Features            : 1\n",
       "Target column       : label\n",
       "\n",
       "Training Summary\n",
       "----------------\n",
       "Training accuracy   : 0.9957\n",
       "Validation accuracy : 0.9975\n",
       "Training time (sec) : 421702.3846"
      ]
     },
     "execution_count": 22,
     "metadata": {},
     "output_type": "execute_result"
    }
   ],
   "source": [
    "idsia_net_40_iters = gl.load_model('IDSIA net - train in 1000 iter/')\n",
    "idsia_net_40_iters"
   ]
  },
  {
   "cell_type": "code",
   "execution_count": 23,
   "metadata": {
    "collapsed": false,
    "scrolled": false
   },
   "outputs": [
    {
     "data": {
      "text/plain": [
       "{'accuracy': 0.965954065322876, 'confusion_matrix': Columns:\n",
       " \ttarget_label\tint\n",
       " \tpredicted_label\tint\n",
       " \tcount\tint\n",
       " \n",
       " Rows: 191\n",
       " \n",
       " Data:\n",
       " +--------------+-----------------+-------+\n",
       " | target_label | predicted_label | count |\n",
       " +--------------+-----------------+-------+\n",
       " |      0       |        0        |   59  |\n",
       " |      1       |        1        |  712  |\n",
       " |      2       |        1        |   2   |\n",
       " |      5       |        1        |   1   |\n",
       " |      6       |        1        |   1   |\n",
       " |      8       |        1        |   2   |\n",
       " |      10      |        1        |   1   |\n",
       " |      18      |        1        |   2   |\n",
       " |      30      |        1        |   1   |\n",
       " |      38      |        1        |   1   |\n",
       " +--------------+-----------------+-------+\n",
       " [191 rows x 3 columns]\n",
       " Note: Only the head of the SFrame is printed.\n",
       " You can use print_rows(num_rows=m, num_columns=n) to print more rows and columns.}"
      ]
     },
     "execution_count": 23,
     "metadata": {},
     "output_type": "execute_result"
    }
   ],
   "source": [
    "idsia_net_40_iters.evaluate(test_signs)"
   ]
  },
  {
   "cell_type": "code",
   "execution_count": 24,
   "metadata": {
    "collapsed": true
   },
   "outputs": [],
   "source": [
    "idsia_2_convs_10_iters = gl.load_model('rep IDSIA by 2 conv graphlab net - train in 10 iters/')"
   ]
  },
  {
   "cell_type": "code",
   "execution_count": 25,
   "metadata": {
    "collapsed": false
   },
   "outputs": [
    {
     "data": {
      "text/plain": [
       "Class               : NeuralNetClassifier\n",
       "\n",
       "Schema\n",
       "------\n",
       "Examples            : 27427\n",
       "Features            : 1\n",
       "Target column       : label\n",
       "\n",
       "Training Summary\n",
       "----------------\n",
       "Training accuracy   : 0.9646\n",
       "Validation accuracy : 0.9772\n",
       "Training time (sec) : 77839.0039"
      ]
     },
     "execution_count": 25,
     "metadata": {},
     "output_type": "execute_result"
    }
   ],
   "source": [
    "idsia_2_convs_10_iters"
   ]
  },
  {
   "cell_type": "code",
   "execution_count": 26,
   "metadata": {
    "collapsed": false
   },
   "outputs": [
    {
     "data": {
      "text/plain": [
       "{'accuracy': 0.9296911954879761, 'confusion_matrix': Columns:\n",
       " \ttarget_label\tint\n",
       " \tpredicted_label\tint\n",
       " \tcount\tint\n",
       " \n",
       " Rows: 290\n",
       " \n",
       " Data:\n",
       " +--------------+-----------------+-------+\n",
       " | target_label | predicted_label | count |\n",
       " +--------------+-----------------+-------+\n",
       " |      0       |        0        |   48  |\n",
       " |      4       |        0        |   1   |\n",
       " |      8       |        0        |   1   |\n",
       " |      0       |        1        |   6   |\n",
       " |      1       |        1        |  706  |\n",
       " |      2       |        1        |   36  |\n",
       " |      3       |        1        |   1   |\n",
       " |      4       |        1        |   34  |\n",
       " |      5       |        1        |   6   |\n",
       " |      7       |        1        |   3   |\n",
       " +--------------+-----------------+-------+\n",
       " [290 rows x 3 columns]\n",
       " Note: Only the head of the SFrame is printed.\n",
       " You can use print_rows(num_rows=m, num_columns=n) to print more rows and columns.}"
      ]
     },
     "execution_count": 26,
     "metadata": {},
     "output_type": "execute_result"
    }
   ],
   "source": [
    "idsia_2_convs_10_iters.evaluate(test_signs)"
   ]
  },
  {
   "cell_type": "code",
   "execution_count": 27,
   "metadata": {
    "collapsed": true
   },
   "outputs": [],
   "source": [
    "idsia_1_conv_5_iters = gl.load_model('rep IDSIA by 1 conv graphlab net - train in 10 iters/')"
   ]
  },
  {
   "cell_type": "code",
   "execution_count": 31,
   "metadata": {
    "collapsed": false
   },
   "outputs": [
    {
     "data": {
      "text/plain": [
       "Class               : NeuralNetClassifier\n",
       "\n",
       "Schema\n",
       "------\n",
       "Examples            : 26559\n",
       "Features            : 1\n",
       "Target column       : label\n",
       "\n",
       "Training Summary\n",
       "----------------\n",
       "Training accuracy   : 0.1136\n",
       "Validation accuracy : 0.0054\n",
       "Training time (sec) : 7545.0405"
      ]
     },
     "execution_count": 31,
     "metadata": {},
     "output_type": "execute_result"
    }
   ],
   "source": [
    "idsia_1_conv_5_iters"
   ]
  },
  {
   "cell_type": "code",
   "execution_count": 28,
   "metadata": {
    "collapsed": false
   },
   "outputs": [
    {
     "data": {
      "text/plain": [
       "{'accuracy': 0.0047505940310657024, 'confusion_matrix': Columns:\n",
       " \ttarget_label\tint\n",
       " \tpredicted_label\tint\n",
       " \tcount\tint\n",
       " \n",
       " Rows: 43\n",
       " \n",
       " Data:\n",
       " +--------------+-----------------+-------+\n",
       " | target_label | predicted_label | count |\n",
       " +--------------+-----------------+-------+\n",
       " |      0       |        0        |   60  |\n",
       " |      1       |        0        |  720  |\n",
       " |      2       |        0        |  750  |\n",
       " |      3       |        0        |  450  |\n",
       " |      4       |        0        |  660  |\n",
       " |      5       |        0        |  630  |\n",
       " |      6       |        0        |  150  |\n",
       " |      7       |        0        |  450  |\n",
       " |      8       |        0        |  450  |\n",
       " |      9       |        0        |  480  |\n",
       " +--------------+-----------------+-------+\n",
       " [43 rows x 3 columns]\n",
       " Note: Only the head of the SFrame is printed.\n",
       " You can use print_rows(num_rows=m, num_columns=n) to print more rows and columns.}"
      ]
     },
     "execution_count": 28,
     "metadata": {},
     "output_type": "execute_result"
    }
   ],
   "source": [
    "idsia_1_conv_5_iters.evaluate(test_signs)"
   ]
  },
  {
   "cell_type": "markdown",
   "metadata": {},
   "source": [
    "# Vòng lặp thứ 44:"
   ]
  },
  {
   "cell_type": "code",
   "execution_count": 29,
   "metadata": {
    "collapsed": false
   },
   "outputs": [
    {
     "data": {
      "text/plain": [
       "Class               : NeuralNetClassifier\n",
       "\n",
       "Schema\n",
       "------\n",
       "Examples            : 37211\n",
       "Features            : 1\n",
       "Target column       : label\n",
       "\n",
       "Training Summary\n",
       "----------------\n",
       "Training accuracy   : 0.9963\n",
       "Validation accuracy : 0.997\n",
       "Training time (sec) : 482510.3562"
      ]
     },
     "execution_count": 29,
     "metadata": {},
     "output_type": "execute_result"
    }
   ],
   "source": [
    "idsia_net_44_iters = gl.load_model('IDSIA net - train in 1000 iter/')\n",
    "idsia_net_44_iters"
   ]
  },
  {
   "cell_type": "code",
   "execution_count": 30,
   "metadata": {
    "collapsed": false,
    "scrolled": false
   },
   "outputs": [
    {
     "data": {
      "text/plain": [
       "{'accuracy': 0.9649247527122498, 'confusion_matrix': Columns:\n",
       " \ttarget_label\tint\n",
       " \tpredicted_label\tint\n",
       " \tcount\tint\n",
       " \n",
       " Rows: 188\n",
       " \n",
       " Data:\n",
       " +--------------+-----------------+-------+\n",
       " | target_label | predicted_label | count |\n",
       " +--------------+-----------------+-------+\n",
       " |      0       |        0        |   56  |\n",
       " |      1       |        1        |  712  |\n",
       " |      2       |        1        |   2   |\n",
       " |      4       |        1        |   3   |\n",
       " |      5       |        1        |   2   |\n",
       " |      6       |        1        |   3   |\n",
       " |      8       |        1        |   2   |\n",
       " |      10      |        1        |   1   |\n",
       " |      18      |        1        |   2   |\n",
       " |      24      |        1        |   1   |\n",
       " +--------------+-----------------+-------+\n",
       " [188 rows x 3 columns]\n",
       " Note: Only the head of the SFrame is printed.\n",
       " You can use print_rows(num_rows=m, num_columns=n) to print more rows and columns.}"
      ]
     },
     "execution_count": 30,
     "metadata": {},
     "output_type": "execute_result"
    }
   ],
   "source": [
    "idsia_net_44_iters.evaluate(test_signs)"
   ]
  },
  {
   "cell_type": "markdown",
   "metadata": {},
   "source": [
    "# Vòng lặp thứ 45:"
   ]
  },
  {
   "cell_type": "code",
   "execution_count": 32,
   "metadata": {
    "collapsed": false
   },
   "outputs": [
    {
     "data": {
      "text/plain": [
       "Class               : NeuralNetClassifier\n",
       "\n",
       "Schema\n",
       "------\n",
       "Examples            : 37211\n",
       "Features            : 1\n",
       "Target column       : label\n",
       "\n",
       "Training Summary\n",
       "----------------\n",
       "Training accuracy   : 0.9964\n",
       "Validation accuracy : 0.998\n",
       "Training time (sec) : 497289.49"
      ]
     },
     "execution_count": 32,
     "metadata": {},
     "output_type": "execute_result"
    }
   ],
   "source": [
    "idsia_net_45_iters = gl.load_model('IDSIA net - train in 1000 iter/')\n",
    "idsia_net_45_iters"
   ]
  },
  {
   "cell_type": "code",
   "execution_count": 33,
   "metadata": {
    "collapsed": false,
    "scrolled": false
   },
   "outputs": [
    {
     "data": {
      "text/plain": [
       "{'accuracy': 0.962470293045044, 'confusion_matrix': Columns:\n",
       " \ttarget_label\tint\n",
       " \tpredicted_label\tint\n",
       " \tcount\tint\n",
       " \n",
       " Rows: 193\n",
       " \n",
       " Data:\n",
       " +--------------+-----------------+-------+\n",
       " | target_label | predicted_label | count |\n",
       " +--------------+-----------------+-------+\n",
       " |      0       |        0        |   60  |\n",
       " |      1       |        1        |  714  |\n",
       " |      2       |        1        |   4   |\n",
       " |      4       |        1        |   5   |\n",
       " |      5       |        1        |   1   |\n",
       " |      8       |        1        |   2   |\n",
       " |      10      |        1        |   1   |\n",
       " |      18      |        1        |   3   |\n",
       " |      24      |        1        |   1   |\n",
       " |      27      |        1        |   19  |\n",
       " +--------------+-----------------+-------+\n",
       " [193 rows x 3 columns]\n",
       " Note: Only the head of the SFrame is printed.\n",
       " You can use print_rows(num_rows=m, num_columns=n) to print more rows and columns.}"
      ]
     },
     "execution_count": 33,
     "metadata": {},
     "output_type": "execute_result"
    }
   ],
   "source": [
    "idsia_net_45_iters.evaluate(test_signs)"
   ]
  },
  {
   "cell_type": "markdown",
   "metadata": {},
   "source": [
    "# Vòng lặp thứ 46:"
   ]
  },
  {
   "cell_type": "code",
   "execution_count": 34,
   "metadata": {
    "collapsed": false
   },
   "outputs": [
    {
     "data": {
      "text/plain": [
       "Class               : NeuralNetClassifier\n",
       "\n",
       "Schema\n",
       "------\n",
       "Examples            : 37211\n",
       "Features            : 1\n",
       "Target column       : label\n",
       "\n",
       "Training Summary\n",
       "----------------\n",
       "Training accuracy   : 0.9966\n",
       "Validation accuracy : 0.9985\n",
       "Training time (sec) : 511899.4458"
      ]
     },
     "execution_count": 34,
     "metadata": {},
     "output_type": "execute_result"
    }
   ],
   "source": [
    "idsia_net_46_iters = gl.load_model('IDSIA net - train in 1000 iter/')\n",
    "idsia_net_46_iters"
   ]
  },
  {
   "cell_type": "code",
   "execution_count": 35,
   "metadata": {
    "collapsed": false,
    "scrolled": false
   },
   "outputs": [
    {
     "data": {
      "text/plain": [
       "{'accuracy': 0.9676167964935303, 'confusion_matrix': Columns:\n",
       " \ttarget_label\tint\n",
       " \tpredicted_label\tint\n",
       " \tcount\tint\n",
       " \n",
       " Rows: 180\n",
       " \n",
       " Data:\n",
       " +--------------+-----------------+-------+\n",
       " | target_label | predicted_label | count |\n",
       " +--------------+-----------------+-------+\n",
       " |      0       |        0        |   60  |\n",
       " |      1       |        1        |  715  |\n",
       " |      2       |        1        |   5   |\n",
       " |      4       |        1        |   6   |\n",
       " |      5       |        1        |   3   |\n",
       " |      6       |        1        |   3   |\n",
       " |      8       |        1        |   2   |\n",
       " |      10      |        1        |   1   |\n",
       " |      18      |        1        |   2   |\n",
       " |      24      |        1        |   1   |\n",
       " +--------------+-----------------+-------+\n",
       " [180 rows x 3 columns]\n",
       " Note: Only the head of the SFrame is printed.\n",
       " You can use print_rows(num_rows=m, num_columns=n) to print more rows and columns.}"
      ]
     },
     "execution_count": 35,
     "metadata": {},
     "output_type": "execute_result"
    }
   ],
   "source": [
    "idsia_net_46_iters.evaluate(test_signs)"
   ]
  },
  {
   "cell_type": "markdown",
   "metadata": {},
   "source": [
    "# Vòng lặp thứ 51:"
   ]
  },
  {
   "cell_type": "code",
   "execution_count": 36,
   "metadata": {
    "collapsed": false
   },
   "outputs": [
    {
     "data": {
      "text/plain": [
       "Class               : NeuralNetClassifier\n",
       "\n",
       "Schema\n",
       "------\n",
       "Examples            : 37211\n",
       "Features            : 1\n",
       "Target column       : label\n",
       "\n",
       "Training Summary\n",
       "----------------\n",
       "Training accuracy   : 0.9966\n",
       "Validation accuracy : 0.9975\n",
       "Training time (sec) : 570854.6479"
      ]
     },
     "execution_count": 36,
     "metadata": {},
     "output_type": "execute_result"
    }
   ],
   "source": [
    "idsia_net_51_iters = gl.load_model('IDSIA net - train in 1000 iter/')\n",
    "idsia_net_51_iters"
   ]
  },
  {
   "cell_type": "code",
   "execution_count": 37,
   "metadata": {
    "collapsed": false,
    "scrolled": false
   },
   "outputs": [
    {
     "data": {
      "text/plain": [
       "{'accuracy': 0.9664291143417358, 'confusion_matrix': Columns:\n",
       " \ttarget_label\tint\n",
       " \tpredicted_label\tint\n",
       " \tcount\tint\n",
       " \n",
       " Rows: 195\n",
       " \n",
       " Data:\n",
       " +--------------+-----------------+-------+\n",
       " | target_label | predicted_label | count |\n",
       " +--------------+-----------------+-------+\n",
       " |      0       |        0        |   59  |\n",
       " |      1       |        1        |  714  |\n",
       " |      2       |        1        |   5   |\n",
       " |      4       |        1        |   7   |\n",
       " |      5       |        1        |   4   |\n",
       " |      6       |        1        |   1   |\n",
       " |      8       |        1        |   2   |\n",
       " |      10      |        1        |   1   |\n",
       " |      18      |        1        |   4   |\n",
       " |      24      |        1        |   1   |\n",
       " +--------------+-----------------+-------+\n",
       " [195 rows x 3 columns]\n",
       " Note: Only the head of the SFrame is printed.\n",
       " You can use print_rows(num_rows=m, num_columns=n) to print more rows and columns.}"
      ]
     },
     "execution_count": 37,
     "metadata": {},
     "output_type": "execute_result"
    }
   ],
   "source": [
    "idsia_net_51_iters.evaluate(test_signs)"
   ]
  },
  {
   "cell_type": "markdown",
   "metadata": {},
   "source": [
    "# Vòng lặp thứ 52:"
   ]
  },
  {
   "cell_type": "code",
   "execution_count": 39,
   "metadata": {
    "collapsed": false
   },
   "outputs": [
    {
     "data": {
      "text/plain": [
       "Class               : NeuralNetClassifier\n",
       "\n",
       "Schema\n",
       "------\n",
       "Examples            : 37211\n",
       "Features            : 1\n",
       "Target column       : label\n",
       "\n",
       "Training Summary\n",
       "----------------\n",
       "Training accuracy   : 0.9975\n",
       "Validation accuracy : 0.999\n",
       "Training time (sec) : 583261.2532"
      ]
     },
     "execution_count": 39,
     "metadata": {},
     "output_type": "execute_result"
    }
   ],
   "source": [
    "idsia_net_52_iters = gl.load_model('IDSIA net - train in 1000 iter/')\n",
    "idsia_net_52_iters"
   ]
  },
  {
   "cell_type": "code",
   "execution_count": 40,
   "metadata": {
    "collapsed": false,
    "scrolled": false
   },
   "outputs": [
    {
     "data": {
      "text/plain": [
       "{'accuracy': 0.9651623368263245, 'confusion_matrix': Columns:\n",
       " \ttarget_label\tint\n",
       " \tpredicted_label\tint\n",
       " \tcount\tint\n",
       " \n",
       " Rows: 180\n",
       " \n",
       " Data:\n",
       " +--------------+-----------------+-------+\n",
       " | target_label | predicted_label | count |\n",
       " +--------------+-----------------+-------+\n",
       " |      0       |        0        |   60  |\n",
       " |      1       |        1        |  712  |\n",
       " |      2       |        1        |   2   |\n",
       " |      4       |        1        |   3   |\n",
       " |      5       |        1        |   1   |\n",
       " |      10      |        1        |   1   |\n",
       " |      18      |        1        |   2   |\n",
       " |      27      |        1        |   9   |\n",
       " |      30      |        1        |   1   |\n",
       " |      1       |        2        |   3   |\n",
       " +--------------+-----------------+-------+\n",
       " [180 rows x 3 columns]\n",
       " Note: Only the head of the SFrame is printed.\n",
       " You can use print_rows(num_rows=m, num_columns=n) to print more rows and columns.}"
      ]
     },
     "execution_count": 40,
     "metadata": {},
     "output_type": "execute_result"
    }
   ],
   "source": [
    "idsia_net_52_iters.evaluate(test_signs)"
   ]
  },
  {
   "cell_type": "markdown",
   "metadata": {},
   "source": [
    "# Vòng lặp thứ 53:"
   ]
  },
  {
   "cell_type": "code",
   "execution_count": 41,
   "metadata": {
    "collapsed": false
   },
   "outputs": [
    {
     "data": {
      "text/plain": [
       "Class               : NeuralNetClassifier\n",
       "\n",
       "Schema\n",
       "------\n",
       "Examples            : 37211\n",
       "Features            : 1\n",
       "Target column       : label\n",
       "\n",
       "Training Summary\n",
       "----------------\n",
       "Training accuracy   : 0.9971\n",
       "Validation accuracy : 0.998\n",
       "Training time (sec) : 595528.0572"
      ]
     },
     "execution_count": 41,
     "metadata": {},
     "output_type": "execute_result"
    }
   ],
   "source": [
    "idsia_net_53_iters = gl.load_model('IDSIA net - train in 1000 iter/')\n",
    "idsia_net_53_iters"
   ]
  },
  {
   "cell_type": "code",
   "execution_count": 42,
   "metadata": {
    "collapsed": false,
    "scrolled": false
   },
   "outputs": [
    {
     "data": {
      "text/plain": [
       "{'accuracy': 0.9679334759712219, 'confusion_matrix': Columns:\n",
       " \ttarget_label\tint\n",
       " \tpredicted_label\tint\n",
       " \tcount\tint\n",
       " \n",
       " Rows: 188\n",
       " \n",
       " Data:\n",
       " +--------------+-----------------+-------+\n",
       " | target_label | predicted_label | count |\n",
       " +--------------+-----------------+-------+\n",
       " |      0       |        0        |   58  |\n",
       " |      1       |        1        |  710  |\n",
       " |      2       |        1        |   3   |\n",
       " |      4       |        1        |   3   |\n",
       " |      5       |        1        |   2   |\n",
       " |      8       |        1        |   1   |\n",
       " |      10      |        1        |   1   |\n",
       " |      18      |        1        |   1   |\n",
       " |      24      |        1        |   1   |\n",
       " |      27      |        1        |   3   |\n",
       " +--------------+-----------------+-------+\n",
       " [188 rows x 3 columns]\n",
       " Note: Only the head of the SFrame is printed.\n",
       " You can use print_rows(num_rows=m, num_columns=n) to print more rows and columns.}"
      ]
     },
     "execution_count": 42,
     "metadata": {},
     "output_type": "execute_result"
    }
   ],
   "source": [
    "idsia_net_53_iters.evaluate(test_signs)"
   ]
  },
  {
   "cell_type": "code",
   "execution_count": 44,
   "metadata": {
    "collapsed": false
   },
   "outputs": [
    {
     "name": "stdout",
     "output_type": "stream",
     "text": [
      "Canvas is accessible via web browser at the URL: http://localhost:51032/index.html\n",
      "Opening Canvas in default web browser.\n"
     ]
    }
   ],
   "source": [
    "idsia_net_53_iters.show()"
   ]
  },
  {
   "cell_type": "markdown",
   "metadata": {},
   "source": [
    "# Vòng lặp thứ 59:"
   ]
  },
  {
   "cell_type": "code",
   "execution_count": 45,
   "metadata": {
    "collapsed": false
   },
   "outputs": [
    {
     "data": {
      "text/plain": [
       "Class               : NeuralNetClassifier\n",
       "\n",
       "Schema\n",
       "------\n",
       "Examples            : 37211\n",
       "Features            : 1\n",
       "Target column       : label\n",
       "\n",
       "Training Summary\n",
       "----------------\n",
       "Training accuracy   : 0.9977\n",
       "Validation accuracy : 0.998\n",
       "Training time (sec) : 669868.017"
      ]
     },
     "execution_count": 45,
     "metadata": {},
     "output_type": "execute_result"
    }
   ],
   "source": [
    "idsia_net_59_iters = gl.load_model('IDSIA net - train in 1000 iter/')\n",
    "idsia_net_59_iters"
   ]
  },
  {
   "cell_type": "code",
   "execution_count": 46,
   "metadata": {
    "collapsed": false,
    "scrolled": false
   },
   "outputs": [
    {
     "data": {
      "text/plain": [
       "{'accuracy': 0.9691211581230164, 'confusion_matrix': Columns:\n",
       " \ttarget_label\tint\n",
       " \tpredicted_label\tint\n",
       " \tcount\tint\n",
       " \n",
       " Rows: 183\n",
       " \n",
       " Data:\n",
       " +--------------+-----------------+-------+\n",
       " | target_label | predicted_label | count |\n",
       " +--------------+-----------------+-------+\n",
       " |      0       |        0        |   59  |\n",
       " |      1       |        0        |   1   |\n",
       " |      1       |        1        |  714  |\n",
       " |      2       |        1        |   2   |\n",
       " |      4       |        1        |   3   |\n",
       " |      5       |        1        |   1   |\n",
       " |      8       |        1        |   1   |\n",
       " |      10      |        1        |   1   |\n",
       " |      18      |        1        |   4   |\n",
       " |      27      |        1        |   8   |\n",
       " +--------------+-----------------+-------+\n",
       " [183 rows x 3 columns]\n",
       " Note: Only the head of the SFrame is printed.\n",
       " You can use print_rows(num_rows=m, num_columns=n) to print more rows and columns.}"
      ]
     },
     "execution_count": 46,
     "metadata": {},
     "output_type": "execute_result"
    }
   ],
   "source": [
    "idsia_net_59_iters.evaluate(test_signs)"
   ]
  },
  {
   "cell_type": "markdown",
   "metadata": {},
   "source": [
    "# Luu mo hinh tot nhat:"
   ]
  },
  {
   "cell_type": "code",
   "execution_count": 47,
   "metadata": {
    "collapsed": true
   },
   "outputs": [],
   "source": [
    "idsia_net_59_iters.save('best model')"
   ]
  },
  {
   "cell_type": "markdown",
   "metadata": {},
   "source": [
    "# Vòng lặp thứ 60:"
   ]
  },
  {
   "cell_type": "code",
   "execution_count": 48,
   "metadata": {
    "collapsed": false
   },
   "outputs": [
    {
     "data": {
      "text/plain": [
       "Class               : NeuralNetClassifier\n",
       "\n",
       "Schema\n",
       "------\n",
       "Examples            : 37211\n",
       "Features            : 1\n",
       "Target column       : label\n",
       "\n",
       "Training Summary\n",
       "----------------\n",
       "Training accuracy   : 0.9972\n",
       "Validation accuracy : 0.9985\n",
       "Training time (sec) : 682463.3409"
      ]
     },
     "execution_count": 48,
     "metadata": {},
     "output_type": "execute_result"
    }
   ],
   "source": [
    "idsia_net_60_iters = gl.load_model('IDSIA net - train in 1000 iter/')\n",
    "idsia_net_60_iters"
   ]
  },
  {
   "cell_type": "code",
   "execution_count": 49,
   "metadata": {
    "collapsed": false,
    "scrolled": false
   },
   "outputs": [
    {
     "data": {
      "text/plain": [
       "{'accuracy': 0.9682502150535583, 'confusion_matrix': Columns:\n",
       " \ttarget_label\tint\n",
       " \tpredicted_label\tint\n",
       " \tcount\tint\n",
       " \n",
       " Rows: 188\n",
       " \n",
       " Data:\n",
       " +--------------+-----------------+-------+\n",
       " | target_label | predicted_label | count |\n",
       " +--------------+-----------------+-------+\n",
       " |      0       |        0        |   59  |\n",
       " |      1       |        1        |  714  |\n",
       " |      2       |        1        |   4   |\n",
       " |      4       |        1        |   6   |\n",
       " |      5       |        1        |   2   |\n",
       " |      6       |        1        |   3   |\n",
       " |      8       |        1        |   3   |\n",
       " |      10      |        1        |   1   |\n",
       " |      18      |        1        |   4   |\n",
       " |      24      |        1        |   1   |\n",
       " +--------------+-----------------+-------+\n",
       " [188 rows x 3 columns]\n",
       " Note: Only the head of the SFrame is printed.\n",
       " You can use print_rows(num_rows=m, num_columns=n) to print more rows and columns.}"
      ]
     },
     "execution_count": 49,
     "metadata": {},
     "output_type": "execute_result"
    }
   ],
   "source": [
    "idsia_net_60_iters.evaluate(test_signs)"
   ]
  },
  {
   "cell_type": "markdown",
   "metadata": {},
   "source": [
    "# Vòng lặp thứ 65:"
   ]
  },
  {
   "cell_type": "code",
   "execution_count": 50,
   "metadata": {
    "collapsed": false
   },
   "outputs": [
    {
     "data": {
      "text/plain": [
       "Class               : NeuralNetClassifier\n",
       "\n",
       "Schema\n",
       "------\n",
       "Examples            : 37211\n",
       "Features            : 1\n",
       "Target column       : label\n",
       "\n",
       "Training Summary\n",
       "----------------\n",
       "Training accuracy   : 0.9966\n",
       "Validation accuracy : 0.998\n",
       "Training time (sec) : 743971.1101"
      ]
     },
     "execution_count": 50,
     "metadata": {},
     "output_type": "execute_result"
    }
   ],
   "source": [
    "idsia_net_65_iters = gl.load_model('IDSIA net - train in 1000 iter/')\n",
    "idsia_net_65_iters"
   ]
  },
  {
   "cell_type": "code",
   "execution_count": 51,
   "metadata": {
    "collapsed": false,
    "scrolled": false
   },
   "outputs": [
    {
     "data": {
      "text/plain": [
       "{'accuracy': 0.965954065322876, 'confusion_matrix': Columns:\n",
       " \ttarget_label\tint\n",
       " \tpredicted_label\tint\n",
       " \tcount\tint\n",
       " \n",
       " Rows: 193\n",
       " \n",
       " Data:\n",
       " +--------------+-----------------+-------+\n",
       " | target_label | predicted_label | count |\n",
       " +--------------+-----------------+-------+\n",
       " |      0       |        0        |   58  |\n",
       " |      1       |        1        |  709  |\n",
       " |      2       |        1        |   3   |\n",
       " |      4       |        1        |   2   |\n",
       " |      5       |        1        |   1   |\n",
       " |      6       |        1        |   3   |\n",
       " |      10      |        1        |   1   |\n",
       " |      18      |        1        |   1   |\n",
       " |      30      |        1        |   1   |\n",
       " |      1       |        2        |   3   |\n",
       " +--------------+-----------------+-------+\n",
       " [193 rows x 3 columns]\n",
       " Note: Only the head of the SFrame is printed.\n",
       " You can use print_rows(num_rows=m, num_columns=n) to print more rows and columns.}"
      ]
     },
     "execution_count": 51,
     "metadata": {},
     "output_type": "execute_result"
    }
   ],
   "source": [
    "idsia_net_65_iters.evaluate(test_signs)"
   ]
  }
 ],
 "metadata": {
  "kernelspec": {
   "display_name": "Python 2",
   "language": "python",
   "name": "python2"
  },
  "language_info": {
   "codemirror_mode": {
    "name": "ipython",
    "version": 2
   },
   "file_extension": ".py",
   "mimetype": "text/x-python",
   "name": "python",
   "nbconvert_exporter": "python",
   "pygments_lexer": "ipython2",
   "version": "2.7.12"
  }
 },
 "nbformat": 4,
 "nbformat_minor": 0
}
