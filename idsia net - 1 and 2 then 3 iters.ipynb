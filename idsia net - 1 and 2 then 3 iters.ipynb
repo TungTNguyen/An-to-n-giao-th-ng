{
 "cells": [
  {
   "cell_type": "code",
   "execution_count": 1,
   "metadata": {
    "collapsed": true
   },
   "outputs": [],
   "source": [
    "import graphlab as gl"
   ]
  },
  {
   "cell_type": "markdown",
   "metadata": {},
   "source": [
    "# Vòng lặp thứ 1:"
   ]
  },
  {
   "cell_type": "code",
   "execution_count": 2,
   "metadata": {
    "collapsed": false
   },
   "outputs": [
    {
     "name": "stderr",
     "output_type": "stream",
     "text": [
      "[INFO] graphlab.cython.cy_server: GraphLab Create v2.1 started. Logging: C:\\Users\\admin\\AppData\\Local\\Temp\\graphlab_server_1479189508.log.0\n",
      "INFO:graphlab.cython.cy_server:GraphLab Create v2.1 started. Logging: C:\\Users\\admin\\AppData\\Local\\Temp\\graphlab_server_1479189508.log.0\n"
     ]
    },
    {
     "name": "stdout",
     "output_type": "stream",
     "text": [
      "This non-commercial license of GraphLab Create for academic use is assigned to keira1412@gmail.com and will expire on October 05, 2017.\n"
     ]
    }
   ],
   "source": [
    "idsia_net_1_iter = gl.load_model('rep IDSIA by 3 conv graphlab net - train in 3 iter/')\n",
    "idsia_net_1_iter"
   ]
  },
  {
   "cell_type": "code",
   "execution_count": 4,
   "metadata": {
    "collapsed": false
   },
   "outputs": [
    {
     "data": {
      "text/plain": [
       "{'accuracy': 0.8638954758644104, 'confusion_matrix': Columns:\n",
       " \ttarget_label\tint\n",
       " \tpredicted_label\tint\n",
       " \tcount\tint\n",
       " \n",
       " Rows: 336\n",
       " \n",
       " Data:\n",
       " +--------------+-----------------+-------+\n",
       " | target_label | predicted_label | count |\n",
       " +--------------+-----------------+-------+\n",
       " |      0       |        0        |   41  |\n",
       " |      1       |        0        |   2   |\n",
       " |      0       |        1        |   6   |\n",
       " |      1       |        1        |  661  |\n",
       " |      2       |        1        |   47  |\n",
       " |      3       |        1        |   2   |\n",
       " |      4       |        1        |   18  |\n",
       " |      5       |        1        |   5   |\n",
       " |      8       |        1        |   1   |\n",
       " |      11      |        1        |   6   |\n",
       " +--------------+-----------------+-------+\n",
       " [336 rows x 3 columns]\n",
       " Note: Only the head of the SFrame is printed.\n",
       " You can use print_rows(num_rows=m, num_columns=n) to print more rows and columns.}"
      ]
     },
     "execution_count": 4,
     "metadata": {},
     "output_type": "execute_result"
    }
   ],
   "source": [
    "test_signs= gl.SFrame('test_sframe/')\n",
    "test_signs['image'] = gl.image_analysis.resize(test_signs['image'], 48, 48, channels= 3)\n",
    "#28 cho Lenet, 30 (mình chọn) cho mạng dato 1000 lượt, \n",
    "#48 cho idsia net, 3 channels \n",
    "# test_signs\n",
    "idsia_net_1_iter.evaluate(test_signs)"
   ]
  },
  {
   "cell_type": "code",
   "execution_count": null,
   "metadata": {
    "collapsed": true
   },
   "outputs": [],
   "source": []
  },
  {
   "cell_type": "markdown",
   "metadata": {},
   "source": [
    "# Vòng lặp thứ 2:"
   ]
  },
  {
   "cell_type": "code",
   "execution_count": 5,
   "metadata": {
    "collapsed": false
   },
   "outputs": [
    {
     "data": {
      "text/plain": [
       "Class               : NeuralNetClassifier\n",
       "\n",
       "Schema\n",
       "------\n",
       "Examples            : 37338\n",
       "Features            : 1\n",
       "Target column       : label\n",
       "\n",
       "Training Summary\n",
       "----------------\n",
       "Training accuracy   : 0.9006\n",
       "Validation accuracy : 0.961\n",
       "Training time (sec) : 16160.5062"
      ]
     },
     "execution_count": 5,
     "metadata": {},
     "output_type": "execute_result"
    }
   ],
   "source": [
    "idsia_net_2_iters = gl.load_model('rep IDSIA by 3 conv graphlab net - train in 3 iter/')\n",
    "idsia_net_2_iters"
   ]
  },
  {
   "cell_type": "code",
   "execution_count": 6,
   "metadata": {
    "collapsed": false,
    "scrolled": false
   },
   "outputs": [
    {
     "data": {
      "text/plain": [
       "{'accuracy': 0.9112430810928345, 'confusion_matrix': Columns:\n",
       " \ttarget_label\tint\n",
       " \tpredicted_label\tint\n",
       " \tcount\tint\n",
       " \n",
       " Rows: 278\n",
       " \n",
       " Data:\n",
       " +--------------+-----------------+-------+\n",
       " | target_label | predicted_label | count |\n",
       " +--------------+-----------------+-------+\n",
       " |      0       |        0        |   26  |\n",
       " |      0       |        1        |   18  |\n",
       " |      1       |        1        |  706  |\n",
       " |      2       |        1        |   61  |\n",
       " |      3       |        1        |   1   |\n",
       " |      4       |        1        |   24  |\n",
       " |      5       |        1        |   13  |\n",
       " |      7       |        1        |   1   |\n",
       " |      8       |        1        |   2   |\n",
       " |      10      |        1        |   1   |\n",
       " +--------------+-----------------+-------+\n",
       " [278 rows x 3 columns]\n",
       " Note: Only the head of the SFrame is printed.\n",
       " You can use print_rows(num_rows=m, num_columns=n) to print more rows and columns.}"
      ]
     },
     "execution_count": 6,
     "metadata": {},
     "output_type": "execute_result"
    }
   ],
   "source": [
    "idsia_net_2_iters.evaluate(test_signs)"
   ]
  },
  {
   "cell_type": "markdown",
   "metadata": {},
   "source": [
    "# Vòng lặp thứ 3:"
   ]
  },
  {
   "cell_type": "code",
   "execution_count": 7,
   "metadata": {
    "collapsed": false
   },
   "outputs": [
    {
     "data": {
      "text/plain": [
       "Class               : NeuralNetClassifier\n",
       "\n",
       "Schema\n",
       "------\n",
       "Examples            : 37338\n",
       "Features            : 1\n",
       "Target column       : label\n",
       "\n",
       "Training Summary\n",
       "----------------\n",
       "Training accuracy   : 0.9389\n",
       "Validation accuracy : 0.9813\n",
       "Training time (sec) : 24951.1233"
      ]
     },
     "execution_count": 7,
     "metadata": {},
     "output_type": "execute_result"
    }
   ],
   "source": [
    "idsia_net_3_iters = gl.load_model('rep IDSIA by 3 conv graphlab net - train in 3 iter/')\n",
    "idsia_net_3_iters"
   ]
  },
  {
   "cell_type": "code",
   "execution_count": 8,
   "metadata": {
    "collapsed": false,
    "scrolled": false
   },
   "outputs": [
    {
     "data": {
      "text/plain": [
       "{'accuracy': 0.939113199710846, 'confusion_matrix': Columns:\n",
       " \ttarget_label\tint\n",
       " \tpredicted_label\tint\n",
       " \tcount\tint\n",
       " \n",
       " Rows: 246\n",
       " \n",
       " Data:\n",
       " +--------------+-----------------+-------+\n",
       " | target_label | predicted_label | count |\n",
       " +--------------+-----------------+-------+\n",
       " |      0       |        0        |   54  |\n",
       " |      1       |        0        |   4   |\n",
       " |      1       |        1        |  696  |\n",
       " |      2       |        1        |   18  |\n",
       " |      4       |        1        |   16  |\n",
       " |      5       |        1        |   7   |\n",
       " |      8       |        1        |   2   |\n",
       " |      11      |        1        |   4   |\n",
       " |      18      |        1        |   4   |\n",
       " |      27      |        1        |   7   |\n",
       " +--------------+-----------------+-------+\n",
       " [246 rows x 3 columns]\n",
       " Note: Only the head of the SFrame is printed.\n",
       " You can use print_rows(num_rows=m, num_columns=n) to print more rows and columns.}"
      ]
     },
     "execution_count": 8,
     "metadata": {},
     "output_type": "execute_result"
    }
   ],
   "source": [
    "idsia_net_3_iters.evaluate(test_signs)"
   ]
  }
 ],
 "metadata": {
  "kernelspec": {
   "display_name": "Python 2",
   "language": "python",
   "name": "python2"
  },
  "language_info": {
   "codemirror_mode": {
    "name": "ipython",
    "version": 2
   },
   "file_extension": ".py",
   "mimetype": "text/x-python",
   "name": "python",
   "nbconvert_exporter": "python",
   "pygments_lexer": "ipython2",
   "version": "2.7.10"
  }
 },
 "nbformat": 4,
 "nbformat_minor": 0
}
