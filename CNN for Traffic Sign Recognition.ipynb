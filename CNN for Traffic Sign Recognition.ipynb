{
 "cells": [
  {
   "cell_type": "code",
   "execution_count": null,
   "metadata": {
    "collapsed": true
   },
   "outputs": [],
   "source": [
    ">>> import graphlab\n",
    "\n",
    ">>> data = graphlab.SFrame('http://s3.amazonaws.com/dato-datasets/mnist/sframe/train')\n",
    ">>> test_data = graphlab.SFrame('http://s3.amazonaws.com/dato-datasets/mnist/sframe/test')\n",
    ">>> training_data, validation_data = data.random_split(0.8)\n",
    "training_data\n",
    "test_data\n",
    ">>> training_data['image'] = graphlab.image_analysis.resize(training_data['image'], 28, 28, 1)\n",
    ">>> validation_data['image'] = graphlab.image_analysis.resize(validation_data['image'], 28, 28, 1)\n",
    ">>> test_data['image'] = graphlab.image_analysis.resize(test_data['image'], 28, 28, 1)"
   ]
  },
  {
   "cell_type": "code",
   "execution_count": 1,
   "metadata": {
    "collapsed": false
   },
   "outputs": [
    {
     "name": "stderr",
     "output_type": "stream",
     "text": [
      "A newer version of GraphLab Create (v1.9) is available! Your current version is v1.8.3.\n",
      "\n",
      "You can use pip to upgrade the graphlab-create package. For more information see https://dato.com/products/create/upgrade.\n",
      "[INFO] GraphLab Create v1.8.3 started. Logging: C:\\Users\\admin\\AppData\\Local\\Temp\\graphlab_server_1463383132.log.0\n"
     ]
    }
   ],
   "source": [
    ">>> net = graphlab.deeplearning.create(training_data, target='label')\n",
    ">>> print net.layers\n",
    "\n",
    ">>> print net.params\n",
    "\n",
    ">>> net.layers[4].num_hidden_units = 10"
   ]
  },
  {
   "cell_type": "code",
   "execution_count": 1,
   "metadata": {
    "collapsed": false
   },
   "outputs": [
    {
     "name": "stderr",
     "output_type": "stream",
     "text": [
      "A newer version of GraphLab Create (v1.9) is available! Your current version is v1.8.3.\n",
      "\n",
      "You can use pip to upgrade the graphlab-create package. For more information see https://dato.com/products/create/upgrade.\n"
     ]
    }
   ],
   "source": [
    ">>> m = graphlab.neuralnet_classifier.create(training_data, target='label',\n",
    "...                                          network = net,\n",
    "...                                          validation_set=validation_data,\n",
    "...                                          metric=['accuracy', 'recall@2'],\n",
    "...                                          max_iterations=3)\n",
    ">>> pred = m.classify(test_data)\n",
    ">>> pred\n",
    "\n",
    ">>> pred_top2 = m.predict_topk(test_data, k=2)\n",
    ">>> pred_top2\n",
    "\n",
    ">>> eval_ = m.evaluate(test_data)\n",
    ">>> eval_\n"
   ]
  },
  {
   "cell_type": "markdown",
   "metadata": {},
   "source": [
    "# Load dữ liệu train và test đã qua xử lý"
   ]
  },
  {
   "cell_type": "code",
   "execution_count": 1,
   "metadata": {
    "collapsed": false
   },
   "outputs": [
    {
     "name": "stderr",
     "output_type": "stream",
     "text": [
      "A newer version of GraphLab Create (v1.9) is available! Your current version is v1.8.3.\n",
      "\n",
      "You can use pip to upgrade the graphlab-create package. For more information see https://dato.com/products/create/upgrade.\n",
      "[INFO] GraphLab Create v1.8.3 started. Logging: C:\\Users\\admin\\AppData\\Local\\Temp\\graphlab_server_1463149253.log.0\n"
     ]
    },
    {
     "data": {
      "text/html": [
       "<div style=\"max-height:1000px;max-width:1500px;overflow:auto;\"><table frame=\"box\" rules=\"cols\">\n",
       "    <tr>\n",
       "        <th style=\"padding-left: 1em; padding-right: 1em; text-align: center\">path</th>\n",
       "        <th style=\"padding-left: 1em; padding-right: 1em; text-align: center\">image</th>\n",
       "        <th style=\"padding-left: 1em; padding-right: 1em; text-align: center\">label</th>\n",
       "    </tr>\n",
       "    <tr>\n",
       "        <td style=\"padding-left: 1em; padding-right: 1em; text-align: center; vertical-align: top\">E:/COGNITIVE_SCIENCE/ARTI<br>FICIAL_INTELLIGENCE/R ...</td>\n",
       "        <td style=\"padding-left: 1em; padding-right: 1em; text-align: center; vertical-align: top\">Height: 15 Width: 15</td>\n",
       "        <td style=\"padding-left: 1em; padding-right: 1em; text-align: center; vertical-align: top\">18</td>\n",
       "    </tr>\n",
       "    <tr>\n",
       "        <td style=\"padding-left: 1em; padding-right: 1em; text-align: center; vertical-align: top\">E:/COGNITIVE_SCIENCE/ARTI<br>FICIAL_INTELLIGENCE/R ...</td>\n",
       "        <td style=\"padding-left: 1em; padding-right: 1em; text-align: center; vertical-align: top\">Height: 18 Width: 18</td>\n",
       "        <td style=\"padding-left: 1em; padding-right: 1em; text-align: center; vertical-align: top\">8</td>\n",
       "    </tr>\n",
       "    <tr>\n",
       "        <td style=\"padding-left: 1em; padding-right: 1em; text-align: center; vertical-align: top\">E:/COGNITIVE_SCIENCE/ARTI<br>FICIAL_INTELLIGENCE/R ...</td>\n",
       "        <td style=\"padding-left: 1em; padding-right: 1em; text-align: center; vertical-align: top\">Height: 23 Width: 25</td>\n",
       "        <td style=\"padding-left: 1em; padding-right: 1em; text-align: center; vertical-align: top\">24</td>\n",
       "    </tr>\n",
       "    <tr>\n",
       "        <td style=\"padding-left: 1em; padding-right: 1em; text-align: center; vertical-align: top\">E:/COGNITIVE_SCIENCE/ARTI<br>FICIAL_INTELLIGENCE/R ...</td>\n",
       "        <td style=\"padding-left: 1em; padding-right: 1em; text-align: center; vertical-align: top\">Height: 37 Width: 32</td>\n",
       "        <td style=\"padding-left: 1em; padding-right: 1em; text-align: center; vertical-align: top\">15</td>\n",
       "    </tr>\n",
       "    <tr>\n",
       "        <td style=\"padding-left: 1em; padding-right: 1em; text-align: center; vertical-align: top\">E:/COGNITIVE_SCIENCE/ARTI<br>FICIAL_INTELLIGENCE/R ...</td>\n",
       "        <td style=\"padding-left: 1em; padding-right: 1em; text-align: center; vertical-align: top\">Height: 84 Width: 84</td>\n",
       "        <td style=\"padding-left: 1em; padding-right: 1em; text-align: center; vertical-align: top\">9</td>\n",
       "    </tr>\n",
       "    <tr>\n",
       "        <td style=\"padding-left: 1em; padding-right: 1em; text-align: center; vertical-align: top\">E:/COGNITIVE_SCIENCE/ARTI<br>FICIAL_INTELLIGENCE/R ...</td>\n",
       "        <td style=\"padding-left: 1em; padding-right: 1em; text-align: center; vertical-align: top\">Height: 25 Width: 25</td>\n",
       "        <td style=\"padding-left: 1em; padding-right: 1em; text-align: center; vertical-align: top\">5</td>\n",
       "    </tr>\n",
       "    <tr>\n",
       "        <td style=\"padding-left: 1em; padding-right: 1em; text-align: center; vertical-align: top\">E:/COGNITIVE_SCIENCE/ARTI<br>FICIAL_INTELLIGENCE/R ...</td>\n",
       "        <td style=\"padding-left: 1em; padding-right: 1em; text-align: center; vertical-align: top\">Height: 23 Width: 20</td>\n",
       "        <td style=\"padding-left: 1em; padding-right: 1em; text-align: center; vertical-align: top\">38</td>\n",
       "    </tr>\n",
       "    <tr>\n",
       "        <td style=\"padding-left: 1em; padding-right: 1em; text-align: center; vertical-align: top\">E:/COGNITIVE_SCIENCE/ARTI<br>FICIAL_INTELLIGENCE/R ...</td>\n",
       "        <td style=\"padding-left: 1em; padding-right: 1em; text-align: center; vertical-align: top\">Height: 36 Width: 37</td>\n",
       "        <td style=\"padding-left: 1em; padding-right: 1em; text-align: center; vertical-align: top\">6</td>\n",
       "    </tr>\n",
       "    <tr>\n",
       "        <td style=\"padding-left: 1em; padding-right: 1em; text-align: center; vertical-align: top\">E:/COGNITIVE_SCIENCE/ARTI<br>FICIAL_INTELLIGENCE/R ...</td>\n",
       "        <td style=\"padding-left: 1em; padding-right: 1em; text-align: center; vertical-align: top\">Height: 32 Width: 32</td>\n",
       "        <td style=\"padding-left: 1em; padding-right: 1em; text-align: center; vertical-align: top\">10</td>\n",
       "    </tr>\n",
       "    <tr>\n",
       "        <td style=\"padding-left: 1em; padding-right: 1em; text-align: center; vertical-align: top\">E:/COGNITIVE_SCIENCE/ARTI<br>FICIAL_INTELLIGENCE/R ...</td>\n",
       "        <td style=\"padding-left: 1em; padding-right: 1em; text-align: center; vertical-align: top\">Height: 25 Width: 29</td>\n",
       "        <td style=\"padding-left: 1em; padding-right: 1em; text-align: center; vertical-align: top\">26</td>\n",
       "    </tr>\n",
       "</table>\n",
       "[39209 rows x 3 columns]<br/>Note: Only the head of the SFrame is printed.<br/>You can use print_rows(num_rows=m, num_columns=n) to print more rows and columns.\n",
       "</div>"
      ],
      "text/plain": [
       "Columns:\n",
       "\tpath\tstr\n",
       "\timage\tImage\n",
       "\tlabel\tint\n",
       "\n",
       "Rows: 39209\n",
       "\n",
       "Data:\n",
       "+-------------------------------+----------------------+-------+\n",
       "|              path             |        image         | label |\n",
       "+-------------------------------+----------------------+-------+\n",
       "| E:/COGNITIVE_SCIENCE/ARTIF... | Height: 15 Width: 15 |   18  |\n",
       "| E:/COGNITIVE_SCIENCE/ARTIF... | Height: 18 Width: 18 |   8   |\n",
       "| E:/COGNITIVE_SCIENCE/ARTIF... | Height: 23 Width: 25 |   24  |\n",
       "| E:/COGNITIVE_SCIENCE/ARTIF... | Height: 37 Width: 32 |   15  |\n",
       "| E:/COGNITIVE_SCIENCE/ARTIF... | Height: 84 Width: 84 |   9   |\n",
       "| E:/COGNITIVE_SCIENCE/ARTIF... | Height: 25 Width: 25 |   5   |\n",
       "| E:/COGNITIVE_SCIENCE/ARTIF... | Height: 23 Width: 20 |   38  |\n",
       "| E:/COGNITIVE_SCIENCE/ARTIF... | Height: 36 Width: 37 |   6   |\n",
       "| E:/COGNITIVE_SCIENCE/ARTIF... | Height: 32 Width: 32 |   10  |\n",
       "| E:/COGNITIVE_SCIENCE/ARTIF... | Height: 25 Width: 29 |   26  |\n",
       "+-------------------------------+----------------------+-------+\n",
       "[39209 rows x 3 columns]\n",
       "Note: Only the head of the SFrame is printed.\n",
       "You can use print_rows(num_rows=m, num_columns=n) to print more rows and columns."
      ]
     },
     "execution_count": 1,
     "metadata": {},
     "output_type": "execute_result"
    }
   ],
   "source": [
    "import graphlab as gl\n",
    "traffic_signs_train = gl.SFrame('train_sframe/') \n",
    "traffic_signs_train"
   ]
  },
  {
   "cell_type": "code",
   "execution_count": 2,
   "metadata": {
    "collapsed": false
   },
   "outputs": [
    {
     "data": {
      "application/javascript": [
       "$(\"head\").append($(\"<link/>\").attr({\n",
       "  rel:  \"stylesheet\",\n",
       "  type: \"text/css\",\n",
       "  href: \"//cdnjs.cloudflare.com/ajax/libs/font-awesome/4.1.0/css/font-awesome.min.css\"\n",
       "}));\n",
       "$(\"head\").append($(\"<link/>\").attr({\n",
       "  rel:  \"stylesheet\",\n",
       "  type: \"text/css\",\n",
       "  href: \"//dato.com/files/canvas/1.8.3/css/canvas.css\"\n",
       "}));\n",
       "\n",
       "            (function(){\n",
       "\n",
       "                var e = null;\n",
       "                if (typeof element == 'undefined') {\n",
       "                    var scripts = document.getElementsByTagName('script');\n",
       "                    var thisScriptTag = scripts[scripts.length-1];\n",
       "                    var parentDiv = thisScriptTag.parentNode;\n",
       "                    e = document.createElement('div');\n",
       "                    parentDiv.appendChild(e);\n",
       "                } else {\n",
       "                    e = element[0];\n",
       "                }\n",
       "\n",
       "                if (typeof requirejs !== 'undefined') {\n",
       "                    // disable load timeout; ipython_app.js is large and can take a while to load.\n",
       "                    requirejs.config({waitSeconds: 0});\n",
       "                }\n",
       "\n",
       "                require(['//dato.com/files/canvas/1.8.3/js/ipython_app.js'], function(IPythonApp){\n",
       "                    var app = new IPythonApp();\n",
       "                    app.attachView('sarray','Images', {\"ipython\": true, \"rows\": [{\"format\": \"png\", \"value\": \"image/png;base64,iVBORw0KGgoAAAANSUhEUgAAAA8AAAAPCAIAAAC0tAIdAAABqElEQVR4nAXBC27bMBAE0JndJSlLzq9BDtsb5KhFgRZFbEWyRO70PX7+/Oz9kWMABKCRSpmFW4wh5QETzQvNskffN6BT7EMeBealtalO4zz6vidhpJQWkQOm0c0I0iwgmBgJ67rWOlc3CgCAkdkFo+TmACUQDGAJt35YH8u0GN1oJHuOAUUCSjFBepKllIhwdPVBeGMc6gMgZEaDmUSH3DIq5yXI8fH+Y67G/j2ZHBLQR0oK85BgxLV6a8bxDdav9e7Vi4dlHA97HEd4GNIyk6TS9TCuI/ec5+ev9XsfrJeXkbhcWjihDqUx0wAoBuYHpnp9L/Ozovp09bIoofOYnS0owgJy5HxBm4/5bW5Pr6eAcDmj+NOy4OzepeE9GSLM2eqoNWvMljRjMYZbUrEsUz/2+8aEdASstnY1SCfNWonY1rWYQ5TV0+xy/cj918vMcz3tYuXcct88/H25vG/3x8vyPI6Tsv22LT73jbVUPW5vzaLmKWadynr787j/Bbmvvwe6xrHf7nn7R8Q4N5zdMKK9XgGQVqfqgEgRBcpxtEtABjHajOFj6D+ZIwHaVhCgBAAAAABJRU5ErkJggg==\\n\", \"height\": 15, \"channels\": 3, \"width\": 15, \"type\": \"image\", \"id\": 432032512}, {\"format\": \"png\", \"value\": \"image/png;base64,iVBORw0KGgoAAAANSUhEUgAAABIAAAASCAIAAADZrBkAAAACVUlEQVR4nC3T0XIbRRAF0Hu7Z2Z3JTk2JECloPj/XwMqiWVZ8u7MdF8e4APO4+HXr78BBGBmJEGU4gDcPTKRCUFAShIEEQmhkP8BMzcjSDrUSMVUSpFIJSkygCQEiiilFtLMTCBJZbhkc2rOtbbRhwFBwH2QEwxySsXdABBpMI5pEcgI0ax0wZbVjMipzKpw2aQVY4kQjdUMM8ocJ5q8Pr+8XF6erdbWau8do++32/32lmM+5pzwApAgIiwmCbn/9OXXn3/57NVLq4RO5230vpy2urbH9ZrH8ThmIQnBUgs9oe3p2dbtuvca3t/e19Y0R589Mp+2bRkjSegohCAoBcHM3u+Pt2NmsUJV8xkZOUphrXUpn+r5PCNi7wUAIUrVaztdrLpaUWtPy/p4/XHXsOLmZqX0hLe2rKvuHwUQAUD0sqzny8tpah+y0Q9vvpmLFpEQUrS2xMe9lFKMxkzS1m1ta00pJ5gBAea1roo0yxQEBGDuAEyZAJCa+wfm4VImH32EspRayrIs20xMUIADMScJy1REUuKcFhHHhzSC2nsffRhL78fMDgcgxFREP44y5zRQ5BFxf3+/nJfl3L6/3yXrfbYjWonnyzIDL9taM+6Pe++9pABA7kn0Y0/L86fLn7//0bZTkoV0TcNEoqauf/8Yj4eZFwlJjJQ7TXHfD1xvZ3o1W8+rYzht9pz9+PbPX6/frpGcyQJAwFAyzWkjdPv+mh9739Z9Xba19X0fxzF7f72+lroMoUtFEIGQhviQpdFj7m833m5GUjLg/6GlddRDcSD/BVLTtsqUdI9JAAAAAElFTkSuQmCC\\n\", \"height\": 18, \"channels\": 3, \"width\": 18, \"type\": \"image\", \"id\": 432032568}, {\"format\": \"png\", \"value\": \"image/png;base64,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\\n\", \"height\": 23, \"channels\": 3, \"width\": 25, \"type\": \"image\", \"id\": 432032624}, {\"format\": \"png\", \"value\": \"image/png;base64,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\\n\", \"height\": 37, \"channels\": 3, \"width\": 32, \"type\": \"image\", \"id\": 432032680}, {\"format\": \"png\", \"value\": \"image/png;base64,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\\n\", \"height\": 84, \"channels\": 3, \"width\": 84, \"type\": \"image\", \"id\": 432032736}, {\"format\": \"png\", \"value\": \"image/png;base64,iVBORw0KGgoAAAANSUhEUgAAABkAAAAZCAIAAABLixI0AAAEZElEQVR4nC3S24ok1xGF4RWHvTOzq7pbLeERGPvGj6ALv/9bGIx8J5CRmBlNVVblYUfE8oX8Aj988MtPP/0ToAgAiggJgIvpLNCp/fE4WIqqJAri3twJjGV5++7T395//OuXX3/78t//XD/6L79/dVVUkYAIihC4q5jqsW9OkZGRgwAhaiYME+t9vsyLRfz673+tj+fb+9vy9vIhk9c4xZwsFZCOkoracljVuW9ViQxUCVAgzIZru17gy16roHqT2+3mTf/x6UdvqhBJqkFIgiksE7ISMbTKikoAIgJmoWr7+o1n9utrqFmfzNp2e/7y+WcPCIogxkipEkLIIhW0qas1UVe1LGZFnHuOE+S433rsfXkFRVsbhSPKqRMzGQMRTgowtQY1b01ab/PF56u25n0alVa5fbvtt5XH/ThWsZGyFmdaf0R5X96P9aZMVTdQBepN++TT4vOlLa/aXqx3EXUVJS+XT+vlsd1+w/p5f352HSrCktm6lxRQ3QBSKO5dzAOq7jK1auqznZXMHNuJSlNps2pNs75KbSM21yJPhblLqSufp7mI9oSNZFQ+b3fdNuvTPL9M8yVSznHu27bv98lq9qZJny8yPMcBrT7NnmPUeUxqokaxIOGttX5mjcB+Hs/7Pk+rT92nlz5NUcfYVxlQONwANLNBxDg9x/j/rFR1N7EUdfflchkhIwZJ8qg6FJNof72++nVpMj9uR+UKVdVWlWMcykghQaqKqkIUqsXatzXGwx0vl4UiVUSlGyIiC2dmn6eCUFuKRUEgjiyBEKwqVzNxqIjp7X7LzCxZ5usytwyiSlCZqTBrniNFDKWm2owjypVdcIgIWVVJFdUu1tryxmNUxL4fyHPqVpmAtuaZI1HFEpAsFlllIq72YnigiD9zGWLNYT+8vx9HHcczawAReViWnKEod1FB8U9MUoVEZnmfEjUxIjI1kyIVw/3c1y+Ezr3BL+v+zBxRJWMb56PPTimlxtiEwQIrVOHk08T3cxNQNEWtYjwekUKggNaX99a6i6zfvhareM5D5n6xshybK6kKYVS4qgkNFFYQR5sNUOvzIyqDqr7tx8f1Sm9TXyi6biv3Z56JOrs1MjNiZIi7p/m5V0IEcsaw49GXq7f23cf3Yi9ikmCJdPfu8whcX6O2Z+63PO5x7ONkREFFRP1kRYaKECLQOMPlOZCqsrwpbG5tGYRAIgfAip11VOzHscW5j3NXgao1NxeAYIlCDCwW18fq53puj3jevv/L35HqbcrIyj3OJ8YZ2za2NceRsYsERM27ujpJCJNpCkJU3IixP7A/1nU7vnxDf1neP6pYOZiR48xxojJJdS2omps7RFwAgAWS5eakQMxFEYOVx/mMY73ffwdEIBSF0E3dGsxLFOqlGkQT8YwTKKhEkKxmLVitNzFlFiMR2UxJAgwRmhGkmphCDeYlOKOI8IxRBVXR3kU0k6JyVglE2+Rz1xJUkEmmqkA1s9o8qZt6G8mRmRFj5P8AtNBzgf2TGWMAAAAASUVORK5CYII=\\n\", \"height\": 25, \"channels\": 3, \"width\": 25, \"type\": \"image\", \"id\": 432032792}, {\"format\": \"png\", \"value\": \"image/png;base64,iVBORw0KGgoAAAANSUhEUgAAABQAAAAXCAIAAACEf/j0AAADE0lEQVR4nDVU227rRgyc4VIry7ITO0kLtAX6/9/WIk18kWxpdzl90MkzMeBcyOHp9EGShBRmZpZaBARCgEIACAQJkgABQjAjIDMjCSgASRAIGklJIQEgTSAACBIkCQhJgEWEFNsUgAIKtYgASJqlBqu02HbCAGLbA7oA4w8UiGiAAKUuq7VhOCAPj1bL/Z7UCAEAsSn1TclGHcCmzbyj5zzudv1e1vWWWj7GOj/XeSmLIRIkiafzB6GNDC158pxHy2MRJQtBoc677F12wPHf7VLnybVGLG6kfoxJyS3vlI9zyS3QgqFIxrXqyZYsdjt/O/4+8faYP6XqivZLAdnlUd3huqrVYky0TkIDSAqsQT2qxXMY9kVrmcNpJsnM4Bn5kDC+99Tr8M/1zoCB0GYSQW/AfSkD8Xo4T6JLItn5EHmcm70Yz31O7+db8sf3na3pByygAQ3GpeaU9vuDEQQNvhMGha8N6Hdtff799vZ+OldLYQk0SdxSggm+lGgyIwQirAtkyUroa5pUS18eb6+73esYBhgtJTNLKdEsgBoRoHML3TxaJ0UVrvOD1s5G8/Tn6fAFfl9vTvvj/eNR6tft0upaQh5wSjSWWoQA1CTRrvdnIl9Px84aXscFDdNjcO3G8Wu+RCPcq+QCAJh7NBDcjiXQfd0mWLy/fWTit5f9YmDHqpISg2y19Z5MgMiAwNheT1KVCvz7+rxdbh21M70cB+u7ppBEWtd1RpgAtXDIKP4YmmiGBO4+r/fr7bLPaehTv8sCIJjAWk3hAtUCraRUCxLggJLZYeyHMddYcweL0u/HZwjoJFLRJxiaC6DgUVc9yWGLtIWey5T3cXp7yVRHq3UF8zwViGa0xLI+XJIBWqe8Z1ECXFQIS4l/P2/PZvGYM9ho7G7LKqiYqdS5rhe+vJyNTAzvfTj+tcRxLg0y/eovJtDBAIOx712tKaLVr7J8OoCtq7BU+mU8+qM1KCtIGSSQRQEgJSUtqI+gHuvUSvVf1SU28TZ9dzEdh3cgAf3avEYYYEZ377poy7XW+1rmqJWw/wFf7RnRKJdrnwAAAABJRU5ErkJggg==\\n\", \"height\": 23, \"channels\": 3, \"width\": 20, \"type\": \"image\", \"id\": 432032848}, {\"format\": \"png\", \"value\": \"image/png;base64,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\\n\", \"height\": 36, \"channels\": 3, \"width\": 37, \"type\": \"image\", \"id\": 432032904}, {\"format\": \"png\", \"value\": \"image/png;base64,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\\n\", \"height\": 32, \"channels\": 3, \"width\": 32, \"type\": \"image\", \"id\": 432032960}, {\"format\": \"png\", \"value\": \"image/png;base64,iVBORw0KGgoAAAANSUhEUgAAAB0AAAAZCAIAAABCYLJOAAAFOUlEQVR4nC3Ty3Ib2RGE4azL6W7cSAIERUoaWzHb8fs/giPsZ/DCERMOSTOeEEckATT6VFV6Ia9y96++lL/98jPBpqJVBAkoiALUobZE9qQUXCSryMUbshTiEVlVZDbXSpaoD6OpoqpHqAKmoqzJdT02E2aFDj5OjZnXay94s0l6bdq4subigJKiZt7c3bMIEbLIUlUAIlATTKaucNesgNQ4tWGwngtVIKawupb1qvNl7YMWQBHRNgzuRlJEIQJQAVaJAKAzu4mZa2ZUJUQzGXFNMjmIaDPsVlrXPl97qa4228xIFIDWBhBLX1S1KpEJcUIAdXehMCtFhaCoRWRkZpVYa2aT8Xr6zlrMfJm7aW3WQ2rQfIkQ1XEYBGw2Ek4KADd3UwHQMxlMUqyKyJIeaCqDOZflOsdxf39/d3j59u3P04v4erVZXaK76hKsHgaWIBluA6uqwokSUYJZhFoWqghKUQtqgC4xtmn/8Hh3exe5zPHGPiPHyiJLyKrKKqgkUYzmWlUOSGQBIgKIVJaKEAWUmDhhyTZutbW74+4yb09vq5oXqWpucO0Z10oCVSCysggFqaLq7kUUJKtYlZnFvJnarckyn88ld8ePNze7r3/8J1zW+/tFZJ4va5VRqEwTAlDABYqIWKpKzZxFUgghUVmZLJqV8fXcr8v+/cP+uP7y+de//+Of//7yZb3fHz88XedXXi6TjoO6CVWogGRWFIss6hIRRYgCUsUqRCFhbpPD3HxY+XqN+fTnw+3t9fl5s1kfPj4dHg8vb2+n13mlNrmYQMAiAPkx3qNUtFhVJAGgWG1o7sZIb9PN/mGzuXl6eHh9UdB32+336PdPnwasfv/t9+1mvW7bJeeQSgFIAUxVFSKi5I8wCNxM42FoeTn1rMcPn3b74wLdPTyg2eF4f12Wadpsb45tmlYrZw92bTqoSBsGNQUYEa5AZgpERZMUMS/lyyl63NzcHY73NOnIc57RFvW6LjPV9je7eniYX5/zbVaTggYlQTMVILK0SABZRaCAFNO2Uh9Sbby9G9ar5uLGzNM4xfn6YoP72GbW5uF4+PBhESzLvG2+ad5AF5ipm2qR/L/tKIQNZoOrN9qwursd101At2G7uZ9W704X2LBdyq7Ui/jhw1/e/fQx+jnPl23brmxwQVWB1KoEy1RMuR3kMCjPr6fn548f/3r//qk0EpxL3rJ9Pumvs/7r67cOL5hpo7Z3P324f9yfzuf5rW99bIIfLlwAkKZaBU/lPLPnYXu72913MVFkMonFxs+nePMJl3m6nI7bTUY005n28PQz5/b87WUQH31yW6JSs4qqySpYG7ZtWAdl3O1LRtfGiAZY5M7Gx+nmfZs+bXfvx2HTL5tc2vVy2yYLXw0rVmRSyzY+uMAjEUxVGdrQhiGXCIqthpu7ab6cFL16ZI/q/XG16h7y8vzfP77UMiMiMzJYUblchAtLjOKVTdRJycjtNG5am19fr9/fXP37b1++fv08k1plVcUftik/ngMRQACAhJACLJvd+Dr3qa0ptly6q6mrG7S/nTRqcmX0Or2I6OHu7vL9zxESIjpMjBxM6Qpv6g5VMSUqUYUictxIL5znOaBeFZVyNaynlUAMaCpNzSEpspmODpl7XDtf5lMDWR29q6qZBavQvfEyL+4tkwUpKKHOAqvOcb0WvQ0ATdDUembPQpFZkRXJnlVBsFTEVU0kBTB4EJRlCYEUICqm6lkUURFkZuZFBK5C1ciIhKmbOYRmtKokMjIjskpUISoQEioQgbv36CLIjP8BzWPB0xwqfWIAAAAASUVORK5CYII=\\n\", \"height\": 25, \"channels\": 3, \"width\": 29, \"type\": \"image\", \"id\": 432033016}, {\"format\": \"png\", \"value\": \"image/png;base64,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\\n\", \"height\": 86, \"channels\": 3, \"width\": 92, \"type\": \"image\", \"id\": 432033072}, {\"format\": \"png\", \"value\": \"image/png;base64,iVBORw0KGgoAAAANSUhEUgAAABsAAAAYCAIAAACEIhGsAAAFzUlEQVR4nDWRW48cVxVG997nnKruqq6qvl/tuXlmbI8H2zGKZHgDgVAI4oG/C8pLgggRUvCNkDBOPLbHc+3pnq6u7rqcszcPhpf1uLQ+fbizt4MgtnKEhIgsIoDCIgwAChFBBEEEBBBFRCnQnhLEGmKgTNDshM3aYNzKS+37Tc9PNBCBCJI4J4iARCIASEjy0QWIIAIA/yMiACCSDxiJ/Onzz6jR8KJ4zQpZZ+lce4SOQZQmFGEWAUXaWQYRACGlhAWRFIBBrACsOEJEpNzJguCrb77e3X9c4dqRmi/S+eK9NkhI4oSJUARZQNiBiAgTEYsAiCLpJdFGf+JM8PyHV4rEsS2EGf2Ty0uAV0HcnaXL89nNophr0MYVuSYS54CIgBgAxYkDEUEABCCSTlJ7dHf/+/ezmlcr3UqAtQZNMruZz+Y3LMgChZOSKyqFnQgwIyIiKq1RKScMCCICIIgSR61ec7y8ugy9atBNEAhIK6UVkSAUwqWzZVWxrWraaBI2WgsLiCASi2hFohU7FhZESIzeiTuN0vB6WjfVg3ZM1v04vxYUICLkwPNBCAFXq9wYQ+KkKisWAQQAQWBhZ4wREUACxKanN0OKyvOwyPybvLm2m51BGMWC7ICV1oSilLBY3yO2uXYfr0QE+P9SRmZBAUTUKJvDfi9EDkQgkZW6XhdOeCuKLiRbVg5AHFt2VhitZeecJq3ECgIIEH8MBSAiRiF0o954c7gD129TKO9++sS56Pzsp5Oz414lHLSKVcbsBARAMbNjUMbXWisgAAbrGABYBAGdYyRse/qgN7y+yJalu/3w7uTwSXYF8+uTOma9KKmK8Kxy+WoBqERr0eixKBFido7ZsggQixChgCARkWrXgiFZqa5u3X/Q332amaB3qzMc9EMK/HXRCv1G0iwdkYmWVS3oTkoGQq2ZrSaFpMuSEUCEBVABespsDSexcq5etqJmXQ8jr5FX6fjw8Cadv/n2H0w3B0nHTheVlwx7o0ZiZsDzq6kOAh+Fq9KJuI86gUqh3b61szUcqIvTZr3VawV7e8nLd/86evejaXS29w6rdHH0nxeh05OgeZwXoS7mpx/SdJYXuY7DGnOVcqkNFgUTkKLq7jA67CfZdLrOq96d/etA/fnZX95dnid1L3ZRtzspd/cXy4tq7gxrbdOfjp6l6xxQAQJFQT0MGwxonShttDY1L26bXqd0Nj0f74zrk97f3r794vm/X76b1YONu+ONXq8Rj8eD8Z2GwVFLEl/QiQAwW0SgWlhflxUj1YPQaFM3JvHjbnQLShc0vfadSW/UDhBoVaXv59nSb4y3VrDujicb+48LQ1BdPBq1J62OAyRFhEizxTyvVmEcBGHdaAgMbA07/bhmmMPmoLn9s8H4QXVj1drt9/vjUScjtQbfkb69v7v3+OdoTZhVk3a/2WmTYkVCg353PGy3k7BmyDc4bPiPRt1sfnHDvHHwuL99+P3J+nTBFHeD/uBqMVVKr8SfCk2Xi/v793e2D7KV1bk97HSGUQ1IdJaVZcmrda5Reao2aozU1XU2P3vy9Fd3Hv7iLD07+vBlb7uVznNoxNPF6vjN0dQWX3/3why//mz34e7Oo3yW2dkZrF3qdS/XUz1fVbwueZ0FUcDKT2/kGmfJMBrcu5/Xu++uv729UU2yZrqMsyy3oL578/rFq2+ev3p2b9T9+/vOAY5qw6G3fjuqtaYzMLjUphEX2aobBAAABkPN7VrL64/9wVZRj6Yc56f601ujouG/eX+Rof/Vs38evfwhgdrxh0XlXXrx8SebI++0p2+ySSfKky3djZK1SJ7OEqlGCvxykZfRwebDveHO2+vsHsetvV+3jb2Ynox9PZ1lv+z0f/Pb34fKCGlQfHvQvj0Ym7P7ry/+Ci775N5T/MMffzfPlpZon2izdLbi3Z3d4c4u+w0UDa5wXIhYgWqR5mW60rYCW0pVWWsBuATWQTw/OTfl4tQuL6HxX6VPVPp/Ah2jAAAAAElFTkSuQmCC\\n\", \"height\": 24, \"channels\": 3, \"width\": 27, \"type\": \"image\", \"id\": 432033128}, {\"format\": \"png\", \"value\": \"image/png;base64,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\\n\", \"height\": 39, \"channels\": 3, \"width\": 39, \"type\": \"image\", \"id\": 432033184}, {\"format\": \"png\", \"value\": \"image/png;base64,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\\n\", \"height\": 45, \"channels\": 3, \"width\": 52, \"type\": \"image\", \"id\": 432033240}, {\"format\": \"png\", \"value\": \"image/png;base64,iVBORw0KGgoAAAANSUhEUgAAAFkAAABNCAIAAABCLl91AAAiFUlEQVR4nF280ZLjOA4smgmQkqu6Z+dE3P//xj2709W2RAJ5H0C6ek/HxFTNtG1JBJBIJADz77//v+6umIJSEJhKACDNTBIkSW6mzCTh/fBORSpSSUCpFEgCEGRERoCWkiQSRkqQQIIEBAECjIQg2Pr/AGmEBO3fIcDMzYzm5g2kN6d389aP4zwOZVIZ4x7Xa97P637NGWMGINRH7s8B4QQiYJYSQAAAJAmEsQGMCCcBmjEiSUoJSQlhfUykCEIwWAbcjJSRyiS5XyeDlCnVpVH/DklAc29uyFRm1n0CIZBGAxSAqS4igSAyBbNGM7D+O0hkykjQMO/XeALMyIyR48pxxRxjJuBlFQCESMsUiRlhkjJBA2hEqsxIgi2VH48z7ltAZgKCRFBSKkW4GQSSygSojJAg0SCo3IEUzZxAxkyQ9jZK/Wjn4/M4GuBkjjnmjJgjJ0khImEUFMDbxVSfEJkJmRmk5h2AEslsFtfv54yZ+24bgGTMrKuTNFIpwCABAimlQICZCRCkADMjAGWD8vl6uVkKKZE0s0wRCcAIKEmTRFICpNbcDFIYLTPNSNse6URdTQCYEs0+jvPj42Pe47pv9+buNDqQKB8RJNIEAckyJAkJIAECygQQCjNDBOaM6xURmZmSkaRP0UlYW29RgjS64GR6uSipyIrAVNIbaf04YtwQGqlUZoUGAFCQO5WmTKQSklWkyEhArbVUGA2ZZZNy7KzXmFWIUJEQzT7Oh+57PH8TvOb0fjyOU5Epl1CeLEhCIVT9DqggKBMECaWUoXUrUi7XQULSlDCNzc0WCpRPZipTIqFMN5coQFJICRgZmQAotXoHlNLbBkmjBNDMiMyFZfX3YERavaD+m0jFen4AgFmbU2f3GC+aZyLvu9zfhLyvSzgfhyl94ajGnCkoYWZG0EwVsFghUL+7M2JEJFCPTEGFCGZGQhLNcmEWjSCyIAJSkBVuAMzI+pTMTEFqrZ8GyznuOUCoUkPZGpq54KNiyowhzLgtUcdhNCikFApWEDFBAXYPiQ0G6ELclARRcPC+X2l89I/G63X/jqyMQ1IV6FJBch1CrpgD7ntISVArKAWyUMndlBlR6M9lGBogAytstJ2NQDMKMILK3iyit5gZMIO5t1RK2sAl7CQiIAUzktYqh0qZBJjLF0SAdCDMGJlmTtjZ+nkwrl+RU7KVwyCCcc+J83EeLV9xDTPPwoiMgqlKyVZxUglZKOT6E5jJ5TURwTrOdax07+ZUWpZrK0My95hRN2wsWEEC9N4kARGqvzYzKzyvuMV2/LpEs4ZUoOhCpuSsuDUCZohImjc3Mzdr3VpezxgJFlavrG6QNOf4/UJ7HP8yPZ8xrTeNyysXF/pU7lQUySnjlvPsW1tRuWgC6eZUClLGnUKQSiPcGJGgR749AwRBeyf/Vuhj7hFhdFoza3NeK7mSAtytktA91dxpZswxLgKZ8TZSxJCkgFhUh2CjCLkybN3/MiU0kRkDl47ePw3PfvRg5gxp+YLRpEXJVmqo56cVFStErJskjbQC3spPZqAq0DKkOWWt0c3Aon+VWoyITHM2QQQyk7QKN+9eXA3IMk3Fg5QRY+ZcEVpgSytbQVnukhLMJRNAzIzB5erLpOUblKQkZsQL5u4tIseY2FmEC7woZSUR0pa/cnFVs0rfCzUyK4BIuvtOJ/UKwYwzblpvpJERk/bmAqaNpqpLuLsblGk0bx00bdCqmJQCORR3xiiuXIBdmF2wIhCw5ufnecZ8RUYRn/1vlBkTFCgFdCungYgkTIUT+zhSK5usKFju/I5S0Bw0SRGxHAeUqPd9SwlKzExjMsP2bZTLzEiJbmyUSMvK2JV5MkfM9WqyMlW9810tcP2j7zxPGPczmzdvOUfMyQVy2iCHRcG5PyFTEa0dRoMxZFHVAqtqwHbmwnO9yUN5SAqLBptbYWcmMivrKQkypUrVIRlprDjYz+UUck61BBfFVuY6V+zChTu34xs/K7sCRfgEmTEzlZI5aVl0nIZZJL6Cmduqb6gHAQNDysg55vFokkPrRjP1doUqUHIfwap9zEnHKh0ImHnLTFEbf4WVpSHAvFXcjDEkmXlBWD2Qe2vFsd5+WHFKkqBgOx9DCx2oXbDUcawb3ZlPSNBhMo6cd4WyWQOz+LUENyIF2ufj8349pZBmTF3XcRwP4p7zt/J9kRUym1kDKF6rzHg8+hyj6PaYM1U4uu6/UK94J6T5DfOGxVyhomBmY86GjTYASGv9aL3lHBHFdzI1tzUW3V4v3jXvTg5WLzi7n4fH9YWYdaApe5z9dU2QNC9wJ/26JmnAhJJS3Jx8HOd55nVds0ImM/B90ABs1foSoOfzq667PFfrAc2MdNLNEHPU8xktInKzj+Vx5bYpmlrVQG8BYsQMKuc0ePOGvN8O83acenHVZwUXtIaqkWVHOzSGZlQFLiQwX9cQDfTH4wc17uu3MqSUEqiinUTG+H2zt/aDuq55h/KN6zsXixS2m6QyAbe2j2sl3SIoKYUocNXQMUNJ2B95atlWSgfauxh8l3eaKh9KYVf+3L5QPBvEdzxz6Q5KJK2bNUZEKoSVVTRVuOKN7XRvrjFeF1adVHdTt3TnMPHRDgtMzNiE753LdpWwTM1FyLg4IM1glqpqFwDNnAbF3ESJqarFoyxaxRypBphZp8GQlJaAIYGSRire0FWnvpPags8NJhM0sHvvZpHXrfyjVgMIBqwdB5sF1M8fJl7PLwLCEgQKIZgDuiLR24O6Iu83Wn2rLssIBZ5WNnE6kFF0WWkrs4aAQknS3NwQI5UKIAGTMuYSnxrZzB+9I+brj7xc4DS3iMDFcVZ2Id7CDwnCKNDMjrP7ff3SnDuTbn5F6+dHPw4g3Zpk/QPSPV7j/4Eeac75m+006/T0mEyNMkdhVSUgws0qr4G+ZBuFfadgubfNUJYQWa5c5gYEZSw9k27WQLpbZJh1N4w53q+uPGxm75rtu0jP1FshEHo7zLpZn2PkDC9w0eaXJK2Zn7QGpJQ0RFh//Iv6uq8XBNKXd0AZYZZ00Ky5p2YSAVRsu7sytsDDyBQEM2TaVsNKGbJdOmSGslQFw678MhM0mi8WKzWYiTiOR87Zu5mx6l4p55xY1GjXrdoAtpCsymOLQIKf/TDpynX2VR2QDMC8e3u4m/JmqYztQB52huue97LOO6ByjID1s1FtZjLTsOr5zEXGN9MQIGRCVVNCgJubWcxRkLesCxbJjhIr6W4mmhkjJsHWjqMdj3a0iaSxtyZgAnMGkfw+aeLP+wUJmTkgQjNHO3rzmc+XLQ+ClnIHkXZ071YcPVMJwsyaUQ/PSYw55sKDKs6hGBeQj8cHhZkBAeS2Ct2oyFyqjBWWlWRcUnIpC0WkilBYAU3VLG4mkDDDjFn1czuOs/fHefrjMCpzDrnndSHGUvl3ZbzKy+WDNLCCBcTj6O3g6/VfjIHFR99JmK0f59FJbeSzSDiNNO+nIjRFC+yEuDm95j1uO1o/D81xz4RmJs3drVi2L90qJVU+MHOarRqDZuZarNSFSuForcNYpdScQyrlhe08P9wdyNYsZlZfowjcSqV/ZDVu8AStGgJmFMzsUfWMbWJqJYWToPfjg/TNCEtZUVkxheM8Z07lfFcAoFVt6sR9/w6cZ//per7G5YSATB2ta3NKbotJmjENLTOIKr+hdwMCSwFBYea7AFzdGbXeTyB7bxlXPa+RyhhjsKSUeqJ9LliKUwCEUiSsdf8w3BmJXYBU0im9yPtH68eG98S2YR2HQDtPy8i8sAot7FQQRMZoA49+froGZgaQQiTobgIjQ1j1SyWXDGKpcIvAKytTVG8lIiKz9A6AZosumDTNEDlVfTCiQndxQX4f266YCwgW1RFg3ZoH7icj7dtKIJCgHUc7mpC7b0CCbgZQIGgyC2uPH38/Pj5oqlAyrvCmwBwRzztm7x/dexlkZgZo3rwwBipVyW3r6kBzN8gos6q2E6pzkNHcjBAhKFf1Uq3AyPg4j4/mOcYYIxKwBjrNuG7rO6fWA5mbiPM4Ht3G9c+8X6hnq0oUEtmP8ziPKkD+UMBskzeSFuXmdvjjo51NyJ0NqolG5VS+FBNo9O7uThpotEjJvGxVLZ+IMJYunfcYZZXqE7x5hXkzd5DmdXSqc28ii9J/nD9er38jLuXMzNg5awswi35uWkHzbn4aPee0OUy56hxiKV10aw/6QTIiEoC7L7F/3VuBukCZpffj8dPy6/V6bVgSIQNiTsDgHUaHIZRQxjRiZJ3llj6/sd2UqJ4WVpYBaG4091LzKtNlpJsp0ZCSItL++XVBCsyZM1Xht8n6etvCVCdBGyNh/uN8GO779bV13RVHCdB6O3601lVdS1uVsplFieioJhQFZKZ7B+hneNw5IhdP2Yxjzmmjn51U5ixCkbtrbWZVgtX/BtD8gBsxr3tskKziFev8/1BpSmdu474Ikvp1P5W34N6PuKe70RzIDb8WMbegKRAzZ3+Y+4znc3VBtx4vQbB2HP1oZV1vbWPi6lQC1VvJpTJkAjxayzi8fzCvkaOgHMqSaue4RT4eH8T1up4GlXK3JWgq932AEYOkcr4lUKzaOjc0F5kpoACgpvsOWOu85ivmNFIh91apS0qjIlUZ+F2YKGc/TnfF/IrxqtyBtyRHs3b086wCIks7Q1ZLLNZZcJHq5d5MaAreHzEzZzAj52rZbfEyc8QwnY+HNO57ROqtv/xPkIBSRMR3wb/1TTNT5sblNd5Q4d80rgDGlDJW3ZNprYXkzpjlBFXclNKdBMAGdDOP8Zu5evxVPAkg3dopa1i1zKriSuA384oLM8xxC0owQZhTntLx+KBm5HAg4i2jyQBqzvtLOM7jB/V63U9xRVllCu0wzMiIrFtZXbh1nNsSSwjMpeEK7Z4jkdiciuYoJRRv/Wdzfig3CIl+9h/dYsy53rjZeYK0dh4fx3ESb3kSZm7uWs1aApFzIMbz+fW87nY+2B55/OjdCPSPj8zr+noWDH/TJSQ0Ytjg2frZ8sbMmVgC7yatc1WYrJkOs4I427Mh62ZromDXhGgpAVFcg2RmYKu9Ru0qYEsGlUoI6zy68n7mDC9IeB+Y0bu3Y3VesKd8UsoIIxOiISMyxryu59dXAr/nbA+CR8Af3cXWH39Z8vfXPxDfZV5ZEjnG+Eo0bx/QPeKqjkTkW/pZ9TRYFUnpMbA194PyIynNmKCbQ7J+nivBYLWluRpLayIjUtradNXUR2+PwxXPuF+GYm/ryAT1o7ejb/kx36zEtvZGiEgzjHHf16smcQy6X6+c0cwJGjt4np8/+qO/ic37ODKH8lKE1Om9NbctSWx1bmGo7YZTdeO1jlVvL+bq8YDuds+BPQMRKtUU24V8l4DqvQFF4Bp0xAjFbetRt++QZE8dtE5jnaSUxd35vv5K0jj6cTQnJhFEHL1BKPzOTJpP+fH4+zgfZHIzggr1jFRMaIDqrbVVj7IUk29ALTFVCQWRzbm4RjUlSILNLGLOmKYIwEqWJFBZact5NG9mRnJGbMRp5/HXj8dnjOut+i3SD6Yd7fz7ePxcfoF8p9LIrYsBpUHQHM2ORwPz8ehOHO14HCckMw8h2JOPdn54N6yhoC3pCBkj8/Zm5t5aa+5t88udV8zMsZIVSEXOd7cplxSE0OLwjVgKqu2SI6WloyIzVx/ASMKMBmvnwfm6cqa9hSuAtEm28+iPFpCVgvL2sSIKpThJkWFGmrfzB1s/PyDRvJlHzK8Axpjn41O0fjziGt4fyDvHfDfbiqjc1x2wx/kBjjm/qu8bi9eVNRK0/XItWbBC490YXxIjW8WhmedSwTYLWTyipp6KVtC9efeYzxg3tIywYhiAeT+7rV43t1RYA12UgvQq65p7cYDWTrMuMQIRX8/nv38/b7du1sZ1Wztmf/T+gIIJy1D8T7QRnHfe0OfHcfTXuDNWi/M7HitI3+iPRUBXTiymX0HVoBQsMq3CCkpRMiO9xJ1IrWZ6S7lmNBMybJ/a0inQ6A+203x1pFdOowmrf2AmaBHZjCvjvl7X8/nKBWxDGoJHQrjH/aL3Zzvb4/H3x08DY96mGif67pg4Yt5fTxyP8y/qOa7f5r4rgfePUvewwY2bPZvRWD0xqNXL/5zXg2jWzQCluTcaSr+C9fY4D91f/0ZGTRuUGVKAtfP862gHMgwcwgRsD5pWB5uAEQa+Xtc9vq7rv/c1AX8zS8m9na1/tK4cXzlmJjTa7XycP3y+Zr6UazyDK3OlFDHbsNb6x6E5E5l0rw7xSpE7B4m0+O74sAawmtujeTMzaffklIJJQWaK3Q1agyiVoM5ueT9zpoO7vb6EwH70x6Mrb+Xrft1fI7Of5/FozQ7nxnYZcf/+/Xw9r/Gac5q5mylq9CZRqvrjkw3/+vFj/vq//3l+5fR79CH+ePykcD+/SqN/mxkANO7xS2zn+dPHGHPUFPOODuyqlFLWHKYbIYVSQGst52glLhsZiXe3tQyV+/DcPWdJ7CPHTe3mO3dL29yPDoPyfj7/8/vrFWhx3ybSTplXAFP56+vX8/evmTGFnz//z8fZ7+fXeF4A53boCHx+fkrRPj5PvX4/n5NuOKed/fGRecXr3kfw9vlpyAxOdPNuGTFnxWYJwkvCUHEFYrdN61Ne16XMttFjS39rPLvKbCSyMTNNcBHKC3EviFiOCrCbP8RWI9Sv60UzJlw57pccj/YZcSPn/fz9+/VMeOA4f3x8/vjBuD+Oh10zltIDABHz+Xq2j0N+PB5/d5tfdzTnzJHK8/Ez8uu673c/Zb8ryAkfxZuQlhHVoHyjqPDn78U+1wCkgIY9ebPtjFC8OWI1V2f60f96nBi//62cgO8aoXKwHcdf5+NRbOI8+uv3ACyhs9nZGlLKeT3/e78umnU/P89/HY8DQDs8IswbZnDNUOGeo7VzKrr3bv04osUcMTODdFi3IywjxnxXpVgax01D88PMKqpXf6jm9XYOWcGYKj7PzVDbt6SxMwxYXY86R0+wHefRW97PeadpeVapFQn4cfSzw6rQOB7n302vf67bz4/eu6m0eOv959F+BOD9PI5HFUkj8ziOcNemSECMuF7z0dtpKBYECQ6CrMyNdnifFMec75svZWjel2Afjx9oOXOaMbRCnpIwV3m0kiBTWZKVlA3fAgxrCsXN5lw9WvNm1twblTEmZZsHc/0w96N7czMi4Xag994e7ce8RSSRusbVWvP+sOaN1cdKkjXlqyDdlxAESWGaFlNxqlkquKZZOEcs/Go941AE87urUpmFUo64mcd5HhpjZg3gZTIVtL0IslASS8gQSGuRafzWjqGMuWfo12SgCYJuxijlU1gNW7eedlotlKB4/pDGfd1f151m83WZUE2/NPbPf/38/Fcj3k0XZToNJVTHlj8UeV3qn+lr0tndY84l3xKCtX4iIzNKQFzVcM3TKsb9K9HP44fh0rgKjGi2qzavmuE9UV6tj7Zo/pIq3uX97sqJzY+jaT7/g/zDIQtZ4Mf513E8gFj0APOf3//++rpDLWqdpCYgXM7k9Yz+09wdKLGtprPNvZ7S2+nUjBH3fd+T3Y3wP+rOBZZkwvx8pCKuW/Etb0AQJhFxI+xh7fC8c0ynq+rpNdmTQNhuoFSCacqgMzK5yt6tuQkgYdbcY7zmPf19iHVRwno/HufKSwrDfH19Pb/uSkHVbRfs4+MvMToTUzl/Pe/+8zwX40iBiDXZ571/0mc+X83yvn/pUD8OANW1IL85SJKAt+PTEne+9N7C0SogDBHzNcWjf5peIyOUuZ8PwHtInjuzNKkmqbesVUs8FQukuUPCDKoUHb7Pg0bvrRooyHDEr6///Pr9op2dmjEzsxpDgXZ8/OC8oCf0xAweR9nYS19dtK3RH/0RyF/j+TRAow26NSJXC32bsHqUJsCO03LMlWG/UywUGRd4yro3xXxWm6NUFfPSXKpLYXPMzGhLy6rSgoZaSDFKFMx7g16crxLvWVpAvdK6eXOXKOa8f//6+v3E8fhxfGK8nq9RTpHK369fs9vf56ebwSHzqm2/K+zCdYKNaX6eP4/59c+84vIw/x3oq4vnNJdQ0wU0Fyl6Oz6h531fBI17DWYxjiF3QG6uXHk1pcyQ0sxiTm5lsIF74Ll+o7szMty7sX8cHr9/ZdyAY7F6EwHrj8+/Hz8+zBk5fj9/Pb9+ncfJ46O3B0zX/aXkFIREDswZjef5Q4g9Q6klvq0eGmgg06y1/hnHPJjP+/kcQTMdh5nRDEYza82IWa1YWE/RTzXNHLFdfunyijnHy3s375pRez6VQlY1jd1urrNwawDqqOa8It28JfjoLe9rXKPB3m8hPcnz48fHj7+ssTWzid5O+2Hsh6x1b1N0N82oATJqatx5xHNkbyTMzIUkUxGlq2ycImnteCAmZ3x23WMicD3v1bbsj+Owmm93sjYTQCSt9Yd0Z/UBqvoAKc0xYe08H70r4t51LkgT8nuLkmhG40aJtY6TTIgOg3LMqj6KSwCguXk/Pn7A+/H5GPcL3h+ff2VkgkkoKo2vzkdCTnLe8/Vi99+vMGti6w/vlv5H8irHIG2m2vnjpx8Rdx+vOcecc0YqkfctP2u9gbUFiZrlftBa1GqS1oZDAbKBGjkQ/TyBgGZR7hRolTAEsPXWWvMlNJEGhJL0yHQmcXNevpBi90prgMQaWrvWwIcDASiitvxgZu4eTPI4H6dnNOF6/ed+Fif2tNbz8fPjhNPLONj+CqUUhPVOZ2ttjmvOMUeADljmnNPckDQ3y4wRIW+f54cpIwaFjORmYAYwx7xTPM/jx8Qzx7OOK7P4izLjHtnGnG7FVYyku2fi7MfjaPP6BzEWf1mWM9HO8/N8fOTS2tibTVFEya8JmDtJoz8+/sXPB8ftcbEpBPdu3mBOb7bsssZlSupYmvrSXK0kalr2swMOckR6qZJCmanQN2Tt8dFz3M8X8o0ZWJikzOGDj9bPppfuENag8ko/QnuPgLW25qHT/OhH3FcWp/if5opb68fjE1bCohs9IiSmqIQ0AcRSbnJEQPj5eNiNx/FzbnZSVJpgxL2ljcVrlGG03DsJq17wBhD0lLxENiwGtnYOhFCK7I8PSM+vX1SJuNoKWy3G/pL13n5aXlfMJGJNMNXMwVof4D3rJ71191adXO3WRg25T7H3E9bMTHk7m8SImVFQVfSqJm+czNJpI9X6I2FulUwreRCCmcXILRgYJGXCubpSUG0K516k9OqJ7lmjSsXSGnYve52PR8xrXlNLjFkvlCYhhAdPa3S8oIQvwR5A81WrIHOKBmug3GM+X9QuYbW6oVN0dxnGuHpj3M+sGVplRtRiiJMQ3Nw4Yw7moWYTogJBo2mhg9VOi62tw/VA3IpcnU5q1tVTWf14QlKsIoIGJBTVgcqAW4uY5/lhuq/XvakGrCq/COG2biLMG3LWdlrZrLXWayOnivTT2+fZ7+d/c1yrIQZUowC08/h49AM5IwfBiBo4IwXFvO7LvMkaScJohi3U0qg10Ma33ACBwDXuAR1Hp9c2DJRp5krYd/kKI5FBbict/hhJoLsJcsCtKYVSj81rIGaF0Nb7IgYMzR9uDYpUxAzQpWw1JUOrlbre/ZjPFyO+lyE36zZvvR2IiTQi59RagCKgVM5xv9iO1kCq06tNXUCTEqFUlCrIrZ8DND/6h6dk3lp9A4GUEaTNGdzRVGs5kZFKrEoygKwR8JiBftyv3yQzRuZcS/IrQe2tJpLQHDfo5/nh7NeI5i2FBFuN7VRDRXT3w5jXeGHRlfIySxDe2E8/PDWxp3/XwyprCjHGrYQ3b+7hfjYnycyahwE2TNaWDkTycX4CioiZGXOW+9j6KoFMBZZumTNTqjodqz+uSkMCcL2eb/FxzcBudr8SANbBGhBjDLbHx5GKOWetHrZUxpzu3bzTYR7zeu2e8FtBo+h2HH60wNp7BVBTO5EwMSIJ+trVcllvH95WxyliyvaaldbCiKohTEAZkRm5/iiTeltCb/JRHYDtrG/lcvXxfW8prpOurLq3k/af1V+WctzPRH6cD9M150tAUw1iZbT+6M2u138x7z80ZkvB6P14nMehnHRbe5jleBkU50iFItLckeHq85rGAOKtV92RmVGyoBZBzEVd3rvrKvjcXfVdJkFa+0ClieE9gfxdcX8P2bzrvT8r8i1xc++qUBFjZv+EH7QbWmS2tXY27xlTESYApjfugTRv7cxMR2SUdi8DMkbGqBCOcSnmyFAq7pv0QiYAthVBcxsxtepc+Tc4azt2tXN2j/bNlbDOCLl0gyVVVizs72/hH+/FToIl7u9G0ZLT3iuzmSGTueecjaDgCTc2xBgR2wOtvgIDQCZiZON8Xr/Ll0siw14e1YLG2gTdHrV2N6i1wY0oLCyNqEQSsyVzSLaO4xuu344NgHwf1lY3d32p3MNwZrt7WoosJO01aHwfBBlAjdp0q8sKRKuBBDqNU/Ou8b5KWMAONs0cv6879lgf3tVDBTQ287G1KrFg0t8rbnsmpjrg1bTYwhaw9+nqGcA/2POybbn3nhfAFrLN3uNLu4G3z++7m4VSPXadXZM2ENlap2WMWe7V3N3ZjsZ5f+W8d5DWJii2Pp6ZF/6IP35fEnrvNmM1mXa+/DM+bX/ausX/uW8sTa3my/9Y0cUOh3fdgazhUaGUIO3rVtiar52cfS26ee3LmpE1nEIDGZnSfN2/q2oHrB3HSXjcV8bUH5lj8YbtYDUr86fjrsjc28VVYMQf/rI+SWsy6n2MS8L9jur3j4V3+4tGvs8qgdaPGEuI9941Z/dW9YPMYXRf7RSSZl45ujDvnrd5zxnaIjJKp0DOcRMkXRktxGbm7vMORe4acT/J/pO5xmre4FQnsMnYVl6rr7dqIuR+0lWQgmXPItRL1gYA7tkPQ22XblwgWbuBNKvBwEpO3o+2WUYCuVbHViRAAUVsaIMwo7a6bW0FCJGBapqhJvayhbIxY86M/N53XkmoHrUqvlUdVtyidobWjtVW0Anfvcd3nHtrEWHmAbaja862zWLVsKhBeki0NYu5TnUt9s/aT4+COEylH+ecmUV8ctaO1j5V0qyZlVy8ksBuGJd2t4zMUrmZqy2AljHSMOeoje0KTALl/H+EjN74/L12t3aF/jfsiwasn1YjU0Y/vdfXuGDH82ryZGbOquumhoq5rOMIM8ZKbQtnulvxuTsCdHdW8Z+gADczoCqsyuOkF45xjeIv3yFk1jJFKDIgtYiUw8yT6W4Rgc1p6ruDMsO8reqW5Nrx2HmS34wg9sDCuwdRfiQpFTZz3BkZdS8VunVP3FCdAozNvb4swIiIbZGVQpSZumOpARpBP5tDOYQoylDAR3NrkHaW3/LfxqYqe9b9SQRahsZU66ckGFr3zJpUKbyFraHyZmZvpRCIZUwJwJy1B2dY5UE2t6wx5Nrg2SsuKgZZagVqOYUbg7K+eCDmXN8Q4288+kafbVfUkKgUQnkfCWRmZJiZofhU1uq+NibX1lF5ZZ0FalcRalDc875lRz/Mzd20M0gKmYFMaKYu7W81Uao3u69nsb3FTtfO5ELp6mBCciCX1mx/NNMJrhmqOvFmyJkjE+aK4CZAdYbcfAEwd9/GRGbSGmCCeutzzpCsdWRAKcw1XZMVx3S3JSWtnbfv+Bbw/wP3gOozoI5vpwAAAABJRU5ErkJggg==\\n\", \"height\": 77, \"channels\": 3, \"width\": 89, \"type\": \"image\", \"id\": 432033296}, {\"format\": \"png\", \"value\": \"image/png;base64,iVBORw0KGgoAAAANSUhEUgAAABEAAAARCAIAAAC0D9CtAAADa0lEQVR4nAXBW0xbZRwA8P/3na/ntOf00DuUcjUU6FjL5JIRElgMDKGJy0yWGRFNZnyYcfHF+GJ8NsEXY/RB417gwWiUoIlusEhh64BRVhgblxUGDLpCr5RR2nPpoaf+fqj1QiMmWpVhFVpsqNTXV3Z6aruaazmdtcja2n76/q/86dZGfGUjcWwmOhNBp2KOYA1HU0oa0hXnB6x0db2pFOmYkblnkXjEVrHX427KBGPXvvj29qPpnUczmmwGgUqEIhGJdLG5qt3dE96vvbcyw1v3ltZ3eUtVBmU+vuKZfrYyv5O90PuOjoiRYBDlBXKSzzrf7O9s8QobqY3N2R0pLe8niIbPvhbeu3K5poX3xLu+HvndlGm53v2+RcdOjf9IzCxl17p2D86vbk4cyUeyXETIoRakPrfnm4+6AaB/oPlJJDoy6Q+qFu/lS+nMNLZwZV3uqt3DqX1Ix+UiQhgjRcuYetx98EQAAFDgel+/i7UH59b/e5zK69/CRusbTneVveJEyIYpikWEGMy8hjGt5UqWeVYEyCjwcPlQ5RypM/1kMH2uYRAbrA3hpPhgdlFLyzQTNVq0BnMlbySj/tHvlpe2AVI5GB27EzkRUgXV7m5yNZRjmrIdpySnpy1DyzcGO4dvfjh0dbDAnDmqC4sLkxRAPgca0IknghHQ7qyfOwPCUK/LrNReLNQ/9O6Na1ftB4JUB3K5dzowc7HxHAVgMQKNQIsBF4s8zXIFILFEqMzW+cPwV/rqGisA1Om1AG93OLwdQxjAAFBiBA0hCCOMMKbZ6FERxxN7m8/3f/1l8sG4jwDAWhwAgr7Q6t2H9IuIEQADaDQYUQoiYkXNWTR9lySziflQ2NU48Pf4b6bCqUF1SltlvmCIZZKB9a0vb31iYqFAUxlKudTk/KDX7PcNk2RWShWTtuqT9tb622MziHrBUKuKGD2SYnanMy6CSQcqvV3ZXNPe6Ho1/c/8xFOix/Ta/bFS5lXvwOd15a2Ld+5HhOOEqHAlVYlDdSoAnBc+u9n9fFPeXgiGAwFRNhM9Zkr1rO9eAFu7f771qUeI+VMHj3N8Kio4eN63+K9QUtqofSmtb64vbMlCQsorRFPU2PXWVEZ4ufT0OKZ29bhQXEIJrt3W0WbjJjZWJub+2D6d9/8Z4LT1vI5V1OL/LGaIAoQ3xdIAAAAASUVORK5CYII=\\n\", \"height\": 17, \"channels\": 3, \"width\": 17, \"type\": \"image\", \"id\": 432033352}, {\"format\": \"png\", \"value\": \"image/png;base64,iVBORw0KGgoAAAANSUhEUgAAABYAAAAWCAIAAABL1vtsAAADuUlEQVR4nDXTS44cRRAG4D8iI+vR3fP0eAB5wQXYcQ7vuCXHYIeExA2MhS3bsmeme6a6MiszHiwsrvBJH719+9u69G19rHrmYX99eXd9dXl3efnm/k1U+/WX3R9//f7xceb8c7Pth/vbaciQ5DJ+fP/hw/t3bSvy9fErGetW160mY+Bp62Vdn//99HEP/vvPfz6f3tnwWsbGObHZYZxPrV+8vn1Znsz9eDrL6fHbbtozwtTN10yk0T8/fGnlTL1Rby1yi2eWKnnQtd3e3rdIkGM9H8t6Js5ivXeqjAgzRGgtj08PWykwC3dGBBGIoaGtfyrl8XTaX1y2Pj8+PhCE0iCtq9maUzKzFL6s575tARCxjDvOOYmYu6uqNjXdTg9bfTk/TyyDI8AhqqpAJxIibX2rJacp0jQd5vmwcyIiDoQgtNS11Ih2Xo5QzfMBMkhycQ8CgmButlVmpjzvD/e7w+DUiYiImUHh6TCS7Pp20rbUUhxpOohrk4hgItcephwMnubD1byfl+X4fD7Oh4uLi4vWamvn1mGbZ/g0XglqqSWJyDAyIhAYs7irI837V/PF9VLWcynDMO7nGR7a1laPdT31VktpzHtzDnfdqpsyAhSkTcORRKb9rllRf+lWh2FyNYrQRrWk/e7V67ufmIWZx3GkcDIPCw4wwBFkQZBMBPatrN+abVU9ZLCAdwJdTvu7tXri7BF5mkDk5uFgAERAuCN4EOZoaylFSfLTy/Hh5QQEuRGhh8+7OTw8yEDETBEIlwA8PIAAWtu69edSb27u53l+flleno86T82dSCR8Xc4RYJKEQMCBADjCPYwTAZFSUkfe7cw2q+er3TASTD2Nian08nR1GNw34dCtIIKYgBAgIiIJC6Et51EOoSsl3Syey2JESYaop2FQSvr16UuL3q33rQIAs7pLRARi23rmTGa+Pk05V5WleyDNl5civBvn47K1ZTFDHpL54loBYkkaXQJwELOYOUGbnlmu5/nmYh4oERKHe5721zKauVu4Ldv6oOop71gSeZcIdyIPH7MQSddGrZDHhN102KsGgRyekoc2V9VyblVznlLOXa35/xYEqKuIELD1Ct1ae6nrNIxzBGVB2da2NTN3d8lzykN3V3ewSAS+N9FwB7KkRBTmAui6RqlE3MI8HGCiNGRJg3QzdThR4iQRAJiIItzdFcTEJNkpgrq6exiAJENKAzgTW7OmHt8Fr3YHIYCIIgIAIsxhcADMEEmMlIgAAGQR5t1NAwZKoDRONzf7H/8D2Vvoi9k7VdQAAAAASUVORK5CYII=\\n\", \"height\": 22, \"channels\": 3, \"width\": 22, \"type\": \"image\", \"id\": 432033408}, {\"format\": \"png\", \"value\": \"image/png;base64,iVBORw0KGgoAAAANSUhEUgAAABwAAAAdCAIAAAA2M5tmAAAHcklEQVR4nAXB13JcSQEA0M7d9/ZNEyWNR9GyvV4nbZmi4IEf4Ilf5Reo4gF2KVyLsbG9tpVGmhlNvrkj58DnL/7kIUs6eDv/qnNIw4Okh6pyUpVOyL6IWJaFAHT2srP9Dl3Ovq7nVw/b+8W2wTSiLKBEUOLX6wdjTGssRNgSRrQuheTaNoxBj1qKq3zrHUqifhhGUsYsTnia7Y87vYy2Px49qRf782V+M7n5PLnJXdO2edtSzmPgK2Vq56w1LXGmDFjf2RZja7EmpMmi/aPeyUk/2Gwmm819uywuV7+skEhQ8/rJCFTJ0eDlxevffxr2Ps8uF/nselYBHARC7srCY4CAh6cnT8eHP3ifN80SQDHqP6LePItDdH8/n06tritT4yBmrYmBCqCWKDYoDtLAZtGWkIrQq9XmerbYNkXeVp4yTilxztet5lJmnHaCrA/4AK7qy380s6L1YQ6gwlJrwDDLEZPeSe+QWePFui0DHQ5YOjrfT0ICpku3qOyiUsBAAqEv28rwoJ9KboqOWcnl3KzamO151ksOD2gkABOn588aVYe6UfPb+0//gfl6la8Qws7bkI8uzi4esvsPk++EF7uqIB4BwUgahon1gzav1tflxsaDczE4Pz96xY+GgAPIQ8LChGNmGvr0KRsN5t8/hpPf5neLBFmQxzgmbx6/lkH42/3lt7kiiDLBKUcqc1W6K5YFHZ1eREcv6XCvc/5kqqvKVMppbFpvLAEGOgCHJw7yXjwMwi/r68+s3Zr1nYv0xcmY211RTIljLBFsH7Vwe9fmbjB60Tn7XXr8JjvuLtoF8A0CBlivrQfIW2+A9xQnySjF8qCfRKloyu/rdjfzO1hTJSUb9WKCZJIKnDYa5mqYPRKPHkeH/b2ncqWXntZIN6YpnePGA4cAQgBCaCH0TByedFvRdFHVgO9XX76rJbFEEhmPemOSyYTbNmiVhoJ29sN0Lwj8l1/+ulquNkWxLRsYp0YM4uFjlqWAMQuAYIJwAXgwOn/euIptCzm73G23QYJJGpXFlDDkhW3C1lWoS7NumJGymH/++W9gUy43hUdihXh0/BLjgYIk7XPCGWaUCoEEr6waP34+fbiXaaxmtqlrYdJXL/6IJAbMK9A6Qgc864WhN+VDCGuzWwjvkDLUEaAhtbgbxMKjEGEaBDaJLedR2l03DnZ6XjDjbNMqY0ljJQkQFM4z5wETjrFQBjJHEkELkTMOQlA5S5witlpPrlDAFQR3EIz/8Pbdh3c/pNlZ1mkdBiJEuKlUI0zV2JxwjICy3nsAEOecUIIIggRbCAHECEAMPHJKVRsZ7xHBsjgZRgkotgfjAXX89n7T8wRBzDGunAGmBiYnttXQAwQBhK4sK0rHhAaYCh7GVasJhBgYr3NdP1x9nRRW77R3BkJX565JRocXo8NtNRtBgLwj3hIPvAGEiRCosoFNVRfQw6LUmIUy7bRS78kIQsAhrDh1pFHNeraaTlYVggGEjkrR3LXBcVcyq5cl8Y5TggGqipYUVeOD0DJV1vPVw83eqN9YE6U9061PTs9vbueSR5NdrUiSpPI4HQ3O+MHoFBNDqPGgDUFtljtV1wxAThmBvinXhKadndoAjlW5rBa3q9k+TmGNqO8l8riDVLMpQc6lZ1kQhGm3T3v7J+Oz08PU5BNb3G8+/bzVTZ7nFESYCY+AY5BM813IOaJUu1pvlsvZXNLxj2//8rCaREeDDrjtpd1uofJS50WdHB6DtBdlkTZq3O0Xu5uAAuLRMvc4jRED2paee9IWRQ66jDEW0+ViZSb3j7unape9ffMqV8vDJ8Npvma2DIlBUgKCoTfENAmkxfUtWjxMP/46+TgJaI/LxHBY2Gq6XpOm2JZMQAIOk1Fk1rPJr2GAMDZFfXr88s22rSptW+02Zasxw60OmCa2efj2P7m63L7/1/TjVQwjxyRmzHK03tr5DhFV5gUPgn5PIWk7JgWrh6//pPUaP7zW03r84lCptnXQE1EaL4wPyuLm/b97fn7z5e/r324pkZ4IkQ4KTu+2y3lDVpUgIaPbfNkCPTg+LUE2BDgFi+buc7FYzT7+9/JdbAfpLoxQKHdKE6VtvvWz6WI31fk046kjCc2GMIsWpimIWLT5us4JF8I122I5/8b44eiI0y4PA0XL2/msanf1Du6+ggKAxnsFPPWOeiA8CADoyb6VfZ/t55nc6aaAUEGWdRIUMmKspog6pz9ffZta99P4JNfhxZs/w4fZhw/vu0lQ3V3GjjCHDTAYGoIih6JoOJRSWq/qUN/V69wBzVjKRbFesEAQb41SVnkfcNJullcQHXQOJ+DR85+ePxoM7yafWGyur1faBcZVZ8fjckc7vWdZv7dcLQnaXs6/XK1qwFMgAuYB8Q5sN/Dtq7eboraAAsBEAGmA4u7BoHsghQ8EgEATqIEjzhMPLAHWtbBpkda61qY1ubIFwBwQjhgLGYO2RU4RRwLZyYaPnuWKHz/tSZpLyoDzwOmqzKvKGu20LpUxylgIMUSAI8AxJZJR0sd4iDDyEHjoubPM2TQK/g/12GOIKqg8gwAAAABJRU5ErkJggg==\\n\", \"height\": 29, \"channels\": 3, \"width\": 28, \"type\": \"image\", \"id\": 432033464}, {\"format\": \"png\", \"value\": \"image/png;base64,iVBORw0KGgoAAAANSUhEUgAAABgAAAAYCAIAAABvFaqvAAAEgklEQVR4nAXB63IbxxEG0O6emb0vCCwAWjJVLv11Je//NrFdlYpEilxciL3PdH85h//957/Op27V9HG7IG2kayaWiViKpBB2whYcvBMVTsIMI+RTcrOSQASJPc0b+yK4ZRzMuxCCWoqLqZMkHCRzIiBW1cQuGhwgyYzYyJOUWRGCJl6WRMycfPvUaIyf47BMk5muCW27D9A1LnNScU7JcRJhEAMw711MPoSmrcttukdJauTY/O3zRgoCefCwqWRlWbW0jHOKUch5z64KrkJ6rGkEizL7onQ+X4cR0AQzU4b5bZ23NTF7AjvxISvNJPNZmkcTl+d5XR+r/Fhm8/X+38v94ZjzkKUI59yybKpJLanCxzUaJG3RCYsQLBKippgMrt75fNfsDvum0Q2H7gWuH+8XpFk1zcuiKTHMAGb2IGESJsrzbIkzLM3bzKpZUYRid3h62e8qoc0XJcdw7sTTdruMSSPMCJzl5TQPIixEQmbCtq0LkxBo2aK6Ii9Ph/3hdKxg9xhftzQ6CY6L3e73qt0DK2MD4rrORGSAj0lhysLOeQMAYud93u4PL11XaXxY6tf5B9Ixr74X1Z64ej6x0PTxcSeIGYiICV5NAYJCoexcljc+3zX7bt/VKV4s9ut80WWsQ9imv41/q8uzSnN+/m781r+/EhGUmNgDFrJC1VS1qApftKfTH+djA501XtP8P8xTLuxo8BgwuxVN2bTG/vmZHa/9+y2CQOwBSqrMUhRtyPfd85fz6YnThfEZ597muWJhIlINIpZuy/ifxM9t+wVsp9N3xtvbr59E7A0Es7wsJN91pz++PB8RR4fHMvyD+RGYRIQAMhMmwt3zwyaZaBfKmkI4nUVtuV4/PSAh1JK17el8OO0YA9t1erzHYSiZWJjInBMGE5kQE2Dpvgx/bTi29YkpP5+/MX947/Mya7rupTt1QRJhnKYfy9AXTN47QAkAwMIARBwrGA/CPE7a1AefFarUPZkE7wRblYPimrmMudTU5FkrTDAVIiEmUFIYOKkywXPp5FiUnZFsGmHzMtyECUC8XH+uus3zFrguit9c1lLmN+FIIBEi9s4zMYgiY+QyVC912VEyZ/F2fe1v716YTFN/7Teffe2St7IsmpXOK0TpBr05gJnJQCTMZeSS6uesalKKZNu9f7tfb/MavZkxg6CfH6+Slu3wdWehrb8yP63zX8TDmtSBPMuiBleH+luodwT20L5/vfTv0zyvm3oAZsoESulyvS5wBhC2tt4xneMmEVeNN0K2Wgj1IasaJfOUHteP2+UyL9uyRGLxMUYvrABMYRguv7xtzC/Evq1OhloVRuOwZcXuW9HsCVJ6+nj7cbtexnla1ghyTOS9EzODGQgwJXN9f9nI09HI2rY5CB+nDRQKypsE9tD7e99/fAzjNC+rGUCkah6AYwazEQFmKRG7z18/M1vt8Lsh2zVdFeoEciQCvfXv9+v7MDzGaTEwABCIyDOBzRwzACEiEDMzcL/eNnNJVbWtmp1ZYtumz8vt8msYhmGY1WAAMRMzM/8fvilX0TUw9yUAAAAASUVORK5CYII=\\n\", \"height\": 24, \"channels\": 3, \"width\": 24, \"type\": \"image\", \"id\": 432033520}, {\"format\": \"png\", \"value\": \"image/png;base64,iVBORw0KGgoAAAANSUhEUgAAABcAAAAUCAIAAADp3DFZAAAEr0lEQVR4nAXBWW/cRAAA4JnxjD2+1rveK9lmczZpSQJp00BpkSqVAuIB3hD/oRI/B4kH/gISTyAuUaiUtmqIGkpz9kg2mzTJHvFuvGt7xp4Zvg9+c/8+BEAqqYCCRIMElfxcxtJuOKjW575a+nC4sfHj1taOikF0riImBZBCOn6JA0V1XaYpkBIJKXnKY5YknIfDOEqYUgpBJQTvX3QX7t26MezgbrMZ9g7agUAok6lBcBjHHGtBFDKZsZRhKbIsS6UUUoIkEwQQKSWEwAHCvug+/f47NexyktJwQC0XIGi6JsFmkggTa8imGkAaNTBLojRLRZZKkcUiGzCoxqtKaS6wkoPmt6uPi4UK9CtVLWj12udCCikhIljTUecMQQAAQBDhQTxIkiROYsYigEEKYCYyDKxBwFj73BS83zzxRK4E5UCyTpwa1DGpSXVKdYIgQAhqmoZb7U6SsChhCmGgEc93hQAGkZq4oFKrld7hg27QeVku+JFVjGxECPX9Ytkv6hokGEIAFAB4GIZYIduwoe72YgV0N0foKJL/dA9TZb+39KkSzeHGz4wnnnXpqucB0yzVx23Tch2qJAdKQYSwZVAb4VQjIY8kEMOMFHTK9nbD7nB6aWVs6Uqvj+nRSHTaz1NkurZWHkX5QrlcBlBpCAAFAICYS5kkEZeKy9SyKc3i45PT1n7Tqk5Mzi8IE5VKU7P9G+u//dm/6ORHaoabN6ojlmPbpimFkBIohXAvHCCsY6xbluVQ3dHJ8clhfuwyMCpmcUxYNJB87to90Ysf/P3T2bHr5Co4743ULukaIlhjLMXYwJZp6tQ2qG1QfczLzVa8re1nzVN186O7tWI9klGGndftfm3l5lT3xf7z/VgvzRRLOYiJaUKoCDaUBDif9y3bsZyc7Xqzbi5rvlIhm5+vL79bOHr1CI8W9gIOhaVN+VOLH4Pg0c6bZ7XyqHvzS4ExxlwBlfEElysjrudpSLOs3EnzVB6d5f3qxNX62WD3+et/uw3QwdU71z52TN+tLPLxk1Zw2NpvbK03Vj5byVAfGghJjkzbIoZeKHimDkDW1wQs+LN2cbY91FsR+fXJZogtM58XKatUfL9cKnp5zNpHe39srv9lYEMhYhCKoiiSGhpx7WkdRMFRIFFl+n27NBfCYg8XHX/CIbYaDmnKBmw4en1pfGGR8c7x0eMwODxvB7pmYM3AURSasljLucHOVhQMJpeWK9MjMWgP0KFWlU4MCpZQw+7+q9e7pwdeffb24iegJ355/PuLjbXq5HWj4Ho6wf2gMz4+1mg2Xh803HJtceGqZwgFe4ulQRmL5fIUV9nTpw8Pttc0D+GeKFkLM9c+mO1s7m+s7dRXCrWq7VDcC/pH25uoWnTGZhDwslTPU9poBv2TC0sBqbLm2cu3Z/1zbHZbvZqb7bX33Ev+lbk78nh17cEP0Lc/v/sFXpycXp4cfbP9rB2c37j19czkPI+GlUK95NckkkkYXK4Mbl9hQ55xgDIIfAo8AU771HFysvPmv9WH06PX8eLkhGofy1YnDyXhb5+sNhFRqUgDFkObqtapx7ngLGNpwtNUZA0pUoWJIor1FUs8mL7cXf8f77KInwJIzr4AAAAASUVORK5CYII=\\n\", \"height\": 20, \"channels\": 3, \"width\": 23, \"type\": \"image\", \"id\": 432033576}], \"selected_variable\": {\"name\": [\"<SArray>\"], \"dtype\": \"Image\", \"view_component\": \"Images\", \"view_file\": \"sarray\", \"descriptives\": {\"rows\": 39209}, \"type\": \"SArray\", \"view_components\": [\"Images\"]}}, e);\n",
       "                });\n",
       "            })();\n",
       "        "
      ]
     },
     "metadata": {},
     "output_type": "display_data"
    }
   ],
   "source": [
    "gl.canvas.set_target('ipynb')\n",
    "traffic_signs_train['image'].show()"
   ]
  },
  {
   "cell_type": "code",
   "execution_count": 2,
   "metadata": {
    "collapsed": false
   },
   "outputs": [
    {
     "name": "stderr",
     "output_type": "stream",
     "text": [
      "A newer version of GraphLab Create (v1.9) is available! Your current version is v1.8.3.\n",
      "\n",
      "You can use pip to upgrade the graphlab-create package. For more information see https://dato.com/products/create/upgrade.\n",
      "[INFO] GraphLab Create v1.8.3 started. Logging: C:\\Users\\admin\\AppData\\Local\\Temp\\graphlab_server_1463243549.log.0\n"
     ]
    }
   ],
   "source": [
    "import graphlab as gl\n",
    "test_ts = gl.SFrame('test_sframe/')"
   ]
  },
  {
   "cell_type": "code",
   "execution_count": 3,
   "metadata": {
    "collapsed": false
   },
   "outputs": [
    {
     "data": {
      "text/html": [
       "<div style=\"max-height:1000px;max-width:1500px;overflow:auto;\"><table frame=\"box\" rules=\"cols\">\n",
       "    <tr>\n",
       "        <th style=\"padding-left: 1em; padding-right: 1em; text-align: center\">path</th>\n",
       "        <th style=\"padding-left: 1em; padding-right: 1em; text-align: center\">image</th>\n",
       "        <th style=\"padding-left: 1em; padding-right: 1em; text-align: center\">label</th>\n",
       "    </tr>\n",
       "    <tr>\n",
       "        <td style=\"padding-left: 1em; padding-right: 1em; text-align: center; vertical-align: top\">E:/COGNITIVE_SCIENCE/ARTI<br>FICIAL_INTELLIGENCE/R ...</td>\n",
       "        <td style=\"padding-left: 1em; padding-right: 1em; text-align: center; vertical-align: top\">Height: 16 Width: 16</td>\n",
       "        <td style=\"padding-left: 1em; padding-right: 1em; text-align: center; vertical-align: top\">26</td>\n",
       "    </tr>\n",
       "    <tr>\n",
       "        <td style=\"padding-left: 1em; padding-right: 1em; text-align: center; vertical-align: top\">E:/COGNITIVE_SCIENCE/ARTI<br>FICIAL_INTELLIGENCE/R ...</td>\n",
       "        <td style=\"padding-left: 1em; padding-right: 1em; text-align: center; vertical-align: top\">Height: 16 Width: 16</td>\n",
       "        <td style=\"padding-left: 1em; padding-right: 1em; text-align: center; vertical-align: top\">8</td>\n",
       "    </tr>\n",
       "    <tr>\n",
       "        <td style=\"padding-left: 1em; padding-right: 1em; text-align: center; vertical-align: top\">E:/COGNITIVE_SCIENCE/ARTI<br>FICIAL_INTELLIGENCE/R ...</td>\n",
       "        <td style=\"padding-left: 1em; padding-right: 1em; text-align: center; vertical-align: top\">Height: 24 Width: 21</td>\n",
       "        <td style=\"padding-left: 1em; padding-right: 1em; text-align: center; vertical-align: top\">17</td>\n",
       "    </tr>\n",
       "    <tr>\n",
       "        <td style=\"padding-left: 1em; padding-right: 1em; text-align: center; vertical-align: top\">E:/COGNITIVE_SCIENCE/ARTI<br>FICIAL_INTELLIGENCE/R ...</td>\n",
       "        <td style=\"padding-left: 1em; padding-right: 1em; text-align: center; vertical-align: top\">Height: 24 Width: 18</td>\n",
       "        <td style=\"padding-left: 1em; padding-right: 1em; text-align: center; vertical-align: top\">38</td>\n",
       "    </tr>\n",
       "    <tr>\n",
       "        <td style=\"padding-left: 1em; padding-right: 1em; text-align: center; vertical-align: top\">E:/COGNITIVE_SCIENCE/ARTI<br>FICIAL_INTELLIGENCE/R ...</td>\n",
       "        <td style=\"padding-left: 1em; padding-right: 1em; text-align: center; vertical-align: top\">Height: 18 Width: 18</td>\n",
       "        <td style=\"padding-left: 1em; padding-right: 1em; text-align: center; vertical-align: top\">35</td>\n",
       "    </tr>\n",
       "    <tr>\n",
       "        <td style=\"padding-left: 1em; padding-right: 1em; text-align: center; vertical-align: top\">E:/COGNITIVE_SCIENCE/ARTI<br>FICIAL_INTELLIGENCE/R ...</td>\n",
       "        <td style=\"padding-left: 1em; padding-right: 1em; text-align: center; vertical-align: top\">Height: 45 Width: 45</td>\n",
       "        <td style=\"padding-left: 1em; padding-right: 1em; text-align: center; vertical-align: top\">42</td>\n",
       "    </tr>\n",
       "    <tr>\n",
       "        <td style=\"padding-left: 1em; padding-right: 1em; text-align: center; vertical-align: top\">E:/COGNITIVE_SCIENCE/ARTI<br>FICIAL_INTELLIGENCE/R ...</td>\n",
       "        <td style=\"padding-left: 1em; padding-right: 1em; text-align: center; vertical-align: top\">Height: 25 Width: 24</td>\n",
       "        <td style=\"padding-left: 1em; padding-right: 1em; text-align: center; vertical-align: top\">17</td>\n",
       "    </tr>\n",
       "    <tr>\n",
       "        <td style=\"padding-left: 1em; padding-right: 1em; text-align: center; vertical-align: top\">E:/COGNITIVE_SCIENCE/ARTI<br>FICIAL_INTELLIGENCE/R ...</td>\n",
       "        <td style=\"padding-left: 1em; padding-right: 1em; text-align: center; vertical-align: top\">Height: 19 Width: 18</td>\n",
       "        <td style=\"padding-left: 1em; padding-right: 1em; text-align: center; vertical-align: top\">4</td>\n",
       "    </tr>\n",
       "    <tr>\n",
       "        <td style=\"padding-left: 1em; padding-right: 1em; text-align: center; vertical-align: top\">E:/COGNITIVE_SCIENCE/ARTI<br>FICIAL_INTELLIGENCE/R ...</td>\n",
       "        <td style=\"padding-left: 1em; padding-right: 1em; text-align: center; vertical-align: top\">Height: 24 Width: 24</td>\n",
       "        <td style=\"padding-left: 1em; padding-right: 1em; text-align: center; vertical-align: top\">1</td>\n",
       "    </tr>\n",
       "    <tr>\n",
       "        <td style=\"padding-left: 1em; padding-right: 1em; text-align: center; vertical-align: top\">E:/COGNITIVE_SCIENCE/ARTI<br>FICIAL_INTELLIGENCE/R ...</td>\n",
       "        <td style=\"padding-left: 1em; padding-right: 1em; text-align: center; vertical-align: top\">Height: 21 Width: 22</td>\n",
       "        <td style=\"padding-left: 1em; padding-right: 1em; text-align: center; vertical-align: top\">2</td>\n",
       "    </tr>\n",
       "</table>\n",
       "[12630 rows x 3 columns]<br/>Note: Only the head of the SFrame is printed.<br/>You can use print_rows(num_rows=m, num_columns=n) to print more rows and columns.\n",
       "</div>"
      ],
      "text/plain": [
       "Columns:\n",
       "\tpath\tstr\n",
       "\timage\tImage\n",
       "\tlabel\tint\n",
       "\n",
       "Rows: 12630\n",
       "\n",
       "Data:\n",
       "+-------------------------------+----------------------+-------+\n",
       "|              path             |        image         | label |\n",
       "+-------------------------------+----------------------+-------+\n",
       "| E:/COGNITIVE_SCIENCE/ARTIF... | Height: 16 Width: 16 |   26  |\n",
       "| E:/COGNITIVE_SCIENCE/ARTIF... | Height: 16 Width: 16 |   8   |\n",
       "| E:/COGNITIVE_SCIENCE/ARTIF... | Height: 24 Width: 21 |   17  |\n",
       "| E:/COGNITIVE_SCIENCE/ARTIF... | Height: 24 Width: 18 |   38  |\n",
       "| E:/COGNITIVE_SCIENCE/ARTIF... | Height: 18 Width: 18 |   35  |\n",
       "| E:/COGNITIVE_SCIENCE/ARTIF... | Height: 45 Width: 45 |   42  |\n",
       "| E:/COGNITIVE_SCIENCE/ARTIF... | Height: 25 Width: 24 |   17  |\n",
       "| E:/COGNITIVE_SCIENCE/ARTIF... | Height: 19 Width: 18 |   4   |\n",
       "| E:/COGNITIVE_SCIENCE/ARTIF... | Height: 24 Width: 24 |   1   |\n",
       "| E:/COGNITIVE_SCIENCE/ARTIF... | Height: 21 Width: 22 |   2   |\n",
       "+-------------------------------+----------------------+-------+\n",
       "[12630 rows x 3 columns]\n",
       "Note: Only the head of the SFrame is printed.\n",
       "You can use print_rows(num_rows=m, num_columns=n) to print more rows and columns."
      ]
     },
     "execution_count": 3,
     "metadata": {},
     "output_type": "execute_result"
    }
   ],
   "source": [
    "train_ts, valid_ts = traffic_signs_train.random_split(.8)\n",
    "test_ts"
   ]
  },
  {
   "cell_type": "code",
   "execution_count": 4,
   "metadata": {
    "collapsed": false
   },
   "outputs": [
    {
     "data": {
      "application/javascript": [
       "$(\"head\").append($(\"<link/>\").attr({\n",
       "  rel:  \"stylesheet\",\n",
       "  type: \"text/css\",\n",
       "  href: \"//cdnjs.cloudflare.com/ajax/libs/font-awesome/4.1.0/css/font-awesome.min.css\"\n",
       "}));\n",
       "$(\"head\").append($(\"<link/>\").attr({\n",
       "  rel:  \"stylesheet\",\n",
       "  type: \"text/css\",\n",
       "  href: \"//dato.com/files/canvas/1.8.3/css/canvas.css\"\n",
       "}));\n",
       "\n",
       "            (function(){\n",
       "\n",
       "                var e = null;\n",
       "                if (typeof element == 'undefined') {\n",
       "                    var scripts = document.getElementsByTagName('script');\n",
       "                    var thisScriptTag = scripts[scripts.length-1];\n",
       "                    var parentDiv = thisScriptTag.parentNode;\n",
       "                    e = document.createElement('div');\n",
       "                    parentDiv.appendChild(e);\n",
       "                } else {\n",
       "                    e = element[0];\n",
       "                }\n",
       "\n",
       "                if (typeof requirejs !== 'undefined') {\n",
       "                    // disable load timeout; ipython_app.js is large and can take a while to load.\n",
       "                    requirejs.config({waitSeconds: 0});\n",
       "                }\n",
       "\n",
       "                require(['//dato.com/files/canvas/1.8.3/js/ipython_app.js'], function(IPythonApp){\n",
       "                    var app = new IPythonApp();\n",
       "                    app.attachView('sarray','Images', {\"ipython\": true, \"rows\": [{\"format\": \"png\", \"value\": \"image/png;base64,iVBORw0KGgoAAAANSUhEUgAAABAAAAAQCAIAAACQkWg2AAACQElEQVR4nAXBW2/bOBAG0G+GQ4qULNmKc/HGQYrWwXYbYN8W+9L//xeKPhcoNobT1rUj60KRs+fQ38/PKWvWbIwRY7JmBXXdBZqrqqwXiylGVZ1TIoYwZM6ZCJoVqjlFIiVQXToiiCUgAZpyzll1zqEMosgpJSjmpMxqhaxIQVR7N2oakZXwNgzzGK2IiJPLZVDNUM2qxLAGi1A1ocLbVNSLSaEUx5S6rqtDYBEZhhEAoMYwEwnIZqKZ+rfJmbRaLpBmTskaIWZoFiYCERGYSYQEyeWO5mFzszocf5mCK1MEcVlUrFNVMSIAEakIW8HKu5tA64rXVSmFvJx7KluxnobZuyKlKMYYIgIUqsjieGGzYtAiNO8ftzjuX44vrkj8NsQhW1dIjBMRKVFBKNjHnvuZbu7fTe12/6Pvuj5QZwvQgg+ncyblcRgv/TDGEWkoeWpCftjehtvNl9+Hb8dvu92HuYMfraclcZhi5KyAIsexDfKw8oWL7fauWV2dfvx3tXYPT7unT//0o9XJ1+x5jqwAAMthIVc+2sJV5fW6XoXP/35s1/GST38+P7//sK390FrwTAKQAKUp4xR6weO7p/p6jXn4/fLVhzPpOaLe7LY/++/0C422AiShdNPIsqS7u/Xur489G8/Ozt6aMkWZrUpz2959Mnzo9cBMadOW26ULMtw/3Hpng7GXRPsUDudCo2Wmcrmpqsc8wcQLC4faXfvZVFZAHIry9Prap3hQfT13P/d7Zpz64/1988d1I3H8HwxkJBOBWzLgAAAAAElFTkSuQmCC\\n\", \"height\": 16, \"channels\": 3, \"width\": 16, \"type\": \"image\", \"id\": 704570368}, {\"format\": \"png\", \"value\": \"image/png;base64,iVBORw0KGgoAAAANSUhEUgAAABAAAAAQCAIAAACQkWg2AAACVklEQVR4nAXB7W7bNhQAUF7ykpRISbHkrzhxgXbovwF7/+cY2j/FhgJJ0GSOHdeyLIlflzsHdpsdB0aZMmPEIDOQHLWQgnGElJKnlByRJ8oMiGUE4DknysTRIlZlhetaWSELoSD6FP3lfOlD7P00h5llQGKQAe6MrfV6HrHO3v/3fJuC4EpwaK19rJt68jurD7eP99FjZkkWZmEb7WYLyTjB1c52palLYvn2flDzsITIMgi7cDSgLWRZmuwyT3O7rarFHw+Pfz08LiJdI8Xh7XV4+6c/P0/XKLJcFiUKKFTOBtOdKrrtJ7l8EJ19HS/EJpR8ud8I1od05cxNvVugwAKrRgGPA5Z3r8fr3P/M/z5Bnk2lTKW/9yd/Pe/baqRJCF5wwAIFRg/Am+WqaZanwHJghSgBkw8pqQZXxvHEDQl/0UR8mqdItNxs29UaUVqt9/f3X7985pDHyWdSHApEa2wtkUMmLrUUqD5+33xKTV1K5jgN5/cPAYu2XVnLpWBS6phIokBgPMWQiVEAQTn6MUPob8cxUHDFY7c2MsUw3/pBEDk3J2AoIKc4cQ7X09HInSrql5cXDqmA8u3nryScd2lyLo2X4KLWCl0KpVEyh/50xPJus//Uff0zslwgllJENyUff/z9zc9BqyILjqMbiee9sYLS8emHBr/9/AWMqax18xUhHn49CXeRCFKVw+0KD9sNYrmxbaczhIFHartl23VaypzG4+H59H4xZmFMc7y5s5tgvVojaqtNpcV9gcYHmmaZEiMSLM0sqqaum+r3ZXoewyGG/wH/wFpkN4+MeQAAAABJRU5ErkJggg==\\n\", \"height\": 16, \"channels\": 3, \"width\": 16, \"type\": \"image\", \"id\": 704570424}, {\"format\": \"png\", \"value\": \"image/png;base64,iVBORw0KGgoAAAANSUhEUgAAABUAAAAYCAIAAACa6yEfAAAEGElEQVR4nH2Uy2+VVRTF1zrnfPfR29e9pUXapKXF8rBCwAaMbaMB40DACmJi4sBH4oCBQ/0DnDh35MCJMTFRlEgIjUFjfSApLdDaAilQrNAA5bY0paXc9n7f/c5ycAkhCO7ZSc4va+9z1l6UhIeqBERA/wBODh/uaChsqNvQ2LqjsRVPKvPIOQIKQN/A4GSx4uvvhu7dnP0f+DE8AQvs3f58e7GiPmpamJ7r//JzoPQkno/0HwInhq5Pnf7975NDxcUVE+aL0WxuVf2aVfX793St2tsFNAJVj+HLk5/ow599nyQKf0wOX7GqshAoUMnAJoOp3e/1NHceXN3Ym2n8D78MfPX92eFD31TPnFuaPZ9SwitBEgQgEcYuLNk7z+3s7d7Zu6WzG2vWAnAAPOCBgeMYOfytn/n17txdh2ovL0kSSQEkodrAZ8/+8nNGU880VbuH+WPHB8d/Gsrcurg4u+BEqlRuq6xOwEhGSEppVo72X2rLHunZ9iyQdQDoMZ8fD++eXchfCmQdJcQiUZ5MAOnlyy8BXwllfuw7yjWF7g8+NQAo/HM5P3Z6JA2TkJwAT4kAH+h7wQOA5L28SqEd/G0UV2+5WWDiNPKXZ4KYAEXEoKeNJUIiABH0pCAApFkhZyKXXQpwNe9mgcEzRzOluYKPSJKBQIKONKbsLhIiYVxgnDPWhta2beopTk5gYt7NANV1YTqe39K1I7Yp51KBC1yQTCQSLkgEQSLhgmRgjTPWJWgDWBOT3mTUvnTkyqzLozRyfqAtGXR07bomSDDGWmMJgnbZx0XvCxAJawO6IBLSUrxYXBS7e7e7VhSDzvYbUzduXMvXPN0meJLOy3mUxBKNNXCANcZZBy8Ksegra4qL88cPfeYm+y9cH4lLBd+Ymb89PS6ki2EYhNHCzel0bfZeFCoKFYZxFEXFIsKIYXQ7jLIta6cvT3z4bjeXpGNfTJ364eNc7uLY2C2gHoDzPvCKgRigPCVDWJKSBUMyZNRUk3rlhY0uAzS3VJ3Jrh4fPdUQZ+QjyBvAgOX/FkDCgPDeQwIrAOeiunDlxfVbDIC6ddmF3FOo2xahxgOSJK+y/wEAcexj78XyJnkRJYTVLfWp9ZsNgNw6NPWsZ10xmYk9YkISJHjBCwAMaYzzgkBD0KiiKl3T0mTXNhsAaeDgW7tefa1zqdIXU0EEebJ8G/dtxzj2EgR6IpG01VXpjVs70NpsAKSALHKVNdsbNr8UpoJEJinjaUQK9z0La42haHwyHSaTc2++sW/HOx8BGfcgAzs2vr4yV6xA4cLwXwkquRw6yZU1gZJiT59IBaxY2vP2yxsO7Aca7u9/OTPbNyEItwZV8b3q1XPnRpO37yzP3XEkYMBQJqrMZWtztb373t96YDdsXTm1/gWktwyqPEiChQAAAABJRU5ErkJggg==\\n\", \"height\": 24, \"channels\": 3, \"width\": 21, \"type\": \"image\", \"id\": 704570480}, {\"format\": \"png\", \"value\": \"image/png;base64,iVBORw0KGgoAAAANSUhEUgAAABIAAAAYCAIAAAB4NzpmAAAD1klEQVR4nAXB2U5bVxQA0L33Ge5gbGOwsSGQsdCmSfvQIVKkKv2A/kC/oc/9xkp9aStVqURIgCQQcGw83fHce87eXQt//+3X8/mizsunT3747/Tz6dkfXzzuPn/26mbqUdFs9nk+v+r37HB35ILUnHyd8bP8UofQIAIKkIBV5tvnL0G7f06ny0q1ilQVRtuHSaKamhmhcXlh1Wx7qIVEEAQQBGvUudhs5rN10bBqmC1gtqmT1CapiSlIm99qn46eaCElpBFVnuUVwuliVd2tY0EAAESHUjMss8o07V6kd5SZhvZqOtOe2ZDKlDnL8um6LRcbDRYQAZAIRJhIC1NTcwaEsYlsJ1ZGB441WafN27tlsawStCIgAIgYmAEEAQGIELMmBEtjnSh2tFjWQp0oD18x/nj8qNUqKB0AgwCLABKgQlSIGoTK3JVFC9LoTlfPiybK8acHDzf3JzcqvXo31QElMAgBgAAiogiLCAFVpQ/GEnCxcO3c2f7hwy0Kvzw9fvX0ZJBG1qhWWAHGLCjIpARRhHzQnmNCVrd5vmyKv85ObRsehPLlyfibLw93dzpJ1xBU4546fjyiCLwEAQgsrvX6unBl0aRx78+L81ufPTzaH/TSn08OJ0ly9vGDdE2HoHPYf7OcS4XIQqTa1uuPRRa8nmZ1pMzsw2Ia1PeT3X0fvTgaT+KwmH/qxLEc7eytivfrK2QPIsxeDyM9C4JiIEhgubycYeFWWfWkKp4/GFV7VAbZKPfiaJ+vq9l85hFrCXo3GhOuUBiFGUSQzmbZTRPqrNwPzeDRxCnuYnic4NXAzFfsWSVJSkoPFaUAgEQCQGQR4nzjPq/rvy9u3ryfamVQfC9Vewf9xggAKNeQNlYrhSgsgkjMAgIoapE38Xg8vLfXNjUJGJTJvVFvfwxI29ZSsVwNtE4VAYAIICAKECimuDuerJrSETSIgYSL5XcH45HSu1Gky9X5wPRz3TRBAIyIIAAwM5l/314TlHFkjCJDxrVS3a2Hyum60p0o71NcpnDXeBBDAAAgIoWrX7+7RkAAICREZBGWatyzknb0p/eLwRb0022dUFsyCACgiNQeHXullAAIMAMD8lY3cqm92Ewpc/b1fLFZXp8kahgbjxyAAZFIIyoR5MDMwhIGiRlH2rYOvdN5U6zY7/jqfohCb7JWyuWBkAFbAQIhImHkKDJbxmwjl22ZaNJKQ5lVhbUXy1vL9fHoJIMkLzOKzcaFBFVCEnfiuNNRIQSsEH1stK7qBoEKzyVhb70Z6evh8OAmVCHGBvzQmoOtKN4ydVs5L1VTIjIy/w+INViFbbkANwAAAABJRU5ErkJggg==\\n\", \"height\": 24, \"channels\": 3, \"width\": 18, \"type\": \"image\", \"id\": 704570536}, {\"format\": \"png\", \"value\": \"image/png;base64,iVBORw0KGgoAAAANSUhEUgAAABIAAAASCAIAAADZrBkAAAACcUlEQVR4nDWNy47kRBQFz7mZdtrl6uqufjGz4CfYsOT/PwMJhARSd1MP2/m6hwUaKZYRCv726y+t9+ZsDG7+cj62Ok+H72Hg73/9cTjPKFfWrFbUfUopmJVaossO82QIG4KmQ0yHGMe122XbOT3d721Jr4jFrJqyoYbe0D0WMcBSmnuDbPnnwpJz8VrkQ4y1qOwxGIeYhhh7vwxOo8Xl8bEUyZPH6bLpdss0oykMFiPMgruaUDsg+3Z65/7Jvcav622cX4un+861erfkQd+eT99fnnreeq6X+35dc3VrlZcVA4eHeY4KycN0y9ibO1TZTq9Pz8/H02SP5+f16xrkBO9732q4bm2Y0mk5xsfl6VqsNu8yp//8dn5/Oy2J0xRzz+GYju7CLrXSuzHI/evSIzq9AwwOhHT46fw+5X3btnXIw8B1LS/L4zH5ltuUxi03727zFEOcPQM0Uofp+PfH7TBga+3h+Yherx9fKDgux3Zfb9vdNYAo1WNzc8klM5a8Q8NlK8VrOD8ER1T4+Lr/+XF3WUN0F+Gl1kiFQJm8S3nfS95BcRxcBgRikLPstbl3JySXAFq0FsyhTkCSuyQC7O6Ak5J3ygG5XBANoMcYutEIETAQIAGIkEjw/wEkOSGQMJjJ9u1q7KQHw48YlBMi5ZIAAQBI6+4wxCDTYAiKJsgJ4IdkECFApP2AY4jJENDskleGmkZA2cylJjRja6UaJymaDQDdO9ADa0Q27DHmtXs/PLwZx60ok456WuZlTJ//7kXxVqpoIcjUlmRjgCnHh4DP9eJkmk89xN6jm63X63bfLYy5tFq7mQ+mMdRlYlAj4n8RFb34MhrvOQAAAABJRU5ErkJggg==\\n\", \"height\": 18, \"channels\": 3, \"width\": 18, \"type\": \"image\", \"id\": 704570592}, {\"format\": \"png\", \"value\": \"image/png;base64,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\\n\", \"height\": 45, \"channels\": 3, \"width\": 45, \"type\": \"image\", \"id\": 704570648}, {\"format\": \"png\", \"value\": \"image/png;base64,iVBORw0KGgoAAAANSUhEUgAAABgAAAAZCAIAAACkSXkKAAAFZUlEQVR4nKWSy29c5RnG3+9+znfO3MeZGeMrNnYSR6pt2UlMohi1BAlIFQIsEKxQ1V27hD+CBWqRumCB0iICuUAAIaBVSEsIdRo3td3YSZxgxx7PTGaS2E5mxuPxzPkuLKhUqmSB1N/mkX6LR88rvchaCw+wVITl0squ3o6W0I91/dQXH3745efxWCQRH+xs359O3StcO708eyUWidEHWwBqhbV/zJfM0FDH/3pOcDiTblu4MQM6hcQtmvRDmYHOLberq+OhRaVu93q+ZGrTB6NDP/ZkOPVoObP0RF9q5aZuclw1zHNaY33xmq6jh5xWXYDqv3OT5dnJ++XS4mbpZlp62vNFS9JuS3buHt2xZ3fl6srxqysLHrTGRGcq1Z/OoA1rBcB/h60BrE1d+OT3f//kHA58EpiokHHHqzSCjWYNhV0c6RwZPzz4xNh8MTtXyi9W79/caPb27ETvn30n7eLRvoN+4hGYuPTd1Ympi+ezk+fTSAosw44bdqVABCGigq1QNISIzIGzbXj74PB2qMKZ++ajbPHKSonO/O3o2M+668kBWXhk/sK31/717sJUNsFSkjEphBRCcEoQwQi7MkIZ44K0YVVfuLjuluI7nx7y2vKrRoUQbZU9hfngm9Lng9Eba4uXV6+t94fSLvV8LqTrIrBCcIQwRkhwzjnzPBlWAQWTn89BKJcc3fkqS90pT1Ls9bTL5OO9scLEZ7XcUmd8e5Qhgg0jFCNEMKKMMkYpJYxSV0opXauayDgJ1Sz9c9ITIfHL4f6VOq2ZoD3dfmt2ZnFyvpvF3XiEWaWtQoRgjDACQjCl1HEdx3Ec18UEgxTQaCQaJCXYtdnpHf0du0deofdMsAH0+txiR6xDBoQRwYijrTbWVMBsIEgSnCQkINBAtmYUYxypJkaYuh4g7GizfuNu675naaJnYAPJXxx6sfT1F+1cMuFpa4w1Wqu60bv27Fk6+5VkbJOxVE/PSuFWS3fHnUJuWzS5WlpNRrBTzsf1HYgYdGluWq05ew5sf9iLP4AFAAXrd2B9Q+VuE5tHqHDuz1PjL/2Wrk/PdQ4c+EktAIAALIZECtwofawP7uUhRsa9x3PZJtjqZn5qyf5/rJ2/hydPHfVhHYoFAPXD9J9M8J9cBb/FR7XCNKo3/vDG73gTeNNSIhgVlDmMCaOtNYZTyhmnlFPKBXcEF5XNrWq9uHOgrVyOBqxX88b4Mwfosa8nfnXwyO4dgxePvbvDj4f9mMM549xahCzCYAgYbMFY+MEEW3XdaOhm9fqFiuPG12R85LkXQQKtKIxlxnXCPd0dSUUwMAzaBDWEKKNcUFBqS2ujrFEWIW0JUYI1fLAhN4JINdHn13UOiot05sYsSD06MiCWZ+J3yypAWimlFGOUE8SQVcYaC4FFgQWGEGcsLGjIWmUNd1qXy6EnR8aKxUl897u5k6f/CCMDXU+OV2NeIIkQNOT7UjBGLMbI4cITrssEx0QK4blOOOwntyVlJr0Z7x0//DqMjJ2ZOEHdZv1PHx/PotBrz78cNpH5v7wXcx0wolmvaw2UEIIxGEsp8amLtIp6UvgScUcLt2toLzzz2JWT75yZuEqDZl1ycvPczFTy0PBTz/aT5ezZS+4WSEYpYwAAxnCGXcGx4IggQllFiJrwWvcdgP3D8x+8+dbpT1e3BGWUSRWkVf6rb97KbnYfGR3tCtpWLxW9SrZcyTqOtE3jMAcxBzEFjgbRuykGWvcmYKxFvf/20RMfLWlbbjSox3hYMqXz5buFi38NZ5o/37v/17eyc9CZKd7WxdtrNBZiWGDuEVHdu28X+C/kLmcyY3Du2G8+O/ZlUYW0Nq4Q3wMsNY7qSNwBvAAAAABJRU5ErkJggg==\\n\", \"height\": 25, \"channels\": 3, \"width\": 24, \"type\": \"image\", \"id\": 704570704}, {\"format\": \"png\", \"value\": \"image/png;base64,iVBORw0KGgoAAAANSUhEUgAAABIAAAATCAIAAAAS8MqlAAADE0lEQVR4nAXByY4bVRQA0Hvve/VqtssVu904dCsKIlmwYZFdNnwBfDMbtkhMQkIEZehOt+O2a6564+Uc/OnN6zxeF7ET18XPf95Ns2JAAhLABIDAgMAkOSBwYGZA8j7I776pbr76emxb3u3uBvHb3w9RVrD2qYQkAm+sJzlZ9p4RABFCCMxB/vDj2+bpGJ3Fw+D1OF5XlZBZZ2clnGCdqkhE6dU6HwYzjq1mG4ARUf7yx8ddnXUm0SH2i8/Qh8VnJJKk9IuUDKgD6DaDIFXUOWX9QmjlVbx3ly+JWX34OHgdSFjHUb2/zjd7SYki7i+nsbn3pvUQS8oz9iYYqY/nOHJf7t6f73sKCsXm+rDLt9sZI6TYhKm8KuL0duyXoWt4HtMIn6Yg/zpe0DZoRaMHzXW++hbW+XkZTLDAi8AR9Nn0CrmOM78sxzTJ0hDL96M2jRV6Gkyo95VV/vcPn7q2K4t8XebBLdIjWcPu4bDPuiY4a/N0RWVRqfgaxSqgKuqKSJMLz3cvWSPo0J+mInt+uLkdzSkqo2pbeecFxXKexiQpx7ENRA5ps9kUKwyelnZ+cTj80z+VuWLyo/WDY+2QAAUx+Wl08ywAJEBMQqIQ5PvuDnEGshjxMjYFQUIyOEaIEAkxEBrtlwmDleDHpokoYnZd97hapSAoWys93/eP/8Zkg9dGzwgAKIiVyotsv60VQX++6GZYgY/DuF1nEWJdJZ7ad8f/6u0q8trpOSBOs5aHFxt71qEziUgXN5nmnT75lNdghUSM1Wpz9Xq1cxnY892jN54SNc8tff9qf3NbqGdlUj5jN3XjJyNEffVqWx/YORnihDepF5fH+65pUGVaCodW4nxhWD73TfvkUlb9hBPp+6dfiyxJsoSR9DCxmYyZkzgJiTgO4zJZGebzfl354Wyc0lA4KIVeGLq2a7tOEjICE6Ye1yIKw3CaeyMwkTGral0p550PAyzsbUqhKjMMKJjYGqGi2fBiddOO3moBxMHJM8Snpvns3MQx80KE1rpuQGtCGmeCkC1f+p6BGIBQIQIw/A8PqQLJtIjEZQAAAABJRU5ErkJggg==\\n\", \"height\": 19, \"channels\": 3, \"width\": 18, \"type\": \"image\", \"id\": 704570760}, {\"format\": \"png\", \"value\": \"image/png;base64,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\\n\", \"height\": 24, \"channels\": 3, \"width\": 24, \"type\": \"image\", \"id\": 704570816}, {\"format\": \"png\", \"value\": \"image/png;base64,iVBORw0KGgoAAAANSUhEUgAAABYAAAAVCAIAAADNQonCAAADWklEQVR4nAXBvcIbuQ0F0HsBkDOjkSw7m26bvFbqlHlxp8nan+aXJIA9h//993/cM3xMpnNhz77fI1ISZbKlGmlyttZ7H+NQ8aIyLfPr2+Oz/dr2pqwWESQo2Pr1NSBMJhMQUYCIvK87MpIoy/oo4texWG3b1a4UndzT2hgkiomAEUmoqZpo0alfoUXYx7pMI8bIiBZFyr6dnumpZZ4GhoEY7iJZq2nIa/0eo4n3uG/17H0g3XN4hpVSi8UIokZ0j4HWrVYjQTKQlrHWR9+btx3ooydhRCbh7pHZ/Yquk021LvNDfm2/PDLuZhmjj6TORR9+3t56YdzudVrq9CBRirXWeh9AtuMAx31+MKrpMsaV0a0o6Tpl9VO8OzA6OL/e0/oUMVUSWZeld+9jgHoeGwQcCq1MIWkCLMopmyMiRxDz8zF/W1sygLu1aorIAGhc3ys1r33X7Jk5F+muBlKKmdm57YFY1pdU+/r667o9WCDy4/02kfs47nOblml5rZl5b7/NfKrPcbhFqk7Lfp09Yp4e8/r+vX+d+7lMC6cprY6Qz2dr+16Zn3HdYd/WN4Yf5ybiApERzKC3kaDND8g0L69E+f7jj+e6rssqsHaNMq///PNfj+c/zr2BxaVSavRQrRaZyJRMUpxMwXVfYP78+T+HPt9/POYnM6elXOlaqiLBYBFplHQqLTMzkQkCRQQZpdr6XKfyOO/Ytmv/dAGAgYw+PJAimIq2GAGVDCFAQChMRGvMsFIfz29W5+frnTHe7yUzhIWgCBNQ0eiOJKmACMiR6ZSARCSA1vq+nUj5+hw9IzU6cF1eIfQh5Ohj9JFJiHnAItMzWBjeRif57L2f23Hv5xBZXnMo6/q4j+v/Pw9HzHONcaf3zKCmx2WJbL09ZyXU27V//fV+/lCU896WWae5EPl6LJ3ar21dlvUx79un97vOE43o3SJy5HAvyJm4rn0X6vP1vazfBVAAICj1ucY6Vfj5+dq33axSpuM6W7+NSYjcIYxJ4MJ2bL8dXte3siiRGURGONOP/dOOy2jGMoZEqqiZCVOyZ5uLmmj4JOjn54OUcJqKimTE8Oj9itGURaXSPTASblaMyMxA+gh0V+ViwmLct41QAsgkkiKi0Goic+sCtpE9AXf+Dc2FeoIaFIeZAAAAAElFTkSuQmCC\\n\", \"height\": 21, \"channels\": 3, \"width\": 22, \"type\": \"image\", \"id\": 704570872}, {\"format\": \"png\", \"value\": \"image/png;base64,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\\n\", \"height\": 72, \"channels\": 3, \"width\": 72, \"type\": \"image\", \"id\": 704570928}, {\"format\": \"png\", \"value\": \"image/png;base64,iVBORw0KGgoAAAANSUhEUgAAABQAAAAUCAIAAAAC64paAAADP0lEQVR4nAXBSXvcNgwAUACESInaxvHEcZrly6GXntL//1t66mJnccajGWkkUgTQ9/Dr1z+bOlynMxLc1mzAhqomBqhFTQoQkaOKCKWIiqiJqiqYApu5D4+f19hP17ODdbqt4LyqZ8+Am4LLRZumCQ4xp10FRAyVmAJ7NuCn51NXO+TaN1jlTOSjb6sKxDmtAMmTM5CEFe5pU1MADKFGNd7LdjpfLgCKoAihYklbut2E6Xw+9V2ftty1dexiKmrgDMTAipSmYiaUrMuaNdZt7dw6X9d5KQYCSIi35QKm03nOOTZxYHCGThBMRcRYiohV6BHM9nlO1zn6DsMQ+vbQd8tlYucu08s0/UKjuumcwwJUDFSMVdRTcAT5tuRlafthvPvE7aPvAtl+192XUsJhhGe6ns4K2PedqexFVY0rZgZX1lnTGnzdDkdlzXjKMrT1sKdLkouq3j18qND9/PmdHYZuRFHRwooEhkxUTCnEnePP07/tQPNL8/HxD83ny/nv65TfHj9hbF3Nadt8MzokBOBt3yuuJEsx3w/HUsX24Uvl9rGOy7KTcPSP7Zv9dbn4MXLTeSygRoAOiWTPppJ3ZdfejW+7Zngzvl+udHpZl2krKzv3tr//oATknEMna7IiAKgGBAaqxlw5V92WtYttRbjOE4F8ev/gwZBcMlPCotrH6AFAxMzMjBAQ0e1FVaxt2rRlR/ju4Z5Qn7497WCmVgM4FTCdl0WRDAkAAYDNgKiqKpfTcp2ewjDeCjRNdTweJDkHGe20viZSMjUDMVRAFRFEZADKBbBylhLI1Sk8P/1QYqX282+/p9s0z9+2Rca792Dpss6AgGh7KQrGCLrL5hkAZJuXsT889EcLbabQd52ztan9xU9jS9eXa9mEQzAsagWQGEBFM3LVtGGeFneaj+8+ku84BBBp48FKjnfux/Nf59PUNENd87KvYooADGCisu08dkdv06/Tf4U0hK6NMbbdljZL6/L6/Xx+DaEJtd9LTlmUCA0YwcxMii0b9MPQwTq9/OOwOiMBICKoiqm0XceVT2XPRQwdIYEBgxkCqJZbmgXwMBwaituyo4iqEoIQcxebGFIuWUoBA0Q0Q8T/AeGfMsjRi5eWAAAAAElFTkSuQmCC\\n\", \"height\": 20, \"channels\": 3, \"width\": 20, \"type\": \"image\", \"id\": 704570984}, {\"format\": \"png\", \"value\": \"image/png;base64,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\\n\", \"height\": 28, \"channels\": 3, \"width\": 28, \"type\": \"image\", \"id\": 704571040}, {\"format\": \"png\", \"value\": \"image/png;base64,iVBORw0KGgoAAAANSUhEUgAAAEAAAABCCAIAAABow0eCAAAnDElEQVR4nGW6abClx3ke9r7d/W3nO/s5dzl3v3f2GcwKzGBmMABJQCQFMiZI0SwVpcSiLZeccqzYSVUqvxJXKntiV+KyLf+w43JoSQkYW6a4gIJEYSFAAINt9uXeuft+zz37951v6+XNj3HkVNL/+t/zdD/d7/P20/jvf+MVy3F1klIqwXbRcYySs9NHvnLy7EsnzzV78UbvwyC9jc6x05Xz773+D4Oq+uW2dHHcwXBgJYHlT6E9hdQOep2QT44ebdRwQ+5vSN7rxf2+KubqpZzrOnbOY/2w1Q/jbBjbSEpnxVJ9pjb+wvnGu/d+/ot78fiZ1/7H/+133vr+3/z5998W7tH1rZ7k5b/0nf84x6e7ew+OHqn89t/6Hvz/hoiSpOJXX7pyjfc7m4P2va2dLJNB2C+NVe4+/pRs27L9Gf+5oN27+eCd/kIti/eeaUym0TiHzQQOv/TaN/76xRv89urHt1eGWT/NemHYOnvy6N76NrSa5+bmKqPzsTJa6Xg4ILBtoYSrUCkCK5Pm/NxC9/ZdK3a17Bfq+u1b2+9/Wiz4F59sbqWae2B6j94SF85Vvjh97Mg06AS4+/8hgN/52hfc+qyTWk7aSdSgF0SuX3R8byTvjeTt86ePXDzzfCe1etnmrDgczbPF7aWbO1UI5jz56ZGL7NI3/xrsp3DgZLuivft+s/f5Z3cf6okZPTGZJGmWWt2Y9WKVtPtpp2vncq4vZNJXiZTSaMXUMDNR3zOJT2nu6kX/6ncfvL3uhUtLS+8YDaHj4Uj6rV85+a0vf31ydHJq7HI/GbUL4P+/d4CJZPzI6M23b/I05lkyUR7xvJJCc5CkJ1+88MHtX9y78+m65NWz43/3e1+Xv/f3o7KzNlQ3Trz4ypkX4ZkF+PBn73z0s85wzo0WTo3SxNSkU5vaTnArklEmmt32Vqc9hOIoLzx3Zgo93go6nVbEwRgV+7ncvkEYmblSKF7Mes2J8U8OHwb9u81eK1bGQzxg5tpf/qu/+zd+c3qvCY0p0MV2EMSxmOGsFAQwVwcA8cKFI42jo4vvD7nlTBQbv/61b+31ks8efn7syvmFi/PlXKezuDo1zDpPPlYfWR/+4u3x127wYTNobiyL+qM3P13ceO/saX712a+88Qv1td/59c7G63xzIPfjMOhtNg93Dg9Ha/Yz9bmqPz877h/2trSlLS6H/bbnkpJ4zHJdaWb9yrGjU9vRXjR86LPFw04byddICwK+7NYbMA2NaQAADnu7m8otjBbr4Ua7An5uzhP7K6uP76+WLTsz6uRcxQf+yvXXxifqv1z/4N7Pl2B/o8H8IivV3eqTm6xRO++z0dnKqbnxlzwb5p7x2uVLVtlMzJ7f9+/91+99tPnuv5kDX6Hf7PSb3f70kZNXjh6bLdTALfaToMxHDec2455w+0E/SlSD0v/s238FXvvm8J//r+nig85hmytuGSQwyAuzYvSassVfyEXD3u7a9MmL6XA4UXVFlbbv3RedJE0zpsAGoSIRYmPq88XO1sby/sbNBzvtI8VRUcpZfr6Qn72/h+O1a3bYn6ye31oRs5fctx//0fQLr55pnIAJMP32/vv3i1hAt9hp9duDzrPnTl48c61RX2jUc/utLcyKLOAa0LYc1ysqcJDF/963vw6vfh0e6Fx93Nukzs62EEUw4NoCeNH1Zm/89l/5C/zGyLl6cdLm1I5EI7dz/93H68tibO7y4PBwt9WqjTYiYf+r939apInB5icHmyuNXK2mIB8LwYro2vf21vYbphGaYPe9dPD4xxv9+7w/85df/T9+8t/ZLUmDbMpKpGVvHhx2++GZC1eun780W6w5pUIC2q+MqkHfUTJnPEBKlfILeUa43G5vvv7HC1ZJbW54uZmitR1EWblQSzUH7rqe99EfvnX1N15+SoAxa64+zTp7WTRY/vzgcNAsuEJ0drNoqEDjkdmFg53F5s5yZpfrdvbqiy81jp6/ceF67uLLP/+f/2z/YNO3+e/+1l87SB9TqaZSrVP68uwxZwJe+p2rAPmljx/+ySdLy0u9JIxvXL58+dkbI8XRSjGfagnMYpJXC4QgDRIBKZmRTEmZe7duxf3efUuULGuz0/btGlGMGZmMmOX2tLn6Gy8vbkB5FgoAOQ5+bco/PrXx6ZuPHiyVCuWKBaLspp3mISJ9/MGHZa6PlcefmTv1jZdfgFduwOrKxuqKeeONmWM1r1QNDqJ4d2fs114DqZUyQlhgWQAIMAM3f/7RzVsPDpMgjL9w+YWrz16pF8t+MS+JCAWC8RyBzAVez1CAIU4gkDEwNY+KE/WM55qDw6Kjri2M77RamwfdnYNOnLX72vo7/83vXXzpy1WYvDKbywH4NQCA2edemj1+RQ9i1VsSu/uP0yiYrNSnKiNYKvbJPnn9RXjla7C+1tzaGz065c1dav/y4fFyNdooer/2awAAFggLAOSjj9/vDEr7m3Sw9ahnwmS//ysvvPLFa1903ZLrcgMSgZMmAjJIlsgJ5JUiMK0cYQMh0vDMqeMnT1+/d29ztLdp8aFM5DVu/eT3f9CTUS9LdRh99vk7u/sHjckjG/Onji3MnJwcm50EAA+KHjcVrjqi24vKucrLF67Ou9a6Z91K6E9ufjI3UbEvHhvtsdff/bPm3Se/e/IK/Nn7x2dr++//cPz03Js3dx5/vNvIcZETB927671eS/U8TX/pxV+9evVFx3bAZgkYBsRIayDGGXCRKmXZlqsFFYoBBH4+R7p0EBBv9s5cfZ7BRcAMAAGw/84nDxZXiUwQhh6weq54ZtT9/O6PDtNTLp0JVgcBlzuh+sq5K9HutijkSgW/sp+x6tz040d3jp19loH9w9sffrk+/P03Xl+JolsHN5/NlHnw0eowXPnTraPXTx67/p8OEU998Us/+ukfDcJDA1tVq3T5+a/fuHZVCGFZKElxIAbAGXDBABkZQkRi5Pg5RGJGCzBGlYEcmdJe87Bcq9nMthgAwKnp+VrOtYIw79hplFTHp5xRdyaMtz9/40+XPinnvTAOhzF1Hj06PpUXJb/ge9ZSa+uD/VWhMiPu+zPzVqP63lZv15384M7tq1/+7Q/v4UtjX1ywupXscL3duv9ocYjiTz7/6VLrlmVR1aq9fOX6pcvPM0tYtm2McmxPaWl0BgRkjCEDgECkCaRG36s5ZAlma41Bmmxtrj1eW55YOHfh5JwFAAA1Z6SWK9fR7QI7/9z1WmNm7PjRMnNePd58/8HPQ1EdLdRVP97ZXUd7Qijb8UcqzcNdcHKVeh1tvrT8cPt2fyRnj/jjTla7/vxv/PLug2dPm8/v/EGxXFLEdh8vDRJY3m7WfV3PT125+KUrl88bpoGj0hKMUYBccERhAC0AgbwfxYM40VmWc0sJWa5XtggqRTJhLxsGlo5by5sPhrVSuVAbQscdPeSuW8xncXbkuRfOHLl05YSzj189efxQlu5tNV3TdiBOq0dnssqIWN7tHPR6LMcKfsnJeevbW8sHB0cvnfjVSycev/uZmx382Zv/7KDb/ad/vmaS9clkbKzeYFFPq6hYrk1V6l88f/HM+XMGDTHUCGjAYghgwDCDtiQDpDdWbnXTTsy8HM8JJHAMMZEvFG2gWGWJJoozNWw92HtLimLJKgmdtIROFWSWJUbzZ886ZYDycQCoXrn+n1zRZTAe3Pn0D+58UJifF9LYQ6lgEA6C4WB3t+A4FYtv3vnosXXQjbojZfbJm//o5OjcwlTFdRuuO72zr8I4HB3nY+OT506/dP7iMUMhAiKiLSwtjWDEjBSGtaO0Gwe9nc3B7q1yXdm8kvMbLO0pMlyUpOHMy3kqK2qwimhyZETQ7vU590jHtbKXHg65cCujBf3vrCdvbjb2tpojvjVWnrt4MXbn54WimIHIOwVuDJcaSeZtK2eVFu/vEeFoY/Irs8cninWR6EFiDrqH+2G/Nj01Pz11/cSZ2ZNzqc4EtxGAA6HWnHMitNEatrZ6wcGD9bv9jXvzZc+NckXfZiZQCVeGYs64zy3Ofb9kIw84C6OoXOAuyni4fXC4XivXlbZ2h0msEvMX+GMzOsNGvUqmBffKp49eBSBRdAy3LVSIBECUplqnmUbKADJIeD7Qg7C2wLsD3k/cXtQ+caR6bP746WNXjx2flBgLtLVCIZhSGWeMk7HB6baDXnuvvf2pWvnlfHE4ao9zqVVsIaC2JBIi55IJt1zXhvslrlApSjhyx5La9PIVpyrHFcFRj03rpAwAAIMOBJ3VyQkH6g0+BMgLAJCghcfyWSYRFGfc4rzku6mM4mQ4SCLyc2GQTo00ZMqDNGkH3ZnjJ86fOHlx7vj43FREkgARURNpmQESEbPAbm4vtjtb29ufqO2Pz+WV5xqU3USlmoiMETkExhlDzfgg4AW/SgC5fIUAIjBgMFeoDBOdy6flrGT5rrXbLJ4BAChWoeg1wGNAjOcBSEoYZmCLUrnBYaiStkpkzi84JcdkWro0JXxLeF6hyrzSfjcdJsHFMwvnTl2YnXpmbGpUQgLIEBgD5AyRAQPNwNrf7jR3lqPmZ9C8NV3q1fKuUrGUGeNSpowzzpRjJGfGg8wBFBnYXqEIjBVKVYaKFNgOlMpGaaOMiqOAF8pbAVgF0Pvrk+NTAAIQAIAwQurbWBblilNksr0/qIw1qDBemamOz9QOe33V6+dJ9Ek8OWj1gujMuWcvn3v21NhkYayWkGacExACIGnBmQEuwN7bfLi39bjTvMMP7xzN61LeRSNtxjgHQ5kxEcq+STgwnkWWixwNJQY0o1yubIzMF8qoUSqttFes1BSwLoiBTrfC7YNWPNLvTkIOxkdh8WGYUyuD9OyZSwy4OHNiWnaWv/TK11787t/+5Ecf/fzNHwRFQ15RJmq/N+xGUZTE169cOnf62tT4qVqjkpmIEwEhcoZGIWkEw9HbXtvbXvvc9G55/eVaYZDzLK0kBwAEFIIpKUykMtBEyBgREBeaKUAhI3torMpIyaRQKJImjYwRcmB2oLmlk73Fj2JjH585DtXRR+8vRZ2HfbXeV4352uXiOIhnTh67894n5y9fH3TWLn/j1fmi+N/f/fO9KEn6YRYmwzB57rkXbjz3/Hix5hWtvho6AoUBDUBEDBkzZDRsbHy6s35v2H3o9h4fLzLPzxnSnAQzWiMqoziCxXSY9QEZJZwhN4kDFnFtq4RFGpjHqn6eDJZKzBjMtDbI6pWyDPulnDaD3s33194Ob6qw/N1vXTvun+j1ebi/tfTLx2JiYfbWuz1Pb6/dGgTF+IMHS0rUgs4hk5oy84VrN648e71aGimXfYOSkGtCg0jICAiBGLd31jf2Vj/jg9uVcHOkmBZ8V+kMjDEIyDiQYUCCA+faGKl0oDIQlqMTCxF0gha3QdomdEMtfD/HAAulciITIXScKTsn/YIJhoNK2SrnpybHXxk7AQCThSkI9uPnLlwTkwsXpZy39LUG9d7+5KPl/rATxibLKIMbz790/fLVUi5v5zxJxLllDAEyZAyQGaOMMYtP3t978rGINyrx1hEfnJytSFlIxEADaCKGzOKASKSVg2BRFssBxJYxRAwZAEPbchkNIVJKUr6YL3Bj8n5FYFT0laSgVKwYVs5CfXTm5MTsv6tqhXEPQIkP3vm8J2d//PPk7OmpiG81+y2ZKiHZjedfevHKVcv1mWsDZ4Ixow0AIhGCyZTMVLa3trK//mEuvZfL2nVfu56lSQICAREiGGMLIbUxiAxIcIaMGKClMq0HKJEyAYgGBQFDAADOXCcZxq7n5TzihErL/jAKBzGwyvTRE5WGo2FnYzkayR8rFEBbMLSF+PDdP8+PFnaHe0tvf7Yz3O2Dm0f/C9evvPDclaLjKsdOOOMIaLTgTBMwAC0zI9OV5ZvNlY9zerdguhMOCWakUQSEiATwtHwiESAaBKM058IQaDK24EA6y3oGGUdGJJTmaJgAlg60dktaZwUv72CeiBhSM2iTK+8u3o+dk/PVqkz6u7u3axAcFvFRxsXpY/MHSbjV3Nlp73oujrvFi+euX738rOPa3HUBwEM0WkvSHA1DrpTWOttcur/3+O0aW62xpOhIx+JgwBiFDAkZEDEgYKjJGENMcGCMiIiAyAAB58w1aZZ2ARCM4OAwYWPGkaPOOLOsYZIUi0WeqTxjiaZ+nE4Vi7wTLG53skz5anDvzjtNPmjxMXHm+MLWnZvLeyt2fbzsFb549tLJsxdJMAWYAJCUFgIwBGEZrdNkkKTh6uonrdWP67w1immDEzGmDDnCQq01kDHEkZHWhAgMiTQY5MiBiMggICI3WnsMXJJB3AF0GLMAtSEJSMYojcQcgtQSjufaXKoUDKWd1sHm1m4YG989k8/5llMxORPH4rO9zSeLd6fH8qJQfv7sjfNnTxMD5JZhlgZknFsWN0ZxIcI4DYf9vZV7vc33R9halZs818iZIUAiqTQiAAACGG2QgAAQkSMwIiJAhogAgFJpQBJIHNFGrbMuIEPUzELSNlMAqQC0VeoydDw/76kUyYSkyOiaYKFMtg+2bMtp9oZDmYjP9lqTjYVcyWtMH5tqjA/i1PfzjEhTZsDSWktkSCIdHvZ6O8urn/VXP5v2whELyggGUQEBEEfQCJkhUCpn24iIYAzR02PAjDaAhJwhU9oobZAzgYhADkNj4jg6JGOkNpxZOlM2WcScLBaWWw5TyuVKPrcYkNSgIBYIidIHg7iVYK1aFuV8ZaRU9fI52ykM09TJFVhGvgsCFSAnRNI4GMQybfb37/P+o4lSx1JDbaTkDAA4IgOyGcvIaETkAgCVVoIzhsAAkHPOuFaKC6GkZAA2Z8AYABgEIs2ZZFqlMQBySH3LRpb2DLOJWwYtzgqSrEKp6sikmClOECPTmXK84vyxhu2kopz3QMlhEnHbDuNUs95ICTzbQxBojIVgZDjo7QyHO1aWTeVKKomQCZ31UgRLABJZyFATEAjBGCOtlDYagBhD0BoZSqORM6kUEHBEwZk2pI3RgBwZQxJokMlUdvSQcwMcLIM2cMsAKNDkliLNXa9kaQAlQcnM4l7OBS78cl6oYeAUfEZAcZzg0GjtCu77OaaZzQ2hSVXoetJo5ORZrIIoKWNSJbFJjZS+xRWR1IaQWYwBSRCMIwjGNBltNCLXWnPOgADhqbYUAGOIlmVnWUYMLU4WZsbIOAKFFjJHgYWWpRiAEDnwjTaMuX7VSkGmRjukc8CkNHEQCRW5iaDXfvWl5QePtg7bCRR6XBgmxioVZpRwhbBzfr7OyCijGRkLjDTK8CGhyJJujhHaXAMDQ2gIEAmAM+RkhGUN0+ypiACIIQAZhmgMIQME0DJFMIZAMI6kLSJkWZZ1MmYbsE3kBjGzWdnLM84YAUhE2y+50kiAVBowkjSK/b3Ms939w/3KWGWzvZPGSOgqAothyXeYIM/2UDOeN5HRGRhAsgVyC9VwH3QU6cxRhgEDAmMMokHGEMAQkZIc0RAAY0AaEYABMGTIEdEQcc7JABlCMADA0QCmoez2EzK+IMqNTx8t1Ue5cC3GUpWBsDi3S/mCzJKhlaSZ1AQiDB4ZfbLZknHcRk42JykDSHRvIACLju2KzAhha+M5/ogCkACKNPBI2Jk2RqsgVaGDxBERkIiBQWCMALQ2DBEQpTH4tA0BNMCEYEZrIqMJjCKbMUQkYIJZ0ZB1Ik7lMXRm/ZGjldqEJ2xuM6MlkZFaWZwBMM8r2nE2jMJO70Ds7n4Sx71OyDQ1C2UpjTU5MafSIQ8FBy7AqZbzNiPBXcsWntaoVCJT7kogQkCdoqZMqsxlxkHbGAJArYkjJyAC1EYbAv702jFGKYm2pZTiHIFAcIshSKMMisNYtZIcq50U1RP1yQsjUzOMcWBMgwYUAEBGKyUZ8nY72Nje7oStw0Fb7Ozu9QO230sr44WaLNTG5xQvMsqGw74FZIw2TDdqNdLkOA6onHFqxihgBESEjMgoLUkHnFKtiQCIjCFjgAiIMY7IBCLDf7vqnDFjCJExRDL0dKrICmL3MPaoepxVjuWnjlUbE4JzbjnKGCJiQIhGa+LAdrbXNzbW2/3ORq91+tpLYqFaM62WTmQ8cDb2CxulXmcmXpgdzTtmyBAYBn0ugNerBUPKK49Ichw00mQAqDRxV5ORUkpJMjLAgSwExhjn7KmjM08JgeGMCWCCiUxpQNTaoKGEyHC3FWXtJGfXLri1Y+WJM+WJMYaGkCltGOeGyJBG1ALZ0vLayvJiJwqa/d7Y2PgLF18Q//KNtw//5ev/5PdfH2KyGx9Grui2VnedaGFqvNPNEG2OTOuM2VDwc2DIynlkfGVXpNJkpUjSchXTWkYmNtJFshkwDpoIiBCAgBCZ1gYRLMYZERkDnCMwiwvJRCv2docld/Rcfux8eWSy2mhkQASMALU2pJQmQ0Co9dba6pOV1XbQOgya+frRsbEzthICwB35D37rv/zOb0Gy+4//i/9obXM3VMONYC9Hp1ynxNBlaLhFw3DADOQqtiJyClVCxgVXHHVEigy5ipPRcSuljHEQRluMEQESEQIgcs6fPu4SIuOMAGLCgFgrlu2s5o9dLIycro49U2/UiWmHMWM0EDIAZIwZbQwsr64vLy/3B4MoaE6NufnaeMWdsRT/fyJAF7q3N58/cvVZb+3dvbV1Yfa2Vuujx3MeTxIQVsZ4yLT2EBy/lIFxi9UEdZbGzJECSaLhoBipJFZGKw8MA0AAxjgRAYDgaKRGLjQBIEcDCbF25rdl0Rk9kx85PTI2X6rXMqOADCkFAETAmJBpIrNoY23jydp6P0yiMMs7lanRyfnj54KOMGFPAAEgdNa3uinOXfhy5UKT3XpzZW17JU07g2G+wKpVt93tKUTGiAKrCG65lDekcsU6GB33FIFmqAmkAc3RqKSTaSkQBALjnCkNRjOGGkhrTYQpYAqiraijy+XxK+WRo7Wx4yPj41GWMY5PHaBRWiudkdQkV9ZWVlbWgnAYhFq4Ve1CrXH81On5/U0YmwEBBABQnZuuFv2s273/6dKVZ79xxXrnn919dyuyNjYoTSb8cs2rlAdpIkEY4BYzfj6fGXD8klFJmggZEbqGADkiI5KxzkCjACk1krE4QwDOLTKoFAwU9qEUYNlrXKiMnB2p1gsVP84iYNwQIDAgA8aASlOZLq6sLq+uhcM4idNK2XPKWT8r31tUzz8P4zMAoRQQAeQBAKDq33zrh+og2SifzD139Wqlbd68tafN1m46wYszIKKgA9IIwj5nAKzoWwDcL9QBhZRSSsVsbbTkriSdZWmfoQEGHFEZwxCUokBhqO0A3BBGamPP1hvn8qUj1TFf49BiQipDihhwRhBJFSTD9fWltdWd3iDpDoZVFHZzldvc9l+emHjx3yo/b4lHv/iDssMPXfH2ky35ZPt6Y+ZhstmpOr/5xW9P3W39eJAuJ62dnQeum4zWa6Bi0gREFoJLrud7koyXK8ssSZMEbQSlGAFJyQxJ3QcyzGKGkAxpzUMjArsRQb0wcmp0/JlKoW4V3UCmTCAZRVojWIxYFg0Gw+7DjbWd9bUkyIIwK1Wr58qViTR/N2qdf+F80XkKvwf3NkXit99ZeiyDfj7wwRrrcVmv6pNHj0CnU25M3zgmbr39aQq0/ESq7Mzs9AhjcYjgCGY5QsaZIxhDu1geNwaypM2IgDHUShnFjAmGXQPgW6Ivs0CKoV2I7YnKyHOV0aNevuEUcgo0Y2gMAhrOgYNod5P+oLux9WhnYysKIw7ujdPP5IG29/b46PiVC786d+FoeggAWXjvF6v3BmIvUxu0cISPfmky+8nddz4Zht+8yKN1F5wT4E7PP3vqu2r0j27eaxm9u7ukVXdsdLRSImR2CjhaKnB0bctCtAql0ZARClSgjcoYaMoQNUuyQCfQNl7kjKVizK6eyNVmHb9ghI5MalkWkAEgZI7gYtBptfqtpc31g82duBckSSK4vnH6aPjo1oPBsjoy9qULz1gAzgjA/fX1B8G5c5dFuL1Tp+u1iW/HhTvDuz/srH0UHFqZ8OcaNzrudLEPl1/9jh4/e3fp1uLmo34PPcv1hRtjhGACbhyLI2eOsBlnuVwl0ZlhPnMqRBJICpe1k6wbZJSvozM70jhXHTvmuCM53yGS2kgBPE0TwcAy1u5B/7C7u7X3eHunFXeHWT/QCDHqxd2N51770tcu1X65nSgACwACCFL75Eu/CRMgwu1gfj6rTTZ/+MFbKdqz5ZmwxcUI3896W4xHG+2vXqhe/eavlH862Fj/pBdB0PPyjCNxziC0OOGgMVJDldlcCOE4XhWM1oxpIEQ2HLK2VFm1BG65Nnl6dPJUwSlarm9QI7MMEYBhTJCCfnu33W8/2V7f3dkZ9IeyH7omy0geBvH/9E9+75k/ncgdaXgLFySABwAFkNj7wRv/9NRXXxXtjW6Itw4+f+ug2/RtMOUZp3jsxUvXFpdaKePtrQEv5wDgyER1ZtRvb/Z2E3AKlaQXTNhWwFBpzdFUKxUC47s5MgzIpABSmyhVbS3H5o9l4FTHpmtj80IUbUsAgIVMqVRwDjpzmLfR6jW7e9v7j7b2O2l3SL2+NBSYuNvejYeq6JWandC1+6cmwdIAHACg216ZKvRp+7E4MzvyR8ufr68u1SvVtFK59OpXv/TNr8CTThoNP7z9aTmzej+7WX71eUvlZkaPsWL6o7ffTlxvtrYwUStFYY8gbwAk8Ea1yrPMdgSQq6msUzVEWV6YrldHCrm85xeUZqlRGaHNkJQGjWRQMKfV3N1rHSwd7OzudIqF2ePHZ9Xu/X/zwU/2SdKgM+aPBIHUSjI1cG7XrG8+DfvgyNzJWKbBfiAu3LjoiEF71r29vNWNe3/wD/5eubd1/6PVzY7Y7OBU/UT51edhFzY68tSRi6cxXH/y2Z3ttZoYk1rHUZ8YQ2bHIuowyxRzOUTLdi3hVLxSbfIo4zZDwZBSrREZY0SkpNRoGAfBydrYbm3vb2y31w8PB1EEl6+9cgTnHI7/V/dftKLhSN5HsBh65ZIVJzvLt+/94PtvfevbLzMdstLYB/fWC8UJMXHh5fGHD9n1C9HhGw+3B5P2+B/+izfjlDopabfeb6r//L//X37zK199cO/ud7/6tfbizfPTx9eaS3ub925RZ3J60oAAA5wMAGokXikBgmGAtmMJbhRI/bQbBg5EQGAIQABDDriz9mRlZ2ezvdPq7MapGcYySHef+ercz/7mT02v47iuADA65YiD3sB3GGfDP379773xk39k5XMZeBZ4C1Mg3vrRe/OlsYPPPq6V6qWksnnQHStXxgt8+WBtudlNB/0//cHK4rt/PD9+Jlbl77x2XR9ucms5S/pbu8ogHx3T2hjkQgHTWtvMKpd8ixEHMlpxbkuphGVLZRQQgiGDjJADrWyubW6u7Lb3mu1mloQ6kXIw/P1/+F/9+L8dloOWyLl5QK41mNT2ndPnnomC1tbGukwOOgeaDSrMm5uYOvW9v/O3xMu/9T0INueDG3u/+OzRe7dSO5ho1KYEVevnyyO9ZrObpjqM9L2V+5+uPHr9wz8cr/oGmCbOkQ4ON5FJYAY4Y5y7lugPBhrNSClvAWgyGqUxRisltQbOBDIERILNtZWltZWDzsFhtzlMYh0NZRDKIChqzu1iVmHChBWltSYO2vVAePZoeb41CNZ3d2zuM84npycwJ95/8IF4GhVEYcJPPPfg//xZzrXzI8XTZ88+WFx02lEQJkdOng3bA0pae72tg7V4sO1blpsrVbhrMx1Gg8Mk55R8PxqGgGiQcYYDAF4sABGRYsiUkoIhAhoptcLltbXd7dWD9sFBp5kmYRqnWRhlYTgI+uX6vGPyjRI+WL6VaCIDLihPZOM5J5QYRkmtUkkDOTk5OT0zMRyy5oMPRGtz8cNH9x89vn/77oMnu1uWgdWl1X/14x+XHM0zEUixtrN8aW5m3JqT1rF//cafDIIgE3E/DvJqvOL6HmSt/T2d6nx1pFhXDBk30mSxUapSqnAwT/+roAYwGsisr248WV3v9lvtQSuII5VEUb/Xax2qJA3SjHm9hUYxGHYUmFhlHHkY65zIpYepKE6NN44OmIohDHuHrcOV6fqkPWiLv/8//N3Vra3BMAyGcdlxfaeELHfy5Mhg9164FxIXg93lvXz60dqhzCwiXvBttFio00G7x3wnbxkFQaKgApyEJZAxLBlGhlkETqXogc4YolRKKrmxub6xsdnv9YJ+S2chKpUEg7DXJp2Q0YKLJOqubw/zrg2MhM645cRxttEeZE52xK9fXLA+7K4MC54QbHC4vJbs5Ysl8d3vvPDxL26//d6d0ZGi53mMceCi125W3HKtXtBO5d7yg71WrwkGsqCIwmiWJINYRYrLgdIciqVyOUeJbjeBAWdASDVe1xgBEGcl33GNSjOdrm5sLq+tD8IwCwNB5ArLqOQwOMiiSGaGIbM4J8OI5fx6UaqOh/4gNommzXY/rQxnTLJQLd9ycq4/W3EbVTd5sH2PamNiYc4arFfZ+YsF2948bO73DzOS+53+8VNnLMc83utEwKYy/Uy9WrowPX3q4oMnmwfdvWZ3N4ilVCCVHISp1CaRCTCwbcGRMbTKFc10nBMiS4zgcmNzaXNrLxxEcRjMlgrz5fHF3uH9Zk+JLIpDYAVANFoJ5uWKo/mRvEk343QotYkMuMBZEteKbq1WrfmF0fLJSuFs0T/c2Htct12Rn/+rNwafzopP0/2+K71hLwyNLriFkcp4lO5ZHg1N7j/8tb99Nae3c2qFWdXG5OLm8saW3+kOWt1Bpx91+wdZlnOyHLfdfL9nAzOGpMqoVKJ0j1u81ek2Dw7iYZxGKTPZ9dPzfG+lX9Hb7hQY4cHBxm4zkdpiDGWSK9r5kSoMa/IgkVpZ+QICY2mrXhqsrqzWfbG8fPfqN77wZOV2nmfdjVXx/ofO+x8uXZrmdnlkp8V74GUmct3i1n6nIBiofoW8zxazxguze8GjdnCwNuhtBF2TpTlL5G2hbHR9rpJYWG4Whgkak2aJVFpDOMjyeRz0toNemmYsy6RgwmLy8/ufnK2LQi49M3L0zo5a2XscDCMtLIWkmCITzYzWPn2YbLc7jjfievlWuxemh53evWBja603+Gh52PvX3z8zyxzH3F9cEc78es4+9nh3t9t+vLG3yFmsZSp0vLXf5SazSDYcJ6Tm51HupcuX73//n7dlMrRppMhVh7lYvXBydqZRXH28en9lWw7pxIkz45ZYC/t7w4FirBslJkpy3EbhTM2Ok04KuYXv/Pr3rPbmL5/cyYNqVNXNqBUONeRQMEYWA0Nby0+ieDixMJtmotUOk0Ra3lS353m8vLz7WNfmenHQO4icqjsyOfV/A/3TP5nhF2aMAAAAAElFTkSuQmCC\\n\", \"height\": 66, \"channels\": 3, \"width\": 64, \"type\": \"image\", \"id\": 704571096}, {\"format\": \"png\", \"value\": \"image/png;base64,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\\n\", \"height\": 36, \"channels\": 3, \"width\": 35, \"type\": \"image\", \"id\": 704571152}, {\"format\": \"png\", \"value\": \"image/png;base64,iVBORw0KGgoAAAANSUhEUgAAABwAAAAdCAIAAAA2M5tmAAAEj0lEQVR4nEVW0bLcyAqTgLZncnLv1v7/dybH7m6kffBk11V+owsBkoB//fU3QAuEGAADIADJWWXJFgDAf37bJiMiJEkdJECADAIORpGUYTjIiGjJdpAkWw0pSJAGAVgNm5+sIhkkHhQkbMCyCgBJw2RIT4BlA3giSQo0SSCSsGE/YbYNPt/zQkYEK/NYewGwxQgYjLD9JCMjoyIyz1N7W4JtPUkFtyQbMkhaBtB2AQk0IAOwyDAIojKrxhjHcb4R5fjTbMPGdd33/Ut9V2S3pZZMwAbgAmQIhGEAhEicr69jvKuyxngwC/9hAfn+8XXP74iyFAEj3P/Ok9W9CAN+YAZ9vs/z/UW+RsWTD0AAACKzdwO8rzuibIE2nJlAPGMMRkkGTJhEEj9eX8f7p6MyKLdhGWQAJtGyWfd97XV3LwIGyTCQFXuLptUF0HYECRzncbx/kq8IkgAJKQwAJm3DWLPXWnteARsIkozdG3BVtdGtIj50O8Y4zhciQa41W0uWu88xcgwjyZzzuu95z0trJkwSGWOM93gbec8rsoGoh/ZkZh1RJ7Lm6jnvva/uJnDf36/X+Xr/f62ea+71y2sGaJgg7Mzj9f6aO7ymiagsAIQjUFVRx7Jnz3YbeL+/gJzrvucOXttxz1trjYgax+qGVBmZYTpHxBitZXcBAMFAVhnRFtze6zzGzx//u27JnNev67p3S1oBZJaNzGLA3rIYgDVGaY/eDlskI5NBwQK6/T5f56i9ZlXtvaTdvQkHEOTDpHGcx/EjmLYFg5DdEsDgR+BgMIhiZI7f13XdF+zr+1JvawcfM4CNDI6R43gxTjP/qAaj6jzOYFQQGRERAsmgnFkz8rq/57WF0d4wbJOUFe5RrzrezkJbVgAPt3rvvZatAGAJQJBPSgkEI5JBafaeMGDDIhzBGkfkGTk+pmcHYLvGqDFsB8DHIi3ZlmU3ycxhsKoyk4DVtiIiM58ZyCJB4HkLYK6195YUMgz23pADCJhut3qboO3MZETbbTsCYDAgBSDJ5KdWOyK6G49Jy+g25CD36r2svYNtMCJWt93jOPI4G8ace87KnGva8tNPhI25ltSwH+3TgmR0j+N1X9+7FVwZ2VtyV7AijnEoYiN/zQt7PguDQNUJ5t7S2lATLjzohb3uyPju2d4IdsPaBnKMJN/nq47zlvI4lrXvawQr6xyjxjHl3u3esACU7QYs3esOqIUwmQGe1spEVp3nu863zJGVjMrk+weNYGRwSbLnnOqG9Tg/DbQ912aLkRFlmkkzjqPGOMd5boAgJULPriVIxpYEfl+/17qIx/xRMoKQ9FhOWPDOSsJROcY4Xy+BZLqfNSyAQIDsVkvXda/rG97x2TpRgGXYeuwRtmS2K/McR42zZVNCf46Jh5pA95L1fd3rntDGZ0nxQ6mnu8af3QF0mwAjJWZSdqCfko2Qvbu751rXvKdlq/81B5D1HDLPZQDGI/MMSP37+zeZVZlVIIOULOP+KGfBDX0IHhHPcQGgnloiIrNs2gYoWy3JAOekAfIB8cgSlqRNmE+25/h5guB/AFyL2zkijVnlAAAAAElFTkSuQmCC\\n\", \"height\": 29, \"channels\": 3, \"width\": 28, \"type\": \"image\", \"id\": 704571208}, {\"format\": \"png\", \"value\": \"image/png;base64,iVBORw0KGgoAAAANSUhEUgAAABYAAAAVCAIAAADNQonCAAAET0lEQVR4nAXBSXMbRRQA4Pde9/TMSGPJlkbWFjsxipckOHH2DYqQS1hOXIATJ678Jw78AS4Ul5zgEG4pClKQVIjj2E68RLZlaTQz3f0e34fXrp0HFhIOFAZK59YWzlW0TgKy4oS0ZfEiAaEhQgBhyZlLARABIW+9BudIoWe2pQA4ARDAwnv2FsHHkalUZgr2ih2JJ2FENtUkc846l+cus6ydd6GiahwXhWMRFhFhBEGihlZLc6nMdbYno+PDPc+iUEJS46IoAJz3QIrZkQARBuI4DAKjdaBIISEqAW4YXG82V7uLUTgLkjirSACsc46nlgsreek8s9aki8Ll7JVWSikB8SLEYjT30lq/2Xz2enfAgQ9bL7KJkyxkcTrwltkDMwRaE7IAoBeY5mVZWhYQEPaunZ5pNwanByfl1n9LxfFSQ6laOLI+E3KgUNA5Ka0vS6uZRYBNYEopiRQzA0AnMhfi2Rk3MzzcDuuV3eKo8HKpHr+Dxv5o7PJyWjjxAsxKkUYAZnHWEZH3HhWSgm6sL1a0dpPWyvqlTz5/8uKvx49/aVgoTPpWyzg7YBZ0rh5XQCntkax4AFHCKBxrEyvpzFbq1eBkWrZX1pk6nz28eLj1/s2rl2+LHIJM6aFhNlGstfYsOnfOOQaESJEBrpAsNPpL3UE+GnljcpPtD5+8O3AbK/Uo4/3RuFoYm81om3lfTrwnJCIiRBIvrvQA0DbqcpK6fZ6MJe30fZhtvvvtj6c/91bruu2X2uWt2WC5dcahVpoIJVBIIqgpAA+2ZATdCauLbtyAg5vX17/4/geru1v7tdsff9tdu7d27+vp+3Tga8utejKXqIDCIABBbR07y95DFVQNtQ4iqRsMpX/jMqQL9x99t7dXafdXLcxduf/N5mb1919/nMbHi42ZI2NHE1uOS8qLorDWsg3RfpDO9/orUG/SfLO+NoBWeHT4vH+WUA9zOIIENz66fevhp9NpUVc1Dc2pD60AIYBCUGLPzsZX210zkeHu3o17t2FtAAB5E0fu1enh33GcQwJpb36+31tsd+dVEkPDexMFhhBAIyRReG6uPu9OoumbB3funrv/FUByCvB0f3jq1fDtjq6AwLTah/NrV851rq+mvUG30molYYCEiBXCbmSqkTlxJ+lCtHbnLkSLAAF62D442j7Onr3dsZMDhAkw9C8MVq58uTOc+NPta61kIZ0lEE4UDBrtapQ2FlbThWWQKkQA22PwPBXaOc7C9vIkq2XPd4DdaSbrNy9t3PmIx0G4n1exprXwmUp0tdkmbw439z5cWoBqZ/enp73VxvTlnw+Eoo2bYV7kz96jGe3987rwta3nB5WT07miklTNMQqu9Ocf9VqX0TCFZHRgAoEYsQqSCeQsDCIowiIAACDsDfvQuyx30zip/zszqx3gDkCr27LMlqPRmJtphDhC1IqSQAWIChEEGAC9c+zBOnZeSIUjXX+1N/kffdByd9gsSKQAAAAASUVORK5CYII=\\n\", \"height\": 21, \"channels\": 3, \"width\": 22, \"type\": \"image\", \"id\": 704571264}, {\"format\": \"png\", \"value\": \"image/png;base64,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\\n\", \"height\": 60, \"channels\": 3, \"width\": 55, \"type\": \"image\", \"id\": 704571320}, {\"format\": \"png\", \"value\": \"image/png;base64,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\\n\", \"height\": 36, \"channels\": 3, \"width\": 36, \"type\": \"image\", \"id\": 704571376}, {\"format\": \"png\", \"value\": \"image/png;base64,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\\n\", \"height\": 28, \"channels\": 3, \"width\": 28, \"type\": \"image\", \"id\": 704571432}], \"selected_variable\": {\"name\": [\"<SArray>\"], \"dtype\": \"Image\", \"view_component\": \"Images\", \"view_file\": \"sarray\", \"descriptives\": {\"rows\": 12630}, \"type\": \"SArray\", \"view_components\": [\"Images\"]}}, e);\n",
       "                });\n",
       "            })();\n",
       "        "
      ]
     },
     "metadata": {},
     "output_type": "display_data"
    }
   ],
   "source": [
    "gl.canvas.set_target('ipynb')\n",
    "test_ts['image'].show()"
   ]
  },
  {
   "cell_type": "code",
   "execution_count": null,
   "metadata": {
    "collapsed": true
   },
   "outputs": [],
   "source": [
    "import graphlab\n",
    ">>> train_ts['image'] = graphlab.image_analysis.resize(train_ts['image'], 30, 30, 1)\n",
    ">>> valid_ts['image'] = graphlab.image_analysis.resize(valid_ts['image'], 30, 30, 1)"
   ]
  },
  {
   "cell_type": "code",
   "execution_count": 6,
   "metadata": {
    "collapsed": false
   },
   "outputs": [],
   "source": [
    "import graphlab\n",
    ">>> test_ts['image'] = graphlab.image_analysis.resize(test_ts['image'], 30, 30, 1)"
   ]
  },
  {
   "cell_type": "code",
   "execution_count": null,
   "metadata": {
    "collapsed": true
   },
   "outputs": [],
   "source": [
    "train_ts['image'].show()"
   ]
  },
  {
   "cell_type": "code",
   "execution_count": 7,
   "metadata": {
    "collapsed": false
   },
   "outputs": [
    {
     "data": {
      "application/javascript": [
       "$(\"head\").append($(\"<link/>\").attr({\n",
       "  rel:  \"stylesheet\",\n",
       "  type: \"text/css\",\n",
       "  href: \"//cdnjs.cloudflare.com/ajax/libs/font-awesome/4.1.0/css/font-awesome.min.css\"\n",
       "}));\n",
       "$(\"head\").append($(\"<link/>\").attr({\n",
       "  rel:  \"stylesheet\",\n",
       "  type: \"text/css\",\n",
       "  href: \"//dato.com/files/canvas/1.8.3/css/canvas.css\"\n",
       "}));\n",
       "\n",
       "            (function(){\n",
       "\n",
       "                var e = null;\n",
       "                if (typeof element == 'undefined') {\n",
       "                    var scripts = document.getElementsByTagName('script');\n",
       "                    var thisScriptTag = scripts[scripts.length-1];\n",
       "                    var parentDiv = thisScriptTag.parentNode;\n",
       "                    e = document.createElement('div');\n",
       "                    parentDiv.appendChild(e);\n",
       "                } else {\n",
       "                    e = element[0];\n",
       "                }\n",
       "\n",
       "                if (typeof requirejs !== 'undefined') {\n",
       "                    // disable load timeout; ipython_app.js is large and can take a while to load.\n",
       "                    requirejs.config({waitSeconds: 0});\n",
       "                }\n",
       "\n",
       "                require(['//dato.com/files/canvas/1.8.3/js/ipython_app.js'], function(IPythonApp){\n",
       "                    var app = new IPythonApp();\n",
       "                    app.attachView('sarray','Images', {\"ipython\": true, \"rows\": [{\"format\": \"png\", \"value\": \"image/png;base64,iVBORw0KGgoAAAANSUhEUgAAAB4AAAAeCAAAAAAeW/F+AAABJUlEQVQokY3Sy24TQRAF0NPTPRPbYzsYK5LNBoGQEGTP//8Bm3wAOxKQIUR4sD2PZpM1Te2PdKtuhdvJJEomHGWtpV42CmIag4wRQYsaTCaTpvLPSUbZoJIk0dwo44+LpC7pLsuyIFlYOpkbBL3fFlJJnyCqBEw6laVJllRySYcgqCQBgxs/XWk0BnVZJ4IkabVW1mq/zNQqjbGkY0B+TjqI3vjmoMa5fLU+PO99EeytHXQqrd5jOfmJhGhub+urHz76LEqivqQzvRe22Ll2Z+utkzuTxqn4LSQzXNlY++Tg4oOjL7KuqCuNweCdjdGDWpa99uTJUNTBtZW994hoDKKlnbrcWHhpg1calc7Z5EZlbeXhP/peCBrBzL3orPPd2tHOo/u/4K1hLuk3NKIAAAAASUVORK5CYII=\\n\", \"height\": 30, \"channels\": 1, \"width\": 30, \"type\": \"image\", \"id\": 431904808}, {\"format\": \"png\", \"value\": \"image/png;base64,iVBORw0KGgoAAAANSUhEUgAAAB4AAAAeCAAAAAAeW/F+AAABLUlEQVQokYXRSW7bQBBA0cfmIIrU6AiRY8Dr5P53yQUMrzxIFhRbojh0Ftmna/9QhfrZPhMRkStlMqPRaIAii6JCobFWKo0GHzoXN1Pw3ymw0LiqvOsEuYU7n1ZOzikda0ujEiutheigV2FjTOn5XI+djUcPBqM3Lw6+ZBYpHYJC5buNpZNJYS/qBSezhM5+tUZLmSCKWq2zTztHV3lqdzkJtloXo1yuV9gIar0spa+Ne98MaisLTy5KQalxMaR0Vfiwt3Q0eZfbmgxKF0W69zAZRDecZXoPDi7O6NKXh0HuaKf2LCg8oTPpdeYp3c9kDmo//BSVKje93zozIfm1zBrPgke11lXuVa9Q+ZPqfV9Yawwmd7Yqoxdvmn/dU3pXqtWWok4UMWmtnJx8/QWk2HGA7vkcPwAAAABJRU5ErkJggg==\\n\", \"height\": 30, \"channels\": 1, \"width\": 30, \"type\": \"image\", \"id\": 704572496}, {\"format\": \"png\", \"value\": \"image/png;base64,iVBORw0KGgoAAAANSUhEUgAAAB4AAAAeCAAAAAAeW/F+AAABz0lEQVQokYWSv2tTURTHP99773tNqEabiq1tDEgdXKpDQUGluCji4CJZdPDfE6XgYBGHDi0Ei0UhkEEERRzEJCAxNml+vXccXmIVlJzlwPnAud/v+V4ZAFjKwT7LJS6s8ke5SU+TZK/T2Wq1/qK/saSbuVzcbD75J/5PafJ2ekDtLYcj+mc4e4/rXsfYSPde0K3jQBA7KhtlFqc4YWu7QyuDIEg2b7FRhIBBlZetQxyYIUC4XaNcnCktAK+qtDs6nhkQvebcGi5gNNo05UgzJsyQie0CjwLw8R3ewCbKMIEZ4yp3wrDO52yjUsxlDHMpwyOas6QN9jGQA/NTHwHvEy42aIThKewqigJRTBQRRfiAd6AOtdCvMX+Nnjk8KMGEPD51HPXZnJXY9x12y5QyT5aC8B7MoMGX8OY9vTzfNCRpUBiQjBgPGI97rH7iscZPeX6CupveM7NhMtIiN4I/T6FObNnNDDTpxOLyzMRK5Bf4aTadJDgHJtJlyoEVrnxl1M0WgoQzkJhfYSngeQjP/AhnSCASIeY4uc5SwDG3yKVaRF+TQL2hOPCggmZKE6zzw9XwCaZMHLmowm2X/TWtMcjn+NCl7RDYaRbu3yUAvwAQH6xhawmRoAAAAABJRU5ErkJggg==\\n\", \"height\": 30, \"channels\": 1, \"width\": 30, \"type\": \"image\", \"id\": 704572440}, {\"format\": \"png\", \"value\": \"image/png;base64,iVBORw0KGgoAAAANSUhEUgAAAB4AAAAeCAAAAAAeW/F+AAABzElEQVQokYXQy24UVxSF4e+cOtWXKhvaXBwMUmQkJJRBYMBj5YVxTBAMEhwwTtvt6u7quhwGnUzTe7a0pbV+/eG3K43Xv3vv3JuvCt++OfZEPyjFNARI3ojer9E9MtOylZQJyDq37gaDuDI3lzrZcfS/l2IUrEZXliJB7rXW6onGxzQUuL6xFAWiHI1aRVBKKReiv24VEIz70mhbmMlpOdOpn7uQjRkh7GEbyfwQWn2v88tC57M8ymRBloONaRrX1s567yx82Nj+ByEb5OLtVdv0TvK0OH2qnY/lsJidndzHLpBTum0kF42fPfDrA5/sSi9c2RJ1h9D+6TXSH7bOTV6pXc+d+uICxlR/F+TBZ6275176qTN65eZaNqSjKMsjvmgapRdkDz2+kU0PbZcFQlbIVnOXunM7tWcfZH0qkyAHo8DKa892iM5O/W2ebmdK/V5kDJ7YVAg2L92p0nKi1P9rOriUp5JC9930sJbJzNp6H/LGpUDYq1g4KqapTakd9u9xHPo8DH3f932VqmKZ2j9VTlbuEYKwV8RxbTSkzWCnqA3WYpCJKE1LrfIQWtqIvh55aqaZ2EhJpTISTNKGnZhVHhknBvVCZaffwg/jFNCqtJt/IQAAAABJRU5ErkJggg==\\n\", \"height\": 30, \"channels\": 1, \"width\": 30, \"type\": \"image\", \"id\": 704569584}, {\"format\": \"png\", \"value\": \"image/png;base64,iVBORw0KGgoAAAANSUhEUgAAAB4AAAAeCAAAAAAeW/F+AAABN0lEQVQokY3TzXLTQBDE8d+sZFkmCUVCDrwK7/8s3KAqFccfWnl3OBiuiLl3/6d6euJ70+BZ8zD64fOquel7gzrmQeg7s3Q72rvMwiBD6sU/Z+xpUot3VWt2alWMhoaypX5aNePZh6KMRpG61fqsWsbjQVMXgZdX1frhrGknYb9lXoqrSnrx8smrd8JFXkweN1db3CTfvJoPmsMN6TbguBlLF0y+SseTnfNns6v9opvH8SrEwS+T+kXz1jwIZ1j/I/NUFumkPUnx5qekoW6phdCvFmFMIdKiaynvqSUpFTqig6SILfMhEIEgESklIbbVlxCi/eWFO1o0O8PmvSn3pt/xf6BiNIhyiZimXkpmZtRailLoXUSELfPb1aOoVulh9q4twqDPhu0vmU44DBo+zgZ1FQbTHn4DD2ySaFtq/9UAAAAASUVORK5CYII=\\n\", \"height\": 30, \"channels\": 1, \"width\": 30, \"type\": \"image\", \"id\": 704571432}, {\"format\": \"png\", \"value\": \"image/png;base64,iVBORw0KGgoAAAANSUhEUgAAAB4AAAAeCAAAAAAeW/F+AAAB7UlEQVQokSXQS5ojNRSE0T+upEzb5aZ4TNj/4hgC3f2VH5lSBAPOEo7+fPiTqByV2tdz3yFQgUBnYYkgWWc2zu40hQB0ZDWC8GkDc1YFJICuoETxY7/fUqWZ9+uh0RBJpxaRXvn1NqIKLd+uPExB1FGi+f5jDAQWVFbdv1ZrpVSM2nsfPSQRyKc9m7OQOiKP38cQoQDI1zxhXz7tsrTG2AhCNOKcC3o17KNn9ONzqwSyiPjxDq1U1+2vuvYa5oN1VGy5dl4SRNnXsPpl+ltj/kyE0ubPokq5XamPf7ZazgUsqhTpq6q6ws3UNlaP3a0ywTrWpqa17rezULs8a4MoAgxn0lhz6jFjM1qfUiRIcZxF49D1F3S+bpHoGKKAmZLaueq+Ik5XpG5CqlLnLMSxqv8NiFWZsyYE0bJEIaX/PxvHZ3U3Hh8L1u3gDJffHmxqmXPPfLnHVa5656kEPpVxRcmKFumC75/9aEHWfu25DCXZdtd3ZinoPVfJUb/v4dKSQrRTPd24P6dsabvuARGB9Xp4jo5c2wxV7C0yqWiV/Xyb1YFz1NHSxoUEBcI6ni9W1BFaI7OrR4HCgfPrzTTqfZUxww9XKZV4rn+ltcDpo5LEXXrN7drW6fywKmWrV3+PpDVeKus4RMxqYFpz/B+/d3B5G4MlmwAAAABJRU5ErkJggg==\\n\", \"height\": 30, \"channels\": 1, \"width\": 30, \"type\": \"image\", \"id\": 704569640}, {\"format\": \"png\", \"value\": \"image/png;base64,iVBORw0KGgoAAAANSUhEUgAAAB4AAAAeCAAAAAAeW/F+AAACRUlEQVQokYWRW29MURiGn7XWt/bae89MmTZo69SKQxuHoiQEcSXEjQvX/pI/ISLhRpSEiHDhEESow1RvpEpV1dlMZ8/M3mu5UDeCPldv8ibv9ySfCiwyO7O5C4BwaazKysGeGhPLZbEMvJse+RWV6ZtExaVe8oHfdUHp+9SmX3lwbhtv4tyywWv+i1q8Xaf+YvwD812O6rKR3Uzdz3voW6tyrYDGFy5fDQVpuUmWVA5xYPr1Rz5vVGPlHXS/rD3gSSIpJaPoLDMZQ7uyaZ6+Mv2lFVnjzt3HM7FLEomNmMTGkfume5d3f2tL91SdNa+nVhLFCTiliKJSgXpV2cbh+SXMpVQd5tFsX4wSZRArSJoWeP0sZu+AdPonGa848FprtCTEidZ0dKXG2v3SKp5SdWIIPi+wDvLMdQjWWKZ3ynp/nIc9zhOKxgj3Sop1b9e8o2eulKESNd7Y/6dP4Af1+cJz4+RS5pPDf/lDF67/R0plhmYt/JvnZqRXN5O/zAYFdaNmO6fxXgQbFR5rLRK5BvXheoQ+ItdObOfiqopgvTKEdotA1mRhItUci5Yyb6cJg7GCjrJCXhQEr4Q4VatpfZKaHeVDMy/IrWg6weOVjQg+bjD61qwyB7vNbNDGWaWVEiU4l7quNDo6tP2M+PMtTsmthJAVgg5C2ZdTbBjew5Xb0rYPGdrrHxCsBS8pkRYFo0NjnF1YylzQXJ87oHjZ/hrTiSJEEsXWjTfP8nVBXLnN+0/qMG9WMIfOCsy+6gRbzl3IaLmfMnLvn0RsaHAAAAAASUVORK5CYII=\\n\", \"height\": 30, \"channels\": 1, \"width\": 30, \"type\": \"image\", \"id\": 705578264}, {\"format\": \"png\", \"value\": \"image/png;base64,iVBORw0KGgoAAAANSUhEUgAAAB4AAAAeCAAAAAAeW/F+AAABdklEQVQokYXSu1LbUBSF4e/ogi3ABszEMMOkSpGHyAvk9emo0jE44WIk27J1O0qTOtr9/8+stXb4UZi5ftQYhSBAIhpHwZB9e1BZVp4UujO5LmhFiMbEfy/7+e5CVVvJVBnmudzBoTcKU/TjylFspXpZoaXXC+atRsgWe6OXTjBYX8mkW6XGmMr1U/Jt7sWG1NrNKDXcmtvbHeV22XMnOkQLl+rBKDROgqI2003K93qnO6lfyktLfRQN1lu98yl60TsK146i+0+dzwdLT85XPhRZPXcUuLEUKw8Ol4JG2wuSKfkpEYRUIvocBenBrcxAIOtHo1C51ymXEovaIDU0TC+WnTmz2bpQcC1x9ebZ2tgKjlP0152jvFf6kA0SsztfJDadwiH7vvFbfLdzYb3UC6nRqzIXpl+xibbeEke8niuEWqcxO1M6ZKcbtS4IGrFUCSSCtLKfLjVZGQ2DaG4xos+1Wh+dIE7R/R+1IQpau9ZcEpX8y/QXexqxBTPYWewAAAAASUVORK5CYII=\\n\", \"height\": 30, \"channels\": 1, \"width\": 30, \"type\": \"image\", \"id\": 705578096}, {\"format\": \"png\", \"value\": \"image/png;base64,iVBORw0KGgoAAAANSUhEUgAAAB4AAAAeCAAAAAAeW/F+AAACd0lEQVQokYWSS08TUQCFv3vntjOlMH1AgRYFedYKaEKiJJpoCYluXJgY/4crf4Z7d0Y3rlAW4gbBhYEoiQ+MoAKiUKigUloLZdqZuS6IW/vtTs7inJwcMao19u3rHOMtzJEdWd6jkGoI8O6NMn0fXeMfZoXhWnobZ63YxomEanLClL5pEABiy8ERhLAD/me2IpL/ogYPXKzVV6PHsrTdDuV4hYO+Sw7OTyObUo3BsrfzuRoyy9VStCmRC4mI1WkTUFZEKaOX9d28gZl88YFK0UCb+iJdzTHQQsUjEq0TbSQmPgiMkMlRwXlEZ9+FXrSoVy0qFSE/FmNpMd3OcEZDYW+DJ7GZCkO+KrRI1MjQPG+vXbEJIyAe70ZP2a9JtBnnB1whMx8X8jeuNloBAaBdQ/SYC2062K7GEmvEV3IJ0odbVQ5b+llftmcZy+7PccqtVy2b38A+lElaN3c1tVwPtWI2xMNz2VWm40pYisTs/jjNkaqJ71b56hoj3D+KNrH9Q2Iq5W9cy2QwTK2/PAgG844GWQhEozXqZEssITwxbRgIvbJyz/O8Bk9oHTwiEpE5hZAoMgqQ/dx6WiG8KQRmlSJGUiEFRnLpE6P5xiYunHURxfU0rqzuIx0FklKH/ZKBbTnA6uM7ZI2P89Ba/oNqqTcLWlM+M2Hy89RkmcUbJjr7ZZPx1OQvupJC65e4A3PTjN1EoAC0BvFiopv0eQUCzxvcYda6HD62hfB4/iweozum2BGIo9AI4ZlcO0NpYHfnN1M9fh8ddc90N3Qa4ditBIPvvzNnWtSqNZdUrOckWqoOq4axVzGRwyWfg7KPYetOUnvJP8R//QVyA/VAoG9S1QAAAABJRU5ErkJggg==\\n\", \"height\": 30, \"channels\": 1, \"width\": 30, \"type\": \"image\", \"id\": 705577984}, {\"format\": \"png\", \"value\": \"image/png;base64,iVBORw0KGgoAAAANSUhEUgAAAB4AAAAeCAAAAAAeW/F+AAABeklEQVQokY2SSZLUQBAEPZeS1C2xHXgf38c4YdNSa6mqTA7cEfEADwu3kB9BL4U4EgrFTmpFbeLza0M9QI4DAQyiBkwM58D7NEL5Z7wJnh0xpZx4n+hB842IkeY0ZAiWFrRkj4NwvAsZlXIHF4Ec2WvSQGhko5XC4xVcHg0rF1Ubw4iUiwq77bhfhHtiVyVz4akYE60iu9AV5K6bgpAwL0RyepLGJ32TOdBcjLIms39wgn4x9oNpSbZhoN3Bs3D2ifm1MQ1orLyV2mf6bohHUhnRx5tvIO1k/M7HOiPasFt4ggAn/ITPj2RqFAFXMM8kMSgLw8m2AdBSKQF5q0XQXhnKAAPvr79RUIyGgktABlyN+UWX5HgQUmkp92eKwGpF6sYbFnlw/iLHRk+lO5UpGx+LcgxMOmMnz+dKHY3ukYTAW2cmQYDlia4rbgfXfwzrIbAmT0USEtZdsZ6Yq9Bd6bmSgWnSL7oaEYnfHjnJFpgqf32jilsjI+l/AKE/2T7sT4K/AAAAAElFTkSuQmCC\\n\", \"height\": 30, \"channels\": 1, \"width\": 30, \"type\": \"image\", \"id\": 705577424}, {\"format\": \"png\", \"value\": \"image/png;base64,iVBORw0KGgoAAAANSUhEUgAAAB4AAAAeCAAAAAAeW/F+AAACdElEQVQokS3EXW/jRBQG4Pc9M2PHCYnbbtVcoC0LaPcGiRU/hf+OxAUsEiDYqE2bD8eO7ZlzDhfLxfPw59+nVfM5VaOMsni3U5yXqC+roUp4vlEhNL+KhBur0zwvSh6p2fxN8k2+lHgeprraPFtTFTQ+5dxWrC7azfYaawYdRVcpdItilazmJI4xzeIRJa6UH45NiAEk6RA3QVCaR3OZU4iX65V0EoSDoIOO//FdbHkGCODLToBOB+GQH2K57SDryAihC2mBMBJyPPL9L1HypqNsRVwCXAAlQYu7k0jay+l0H3EmEaCEmUWCTrzAvvnXxXW4cV5JBc0CqS7OYDPqH8Hwdin3x3J8EJFAcXEhwfJp4sdfRUQtdHeQPwGSTgVgwEuPWC45i8dZb9d2cYE7QQEJ+4z00661JFJSHt4SfzkdNBIgngyPh3JJKmZZ6/0C3c4Ao6u79/8gxWEdQ5Jsk+v4Lex1BNzhAP4I3J4LIilBEacqP3r+ZIUEgv1W7GExuUy5E5uaueq7Nakz4Y7sPfBh7/OusA6taD5yieaM4x0J2N8j7ia1ZQyJIsvMmo02LfIeltmdgO+fWJ9mlqtEWyzqqq+HG+HOKH5wf9wVOxCMDDFp8fbFBr87MdZyfMI2DN5oqpa4iowqm77u07QQ7OjP8G0ffSnTPHoKW3FkyZuDatvhfBj4pi+DjJEsjQp59SLNvOTU1hgHpIfDNTYqkyzGq+gYrS0saLD/GiC/K5h6LRc5WqplE0LR5DVCuPSVu2CsY7XQTUP9apSRQU7DEJGSdrcNH59ug1FXp2ulUoV7RzthPWbLWT1sxmBTM6Q0SOJ8/Q+yxoB8jEcCRgAAAABJRU5ErkJggg==\\n\", \"height\": 30, \"channels\": 1, \"width\": 30, \"type\": \"image\", \"id\": 705578768}, {\"format\": \"png\", \"value\": \"image/png;base64,iVBORw0KGgoAAAANSUhEUgAAAB4AAAAeCAAAAAAeW/F+AAABfElEQVQokY3QTW7bSBSF0VPF4p8oGUGQpIF09tD731AMpDu2bIsWRbKqMuh5lDd/Bxdf+GfwGlwJhSyLUVOUrBQ1+er0Kl7EoN2w99pdDnLSRr+95NGYDIumlfb/8RItlV5N2+KMzvYmnR0tk+NKJevu4WG3jdJsriqzerYehEYt9rRXbXWd9Z3pwZvmxQtjUotyDy9JvLoefTw4MNlP0lk9yUVJKbhtugcxW0c3t+Jz9G9y2OW7WYJY9NGPo+Vvq+c3n3vdYohCWntbcWp8isZ3xdi7TIasEu7he2trfaB7dG21xsnciO9a6r3vWqRq/iJfNF/9J2ahmGYlqClEO4eb/ounR0lp1OoSCNzFo3bxcrSMPm0oLxQIu5DsmioXj0H8ZnZ595Glku8vt0vVfPKh5agaXk1P1p4iJFl3cHnyV6crJrnz/dk4WMr9qLLtJP5kcJjcrGfPg2GzBjWp9sUx+xlFglxNrW0T/iRLUK7Kg/aqFDS9w2qvAuEXF468aRzfjEcAAAAASUVORK5CYII=\\n\", \"height\": 30, \"channels\": 1, \"width\": 30, \"type\": \"image\", \"id\": 705577704}, {\"format\": \"png\", \"value\": \"image/png;base64,iVBORw0KGgoAAAANSUhEUgAAAB4AAAAeCAAAAAAeW/F+AAACW0lEQVQokYXRSXIbRxAF0J9Z2dXoCSCGAB100AprowhvHbr/KbTxwitNBikIBNBTdWWmb2C/Kzz6JbBqYAK7hwBIZE4JOTOrqrAsVogDK28bZoPTUjDOZVQGRM2xuDeoy9V4NwNi5AYhES0BAiUyHHYYh6vC3T33XqMWn9xIQFYsTXfHQCosYp5mG2CVx2QsLpn2u2GE+8N29wAfp5fXCYNVHMRD41QepzmwPb/fb0whso1e8z1ENxPkeqWmit+eY5kNpuY7A1LvdU6M/yRgD6r2hGN/meeibObX7+0OsaJRQhDjcn3Nxwf4p3GU4mP6+p3fAh42iVIzi6NMSdCA5bndBLmcDx++fkF5uI8WAzuKDO66jih2ZveEnT+GsHDFtoggxInQEbD5+690/DW7kjOMYsgZIuIOdkZx3q5u100JOAHqJeAs4k4wGMo/F+FvpxtlAsMwExzsroAPANXr+nLuHllnyVktZxUTJ42TX/ZY/zh3m/7lyst0UrQ+5EYmIZ6bIvcDVj/60zD8cfz85R/dY30fMFUmjDQWfj9hs0Ue3x/49+0Zj3i7ZjQwKcxTRXRC9a5z90C+29IFy3Vu2sstrEG5DTnwzzlyRe6mOL/2159tm97wP2OhMZ649ex+TdAC5Pbt81t/axodtaBjEFiznTCSioiopdkVVWO5p0BPBIO/A8Jtye6AAVShnn2ahUQoS6xRYy06DAYIUdth7ucUqJCVaVFVqwq2u3sFpxAcQP3CEUWUMiexaTEcKC83VbCEssawELGPkrklZuthTwLiZSYi2iMpmYP/BStbbyimNRvmAAAAAElFTkSuQmCC\\n\", \"height\": 30, \"channels\": 1, \"width\": 30, \"type\": \"image\", \"id\": 705578152}, {\"format\": \"png\", \"value\": \"image/png;base64,iVBORw0KGgoAAAANSUhEUgAAAB4AAAAeCAAAAAAeW/F+AAADZklEQVQokQXB309bVRwA8O/3nHPvbXvLpe3lR8tvRLbgNiYStjiQzDG3RGMWM12EuBlJND75pDGa6IMP+h/4oomPakw0ZtkUthh1y7KNoG6B0gKjg3a3pRRa6G3vbXvPOX4++BpA7zvxxkJaCdSbWCYQsmr6+TsnrluX/e8D0KcNz9k8jS/gxOwzpNHPM6ao3e14nOB9rxsE6EzCCE3P37/L9WTqTCNhvggeC/evF/zfRx5aMTpWHCxfU3t5IBVKL917c9IX0MmU/YD2X4JSYZkeL5Y+mo7SselXxhKJDwaJDiiquZZdL9oVbfex+MtBvZIx/DezicrnuqS0RXjHB2Dyyfz8xb0Ya1+rNj8OlJPhhaZPAqTOJYvJR0+RDhgO/803cVz18574yfDGW8MAWL1lRkOKteVdf3LVt9iJTFW4WO/DtakRDrT0D/FKGOuuW4OS7T+HgrU5Pu5rzb8xLpFsLzraAXN32lrrlYZdbRaSzk48b5Dc2+MeksxCPah4ngBhIvJyYPG/o+hYf/w7eiaIhP9WaecCJafBkNm+k2vNTwJQklo9NaVR9H7lBgGJBEgdVC9CLc/NrLJXv+6d0CRUl5jOOCJIAKjsAwZjubhTogO950JA3fv5IMgGlYCCUy6Aqc2kuossYqRbFDtrCFcTPk44UEKxIqTXYtqyQdJH3KTdFAtGJJeCEkoIRUnsPNEg6pc0Uqsx0BXmcFdQEAIbEqlNhrqYgJUNOpjM9ggeMYQrakiopExKIMc6KMq5jfdo8op729VqisEVrCASAbKsTjUBlH/fu4BM4kvhq6ofO2PbAoqE0UYlchShYc/ttg65dDL74yHtgcJEi+8ApEu8eutws8T8zeyhkY4Mcx7VQr3GX440Q927Eg949LAftdXb+Ss/Xd4ibE6xuzdmxr6iamebSaR6TAcpfkmWcp91wxaSaXP/i29gZ/ZO1iqQyNCo5tXFvcTFlXw1Yx9JsLRpQunZE58GkkLSCCOeJH8uWx97oHWej3zLLuVvvMsxdyEgdL9KDKSNWyvFTPu2E+xaPPUDPf2hvuTGi+gU3AJATV2+YVXiHii1wmGm7dHvQpjqWf/yZF8xXVcF21qxR2oHxQFzi55NdadZyk6QVHg7uRecudZkbZb7zFH6c53vdqylNpnzP0TmpOrBMxfjAAAAAElFTkSuQmCC\\n\", \"height\": 30, \"channels\": 1, \"width\": 30, \"type\": \"image\", \"id\": 705578320}, {\"format\": \"png\", \"value\": \"image/png;base64,iVBORw0KGgoAAAANSUhEUgAAAB4AAAAeCAAAAAAeW/F+AAABy0lEQVQokT2SwW4UQRBDn6urZzaJ4P9/EgQSm91Md5U5LMJXW5alZ50aNoCwFCF2gSxpB4EbwLb/ZVqAJEUoQYiGOREq6eYqK4hu6eZUc6TWsoUl+4ixyhaMCfJx2pcRDBDdnkIS4zAct67VAGAZsFIYsq089u5CkZNB7V1m9XSLlDm8qxnzPKWWqh8PU8ptjVQeV6Hz+1vq1R5Hyt19ulOMKmueA4wFmBt226nUOJ5GM+8vQ/Ggb7PKWEqNZTQifxoIvz3vuM6zn11TGcoLnbcmz941P68xeo+cVzfKjpLzNtbHkfzuUfH25h9f58ymIyQggvyYunYgRyPhSEwEoGgk9SIx0gvZxkTjF025xeC/YhqnC1My1H2/TwkUYbtLQWDAW6Y3OZEat8Uui3ADXXt4Vw5C9oXFLkkOWaIX/bxioph+Xr80VN2y011RXOOdUIQ5/Ln7SC0z1HqXckHkd5As2cDn3cRxdciOAbW+JF5TxP0OEW3GlDixXT0Uth1Vf7AiqzWmBOmm93ZH2c/Ho1HkvKQEa/lgiWuF5oVtSSOXsT6kdjCyul5XJXwzu2wrJQTeTO01Lo2OMbxtkNA3jIyJiAgjR/UXYCT+Am1uT4IfiT8gAAAAAElFTkSuQmCC\\n\", \"height\": 30, \"channels\": 1, \"width\": 30, \"type\": \"image\", \"id\": 705577648}, {\"format\": \"png\", \"value\": \"image/png;base64,iVBORw0KGgoAAAANSUhEUgAAAB4AAAAeCAAAAAAeW/F+AAABsUlEQVQokX2SO44lSQwDg5KyXhfa2PtfdKcqP+IYb+2lSxAIIKh/MBLQ1QawFU0HiAhhpRvULUm2aClA0IVQQwOSRdpgrDAdVQsHMkipa9ttTLtlXACWRdZ1hYT9PofoNqb4Ln8YNZBldL+BwwZqg6X7Jsog4vCGwYkV+TER9x0KY5D1rgOWwrhw6LojkBowc00gtKm9i4jxkRbdPQZ637klPG7eyHKoKtdkHd6fe621MZD3nlRBVJ3dcGtOea6s02RSdVygwj6M3+nnOUdJJrY89i4rZZ8PterfBmFdMI26CUmhyOd5+dMd4BhXhAzjiuB/U8pwkOJ5bVt2XREYx94OmgBDqLcNMTK/mkY5MG23VFSqO1JpCTVzd5ljoDHO0xHINKIVx4VPj3cfkI6v4b1yNUZe7cLtc70bhTvj0nznl/lsU7iXVgenqfi5zjgzizHOblOmZx8n6qzP5dTvr4M4nscU9toRInWNj2UkRPuZQFktQcIYP6hl0KGf1/rasnygxmhkIU7zzDZQGGwdFA47kM+ZzG79V39/2X9UKbnXPtCtsCmItNV0My2EuoEQgr9n3EtlrhxO3AAAAABJRU5ErkJggg==\\n\", \"height\": 30, \"channels\": 1, \"width\": 30, \"type\": \"image\", \"id\": 705578432}, {\"format\": \"png\", \"value\": \"image/png;base64,iVBORw0KGgoAAAANSUhEUgAAAB4AAAAeCAAAAAAeW/F+AAAB3ElEQVQokY3RyW4TURSE4f9ObbcHghIcTwljICyQghAIBBKwyg6x5RXZwgoJ9jwAYgdKHMiA4iiY2G677z2HN6CpB/iqpDL3FZxnWWbUEjYJzmEkIgqlF0uKCyCSIG8kFLAtlrFgaflnfMxoLBRRsHV6rXNOwfoFKVrUY0lZQhJozuBygSnJYmKZEqkKdwvEOxDwHdZHOe0jkjFEEYJX0CLgSQw6nJ2s0/nNJHiICfECQS1CmzXHuDUhdgnncxYiuKpuBLUJ69qsGe4+/cInaP65QGMT6xEMELJVWjNuul2O9ii8R/OAVOFlxHhL6G4ytXByyJ2CuJyTUsR6a5CyRqM7QW9h9w95vU9Z8xy4VL1cHVFqtAPsvOLz6Qtuz3nbGDCZOcTHSPQZIffcW2F3vIF5xs8P0JlcMKvCFwnNemw0c663+TYwlDWezD9QnybEY0lXrlGevGEI+eyUYY3eoE8RhKwKN4as4yieP8JERuUxj5W17a9MXcm5N452Pqf/sI5Rfo0nTC/B1g7vLjbIvAa6jSF9AmdN0rjP4oDh7AHH7/+jmxU29Qdb+Udu7LH6MjKqsS/fmds6aq5us2ICwVhEUQUBVIjLZvXfWtBLytlqwni8MaghpojLA6O/QuzYO7Qozv4AAAAASUVORK5CYII=\\n\", \"height\": 30, \"channels\": 1, \"width\": 30, \"type\": \"image\", \"id\": 705577480}, {\"format\": \"png\", \"value\": \"image/png;base64,iVBORw0KGgoAAAANSUhEUgAAAB4AAAAeCAAAAAAeW/F+AAACFElEQVQokTWRy2okRxRET9zMyqpW94hB4AcM8wPeGC/sjf//Y8bGaKzurq5X3vBC8jIIOMRDz5eY+j/lfN6uR5w/vV3rT5f57/M2n9Avf5Qfo5Xwrj7eHFn2jL5k7T/8ewz1S68l+9GX9nl7a3LcDrTZK6fI8nLf655N7WC+lBuLbRmiTd+ildPXl7r0x6l9Ktt13mRZBrytl3z0ypu+ljW0TP1m2ajtiUC0YRvI8vNjgdN2t4w0nksmQu5R9vp7cVymst4MktpT1NIzQCStPZcvwx7cD8m4Pg1QSt0QIof1W72U++1YsUQ9V5Bb4y6AfZrLC8yLgWhPQ6YyoZVVCBdHedJ2WIp6GTwv0v3R1UZsvNe6/eXDsiz5sQ3gZX0uWFh9iMfnIWUg87HYtty/78LGdt3IFFi+9hRIhrewAFO80g2QhlBdsipBgKjhtN4VyNLg9QBjMCWC/N/FiNpCkgBUMsAVg4RFogRspIhwhRxKGsYp9oWCeacZnx7VdtYVaDXq+PG4QVA4AvLIYmxABxL2e5jh0crJ2EOKbZl7WUtsB4CIGmsLIvDRDOnldaO/l0BDm9tvkZ1Q94gxdvZ3tEZfh/Kqs4XMGFtH+GOB2o5FYy9loqQhPVbbEkIx1TWqfaoVZXFK3lRHjoOoYq1Te/Xw5681uiQSIO9EZo7TeCnzzRr0PUzmxysqNVWjEmRcpvBj+Q+UoU/SyetrNgAAAABJRU5ErkJggg==\\n\", \"height\": 30, \"channels\": 1, \"width\": 30, \"type\": \"image\", \"id\": 705577368}, {\"format\": \"png\", \"value\": \"image/png;base64,iVBORw0KGgoAAAANSUhEUgAAAB4AAAAeCAAAAAAeW/F+AAACeElEQVQokQXB23IbVRAF0L379MyRRrIty3ZkJ4EXqKKK4on//wNe+IJQhBDixLEsz0ijc+tmLf7W3CRY0+q1puVS+mJwBNAcpo00uvbJXYZt503pTUozWF+bmjQ4K+uNXVw0s3Zuhe7VTLJRabBU74fh29f/XABjuLw0B1DQM2zpkO1N+7yH0wEBznPrSYO7qxvybrffjwQgIg73XH1Vqhih5ri5f/5WSeHl7ZDLPmers1x5raSa8eHpuRa72Ly5FYNdjeOUyynEoih8N6zasbj8vlyChQJDtX++FpGYU1NKP1Xabli6kZ41nxM2exSIi2lYxyfn3dtwOOdSHuTw4Xm1vl69hpoiqTKcieUt/zyUxvtrfTpoSeNFOXmKVA02N8QoSTms3ven+eHty2vuFslakKJ9KVzshrC43mjHls7v9Z1+7m6yNNOsbI5OOnr7a4xvNoUOURJ9lirQYC5UV/90lFNcmhlbRxc1tOCaIxCq+3p6fzcfEukOpVsnMEDLwrVkwS+/QsbxvHBWDbH0R7fOXJp7qaF4FJ6Xgq6fPPsElGJaTQ1a67jWx3GxOhz5PU64+jKiFHpITb1q5XSMj206hP1uU/7+98N5uzzWbGZUFCHrFG8ej6d8t1psX7rjbrs8VDNH4I+MIYlvfhhIUQcb6fgjJVm0lkUkayD2xxMAkk6CH8/J2Ysz3EqAuEu21Lk46KV9/DSD61hbUM0GCO11jvN1C+pf8v4F5Ho4GXr+nCAigbWRuojNp9IAXqyPc4DwJ69UImhyc6nuwb3rLsfZXRyK5sGAGmP1lt0dcnV1ekogzII2g8EaD9Kv5gGUdSnfJwNhRvsfJTCw+E58+CcAAAAASUVORK5CYII=\\n\", \"height\": 30, \"channels\": 1, \"width\": 30, \"type\": \"image\", \"id\": 705578488}, {\"format\": \"png\", \"value\": \"image/png;base64,iVBORw0KGgoAAAANSUhEUgAAAB4AAAAeCAAAAAAeW/F+AAAC7ElEQVQokYXRWW8bVRgG4Pc758zqie04nnTs1i1laxYhEBUISosUFKEUsdzBHb+PuyIQSysFgQKoQqhIgFhS06RJXDutPeMls3g8cz7+ATx/4aFroJI0S5C5EMSsAYBAJMAkFBMLSBCUsqQQSs3nDAGpmaFZWdFSZuYFQZqWY1p2Vkvi2QyLXEgC04amoijB2LSqlSQtHNMm6qM/nRFJSReEYK2sABcX+SJjTVC00sB40huQArUNoe3K+QCjMcDQTARehSv48FBAcSmU6/sRQkVVz/Max5NR+Riu412ho0JxKe3WyiiCab34UhCU+izevzfEsChwWR8K/CdZlXSpPQuXner1my1fmsZSY3NZtM2BpIqIFanO5dHYa+D1V71KyUoVZb4u4MQnaLZOZdVbzwdu9caFrWH/lyasPPx1t39OzSmZ0vOZIpdiSVdfw9d7GtFOJf3ic9ZvYbvei8JHHUV1aHrqah93gmdPvqIP/75z7Y3uLdQ+OjhBb0M4wTwXnXOTyda7r3xsPiz2zRudd+r1+/MrLtcM5Z40hPKDFGuVxm3L10IZ58d16Nx1z45aChsPYV/CRaTJZz8VHZO1oRWh4GWlilQhnyt7AMBa/DjJZ4YoCyKJkgsTbAjYFudPk2GQ/fZO/TQmliwATSLVhin4d0vkf2I4JLUd1MPU1CMRAhY9yshUovGcgTI56/U+PfzjhWHoOE707ZPxuIJhhqahunYryR5MTdz6bf2TJx9UNr/83o5mWOXu3F49+7+xmtGeLhJ3zcG97mRnq9nyTrW9vfne3t3EXJ0qPTNrsf5B4v2Xw/hNy1hc34gcH7t35+UK/lE0239mEY5/Rn1LGkRaGK1m/h32wsRf6R7IKk/lshjL7CDzSwOqyEejb3bvD8Nm8LibKOZFTzSyASq3j9aaAfHx8V/dDGmjNhikWgGLuJ/5BiK/0ztI4mQaJ1zAXw4HUUpyialkTUsq93Rz1D59MEkgqrYXRtOY6F8n5mhmAaD4wAAAAABJRU5ErkJggg==\\n\", \"height\": 30, \"channels\": 1, \"width\": 30, \"type\": \"image\", \"id\": 705577256}], \"selected_variable\": {\"name\": [\"<SArray>\"], \"dtype\": \"Image\", \"view_component\": \"Images\", \"view_file\": \"sarray\", \"descriptives\": {\"rows\": 12630}, \"type\": \"SArray\", \"view_components\": [\"Images\"]}}, e);\n",
       "                });\n",
       "            })();\n",
       "        "
      ]
     },
     "metadata": {},
     "output_type": "display_data"
    }
   ],
   "source": [
    "test_ts['image'].show()"
   ]
  },
  {
   "cell_type": "markdown",
   "metadata": {},
   "source": [
    "# Xây dựng mạng nhân chập dựa vào dữ liệu:"
   ]
  },
  {
   "cell_type": "code",
   "execution_count": 6,
   "metadata": {
    "collapsed": false
   },
   "outputs": [
    {
     "data": {
      "text/plain": [
       "layer[0]: ConvolutionLayer\n",
       "  init_random = gaussian\n",
       "  padding = 0\n",
       "  stride = 2\n",
       "  num_channels = 10\n",
       "  num_groups = 1\n",
       "  kernel_size = 3\n",
       "layer[1]: MaxPoolingLayer\n",
       "  padding = 0\n",
       "  stride = 2\n",
       "  kernel_size = 3\n",
       "layer[2]: FlattenLayer\n",
       "layer[3]: FullConnectionLayer\n",
       "  init_sigma = 0.01\n",
       "  init_random = gaussian\n",
       "  init_bias = 0\n",
       "  num_hidden_units = 100\n",
       "layer[4]: RectifiedLinearLayer\n",
       "layer[5]: DropoutLayer\n",
       "  threshold = 0.5\n",
       "layer[6]: FullConnectionLayer\n",
       "  init_sigma = 0.01\n",
       "  init_random = gaussian\n",
       "  init_bias = 0\n",
       "  num_hidden_units = 43\n",
       "layer[7]: SoftmaxLayer"
      ]
     },
     "execution_count": 6,
     "metadata": {},
     "output_type": "execute_result"
    }
   ],
   "source": [
    ">>> net = gl.deeplearning.create(train_ts, target='label')\n",
    "\n",
    "net.layers"
   ]
  },
  {
   "cell_type": "code",
   "execution_count": 7,
   "metadata": {
    "collapsed": false
   },
   "outputs": [
    {
     "data": {
      "text/plain": [
       "layer[0]: ConvolutionLayer\n",
       "  init_random = gaussian\n",
       "  padding = 0\n",
       "  stride = 4\n",
       "  num_channels = 96\n",
       "  num_groups = 1\n",
       "  kernel_size = 11\n",
       "layer[1]: RectifiedLinearLayer\n",
       "layer[2]: MaxPoolingLayer\n",
       "  padding = 0\n",
       "  stride = 2\n",
       "  kernel_size = 3\n",
       "layer[3]: LocalResponseNormalizationLayer\n",
       "  alpha = 0.001\n",
       "  beta = 0.75\n",
       "  knorm = 1\n",
       "  local_size = 5\n",
       "layer[4]: ConvolutionLayer\n",
       "  init_random = gaussian\n",
       "  padding = 2\n",
       "  stride = 1\n",
       "  num_channels = 256\n",
       "  num_groups = 2\n",
       "  kernel_size = 5\n",
       "layer[5]: RectifiedLinearLayer\n",
       "layer[6]: MaxPoolingLayer\n",
       "  padding = 0\n",
       "  stride = 2\n",
       "  kernel_size = 3\n",
       "layer[7]: LocalResponseNormalizationLayer\n",
       "  alpha = 0.001\n",
       "  beta = 0.75\n",
       "  knorm = 1\n",
       "  local_size = 5\n",
       "layer[8]: ConvolutionLayer\n",
       "  init_random = gaussian\n",
       "  padding = 1\n",
       "  stride = 1\n",
       "  num_channels = 384\n",
       "  num_groups = 1\n",
       "  kernel_size = 3\n",
       "layer[9]: RectifiedLinearLayer\n",
       "layer[10]: ConvolutionLayer\n",
       "  init_random = gaussian\n",
       "  padding = 1\n",
       "  stride = 1\n",
       "  num_channels = 384\n",
       "  num_groups = 2\n",
       "  kernel_size = 3\n",
       "layer[11]: RectifiedLinearLayer\n",
       "layer[12]: ConvolutionLayer\n",
       "  init_random = gaussian\n",
       "  padding = 1\n",
       "  stride = 1\n",
       "  init_bias = 1.0\n",
       "  num_channels = 256\n",
       "  num_groups = 2\n",
       "  kernel_size = 3\n",
       "layer[13]: RectifiedLinearLayer\n",
       "layer[14]: MaxPoolingLayer\n",
       "  padding = 0\n",
       "  stride = 2\n",
       "  kernel_size = 3\n",
       "layer[15]: FlattenLayer\n",
       "layer[16]: FullConnectionLayer\n",
       "  init_sigma = 0.005\n",
       "  init_random = gaussian\n",
       "  init_bias = 1.0\n",
       "  num_hidden_units = 4096\n",
       "layer[17]: RectifiedLinearLayer\n",
       "layer[18]: DropoutLayer\n",
       "  threshold = 0.5\n",
       "layer[19]: FullConnectionLayer\n",
       "  init_sigma = 0.005\n",
       "  init_random = gaussian\n",
       "  init_bias = 1.0\n",
       "  num_hidden_units = 4096\n",
       "layer[20]: RectifiedLinearLayer\n",
       "layer[21]: DropoutLayer\n",
       "  threshold = 0.5\n",
       "layer[22]: FullConnectionLayer\n",
       "  init_sigma = 0.01\n",
       "  init_random = gaussian\n",
       "  init_bias = 0\n",
       "  num_hidden_units = 1000\n",
       "layer[23]: SoftmaxLayer"
      ]
     },
     "execution_count": 7,
     "metadata": {},
     "output_type": "execute_result"
    }
   ],
   "source": [
    ">>> imagenet_net = graphlab.deeplearning.get_builtin_neuralnet('imagenet')\n",
    "\n",
    "imagenet_net.layers"
   ]
  },
  {
   "cell_type": "code",
   "execution_count": 8,
   "metadata": {
    "collapsed": false
   },
   "outputs": [],
   "source": [
    "imagenet_net.layers[22].num_hidden_units = 43"
   ]
  },
  {
   "cell_type": "code",
   "execution_count": 9,
   "metadata": {
    "collapsed": false
   },
   "outputs": [
    {
     "data": {
      "text/plain": [
       "layer[0]: ConvolutionLayer\n",
       "  init_random = xavier\n",
       "  padding = 1\n",
       "  stride = 2\n",
       "  num_channels = 32\n",
       "  num_groups = 1\n",
       "  kernel_size = 3\n",
       "layer[1]: MaxPoolingLayer\n",
       "  padding = 0\n",
       "  stride = 2\n",
       "  kernel_size = 3\n",
       "layer[2]: FlattenLayer\n",
       "layer[3]: DropoutLayer\n",
       "  threshold = 0.5\n",
       "layer[4]: FullConnectionLayer\n",
       "  init_sigma = 0.01\n",
       "  init_random = gaussian\n",
       "  init_bias = 0\n",
       "  num_hidden_units = 100\n",
       "layer[5]: SigmoidLayer\n",
       "layer[6]: FullConnectionLayer\n",
       "  init_sigma = 0.01\n",
       "  init_random = gaussian\n",
       "  init_bias = 0\n",
       "  num_hidden_units = 10\n",
       "layer[7]: SoftmaxLayer"
      ]
     },
     "execution_count": 9,
     "metadata": {},
     "output_type": "execute_result"
    }
   ],
   "source": [
    "mnist = graphlab.deeplearning.get_builtin_neuralnet('mnist')\n",
    "mnist.layers"
   ]
  },
  {
   "cell_type": "code",
   "execution_count": 10,
   "metadata": {
    "collapsed": true
   },
   "outputs": [],
   "source": [
    "mnist.layers[6].num_hidden_units = 43"
   ]
  },
  {
   "cell_type": "code",
   "execution_count": 11,
   "metadata": {
    "collapsed": true
   },
   "outputs": [],
   "source": [
    "mnist.layers[0].num_channels = 30"
   ]
  },
  {
   "cell_type": "code",
   "execution_count": null,
   "metadata": {
    "collapsed": false
   },
   "outputs": [
    {
     "data": {
      "text/plain": [
       "layer[0]: ConvolutionLayer\n",
       "  init_random = xavier\n",
       "  padding = 1\n",
       "  stride = 2\n",
       "  num_channels = 30\n",
       "  num_groups = 1\n",
       "  kernel_size = 3\n",
       "layer[1]: MaxPoolingLayer\n",
       "  padding = 0\n",
       "  stride = 2\n",
       "  kernel_size = 3\n",
       "layer[2]: FlattenLayer\n",
       "layer[3]: DropoutLayer\n",
       "  threshold = 0.5\n",
       "layer[4]: FullConnectionLayer\n",
       "  init_sigma = 0.01\n",
       "  init_random = gaussian\n",
       "  init_bias = 0\n",
       "  num_hidden_units = 100\n",
       "layer[5]: SigmoidLayer\n",
       "layer[6]: FullConnectionLayer\n",
       "  init_sigma = 0.01\n",
       "  init_random = gaussian\n",
       "  init_bias = 0\n",
       "  num_hidden_units = 43\n",
       "layer[7]: SoftmaxLayer"
      ]
     },
     "execution_count": 12,
     "metadata": {},
     "output_type": "execute_result"
    }
   ],
   "source": [
    "mnist.layers"
   ]
  },
  {
   "cell_type": "markdown",
   "metadata": {},
   "source": [
    "# Co dãn tất cả các ảnh về cùng một kích thước, để đi qua mạng nhân chập:"
   ]
  },
  {
   "cell_type": "markdown",
   "metadata": {},
   "source": [
    "# Train mạng nhân chập trên bộ biển báo huấn luyện:"
   ]
  },
  {
   "cell_type": "code",
   "execution_count": null,
   "metadata": {
    "collapsed": false
   },
   "outputs": [],
   "source": [
    ">>> m = graphlab.neuralnet_classifier.create(train_ts, target='label',\n",
    "                                             features=['image'],\n",
    "...                                          network = mnist,#m mới đúng\n",
    "...                                          validation_set=valid_ts,\n",
    "                                             metric=['accuracy', 'recall@2'],\n",
    "...                                          max_iterations=100)\n"
   ]
  },
  {
   "cell_type": "code",
   "execution_count": 11,
   "metadata": {
    "collapsed": false
   },
   "outputs": [
    {
     "data": {
      "text/plain": [
       "0.8813143372535706"
      ]
     },
     "execution_count": 11,
     "metadata": {},
     "output_type": "execute_result"
    }
   ],
   "source": [
    "m.evaluate(test_ts)['accuracy']"
   ]
  },
  {
   "cell_type": "code",
   "execution_count": null,
   "metadata": {
    "collapsed": false
   },
   "outputs": [],
   "source": [
    "m.save('CNN bien bao giao thong 1000')"
   ]
  },
  {
   "cell_type": "code",
   "execution_count": 12,
   "metadata": {
    "collapsed": false
   },
   "outputs": [],
   "source": [
    "lenet = gl.load_model('CNN bien bao giao thong 1000/')"
   ]
  },
  {
   "cell_type": "code",
   "execution_count": 13,
   "metadata": {
    "collapsed": false
   },
   "outputs": [
    {
     "data": {
      "text/plain": [
       "{'accuracy': 0.8813143372535706, 'confusion_matrix': Columns:\n",
       " \ttarget_label\tint\n",
       " \tpredicted_label\tint\n",
       " \tcount\tint\n",
       " \n",
       " Rows: 355\n",
       " \n",
       " Data:\n",
       " +--------------+-----------------+-------+\n",
       " | target_label | predicted_label | count |\n",
       " +--------------+-----------------+-------+\n",
       " |      0       |        0        |   32  |\n",
       " |      3       |        0        |   1   |\n",
       " |      4       |        0        |   4   |\n",
       " |      38      |        0        |   1   |\n",
       " |      40      |        0        |   2   |\n",
       " |      0       |        1        |   16  |\n",
       " |      1       |        1        |  646  |\n",
       " |      2       |        1        |   16  |\n",
       " |      4       |        1        |   6   |\n",
       " |      5       |        1        |   3   |\n",
       " +--------------+-----------------+-------+\n",
       " [355 rows x 3 columns]\n",
       " Note: Only the head of the SFrame is printed.\n",
       " You can use print_rows(num_rows=m, num_columns=n) to print more rows and columns.}"
      ]
     },
     "execution_count": 13,
     "metadata": {},
     "output_type": "execute_result"
    }
   ],
   "source": [
    "lenet.evaluate(test_ts)"
   ]
  },
  {
   "cell_type": "code",
   "execution_count": 15,
   "metadata": {
    "collapsed": false
   },
   "outputs": [],
   "source": [
    "cnn= gl.load_model('CNN data model- bien bao giao thong- 1000/')"
   ]
  },
  {
   "cell_type": "code",
   "execution_count": 16,
   "metadata": {
    "collapsed": false
   },
   "outputs": [
    {
     "data": {
      "text/plain": [
       "{'accuracy': 0.9084718823432922, 'confusion_matrix': Columns:\n",
       " \ttarget_label\tint\n",
       " \tpredicted_label\tint\n",
       " \tcount\tint\n",
       " \n",
       " Rows: 349\n",
       " \n",
       " Data:\n",
       " +--------------+-----------------+-------+\n",
       " | target_label | predicted_label | count |\n",
       " +--------------+-----------------+-------+\n",
       " |      0       |        0        |   27  |\n",
       " |      0       |        1        |   13  |\n",
       " |      1       |        1        |  659  |\n",
       " |      2       |        1        |   18  |\n",
       " |      3       |        1        |   2   |\n",
       " |      4       |        1        |   9   |\n",
       " |      5       |        1        |   5   |\n",
       " |      7       |        1        |   3   |\n",
       " |      10      |        1        |   2   |\n",
       " |      11      |        1        |   1   |\n",
       " +--------------+-----------------+-------+\n",
       " [349 rows x 3 columns]\n",
       " Note: Only the head of the SFrame is printed.\n",
       " You can use print_rows(num_rows=m, num_columns=n) to print more rows and columns.}"
      ]
     },
     "execution_count": 16,
     "metadata": {},
     "output_type": "execute_result"
    }
   ],
   "source": [
    "cnn.evaluate(test_ts)"
   ]
  },
  {
   "cell_type": "code",
   "execution_count": 17,
   "metadata": {
    "collapsed": true
   },
   "outputs": [],
   "source": [
    "cnn2 = gl.load_model('cnn for traffic/')"
   ]
  },
  {
   "cell_type": "code",
   "execution_count": 18,
   "metadata": {
    "collapsed": false
   },
   "outputs": [
    {
     "data": {
      "text/plain": [
       "{'accuracy': 0.8858274221420288, 'confusion_matrix': Columns:\n",
       " \ttarget_label\tint\n",
       " \tpredicted_label\tint\n",
       " \tcount\tint\n",
       " \n",
       " Rows: 359\n",
       " \n",
       " Data:\n",
       " +--------------+-----------------+-------+\n",
       " | target_label | predicted_label | count |\n",
       " +--------------+-----------------+-------+\n",
       " |      0       |        0        |   30  |\n",
       " |      5       |        0        |   1   |\n",
       " |      0       |        1        |   15  |\n",
       " |      1       |        1        |  647  |\n",
       " |      2       |        1        |   17  |\n",
       " |      4       |        1        |   11  |\n",
       " |      5       |        1        |   7   |\n",
       " |      10      |        1        |   1   |\n",
       " |      11      |        1        |   1   |\n",
       " |      17      |        1        |   2   |\n",
       " +--------------+-----------------+-------+\n",
       " [359 rows x 3 columns]\n",
       " Note: Only the head of the SFrame is printed.\n",
       " You can use print_rows(num_rows=m, num_columns=n) to print more rows and columns.}"
      ]
     },
     "execution_count": 18,
     "metadata": {},
     "output_type": "execute_result"
    }
   ],
   "source": [
    "cnn2.evaluate(test_ts)"
   ]
  },
  {
   "cell_type": "code",
   "execution_count": 1,
   "metadata": {
    "collapsed": true
   },
   "outputs": [],
   "source": [
    "import graphlab as gl\n",
    ">>> percpt_net = gl.deeplearning.MultiLayerPerceptrons(num_hidden_layers=3,\n",
    "                                                num_hidden_units=[15,10,10])\n"
   ]
  },
  {
   "cell_type": "code",
   "execution_count": 2,
   "metadata": {
    "collapsed": true
   },
   "outputs": [],
   "source": [
    ">>> conv_net = gl.deeplearning.ConvolutionNet(num_convolution_layers=2,\n",
    "                                              kernel_size=3,\n",
    "                                              num_channels=10,\n",
    "                                              num_output_units=0)\n"
   ]
  },
  {
   "cell_type": "code",
   "execution_count": 3,
   "metadata": {
    "collapsed": false
   },
   "outputs": [
    {
     "data": {
      "text/plain": [
       "layer[0]: ConvolutionLayer\n",
       "  init_random = gaussian\n",
       "  padding = 0\n",
       "  stride = 1\n",
       "  num_channels = 10\n",
       "  num_groups = 1\n",
       "  kernel_size = 3\n",
       "layer[1]: MaxPoolingLayer\n",
       "  padding = 0\n",
       "  stride = 1\n",
       "  kernel_size = 3\n",
       "layer[2]: ConvolutionLayer\n",
       "  init_random = gaussian\n",
       "  padding = 0\n",
       "  stride = 1\n",
       "  num_channels = 10\n",
       "  num_groups = 1\n",
       "  kernel_size = 3\n",
       "layer[3]: MaxPoolingLayer\n",
       "  padding = 0\n",
       "  stride = 1\n",
       "  kernel_size = 3\n",
       "layer[4]: FlattenLayer\n",
       "layer[5]: FullConnectionLayer\n",
       "  init_sigma = 0.01\n",
       "  init_random = gaussian\n",
       "  init_bias = 0\n",
       "  num_hidden_units = 15\n",
       "layer[6]: SigmoidLayer\n",
       "layer[7]: FullConnectionLayer\n",
       "  init_sigma = 0.01\n",
       "  init_random = gaussian\n",
       "  init_bias = 0\n",
       "  num_hidden_units = 10\n",
       "layer[8]: SigmoidLayer\n",
       "layer[9]: FullConnectionLayer\n",
       "  init_sigma = 0.01\n",
       "  init_random = gaussian\n",
       "  init_bias = 0\n",
       "  num_hidden_units = 10\n",
       "layer[10]: SoftmaxLayer"
      ]
     },
     "execution_count": 3,
     "metadata": {},
     "output_type": "execute_result"
    }
   ],
   "source": [
    ">>> conv_net.layers.extend(percpt_net.layers)\n",
    ">>> conv_net.layers\n"
   ]
  },
  {
   "cell_type": "code",
   "execution_count": 5,
   "metadata": {
    "collapsed": false
   },
   "outputs": [],
   "source": [
    ">>> net = gl.deeplearning.ConvolutionNet(num_convolution_layers=2,\n",
    "                                               kernel_size=3, stride=2,\n",
    "                                               num_channels=10,\n",
    "                                               num_output_units=10)\n"
   ]
  },
  {
   "cell_type": "code",
   "execution_count": 6,
   "metadata": {
    "collapsed": false
   },
   "outputs": [
    {
     "data": {
      "text/plain": [
       "\n",
       "### network layers ###\n",
       "layer[0]: ConvolutionLayer\n",
       "  init_random = gaussian\n",
       "  padding = 0\n",
       "  stride = 2\n",
       "  num_channels = 10\n",
       "  num_groups = 1\n",
       "  kernel_size = 3\n",
       "layer[1]: MaxPoolingLayer\n",
       "  padding = 0\n",
       "  stride = 2\n",
       "  kernel_size = 3\n",
       "layer[2]: ConvolutionLayer\n",
       "  init_random = gaussian\n",
       "  padding = 0\n",
       "  stride = 2\n",
       "  num_channels = 10\n",
       "  num_groups = 1\n",
       "  kernel_size = 3\n",
       "layer[3]: MaxPoolingLayer\n",
       "  padding = 0\n",
       "  stride = 2\n",
       "  kernel_size = 3\n",
       "layer[4]: FlattenLayer\n",
       "layer[5]: FullConnectionLayer\n",
       "  init_sigma = 0.01\n",
       "  init_random = gaussian\n",
       "  init_bias = 0\n",
       "  num_hidden_units = 10\n",
       "layer[6]: SoftmaxLayer\n",
       "### end network layers ###\n",
       "\n",
       "### network parameters ###\n",
       "learning_rate = 0.001\n",
       "momentum = 0.9\n",
       "### end network parameters ###"
      ]
     },
     "execution_count": 6,
     "metadata": {},
     "output_type": "execute_result"
    }
   ],
   "source": [
    ">>> net\n"
   ]
  }
 ],
 "metadata": {
  "kernelspec": {
   "display_name": "Python 2",
   "language": "python",
   "name": "python2"
  },
  "language_info": {
   "codemirror_mode": {
    "name": "ipython",
    "version": 2
   },
   "file_extension": ".py",
   "mimetype": "text/x-python",
   "name": "python",
   "nbconvert_exporter": "python",
   "pygments_lexer": "ipython2",
   "version": "2.7.10"
  }
 },
 "nbformat": 4,
 "nbformat_minor": 0
}
