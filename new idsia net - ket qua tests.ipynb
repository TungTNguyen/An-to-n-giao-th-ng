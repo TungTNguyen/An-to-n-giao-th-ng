{
 "cells": [
  {
   "cell_type": "markdown",
   "metadata": {},
   "source": [
    "# Vòng lặp thứ 14:"
   ]
  },
  {
   "cell_type": "code",
   "execution_count": 1,
   "metadata": {
    "collapsed": false
   },
   "outputs": [
    {
     "name": "stdout",
     "output_type": "stream",
     "text": [
      "This non-commercial license of GraphLab Create for academic use is assigned to keira1412@gmail.com and will expire on October 05, 2017.\n"
     ]
    },
    {
     "name": "stderr",
     "output_type": "stream",
     "text": [
      "[INFO] graphlab.cython.cy_server: GraphLab Create v2.1 started. Logging: /tmp/graphlab_server_1480302036.log\n"
     ]
    },
    {
     "data": {
      "text/plain": [
       "Class               : NeuralNetClassifier\n",
       "\n",
       "Schema\n",
       "------\n",
       "Examples            : 37261\n",
       "Features            : 1\n",
       "Target column       : label\n",
       "\n",
       "Training Summary\n",
       "----------------\n",
       "Training accuracy   : 0.9918\n",
       "Validation accuracy : 0.9938\n",
       "Training time (sec) : 140256.6803"
      ]
     },
     "execution_count": 1,
     "metadata": {},
     "output_type": "execute_result"
    }
   ],
   "source": [
    "import graphlab as gl\n",
    "\n",
    "idsia_net_14_iter = gl.load_model('new IDSIA net - train in 100 iter/')\n",
    "idsia_net_14_iter"
   ]
  },
  {
   "cell_type": "code",
   "execution_count": 2,
   "metadata": {
    "collapsed": true
   },
   "outputs": [],
   "source": [
    "test_signs= gl.SFrame('test_sframe/')\n",
    "test_signs['image'] = gl.image_analysis.resize(test_signs['image'], 48, 48, channels= 3)\n",
    "#28 cho Lenet, 30 (mình chọn) cho mạng dato 1000 lượt, \n",
    "#48 cho idsia net, 3 channels \n",
    "# test_signs"
   ]
  },
  {
   "cell_type": "code",
   "execution_count": 3,
   "metadata": {
    "collapsed": false
   },
   "outputs": [
    {
     "data": {
      "text/plain": [
       "{'accuracy': 0.9629453420639038, 'confusion_matrix': Columns:\n",
       " \ttarget_label\tint\n",
       " \tpredicted_label\tint\n",
       " \tcount\tint\n",
       " \n",
       " Rows: 193\n",
       " \n",
       " Data:\n",
       " +--------------+-----------------+-------+\n",
       " | target_label | predicted_label | count |\n",
       " +--------------+-----------------+-------+\n",
       " |      0       |        0        |   59  |\n",
       " |      1       |        1        |  716  |\n",
       " |      2       |        1        |   5   |\n",
       " |      4       |        1        |   7   |\n",
       " |      5       |        1        |   6   |\n",
       " |      18      |        1        |   4   |\n",
       " |      21      |        1        |   2   |\n",
       " |      27      |        1        |   27  |\n",
       " |      30      |        1        |   1   |\n",
       " |      38      |        1        |   2   |\n",
       " +--------------+-----------------+-------+\n",
       " [193 rows x 3 columns]\n",
       " Note: Only the head of the SFrame is printed.\n",
       " You can use print_rows(num_rows=m, num_columns=n) to print more rows and columns.}"
      ]
     },
     "execution_count": 3,
     "metadata": {},
     "output_type": "execute_result"
    }
   ],
   "source": [
    "idsia_net_14_iter.evaluate(test_signs)"
   ]
  },
  {
   "cell_type": "markdown",
   "metadata": {
    "collapsed": true
   },
   "source": [
    "14 tieng"
   ]
  },
  {
   "cell_type": "markdown",
   "metadata": {},
   "source": [
    "# Vòng lặp thứ 15:"
   ]
  },
  {
   "cell_type": "code",
   "execution_count": 4,
   "metadata": {
    "collapsed": false
   },
   "outputs": [
    {
     "data": {
      "text/plain": [
       "Class               : NeuralNetClassifier\n",
       "\n",
       "Schema\n",
       "------\n",
       "Examples            : 37261\n",
       "Features            : 1\n",
       "Target column       : label\n",
       "\n",
       "Training Summary\n",
       "----------------\n",
       "Training accuracy   : 0.9933\n",
       "Validation accuracy : 0.9913\n",
       "Training time (sec) : 151631.3017"
      ]
     },
     "execution_count": 4,
     "metadata": {},
     "output_type": "execute_result"
    }
   ],
   "source": [
    "idsia_net_15_iters = gl.load_model('new IDSIA net - train in 100 iter/')\n",
    "idsia_net_15_iters"
   ]
  },
  {
   "cell_type": "code",
   "execution_count": 5,
   "metadata": {
    "collapsed": false,
    "scrolled": false
   },
   "outputs": [
    {
     "data": {
      "text/plain": [
       "{'accuracy': 0.9649247527122498, 'confusion_matrix': Columns:\n",
       " \ttarget_label\tint\n",
       " \tpredicted_label\tint\n",
       " \tcount\tint\n",
       " \n",
       " Rows: 187\n",
       " \n",
       " Data:\n",
       " +--------------+-----------------+-------+\n",
       " | target_label | predicted_label | count |\n",
       " +--------------+-----------------+-------+\n",
       " |      0       |        0        |   58  |\n",
       " |      1       |        1        |  715  |\n",
       " |      2       |        1        |   6   |\n",
       " |      4       |        1        |   6   |\n",
       " |      5       |        1        |   3   |\n",
       " |      8       |        1        |   1   |\n",
       " |      18      |        1        |   3   |\n",
       " |      25      |        1        |   1   |\n",
       " |      27      |        1        |   15  |\n",
       " |      30      |        1        |   1   |\n",
       " +--------------+-----------------+-------+\n",
       " [187 rows x 3 columns]\n",
       " Note: Only the head of the SFrame is printed.\n",
       " You can use print_rows(num_rows=m, num_columns=n) to print more rows and columns.}"
      ]
     },
     "execution_count": 5,
     "metadata": {},
     "output_type": "execute_result"
    }
   ],
   "source": [
    "idsia_net_15_iters.evaluate(test_signs)"
   ]
  },
  {
   "cell_type": "markdown",
   "metadata": {},
   "source": [
    "16 tieng ruoi"
   ]
  },
  {
   "cell_type": "markdown",
   "metadata": {},
   "source": [
    "# Vòng lặp thứ 16:"
   ]
  },
  {
   "cell_type": "code",
   "execution_count": 6,
   "metadata": {
    "collapsed": false
   },
   "outputs": [
    {
     "data": {
      "text/plain": [
       "Class               : NeuralNetClassifier\n",
       "\n",
       "Schema\n",
       "------\n",
       "Examples            : 37261\n",
       "Features            : 1\n",
       "Target column       : label\n",
       "\n",
       "Training Summary\n",
       "----------------\n",
       "Training accuracy   : 0.9942\n",
       "Validation accuracy : 0.9923\n",
       "Training time (sec) : 163291.6957"
      ]
     },
     "execution_count": 6,
     "metadata": {},
     "output_type": "execute_result"
    }
   ],
   "source": [
    "idsia_net_16_iters = gl.load_model('new IDSIA net - train in 100 iter/')\n",
    "idsia_net_16_iters"
   ]
  },
  {
   "cell_type": "code",
   "execution_count": 7,
   "metadata": {
    "collapsed": false,
    "scrolled": false
   },
   "outputs": [
    {
     "data": {
      "text/plain": [
       "{'accuracy': 0.9627870321273804, 'confusion_matrix': Columns:\n",
       " \ttarget_label\tint\n",
       " \tpredicted_label\tint\n",
       " \tcount\tint\n",
       " \n",
       " Rows: 196\n",
       " \n",
       " Data:\n",
       " +--------------+-----------------+-------+\n",
       " | target_label | predicted_label | count |\n",
       " +--------------+-----------------+-------+\n",
       " |      0       |        0        |   59  |\n",
       " |      8       |        0        |   1   |\n",
       " |      1       |        1        |  714  |\n",
       " |      2       |        1        |   5   |\n",
       " |      4       |        1        |   3   |\n",
       " |      5       |        1        |   3   |\n",
       " |      6       |        1        |   5   |\n",
       " |      8       |        1        |   1   |\n",
       " |      10      |        1        |   1   |\n",
       " |      16      |        1        |   1   |\n",
       " +--------------+-----------------+-------+\n",
       " [196 rows x 3 columns]\n",
       " Note: Only the head of the SFrame is printed.\n",
       " You can use print_rows(num_rows=m, num_columns=n) to print more rows and columns.}"
      ]
     },
     "execution_count": 7,
     "metadata": {},
     "output_type": "execute_result"
    }
   ],
   "source": [
    "idsia_net_16_iters.evaluate(test_signs)"
   ]
  },
  {
   "cell_type": "markdown",
   "metadata": {},
   "source": [
    "# Vòng lặp thứ 22:"
   ]
  },
  {
   "cell_type": "code",
   "execution_count": 8,
   "metadata": {
    "collapsed": false
   },
   "outputs": [
    {
     "data": {
      "text/plain": [
       "Class               : NeuralNetClassifier\n",
       "\n",
       "Schema\n",
       "------\n",
       "Examples            : 37261\n",
       "Features            : 1\n",
       "Target column       : label\n",
       "\n",
       "Training Summary\n",
       "----------------\n",
       "Training accuracy   : 0.9949\n",
       "Validation accuracy : 0.9938\n",
       "Training time (sec) : 233987.1312"
      ]
     },
     "execution_count": 8,
     "metadata": {},
     "output_type": "execute_result"
    }
   ],
   "source": [
    "idsia_net_22_iters = gl.load_model('new IDSIA net - train in 100 iter/')\n",
    "idsia_net_22_iters"
   ]
  },
  {
   "cell_type": "code",
   "execution_count": 9,
   "metadata": {
    "collapsed": false,
    "scrolled": false
   },
   "outputs": [
    {
     "data": {
      "text/plain": [
       "{'accuracy': 0.9672209024429321, 'confusion_matrix': Columns:\n",
       " \ttarget_label\tint\n",
       " \tpredicted_label\tint\n",
       " \tcount\tint\n",
       " \n",
       " Rows: 183\n",
       " \n",
       " Data:\n",
       " +--------------+-----------------+-------+\n",
       " | target_label | predicted_label | count |\n",
       " +--------------+-----------------+-------+\n",
       " |      0       |        0        |   60  |\n",
       " |      1       |        1        |  714  |\n",
       " |      2       |        1        |   3   |\n",
       " |      4       |        1        |   6   |\n",
       " |      5       |        1        |   2   |\n",
       " |      8       |        1        |   1   |\n",
       " |      18      |        1        |   4   |\n",
       " |      21      |        1        |   1   |\n",
       " |      27      |        1        |   29  |\n",
       " |      30      |        1        |   1   |\n",
       " +--------------+-----------------+-------+\n",
       " [183 rows x 3 columns]\n",
       " Note: Only the head of the SFrame is printed.\n",
       " You can use print_rows(num_rows=m, num_columns=n) to print more rows and columns.}"
      ]
     },
     "execution_count": 9,
     "metadata": {},
     "output_type": "execute_result"
    }
   ],
   "source": [
    "idsia_net_22_iters.evaluate(test_signs)"
   ]
  },
  {
   "cell_type": "markdown",
   "metadata": {},
   "source": [
    "# Vòng lặp thứ 23:"
   ]
  },
  {
   "cell_type": "code",
   "execution_count": 10,
   "metadata": {
    "collapsed": false
   },
   "outputs": [
    {
     "data": {
      "text/plain": [
       "Class               : NeuralNetClassifier\n",
       "\n",
       "Schema\n",
       "------\n",
       "Examples            : 37261\n",
       "Features            : 1\n",
       "Target column       : label\n",
       "\n",
       "Training Summary\n",
       "----------------\n",
       "Training accuracy   : 0.9949\n",
       "Validation accuracy : 0.9954\n",
       "Training time (sec) : 246701.4979"
      ]
     },
     "execution_count": 10,
     "metadata": {},
     "output_type": "execute_result"
    }
   ],
   "source": [
    "idsia_net_23_iters = gl.load_model('new IDSIA net - train in 100 iter/')\n",
    "idsia_net_23_iters"
   ]
  },
  {
   "cell_type": "code",
   "execution_count": 11,
   "metadata": {
    "collapsed": false,
    "scrolled": false
   },
   "outputs": [
    {
     "data": {
      "text/plain": [
       "{'accuracy': 0.9688836336135864, 'confusion_matrix': Columns:\n",
       " \ttarget_label\tint\n",
       " \tpredicted_label\tint\n",
       " \tcount\tint\n",
       " \n",
       " Rows: 179\n",
       " \n",
       " Data:\n",
       " +--------------+-----------------+-------+\n",
       " | target_label | predicted_label | count |\n",
       " +--------------+-----------------+-------+\n",
       " |      0       |        0        |   60  |\n",
       " |      8       |        0        |   1   |\n",
       " |      1       |        1        |  714  |\n",
       " |      2       |        1        |   4   |\n",
       " |      4       |        1        |   4   |\n",
       " |      5       |        1        |   1   |\n",
       " |      10      |        1        |   1   |\n",
       " |      18      |        1        |   1   |\n",
       " |      21      |        1        |   6   |\n",
       " |      27      |        1        |   16  |\n",
       " +--------------+-----------------+-------+\n",
       " [179 rows x 3 columns]\n",
       " Note: Only the head of the SFrame is printed.\n",
       " You can use print_rows(num_rows=m, num_columns=n) to print more rows and columns.}"
      ]
     },
     "execution_count": 11,
     "metadata": {},
     "output_type": "execute_result"
    }
   ],
   "source": [
    "idsia_net_23_iters.evaluate(test_signs)"
   ]
  },
  {
   "cell_type": "markdown",
   "metadata": {},
   "source": [
    "# Vòng lặp thứ 35:"
   ]
  },
  {
   "cell_type": "code",
   "execution_count": 12,
   "metadata": {
    "collapsed": false
   },
   "outputs": [
    {
     "data": {
      "text/plain": [
       "Class               : NeuralNetClassifier\n",
       "\n",
       "Schema\n",
       "------\n",
       "Examples            : 37261\n",
       "Features            : 1\n",
       "Target column       : label\n",
       "\n",
       "Training Summary\n",
       "----------------\n",
       "Training accuracy   : 0.9977\n",
       "Validation accuracy : 0.9944\n",
       "Training time (sec) : 401452.2892"
      ]
     },
     "execution_count": 12,
     "metadata": {},
     "output_type": "execute_result"
    }
   ],
   "source": [
    "idsia_net_35_iters = gl.load_model('new IDSIA net - train in 100 iter/')\n",
    "idsia_net_35_iters"
   ]
  },
  {
   "cell_type": "code",
   "execution_count": 13,
   "metadata": {
    "collapsed": false,
    "scrolled": false
   },
   "outputs": [
    {
     "data": {
      "text/plain": [
       "{'accuracy': 0.9674584269523621, 'confusion_matrix': Columns:\n",
       " \ttarget_label\tint\n",
       " \tpredicted_label\tint\n",
       " \tcount\tint\n",
       " \n",
       " Rows: 173\n",
       " \n",
       " Data:\n",
       " +--------------+-----------------+-------+\n",
       " | target_label | predicted_label | count |\n",
       " +--------------+-----------------+-------+\n",
       " |      0       |        0        |   60  |\n",
       " |      8       |        0        |   1   |\n",
       " |      1       |        1        |  714  |\n",
       " |      2       |        1        |   3   |\n",
       " |      4       |        1        |   4   |\n",
       " |      5       |        1        |   1   |\n",
       " |      8       |        1        |   2   |\n",
       " |      10      |        1        |   1   |\n",
       " |      18      |        1        |   3   |\n",
       " |      21      |        1        |   2   |\n",
       " +--------------+-----------------+-------+\n",
       " [173 rows x 3 columns]\n",
       " Note: Only the head of the SFrame is printed.\n",
       " You can use print_rows(num_rows=m, num_columns=n) to print more rows and columns.}"
      ]
     },
     "execution_count": 13,
     "metadata": {},
     "output_type": "execute_result"
    }
   ],
   "source": [
    "idsia_net_35_iters.evaluate(test_signs)"
   ]
  },
  {
   "cell_type": "markdown",
   "metadata": {},
   "source": [
    "# Vòng lặp thứ 36:"
   ]
  },
  {
   "cell_type": "code",
   "execution_count": 14,
   "metadata": {
    "collapsed": false
   },
   "outputs": [
    {
     "data": {
      "text/plain": [
       "Class               : NeuralNetClassifier\n",
       "\n",
       "Schema\n",
       "------\n",
       "Examples            : 37261\n",
       "Features            : 1\n",
       "Target column       : label\n",
       "\n",
       "Training Summary\n",
       "----------------\n",
       "Training accuracy   : 0.9968\n",
       "Validation accuracy : 0.9933\n",
       "Training time (sec) : 414444.2609"
      ]
     },
     "execution_count": 14,
     "metadata": {},
     "output_type": "execute_result"
    }
   ],
   "source": [
    "idsia_net_36_iters = gl.load_model('new IDSIA net - train in 100 iter/')\n",
    "idsia_net_36_iters"
   ]
  },
  {
   "cell_type": "code",
   "execution_count": 15,
   "metadata": {
    "collapsed": false,
    "scrolled": false
   },
   "outputs": [
    {
     "data": {
      "text/plain": [
       "{'accuracy': 0.963341236114502, 'confusion_matrix': Columns:\n",
       " \ttarget_label\tint\n",
       " \tpredicted_label\tint\n",
       " \tcount\tint\n",
       " \n",
       " Rows: 189\n",
       " \n",
       " Data:\n",
       " +--------------+-----------------+-------+\n",
       " | target_label | predicted_label | count |\n",
       " +--------------+-----------------+-------+\n",
       " |      0       |        0        |   59  |\n",
       " |      8       |        0        |   1   |\n",
       " |      1       |        1        |  715  |\n",
       " |      2       |        1        |   3   |\n",
       " |      4       |        1        |   6   |\n",
       " |      5       |        1        |   1   |\n",
       " |      6       |        1        |   1   |\n",
       " |      8       |        1        |   2   |\n",
       " |      10      |        1        |   1   |\n",
       " |      18      |        1        |   2   |\n",
       " +--------------+-----------------+-------+\n",
       " [189 rows x 3 columns]\n",
       " Note: Only the head of the SFrame is printed.\n",
       " You can use print_rows(num_rows=m, num_columns=n) to print more rows and columns.}"
      ]
     },
     "execution_count": 15,
     "metadata": {},
     "output_type": "execute_result"
    }
   ],
   "source": [
    "idsia_net_36_iters.evaluate(test_signs)"
   ]
  },
  {
   "cell_type": "markdown",
   "metadata": {},
   "source": [
    "# Vòng lặp thứ 42:"
   ]
  },
  {
   "cell_type": "code",
   "execution_count": 16,
   "metadata": {
    "collapsed": false
   },
   "outputs": [
    {
     "data": {
      "text/plain": [
       "Class               : NeuralNetClassifier\n",
       "\n",
       "Schema\n",
       "------\n",
       "Examples            : 37261\n",
       "Features            : 1\n",
       "Target column       : label\n",
       "\n",
       "Training Summary\n",
       "----------------\n",
       "Training accuracy   : 0.997\n",
       "Validation accuracy : 0.9928\n",
       "Training time (sec) : 486063.0789"
      ]
     },
     "execution_count": 16,
     "metadata": {},
     "output_type": "execute_result"
    }
   ],
   "source": [
    "idsia_net_42_iters = gl.load_model('new IDSIA net - train in 100 iter/')\n",
    "idsia_net_42_iters"
   ]
  },
  {
   "cell_type": "code",
   "execution_count": 17,
   "metadata": {
    "collapsed": false,
    "scrolled": false
   },
   "outputs": [
    {
     "data": {
      "text/plain": [
       "{'accuracy': 0.9695170521736145, 'confusion_matrix': Columns:\n",
       " \ttarget_label\tint\n",
       " \tpredicted_label\tint\n",
       " \tcount\tint\n",
       " \n",
       " Rows: 181\n",
       " \n",
       " Data:\n",
       " +--------------+-----------------+-------+\n",
       " | target_label | predicted_label | count |\n",
       " +--------------+-----------------+-------+\n",
       " |      0       |        0        |   58  |\n",
       " |      1       |        0        |   1   |\n",
       " |      1       |        1        |  709  |\n",
       " |      2       |        1        |   3   |\n",
       " |      4       |        1        |   2   |\n",
       " |      5       |        1        |   4   |\n",
       " |      8       |        1        |   2   |\n",
       " |      18      |        1        |   2   |\n",
       " |      30      |        1        |   1   |\n",
       " |      38      |        1        |   1   |\n",
       " +--------------+-----------------+-------+\n",
       " [181 rows x 3 columns]\n",
       " Note: Only the head of the SFrame is printed.\n",
       " You can use print_rows(num_rows=m, num_columns=n) to print more rows and columns.}"
      ]
     },
     "execution_count": 17,
     "metadata": {},
     "output_type": "execute_result"
    }
   ],
   "source": [
    "idsia_net_42_iters.evaluate(test_signs)"
   ]
  },
  {
   "cell_type": "markdown",
   "metadata": {},
   "source": [
    "# Vòng lặp thứ 43:"
   ]
  },
  {
   "cell_type": "code",
   "execution_count": 19,
   "metadata": {
    "collapsed": false
   },
   "outputs": [
    {
     "data": {
      "text/plain": [
       "Class               : NeuralNetClassifier\n",
       "\n",
       "Schema\n",
       "------\n",
       "Examples            : 37261\n",
       "Features            : 1\n",
       "Target column       : label\n",
       "\n",
       "Training Summary\n",
       "----------------\n",
       "Training accuracy   : 0.9975\n",
       "Validation accuracy : 0.9944\n",
       "Training time (sec) : 498087.4852"
      ]
     },
     "execution_count": 19,
     "metadata": {},
     "output_type": "execute_result"
    }
   ],
   "source": [
    "idsia_net_43_iters = gl.load_model('new IDSIA net - train in 100 iter/')\n",
    "idsia_net_43_iters"
   ]
  },
  {
   "cell_type": "code",
   "execution_count": 20,
   "metadata": {
    "collapsed": false,
    "scrolled": false
   },
   "outputs": [
    {
     "data": {
      "text/plain": [
       "{'accuracy': 0.9701504111289978, 'confusion_matrix': Columns:\n",
       " \ttarget_label\tint\n",
       " \tpredicted_label\tint\n",
       " \tcount\tint\n",
       " \n",
       " Rows: 187\n",
       " \n",
       " Data:\n",
       " +--------------+-----------------+-------+\n",
       " | target_label | predicted_label | count |\n",
       " +--------------+-----------------+-------+\n",
       " |      0       |        0        |   59  |\n",
       " |      1       |        1        |  714  |\n",
       " |      2       |        1        |   3   |\n",
       " |      4       |        1        |   5   |\n",
       " |      5       |        1        |   3   |\n",
       " |      6       |        1        |   1   |\n",
       " |      8       |        1        |   2   |\n",
       " |      10      |        1        |   1   |\n",
       " |      18      |        1        |   2   |\n",
       " |      21      |        1        |   6   |\n",
       " +--------------+-----------------+-------+\n",
       " [187 rows x 3 columns]\n",
       " Note: Only the head of the SFrame is printed.\n",
       " You can use print_rows(num_rows=m, num_columns=n) to print more rows and columns.}"
      ]
     },
     "execution_count": 20,
     "metadata": {},
     "output_type": "execute_result"
    }
   ],
   "source": [
    "idsia_net_43_iters.evaluate(test_signs)"
   ]
  },
  {
   "cell_type": "markdown",
   "metadata": {},
   "source": [
    "# Vòng lặp thứ 44:"
   ]
  },
  {
   "cell_type": "code",
   "execution_count": 22,
   "metadata": {
    "collapsed": false
   },
   "outputs": [
    {
     "data": {
      "text/plain": [
       "Class               : NeuralNetClassifier\n",
       "\n",
       "Schema\n",
       "------\n",
       "Examples            : 37261\n",
       "Features            : 1\n",
       "Target column       : label\n",
       "\n",
       "Training Summary\n",
       "----------------\n",
       "Training accuracy   : 0.9983\n",
       "Validation accuracy : 0.9938\n",
       "Training time (sec) : 510515.6957"
      ]
     },
     "execution_count": 22,
     "metadata": {},
     "output_type": "execute_result"
    }
   ],
   "source": [
    "idsia_net_44_iters = gl.load_model('new IDSIA net - train in 100 iter/')\n",
    "idsia_net_44_iters"
   ]
  },
  {
   "cell_type": "code",
   "execution_count": 23,
   "metadata": {
    "collapsed": false,
    "scrolled": false
   },
   "outputs": [
    {
     "data": {
      "text/plain": [
       "{'accuracy': 0.9679334759712219, 'confusion_matrix': Columns:\n",
       " \ttarget_label\tint\n",
       " \tpredicted_label\tint\n",
       " \tcount\tint\n",
       " \n",
       " Rows: 180\n",
       " \n",
       " Data:\n",
       " +--------------+-----------------+-------+\n",
       " | target_label | predicted_label | count |\n",
       " +--------------+-----------------+-------+\n",
       " |      0       |        0        |   57  |\n",
       " |      1       |        1        |  712  |\n",
       " |      2       |        1        |   3   |\n",
       " |      4       |        1        |   3   |\n",
       " |      5       |        1        |   3   |\n",
       " |      6       |        1        |   6   |\n",
       " |      8       |        1        |   1   |\n",
       " |      10      |        1        |   1   |\n",
       " |      18      |        1        |   3   |\n",
       " |      27      |        1        |   17  |\n",
       " +--------------+-----------------+-------+\n",
       " [180 rows x 3 columns]\n",
       " Note: Only the head of the SFrame is printed.\n",
       " You can use print_rows(num_rows=m, num_columns=n) to print more rows and columns.}"
      ]
     },
     "execution_count": 23,
     "metadata": {},
     "output_type": "execute_result"
    }
   ],
   "source": [
    "idsia_net_44_iters.evaluate(test_signs)"
   ]
  },
  {
   "cell_type": "code",
   "execution_count": 24,
   "metadata": {
    "collapsed": true
   },
   "outputs": [],
   "source": [
    "idsia_2_convs_10_iters = gl.load_model('rep IDSIA by 2 conv graphlab net - train in 10 iters/')"
   ]
  },
  {
   "cell_type": "code",
   "execution_count": 25,
   "metadata": {
    "collapsed": false
   },
   "outputs": [
    {
     "data": {
      "text/plain": [
       "Class               : NeuralNetClassifier\n",
       "\n",
       "Schema\n",
       "------\n",
       "Examples            : 27427\n",
       "Features            : 1\n",
       "Target column       : label\n",
       "\n",
       "Training Summary\n",
       "----------------\n",
       "Training accuracy   : 0.9646\n",
       "Validation accuracy : 0.9772\n",
       "Training time (sec) : 77839.0039"
      ]
     },
     "execution_count": 25,
     "metadata": {},
     "output_type": "execute_result"
    }
   ],
   "source": [
    "idsia_2_convs_10_iters"
   ]
  },
  {
   "cell_type": "code",
   "execution_count": 26,
   "metadata": {
    "collapsed": false
   },
   "outputs": [
    {
     "data": {
      "text/plain": [
       "{'accuracy': 0.9296911954879761, 'confusion_matrix': Columns:\n",
       " \ttarget_label\tint\n",
       " \tpredicted_label\tint\n",
       " \tcount\tint\n",
       " \n",
       " Rows: 290\n",
       " \n",
       " Data:\n",
       " +--------------+-----------------+-------+\n",
       " | target_label | predicted_label | count |\n",
       " +--------------+-----------------+-------+\n",
       " |      0       |        0        |   48  |\n",
       " |      4       |        0        |   1   |\n",
       " |      8       |        0        |   1   |\n",
       " |      0       |        1        |   6   |\n",
       " |      1       |        1        |  706  |\n",
       " |      2       |        1        |   36  |\n",
       " |      3       |        1        |   1   |\n",
       " |      4       |        1        |   34  |\n",
       " |      5       |        1        |   6   |\n",
       " |      7       |        1        |   3   |\n",
       " +--------------+-----------------+-------+\n",
       " [290 rows x 3 columns]\n",
       " Note: Only the head of the SFrame is printed.\n",
       " You can use print_rows(num_rows=m, num_columns=n) to print more rows and columns.}"
      ]
     },
     "execution_count": 26,
     "metadata": {},
     "output_type": "execute_result"
    }
   ],
   "source": [
    "idsia_2_convs_10_iters.evaluate(test_signs)"
   ]
  },
  {
   "cell_type": "code",
   "execution_count": 27,
   "metadata": {
    "collapsed": true
   },
   "outputs": [],
   "source": [
    "idsia_1_conv_5_iters = gl.load_model('rep IDSIA by 1 conv graphlab net - train in 10 iters/')"
   ]
  },
  {
   "cell_type": "code",
   "execution_count": 31,
   "metadata": {
    "collapsed": false
   },
   "outputs": [
    {
     "data": {
      "text/plain": [
       "Class               : NeuralNetClassifier\n",
       "\n",
       "Schema\n",
       "------\n",
       "Examples            : 26559\n",
       "Features            : 1\n",
       "Target column       : label\n",
       "\n",
       "Training Summary\n",
       "----------------\n",
       "Training accuracy   : 0.1136\n",
       "Validation accuracy : 0.0054\n",
       "Training time (sec) : 7545.0405"
      ]
     },
     "execution_count": 31,
     "metadata": {},
     "output_type": "execute_result"
    }
   ],
   "source": [
    "idsia_1_conv_5_iters"
   ]
  },
  {
   "cell_type": "code",
   "execution_count": 28,
   "metadata": {
    "collapsed": false
   },
   "outputs": [
    {
     "data": {
      "text/plain": [
       "{'accuracy': 0.0047505940310657024, 'confusion_matrix': Columns:\n",
       " \ttarget_label\tint\n",
       " \tpredicted_label\tint\n",
       " \tcount\tint\n",
       " \n",
       " Rows: 43\n",
       " \n",
       " Data:\n",
       " +--------------+-----------------+-------+\n",
       " | target_label | predicted_label | count |\n",
       " +--------------+-----------------+-------+\n",
       " |      0       |        0        |   60  |\n",
       " |      1       |        0        |  720  |\n",
       " |      2       |        0        |  750  |\n",
       " |      3       |        0        |  450  |\n",
       " |      4       |        0        |  660  |\n",
       " |      5       |        0        |  630  |\n",
       " |      6       |        0        |  150  |\n",
       " |      7       |        0        |  450  |\n",
       " |      8       |        0        |  450  |\n",
       " |      9       |        0        |  480  |\n",
       " +--------------+-----------------+-------+\n",
       " [43 rows x 3 columns]\n",
       " Note: Only the head of the SFrame is printed.\n",
       " You can use print_rows(num_rows=m, num_columns=n) to print more rows and columns.}"
      ]
     },
     "execution_count": 28,
     "metadata": {},
     "output_type": "execute_result"
    }
   ],
   "source": [
    "idsia_1_conv_5_iters.evaluate(test_signs)"
   ]
  },
  {
   "cell_type": "markdown",
   "metadata": {},
   "source": [
    "# Vòng lặp thứ 49:"
   ]
  },
  {
   "cell_type": "code",
   "execution_count": 24,
   "metadata": {
    "collapsed": false
   },
   "outputs": [
    {
     "data": {
      "text/plain": [
       "Class               : NeuralNetClassifier\n",
       "\n",
       "Schema\n",
       "------\n",
       "Examples            : 37261\n",
       "Features            : 1\n",
       "Target column       : label\n",
       "\n",
       "Training Summary\n",
       "----------------\n",
       "Training accuracy   : 0.9982\n",
       "Validation accuracy : 0.9944\n",
       "Training time (sec) : 570757.9797"
      ]
     },
     "execution_count": 24,
     "metadata": {},
     "output_type": "execute_result"
    }
   ],
   "source": [
    "idsia_net_49_iters = gl.load_model('new IDSIA net - train in 100 iter/')\n",
    "idsia_net_49_iters"
   ]
  },
  {
   "cell_type": "code",
   "execution_count": 25,
   "metadata": {
    "collapsed": false,
    "scrolled": false
   },
   "outputs": [
    {
     "data": {
      "text/plain": [
       "{'accuracy': 0.97315913438797, 'confusion_matrix': Columns:\n",
       " \ttarget_label\tint\n",
       " \tpredicted_label\tint\n",
       " \tcount\tint\n",
       " \n",
       " Rows: 177\n",
       " \n",
       " Data:\n",
       " +--------------+-----------------+-------+\n",
       " | target_label | predicted_label | count |\n",
       " +--------------+-----------------+-------+\n",
       " |      0       |        0        |   60  |\n",
       " |      1       |        1        |  716  |\n",
       " |      2       |        1        |   3   |\n",
       " |      4       |        1        |   4   |\n",
       " |      5       |        1        |   3   |\n",
       " |      6       |        1        |   4   |\n",
       " |      8       |        1        |   2   |\n",
       " |      18      |        1        |   1   |\n",
       " |      27      |        1        |   11  |\n",
       " |      30      |        1        |   1   |\n",
       " +--------------+-----------------+-------+\n",
       " [177 rows x 3 columns]\n",
       " Note: Only the head of the SFrame is printed.\n",
       " You can use print_rows(num_rows=m, num_columns=n) to print more rows and columns.}"
      ]
     },
     "execution_count": 25,
     "metadata": {},
     "output_type": "execute_result"
    }
   ],
   "source": [
    "idsia_net_49_iters.evaluate(test_signs)"
   ]
  },
  {
   "cell_type": "markdown",
   "metadata": {},
   "source": [
    "# Vòng lặp thứ 50:"
   ]
  },
  {
   "cell_type": "code",
   "execution_count": 27,
   "metadata": {
    "collapsed": false
   },
   "outputs": [
    {
     "data": {
      "text/plain": [
       "Class               : NeuralNetClassifier\n",
       "\n",
       "Schema\n",
       "------\n",
       "Examples            : 37261\n",
       "Features            : 1\n",
       "Target column       : label\n",
       "\n",
       "Training Summary\n",
       "----------------\n",
       "Training accuracy   : 0.9981\n",
       "Validation accuracy : 0.9954\n",
       "Training time (sec) : 583205.3659"
      ]
     },
     "execution_count": 27,
     "metadata": {},
     "output_type": "execute_result"
    }
   ],
   "source": [
    "idsia_net_50_iters = gl.load_model('new IDSIA net - train in 100 iter/')\n",
    "idsia_net_50_iters"
   ]
  },
  {
   "cell_type": "code",
   "execution_count": 28,
   "metadata": {
    "collapsed": false,
    "scrolled": false
   },
   "outputs": [
    {
     "data": {
      "text/plain": [
       "{'accuracy': 0.971179723739624, 'confusion_matrix': Columns:\n",
       " \ttarget_label\tint\n",
       " \tpredicted_label\tint\n",
       " \tcount\tint\n",
       " \n",
       " Rows: 185\n",
       " \n",
       " Data:\n",
       " +--------------+-----------------+-------+\n",
       " | target_label | predicted_label | count |\n",
       " +--------------+-----------------+-------+\n",
       " |      0       |        0        |   59  |\n",
       " |      1       |        1        |  711  |\n",
       " |      2       |        1        |   3   |\n",
       " |      4       |        1        |   5   |\n",
       " |      5       |        1        |   2   |\n",
       " |      6       |        1        |   2   |\n",
       " |      8       |        1        |   1   |\n",
       " |      10      |        1        |   1   |\n",
       " |      18      |        1        |   2   |\n",
       " |      21      |        1        |   1   |\n",
       " +--------------+-----------------+-------+\n",
       " [185 rows x 3 columns]\n",
       " Note: Only the head of the SFrame is printed.\n",
       " You can use print_rows(num_rows=m, num_columns=n) to print more rows and columns.}"
      ]
     },
     "execution_count": 28,
     "metadata": {},
     "output_type": "execute_result"
    }
   ],
   "source": [
    "idsia_net_50_iters.evaluate(test_signs)"
   ]
  },
  {
   "cell_type": "markdown",
   "metadata": {},
   "source": [
    "# Vòng lặp thứ 51:"
   ]
  },
  {
   "cell_type": "code",
   "execution_count": 29,
   "metadata": {
    "collapsed": false
   },
   "outputs": [
    {
     "data": {
      "text/plain": [
       "Class               : NeuralNetClassifier\n",
       "\n",
       "Schema\n",
       "------\n",
       "Examples            : 37261\n",
       "Features            : 1\n",
       "Target column       : label\n",
       "\n",
       "Training Summary\n",
       "----------------\n",
       "Training accuracy   : 0.9981\n",
       "Validation accuracy : 0.9954\n",
       "Training time (sec) : 595771.2243"
      ]
     },
     "execution_count": 29,
     "metadata": {},
     "output_type": "execute_result"
    }
   ],
   "source": [
    "idsia_net_51_iters = gl.load_model('new IDSIA net - train in 100 iter/')\n",
    "idsia_net_51_iters"
   ]
  },
  {
   "cell_type": "code",
   "execution_count": 30,
   "metadata": {
    "collapsed": false,
    "scrolled": false
   },
   "outputs": [
    {
     "data": {
      "text/plain": [
       "{'accuracy': 0.9718131422996521, 'confusion_matrix': Columns:\n",
       " \ttarget_label\tint\n",
       " \tpredicted_label\tint\n",
       " \tcount\tint\n",
       " \n",
       " Rows: 180\n",
       " \n",
       " Data:\n",
       " +--------------+-----------------+-------+\n",
       " | target_label | predicted_label | count |\n",
       " +--------------+-----------------+-------+\n",
       " |      0       |        0        |   59  |\n",
       " |      1       |        1        |  712  |\n",
       " |      2       |        1        |   3   |\n",
       " |      4       |        1        |   5   |\n",
       " |      5       |        1        |   3   |\n",
       " |      8       |        1        |   2   |\n",
       " |      10      |        1        |   1   |\n",
       " |      18      |        1        |   1   |\n",
       " |      21      |        1        |   2   |\n",
       " |      26      |        1        |   1   |\n",
       " +--------------+-----------------+-------+\n",
       " [180 rows x 3 columns]\n",
       " Note: Only the head of the SFrame is printed.\n",
       " You can use print_rows(num_rows=m, num_columns=n) to print more rows and columns.}"
      ]
     },
     "execution_count": 30,
     "metadata": {},
     "output_type": "execute_result"
    }
   ],
   "source": [
    "idsia_net_51_iters.evaluate(test_signs)"
   ]
  },
  {
   "cell_type": "markdown",
   "metadata": {},
   "source": [
    "# Vòng lặp thứ 63:"
   ]
  },
  {
   "cell_type": "code",
   "execution_count": 31,
   "metadata": {
    "collapsed": false
   },
   "outputs": [
    {
     "data": {
      "text/plain": [
       "Class               : NeuralNetClassifier\n",
       "\n",
       "Schema\n",
       "------\n",
       "Examples            : 37261\n",
       "Features            : 1\n",
       "Target column       : label\n",
       "\n",
       "Training Summary\n",
       "----------------\n",
       "Training accuracy   : 0.999\n",
       "Validation accuracy : 0.9949\n",
       "Training time (sec) : 746584.2987"
      ]
     },
     "execution_count": 31,
     "metadata": {},
     "output_type": "execute_result"
    }
   ],
   "source": [
    "idsia_net_63_iters = gl.load_model('new IDSIA net - train in 100 iter/')\n",
    "idsia_net_63_iters"
   ]
  },
  {
   "cell_type": "code",
   "execution_count": 32,
   "metadata": {
    "collapsed": false,
    "scrolled": false
   },
   "outputs": [
    {
     "data": {
      "text/plain": [
       "{'accuracy': 0.9686461091041565, 'confusion_matrix': Columns:\n",
       " \ttarget_label\tint\n",
       " \tpredicted_label\tint\n",
       " \tcount\tint\n",
       " \n",
       " Rows: 171\n",
       " \n",
       " Data:\n",
       " +--------------+-----------------+-------+\n",
       " | target_label | predicted_label | count |\n",
       " +--------------+-----------------+-------+\n",
       " |      0       |        0        |   60  |\n",
       " |      4       |        0        |   1   |\n",
       " |      1       |        1        |  714  |\n",
       " |      2       |        1        |   2   |\n",
       " |      4       |        1        |   2   |\n",
       " |      5       |        1        |   1   |\n",
       " |      8       |        1        |   1   |\n",
       " |      18      |        1        |   2   |\n",
       " |      21      |        1        |   16  |\n",
       " |      27      |        1        |   9   |\n",
       " +--------------+-----------------+-------+\n",
       " [171 rows x 3 columns]\n",
       " Note: Only the head of the SFrame is printed.\n",
       " You can use print_rows(num_rows=m, num_columns=n) to print more rows and columns.}"
      ]
     },
     "execution_count": 32,
     "metadata": {},
     "output_type": "execute_result"
    }
   ],
   "source": [
    "idsia_net_63_iters.evaluate(test_signs)"
   ]
  },
  {
   "cell_type": "markdown",
   "metadata": {},
   "source": [
    "# Vòng lặp thứ 65:"
   ]
  },
  {
   "cell_type": "code",
   "execution_count": 33,
   "metadata": {
    "collapsed": false
   },
   "outputs": [
    {
     "data": {
      "text/plain": [
       "Class               : NeuralNetClassifier\n",
       "\n",
       "Schema\n",
       "------\n",
       "Examples            : 37261\n",
       "Features            : 1\n",
       "Target column       : label\n",
       "\n",
       "Training Summary\n",
       "----------------\n",
       "Training accuracy   : 0.9988\n",
       "Validation accuracy : 0.9949\n",
       "Training time (sec) : 772491.619"
      ]
     },
     "execution_count": 33,
     "metadata": {},
     "output_type": "execute_result"
    }
   ],
   "source": [
    "idsia_net_65_iters = gl.load_model('new IDSIA net - train in 100 iter/')\n",
    "idsia_net_65_iters"
   ]
  },
  {
   "cell_type": "code",
   "execution_count": 34,
   "metadata": {
    "collapsed": false,
    "scrolled": false
   },
   "outputs": [
    {
     "data": {
      "text/plain": [
       "{'accuracy': 0.9713380932807922, 'confusion_matrix': Columns:\n",
       " \ttarget_label\tint\n",
       " \tpredicted_label\tint\n",
       " \tcount\tint\n",
       " \n",
       " Rows: 174\n",
       " \n",
       " Data:\n",
       " +--------------+-----------------+-------+\n",
       " | target_label | predicted_label | count |\n",
       " +--------------+-----------------+-------+\n",
       " |      0       |        0        |   60  |\n",
       " |      1       |        1        |  713  |\n",
       " |      2       |        1        |   3   |\n",
       " |      4       |        1        |   2   |\n",
       " |      5       |        1        |   2   |\n",
       " |      8       |        1        |   1   |\n",
       " |      18      |        1        |   2   |\n",
       " |      30      |        1        |   2   |\n",
       " |      38      |        1        |   1   |\n",
       " |      1       |        2        |   1   |\n",
       " +--------------+-----------------+-------+\n",
       " [174 rows x 3 columns]\n",
       " Note: Only the head of the SFrame is printed.\n",
       " You can use print_rows(num_rows=m, num_columns=n) to print more rows and columns.}"
      ]
     },
     "execution_count": 34,
     "metadata": {},
     "output_type": "execute_result"
    }
   ],
   "source": [
    "idsia_net_65_iters.evaluate(test_signs)"
   ]
  },
  {
   "cell_type": "markdown",
   "metadata": {},
   "source": [
    "# Vòng lặp thứ 66:"
   ]
  },
  {
   "cell_type": "code",
   "execution_count": 35,
   "metadata": {
    "collapsed": false
   },
   "outputs": [
    {
     "data": {
      "text/plain": [
       "Class               : NeuralNetClassifier\n",
       "\n",
       "Schema\n",
       "------\n",
       "Examples            : 37261\n",
       "Features            : 1\n",
       "Target column       : label\n",
       "\n",
       "Training Summary\n",
       "----------------\n",
       "Training accuracy   : 0.9988\n",
       "Validation accuracy : 0.9933\n",
       "Training time (sec) : 785452.889"
      ]
     },
     "execution_count": 35,
     "metadata": {},
     "output_type": "execute_result"
    }
   ],
   "source": [
    "idsia_net_66_iters = gl.load_model('new IDSIA net - train in 100 iter/')\n",
    "idsia_net_66_iters"
   ]
  },
  {
   "cell_type": "code",
   "execution_count": 36,
   "metadata": {
    "collapsed": false,
    "scrolled": false
   },
   "outputs": [
    {
     "data": {
      "text/plain": [
       "{'accuracy': 0.9728424549102783, 'confusion_matrix': Columns:\n",
       " \ttarget_label\tint\n",
       " \tpredicted_label\tint\n",
       " \tcount\tint\n",
       " \n",
       " Rows: 158\n",
       " \n",
       " Data:\n",
       " +--------------+-----------------+-------+\n",
       " | target_label | predicted_label | count |\n",
       " +--------------+-----------------+-------+\n",
       " |      0       |        0        |   60  |\n",
       " |      8       |        0        |   1   |\n",
       " |      1       |        1        |  713  |\n",
       " |      2       |        1        |   4   |\n",
       " |      4       |        1        |   4   |\n",
       " |      5       |        1        |   2   |\n",
       " |      18      |        1        |   2   |\n",
       " |      27      |        1        |   5   |\n",
       " |      30      |        1        |   2   |\n",
       " |      38      |        1        |   1   |\n",
       " +--------------+-----------------+-------+\n",
       " [158 rows x 3 columns]\n",
       " Note: Only the head of the SFrame is printed.\n",
       " You can use print_rows(num_rows=m, num_columns=n) to print more rows and columns.}"
      ]
     },
     "execution_count": 36,
     "metadata": {},
     "output_type": "execute_result"
    }
   ],
   "source": [
    "idsia_net_66_iters.evaluate(test_signs)"
   ]
  },
  {
   "cell_type": "code",
   "execution_count": 44,
   "metadata": {
    "collapsed": false
   },
   "outputs": [
    {
     "name": "stdout",
     "output_type": "stream",
     "text": [
      "Canvas is accessible via web browser at the URL: http://localhost:51032/index.html\n",
      "Opening Canvas in default web browser.\n"
     ]
    }
   ],
   "source": [
    "idsia_net_53_iters.show()"
   ]
  },
  {
   "cell_type": "markdown",
   "metadata": {},
   "source": [
    "# Vòng lặp thứ 70:"
   ]
  },
  {
   "cell_type": "code",
   "execution_count": 37,
   "metadata": {
    "collapsed": false
   },
   "outputs": [
    {
     "data": {
      "text/plain": [
       "Class               : NeuralNetClassifier\n",
       "\n",
       "Schema\n",
       "------\n",
       "Examples            : 37261\n",
       "Features            : 1\n",
       "Target column       : label\n",
       "\n",
       "Training Summary\n",
       "----------------\n",
       "Training accuracy   : 0.9992\n",
       "Validation accuracy : 0.9933\n",
       "Training time (sec) : 835917.1973"
      ]
     },
     "execution_count": 37,
     "metadata": {},
     "output_type": "execute_result"
    }
   ],
   "source": [
    "idsia_net_70_iters = gl.load_model('new IDSIA net - train in 100 iter/')\n",
    "idsia_net_70_iters"
   ]
  },
  {
   "cell_type": "code",
   "execution_count": 38,
   "metadata": {
    "collapsed": false,
    "scrolled": false
   },
   "outputs": [
    {
     "data": {
      "text/plain": [
       "{'accuracy': 0.9684877395629883, 'confusion_matrix': Columns:\n",
       " \ttarget_label\tint\n",
       " \tpredicted_label\tint\n",
       " \tcount\tint\n",
       " \n",
       " Rows: 175\n",
       " \n",
       " Data:\n",
       " +--------------+-----------------+-------+\n",
       " | target_label | predicted_label | count |\n",
       " +--------------+-----------------+-------+\n",
       " |      0       |        0        |   59  |\n",
       " |      1       |        1        |  713  |\n",
       " |      2       |        1        |   3   |\n",
       " |      4       |        1        |   4   |\n",
       " |      5       |        1        |   4   |\n",
       " |      6       |        1        |   1   |\n",
       " |      18      |        1        |   2   |\n",
       " |      27      |        1        |   2   |\n",
       " |      30      |        1        |   1   |\n",
       " |      38      |        1        |   1   |\n",
       " +--------------+-----------------+-------+\n",
       " [175 rows x 3 columns]\n",
       " Note: Only the head of the SFrame is printed.\n",
       " You can use print_rows(num_rows=m, num_columns=n) to print more rows and columns.}"
      ]
     },
     "execution_count": 38,
     "metadata": {},
     "output_type": "execute_result"
    }
   ],
   "source": [
    "idsia_net_70_iters.evaluate(test_signs)"
   ]
  },
  {
   "cell_type": "markdown",
   "metadata": {},
   "source": [
    "# Luu mo hinh tot nhat:"
   ]
  },
  {
   "cell_type": "code",
   "execution_count": 26,
   "metadata": {
    "collapsed": true
   },
   "outputs": [],
   "source": [
    "idsia_net_49_iters.save('best model')"
   ]
  },
  {
   "cell_type": "markdown",
   "metadata": {},
   "source": [
    "# Vòng lặp thứ 71:"
   ]
  },
  {
   "cell_type": "code",
   "execution_count": 39,
   "metadata": {
    "collapsed": false
   },
   "outputs": [
    {
     "data": {
      "text/plain": [
       "Class               : NeuralNetClassifier\n",
       "\n",
       "Schema\n",
       "------\n",
       "Examples            : 37261\n",
       "Features            : 1\n",
       "Target column       : label\n",
       "\n",
       "Training Summary\n",
       "----------------\n",
       "Training accuracy   : 0.9994\n",
       "Validation accuracy : 0.9944\n",
       "Training time (sec) : 848680.6954"
      ]
     },
     "execution_count": 39,
     "metadata": {},
     "output_type": "execute_result"
    }
   ],
   "source": [
    "idsia_net_71_iters = gl.load_model('new IDSIA net - train in 100 iter/')\n",
    "idsia_net_71_iters"
   ]
  },
  {
   "cell_type": "code",
   "execution_count": 40,
   "metadata": {
    "collapsed": false,
    "scrolled": false
   },
   "outputs": [
    {
     "data": {
      "text/plain": [
       "{'accuracy': 0.9707838296890259, 'confusion_matrix': Columns:\n",
       " \ttarget_label\tint\n",
       " \tpredicted_label\tint\n",
       " \tcount\tint\n",
       " \n",
       " Rows: 165\n",
       " \n",
       " Data:\n",
       " +--------------+-----------------+-------+\n",
       " | target_label | predicted_label | count |\n",
       " +--------------+-----------------+-------+\n",
       " |      0       |        0        |   60  |\n",
       " |      1       |        1        |  714  |\n",
       " |      2       |        1        |   3   |\n",
       " |      4       |        1        |   5   |\n",
       " |      5       |        1        |   2   |\n",
       " |      18      |        1        |   2   |\n",
       " |      30      |        1        |   3   |\n",
       " |      1       |        2        |   1   |\n",
       " |      2       |        2        |  744  |\n",
       " |      5       |        2        |   5   |\n",
       " +--------------+-----------------+-------+\n",
       " [165 rows x 3 columns]\n",
       " Note: Only the head of the SFrame is printed.\n",
       " You can use print_rows(num_rows=m, num_columns=n) to print more rows and columns.}"
      ]
     },
     "execution_count": 40,
     "metadata": {},
     "output_type": "execute_result"
    }
   ],
   "source": [
    "idsia_net_71_iters.evaluate(test_signs)"
   ]
  },
  {
   "cell_type": "markdown",
   "metadata": {},
   "source": [
    "# Vòng lặp thứ 72:"
   ]
  },
  {
   "cell_type": "code",
   "execution_count": 41,
   "metadata": {
    "collapsed": false
   },
   "outputs": [
    {
     "data": {
      "text/plain": [
       "Class               : NeuralNetClassifier\n",
       "\n",
       "Schema\n",
       "------\n",
       "Examples            : 37261\n",
       "Features            : 1\n",
       "Target column       : label\n",
       "\n",
       "Training Summary\n",
       "----------------\n",
       "Training accuracy   : 0.9989\n",
       "Validation accuracy : 0.9949\n",
       "Training time (sec) : 861735.8941"
      ]
     },
     "execution_count": 41,
     "metadata": {},
     "output_type": "execute_result"
    }
   ],
   "source": [
    "idsia_net_72_iters = gl.load_model('new IDSIA net - train in 100 iter/')\n",
    "idsia_net_72_iters"
   ]
  },
  {
   "cell_type": "code",
   "execution_count": 42,
   "metadata": {
    "collapsed": false,
    "scrolled": false
   },
   "outputs": [
    {
     "data": {
      "text/plain": [
       "{'accuracy': 0.9751385450363159, 'confusion_matrix': Columns:\n",
       " \ttarget_label\tint\n",
       " \tpredicted_label\tint\n",
       " \tcount\tint\n",
       " \n",
       " Rows: 168\n",
       " \n",
       " Data:\n",
       " +--------------+-----------------+-------+\n",
       " | target_label | predicted_label | count |\n",
       " +--------------+-----------------+-------+\n",
       " |      0       |        0        |   59  |\n",
       " |      1       |        1        |  714  |\n",
       " |      2       |        1        |   3   |\n",
       " |      4       |        1        |   5   |\n",
       " |      5       |        1        |   3   |\n",
       " |      18      |        1        |   2   |\n",
       " |      30      |        1        |   2   |\n",
       " |      31      |        1        |   2   |\n",
       " |      38      |        1        |   1   |\n",
       " |      1       |        2        |   1   |\n",
       " +--------------+-----------------+-------+\n",
       " [168 rows x 3 columns]\n",
       " Note: Only the head of the SFrame is printed.\n",
       " You can use print_rows(num_rows=m, num_columns=n) to print more rows and columns.}"
      ]
     },
     "execution_count": 42,
     "metadata": {},
     "output_type": "execute_result"
    }
   ],
   "source": [
    "idsia_net_72_iters.evaluate(test_signs)"
   ]
  },
  {
   "cell_type": "markdown",
   "metadata": {},
   "source": [
    "# Vòng lặp thứ 77:"
   ]
  },
  {
   "cell_type": "code",
   "execution_count": 43,
   "metadata": {
    "collapsed": false
   },
   "outputs": [
    {
     "data": {
      "text/plain": [
       "Class               : NeuralNetClassifier\n",
       "\n",
       "Schema\n",
       "------\n",
       "Examples            : 37261\n",
       "Features            : 1\n",
       "Target column       : label\n",
       "\n",
       "Training Summary\n",
       "----------------\n",
       "Training accuracy   : 0.9994\n",
       "Validation accuracy : 0.9938\n",
       "Training time (sec) : 925583.7702"
      ]
     },
     "execution_count": 43,
     "metadata": {},
     "output_type": "execute_result"
    }
   ],
   "source": [
    "idsia_net_77_iters = gl.load_model('new IDSIA net - train in 100 iter/')\n",
    "idsia_net_77_iters"
   ]
  },
  {
   "cell_type": "code",
   "execution_count": 44,
   "metadata": {
    "collapsed": false
   },
   "outputs": [
    {
     "data": {
      "text/plain": [
       "{'accuracy': 0.9713380932807922, 'confusion_matrix': Columns:\n",
       " \ttarget_label\tint\n",
       " \tpredicted_label\tint\n",
       " \tcount\tint\n",
       " \n",
       " Rows: 174\n",
       " \n",
       " Data:\n",
       " +--------------+-----------------+-------+\n",
       " | target_label | predicted_label | count |\n",
       " +--------------+-----------------+-------+\n",
       " |      0       |        0        |   60  |\n",
       " |      1       |        1        |  717  |\n",
       " |      2       |        1        |   3   |\n",
       " |      4       |        1        |   6   |\n",
       " |      5       |        1        |   2   |\n",
       " |      18      |        1        |   2   |\n",
       " |      38      |        1        |   1   |\n",
       " |      2       |        2        |  743  |\n",
       " |      4       |        2        |   1   |\n",
       " |      5       |        2        |   7   |\n",
       " +--------------+-----------------+-------+\n",
       " [174 rows x 3 columns]\n",
       " Note: Only the head of the SFrame is printed.\n",
       " You can use print_rows(num_rows=m, num_columns=n) to print more rows and columns.}"
      ]
     },
     "execution_count": 44,
     "metadata": {},
     "output_type": "execute_result"
    }
   ],
   "source": [
    "idsia_net_77_iters.evaluate(test_signs)"
   ]
  },
  {
   "cell_type": "code",
   "execution_count": 45,
   "metadata": {
    "collapsed": false
   },
   "outputs": [
    {
     "data": {
      "text/plain": [
       "Class               : NeuralNetClassifier\n",
       "\n",
       "Schema\n",
       "------\n",
       "Examples            : 37261\n",
       "Features            : 1\n",
       "Target column       : label\n",
       "\n",
       "Training Summary\n",
       "----------------\n",
       "Training accuracy   : 0.9991\n",
       "Validation accuracy : 0.9954\n",
       "Training time (sec) : 938436.0507"
      ]
     },
     "execution_count": 45,
     "metadata": {},
     "output_type": "execute_result"
    }
   ],
   "source": [
    "idsia_net_78_iters = gl.load_model('new IDSIA net - train in 100 iter/')\n",
    "idsia_net_78_iters"
   ]
  },
  {
   "cell_type": "code",
   "execution_count": 46,
   "metadata": {
    "collapsed": false
   },
   "outputs": [
    {
     "data": {
      "text/plain": [
       "{'accuracy': 0.971179723739624, 'confusion_matrix': Columns:\n",
       " \ttarget_label\tint\n",
       " \tpredicted_label\tint\n",
       " \tcount\tint\n",
       " \n",
       " Rows: 167\n",
       " \n",
       " Data:\n",
       " +--------------+-----------------+-------+\n",
       " | target_label | predicted_label | count |\n",
       " +--------------+-----------------+-------+\n",
       " |      0       |        0        |   60  |\n",
       " |      1       |        1        |  713  |\n",
       " |      2       |        1        |   3   |\n",
       " |      4       |        1        |   3   |\n",
       " |      5       |        1        |   2   |\n",
       " |      18      |        1        |   2   |\n",
       " |      27      |        1        |   1   |\n",
       " |      30      |        1        |   2   |\n",
       " |      1       |        2        |   1   |\n",
       " |      2       |        2        |  741  |\n",
       " +--------------+-----------------+-------+\n",
       " [167 rows x 3 columns]\n",
       " Note: Only the head of the SFrame is printed.\n",
       " You can use print_rows(num_rows=m, num_columns=n) to print more rows and columns.}"
      ]
     },
     "execution_count": 46,
     "metadata": {},
     "output_type": "execute_result"
    }
   ],
   "source": [
    "idsia_net_78_iters.evaluate(test_signs)"
   ]
  }
 ],
 "metadata": {
  "kernelspec": {
   "display_name": "Python 2",
   "language": "python",
   "name": "python2"
  },
  "language_info": {
   "codemirror_mode": {
    "name": "ipython",
    "version": 2
   },
   "file_extension": ".py",
   "mimetype": "text/x-python",
   "name": "python",
   "nbconvert_exporter": "python",
   "pygments_lexer": "ipython2",
   "version": "2.7.12"
  }
 },
 "nbformat": 4,
 "nbformat_minor": 0
}
